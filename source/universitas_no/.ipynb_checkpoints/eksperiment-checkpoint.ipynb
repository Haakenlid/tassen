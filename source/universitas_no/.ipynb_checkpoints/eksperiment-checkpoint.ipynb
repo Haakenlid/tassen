{
 "metadata": {
  "celltoolbar": "Raw Cell Format",
  "name": "",
  "signature": "sha256:ea3f413d53fc3604a5df5729cd3423cb043f663f70ceaf0dd73f96a6f7ed7888"
 },
 "nbformat": 3,
 "nbformat_minor": 0,
 "worksheets": [
  {
   "cells": [
    {
     "cell_type": "code",
     "collapsed": false,
     "input": [
      "from stories.models import *\n",
      "from IPython.display import display, HTML "
     ],
     "language": "python",
     "metadata": {},
     "outputs": [],
     "prompt_number": 8
    },
    {
     "cell_type": "code",
     "collapsed": false,
     "input": [
      "stories = Story.objects.all()"
     ],
     "language": "python",
     "metadata": {},
     "outputs": [],
     "prompt_number": 9
    },
    {
     "cell_type": "code",
     "collapsed": false,
     "input": [
      "for story in stories:\n",
      "    display(HTML( story.get_html()))"
     ],
     "language": "python",
     "metadata": {},
     "outputs": [
      {
       "html": [
        "<p>Placeholder</p>"
       ],
       "metadata": {},
       "output_type": "display_data",
       "text": [
        "<IPython.core.display.HTML at 0x7fa66aea4198>"
       ]
      },
      {
       "html": [
        "<p>Placeholder</p>"
       ],
       "metadata": {},
       "output_type": "display_data",
       "text": [
        "<IPython.core.display.HTML at 0x7fa66aea4198>"
       ]
      },
      {
       "html": [
        "<p>Placeholder</p>"
       ],
       "metadata": {},
       "output_type": "display_data",
       "text": [
        "<IPython.core.display.HTML at 0x7fa66aea4198>"
       ]
      },
      {
       "html": [
        "<p>Placeholder</p>"
       ],
       "metadata": {},
       "output_type": "display_data",
       "text": [
        "<IPython.core.display.HTML at 0x7fa66aea4198>"
       ]
      },
      {
       "html": [
        "<p class=\"txt\">Rektorvalg</p>\n",
        "<p class=\"txt\">\u2013 Jeg syns det er utrolig rart at de g\u00e5r aktivt inn for \u00e5 bryte reglementet, bare fordi det ville v\u00e6rt ubeleilig for rektoratet at de ikke ville ha fullf\u00f8rt programmet sitt, sier Tobias Langhoff, som stilte som Torkil Vederhus sin viserektorkandidat ved fjor\u00e5rets rektorvalg ved Universitetet i Oslo (UiO).</p>\n",
        "<p class=\"txt\">Forrige uke ble det klart at Ruth Vatvedt Fjeld trekker seg som prorektor ved UiO. I valgreglementet st\u00e5r det at dette skal f\u00f8re til nytt valg av prorektor og rektor. Under en uanmeldt ekstrasak p\u00e5 styrem\u00f8tet 6. mai bl\u00e5ser universitetsstyret i disse reglene \u2013 etter at valgstyret har foresl\u00e5tt nettopp \u00e5 spesifikt fravike valgreglementet.</p>\n",
        "<p class=\"txt\">I stedet innsettes viserektor Ragnhild Hennum som ny prorektor uten noe nytt valg. Prorektor er rektors stedfortreder, og prosessen har blitt belyst i flere saker i Uniforum.</p>\n",
        "<p class=\"mt\">Studentrepresentantene imot</p>\n",
        "<p class=\"txt\">De to studentrepresentantene i universitetsstyret, Eva Holte Enoksen og \u00c5dne Hindenes, var de eneste som stemte imot regelbruddet.</p>\n",
        "<p class=\"txt\">\u2013 Stemmegivningen v\u00e5r var basert p\u00e5 at universitetsstyret m\u00e5 forholde seg til de demokratiske spillereglene ved UiO, sier Hindenes. Ogs\u00e5 Daniel Sandbakken Nilsen, en av to innstilte til \u00e5 bli Enoksen og Hindesnes' etterf\u00f8lgere som studentrepresentanter i styret til h\u00f8sten, mener det rette ville v\u00e6rt \u00e5 f\u00f8lge vedtektene.</p>\n",
        "<p class=\"txt\">\u2013 Jeg er veldig skuffa over m\u00e5ten universitetsstyret har h\u00e5ndtert dette p\u00e5, sier han og varsler diskusjon til h\u00f8sten dersom avgj\u00f8relsen kj\u00f8res gjennom.</p>\n",
        "<p class=\"txt\">\u2013 Da er vi n\u00f8dt til \u00e5 diskutere om universitetsstyret skal v\u00e6re helt autonomt, eller ha vedtekter det faktisk f\u00f8lger.</p>\n",
        "<p class=\"mt\">Undergraver universitets- demokratiet</p>\n",
        "<p class=\"txt\">Torkil Vederhus, n\u00e5v\u00e6rende rektor Ole Petter Ottersens motkandidat i fjor\u00e5rets rektorvalg, mener dette viser at styret ikke har stor nok respekt for valgordningen.</p>\n",
        "<p class=\"txt\">\u2013 Denne saken er et tegn p\u00e5 at valgets tid er over p\u00e5 universitetet, sier Vederhus, som opplyser at han ikke er interessert i \u00e5 stille igjen.</p>\n",
        "<p class=\"txt\">Viserektorkandidat fra 2013 Tobias Langhoff og Gabrielle Gjerdset, leder av studentparlamentet i Oslo, mener saken undergraver universitetsdemokratiet.</p>\n",
        "<p class=\"txt\">\u2013 Jeg syns ogs\u00e5 det er rart at viserektoren, som ikke har et valgt verv, kan overta et valgt verv, sier Langhoff.</p>\n",
        "<p class=\"txt\">Gjerdset er kritisk til at styret bare f\u00f8lger spillereglene n\u00e5r det passer for dem.</p>\n",
        "<p class=\"txt\">\u2013 Reglene er her for \u00e5 beskytte universitetsdemokratiet, sier hun.</p>\n",
        "<p class=\"txt\">Knut Heidar, leder i valgstyret, mener imidlertid et nyvalg ville v\u00e6rt en overreaksjon.</p>\n",
        "<p class=\"txt\">\u2013 \u00c5 fravike et reglement er \u00e5penbart et demokratitap. Men det er, slik situasjonen er n\u00e5, mindre problemfylt enn \u00e5 avbryte det mandatet velgerne ga rektoratet i 2013, sier Heidar. Hans begrunnelse er at et nyvalg, enten det gir et avbrudd i rektoratperioden eller et helt nytt rektorat for den gjenv\u00e6rende delen av perioden, vil sette viktige ledelsesoppgaver p\u00e5 vent i minst et halvt \u00e5r.</p>\n",
        "<p class=\"txt\">Rektor Ole Petter Ottersen sier til Universitas at han ikke kan se hvordan saken kan bidra til \u00e5 undergrave studentdemokratiet.</p>\n",
        "<p class=\"mt\">Hemmeligholdt</p>\n",
        "<p class=\"txt\">\u2013 Jeg syns det er veldig s\u00e6rt at saksgangen har v\u00e6rt ukjent for alle til saken ble framlagt for styret p\u00e5 selve valgdagen, sier Langhoff.</p>\n",
        "<p class=\"txt\">Han tror dette kan skyldes at de ville f\u00e5 saken ut av verden uten mye br\u00e5k, s\u00e5 de kunne fortsette sitt program uten avbrytelser.</p>\n",
        "<p class=\"txt\">Vederhus syns ogs\u00e5 det er merkelig at det hastet s\u00e5nn.</p>\n",
        "<p class=\"txt\">\u2013 De kunne tatt det p\u00e5 et senere styrem\u00f8te hvor det ville blitt ordentlig behandlet.</p>\n",
        "<p class=\"mt\">Skylder p\u00e5 \u00f8konomien</p>\n",
        "<p class=\"txt\">I sakspapirene fra styrem\u00f8tet st\u00e5r det at en ytterligere overveielse bak avgj\u00f8relsen er at nyvalg er d\u00e5rlig bruk av universitets ressurser. B\u00e5de Gjerdset og Langhoff mener at \u00f8konomiske hensyn ikke kan g\u00e5 foran demokratiske.</p>\n",
        "<p class=\"txt\">Vederhus mener et nyvalg ikke hadde trengt \u00e5 v\u00e6re dyrt.</p>\n",
        "<p class=\"txt\">\u2013 Det hadde v\u00e6rt bedre med et billig valg enn ikke \u00e5 ha valg, sier han.</p>\n",
        "<p class=\"txt\">Valgstyrelederen er uenig i dette.</p>\n",
        "<p class=\"txt\">\u2013 Skal man ha valg, m\u00e5 man ha valg. Man kan ikke gj\u00f8re det halvveis, sier Heidar.</p>\n",
        "<p class=\"tit\">Hovedpersonen ut mot kronargument</p>\n",
        "<p class=\"txt\">Blant valgstyrets hovedargumenter for at det skulle v\u00e6re forsvarlig \u00e5 droppe nyvalg, er at det ikke var universitetspolitiske grunner til at prorektoren trakk seg. Fjeld selv er imidlertid usikker p\u00e5 om \u00e5rsakene til at hun sluttet kan kalles \u00abuniversitetspolitiske\u00bb, og sier styret ikke har spurt henne om saken.</p>\n",
        "<p class=\"txt\">\u2013 Jeg syns universitetsstyret godt kunne kontaktet meg. De tok \u00e9n side for god fisk. Men det hadde kanskje v\u00e6rt smart av dem \u00e5 h\u00f8re begge sidene av saken, sier Fjeld.</p>\n",
        "<p class=\"txt\">\u2013 Da rektor spurte meg om det var en universitetspolitisk grunn, sa jeg at det var uklart hva som l\u00e5 i begrepet og ba om en avklaring. Det fikk jeg ikke, forteller hun.</p>\n",
        "<p class=\"txt\">If\u00f8lge rektor Ole Petter Ottersen er b\u00e5de universitetsstyret og styret enige med ham i at \u00e5rsaken ikke er universitetspolitisk.</p>\n",
        "<p class=\"txt\">Fjeld mener det er rart hun fikk s\u00e5 lite \u00e5 gj\u00f8re i en s\u00e5 stor og viktig stilling.</p>\n",
        "<p class=\"txt\">\u2013 Jeg tok det opp med rektor, og det kom ingen endring. Da kunne jeg ikke bruke tiden min der, sier hun.</p>\n",
        "<p class=\"txt\">Det var flere oppgaver Fjeld trodde hun skulle f\u00e5, som hun aldri fikk.</p>\n",
        "<p class=\"txt\">\u2013 Doktorgradsutdanningen var jeg lovet, men fikk ikke det i gavnet, bare i navnet, sier hun.</p>\n",
        "<p class=\"txt\">Det var da rektoratet la fram rapporten om doktorgradsutdanningen uten at Fjeld hadde noe med det \u00e5 gj\u00f8re, at hun leverte erkl\u00e6ringen om at hun ville g\u00e5 av som prorektor.</p>\n",
        "<p class=\"txt\">\u2013 Da skj\u00f8nte jeg at det var noe som ikke hang helt sammen, forteller hun.</p>\n",
        "<p class=\"txt\">En av grunnene til at hun ikke fikk like mange oppgaver som hun trodde, var at det ble innf\u00f8rt en ekstra viserektorstilling rett f\u00f8r hun begynte.</p>\n",
        "<p class=\"txt\">\u2013 Viserektoren fikk hele forskningsdelen, som jeg trodde jeg skulle f\u00e5. Prorektoren f\u00f8r meg hadde den delen, og de burde v\u00e6rt klarere p\u00e5 at jeg ikke skulle f\u00e5 den delen i s\u00e5 fall.</p>\n",
        "<p class=\"txt\">Fjeld mener hun ble valgt blant annet p\u00e5 grunn av likestilling, og at de trengte en kvinne.</p>\n",
        "<p class=\"txt\">\u2013 En viktig del av likestillingsprofilen ble borte n\u00e5r de ansatte en ekstra mannlig viserektor rett f\u00f8r jeg skulle begynne.</p>\n",
        "<p class=\"txt\">Rektor Ole Petter Ottersen \u00f8nsker ikke \u00e5 kommentere Fjelds uttalelser.</p>"
       ],
       "metadata": {},
       "output_type": "display_data",
       "text": [
        "<IPython.core.display.HTML at 0x7fa66aea4198>"
       ]
      },
      {
       "html": [
        "<p class=\"txt\">Lamalue: Dala Lama tok gledelig i bruk russelua han ble tilbudt av elever fra Oslo handelsgym da han bes\u00f8kte Fredssenteret 9. mai.</p>"
       ],
       "metadata": {},
       "output_type": "display_data",
       "text": [
        "<IPython.core.display.HTML at 0x7fa66aea4198>"
       ]
      },
      {
       "html": [
        "<p class=\"txt\">VG skriver i dag (HENVISNING TIL (http://www.vg.no/nyheter/innenriks/udi/narkodoemt-ble-aktivist-faar-bli-i-norge/a/10123484/ HER) om en innvandrer som, etter \u00e5 ha sonet fire \u00e5r i Norge for narkotikakriminalitet, skulle kastes ut av landet, men som ble menneskerettighetsaktivist og fikk bli i stedet.</p>\n",
        "<p class=\"txt\">I en egen sak skriver VG videre (HENVISNING TIL http://www.vg.no/nyheter/innenriks/udi/professor-roser-innsatsen-til-narkodoemt/a/10123487/) at mannen skal ha f\u00e5tt st\u00f8tte fra en anerkjent professor. Professoren var med \u00e5 stifte menneskerettighetsorganisasjonen med mannen, og vitnet til fordel for den straffed\u00f8mte da han saks\u00f8kte staten.</p>\n",
        "<p class=\"mt\">Mot hensikten</p>\n",
        "<p class=\"txt\">\u2013 For det f\u00f8rste er vi helt imot at noen bruker aktiviteter for \u00e5 f\u00e5 opphold i Norge. Det er mot hensikten v\u00e5r, sier den Oslo-baserte professoren til Universitas</p>\n",
        "<p class=\"txt\">Han forteller videre at de p\u00e5 flere m\u00f8ter har diskutert at det skal v\u00e6re en betingelse at medlemmene av slike menneskerettighetsorganisasjoner b\u00f8r ha oppholdstillatelse f\u00f8r de blir medlemmer, s\u00e5 de ikke blir med for \u00e5 misbruke systemet.</p>\n",
        "<p class=\"txt\">\u2013 Men vi har ingen mulighet til \u00e5 sjekke bakgrunnen til folk. Vi baserer oss p\u00e5 det personene gj\u00f8r over tid, sier professoren.</p>\n",
        "<p class=\"mt\">Ukjent fortid</p>\n",
        "<p class=\"txt\">Den narkotikad\u00f8mte og professoren skal ha vokst opp i samme land, og de skal if\u00f8lge den d\u00f8mte mannen ha kjent hverandre sv\u00e6rt lenge. Professoren sier til VG at han m\u00f8tte den straffed\u00f8mte f\u00f8rste gang for fire \u00e5r siden, og ikke kjente mannens narkotika-fortid.</p>\n",
        "<p class=\"txt\"><i>Ville dere i styret til denne menneskerettighetsorganisasjonen ha stemt inn mannen som leder hvis dere visste om mannens fortid med narkotikadom og lange kamp for oppholdstillatelse?</i></p>\n",
        "<p class=\"txt\">\u2013 Om vi hadde f\u00e5tt den informasjonen, og skulle ha valgt leder, ville nok ikke vedkommende ha blitt valgt av gruppa, nei, sier professoren.</p>\n",
        "<p class=\"txt\">VG skriver at professoren vitnet for den narkod\u00f8mte da mannen saks\u00f8kte staten. Selv sier professoren at han kun svarte p\u00e5 et sp\u00f8rsm\u00e5l.</p>\n",
        "<p class=\"txt\">\u2013 Jeg svarte kun p\u00e5 sp\u00f8rsm\u00e5l om vedkommende ville v\u00e6rt i fare ved tvangsretur til hjemlandet sitt.</p>\n",
        "<p class=\"txt\">Menneskerettighetsorganisasjonen er en liten, lokal organisasjon i Oslo, og har n\u00e5 skiftet navn.</p>\n",
        "<p class=\"txt\">arews@universitas.no</p>"
       ],
       "metadata": {},
       "output_type": "display_data",
       "text": [
        "<IPython.core.display.HTML at 0x7fa66aea4198>"
       ]
      },
      {
       "html": [
        "<p class=\"txt\">Ukas anbefaling</p>\n",
        "<p class=\"txt\">Eksamenstiden slipper ikke taket f\u00f8r du ligger der som en halvd\u00f8d haug med nerver. Da er det godt det finnes noe kalt skippertak. N\u00e5r du tenker \u00abhvorfor begynner jeg aldri \u00e5 lese tidligere?\u00bb, er fenomenet en reddende engel. Ved \u00e5 rendyrke teknikken gjennom \u00e5renes l\u00f8p, ved \u00e5 omfavne den som en gammel, litt slitsom venn, har den s\u00e5gar blitt en aldri s\u00e5 liten spesialitet. Sett deg til rette med sjokolade, kaffe og matpakke og gj\u00f8r det til en litt selv-sadistisk leselek \u2013 litt mer, litt lengre \u2013 s\u00e5 vil det b\u00e6re frukter som A-ppelsin og B-anan. Ps. Anbefales for \u00f8vrig \u00e5 lese kontinuerlig, men det er litt sent n\u00e5...</p>"
       ],
       "metadata": {},
       "output_type": "display_data",
       "text": [
        "<IPython.core.display.HTML at 0x7fa66aea4198>"
       ]
      },
      {
       "html": [
        "<p class=\"txt\">Du skal kanskje v\u00e6re spesielt interessert for \u00e5 engasjere deg i en prorektors avgang, s\u00e5nn i utgangspunktet. Ved Universitetet i Oslo har universitetsstyret og valgstyret imidlertid klart \u00e5 koke ihop en suppe s\u00e5 fullspekket med saftige ingredienser at Ruth Fjelds br\u00e5 avgang forrige uke \u2013 og aller mest de nevnte styrers h\u00e5ndtering av saken \u2013 i stadig st\u00f8rre grad fortoner seg som en gryende skandale.</p>\n",
        "<p class=\"txt\">For bak den opprinnelige meldingen i Uniforum om at Fjeld gikk fordi hun ikke var \u00abtilstrekkelig inne i rektoratets oppgaver\u00bb, ser det ut til \u00e5 skjule seg relativt stor forvirring. I ukas Universitas forteller Fjeld selv at hun slett ikke er sikker p\u00e5 om hennes begrunnelse er ensbetydende med at det ikke var \u00abuniversitetspolitiske uoverensstemmelser\u00bb som gjorde at hun trakk seg \u2013 en konklusjon som UiO var snar til \u00e5 trekke. N\u00e5r nettopp dette frav\u00e6ret av universitetspolitiske grunner brukes som et av hovedargumentene for helt bevisst \u00e5 bl\u00e5se en lang marsj i valgreglementet \u2013 for dermed \u00e5 unng\u00e5 det nyvalget av b\u00e5de prorektor og rektor situasjonen etter reglene fordrer \u2013 ja, da er det ikke rart studentene raser. Hemmelighold fram til styrem\u00f8tet er blant faktorene som ikke gj\u00f8r saken noe bedre.</p>\n",
        "<p class=\"txt\">Gjennom \u00e5rene har Universitas brakt utallige saker om diverse varianter av regelrytteri ved UiO. S\u00e6rlig ved Det medisinske fakultet har vi flere eksempler p\u00e5 at rigid reglementsoverholdelse har rammet studenter hardt. Det setter universitetsstyrets frimodige skroting av eget reglement i et ekstra grelt lys. Vi beh\u00f8ver neppe \u00e5 minne om hva den kalles, styreformen i land der regler er noe som bare gjelder for allmuen, mens de mektigste er hevet over loven.</p>\n",
        "<p class=\"txt\">Studenter ved Universitetet i Oslo kan i det minste v\u00e6re stolte over at deres to representanter i styret brukte sin stemme til \u00e5 g\u00e5 imot hele den tvilsomme man\u00f8veren. Det ser imidlertid ikke ut til \u00e5 ha v\u00e6rt nok, og sp\u00f8rsm\u00e5let er hva studentene n\u00e5 kan og b\u00f8r gj\u00f8re for \u00e5 vise at dette er et demokratibrudd som rett og slett ikke kan tolereres. Det virker mildt sagt langt fra sikkert at det er tilstrekkelig med den \u00abdiskusjonen\u00bb en av de innstilte studentrepresentantene varsler i ukas avis. I stedet b\u00f8r studentenes n\u00e5v\u00e6rende styrerepresentanter vurdere \u00e5 g\u00e5 imot den klissete merkelappen som \u00abgenerasjon lydig\u00bb og trekke seg i protest.</p>"
       ],
       "metadata": {},
       "output_type": "display_data",
       "text": [
        "<IPython.core.display.HTML at 0x7fa66aea4198>"
       ]
      },
      {
       "html": [
        "<p class=\"txt\">Blant valgstyrets hovedargumenter for at det skulle v\u00e6re forsvarlig \u00e5 droppe nyvalg, er at det ikke var universitetspolitiske grunner til at prorektoren trakk seg. Fjeld selv er imidlertid usikker p\u00e5 om \u00e5rsakene til at hun sluttet kan kalles \u00abuniversitetspolitiske\u00bb, og sier styret ikke har spurt henne om saken.</p>\n",
        "<p class=\"txt\">\u2013 Jeg syns universitetsstyret godt kunne kontaktet meg. De tok \u00e9n side for god fisk. Men det hadde kanskje v\u00e6rt smart av dem \u00e5 h\u00f8re begge sidene av saken, sier Fjeld.</p>\n",
        "<p class=\"txt\">\u2013 Da rektor spurte meg om det var en universitetspolitisk grunn, sa jeg at det var uklart hva som l\u00e5 i begrepet og ba om en avklaring. Det fikk jeg ikke, forteller hun.</p>\n",
        "<p class=\"txt\">If\u00f8lge rektor Ole Petter Ottersen er b\u00e5de universitetsstyret og styret enige med ham i at \u00e5rsaken ikke er universitetspolitisk.</p>\n",
        "<p class=\"txt\">Fjeld mener det er rart hun fikk s\u00e5 lite \u00e5 gj\u00f8re i en s\u00e5 stor og viktig stilling.</p>\n",
        "<p class=\"txt\">\u2013 Jeg tok det opp med rektor, og det kom ingen endring. Da kunne jeg ikke bruke tiden min der, sier hun.</p>\n",
        "<p class=\"txt\">Det var flere oppgaver Fjeld trodde hun skulle f\u00e5 som hun aldri fikk.</p>\n",
        "<p class=\"txt\">\u2013 Doktorgradsutdanningen var jeg lovet, men fikk ikke det i gavnet, bare i navnet, sier hun.</p>\n",
        "<p class=\"txt\">Det var da rektoratet la fram rapporten om doktorgradsutdanningen uten at Fjeld hadde noe med det \u00e5 gj\u00f8re, at hun leverte erkl\u00e6ringen om at hun ville g\u00e5 av som prorektor.</p>\n",
        "<p class=\"txt\">\u2013 Da skj\u00f8nte jeg at det var noe som ikke hang helt sammen, forteller hun.</p>\n",
        "<p class=\"txt\">En av grunnene til at hun ikke fikk like mange oppgaver som hun trodde, var at det ble innf\u00f8rt en ekstra viserektorstilling rett f\u00f8r hun begynte.</p>\n",
        "<p class=\"txt\">\u2013 Viserektoren fikk hele forskningsdelen, som jeg trodde jeg skulle f\u00e5. Prorektoren f\u00f8r meg hadde den delen, og de burde v\u00e6rt klarere p\u00e5 at jeg ikke skulle f\u00e5 den delen i s\u00e5 fall.</p>\n",
        "<p class=\"txt\">Fjeld mener hun ble valgt blant annet p\u00e5 grunn av likestilling, og at de trengte en kvinne.</p>\n",
        "<p class=\"txt\">\u2013 En viktig del av likestillingsprofilen ble borte n\u00e5r de ansatte en ekstra mannlig viserektor rett f\u00f8r jeg skulle begynne.</p>\n",
        "<p class=\"txt\">Rektor Ole Petter Ottersen \u00f8nsker ikke \u00e5 kommentere Fjelds uttalelser.</p>"
       ],
       "metadata": {},
       "output_type": "display_data",
       "text": [
        "<IPython.core.display.HTML at 0x7fa66aea4198>"
       ]
      },
      {
       "html": [
        "<p class=\"txt\">Tear down this wall: David Ringstad, styreleder i OSI klatring, kutter opp restene av den gamle klatreveggen p\u00e5 Blindern. De skal erstattes av nye, moderne vegger. Foreningen har f\u00e5tt noe st\u00f8tte fra Klatreverket, men st\u00e5r selv bak det meste av finansieringen og arbeidet.</p>"
       ],
       "metadata": {},
       "output_type": "display_data",
       "text": [
        "<IPython.core.display.HTML at 0x7fa66aea4198>"
       ]
      },
      {
       "html": [
        "<p class=\"txt\">HVEM: \tKarsten Aln\u00e6s</p>\n",
        "<p class=\"txt\">STUDERTE: \tHovedfag i nordisk, Universitetet i Oslo</p>\n",
        "<p class=\"txt\">N\u00c5R: \t1957\u20131963</p>\n",
        "<p class=\"txt\">AKTUELL MED:\tBoken \u00ab1814. Miraklenes \u00e5r\u00bb i forbindelse med grunnlovsjubileet</p>\n",
        "<p class=\"txt\">\u2013 Jeg vil ikke peke ut noen sorte f\u00e5r, men det var enkelte som r\u00f8kte under forelesningen, og det synes jeg ikke noe om.</p>\n",
        "<p class=\"txt\">Vi m\u00f8ter Karsten Aln\u00e6s ved flytogterminalen, f\u00f8r han skal videre til Molde og Kristiansund for \u00e5 holde foredrag om 1814 i forbindelse med grunnlovsjubileet. Selv om han skal sitte p\u00e5 flyet om litt over en time og m\u00e5 komme seg av g\u00e5rde med toget, har han en hel del p\u00e5 hjertet om sine gamle forelesere.</p>\n",
        "<p class=\"txt\">\u2013 Det var en som underviste i gotisk, som pekte ut studenter og stilte oss forferdelige sp\u00f8rsm\u00e5l som overhodet ikke hadde noe med pensum \u00e5 gj\u00f8re. Jeg ble heldigvis ikke pekt ut, men kameraten min ble det, stakkars.</p>\n",
        "<p class=\"txt\">Selv om noen var r\u00f8ykere og andre urimelige, er det noen l\u00e6rere han beskriver som \u00aben evig inspirasjon\u00bb \u2013 de som gj\u00f8r at det glitrer i de smale \u00f8ynene hans.</p>\n",
        "<p class=\"txt\">\u2013 Jeg husker spesielt godt da jeg fikk en romanpris i 1976, og fikk et langt og hyggelig brev fra en tidligere foreleser. Han ville gratulere meg med prisen og si at det var vel fortjent. Det var et forhold jeg husker med glede.</p>\n",
        "<p class=\"txt\">Aln\u00e6s har skrevet flere romaner og fagb\u00f8ker om b\u00e5de Norge og Europas historie og ville egentlig ta historie som hovedfag. Tilfeldigheter og en stor spr\u00e5kinteresse f\u00f8rte til at det ble nordisk hovedfag, med tysk og historie som mellomfag. S\u00e6rlig fransk middelalderhistorie husker han godt.</p>\n",
        "<p class=\"txt\">\u2013 Jens Arup Seip holdt en helt <I>eventyrlig</I> forelesningsrekke om Frankrike i middelalderen. Det var virkelig karismatiske l\u00e6rere, sier han og myser opp p\u00e5 den gr\u00e5 himmelen utenfor Oslo S.</p>\n",
        "<p class=\"txt\">Studentlivet husker han som behagelig. Han bodde hjemme hos foreldrene og slapp derfor \u00e5 ta noe s\u00e6rlig studiel\u00e5n.</p>\n",
        "<p class=\"txt\">\u2013 Jeg er jo oslogutt, fra Kampen, og det var lettvint \u00e5 studere i samme by som jeg vokste opp i, forteller han.</p>\n",
        "<p class=\"txt\">Aln\u00e6s beskriver seg selv som en ansvarsfull og m\u00e5lbevisst student, med et klart m\u00e5l om \u00e5 bli fort ferdig slik at han kunne finne seg jobb. Derfor brukte han mye tid p\u00e5 lesesalen.</p>\n",
        "<p class=\"txt\">\u2013 Helt isolert i fagene var jeg jo ikke, da. Fritiden brukte jeg mye p\u00e5 trening, og jeg gikk lange skogsturer med studiekamerater i Oslomarka. Ogs\u00e5 var vi jo litt opptatte av det politiske milj\u00f8et, det er klart. Men vi var ikke noe s\u00e6rlig p\u00e5 byen.</p>\n",
        "<p class=\"txt\">Den avsluttende hovedfagsoppgaven handlet om generasjonsmotsetninger i moderne sosiolekter. Den gang var tilgangen p\u00e5 skrivere langt ifra hva den er i dag, og teksten har til n\u00e5 kun v\u00e6rt tilgjengelig i ett eneste eksemplar. N\u00e5 skal den trykkes opp p\u00e5 nytt. Det er f\u00f8rste gang Aln\u00e6s publiseres som forfatter av faglitteratur i nordisk.</p>\n",
        "<p class=\"txt\">\u2013 Det er jo hyggelig \u00e5 debutere i en alder av 76, sier han og ler hjertelig.</p>\n",
        "<p class=\"txt\"><I>\u2013 Skrev du noe </I><I>skj\u00f8nnlitter\u00e6rt i studietida?</I></p>\n",
        "<p class=\"txt\">\u2013 Jeg puslet med en novelle, som jeg skrev p\u00e5 nynorsk, bare for \u00e5 \u00f8ve litt p\u00e5 det. Den ble lagt til side i mange \u00e5r, og jeg glemte den helt. S\u00e5 fant kona mi den en dag da vi ryddet, og den endte opp i en novellesamling. God kritikk fikk den ogs\u00e5!</p>\n",
        "<p class=\"txt\">Selv om mange av studievennene har falt fra i l\u00f8pet av \u00e5rene, holder Aln\u00e6s fremdeles kontakten med en liten klikk fra tiden p\u00e5 universitetet.</p>\n",
        "<p class=\"txt\">\u2013 N\u00e5 er vi mer p\u00e5 byen. Unge gutter som oss, vet du, vi treffes p\u00e5 Kaffistova en gang i blant.</p>"
       ],
       "metadata": {},
       "output_type": "display_data",
       "text": [
        "<IPython.core.display.HTML at 0x7fa66aea4198>"
       ]
      },
      {
       "html": [
        "<p class=\"bt\"><b>Godt forberedt:</b> Marianne Anden\u00e6s \u00f8nsker \u00e5 inkludere alle som leder av Arbeidsutvalget.</p>\n",
        "<p class=\"txt\">I dag ble det kjent hvem som skal representere studentene i Studentparlamentet ved UiOs arbeidsutvalg i perioden 2014/2015.</p>\n",
        "<p class=\"txt\">\u2013 Jeg er en inkluderende leder, og vil fremme en samlet studentmasse, sier nyvalgt leder Marianne Anden\u00e6s (24) til Universitas.</p>\n",
        "<p class=\"txt\">Anden\u00e6s representerer Sosialdemokratene, og studerer til vanlig statsvitenskap.</p>\n",
        "<p class=\"txt\">Hun mener det er viktig \u00e5 v\u00e6re godt forberedt n\u00e5r man skal ta fatt p\u00e5 oppgavene vervet inneb\u00e6rer.</p>\n",
        "<p class=\"txt\">\u2013 Jeg tror det er viktig \u00e5 finne ett godt hovedargument n\u00e5r vi jobber med en sak, og bygge opp en god argumentasjon rundt det. Det vil ogs\u00e5 v\u00e6re viktig \u00e5 finne naturlige og gode samarbeidspartnere, sier Anden\u00e6s.</p>\n",
        "<p class=\"mt\">Disse fem er valgt inn i Arbeidsutvalget:</p>\n",
        "<p class=\"txt\"><b>Leder: Marianne Anden\u00e6s (24)</b></p>\n",
        "<p class=\"txt\">Studerer statsvitenskap. Representerer Sosialdemokratene.</p>\n",
        "<p class=\"txt\"><b>Universitetsstyrerepresentant: Daniel Sandbakken Nilsen (24)</b></p>\n",
        "<p class=\"txt\">Studerer spesialpedagogikk. Representerer Venstrealliansen.</p>\n",
        "<p class=\"txt\"><b>Universitetsstyrerepresentant: Tina Alv\u00e6r (29)</b></p>\n",
        "<p class=\"txt\">Studerer samfunns\u00f8konomi. Representerer Bl\u00e5 liste.</p>\n",
        "<p class=\"txt\"><b>Studie- og l\u00e6ringsmilj\u00f8ansvarlig: Runar B. M\u00e6land (25)</b></p>\n",
        "<p class=\"txt\">Studerer filosofi. Representerer Liberal Liste.</p>\n",
        "<p class=\"txt\"><b>Informasjonsansvarlig: Torgeir Lebesbye (26)</b></p>\n",
        "<p class=\"txt\">Studerer informatikk. Representerer Realistlista.</p>\n",
        "<p class=\"txt\"><i>Universitas kommer tilbake med mer senere.</i></p>"
       ],
       "metadata": {},
       "output_type": "display_data",
       "text": [
        "<IPython.core.display.HTML at 0x7fa66aea4198>"
       ]
      },
      {
       "html": [
        "<p class=\"fak1\">Shake The Curse</p>\n",
        "<p class=\"fak2\">Av: This Sect</p>\n",
        "<p class=\"fak2\">Plateselskap: Sect Appeal Records</p>\n",
        "<p class=\"txt\">Oslobandet This Sect ble til i 2003. I l\u00f8pet av fire \u00e5r rakk de \u00e5 spille inn hele tre EP-er og et livealbum, og de spilte en rekke konserter i Skandinavia. De siste syv \u00e5rene har det likevel v\u00e6rt lite \u00e5 h\u00f8re fra dem. <I>Shake The Curse</I> er This Sects f\u00f8rste fulle album og best\u00e5r av ti akkurat passe fengende l\u00e5ter, deriblant en nyinnspilling av den gamle radiohiten \u00abParty Like It's 1939\u00bb og en syv minutter lang power-ballade.</p>\n",
        "<p class=\"txt\">This Sect har ikke klart \u00e5 finne opp verken seg selv eller kruttet p\u00e5 nytt. Shake The Curse er ikke noe d\u00e5rlig album, men dette har man h\u00f8rt f\u00f8r, og sekten klarer dessverre ikke \u00e5 skille seg ut i jungelen av ambisi\u00f8se pop-punk-grupper. Musikalsk sett er det lite \u00e5 utsette p\u00e5, og det l\u00e5ter solid. Vokalist G\u00f8ran Karlsvik virker dog noe usikker i sin framf\u00f8ring, i det som framst\u00e5r som et ellers tight ensemble. Den til tider monotone vokalen gj\u00f8r at flere av l\u00e5tene h\u00f8res i overkant like ut. Det gjelder ogs\u00e5 den fengende singelen \u00abMake Shit Shine\u00bb. This Sect har likevel en tydelig definert sound og appellerer til b\u00e5de svorne fans og tilfeldige radiolyttere. Sounden er ikke unik, og det er heller ikke tekstene, som stort sett handler om livets store sirkel: f\u00f8dsel, liv og d\u00f8d. Til tross for mangel p\u00e5 s\u00e6regenhet passer dette temaet godt til This Sects angstfylte uttrykk.</p>\n",
        "<p class=\"txt\"><I>Shake The Curse</I> er kommersielt og P3-vennlig. Det duger ogs\u00e5 p\u00e5 et gjennomsnittlig ungdomsvorspiel, for det er lett \u00e5 la seg fenge. Bandet har energi s\u00e5 det holder, men likevel blir albumet litt ensformig og platt. Det er aldri d\u00e5rlig, men heller aldri mer enn helt greit.</p>"
       ],
       "metadata": {},
       "output_type": "display_data",
       "text": [
        "<IPython.core.display.HTML at 0x7fa66aea4198>"
       ]
      },
      {
       "html": [
        "<p class=\"txt\">Skal gj\u00f8re Nova sosial</p>\n",
        "<p class=\"txt\">Flere arrangementer og mer personlig preg st\u00e5r p\u00e5 tapetet n\u00e5r Albert Christian Alfiler tar over som Radio Nova-redakt\u00f8r.</p>\n",
        "<p class=\"txt\">Studentradio</p>\n",
        "<p class=\"txt\">Alfiler (27) ble forrige uke valgt til ny redakt\u00f8r for studentenes lokalradio i Oslo. 1. juli st\u00e5r han klar til \u00e5 overta ansvaret etter forrige Nova-sjef, Erlend Buflaten.</p>\n",
        "<p class=\"txt\"><I>\u2013 Gratulerer med valgseier. Var det hard konkurranse?</I></p>\n",
        "<p class=\"txt\">\u2013 Det var en del grilling fra organisasjonen under intervjuet, og mange som kom med knallt\u00f8ffe sp\u00f8rsm\u00e5l. Det sies at valgallm\u00f8tet i Radio Nova er et av de hardeste jobbintervjuene man g\u00e5r p\u00e5, noe som ikke er tull, sier en forn\u00f8yd Alfiler til Universitas.</p>\n",
        "<p class=\"mt\">Vil forbli nisjeradio</p>\n",
        "<p class=\"txt\"><I>\u2013 Da Erlend Buflaten ble redakt\u00f8r i fjor, \u00f8nsket han \u00e5 prioritere historieprogrammer, debatter og sport. Har du liknende ambisjoner?</I></p>\n",
        "<p class=\"txt\">\u2013 Vi er en nisjeradio, og det synes jeg vi skal fortsette \u00e5 v\u00e6re. Det er samtidig viktig at det redaksjonelle innholdet oppleves som relevant for lytterne \u2013 som er studenter.</p>\n",
        "<p class=\"txt\">Alfiler er tydelig p\u00e5 at han vil lytte til journalistenes \u00f8nsker, og at radiokanalen skal v\u00e6re et inkluderende milj\u00f8 med rom for alle til \u00e5 sette sitt preg p\u00e5 den.</p>\n",
        "<p class=\"txt\">\u2013 N\u00e5r det gjelder spesifikke programmer, \u00f8nsker ikke jeg som redakt\u00f8r \u00e5 tvinge gjennom pilotprogrammer hvis det ikke er noen andre som \u00f8nsker \u00e5 lage programmet. Jeg vil gjerne inspirere og oppfordre journalistene til \u00e5 komme med forslag til piloter de er motiverte til \u00e5 lage. Om noen har veldig lyst til \u00e5 lage et program om sjakk, for eksempel, s\u00e5 b\u00f8r det v\u00e6re rom for det.</p>\n",
        "<p class=\"mt\">Flere arrangementer</p>\n",
        "<p class=\"txt\">I fjor h\u00f8st ble det gjennomf\u00f8rt en medieunders\u00f8kelse blant studentene i Oslo, som viste at bare 30 prosent av studentene h\u00f8rer p\u00e5 Radio Nova. Alfiler mener et viktig grep for \u00e5 sanke flere lyttere vil v\u00e6re \u00e5 bli mer synlig p\u00e5 arrangementsfronten.</p>\n",
        "<p class=\"txt\">\u2013 Selv om Radio Nova f\u00f8rst og fremst er en radiokanal, kan vi ogs\u00e5 ta initiativ til debatter og andre sosiale sammenkomster.</p>"
       ],
       "metadata": {},
       "output_type": "display_data",
       "text": [
        "<IPython.core.display.HTML at 0x7fa66aea4198>"
       ]
      },
      {
       "html": [
        "<p class=\"txt\">kultur</p>\n",
        "<p class=\"txt\"><I>I disse dager ansettes folkene som skal forske p\u00e5 din d\u00e5rlige samvittighet overfor de fattige barna i Afrika.</I></p>\n",
        "<p class=\"txt\">Forskning</p>\n",
        "<p class=\"txt\">Skyldf\u00f8lelse i Skandinavia i tiden etter 1989 er tema for forskningsprosjektet Scanguilt. Fordi globaliseringen har gjort skillet mellom \u00aboss\u00bb og \u00abdem\u00bb mindre, er det blitt tydeligere for oss hvor privilegerte vi er. Samtidig f\u00f8ler vi mer skam.</p>\n",
        "<p class=\"txt\">\u00abMen at war\u00bb, \u00abglobal women\u00bb og \u00absacrificed children\u00bb er tre sentrale temaer for prosjektet. Elisabeth Oxfeldt er prosjektleder for millionsatsningen, og mener Johan Harstads skuespill <I>Osv.</I> er et godt eksempel p\u00e5 f\u00f8rstnevnte tematikk.</p>\n",
        "<p class=\"txt\">\u2013 Her veksler vi mellom \u00e5 f\u00f8lge med p\u00e5 OL i Lillehammer og folkemordet i Rwanda. For mediene og folk flest er OL en st\u00f8rre nyhet og av st\u00f8rre interesse enn et folkemord, sier Oxfeldt, som ogs\u00e5 er professor i lingvistiske og nordiske studier ved Universitetet i Oslo (UiO).</p>\n",
        "<p class=\"txt\">Forskningsprosjektet ble satt i gang i \u00e5r, og vil v\u00e6re delt opp i et HF-basert prosjekt ved UiO, som har blitt tildelt fem millioner kroner, og et internasjonalt prosjekt, som f\u00e5r 12 millioner i st\u00f8tte fra Norges forskningsr\u00e5d. Denne uka intervjues kandidater til stipendiatstillingene i prosjektet.</p>\n",
        "<p class=\"mt\">Globale kvinner</p>\n",
        "<p class=\"txt\">Den norske filmen <I>Upperdog</I> fra 2009 er et godt eksempel p\u00e5 at kvinner er blitt globale. Der har en polsk vaskedame etterlatt sitt barn i Polen for \u00e5 v\u00e6re vaskedame p\u00e5 Oslos vestkant.</p>\n",
        "<p class=\"txt\">\u2013 Filmen spiller p\u00e5 at v\u00e5rt likestilte samfunn beror p\u00e5 \u00abimport\u00bb av utenlandske kvinner, noe som kan skape skyldf\u00f8lelse, mener Oxfeldt.</p>\n",
        "<p class=\"txt\">Regiss\u00f8r Sara Johnsen sier hun var bevisst p\u00e5 dette etter selv \u00e5 ha hatt en polsk vaskedame. Hun er likevel ikke helt enig i bruken av ordet \u00abskam\u00bb.</p>\n",
        "<p class=\"txt\">\u2013 Jeg tenker at skam er forbundet med ambisjon og mulighet. Folk sier de m\u00e5 ha au pair fordi samfunnet har p\u00e5f\u00f8rt dem tidsklemma. Ingenting er s\u00e5 enkelt \u00e5 bortforklare som skyldf\u00f8lelsen v\u00e5r, sier Johnsen.</p>\n",
        "<p class=\"txt\">Johnsen mener at hun enda ikke er i en slik posisjon at filmene hennes har en stor p\u00e5virkning og dermed kan endre holdningene til de som i utgangspunktet er uenige.</p>\n",
        "<p class=\"txt\">\u2013 Bare tenk p\u00e5 alle filmer om fattigdom og urettferdighet, de endrer lite. Man kan likevel pr\u00f8ve \u00e5 vise noen perspektiver ved \u00e5 fortelle historier om folk som ikke har meningene sine p\u00e5 trykk i aviser og blader.</p>\n",
        "<p class=\"mt\">Ofrede barn</p>\n",
        "<p class=\"txt\">Erik Poppes ferskeste film, <I>Tusen ganger god natt</I>, viser \u00absacrificed children\u00bb \u2013 det tredje temaet i prosjektet. Hovedkarakteren, spilt av Juliette Binoche, er en krigsfotograf som forlater mann og barn hjemme i trygge nord. Men s\u00e5 tar hun med datteren p\u00e5 oppdrag.</p>\n",
        "<p class=\"txt\">\u2013 Mor og datter er i en trygg flyktningleir, som plutselig blir angrepet. Da sender Binoche datteren avg\u00e5rde og blir selv igjen for \u00e5 dekke konflikten med kameraet, sier Oxfeldt.</p>\n",
        "<p class=\"txt\">Slik f\u00e5r hun bekreftet at hennes prioriteringer gj\u00f8r en forskjell: Fordi hun tar bilder, f\u00e5r angrepet oppmerksomhet og flyktningleiren blir trygg. Binoches karakter \u00abofrer\u00bb sitt eget barn for \u00e5 redde barn som er langt d\u00e5rligere stilt.</p>\n",
        "<p class=\"txt\">\u2013 Her kan vi sp\u00f8rre om det er sant at en krigsfotografs rapportering gj\u00f8r en forskjell. Et annet sp\u00f8rsm\u00e5l er om Poppes film i seg selv f\u00f8rer til endringer i det virkelige liv, sier prosjektlederen.</p>\n",
        "<p class=\"mt\">Destruktiv skyldsf\u00f8lelse</p>\n",
        "<p class=\"txt\">\u2013 Mange bryr seg nok ikke, fordi de f\u00f8ler seg f\u00f8dt inn i et system som er for stort og for vanskelig \u00e5 gj\u00f8re noe med, sier forfatter Simon Stranger.</p>\n",
        "<p class=\"txt\">\u2013 Andre har d\u00e5rlig samvittighet. Men hvis skyldf\u00f8lelsen ikke omgj\u00f8res til handlinger, er den ganske destruktiv.</p>\n",
        "<p class=\"txt\">Stranger skrev ungdomsboka <I>Verdensredderne</I> fra 2012, der den ene av hovedpersonene er en bangladeshisk jente som lager t-skjorter i en tekstilfabrikk. Den andre er en norsk jente fra B\u00e6rum, som bruker nettopp \u00e9n av disse t-skjortene.</p>\n",
        "<p class=\"txt\">Da boka kom ut, gikk debatten hett rundt arbeidsforholdene hos Hennes & Mauritz. Stranger skrev brev til klesgigantens sjef og var med p\u00e5 debatt i Dagbladet og Dagsnytt 18. Han har ogs\u00e5 skrevet <I>En fremmed i verden</I>, om sin egen skam over \u00e5 v\u00e6re norsk og rik.</p>\n",
        "<p class=\"txt\">\u2013 Vesten har kommet s\u00e5 langt \u00f8konomisk at det ikke er nok \u00e5 kj\u00f8pe noe som f\u00e5r oss til \u00e5 se bra ut. Vi vil betale for ikke \u00e5 f\u00e5 d\u00e5rlig samvittighet ogs\u00e5. Rent kynisk sett er det blitt et markedsfortrinn \u00e5 komme \u00e5pent ut om sine produksjonsforhold, sier Stranger.</p>\n",
        "<p class=\"mt\">Samtidssp\u00f8kelser</p>\n",
        "<p class=\"txt\">En tekst som har v\u00e6rt inspirasjon for Scanguilt, er Jacques Derridas <I>Marx' sp\u00f8kelser</I> fra 1994. Boka sp\u00f8r hva marxismen kan brukes til etter kommunismens d\u00f8d.</p>\n",
        "<p class=\"txt\">\u2013 For Derrida st\u00e5r det klart at ting ikke er s\u00e5 enkelt, for det finnes flere typer marxisme. Selv etter murens fall vil det v\u00e6re mange \u00absp\u00f8kelser\u00bb fra fortiden.</p>\n",
        "<p class=\"txt\">Poenget til Oxfeldt er at samtidssp\u00f8kelsene finnes p\u00e5 samme m\u00e5te i Skandinavia, og de krever at vi retter opp i den \u00abskyld\u00bb vi har beg\u00e5tt.</p>\n",
        "<p class=\"txt\">\u2013 Vi lever isolert fra andre oppe i nord, men globaliseringen gj\u00f8r det uunng\u00e5elig \u00e5 se omverdenen. Fordi virkelighetene ofte er s\u00e5 forskjellig, f\u00f8ler vi en p\u00e5trengende skam. Dette kommer til uttrykk i kunst og kultur, sier prosjektlederen.</p>\n",
        "<p class=\"mt\">\u00c5 skape empati</p>\n",
        "<p class=\"txt\">Mens en av stipendiatene skal se p\u00e5 blant annet film, litteratur og kunstinstallasjoner, skal en annen ta for seg global skyld i skoleundervisningen. Her trekker Oxfeldt fram Operasjon Dagsverk og innsamlingsaksjoner som gode eksempler p\u00e5 den norske \u00abd\u00e5rlige samvittigheten\u00bb.</p>\n",
        "<p class=\"txt\">Aftenpostens tv-serie <I>Sweatshop</I>, hvor ungdommer blir sendt til Kambodsja for \u00e5 l\u00e6re om klesproduksjonens baksider, er ogs\u00e5 aktuell.</p>\n",
        "<p class=\"txt\">\u2013 Her er det fokus p\u00e5 oss og dem, rik og fattig, innsikt og skyld. Setninger som \u00abdet g\u00e5r inn p\u00e5 meg, for hvem er jeg som sitter her og klager over at jeg m\u00e5 \u00f8ve til mattepr\u00f8ve, mens det sitter folk nede i Kambodsja som jobber livet av seg\u00bb er \u00abScanguilt\u00bb, sier Oxfeldt.</p>"
       ],
       "metadata": {},
       "output_type": "display_data",
       "text": [
        "<IPython.core.display.HTML at 0x7fa66aea4198>"
       ]
      },
      {
       "html": [
        "<p class=\"fak1\">Ukas podkast: Naked Scientists</p>\n",
        "<p class=\"txt\">The Naked Scientists er en gruppe p\u00e5 14 forskere med ulike fagfelt p\u00e5 universitetet i Cambridge. De har alle et inderlig \u00f8nske om \u00e5 formidle vitenskap og forskningsnyheter til allmennheten, og det er dette som er deres styrke: de er engasjerte fagfolk som snakker om ting de har skikkelig god peiling p\u00e5.</p>\n",
        "<p class=\"txt\">En gang i uka g\u00e5r de p\u00e5 lufta p\u00e5 BBC. Lytterne ringer inn med sp\u00f8rsm\u00e5l som kan handle om alt fra hvorfor vi ler n\u00e5r vi blir kilt, hvilken farge en kameleon egentlig har, til hvorfor planeter er runde. Programlederne svarer p\u00e5 sp\u00f8rsm\u00e5let over telefonen, og man f\u00e5r en uformell dialog mellom innringer og programleder. Det skal v\u00e6re lav terskel for \u00e5 ringe inn, og svarene som gis skal alltid ligge p\u00e5 et niv\u00e5 som Hvermansen kan henge med p\u00e5, uten at det blir fordummende eller simpelt.</p>\n",
        "<p class=\"txt\">Mot slutten av hver podkast f\u00e5r lytterne en liten nyhetsrapport, der programlederne f\u00e5r muligheten til \u00e5 kommentere aktuelle samfunnstemaer i lys av sin bakgrunn som forsker. P\u00e5 den m\u00e5ten belyser de problemstillinger med bakgrunnsstoff som ikke alltid kommer like godt fram i avisene, som n\u00e5r en journalist uten fagbakgrunn skal rapportere om en sak. Et eksempel p\u00e5 dette er Heartbleed-viruset som skapte bekymring for kort tid siden: Podkastens egen IT-mann forklarer p\u00e5 forst\u00e5elig vis hva denne nyheten <i>egentlig</i> handlet om.</p>\n",
        "<p class=\"txt\">Samlet kan denne pakka minne litt om en god, gammeldags frokostradio, bare med smarte programledere som slipper \u00e5 stille dumme sp\u00f8rsm\u00e5l til flaue intervjuobjekter. Om de faktisk er nakne der de sitter, kan man jo lure p\u00e5.</p>"
       ],
       "metadata": {},
       "output_type": "display_data",
       "text": [
        "<IPython.core.display.HTML at 0x7fa66aea4198>"
       ]
      },
      {
       "html": [
        "<p class=\"txt\">Det vanligste akademiske dopet</p>\n",
        "<p class=\"txt\">Stadig flere studenter doper seg p\u00e5 reseptbelagte medisiner for \u00e5 prestere p\u00e5 studet. Vi har testet effekten \u2013 og bivirkningene.</p>\n",
        "<p class=\"txt\">P\u00e5 eksamenskj\u00f8ret</p>\n",
        "<p class=\"txt\">Eksamensdop</p>\n",
        "<p class=\"txt\">Lite overraskende er det f\u00e5 ledige plasser p\u00e5 Universitetsbibliotekets lesesal en tirsdag ettermiddag. Det er mai og skippertaksstudenten har inntatt lesesalen igjen etter et halvt \u00e5rs overvintring. Gulrotknasking, snufsing, slurping og st\u00f8nning. Lydene f\u00e5r en stille lesesal til \u00e5 virke som tortur, og konsentrasjonsevnen har forsvunnet som dugg for v\u00e5rsola.</p>\n",
        "<p class=\"txt\">N\u00e5r det bare er dager igjen f\u00f8r eksamen, kan det derfor v\u00e6re fristende \u00e5 ta ulovlige snarveier.</p>\n",
        "<p class=\"txt\">\u2013 Jeg synes det er merkelig at amfetamin ikke brukes av flere under studietiden. Min erfaring er at det fungerer ekstremt bra.</p>\n",
        "<p class=\"txt\">\u00abLars\u00bb (28) er en av dem som ble fristet av prestasjonsfremmende midler, eller s\u00e5kalt akademisk doping. Han har ikke hatt for vane \u00e5 bruke disse ulovlige medikamentene i studietiden, men han tydde til amfetamin da han hadde hjemmeeksamen og manglet b\u00e5de lyst og overskudd til \u00e5 prestere.</p>\n",
        "<p class=\"txt\">\u2013 Man kan ikke selv styre n\u00e5r man har inspirasjon og driv. Er man i en d\u00e5rlig periode i livet under eksamensperioden, kan man bruke doping. Amfetamin gir en lignende f\u00f8lelse av \u00e5 v\u00e6re i god inspirasjonsflyt, men med dopet kan man velge tidspunkt for flyten selv, sier Lars.</p>\n",
        "<p class=\"txt\">Han er nettopp ferdig med sin mastergrad, skal ut i arbeidslivet og \u00f8nsker derfor \u00e5 v\u00e6re anonym. Men Lars er langt ifra den eneste studenten som applauderer akademisk doping. En ny studie gjort ved en Ivy League-skole i USA viser at en av fem studenter ved prestisjeuniversitetet bruker sentralstimulerende stoffer for \u00e5 gj\u00f8re det bedre p\u00e5 pr\u00f8ver, skrive oppgaver og lese til eksamen. Unders\u00f8kelsen reflekterer andre studier som indikerer lignende funn p\u00e5 flere utdanningsinstitusjoner i USA. Dette er langt flere enn f\u00f8rst antatt.</p>\n",
        "<p class=\"txt\">I Norge er bruken langt ifra s\u00e5 hyppig som i USA, men den \u00f8ker. I en fersk studentunders\u00f8kelse som Universitas har utf\u00f8rt i samarbeid med Norsk studentorganisasjon (NSO), oppgir tre prosent av studentene at de har brukt reseptbelagte prestasjonsfremmende midler for \u00e5 prestere bedre p\u00e5 studiet. Dette er over ett prosentpoeng mer enn det studentenes helse- og trivselsunders\u00f8kelse fra 2010 viste, og tilsvarer relativt store tall i den totale studentmassen.</p>\n",
        "<p class=\"txt\">\u2013 Unders\u00f8kelsen viser at det er mellom 5000 og 10 000 studenter som benytter seg av prestasjonsfremmende midler. Det synes jeg er overraskende mange, sier Ola Rydje, leder i NSO. Han tror studentene tyr til slike stoffer fordi de opplever at d\u00f8gnets timer ikke strekker til for studier.</p>\n",
        "<p class=\"txt\">\u2013 Det er veldig problematisk hvis det er frav\u00e6ret av muligheten til \u00e5 studere p\u00e5 heltid som gj\u00f8r at studenter m\u00e5 ty til slike stoffer for \u00e5 prestere, sier han.</p>\n",
        "<p class=\"txt\">P\u00e5 Universitetsbiblioteket begynner det \u00e5 n\u00e6rme seg kveld. Fortsatt er det mange som klarer \u00e5 presse fram konsentrasjonsevnen. Jeg merker selv at min egen energi er p\u00e5 full fart ned, hodet er i dr\u00f8mmemodus og \u00f8ynene sklir langsomt mot vinduet. Jeg tar h\u00e5nda ned i jakkelomma og fisker opp tablettpakningen. Med bare en uke igjen til eksamen skal disse sm\u00e5 og hvite ritalinpillene f\u00e5 meg til \u00e5 ta igjen den tapte lesinga fra semesteret som har g\u00e5tt.</p>\n",
        "<p class=\"txt\">N\u00e5r tre timer til plutselig har passert, er flere titalls sider blitt lest uten at jeg har stoppet for en eneste femminutter. Hodet er overraskende konsentrert, tross tidspunktet. Lesingen har g\u00e5tt like eventyrlig som \u00e5 lese en skj\u00f8nnlitter\u00e6r hit, og jeg lar meg ikke like lett distrahere av hendelser rundt meg. Lange kapitler p\u00e5 engelsk om svensk partipolitikk absorberes behendig og effektivt, og behovet for \u00e5 sjekke Facebook er nede p\u00e5 et minimum.</p>\n",
        "<p class=\"txt\">\u2013 Man blir veldig euforisk, hyperaktiv og v\u00e5ken. Det er vanskelig \u00e5 si om du blir smartere, men det aktiverer i hvert fall hjerneaktiviteten. Om du kanaliserer det inn i en oppgave, s\u00e5 er det kanskje som n\u00e5r du jobber p\u00e5 ditt aller mest inspirerte, sier Lars n\u00e5r han skal beskrive den opplevelsen jeg har p\u00e5 biblioteket. Han presiserer at han leste seg godt opp p\u00e5 pillebruk i forkant av sitt eget konsum.</p>\n",
        "<p class=\"txt\">\u2013 Jeg tok en pille til frokost, slik at mye av virkningen av stoffet var ute av kroppen da jeg skulle legge meg. I tillegg var jeg bevisst p\u00e5 \u00e5 presse i meg mat og drikke hver fjerde time, sier han.</p>\n",
        "<p class=\"txt\">Selv om Lars selv opplevde et positivt utbytte av \u00e5 bruke amfetamin under hjemmeeksamen, mener han det ikke er for alle.</p>\n",
        "<p class=\"txt\">\u2013 Det krever mye disiplin \u00e5 bruke det. Man mister matlyst og m\u00e5 passe p\u00e5 \u00e5 tvinge i seg n\u00e6ring. I tillegg er det viktig \u00e5 passe p\u00e5 at man f\u00e5r sovet imellom. Hvis ikke kj\u00f8rer man kroppen helt ut og man mister kognitiv kapasitet, sier han. P\u00e5 den tredje dagen merket han at han begynte \u00e5 bli veldig sliten.</p>\n",
        "<p class=\"txt\">\u2013 Det er energi p\u00e5 kreditt, man overanstrenger kroppen og kjenner det i flere dager etterp\u00e5. Jeg mener det er et fint hjelpemiddel i pressa situasjoner, s\u00e5 lenge man er streng med bruken.</p>\n",
        "<p class=\"txt\">Anders Sandberg, forsker ved Future of Humanity Institute p\u00e5 Universitetet i Oxford, tror vi vil komme til \u00e5 trenge mer akademisk doping i fremtiden. Hans forskningsfelt er etiske og sosiale konsekvenser av kognitiv forbedring, og han har selv pr\u00f8vd ut diverse typer akademisk doping, eller \u00abkognitive forbedringsmidler\u00bb som han selv kaller dem.</p>\n",
        "<p class=\"txt\">\u2013 Jeg tror at konkurransen er det som gj\u00f8r bruken av piller problematisk. Det er mye mer konkurranse i USA enn i Skandinavia, og det kan kanskje v\u00e6re en forklaring p\u00e5 den h\u00f8ye forbruken av prestasjonsfremmende midler i Amerika, sier Sandberg p\u00e5 telefon fra England.</p>\n",
        "<p class=\"txt\">\u2013 Nye teknikker som gj\u00f8r at vi kan oppn\u00e5 kognitiv forbedring, har eksistert lenge allerede, eksempelvis kalkulatoren, mobilen og kaffe. Vi ser ikke disse midlene som et samfunnsproblem, sier han og peker p\u00e5 at det er mange studenter som ikke drikker kaffe og som dermed mister fordelen av mer effektiv jobbing. Likevel er det ingen som snakker om \u00e5 stenge kafeene.</p>\n",
        "<p class=\"txt\">\u2013 \u00c5 v\u00e6re intelligent og v\u00e5ken er bra i alle livets situasjoner. Det kan koste oss ganske mye ikke \u00e5 v\u00e6re det i kritiske situasjoner. Jeg mener at piller som gj\u00f8r oss intelligente, er bra \u00e5 bruke s\u00e5 mye som mulig, sier Sandberg.</p>\n",
        "<p class=\"txt\">Men gj\u00f8r disse pillene oss mer intelligente? Nei, mener J\u00f8rgen Bramness, forskningsdirekt\u00f8r ved Senter for rus- og avhengighetsforskning.</p>\n",
        "<p class=\"txt\">\u2013 De f\u00e5 studiene som er gjort, viser at midlene ikke har noen annen effekt enn \u00e5 holde folk mer v\u00e5kne enn til vanlig. Ingen studier har hittil vist at slike stoffer har noen effekt p\u00e5 de kognitive evnene, sier han.</p>\n",
        "<p class=\"txt\">\u2013 Det er i det hele tatt gjort sv\u00e6rt f\u00e5 studier p\u00e5 hvorvidt sentralstimulerende stoffer som ritalin og amfetamin er prestasjonsfremmende.</p>\n",
        "<p class=\"txt\">Bramness mener mange har en sterk overtro n\u00e5r det kommer til effekten av sentralstimulerende stoffer p\u00e5 lesesalen.</p>\n",
        "<p class=\"txt\">\u2013 Folk er d\u00e5rlige til \u00e5 fastsl\u00e5 hvilken effekt pillene har p\u00e5 dem selv. Flere psykofarmakologiske studier viser at det er svakt samsvar mellom egen opplevd effekt av ulike ting og faktisk, objektiv m\u00e5lt virkning. Styrken til stoffene er alts\u00e5 svakere enn brukerne opplever den selv, sier han.</p>\n",
        "<p class=\"txt\">Bramness synes imidlertid ikke vi skal overdrive de negative effektene av akademisk doping, og sier det ikke er farlig i sm\u00e5 doser.</p>\n",
        "<p class=\"txt\">\u2013 Farlig blir det f\u00f8rst n\u00e5r man kj\u00f8per stoffer uten kvalitetsstempel p\u00e5 nett eller tar for store doser. Vanlige bivirkninger er at man mister matlysten, slutter \u00e5 drikke og sove. Da kan man bli psykotisk og f\u00e5 angstanfall, sier han.</p>\n",
        "<p class=\"txt\">Han mener terskelen for \u00e5 pr\u00f8ve akademisk doping er lavere n\u00e5 enn f\u00f8r fordi det bl\u00e5ser liberale narkotikavinder over hele den vestlige verden.</p>\n",
        "<p class=\"txt\">I dag er reseptbelagte prestasjonsfremmende midler ulovlige \u00e5 bruke med mindre man alts\u00e5 har en resept fra lege. Slik har det ikke alltid v\u00e6rt. Det var f\u00f8rst i fjor at det ble illegalt for privatpersoner \u00e5 kj\u00f8pe, selge og bruke slike stoffer uten legeerkl\u00e6ring. Hovedargumentet bak loven var at staten ville sende et signal til norsk ungdom om at doping ikke er greit.</p>\n",
        "<p class=\"txt\">\u00abLars\u00bb synes ikke n\u00f8dvendigvis akademisk doping er juks. \u2013 For mange er det ikke n\u00f8dvendig \u00e5 ta slik doping, fordi de har en stabil arbeidsflyt. Men mange opplever store prestasjonsvansker, og andre er uheldige og har en d\u00e5rlig periode midt i eksamenstida. Da synes jeg ikke det er juks \u00e5 bruke dop.</p>\n",
        "<p class=\"txt\">Medisinsk fagdirekt\u00f8r ved Statens legemiddelverk, Steinar Madsen, er klar p\u00e5 at han synes akademisk doping er det samme som doping i idretten.</p>\n",
        "<p class=\"txt\">\u2013 Det er ikke alle som er i fysisk stand til \u00e5 t\u00e5le slike stoffer. Konkurranse b\u00f8r alltid v\u00e6re p\u00e5 like vilk\u00e5r, og det er den ikke her, sier Madsen p\u00e5 telefon.</p>\n",
        "<p class=\"txt\">Han mener at poenget med forbudet av slike stoffer er at de ikke skal v\u00e6re tilgjengelig for allmenheten, fordi folk sannsynligvis ikke leser etiketten. Fagdirekt\u00f8ren er likevel usikker p\u00e5 effekten av doping, sier han.</p>\n",
        "<p class=\"txt\">\u2013 Forskningen p\u00e5 omr\u00e5det er litt sprikende. Enkelte studier viser at slike stoffer har en positiv effekt n\u00e5r man bruker det p\u00e5 riktig m\u00e5te, fordi en \u00f8ker arbeidskapasiteten, blir mer v\u00e5ken og slik forbereder seg bedre til eksamen. Annen forskning mener derimot at man gj\u00f8r det d\u00e5rligere fordi en ikke f\u00e5r ford\u00f8yd fagstoffet. Da klarer man ikke \u00e5 se sammenhenger ordentlig.</p>\n",
        "<p class=\"txt\">Madsen viser til stoffenes forskjellige bivirkninger og understreker at det beste for studenters prestasjonsniv\u00e5 er \u00e5 trene, spise sunt og ha et sunt liv.</p>\n",
        "<p class=\"txt\">\u2013 Det er en klar sammenheng mellom det \u00e5 v\u00e6re i god fysisk form og ha evne til \u00e5 konsentrere seg, sier han.</p>\n",
        "<p class=\"txt\">Inne p\u00e5 lesesalen har foten min begynt \u00e5 g\u00e5 inn i l\u00f8psk stamping, som jeg f\u00f8rst legger merke til etter \u00e5 ha f\u00e5tt et irritert \u00abhysj\u00bb i min retning. Muskulaturen i bein, nakke og armer er like spente som den var under min f\u00f8rste eksamen p\u00e5 Universitetet. Hjertet sl\u00e5r som om jeg nettopp har l\u00f8pt f\u00f8rste etappe i Holmenkollstafetten, og fors\u00f8ket p\u00e5 \u00e5 puste dypt inn flere ganger for \u00e5 roe ned er fullstendig bortkastet. Jeg har mistet appetitten, og henda har blitt klamme. Bibliotekarene har sagt ifra om at de er i ferd med \u00e5 stenge, men selv om jeg kan relatere meg til den befriende f\u00f8lelsen de som pakker ned rundt meg, sikkert har, kunne jeg uten store vansker sittet konsentrert og lest i noen timer til. Hodet er i h\u00f8ygir, men kroppen kjennes ut som om den har v\u00e6rt med p\u00e5 triatlon. Den er anspent og stiv, og \u00e5 f\u00e5 sove n\u00e5 virker himmelsk, men umulig. Jeg er glad i jeg ikke skal v\u00e6re i denne tilstanden i flere dager i strekk.</p>\n",
        "<p class=\"txt\">\u2013 En del personer klarer \u00e5 h\u00e5ndtere bruk av prestasjonsfremmende midler over en periode, men det er kun \u00e9n person historisk sett som vi vet at har mestret daglig inntak av dop uten \u00e5 forg\u00e5, og det er Sigmund Freud.</p>\n",
        "<p class=\"txt\">Lars Tanum er f\u00f8rsteamanuensis ved Senter for rus- og avhengighetsforskning. Han er sterkt imot bruken av slike prestasjonsfremmende midler i akademia. Ikke bare fordi dopingen kan f\u00f8re til juks, men fordi man utsetter seg for stor psykisk risiko.</p>\n",
        "<p class=\"txt\">\u2013 Etter en m\u00e5neds forbruk vil mange oppleve at de fungerer d\u00e5rligere og f\u00f8le at de m\u00e5 ha mer for \u00e5 fungere. Vi har ikke data p\u00e5 hvor mange som utvikler en slik form for psykisk avhengighet \u2013 som gj\u00f8r bruken farlig. Da er veien veldig kort for \u00e5 ty til andre midler som er sterkere, og man havner i en sone hvor en er i ferd med \u00e5 utvikle narkomani (avhengig av narkotika, journ.anm.), sier han.</p>\n",
        "<p class=\"txt\">Fordi vi ikke vet hvordan enkeltpersoner er skrudd sammen, b\u00f8r man sette grenser for bruk p\u00e5 av akademisk doping til tre dager, mener Tanum.</p>\n",
        "<p class=\"txt\">\u2013 Klarer man ikke det, s\u00e5 beveger man seg inn i et landskap som er potensielt farlig.</p>"
       ],
       "metadata": {},
       "output_type": "display_data",
       "text": [
        "<IPython.core.display.HTML at 0x7fa66aea4198>"
       ]
      },
      {
       "html": [
        "<p class=\"txt\">Angrep p\u00e5 lik rett til utdanning</p>\n",
        "<p class=\"txt\">Utdanningskvalitet</p>\n",
        "<p class=\"txt\">Revidert statsbudsjett av 14. mai henviser til b\u00e5de den norske og den danske produktivitetskommisjonen. Regjeringen har d\u00e5rlig tid, og varsler angrep p\u00e5 utdanningssystemet lenge f\u00f8r kommisjonen har fullf\u00f8rt sitt arbeid.</p>\n",
        "<p class=\"txt\">Budsjettet henviser til to konkrete forslag fra Danmark:</p>\n",
        "<p class=\"txt\">For det f\u00f8rste skal studenter som velger utdanninger som gir gode sysselsettingsmuligheter og utsikter til h\u00f8y l\u00f8nn, f\u00e5 bedre studiest\u00f8tte enn de som velger annen utdanning. For det andre skal institusjoner for h\u00f8yere utdanning levere utdanning med h\u00f8y studieintensitet og h\u00f8y sysselsetting og l\u00f8nn. I tillegg har den danske kommisjonen foresl\u00e5tt \u00e5 innf\u00f8re skolepenger, at f\u00e6rre skal f\u00e5 mulighet til \u00e5 ta mastergrad, at s\u00f8kere skal f\u00e5 velge utdanning p\u00e5 basis av offentliggjorte rapporter om studiets progresjon, yrkesmuligheter og l\u00f8nn etter endt utdanning, og \u00e5 redusere antall studietilbud dersom blant annet arbeidsutsiktene er d\u00e5rlige.</p>\n",
        "<p class=\"txt\">Lederen av den norske kommisjonen, J\u00f8rn Ratts\u00f8, uttaler at et av sp\u00f8rsm\u00e5lene de stiller seg, er om studenter gj\u00f8r riktige valg n\u00e5r de tar utdanning. Mener virkelig Ratts\u00f8 at l\u00f8nnsniv\u00e5et etter endt utdanning er en god m\u00e5lestokk for utdanningskvalitet?</p>\n",
        "<p class=\"txt\">\u00c5 velge riktig studium er vanskelig for de fleste, og mange tenker sikkert ogs\u00e5 p\u00e5 hvordan l\u00f8nna vil kunne bli. Men dette b\u00f8r ikke v\u00e6re avgj\u00f8rende. Valget handler i stor grad om \u00e5 finne en utdanning som svarer til studentenes interesser og talent. Faglig motivasjon er avgj\u00f8rende for at de skal klare \u00e5 fullf\u00f8re studiene, samt finne et yrke de kan trives i og v\u00e6re \u00abproduktive\u00bb i, gjennom et langt livsl\u00f8p. Studievalg ut fra sysselsettingsstatistikker og l\u00f8nnsniv\u00e5 er en h\u00f8yst usikker gambling med de unges fremtid.</p>\n",
        "<p class=\"txt\">Norsk tjenestemannslag (NTL) ved UiO frykter at svarene til den norske kommisjonen allerede er gitt. Regjeringsplattformen viser at m\u00e5l nummer \u00e9n er nedbygging av offentlig sektor, som h\u00f8yere utdanning er en del av, slik at investeringene i det private n\u00e6ringslivet kan \u00f8ke. De har ogs\u00e5 valgt \u00e5 inkludere lederen av den danske kommisjonen i den norske.</p>\n",
        "<p class=\"txt\">NTL er en del av LO, og vi har alltid jobbet for \u00e5 sikre lik rett til utdanning. Dette skal bidra til \u00e5 utjevne sosiale forskjeller og sikre et h\u00f8yt kompetanseniv\u00e5. Og denne strategien har fungert godt. Norges arbeidstakere er h\u00f8yt utdannede, og vi ligger i verdenstoppen i produktivitet.</p>\n",
        "<p class=\"txt\">Vi vil ikke at utdanning kun skal vurderes i et produktivitetsperspektiv, og vi er motstandere av tiltak som \u00f8ker forskjellene mellom landets innbyggere. Finansministerens varslede tiltak vil sannsynligvis m\u00f8te stor motstand, og n\u00e5r svarene er forh\u00e5ndsgitte, er det ingen grunn til \u00e5 vente.</p>"
       ],
       "metadata": {},
       "output_type": "display_data",
       "text": [
        "<IPython.core.display.HTML at 0x7fa66aea4198>"
       ]
      },
      {
       "html": [
        "<p class=\"txt\">Kronikk</p>\n",
        "<p class=\"txt\">Jeg pratet lenge varmt om det \u00e5 f\u00e5 barn mens man studerer. Om all friheten. Jeg kunne v\u00e6re hjemme med barnet s\u00e5 lenge jeg \u00f8nsket, jeg hadde ingen som ville tvinge meg tilbake p\u00e5 arbeidsplassen etter et \u00e5r. N\u00e5r barnet en gang kom til \u00e5 begynne i barnehagen, kunne jeg hente tidlig, og heller bruke kveldene og helgene p\u00e5 \u00e5 studere. Men s\u00e5nn ble det ikke. I barnehagen florerer nemlig virusene, og lange perioder har blitt tilbragt hjemme. Alt det obligatoriske som er innbakt i studieprogrammet, gj\u00f8r at jeg har brukt de f\u00e5 timene jeg har til r\u00e5dighet til \u00e5 skaffe gyldig dokumentasjon for frav\u00e6r, og til \u00e5 f\u00e5 p\u00e5 plass spesialopplegg i de ulike fagene. Kvalitetsreformen, som tidligere var en helt naturlig del av studiehverdagen, gj\u00f8r det n\u00e5 umulig \u00e5 kombinere mammarollen med livet som fulltidsstudent.</p>\n",
        "<p class=\"mt\">Kvalitetsreformen har mislyktes</p>\n",
        "<p class=\"txt\">Kvalitetsreformen var en omfattende endring av h\u00f8yere utdanning som ble innf\u00f8rt ved norske universiteter og h\u00f8yskoler i 2003. Flere skulle bli fulltidsstudenter og fullf\u00f8re studiel\u00f8pet p\u00e5 normert tid. Ny gradsstruktur ble innf\u00f8rt, noe som forkortet studiel\u00f8pet med ett \u00e5r. Dette skulle kompenseres med lengre semestre, h\u00f8yere intensitet og en tettere oppf\u00f8lging av studentene. Eksamenene i slutten av semesteret ble supplert med innleveringsoppgaver og obligatoriske oppm\u00f8ter.</p>\n",
        "<p class=\"txt\">Som barnl\u00f8s, med ubegrenset tid, fungerte reformen. Man fikk oppskriften p\u00e5 hvordan man skulle oppn\u00e5 en god karakter, og ble steg for steg tvunget dit. Men etter at jeg ble mor, virket systemet med ett veldig rigid og lite fleksibelt. I f\u00f8lge Norsk studentorganisasjon (NSO) har hele en av fem studenter barn. For mange av disse er nettopp fleksibilitet p\u00e5 arbeidsplassen en n\u00f8kkelfaktor for \u00e5 f\u00e5 hverdagen til \u00e5 g\u00e5 rundt.</p>\n",
        "<p class=\"txt\">I 2006 kom sluttevaluering av Kvalitetsreformen, utarbeidet av Rokkansenteret og NIFU STEP. Evalueringen viser at kvalitetsreformen verken har bidratt til flittigere studenter eller tettere b\u00e5nd mellom studenter og studiested. Dessuten har studentene blitt mindre selvstendige og f\u00e5tt svekket evnen til kritisk lesning. Verken studenter med barn eller studenter med behov for tilrettelegging ser jeg nevnt spesielt i rapporten.</p>\n",
        "<p class=\"mt\">Er i en usynlig gruppe</p>\n",
        "<p class=\"txt\">Et google-s\u00f8k viser at studenter med ansvar for barn er en tiln\u00e6rmet usynlig gruppe. Nesten ingenting finnes av dokumenter p\u00e5 norsk. Kun Levek\u00e5rsunders\u00f8kelsen og L\u00e5nekassen har litt informasjon.</p>\n",
        "<p class=\"txt\">Unders\u00f8kelser jeg har deltatt i, som studentenes helse- og trivselsunders\u00f8kelse for studentsamskipnaden i Oslo (SIO), utf\u00f8rt av TNS gallup, har i liten grad fokus p\u00e5 den gruppen av studenter jeg tilh\u00f8rer. F\u00e5 sp\u00f8rsm\u00e5l gikk p\u00e5 hvordan det obligatoriske i studiehverdagen oppleves. Ingen lurte p\u00e5 hvordan det er \u00e5 studere og ha barn, om tidsklemma, stresset og f\u00f8lelsen av \u00e5 v\u00e6re til bry n\u00e5r man m\u00e5 mase om spesialopplegg.</p>\n",
        "<p class=\"mt\">Inntektsgivende arbeid prioriteres</p>\n",
        "<p class=\"txt\">Man kan argumentere for at mange kvinner i dag klarer kombinasjonen jobb og familie utmerket. Superkvinnene. De som har b\u00e5de tre og fire barn og jobber ti timer om dager. De som roper h\u00f8yt at alle kan klare en vanlig arbeidsdag, men som gjerne har b\u00e5de au pair og besteforeldre som kan ta i et tak n\u00e5r det trengs. Eller en mann med fleksibel arbeidstid. Problemet med studenter er at de ikke har noe inntektsgivende arbeid. St\u00f8tten fra L\u00e5nekassen f\u00e5r man tross alt utbetalt uansett om man best\u00e5r et fag eller ikke. Den eneste konsekvensen er at litt av stipendet blir omgjort til l\u00e5n. Derfor blir det ofte de som studerer, som m\u00e5 vike plass n\u00e5r det kniper i hjemmet. Dette kan fort bli en uvane. At det \u00e5 studere ikke blir rangert like h\u00f8yt som det \u00e5 jobbe. Dessuten har mange av de som f\u00e5r barn tidlig, fremdeles yrkesaktive foreldre som har nok med sitt, samtidig som en au pair er helt urealistisk sett ut i fra den \u00f8konomiske situasjonen.</p>\n",
        "<p class=\"mt\">M\u00e5 g\u00e5 igjennom reformen</p>\n",
        "<p class=\"txt\">N\u00e5 er det p\u00e5 tide at Kunnskapsdepartementet tar tak og ser igjennom reformen p\u00e5 nytt. Samfunnsdebatten er til tider dominert av en kollektiv bekymring for den h\u00f8ye gjennomsnittsalderen for f\u00f8rstegangsf\u00f8dende. Kvinner blir gravide for sent, noe som kan f\u00f8re til st\u00f8rre helsemessige utfordringer b\u00e5de for mor og barn. Dessuten f\u00e5r kvinner for f\u00e5 barn til at vi i fremtiden kan opprettholde velferdsstaten slik vi kjenner den i dag. Hadde jeg kunnet velge om igjen, ville jeg ogs\u00e5 ventet med barn.</p>\n",
        "<p class=\"txt\">For skal flere v\u00e5ge \u00e5 kaste seg ut i mammatilv\u00e6relsen f\u00f8r de er 30, m\u00e5 kvalitetsreformen mykes opp. Studieopplegget m\u00e5 bli bedre tilpasset mennesker med behov for fleksibilitet. Det holder ikke med mulighet for familieboliger og barnehageplasser. Det m\u00e5 skapes plass og ogs\u00e5 tilrettelegges for de som har andre \u00e5 ta hensyn til enn bare seg selv. Det b\u00f8r i alle fall v\u00e6re et minstekrav at vi finnes i statistikken, og da ikke bare kvantitativt. Jeg f\u00f8ler jeg har mye og gi, og mange gode tanker og ideer, men er lei av \u00e5 m\u00f8te krav jeg ikke kan oppfylle. Jeg er blitt deltidsstudent mot min vilje. Semester etter semester. Kvalitetsreformen fremmer den unge fulltidsstudenten men ekskluderer mangfoldet. Dette er et stort tap for samfunnet.</p>"
       ],
       "metadata": {},
       "output_type": "display_data",
       "text": [
        "<IPython.core.display.HTML at 0x7fa66aea4198>"
       ]
      },
      {
       "html": [
        "<p class=\"txt\">Den 25. mai er for de aller fleste nordmenn en helt vanlig dag. Men for EUs innbyggere er dagen ogs\u00e5 den siste valgdagen til Europaparlamentet (EP) \u2013 en dag som i stor grad avgj\u00f8r den politiske retningen Europa kommer til \u00e5 bevege seg mot. For Norge betyr dette valget at vi nok en gang kommer til \u00e5 f\u00f8lge resten av Europa, v\u00e5r viktigste handelspartner, uten \u00e5 bli h\u00f8rt eller \u00e5 ha mulighet til \u00e5 p\u00e5virke p\u00e5 lik linje med EUs medlemmer.</p>\n",
        "<p class=\"txt\">Samtidig velger Universitetet i Oslo (UiO) \u00e5 legge ned Europastudier, og skrenker dermed inn spisskompetansen p\u00e5 omr\u00e5det. Sammen f\u00f8rer dette til en ytterligere nedsatt grunnleggende forst\u00e5else av Europa og EU i den norske befolkningen. EU er ikke perfekt, langt i fra, men vi b\u00f8r ta del i \u00e5 utforme et EU som ivaretar norske interesser i langt st\u00f8rre grad. Et norsk medlemskap blir viktigere for hvert \u00e5r som g\u00e5r, EU integrerer p\u00e5 stadig flere omr\u00e5der \u2013 og da b\u00f8r Norge v\u00e6re med \u00e5 avgj\u00f8re hvilken form dette EU skal ha. Da trengs ogs\u00e5 kunnskapen om EU og Europa i aller h\u00f8yeste grad.</p>\n",
        "<p class=\"txt\">\u00c5rets EP-valg vil utligne maktbalansen mellom parlamentet og ministerr\u00e5det. Tidligere har EU (og det riktig) v\u00e6rt kritisert for altfor lite innflytelse fra borgernes side. Det representative demokratiet har ikke v\u00e6rt sterkt nok og EP har blitt betegnet som en slags demokratisk blidgj\u00f8relse uten reell makt. I \u00e5r, p\u00e5 bakgrunn av Lisboa-traktaten fra 2009 vil dette endre seg. For f\u00f8rste gang vil blant annet presidenten i Kommisjonen bli valgt p\u00e5 bakgrunn av resultatene i \u00e5rets valg og EP vil bli tilskrevet en rekke nye kompetanseomr\u00e5der. Dette illustrerer hvordan man innad i EU alltid jobber for \u00e5 styrke det representative demokratiet.</p>\n",
        "<p class=\"txt\">I kontrast til dette betegnes v\u00e5rt samarbeid innenfor E\u00d8S-rammene som et demokratisk underskudd og et suverenitetsproblem. Det er en rekke programmer og felt som vi m\u00e5 forholde oss til, men som vi samtidig har sv\u00e6rt liten mulighet til \u00e5 p\u00e5virke. P\u00e5 en annen side er det ikke til \u00e5 komme foruten at vi sier fra oss suverenitet ved et mulig medlemskap i EU, men dette kontres ved \u00e5 kunne p\u00e5virke fra innsiden. Muligheten til \u00e5 p\u00e5virke g\u00e5r begge veier \u2013 uansett hvilket syn man m\u00e5tte ha p\u00e5 EU, s\u00e5 b\u00f8r det representeres p\u00e5 europeisk niv\u00e5 slik at Norge blir med \u00e5 bygge det Europa vi \u00f8nsker \u00e5 v\u00e6re en del av i fremtiden. Derfor burde vi ogs\u00e5 ha mulighet til \u00e5 ta del i EP-valget.</p>"
       ],
       "metadata": {},
       "output_type": "display_data",
       "text": [
        "<IPython.core.display.HTML at 0x7fa66aea4198>"
       ]
      },
      {
       "html": [
        "<p class=\"txt\">Ukas advarsel</p>\n",
        "<p class=\"txt\">I mange m\u00e5neder har du sett fram til de deilige, rolige sommerkveldene. Og jammen er de ikke rett rundt hj\u00f8rnet. Endelig skal du skravle med venner over ei flaske vin og spise kveldsmat i parken med kj\u00e6resten. Champions League er over og tippeligaen tar ferie. \u00c5h, som du elsker sommeren. NEI, HVA ER DET DU DRIVER MED? SKYT! YESS! Idyllen er brutt. Typen din melder flytting til bestekompisen og den idrettsfrelste venninna di benker seg foran tv-en. Det er starten p\u00e5 en m\u00e5ned fylt med glede, sinne, rop, entusiasme og t\u00e5rer. Du er herved advart. L\u00e6r deg \u00e5 like det, eller r\u00f8m til fjells.</p>"
       ],
       "metadata": {},
       "output_type": "display_data",
       "text": [
        "<IPython.core.display.HTML at 0x7fa66aea4198>"
       ]
      },
      {
       "html": [
        "<p class=\"spm\">\u2013 P\u00e5 bloggen din bruker du mye plass p\u00e5 \u00e5 forsvare troen p\u00e5 Gud, men ogs\u00e5 p\u00e5 \u00e5 angripe moderne religionskritikk. Hva er problemet?</p>\n",
        "<p class=\"spm\">\u2013 Min egen karriere i filosofi og trosforsvar ble p\u00e5 mange m\u00e5ter utl\u00f8st av m\u00f8tet med nyateismen. Som gudskritisk bevegelse er den en banal og anti-intellektuell katastrofe. Til tider er det skremmende hvor blind lojaliteten er til et rammeverk der fysisk materie er alt som eksisterer. Richard Dawkins er en r\u00e5 biolog, og jeg leser The Blind Watchmaker n\u00e5r som helst. Men n\u00e5r han skal over til filosofi, som han ikke kan noe om, ser det stygt ut. Sp\u00f8r du meg om landbrukspolitikk i Vietnam, svarer jeg at jeg mangler forarbeidet til \u00e5 uttale meg.</p>\n",
        "<p class=\"spm\">\u2013 I <I>The God Delusion</I> (2006) svarer Dawkins p\u00e5 det der. Han mener man ikke kan p\u00e5legges \u00e5 lese seg opp p\u00e5 \u00abpastafarisk teologi\u00bb for \u00e5 diskutere om det finnes et flyvende spaghettimonster i himmelen. Poenget er at det m\u00e5 v\u00e6re mulig \u00e5 motsi Guds eksistens uten \u00e5 fordype seg i teologi.</p>\n",
        "<p class=\"spm\">\u2013 Det argumentet viser hvor mye Dawkins skriker etter kunnskap. Han trenger ikke lese teologi, han kunne tatt turen til en filosofikollega. N\u00e5r teister snakker om Gud, er det ikke en hypotese med en rekke tilfeldige egenskaper, der du kan ende med et flyvende spaghettimonster som lukter s\u00e5nn og s\u00e5nn. Vi snakker om Gud som den ultimate virkeligheten, selve Eksistensen, der v\u00e5r verden ikke kan eksistere uavhengig av ham. Troen er ikke en avvisning av fornuften, men mer et fokus p\u00e5 det fornuften har kommet fram til f\u00f8rst. Det ligger selvsagt tusenvis av sider bak disse argumentene.</p>\n",
        "<p class=\"spm\">\u2013 Det h\u00f8res ut som en ganske annen gudsforst\u00e5else enn den \u00abnyateistene\u00bb retter skytset sitt mot.</p>\n",
        "<p class=\"spm\">\u2013 Absolutt. B\u00e5de kirken og ulike religioner har v\u00e6rt for d\u00e5rlige til \u00e5 undervise i hva det egentlig er vi prater om, og kan ta selvkritikk for at det er kristne, j\u00f8der og muslimer som g\u00e5r og tenker at Gud er en s\u00e5 banal st\u00f8rrelse som den nyateistene angriper. Men samtidig skriver Dawkins en bok der han kritiserer Thomas Aquinas' gudsbeviser, som er blant de mest anerkjente som finnes. S\u00e5 han har p\u00e5 ingen m\u00e5te begrenset seg til \u00e5 ta bonden i Texas som tror Gud er en mann med skjegg som gir gode avlinger om han ber riktig.</p>\n",
        "<p class=\"spm\">\u2013 Du henter synet og argumentene dine fra den klassiske filosofiske tradisjonen. Hva er det, og hva kan det tilby oss?</p>\n",
        "<p class=\"spm\">\u2013 Det er en kunnskapstradisjon som g\u00e5r fra filosofene f\u00f8r Sokrates, via Platon og Aristoteles, og som er videreutviklet i tusen\u00e5rene siden. Den kombinerer verdenshistoriens mest intelligente tenkere, og er like relevant i dag som for 2500 \u00e5r siden \u2013 i dialog med fronten av naturvitenskap og moderne analytisk filosofi.</p>\n",
        "<p class=\"spm\">\u2013 I mars var du paneldeltaker i \u00abGrill en kristen\u00bb, arrangert av Oslo Kristelige Studentlag. Gudsangrep og -forsvar har p\u00e5g\u00e5tt i hundrevis av \u00e5r, tilsynelatende uten at man kommer til enighet. Hva er poenget med \u00e5 fors\u00f8ke \u00e5 overbevise andre s\u00e5 mye?</p>\n",
        "<p class=\"spm\">\u2013 Min oppriktige, nestekj\u00e6rlige intensjon er at alle skal \u00abfinne Gud\u00bb, om jeg s\u00e5 skulle ta feil. Jeg tror sannhet eksisterer, og jeg tror den har en iboende verdi. Dessuten f\u00e5r synene v\u00e5re konsekvenser. Uten Gud blir man tvunget inn i en annen virkelighetsforst\u00e5else, der det ikke lenger er noe \u00e5penbart overskridende \u00e5 feste mening og hensikter i.</p>\n",
        "<p class=\"spm\">\u2013 En \u00abnyateist\u00bb som filosofen Sam Harris finner jo et grunnlag for det gode i hva som f\u00f8rer til mest nytelse og minst smerte for individer?</p>\n",
        "<p class=\"spm\">\u2013 Ja, men da m\u00e5 du igjen definere hva nytelse er, og hvilken forbindelse det har til det gode. Er det mest mulig adrenalin i kroppen? Er det en f\u00f8lelse?</p>\n",
        "<p class=\"spm\">\u2013 Gjennom historien er det beg\u00e5tt enorme mengder urett legitimert gjennom et religi\u00f8st verdensbilde. Er det ikke god grunn til \u00e5 v\u00e6re bekymret for hva religion kan f\u00f8re til?</p>\n",
        "<p class=\"spm\">\u2013 Selvsagt har det blitt beg\u00e5tt grusomme ting i kirkens og kristendommens navn. Samtidig begynte det \u00e5 se spesielt stygt ut da kirken ble satt under sekul\u00e6r makt \u2013 under kongekronen. Religionskrigene ble i stor grad f\u00f8rt for nasjonsbyggingens del. Uansett m\u00e5 vi huske at religion ikke en ting, det eksisterer ikke i den forstand. Mennesker har ulike virkelighets- og trosoppfatninger, og de kan brukes til det onde og til det gode. N\u00e5r Christopher Hitchens snakker om religion definerer han det aldri, han bruker det som en samlebetegnelse p\u00e5 alt han hater.</p>\n",
        "<p class=\"spm\">\u2013 Dawkins, Harris og Hitchens peker ogs\u00e5 p\u00e5 urett i dag, som \u00e5 bli d\u00f8mt til d\u00f8den for konvertering fra islam, eller at kristne fundamentalister ivrer etter atomkrig fordi det vil fullbyrde profetier i Johannes \u00e5penbaring.</p>\n",
        "<p class=\"spm\">\u2013 Dette er selvsagt grusomt, og jeg vil v\u00e6re den st\u00f8rste kritikeren av alle. Men kanskje f\u00e5r jeg som er p\u00e5 innsiden litt mer jeg skulle ha sagt. Ingen vil h\u00f8re p\u00e5 Dawkins, fordi de ikke respekterer ham fra f\u00f8r. Derfor trenger vi mer nyansert dialog, og ikke disse enfoldige angrepene.</p>\n",
        "<p class=\"spm\">\u2013 Vi har nylig hatt debatter b\u00e5de om reservasjonsrett og homofilt ekteskap, der de konservative synene er religi\u00f8st begrunnet. Dagsavisens Hege Ulstein skrev en krass kommentar der hun var bekymret for religionens samfunnsp\u00e5virkning. Forst\u00e5r du noen av bekymringene?</p>\n",
        "<p class=\"spm\">\u2013 Ja, jeg forst\u00e5r dem, men det er lov \u00e5 sette seg inn i motstanderens perspektiv i stedet for \u00e5 tenke at en selv har en n\u00f8ytral utgangsposisjon. Alle argumenterer ut fra en virkelighetsforst\u00e5else, og da vil noen standpunkter f\u00f8lge av denne. Ulstein kan selvsagt synes at grunnsynet er uforsvarlig \u2013 da er vi i gang med en konstruktiv diskusjon. Men hun kan ikke si at det er \u00abreligi\u00f8s logikk\u00bb og derfor feil.</p>\n",
        "<p class=\"spm\">\u2013 Beklager fordommen, men du er antakelig en av f\u00e5 \u00f8konomistudenter ved BI som bruker fritiden p\u00e5 gudsbevis i klassisk filosofi?</p>\n",
        "<p class=\"spm\">\u2013 Hva? Jeg trodde alle p\u00e5 BI var hypa p\u00e5 klassisk filosofi. Nei, det er en merkelig kombinasjon. Men jeg synes det abstrakte ved filosofi og det praktiske ved gr\u00fcnderskap g\u00e5r perfekt sammen. P\u00e5 et vis er vi jo alle filosofer \u2013 det handler om \u00e5 finne det rasjonelle grunnlaget for at man opplever og handler som man gj\u00f8r. Som gr\u00fcnder og sivil\u00f8konom h\u00e5per jeg p\u00e5 en framtid der gudsdebatter ikke tar opp all tiden min, men jeg ble p\u00e5 et vis \u00abprovosert\u00bb inn i dette.</p>"
       ],
       "metadata": {},
       "output_type": "display_data",
       "text": [
        "<IPython.core.display.HTML at 0x7fa66aea4198>"
       ]
      },
      {
       "html": [
        "<p class=\"txt\">Noen episoder fra ungdomsskolen har brent seg fast i minnet, gudene vet hvorfor. I en av dem er KRL-timen nettopp ferdig, og jeg er p\u00e5 vei opp til kateteret, i min ungdoms selvtilfredshet, til den h\u00f8yreiste l\u00e6reren med tykke, hvite \u00f8yenbryn og mild stemme, for \u00e5 fortelle ham hvorfor troen hans p\u00e5 Gud er feilsl\u00e5tt og irrasjonell.</p>\n",
        "<p class=\"txt\">Mitt livssyn har forandret seg lite siden den gang. Likevel f\u00e5r jeg en flau smak i munnen av \u00e5 tenke p\u00e5 episoden: Det arrogante i \u00e5 skulle veilede min l\u00e6rer til en riktigere sti her i livet, i \u00e5 besvare en slik problemstilling p\u00e5 noen minutter - ved hjelp av filosofi fra skoleg\u00e5rden.</p>\n",
        "<p class=\"txt\">Hva er det med trangen til \u00e5 skulle overbevise?</p>\n",
        "<p class=\"txt\">I 1976 m\u00f8ttes den ateistiske filosofen Anthony Flew og teologen Thomas Warren til debatt i Texas, USA. Over fire kvelder, foran tusenvis av tilskuere, skulle de kun diskutere ett sp\u00f8rsm\u00e5l: Finnes Gud, eller finnes han ikke?</p>\n",
        "<p class=\"txt\">Retorisk sett ble den forsiktige og stotrende Flew overkj\u00f8rt av sin rakryggede, advokat-aktige motstander, som konfronterte Flew med den ene forberedte plansjen etter den andre. P\u00e5 sine eldre dager ga Flew ut boken <I>There is a God</I>, tilsynelatende konvertert. Troende ser p\u00e5 det som en seier; en mann som ble ledet den rette vei. Ikke-troende har hevdet at boken ble skrevet for ham, uten at den gamle og demente Flew forstod hva han satte navnet sitt p\u00e5. De henviser til andre religionsdebatter i stedet.</p>\n",
        "<p class=\"txt\">Lar vi oss egentlig rikke i v\u00e5re overbevisninger? Med den s\u00e5kalte \u00abnyateismen\u00bb som ble tydelig etter \u00e5rtusenskiftet, virker frontene steilere enn noen gang. En ateisme uten silkehansker, harmdirrende i religionskritikken, hyllende av vitenskapen og fornuften, b\u00e5ret frem av personer som Richard Dawkins, Sam Harris og Christopher Hitchens. Hellig overbevist, og med \u00f8nske om \u00e5 p\u00e5virke. Sam Harris, utdannet i filosofi og nevrovitenskap, har skrevet at noen forestillinger er s\u00e5 gale og urokkelige at det kan v\u00e6re etisk forsvarlig \u00e5 drepe folk som har dem. For \u00e5 forhindre katastrofale handlinger.</p>\n",
        "<p class=\"txt\">Det er noe sirkul\u00e6rt over v\u00e5re trosdebatter. Da Oslo Kristelige Studentlag arrangerte \u00abGrill en kristen\u00bb under Skepsis-uka p\u00e5 Blindern i mars, var det f\u00f8rste sp\u00f8rsm\u00e5let til panelet en god illustrasjon: Hvis Gud er allmektig, kan han skape en stein som er s\u00e5 tung at han selv ikke kan l\u00f8fte den? Paradokset ble diskutert av filosofen Thomas Aquinas allerede p\u00e5 1200-tallet. Vi blir tilsynelatende ikke ferdige med det.</p>\n",
        "<p class=\"txt\">Allikevel er debattene viktige. Mye fordi de involverer en rekke <I>andre</I> viktige sp\u00f8rsm\u00e5l: Om hva vi legger til grunn for v\u00e5r forst\u00e5else av virkeligheten, hvordan vi m\u00f8ter andres perspektiver og hvor vi er p\u00e5 vei. Dette er sp\u00f8rsm\u00e5l som har blitt aktualisert av \u00abnyateismens\u00bb kritikk, og av de som har tatt til motm\u00e6le.</p>\n",
        "<p class=\"txt\">Et av disse sp\u00f8rsm\u00e5lene er hva vi mener med <I>tro</I>. G\u00e5r det en klar grense mellom tro og harde fakta? Selv om det er utallige veier til gudstro, virker jo denne troen vesenforskjellig fra kunnskap som er basert p\u00e5 systematisk og streng empirisk dokumentasjon. Men mange troende synes ikke det empiriske skattkammeret svarer tilfredsstillende p\u00e5 sp\u00f8rsm\u00e5l som hvordan vi finner <I>det gode</I>, eller hva som gj\u00f8r oss til tenkende, helhetlige mennesker. Teolog Michael Green sa det slik under \u00abSkepsis-uka\u00bb: Du finner ikke altruisme i en haug med molekyler. Nuvel. Det er i hvert fall kinkig \u00e5 forklare hvordan det oppst\u00e5r.</p>\n",
        "<p class=\"txt\">I <I>The God Delusion</I> skriver Dawkins at jo h\u00f8yere en persons intelligens er, desto mindre sannsynlig er det at hun er religi\u00f8s eller har tro av noen type. Men uten tro p\u00e5 noe som helst, hva er det som driver et engasjement for demokrati og menneskerettigheter? Man kan lure p\u00e5 hvordan menneskeverdet ser ut i mikroskopet. For \u00e5 sp\u00f8rre som litteraturviter Terry Eagleton: Hvis \u00abnyateistene\u00bb ikke har et uforanderlig trossystem selv, betyr de at de er villige til \u00e5 gi slipp p\u00e5 individets frihet, eller p\u00e5 avsmaken mot selvmordsbombere?</p>\n",
        "<p class=\"txt\">Og hvorfor skal akkurat fornuften f\u00e5 f\u00f8rsterett? Det er vanskelig \u00e5 besvare uten hjelp fra noe annet enn fornuften selv.</p>\n",
        "<p class=\"txt\">I dag tar vi et klart skille mellom tanker og f\u00f8lelser for gitt. Mellom det rasjonelle og ikke-rasjonelle. Feministen og forfatteren Susan Sontag s\u00e5 skillet som konstruert: Tanker og f\u00f8lelser er former av hverandre. Vi tenker mer med de instrumentene kulturen v\u00e5r gir oss, enn med v\u00e5re isolerte hjerner.</p>\n",
        "<p class=\"txt\">Det er selvsagt mulig \u00e5 v\u00e6re uenig med Sontag, men det virker vanskelig \u00e5 komme utenom de kulturelle sidene ved v\u00e5r forst\u00e5else av virkeligheten. Et rent \u00abvitenskapelig\u00bb verdensbilde er derfor ikke en verdin\u00f8ytral avvisning av alt annet \u2013 det involverer identitet, kultur og f\u00f8lelser, det ogs\u00e5. Blar man opp i et tidsskrift som amerikanske <I>The Skeptical Inquirer</I>, er det lett \u00e5 se: Her snakkes det om \u00e5 \u00abtake action\u00bb, om \u00abaktivisme\u00bb, om \u00e5 promotere \u00abvitenskap, fornuft og sekul\u00e6re verdier\u00bb (er disse verdiene utledet vitenskapelig?). Her skal det sies at mye ved kristendommens rolle i USA i dag gj\u00f8r en viss mobilisering forst\u00e5elig.</p>\n",
        "<p class=\"txt\">I april skrev Universitas om presteutdanningen ved UiO, som har slitt med rekrutteringen de siste \u00e5rene. Lars Gule, tidligere generalsekret\u00e6r i Human-Etisk Forbund, er forn\u00f8yd: Han foreslo i 2010 \u00e5 legge ned hele Teologisk fakultet, fordi jobben til et universitet i det 21. \u00e5rhundre er \u00e5 \u00abutdanne folk p\u00e5 bakgrunn av faktiske og rasjonelle kunnskaper\u00bb.</p>\n",
        "<p class=\"txt\">Er det et ufravikelig kriterium for fagene som skal tilbys ved universitetet, at de kretser om bevisbar sannhet? Hva med litteraturvitenskapen? Der har vi ogs\u00e5 en teoretisk tradisjon bygget rundt historier om noe som egentlig ikke finnes. Er det en verdi i seg selv i \u00e5 utdanne folk til en tradisjon som er viktig for mange mennesker?</p>\n",
        "<p class=\"txt\">Den moderne ateismen er tett beslektet med opplysningstidens idealer, inkludert et bilde av v\u00e5r sivilisasjon i en slags kontinuerlig bevegelse framover. Her byttes myte ut med kunnskap, med vitenskapen som drivende motor. Her st\u00e5r det kvantifiserbare og h\u00e5ndfaste st\u00f8dig plantet i sentrum.</p>\n",
        "<p class=\"txt\">Dette har bidratt til mange av de viktigste teknologiske nyvinningene gjennom historien. Det preger v\u00e5r hverdag \u2013 hver dag. Den vitenskapelige metode er konsistent, n\u00f8yaktig og effektiv. Den gir oss en betydelig grad av forutsigbarhet. Opplysningstiden har ogs\u00e5 avlet den moderne liberalismen, og dermed en rekke friheter vi b\u00f8r prise oss lykkelige for. Men opplysningsidealet viser seg ogs\u00e5 ved \u00e5 kaste et kj\u00f8lig, moderne sl\u00f8r over de mindre \u00abrasjonelle\u00bb sidene av menneskenaturen.</p>\n",
        "<p class=\"txt\">Eksempler p\u00e5 at slike idealer st\u00e5r sterkt, dukker opp hele tiden. Da \u00abgenerasjon lydig\u00bb-debatten gikk i Aftenposten i h\u00f8st, skrev Aksel Braanen Sterri en kronikk ved navn \u00abVelkommen til opplysningstiden\u00bb (en merkverdig forsinket velkomst). Sterri var uenig i at dagens unge generasjon \u2013 \u00abden hyperrasjonelle fornuftsgenerasjonen p\u00e5 full fart framover\u00bb \u2013 mangler intellektuell nytenkning og et kollektivt politisk prosjekt. Det er troen p\u00e5 vitenskapen og datamengdene v\u00e5re som skal \u00abredde v\u00e5rt samfunn og v\u00e5r klode\u00bb, mens \u00abmarginale milj\u00f8er i Holbergprisens jury og de teologiske fakulteter\u00bb st\u00e5r p\u00e5 sidelinjen.</p>\n",
        "<p class=\"txt\">Det er \u00e5penbart et behov for \u00e5 redde samfunn og klode, og vitenskapen er her en helt essensiell brikke. Men bildet blir at problemene l\u00f8ser seg bare vi f\u00e5r tak i <I>nok data</I> og skyver det \u00abovertroiske\u00bb lengst mulig bort. Glemt blir de etiske sidene av slike problemer, hvordan de er festet i dypere samfunnsstr\u00f8mninger. For eksempel i de <I>kaldere</I> sidene av den moderne liberale tradisjonen: Et moralsystem preget av \u00f8kende individualisering og oppl\u00f8sing av solidaritet, med en tynn og kontraktaktig forst\u00e5else av frihet og demokrati.</p>\n",
        "<p class=\"txt\">Religi\u00f8s tro trenger selvsagt ikke medf\u00f8re overlegen etisk bevissthet. Forfatter Zadie Smith pekte nylig p\u00e5 en ekstremversjon av dette i Morgenbladet: Visse kristne har funnet et smutthull i Skapelsen for \u00e5 slippe \u00e5 tenke milj\u00f8vennlig. Fordi Gud plasserte oss over dyr og planter og hav, \u00abkan vi med ren samvittighet la alle de tingene dra til helvete\u00bb.</p>\n",
        "<p class=\"txt\">Dawkins sammenlikner menneskets blikk p\u00e5 verden med den lille glippen i en stor, sort burka. Vitenskapen \u00e5pner opp glippen og sender oss ut i friheten. Men det er ingen selvf\u00f8lge at vi blir <I>utelukkende</I> friere av \u00e5 riste vekk all overtro og alle myter. Den kollektive avskjeden av Gud som eksternt referansepunkt har etterlatt et tomrom. Vi fors\u00f8ker \u00e5 fylle det med individet selv, noe som viser seg vanskelig. Kanskje er dagens gl\u00f8dende nasjonalisme i Europa et annet fors\u00f8k p\u00e5 det samme. Eller, for den saks skyld, det n\u00e6rmest ideologiske engasjementet for det kvantifiserbare, h\u00e5ndfaste og sikre.</p>\n",
        "<p class=\"txt\">Jeg husker ikke hva l\u00e6reren min svarte meg den gangen i klasserommet. Kanskje var jeg ikke interessert i \u00e5 h\u00f8re, kanskje var argumentene hans d\u00e5rlige. Men det var neppe s\u00e5 enkelt at bare jeg hadde klart \u00e5 v\u00e6re rasjonell.</p>"
       ],
       "metadata": {},
       "output_type": "display_data",
       "text": [
        "<IPython.core.display.HTML at 0x7fa66aea4198>"
       ]
      },
      {
       "html": [
        "<p class=\"txt\">GHETTO: Etter 1980 er det Osloborgerne med mest kulturell kapital som har klumpet seg sammen, slik at hovedstaden har blitt enda mer segregert. Dette viser studien til J\u00f8rn Ljunggren og Patrick Lie Andersen, fra henholdsvis UiO og forskningsinstituttet NOVA. De har gjort analyser av inntekts- og bosettingsm\u00f8nsteret til Oslo-ungdommer i 1980, og i perioden mellom 1993 og 2005. Det er f\u00f8rst og fremst de aller rikeste som bor for seg selv og aldri omg\u00e5s de fattigste i Oslos \u00f8stlige bydeler, som f\u00f8lge av en overgang fra en sosialdemokratisk til en mer liberal boligpolitikk, viser forskerne. \u2013 De med lave inntekter kan jo ikke bestemme seg for \u00e5 flytte vestover. Hvis vi vil gj\u00f8re noe med skillene i Oslo, mener vi at ogs\u00e5 de gyldne ghettoene b\u00f8r f\u00e5 oppmerksomhet, sier Ljunggren til forskning.no.</p>"
       ],
       "metadata": {},
       "output_type": "display_data",
       "text": [
        "<IPython.core.display.HTML at 0x7fa66aea4198>"
       ]
      },
      {
       "html": [
        "<p class=\"txt\">1. I helgen var det valg til Europaparlamentet. Hvilket parti fikk flest stemmer i Frankrike og hva heter partiets leder?</p>\n",
        "<p class=\"txt\">2. Hvilken norsk avdeling av en internasjonal organisasjon ble stiftet i 1922 av Johan Bojer og arbeider for \u00abden retten til ytringsfrihet som er nedfelt i FNs Universelle Menneskerettighetserkl\u00e6rings paragraf 19, i den norske Grunnlovens paragraf 100 og i Den internasjonale konvensjonen om sivile og politiske rettigheter\u00bb?</p>\n",
        "<p class=\"txt\">3. Forsvarssjefen i Norge fra 1940 hadde et etternavn som ogs\u00e5 er et norsk verb i infinitiv. Verbet brukes nesten utelukkende om fj\u00e6rkre. Hva er etternavnet?</p>\n",
        "<p class=\"txt\">4. Hvilken fotballtrener er den eneste som har trent b\u00e5de Norges herre- og kvinnelandslag i fotball?</p>\n",
        "<p class=\"txt\">5. Hvilken norsk statsminister etter andre verdenskrig hadde et fornavn han delte med den samtidig sittende amerikanske presidenten?</p>\n",
        "<p class=\"txt\">6. Hvilken regiss\u00f8r vant Gullpalmen i Cannes i 1974 for filmen \u00abAvlyttingen\u00bb og i 1979 for filmen \u00abApokalypse n\u00e5\u00bb?</p>\n",
        "<p class=\"txt\">7. Forrige gang to spanske lag m\u00f8ttes i en Champions League-finale var i \u00e5r 2000. Hvilke to lag m\u00f8ttes den gang ?</p>\n",
        "<p class=\"txt\">8. Hvem ble p\u00e5 fredag utnevnt til ny direkt\u00f8r for Nasjonalbiblioteket ? Han har siden 2006 v\u00e6rt daglig leder for Litteraturhuset i Oslo.</p>\n",
        "<p class=\"txt\">9. Hvilket land er regjerende verdensmester i ishockey?</p>\n",
        "<p class=\"txt\">10. Landet der det nylig avholdte mesterskapet foregikk grenser til fem land. Hvilke?</p>\n",
        "<p class=\"txt\">Svar:</p>\n",
        "<p class=\"txt\">1. Front National og Marine Le Pen</p>\n",
        "<p class=\"txt\">2. Norsk P.E.N.</p>\n",
        "<p class=\"txt\">3. Ruge, Otto</p>\n",
        "<p class=\"txt\">4. Per-Mathias H\u00f8gmo</p>\n",
        "<p class=\"txt\">5. John Lyng (John F. Kennedy)</p>\n",
        "<p class=\"txt\">6. Francis Ford Coppola</p>\n",
        "<p class=\"txt\">7. Valencia og Real Madrid</p>\n",
        "<p class=\"txt\">8. Aslak Sira Myhre</p>\n",
        "<p class=\"txt\">9. Russland</p>\n",
        "<p class=\"txt\">10. Russland, Latvia, Litauen, Polen og Ukraina</p>"
       ],
       "metadata": {},
       "output_type": "display_data",
       "text": [
        "<IPython.core.display.HTML at 0x7fa66aea4198>"
       ]
      },
      {
       "html": [
        "<p class=\"txt\">NETTSKOLE: Norges f\u00f8rste massive, \u00e5pne onlinekurs ved NTNU har blitt fulgt av n\u00e6rmere 1000 personer siden h\u00f8sten 2012. Digitalpion\u00e9ren Arne Krokan st\u00e5r bak Mooc-en (Massive Open Online Course) i emnet \u00abTeknologiutvikling og samfunnsendring\u00bb. Professoren hadde m\u00e5l om \u00e5 f\u00e5 400 f\u00f8lgere til kurset, der seminarer, kollokvier, forelesninger og pr\u00f8ver blir lagt ut gratis p\u00e5 nett. Eliteuniversitetet Harvard vil de neste fem \u00e5rene investere rundt 30 milliarder kroner i \u00e5 utvikle det nye konseptet, og Krokans budskap er at norske universiteter m\u00e5 f\u00f8lge med p\u00e5 utviklingen. \u2013 Vi er ett av f\u00e5 land i verden som fortsatt tilbyr gratis utdanning. I tillegg er utdanningssystemet ogs\u00e5 en del av det distriktspolitiske virkemiddelapparatet. Ute i verden ser det helt annerledes ut, sier Krokan til Universitetsavisa.</p>"
       ],
       "metadata": {},
       "output_type": "display_data",
       "text": [
        "<IPython.core.display.HTML at 0x7fa66aea4198>"
       ]
      },
      {
       "html": [
        "<p class=\"txt\">KJ\u00d8NNSDEBATT: Som en del av kampanjen \u00abLift the skirt\u00bb, protesterte flere mannlige elever ved videreg\u00e5ende skoler i den franske Nantes-regionen f\u00f8r helgen. Ved \u00e5 g\u00e5 i skj\u00f8rt p\u00e5 skolen \u00f8nsket guttene \u00e5 bekjempe sexisme. \u2013 Jeg synes ikke det var noe problem \u00e5 g\u00e5 med skj\u00f8rt, og hvis det kan f\u00f8re til noe godt er det bare bra, sa en av de skj\u00f8rtkledde gutta til Euronews. Ved en av skolene m\u00f8tte 150 demonstranter fram for \u00e5 vise sin avsky, der mange kom fra organisasjonen <i>Manif pour tous</i> \u2013 som kjemper hardt mot likekj\u00f8nnet ekteskap. Gruppene hevdet skj\u00f8rtestuntet var \u00aben homoseksuell konspirasjon for \u00e5 fornekte kj\u00f8nnsforskjeller\u00bb, if\u00f8lge Svenska Dagbladet. Demonstrantene sprayet slagord p\u00e5 skolemurene og br\u00e5k oppstod med elevene, som svarte ved \u00e5 kaste tomater tilbake.</p>"
       ],
       "metadata": {},
       "output_type": "display_data",
       "text": [
        "<IPython.core.display.HTML at 0x7fa66aea4198>"
       ]
      },
      {
       "html": [
        "<p class=\"fak1\">Shake The Curse</p>\n",
        "<p class=\"fak2\">Av: This Sect</p>\n",
        "<p class=\"fak2\">Plateselskap: Sect Appeal Records</p>\n",
        "<p class=\"txt\">Oslobandet This Sect ble til i 2003. I l\u00f8pet av fire \u00e5r rakk de \u00e5 spille inn hele tre EP-er og et livealbum, og de spilte en rekke konserter i Skandinavia. De siste syv \u00e5rene har det likevel v\u00e6rt lite \u00e5 h\u00f8re fra dem. <I>Shake The Curse</I> er This Sects f\u00f8rste fulle album og best\u00e5r av ti akkurat passe fengende l\u00e5ter, deriblant en nyinnspilling av den gamle radiohiten \u00abParty Like It's 1939\u00bb og en syv minutter lang power-ballade.</p>\n",
        "<p class=\"txt\">This Sect har ikke klart \u00e5 finne opp verken seg selv eller kruttet p\u00e5 nytt. Shake The Curse er ikke noe d\u00e5rlig album, men dette har man h\u00f8rt f\u00f8r, og sekten klarer dessverre ikke \u00e5 skille seg ut i jungelen av ambisi\u00f8se pop-punk-grupper. Musikalsk sett er det lite \u00e5 utsette p\u00e5, og det l\u00e5ter solid. Vokalist G\u00f8ran Karlsvik virker dog noe usikker i sin framf\u00f8ring, i det som framst\u00e5r som et ellers tight ensemble. Den til tider monotone vokalen gj\u00f8r at flere av l\u00e5tene h\u00f8res i overkant like ut. Det gjelder ogs\u00e5 den fengende singelen \u00abMake Shit Shine\u00bb. This Sect har likevel en tydelig definert sound og appellerer til b\u00e5de svorne fans og tilfeldige radiolyttere. Sounden er ikke unik, og det er heller ikke tekstene, som stort sett handler om livets store sirkel: f\u00f8dsel, liv og d\u00f8d. Til tross for mangel p\u00e5 s\u00e6regenhet passer dette temaet godt til This Sects angstfylte uttrykk.</p>\n",
        "<p class=\"txt\"><I>Shake The Curse</I> er kommersielt og P3-vennlig. Det duger ogs\u00e5 p\u00e5 et gjennomsnittlig ungdomsvorspiel, for det er lett \u00e5 la seg fenge. Bandet har energi s\u00e5 det holder, men likevel blir albumet litt ensformig og platt. Det er aldri d\u00e5rlig, men heller aldri mer enn helt greit.</p>"
       ],
       "metadata": {},
       "output_type": "display_data",
       "text": [
        "<IPython.core.display.HTML at 0x7fa66aea4198>"
       ]
      },
      {
       "html": [
        "<p class=\"txt\">Rektoren ved Universitetet i Oslo er i \u00e5pen strid med tidligere prorektor Ruth Vatvedt Fjeld, som sa opp sin stilling i april som f\u00f8lge av det hun opplevde som mobbing.</p>\n",
        "<p class=\"txt\">\u2013 N\u00e5r de fors\u00f8ker \u00e5 framstille det som om jeg trekker meg av personlige \u00e5rsaker \u2013 underforst\u00e5tt som om jeg har g\u00e5tt lei \u2013 s\u00e5 blir jeg sint, sier Ruth Vatvedt Fjeld.</p>\n",
        "<p class=\"txt\"><b>Prorektor spessial 1. Fra saken \u00abVi b\u00f8r si minst mulig\u00bb i Klassekampen, 23.05</b></p>\n",
        "<p class=\"txt\">Rektor ved Universitetet i Oslo, Ole Petter Ottersen, vil ikke kommentere Ruth Vatvedt Fjelds uttalelser om at hun f\u00f8lte seg mobbet i prorektorstillingen som hun n\u00e5 har trukket seg fra.</p>\n",
        "<p class=\"txt\">\u2013 Det er hennes subjektive oppfatning, og den kan jeg ikke kommentere, sier han til Dagbladet.</p>\n",
        "<p class=\"txt\">Han vil heller ikke kommentere hennes syn om at hun ble holdt utenfor i arbeidet i ledelseskollegiet.</p>\n",
        "<p class=\"txt\">\u2013 Jeg synes dette er en trist sak, sier Ottersen, som mener at han og universitetet alt i alt har h\u00e5ndtert saken p\u00e5 en god m\u00e5te.</p>\n",
        "<p class=\"txt\"><b>Prorektor spessial 2. Fra saken \u00abN\u00e5 krever studentene nyvalg\u00bb i Dagbladet, 23.05</b></p>\n",
        "<p class=\"txt\">\u2013 Jeg synes det er veldig bra at en samlet studentmasse sier ifra om at det er universitetsdemokratiet m\u00e5 g\u00e5 foran andre hensyn. Men om styret vil rette seg etter dette og utlyse nyvalg har jeg ingen formening om, sier Eriksen.</p>\n",
        "<p class=\"txt\">Universitetsrektor Ole Petter Ottersen sier via sin kommunikasjonsdirekt\u00f8r Marina Tofting at han \u00abikke \u00f8nsker \u00e5 kommentere saken videre.</p>\n",
        "<p class=\"txt\"><b>Prorektor spessial 3. Fra saken \u00abMener vedtak er ugyldig\u00bb i Klassekampen, 27.05</b></p>"
       ],
       "metadata": {},
       "output_type": "display_data",
       "text": [
        "<IPython.core.display.HTML at 0x7fa66aea4198>"
       ]
      },
      {
       "html": [
        "<p class=\"txt\">Universitas oppsummerer uka</p>\n",
        "<p class=\"mt\">Demokratisk regelrytteri</p>\n",
        "<p class=\"txt\">Da UiO-prorektor trakk seg, skulle det egentlig skrives ut nyvalg b\u00e5de for rektor og prorektor. Det var det ikke s\u00e5 farlig med, mente rektor Ole Petter Ottersen.</p>\n",
        "<p class=\"txt\">Han var nylig i Russland for \u00e5 \u00abstyrke de akademiske b\u00e5ndene\u00bb \u00f8stover. Kilder tett p\u00e5 rektoren sier at han underveis i styrem\u00f8tet hvor det ble klart at prorektor trakk seg, hadde mange telefonpauser ,og at de bestemt h\u00f8rte ham si \u00abdasvidanja\u00bb.</p>\n",
        "<p class=\"txt\">\u2013 Mine nye akademiske kontakter mente det var fullt forsvarlig \u00e5 fravike valgreglementet bare denne ene gangen, sier Ottersen.</p>\n",
        "<p class=\"mt\">\u00c6rlig kommunikasjon</p>\n",
        "<p class=\"txt\">BI-rektor Tom Colbj\u00f8rnsen forteller at skolen \u00aber i renomm\u00e9bransjen. Der er skolerangeringer og akkrediteringer hovedpilarene.\u00bb</p>\n",
        "<p class=\"txt\">Flere BI-studenter Ad notam har v\u00e6rt i kontakt med, er glade for Colbj\u00f8rnsens presisering, s\u00e5 slipper de lenger \u00e5 leve i den villfarelsen at BI prim\u00e6rt er en utdanningsinstitusjon som har studenters utdannelse som viktigste oppgave.</p>\n",
        "<p class=\"mt\">Verden er urettferdig</p>\n",
        "<p class=\"txt\">Privatskolene tar mer og mer i skolepenger fra studentene samtidig som de ansattes l\u00f8nninger \u00f8ker.</p>\n",
        "<p class=\"txt\">\u2013 Det er urettferdig, sier BI-studentleder Espen Gekko d.y.</p>\n",
        "<p class=\"txt\">Han reagerer p\u00e5 at staten ikke vil gi de som g\u00e5r p\u00e5 privatskole, h\u00f8yere stipend enn de som g\u00e5r p\u00e5 offentlig skole.</p>\n",
        "<p class=\"txt\">\u2013 Vi har kanskje mer penger i familien, og vi kommer til \u00e5 tjene mer n\u00e5r vi er ferdige enn for eksempel l\u00e6rere og sykepleiere, men det er urettferdig at vi skal bruke av v\u00e5re egne penger bare fordi vi har lyst til \u00e5 studere noe kun fordi vi kan bli rike av det.</p>\n",
        "<p class=\"mt\">Eivind Tr\u00e6dal be\u00e6rer Ad notam med en kronikk</p>\n",
        "<p class=\"txt\">For noen dager siden samlet jeg meg for \u00e5 lage en kronikk for Universitas. Det var ikke lett, for jeg er ganske opptatt fordi jeg er s\u00e5 ettertraktet som meningsb\u00e6rer. Jeg fikk i alle fall skrevet en kronikk som, om jeg f\u00e5r si det selv, tok pulsen p\u00e5 alt i Norge i dag. Jeg fikk inn flere stikk mot kommentarfeltmafiaen, som ikke skj\u00f8nner at ytringsfrihet egentlig er s\u00e5 bra som jeg gj\u00f8r, og det er helt H\u00d8L I HUE. Jeg la meg p\u00e5 en ironisk tone, for det er mye kulere enn \u00e5 v\u00e6re oppriktig. Men det er det vel ikke lov til \u00e5 <I>si</I> i dette landet.</p>"
       ],
       "metadata": {},
       "output_type": "display_data",
       "text": [
        "<IPython.core.display.HTML at 0x7fa66aea4198>"
       ]
      },
      {
       "html": [
        "<p class=\"fak1\">Birkelunden mannskor</p>\n",
        "<p class=\"fak2\">Hva: Kor</p>\n",
        "<p class=\"fak2\">Hvem: Diverse oslogutter og -menn</p>\n",
        "<p class=\"fak2\">Hvor: Birkelunden p\u00e5 17.mai.</p>\n",
        "<p class=\"txt\">Birkelunden er, til tross for str\u00e5lende sol, rimelig folketom tidlig p\u00e5 17. mai-ettermiddagen. Men i l\u00f8pet av den lille halvtimen f\u00f8r parkens eget mannskor entrer paviljongen for tredje \u00e5r p\u00e5 rad, stimler det sammen et betydelig antall mennesker i sin fineste stas. Alle er de kommet for \u00e5 overv\u00e6re konserten med de \u00abunge, kjekke og lovende menn i Oslo\u00bb, som de noks\u00e5 s\u00f8tt, eller noks\u00e5 cocky kaller seg selv.</p>\n",
        "<p class=\"txt\">Koret er ledet av dirigent Knut Kristian Mohn, og de <I>er</I> s\u00e5 klart flotte der de st\u00e5r \u2013 som b\u00e5de n\u00e5tid og fremtid i norsk kormusikk. I bunad, dress og med cavaflasker under armen har de sjarmert publikum i senk allerede f\u00f8r de rekker \u00e5 stemme i Edvard Griegs \u00ab<I>Sangerhilsen\u00bb</I> og sprette flaskekorkene.</p>\n",
        "<p class=\"txt\">Helakustisk a capella utekonsert gj\u00f8r ikke akkurat lyden noen tjeneste, og minikonserten tar derfor ikke <I>helt av</I> lydmessig. Mye av det som kunne v\u00e6rt en mektig opplevelse, drukner rett og slett i 17. mai-st\u00f8y fra ting, dyr og personer. Samtidig er det spontane mye av greia, og det er tvilsomt om opplegget hadde v\u00e6rt like sjarmerende om mannskoret hadde v\u00e6rt flankert av digre h\u00f8yttalere og lydtekniker. I bytte mot prima lyd f\u00e5r publikum en up\u00e5klagelig stemning, og koret er p\u00e5 sitt desidert beste n\u00e5r de virkelig drar p\u00e5, som \u00abKlingom Br\u00f8der\u00bb av Wetterling \u2013 det desidert beste nummeret i l\u00f8pet av konserten.</p>\n",
        "<p class=\"txt\">Dessverre er det hele over akkurat i det det begynner \u00e5 ta av. Det er p\u00e5 \u00e9n m\u00e5te forst\u00e5elig, ettersom koret skal spasere ned til Olaf Ryes plass for \u00e5 gj\u00f8re hele showet om igjen. Det er imponerende \u00e5 legge ut p\u00e5 en Gr\u00fcnerl\u00f8kka-turn\u00e9, men for de oppm\u00f8tte i Birkelunden f\u00f8les det trist \u00e5 m\u00e5tte vinke farvel til \u00abkjekke, unge og lovende menn\u00bb etter bare dr\u00f8ye femten-tjue minutter.</p>"
       ],
       "metadata": {},
       "output_type": "display_data",
       "text": [
        "<IPython.core.display.HTML at 0x7fa66aea4198>"
       ]
      },
      {
       "html": [
        "<p class=\"txt\">1.\tHva heter lederen for det indiske folkepartiet Bharatiya Janata Party, som blir landets neste statsminister?</p>\n",
        "<p class=\"txt\">2.\tHva heter fotballspilleren fra Time kommune som blant annet har spilt for Bryne, West Ham, Brann, Viking og Rapid Wien?</p>\n",
        "<p class=\"txt\">3.\tI forrige uke var det en tragisk gruveulykke vest i Tyrkia. Hva heter byen der gruven ligger?</p>\n",
        "<p class=\"txt\">4.\tHvilke to land ligger p\u00e5 \u00f8ya Hispaniola?</p>\n",
        "<p class=\"txt\">5.\tHvem er eneste norske representant i \u00e5rets utgave av sykkelrittet Giro d'Italia?</p>\n",
        "<p class=\"txt\">6.\tHvilken statsleder mottok Nobels litteraturpris i 1953?</p>\n",
        "<p class=\"txt\">7.\tHvordan er slektsforholdet mellom Kong Harald V og Dronning Margrethe II av Danmark?</p>\n",
        "<p class=\"txt\">8.\tHva er navnet p\u00e5 de fire s\u00e6rnorske hesterasene?</p>\n",
        "<p class=\"txt\">9.\tHva heter Patti Smiths legendariske album fra 1975?</p>\n",
        "<p class=\"txt\">10.\tM\u00e4rtha og Ari skal flytte hjem igjen til Norge. Hva heter deres tre barn?</p>"
       ],
       "metadata": {},
       "output_type": "display_data",
       "text": [
        "<IPython.core.display.HTML at 0x7fa66aea4198>"
       ]
      },
      {
       "html": [
        "<p class=\"fak1\">P\u00e5fyll#6</p>\n",
        "<p class=\"fak2\">Hvor: Caf\u00e9 Mir</p>\n",
        "<p class=\"fak2\">Hvem: Henrik Gj\u00f8en, Martin Beyer-Olsen, Lars Berrum</p>\n",
        "<p class=\"txt\">Behagelig bakrus</p>\n",
        "<p class=\"txt\">\u00abF\u00f8kk 18. mai og f\u00f8kk sommer'n\u00bb, sier konferansier Adam Tumidajewicz til de rundt 30 folka som har benket seg rundt bordene p\u00e5 Mir. Det er s\u00f8ndag kveld og tid for det m\u00e5nedlige arrangementet <I>P\u00e5fyll</I>. Mens resten av Oslo slanger seg i parken, koser med gresset og pleier minnene fra grunnlovsjubileet dagen f\u00f8r, har noen valgt \u00e5 ta turen for \u00e5 f\u00e5 med seg et aldri s\u00e5 lite kulturelt <I>opplegg</I>.</p>\n",
        "<p class=\"txt\"><I>P\u00e5fyll</I> er delvis i regi av ildsjeler som Tumidajewicz, og delvis st\u00f8ttet av Milj\u00f8partiet De Gr\u00f8nne. Selv om det er b\u00e5de dikt og frijazz p\u00e5 menyen, er det stand-upen som f\u00e5r \u2013 og tar \u2013 mest fokus. Store navn som Martin Beyer Olsen, Lars Berrum og stjerneskuddet Henrik Gj\u00f8en er med. Sistnevnte \u00e5pner showet med et frekt repertoar best\u00e5ende av Tinder-observasjoner, badetrend og pornohistorier. Gj\u00f8en leverer vitser med en deilig og avslappet letthet, og det er s\u00e6rlig den siste historien, om en pornofilm han s\u00e5, og at han ble grepet av handlingen som fortsatte \u00e5 utspille seg etter at sexen var over, som virkelig f\u00e5r publikum til \u00e5 knekke sammen av latter. \u00abJeg satt igjen med s\u00e5 mange sp\u00f8rsm\u00e5l, og sjekker daglig om det har kommet en oppf\u00f8lger\u00bb.</p>\n",
        "<p class=\"txt\">Selv om kvelden egentlig kunne endt etter tre solide stand-up-innslag, velger <I>P\u00e5fyll</I> \u00e5 fortsette. Jean Kavanagh leser noe svulstige dikt fra sin nye utgivelse <I>Other Places</I>, men n\u00e5r frijazzduoen \u00abKlima: for liket\u00bb entrer scenen, skjer det en dreining i retning av en noe litt mer intern MDG-kveld. Hallvard Surlien og Lage N\u00f8st er nok litt for gode bekjente av publikum, og det f\u00f8les nesten som \u00e5 overv\u00e6re underholdningen p\u00e5 et privat julebord n\u00e5r de \u00abt\u00f8yse-impriovserer\u00bb fram l\u00e5ter som handler om klima, mens publikum fniser.</p>\n",
        "<p class=\"txt\">Til tross for labert 18.mai-oppm\u00f8te er <I>P\u00e5fyll</I> et helt kurant og avslappet alternativ p\u00e5 en s\u00f8ndag der du helst vil slippe \u00e5 ta stilling de store sp\u00f8rsm\u00e5lene.</p>\n",
        "<p class=\"bt\">Foto: \u00d8yvind Aukrust</p>"
       ],
       "metadata": {},
       "output_type": "display_data",
       "text": [
        "<IPython.core.display.HTML at 0x7fa66aea4198>"
       ]
      },
      {
       "html": [
        "<p class=\"spm\">\u2013 Kristian Gundersen, du er mildt sagt ikke enig med Ola Rydjes forslag om \u00e5 svekke stillingsvernet i akademia. Hva er problemet?</p>\n",
        "<p class=\"txt\">\u2013 Argumentasjonen henger ikke p\u00e5 greip. Han sier han skal gj\u00f8re noe med likestillingen, men ikke hvordan. Da m\u00e5 han i det minste si mannlige professorer. Det er mange grunner til at professorer b\u00f8r ha et sterkere stillingsvern, det handler om akademisk frihet. Hvis vernet svekkes, vil professorer med upopul\u00e6re meninger g\u00e5 f\u00f8rst.</p>\n",
        "<p class=\"spm\">\u2013 Er du redd for \u00e5 miste jobben om stillingsvernet svekkes?</p>\n",
        "<p class=\"txt\">\u2013 At jeg skal miste jobben? Jeg har jo sterke meninger i offentligheten, og det kan jo godt hende mange vil bli kvitt meg.</p>\n",
        "<p class=\"spm\">\u2013 NSO-lederen sitter selv i ett \u00e5r av gangen og er ganske vernet. B\u00f8r det bli lettere \u00e5 sparke studentledere?</p>\n",
        "<p class=\"txt\">\u2013 Nei, vi skal ta dem med argumenter, ikke ved \u00e5 sparke dem.</p>\n",
        "<p class=\"spm\">\u2013 P\u00e5 Twitter kaller du dette en generasjonskamp og kj\u00f8nnskamp. Er dette saken som endelig f\u00e5r eldre, mannlige professorer til \u00e5 kreve sin rett?</p>\n",
        "<p class=\"txt\">\u2013 Nei, det ... er et sp\u00f8rsm\u00e5l med s\u00e5 mange premisser at jeg vanskelig kan svare p\u00e5 det! Eldre, mannlige professorer gj\u00f8r faktisk en god jobb de ogs\u00e5.</p>\n",
        "<p class=\"spm\">\u2013 Du twitret at \u00abStudentleder vil massesparke professorer, for \u00e5 gi plass til yngre kvinner\u00bb. Beskylder du Rydje for \u00e5 utnytte sin stilling for \u00e5 f\u00e5 seg noe?</p>\n",
        "<p class=\"txt\">\u2013 Nei, men jeg tror ikke han har tenkt gjennom saken.</p>\n",
        "<p class=\"spm\">\u2013 Men du twitret til Rydje at han er \u00abfryktelig naiv\u00bb, mener han du er litt unyansert. Er du unyansert, Gundersen?</p>\n",
        "<p class=\"txt\">\u2013 Det m\u00e5 du nesten sp\u00f8rre andre om, jeg sier det jeg mener. N\u00e5r Rydje kommer med slike ekstreme uttalelser m\u00e5 han finne seg i \u00e5 bli motsagt. Skal du sp\u00f8rre meg om jeg vil vurdere min stilling n\u00e5, da?</p>\n",
        "<p class=\"spm\">\u2013 Jeg skulle sp\u00f8rre deg om du vil vurdere ditt stillingsvern...</p>\n",
        "<p class=\"txt\">\u2013 Nei.</p>"
       ],
       "metadata": {},
       "output_type": "display_data",
       "text": [
        "<IPython.core.display.HTML at 0x7fa66aea4198>"
       ]
      },
      {
       "html": [
        "<p class=\"fak1\">Beautiful Silence</p>\n",
        "<p class=\"fak2\">Av: Lena Nymark</p>\n",
        "<p class=\"fak2\">Plateselskap: Grappa</p>\n",
        "<p class=\"txt\">Skal vi tro den nye plata til sangpedagog og Norges Musikkh\u00f8gskole-utdannede Lena Nymark, er det ironisk nok den minst typiske l\u00e5ta hennes som har gjort henne mest kjent. Den gitartunge popl\u00e5ta \u00abIt's up to you\u00bb, som er andrespor p\u00e5 Nymarks debutplate, f\u00f8res fram av et bluesrock-driv som fin kontrast til hennes langt lysere stemme. P\u00e5 resten av plata strekker l\u00e5tene seg lenger inn under jazz-sjangeren, som blir mindre forutsigbart og mer spennende.</p>\n",
        "<p class=\"txt\">For selv om drivet i hitsingelen er t\u00f8ft, svinger det mer n\u00e5r t\u00f8ylene p\u00e5 musikantene blir l\u00f8sere, p\u00e5 l\u00e5ter som \u00abSola Mi\u00bb og \u00abWaiting\u00bb \u2013 med svevende, nydelige orgelpartier av Andreas Ulvo og en langt mer frittspillende trommeslager i Martin Langlie. Det er ingen tvil om at dette er skolerte musikere til beinet. Det er samspilt, det svinger, og det h\u00f8res uanstrengt ut.</p>\n",
        "<p class=\"txt\">Men det skolerte og polerte har ogs\u00e5 en kjip side. Det blir kjedelig hvis det ikke <I>vil</I> noe. Flere av Nymarks tekster er repetitive, og man kan sp\u00f8rre seg om hun virkelig har et budskap utover det musikalske. Stemmen hennes er b\u00e5de nydelig, trygg, ren og allsidig. Det er pent og pyntelig, men vokalen blir som et eget instrument og blir langt mer troverdig som melodiskaper enn som meningsb\u00e6rer.</p>\n",
        "<p class=\"txt\">N\u00e5 er det heller ikke Joni Mitchell eller Bob Dylan Nymark minner om. Gruppa hun har med seg, ligner mer en oppjazza versjon av norske D'Sound \u2013 en godt utdannet gjeng musikanter med teft for hva \u00f8ret liker. Men n\u00e5r musikken ikke vil mer, blir den fort et stemningsskapende supplement heller enn et selvstendig kunstverk.</p>"
       ],
       "metadata": {},
       "output_type": "display_data",
       "text": [
        "<IPython.core.display.HTML at 0x7fa66aea4198>"
       ]
      },
      {
       "html": [
        "<p class=\"txt\"><b>Bergen</b> STUDVEST</p>\n",
        "<p class=\"txt\">Ulempen ved at forskere som Gamlund sier nei til forskning er blant annet at man risikerer \u00e5 f\u00e5 inntrykk av at forskere setter seg p\u00e5 en pidestall ved \u00e5 bygge vanntette skott mellom seg selv og omverdenen. Det kan i ytterste konsekvens svekke legitimiteten til de offentlige utdanningsinstitusjonene, som i praksis kan bety at forskerne graver sin egen grav. For kunnskaps-Norge ville det v\u00e6rt en katastrofe.</p>\n",
        "<p class=\"txt\"><b>Cambridge</b>   The Harvard Crimson</p>\n",
        "<p class=\"txt\">Personally, I find the greatest growth when I intentionally override my internal resistance and listen to people who make me uncomfortable and challenge me. It never dawned on me that, as a man, I could learn so much from attending a lecture on Insights and Experience from Women in Power or listening to Senator John McCain and gaining a newfound appreciation of his lifelong service to our country.</p>\n",
        "<p class=\"txt\"><b>New York</b>   Columbia Daily Spectator</p>\n",
        "<p class=\"txt\">So far, the school has not recognized that power to the full extent that students deserve\u0097probably because it could be the leverage student groups need to enact desperately needed change. Columbia's being a corporation is not necessarily a bad thing. A corporate Columbia is one where students\u0097investors\u0097should have a real say.</p>\n",
        "<p class=\"txt\"><b>Oxford</b>   Cherwell</p>\n",
        "<p class=\"txt\">It's true that getting wasted every single night will get you nowhere fast, as far as your degree is concerned at least. Heavy drinking can be harmful to your energy levels, your general wellbeing and, quite often, your dignity. However, it's more than possible to enjoy the university drinking culture without going to excess.</p>"
       ],
       "metadata": {},
       "output_type": "display_data",
       "text": [
        "<IPython.core.display.HTML at 0x7fa66aea4198>"
       ]
      },
      {
       "html": [
        "<p class=\"txt\">Temmelig s\u00f8mmelig</p>\n",
        "<p class=\"txt\">Studentvelferd</p>\n",
        "<p class=\"txt\">Kommentator Thorbj\u00f8rn Borlaug foresl\u00e5r i forrige ukes Universitas at SiO skal omfattes av offentlighetsloven. Sp\u00f8rsm\u00e5let om studentsamskipnadene skal reguleres av offentlighetsloven er vurdert grundig flere ganger de siste \u00e5rene. Senest i forbindelse med revisjon av loven i 2008 og 2012. Kunnskapsdepartementet, som er b\u00e5de tilskudds- og tilsynsdepartement, har gjennom bredt anlagte h\u00f8ringsprosesser kommet til en utvetydig konklusjon:</p>\n",
        "<p class=\"txt\">\u00bb[E]n stor del av samskipnadenes oppgaver er av en slik art at reglene i forvaltningsloven ikke er relevante, som kantinedrift, bokhandel, treningssenter osv. Reglene i forvaltningsloven skal ivareta rettsikkerhet og betryggende saksbehandling. Saksbehandlingen i samskipnadene er i stor grad regulert i andre lover. Dette gjelder for eksempel helsetjenester og barnehagedrift.\u00bb</p>\n",
        "<p class=\"txt\">Jeg er opptatt av at SiO skal styres s\u00e5 \u00e5pent og ryddig som mulig, men det er temmelig uklokt \u00e5 forst\u00e5 SiO som en offentlig organisasjon, eller jobbe for at SiO skal bli det. Det er verdt \u00e5 opprettholde den s\u00e6rnorske ordningen hvor et eierl\u00f8st, studentstyrt velferdsselskap med ideelt form\u00e5l ivaretar studentvelferden, og ikke staten. Den sikrer en effektiv og ubyr\u00e5kratisk styringsprosess fordi SiO som et ansvarlig rettssubjekt har mulighet til \u00e5 fatte beslutninger p\u00e5 selvstendig grunnlag, ta opp l\u00e5n, akkumulere et ansvarlig overskudd eller omorganisere for \u00e5 m\u00f8te nye behov i nye tjenesteomr\u00e5der.</p>\n",
        "<p class=\"txt\">SiOs \u00e5penhetspolicy er s\u00f8mmelig ut fra at vi er et selskap som strekker oss mot \u00e5penhet. Studentstyringen er \u00e5pen i den forstand at Velferdstinget (VT) velger flertallet i styret i \u00e5pne valg og legger premissene for selskapet i \u00e5pne voteringer. De studentvalgte representantene i SiOs hovedstyre har orienteringsplikt til VT i \u00e5pne m\u00f8ter, vi har en l\u00f8pende dialog med Velferdstingets ledelse, og arbeidsutvalget har innsynsmulighet i alle sakspapirer.</p>\n",
        "<p class=\"txt\">Men som serviceselskap, i det daglige m\u00f8tet med studenten, b\u00e5de b\u00f8r og kan SiO bli mer \u00e5pen og tilgjengelig. Det bestemmes ikke av offentlighetsloven, men av hvordan SiO m\u00f8ter den enkelte student i treningssenteret, p\u00e5 cafeen eller p\u00e5 internett.</p>\n",
        "<p class=\"bt\">universitas nr. 16, 2014</p>"
       ],
       "metadata": {},
       "output_type": "display_data",
       "text": [
        "<IPython.core.display.HTML at 0x7fa66aea4198>"
       ]
      },
      {
       "html": [
        "<p class=\"txt\">Si din mening p\u00e5 universitas.no</p>\n",
        "<p class=\"mt\">Deprokratisk</p>\n",
        "<p class=\"txt\">Dette er pussig fra UiO-styret. Hvis de synes de demokratiske spillereglene er for slitsomme, b\u00f8r de heller g\u00e5 inn for \u00e5 endre reglene istedenfor \u00e5 ignorere dem...</p>\n",
        "<p class=\"txt\">Bj\u00f8rn Semstad</p>\n",
        "<p class=\"txt\">N\u00e5r det ikke er en valgt prorektor er vervet vakant. UiO-styret har valgt \u00e5 la vervet v\u00e6re vakant (dvs. UiO har ingen prorektor) ved \u00e5 ikke skrive ut nyvalg, og la en utnevnt viserektor ivareta oppgavene ut perioden. Men det betyr ikke at Ragnhild Hennum er prorektor.</p>\n",
        "<p class=\"txt\">Mno</p>\n",
        "<p class=\"txt\">Dette kan sammenlignes med at f\u00f8rste visepresidenten i Stortinget (=prorektor) trekker seg fra sitt valgte verv, og at stortingspresidenten (=rektor) da \u00abkonstituerer\u00bb en ikke-valgt person fra stortingsadministrasjonen (=ikke-valgt viserektor) som visepresident i stedet for at stortingsrepresentantene (=universitetssamfunnet) velger ny visepresident (=prorektor).</p>\n",
        "<p class=\"txt\">Hoderystende \bfor forakten for demokratiet</p>\n",
        "<p class=\"txt\">Hentet fra debatten til nyhetssaken \u00ab\u2013 Et tegn p\u00e5 at valgets tid er over p\u00e5 Universitetet\u00bb</p>\n",
        "<p class=\"mt\">Akk og va</p>\n",
        "<p class=\"txt\">VA ble snytt. Internationalista, de nye, som viste ordentlig, ektef\u00f8lt engasjement, og ikke s\u00e5 rent lite profesjonelt, heller, ble snytt, every which way. De ville ikke v\u00e6re med p\u00e5 hestehandelen og alliansespillet i kulissene.</p>\n",
        "<p class=\"txt\">Akk</p>\n",
        "<p class=\"txt\">Ja... for politikk p\u00e5 norsk er jo helt annerledes enn andre steder. At flertallet valgte en annen kandidat enn VA sin viser bare at nominasjonen var feil, og at kritikken b\u00f8r heller rettes dit.</p>\n",
        "<p class=\"txt\">...og ve</p>\n",
        "<p class=\"txt\">VA hadde en avtale med sosialdemokratene. Den avtalen ble brutt uten at VA hadde f\u00e5tt noe beskjed om det, og det etter at VA sine representanter hadde stemt etter avtalen. Dette er ikke bare et brudd mot en enkeltperson, men et tillitsbrudd mot alle i Venstrealliansen som har s\u00f8rga for at VA ble den nest st\u00f8rste lista.</p>\n",
        "<p class=\"txt\">M-town</p>\n",
        "<p class=\"txt\">Hentet fra debatten til nyhetssaken \u00abHun er den nye Studentparlament-lederen ved UiO\u00bb</p>"
       ],
       "metadata": {},
       "output_type": "display_data",
       "text": [
        "<IPython.core.display.HTML at 0x7fa66aea4198>"
       ]
      },
      {
       "html": [
        "<p class=\"txt\">@Torkil i g\u00e5rsdagens Universitas ble jeg sitert om SiO, rektorvalg og MGP. Stem p\u00e5 meg for en allsidig #studentbaron</p>\n",
        "<p class=\"txt\">15.mai\bGenerasjon pampevelde</p>\n",
        "<p class=\"txt\">@mathiasfischer Hver gang noen skriver \u00abRetweet hvis...\u00bb, favorittmarkerer jeg. H\u00e5per budskapet n\u00e5r frem.</p>\n",
        "<p class=\"txt\">19.mai\bGenerasjon oppr\u00f8r</p>\n",
        "<p class=\"txt\">@KristianGunder @rydje det er en absurd ide \u00e5 gi professorer svakere stillingsvern enn andre statsansatte. Les deg opp p\u00e5 akademisk frihet!</p>\n",
        "<p class=\"txt\">18.mai\bGenerasjon KnowItAll</p>\n",
        "<p class=\"txt\">@rydje @KristianGunder \u00abAbsurd og naiv\u00bb er ikke argumenter. Det er mulig du har rett, men gj\u00f8r gjerne et fors\u00f8k p\u00e5 \u00e5 forklare hvorfor.</p>\n",
        "<p class=\"txt\">18.mai\bRydje rydder opp</p>\n",
        "<p class=\"txt\">@KristianGunder @rydje hvis du ikke forst\u00e5r dette anbefaler jeg SV-fakultetet, begynnerkursene</p>\n",
        "<p class=\"txt\">18.mai\b#EldreVetBest</p>\n",
        "<p class=\"txt\">@rydje @KristianGunder Herregud. Til \u00e5 v\u00e6re en god forkjemper for meningsfull debatt gj\u00f8r du lite for \u00e5 bidra til det i dag. Pr\u00f8ve igjen?</p>\n",
        "<p class=\"txt\">18.mai\b#NeiDetGj\u00f8rDeIkkeDetS\u00e5</p>"
       ],
       "metadata": {},
       "output_type": "display_data",
       "text": [
        "<IPython.core.display.HTML at 0x7fa66aea4198>"
       ]
      },
      {
       "html": [
        "<p class=\"txt\">Professor og valgforsker Frank Aarebrot mener det er alt for milde straffer for juks.</p>\n",
        "<p class=\"txt\">\u2013 De som jukser, burde kastes ut. Det eneste samfunnet kan stole p\u00e5 under ansettelser, er sertifikatene fra skolene, sier professoren.</p>\n",
        "<p class=\"txt\">Han syns det er negativt at s\u00e5 mange som \u00e9n av \u00e5tte studenter oppgir at de ville ha jukset dersom det ikke var fare for \u00e5 bli tatt.</p>\n",
        "<p class=\"txt\">\u2013 Det er ille at s\u00e5pass mange ville ha fremstilt seg som bedre enn de er, n\u00e5r de skal ut i samfunnet, sier han.</p>\n",
        "<p class=\"txt\">Leder Ola Rydje i NSO er enig.</p>\n",
        "<p class=\"txt\">\u2013 Det er forferdelig at folk jukser. Jeg syns det er viktig at institusjonene har gode systemer for \u00e5 ta jukserne, sier han.</p>\n",
        "<p class=\"tit\">Flest Frp-ere ville juksa</p>\n",
        "<p class=\"txt\">Juks</p>\n",
        "<p class=\"txt\">\u00abVille du ha juksa p\u00e5 eksamen eller obligatoriske innleveringer hvis du hadde visst at du ikke ble tatt?\u00bb \u2013 Ja, svarer hver fjerde Frp-velger. Det er mer enn dobbelt s\u00e5 mange som gjennomsnittet p\u00e5 12 prosent, og fem ganger s\u00e5 mange som blant MDG-velgerne. Det kommer fram i en unders\u00f8kelse Sentio har gjort blant studenter for Norsk studentorganisasjon (NSO) og Universitas denne m\u00e5neden.</p>\n",
        "<p class=\"mt\">\u2013 Mer u\u00e6rlige</p>\n",
        "<p class=\"txt\">\u2013 Unders\u00f8kelsen viser direkte at FrP-velgere er mer u\u00e6rlige enn gjennomsnittet, og at MDG-velgere er mer \u00e6rlige, sier Frank Aarebrot, professor i sammenlignende politikk ved Universitetet i Bergen.</p>\n",
        "<p class=\"txt\">Aarebrot mener det kan v\u00e6re en sammenheng mellom resultatene og partienes ideologi.</p>\n",
        "<p class=\"txt\">\u2013 Mennesker med individualistiske ideologier vil kanskje jukse mer enn de med kollektivistiske holdninger, sier Aarebrot, som selv er Ap-mann.</p>\n",
        "<p class=\"txt\">Siri Ulleberg, formann i Oslo FpU, er ikke enig med Aarebrot.</p>\n",
        "<p class=\"txt\">\u2013 Resultatene kan skyldes at Frp-velgerne er de eneste som er \u00e6rlige i unders\u00f8kelsen, sier hun.</p>\n",
        "<p class=\"mt\">\u2013 Logisk</p>\n",
        "<p class=\"txt\">Lage N\u00f8st, talsperson for Gr\u00f8nn Ungdom, mener det virker logisk at Frp-velgere ville jukset mye oftere enn MDG-velgere ut ifra deres ideologiske synspunkter.</p>\n",
        "<p class=\"txt\">\u2013 Jeg tenker at de som velger \u00e5 stemme MDG, gj\u00f8r det ut ifra en velutviklet rettferdighetssans og et etisk sinnelag.</p>\n",
        "<p class=\"txt\">Han mener Frp ikke legger skjul p\u00e5 at de har et materialistisk grunnsyn.</p>\n",
        "<p class=\"txt\">\u2013 Frp er opptatt av at man skal prestere for \u00e5 oppn\u00e5 materialistiske m\u00e5l. Mange MDG-velgere er mer opptatt av substansen i utdanningen. \u00c5 jukse vil dermed ha begrenset verdi for oss. Det er viktigere for oss \u00e5 l\u00e6re, sier han.</p>\n",
        "<p class=\"txt\">Ulleberg er uenig i at resultatene reflekterer materialistiske tendenser hos Frp-velgere, og tror dessuten ikke unders\u00f8kelsen er representativ.</p>\n",
        "<p class=\"txt\">\u2013 Jeg syns vi har fine verdier i Frp. Men N\u00f8st f\u00e5r mene det hvis han vil, sier hun.</p>\n",
        "<p class=\"mt\">Flere menn, unge og privatskolestudenter</p>\n",
        "<p class=\"txt\">Unders\u00f8kelsen viser ogs\u00e5 forskjeller knyttet til kj\u00f8nn, alder og skolevalg.</p>\n",
        "<p class=\"txt\">18 prosent av mennene i unders\u00f8kelsen svarer at de ville jukset hvis de hadde hatt muligheten, mot \u00e9n av ti kvinner. Yngre studenter er dessuten mer villige til \u00e5 jukse enn eldre studenter. Blant studenter ved private h\u00f8yskoler er det mer enn to av ti som ville valgt \u00e5 jukse p\u00e5 eksamen, alts\u00e5 nesten dobbelt s\u00e5 mange som gjennomsnittet.</p>"
       ],
       "metadata": {},
       "output_type": "display_data",
       "text": [
        "<IPython.core.display.HTML at 0x7fa66aea4198>"
       ]
      },
      {
       "html": [
        "<p class=\"txt\">Studentpolitikk</p>\n",
        "<p class=\"txt\">\u2013 Det som vart gjort, gir kanskje kortsiktig vinning for Sosialdemokratene (SD), men det skadar studentdemokratiet, seier leiar for Venstrealliansen (VA) Mari Heglum.</p>\n",
        "<p class=\"txt\">F\u00f8r valet av Arbeidsutvalet til Studentparlamentet nyleg hadde dei ulike listene forhandla fram ein avtale om korleis utvalet skulle sj\u00e5 ut. Avtalen var blant anna at nyvalde Marianne Anden\u00e6s (SD) vart leiar, og at VA sin representant Daniel Sandbakken Nilsen vart sikra ein plass i Arbeidsutvalet. Fr\u00e5 parlamentsvalet er VA den nest st\u00f8rste lista, med h\u00e5rfint fleire stemmar enn SD.</p>\n",
        "<p class=\"txt\">Men resultatet vart ikkje som avtalt. D\u00e5 valet av maktposisjonane skulle gjennomf\u00f8rast stilte Knut Frydenlund (SD) til valg, s\u00e5kalla benking. Han vart vald inn, Anden\u00e6s vart leiar \u2013 og VA enda opp utan representantar i Arbeidsutvalet. B\u00e5de SD og VA er representert med fem mandatar i Studentparlamentet i Oslo..</p>\n",
        "<p class=\"txt\">\u2013 Dette er ikkje House of Cards. Me er trass alt tillitsvalde, og d\u00e5 m\u00e5 ein vera tillitsvekkande. Dette f\u00f8rer til at heile systemet m\u00e5 endrast, for no har tilliten forsvunne. Alt er basert p\u00e5 tillit, seier Heglum.</p>\n",
        "<p class=\"mt\">\u00d8nskjer forklaring</p>\n",
        "<p class=\"txt\">\u2013 Det er Knut sin fulle rett \u00e5 benka meg om han vil det, men det er p\u00e5 sin plass at ein seier ifr\u00e5 n\u00e5r ein gjer s\u00e5nne ting. Det var eit sjokk, seier Daniel Sandbakken Nilsen til Universitas.</p>\n",
        "<p class=\"txt\">VA-leiar Heglum er like sjokkert \u2013 og irritert.</p>\n",
        "<p class=\"txt\">\u2013 Sosialdemokratene fekk oss til \u00e5 stemma inn kandidatar etter den felles avtalen, og etter at me hadde holdt v\u00e5r del av avtalen, svikta dei p\u00e5 sin del. Det var eit bevisst og strategisk val \u00e5 ikkje varsla p\u00e5 f\u00f8rehand.</p>\n",
        "<p class=\"mt\">Ikkje planlagd</p>\n",
        "<p class=\"txt\">SD og leiar Marianne Anden\u00e6s beklagar at ting vart gjort som dei vart, og avviser at vendinga var planlagd.</p>\n",
        "<p class=\"txt\">\u2013 Knut valde \u00e5 stilla like f\u00f8r m\u00f8tet. Me tek kritikk for at me ikkje ga beskjed n\u00e5r me fekk vita det, og det var ein d\u00e5rleg prosess. Forhandlingane er ein uformell avtale mellom alle listene som tradisjonelt sett har blitt fulgt, men den hindrar ikkje andre folk fr\u00e5 \u00e5 stilla, seier Anden\u00e6s.</p>\n",
        "<p class=\"txt\">Knut Frydenlund, som vart vald inn i staden for VA sin innstilte kandidat, legg seg flat.</p>\n",
        "<p class=\"txt\">\u2013 Det var ein idiotisk m\u00e5te \u00e5 gjera det p\u00e5, og veldig klumsete. Hadde eg gjort det p\u00e5 nytt, hadde eg gjort det annleis, men eg ville framleis stilt til val, seier Frydenlund.</p>\n",
        "<p class=\"txt\">Han fortel at han rett og slett ikkje rakk \u00e5 tenkja seg ordentleg om i prosessen.</p>\n",
        "<p class=\"txt\">\u2013 Eg tenkte at dei andre kanskje ville f\u00f8la seg lurt, men eg bestemte meg for \u00e5 stilla to timar f\u00f8r valet. Eg ville ikkje at alt me hadde forhandla fram, skulle bryta saman.</p>\n",
        "<p class=\"mt\">\u2013 Har ikkje tillit</p>\n",
        "<p class=\"txt\">\u2013 Samarbeid g\u00e5r jo ikkje no, seier Mari Heglum fr\u00e5 VA.</p>\n",
        "<p class=\"txt\">\u2013 Me kan ikkje forholda oss til folk som ikkje snakkar sant. Eg har personleg blitt ljugd rett i fjeset, legg ho til. B\u00e5de Heglum og Sandbakken Nilsen er skeptiske til samarbeidet med Sosialdemokratene i framtida.</p>\n",
        "<p class=\"txt\">Det tykkjer Marianne Anden\u00e6s er synd.</p>\n",
        "<p class=\"txt\">\u2013 Eg h\u00e5par me kan sj\u00e5 framover, ikkje bakover. Me f\u00e5r ikkje endra p\u00e5 det som har skjedd. Eg trur at det er fleire som tykkjer at prosessen var d\u00e5rleg, men eg trur me kan st\u00e5 for resultatet som kom fram, og jobba vidare med det.</p>\n",
        "<p class=\"txt\">Den f\u00f8rste anledninga for samarbeid kjem p\u00e5 handlingsplanseminaret, n\u00e5r politikken for det neste \u00e5ret skal planleggast. Tidlegare leiar for Studentparlamentet, Stian Skaalbones, trur Anden\u00e6s f\u00e5r ein vanskeleg jobb som leiar i \u00e5ret som kjem.</p>\n",
        "<p class=\"txt\">\u2013 Det som er veldig synd med denne saka er at ho m\u00e5 bruka det neste \u00e5ret p\u00e5 \u00e5 bygga tillit igjen, og det er tid ho ideelt sett skulle brukt p\u00e5 \u00e5 skapa gjennomslag for studentane. Som \u00f8vste tillitsvald p\u00e5 landets st\u00f8rste Universitet er ho avhengig av \u00e5 ha tillit hj\u00e5 sine tillitsvalde, og det har ho ikkje no, seier Skaalbones.</p>\n",
        "<p class=\"txt\">Til dette svarar Anden\u00e6s at ho forst\u00e5r at tilliten er svekka.</p>\n",
        "<p class=\"txt\">\u2013 Samstundes kan alle gjera feil, og eg h\u00e5par at Venstrealliansen og resten av Studentparlamentet vil vera med p\u00e5 \u00e5 f\u00f8ra ein konstruktiv debatt, og at eg viser meg tilliten verdig.</p>\n",
        "<p class=\"bt\">Skjermdump:Facebook</p>"
       ],
       "metadata": {},
       "output_type": "display_data",
       "text": [
        "<IPython.core.display.HTML at 0x7fa66aea4198>"
       ]
      },
      {
       "html": [
        "<p class=\"plakdag\">Torsdag 29. mai</p>\n",
        "<p class=\"plaktxt\">B\u00f8ker: Har du bes\u00f8kt Oslos fineste bruktboksjappe? Cappelens forslag har et godt utvalg b\u00f8ker og kanskje Oslos beste betjening. Fetterne Pil og Andreas Cappelen hjelper deg \u00e5 finne b\u00f8kene du ikke visste du ville lese. Torsdager har de (som regel) \u00e5pent til midnatt. Cappelens forslag, 11.00</p>\n",
        "<p class=\"plakdag\">Fredag 30. mai</p>\n",
        "<p class=\"plaktxt\">\u00c5pen mikrofon: Har du lyst til \u00e5 teste teksten din p\u00e5 et publikum? Eller h\u00f8re p\u00e5? I Litteraturhusets kjeller skrur de nok en gang p\u00e5 mikrofonen for dem som m\u00e5tte \u00f8nske \u00e5 lese novelleutdrag, prosadikt, dagboknotater, romanfragmenter eller kanskje sanglyrikk. Maks tre minutter p\u00e5 hver og p\u00e5melding en time f\u00f8r arrangementsstart. Litteraturhuset, 21.00</p>\n",
        "<p class=\"plakdag\">S\u00f8ndag 01. juni</p>\n",
        "<p class=\"plaktxt\">Avgangsutstillinger: Alle byens kreative barn/studenter har laget ting de vil vise frem. Benytt anledningen til \u00e5 sjekke ut morgendagens profesjonelle kunstnere og andre kreative sjeler p\u00e5 Kunstnernes hus, Westerdals, Norsk skuespillerinstitutt, kunsth\u00f8yskolen i Oslo, skolen for samtidsdans, Oslo fotokunstskole etc. Gj\u00f8r det! Sjekk en skole n\u00e6r deg.</p>\n",
        "<p class=\"plakdag\">Mandag 02. juni</p>\n",
        "<p class=\"plaktxt\">Foredrag: Tidligere president for Europaparlamentet Jerzy Buzek vil snakke om krisen i Ukraina og hva slags implikasjoner dette har for forholdet mellom EU, \u00d8st-Europa og Russland. Aud. 7 i Eilert Sundts hus p\u00e5 Blindern, 10.00</p>\n",
        "<p class=\"plakdag\">Onsdag 04. juni</p>\n",
        "<p class=\"plaktxt\">Vin & vinyl: I juni er det Musikkfest i Oslo, med 34 utescener over hele byen og gratis konserter fra morgen til kveld. Chateau har invitert folkene bak til ta med seg en knippe l\u00e5ter og fortelle om scener, sjangere og band fra \u00e5rets program, og \u00e5 gi et lite tilbakeblikk p\u00e5 band som spilte p\u00e5 Musikkfest lenge f\u00f8r ber\u00f8mmelsen tok dem. Biblioteket p\u00e5 Chateau Neuf, 20.00</p>\n",
        "<p class=\"txt\">Gi oss beskjed om arrangementer p\u00e5 epost: universitas@universitas.no</p>"
       ],
       "metadata": {},
       "output_type": "display_data",
       "text": [
        "<IPython.core.display.HTML at 0x7fa66aea4198>"
       ]
      },
      {
       "html": [
        "<p class=\"plakdag\">Onsdag 21. mai</p>\n",
        "<p class=\"plaktxt\">Vin&Vinyl: har gleden av \u00e5 kunne presentere Kristopher Schau. Schau har tidligere gjestet dem med temaer som \u00abSurt, grisete og religi\u00f8st\u00bb og \u00abPlater kj\u00f8pt under parolen 'H\u00e6, hva faen?'\u00bb, s\u00e5 det er bare \u00e5 glede seg og vente i spenning p\u00e5 hvilke godbiter han har med fra vinylsamlingen denne gangen. Biblioteket p\u00e5 Chateau Neuf, 20.00</p>\n",
        "<p class=\"plakdag\">Fredag 23. mai</p>\n",
        "<p class=\"plaktxt\">Avgangsutstillingen: Avgangselevene p\u00e5 masterprogrammet i billedkunst ved Kunsth\u00f8gskolen i Oslo stiller ut sine verker. Utstillingen st\u00e5r til 8. juni. Kunstnernes hus, 19.00</p>\n",
        "<p class=\"plakdag\">L\u00f8rdag 24. mai</p>\n",
        "<p class=\"plaktxt\">UiO-festivalen: I fjor kom det 6000 til Universitetet i Oslo p\u00e5 Blindern for \u00e5 h\u00f8re og oppleve innslag fra forskningens verden. I \u00e5r gjentar de suksessen. UiO-festivalen omfatter debatter, konserter, foredrag, fotoutstilling, barneuniversitet, stands og servering. Blindern campus, 12.00</p>\n",
        "<p class=\"plakdag\">S\u00f8ndag 25. mai</p>\n",
        "<p class=\"plaktxt\">V\u00e5rtreff p\u00e5 botanisk hage: Opptatt av planter? Denne s\u00f8ndagen er det v\u00e5rtreff i Botanisk hage. Det vil v\u00e6re plantesalg, omvisning, presentasjoner av planteforeninger og lignende. Botanisk hage, 10.00</p>\n",
        "<p class=\"plakdag\">S\u00f8ndag 25. mai</p>\n",
        "<p class=\"plaktxt\">Film og debatt: Hepatitt C er sp\u00e5dd \u00e5 bli den neste store folkehelsekrisen etter HIV/AIDS. Mange legemiddelfirmaer \u00f8nsker \u00e5 tilby sine medisiner til store pengesummer. F\u00f8rst vises filmen \u00abFire in the blood\u00bb, s\u00e5 blir det paneldebatt. Tema for debatten er: Lar vi legemiddelindustrien sette prisen p\u00e5 et liv? Nedjma p\u00e5 Litteraturhuset, 18.00</p>\n",
        "<p class=\"plakdag\">Tirsdag 27. mai</p>\n",
        "<p class=\"plaktxt\">Kunstarrangement: \u00ab++\u00bb er et kunstarrangement i foajeen p\u00e5 Black Box Teater. Hundre kvadratmeter foaj\u00e9, med en takh\u00f8yde p\u00e5 seks meter og en ut\u00f8mmelig bar, skal i l\u00f8pet av tre kvelder denne v\u00e5ren fylles med billedkunst, litteratur, video, konserter, dans, fanziner, performance og teater. Black Box Teater, 19.00</p>"
       ],
       "metadata": {},
       "output_type": "display_data",
       "text": [
        "<IPython.core.display.HTML at 0x7fa66aea4198>"
       ]
      },
      {
       "html": [
        "<p class=\"fak1\">Irene Kittelsen</p>\n",
        "<p class=\"fak2\">Av: Jesper Halle</p>\n",
        "<p class=\"fak2\">Med: Avgangsstudentene p\u00e5 bachelorstudiet ved Teaterh\u00f8gskolen</p>\n",
        "<p class=\"txt\">Norges skuespillerfremtid hviler p\u00e5 deres unge skuldre, og avgangsforestillingen p\u00e5 Teaterh\u00f8gskolen er siste mulighet til \u00e5 f\u00e5 vist seg fram f\u00f8r de skal ut og krige om roller i en t\u00f8ff bransje.</p>\n",
        "<p class=\"txt\"><I>Irene Kittelsen</I> er skrevet spesielt for anledningen av dramatiker og professor Jesper Halle. Stykket f\u00f8lger \u00e5tte venner p\u00e5 leting etter Irene \u2013 gjengens bindeledd, som p\u00e5 mystisk vis har forsvunnet. Gjennom en rekke tilbakeblikk, der skuespillerne bytter p\u00e5 rollen som Irene, graves dramatiske ledetr\u00e5der fram fra hukommelsen. Alt fra romantisk soloppgang i Portugal til knisete r\u00f8lpefester f\u00f8rer dem n\u00e6rmere Irenes skjebne.</p>\n",
        "<p class=\"txt\">Handlingen er isolert sett gripende, og det er ingen tvil om at skuespillerne har talent. Dette er mennesker som mestrer og elsker sitt fag, men likevel minner noen av scenene om en slags subtil folkeh\u00f8yskolerevy. De bryter flere ganger ut i samstemt dans til sangen \u00ab<I>Happy\u00bb</I> av Pharrel Willams og noen av karakterene virker stereotypiske og hule.</p>\n",
        "<p class=\"txt\">Om ikke utelukkende blir <I>Irene Kittelsen</I> til tider mer <I>Chat Noir</I> enn <I>National</I>. Kunsten \u00e5 underholde skal ikke kimses av, men man f\u00f8ler likevel at de holder seg innenfor et noks\u00e5 komfortabelt spillerom ved denne formen. Det utelukker s\u00e5ledes det helt spektakul\u00e6re.</p>\n",
        "<p class=\"txt\">Selv om ingen av de \u00e5tte avgangsstudentene skiller seg ut i mengden, hviler Norges teaterutsikter likevel p\u00e5 trygge skuldre. Niv\u00e5et <I>er</I> jevnt over h\u00f8yt, og flere av dem har potensiale til \u00e5 bli gjengangere p\u00e5 norske scener og skjermer i fremtiden. Tatt i betraktning at mye av <I>Irene Kittelsen</I> foreg\u00e5r i bedugget tilstand, er det ei heller umulig at vi har sett den neste Jeppe p\u00e5 bjerget p\u00e5 Teaterh\u00f8gskolen denne mandagskvelden.</p>"
       ],
       "metadata": {},
       "output_type": "display_data",
       "text": [
        "<IPython.core.display.HTML at 0x7fa66aea4198>"
       ]
      },
      {
       "html": [
        "<p class=\"txt\">Kommentar</p>\n",
        "<p class=\"txt\">Den 6. mai valgte universitetsstyret ved Universitetet i Oslo (UiO) \u00e5 gi blaffen i demokratiet. Da Ruth Vatvedt Fjeld trakk seg fra stillingen som prorektor, skulle det if\u00f8lge valgreglementet skrives ut nyvalg p\u00e5 b\u00e5de rektor og prorektor. Rektor og styreleder Ole Petter Ottersen var imidlertid lite lysten p\u00e5 \u00e5 miste makten.</p>\n",
        "<p class=\"txt\">Ottersen var \u00e5penbart klar over hva Fjelds avgang kunne bety: <I>hans egen avgang</I>. I UiOs valgreglement st\u00e5r det klart at dersom rektor eller prorektor fratrer \u00abmer enn seks m\u00e5neder f\u00f8r funksjonstiden er ute, foretas nyvalg for den tiden som er igjen\u00bb (\u00a721-2). Ettersom \u00abrektor og prorektor velges under ett\u00bb (\u00a721-3), inneb\u00e6rer dette et nyvalg p\u00e5 b\u00e5de rektor og prorektor. Ved hjelp av en rekke knep har Ottersen og styret han leder, tr\u00e5kket p\u00e5 sine egne demokratiske spilleregler og avsl\u00f8rt hva som er viktigst: <I>\u00e5 beholde makten</I>.</p>\n",
        "<p class=\"txt\">UiOs f\u00f8rste knep var \u00e5 nekte for at Ruth Vatvedt Fjelds avgang hadde universitetspolitiske grunner. I valgstyrets dokument om Fjelds oppsigelse betegner de den heller som \u00aben personlig overveielse\u00bb. Det er vanskelig \u00e5 se for seg at noen kan si opp jobben sin uten \u00e5 gjennomf\u00f8re en personlig overveielse. Begrepet er meningsl\u00f8st i denne sammenhengen og er ment \u00e5 skjule de faktiske problemene.</p>\n",
        "<p class=\"txt\">Fjeld har betvilt UiOs konklusjon b\u00e5de i Universitas og Uniforum. Hun mener selv hun har presisert \u00abmeget klart\u00bb at hun ikke g\u00e5r av personlig grunner, men av faglige og arbeidsmessige grunner. Fratredelsen skyldes, if\u00f8lge Fjeld, problemer med arbeidsfordeling og arbeidsmilj\u00f8. Hun sier at arbeidskapasiteten og kompetansen hennes ikke ble utnyttet, og at hun fikk mindre ansvar enn hun forventet f\u00f8r valget. Dette st\u00e5r ogs\u00e5 svart p\u00e5 hvitt i hennes fratredelseserkl\u00e6ring, som ble forelagt styrem\u00f8tet 6. mai.</p>\n",
        "<p class=\"txt\">Det andre kunstgrepet var valgstyrets selektive og meget problematiske bruk av begrepet \u00abdemokrati\u00bb. Et av argumentene bak styrets avgj\u00f8relse var at et nyvalg var udemokratisk. De mente velgerne fortjente \u00e5 f\u00e5 beholde den politiske plattformen de hadde stemt p\u00e5, i en periode p\u00e5 fire \u00e5r. Er det ikke mer udemokratisk \u00e5 la gamle stemmer fra valget i 2013 trumfe de som etter reglene skulle v\u00e6rt avgitt ved et nyvalg i 2014? Argumentet om at et gammelt resultat trumfer det som ville v\u00e6rt gitt i dag <I>av demokratiske hensyn,</I> faller p\u00e5 sin egen urimelighet. Styrets l\u00f8sning er kort sagt ikke demokratisk.</p>\n",
        "<p class=\"txt\">Det tredje knepet var \u00e5 garantere at velgerne vil f\u00e5 den samme politiske plattformen n\u00e5 som f\u00f8r. Velgerne hadde i fjor st\u00f8rst tro p\u00e5 Ottersen og Fjeld. De stemte p\u00e5 personer, ikke et parti eller en liste.</p>\n",
        "<p class=\"txt\">Det er dobbeltmoralsk at Ottersen bryter demokratiske regler n\u00e5r han i sitt valgprogram lover \u00e5 \u00abutdanne kompetente og engasjerte samfunnsborgere med dyp innsikt i de verdiene som v\u00e5rt demokrati er bygget p\u00e5\u00bb. Det er h\u00f8yst tvilsomt om Ottersen har innfridd l\u00f8ftet om en \u00abs\u00e5 stor forutsigbarhet som mulig i sitt karrierel\u00f8p ved UiO\u00bb overfor sin kollega og medkandidat Fjeld. S\u00e5 kj\u00e6re Ole Petter Ottersen: N\u00e5r du sier til Universitas at du \u00abikke kan se hvordan saken kan bidra til \u00e5 undergrave studentdemokratiet\u00bb, holder du da ditt valgl\u00f8fte om \u00e5 gj\u00f8re UiO til \u00abet selvkritisk universitet som lar seg se i kortene\u00bb?</p>\n",
        "<p class=\"txt\">Valgstyret har ogs\u00e5 vektlagt effektivitet og ressursbruk. De har rett i at et nyvalg vil koste penger, men argumentet om tap av effektiv styretid er eksplisitt tatt h\u00f8yde for i reglementet. Det kreves ikke nyvalg hvis det er seks m\u00e5neder eller mindre igjen av perioden. Denne regelen skal sikre effektivitet. Det er n\u00e5 tre og et halvt \u00e5r igjen av perioden til Ottersen.</p>\n",
        "<p class=\"txt\">UiO skriver p\u00e5 sine nettsider at de vil unng\u00e5 \u00abden ulempe et nyvalg ville p\u00e5f\u00f8re institusjonen.\u00bb Det virker mer sannsynlig at de vil unng\u00e5 den ulempen et nyvalg ville p\u00e5f\u00f8re den sittende ledelsen. Studentrepresentantene var de eneste i styret som stemte nei til forslaget. Det er ikke et tegn p\u00e5 st\u00f8tte fra oss studenter. I fjor\u00e5rets rektorvalg stemte kun 14 prosent av oss, og denne saken vil ikke bidra til \u00e5 \u00f8ke Ottersens legitimitet. Et nyvalg b\u00f8r derfor skrives ut \u2013 n\u00e5! P\u00e5 den m\u00e5ten kan demokratiet avgj\u00f8re hvorvidt de fortsatt har tro p\u00e5 Ottersen.</p>"
       ],
       "metadata": {},
       "output_type": "display_data",
       "text": [
        "<IPython.core.display.HTML at 0x7fa66aea4198>"
       ]
      },
      {
       "html": [
        "<p class=\"txt\">Rektor Ole Petter Ottersen og viserektor Knut F\u00e6gri har blitt forelagt Ruth Vatvedt Fjelds framstillinger i denne saken. Ottersen sier via Universitetet i Oslos kommunikasjonsdirekt\u00f8r at han ikke kjenner seg igjen i beskrivelsene til Fjeld, men at han heller ikke \u00f8nsker \u00e5 kommentere saken i mediene. For \u00f8vrig viser han til UHR-loven som sier at prorektor er stedfortreder for rektor.</p>\n",
        "<p class=\"txt\">Viserektor F\u00e6gri er uenig i Fjelds framstilling. I en e-post til Universitas skriver han at \u00abSaken p\u00e5 rektoratm\u00f8tet som Vatvedt Fjell (sic, red. anm.) viser til (utredningen av doktorgradsutdanningen, red.anm) gjaldt oppf\u00f8lging av en tidligere styresak.\u00bb F\u00e6gri mener ansvaret for dette ble lagt til ham under et ledelsesm\u00f8te tidlig h\u00f8st 2013, der Ruth Vatvedt Fjeld ogs\u00e5 var tilstede.</p>\n",
        "<p class=\"txt\">F\u00e6gri mener det ikke er riktig at oppgaver som tidligere till\u00e5 prorektorstillingen ble overf\u00f8rt til ham, og sier at de oppgavene han overtok i forbindelse med forskning i hovedsak var oppf\u00f8lging av oppgaver som tidligere hadde ligget hos forskningsdirekt\u00f8ren.</p>\n",
        "<p class=\"txt\">\u2013 I perioden frem mot overgang til ny struktur i ledelsen fra 1.1.14 var det behov for forankring av disse oppgavene inn mot ledelsen og generell kontakt med Forskningsadministrativ avdeling, skriver viserektoren i e-posten.</p>\n",
        "<p class=\"txt\">magasin@universitas.no</p>"
       ],
       "metadata": {},
       "output_type": "display_data",
       "text": [
        "<IPython.core.display.HTML at 0x7fa66aea4198>"
       ]
      },
      {
       "html": [
        "<p class=\"tit\">Mener Ottersen er redd for \u00e5 bli satt i skyggen</p>\n",
        "<p class=\"txt\">Rektorvalg</p>\n",
        "<p class=\"txt\">John Peter Collett, historieprofessor ved UiO, sier Ole Petter Ottersen er en entusiastisk og utrettelig rektor, men som er sv\u00e6rt opptatt av ikke \u00e5 bli satt i skyggen av andre.</p>\n",
        "<p class=\"txt\">\u2013 Ottersen har siden han f\u00f8rste gang ble valgt som rektor omgitt seg med et p\u00e5fallende svakt og anonymt team i rektoratet, sier han, og trekker fram ansettelsen av Ruth V. Fjeld som et eksempel p\u00e5 dette.</p>\n",
        "<p class=\"txt\">\u2013 Han er vant til \u00e5 vite best og v\u00e6re best. Ved \u00e5 velge et lederteam som verken har tyngde eller autoritet, omgir han seg med personer som ikke setter ham selv i skyggen, sier Collett.</p>\n",
        "<p class=\"txt\">Han mener Fjelds avgang skyldtes at hun ikke var i stand til \u00e5 fylle rollen som prorektor.</p>\n",
        "<p class=\"txt\">\u2013 F\u00f8r valget i fjor valgte Ottersen en prorektorkandidat uten relevant erfaring, som ingen kjente, og som ikke overraskende viste seg \u00e5 v\u00e6re ute av stand til \u00e5 fylle denne rollen. Det taler til Fjelds fordel at hun etter kort tid inns\u00e5 at det var slik, og at hun n\u00e5 trekker seg, sier Collett.</p>\n",
        "<p class=\"txt\">Han mener derimot at det ikke taler til Ottersens fordel at han f\u00f8rst velger en \u00abukvalifisert\u00bb prorektorkandidat, og deretter gir henne \u00abliten kollegial og menneskelig st\u00f8tte\u00bb. Fjeld \u00f8nsker ikke \u00e5 kommentere Colletts p\u00e5stand om manglende egnethet. Heller ikke Ottersen vil kommentere saken.</p>\n",
        "<p class=\"txt\">\u2013 I et demokratisk samfunn, og ved Universitetet i Oslo der rektor Ottersen er opptatt av valg og demokrati, m\u00e5 man ha en \u00e5pen debatt og ikke gj\u00f8re opp ting p\u00e5 kammerset, sier historieprofessor John Peter Collett til Universitas. Han er ansatt ved Universitetet i Oslo (UiO), der det i april ble kjent at Ruth V. Fjeld trakk seg som prorektor. Etter UiOs valgreglement skulle dette f\u00f8rt til nyvalg av b\u00e5de rektor og prorektor, men p\u00e5 et m\u00f8te 6. mai valgte universitetsstyret \u00e5 overse disse reglene. Ottersen hevdet at Fjeld trakk seg av personlige \u00e5rsaker, noe Fjeld selv er uenig i. Hun forteller at hun trakk seg blant annet p\u00e5 grunn av mangel p\u00e5 arbeidsoppgaver.</p>\n",
        "<p class=\"mt\">\u2013 Fryktelig skuffende</p>\n",
        "<p class=\"txt\">\u2013 Denne saken har blitt h\u00e5ndtert p\u00e5 en fryktelig skuffende m\u00e5te. Jeg er bekymret over at universitetsstyret ikke tar hensyn til egne regler. Det er deres oppgave \u00e5 passe p\u00e5 at valgreglementet blir overholdt, sier Collett.</p>\n",
        "<p class=\"txt\">Han f\u00e5r st\u00f8tte av Johan F. Storm, medisinprofessor ved UiO og styremedlem i Akademisk forum.</p>\n",
        "<p class=\"txt\">\u2013 Dersom organer og ledere uten videre kan sette til side eller bryte gjeldende regler, kan det bane vei for \u00f8kt vilk\u00e5rlighet og maktbruk som svekker den demokratiske kontrollen, sier Storm, som tidligere har uttalt seg om saken til Uniforum.</p>\n",
        "<p class=\"txt\">\u2013 At ledelsen insisterte p\u00e5 \u00e5 bruke ordet \u00abpersonlig\u00bb n\u00e5r Fjeld har gjort det krystallklart overfor dem at hun ikke mener dette, er misvisende, sier han.</p>\n",
        "<p class=\"mt\">\u2013 S\u00e5r tvil om rektors motiver</p>\n",
        "<p class=\"txt\">Etter at Fjeld trakk seg, tok tidligere viserektor Ragnhild Hennum over prorektorjobben.</p>\n",
        "<p class=\"txt\">\u2013 Universitetsledelsen har brutt eget reglement, og rektoratet best\u00e5r n\u00e5 av andre personer enn de som ble valgt, oppsummerer Ellen Dalen, leder i Norsk Tjenestemannslag (NTL) ved UiO.</p>\n",
        "<p class=\"txt\">\u2013 Det har ogs\u00e5 kommet motstridende informasjon om hva som var \u00e5rsaken til at Fjeld trakk seg, og dette kan bidra til \u00e5 s\u00e5 tvil om rektors motiver for \u00e5 fravike reglementet, sier hun.</p>\n",
        "<p class=\"txt\">Leder av UiOs valgstyre, Knut Heidar, sier til Universitas at valgstyrets oppgave var \u00e5 gi universitetsstyret en anbefaling som ivaretok valget som velgerne hadde gjort for denne rektorperioden.</p>\n",
        "<p class=\"mt\">Trekker seg i protest</p>\n",
        "<p class=\"txt\">I forkant av m\u00f8tet i universitetsstyret 6. mai leverte Christian Stranden\u00e6s, studentrepresentant i UiOs valgstyre, en skriftlig dissens mot \u00e5 overkj\u00f8re valgreglementet til det \u00f8vrige valgstyret. Denne dissensen kom ikke med i sakspapirene. Valgstyreleder Heidar sier at han ikke husker at Stranden\u00e6s ba om at dissensen skulle f\u00f8lge sakspapirene.</p>\n",
        "<p class=\"txt\">\u2013 Den burde v\u00e6rt skriftlig fremlagt p\u00e5 styrem\u00f8tet, og jeg m\u00e5 ta p\u00e5 min kappe at det ikke ble gjort. Men jeg orienterte muntlig om dissensen under styrem\u00f8tet, sier Heidar.</p>\n",
        "<p class=\"txt\">Stranden\u00e6s har n\u00e5 valgt \u00e5 trekke seg fra sitt verv i protest.</p>\n",
        "<p class=\"txt\">\u2013 Jeg trekker meg fordi mitt alternative forslag til vedtaket ikke ble lagt ved i presentasjonen til universitetsstyret, slik det skulle. Det er heller ikke innenfor valgstyrets mandat \u00e5 anbefale universitetsstyret \u00e5 fravike reglementet, sier han til Universitas.</p>\n",
        "<p class=\"txt\">Studentrepresentantene i universitetsstyret var de eneste som stemte mot forslaget om \u00e5 innsette Ragnhild Hennum som prorektor uten nyvalg. En samlet masse av studentpolitikere ved UiO krever n\u00e5 nyvalg.</p>\n",
        "<p class=\"txt\">\u2013 Det er arrogant av universitetsstyret \u00e5 se bort fra demokratiske prinsipper, sier Gabrielle Gjerdset, leder av Studentparlamentet.</p>\n",
        "<p class=\"mt\">\u2013 Har bommet fundamentalt</p>\n",
        "<p class=\"txt\">Samtlige ansatte og studenter Universitas har snakket med i denne saken, mener n\u00e5 at tilliten til Ottersen er svekket. Tross flere henvendelser, \u00f8nsker ikke rektor Ottersen \u00e5 kommentere saken eller anklagene mot ham.</p>\n",
        "<p class=\"txt\">\u2013 Det foreligger flere grove saksbehandlingsfeil i denne saken, og da kan ikke rektor la v\u00e6re \u00e5 uttale seg til pressen, sier jussprofessor Anne Robberstad.</p>\n",
        "<p class=\"txt\">Hun mener at UiOs valgstyre ikke kan bryte valgreglementet kun fordi de selv mener det er gode nok grunner for det.</p>\n",
        "<p class=\"txt\">\u2013 Universitetsreglementet har ikke like h\u00f8y rang som loven selv, men er like bindende. Valgstyret har bommet fundamentalt p\u00e5 sp\u00f8rsm\u00e5let om de har adgang til \u00e5 se bort fra reglementet, fordi de mener gode grunner talte for det, sier Robberstad til Universitas.</p>\n",
        "<p class=\"mt\">\u2013 Partisk fremleggelse</p>\n",
        "<p class=\"txt\">Da Fjeld leverte sin fratredelseserkl\u00e6ring til rektor Ottersen 24. april, informerte Ottersen universitetsdirekt\u00f8ren umiddelbart. Men Ottersen signerte ikke erkl\u00e6ringen f\u00f8r 30. april, da sakspapirene ble overlevert til valgstyret. Universitetsstyret fikk ikke se erkl\u00e6ringen f\u00f8r under selve styrem\u00f8tet 6. mai.</p>\n",
        "<p class=\"txt\">\u2013 Det er viktig at styret f\u00e5r informasjonen de trenger for \u00e5 uttale seg om saken. Vi synes det er en utfordring i Universitetsstyret, ogs\u00e5 n\u00e5r det gjelder fagforeningssaker, at det skjer en partisk fremleggelse og at sakspapirer kommer for sent, sier Ellen Dalen i NTL.</p>\n",
        "<p class=\"mt\">Fikk munnkurv av Ottersen</p>\n",
        "<p class=\"txt\">Fjeld har gitt Universitas tilgang til en liste p\u00e5 \u00e5tte punkter som spesifiserer hvordan fratredelsen skulle foreg\u00e5. Fjeld \u00f8nsker ikke at innholdet i selve listen skal gj\u00f8res kjent, men forteller at Ottersen ba henne skrive under p\u00e5 listen, noe hun nektet \u00e5 gj\u00f8re.</p>\n",
        "<p class=\"txt\">I Klassekampen kommer det frem at universitetsstyrets medlemmer fikk se alle saksdokumentene f\u00f8rst rett f\u00f8r avstemmingen. I samme avis st\u00e5r det at UiO-rektor Ole Petter Ottersen i forkant av styrem\u00f8tet ringte rundt til styremedlemmene, og at han sendte en mail til Fjeld der han ba henne si \u00abminst mulig\u00bb om sin avgang p\u00e5 styrem\u00f8tet.</p>\n",
        "<p class=\"txt\">Arnt Maas\u00f8, f\u00f8rsteamanuensis ved Institutt for medier og kommunikasjon ved UiO, reagerer p\u00e5 denne framgangen.</p>\n",
        "<p class=\"txt\">\u2013 Dette mener jeg fremst\u00e5r uryddig og kan skape et inntrykk av at han vil styre kommunikasjonen for \u00e5 unng\u00e5 et omvalg, sier Maas\u00f8 til Universitas.</p>\n",
        "<p class=\"txt\">Valgstyreleder Knut Heidar vil ikke uttale seg om hvorvidt UiOs valgstyre kjente til Ottersens ringerunde eller munnkurvmail til Fjeld. Han vil heller ikke si om valgstyrets anbefaling hadde v\u00e6rt annerledes dersom de kjente til dette.</p>\n",
        "<p class=\"mt\">\u2013 Skadelig ukultur</p>\n",
        "<p class=\"txt\">UiO-professor og styremedlem i Akademisk forum Johan F. Storm er imidlertid klar i sin dom over hva prorektorsaken kan v\u00e6re et symptom p\u00e5:</p>\n",
        "<p class=\"txt\">\u2013 Bruk av tilsl\u00f8rende omskrivninger og glatte politikerfraser synes dessverre \u00e5 v\u00e6re altfor utbredt og \u00f8kende blant en del ledere p\u00e5 UiO. Det er etter mitt syn uttrykk for en skadelig ukultur, sier han.</p>\n",
        "<p class=\"tit\">Talte varmt om demokratisk universitetsledelse</p>\n",
        "<p class=\"txt\">Fredag forrige uke var rektor Ottersen invitert til Nordisk institutt for studier av innovasjon, forskning og utdanning (NIFU) sin \u00e5rskonferanse. Der skulle han holde en tale med tittelen \u00abThis is why elected leadership is still important in Norwegian higher education\u00bb</p>\n",
        "<p class=\"txt\">\u2013 Det er litt ironisk. Akkurat n\u00e5 fremst\u00e5r han ikke som verdens st\u00f8rste demokrat. Han kan ikke bare v\u00e6re demokratisk n\u00e5r det passer han, sier Christian Stranden\u00e6s, studentrepresentanten som har trukket seg fra valgstyret i protest.</p>\n",
        "<p class=\"txt\">Universitas var til stede p\u00e5 NIFU-konferansen. P\u00e5 sp\u00f8rsm\u00e5l om tidspunktet for talen var ironisk, svarte Ottersen:</p>\n",
        "<p class=\"txt\">\u2013 Ingen kommentar.</p>"
       ],
       "metadata": {},
       "output_type": "display_data",
       "text": [
        "<IPython.core.display.HTML at 0x7fa66aea4198>"
       ]
      },
      {
       "html": [
        "<p class=\"txt\">Bergen</p>\n",
        "<p class=\"txt\">At sm\u00e5skolene m\u00f8ter opp i Velferdstinget er viktig b\u00e5de for deres egne studenter og hele studentbergen... Hvis sm\u00e5skolene samler kreftene, kan de til sammen bli like store som Universitetet i Bergen. Selv om de nok ikke f\u00e5r flertall alene, betyr ikke det at de ikke vil bli h\u00f8rt.</p>\n",
        "<p class=\"txt\">Universitas gir deg meninger fra verdens studentaviser</p>\n",
        "<p class=\"txt\">Lund</p>\n",
        "<p class=\"txt\">Jag tror de flesta studenter skulle tycka det vore otroligt sk\u00f6nt om de kunde g\u00e5 in p\u00e5 Medicinska fakultetens, Samh\u00e4llsvetenskapliga fakultetens eller vilket studentbibliotek man nu tillh\u00f6r och finna att man kunde l\u00e5na en stor del av sin kurslitteratur. Mer kurslitteratur p\u00e5 universitetets bibliotek s\u00e4nker tr\u00f6sklarna \u00e4n mer f\u00f6r de som vill studera. Skulle man kanske kunna f\u00e5 hoppas p\u00e5 en kurslitteratursatsning fr\u00e5n statsmaktens sida?</p>\n",
        "<p class=\"txt\">Cambridge</p>\n",
        "<p class=\"txt\">At every other Ivy League school, undergraduates already sit on judicial boards or are involved in disciplinary proceedings in one form or another. All but Yale have instituted a formal honor code or declaration of academic integrity. It's commendable that Harvard will catch up to its peer institutions, though unfortunate that it took a major cheating scandal to catalyze that needed transformation.</p>\n",
        "<p class=\"txt\">Los Angeles</p>\n",
        "<p class=\"txt\">Vending machines allow students to buy birth control on their own time without an awkward walk to the register... Stocking vending machines with contraceptives represents a simple yet tangible step to improving student sexual health. If UCLA can make buying condoms as easy as buying a bag of chips, the university can show its commitment toward making sex safer.</p>"
       ],
       "metadata": {},
       "output_type": "display_data",
       "text": [
        "<IPython.core.display.HTML at 0x7fa66aea4198>"
       ]
      },
      {
       "html": [
        "<p class=\"txt\">Nye og eldre studenter opplever i disse dager en bitter og ofte h\u00e5pl\u00f8s kamp for \u00e5 f\u00e5 et sted \u00e5 bo. Antagelig st\u00e5r flere i fare for \u00e5 m\u00e5tte reise hjem med uforrettet livssak. Ansvaret for denne uverdige situasjon ligger naturlig nok hos samfunnet, det er likevel n\u00e6rliggende \u00e5 sl\u00e5 fast at nettopp i dag b\u00f8r f\u00f8rst og fremst Oslo bykommune ha d\u00e5rlig samvittighet.</p>\n",
        "<p class=\"txt\"><b>Universitas nr. 8, 1964</b></p>"
       ],
       "metadata": {},
       "output_type": "display_data",
       "text": [
        "<IPython.core.display.HTML at 0x7fa66aea4198>"
       ]
      },
      {
       "html": [
        "<p class=\"mt\">Korab Kel Mendi (25) (Han med m\u00f8rkt h\u00e5r som s\u00e5 litt utenlandsk ut)</p>\n",
        "<p class=\"txt\">Universitetet i Oslo, Pedagogikk</p>\n",
        "<p class=\"txt\">1. Absolutt ikke.</p>\n",
        "<p class=\"txt\">2. Det ligger ikke noe i det de sier, jeg f\u00f8ler de bare driver med skremselspropaganda. De motsier seg selv i det de gj\u00f8r.</p>\n",
        "<p class=\"mt\">Erle Bj\u00f8rnstad (21) (Hun med blondt h\u00e5r)</p>\n",
        "<p class=\"txt\">Universitetet i Oslo, Juss</p>\n",
        "<p class=\"txt\">1. B\u00e5de ja og nei. 2. Kanskje fordi de ikke har den samme respekten og tilliten til systemet. Da er kanskje terskelen lavere for \u00e5 jukse.</p>\n",
        "<p class=\"mt\">Agnethe Halleland (24) (Hun med r\u00f8dt h\u00e5r)</p>\n",
        "<p class=\"txt\">H\u00f8yskolen i Oslo og Akershus, Samfunnsern\u00e6ring</p>\n",
        "<p class=\"txt\">1. Nei. 2. De tar kanskje ikke skolen s\u00e5 alvorlig som de burde, og tenker mer p\u00e5 at det ser bra ut p\u00e5 papiret. De bryr seg mer om innvandrere og \u00e5pningstider p\u00e5 polet, enn om skole.</p>\n",
        "<p class=\"mt\">Kristian Olsen (22) (Han med dress)</p>\n",
        "<p class=\"txt\">Universitetet i Oslo, Teoretisk fysikk</p>\n",
        "<p class=\"txt\">1. Ja. Jeg hadde v\u00e6rt overrasket over at det er en sammenheng uansett hvilket parti det hadde v\u00e6rt. 2. Aner ikke, jeg er ikke s\u00e5 opptatt av politikk.</p>"
       ],
       "metadata": {},
       "output_type": "display_data",
       "text": [
        "<IPython.core.display.HTML at 0x7fa66aea4198>"
       ]
      },
      {
       "html": [
        "<p class=\"txt\">P\u00e5troppende Universitas-redakt\u00f8r Geir Molnes vil by leserne p\u00e5 flere saftige avsl\u00f8ringer n\u00e5r han tar over roret.</p>\n",
        "<p class=\"txt\">Studentmedier</p>\n",
        "<p class=\"txt\">\u2013 Jeg l\u00e6rte mer i l\u00f8pet av mitt f\u00f8rste semester i Universitas enn jeg har l\u00e6rt gjennom hele studietiden, forteller Geir Molnes.</p>\n",
        "<p class=\"txt\">Han har v\u00e6rt ansatt i avisa siden h\u00f8sten 2012. F\u00f8rst som journalist, deretter som gravejournalist og det siste \u00e5ret som nyhetsredakt\u00f8r.</p>\n",
        "<p class=\"txt\">\u2013 Jeg ble skuffet over niv\u00e5et da jeg studerte medievitenskap ved UiO, men l\u00e6ringskurven var bratt da jeg begynte i Universitas. Jeg var helt ubrukelig i starten, men det bedret seg raskt.</p>\n",
        "<p class=\"txt\">Han gleder seg til \u00e5 lede en avis som evner \u00e5 finne ut av ting, og som klarer \u00e5 formidle det.</p>\n",
        "<p class=\"txt\">\u2013 Det blir j\u00e6vla g\u00f8y \u00e5 lede studentenes og akademias fremste vaktbikkje.</p>\n",
        "<p class=\"mt\">Grave-Geir</p>\n",
        "<p class=\"txt\">Dialekt avsl\u00f8rer ikke at Molnes opprinnelig kommer fra s\u00f8rlandsbyen Ris\u00f8r. Hans skarpe penn legger ikke skjul p\u00e5 at han elsker \u00e5 trenge seg gjennom akademias lukkede d\u00f8rer, slik at ingenting g\u00e5r up\u00e5aktet hen.</p>\n",
        "<p class=\"txt\">\u2013 Jeg vil at Universitas skal bli flinkere til \u00e5 drive med unders\u00f8kende gravejournalistikk, noe jeg har jobba mye med som nyhetsredakt\u00f8r. Hvis vi skal heve oss, m\u00e5 det skapes et st\u00f8rre engasjement for dette i hele redaksjonen. Det skal leserne f\u00e5 merke gjennom flere saftige avsl\u00f8ringer.</p>\n",
        "<p class=\"mt\">Nytt p\u00e5 nett</p>\n",
        "<p class=\"txt\">\u2013 \u00d8konomien i Universitas er ikke god nok. Jeg skal ta en grundig kikk p\u00e5 den, for \u00e5 se om vi kan prioritere ressursene bedre enn i dag. Jeg tror ogs\u00e5 det skal v\u00e6re mulig \u00e5 selge flere annonser enn det vi gj\u00f8r per dags dato, sier Molnes.</p>\n",
        "<p class=\"txt\">Han vil ogs\u00e5 f\u00f8lge opp sittende redakt\u00f8r Anne Fougner Helseth sitt arbeid med \u00e5 fornye avisas nettsider.</p>\n",
        "<p class=\"txt\">\u2013 For meg er det viktig at de nye nettsidene skal tilby noe utover det leserne f\u00e5r p\u00e5 papir. Jeg vil ha interaktiv grafikk i klassiske tallsaker, og jeg vil at vi skal l\u00f8se featurejournalistikken p\u00e5 en helt annen m\u00e5te enn i dag. Der vil det visuelle f\u00e5 en mye mer sentral plass.</p>\n",
        "<p class=\"mt\">Bedre samhold</p>\n",
        "<p class=\"txt\">Som sjef p\u00e5 en arbeidsplass vil Molnes v\u00e6re en leder som f\u00e5r hele Universitas-redaksjonen til \u00e5 trekke i samme retning. Og han vil at alle skal glede seg til \u00e5 komme p\u00e5 jobb.</p>\n",
        "<p class=\"txt\">\u2013 Mange ofrer mye \u00f8konomisk for \u00e5 bidra til Universitas, og avisa er helt avhengig av dugnads\u00e5nd for at hjulene skal g\u00e5 rundt. Det er det lettere \u00e5 f\u00e5 til hvis alle kjenner alle og gleder seg til \u00e5 komme p\u00e5 kontoret for \u00e5 hilse p\u00e5 vennene sine.</p>\n",
        "<p class=\"txt\">Under Molnes sin ledelse blir det derfor langt flere Universitas-fester.</p>\n",
        "<p class=\"txt\">\u2013 Ikke for at vi skal leve ut den gamle journalistklisjeen om forsofne \u00f8lhunder som skriver i bakrus, men for \u00e5 skape et bedre samhold i avisa, avslutter Geir Molnes.</p>\n",
        "<p class=\"txt\">marengeb@universitas.no</p>"
       ],
       "metadata": {},
       "output_type": "display_data",
       "text": [
        "<IPython.core.display.HTML at 0x7fa66aea4198>"
       ]
      },
      {
       "html": [
        "<p class=\"txt\">Ofte har vi inntrykk av at det er lettere for oss mennesker \u00e5 tro p\u00e5 sp\u00f8kelser og engler enn det er \u00e5 tro p\u00e5 vitenskapen. Er dette s\u00e5 farlig? Neppe. Men vi g\u00e5r glipp av mye spennende kunnskap om verden fordi vi ikke greier \u00e5 gripe det de sysler med ute i forskningsfronten. Og siden storparten av forskningen er betalt av oss som skattebetalere eller som markedsakt\u00f8rer, b\u00f8r vi alle v\u00e6re interessert i \u00e5 gj\u00f8re kl\u00f8ften mellom oss og vitenskapen minst mulig</p>\n",
        "<p class=\"txt\">Word. Fra kommentaren \u00abVitenskapen og vi\u00bb i Dagbladet, 20.05.</p>\n",
        "<p class=\"txt\">Fylkesr\u00e5dmann Evy-Anni Evensen vil utsette fusjon av H\u00f8yskolen i Telemark og Universitetet i Agder. Det er fylkestinget i Telemark som skal behandle denne saken i et ekstraordin\u00e6rt m\u00f8te mandag 26. mai. Til n\u00e5 har det v\u00e6rt klart at motstanden mot \u00e5 sl\u00e5 sammen H\u00f8yskolen i Telemark og Universitetet i Agder har v\u00e6rt stor i Agder. Men n\u00e5 r\u00f8rer det seg ogs\u00e5 i Telemark.</p>\n",
        "<p class=\"txt\">Er ikke st\u00f8rre bedre? Fra saken \u00abFylkesr\u00e5dmann vil utsette universitetet\u00bb i Telemarksavisa, 20.05.</p>"
       ],
       "metadata": {},
       "output_type": "display_data",
       "text": [
        "<IPython.core.display.HTML at 0x7fa66aea4198>"
       ]
      },
      {
       "html": [
        "<p class=\"txt\">Studentersamfundet: \u2013 Vi er str\u00e5lende forn\u00f8yd med de siste arrangementene vi har hatt, sier H\u00e5kon S\u00f8iland, leder i Kulturutvalget p\u00e5 Chateau Neuf. Torsdag 8. mai talte Tibets \u00e5ndelige leder, Dalai Lama, til en stappfull sal med studenter. Den 12. mai var de russiske dissidentene i Pussy Riot hovedgjester sammen med den feministiske filosofen Judith Butler. Arrangementene ble avholdt i samarbeid med henholdsvis Arne N\u00e6ss Symposium og The First Supper Symposium. Overskuddet fra Pussy Riot og Butler gikk til organisasjonen Zona Prava, for \u00e5 hjelpe fanger i russiske fengsler. \u2013 Vi har ikke gjort opp regnskap helt enn\u00e5, men jeg vil ansl\u00e5 mellom 600 og 800 betalende gjester der, noe som er bra for et s\u00e5nt arrangement. Det blir en klekkelig sum til gode form\u00e5l, forteller S\u00f8iland.</p>"
       ],
       "metadata": {},
       "output_type": "display_data",
       "text": [
        "<IPython.core.display.HTML at 0x7fa66aea4198>"
       ]
      },
      {
       "html": [
        "<p class=\"txt\">Hjerneflukt</p>\n",
        "<p class=\"txt\">Frederik Zimmer, professor i skatterett ved Det juridiske fakultet ved Universitetet i Oslo (UiO), g\u00e5r av med pensjon ved utl\u00f8pet av dette semesteret og etterlater fakultetet uten en fast ansatt l\u00e6rer i skatterett. Forel\u00f8pig st\u00e5r stillingen uten en potensiell etterf\u00f8lger.</p>\n",
        "<p class=\"txt\">Curt A. Lier, president i Juristforbundet, synes det er bekymringsverdig at Det juridiske fakultet blir st\u00e5ende uten en professor i skatterett.</p>\n",
        "<p class=\"txt\">\u2013 Juristforbundet har lenge fryktet at dette vil bli et stort problem, da det er stadig f\u00e6rre unge som velger akademia, sier Lier.</p>\n",
        "<p class=\"txt\">Han frykter at professormangelen vil p\u00e5virke kvaliteten p\u00e5 undervisningen og derfor virke negativt p\u00e5 fremtidig kompetanse innenfor skattefeltet.</p>\n",
        "<p class=\"mt\">G\u00e5r av med pensjon</p>\n",
        "<p class=\"txt\">Zimmer har selv uttrykt bekymring over mangelen p\u00e5 s\u00f8kere, men understreker samtidig at skatterett er et lite fag med en relativt snever rekrutteringsbase. Han tror ogs\u00e5 at mye av \u00e5rsaken ligger i at n\u00e6ringslivet fremst\u00e5r som et mer interessant alternativ for jurister med kompetanse innenfor skattefeltet.</p>\n",
        "<p class=\"txt\">\u2013 Det finnes flere kvalifiserte folk, men disse har valgt \u00e5 bli advokater. Jeg tror det er en temperamentssak. Noen foretrekker et sosialt arbeidsmilj\u00f8 hvor det skjer mye, og der stiller akademia svakere, forteller Zimmer.</p>\n",
        "<p class=\"txt\">Han tror imidlertid at flere vil \u00f8nske \u00e5 drive med akademisk virksomhet etter hvert, og derfor vende tilbake til universitetene.</p>\n",
        "<p class=\"mt\">Etterlyser mer aggressiv politikk</p>\n",
        "<p class=\"txt\">Curt A. Lier i Juristforbundet mener at det m\u00e5 gj\u00f8res en omfattende analyse av hvorfor kvalifiserte kandidater ikke s\u00f8ker p\u00e5 stillingene.</p>\n",
        "<p class=\"txt\">\u2013 For \u00e5 kunne rekruttere nye s\u00f8kere er fakultetet avhengig av \u00e5 finne den fullstendige \u00e5rsaken til hvorfor n\u00e6ringslivet fremst\u00e5r som mer attraktivt. Vi m\u00e5 f\u00f8re en mer aggressiv politikk og tenke bredere enn det som har blitt gjort tidligere, sier han.</p>\n",
        "<p class=\"txt\">Han tilf\u00f8yer at l\u00f8nn og status sannsynligvis er viktige faktorer, men ikke en fullverdig forklaring p\u00e5 s\u00f8kermangelen.</p>\n",
        "<p class=\"txt\">\u2013 Professorstillingene er forholdsvis d\u00e5rlig betalt og hadde dessuten h\u00f8yere status f\u00f8r. Den yngre generasjonen viser mer interesse for \u00f8konomisk gevinst og st\u00e5r derfor ikke akkurat i k\u00f8 for \u00e5 ta over jobbene, sier Lier.</p>\n",
        "<p class=\"mt\">F\u00e5r skryt for innsats</p>\n",
        "<p class=\"txt\">Amund Noss, sjef for skattelovsavdelingen i Finansdepartementet, mener det er viktig \u00e5 opprettholde det undervisningsniv\u00e5et Zimmer har st\u00e5tt for.</p>\n",
        "<p class=\"txt\">\u2013 Frederik Zimmer er en bauta i norsk skatterett, s\u00e5 det vil bli vanskelig \u00e5 finne noen som kan erstatte ham, sier Noss, som h\u00e5per Zimmer vil fortsette \u00e5 oppdatere de \u00abveldig gode\u00bb l\u00e6reb\u00f8kene han har skrevet i skatterett.</p>\n",
        "<p class=\"txt\">Han forteller at tett kontakt med ledende akademikere er viktig for arbeidet i skattelovavdelingen.</p>\n",
        "<p class=\"txt\">\u2013 For oss vil det v\u00e6re veldig synd hvis vi ender opp uten et godt skattefaglig milj\u00f8 p\u00e5 universitetet, sier han.</p>\n",
        "<p class=\"mt\">Et problem for hele landet</p>\n",
        "<p class=\"txt\">Dekan ved Det juridiske fakultet ved UiO, Hans Petter Graver, synes det er sv\u00e6rt beklagelig at fakultetet ikke har funnet en etterf\u00f8lger til Zimmer. Han mener det er et resultat av uheldige prioriteringer.</p>\n",
        "<p class=\"txt\">\u2013 Departementet og Forskningsr\u00e5det har de siste ti \u00e5rene prioritert internasjonale og tverrfaglige emner. Vi har derfor ikke gitt tilstrekkelig oppmerksomhet til sentrale juridiske fag, sier Graver.</p>\n",
        "<p class=\"txt\">Han p\u00e5peker imidlertid at kvaliteten p\u00e5 emnet vil opprettholdes, men forteller at dette ogs\u00e5 er et problem ved b\u00e5de Universitetet i Troms\u00f8 og Bergen.</p>\n",
        "<p class=\"txt\">\u2013 Det som er bekymringsverdig, er at dette er et problem ved flere av de juridiske fakultetene. Alle l\u00e6restedene sliter med rekruttering, noe som er problematisk dersom skatterettsdisiplinen skal utvikle seg i riktig retning, sier han.</p>\n",
        "<p class=\"txt\">Graver legger til at det er flere av de juridiske disiplinene som sliter med rekruttering, og at det derfor er tilfeldig at det er skatterett det er snakk om i dette tilfellet.</p>\n",
        "<p class=\"mt\">Valgte bort akademia</p>\n",
        "<p class=\"txt\">Bettina Banoun har en doktorgrad i skatterett fra UiO og er regnet som en av Norges fremste eksperter innen feltet. Hun har valgt bort en karriere innenfor akademia for \u00e5 jobbe som partner i advokatfirmaet Wiersholm. For henne var det \u00e5 jobbe med konkrete saker utslagsgivende for valg av karriere.</p>\n",
        "<p class=\"txt\">\u2013 En jobb p\u00e5 Universitetet er imidlertid b\u00e5de givende og viktig, s\u00e5 jeg vil ikke utelukke det p\u00e5 et senere tidspunkt. Det er likevel mye spennende skattejuss i praksis som jeg forel\u00f8pig ikke vil gi opp, sier Banoun.</p>"
       ],
       "metadata": {},
       "output_type": "display_data",
       "text": [
        "<IPython.core.display.HTML at 0x7fa66aea4198>"
       ]
      },
      {
       "html": [
        "<p class=\"txt\">Politikk</p>\n",
        "<p class=\"txt\">\u2013 H\u00f8yre har trukket tilbake mange klare valgl\u00f8fter som de ga i valgkampen, etter at valgresultatet var et faktum, sier Helga Pedersen, nestleder i Arbeiderpartiet.</p>\n",
        "<p class=\"txt\">Hun mener H\u00f8yre har sviktet heltidsstudenten ved ikke \u00e5 gjennomf\u00f8re elleve m\u00e5neders studiest\u00f8tte. Da den r\u00f8dgr\u00f8nne regjeringen la fram sitt siste statsbudsjett, foreslo de \u00e5 utvide studiest\u00f8tteperioden fra ti til elleve m\u00e5neder i \u00e5ret. Den borgerlige regjeringen droppet forslaget, som flere mente var en snubletr\u00e5d, og valgte heller \u00e5 \u00f8ke den generelle studiest\u00f8tten.</p>\n",
        "<p class=\"txt\">I en unders\u00f8kelse utf\u00f8rt av Sentio for Universitas og Norsk studentorganisasjon (NSO) er Arbeiderpartiet den store vinneren blant studentene med 24 prosents oppslutning, noe som er en oppgang p\u00e5 syv prosentpoeng og en \u00f8kning p\u00e5 hele 41 prosent fra en tilsvarende m\u00e5ling p\u00e5 tampen av de r\u00f8dgr\u00f8nnes stortingsperiode for ett \u00e5r siden. H\u00f8yre har p\u00e5 sin side g\u00e5tt tilbake med \u00e5tte prosentpoeng, eller 33 prosent i samme periode. De to partiene har dermed byttet plass p\u00e5 tronen over Norges st\u00f8rste studentpartier.</p>\n",
        "<p class=\"mt\">Skylder p\u00e5 reservasjonsretten</p>\n",
        "<p class=\"txt\">Kunnskapsminister Torbj\u00f8rn R\u00f8e Isaksen fra H\u00f8yre tror ikke den synkende oppslutningen blant studenter har s\u00e5 mye med partiets utdanningspolitikk \u00e5 gj\u00f8re.</p>\n",
        "<p class=\"txt\">\u2013 N\u00e5 svinger jo disse m\u00e5lingene opp og ned. Studenter f\u00f8lger mye med p\u00e5 vanlig samfunnsliv, og hvis det er noe som sl\u00e5r inn, tror jeg saker som reservasjonsretten ikke har v\u00e6rt en popul\u00e6r sak blant studenter, sier han.</p>\n",
        "<p class=\"txt\">Hva ang\u00e5r den mye omdiskuterte studiest\u00f8tten, gj\u00f8r R\u00f8e Isaksen det klart at det aldri var noe de frontet under fjor\u00e5rets valgkamp.</p>\n",
        "<p class=\"txt\">\u2013 Det sto ikke i programmet v\u00e5rt en gang, s\u00e5 det er ikke noe vi har trukket tilbake. N\u00e5r det gjelder alt annet, s\u00e5 er vi i gang med det vi har sagt at vi skal gj\u00f8re, forteller R\u00f8e Isaksen.</p>\n",
        "<p class=\"mt\">Angrer p\u00e5 H\u00f8yre-stemmen</p>\n",
        "<p class=\"txt\">Kaja Elisabeth de Ru g\u00e5r Europastudier ved Universitetet i Oslo og stemte H\u00f8yre under fjor\u00e5rets stortingsvalg. I dag ville hun valgt annerledes.</p>\n",
        "<p class=\"txt\">\u2013 Hadde det v\u00e6rt stortingsvalg i morgen, ville jeg stemt Venstre, sier de Ru.</p>\n",
        "<p class=\"txt\">Hun er skuffet over H\u00f8yres innsats i regjering.</p>\n",
        "<p class=\"txt\">\u2013 At de kuttet elleve m\u00e5neders studiest\u00f8tte, og hele saken med reservasjonsretten, har skuffet meg veldig, sier hun.</p>\n",
        "<p class=\"txt\">Isaksen mener imidlertid ikke elleve m\u00e5neders studiest\u00f8tte er et steg i riktig retning for heltidsstudenten.</p>\n",
        "<p class=\"txt\">\u2013 Det betyr jo bare at man gir den samme lave utbetalingen som f\u00f8r, bare en m\u00e5ned ekstra. Vi har sagt at vi skal \u00f8ke studiest\u00f8tten over prisstigninga, og at studentboliger er det aller viktigste studentvelferdstiltaket, sier Isaksen.</p>\n",
        "<p class=\"txt\"><I>\u2013 Hva vil du gj\u00f8re for \u00e5 vinne studentene tilbake?</I></p>\n",
        "<p class=\"txt\">\u2013 Jeg tror studenter er bredt samfunnsengasjert. Det at vi har en offensiv klimapolitikk og klarer \u00e5 opprettholde spennende arbeidsplasser i Norge, er minst like viktig for studentenes stemmegivning, sier Isaksen.</p>\n",
        "<p class=\"mt\">Spennende med opposisjon</p>\n",
        "<p class=\"txt\">Johannes Bergh, valgforsker ved Institutt for Samfunnsforskning, tror \u00e5rsaken til H\u00f8yres synkende oppslutning er ren regjeringsslitasje. If\u00f8lge Bergh kan velgerne allerede ha begynt \u00e5 g\u00e5 lei av den borgerlige regjeringen.</p>\n",
        "<p class=\"txt\">\u2013 Saker som elleve m\u00e5neders studiest\u00f8tte og reservasjonsretten har engasjert mange unge. Men man m\u00e5 ogs\u00e5 huske at blant studenter er det store utskiftninger i studentmassen fra et \u00e5r til et annet, sier Bergh.</p>\n",
        "<p class=\"txt\"><I>\u2013 Er H\u00f8yre \u00abavsl\u00f8rt\u00bb?</I></p>\n",
        "<p class=\"txt\">\u2013 Det er mye mer spennende med opposisjonspartier. Man g\u00e5r veldig fort lei av de som er i posisjon. S\u00e5nn var det absolutt med den r\u00f8dgr\u00f8nne regjeringen da de satt med makten.</p>\n",
        "<p class=\"txt\"><I>\u2013 Hvorfor gj\u00f8r Arbeiderpartiet det s\u00e5 bra etter mange \u00e5r i regjering?</I></p>\n",
        "<p class=\"txt\">\u2013 De gjorde det ikke s\u00e5 bra for ett \u00e5r siden. Regjeringsslitasjen er p\u00e5 vei bort, sier Bergh.</p>\n",
        "<p class=\"txt\">Ola Magnussen Rydje, leder i Norsk studentorganisasjon, sier seg enig med Bergh i at H\u00f8yres nedgang skyldes regjeringsslitasje. \u2013 Det er jo vanskelig \u00e5 si s\u00e5 mye ut i fra unders\u00f8kelsen, men H\u00f8yre har v\u00e6rt flinke til \u00e5 sette fokus p\u00e5 utdanning, sier Rydje.</p>\n",
        "<p class=\"txt\">Mandatfordeling:</p>\n",
        "<p class=\"txt\">Ap: 56</p>\n",
        "<p class=\"txt\">H: 34</p>\n",
        "<p class=\"txt\">MDG: 23</p>\n",
        "<p class=\"txt\">KrF: 18</p>\n",
        "<p class=\"txt\">Frp: 15</p>\n",
        "<p class=\"txt\">SV: 11</p>\n",
        "<p class=\"txt\">V: 10</p>\n",
        "<p class=\"txt\">R\u00f8dt 2</p>\n",
        "<p class=\"tit\">Milj\u00f8partiet tredje st\u00f8rst</p>\n",
        "<p class=\"txt\">Studentenes partipreferanser:</p>\n",
        "<p class=\"txt\">Milj\u00f8partiet De Gr\u00f8nne (MDG) har doblet oppslutningen fra 2013 og er n\u00e5 landets tredje st\u00f8rste parti blant studentene, med en oppslutning p\u00e5 11 prosent. Det viser Sentios ferske studentunders\u00f8kelse foretatt p\u00e5 oppdrag fra Universitas og Norsk Studentorganisasjon.</p>\n",
        "<p class=\"txt\">MDGs talsmann og eneste representant p\u00e5 stortinget, Rasmus Hansson, er sv\u00e6rt forn\u00f8yd med at hans parti er det tredje st\u00f8rste blant studentene.</p>\n",
        "<p class=\"txt\">\u2013 S\u00e5 fornuftige studenter vi har f\u00e5tt da! Dette er stor stas. Det er h\u00e5p for fremtiden og politikken n\u00e5r s\u00e5 mange unge folk tenker at de vil komme i gang med \u00e5 skape det nye b\u00e6rekraftige velferdssamfunnet, sier Hansson.</p>\n",
        "<p class=\"txt\">Valgforsker Johannes Bergh synes det er spennende at Milj\u00f8partiet De Gr\u00f8nne gj\u00f8r det s\u00e5 skarpt blant studentene.</p>\n",
        "<p class=\"txt\">\u2013 Det er interessant. Ved valget i h\u00f8st tror jeg ikke de appellerte sterkt til unge velgere. De gjorde det heller ikke spesielt godt ved skolevalget. Denne unders\u00f8kelsen tyder p\u00e5 at det kan ha endret seg n\u00e5, sier Bergh.</p>\n",
        "<p class=\"txt\">Hansson mener en god oppslutning blant studentene betyr at de har forst\u00e5tt hvilke utfordringer Norge og verden st\u00e5r overfor i framtiden.</p>\n",
        "<p class=\"txt\">\u2013 Studenter bruker tid p\u00e5 \u00e5 dytte kunnskap inn i hodene sine, og det er sammenheng mellom det og \u00e5 skj\u00f8nne de utfordringene samfunnet st\u00e5r overfor. Tallet tyder p\u00e5 at det er en slik sammenheng, sier Hansson.</p>"
       ],
       "metadata": {},
       "output_type": "display_data",
       "text": [
        "<IPython.core.display.HTML at 0x7fa66aea4198>"
       ]
      },
      {
       "html": [
        "<p class=\"txt\">HVA: Sunniva Rose ha blitt klagd inn til etisk komit\u00e9 av en anonym person. Dette er blant annet p\u00e5 bakgrunn av selvplagiering. Selv mener hun at det bare er noen som er ute etter \u00e5 ta henne av andre grunner.</p>\n",
        "<p class=\"txt\">Jeg vet ikke HVEM, HVA, HVOR eller N\u00c5R vi skal ta bilde, ettersom Sunniva Rose selv ikke vil at vi skal skrive denne saken. Det er ikke heller 100% sikkert at vi skal skrive denne saken, av samme grunn. Men hvis saken skal skrives, trenger jeg en fotograf i l\u00f8pet av dagen.</p>\n",
        "<p class=\"txt\">JENNY TENMANN, 45449764</p>"
       ],
       "metadata": {},
       "output_type": "display_data",
       "text": [
        "<IPython.core.display.HTML at 0x7fa66aea4198>"
       ]
      },
      {
       "html": [
        "<p class=\"txt\">Prorektorsaken</p>\n",
        "<p class=\"txt\">Den s\u00e5kalte prorektorsaken viser at vi trenger en debatt om demokratiet ved Universitetet i Oslo (UiO). Studentene \u00f8nsker nyvalg slik valgreglene tilsier, og mener universitetsstyret gjorde feil da de valgte \u00e5 se bort i fra egne regler. Kravet blir ekstra gyldig n\u00e5r Jan F. Bernt, professor i forvaltningsrett, uttaler seg i klassekampen 27. mai og sier styrets vedtak er ugyldig. Selv om prorektorsaken er en prinsippsak, kan man hvis man legger godvilja til forst\u00e5 hvorfor styret valgte \u00e5 se bort fra valgreglementet \u2013 det var praktisk, selv om det ikke var riktig. Men den prinsipielle prorektorsaken er dessverre ikke det eneste symptomet p\u00e5 at det st\u00e5r d\u00e5rlig til med demokratiet p\u00e5 UiO.</p>\n",
        "<p class=\"txt\">Flere ganger i m\u00e5neden m\u00f8tes dekanene og ledelsen ved UiO uformelt for \u00e5 diskutere universitetspolitiske, faglige og strategiske saker. M\u00f8tet gir en r\u00e5dgivende innstilling p\u00e5 saker som skal opp i universitetsstyret. Rektor Ole Petter Ottersen trakk p\u00e5 NIFUs \u00e5rskonferanse fredag fram dette m\u00f8tet som et av de fremste eksemplene p\u00e5 deltakende demokrati ved UiO. Da er det synd at studentene holdes utenfor.</p>\n",
        "<p class=\"txt\">Universitets- og h\u00f8gskoleloven sier at studenter har rett til 20 prosent representasjon i alle kollegiale organ med beslutningsmyndighet. Ved NTNU og UiB har derfor studentene en selvsagt og verdsatt plass rundt dekanbordet, siden de har viktige innspill fra et unikt synspunkt. Ved UiO er d\u00f8rene stengte, m\u00f8tene hemmelige, sakspapirer frav\u00e6rende og studentene ikke \u00e5 se. Kollegaer ved NTNU er sjokkerte over at vi ikke deltar, siden det er p\u00e5 disse m\u00f8tene de opplever \u00e5 ha reell makt og innflytelse p\u00e5 sitt universitet.</p>\n",
        "<p class=\"txt\">Vi \u00f8nsker ikke plass rundt bordet for \u00e5 stikke kjepper i hjula for UiO. Vi \u00f8nsker \u00e5 bidra til at det fattes best mulig vedtak for studenter og ansatte ved UiO. Det er grunnleggende demokratiteori at uformelle m\u00f8teplasser og innspill tidlig i prosessene er avgj\u00f8rende for \u00e5 p\u00e5virke. Vi har to studenter i universitetsstyret, men n\u00e5r saker kommer til styret er de s\u00e5 gjennomarbeida at det sjelden er vits i \u00e5 g\u00e5 mot innstillinga.</p>\n",
        "<p class=\"txt\">Tidligere hadde studentene mulighet til \u00e5 spille inn sine synspunkter i studiekomiteen og i forskningskomiteen der studiedekanene og forskningsdekanene m\u00f8tes. Studiekomiteen ble i h\u00f8st foresl\u00e5tt nedlagt, noe studentene hindret. Men komiteen har sluttet \u00e5 avholde m\u00f8ter. Forskningskomiteen la samtidig seg selv ned, og i ettertid har man opprettet et \u00abforskningsdekanenes forum\u00bb. Dette har de samme oppgavene som forskningskomiteen, med den forskjell at studentene ikke er representert.</p>\n",
        "<p class=\"txt\">At demokratiske organer ved UiO bare forsvinner eller legger ned sin aktivitet, og at flere og flere beslutninger tas i lukkede, uformelle fora, burde bekymre flere enn Studentparlamentet. Dersom UiO skal forsvare universitetsdemokratiet p\u00e5 en troverdig m\u00e5te m\u00e5 man begynne \u00e5 faktisk f\u00f8lge demokratiets spilleregler i stedet for kun \u00e5 skryte av det i festtaler.</p>"
       ],
       "metadata": {},
       "output_type": "display_data",
       "text": [
        "<IPython.core.display.HTML at 0x7fa66aea4198>"
       ]
      },
      {
       "html": [
        "<p class=\"txt\">Vi har h\u00f8rt norske politikere snakke om klima f\u00f8r. Som studenter har vi ogs\u00e5 h\u00f8rt rektorer og ledere gj\u00f8re det. Felles er at tiltakene som snakket munner ut i, ofte er rent kosmetiske. Klimaet vil g\u00e5 til helvete hvis vi pumper opp mer olje og gass, sier du? Jammen, da utf\u00f8rer vi selve pumpingen p\u00e5 reinest mulig vis. Det der med klima er noe vi ogs\u00e5 burde forholde oss bittelitt til p\u00e5 landets store utdanningsinstitusjoner, mener du? Se bare her, vi bytter til sparep\u00e6rer vi.</p>\n",
        "<p class=\"txt\">TINGOSlik klimakosmetikk er bare flaut. Sist uke la kunnskapsminister Torbj\u00f8rn R\u00f8e Isaksen imidlertid fram en liste som varsler spor av klimabevissthet p\u00e5 et av omr\u00e5dene innen utdanningssektoren der det faktisk kan monne \u2013 nemlig <i>hva</i> vi forsker p\u00e5. Blant de nylanserte prioriteringene i h\u00f8stens varslede langtidsplan for forskning og h\u00f8yere utdanning, finner vi b\u00e5de \u00abKlima, milj\u00f8 og milj\u00f8vennlig energi\u00bb, \u00abMuliggj\u00f8rende teknologier\u00bb og \u00abHav\u00bb.</p>\n",
        "<p class=\"txt\">Samtidig som Isaksen letta p\u00e5 sl\u00f8ret over hva som skal prioriteres i langtidsplanen, viste norske studenter at klima st\u00e5r h\u00f8yt p\u00e5 v\u00e5re lister ogs\u00e5, b\u00e5de i Universitas og Norsk Studentorganisasjon sin Sentio-unders\u00f8kelse om partipreferanser og i TNS Gallups Klimabarometer.</p>\n",
        "<p class=\"txt\">TINGOMen selv om studentene stort sett tilh\u00f8rer det yngre sjiktet av befolkningen, er vi ikke med i Blekkulf-klubben lenger. Vi veit at det ikke holder \u00e5 skru av motoren, din gj\u00f8k. En svale av en matavfalls-s\u00f8ppelkasse i universitetskantina gj\u00f8r ingen sommer. Men det finnes tiltak som kan gj\u00f8re en forskjell \u2013 tiltak som utdanningssektoren i et av verdens rikeste land faktisk har en reell mulighet til \u00e5 innf\u00f8re. L\u00e6restedene m\u00e5 i lyset av sine sparep\u00e6rer se n\u00e6rmere p\u00e5 a) hva de forsker p\u00e5 og b) hvem som betaler forskningen.</p>\n",
        "<p class=\"txt\">TINGONorges st\u00f8rste universitet fors\u00f8ker gjennom sin satsning Gr\u00f8nt UiO \u00e5 gj\u00f8re \u00abalt fra drift og forbruk til fokus i forskning og utdanningstilbud\u00bb gr\u00f8nnere. Det er s\u00e5rt tiltrengt, etter at de i 2011 havna p\u00e5 nest siste plass i en selvbestilt studie av milj\u00f8profilen til 20 universiteter verden over. Selv om denne studien ogs\u00e5 tok for seg forskningsprofil, ser Gr\u00f8nt UiOs fokus i etterkant ut til \u00e5 ha v\u00e6rt rettet mer mot drift og mindre mot det akademiske. Vintersykkelkurs og uoffisielt NM i kildesortering er prisverdige tiltak, men neppe tilstrekkelig til \u00e5 n\u00e5 m\u00e5let om \u00e5 \u00abm\u00f8te de globale milj\u00f8- og klimautfordringene\u00bb. Eller, med andre ord; s\u00f8rge for at ikke verden g\u00e5r til helvete.</p>\n",
        "<p class=\"txt\">TINGOFor \u00e5 s\u00f8rge for det, trengs gr\u00f8nn forskning. Men hva man forsker p\u00e5, viser seg ofte \u00e5 henge sammen med hvem som betaler forskningen. Universitas har tidligere p\u00e5pekt at mye av norsk forskning er berammet og indirekte styrt av oljedryppende sponsormidler. Blant annet f\u00e5r Universitetet i Oslo mangfoldige forskningsmillioner av Statoil gjennom b\u00e5de Vista-avtalen og Akademiaavtalen. Sistnevnte er etablert mellom sju norske forskningsmilj\u00f8er og Statoil, og har en verdi p\u00e5 totalt 450 millioner kroner. I forbindelse med disse sakene har vi stilt det relativt retoriske sp\u00f8rsm\u00e5let: Hva slags forskning er oljebransjen mest interessert i? Det \u00e5penbare svaret er: forskning som muliggj\u00f8r \u00f8kt utvinning av olje og gass.</p>\n",
        "<p class=\"txt\">TINGODen over ti \u00e5r gamle kvalitetsreformen for h\u00f8yere utdanning er for lengst utskjelt og utdatert. En kvalitetsreform vi har bruk for i dag, er en reform der sektoren g\u00e5r over fra kosmetiske sparep\u00e6retiltak til reelt gr\u00f8nnere forskning og investeringer. Kan du sikre det i h\u00f8stens langtidsplan, Isaksen?</p>"
       ],
       "metadata": {},
       "output_type": "display_data",
       "text": [
        "<IPython.core.display.HTML at 0x7fa66aea4198>"
       ]
      },
      {
       "html": [
        "<p class=\"txt\">BUDSJETTSPREKK: H\u00f8gskolen i Buskerud (HiB) skal bruke totalt 58 millioner kroner p\u00e5 \u00e5 flytte til nye lokaler i Kongsberg. Det er nesten 20 ganger s\u00e5 mye som det opprinnelige budsjettet p\u00e5 tre millioner, melder Dagens N\u00e6ringsliv. HiB fusjonerte med H\u00f8gskolen i Vestfold (HiVe) 1. januar.</p>\n",
        "<p class=\"txt\">Leder for den sammensl\u00e5tte h\u00f8yskolen sier til avisa at han ble overrasket da de reelle flyttekostnadene kom p\u00e5 bordet for kort tid siden.</p>\n",
        "<p class=\"txt\">\u2013 Jeg er selvf\u00f8lgelig ikke veldig forn\u00f8yd med at H\u00f8gskolen i Buskerud ikke hadde avsetninger til \u00e5 dekke dette. Den ballen m\u00e5 vi n\u00e5 ta, sier Aasen, som frem til nytt\u00e5r var rektor i Vestfold, til Dagens N\u00e6ringsliv.</p>\n",
        "<p class=\"txt\">Kunnskapsdepartementet godkjente flyttingen i september i fjor. Betingelsen var at flyttekostnadene m\u00e5tte tas fra eget, ordin\u00e6rt budsjett, og at leieutgiftene ikke \u00f8kte fra dagens 20 millioner kroner.</p>"
       ],
       "metadata": {},
       "output_type": "display_data",
       "text": [
        "<IPython.core.display.HTML at 0x7fa66aea4198>"
       ]
      },
      {
       "html": [
        "<p class=\"txt\">GRUVEULYKKE: Studenter har okkupert Det tekniske universitetet i Istanbul som en protest etter en gruveulykke der 301 d\u00f8de, melder VG.</p>\n",
        "<p class=\"txt\">Protestene skyldes universitetets forbindelser til selskapet Some Komur, som driver gruva. P\u00e5 fredag utviklet demonstrasjonene seg til en okkupasjon da 1000 studenter sperret d\u00f8rene til universitetet med lenker.</p>\n",
        "<p class=\"txt\">Som f\u00f8lge av okkupasjonen har universitetet annonsert at de skal kutte sine forbindelser til gruveselskapet. Men studentene har ikke sl\u00e5tt seg til ro med dette.</p>\n",
        "<p class=\"txt\">\u2013 Universitetet er medskyldig i gruvearbeidernes d\u00f8d. Gruveselskapet holdt et seminar her to uker f\u00f8r ulykken, sier en av studentene til VG.</p>"
       ],
       "metadata": {},
       "output_type": "display_data",
       "text": [
        "<IPython.core.display.HTML at 0x7fa66aea4198>"
       ]
      },
      {
       "html": [
        "<p class=\"txt\">De ser kanskje ikke ut til \u00e5 v\u00e6re s\u00e5 voldsomt bekymra for global oppvarming, studentene som i disse dager slanger seg i gresset p\u00e5 landets campuser. Men ferske tall bekrefter n\u00e5 at jo, vi lar oss uroe av klimaendringene som vi i \u00f8kende grad syns vi f\u00e5r f\u00f8le p\u00e5 kroppen. For mens den partipolitiske vinden blant studentene har snudd fra bl\u00e5tt til r\u00f8dt, er det jokeren Milj\u00f8partiet De Gr\u00f8nne som virkelig gj\u00f8r et byks p\u00e5 unders\u00f8kelsen Universitas og Norsk studentorganisasjon har foretatt blant landets studenter. Oppslutningen er doblet p\u00e5 et \u00e5r, og partiet er n\u00e5 landets tredje st\u00f8rste blant studentvelgerne. I g\u00e5r kom i tillegg det \u00e5rlige Klimabarometeret, som viser at unge under 30 \u00e5r er mer opptatt av klimaet enn noen gang.</p>\n",
        "<p class=\"txt\">Norges st\u00f8rste universitet er tilsynelatende med p\u00e5 notene; Universitetet i Oslo (UiO) har som uttalt m\u00e5l \u00e5 bli et \u00abgr\u00f8nt universitet\u00bb. Men for noen uker siden, allerede lenge etter at de f\u00f8rste premature v\u00e5rstr\u00e5lene hadde begynt \u00e5 tine opp Oslo-boerne, meldte Framtiden i v\u00e5re hender (FIVH) at UiO via forvaltningsstiftelsen UNIFOR investerer 600 millioner i ulike aksje- og rentefond der flere har tung overvekt av olje- og offshoreselskaper. Da hadde studentpolitikerne ved UiO flere ganger tatt til orde mot petroleumsforskning, og lederen av FIVHs studentlag i Oslo raste mot Universitetet.</p>\n",
        "<p class=\"txt\">Det oppsiktsvekkende var rektor Ole Petter Ottersens reaksjon p\u00e5 gjennomgangen i Dagsavisen. Han har bare en ting \u00e5 si: Universitetet f\u00f8lger Oljefondets retningslinjer. Sist gang Universitas skrev om kontroversielle UNIFOR-investeringer, pekte Ottersen p\u00e5 de samme retningslinjene og lovet en gjennomgang av praksisen. Men Oljefondets retningslinjer fungerer alts\u00e5 stadig som et automatisk godkjentstempel i hans verden, ogs\u00e5 etter at man denne v\u00e5ren har v\u00e6rt n\u00e6r et stortingsflertall for \u00e5 trekke fondet ut av kull \u2013 noe retningslinjene i dag ikke sier et pip om.</p>\n",
        "<p class=\"txt\">I ukas kulturseksjon kan du lese om forskningsprosjektet som tar for seg skyldf\u00f8lelsen over \u00e5 v\u00e6re privilegert skandinav. Noen ganger er selvpisking p\u00e5 sin plass n\u00e5r man tilh\u00f8rer en av de nasjonene som har nytt best av \u00abolj\u00e5\u00bb. For virker fossile investeringer spesielt etisk i en verden der det if\u00f8lge FN er maktp\u00e5liggende for v\u00e5r eksistens at de fossile ressursene stort sett blir liggende i bakken?</p>\n",
        "<p class=\"txt\">Svaret er nei. Og som rektor for 27 000 av landets stadig mer klimabekymra studenter b\u00f8r Ottersen ta det til f\u00f8lge og s\u00f8rge for at Universitetets fondsmillioner ikke spr\u00f8ytes inn i olje og gass.</p>"
       ],
       "metadata": {},
       "output_type": "display_data",
       "text": [
        "<IPython.core.display.HTML at 0x7fa66aea4198>"
       ]
      },
      {
       "html": [
        "<p class=\"mt\">Sin egen herre \u2013 Halld\u00f3r Laxness (1934)</p>\n",
        "<p class=\"txt\">Laxness oppdaget jeg altfor sent, for fire-fem \u00e5r siden. Jeg hadde bare h\u00f8rt om ham som islandsk kommunist, og jeg er jo antikommunist. Skj\u00f8nnlitteratur overrasker meg sjeldnere og sjeldnere, men dette er en helt fantastisk bok! Sterk, gripende og <i>meget</i> depressiv. Han beskriver Island p\u00e5 begynnelsen av det forrige \u00e5rhundre, et samfunn preget av ekstrem fattigdom og elendige livsforhold. Det er en menneskelig tragedie som tar tak i deg og drar deg ned i de store dypene. Bare to ganger i l\u00f8pet av lesingen var jeg oppe og snappet luft. Jeg ble f\u00f8lelsesmessig utmattet av \u00e5 lese denne boken \u2013 alt g\u00e5r galt hele tiden, nesten som i norsk landbruk. Denne boken tror jeg at jeg brukte et halvt \u00e5r p\u00e5, faktisk, for \u00e5 f\u00e5 overskudd til \u00e5 g\u00e5 videre.</p>\n",
        "<p class=\"mt\">Br\u00f8drene Karamasov \u2013 Fjodor Dostojevskij (1880)</p>\n",
        "<p class=\"txt\">Dette er verdens beste roman! Jeg er egentlig ikke s\u00e5 glad i krim, men har du lest denne, orker du ikke Nesb\u00f8. Boken er superspennende, med fantastiske person- og moralskildringer. Den beste m\u00e5ten \u00e5 forst\u00e5 menneskene er gjennom skj\u00f8nnlitteratur. Dostojevskij var s\u00e5 opptatt av at menneskene skulle gj\u00f8re det rette, og denne handler om Gud som veileder i menneskenes liv. Br\u00f8drene Karamasov burde inn p\u00e5 pensumlistene p\u00e5 all verdens universiteter, men den tar tid \u00e5 lese. Hvis du sluker denne s\u00e5 mister du alle lekkerbiskenene. Du skal ikke lese for \u00e5 <i>sluke</i>, men for \u00e5 se hva du kan <i>bruke</i>, ikke sant.</p>\n",
        "<p class=\"mt\">De nasjonale strateger \u2013 Rune Slagstad (1998)</p>\n",
        "<p class=\"txt\">Rune er flink, han! Denne boken er en fantastisk skildring av Norges historie fra 1814 og fremover, med menneskene som skapte samtiden i sentrum. Boken er sv\u00e6rt godt skrevet og <i>ekstremt</i> innsiktsfull. Jeg er veldig interessert i historie, spesielt menneskerettigheter. Boken minnet meg p\u00e5 min studietid da jeg jobbet for en organisasjon som het Nye S\u00f8nner av Sovjet. Vi reiste som spioner og delte ut bibelen, dollar og kodede beskjeder til russiske opposisjonelle. S\u00e5 da muren falt var jo det f\u00f8rst og fremst takket v\u00e6re min innsats i studietiden, hehe. Karakterkortet mitt var kanskje ikke det mest imponerende, men jeg kunne jo ikke lese \u00f8konomi hele tiden.</p>\n",
        "<p class=\"mt\">Anna Karenina - Lev Tolstoj (1878)</p>\n",
        "<p class=\"txt\">En enest\u00e5ende kj\u00e6rlighetsroman. Dypest sett handler all stor romankunst om kj\u00e6rlighet. Det er ingenting som er st\u00f8rre enn kj\u00e6rlighet, og ingen formidler det bedre enn Tolstoj i <i>Anna Karenina</i>. Denne leste jeg rett etter jeg hadde m\u00f8tt min n\u00e5v\u00e6rende kone, Margrethe, november 1998. S\u00e5 det passet perfekt \u00e5 lese den da. Min kone har forresten sagt til meg at jeg ikke f\u00e5r lov til \u00e5 kj\u00f8pe flere b\u00f8ker, fordi vi drukner i dem. Derfor hadde jeg forleden bokb\u00e5l med alle b\u00f8kene mine fra Handelsh\u00f8yskolen. Det var helt problemfritt, jeg er ikke sentimental. \u00d8konomifaget har kommet langt siden syttitallet. Vi hadde ikke plass til dem mer, s\u00e5 da brant jeg hele dritten.</p>\n",
        "<p class=\"mt\">Yahya Hassan \u2013 Yahya Hassan (2013)</p>\n",
        "<p class=\"txt\">Av og til m\u00e5 en innvandrer si det selv. Ved \u00e5 skildre sin egen far og sin egen familie, beskriver Hassan islam p\u00e5 sitt verste: En undertrykkende, middelaldersk kultur midt i K\u00f8benhavn. I Norge kan du ikke si mye spisset om innvandringsproblematikk f\u00f8r du blir stemplet som rasist. Jeg beundrer danskene som kan ha et s\u00e5 fritt ordskifte rundt vanskelige problemer i samfunnet. Jeg elsker \u00e5 diskutere \u2013 vi trenger debatt for \u00e5 fremme motforestillinger og kritisk tenkning. Det kan v\u00e6re vonde prosesser, fordi man av og til m\u00e5 gi opp egne oppfatninger. Slik jeg oppfatter det er dagens studenter mindre i opposisjon mot autoriteter enn f\u00f8r. Det bekymrer meg. De er blitt lydige.</p>\n",
        "<p class=\"mt\">Sannheten p\u00e5 bordet \u2013 Niels Christian Geelmuyden (2013)</p>\n",
        "<p class=\"txt\">Denne er det min yngste bror som har skrevet. Det er en fantastisk bra bok med et sv\u00e6rt grundig kildearbeid! Niels Christian skildrer norsk matproduksjon gjennom et globalt bakgrunnsteppe og hvordan vi fors\u00f8pler kroppen v\u00e5r med skitten mat. Temaet er meget tankevekkende for meg som har s\u00e5 mye ugjort. Jeg h\u00e5per \u00e5 bli minst 120 \u00e5r, s\u00e5 n\u00e5 legger jeg om dietten til kompost og alger.</p>"
       ],
       "metadata": {},
       "output_type": "display_data",
       "text": [
        "<IPython.core.display.HTML at 0x7fa66aea4198>"
       ]
      },
      {
       "html": [
        "<p class=\"txt\">Ukas anbefaling</p>\n",
        "<p class=\"txt\">Om du vil v\u00e6re helt aleine, slutte \u00e5 r\u00f8yke eller gruble over forskjellen mellom sveler og lapper, er valget av soundtrack enkelt. Youtube er smekk fullt av b\u00e5de tre, fire og ti timer lange l\u00e5ter som gir deg et passe plastisk perspektiv p\u00e5 livet. Meditasjonsmusikken kan utgj\u00f8re yogatimen p\u00e5 lesesalen eller skogsturen p\u00e5 campus. Legg fra deg all \u00e6re og la new age-hippie-trippie-regnet falle ned over hodet ditt i timesvis. Hvis du er villig til \u00e5 leve med en s\u00f8kehistorikk full av titler som \u00ab3 Hours of Best Relaxing Spa Music, Music Therapy for Relaxation, Meditation and Sleep\u00bb, er det lite som st\u00e5r mellom deg og indre ro i en krevende hverdag.</p>"
       ],
       "metadata": {},
       "output_type": "display_data",
       "text": [
        "<IPython.core.display.HTML at 0x7fa66aea4198>"
       ]
      },
      {
       "html": [
        "<p class=\"txt\">Stillingsvern</p>\n",
        "<p class=\"txt\">Til tross for at lederen for Norsk studentorganisasjon (NSO), Ola Magnussen Rydje, gikk inn for \u00e5 svekke stillingsvernet (se faktaboks) for \u00e5 gj\u00f8re det enklere \u00e5 sparke vitenskapelig ansatte, sa NSOs landsstyre nei.</p>\n",
        "<p class=\"txt\">Under landsstyrem\u00f8tet i helga gikk de heller inn for \u00aben kulturendring der oppsigelser i henhold til tjenestemannsloven blir tatt i bruk\u00bb.</p>\n",
        "<p class=\"mt\">\u2013 Ikke sterkt stillingsvern som er problemet</p>\n",
        "<p class=\"txt\">Den avtroppende lederen foreslo, med NSOs arbeidsutvalg i ryggen, \u00e5 endre loven slik at det skulle bli lettere \u00e5 si opp vitenskapelig ansatte p\u00e5 offentlige h\u00f8gskoler og universiteter. Dette ville f\u00e5 ned bruken av midlertidig ansatte i akademia samtidig som det ville gi bedre likestilling, mente Rydje.</p>\n",
        "<p class=\"txt\">Bj\u00f8rn Kristian Danbolt, leder for Studentparlamentet ved Universitetet i Bergen (UiB), er blant landsstyrerepresentantene som var uenige i Rydjes forslag.</p>\n",
        "<p class=\"txt\">\u2013 Jeg synes l\u00f8sningen er d\u00e5rlig organisert. Det er ikke hovedsakelig sterkt stillingsvern som er problemet, s\u00e5 en svekkelse vil ikke v\u00e6re et godt verkt\u00f8y for \u00e5 l\u00f8se de utfordringene vi har med midlertidige stillinger, sier han.</p>\n",
        "<p class=\"txt\">Selv om hans forslag ikke vant fram, sier Rydje at han er forn\u00f8yd med utfallet.</p>\n",
        "<p class=\"txt\">\u2013 Landsstyret kom med et bra forslag, og det ble et godt kompromiss, sier NSO-lederen. Han forteller at det \u00e5 fronte arbeidsutvalgets mening i forkant av landsstyrem\u00f8tet var en bevisst strategi, og sier seg forn\u00f8yd med debatten som fulgte.</p>\n",
        "<p class=\"mt\">\u2013 En dristig strategi</p>\n",
        "<p class=\"txt\">Rydje m\u00f8tte kraftig motb\u00f8r fra blant andre professor ved Universitetet i Oslo Kristian Gundersen.</p>\n",
        "<p class=\"txt\">\u2013 Rydjes argumenter var todelte: Han mente det ville gi mer likestilling og mindre midlertidighet. Ingen av dem henger p\u00e5 greip, sier biologiprofessoren.</p>\n",
        "<p class=\"txt\">Gundersen mener ogs\u00e5 at et svekket stillingsvern ville skapt en fryktkultur.</p>\n",
        "<p class=\"txt\">\u2013 Jeg ser p\u00e5 studentene som kolleger, men forslaget gir et d\u00e5rlig grunnlag for et godt samarbeid mellom student og l\u00e6rer, sier han videre.</p>\n",
        "<p class=\"txt\">Gundersen sier han ikke har noen mening om Rydje som NSO-leder, men at forslaget \u00aber en lite verdig sorti\u00bb.</p>\n",
        "<p class=\"txt\">Leder i fagorganisasjonen Forskerforbundet Petter Aaslestad er glad for at NSO ikke gikk inn for en endring av tjenestemannsloven, men er usikker p\u00e5 Rydjes debattaktikk.</p>\n",
        "<p class=\"txt\">\u2013 Dette er store og alvorlige saker, s\u00e5 jeg tror ikke jeg hadde hatt nerver til \u00e5 gamble p\u00e5 mediene i en s\u00e5 stor og viktig sak. Men Ola gjorde det og fikk det til, legger han til.</p>\n",
        "<p class=\"txt\">Da Aftenposten f\u00f8rst omtalte saken for halvannen uke siden, argumenterte Aaslestad mot forslaget b\u00e5de i Aftenposten og p\u00e5 NSOs egne nettsider. N\u00e5 sier han at Rydje fikk til en debatt som landet positivt, selv om det \u00abkanskje var en litt dristig strategi\u00bb.</p>\n",
        "<p class=\"mt\">F\u00e5r taktikkst\u00f8tte fra sine egne</p>\n",
        "<p class=\"txt\">NSO-lederen f\u00e5r st\u00f8tte fra egne rekker for at han gikk s\u00e5 hardt ut f\u00f8r forslaget ble ordentlig diskutert.</p>\n",
        "<p class=\"txt\">\u2013 Jeg synes at arbeidsutvalget skal ha den friheten, og at det er viktig \u00e5 v\u00e6re litt tabloid for \u00e5 f\u00e5 ting p\u00e5 agendaen. Det er imidlertid en god ting at forslaget ble lagt frem som noe som fremdeles ikke var avgjort, sier Bj\u00f8rn Kristian Danbolt.</p>\n",
        "<p class=\"txt\">Ogs\u00e5 lederen for Studentstyret ved Norges idrettsh\u00f8gskole mener det er helt p\u00e5 sin plass at en NSO-leder er litt tabloid.</p>\n",
        "<p class=\"txt\">\u2013 Selv om Rydje har v\u00e6rt v\u00e5gal og brukt b\u00e5de fengende og humoristisk retorikk, synes jeg det har v\u00e6rt positivt, sier Torstein Dalen.</p>\n",
        "<p class=\"txt\">P\u00e5troppende NSO-leder Anders Kvernmo Langset vil ikke si om han vil adoptere Rydjes taktikk for \u00e5 skape debatt f\u00f8r landsstyrem\u00f8ter.</p>\n",
        "<p class=\"txt\">\u2013 Vi i det neste arbeidsutvalget har enn\u00e5 ikke tatt stilling til hvordan vi skal jobbe, sier han.</p>"
       ],
       "metadata": {},
       "output_type": "display_data",
       "text": [
        "<IPython.core.display.HTML at 0x7fa66aea4198>"
       ]
      },
      {
       "html": [
        "<p class=\"txt\">Universitas er Norges st\u00f8rste og eldste studentavis. Avisa har et opplag p\u00e5 17 000 og utgis hver uke i v\u00e5r- og h\u00f8stsemesteret. Redaksjonen best\u00e5r av rundt 40 medarbeidere.</p>\n",
        "<p class=\"txt\">Universitas er en ung og dynamisk mediebedrift med et kreativt og sosialt milj\u00f8. Vi s\u00f8ker en strukturert, l\u00f8sningsorientert og ryddig person. Du m\u00e5 ogs\u00e5 gjerne v\u00e6re utadvendt, \u00e5pen og kreativ.</p>\n",
        "<p class=\"txt\">Daglig leder skal ivareta og utvikle de administrative og \u00f8konomiske rutinene i Universitas, samt lede og st\u00f8tte annonseansvarlig i dennes arbeid. Daglig leder har ansvar for \u00e5 ha oversikt og kontroll med organisasjonens \u00f8konomi b\u00e5de p\u00e5 budsjett- og regnskapssiden.</p>\n",
        "<p class=\"txt\">Han/hun har ansvar for det tekniske utstyret, eventuelle investeringer, og for inntjening.</p>\n",
        "<p class=\"txt\">Daglig leder er ogs\u00e5 administrativt ansvarlig for avl\u00f8nning, og for \u00e5 f\u00f8lge opp arbeidsgiveransvar.</p>\n",
        "<p class=\"txt\">I stillingen ligger ogs\u00e5 et visst system-, program og driftsansvar for Universitas' data/IT-utstyr, samt</p>\n",
        "<p class=\"txt\">oversikt over og pleie av distribusjonsapparat og abonnenter.</p>\n",
        "<p class=\"txt\">Daglig leder kan ogs\u00e5 gjerne jobbe med synliggj\u00f8ring av Universitas som merkevare.</p>\n",
        "<p class=\"txt\">Stillingen krever h\u00f8yere utdannelse fra universitet/h\u00f8gskole og/eller relevant praksis fra regnskapsarbeid og \u00f8konomistyring. Videre er det \u00f8nskelig med praksis fra annet administrativt arbeid og kontorledelse. Det er en fordel med grunnleggende kunnskap om informasjonsarbeid,</p>\n",
        "<p class=\"txt\">data/IT og organisasjonsarbeid.</p>\n",
        "<p class=\"txt\">Stillingen er en 3-\u00e5rig \u00e5rem\u00e5lsstilling.</p>\n",
        "<p class=\"txt\">Startl\u00f8nn er l\u00f8nnstrinn 35, med en \u00f8kning p\u00e5 ett l\u00f8nnstrinn per \u00e5r i perioden p\u00e5 3 \u00e5r. Arbeidstiden er sv\u00e6rt fleksibel.</p>\n",
        "<p class=\"txt\">Tiltredelse:  1. august.</p>\n",
        "<p class=\"txt\">S\u00f8knad med CV sendes til:</p>\n",
        "<p class=\"txt\">Universitas v/ styreleder Espen Langbr\u00e5ten Wilberg</p>\n",
        "<p class=\"txt\">Postboks 89, Blindern</p>\n",
        "<p class=\"txt\">0314 Oslo</p>\n",
        "<p class=\"txt\">eller p\u00e5 epost:</p>\n",
        "<p class=\"txt\">espenlw@student.sv.uio.no med kopi til monicrei@universitas.no</p>\n",
        "<p class=\"txt\"><b>S\u00f8knaden m\u00e5 v\u00e6re Universitas i hende senest tirsdag 10. juni.</b></p>\n",
        "<p class=\"txt\">Sp\u00f8rsm\u00e5l om stillingen kan rettes til:</p>\n",
        "<p class=\"txt\">styreleder Espen Langbr\u00e5ten Wilberg (tlf: 977 81 819)</p>\n",
        "<p class=\"txt\">eller daglig leder Monica Reigstad (tlf: 930 30 437)</p>"
       ],
       "metadata": {},
       "output_type": "display_data",
       "text": [
        "<IPython.core.display.HTML at 0x7fa66aea4198>"
       ]
      },
      {
       "html": [
        "<p class=\"bt\"><b>Klapp meg!: </b>Ved Universitetet i Leicester f\u00e5r studentene et noe usedvanlig tilbud for \u00e5 roe ned eksamensnervene.</p>\n",
        "<p class=\"mt\">F\u00f8lte seg mobbet under tiden som prorektor</p>\n",
        "<p class=\"txt\">Prorektor Ruth Fjeld leverte sin avskjed i april etter \u00e5 ha f\u00f8lt seg frosset ut av de andre i rektorkollegiet.</p>\n",
        "<p class=\"txt\">Fredag skriver Klassekampen at Ottersen ville unng\u00e5 nyvalg ved \u00e5 be Fjeld si \u00abminst mulig\u00bb om sin egen avgang. http://klassekampen.no/article/20140523/ARTICLE/140529979</p>\n",
        "<p class=\"txt\">\u2013 Jeg ble fratatt alle de viktigste oppgavene, og avgj\u00f8relser ble tatt n\u00e5r jeg ikke var til stede, sier Fjeld til avisa. Hun opplevde det som mobbing.</p>\n",
        "<p class=\"txt\">Universitetets rektor skal ha lagt stor vekt p\u00e5 at den offisielle begrunnelsen m\u00e5tte v\u00e6re at hun trakk seg av \u00abpersonlige grunner\u00bb, og nettopp dette kom frem i pressemeldingen fra ledelsen to uker senere.</p>\n",
        "<p class=\"txt\">I en mailkorrespondanse mellom Fjeld og Ottersen som Klassekampen har f\u00e5tt tilgang til, g\u00e5r det fram at rektoren ga klar beskjed til sin avtroppende prorektor om hvordan han \u00f8nsket at denne saken skulle presenteres n\u00e5r den kom til styrebehandling den 6. mai.</p>\n",
        "<p class=\"txt\">Fjeld mener Ottersen pr\u00f8vde \u00e5 gi henne munnkurv overfor eget styre. Rektor Ole Petter Ottersen benekter \u00e5 ha fors\u00f8kt \u00e5 p\u00e5legge Fjeld munnkurv.</p>\n",
        "<p class=\"txt\">\u2013 Fjeld var til stede under styrets behandling av saken. Hun hadde mulighet til \u00e5 ta ordet, noe hun valgte \u00e5 ikke gj\u00f8re, skriver Ottersen.</p>\n",
        "<p class=\"txt\">Universitas' journalist Eirik Billings\u00f8 Elvevold kritiserte denne uka rektor ved Universitetet i Oslo (UiO) Ole Petter Ottersen, og krevde nyvalg etter at Ruth Vatvedt Fjeld trakk seg fra stillingen som prorektor tidligere i mai. http://universitas.no/kommentar/59509/nyvalg-na-</p>\n",
        "<p class=\"txt\">I g\u00e5r skrev Universitas at studentpolitikerne ved UiO krever nyvalg av rektor og prorektor i kj\u00f8lvannet av prorektor-saken.</p>\n",
        "<p class=\"txt\">\u2013 Vi \u00f8nsker en samlet valgt ledelse, og det har vi ikke i dag, sa leder av Studentparlamentet ved UiO, Gabrielle Gjerdset.</p>\n",
        "<p class=\"mt\">Kun \u00e9n av fire studenter for f\u00e5r ekstern sensur</p>\n",
        "<p class=\"txt\">Ikke alle studentene ved H\u00f8gskolen i Oslo og Akershus (HiOA) f\u00e5r sin eksamen vurdert av to sensorer, enda det bryter med skolens eksamensforskrift.</p>\n",
        "<p class=\"txt\">F\u00f8rsteamanuensis Jens Petter Berg ved instituttet mener at denne praksisen er faglig uforsvarlig.</p>\n",
        "<p class=\"txt\">Eksamensforskriften ved HiOA sier at hovedregelen skal v\u00e6re to sensorer b\u00e5de ved muntlig og skriftlig eksamen. I dag er det likevel en utbredt praksis p\u00e5 H\u00f8gskolen at de fleste besvarelsene p\u00e5 eksamen bare vurderes av \u00e9n sensor, skriver nettavisen Khrono (http://khrono.no/2014/05/bare-en-fjerdedel-far-eksern-sensur).</p>\n",
        "<p class=\"txt\">P\u00e5 Institutt for offentlig administrasjon og velferdsfag blir bare 25 prosent av besvarelsene sendt til ekstern sensor.</p>\n",
        "<p class=\"txt\">Studiedirekt\u00f8r Marianne Brattland sier at h\u00f8gskolen ikke kan se bort fra at det er en \u00f8konomisk vurdering knyttet til valg av ordning for ekstern sensor.</p>\n",
        "<p class=\"txt\">\u2013 I 2012 hadde vi om lag 90 000 ulike eksamensbesvarelser ved HiOA, og da sier det seg selv at kostnadsbildet vil bli vesentlig endret dersom man utvider bruken av ekstern sensor, sier Brattland til Khrono.</p>\n",
        "<p class=\"txt\">I 2013 hadde HiOA samlet 13,3 millioner kroner i utgifter til sensur, viser en oversikt fra \u00f8konomiavdelingen.</p>\n",
        "<p class=\"txt\">Brattland forteller at studieadministrasjonen har dr\u00f8ftet saken internt og planlegger \u00e5 legge fram en sak for det sentrale studieutvalget om vurdering og karaktersetting rett over sommeren.</p>\n",
        "<p class=\"mt\">Bergen-studenter brakte solkraft til Etiopia</p>\n",
        "<p class=\"txt\">130 husstander, en skole og en helsestasjon i Etiopia har f\u00e5tt str\u00f8m for f\u00f8rste gang, takket v\u00e6re to studenter fra H\u00f8gskolen i Bergen.</p>\n",
        "<p class=\"txt\">Benjamin Sl\u00e5ttli og Esays Mehari har jobbet gjennom hele studietiden mot m\u00e5let om \u00e5 forsyne en etiopisk landsby med solenergi. Dette m\u00e5let har studentene endelig n\u00e5dd, skriver Bergen Tidende (BT).</p>\n",
        "<p class=\"txt\">http://www.bt.no/nyheter/lokalt/Med-solkraft-fra-Bergen-3121089.html#.U33kZS9WsbO</p>\n",
        "<p class=\"txt\">I april bodde Sl\u00e5ttli og Mehari tre uker i Becho for \u00e5 installere solceller og l\u00e6re opp lokalbefolkningen i bruk av solenergi.</p>\n",
        "<p class=\"txt\">\u2013 Det avgj\u00f8rende for oss var ikke bare \u00e5 levere str\u00f8m, men ogs\u00e5 \u00e5 dele kunnskapen vi har fra H\u00f8gskolen, sier Mehari, som forteller at de l\u00e6rte opp seks lokale studenter om teori og praksis. Disse studentene er n\u00e5 godt utrustet til \u00e5 ta h\u00e5nd om systemet, enda de bare har grunnskoleutdanning.</p>\n",
        "<p class=\"txt\">Sl\u00e5ttli og Mehari la stor vekt p\u00e5 at systemet de bygget opp skal v\u00e6re mulig \u00e5 holde ved like av de som bruker det, og at reservedeler er lokalt tilgjengelige til en overkommelig pris.</p>\n",
        "<p class=\"txt\">En grundig kartlegging av \u00f8konomiske og sosiale tilstander i Becho viste at folk i Becho hadde</p>\n",
        "<p class=\"txt\">Instituttleder Nils Otto Antonsen h\u00e5per dette prosjektet vil v\u00e6re til inspirasjon for andre.</p>\n",
        "<p class=\"txt\">\u2013 Vi \u00f8nsker at v\u00e5re studenter skal rette blikket ut forbi Norge sine grenser. D\u00e5rlig tilgang p\u00e5 energi er et stort problem mange steder, og tilgang p\u00e5 billig og fornybar energi er en forutsetning for b\u00e6rekraftig utvikling, sier Antonsen.</p>\n",
        "<p class=\"txt\">Hvilke f\u00f8lger prosjektet f\u00e5r vil vise seg om fem \u00e5r, n\u00e5r Sl\u00e5ttli og Esays skal tilbake for \u00e5 se hvordan det har g\u00e5tt.</p>\n",
        "<p class=\"mt\">Tyr til alternativ lindring av eksamensstress</p>\n",
        "<p class=\"txt\">Studentforbundet ved Universitetet i Leicester har planlagt \u00abbobleplast-stasjoner\u00bb, hvor studenter kan f\u00e5 avspenning ved \u00e5 poppe innpakningsmaterialet.</p>\n",
        "<p class=\"txt\">Det vil ogs\u00e5 v\u00e6re mulighet for \u00e5 klappe hundevalper for \u00e5 roe ned stressede studenter, skriver BBC News.  http://www.bbc.com/news/education-27469803</p>\n",
        "<p class=\"txt\">\u2013 Mental helse skal v\u00e6re h\u00f8yt prioritert under eksamen, og vi vet hvor stressende denne tiden kan v\u00e6re, forklarer Michael Rubin, leder ved universitets studentforbund, til BBC.</p>\n",
        "<p class=\"txt\">Studentene mener at tilfredstillelsen av \u00e5 poppe bobleplast fungerer bedre enn meditasjon og yoga.</p>\n",
        "<p class=\"txt\">Det er ikke det f\u00f8rste universitetet som setter i gang utradisjonelle metoder for \u00e5 oppn\u00e5 stressmestring. Forrige uke satte Universitetet Bath Spa i England opp en dyrehage utenfor biblioteket, hvor studenter blant annet kunne klappe geiter og mate ender. P\u00e5 Universitetet i Canberra, Australia kunne studentene gj\u00f8re det samme med grisunger og lam.</p>\n",
        "<p class=\"txt\">Ikke alle synes at universitetenes metoder for stresslindring er positive. Dyrerettighetsorganisasjonen PETA mener at dyrene ikke har godt av \u00e5 reise mye og v\u00e6re innesperret, og anbefaler heller hoppeslott og ryggmassasje som alternative muligheter.</p>\n",
        "<p class=\"txt\">Et universitet i Missouri opplevde for \u00f8vrig at dyrehage-prosjektet ble problematisk p\u00e5 andre m\u00e5ter, da en bj\u00f8rnunge bet en student som ville klappe den.</p>\n",
        "<p class=\"txt\"><i>universitas@universitas.no</i></p>"
       ],
       "metadata": {},
       "output_type": "display_data",
       "text": [
        "<IPython.core.display.HTML at 0x7fa66aea4198>"
       ]
      },
      {
       "html": [
        "<p class=\"txt\">Med balkongd\u00f8ren p\u00e5 gl\u00f8tt var s\u00e5 godt som alle studentpolitikere ved Universitetet i Oslo samlet p\u00e5 Villa Eika i dag.</p>\n",
        "<p class=\"txt\">Etter initiativ fra studentene selv, ble det avholdt et ekstraordin\u00e6rt m\u00f8te ang\u00e5ende prorektor-saken (se faktaboks).</p>\n",
        "<p class=\"txt\"><b>I dag ble det kjent at en samlet studentmasse ved Universitetet i Oslo krever nyvalg av rektor og prorektor, i kj\u00f8lvannet av prorektor-saken.</b></p>\n",
        "<p class=\"mt\">\u2013 Arrogant</p>\n",
        "<p class=\"txt\">Leder av Studentparlamentet ved Universitetet i Oslo, Gabrielle Gjerdset mener nyvalg er det riktige \u00e5 gj\u00f8re.</p>\n",
        "<p class=\"txt\">\u2013 Det er viktig ikke \u00e5 b\u00f8ye spilleregler p\u00e5 grunn av praktiske hensyn. Vi \u00f8nsker en samlet, valgt ledelse, og det har vi ikke i dag, sier Gjerdset til Universitas.</p>\n",
        "<p class=\"txt\">P\u00e5 m\u00f8tet var Studentparlamentet i sin helhet representert, og alle studentutvalgene ved UiOs fakulteter, med unntak av odontologisk fakultet og juridisk. Juridisk fakultets studentutvalg har imidlertid p\u00e5 forh\u00e5nd varslet at de st\u00f8tter kravet om nyvalg.</p>\n",
        "<p class=\"txt\">\u2013 Det er arrogant av universitetsstyret, \u00e5 se bort fra demokratiske prinsipper, mener SP-leder Gjerdset.</p>\n",
        "<p class=\"mt\">\u2013 Ekstra aktuelt \u00e5 fremme kravet tydelig</p>\n",
        "<p class=\"txt\">Da saken om nyvalg var oppe i universitetsstyret, var det kun studentrepresentantene i styret, Eva Holte Enoksen og \u00c5dne Hindenes, som stemte mot \u00e5 droppe nytt valg av rektor og prorektor.</p>\n",
        "<p class=\"txt\">Det er i etterkant av at Fjeld trakk seg, v\u00e6rt flere presseoppslag knyttet til hennes avgang.</p>\n",
        "<p class=\"txt\"><a href=\\\u00bbhttp://universitas.no/nyhet/59471/-et-tegn-pa-at-valgets-tid-er-over-pa-universitetet\\\u00bb>I Universitas har flere studentpolitikere uttrykt seg kritisk til at det ikke ble foretatt et nyvalg.</a></p>\n",
        "<p class=\"txt\">N\u00e5 stiller en samlet UiO-studentmasse seg bak studentrepresentantene i styret.</p>\n",
        "<p class=\"txt\">\u2013 Grunnen til at det har kommet opp n\u00e5 er at flere studentutvalg ville gj\u00f8re en st\u00f8rre sak ut av det, samt at saken har blusset opp de siste dagene, sier Gjerdset.</p>\n",
        "<p class=\"txt\">Senest i g\u00e5r <a href=\\\u00bbhttp://klassekampen.no/article/20140522/ARTICLE/140529984\\\u00bb>skrev Klassekampen om Ruth Fjeld, som f\u00f8lte seg presset ut av jobben.</a></p>\n",
        "<p class=\"txt\">\u2013 N\u00e5r det n\u00e5 i tillegg er uklarhet rundt \u00e5rsakene rundt avgangen til Fjeld er det ekstra aktuelt \u00e5 fremme kravet tydelig, mener Gjerdset.</p>\n",
        "<p class=\"mt\">Sender brev</p>\n",
        "<p class=\"txt\">I tiden fremover \u00f8nsker derfor listene ved Studentparlamentet og studentutvalgene ved fakultetene at saken tas opp p\u00e5 nytt i styret.</p>\n",
        "<p class=\"txt\">De vil sende et brev til rektoratet der de ber om at saken m\u00e5 p\u00e5 agendaen igjen.</p>\n",
        "<p class=\"txt\">Det er ledelsen i styret, alts\u00e5 rektoratet, som bestemmer hva som skal tas opp p\u00e5 styrem\u00f8tene.</p>"
       ],
       "metadata": {},
       "output_type": "display_data",
       "text": [
        "<IPython.core.display.HTML at 0x7fa66aea4198>"
       ]
      },
      {
       "html": [
        "<p class=\"txt\">Statsst\u00f8tte</p>\n",
        "<p class=\"txt\">Plassen foran Samisk h\u00f8gskole i Kautokeino er nesten tom. Ved inngangen st\u00e5r studentene Leif Henrik Halvari Skartland og Mariann Aslaksen Ravne og prater. De utgj\u00f8r sammen med skolens 100 andre studenter landets dyreste studenter, if\u00f8lge en utregning Universitas har gjort over landets statlige utdanninger.</p>\n",
        "<p class=\"txt\">\u2013 For meg er det veldig bra \u00e5 v\u00e6re en av landets dyreste studenter. Det er alltid l\u00e6rere eller administrativt ansatte tilgjengelig for \u00e5 hjelpe deg om det skulle v\u00e6re noe, sier Ravne.</p>\n",
        "<p class=\"txt\">Hun legger til at hun tror det er kapasitet til \u00e5 ta inn mange flere studenter enn det skolen gj\u00f8r i dag.</p>\n",
        "<p class=\"mt\">\u00d8konomiske problemer</p>\n",
        "<p class=\"txt\">I fjor mottok Samisk h\u00f8gskole 72 millioner kroner fra Kunnskapsdepartementet. Det vil si at skolen fikk tildelt rundt 706 323 kroner per elev. Til sammenligning fikk H\u00f8gskolen i Lillehammer litt over 322 millioner kroner \u00e5 dele mellom sine over 4000 elever. Statens bevilgninger fordeles imidlertid etter flere faktorer enn antall elever.</p>\n",
        "<p class=\"txt\">Til tross for h\u00f8ye tilskudd har Samisk h\u00f8gskole slitt med store underskudd. I 2009 fikk skolen helslakt av Riksrevisjonen, \u00e5ret etter ble skolen kritisert for \u00e5 sl\u00f8se med penger og i forrige uke meldte NRK at skolen granskes av UD og Kunnskapsdepartementet i forbindelse med at den ikke kan gj\u00f8re rede for 400 000 kroner.</p>\n",
        "<p class=\"txt\">\u2013 Jeg har ingen kommentar til granskningen, sier rektor Jelena Porsanger til Universitas og henviser til et leserinnlegg hun skrev i Dagens N\u00e6ringsliv etter at avisa skrev en sak om skolens pengebruk i fjor.</p>\n",
        "<p class=\"txt\">\u2013 Merknadene fra Riksrevisjonen har h\u00f8gskolen tatt meget alvorlig. Styret har iverksatt omfattende tiltak med det m\u00e5l \u00e5 forbedre rutinene ved \u00e5 implementere disse i v\u00e5rt forvaltningssystem. Riksrevisjonen synes \u00e5 v\u00e6re forn\u00f8yd med resultatet, skrev Porsanger da.</p>\n",
        "<p class=\"mt\">L\u00f8nninger og kulturarv</p>\n",
        "<p class=\"txt\">Videre pekte rektoren i fjor p\u00e5 h\u00f8ye l\u00f8nnskostnader som en av \u00e5rsakene til skolens kraftige pengebruk. Skolen er den eneste av de statlige skolene med flere ansatte enn studenter. I skrivende stund har skolen 110 ansatte og 102 elever.</p>\n",
        "<p class=\"txt\">Porsanger understreker overfor Universitas at skolen har et viktig samfunnsoppdrag gjennom vedlikehold av den samiske kulturen.</p>\n",
        "<p class=\"txt\">\u2013 Vi har jobbet i 25 \u00e5r for \u00e5 bevare og utvikle samisk spr\u00e5k og st\u00f8tte det samiske samfunnets utvikling for \u00e5 oppn\u00e5 likeverd med storsamfunnet, sier hun.</p>\n",
        "<p class=\"txt\">En annen \u00e5rsak til pengebruken skal if\u00f8lge skolen v\u00e6re forskning. Tidligere har skolen publisert rundt 20 forskningsartikler per \u00e5r, i 2013 var antallet imidlertid seks artikler. Skolen har et eget forskningstidskrift.</p>\n",
        "<p class=\"mt\">Kan bli politisak</p>\n",
        "<p class=\"txt\">I NRK i forrige uke kom det frem at Samisk h\u00f8gskole kan st\u00e5 overfor en politisak i forbindelse med de 400 000 kronene som er forsvunnet. BI-professor og ekspert p\u00e5 \u00f8konomisk kriminalitet Petter Gottschalk sa til NRK at saken kan bli en straffesak. Til Universitas sier professoren at grunnen til at Samisk h\u00f8gskole fortsatt f\u00e5r s\u00e5 mye st\u00f8tte, til tross for \u00f8konomisk kritikk, kan v\u00e6re at temaet er betent.</p>\n",
        "<p class=\"txt\">\u2013 Man er fra sentralt hold i Oslo forsiktig med \u00e5 styre ved samenes territorium. Kunnskapsdepartementet burde for lengst ha utforsket saken. N\u00e5r man har mistanke om \u00f8konomisk kriminalitet g\u00e5r man til politiet. Dette er en glipp fra departementet, sier han.</p>\n",
        "<p class=\"txt\">\u00d8kokrim sier at de ikke kan kommentere om det blir aktuelt for dem \u00e5 se n\u00e6rmere p\u00e5 saken.</p>\n",
        "<p class=\"mt\">Lettvint bruk av penger</p>\n",
        "<p class=\"txt\">Til tross for de mange pengeproblemene mener Gottschalk at man m\u00e5 se p\u00e5 det store bildet for \u00e5 skj\u00f8nne form\u00e5let med at Samisk h\u00f8gskole f\u00e5r mest penger per elev.</p>\n",
        "<p class=\"txt\">\u2013 Norge har lyktes i \u00e5 ha en tilfreds urbefolkning, i motsetning til veldig mange andre land. Dette skyldes ikke minst hvor mye penger staten bruker p\u00e5 dette, sier han.</p>\n",
        "<p class=\"txt\">Statssekret\u00e6r Bj\u00f8rn Haugstad i Kunnskapsdepartementet svarer f\u00f8lgende p\u00e5 hvorfor akkurat Samisk h\u00f8gskole f\u00e5r s\u00e5 h\u00f8ye bevilgninger.</p>\n",
        "<p class=\"txt\">\u2013 Samisk h\u00f8gskole har et helt spesielt mandat og helt spesielle utfordringer. Derfor er det naturlig at Samisk h\u00f8gskole har forholdsvis h\u00f8ye bevilgninger per student.</p>\n",
        "<p class=\"txt\">Hans kollega, ekspedisjonssjef Toril Johansson i Universitets- og H\u00f8yskoleavdelingen i Kunnskapsdepartementet, bekrefter at h\u00f8yskolen n\u00e5 m\u00e5 foreta en gjennomgang av systemene sine under p\u00e5syn fra departementet.</p>\n",
        "<p class=\"txt\">\u2013 Vi ser alvorlig p\u00e5 forholdene, og det er viktig at Samisk h\u00f8gskole tar ansvar og retter opp feil, sier hun til Universitas.</p>\n",
        "<p class=\"tit\">Vil ha ny modell</p>\n",
        "<p class=\"txt\">\u2013 Det er veldig bra at finansiering og struktur er p\u00e5 regjeringens agenda. Tilsynelatende er mange enige om at vi trenger endringer, sier rektor Kari Toverud Jensen ved H\u00f8gskolen i Oslo og Akershus (HiOA).</p>\n",
        "<p class=\"txt\">H\u00f8gskolen i Oslo og Akershus er den skolen som f\u00e5r minst per elev i Oslo med bevilgninger p\u00e5 1,7 milliarder kroner fordelt p\u00e5 litt over 15 000 elever. Jensen mener at dagens finansieringsmodell ikke tar h\u00f8yde for de utfordringene h\u00f8yskolene st\u00e5r overfor n\u00e5r det gjelder forskning ved praksisutdanningene.</p>\n",
        "<p class=\"txt\">\u2013 Vi trenger et system som gj\u00f8r det mulig \u00e5 styrke fagmilj\u00f8ene som driver profesjonsutdanningene, med n\u00f8dvendig handlingsrom og virkemidler som bel\u00f8nner kvalitet i utdanningene.</p>\n",
        "<p class=\"mt\">Enig</p>\n",
        "<p class=\"txt\">H\u00f8yskoledirekt\u00f8r Geir Bergkastet ved H\u00f8gskolen i Lillehammer er enig med Jensen, og peker p\u00e5 at skolene ogs\u00e5 b\u00f8r bli bel\u00f8nnet for eventuell vekst.</p>\n",
        "<p class=\"txt\">\u2013 Vi har vokst og s\u00e5ledes bidratt til \u00e5 l\u00f8se et samfunnsoppdrag ved \u00e5 utdanne mange. Dagens modell premierer ikke i tilstrekkelig grad dette, sier han til Universitas.</p>\n",
        "<p class=\"mt\">Studentenes ansvar</p>\n",
        "<p class=\"txt\">Statssekret\u00e6r Bj\u00f8rn Haugstad i Kunnskapsdepartementet mener det er riktig at Samisk H\u00f8gskole og Kunsth\u00f8yskolene f\u00e5r mye statstilskudd til tross for at mange av studentene fra kunstskolene sliter med \u00e5 finne jobb etter endt utdanning.</p>\n",
        "<p class=\"txt\">\u2013 I Norge legger vi stor vekt p\u00e5 at studentenes egne valg skal telle tungt. Det inneb\u00e6rer at studentene ogs\u00e5 m\u00e5 ta ansvar for konsekvensene av valgene de gj\u00f8r, som egne utsikter i arbeidsmarkedet, sier han til Universitas.</p>\n",
        "<p class=\"txt\">M\u00e5lt i statstilskudd per student per \u00e5r</p>\n",
        "<p class=\"txt\">Samisk h\u00f8gskole 706 000 kr</p>\n",
        "<p class=\"txt\">Kunsth\u00f8gskolen i Oslo</p>\n",
        "<p class=\"txt\">560 000 kr</p>\n",
        "<p class=\"txt\">M\u00e5lt i statstilskudd per student per \u00e5r</p>\n",
        "<p class=\"txt\">Norges musikkh\u00f8gskole</p>\n",
        "<p class=\"txt\">367 000 kr</p>\n",
        "<p class=\"txt\">H\u00f8gskolen i Oslo og Akershus</p>\n",
        "<p class=\"txt\">113 000 kr</p>\n",
        "<p class=\"txt\">Norges idrettsh\u00f8gskole</p>\n",
        "<p class=\"txt\">154 000 kr</p>\n",
        "<p class=\"txt\">Universitetet i Oslo</p>\n",
        "<p class=\"txt\">189 000 kr</p>"
       ],
       "metadata": {},
       "output_type": "display_data",
       "text": [
        "<IPython.core.display.HTML at 0x7fa66aea4198>"
       ]
      },
      {
       "html": [
        "<p class=\"txt\">Skal gj\u00f8re Nova sosial</p>\n",
        "<p class=\"txt\">Flere arrangementer og mer personlig preg st\u00e5r p\u00e5 tapetet n\u00e5r Albert Christian Alfiler tar over som Radio Nova-redakt\u00f8r.</p>\n",
        "<p class=\"txt\">Studentradio</p>\n",
        "<p class=\"txt\">Alfiler (27) ble forrige uke valgt til ny redakt\u00f8r for studentenes lokalradio i Oslo. 1. juli st\u00e5r han klar til \u00e5 overta ansvaret etter forrige Nova-sjef, Erlend Buflaten.</p>\n",
        "<p class=\"txt\"><I>\u2013 Gratulerer med valgseier. Var det hard konkurranse?</I></p>\n",
        "<p class=\"txt\">\u2013 Det var en del grilling fra organisasjonen under intervjuet, og mange som kom med knallt\u00f8ffe sp\u00f8rsm\u00e5l. Det sies at valgallm\u00f8tet i Radio Nova er et av de hardeste jobbintervjuene man g\u00e5r p\u00e5, noe som ikke er tull, sier en forn\u00f8yd Alfiler til Universitas.</p>\n",
        "<p class=\"mt\">Vil forbli nisjeradio</p>\n",
        "<p class=\"txt\"><I>\u2013 Da Erlend Buflaten ble redakt\u00f8r i fjor, \u00f8nsket han \u00e5 prioritere historieprogrammer, debatter og sport. Har du liknende ambisjoner?</I></p>\n",
        "<p class=\"txt\">\u2013 Vi er en nisjeradio, og det synes jeg vi skal fortsette \u00e5 v\u00e6re. Det er samtidig viktig at det redaksjonelle innholdet oppleves som relevant for lytterne \u2013 som er studenter.</p>\n",
        "<p class=\"txt\">Alfiler er tydelig p\u00e5 at han vil lytte til journalistenes \u00f8nsker, og at radiokanalen skal v\u00e6re et inkluderende milj\u00f8 med rom for alle til \u00e5 sette sitt preg p\u00e5 den.</p>\n",
        "<p class=\"txt\">\u2013 N\u00e5r det gjelder spesifikke programmer, \u00f8nsker ikke jeg som redakt\u00f8r \u00e5 tvinge gjennom pilotprogrammer hvis det ikke er noen andre som \u00f8nsker \u00e5 lage programmet. Jeg vil gjerne inspirere og oppfordre journalistene til \u00e5 komme med forslag til piloter de er motiverte til \u00e5 lage. Om noen har veldig lyst til \u00e5 lage et program om sjakk, for eksempel, s\u00e5 b\u00f8r det v\u00e6re rom for det.</p>\n",
        "<p class=\"mt\">Flere arrangementer</p>\n",
        "<p class=\"txt\">I fjor h\u00f8st ble det gjennomf\u00f8rt en medieunders\u00f8kelse blant studentene i Oslo, som viste at bare 30 prosent av studentene h\u00f8rer p\u00e5 Radio Nova. Alfiler mener et viktig grep for \u00e5 sanke flere lyttere vil v\u00e6re \u00e5 bli mer synlig p\u00e5 arrangementsfronten.</p>\n",
        "<p class=\"txt\">\u2013 Selv om Radio Nova f\u00f8rst og fremst er en radiokanal, kan vi ogs\u00e5 ta initiativ til debatter og andre sosiale sammenkomster.</p>"
       ],
       "metadata": {},
       "output_type": "display_data",
       "text": [
        "<IPython.core.display.HTML at 0x7fa66aea4198>"
       ]
      },
      {
       "html": [
        "<p class=\"txt\">kultur</p>\n",
        "<p class=\"txt\"><I>I disse dager ansettes folkene som skal forske p\u00e5 din d\u00e5rlige samvittighet overfor de fattige barna i Afrika.</I></p>\n",
        "<p class=\"txt\">Forskning</p>\n",
        "<p class=\"txt\">Skyldf\u00f8lelse i Skandinavia i tiden etter 1989 er tema for forskningsprosjektet Scanguilt. Fordi globaliseringen har gjort skillet mellom \u00aboss\u00bb og \u00abdem\u00bb mindre, er det blitt tydeligere for oss hvor privilegerte vi er. Samtidig f\u00f8ler vi mer skam.</p>\n",
        "<p class=\"txt\">\u00abMen at war\u00bb, \u00abglobal women\u00bb og \u00absacrificed children\u00bb er tre sentrale temaer for prosjektet. Elisabeth Oxfeldt er prosjektleder for millionsatsningen, og mener Johan Harstads skuespill <I>Osv.</I> er et godt eksempel p\u00e5 f\u00f8rstnevnte tematikk.</p>\n",
        "<p class=\"txt\">\u2013 Her veksler vi mellom \u00e5 f\u00f8lge med p\u00e5 OL i Lillehammer og folkemordet i Rwanda. For mediene og folk flest er OL en st\u00f8rre nyhet og av st\u00f8rre interesse enn et folkemord, sier Oxfeldt, som ogs\u00e5 er professor i lingvistiske og nordiske studier ved Universitetet i Oslo (UiO).</p>\n",
        "<p class=\"txt\">Forskningsprosjektet ble satt i gang i \u00e5r, og vil v\u00e6re delt opp i et HF-basert prosjekt ved UiO, som har blitt tildelt fem millioner kroner, og et internasjonalt prosjekt, som f\u00e5r 12 millioner i st\u00f8tte fra Norges forskningsr\u00e5d. Denne uka intervjues kandidater til stipendiatstillingene i prosjektet.</p>\n",
        "<p class=\"mt\">Globale kvinner</p>\n",
        "<p class=\"txt\">Den norske filmen <I>Upperdog</I> fra 2009 er et godt eksempel p\u00e5 at kvinner er blitt globale. Der har en polsk vaskedame etterlatt sitt barn i Polen for \u00e5 v\u00e6re vaskedame p\u00e5 Oslos vestkant.</p>\n",
        "<p class=\"txt\">\u2013 Filmen spiller p\u00e5 at v\u00e5rt likestilte samfunn beror p\u00e5 \u00abimport\u00bb av utenlandske kvinner, noe som kan skape skyldf\u00f8lelse, mener Oxfeldt.</p>\n",
        "<p class=\"txt\">Regiss\u00f8r Sara Johnsen sier hun var bevisst p\u00e5 dette etter selv \u00e5 ha hatt en polsk vaskedame. Hun er likevel ikke helt enig i bruken av ordet \u00abskam\u00bb.</p>\n",
        "<p class=\"txt\">\u2013 Jeg tenker at skam er forbundet med ambisjon og mulighet. Folk sier de m\u00e5 ha au pair fordi samfunnet har p\u00e5f\u00f8rt dem tidsklemma. Ingenting er s\u00e5 enkelt \u00e5 bortforklare som skyldf\u00f8lelsen v\u00e5r, sier Johnsen.</p>\n",
        "<p class=\"txt\">Johnsen mener at hun enda ikke er i en slik posisjon at filmene hennes har en stor p\u00e5virkning og dermed kan endre holdningene til de som i utgangspunktet er uenige.</p>\n",
        "<p class=\"txt\">\u2013 Bare tenk p\u00e5 alle filmer om fattigdom og urettferdighet, de endrer lite. Man kan likevel pr\u00f8ve \u00e5 vise noen perspektiver ved \u00e5 fortelle historier om folk som ikke har meningene sine p\u00e5 trykk i aviser og blader.</p>\n",
        "<p class=\"mt\">Ofrede barn</p>\n",
        "<p class=\"txt\">Erik Poppes ferskeste film, <I>Tusen ganger god natt</I>, viser \u00absacrificed children\u00bb \u2013 det tredje temaet i prosjektet. Hovedkarakteren, spilt av Juliette Binoche, er en krigsfotograf som forlater mann og barn hjemme i trygge nord. Men s\u00e5 tar hun med datteren p\u00e5 oppdrag.</p>\n",
        "<p class=\"txt\">\u2013 Mor og datter er i en trygg flyktningleir, som plutselig blir angrepet. Da sender Binoche datteren avg\u00e5rde og blir selv igjen for \u00e5 dekke konflikten med kameraet, sier Oxfeldt.</p>\n",
        "<p class=\"txt\">Slik f\u00e5r hun bekreftet at hennes prioriteringer gj\u00f8r en forskjell: Fordi hun tar bilder, f\u00e5r angrepet oppmerksomhet og flyktningleiren blir trygg. Binoches karakter \u00abofrer\u00bb sitt eget barn for \u00e5 redde barn som er langt d\u00e5rligere stilt.</p>\n",
        "<p class=\"txt\">\u2013 Her kan vi sp\u00f8rre om det er sant at en krigsfotografs rapportering gj\u00f8r en forskjell. Et annet sp\u00f8rsm\u00e5l er om Poppes film i seg selv f\u00f8rer til endringer i det virkelige liv, sier prosjektlederen.</p>\n",
        "<p class=\"mt\">Destruktiv skyldsf\u00f8lelse</p>\n",
        "<p class=\"txt\">\u2013 Mange bryr seg nok ikke, fordi de f\u00f8ler seg f\u00f8dt inn i et system som er for stort og for vanskelig \u00e5 gj\u00f8re noe med, sier forfatter Simon Stranger.</p>\n",
        "<p class=\"txt\">\u2013 Andre har d\u00e5rlig samvittighet. Men hvis skyldf\u00f8lelsen ikke omgj\u00f8res til handlinger, er den ganske destruktiv.</p>\n",
        "<p class=\"txt\">Stranger skrev ungdomsboka <I>Verdensredderne</I> fra 2012, der den ene av hovedpersonene er en bangladeshisk jente som lager t-skjorter i en tekstilfabrikk. Den andre er en norsk jente fra B\u00e6rum, som bruker nettopp \u00e9n av disse t-skjortene.</p>\n",
        "<p class=\"txt\">Da boka kom ut, gikk debatten hett rundt arbeidsforholdene hos Hennes & Mauritz. Stranger skrev brev til klesgigantens sjef og var med p\u00e5 debatt i Dagbladet og Dagsnytt 18. Han har ogs\u00e5 skrevet <I>En fremmed i verden</I>, om sin egen skam over \u00e5 v\u00e6re norsk og rik.</p>\n",
        "<p class=\"txt\">\u2013 Vesten har kommet s\u00e5 langt \u00f8konomisk at det ikke er nok \u00e5 kj\u00f8pe noe som f\u00e5r oss til \u00e5 se bra ut. Vi vil betale for ikke \u00e5 f\u00e5 d\u00e5rlig samvittighet ogs\u00e5. Rent kynisk sett er det blitt et markedsfortrinn \u00e5 komme \u00e5pent ut om sine produksjonsforhold, sier Stranger.</p>\n",
        "<p class=\"mt\">Samtidssp\u00f8kelser</p>\n",
        "<p class=\"txt\">En tekst som har v\u00e6rt inspirasjon for Scanguilt, er Jacques Derridas <I>Marx' sp\u00f8kelser</I> fra 1994. Boka sp\u00f8r hva marxismen kan brukes til etter kommunismens d\u00f8d.</p>\n",
        "<p class=\"txt\">\u2013 For Derrida st\u00e5r det klart at ting ikke er s\u00e5 enkelt, for det finnes flere typer marxisme. Selv etter murens fall vil det v\u00e6re mange \u00absp\u00f8kelser\u00bb fra fortiden.</p>\n",
        "<p class=\"txt\">Poenget til Oxfeldt er at samtidssp\u00f8kelsene finnes p\u00e5 samme m\u00e5te i Skandinavia, og de krever at vi retter opp i den \u00abskyld\u00bb vi har beg\u00e5tt.</p>\n",
        "<p class=\"txt\">\u2013 Vi lever isolert fra andre oppe i nord, men globaliseringen gj\u00f8r det uunng\u00e5elig \u00e5 se omverdenen. Fordi virkelighetene ofte er s\u00e5 forskjellig, f\u00f8ler vi en p\u00e5trengende skam. Dette kommer til uttrykk i kunst og kultur, sier prosjektlederen.</p>\n",
        "<p class=\"mt\">\u00c5 skape empati</p>\n",
        "<p class=\"txt\">Mens en av stipendiatene skal se p\u00e5 blant annet film, litteratur og kunstinstallasjoner, skal en annen ta for seg global skyld i skoleundervisningen. Her trekker Oxfeldt fram Operasjon Dagsverk og innsamlingsaksjoner som gode eksempler p\u00e5 den norske \u00abd\u00e5rlige samvittigheten\u00bb.</p>\n",
        "<p class=\"txt\">Aftenpostens tv-serie <I>Sweatshop</I>, hvor ungdommer blir sendt til Kambodsja for \u00e5 l\u00e6re om klesproduksjonens baksider, er ogs\u00e5 aktuell.</p>\n",
        "<p class=\"txt\">\u2013 Her er det fokus p\u00e5 oss og dem, rik og fattig, innsikt og skyld. Setninger som \u00abdet g\u00e5r inn p\u00e5 meg, for hvem er jeg som sitter her og klager over at jeg m\u00e5 \u00f8ve til mattepr\u00f8ve, mens det sitter folk nede i Kambodsja som jobber livet av seg\u00bb er \u00abScanguilt\u00bb, sier Oxfeldt.</p>"
       ],
       "metadata": {},
       "output_type": "display_data",
       "text": [
        "<IPython.core.display.HTML at 0x7fa66aea4198>"
       ]
      },
      {
       "html": [
        "<p class=\"bt\"><b>STR\u00d8MBRUDD: En l\u00f8s bryter i et el-skap f\u00f8rte til str\u00f8mbrudd under fredagens eksamensavvikling.</b></p>\n",
        "<p class=\"txt\">Da Lars Sollesnes (24) m\u00f8tte opp til eksamen i metode og etikk ved Det juridiske fakultet forrige fredag, ante han fred og ingen fare. Bok-skjekken ble unnagjort, og eksamensoppgavene delt ut. Etterp\u00e5 ventet sol og varmegrader langt oppe p\u00e5 20-tallet.</p>\n",
        "<p class=\"txt\"><b>Tre kvarter inn i eksamenstiden gikk det plutselig galt. Da forsvant nemlig str\u00f8mmen i hele bygget. </b></p>\n",
        "<p class=\"txt\">\u2013 Det tok mye tid f\u00f8r vi fikk beskjed om hva vi skulle gj\u00f8re. Etter en stund fikk vi utdelt ark som vi kunne skrive eksamenssvarene p\u00e5 for h\u00e5nd, men det var tydelig at det ikke finnes noen fast rutine vaktene kunne f\u00f8lge, forteller Sollesnes.</p>\n",
        "<p class=\"mt\">D\u00e5rlig luft</p>\n",
        "<p class=\"txt\">Studentene fikk utvidet eksamenstiden med tre timer, og de som \u00f8nsket det fikk muligheten til \u00e5 trekke seg. Det var det flere som gjorde \u2013 ventilasjonsanlegget sluttet nemlig \u00e5 virke da str\u00f8mmen gikk, og det ble d\u00e5rlig luft i lokalene.</p>\n",
        "<p class=\"txt\">\u2013 Til \u00e5 begynne med ble det bare varmt og klamt i rommet, men etter en stund begynte det \u00e5 bli s\u00e5 d\u00e5rlig luft at det ble vanskelig \u00e5 konsentrere seg. De som synes det ble for ille til \u00e5 fortsette, valgte da \u00e5 trekke seg fra eksamen, sier Sollesnes.</p>\n",
        "<p class=\"txt\">Sollesnes synes likevel situasjonen ble taklet p\u00e5 en god m\u00e5te fra fakultetets side, til tross for at det ble mye venting den f\u00f8rste timen etter str\u00f8mbruddet.</p>\n",
        "<p class=\"txt\">\u2013 Vaktene var hjelpsomme, og vi fikk muligheten til \u00e5 g\u00e5 p\u00e5 butikken for \u00e5 kj\u00f8pe mat. Selv om vi var slitne mot slutten opplevde jeg heller ikke at jeg hadde d\u00e5rlig tid p\u00e5 meg til \u00e5 skrive ferdig eksamen. Alt i alt synes jeg situasjonen ble h\u00e5ndtert greit, sier Sollesnes.</p>\n",
        "<p class=\"txt\">Han forteller at det var varierte reaksjoner blant studentene.</p>\n",
        "<p class=\"txt\">\u2013 Noen ble irriterte, mens andre hadde forst\u00e5else for at dette ikke var noe man kunne ha forutsett.</p>\n",
        "<p class=\"mt\">\u2013 Dyp medf\u00f8lelse</p>\n",
        "<p class=\"txt\">Fakultetet sier til Universitas at det var en feil i et el-skap som var \u00e5rsaken til str\u00f8mbruddet. Dekan Hans Petter Graver mener det er vanskelig \u00e5 forutse slike hendelser, og tar hendelsen alvorlig.</p>\n",
        "<p class=\"txt\">\u2013 Som dekan beklager jeg virkelig, og jeg har dyp medf\u00f8lelse for alle de studentene feilen gikk utover. Slike ting skal jo ikke skje, sier Graver til Universitas.</p>\n",
        "<p class=\"txt\">Eksamenslokalene var leid inn av Eiendomsavdelingen ved Universitetet i Oslo, og det er en ekstern eier av bygningen som har ansvaret for at forholdene ligger til rette.</p>\n",
        "<p class=\"txt\">Fakultetet understreker at et str\u00f8mbrudd er et betydelig problem uansett om eksamen foreg\u00e5r p\u00e5 PC eller for h\u00e5nd.</p>\n",
        "<p class=\"mt\">F\u00e5r kompensasjon</p>\n",
        "<p class=\"txt\">Studentene som tok eksamen p\u00e5 fredag hadde f\u00e5tt utdelt eksamensoppgaven p\u00e5 papir, og kunne derfor fortsette uten PC.</p>\n",
        "<p class=\"txt\">\u2013 Det er ikke alltid s\u00e5 lett \u00e5 ha en plan B. I f\u00f8rste omgang fors\u00f8ker vi alternative tekniske l\u00f8sninger, men det var ikke mulig her. Ellers er det alltid mulig \u00e5 kompensere med tilleggstid, gi studentene mulighet til \u00e5 ta eksamen p\u00e5 nytt eller \u00e5 skrive besvarelsen for h\u00e5nd. Alle tre tiltak ble tilbudt her, men det tok dessverre litt tid f\u00f8r vi fikk oversikt over hvor alvorlig feilen var og hvor lenge den ville vare, forteller Graver.</p>\n",
        "<p class=\"txt\">Studentene som valgte \u00e5 trekke seg fra eksamen vil f\u00e5 tilbud om utsatt eksamen i l\u00f8pet av semesteret. Da vil fakultetet v\u00e6re bedre forberedt.</p>\n",
        "<p class=\"txt\">\u2013 N\u00e5 vil vi arbeide med \u00e5 finne rutiner som vil gj\u00f8re oss og g\u00e5rdeieren bedre rustet til \u00e5 l\u00f8se slike problemer i framtiden, sier Hans Petter Graver.</p>\n",
        "<p class=\"txt\">Universitas har ikke lykkes i \u00e5 f\u00e5 en uttalelse fra byggeier.</p>\n",
        "<p class=\"txt\"><i>i.e.gipling@universitas.no</i></p>"
       ],
       "metadata": {},
       "output_type": "display_data",
       "text": [
        "<IPython.core.display.HTML at 0x7fa66aea4198>"
       ]
      },
      {
       "html": [
        "<p class=\"bt\">Studentenes psykolog: Lars J\u00f8rgen Berglund, Seksjonsleder og psykologspesialist ved SiO Helse p\u00e5 Blindern, mener at behandling kan lede til at man utvikler st\u00f8rre innsikt i angstopplevelsen.</p>\n",
        "<p class=\"txt\">\u2013 Det er et skremmende tall n\u00e5r s\u00e5 mange studenter opplever dette, sier Jonas Ohlgren \u00d8stvik, Velferds- og likestillingspolitisk ansvarlig i Norsk Studentorganisasjon.</p>\n",
        "<p class=\"txt\">En ny unders\u00f8kelse utf\u00f8rt i mai av Sentio for Universitas og Norsk studentorganisasjon (NSO), avdekker at hver tiende student i Norge alltid, sv\u00e6rt ofte eller ofte sliter med angst i hverdagen i denne perioden.</p>\n",
        "<p class=\"txt\">\u2013 Det er godt over 20 000 studenter, og er p\u00e5 ingen m\u00e5te bra. Det er tydelig at man er n\u00f8dt til \u00e5 gj\u00f8re noe, sier \u00d8stvik.</p>\n",
        "<p class=\"txt\">I unders\u00f8kelsen svarer ogs\u00e5 \u00e9n av fire studenter at de alltid, sv\u00e6rt ofte eller ofte har v\u00e6rt nerv\u00f8se og urolige de siste to ukene.</p>\n",
        "<p class=\"mt\">Kun 13 psykologer</p>\n",
        "<p class=\"txt\">Av de 70 ansatte i Oslos studenthelsetjeneste SiO Helse, jobber 13 som psykologer. Anne Karine Lie, som er seksjonsleder for SiO helse avdeling sentrum, kan fortelle at psykologene p\u00e5 denne avdelingen per dags dato er mange nok til \u00e5 ta unna den massive p\u00e5gangen.</p>\n",
        "<p class=\"txt\">\u2013 Vi har veldig h\u00f8y ettersp\u00f8rsel, og jobber med \u00e5 lage et rettferdig og forutsigbart k\u00f8system. Akkurat n\u00e5 oppleves det som en flaskehals, sier Lie.</p>\n",
        "<p class=\"txt\">Lie mener dette er et problem som ikke kommer til \u00e5 bli l\u00f8st med det f\u00f8rste. Likevel oppfordrer hun studenter som har problemer til \u00e5 ta kontakt ettersom k\u00f8ene er enda lengre i offentlig helsesektor.</p>\n",
        "<p class=\"mt\">Helsetjenesten sprengt</p>\n",
        "<p class=\"txt\">Kaia Marie Rosseland, leder for Velfertstinget i Oslo og Akershus, argumenterer for et mer helhetlig studenthelsetilbud.</p>\n",
        "<p class=\"txt\">\u2013 Kapasiteten er sprengt. Psykologhjelp krever veldig mye og er dyrt. Det er derfor viktig med andre ting som fungerer rundt studentenes hverdag, som r\u00e5dgivning og det sosiale milj\u00f8et. Det helhetlige tilbudet er ogs\u00e5 viktig med helses\u00f8stre, r\u00e5dgivere og psykologer, sier Rosseland.</p>\n",
        "<p class=\"txt\"><i>\u2013 Mange som trenger hjelp med psykiske plager, blir avvist. Hva tenker du om det?</i></p>\n",
        "<p class=\"txt\">\u2013 For to \u00e5r siden ble semesteravgiften satt opp for \u00e5 utvide tjenesten ytterligere, men vi ser at den kapasitets\u00f8kninga ble spist opp med en gang. Det er derfor man m\u00e5 gj\u00f8re tiltak n\u00e5 og styrke tjenesten. For \u00e5 kunne gj\u00f8re dette m\u00e5 man ha midler til det, sier Rosseland.</p>\n",
        "<p class=\"mt\">\u2013 Trenger en holdningsendring</p>\n",
        "<p class=\"txt\">NSOs velferds- og likestillingspolitiske ansvarlige \u00d8stvik argumenterer ogs\u00e5 for flere ressurser til studentsamkipnadene og for flere typer mulige l\u00f8sninger og tilbud.</p>\n",
        "<p class=\"txt\">\u2013 Studenthelsetjenesten trenger bedre ressurser til b\u00e5de \u00e5 jobbe forebyggende, slik at man f\u00e5r tak i de med de psykiske utfordringene f\u00f8r de blir betydelige, og s\u00f8rge for at de med betydelige problemer opps\u00f8ker hjelp, sier \u00d8stvik.</p>\n",
        "<p class=\"txt\">\u2013 Setter man terskelen s\u00e5 lavt at flere benytter seg av det, s\u00e5 blir lettere \u00e5 f\u00e5 snakket med noen. Vi mener samskipnadene m\u00e5 f\u00e5 s\u00e5pass med ressurser at de klarer \u00e5 ta imot flere studenter. S\u00e5 m\u00e5 vi se p\u00e5 om det er mulig \u00e5 f\u00e5 til lignende tiltak for hvordan vi kan n\u00e5 flest mulig og v\u00e6re til stede, sier \u00d8stvik.</p>\n",
        "<p class=\"txt\">Han tror at det ogs\u00e5 kan hjelpe med en holdningsendring i studentmassen, og mener studentene er n\u00f8dt til \u00e5 fjerne tabuet rundt psykiske problemer.</p>\n",
        "<p class=\"mt\">Eksamensstress</p>\n",
        "<p class=\"txt\">For studenter som sliter med angst eller er nerv\u00f8se og urolige kan eksamensstress v\u00e6re en ekstra p\u00e5kjenning. Lars J\u00f8rgen Berglund er seksjonsleder og psykologspesialist ved SiO Helse p\u00e5 Blindern. Han kan fortelle at angst b\u00e5de kan ha positive og negative sider.</p>\n",
        "<p class=\"txt\">\u2013 Mild angst kan v\u00e6re nyttig gjennom \u00e5 skjerpe oss, fordi det er f\u00f8rst n\u00e5r angsten blir s\u00e5 omfattende at den hindrer oss i \u00e5 l\u00f8se v\u00e5re problemer, eller fungere i hverdagen, at vi kan snakke om at angsten har blitt til en lidelse, sier Berglund.</p>\n",
        "<p class=\"txt\">Berglund driver med gruppeterapi for studenter som sliter med angst ved SiO Helse Blindern. Han forteller at hvis angsten kommer i veien for prestasjon, sosialt liv, eller jobb og utdanning, kan man opps\u00f8ke hjelp.</p>\n",
        "<p class=\"txt\">\u2013 Behandling kan lede til at man utvikler st\u00f8rre innsikt i at angstopplevelsen er en sammensetning av tanker, f\u00f8lelser, kroppslige reaksjoner og handlinger, og at man kan trene p\u00e5 nye m\u00e5ter \u00e5 mestre denne opplevelsen p\u00e5, sier Berglund.</p>\n",
        "<p class=\"tit\">Vil styrke studenthelsetjenesten</p>\n",
        "<p class=\"txt\">Stortingsrepresentantene Ketil Kjenseth, Iselin Nyb\u00f8 og Abid Raja fra Venstre har utarbeidet et representantforslag for \u00e5 styrke studentvelferden. Nyb\u00f8 mener mer m\u00e5 gj\u00f8res for \u00e5 sikre studenter et godt helsetilbud.</p>\n",
        "<p class=\"txt\">\u2013 Det er et stort behov og vi m\u00e5 styrke kapasiteten. Jeg mener det er behov for flere psykologer, leger og r\u00e5dgivere i studenthelsetjenesten, sier Nyb\u00f8.</p>\n",
        "<p class=\"txt\">Velferdstingsleder Rosseland st\u00f8tter forslaget. Hun er enig i at kapasiteten i dag er for d\u00e5rlig.</p>\n",
        "<p class=\"txt\">\u2013 Forslaget viser at politikerne \u00f8nsker \u00e5 styrke studenthelsetjenesten og tar dette p\u00e5 alvor. Vi ser at tilbudet i dag har for liten kapasitet. Dette er noe Velferdstinget har jobbet med i lengre tid, sier Rosseland.</p>\n",
        "<p class=\"txt\">Abid Raja er opptatt av at studentenes psykiske helse ogs\u00e5 henger sammen med hvordan studentene har det der de studerer.</p>\n",
        "<p class=\"txt\">\u2013 Det er ikke bare lett \u00e5 v\u00e6re student i dag, og det m\u00e5 derfor v\u00e6re mulig \u00e5 gj\u00f8re mer for denne gruppen. Det kan v\u00e6re f\u00f8lelsesmessig krevende \u00e5 finne seg til rette i en storby som nyinnflyttet student, sier Raja.</p>\n",
        "<p class=\"txt\">stisten@universitas.no</p>"
       ],
       "metadata": {},
       "output_type": "display_data",
       "text": [
        "<IPython.core.display.HTML at 0x7fa66aea4198>"
       ]
      },
      {
       "html": [
        "<p class=\"txt\">For deg som tenker at \u00abUltimate Circle\u00bb kommer til \u00e5 bli akkurat s\u00e5nn som sirkeltreningen i gymtimen p\u00e5 ungdomsskolen: du kommer til \u00e5 f\u00e5 deg en real overraskelse.</p>\n",
        "<p class=\"txt\">Allerede etter oppvarminga er pulsen s\u00e5 h\u00f8y at du holder p\u00e5 \u00e5 besvime. Mens du heller innp\u00e5 med vann og peser for harde livet, blir du presentert for de \u00e5tte forskjellige styrke\u00f8velsene som inng\u00e5r i sirkeltreningen. Kroppen skal settes ordentlig p\u00e5 pr\u00f8ve, b\u00e5de n\u00e5r det kommer til styrke, spenst og hurtighet. Du begynner \u00e5 angre p\u00e5 at du meldte deg p\u00e5.</p>\n",
        "<p class=\"txt\">TINGODe f\u00f8rste \u00f8velsene g\u00e5r rimelig greit. Mestringsf\u00f8lelsen er p\u00e5 topp, helt til du ankommer stasjonen hvor du skal ta push-ups og spretthopp om hverandre. Det h\u00f8res g\u00f8y ut, tenker du, men det er det alts\u00e5 ikke. Det svir i alle ledd, og du m\u00e5 jobbe hardt med psyken for \u00e5 klare \u00e5 gjennomf\u00f8re. Idet du setter i gang \u00f8velsen med diagonale l\u00f8ft, forteller instrukt\u00f8ren at du er halvveis. Du puster lettet ut. <i>Snart ferdig</i>.  De resterende \u00f8velsene er dessverre ikke noe lettere. Flere spensthopp venter, samt sit-ups og push-ups. Siste post er spurt. Beina f\u00f8les tunge som bly, du gisper etter luft og det prikker i \u00f8ynene.</p>\n",
        "<p class=\"txt\">Runde en er over. <i>Vent litt, runde \u00e9n?!</i> Det stemmer. \u00d8velsene skal gjentas to ganger til.</p>\n",
        "<p class=\"txt\">TINGODenne timen er like krevende for psyken som den er for kroppen. Du er livredd for ikke \u00e5 fullf\u00f8re, men i det du setter i gang med siste runde, har overlevelsesinstinktet kicket inn for fullt. Du tenker ikke lenger over hva det er du faktisk driver med \u2013 du bare gj\u00f8r noe, og h\u00e5per at det snart skal ta slutt. Mannen p\u00e5 gruppa di forteller deg andpusten at de f\u00f8rste gangene alltid er verst, men at det blir bedre etter hvert. Du fnyser og tenker at du aldri skal tilbake.</p>\n",
        "<p class=\"txt\">TINGODe neste dagene kommer du til \u00e5 ha problemer med \u00e5 reise deg, sette deg og \u00e5 g\u00e5. Du kommer til \u00e5 f\u00f8le deg banket. Men det eneste du klarer \u00e5 tenke p\u00e5 er at du skal gj\u00f8re dette igjen, og igjen og igjen \u2013 helt til det g\u00e5r fra helvete til velbehag. Du skylder kroppen din s\u00e5pass.</p>"
       ],
       "metadata": {},
       "output_type": "display_data",
       "text": [
        "<IPython.core.display.HTML at 0x7fa66aea4198>"
       ]
      },
      {
       "html": [
        "<p class=\"txt\">\u2013 Sosiale medier konserverer gamle vennskap lenger enn det som ellers ville v\u00e6rt naturlig.</p>\n",
        "<p class=\"txt\">Det forteller professor ved Institutt for sosiologi og statsvitenskap p\u00e5 Norges teknisk-naturvitenskapelige universitet (NTNU) i Trondheim, Aksel Tjora. I h\u00f8st gjennomf\u00f8rte han en studie hvor 14 kvinner og menn i alderen 21\u201329 \u00e5r skulle klare seg i tre uker uten Internett.</p>\n",
        "<p class=\"txt\">\u2013 Sosiale medier gjorde at de opprettholdt kontakt med for eksempel gamle klassekamerater som de ikke lenger bodde i n\u00e6rheten av. Det var folk de ikke hadde fysisk kontakt med og som det ikke var naturlig \u00e5 ringe til, forteller Tjora.</p>\n",
        "<p class=\"txt\">Uten Facebook og andre sosiale medier, ble de \u00abtvunget\u00bb ut i fellesarealene i kollektivet sitt, og flere av deltakerne begynte \u00e5 g\u00e5 turer eller dra p\u00e5 kaf\u00e9, i stedet for \u00e5 dra hjem p\u00e5 ettermiddagene. Professoren mener det er grunn til \u00e5 si at sosiale medier gj\u00f8r oss mindre sosiale i den fysiske verden.</p>\n",
        "<p class=\"txt\">\u2013 De sosiale mediene gj\u00f8r at man ofte ikke g\u00e5r ut og treffer og forholder seg fysisk til folk, sier han.</p>\n",
        "<p class=\"txt\">Og det at man kan opprettholde kontakten med folk man egentlig ikke har s\u00e5 mye med \u00e5 gj\u00f8re lenger, at vennskap konserveres, kan g\u00e5 utover nye bekjentskaper. Dette kan v\u00e6re spesielt viktig \u00e5 tenke p\u00e5 for nye studenter som kanskje har flyttet til en helt ny by, mener Tjora.</p>\n",
        "<p class=\"mt\">Glemte Facebook etter f\u00e5 dager</p>\n",
        "<p class=\"txt\">Selv om de aller fleste av deltakerne til vanlig var aktive p\u00e5 sosiale medier, mener Tjora det er \u00e5 strekke det for langt \u00e5 snakke om avhengighet.</p>\n",
        "<p class=\"txt\">\u2013 Det viste seg at de i l\u00f8pet av tre til fem dager n\u00e6rmest glemte Facebook og den type ting, forteller han.</p>\n",
        "<p class=\"txt\">Han sier at vi kanskje oppfatter oss selv og andre som avhengige i hverdagen, men at savnet g\u00e5r ganske raskt over n\u00e5r vi f\u00f8rst er avlogget i en lengre periode.</p>\n",
        "<p class=\"txt\">Deltakerne ble intervjuet jevnlig gjennom studien, ogs\u00e5 etter at de kunne logge seg p\u00e5 nett igjen.</p>\n",
        "<p class=\"txt\">\u2013 Det f\u00f8rste de sjekket var e-post og Facebook, som regel i den rekkef\u00f8lgen. P\u00e5 Facebook s\u00e5 de at det stort sett ikke var noe viktig de hadde g\u00e5tt glipp av, forteller Tjora.</p>\n",
        "<p class=\"txt\">Testpersonene hadde p\u00e5 forh\u00e5nd varslet venner og familie, og stolte p\u00e5 at de ville si fra om det dukket opp noe viktig. Men \u00e9n ting savnet de: bursdagsp\u00e5minnelsene p\u00e5 Facebook.</p>\n",
        "<p class=\"mt\">Bedre konsentrasjon</p>\n",
        "<p class=\"txt\">Det vanskeligste for deltakerne var at de ikke kunne gj\u00f8re alle de sm\u00e5 tingene de til vanlig gjorde p\u00e5 smarttelefonene sine: \u00e5 sjekke busstider, Wikipedia eller \u00e5 melde seg p\u00e5 treningstimer.</p>\n",
        "<p class=\"txt\">\u2013 \u00c9n snakket om at han fikk litt fysisk vondt. Han refererte til refleksbevegelsen ved \u00e5 skulle plukke opp mobilen for \u00e5 sjekke noe. \u00c5 m\u00e5tte stoppe armen fordi han gjorde det automatisk \u2013 det var den typer sm\u00e5ting i hverdagen som var verst, forteller Tjora.</p>\n",
        "<p class=\"txt\">Men det \u00e5 ikke kunne gj\u00f8re sm\u00e5ting p\u00e5 telefonen i tide og utide, har ogs\u00e5 sine positive sider.</p>\n",
        "<p class=\"txt\">\u2013 De ble veldig mye flinkere til \u00e5 konsentrere seg. Det at de ikke satt med nettbrettet eller telefonen rett ved siden av pensumb\u00f8kene, gjorde at de holdt konsentrasjonen lenger, sier professoren.</p>\n",
        "<p class=\"txt\">Den \u00f8kte effektiviteten gjorde ogs\u00e5 at de frigjorde mer tid til andre ting. Noen trente mer, noen begynte \u00e5 g\u00e5 turer og ei leste fire romaner i l\u00f8pet av perioden.</p>\n",
        "<p class=\"txt\">\u2013 Hun hadde ikke lest en eneste roman siden hun gikk p\u00e5 videreg\u00e5ende, forteller Tjora.</p>\n",
        "<p class=\"tit\">Ingen vet hvor Facebook hopper</p>\n",
        "<p class=\"txt\">Facebook, Twitter, Instagram. I dag har vi et mylder av sosiale medier \u00e5 forholde oss til, men ingen kan med sikkerhet si hvordan situasjonen er om ti \u00e5r.</p>\n",
        "<p class=\"txt\">\u2013 Det er ikke gitt at de mediene vi har i dag vil v\u00e6re der om ti \u00e5r, men det er ganske gitt at det vil v\u00e6re nettkommunikasjon og at den vil utvikles videre, forteller Eli Skogerb\u00f8, professor ved Institutt for medier og kommunikasjon p\u00e5 Universitetet i Oslo (UiO).</p>\n",
        "<p class=\"txt\">Hun forsker blant annet p\u00e5 sosiale medier, medieutvikling og innovasjon.</p>\n",
        "<p class=\"txt\">Hvis vi ser ti \u00e5r tilbake i tid, s\u00e5 netthverdagen ganske annerledes ut enn den gjorde i dag.</p>\n",
        "<p class=\"txt\">\u2013 For ti \u00e5r siden hadde Facebok akkurat blitt lansert (se faktaboks), men det var ikke noe mange kjente til. Men det var jo andre sosiale medier, som for eksempel Nettby og MySpace. Selve ideen om sosiale nettverkssteder hadde kommet, forteller Skogerb\u00f8.</p>\n",
        "<p class=\"txt\">I dag har mellom 70 og 80 prosent av Norges befolkning en Facebook-konto, og gjennomsnittsalderen p\u00e5 brukerne har rukket \u00e5 bli ganske h\u00f8y.</p>\n",
        "<p class=\"txt\">Facebook ble lansert i 2004 og har over 1 milliard m\u00e5nedlige brukere.</p>\n",
        "<p class=\"txt\">Twitter ble lansert i 2006 og har over 255 millioner m\u00e5nedlige brukere.</p>\n",
        "<p class=\"txt\">Instagram ble lansert i 2010 og har over 200 millioner m\u00e5nedlige brukere.</p>\n",
        "<p class=\"txt\">Sosiale medier kan defineres gjennom at de er nettbaserte, organisert som nettverk og mer eller mindre \u00e5pne og tilgjengelige for folk flest</p>"
       ],
       "metadata": {},
       "output_type": "display_data",
       "text": [
        "<IPython.core.display.HTML at 0x7fa66aea4198>"
       ]
      },
      {
       "html": [
        "<p class=\"txt\">Naturhistorisk museum tapte kampen om plasseringen av Universitetet to ganger. N\u00e5 h\u00e5per museet som feirer 200 \u00e5r \u00e5 kunne l\u00f8fte T\u00f8yen-omr\u00e5det en gang for alle.</p>\n",
        "<p class=\"txt\">Jubileum</p>\n",
        "<p class=\"txt\">V\u00e5rsolen titter frem mellom skyene p\u00e5 Botanisk hage, en del av Naturhistorisk museum (NHM). Her p\u00e5 T\u00f8yen finner vi den eneste forskningsinstitusjonen i hovedstaden som er eid av Universitetet i Oslo (UiO) og ligger p\u00e5 \u00f8stsiden av Akerselva.</p>\n",
        "<p class=\"txt\">D\u00e9t kunne v\u00e6rt annerledes. De 27 000 studentene som i dag studerer ved UiO, kunne spist lunsj og hatt kollokvier blant de 8500 planteartene i Botanisk hage, hvis T\u00f8yen hadde vunnet kampen om Universitetet. Men slik gikk det ikke.</p>\n",
        "<p class=\"mt\">Arbeiderstr\u00f8k</p>\n",
        "<p class=\"txt\">\u2013 Oslo ville v\u00e6rt en helt annen by med et universitet p\u00e5 T\u00f8yen, fordi du ikke ville f\u00e5tt disse skillene mellom \u00f8st og vest. Dette viser ogs\u00e5 hvor sterkt delt Oslo er som by, sier museumsdirekt\u00f8r Arne Bj\u00f8rlykke.</p>\n",
        "<p class=\"txt\">Bj\u00f8rlykke kan fortelle at unionsoppl\u00f8sningen med danskene var en av \u00e5rsakene til at Universitetet ikke ble lagt til T\u00f8yen.</p>\n",
        "<p class=\"txt\">\u2013 Etter Napoleonskrigene ble Norge flyttet over i en union med Sverige. Svenskekongen og universitetsprofessorene ville ikke ha universitetet p\u00e5 T\u00f8yen, men sentralt i Oslo. Ett av argumentene for ikke \u00e5 bygge p\u00e5 T\u00f8yen, var at veien var s\u00e5 s\u00f8lete og studentene ikke hadde r\u00e5d til \u00e5 kj\u00f8re hestevogn, sier Bj\u00f8rlykke.</p>\n",
        "<p class=\"txt\">T\u00f8yen fikk derfor ikke et fullverdig universitet i 1814, og tapte ogs\u00e5 kampen om den videre utbyggingen mot Blindern i 1921. Da debatten om utbyggingen av UiO raste p\u00e5 1920-tallet, var et av argumentene for \u00e5 bygge ut p\u00e5 Blindern, f\u00f8lgende:</p>\n",
        "<p class=\"txt\">\u00abBlindern hadde ein h\u00f8gre og ljosare himmel enn T\u00f8yen\u00bb. Dette var dav\u00e6rende statsr\u00e5d J\u00f8rgen L\u00f8vlands ord. I tillegg argumenterte L\u00f8vland for at studentene m\u00e5tte slippe \u00e5 leve under de nedbrytende forhold blant fabrikker og gr\u00e5beinsg\u00e5rder (arbeiderklassens boliger, red.anm.).</p>\n",
        "<p class=\"mt\">Viktig for T\u00f8yen</p>\n",
        "<p class=\"txt\">Naturhistorisk museum og Botanisk hage har 700 000 bes\u00f8kende i \u00e5ret, og er derfor et viktig trekkplaster for bydelen. Tidligere kunnskapsminister og n\u00e5v\u00e6rende styreleder for NHM, Kristin Halvorsen, mener det n\u00e5 er viktig at universitetet vedtar bevilgninger for \u00e5 modernisere omr\u00e5det.</p>\n",
        "<p class=\"txt\">\u2013 Signalet fra universitetet til Stortinget og kommunen har stor betydning. Universitetet b\u00f8r vise at de er en moderne samarbeidspartner for T\u00f8yenl\u00f8ftet (se fakta), men det er ogs\u00e5 behov for \u00e5 ha nye utstillinger pluss videre restaurering av bygninger, sier Halvorsen.</p>\n",
        "<p class=\"txt\">Byr\u00e5det i Oslo vedtok etter mye strid \u00e5 flytte Munch-museet fra T\u00f8yen til Bj\u00f8rvika. Som en del av avtalen om et nytt Munch-museum i sentrum, ble det laget en plan for \u00e5 styrke bydelen T\u00f8yen. I denne planen inng\u00e5r NHM, men Halvorsen mener at museet p\u00e5 T\u00f8yen ogs\u00e5 er et viktig utstillingsvindu for UiO.</p>\n",
        "<p class=\"txt\">\u2013 Det som foreg\u00e5r p\u00e5 Naturhistorisk museum har stor betydning for oppfatningen av Universitetet. Her kan UiO presentere seg som en vital og offensiv utvikler og formidler av kunnskap. Der har NHM noe helt unikt, fordi vi har muligheten til \u00e5 v\u00e6re den tunge kunnskapsformidleren og linken mellom barn og unges naturfaginteresser, sier Halvorsen.</p>\n",
        "<p class=\"mt\">Kan f\u00e5 \u00f8kt betydning</p>\n",
        "<p class=\"txt\">En av de sterkeste kritikerne av Munch-flyttingen er Carl I. Hagen, tidligere FrP-nestor og n\u00e5 representant i Oslo bystyre.</p>\n",
        "<p class=\"txt\">\u2013 Jeg h\u00e5per at hele T\u00f8yenl\u00f8ftet vil styrke NHM, men jeg tror ikke museet har s\u00e5 stor betydning for omr\u00e5det i dag. Samtidig kan det f\u00e5 \u00f8kt betydning n\u00e5r de f\u00e5r gjort en del ting p\u00e5 T\u00f8yen, sier Hagen.</p>\n",
        "<p class=\"txt\"><I>\u2013 Har universitet et s\u00e6rlig ansvar for dette omr\u00e5de?</I></p>\n",
        "<p class=\"txt\">\u2013 Jeg h\u00e5per at Universitet i Oslo, rektor og universitetsstyre kjenner sin bes\u00f8kelsestid i dette samarbeidet med Oslo kommune. Hvis det er ting som kan gj\u00f8res samtidig, kan man f\u00e5 det bedre og billigere, sier Hagen.</p>\n",
        "<p class=\"mt\">Trenger penger</p>\n",
        "<p class=\"txt\">NHM og museumsdirekt\u00f8r Arne Bj\u00f8rlykke tror ogs\u00e5 museet og hagen kan v\u00e6re viktig for \u00e5 \u00f8ke bevisstheten rundt klimaforandringene.</p>\n",
        "<p class=\"txt\">\u2013 Et godt forhold til naturen er viktig for b\u00e5de denne og neste generasjon, fordi det kan f\u00f8re til at man ikke vil tolerere de klimaendringer som n\u00e5 er i ferd med \u00e5 forandre naturen. Barn som f\u00e5r oppleve naturen og utvikler nysgjerrigheten tidlig, vil ogs\u00e5 ha et annet forhold til naturen som voksen, sier Bj\u00f8rlykke.</p>\n",
        "<p class=\"txt\">Men skal NHM fortsatt klare \u00e5 v\u00e6re et attraktivt sted for Oslos beboere, er de avhengige av \u00e5 f\u00e5 nok \u00f8konomisk st\u00f8tte.</p>\n",
        "<p class=\"txt\">\u2013 Museet ligger geografisk i utkanten av UiO og er ikke en utdanningsinstitusjon. Siden mye av finansieringen av universitetene g\u00e5r gjennom studentene, er det ikke lett for oss \u00e5 f\u00e5 de bevilgningene som trengs for \u00e5 holde bygningene ved like. Det er et enormt etterslep n\u00e5r det gjelder rehabilitering av museumsbygninger p\u00e5 UiO, sier Bj\u00f8rlykke.</p>"
       ],
       "metadata": {},
       "output_type": "display_data",
       "text": [
        "<IPython.core.display.HTML at 0x7fa66aea4198>"
       ]
      },
      {
       "html": [
        "<p class=\"txt\">KAN VI HA DETTE BILDET (http://www.google.no/imgres?imgurl=http%3A%2F%2Ffootballisliife.files.wordpress.com%2F2013%2F10%2Fo-house-of-cards-facebook.jpg&imgrefurl=http%3A%2F%2Ffootballisliife.wordpress.com%2F2013%2F10%2F13%2Fhouse-of-cards-episode-5-review%2F&h=1023&w=1536&tbnid=NKkTMNXc0pMh1M%3A&zoom=1&docid=ByC\u2013bKA4d3rhM&hl=en&ei=l2x_U_vOH8mFyQPxhYCgBA&tbm=isch&ved=0CFcQMygFMAU&iact=rc&uact=3&dur=486&page=1&start=0&ndsp=14) MED HANS SOM ZOE, ANDEN\u00c6S SOM FRANK OG HEGLUM SOM CLAIR?</p>\n",
        "<p class=\"bt\">Prikk likt: Venstrealliansens leder Mari Heglum utelukker ikke at studentpolitikere ved UiO ligger med Universitas-journalister for \u00e5 servere dem snusk om andre studentpolitikere.</p>\n",
        "<p class=\"txt\">\u2013 Det er et vanskelig sp\u00f8rsm\u00e5l. All politikk har en grad av maktkamp. Vi er jo venner med hverandre selv om vi konkurrerer om posisjoner.</p>\n",
        "<p class=\"spm\"><b>\u2013 Du syns det var skikkelig \u00abHouse of Cardsk\u00bb at Sosialdemokratenes (SD) Knut Frydenlund uannonsert stilte til valg til Arbeidsutvalget (AU). Slik at Venstrealliansen ikke fikk noen i AU. Hvor slemt var det at han bare stilte til valg, s\u00e5nn uten videre?</b></p>\n",
        "<p class=\"txt\">\u2013 Han har sin fulle rett til \u00e5 stille. Men SD-leder Marianne Anden\u00e6s burde sagt ifra om at han ville gj\u00f8re det.</p>\n",
        "<p class=\"spm\"><b>\u2013 Hvem er Frank Underwood i Studentparlamentet i Oslo?</b></p>\n",
        "<p class=\"txt\">\u2013 Det m\u00e5 bli Marianne det.</p>\n",
        "<p class=\"spm\"><b>\u2013 P\u00e5 referatet til det siste m\u00f8tet i AU kan man lese f\u00f8lgende om tildeling av midler til studentorganer: \u00abAstrofysisk utvalg \u2013 \u00abMingling med masterne\u00bb. 1600, litt mye pizza. 8 pizza. Kan bruke v\u00e5r rammeavtale hos pizza og kinaexpressen\u00bb. Det er formentlig s\u00e5 jeg h\u00f8rer Frank Underwood konspirere i Representantenes hus. </b></p>\n",
        "<p class=\"txt\">\u2013Ehh. Den saken der er ikke representativ for hva AU driver med.</p>\n",
        "<p class=\"spm\"><b>\u2013 Finnes det SP-politikere som ligger med Universitas-journalister og serverer scoop med drittpakker om andre studentpolitikere?</b></p>\n",
        "<p class=\"txt\">\u2013 Jeg h\u00e5per ikke det. De fleste personkonflikter l\u00f8ses internt.</p>\n",
        "<p class=\"spm\"><b>\u2013 Av og til liker jeg \u00e5 tenke at jeg skriver avsl\u00f8rende gravesaker for New York Times, mens jeg i virkeligheten skriver Vi Sp\u00f8r-intervju. Det virker som du ogs\u00e5 dr\u00f8mmer deg vekk. Vil du vurdere din stilling?</b></p>\n",
        "<p class=\"txt\">\u2013Nei. Venstrealliansen trenger sin Claire Underwood.</p>\n",
        "<p class=\"txt\">hansjskj@universitas.no</p>"
       ],
       "metadata": {},
       "output_type": "display_data",
       "text": [
        "<IPython.core.display.HTML at 0x7fa66aea4198>"
       ]
      },
      {
       "html": [
        "<p class=\"txt\">TINGOPsykologlunsj er en norsk podkast ledet av psykologene Tommy Manglerud, Jonas Vaag og Jan-Ole Hesselberg. Annenhver uke tilbyr de en halvtimes uh\u00f8ytidelig lunsjprat om det som opptar dem i psykologiens verden. Til tross for at konseptet er noks\u00e5 nytt, har podkasten rukket \u00e5 dekke en lang rekke temaer; fris\u00f8rskrekk, placebo-effekt, og IQ, i tillegg til \u00e5 teste sine egne smerteterskler ved hjelp av chili.</p>\n",
        "<p class=\"txt\">TINGOSp\u00f8rsm\u00e5lene man f\u00e5r svar p\u00e5 i Psykologlunsj er ofte av den typen man g\u00e5r rundt og lurer p\u00e5 men ikke t\u00f8r stille i frykt for \u00e5 virke dum. Det er virkelighetsn\u00e6re temaer som ang\u00e5r de aller fleste av oss, og det er lett \u00e5 relatere til de ulike problemstillingene som skildres. M\u00e5let med prosjektet, som omfatter b\u00e5de blogg, podkast og apps, er \u00e5 gj\u00f8re psykologifaget alment tilgjengelig \u2013 helt gratis.</p>\n",
        "<p class=\"txt\">TINGOProgramlederne kan alle skilte med psykologutdanning, og har erfaring fra helsevesenet og som skribenter. Hesselberg var ogs\u00e5 en del av den mye omtalte NRK-produksjonen Folkeopplysningen. Siden 2009 har de blogget p\u00e5 kj\u00e6rt, popul\u00e6rvitenskapelig vis om fagfeltet sitt, og podkasten har det siste \u00e5ret v\u00e6rt tilgjengelig i iTunes og p\u00e5 nettsiden.</p>"
       ],
       "metadata": {},
       "output_type": "display_data",
       "text": [
        "<IPython.core.display.HTML at 0x7fa66aea4198>"
       ]
      },
      {
       "html": [
        "<p class=\"txt\">VG skriver i dag (HENVISNING TIL (http://www.vg.no/nyheter/innenriks/udi/narkodoemt-ble-aktivist-faar-bli-i-norge/a/10123484/ HER) om en innvandrer som, etter \u00e5 ha sonet fire \u00e5r i Norge for narkotikakriminalitet, skulle kastes ut av landet, men som ble menneskerettighetsaktivist og fikk bli i stedet.</p>\n",
        "<p class=\"txt\">I en egen sak skriver VG videre (HENVISNING TIL http://www.vg.no/nyheter/innenriks/udi/professor-roser-innsatsen-til-narkodoemt/a/10123487/) at mannen skal ha f\u00e5tt st\u00f8tte fra en anerkjent professor. Professoren var med \u00e5 stifte menneskerettighetsorganisasjonen med mannen, og vitnet til fordel for den straffed\u00f8mte da han saks\u00f8kte staten.</p>\n",
        "<p class=\"mt\">Mot hensikten</p>\n",
        "<p class=\"txt\">\u2013 For det f\u00f8rste er vi helt imot at noen bruker aktiviteter for \u00e5 f\u00e5 opphold i Norge. Det er mot hensikten v\u00e5r, sier den Oslo-baserte professoren til Universitas</p>\n",
        "<p class=\"txt\">Han forteller videre at de p\u00e5 flere m\u00f8ter har diskutert at det skal v\u00e6re en betingelse at medlemmene av slike menneskerettighetsorganisasjoner b\u00f8r ha oppholdstillatelse f\u00f8r de blir medlemmer, s\u00e5 de ikke blir med for \u00e5 misbruke systemet.</p>\n",
        "<p class=\"txt\">\u2013 Men vi har ingen mulighet til \u00e5 sjekke bakgrunnen til folk. Vi baserer oss p\u00e5 det personene gj\u00f8r over tid, sier professoren.</p>\n",
        "<p class=\"mt\">Ukjent fortid</p>\n",
        "<p class=\"txt\">Den narkotikad\u00f8mte og professoren skal ha vokst opp i samme land, og de skal if\u00f8lge den d\u00f8mte mannen ha kjent hverandre sv\u00e6rt lenge. Professoren sier til VG at han m\u00f8tte den straffed\u00f8mte f\u00f8rste gang for fire \u00e5r siden, og ikke kjente mannens narkotika-fortid.</p>\n",
        "<p class=\"txt\"><i>Ville dere i styret til denne menneskerettighetsorganisasjonen ha stemt inn mannen som leder hvis dere visste om mannens fortid med narkotikadom og lange kamp for oppholdstillatelse?</i></p>\n",
        "<p class=\"txt\">\u2013 Om vi hadde f\u00e5tt den informasjonen, og skulle ha valgt leder, ville nok ikke vedkommende ha blitt valgt av gruppa, nei, sier professoren.</p>\n",
        "<p class=\"txt\">VG skriver at professoren vitnet for den narkod\u00f8mte da mannen saks\u00f8kte staten. Selv sier professoren at han kun svarte p\u00e5 et sp\u00f8rsm\u00e5l.</p>\n",
        "<p class=\"txt\">\u2013 Jeg svarte kun p\u00e5 sp\u00f8rsm\u00e5l om vedkommende ville v\u00e6rt i fare ved tvangsretur til hjemlandet sitt.</p>\n",
        "<p class=\"txt\">Menneskerettighetsorganisasjonen er en liten, lokal organisasjon i Oslo, og har n\u00e5 skiftet navn.</p>\n",
        "<p class=\"txt\">arews@universitas.no</p>"
       ],
       "metadata": {},
       "output_type": "display_data",
       "text": [
        "<IPython.core.display.HTML at 0x7fa66aea4198>"
       ]
      },
      {
       "html": [
        "<p class=\"txt\">Milj\u00f8</p>\n",
        "<p class=\"txt\">Plantebasert mat er i vinden, og den siste til \u00e5 kaste seg p\u00e5 trenden er Studentsamskipnaden i Oslo (SiO). Hver mandag fremmer de sitt tilbud p\u00e5 tretten serveringssteder gjennom Meatless Monday. Men foruten for egen helse, hvilken betydning har egentlig maten vi spiser?</p>\n",
        "<p class=\"txt\">Nylig slo FNs klimapanels siste delrapport fast at skal vi n\u00e5 klimam\u00e5lene er det helt n\u00f8dvendig med en kostholdsendring mot mer plantebasert mat. Dette er i tr\u00e5d med r\u00e5d fra Milj\u00f8direktoratets siste rapport om reduksjon av klimagassutslipp i Norge i et ti\u00e5rs perspektiv. Husdyrproduksjonen er ansvarlig for n\u00e6rmere en femtedel av de globale klimagassutslippene. Om alle nordmenn kuttet kj\u00f8ttet en dag i uken, vil det tilsvare \u00e5 fjerne 380 000 biler fra veiene, if\u00f8lge Framtiden i v\u00e5re hender.</p>\n",
        "<p class=\"txt\">Klimaendringer og befolkningsvekst er forventet \u00e5 legge stadig st\u00f8rre press p\u00e5 v\u00e5re ressurser. Allerede spiser husdyrproduksjon opp en tredjedel av global kornproduksjon og 90 prosent av soyaproduksjon. Innen 2025 er to tredeler av verdens befolkning forventet \u00e5 leve i omr\u00e5der med h\u00f8yt press p\u00e5 vannressurser. Forskning viser at vi m\u00e5 g\u00e5 over til en vegetarisk diett innen 40 \u00e5r for \u00e5 unng\u00e5 katastrofal vannmangel. Ved \u00e5 kutte 500 gram storfekj\u00f8tt fra kostholdet sparer man like mye vann som ved ikke \u00e5 dusje p\u00e5 6 m\u00e5neder.</p>\n",
        "<p class=\"txt\">Regjeringens nye forslag til jordbruksoppgj\u00f8ret aktualiserer hvilken matproduksjon vi vil ha i Norge. \u00d8nsker vi enda mer industrilandbruk som driver rovdrift p\u00e5 natur og dyr? Eller vil vi bruke ressursene v\u00e5re p\u00e5 en effektiv og klimavennlig m\u00e5te, noe som ogs\u00e5 fremmer god helse og sparer dyr fra un\u00f8dvendig lidelse? Vi som forbrukere har den avgj\u00f8rende makten, og velger gjennom v\u00e5re matvalg hver eneste dag hvilken matproduksjon vi \u00f8nsker \u00e5 st\u00f8tte og hvordan vi vil at landbruket skal se ut. Bruk forbrukermakten din og velg vegetarisk.</p>"
       ],
       "metadata": {},
       "output_type": "display_data",
       "text": [
        "<IPython.core.display.HTML at 0x7fa66aea4198>"
       ]
      },
      {
       "html": [
        "<p class=\"txt\">Det viser en epost sendt til medlemmene i studentersamfundet, som Universitas har f\u00e5tt tilgang p\u00e5.</p>\n",
        "<p class=\"txt\">Akkurat n\u00e5 diskuteres den kriserammede \u00f8konomien p\u00e5 Det norske studentersamfunds (DNS) generalforsamling.</p>\n",
        "<p class=\"txt\">\u00abJeg m\u00e5 orientere om den alvorlige tilstanden Chateau Neuf AS er i, og mulige konsekvenser dette vil ha for deg og din studentforenings framtid p\u00e5 Chateau Neuf. Selskapet har bedt om tilf\u00f8rsel av kapital for andre gang i \u00e5r. Per i dag er det en reell mulighet for at CN AS g\u00e5r konkurs, noe vi og de andre eierne skal vurdere p\u00e5 ekstraordin\u00e6r generalforsamling onsdag,\u00bb skriver formann Martin Tveten i e-posten som ble sendt ut til medlemmene i g\u00e5r.</p>\n",
        "<p class=\"txt\">I e-posten oppfordrer Tveten sine medlemmer til \u00e5 jobbe for \u00e5 f\u00e5 flere studenter innom Chateau Neuf.</p>\n",
        "<p class=\"txt\">\u00abIngen endelige beslutninger for veien videre kommer til \u00e5 bli fattet i morgen, men vil bli det i l\u00f8pet av de kommende ukene. Det har stor betydning hva vi selv legger av arbeid i \u00e5 f\u00e5 opp bes\u00f8kstallene framover,\u00bb skriver han.</p>\n",
        "<p class=\"txt\">bildelink: http://static.universitas.no/bilder/2013/26_KUL_Chateauneuf.jpg</p>"
       ],
       "metadata": {},
       "output_type": "display_data",
       "text": [
        "<IPython.core.display.HTML at 0x7fa66aea4198>"
       ]
      },
      {
       "html": [
        "<p class=\"txt\">En fullastet og skranglete hvit buss frakter unge arbeidere fra sentrum i Arusha et stykke ut til et langstrakt gr\u00f8nt landskap. \u00c5 ta h\u00f8yere utdanning i Tanzania er en luksus kun fire prosent av befolkningen f\u00e5r benyttet seg av. Blant dem som ikke har muligheten sitter mange p\u00e5 busser som denne. Langs den st\u00f8vete veien ligger rekker med hjemmesnekra kiosker, som selger alt fra br\u00f8d og Hollywoodfilmer til de lokalt produserte \u00abLong-Lasting Insecticidal Nets\u00bb i bl\u00e5tt og gr\u00f8nt som du lett kan henge over sengen.</p>\n",
        "<p class=\"txt\">Her, ved foten av Kilimanjaro, ligger en av \u00d8st-Afrikas st\u00f8rste fabrikker og myggnettingleverand\u00f8rer. Offisielt er arbeiderne p\u00e5 fabrikken \u00abA to Z\u00bb mellom 18 og 35 \u00e5r, men etter utseende \u00e5 d\u00f8mme er litt for mange litt for unge. Over 80 prosent av alle arbeiderne p\u00e5 fabrikken er kvinner, og brorparten av disse er alenem\u00f8dre. Over h\u00f8yttaleranlegget spilles det lokal musikk, som en motvekt til maskinerienes during. Plastikkjerner smeltes sammen til lange tr\u00e5der som igjen veves til nettingstoff. Disse sys til ulike fasonger i gr\u00f8nt, bl\u00e5tt eller hvitt. P\u00e5 landsbygda er gjerne gr\u00f8nne og bl\u00e5 myggnettinger mer utbredt, da blir st\u00f8v og m\u00f8kk mindre synlig. N\u00e5r det bl\u00e5ser feier st\u00f8vet rundt i skur og leirhytter og legger seg over kl\u00e6r, mat og nett.</p>\n",
        "<p class=\"txt\">Hver dag forlater n\u00e6r 130 fullastede lastebiler fabrikkens lagerbygninger p\u00e5 vei til fjerne byer og fremmede land. Lyset er mykt og sola p\u00e5 vei mot kveld n\u00e5r den siste lastebilen for dagen svinger ut gjennom det gr\u00f8nne slettelandskapet p\u00e5 kanten av savannen. Tunglastet med innpakkede myggnettinger som b\u00e6rer stempelet \u00abMade in Africa\u00bb.</p>\n",
        "<p class=\"bt\">Storproduksjon: Det produseres myggnettinger 24 timer i d\u00f8gnet, alle dager i \u00e5ret. For f\u00e5 \u00e5r siden var der kun et par hundre arbeidere, mens det i dag er over 8200 mennesker som har \u00abA to Z\u00bb som sin faste arbeidsplass. Mange av dem er studenter som m\u00e5 bidra til familiens \u00f8konomi.</p>\n",
        "<p class=\"bt\">Effektiv: Mygg som kommer i kontakt med denne type nett, d\u00f8r innen tre minutter av impregneringsstoffet. I Tanzania har hver gravide kvinne og nybakte mor krav p\u00e5 en gratis myggnetting.</p>\n",
        "<p class=\"bt\">Fargetr\u00f8bbel: I starten ble hvite myggnettinger ikke akseptert av deler av befolkningen p\u00e5 landsbygda i Tanzania da nettenes form og farge i for stor grad ble forbundet med d\u00f8den.</p>\n",
        "<p class=\"bt\">Net-working: \u00abA to Z\u00bb er en familieforretning som startet med \u00e9n beskjeden symaskin p\u00e5 1960-tallet. Siden den gang har myggnettingproduksjonen vokst til \u00e5 bli en betydelig industri og har p\u00e5 kort tid blitt den st\u00f8rste arbeidsgiveren i Tanzania. I 2004 ble det \u00e5rlig produsert om lag 300 000 myggnettinger. N\u00e5, 10 \u00e5r senere er tallet 100 ganger s\u00e5 h\u00f8yt.</p>\n",
        "<p class=\"bt\">Myggnetting er det enkleste og meste effektive virkemiddelet mot malaria. Hvert 30. sekund d\u00f8r et barn av malaria, og malariainfisert mygg tar livet av hvert fjerde barn i Afrika f\u00f8r fylte fem \u00e5r. Men der barn sover under myggnettinger, synker barned\u00f8deligheten med om lag 30% og forhindrer dermed gjennomsnittlig 40 000 d\u00f8dsfall i \u00e5ret.</p>"
       ],
       "metadata": {},
       "output_type": "display_data",
       "text": [
        "<IPython.core.display.HTML at 0x7fa66aea4198>"
       ]
      },
      {
       "html": [
        "<p class=\"txt\">1.\tHva heter lederen for det indiske folkepartiet Bharatiya Janata Party, som blir landets neste statsminister?</p>\n",
        "<p class=\"txt\">2.\tHva heter fotballspilleren fra Time kommune som blant annet har spilt for Bryne, West Ham, Brann, Viking og Rapid Wien?</p>\n",
        "<p class=\"txt\">3.\tI forrige uke var det en tragisk gruveulykke vest i Tyrkia. Hva heter byen der gruven ligger?</p>\n",
        "<p class=\"txt\">4.\tHvilke to land ligger p\u00e5 \u00f8ya Hispaniola?</p>\n",
        "<p class=\"txt\">5.\tHvem er eneste norske representant i \u00e5rets utgave av sykkelrittet Giro d'Italia?</p>\n",
        "<p class=\"txt\">6.\tHvilken statsleder mottok Nobels litteraturpris i 1953?</p>\n",
        "<p class=\"txt\">7.\tHvordan er slektsforholdet mellom Kong Harald V og Dronning Margrethe II av Danmark?</p>\n",
        "<p class=\"txt\">8.\tHva er navnet p\u00e5 de fire s\u00e6rnorske hesterasene?</p>\n",
        "<p class=\"txt\">9.\tHva heter Patti Smiths legendariske album fra 1975?</p>\n",
        "<p class=\"txt\">10.\tM\u00e4rtha og Ari skal flytte hjem igjen til Norge. Hva heter deres tre barn?</p>"
       ],
       "metadata": {},
       "output_type": "display_data",
       "text": [
        "<IPython.core.display.HTML at 0x7fa66aea4198>"
       ]
      },
      {
       "html": [
        "<p class=\"fak1\">P\u00e5fyll#6</p>\n",
        "<p class=\"fak2\">Hvor: Caf\u00e9 Mir</p>\n",
        "<p class=\"fak2\">Hvem: Henrik Gj\u00f8en, Martin Beyer-Olsen, Lars Berrum</p>\n",
        "<p class=\"txt\">Behagelig bakrus</p>\n",
        "<p class=\"txt\">\u00abF\u00f8kk 18. mai og f\u00f8kk sommer'n\u00bb, sier konferansier Adam Tumidajewicz til de rundt 30 folka som har benket seg rundt bordene p\u00e5 Mir. Det er s\u00f8ndag kveld og tid for det m\u00e5nedlige arrangementet <I>P\u00e5fyll</I>. Mens resten av Oslo slanger seg i parken, koser med gresset og pleier minnene fra grunnlovsjubileet dagen f\u00f8r, har noen valgt \u00e5 ta turen for \u00e5 f\u00e5 med seg et aldri s\u00e5 lite kulturelt <I>opplegg</I>.</p>\n",
        "<p class=\"txt\"><I>P\u00e5fyll</I> er delvis i regi av ildsjeler som Tumidajewicz, og delvis st\u00f8ttet av Milj\u00f8partiet De Gr\u00f8nne. Selv om det er b\u00e5de dikt og frijazz p\u00e5 menyen, er det stand-upen som f\u00e5r \u2013 og tar \u2013 mest fokus. Store navn som Martin Beyer Olsen, Lars Berrum og stjerneskuddet Henrik Gj\u00f8en er med. Sistnevnte \u00e5pner showet med et frekt repertoar best\u00e5ende av Tinder-observasjoner, badetrend og pornohistorier. Gj\u00f8en leverer vitser med en deilig og avslappet letthet, og det er s\u00e6rlig den siste historien, om en pornofilm han s\u00e5, og at han ble grepet av handlingen som fortsatte \u00e5 utspille seg etter at sexen var over, som virkelig f\u00e5r publikum til \u00e5 knekke sammen av latter. \u00abJeg satt igjen med s\u00e5 mange sp\u00f8rsm\u00e5l, og sjekker daglig om det har kommet en oppf\u00f8lger\u00bb.</p>\n",
        "<p class=\"txt\">Selv om kvelden egentlig kunne endt etter tre solide stand-up-innslag, velger <I>P\u00e5fyll</I> \u00e5 fortsette. Jean Kavanagh leser noe svulstige dikt fra sin nye utgivelse <I>Other Places</I>, men n\u00e5r frijazzduoen \u00abKlima: for liket\u00bb entrer scenen, skjer det en dreining i retning av en noe litt mer intern MDG-kveld. Hallvard Surlien og Lage N\u00f8st er nok litt for gode bekjente av publikum, og det f\u00f8les nesten som \u00e5 overv\u00e6re underholdningen p\u00e5 et privat julebord n\u00e5r de \u00abt\u00f8yse-impriovserer\u00bb fram l\u00e5ter som handler om klima, mens publikum fniser.</p>\n",
        "<p class=\"txt\">Til tross for labert 18.mai-oppm\u00f8te er <I>P\u00e5fyll</I> et helt kurant og avslappet alternativ p\u00e5 en s\u00f8ndag der du helst vil slippe \u00e5 ta stilling de store sp\u00f8rsm\u00e5lene.</p>\n",
        "<p class=\"bt\">Foto: \u00d8yvind Aukrust</p>"
       ],
       "metadata": {},
       "output_type": "display_data",
       "text": [
        "<IPython.core.display.HTML at 0x7fa66aea4198>"
       ]
      },
      {
       "html": [
        "<p class=\"txt\">I dagens Universitas refses Universitetet i Oslos rektor Ole Petter Ottersen av ansatte, studenter og fagforeningsleder Ellen Dalen i Norsk tjenestemannslag. Flere forteller at tilliten til Ottersen er svekket etter den parodiske h\u00e5ndteringen av prorektorsaken, der universitetsstyret aktivt gikk inn for \u00e5 bryte sitt eget reglement. Det er p\u00e5fallende at Ottersen velger \u00e5 m\u00f8te den flengende kritikken fra sine egne med total stillhet. P\u00e5 fredag var han imidlertid snakkesaligheten selv. Da holdt han en tale p\u00e5 NIFUs \u00e5rskonferanse der han blant annet snakket om universitetsdemokratiets viktighet. Timingen for innlegget kunne ikke v\u00e6rt d\u00e5rligere for en rektor som selv bryter regler som skal verne om demokratiet. Under talen fortalte han at lederskap ved universiteter b\u00f8r preges av respekt og samarbeid. For rektor Ottersen har ingen problemer med \u00e5 ordlegge seg i fagre vendinger. Mer problemfylt blir det n\u00e5r de fine ordene skal f\u00f8lges opp gjennom praktiske handlinger. Sjelden er denne diskrepansen blitt tydeligere enn i rektors h\u00e5ndtering av den s\u00e5kalte prorektorsaken. Det er lettere for Ottersen \u00e5 tale motstandsfritt p\u00e5 kunnskapskonferanser, enn \u00e5 svare p\u00e5 kritiske sp\u00f8rsm\u00e5l om det som er blitt en sv\u00e6rt betent sak. Men dette er svar b\u00e5de studentene og de ansatte har krav p\u00e5 \u00e5 f\u00e5. Svar som rektoren har f\u00e5tt mange sjanser p\u00e5 \u00e5 gi. F\u00f8r Ottersen skulle holde sin tale p\u00e5 NIFU-konferansen spurte Universitas' utsendte om ikke timingen for talen var en smule ironisk. \u00abIngen kommentar\u00bb, var rektorens svar.</p>\n",
        "<p class=\"tit\">Slottsbingo</p>\n",
        "<p class=\"txt\">Chateau Neuf er konkurstruet. Den tidligere legendariske musikkscenen har byttet ut The Clash, Ramones og Miles Davis med trafikklysfest og bingo (og en Lama innimellom, det skal de ha). Mon tro hvor det gikk galt.</p>"
       ],
       "metadata": {},
       "output_type": "display_data",
       "text": [
        "<IPython.core.display.HTML at 0x7fa66aea4198>"
       ]
      },
      {
       "html": [
        "<p class=\"txt\">Chateau Neuf AS har ikke penger til \u00e5 drive over sommeren. Studentersamfundet vil g\u00e5 inn med midler, men de andre eierne sitter p\u00e5 gjerdet.</p>\n",
        "<p class=\"txt\">Chateau Neuf</p>\n",
        "<p class=\"txt\">Forrige uke informerte Det Norske Studentersamfunds (DNS) formann Martin Tveten sine medlemmer om at Chateau Neuf AS (CNAS) st\u00e5r i reell fare for konkurs.</p>\n",
        "<p class=\"txt\">P\u00e5 l\u00f8rdagens generalforsamling pr\u00f8vde DNS \u00e5 finne en l\u00f8sning p\u00e5 situasjonen. B\u00e5de flytting fra huset p\u00e5 Majorstua og konkurserkl\u00e6ring ble diskutert som alternativer, men styrets innstilling er at Stiftelsen Chateau Neuf og Heftyes Legat, samt Studentersamfundet selv, gir et likviditetsl\u00e5n av sine midler for \u00e5 opprettholde driften over sommeren.</p>\n",
        "<p class=\"txt\">Bortsett fra Studentsamskipnaden i Oslo (SiO) er DNS den eneste store kreditoren (se faktaboks). Universitetet i Oslo (UiO) er ogs\u00e5 medeier, men har sluttet \u00e5 gi l\u00e5n til selskapet. Det er derfor de to f\u00f8rstnevnte som vil tape noe om CNAS sl\u00e5s konkurs. Dersom dette skjer er det ikke sikkert driften av Chateau Neuf holder seg til over sommeren, forklarer Tveten.</p>\n",
        "<p class=\"txt\">\u2013 Ved \u00e5 g\u00e5 inn med l\u00e5n kan vi f\u00e5 gjennomf\u00f8rt endringene som trengs. Dessuten beholder vi muligheten til \u00e5 v\u00e6re til stede ved semesterstart, sier Tveten.</p>\n",
        "<p class=\"mt\">Skeptisk til mer hjelp</p>\n",
        "<p class=\"txt\">SiO har tidligere g\u00e5tt inn med \u00f8konomisk krisehjelp, og ser n\u00e5 alvorlig p\u00e5 at selskapet igjen trenger penger.</p>\n",
        "<p class=\"txt\">\u2013 Vi er generelt skeptisk til \u00e5 spytte inn mer penger, sier styreleder i SiO, Magnus Nystrand.</p>\n",
        "<p class=\"txt\">Han forteller at samskipnaden er opptatt av \u00e5 v\u00e6re en konstruktiv eier, men at de venter spent p\u00e5 eierm\u00f8tet p\u00e5 onsdag.</p>\n",
        "<p class=\"txt\">\u2013 Samtidig er vi glade for at DNS tar grep om selskapet, og at de skj\u00f8nner at det er en sv\u00e6rt alvorlig situasjon, sier Nystrand.</p>\n",
        "<p class=\"txt\">Universitetsdirekt\u00f8r Bj\u00f8rneboe representerer UiOs eierandel i selskapet. Hun vil ikke svare p\u00e5 om det er aktuelt for universitetet \u00e5 bidra med mer penger, men understreker at UiO avventer resultatene av eierm\u00f8tet, og at saken tas p\u00e5 alvor.</p>\n",
        "<p class=\"mt\">Satser p\u00e5 h\u00f8stsemesteret</p>\n",
        "<p class=\"txt\">Martin Tveten understreker at l\u00e5net i seg selv ikke vil endre p\u00e5 noe, men vil gi DNS handlerom til \u00e5 gjennomf\u00f8re en snuoperasjon av Studentersamfundet parallelt med at driften av det kommersielle legges om.</p>\n",
        "<p class=\"txt\">\u2013 CNAS skal v\u00e6re et verkt\u00f8y for Studentersamfundet. M\u00e5let er \u00e5 realisere studenthuset slik det var planlagt, sier Tveten.</p>\n",
        "<p class=\"txt\">For \u00e5 bedre situasjonen m\u00e5 bes\u00f8kstallene opp. Hovedstyret i DNS sier de har jobbet aktivt for \u00e5 satse bredere og engasjere student-Oslo. Begynnelsen av h\u00f8stsemesteret blir kritisk i DNS' snuoperasjon.</p>\n",
        "<p class=\"txt\">\u2013 Vi prioriterer \u00e5 f\u00e5 til en skikkelig studiestart. Det er den tiden av \u00e5ret det er st\u00f8rst mulighet til \u00e5 endre p\u00e5 ting, sier Tveten.</p>\n",
        "<p class=\"mt\">M\u00e5 t\u00f8rre det kommersielle</p>\n",
        "<p class=\"txt\">\u2013 Jeg merket at det var noe som manglet ved tilbudene p\u00e5 Chateau Neuf, sier Simone Brassien, leder av Arrangementsutvalget p\u00e5 DNS.</p>\n",
        "<p class=\"txt\">Hun var \u00f8konomiansvarlig i DNS' hovedstyre i 2013 og oppfattet mangelen p\u00e5 brede og hyppige arrangementer som en av hovedutfordringene til studenthuset.</p>\n",
        "<p class=\"txt\">\u2013 Siden Arrangementsutvalget ble opprettet i januar i \u00e5r har fokuset v\u00e5rt hele tiden v\u00e6rt \u00e5 arrangere ting som tiltrekker seg et bredt publikum, sier Brassien.</p>\n",
        "<p class=\"txt\">Arrangementsutvalget er bevisst sin rolle i \u00e5 trekke studentene til Chateau Neuf, og sier de skal satse hardt fremover, s\u00e6rlig mot semesterstart.</p>\n",
        "<p class=\"txt\">\u2013 Vi blir n\u00f8dt til sette inn et ekstra gir og gj\u00f8re studenthuset til et sted studentene bes\u00f8ker, og hvor de legger igjen penger, sier Brassien.</p>\n",
        "<p class=\"txt\">Hun vil kvitte seg med ryktet Chateau Neuf har p\u00e5 seg for \u00e5 v\u00e6re lukket.</p>\n",
        "<p class=\"txt\">\u2013 Mange liker debatt og vi skal fortsette med nisjene ogs\u00e5, men studenter liker \u00e5 feste og ha det g\u00f8y og det skal vi kunne tilby dem her.</p>\n",
        "<p class=\"mt\">Skal rydde opp en gang for alle</p>\n",
        "<p class=\"txt\">Universitas har dekket CNAS' pengeproblemer lenge, og det er ikke f\u00f8rste gangen driften har trengt krisel\u00e5n. Tveten er sikker p\u00e5 at Chateau Neuf kan berges for Oslostudentene denne gangen ogs\u00e5, men sier at alle i DNS er blitt klare over alvoret.</p>\n",
        "<p class=\"txt\">\u2013 Det kommer ikke til \u00e5 fortsette som f\u00f8r. V\u00e5re aktive m\u00e5 v\u00e6re innstilte p\u00e5 \u00e5 endre seg, sier Tveten.</p>\n",
        "<p class=\"txt\"><I>\u2013 Er dette siste sjanse for CNAS?</I></p>\n",
        "<p class=\"txt\">\u2013 Det er helt umulig \u00e5 si. Jeg h\u00e5per i hvert fall dette blir siste gang, sier Tveten.</p>\n",
        "<p class=\"txt\"><I>\u2013 Hva skjer p\u00e5 generalforsamling og eierm\u00f8te p\u00e5 onsdag?</I></p>\n",
        "<p class=\"txt\">\u2013 Det blir \u00e5 bestemme veien videre. Akkurat n\u00e5 ser det lyst ut. Det er en kjedelig situasjon og det er ikke en morsom jobb \u00e5 ha, men jeg tror vi unng\u00e5r konkurs og f\u00e5r snudd om p\u00e5 ting, sier Tveten.</p>"
       ],
       "metadata": {},
       "output_type": "display_data",
       "text": [
        "<IPython.core.display.HTML at 0x7fa66aea4198>"
       ]
      },
      {
       "html": [
        "<p class=\"fak1\">What a difference a day made</p>\n",
        "<p class=\"fak2\">Hva: Dans</p>\n",
        "<p class=\"fak2\">Scene: Scenehuset</p>\n",
        "<p class=\"fak2\">Regi/Koreografi: Martine Hammervold-Austinat</p>\n",
        "<p class=\"fak2\">Musikk:\u00c5se Eva Fredheim</p>\n",
        "<p class=\"fak2\">Med: Elise Aabakken, Anna Einemo Fr\u00f8ysland, Kristine Steinsdatter Jensen m.fler</p>\n",
        "<p class=\"fak2\">Tid: 23\u201325.mai</p>\n",
        "<p class=\"txt\">Scenehuset p\u00e5 Majorstua er fullsatt. Bare det \u00e5 sitte i dette lokalet og vente p\u00e5 at forestillingen skal begynne gir en helt egen spenning. Det originale tregulvet fra slutten av 1800-tallet blir beskrevet som et av Oslos beste dansegulv. Stillheten brer seg, snart skal \u00c5se Eva Fredheims musikk og Marine Hammervold-Austinats h\u00e5ndplukkede dansere ta pusten fra oss.</p>\n",
        "<p class=\"txt\">Lyset kaster skyggene av danserne mot den h\u00f8ye hvite veggen bak scenen, som kun er et tomt gulv. Det er vanskelig \u00e5 bestemme seg for hva som er vakrest. Skyggene, danserne, eller det mystiske lydbildet. Kristine Jensen utmerker seg p\u00e5 scenen: En grasi\u00f8s danser med en formidlingsevne og kroppsbeherskelse de fleste av oss bare kan dr\u00f8mme om. Likevel er det samspillet mellom alle danserne, og deres ulike kropper og ulike styrker som fascinerer mest. Hver enkelt har sitt eget spr\u00e5k. Hammervold-Austinats koreografi har latt dem selv formulere seg gjennom egne kropper, og det er dette som gj\u00f8r det sl\u00e5ende vakkert.</p>\n",
        "<p class=\"txt\"><I>What a difference </I><I>a </I><I>day made</I> bringer en kombinasjon av improvisasjon og innstudert materiale i en satt struktur. Varigheten og det varme, tette lokalet utfordrer t\u00e5lmodigheten, og n\u00e5r en time har passert hadde det p\u00e5 mange m\u00e5ter v\u00e6rt nok. I et samfunn der alt s\u00e5 ofte skal plasseres i b\u00e5ser og sm\u00e5 firkantede bokser, er det befriende \u00e5 se noe som t\u00f8r \u00e5 v\u00e6re annerledes, som t\u00f8r \u00e5 ta oss med storm uten et fors\u00f8k p\u00e5 \u00e5 v\u00e6re verken mer eller mindre enn det det er. Allikevel er dette mer enn dans i form av briljerende teknikk og tekniske ferdigheter. <I>What a difference a day made</I> formidler lidenskap og f\u00f8lelser. Men forestillingen legger ingen f\u00f8ring for hvordan det hele skal tolkes, hver publikummer f\u00e5r anledning til \u00e5 danne sitt eget inntrykk. Martine Hammervold-Austinat og danserne hennes har s\u00f8rget for at dagen s\u00e5 absolutt har gjort en forskjell.</p>"
       ],
       "metadata": {},
       "output_type": "display_data",
       "text": [
        "<IPython.core.display.HTML at 0x7fa66aea4198>"
       ]
      },
      {
       "html": [
        "<p class=\"txt\">Petter (24) Gjennomsnittlig aktiv bruker. Kuttet ut sosiale medier, men lot pushvarslene v\u00e6re p\u00e5 i selvtortur.</p>\n",
        "<p class=\"mt\">Hvordan i all verden husket folk hvem de skulle gratulere f\u00f8r de fikk seg Facebook?</p>\n",
        "<p class=\"txt\">Jeg husker da far tok med den f\u00f8rste dataen inn i hjemmet og jeg husker tiden f\u00f8r MSN og Facebook. Jeg har v\u00e6rt p\u00e5 den andre sida. \u00c9n uke uten sosiale medier blir lett.</p>\n",
        "<p class=\"txt\">Dag 1. Det gikk fem minutter fra jeg v\u00e5kna til jeg dreit meg ut. Av ren vane tok jeg opp mobilen og sjekka varslene. Pavlov hadde vel hatt et og annet han skulle ha sagt.</p>\n",
        "<p class=\"txt\">Utover dagen fortsetter pushvarslene \u00e5 tikke inn. Dette er seigpining. Jeg ser at ting skjer, men aner ikke hva. Jeg sitter i et glassbur og ser at de andre har det moro ute i solskinnet, men h\u00f8rer ikke hva de sier og kan ikke bli med. Noen har invitert meg til grillfest, men hvor og n\u00e5r? Hvis det er denne uka, h\u00e5per jeg de har vett nok til \u00e5 ringe meg. Men det har de sikkert ikke. Ingen ringer meg.</p>\n",
        "<p class=\"txt\">Det er noe dritt \u00e5 ta banen uten \u00e5 kunne bruke Twitter, Instagram eller Facebook. Jeg stirrer ut i lufta, p\u00e5 hendene mine og p\u00e5 alle de rare folka. Til helga, n\u00e5r jeg m\u00e5 pendle til og fra jobb, m\u00e5 jeg virkelig huske \u00e5 ta med meg ei bok. Jeg m\u00e5 bli en s\u00e5nn type. Jeg blir en av de jeg ser p\u00e5 banen n\u00e5, som tror de er smarte med bok. Dem har jeg ikke lagt merke til f\u00f8r. De bruker sikkert ikke sosiale medier til vanlig heller, reaksjon\u00e6re kuker.</p>\n",
        "<p class=\"txt\">Etter tre dager ringte en kompis meg for \u00e5 planlegge overnatting til bryllup vi skal i til sommeren. De har visst diskutert det p\u00e5 Facebook, sier han. Jeg sier bare \u00abja\u00bb, og h\u00e5per at de fikser noe fornuftig til meg. I tillegg har Facebook sendt meg e-post. Jeg har visstnok mange varsler som venter. De har aldri sendt meg e-post f\u00f8r. Savner de meg?</p>\n",
        "<p class=\"txt\">P\u00e5 jobb 17. mai tenker jeg p\u00e5 hvor mange champagnesk\u00e5ler og bunadssmil jeg g\u00e5r glipp av. Heldigvis. Men p\u00e5 vei hjem p\u00e5 kvelden savner jeg Instagram eller Twitter. Noe jeg kan scrolle form\u00e5lsl\u00f8st p\u00e5. Rundt meg p\u00e5 banen sitter fulle nasjonaldagsfeirere som sikkert har avtalt \u00e5 m\u00f8te andre som seg selv via Facebook. Jeg vil bare hjem og legge meg, og jeg vil glane p\u00e5 bilder av kaker og is.</p>\n",
        "<p class=\"txt\">Det gikk da ganske lett. Jeg vet enn\u00e5 ikke hvem som hadde bursdag mens jeg var avlogget, men jeg har heller ikke sett noen g\u00e5 med bursdagshatt i kollektivet. Det er et godt tegn. Jeg har l\u00e6rt at folk er rare og at Dovre ikke faller selv om Facebook gj\u00f8r det. Men jeg sjekker fremdeles telefonen som det f\u00f8rste jeg gj\u00f8r n\u00e5r jeg v\u00e5kner. Jaja, noe skal vel Pavlov ha igjen for den Nobelprisen sin.</p>\n",
        "<p class=\"txt\">\u00abJeg har visstnok mange varsler som venter. Facebook har aldri sendt meg e-post f\u00f8r. Savner de meg?\u00bb</p>\n",
        "<p class=\"sitatbyline\">Petter (24)</p>\n",
        "<p class=\"mt\">Frokosten smaker ikke like godt uten instafilter.</p>\n",
        "<p class=\"txt\">Livet er ganske bra hvis man lever i god tro om at overflaten av Facebooks tidslinje speiler det virkelige liv. For personer som er over gjennomsnittet sosiale fungerer sosiale medier som en forenklende utstrakt arm. Med Facebook, Whatsapp, Snapchat, iMessage, Instagram, LinkedIn, Twitter og Argus blir jeg en \u00e5ttearmet multitaskende blekksprut uten begrensninger. Men hva skjer n\u00e5r magien plutselig blir brutt uten forvarsel?</p>\n",
        "<p class=\"txt\">Klokken begynner \u00e5 n\u00e6rme seg midnatt n\u00e5r alle kanaler skal sperres for bruk. En overdose med chat-vinduer p\u00e5 Facebook er aktive, bare for \u00e5 v\u00e6re klar for en uke uten cybersosialt samv\u00e6r. Hodet ned p\u00e5 puta. Nasjonaldagen! Hvordan skal man planlegge nasjonaldagen uten sosiale medier?</p>\n",
        "<p class=\"txt\">F\u00f8rste dagen streifes alle nettavisene som substitutt. Plutselig f\u00e5r man mye bedre tid p\u00e5 morgenen. Jeg sitter alene med en instagramverdig frokost med s\u00e5nne trendy suger\u00f8r med striper p\u00e5, men den smaker ikke like godt uten et instagramfilter. Allerede klokken 10:00 kommer krampeaktige abstinenser. Musikk settes p\u00e5 for \u00e5 legge en demper p\u00e5 den plutselige ensomheten som oppst\u00e5r, og takk Gud for at eksamen er et samarbeidsprosjekt som tar opp mye av tiden. Da har man i hvert fall konstante planer for \u00e5 slippe \u00e5 g\u00e5 p\u00e5 veggen.</p>\n",
        "<p class=\"txt\">Andre dagen oppleves trikketurene som togturer til Gj\u00f8vik fra spor 16. Er det virkelig s\u00e5 langt fra Jernbanetorget til Blindern? Et \u00abFacebookchat-pling\u00bb fikk meg til \u00e5 r\u00f8ske opp mobilen min for \u00e5 se om det var noe liv. Et irriterert sukk \u2013 ingenting.</p>\n",
        "<p class=\"txt\">\u00abHei. Lever du eller? Du har v\u00e6rt s\u00e5 stille de siste dagene\u00bb. Plutselig ringer en nerv\u00f8s venninne. Magen min bobler av glede n\u00e5r mitt frav\u00e6r fra sosiale medier i fire dager endelig har blitt oppdaget. I jobb og skolesammenheng blir man en racer uten avbrytelsene, p\u00e5 tross av at man mister hele kontaktnettverket og disse skolerelevante gruppene.</p>\n",
        "<p class=\"txt\">Dagene g\u00e5r og det er egentlig deilig med et pusterom fra forventingene om \u00e5 v\u00e6re tilgjengelig blekksprut hele d\u00f8gnet. N\u00e5r nasjonaldagen endelig st\u00e5r for tur er det ikke s\u00e5 stress likevel. Snarere tvert imot. Selvsagt var det kjipt \u00e5 ikke kunne vise frem den nystr\u00f8kne bunadsskjorta, men man hang jo med alle de menneskene som ville ofret en \u00ablike\u00bb likevel.</p>\n",
        "<p class=\"txt\">98 varsler og 13 ubesvarte meldinger etter en uke uten Facebook. En uke der timevis av daglig interaksjon som omfavner alt av skole, jobb og sosialt samv\u00e6r forsvant uanmeldt. Totalforbud er kanskje ikke n\u00f8dvendig, men en begrensing av bruken kan herved anbefales. For hva f\u00e5r man egentlig igjen av timevis med scrolling og badeutfordringer?</p>\n",
        "<p class=\"mt\">Tror du du kan se for deg hvordan det er \u00e5 v\u00e6re avkobla? Det kan du ikke.</p>\n",
        "<p class=\"txt\">Det er med godt mot jeg g\u00e5r i gang med en uke uten mobiltelefon, datamaskin eller TV. Fire romaner ligger klare p\u00e5 nattbordet, gitaren er stemt, og et overmodent hekleprosjekt skriker etter \u00e5 bli gjort ferdig. Dessuten er jeg langt fra avhengig av b\u00e5de mobilen, dataen og TV-en. Jeg logger av, vel vitende om at jeg skal forbli avlogget i en uke \u2013 uten at noen andre vet om det. Dette skal g\u00e5 fint. Jeg er jo forberedt.</p>\n",
        "<p class=\"txt\">Det g\u00e5r deprimerende kort tid f\u00f8r hindre begynner \u00e5 oppst\u00e5: Mobilen fungerer ogs\u00e5 som vekkerklokke, og jobben kaller allerede klokken \u00e5tte. Forsover jeg meg har jeg ingen m\u00e5te \u00e5 f\u00e5 sagt fra p\u00e5. Hustelefon har jeg jo ikke.</p>\n",
        "<p class=\"txt\">P\u00e5 vei hjem fra jobb ser jeg en person p\u00e5 enhjulssykkel, og vil instinktivt sende en snapchat til noen f\u00f8r jeg husker at jeg ikke har mobil. Jeg vil ogs\u00e5 se hvor mye penger jeg har p\u00e5 konto f\u00f8r jeg handler, men akk. M\u00e5tte man g\u00e5 rundt og huske p\u00e5 s\u00e5nt f\u00f8r i tiden?</p>\n",
        "<p class=\"txt\">De f\u00f8rste dagene flyr av g\u00e5rde. Bilder av sm\u00e5barn p\u00e5 potte, selvskryt fra dagens trenings\u00f8kt og enda flere klager p\u00e5 den udugelige regjeringa h\u00f8rer til en fjern virkelighet. Det f\u00f8les godt. Jeg f\u00e5r til og med tid til \u00e5 sette meg ned og skrive brev, som dessverre ikke ble sendt. Adressen husker jeg nemlig ikke.</p>\n",
        "<p class=\"txt\">S\u00e5 skj\u00e6rer det seg. I og med at jeg kan bruke det jeg trenger i jobbsammenheng, sl\u00e5r jeg p\u00e5 mobilen i ti minutter for et kjapt telefonintervju. Push-varslene renner inn: Venninnegjengen har avtalt fellesmiddag i en tr\u00e5d p\u00e5 Facebook. Jeg har g\u00e5tt glipp av en kollokvie. Mamma har fors\u00f8kt \u00e5 f\u00e5 tak i meg, og har sendt en hissig melding fordi hun ikke f\u00e5r noe svar. Hva annet har jeg g\u00e5tt glipp av? Kaffeavtaler, grilling i parken, flere kollokvier? Har \u00e5rets hyttetur blitt planlagt uten meg? Uten noen form for kommunikasjon f\u00f8ler jeg meg isolert og alene. Denne ensomheten hadde jeg ikke forutsett, men n\u00e5 er den s\u00e5 virkelig at jeg har lyst til \u00e5 legge meg ned og gr\u00e5te.</p>\n",
        "<p class=\"txt\">Dagen etter er en <I>s\u00e5nn</I> dag. Alt jeg vil n\u00e5r jeg kommer hjem er \u00e5 legge meg i senga med en pose sm\u00e5godt og Netflix. Jeg vil i det minste ringe kj\u00e6resten og s\u00f8ke litt tr\u00f8st. Med sm\u00e5godt, men uten Netflix legger jeg meg under dyna.</p>\n",
        "<p class=\"txt\">Mot slutten av uka sprekker det. Ensomheten er i ferd med \u00e5 spise meg opp, og jeg orker ikke flere kvelder mutters alene i den stumme leiligheten.</p>\n",
        "<p class=\"txt\">Det er ikke de sosiale mediene i seg selv jeg savner, men evnen til \u00e5 opprettholde kontakten med venner og familie. For \u00e5 bevare sinnet tar jeg frem mobilen, som en gammel venn, og ensomhetsf\u00f8lelsen forsvinner fort. Facebook-feeden savner jeg ikke i det hele tatt, men vennene mine, de savner jeg. \u00c5 ikke v\u00e6re p\u00e5 Facebook er \u00e9n ting. \u00c5 leve uten \u00e5 kunne kommunisere i det hele tatt er noe ganske annet.</p>"
       ],
       "metadata": {},
       "output_type": "display_data",
       "text": [
        "<IPython.core.display.HTML at 0x7fa66aea4198>"
       ]
      },
      {
       "html": [
        "<p>Placeholder</p>"
       ],
       "metadata": {},
       "output_type": "display_data",
       "text": [
        "<IPython.core.display.HTML at 0x7fa66aea4198>"
       ]
      },
      {
       "html": [
        "<p class=\"txt\">Rektorvalg</p>\n",
        "<p class=\"txt\">\u2013 Jeg syns det er utrolig rart at de g\u00e5r aktivt inn for \u00e5 bryte reglementet, bare fordi det ville v\u00e6rt ubeleilig for rektoratet at de ikke ville ha fullf\u00f8rt programmet sitt, sier Tobias Langhoff, som stilte som Torkil Vederhus sin viserektorkandidat ved fjor\u00e5rets rektorvalg ved Universitetet i Oslo (UiO).</p>\n",
        "<p class=\"txt\">Forrige uke ble det klart at Ruth Vatvedt Fjeld trekker seg som prorektor ved UiO. I valgreglementet st\u00e5r det at dette skal f\u00f8re til nytt valg av prorektor og rektor. Under en uanmeldt ekstrasak p\u00e5 styrem\u00f8tet 6. mai bl\u00e5ser universitetsstyret i disse reglene \u2013 etter at valgstyret har foresl\u00e5tt nettopp \u00e5 spesifikt fravike valgreglementet.</p>\n",
        "<p class=\"txt\">I stedet innsettes viserektor Ragnhild Hennum som ny prorektor uten noe nytt valg. Prorektor er rektors stedfortreder, og prosessen har blitt belyst i flere saker i Uniforum.</p>\n",
        "<p class=\"mt\">Studentrepresentantene imot</p>\n",
        "<p class=\"txt\">De to studentrepresentantene i universitetsstyret, Eva Holte Enoksen og \u00c5dne Hindenes, var de eneste som stemte imot regelbruddet.</p>\n",
        "<p class=\"txt\">\u2013 Stemmegivningen v\u00e5r var basert p\u00e5 at universitetsstyret m\u00e5 forholde seg til de demokratiske spillereglene ved UiO, sier Hindenes. Ogs\u00e5 Daniel Sandbakken Nilsen, en av to innstilte til \u00e5 bli Enoksen og Hindesnes' etterf\u00f8lgere som studentrepresentanter i styret til h\u00f8sten, mener det rette ville v\u00e6rt \u00e5 f\u00f8lge vedtektene.</p>\n",
        "<p class=\"txt\">\u2013 Jeg er veldig skuffa over m\u00e5ten universitetsstyret har h\u00e5ndtert dette p\u00e5, sier han og varsler diskusjon til h\u00f8sten dersom avgj\u00f8relsen kj\u00f8res gjennom.</p>\n",
        "<p class=\"txt\">\u2013 Da er vi n\u00f8dt til \u00e5 diskutere om universitetsstyret skal v\u00e6re helt autonomt, eller ha vedtekter det faktisk f\u00f8lger.</p>\n",
        "<p class=\"mt\">Undergraver universitets- demokratiet</p>\n",
        "<p class=\"txt\">Torkil Vederhus, n\u00e5v\u00e6rende rektor Ole Petter Ottersens motkandidat i fjor\u00e5rets rektorvalg, mener dette viser at styret ikke har stor nok respekt for valgordningen.</p>\n",
        "<p class=\"txt\">\u2013 Denne saken er et tegn p\u00e5 at valgets tid er over p\u00e5 universitetet, sier Vederhus, som opplyser at han ikke er interessert i \u00e5 stille igjen.</p>\n",
        "<p class=\"txt\">Viserektorkandidat fra 2013 Tobias Langhoff og Gabrielle Gjerdset, leder av studentparlamentet i Oslo, mener saken undergraver universitetsdemokratiet.</p>\n",
        "<p class=\"txt\">\u2013 Jeg syns ogs\u00e5 det er rart at viserektoren, som ikke har et valgt verv, kan overta et valgt verv, sier Langhoff.</p>\n",
        "<p class=\"txt\">Gjerdset er kritisk til at styret bare f\u00f8lger spillereglene n\u00e5r det passer for dem.</p>\n",
        "<p class=\"txt\">\u2013 Reglene er her for \u00e5 beskytte universitetsdemokratiet, sier hun.</p>\n",
        "<p class=\"txt\">Knut Heidar, leder i valgstyret, mener imidlertid et nyvalg ville v\u00e6rt en overreaksjon.</p>\n",
        "<p class=\"txt\">\u2013 \u00c5 fravike et reglement er \u00e5penbart et demokratitap. Men det er, slik situasjonen er n\u00e5, mindre problemfylt enn \u00e5 avbryte det mandatet velgerne ga rektoratet i 2013, sier Heidar. Hans begrunnelse er at et nyvalg, enten det gir et avbrudd i rektoratperioden eller et helt nytt rektorat for den gjenv\u00e6rende delen av perioden, vil sette viktige ledelsesoppgaver p\u00e5 vent i minst et halvt \u00e5r.</p>\n",
        "<p class=\"txt\">Rektor Ole Petter Ottersen sier til Universitas at han ikke kan se hvordan saken kan bidra til \u00e5 undergrave studentdemokratiet.</p>\n",
        "<p class=\"mt\">Hemmeligholdt</p>\n",
        "<p class=\"txt\">\u2013 Jeg syns det er veldig s\u00e6rt at saksgangen har v\u00e6rt ukjent for alle til saken ble framlagt for styret p\u00e5 selve valgdagen, sier Langhoff.</p>\n",
        "<p class=\"txt\">Han tror dette kan skyldes at de ville f\u00e5 saken ut av verden uten mye br\u00e5k, s\u00e5 de kunne fortsette sitt program uten avbrytelser.</p>\n",
        "<p class=\"txt\">Vederhus syns ogs\u00e5 det er merkelig at det hastet s\u00e5nn.</p>\n",
        "<p class=\"txt\">\u2013 De kunne tatt det p\u00e5 et senere styrem\u00f8te hvor det ville blitt ordentlig behandlet.</p>\n",
        "<p class=\"mt\">Skylder p\u00e5 \u00f8konomien</p>\n",
        "<p class=\"txt\">I sakspapirene fra styrem\u00f8tet st\u00e5r det at en ytterligere overveielse bak avgj\u00f8relsen er at nyvalg er d\u00e5rlig bruk av universitets ressurser. B\u00e5de Gjerdset og Langhoff mener at \u00f8konomiske hensyn ikke kan g\u00e5 foran demokratiske.</p>\n",
        "<p class=\"txt\">Vederhus mener et nyvalg ikke hadde trengt \u00e5 v\u00e6re dyrt.</p>\n",
        "<p class=\"txt\">\u2013 Det hadde v\u00e6rt bedre med et billig valg enn ikke \u00e5 ha valg, sier han.</p>\n",
        "<p class=\"txt\">Valgstyrelederen er uenig i dette.</p>\n",
        "<p class=\"txt\">\u2013 Skal man ha valg, m\u00e5 man ha valg. Man kan ikke gj\u00f8re det halvveis, sier Heidar.</p>\n",
        "<p class=\"tit\">Hovedpersonen ut mot kronargument</p>\n",
        "<p class=\"txt\">Blant valgstyrets hovedargumenter for at det skulle v\u00e6re forsvarlig \u00e5 droppe nyvalg, er at det ikke var universitetspolitiske grunner til at prorektoren trakk seg. Fjeld selv er imidlertid usikker p\u00e5 om \u00e5rsakene til at hun sluttet kan kalles \u00abuniversitetspolitiske\u00bb, og sier styret ikke har spurt henne om saken.</p>\n",
        "<p class=\"txt\">\u2013 Jeg syns universitetsstyret godt kunne kontaktet meg. De tok \u00e9n side for god fisk. Men det hadde kanskje v\u00e6rt smart av dem \u00e5 h\u00f8re begge sidene av saken, sier Fjeld.</p>\n",
        "<p class=\"txt\">\u2013 Da rektor spurte meg om det var en universitetspolitisk grunn, sa jeg at det var uklart hva som l\u00e5 i begrepet og ba om en avklaring. Det fikk jeg ikke, forteller hun.</p>\n",
        "<p class=\"txt\">If\u00f8lge rektor Ole Petter Ottersen er b\u00e5de universitetsstyret og styret enige med ham i at \u00e5rsaken ikke er universitetspolitisk.</p>\n",
        "<p class=\"txt\">Fjeld mener det er rart hun fikk s\u00e5 lite \u00e5 gj\u00f8re i en s\u00e5 stor og viktig stilling.</p>\n",
        "<p class=\"txt\">\u2013 Jeg tok det opp med rektor, og det kom ingen endring. Da kunne jeg ikke bruke tiden min der, sier hun.</p>\n",
        "<p class=\"txt\">Det var flere oppgaver Fjeld trodde hun skulle f\u00e5, som hun aldri fikk.</p>\n",
        "<p class=\"txt\">\u2013 Doktorgradsutdanningen var jeg lovet, men fikk ikke det i gavnet, bare i navnet, sier hun.</p>\n",
        "<p class=\"txt\">Det var da rektoratet la fram rapporten om doktorgradsutdanningen uten at Fjeld hadde noe med det \u00e5 gj\u00f8re, at hun leverte erkl\u00e6ringen om at hun ville g\u00e5 av som prorektor.</p>\n",
        "<p class=\"txt\">\u2013 Da skj\u00f8nte jeg at det var noe som ikke hang helt sammen, forteller hun.</p>\n",
        "<p class=\"txt\">En av grunnene til at hun ikke fikk like mange oppgaver som hun trodde, var at det ble innf\u00f8rt en ekstra viserektorstilling rett f\u00f8r hun begynte.</p>\n",
        "<p class=\"txt\">\u2013 Viserektoren fikk hele forskningsdelen, som jeg trodde jeg skulle f\u00e5. Prorektoren f\u00f8r meg hadde den delen, og de burde v\u00e6rt klarere p\u00e5 at jeg ikke skulle f\u00e5 den delen i s\u00e5 fall.</p>\n",
        "<p class=\"txt\">Fjeld mener hun ble valgt blant annet p\u00e5 grunn av likestilling, og at de trengte en kvinne.</p>\n",
        "<p class=\"txt\">\u2013 En viktig del av likestillingsprofilen ble borte n\u00e5r de ansatte en ekstra mannlig viserektor rett f\u00f8r jeg skulle begynne.</p>\n",
        "<p class=\"txt\">Rektor Ole Petter Ottersen \u00f8nsker ikke \u00e5 kommentere Fjelds uttalelser.</p>"
       ],
       "metadata": {},
       "output_type": "display_data",
       "text": [
        "<IPython.core.display.HTML at 0x7fa66aea4198>"
       ]
      },
      {
       "html": [
        "<p class=\"txt\">Lamalue: Dala Lama tok gledelig i bruk russelua han ble tilbudt av elever fra Oslo handelsgym da han bes\u00f8kte Fredssenteret 9. mai.</p>"
       ],
       "metadata": {},
       "output_type": "display_data",
       "text": [
        "<IPython.core.display.HTML at 0x7fa66aea4198>"
       ]
      },
      {
       "html": [
        "<p class=\"txt\">Chateau Neuf er konkurstruet. Den tidligere legendariske musikkscenen har byttet ut The Clash, Ramones og Miles Davis med trafikklysfest og bingo. Mon tro hvor det gikk galt...</p>"
       ],
       "metadata": {},
       "output_type": "display_data",
       "text": [
        "<IPython.core.display.HTML at 0x7fa66aea4198>"
       ]
      },
      {
       "html": [
        "<p class=\"txt\">KARAKTERER: De med best karakterer etter mastergrad f\u00e5r 20 prosent mer i l\u00f8nn enn de i bunnsjiktet. L\u00f8nnsforskjellen mellom de med best og d\u00e5rligst karakterer fortsetter inn i arbeidslivet, og det er ikke slik at karakterene bare sl\u00e5r ut p\u00e5 den f\u00f8rste jobben, melder forskning.no For noen utdanningsgrupper \u00f8ker forskjellene.</p>\n",
        "<p class=\"txt\">\u2013 Det tyder p\u00e5 at utdanningssystemet m\u00e5ler noe av det samme som arbeidslivet er villig til \u00e5 bel\u00f8nne, sier Erling Barth, forsker ved Institutt for samfunnsforskning (ISF) til forskning.no</p>\n",
        "<p class=\"txt\">Han har ledet et forskningsprosjekt som tar for seg hvordan utdanningssystemet blir verdsatt i arbeidsmarkedet.</p>\n",
        "<p class=\"txt\">\u2013 20 prosent h\u00f8yere l\u00f8nninger er en god del sett i forhold til de sm\u00e5 l\u00f8nnsforskjellene i Norge, sier Barth til forskning.no</p>"
       ],
       "metadata": {},
       "output_type": "display_data",
       "text": [
        "<IPython.core.display.HTML at 0x7fa66aea4198>"
       ]
      },
      {
       "html": [
        "<p class=\"txt\">Du skal kanskje v\u00e6re spesielt interessert for \u00e5 engasjere deg i en prorektors avgang, s\u00e5nn i utgangspunktet. Ved Universitetet i Oslo har universitetsstyret og valgstyret imidlertid klart \u00e5 koke ihop en suppe s\u00e5 fullspekket med saftige ingredienser at Ruth Fjelds br\u00e5 avgang forrige uke \u2013 og aller mest de nevnte styrers h\u00e5ndtering av saken \u2013 i stadig st\u00f8rre grad fortoner seg som en gryende skandale.</p>\n",
        "<p class=\"txt\">For bak den opprinnelige meldingen i Uniforum om at Fjeld gikk fordi hun ikke var \u00abtilstrekkelig inne i rektoratets oppgaver\u00bb, ser det ut til \u00e5 skjule seg relativt stor forvirring. I ukas Universitas forteller Fjeld selv at hun slett ikke er sikker p\u00e5 om hennes begrunnelse er ensbetydende med at det ikke var \u00abuniversitetspolitiske uoverensstemmelser\u00bb som gjorde at hun trakk seg \u2013 en konklusjon som UiO var snar til \u00e5 trekke. N\u00e5r nettopp dette frav\u00e6ret av universitetspolitiske grunner brukes som et av hovedargumentene for helt bevisst \u00e5 bl\u00e5se en lang marsj i valgreglementet \u2013 for dermed \u00e5 unng\u00e5 det nyvalget av b\u00e5de prorektor og rektor situasjonen etter reglene fordrer \u2013 ja, da er det ikke rart studentene raser. Hemmelighold fram til styrem\u00f8tet er blant faktorene som ikke gj\u00f8r saken noe bedre.</p>\n",
        "<p class=\"txt\">Gjennom \u00e5rene har Universitas brakt utallige saker om diverse varianter av regelrytteri ved UiO. S\u00e6rlig ved Det medisinske fakultet har vi flere eksempler p\u00e5 at rigid reglementsoverholdelse har rammet studenter hardt. Det setter universitetsstyrets frimodige skroting av eget reglement i et ekstra grelt lys. Vi beh\u00f8ver neppe \u00e5 minne om hva den kalles, styreformen i land der regler er noe som bare gjelder for allmuen, mens de mektigste er hevet over loven.</p>\n",
        "<p class=\"txt\">Studenter ved Universitetet i Oslo kan i det minste v\u00e6re stolte over at deres to representanter i styret brukte sin stemme til \u00e5 g\u00e5 imot hele den tvilsomme man\u00f8veren. Det ser imidlertid ikke ut til \u00e5 ha v\u00e6rt nok, og sp\u00f8rsm\u00e5let er hva studentene n\u00e5 kan og b\u00f8r gj\u00f8re for \u00e5 vise at dette er et demokratibrudd som rett og slett ikke kan tolereres. Det virker mildt sagt langt fra sikkert at det er tilstrekkelig med den \u00abdiskusjonen\u00bb en av de innstilte studentrepresentantene varsler i ukas avis. I stedet b\u00f8r studentenes n\u00e5v\u00e6rende styrerepresentanter vurdere \u00e5 g\u00e5 imot den klissete merkelappen som \u00abgenerasjon lydig\u00bb og trekke seg i protest.</p>"
       ],
       "metadata": {},
       "output_type": "display_data",
       "text": [
        "<IPython.core.display.HTML at 0x7fa66aea4198>"
       ]
      },
      {
       "html": [
        "<p class=\"txt\">Blant valgstyrets hovedargumenter for at det skulle v\u00e6re forsvarlig \u00e5 droppe nyvalg, er at det ikke var universitetspolitiske grunner til at prorektoren trakk seg. Fjeld selv er imidlertid usikker p\u00e5 om \u00e5rsakene til at hun sluttet kan kalles \u00abuniversitetspolitiske\u00bb, og sier styret ikke har spurt henne om saken.</p>\n",
        "<p class=\"txt\">\u2013 Jeg syns universitetsstyret godt kunne kontaktet meg. De tok \u00e9n side for god fisk. Men det hadde kanskje v\u00e6rt smart av dem \u00e5 h\u00f8re begge sidene av saken, sier Fjeld.</p>\n",
        "<p class=\"txt\">\u2013 Da rektor spurte meg om det var en universitetspolitisk grunn, sa jeg at det var uklart hva som l\u00e5 i begrepet og ba om en avklaring. Det fikk jeg ikke, forteller hun.</p>\n",
        "<p class=\"txt\">If\u00f8lge rektor Ole Petter Ottersen er b\u00e5de universitetsstyret og styret enige med ham i at \u00e5rsaken ikke er universitetspolitisk.</p>\n",
        "<p class=\"txt\">Fjeld mener det er rart hun fikk s\u00e5 lite \u00e5 gj\u00f8re i en s\u00e5 stor og viktig stilling.</p>\n",
        "<p class=\"txt\">\u2013 Jeg tok det opp med rektor, og det kom ingen endring. Da kunne jeg ikke bruke tiden min der, sier hun.</p>\n",
        "<p class=\"txt\">Det var flere oppgaver Fjeld trodde hun skulle f\u00e5 som hun aldri fikk.</p>\n",
        "<p class=\"txt\">\u2013 Doktorgradsutdanningen var jeg lovet, men fikk ikke det i gavnet, bare i navnet, sier hun.</p>\n",
        "<p class=\"txt\">Det var da rektoratet la fram rapporten om doktorgradsutdanningen uten at Fjeld hadde noe med det \u00e5 gj\u00f8re, at hun leverte erkl\u00e6ringen om at hun ville g\u00e5 av som prorektor.</p>\n",
        "<p class=\"txt\">\u2013 Da skj\u00f8nte jeg at det var noe som ikke hang helt sammen, forteller hun.</p>\n",
        "<p class=\"txt\">En av grunnene til at hun ikke fikk like mange oppgaver som hun trodde, var at det ble innf\u00f8rt en ekstra viserektorstilling rett f\u00f8r hun begynte.</p>\n",
        "<p class=\"txt\">\u2013 Viserektoren fikk hele forskningsdelen, som jeg trodde jeg skulle f\u00e5. Prorektoren f\u00f8r meg hadde den delen, og de burde v\u00e6rt klarere p\u00e5 at jeg ikke skulle f\u00e5 den delen i s\u00e5 fall.</p>\n",
        "<p class=\"txt\">Fjeld mener hun ble valgt blant annet p\u00e5 grunn av likestilling, og at de trengte en kvinne.</p>\n",
        "<p class=\"txt\">\u2013 En viktig del av likestillingsprofilen ble borte n\u00e5r de ansatte en ekstra mannlig viserektor rett f\u00f8r jeg skulle begynne.</p>\n",
        "<p class=\"txt\">Rektor Ole Petter Ottersen \u00f8nsker ikke \u00e5 kommentere Fjelds uttalelser.</p>"
       ],
       "metadata": {},
       "output_type": "display_data",
       "text": [
        "<IPython.core.display.HTML at 0x7fa66aea4198>"
       ]
      },
      {
       "html": [
        "<p class=\"txt\">Tear down this wall: David Ringstad, styreleder i OSI klatring, kutter opp restene av den gamle klatreveggen p\u00e5 Blindern. De skal erstattes av nye, moderne vegger. Foreningen har f\u00e5tt noe st\u00f8tte fra Klatreverket, men st\u00e5r selv bak det meste av finansieringen og arbeidet.</p>"
       ],
       "metadata": {},
       "output_type": "display_data",
       "text": [
        "<IPython.core.display.HTML at 0x7fa66aea4198>"
       ]
      },
      {
       "html": [
        "<p class=\"txt\">HVEM: \tKarsten Aln\u00e6s</p>\n",
        "<p class=\"txt\">STUDERTE: \tHovedfag i nordisk, Universitetet i Oslo</p>\n",
        "<p class=\"txt\">N\u00c5R: \t1957\u20131963</p>\n",
        "<p class=\"txt\">AKTUELL MED:\tBoken \u00ab1814. Miraklenes \u00e5r\u00bb i forbindelse med grunnlovsjubileet</p>\n",
        "<p class=\"txt\">\u2013 Jeg vil ikke peke ut noen sorte f\u00e5r, men det var enkelte som r\u00f8kte under forelesningen, og det synes jeg ikke noe om.</p>\n",
        "<p class=\"txt\">Vi m\u00f8ter Karsten Aln\u00e6s ved flytogterminalen, f\u00f8r han skal videre til Molde og Kristiansund for \u00e5 holde foredrag om 1814 i forbindelse med grunnlovsjubileet. Selv om han skal sitte p\u00e5 flyet om litt over en time og m\u00e5 komme seg av g\u00e5rde med toget, har han en hel del p\u00e5 hjertet om sine gamle forelesere.</p>\n",
        "<p class=\"txt\">\u2013 Det var en som underviste i gotisk, som pekte ut studenter og stilte oss forferdelige sp\u00f8rsm\u00e5l som overhodet ikke hadde noe med pensum \u00e5 gj\u00f8re. Jeg ble heldigvis ikke pekt ut, men kameraten min ble det, stakkars.</p>\n",
        "<p class=\"txt\">Selv om noen var r\u00f8ykere og andre urimelige, er det noen l\u00e6rere han beskriver som \u00aben evig inspirasjon\u00bb \u2013 de som gj\u00f8r at det glitrer i de smale \u00f8ynene hans.</p>\n",
        "<p class=\"txt\">\u2013 Jeg husker spesielt godt da jeg fikk en romanpris i 1976, og fikk et langt og hyggelig brev fra en tidligere foreleser. Han ville gratulere meg med prisen og si at det var vel fortjent. Det var et forhold jeg husker med glede.</p>\n",
        "<p class=\"txt\">Aln\u00e6s har skrevet flere romaner og fagb\u00f8ker om b\u00e5de Norge og Europas historie og ville egentlig ta historie som hovedfag. Tilfeldigheter og en stor spr\u00e5kinteresse f\u00f8rte til at det ble nordisk hovedfag, med tysk og historie som mellomfag. S\u00e6rlig fransk middelalderhistorie husker han godt.</p>\n",
        "<p class=\"txt\">\u2013 Jens Arup Seip holdt en helt <I>eventyrlig</I> forelesningsrekke om Frankrike i middelalderen. Det var virkelig karismatiske l\u00e6rere, sier han og myser opp p\u00e5 den gr\u00e5 himmelen utenfor Oslo S.</p>\n",
        "<p class=\"txt\">Studentlivet husker han som behagelig. Han bodde hjemme hos foreldrene og slapp derfor \u00e5 ta noe s\u00e6rlig studiel\u00e5n.</p>\n",
        "<p class=\"txt\">\u2013 Jeg er jo oslogutt, fra Kampen, og det var lettvint \u00e5 studere i samme by som jeg vokste opp i, forteller han.</p>\n",
        "<p class=\"txt\">Aln\u00e6s beskriver seg selv som en ansvarsfull og m\u00e5lbevisst student, med et klart m\u00e5l om \u00e5 bli fort ferdig slik at han kunne finne seg jobb. Derfor brukte han mye tid p\u00e5 lesesalen.</p>\n",
        "<p class=\"txt\">\u2013 Helt isolert i fagene var jeg jo ikke, da. Fritiden brukte jeg mye p\u00e5 trening, og jeg gikk lange skogsturer med studiekamerater i Oslomarka. Ogs\u00e5 var vi jo litt opptatte av det politiske milj\u00f8et, det er klart. Men vi var ikke noe s\u00e6rlig p\u00e5 byen.</p>\n",
        "<p class=\"txt\">Den avsluttende hovedfagsoppgaven handlet om generasjonsmotsetninger i moderne sosiolekter. Den gang var tilgangen p\u00e5 skrivere langt ifra hva den er i dag, og teksten har til n\u00e5 kun v\u00e6rt tilgjengelig i ett eneste eksemplar. N\u00e5 skal den trykkes opp p\u00e5 nytt. Det er f\u00f8rste gang Aln\u00e6s publiseres som forfatter av faglitteratur i nordisk.</p>\n",
        "<p class=\"txt\">\u2013 Det er jo hyggelig \u00e5 debutere i en alder av 76, sier han og ler hjertelig.</p>\n",
        "<p class=\"txt\"><I>\u2013 Skrev du noe </I><I>skj\u00f8nnlitter\u00e6rt i studietida?</I></p>\n",
        "<p class=\"txt\">\u2013 Jeg puslet med en novelle, som jeg skrev p\u00e5 nynorsk, bare for \u00e5 \u00f8ve litt p\u00e5 det. Den ble lagt til side i mange \u00e5r, og jeg glemte den helt. S\u00e5 fant kona mi den en dag da vi ryddet, og den endte opp i en novellesamling. God kritikk fikk den ogs\u00e5!</p>\n",
        "<p class=\"txt\">Selv om mange av studievennene har falt fra i l\u00f8pet av \u00e5rene, holder Aln\u00e6s fremdeles kontakten med en liten klikk fra tiden p\u00e5 universitetet.</p>\n",
        "<p class=\"txt\">\u2013 N\u00e5 er vi mer p\u00e5 byen. Unge gutter som oss, vet du, vi treffes p\u00e5 Kaffistova en gang i blant.</p>"
       ],
       "metadata": {},
       "output_type": "display_data",
       "text": [
        "<IPython.core.display.HTML at 0x7fa66aea4198>"
       ]
      },
      {
       "html": [
        "<p class=\"bt\"><b>Godt forberedt:</b> Marianne Anden\u00e6s \u00f8nsker \u00e5 inkludere alle som leder av Arbeidsutvalget.</p>\n",
        "<p class=\"txt\">I dag ble det kjent hvem som skal representere studentene i Studentparlamentet ved UiOs arbeidsutvalg i perioden 2014/2015.</p>\n",
        "<p class=\"txt\">\u2013 Jeg er en inkluderende leder, og vil fremme en samlet studentmasse, sier nyvalgt leder Marianne Anden\u00e6s (24) til Universitas.</p>\n",
        "<p class=\"txt\">Anden\u00e6s representerer Sosialdemokratene, og studerer til vanlig statsvitenskap.</p>\n",
        "<p class=\"txt\">Hun mener det er viktig \u00e5 v\u00e6re godt forberedt n\u00e5r man skal ta fatt p\u00e5 oppgavene vervet inneb\u00e6rer.</p>\n",
        "<p class=\"txt\">\u2013 Jeg tror det er viktig \u00e5 finne ett godt hovedargument n\u00e5r vi jobber med en sak, og bygge opp en god argumentasjon rundt det. Det vil ogs\u00e5 v\u00e6re viktig \u00e5 finne naturlige og gode samarbeidspartnere, sier Anden\u00e6s.</p>\n",
        "<p class=\"mt\">Disse fem er valgt inn i Arbeidsutvalget:</p>\n",
        "<p class=\"txt\"><b>Leder: Marianne Anden\u00e6s (24)</b></p>\n",
        "<p class=\"txt\">Studerer statsvitenskap. Representerer Sosialdemokratene.</p>\n",
        "<p class=\"txt\"><b>Universitetsstyrerepresentant: Daniel Sandbakken Nilsen (24)</b></p>\n",
        "<p class=\"txt\">Studerer spesialpedagogikk. Representerer Venstrealliansen.</p>\n",
        "<p class=\"txt\"><b>Universitetsstyrerepresentant: Tina Alv\u00e6r (29)</b></p>\n",
        "<p class=\"txt\">Studerer samfunns\u00f8konomi. Representerer Bl\u00e5 liste.</p>\n",
        "<p class=\"txt\"><b>Studie- og l\u00e6ringsmilj\u00f8ansvarlig: Runar B. M\u00e6land (25)</b></p>\n",
        "<p class=\"txt\">Studerer filosofi. Representerer Liberal Liste.</p>\n",
        "<p class=\"txt\"><b>Informasjonsansvarlig: Torgeir Lebesbye (26)</b></p>\n",
        "<p class=\"txt\">Studerer informatikk. Representerer Realistlista.</p>\n",
        "<p class=\"txt\"><i>Universitas kommer tilbake med mer senere.</i></p>"
       ],
       "metadata": {},
       "output_type": "display_data",
       "text": [
        "<IPython.core.display.HTML at 0x7fa66aea4198>"
       ]
      },
      {
       "html": [
        "<p class=\"txt\">Si din mening p\u00e5 universitas.no</p>\n",
        "<p class=\"mt\">Deprokratisk</p>\n",
        "<p class=\"txt\">Dette er pussig fra UiO-styret. Hvis de synes de demokratiske spillereglene er for slitsomme, b\u00f8r de heller g\u00e5 inn for \u00e5 endre reglene istedenfor \u00e5 ignorere dem...</p>\n",
        "<p class=\"txt\">Bj\u00f8rn Semstad</p>\n",
        "<p class=\"txt\">N\u00e5r det ikke er en valgt prorektor er vervet vakant. UiO-styret har valgt \u00e5 la vervet v\u00e6re vakant (dvs. UiO har ingen prorektor) ved \u00e5 ikke skrive ut nyvalg, og la en utnevnt viserektor ivareta oppgavene ut perioden. Men det betyr ikke at Ragnhild Hennum er prorektor.</p>\n",
        "<p class=\"txt\">Mno</p>\n",
        "<p class=\"txt\">Dette kan sammenlignes med at f\u00f8rste visepresidenten i Stortinget (=prorektor) trekker seg fra sitt valgte verv, og at stortingspresidenten (=rektor) da \u00abkonstituerer\u00bb en ikke-valgt person fra stortingsadministrasjonen (=ikke-valgt viserektor) som visepresident i stedet for at stortingsrepresentantene (=universitetssamfunnet) velger ny visepresident (=prorektor).</p>\n",
        "<p class=\"txt\">Hoderystende \bfor forakten for demokratiet</p>\n",
        "<p class=\"txt\">Hentet fra debatten til nyhetssaken \u00ab\u2013 Et tegn p\u00e5 at valgets tid er over p\u00e5 Universitetet\u00bb</p>\n",
        "<p class=\"mt\">Akk og va</p>\n",
        "<p class=\"txt\">VA ble snytt. Internationalista, de nye, som viste ordentlig, ektef\u00f8lt engasjement, og ikke s\u00e5 rent lite profesjonelt, heller, ble snytt, every which way. De ville ikke v\u00e6re med p\u00e5 hestehandelen og alliansespillet i kulissene.</p>\n",
        "<p class=\"txt\">Akk</p>\n",
        "<p class=\"txt\">Ja... for politikk p\u00e5 norsk er jo helt annerledes enn andre steder. At flertallet valgte en annen kandidat enn VA sin viser bare at nominasjonen var feil, og at kritikken b\u00f8r heller rettes dit.</p>\n",
        "<p class=\"txt\">...og ve</p>\n",
        "<p class=\"txt\">VA hadde en avtale med sosialdemokratene. Den avtalen ble brutt uten at VA hadde f\u00e5tt noe beskjed om det, og det etter at VA sine representanter hadde stemt etter avtalen. Dette er ikke bare et brudd mot en enkeltperson, men et tillitsbrudd mot alle i Venstrealliansen som har s\u00f8rga for at VA ble den nest st\u00f8rste lista.</p>\n",
        "<p class=\"txt\">M-town</p>\n",
        "<p class=\"txt\">Hentet fra debatten til nyhetssaken \u00abHun er den nye Studentparlament-lederen ved UiO\u00bb</p>"
       ],
       "metadata": {},
       "output_type": "display_data",
       "text": [
        "<IPython.core.display.HTML at 0x7fa66aea4198>"
       ]
      },
      {
       "html": [
        "<p class=\"fak1\">Ukas podkast: Naked Scientists</p>\n",
        "<p class=\"txt\">The Naked Scientists er en gruppe p\u00e5 14 forskere med ulike fagfelt p\u00e5 universitetet i Cambridge. De har alle et inderlig \u00f8nske om \u00e5 formidle vitenskap og forskningsnyheter til allmennheten, og det er dette som er deres styrke: de er engasjerte fagfolk som snakker om ting de har skikkelig god peiling p\u00e5.</p>\n",
        "<p class=\"txt\">En gang i uka g\u00e5r de p\u00e5 lufta p\u00e5 BBC. Lytterne ringer inn med sp\u00f8rsm\u00e5l som kan handle om alt fra hvorfor vi ler n\u00e5r vi blir kilt, hvilken farge en kameleon egentlig har, til hvorfor planeter er runde. Programlederne svarer p\u00e5 sp\u00f8rsm\u00e5let over telefonen, og man f\u00e5r en uformell dialog mellom innringer og programleder. Det skal v\u00e6re lav terskel for \u00e5 ringe inn, og svarene som gis skal alltid ligge p\u00e5 et niv\u00e5 som Hvermansen kan henge med p\u00e5, uten at det blir fordummende eller simpelt.</p>\n",
        "<p class=\"txt\">Mot slutten av hver podkast f\u00e5r lytterne en liten nyhetsrapport, der programlederne f\u00e5r muligheten til \u00e5 kommentere aktuelle samfunnstemaer i lys av sin bakgrunn som forsker. P\u00e5 den m\u00e5ten belyser de problemstillinger med bakgrunnsstoff som ikke alltid kommer like godt fram i avisene, som n\u00e5r en journalist uten fagbakgrunn skal rapportere om en sak. Et eksempel p\u00e5 dette er Heartbleed-viruset som skapte bekymring for kort tid siden: Podkastens egen IT-mann forklarer p\u00e5 forst\u00e5elig vis hva denne nyheten <i>egentlig</i> handlet om.</p>\n",
        "<p class=\"txt\">Samlet kan denne pakka minne litt om en god, gammeldags frokostradio, bare med smarte programledere som slipper \u00e5 stille dumme sp\u00f8rsm\u00e5l til flaue intervjuobjekter. Om de faktisk er nakne der de sitter, kan man jo lure p\u00e5.</p>"
       ],
       "metadata": {},
       "output_type": "display_data",
       "text": [
        "<IPython.core.display.HTML at 0x7fa66aea4198>"
       ]
      },
      {
       "html": [
        "<p class=\"txt\">Det vanligste akademiske dopet</p>\n",
        "<p class=\"txt\">Stadig flere studenter doper seg p\u00e5 reseptbelagte medisiner for \u00e5 prestere p\u00e5 studet. Vi har testet effekten \u2013 og bivirkningene.</p>\n",
        "<p class=\"txt\">P\u00e5 eksamenskj\u00f8ret</p>\n",
        "<p class=\"txt\">Eksamensdop</p>\n",
        "<p class=\"txt\">Lite overraskende er det f\u00e5 ledige plasser p\u00e5 Universitetsbibliotekets lesesal en tirsdag ettermiddag. Det er mai og skippertaksstudenten har inntatt lesesalen igjen etter et halvt \u00e5rs overvintring. Gulrotknasking, snufsing, slurping og st\u00f8nning. Lydene f\u00e5r en stille lesesal til \u00e5 virke som tortur, og konsentrasjonsevnen har forsvunnet som dugg for v\u00e5rsola.</p>\n",
        "<p class=\"txt\">N\u00e5r det bare er dager igjen f\u00f8r eksamen, kan det derfor v\u00e6re fristende \u00e5 ta ulovlige snarveier.</p>\n",
        "<p class=\"txt\">\u2013 Jeg synes det er merkelig at amfetamin ikke brukes av flere under studietiden. Min erfaring er at det fungerer ekstremt bra.</p>\n",
        "<p class=\"txt\">\u00abLars\u00bb (28) er en av dem som ble fristet av prestasjonsfremmende midler, eller s\u00e5kalt akademisk doping. Han har ikke hatt for vane \u00e5 bruke disse ulovlige medikamentene i studietiden, men han tydde til amfetamin da han hadde hjemmeeksamen og manglet b\u00e5de lyst og overskudd til \u00e5 prestere.</p>\n",
        "<p class=\"txt\">\u2013 Man kan ikke selv styre n\u00e5r man har inspirasjon og driv. Er man i en d\u00e5rlig periode i livet under eksamensperioden, kan man bruke doping. Amfetamin gir en lignende f\u00f8lelse av \u00e5 v\u00e6re i god inspirasjonsflyt, men med dopet kan man velge tidspunkt for flyten selv, sier Lars.</p>\n",
        "<p class=\"txt\">Han er nettopp ferdig med sin mastergrad, skal ut i arbeidslivet og \u00f8nsker derfor \u00e5 v\u00e6re anonym. Men Lars er langt ifra den eneste studenten som applauderer akademisk doping. En ny studie gjort ved en Ivy League-skole i USA viser at en av fem studenter ved prestisjeuniversitetet bruker sentralstimulerende stoffer for \u00e5 gj\u00f8re det bedre p\u00e5 pr\u00f8ver, skrive oppgaver og lese til eksamen. Unders\u00f8kelsen reflekterer andre studier som indikerer lignende funn p\u00e5 flere utdanningsinstitusjoner i USA. Dette er langt flere enn f\u00f8rst antatt.</p>\n",
        "<p class=\"txt\">I Norge er bruken langt ifra s\u00e5 hyppig som i USA, men den \u00f8ker. I en fersk studentunders\u00f8kelse som Universitas har utf\u00f8rt i samarbeid med Norsk studentorganisasjon (NSO), oppgir tre prosent av studentene at de har brukt reseptbelagte prestasjonsfremmende midler for \u00e5 prestere bedre p\u00e5 studiet. Dette er over ett prosentpoeng mer enn det studentenes helse- og trivselsunders\u00f8kelse fra 2010 viste, og tilsvarer relativt store tall i den totale studentmassen.</p>\n",
        "<p class=\"txt\">\u2013 Unders\u00f8kelsen viser at det er mellom 5000 og 10 000 studenter som benytter seg av prestasjonsfremmende midler. Det synes jeg er overraskende mange, sier Ola Rydje, leder i NSO. Han tror studentene tyr til slike stoffer fordi de opplever at d\u00f8gnets timer ikke strekker til for studier.</p>\n",
        "<p class=\"txt\">\u2013 Det er veldig problematisk hvis det er frav\u00e6ret av muligheten til \u00e5 studere p\u00e5 heltid som gj\u00f8r at studenter m\u00e5 ty til slike stoffer for \u00e5 prestere, sier han.</p>\n",
        "<p class=\"txt\">P\u00e5 Universitetsbiblioteket begynner det \u00e5 n\u00e6rme seg kveld. Fortsatt er det mange som klarer \u00e5 presse fram konsentrasjonsevnen. Jeg merker selv at min egen energi er p\u00e5 full fart ned, hodet er i dr\u00f8mmemodus og \u00f8ynene sklir langsomt mot vinduet. Jeg tar h\u00e5nda ned i jakkelomma og fisker opp tablettpakningen. Med bare en uke igjen til eksamen skal disse sm\u00e5 og hvite ritalinpillene f\u00e5 meg til \u00e5 ta igjen den tapte lesinga fra semesteret som har g\u00e5tt.</p>\n",
        "<p class=\"txt\">N\u00e5r tre timer til plutselig har passert, er flere titalls sider blitt lest uten at jeg har stoppet for en eneste femminutter. Hodet er overraskende konsentrert, tross tidspunktet. Lesingen har g\u00e5tt like eventyrlig som \u00e5 lese en skj\u00f8nnlitter\u00e6r hit, og jeg lar meg ikke like lett distrahere av hendelser rundt meg. Lange kapitler p\u00e5 engelsk om svensk partipolitikk absorberes behendig og effektivt, og behovet for \u00e5 sjekke Facebook er nede p\u00e5 et minimum.</p>\n",
        "<p class=\"txt\">\u2013 Man blir veldig euforisk, hyperaktiv og v\u00e5ken. Det er vanskelig \u00e5 si om du blir smartere, men det aktiverer i hvert fall hjerneaktiviteten. Om du kanaliserer det inn i en oppgave, s\u00e5 er det kanskje som n\u00e5r du jobber p\u00e5 ditt aller mest inspirerte, sier Lars n\u00e5r han skal beskrive den opplevelsen jeg har p\u00e5 biblioteket. Han presiserer at han leste seg godt opp p\u00e5 pillebruk i forkant av sitt eget konsum.</p>\n",
        "<p class=\"txt\">\u2013 Jeg tok en pille til frokost, slik at mye av virkningen av stoffet var ute av kroppen da jeg skulle legge meg. I tillegg var jeg bevisst p\u00e5 \u00e5 presse i meg mat og drikke hver fjerde time, sier han.</p>\n",
        "<p class=\"txt\">Selv om Lars selv opplevde et positivt utbytte av \u00e5 bruke amfetamin under hjemmeeksamen, mener han det ikke er for alle.</p>\n",
        "<p class=\"txt\">\u2013 Det krever mye disiplin \u00e5 bruke det. Man mister matlyst og m\u00e5 passe p\u00e5 \u00e5 tvinge i seg n\u00e6ring. I tillegg er det viktig \u00e5 passe p\u00e5 at man f\u00e5r sovet imellom. Hvis ikke kj\u00f8rer man kroppen helt ut og man mister kognitiv kapasitet, sier han. P\u00e5 den tredje dagen merket han at han begynte \u00e5 bli veldig sliten.</p>\n",
        "<p class=\"txt\">\u2013 Det er energi p\u00e5 kreditt, man overanstrenger kroppen og kjenner det i flere dager etterp\u00e5. Jeg mener det er et fint hjelpemiddel i pressa situasjoner, s\u00e5 lenge man er streng med bruken.</p>\n",
        "<p class=\"txt\">Anders Sandberg, forsker ved Future of Humanity Institute p\u00e5 Universitetet i Oxford, tror vi vil komme til \u00e5 trenge mer akademisk doping i fremtiden. Hans forskningsfelt er etiske og sosiale konsekvenser av kognitiv forbedring, og han har selv pr\u00f8vd ut diverse typer akademisk doping, eller \u00abkognitive forbedringsmidler\u00bb som han selv kaller dem.</p>\n",
        "<p class=\"txt\">\u2013 Jeg tror at konkurransen er det som gj\u00f8r bruken av piller problematisk. Det er mye mer konkurranse i USA enn i Skandinavia, og det kan kanskje v\u00e6re en forklaring p\u00e5 den h\u00f8ye forbruken av prestasjonsfremmende midler i Amerika, sier Sandberg p\u00e5 telefon fra England.</p>\n",
        "<p class=\"txt\">\u2013 Nye teknikker som gj\u00f8r at vi kan oppn\u00e5 kognitiv forbedring, har eksistert lenge allerede, eksempelvis kalkulatoren, mobilen og kaffe. Vi ser ikke disse midlene som et samfunnsproblem, sier han og peker p\u00e5 at det er mange studenter som ikke drikker kaffe og som dermed mister fordelen av mer effektiv jobbing. Likevel er det ingen som snakker om \u00e5 stenge kafeene.</p>\n",
        "<p class=\"txt\">\u2013 \u00c5 v\u00e6re intelligent og v\u00e5ken er bra i alle livets situasjoner. Det kan koste oss ganske mye ikke \u00e5 v\u00e6re det i kritiske situasjoner. Jeg mener at piller som gj\u00f8r oss intelligente, er bra \u00e5 bruke s\u00e5 mye som mulig, sier Sandberg.</p>\n",
        "<p class=\"txt\">Men gj\u00f8r disse pillene oss mer intelligente? Nei, mener J\u00f8rgen Bramness, forskningsdirekt\u00f8r ved Senter for rus- og avhengighetsforskning.</p>\n",
        "<p class=\"txt\">\u2013 De f\u00e5 studiene som er gjort, viser at midlene ikke har noen annen effekt enn \u00e5 holde folk mer v\u00e5kne enn til vanlig. Ingen studier har hittil vist at slike stoffer har noen effekt p\u00e5 de kognitive evnene, sier han.</p>\n",
        "<p class=\"txt\">\u2013 Det er i det hele tatt gjort sv\u00e6rt f\u00e5 studier p\u00e5 hvorvidt sentralstimulerende stoffer som ritalin og amfetamin er prestasjonsfremmende.</p>\n",
        "<p class=\"txt\">Bramness mener mange har en sterk overtro n\u00e5r det kommer til effekten av sentralstimulerende stoffer p\u00e5 lesesalen.</p>\n",
        "<p class=\"txt\">\u2013 Folk er d\u00e5rlige til \u00e5 fastsl\u00e5 hvilken effekt pillene har p\u00e5 dem selv. Flere psykofarmakologiske studier viser at det er svakt samsvar mellom egen opplevd effekt av ulike ting og faktisk, objektiv m\u00e5lt virkning. Styrken til stoffene er alts\u00e5 svakere enn brukerne opplever den selv, sier han.</p>\n",
        "<p class=\"txt\">Bramness synes imidlertid ikke vi skal overdrive de negative effektene av akademisk doping, og sier det ikke er farlig i sm\u00e5 doser.</p>\n",
        "<p class=\"txt\">\u2013 Farlig blir det f\u00f8rst n\u00e5r man kj\u00f8per stoffer uten kvalitetsstempel p\u00e5 nett eller tar for store doser. Vanlige bivirkninger er at man mister matlysten, slutter \u00e5 drikke og sove. Da kan man bli psykotisk og f\u00e5 angstanfall, sier han.</p>\n",
        "<p class=\"txt\">Han mener terskelen for \u00e5 pr\u00f8ve akademisk doping er lavere n\u00e5 enn f\u00f8r fordi det bl\u00e5ser liberale narkotikavinder over hele den vestlige verden.</p>\n",
        "<p class=\"txt\">I dag er reseptbelagte prestasjonsfremmende midler ulovlige \u00e5 bruke med mindre man alts\u00e5 har en resept fra lege. Slik har det ikke alltid v\u00e6rt. Det var f\u00f8rst i fjor at det ble illegalt for privatpersoner \u00e5 kj\u00f8pe, selge og bruke slike stoffer uten legeerkl\u00e6ring. Hovedargumentet bak loven var at staten ville sende et signal til norsk ungdom om at doping ikke er greit.</p>\n",
        "<p class=\"txt\">\u00abLars\u00bb synes ikke n\u00f8dvendigvis akademisk doping er juks. \u2013 For mange er det ikke n\u00f8dvendig \u00e5 ta slik doping, fordi de har en stabil arbeidsflyt. Men mange opplever store prestasjonsvansker, og andre er uheldige og har en d\u00e5rlig periode midt i eksamenstida. Da synes jeg ikke det er juks \u00e5 bruke dop.</p>\n",
        "<p class=\"txt\">Medisinsk fagdirekt\u00f8r ved Statens legemiddelverk, Steinar Madsen, er klar p\u00e5 at han synes akademisk doping er det samme som doping i idretten.</p>\n",
        "<p class=\"txt\">\u2013 Det er ikke alle som er i fysisk stand til \u00e5 t\u00e5le slike stoffer. Konkurranse b\u00f8r alltid v\u00e6re p\u00e5 like vilk\u00e5r, og det er den ikke her, sier Madsen p\u00e5 telefon.</p>\n",
        "<p class=\"txt\">Han mener at poenget med forbudet av slike stoffer er at de ikke skal v\u00e6re tilgjengelig for allmenheten, fordi folk sannsynligvis ikke leser etiketten. Fagdirekt\u00f8ren er likevel usikker p\u00e5 effekten av doping, sier han.</p>\n",
        "<p class=\"txt\">\u2013 Forskningen p\u00e5 omr\u00e5det er litt sprikende. Enkelte studier viser at slike stoffer har en positiv effekt n\u00e5r man bruker det p\u00e5 riktig m\u00e5te, fordi en \u00f8ker arbeidskapasiteten, blir mer v\u00e5ken og slik forbereder seg bedre til eksamen. Annen forskning mener derimot at man gj\u00f8r det d\u00e5rligere fordi en ikke f\u00e5r ford\u00f8yd fagstoffet. Da klarer man ikke \u00e5 se sammenhenger ordentlig.</p>\n",
        "<p class=\"txt\">Madsen viser til stoffenes forskjellige bivirkninger og understreker at det beste for studenters prestasjonsniv\u00e5 er \u00e5 trene, spise sunt og ha et sunt liv.</p>\n",
        "<p class=\"txt\">\u2013 Det er en klar sammenheng mellom det \u00e5 v\u00e6re i god fysisk form og ha evne til \u00e5 konsentrere seg, sier han.</p>\n",
        "<p class=\"txt\">Inne p\u00e5 lesesalen har foten min begynt \u00e5 g\u00e5 inn i l\u00f8psk stamping, som jeg f\u00f8rst legger merke til etter \u00e5 ha f\u00e5tt et irritert \u00abhysj\u00bb i min retning. Muskulaturen i bein, nakke og armer er like spente som den var under min f\u00f8rste eksamen p\u00e5 Universitetet. Hjertet sl\u00e5r som om jeg nettopp har l\u00f8pt f\u00f8rste etappe i Holmenkollstafetten, og fors\u00f8ket p\u00e5 \u00e5 puste dypt inn flere ganger for \u00e5 roe ned er fullstendig bortkastet. Jeg har mistet appetitten, og henda har blitt klamme. Bibliotekarene har sagt ifra om at de er i ferd med \u00e5 stenge, men selv om jeg kan relatere meg til den befriende f\u00f8lelsen de som pakker ned rundt meg, sikkert har, kunne jeg uten store vansker sittet konsentrert og lest i noen timer til. Hodet er i h\u00f8ygir, men kroppen kjennes ut som om den har v\u00e6rt med p\u00e5 triatlon. Den er anspent og stiv, og \u00e5 f\u00e5 sove n\u00e5 virker himmelsk, men umulig. Jeg er glad i jeg ikke skal v\u00e6re i denne tilstanden i flere dager i strekk.</p>\n",
        "<p class=\"txt\">\u2013 En del personer klarer \u00e5 h\u00e5ndtere bruk av prestasjonsfremmende midler over en periode, men det er kun \u00e9n person historisk sett som vi vet at har mestret daglig inntak av dop uten \u00e5 forg\u00e5, og det er Sigmund Freud.</p>\n",
        "<p class=\"txt\">Lars Tanum er f\u00f8rsteamanuensis ved Senter for rus- og avhengighetsforskning. Han er sterkt imot bruken av slike prestasjonsfremmende midler i akademia. Ikke bare fordi dopingen kan f\u00f8re til juks, men fordi man utsetter seg for stor psykisk risiko.</p>\n",
        "<p class=\"txt\">\u2013 Etter en m\u00e5neds forbruk vil mange oppleve at de fungerer d\u00e5rligere og f\u00f8le at de m\u00e5 ha mer for \u00e5 fungere. Vi har ikke data p\u00e5 hvor mange som utvikler en slik form for psykisk avhengighet \u2013 som gj\u00f8r bruken farlig. Da er veien veldig kort for \u00e5 ty til andre midler som er sterkere, og man havner i en sone hvor en er i ferd med \u00e5 utvikle narkomani (avhengig av narkotika, journ.anm.), sier han.</p>\n",
        "<p class=\"txt\">Fordi vi ikke vet hvordan enkeltpersoner er skrudd sammen, b\u00f8r man sette grenser for bruk p\u00e5 av akademisk doping til tre dager, mener Tanum.</p>\n",
        "<p class=\"txt\">\u2013 Klarer man ikke det, s\u00e5 beveger man seg inn i et landskap som er potensielt farlig.</p>"
       ],
       "metadata": {},
       "output_type": "display_data",
       "text": [
        "<IPython.core.display.HTML at 0x7fa66aea4198>"
       ]
      },
      {
       "html": [
        "<p class=\"txt\">Ukas anbefaling</p>\n",
        "<p class=\"txt\">Eksamenstiden slipper ikke taket f\u00f8r du ligger der som en halvd\u00f8d haug med nerver. Da er det godt det finnes noe kalt skippertak. N\u00e5r du tenker \u00abhvorfor begynner jeg aldri \u00e5 lese tidligere?\u00bb, er fenomenet en reddende engel. Ved \u00e5 rendyrke teknikken gjennom \u00e5renes l\u00f8p, ved \u00e5 omfavne den som en gammel, litt slitsom venn, har den s\u00e5gar blitt en aldri s\u00e5 liten spesialitet. Sett deg til rette med sjokolade, kaffe og matpakke og gj\u00f8r det til en litt selv-sadistisk leselek \u2013 litt mer, litt lengre \u2013 s\u00e5 vil det b\u00e6re frukter som A-ppelsin og B-anan. Ps. Anbefales for \u00f8vrig \u00e5 lese kontinuerlig, men det er litt sent n\u00e5...</p>"
       ],
       "metadata": {},
       "output_type": "display_data",
       "text": [
        "<IPython.core.display.HTML at 0x7fa66aea4198>"
       ]
      },
      {
       "html": [
        "<p class=\"spm\">\u2013 Kristian Gundersen, du er mildt sagt ikke enig med Ola Rydjes forslag om \u00e5 svekke stillingsvernet i akademia. Hva er problemet?</p>\n",
        "<p class=\"txt\">\u2013 Argumentasjonen henger ikke p\u00e5 greip. Han sier han skal gj\u00f8re noe med likestillingen, men ikke hvordan. Da m\u00e5 han i det minste si mannlige professorer. Det er mange grunner til at professorer b\u00f8r ha et sterkere stillingsvern, det handler om akademisk frihet. Hvis vernet svekkes, vil professorer med upopul\u00e6re meninger g\u00e5 f\u00f8rst.</p>\n",
        "<p class=\"spm\">\u2013 Er du redd for \u00e5 miste jobben om stillingsvernet svekkes?</p>\n",
        "<p class=\"txt\">\u2013 At jeg skal miste jobben? Jeg har jo sterke meninger i offentligheten, og det kan jo godt hende mange vil bli kvitt meg.</p>\n",
        "<p class=\"spm\">\u2013 NSO-lederen sitter selv i ett \u00e5r av gangen og er ganske vernet. B\u00f8r det bli lettere \u00e5 sparke studentledere?</p>\n",
        "<p class=\"txt\">\u2013 Nei, vi skal ta dem med argumenter, ikke ved \u00e5 sparke dem.</p>\n",
        "<p class=\"spm\">\u2013 P\u00e5 Twitter kaller du dette en generasjonskamp og kj\u00f8nnskamp. Er dette saken som endelig f\u00e5r eldre, mannlige professorer til \u00e5 kreve sin rett?</p>\n",
        "<p class=\"txt\">\u2013 Nei, det ... er et sp\u00f8rsm\u00e5l med s\u00e5 mange premisser at jeg vanskelig kan svare p\u00e5 det! Eldre, mannlige professorer gj\u00f8r faktisk en god jobb de ogs\u00e5.</p>\n",
        "<p class=\"spm\">\u2013 Du twitret at \u00abStudentleder vil massesparke professorer, for \u00e5 gi plass til yngre kvinner\u00bb. Beskylder du Rydje for \u00e5 utnytte sin stilling for \u00e5 f\u00e5 seg noe?</p>\n",
        "<p class=\"txt\">\u2013 Nei, men jeg tror ikke han har tenkt gjennom saken.</p>\n",
        "<p class=\"spm\">\u2013 Men du twitret til Rydje at han er \u00abfryktelig naiv\u00bb, mener han du er litt unyansert. Er du unyansert, Gundersen?</p>\n",
        "<p class=\"txt\">\u2013 Det m\u00e5 du nesten sp\u00f8rre andre om, jeg sier det jeg mener. N\u00e5r Rydje kommer med slike ekstreme uttalelser m\u00e5 han finne seg i \u00e5 bli motsagt. Skal du sp\u00f8rre meg om jeg vil vurdere min stilling n\u00e5, da?</p>\n",
        "<p class=\"spm\">\u2013 Jeg skulle sp\u00f8rre deg om du vil vurdere ditt stillingsvern...</p>\n",
        "<p class=\"txt\">\u2013 Nei.</p>"
       ],
       "metadata": {},
       "output_type": "display_data",
       "text": [
        "<IPython.core.display.HTML at 0x7fa66aea4198>"
       ]
      },
      {
       "html": [
        "<p class=\"txt\">@Torkil i g\u00e5rsdagens Universitas ble jeg sitert om SiO, rektorvalg og MGP. Stem p\u00e5 meg for en allsidig #studentbaron</p>\n",
        "<p class=\"txt\">15.mai\bGenerasjon pampevelde</p>\n",
        "<p class=\"txt\">@mathiasfischer Hver gang noen skriver \u00abRetweet hvis...\u00bb, favorittmarkerer jeg. H\u00e5per budskapet n\u00e5r frem.</p>\n",
        "<p class=\"txt\">19.mai\bGenerasjon oppr\u00f8r</p>\n",
        "<p class=\"txt\">@KristianGunder @rydje det er en absurd ide \u00e5 gi professorer svakere stillingsvern enn andre statsansatte. Les deg opp p\u00e5 akademisk frihet!</p>\n",
        "<p class=\"txt\">18.mai\bGenerasjon KnowItAll</p>\n",
        "<p class=\"txt\">@rydje @KristianGunder \u00abAbsurd og naiv\u00bb er ikke argumenter. Det er mulig du har rett, men gj\u00f8r gjerne et fors\u00f8k p\u00e5 \u00e5 forklare hvorfor.</p>\n",
        "<p class=\"txt\">18.mai\bRydje rydder opp</p>\n",
        "<p class=\"txt\">@KristianGunder @rydje hvis du ikke forst\u00e5r dette anbefaler jeg SV-fakultetet, begynnerkursene</p>\n",
        "<p class=\"txt\">18.mai\b#EldreVetBest</p>\n",
        "<p class=\"txt\">@rydje @KristianGunder Herregud. Til \u00e5 v\u00e6re en god forkjemper for meningsfull debatt gj\u00f8r du lite for \u00e5 bidra til det i dag. Pr\u00f8ve igjen?</p>\n",
        "<p class=\"txt\">18.mai\b#NeiDetGj\u00f8rDeIkkeDetS\u00e5</p>"
       ],
       "metadata": {},
       "output_type": "display_data",
       "text": [
        "<IPython.core.display.HTML at 0x7fa66aea4198>"
       ]
      },
      {
       "html": [
        "<p class=\"txt\">Den 25. mai er for de aller fleste nordmenn en helt vanlig dag. Men for EUs innbyggere er dagen ogs\u00e5 den siste valgdagen til Europaparlamentet (EP) \u2013 en dag som i stor grad avgj\u00f8r den politiske retningen Europa kommer til \u00e5 bevege seg mot. For Norge betyr dette valget at vi nok en gang kommer til \u00e5 f\u00f8lge resten av Europa, v\u00e5r viktigste handelspartner, uten \u00e5 bli h\u00f8rt eller \u00e5 ha mulighet til \u00e5 p\u00e5virke p\u00e5 lik linje med EUs medlemmer.</p>\n",
        "<p class=\"txt\">Samtidig velger Universitetet i Oslo (UiO) \u00e5 legge ned Europastudier, og skrenker dermed inn spisskompetansen p\u00e5 omr\u00e5det. Sammen f\u00f8rer dette til en ytterligere nedsatt grunnleggende forst\u00e5else av Europa og EU i den norske befolkningen. EU er ikke perfekt, langt i fra, men vi b\u00f8r ta del i \u00e5 utforme et EU som ivaretar norske interesser i langt st\u00f8rre grad. Et norsk medlemskap blir viktigere for hvert \u00e5r som g\u00e5r, EU integrerer p\u00e5 stadig flere omr\u00e5der \u2013 og da b\u00f8r Norge v\u00e6re med \u00e5 avgj\u00f8re hvilken form dette EU skal ha. Da trengs ogs\u00e5 kunnskapen om EU og Europa i aller h\u00f8yeste grad.</p>\n",
        "<p class=\"txt\">\u00c5rets EP-valg vil utligne maktbalansen mellom parlamentet og ministerr\u00e5det. Tidligere har EU (og det riktig) v\u00e6rt kritisert for altfor lite innflytelse fra borgernes side. Det representative demokratiet har ikke v\u00e6rt sterkt nok og EP har blitt betegnet som en slags demokratisk blidgj\u00f8relse uten reell makt. I \u00e5r, p\u00e5 bakgrunn av Lisboa-traktaten fra 2009 vil dette endre seg. For f\u00f8rste gang vil blant annet presidenten i Kommisjonen bli valgt p\u00e5 bakgrunn av resultatene i \u00e5rets valg og EP vil bli tilskrevet en rekke nye kompetanseomr\u00e5der. Dette illustrerer hvordan man innad i EU alltid jobber for \u00e5 styrke det representative demokratiet.</p>\n",
        "<p class=\"txt\">I kontrast til dette betegnes v\u00e5rt samarbeid innenfor E\u00d8S-rammene som et demokratisk underskudd og et suverenitetsproblem. Det er en rekke programmer og felt som vi m\u00e5 forholde oss til, men som vi samtidig har sv\u00e6rt liten mulighet til \u00e5 p\u00e5virke. P\u00e5 en annen side er det ikke til \u00e5 komme foruten at vi sier fra oss suverenitet ved et mulig medlemskap i EU, men dette kontres ved \u00e5 kunne p\u00e5virke fra innsiden. Muligheten til \u00e5 p\u00e5virke g\u00e5r begge veier \u2013 uansett hvilket syn man m\u00e5tte ha p\u00e5 EU, s\u00e5 b\u00f8r det representeres p\u00e5 europeisk niv\u00e5 slik at Norge blir med \u00e5 bygge det Europa vi \u00f8nsker \u00e5 v\u00e6re en del av i fremtiden. Derfor burde vi ogs\u00e5 ha mulighet til \u00e5 ta del i EP-valget.</p>"
       ],
       "metadata": {},
       "output_type": "display_data",
       "text": [
        "<IPython.core.display.HTML at 0x7fa66aea4198>"
       ]
      },
      {
       "html": [
        "<p class=\"txt\">Ukas advarsel</p>\n",
        "<p class=\"txt\">I mange m\u00e5neder har du sett fram til de deilige, rolige sommerkveldene. Og jammen er de ikke rett rundt hj\u00f8rnet. Endelig skal du skravle med venner over ei flaske vin og spise kveldsmat i parken med kj\u00e6resten. Champions League er over og tippeligaen tar ferie. \u00c5h, som du elsker sommeren. NEI, HVA ER DET DU DRIVER MED? SKYT! YESS! Idyllen er brutt. Typen din melder flytting til bestekompisen og den idrettsfrelste venninna di benker seg foran tv-en. Det er starten p\u00e5 en m\u00e5ned fylt med glede, sinne, rop, entusiasme og t\u00e5rer. Du er herved advart. L\u00e6r deg \u00e5 like det, eller r\u00f8m til fjells.</p>"
       ],
       "metadata": {},
       "output_type": "display_data",
       "text": [
        "<IPython.core.display.HTML at 0x7fa66aea4198>"
       ]
      },
      {
       "html": [
        "<p class=\"spm\">\u2013 P\u00e5 bloggen din bruker du mye plass p\u00e5 \u00e5 forsvare troen p\u00e5 Gud, men ogs\u00e5 p\u00e5 \u00e5 angripe moderne religionskritikk. Hva er problemet?</p>\n",
        "<p class=\"spm\">\u2013 Min egen karriere i filosofi og trosforsvar ble p\u00e5 mange m\u00e5ter utl\u00f8st av m\u00f8tet med nyateismen. Som gudskritisk bevegelse er den en banal og anti-intellektuell katastrofe. Til tider er det skremmende hvor blind lojaliteten er til et rammeverk der fysisk materie er alt som eksisterer. Richard Dawkins er en r\u00e5 biolog, og jeg leser The Blind Watchmaker n\u00e5r som helst. Men n\u00e5r han skal over til filosofi, som han ikke kan noe om, ser det stygt ut. Sp\u00f8r du meg om landbrukspolitikk i Vietnam, svarer jeg at jeg mangler forarbeidet til \u00e5 uttale meg.</p>\n",
        "<p class=\"spm\">\u2013 I <I>The God Delusion</I> (2006) svarer Dawkins p\u00e5 det der. Han mener man ikke kan p\u00e5legges \u00e5 lese seg opp p\u00e5 \u00abpastafarisk teologi\u00bb for \u00e5 diskutere om det finnes et flyvende spaghettimonster i himmelen. Poenget er at det m\u00e5 v\u00e6re mulig \u00e5 motsi Guds eksistens uten \u00e5 fordype seg i teologi.</p>\n",
        "<p class=\"spm\">\u2013 Det argumentet viser hvor mye Dawkins skriker etter kunnskap. Han trenger ikke lese teologi, han kunne tatt turen til en filosofikollega. N\u00e5r teister snakker om Gud, er det ikke en hypotese med en rekke tilfeldige egenskaper, der du kan ende med et flyvende spaghettimonster som lukter s\u00e5nn og s\u00e5nn. Vi snakker om Gud som den ultimate virkeligheten, selve Eksistensen, der v\u00e5r verden ikke kan eksistere uavhengig av ham. Troen er ikke en avvisning av fornuften, men mer et fokus p\u00e5 det fornuften har kommet fram til f\u00f8rst. Det ligger selvsagt tusenvis av sider bak disse argumentene.</p>\n",
        "<p class=\"spm\">\u2013 Det h\u00f8res ut som en ganske annen gudsforst\u00e5else enn den \u00abnyateistene\u00bb retter skytset sitt mot.</p>\n",
        "<p class=\"spm\">\u2013 Absolutt. B\u00e5de kirken og ulike religioner har v\u00e6rt for d\u00e5rlige til \u00e5 undervise i hva det egentlig er vi prater om, og kan ta selvkritikk for at det er kristne, j\u00f8der og muslimer som g\u00e5r og tenker at Gud er en s\u00e5 banal st\u00f8rrelse som den nyateistene angriper. Men samtidig skriver Dawkins en bok der han kritiserer Thomas Aquinas' gudsbeviser, som er blant de mest anerkjente som finnes. S\u00e5 han har p\u00e5 ingen m\u00e5te begrenset seg til \u00e5 ta bonden i Texas som tror Gud er en mann med skjegg som gir gode avlinger om han ber riktig.</p>\n",
        "<p class=\"spm\">\u2013 Du henter synet og argumentene dine fra den klassiske filosofiske tradisjonen. Hva er det, og hva kan det tilby oss?</p>\n",
        "<p class=\"spm\">\u2013 Det er en kunnskapstradisjon som g\u00e5r fra filosofene f\u00f8r Sokrates, via Platon og Aristoteles, og som er videreutviklet i tusen\u00e5rene siden. Den kombinerer verdenshistoriens mest intelligente tenkere, og er like relevant i dag som for 2500 \u00e5r siden \u2013 i dialog med fronten av naturvitenskap og moderne analytisk filosofi.</p>\n",
        "<p class=\"spm\">\u2013 I mars var du paneldeltaker i \u00abGrill en kristen\u00bb, arrangert av Oslo Kristelige Studentlag. Gudsangrep og -forsvar har p\u00e5g\u00e5tt i hundrevis av \u00e5r, tilsynelatende uten at man kommer til enighet. Hva er poenget med \u00e5 fors\u00f8ke \u00e5 overbevise andre s\u00e5 mye?</p>\n",
        "<p class=\"spm\">\u2013 Min oppriktige, nestekj\u00e6rlige intensjon er at alle skal \u00abfinne Gud\u00bb, om jeg s\u00e5 skulle ta feil. Jeg tror sannhet eksisterer, og jeg tror den har en iboende verdi. Dessuten f\u00e5r synene v\u00e5re konsekvenser. Uten Gud blir man tvunget inn i en annen virkelighetsforst\u00e5else, der det ikke lenger er noe \u00e5penbart overskridende \u00e5 feste mening og hensikter i.</p>\n",
        "<p class=\"spm\">\u2013 En \u00abnyateist\u00bb som filosofen Sam Harris finner jo et grunnlag for det gode i hva som f\u00f8rer til mest nytelse og minst smerte for individer?</p>\n",
        "<p class=\"spm\">\u2013 Ja, men da m\u00e5 du igjen definere hva nytelse er, og hvilken forbindelse det har til det gode. Er det mest mulig adrenalin i kroppen? Er det en f\u00f8lelse?</p>\n",
        "<p class=\"spm\">\u2013 Gjennom historien er det beg\u00e5tt enorme mengder urett legitimert gjennom et religi\u00f8st verdensbilde. Er det ikke god grunn til \u00e5 v\u00e6re bekymret for hva religion kan f\u00f8re til?</p>\n",
        "<p class=\"spm\">\u2013 Selvsagt har det blitt beg\u00e5tt grusomme ting i kirkens og kristendommens navn. Samtidig begynte det \u00e5 se spesielt stygt ut da kirken ble satt under sekul\u00e6r makt \u2013 under kongekronen. Religionskrigene ble i stor grad f\u00f8rt for nasjonsbyggingens del. Uansett m\u00e5 vi huske at religion ikke en ting, det eksisterer ikke i den forstand. Mennesker har ulike virkelighets- og trosoppfatninger, og de kan brukes til det onde og til det gode. N\u00e5r Christopher Hitchens snakker om religion definerer han det aldri, han bruker det som en samlebetegnelse p\u00e5 alt han hater.</p>\n",
        "<p class=\"spm\">\u2013 Dawkins, Harris og Hitchens peker ogs\u00e5 p\u00e5 urett i dag, som \u00e5 bli d\u00f8mt til d\u00f8den for konvertering fra islam, eller at kristne fundamentalister ivrer etter atomkrig fordi det vil fullbyrde profetier i Johannes \u00e5penbaring.</p>\n",
        "<p class=\"spm\">\u2013 Dette er selvsagt grusomt, og jeg vil v\u00e6re den st\u00f8rste kritikeren av alle. Men kanskje f\u00e5r jeg som er p\u00e5 innsiden litt mer jeg skulle ha sagt. Ingen vil h\u00f8re p\u00e5 Dawkins, fordi de ikke respekterer ham fra f\u00f8r. Derfor trenger vi mer nyansert dialog, og ikke disse enfoldige angrepene.</p>\n",
        "<p class=\"spm\">\u2013 Vi har nylig hatt debatter b\u00e5de om reservasjonsrett og homofilt ekteskap, der de konservative synene er religi\u00f8st begrunnet. Dagsavisens Hege Ulstein skrev en krass kommentar der hun var bekymret for religionens samfunnsp\u00e5virkning. Forst\u00e5r du noen av bekymringene?</p>\n",
        "<p class=\"spm\">\u2013 Ja, jeg forst\u00e5r dem, men det er lov \u00e5 sette seg inn i motstanderens perspektiv i stedet for \u00e5 tenke at en selv har en n\u00f8ytral utgangsposisjon. Alle argumenterer ut fra en virkelighetsforst\u00e5else, og da vil noen standpunkter f\u00f8lge av denne. Ulstein kan selvsagt synes at grunnsynet er uforsvarlig \u2013 da er vi i gang med en konstruktiv diskusjon. Men hun kan ikke si at det er \u00abreligi\u00f8s logikk\u00bb og derfor feil.</p>\n",
        "<p class=\"spm\">\u2013 Beklager fordommen, men du er antakelig en av f\u00e5 \u00f8konomistudenter ved BI som bruker fritiden p\u00e5 gudsbevis i klassisk filosofi?</p>\n",
        "<p class=\"spm\">\u2013 Hva? Jeg trodde alle p\u00e5 BI var hypa p\u00e5 klassisk filosofi. Nei, det er en merkelig kombinasjon. Men jeg synes det abstrakte ved filosofi og det praktiske ved gr\u00fcnderskap g\u00e5r perfekt sammen. P\u00e5 et vis er vi jo alle filosofer \u2013 det handler om \u00e5 finne det rasjonelle grunnlaget for at man opplever og handler som man gj\u00f8r. Som gr\u00fcnder og sivil\u00f8konom h\u00e5per jeg p\u00e5 en framtid der gudsdebatter ikke tar opp all tiden min, men jeg ble p\u00e5 et vis \u00abprovosert\u00bb inn i dette.</p>"
       ],
       "metadata": {},
       "output_type": "display_data",
       "text": [
        "<IPython.core.display.HTML at 0x7fa66aea4198>"
       ]
      },
      {
       "html": [
        "<p class=\"txt\">Noen episoder fra ungdomsskolen har brent seg fast i minnet, gudene vet hvorfor. I en av dem er KRL-timen nettopp ferdig, og jeg er p\u00e5 vei opp til kateteret, i min ungdoms selvtilfredshet, til den h\u00f8yreiste l\u00e6reren med tykke, hvite \u00f8yenbryn og mild stemme, for \u00e5 fortelle ham hvorfor troen hans p\u00e5 Gud er feilsl\u00e5tt og irrasjonell.</p>\n",
        "<p class=\"txt\">Mitt livssyn har forandret seg lite siden den gang. Likevel f\u00e5r jeg en flau smak i munnen av \u00e5 tenke p\u00e5 episoden: Det arrogante i \u00e5 skulle veilede min l\u00e6rer til en riktigere sti her i livet, i \u00e5 besvare en slik problemstilling p\u00e5 noen minutter - ved hjelp av filosofi fra skoleg\u00e5rden.</p>\n",
        "<p class=\"txt\">Hva er det med trangen til \u00e5 skulle overbevise?</p>\n",
        "<p class=\"txt\">I 1976 m\u00f8ttes den ateistiske filosofen Anthony Flew og teologen Thomas Warren til debatt i Texas, USA. Over fire kvelder, foran tusenvis av tilskuere, skulle de kun diskutere ett sp\u00f8rsm\u00e5l: Finnes Gud, eller finnes han ikke?</p>\n",
        "<p class=\"txt\">Retorisk sett ble den forsiktige og stotrende Flew overkj\u00f8rt av sin rakryggede, advokat-aktige motstander, som konfronterte Flew med den ene forberedte plansjen etter den andre. P\u00e5 sine eldre dager ga Flew ut boken <I>There is a God</I>, tilsynelatende konvertert. Troende ser p\u00e5 det som en seier; en mann som ble ledet den rette vei. Ikke-troende har hevdet at boken ble skrevet for ham, uten at den gamle og demente Flew forstod hva han satte navnet sitt p\u00e5. De henviser til andre religionsdebatter i stedet.</p>\n",
        "<p class=\"txt\">Lar vi oss egentlig rikke i v\u00e5re overbevisninger? Med den s\u00e5kalte \u00abnyateismen\u00bb som ble tydelig etter \u00e5rtusenskiftet, virker frontene steilere enn noen gang. En ateisme uten silkehansker, harmdirrende i religionskritikken, hyllende av vitenskapen og fornuften, b\u00e5ret frem av personer som Richard Dawkins, Sam Harris og Christopher Hitchens. Hellig overbevist, og med \u00f8nske om \u00e5 p\u00e5virke. Sam Harris, utdannet i filosofi og nevrovitenskap, har skrevet at noen forestillinger er s\u00e5 gale og urokkelige at det kan v\u00e6re etisk forsvarlig \u00e5 drepe folk som har dem. For \u00e5 forhindre katastrofale handlinger.</p>\n",
        "<p class=\"txt\">Det er noe sirkul\u00e6rt over v\u00e5re trosdebatter. Da Oslo Kristelige Studentlag arrangerte \u00abGrill en kristen\u00bb under Skepsis-uka p\u00e5 Blindern i mars, var det f\u00f8rste sp\u00f8rsm\u00e5let til panelet en god illustrasjon: Hvis Gud er allmektig, kan han skape en stein som er s\u00e5 tung at han selv ikke kan l\u00f8fte den? Paradokset ble diskutert av filosofen Thomas Aquinas allerede p\u00e5 1200-tallet. Vi blir tilsynelatende ikke ferdige med det.</p>\n",
        "<p class=\"txt\">Allikevel er debattene viktige. Mye fordi de involverer en rekke <I>andre</I> viktige sp\u00f8rsm\u00e5l: Om hva vi legger til grunn for v\u00e5r forst\u00e5else av virkeligheten, hvordan vi m\u00f8ter andres perspektiver og hvor vi er p\u00e5 vei. Dette er sp\u00f8rsm\u00e5l som har blitt aktualisert av \u00abnyateismens\u00bb kritikk, og av de som har tatt til motm\u00e6le.</p>\n",
        "<p class=\"txt\">Et av disse sp\u00f8rsm\u00e5lene er hva vi mener med <I>tro</I>. G\u00e5r det en klar grense mellom tro og harde fakta? Selv om det er utallige veier til gudstro, virker jo denne troen vesenforskjellig fra kunnskap som er basert p\u00e5 systematisk og streng empirisk dokumentasjon. Men mange troende synes ikke det empiriske skattkammeret svarer tilfredsstillende p\u00e5 sp\u00f8rsm\u00e5l som hvordan vi finner <I>det gode</I>, eller hva som gj\u00f8r oss til tenkende, helhetlige mennesker. Teolog Michael Green sa det slik under \u00abSkepsis-uka\u00bb: Du finner ikke altruisme i en haug med molekyler. Nuvel. Det er i hvert fall kinkig \u00e5 forklare hvordan det oppst\u00e5r.</p>\n",
        "<p class=\"txt\">I <I>The God Delusion</I> skriver Dawkins at jo h\u00f8yere en persons intelligens er, desto mindre sannsynlig er det at hun er religi\u00f8s eller har tro av noen type. Men uten tro p\u00e5 noe som helst, hva er det som driver et engasjement for demokrati og menneskerettigheter? Man kan lure p\u00e5 hvordan menneskeverdet ser ut i mikroskopet. For \u00e5 sp\u00f8rre som litteraturviter Terry Eagleton: Hvis \u00abnyateistene\u00bb ikke har et uforanderlig trossystem selv, betyr de at de er villige til \u00e5 gi slipp p\u00e5 individets frihet, eller p\u00e5 avsmaken mot selvmordsbombere?</p>\n",
        "<p class=\"txt\">Og hvorfor skal akkurat fornuften f\u00e5 f\u00f8rsterett? Det er vanskelig \u00e5 besvare uten hjelp fra noe annet enn fornuften selv.</p>\n",
        "<p class=\"txt\">I dag tar vi et klart skille mellom tanker og f\u00f8lelser for gitt. Mellom det rasjonelle og ikke-rasjonelle. Feministen og forfatteren Susan Sontag s\u00e5 skillet som konstruert: Tanker og f\u00f8lelser er former av hverandre. Vi tenker mer med de instrumentene kulturen v\u00e5r gir oss, enn med v\u00e5re isolerte hjerner.</p>\n",
        "<p class=\"txt\">Det er selvsagt mulig \u00e5 v\u00e6re uenig med Sontag, men det virker vanskelig \u00e5 komme utenom de kulturelle sidene ved v\u00e5r forst\u00e5else av virkeligheten. Et rent \u00abvitenskapelig\u00bb verdensbilde er derfor ikke en verdin\u00f8ytral avvisning av alt annet \u2013 det involverer identitet, kultur og f\u00f8lelser, det ogs\u00e5. Blar man opp i et tidsskrift som amerikanske <I>The Skeptical Inquirer</I>, er det lett \u00e5 se: Her snakkes det om \u00e5 \u00abtake action\u00bb, om \u00abaktivisme\u00bb, om \u00e5 promotere \u00abvitenskap, fornuft og sekul\u00e6re verdier\u00bb (er disse verdiene utledet vitenskapelig?). Her skal det sies at mye ved kristendommens rolle i USA i dag gj\u00f8r en viss mobilisering forst\u00e5elig.</p>\n",
        "<p class=\"txt\">I april skrev Universitas om presteutdanningen ved UiO, som har slitt med rekrutteringen de siste \u00e5rene. Lars Gule, tidligere generalsekret\u00e6r i Human-Etisk Forbund, er forn\u00f8yd: Han foreslo i 2010 \u00e5 legge ned hele Teologisk fakultet, fordi jobben til et universitet i det 21. \u00e5rhundre er \u00e5 \u00abutdanne folk p\u00e5 bakgrunn av faktiske og rasjonelle kunnskaper\u00bb.</p>\n",
        "<p class=\"txt\">Er det et ufravikelig kriterium for fagene som skal tilbys ved universitetet, at de kretser om bevisbar sannhet? Hva med litteraturvitenskapen? Der har vi ogs\u00e5 en teoretisk tradisjon bygget rundt historier om noe som egentlig ikke finnes. Er det en verdi i seg selv i \u00e5 utdanne folk til en tradisjon som er viktig for mange mennesker?</p>\n",
        "<p class=\"txt\">Den moderne ateismen er tett beslektet med opplysningstidens idealer, inkludert et bilde av v\u00e5r sivilisasjon i en slags kontinuerlig bevegelse framover. Her byttes myte ut med kunnskap, med vitenskapen som drivende motor. Her st\u00e5r det kvantifiserbare og h\u00e5ndfaste st\u00f8dig plantet i sentrum.</p>\n",
        "<p class=\"txt\">Dette har bidratt til mange av de viktigste teknologiske nyvinningene gjennom historien. Det preger v\u00e5r hverdag \u2013 hver dag. Den vitenskapelige metode er konsistent, n\u00f8yaktig og effektiv. Den gir oss en betydelig grad av forutsigbarhet. Opplysningstiden har ogs\u00e5 avlet den moderne liberalismen, og dermed en rekke friheter vi b\u00f8r prise oss lykkelige for. Men opplysningsidealet viser seg ogs\u00e5 ved \u00e5 kaste et kj\u00f8lig, moderne sl\u00f8r over de mindre \u00abrasjonelle\u00bb sidene av menneskenaturen.</p>\n",
        "<p class=\"txt\">Eksempler p\u00e5 at slike idealer st\u00e5r sterkt, dukker opp hele tiden. Da \u00abgenerasjon lydig\u00bb-debatten gikk i Aftenposten i h\u00f8st, skrev Aksel Braanen Sterri en kronikk ved navn \u00abVelkommen til opplysningstiden\u00bb (en merkverdig forsinket velkomst). Sterri var uenig i at dagens unge generasjon \u2013 \u00abden hyperrasjonelle fornuftsgenerasjonen p\u00e5 full fart framover\u00bb \u2013 mangler intellektuell nytenkning og et kollektivt politisk prosjekt. Det er troen p\u00e5 vitenskapen og datamengdene v\u00e5re som skal \u00abredde v\u00e5rt samfunn og v\u00e5r klode\u00bb, mens \u00abmarginale milj\u00f8er i Holbergprisens jury og de teologiske fakulteter\u00bb st\u00e5r p\u00e5 sidelinjen.</p>\n",
        "<p class=\"txt\">Det er \u00e5penbart et behov for \u00e5 redde samfunn og klode, og vitenskapen er her en helt essensiell brikke. Men bildet blir at problemene l\u00f8ser seg bare vi f\u00e5r tak i <I>nok data</I> og skyver det \u00abovertroiske\u00bb lengst mulig bort. Glemt blir de etiske sidene av slike problemer, hvordan de er festet i dypere samfunnsstr\u00f8mninger. For eksempel i de <I>kaldere</I> sidene av den moderne liberale tradisjonen: Et moralsystem preget av \u00f8kende individualisering og oppl\u00f8sing av solidaritet, med en tynn og kontraktaktig forst\u00e5else av frihet og demokrati.</p>\n",
        "<p class=\"txt\">Religi\u00f8s tro trenger selvsagt ikke medf\u00f8re overlegen etisk bevissthet. Forfatter Zadie Smith pekte nylig p\u00e5 en ekstremversjon av dette i Morgenbladet: Visse kristne har funnet et smutthull i Skapelsen for \u00e5 slippe \u00e5 tenke milj\u00f8vennlig. Fordi Gud plasserte oss over dyr og planter og hav, \u00abkan vi med ren samvittighet la alle de tingene dra til helvete\u00bb.</p>\n",
        "<p class=\"txt\">Dawkins sammenlikner menneskets blikk p\u00e5 verden med den lille glippen i en stor, sort burka. Vitenskapen \u00e5pner opp glippen og sender oss ut i friheten. Men det er ingen selvf\u00f8lge at vi blir <I>utelukkende</I> friere av \u00e5 riste vekk all overtro og alle myter. Den kollektive avskjeden av Gud som eksternt referansepunkt har etterlatt et tomrom. Vi fors\u00f8ker \u00e5 fylle det med individet selv, noe som viser seg vanskelig. Kanskje er dagens gl\u00f8dende nasjonalisme i Europa et annet fors\u00f8k p\u00e5 det samme. Eller, for den saks skyld, det n\u00e6rmest ideologiske engasjementet for det kvantifiserbare, h\u00e5ndfaste og sikre.</p>\n",
        "<p class=\"txt\">Jeg husker ikke hva l\u00e6reren min svarte meg den gangen i klasserommet. Kanskje var jeg ikke interessert i \u00e5 h\u00f8re, kanskje var argumentene hans d\u00e5rlige. Men det var neppe s\u00e5 enkelt at bare jeg hadde klart \u00e5 v\u00e6re rasjonell.</p>"
       ],
       "metadata": {},
       "output_type": "display_data",
       "text": [
        "<IPython.core.display.HTML at 0x7fa66aea4198>"
       ]
      },
      {
       "html": [
        "<p class=\"txt\">EKSAMENSEVAKUERING: Til sammen 150 studenter m\u00e5tte forlate eksamenslokalene sine ved Universitetet i Troms\u00f8 \u2013 Norges arktiske universitet da brannalarmen gikk tirsdag ettermiddag. \u00c5rsaken til at alarmen gikk var et toastjern som ikke var sl\u00e5tt av, melder nrk.no.</p>\n",
        "<p class=\"txt\">\u2013 Jeg har forst\u00e5else for beslutningen til universitetsledelsen, men det er samtidig veldig frustrerende. Dette var min siste eksamen f\u00f8r jeg skulle ta sommerferie, men n\u00e5 m\u00e5 jeg lese mer og forberede meg \u00e5 en ny eksamen, sier psykologistudent Maja Bergman til NRK.</p>\n",
        "<p class=\"txt\">Hun forteller videre at det f\u00f8les helt forferdelig, og at hun \u00abaldri har v\u00e6rt s\u00e5 sint p\u00e5 et toastjern\u00bb.</p>"
       ],
       "metadata": {},
       "output_type": "display_data",
       "text": [
        "<IPython.core.display.HTML at 0x7fa66aea4198>"
       ]
      },
      {
       "html": [
        "<p class=\"txt\">FYLLEANGST: En altamann (33) er illagt en bot p\u00e5 kroner 7000 etter at han i \u00ab\u00e5penbar beruselse\u00bb skjelte ut en politibetjent og en politistudent. Det melder altaposten.no.</p>\n",
        "<p class=\"txt\">I mai i fjor at bisto politiet mannen med \u00e5 komme seg hjem, men politibetjenten og studenten ble ikke m\u00f8tt med s\u00e6rlig mye takknemlighet for dette.</p>\n",
        "<p class=\"txt\">Han hisset seg opp og kastet en \u00f8lboks etter politibilen, og ga klar beskjed om at de kunne \u00abdra til helvete\u00bb.</p>\n",
        "<p class=\"txt\">Politih\u00f8gskolestudenten som var med p\u00e5 oppdraget ble kalt for en \u00abj\u00e6vla nynazist\u00bb.</p>\n",
        "<p class=\"txt\">I tillegg b\u00f8telegges mannen for \u00e5 ha nektet \u00e5 oppgi personalia.</p>\n",
        "<p class=\"txt\">Mannen m\u00e5 ut med kroner 7000 for forseelsen, eventuelt 14 dager i fengsel, melder altaposten.no</p>"
       ],
       "metadata": {},
       "output_type": "display_data",
       "text": [
        "<IPython.core.display.HTML at 0x7fa66aea4198>"
       ]
      },
      {
       "html": [
        "<p class=\"txt\">GHETTO: Etter 1980 er det Osloborgerne med mest kulturell kapital som har klumpet seg sammen, slik at hovedstaden har blitt enda mer segregert. Dette viser studien til J\u00f8rn Ljunggren og Patrick Lie Andersen, fra henholdsvis UiO og forskningsinstituttet NOVA. De har gjort analyser av inntekts- og bosettingsm\u00f8nsteret til Oslo-ungdommer i 1980, og i perioden mellom 1993 og 2005. Det er f\u00f8rst og fremst de aller rikeste som bor for seg selv og aldri omg\u00e5s de fattigste i Oslos \u00f8stlige bydeler, som f\u00f8lge av en overgang fra en sosialdemokratisk til en mer liberal boligpolitikk, viser forskerne. \u2013 De med lave inntekter kan jo ikke bestemme seg for \u00e5 flytte vestover. Hvis vi vil gj\u00f8re noe med skillene i Oslo, mener vi at ogs\u00e5 de gyldne ghettoene b\u00f8r f\u00e5 oppmerksomhet, sier Ljunggren til forskning.no.</p>"
       ],
       "metadata": {},
       "output_type": "display_data",
       "text": [
        "<IPython.core.display.HTML at 0x7fa66aea4198>"
       ]
      },
      {
       "html": [
        "<p class=\"txt\">NETTSKOLE: Norges f\u00f8rste massive, \u00e5pne onlinekurs ved NTNU har blitt fulgt av n\u00e6rmere 1000 personer siden h\u00f8sten 2012. Digitalpion\u00e9ren Arne Krokan st\u00e5r bak Mooc-en (Massive Open Online Course) i emnet \u00abTeknologiutvikling og samfunnsendring\u00bb. Professoren hadde m\u00e5l om \u00e5 f\u00e5 400 f\u00f8lgere til kurset, der seminarer, kollokvier, forelesninger og pr\u00f8ver blir lagt ut gratis p\u00e5 nett. Eliteuniversitetet Harvard vil de neste fem \u00e5rene investere rundt 30 milliarder kroner i \u00e5 utvikle det nye konseptet, og Krokans budskap er at norske universiteter m\u00e5 f\u00f8lge med p\u00e5 utviklingen. \u2013 Vi er ett av f\u00e5 land i verden som fortsatt tilbyr gratis utdanning. I tillegg er utdanningssystemet ogs\u00e5 en del av det distriktspolitiske virkemiddelapparatet. Ute i verden ser det helt annerledes ut, sier Krokan til Universitetsavisa.</p>"
       ],
       "metadata": {},
       "output_type": "display_data",
       "text": [
        "<IPython.core.display.HTML at 0x7fa66aea4198>"
       ]
      },
      {
       "html": [
        "<p class=\"txt\">KJ\u00d8NNSDEBATT: Som en del av kampanjen \u00abLift the skirt\u00bb, protesterte flere mannlige elever ved videreg\u00e5ende skoler i den franske Nantes-regionen f\u00f8r helgen. Ved \u00e5 g\u00e5 i skj\u00f8rt p\u00e5 skolen \u00f8nsket guttene \u00e5 bekjempe sexisme. \u2013 Jeg synes ikke det var noe problem \u00e5 g\u00e5 med skj\u00f8rt, og hvis det kan f\u00f8re til noe godt er det bare bra, sa en av de skj\u00f8rtkledde gutta til Euronews. Ved en av skolene m\u00f8tte 150 demonstranter fram for \u00e5 vise sin avsky, der mange kom fra organisasjonen <i>Manif pour tous</i> \u2013 som kjemper hardt mot likekj\u00f8nnet ekteskap. Gruppene hevdet skj\u00f8rtestuntet var \u00aben homoseksuell konspirasjon for \u00e5 fornekte kj\u00f8nnsforskjeller\u00bb, if\u00f8lge Svenska Dagbladet. Demonstrantene sprayet slagord p\u00e5 skolemurene og br\u00e5k oppstod med elevene, som svarte ved \u00e5 kaste tomater tilbake.</p>"
       ],
       "metadata": {},
       "output_type": "display_data",
       "text": [
        "<IPython.core.display.HTML at 0x7fa66aea4198>"
       ]
      },
      {
       "html": [
        "<p class=\"txt\">Hva er n\u00f8kkelen til kunnskapsskolen? L\u00e6rerne. Ingenting er viktigere enn en god l\u00e6rer. En som er faglig sterk, ser elevene og inng\u00e5r i et sterkt profesjonsmilj\u00f8 med andre l\u00e6rere. En masterutdanning er en styrking av l\u00e6rerutdanningen og dermed et viktig bidrag til kunnskapsskolen. En masterutdanning m\u00e5 ikke bli str\u00f8mlinjeformet, og det er ingen motsetning mellom en slik utdanning og praksis. Vi er fortsatt avhengige av enda tettere kontakt mellom studiestedene og skolen.</p>\n",
        "<p class=\"txt\">TINGOEn masterutdanning gir mulighet til grundigere faglig fordypning, og til \u00e5 tilegne seg innsikt som kan legge grunnlaget for enda bedre undervisning i fremtiden. I profesjonsutdanninger gj\u00f8r man masterarbeidet i tett tilknytning til praksis. Det er derfor feil \u00e5 anta at en masterutdanning n\u00f8dvendigvis vil inneb\u00e6re un\u00f8dvendig teoretisering.</p>\n",
        "<p class=\"txt\">TINGOFinske l\u00e6rere har som f\u00f8lge av sin solide l\u00e6rerutdanning kunnet kreve mer frihet i ut\u00f8velsen av l\u00e6rerrollen. Etter at den finske l\u00e6rerutdanningen ble omgjort til masterutdanninger mot slutten av 1970 tallet, har l\u00e6reryrkets anseelse \u00f8kt gradvis. Dette er en av de viktigste faktorene for \u00e5 forklare hvorfor l\u00e6rerutdanningen er s\u00e5 popul\u00e6r i Finland.</p>\n",
        "<p class=\"txt\">TINGODet er derfor ikke uten grunn av b\u00e5de Utdanningsforbundet og Pedagogstudentene st\u00f8tter regjeringens forslag om \u00e5 innf\u00f8re master for l\u00e6rerutdanningene.</p>"
       ],
       "metadata": {},
       "output_type": "display_data",
       "text": [
        "<IPython.core.display.HTML at 0x7fa66aea4198>"
       ]
      },
      {
       "html": [
        "<p class=\"txt\">\u2013 Niqaben har ikke v\u00e6rt problematisk i skolesammenheng tidligere. Jeg har f\u00e5tt mye blikk og oppmerksomhet, men universitetet var det eneste stedet hvor jeg ikke f\u00f8lte meg rar, sier Somia Salaouatchi, student ved Universitetet i Oslo (UiO) til Universitas.</p>\n",
        "<p class=\"txt\">Etter endt eksamen desember 2013 fikk Salaouatchi en telefon fra studieveilederen sin. Det var da hun fikk vite at hun ikke lenger kan bruke heldekkende hodeplagg utover vanlige forelesninger. Salaouatchi sendte en mail til avdelingslederen, som igjen skal ha kontaktet instituttlederen.</p>\n",
        "<p class=\"txt\">\u2013 Jeg fikk et m\u00f8te i januar hvor ledelsen skulle gi meg de faglige begrunnelsene. Jeg var veldig spent p\u00e5 det m\u00f8tet. Men de hadde ingen gode begrunnelser, sier Salaouatchi.</p>\n",
        "<p class=\"mt\">Niqab-dom i Frankrike</p>\n",
        "<p class=\"txt\">Bruk av niqab har v\u00e6rt mye diskutert den siste uken, etter at det p\u00e5 tirsdag falt en dom i Den europeiske menneskerettighetsdomstol i Strasbourg. Saken gjaldt en 24 \u00e5r gammel fransk kvinne som har reist sak mot Frankrikes forbud mot plagget. Domstolen konkluderte med at Frankrikes forbud ikke strider mot Den europeiske menneskerettskonvensjonen. Dermed st\u00e5r d\u00f8ren \u00e5pen for at plagget kan forbys ogs\u00e5 i andre land som Norge.</p>\n",
        "<p class=\"mt\">\u2013Faglig begrunnelse</p>\n",
        "<p class=\"txt\">Berit Rognhaug, leder ved Institutt for spesialpedagogikk (ISP) understreker at vedtaktet er faglig begrunnet.</p>\n",
        "<p class=\"txt\">\u2013 Totalkommunikasjon er et b\u00e6rende prinsipp i spesialpedagogisk arbeid, sier hun.</p>\n",
        "<p class=\"txt\">Samtidig p\u00e5peker hun at ISP ikke har innf\u00f8rt et forbud mot bruk av niqab, men at studentene i visse situasjoner m\u00e5 l\u00f8fte sl\u00f8ret fra ansiktet.</p>\n",
        "<p class=\"txt\">If\u00f8lge Rognhaug vil vedtaket  gj\u00f8re det mulig for nye studenter \u00e5 vite hva de har \u00e5 forholde seg til n\u00e5r man s\u00f8ker seg inn til studieprogrammet.</p>\n",
        "<p class=\"txt\">\u2013 <i>I hvilke situasjoner vil bruken av niqab v\u00e6re problematisk?</i></p>\n",
        "<p class=\"txt\">\u2013 For eksempel n\u00e5r det kommer til problembasert l\u00e6ring, seminarvirksomhet og egentrening i r\u00e5dgivning. Totalkommunikasjon er noe av det viktigste vi jobber med, og det omfatter ord, stemme, h\u00f8rsel og blikk s\u00e5 vel som gester og mimikk.</p>\n",
        "<p class=\"txt\">Rognhaug gj\u00f8r det klart at vedtaket ikke har noe med religion \u00e5 gj\u00f8re.</p>\n",
        "<p class=\"txt\">\u2013 P\u00e5 Blindern st\u00e5r man fri til \u00e5 ha p\u00e5 hva man vil, og det synes jeg er flott! Men faglige krav skal ikke vike, det er det som er v\u00e5r policy, avslutter Rognhaug.</p>\n",
        "<p class=\"mt\">F\u00e5r ikke fullf\u00f8rt</p>\n",
        "<p class=\"txt\">Salaouatchi sier det som provoserer henne mest er at niqab-vedtaket ble gjort i skjul.</p>\n",
        "<p class=\"txt\">\u2013 Jeg hadde ikke noe jeg skulle ha sagt. Jeg kan snakke, jeg har ikke problemer med \u00e5 uttrykke meg, og har aldri m\u00f8tt p\u00e5 noen som ikke skj\u00f8nner hva jeg mener eller pr\u00f8ver \u00e5 komme frem til, sier Salaouatchi.</p>\n",
        "<p class=\"txt\">Per i dag kan Salaouatchi kun bruke niqab under forelesninger og veiledning og p\u00e5 campus. Dermed f\u00e5r hun ikke f\u00e5r fullf\u00f8rt studieprogammet uten \u00e5 l\u00f8fte p\u00e5 sl\u00f8ret.</p>\n",
        "<p class=\"txt\">\u2013 Jeg har ikke sluttet, men har kommet til enighet med studieveileder om at jeg skal bygge opp en egendefinert bachelor. Det er veldig synd, men s\u00e5nn er det, sier Salaouatchi.</p>\n",
        "<p class=\"txt\">Sammen med Rahma S\u00f8vik, tidligere student ved Universitetet i Troms\u00f8, har Salaouatchi skrevet kronikken <i>Fakultetet som skulle se muligheter</i>, der de g\u00e5r ut mot UiOs rekrutteringskampanje \u00abAlle har noe stort i seg\u00bb.</p>"
       ],
       "metadata": {},
       "output_type": "display_data",
       "text": [
        "<IPython.core.display.HTML at 0x7fa66aea4198>"
       ]
      },
      {
       "html": [
        "<p class=\"txt\">TINGO\u00abAlle har noe stort i seg\u00bb, lyder rekrutteringskampanjen til Universitetet i Oslo, h\u00f8sten 2013. Teksten akkompagneres med store bilder av smilende ansikter som skal illustrere det brede mangfoldet blant studentene. Alle unike og flotte, og alle med noe spesielt \u00e5 bidra med til universitetet og samfunnet. Kvinnelige studenter i niqab, har vist seg \u00e5 v\u00e6re en ikke like selvf\u00f8lgelig del av dette mangfoldet.</p>\n",
        "<p class=\"txt\">TINGOI det stille valgte instituttet for spesialpedagogikk ved UiO, rett f\u00f8r juleferien 2013, \u00e5 bli Norges f\u00f8rste institutt med forbud mot niqab. Forbudet rammer ikke forelesningssituasjoner, men gruppesamarbeid, seminarer og praksis; arenaer som studentene m\u00e5 delta p\u00e5 for \u00e5 f\u00e5 fullf\u00f8rt utdanningen.</p>\n",
        "<p class=\"txt\">If\u00f8lge fakultetsstyret, opplevde de et behov for debatt. Debatten ende med et forbud. Til tross for at et forbud bare rammer en enkelt student, en av undertegnede, kom nyheten som lyn fra klar himmel. Hva ble plutselig problematisk? Hvor er den faglige begrunnelsen? Ikke minst, hvordan foregikk beslutningsprosessen? Hvordan kunne den foreg\u00e5 uten at studenten selv ble involvert? Studenten m\u00e5tte selv kontakte styret og be om et m\u00f8te. Under dette m\u00f8tet, la fakultetets leder frem begrunnelser vi mener trenger dagslys.</p>\n",
        "<p class=\"txt\">TINGODet ble sagt at arbeidsmarkedet ikke vil ha folk med niqab. Det ble sagt at forbudet var en prinsippsak, og derfor ikke noe studenten skulle ta personlig. Det ble lagt til at bruk av niqab strider imot behovet for helhetlig kommunikasjon. Et av eksemplene som ble lagt frem, er at d\u00f8ve kan nektes \u00e5 bli terapeut p\u00e5 psykologilinjen, fordi de i en terapitime vil ha behov for d\u00f8vetolk. Slik vi ser det, er d\u00f8ve studenter, uavhengig av hvilke fag de fordyper seg i, en ressurs for samfunnet, og spesielt for de d\u00f8ve. En d\u00f8v psykolog eller terapeut, m\u00e5 bruke tolk i terapisamtaler, med mindre vedkommende behersker leppelesing og kan styre stemmen sin. Tolk i terapitimer er derfor ikke et uvanlig syn. En d\u00f8v psykolog vil v\u00e6re en stor ressurs, ikke bare faglig sett. Alle mennesker har et behov for \u00e5 f\u00f8le seg representert; \u00e5 m\u00f8te p\u00e5 mennesker man kjenner seg igjen i: Kompetanse innenfor ulike fagfelt m\u00e5 ogs\u00e5 besittes av de unormale.</p>\n",
        "<p class=\"txt\">Slik vi ser det, viser argumentene en tydelig mangel p\u00e5 gode argumenter. Kanskje trenger vi en bredere meningsutveksling om hvor beslutningstagninger av denne art, b\u00f8r ligge?</p>\n",
        "<p class=\"txt\">TINGODet er sv\u00e6rt f\u00e5 muslimske kvinner i Norge som bruker niqab. Vi har kjennskap til de aller fleste, og majoriteten av disse er ute i jobb eller under utdanning. Generelt oppleves arbeidsmarkedet som t\u00f8ft, men grad av p\u00e5kledning er ikke n\u00f8dvendigvis et hinder. Studenten som ble ber\u00f8rt av forbudet fikk flere jobbtilbud h\u00f8sten 2013; jobber som alle innebar tett kontakt med mennesker. Arbeidsgiverne s\u00e5 hennes ressurser og fokuserte p\u00e5 mulighetene.</p>\n",
        "<p class=\"txt\">TINGOArbeidsmarkedet er langt fra firkantet. Mulighetene er mange, ogs\u00e5 for spesialpedagoger. Med et forbud velger fakultetsstyret \u00e5 utestenge studenten fra disse mulighetene, samt hindres samfunnet i \u00e5 h\u00f8ste av hennes ressurser. Spesialpedagoger kan lage dataprogrammer med spesialpedagogisk fokus. De kan jobbe med sterkt synsvake eller blinde, som ikke har syn til \u00e5 la legge seg opp en mening om sin spesialpedagogs bekledning. En spesialpedagog kan jobbe med en-til-en taleveiledning, avskjermet fra omgivelsene. I en slik sammenheng vil niqaben v\u00e6re l\u00f8ftet.</p>\n",
        "<p class=\"txt\">TINGOInstituttet for Spesialpedagogikk l\u00e6rer sine studenter \u00e5 v\u00e6re sensitive overfor menneskers ulikheter, og at ulikheter krever ulike tiln\u00e6rminger. Studentene l\u00e6rer hvordan mange blir ansett som avvikere grunnet samfunnets konstruksjon av de normale. Derfor overrasker vedtaket ogs\u00e5 medstudenter som har f\u00e5tt kjennskap til forbudet.</p>\n",
        "<p class=\"txt\">TINGODet lar seg fint gj\u00f8re \u00e5 finne en passende praksisplass. Det meste lar seg l\u00f8se om man har en vilje til \u00e5 se mulighetene, og til \u00e5 fokusere p\u00e5 de ressursene den enkelte student har.</p>\n",
        "<p class=\"txt\">TINGOStudenten opplever studiehverdagen p\u00e5 fakultetet som sv\u00e6rt trivelig, \u00e5pen og inkluderende. Kommunikasjonen og samarbeidet fungerer bra mellom studenter og professorer. Vi har et h\u00e5p om at instituttet innser hvor viktig og verdifullt det er med et synlig og reelt mangfold, ogs\u00e5 blant de uteksaminerte studentene. Vi har tro p\u00e5 at UiO sitt verdigrunnlag oppfordrer dets ansatte til \u00e5 finne andre m\u00e5ter \u00e5 l\u00f8se problemstillinger p\u00e5 enn ved \u00e5 innf\u00f8re forbud.</p>\n",
        "<p class=\"txt\">TINGOEn avvisning av studenter p\u00e5 bakgrunn av bekledning, blottet for \u00e5penhet, og ivaretagelse av - og respekt for studenten, h\u00f8rer ikke hjemme ved noen av Norges utdanningsinstitusjoner. At studentrepresentanter ble inkludert i m\u00f8tene f\u00f8r forbudet ble vedtatt, holder ikke. Det er for \u00f8yeblikket \u00e9n student med niqab p\u00e5 UiO: Ingen kan representere denne studenten like godt og presist som studenten selv.</p>"
       ],
       "metadata": {},
       "output_type": "display_data",
       "text": [
        "<IPython.core.display.HTML at 0x7fa66aea4198>"
       ]
      },
      {
       "html": [
        "<p class=\"txt\">Professor og valgforsker Frank Aarebrot mener det er alt for milde straffer for juks.</p>\n",
        "<p class=\"txt\">\u2013 De som jukser, burde kastes ut. Det eneste samfunnet kan stole p\u00e5 under ansettelser, er sertifikatene fra skolene, sier professoren.</p>\n",
        "<p class=\"txt\">Han syns det er negativt at s\u00e5 mange som \u00e9n av \u00e5tte studenter oppgir at de ville ha jukset dersom det ikke var fare for \u00e5 bli tatt.</p>\n",
        "<p class=\"txt\">\u2013 Det er ille at s\u00e5pass mange ville ha fremstilt seg som bedre enn de er, n\u00e5r de skal ut i samfunnet, sier han.</p>\n",
        "<p class=\"txt\">Leder Ola Rydje i NSO er enig.</p>\n",
        "<p class=\"txt\">\u2013 Det er forferdelig at folk jukser. Jeg syns det er viktig at institusjonene har gode systemer for \u00e5 ta jukserne, sier han.</p>\n",
        "<p class=\"tit\">Flest Frp-ere ville juksa</p>\n",
        "<p class=\"txt\">Juks</p>\n",
        "<p class=\"txt\">\u00abVille du ha juksa p\u00e5 eksamen eller obligatoriske innleveringer hvis du hadde visst at du ikke ble tatt?\u00bb \u2013 Ja, svarer hver fjerde Frp-velger. Det er mer enn dobbelt s\u00e5 mange som gjennomsnittet p\u00e5 12 prosent, og fem ganger s\u00e5 mange som blant MDG-velgerne. Det kommer fram i en unders\u00f8kelse Sentio har gjort blant studenter for Norsk studentorganisasjon (NSO) og Universitas denne m\u00e5neden.</p>\n",
        "<p class=\"mt\">\u2013 Mer u\u00e6rlige</p>\n",
        "<p class=\"txt\">\u2013 Unders\u00f8kelsen viser direkte at FrP-velgere er mer u\u00e6rlige enn gjennomsnittet, og at MDG-velgere er mer \u00e6rlige, sier Frank Aarebrot, professor i sammenlignende politikk ved Universitetet i Bergen.</p>\n",
        "<p class=\"txt\">Aarebrot mener det kan v\u00e6re en sammenheng mellom resultatene og partienes ideologi.</p>\n",
        "<p class=\"txt\">\u2013 Mennesker med individualistiske ideologier vil kanskje jukse mer enn de med kollektivistiske holdninger, sier Aarebrot, som selv er Ap-mann.</p>\n",
        "<p class=\"txt\">Siri Ulleberg, formann i Oslo FpU, er ikke enig med Aarebrot.</p>\n",
        "<p class=\"txt\">\u2013 Resultatene kan skyldes at Frp-velgerne er de eneste som er \u00e6rlige i unders\u00f8kelsen, sier hun.</p>\n",
        "<p class=\"mt\">\u2013 Logisk</p>\n",
        "<p class=\"txt\">Lage N\u00f8st, talsperson for Gr\u00f8nn Ungdom, mener det virker logisk at Frp-velgere ville jukset mye oftere enn MDG-velgere ut ifra deres ideologiske synspunkter.</p>\n",
        "<p class=\"txt\">\u2013 Jeg tenker at de som velger \u00e5 stemme MDG, gj\u00f8r det ut ifra en velutviklet rettferdighetssans og et etisk sinnelag.</p>\n",
        "<p class=\"txt\">Han mener Frp ikke legger skjul p\u00e5 at de har et materialistisk grunnsyn.</p>\n",
        "<p class=\"txt\">\u2013 Frp er opptatt av at man skal prestere for \u00e5 oppn\u00e5 materialistiske m\u00e5l. Mange MDG-velgere er mer opptatt av substansen i utdanningen. \u00c5 jukse vil dermed ha begrenset verdi for oss. Det er viktigere for oss \u00e5 l\u00e6re, sier han.</p>\n",
        "<p class=\"txt\">Ulleberg er uenig i at resultatene reflekterer materialistiske tendenser hos Frp-velgere, og tror dessuten ikke unders\u00f8kelsen er representativ.</p>\n",
        "<p class=\"txt\">\u2013 Jeg syns vi har fine verdier i Frp. Men N\u00f8st f\u00e5r mene det hvis han vil, sier hun.</p>\n",
        "<p class=\"mt\">Flere menn, unge og privatskolestudenter</p>\n",
        "<p class=\"txt\">Unders\u00f8kelsen viser ogs\u00e5 forskjeller knyttet til kj\u00f8nn, alder og skolevalg.</p>\n",
        "<p class=\"txt\">18 prosent av mennene i unders\u00f8kelsen svarer at de ville jukset hvis de hadde hatt muligheten, mot \u00e9n av ti kvinner. Yngre studenter er dessuten mer villige til \u00e5 jukse enn eldre studenter. Blant studenter ved private h\u00f8yskoler er det mer enn to av ti som ville valgt \u00e5 jukse p\u00e5 eksamen, alts\u00e5 nesten dobbelt s\u00e5 mange som gjennomsnittet.</p>"
       ],
       "metadata": {},
       "output_type": "display_data",
       "text": [
        "<IPython.core.display.HTML at 0x7fa66aea4198>"
       ]
      },
      {
       "html": [
        "<p class=\"fak1\">Shake The Curse</p>\n",
        "<p class=\"fak2\">Av: This Sect</p>\n",
        "<p class=\"fak2\">Plateselskap: Sect Appeal Records</p>\n",
        "<p class=\"txt\">Oslobandet This Sect ble til i 2003. I l\u00f8pet av fire \u00e5r rakk de \u00e5 spille inn hele tre EP-er og et livealbum, og de spilte en rekke konserter i Skandinavia. De siste syv \u00e5rene har det likevel v\u00e6rt lite \u00e5 h\u00f8re fra dem. <I>Shake The Curse</I> er This Sects f\u00f8rste fulle album og best\u00e5r av ti akkurat passe fengende l\u00e5ter, deriblant en nyinnspilling av den gamle radiohiten \u00abParty Like It's 1939\u00bb og en syv minutter lang power-ballade.</p>\n",
        "<p class=\"txt\">This Sect har ikke klart \u00e5 finne opp verken seg selv eller kruttet p\u00e5 nytt. Shake The Curse er ikke noe d\u00e5rlig album, men dette har man h\u00f8rt f\u00f8r, og sekten klarer dessverre ikke \u00e5 skille seg ut i jungelen av ambisi\u00f8se pop-punk-grupper. Musikalsk sett er det lite \u00e5 utsette p\u00e5, og det l\u00e5ter solid. Vokalist G\u00f8ran Karlsvik virker dog noe usikker i sin framf\u00f8ring, i det som framst\u00e5r som et ellers tight ensemble. Den til tider monotone vokalen gj\u00f8r at flere av l\u00e5tene h\u00f8res i overkant like ut. Det gjelder ogs\u00e5 den fengende singelen \u00abMake Shit Shine\u00bb. This Sect har likevel en tydelig definert sound og appellerer til b\u00e5de svorne fans og tilfeldige radiolyttere. Sounden er ikke unik, og det er heller ikke tekstene, som stort sett handler om livets store sirkel: f\u00f8dsel, liv og d\u00f8d. Til tross for mangel p\u00e5 s\u00e6regenhet passer dette temaet godt til This Sects angstfylte uttrykk.</p>\n",
        "<p class=\"txt\"><I>Shake The Curse</I> er kommersielt og P3-vennlig. Det duger ogs\u00e5 p\u00e5 et gjennomsnittlig ungdomsvorspiel, for det er lett \u00e5 la seg fenge. Bandet har energi s\u00e5 det holder, men likevel blir albumet litt ensformig og platt. Det er aldri d\u00e5rlig, men heller aldri mer enn helt greit.</p>"
       ],
       "metadata": {},
       "output_type": "display_data",
       "text": [
        "<IPython.core.display.HTML at 0x7fa66aea4198>"
       ]
      },
      {
       "html": [
        "<p class=\"txt\">Angrep p\u00e5 lik rett til utdanning</p>\n",
        "<p class=\"txt\">Utdanningskvalitet</p>\n",
        "<p class=\"txt\">Revidert statsbudsjett av 14. mai henviser til b\u00e5de den norske og den danske produktivitetskommisjonen. Regjeringen har d\u00e5rlig tid, og varsler angrep p\u00e5 utdanningssystemet lenge f\u00f8r kommisjonen har fullf\u00f8rt sitt arbeid.</p>\n",
        "<p class=\"txt\">Budsjettet henviser til to konkrete forslag fra Danmark:</p>\n",
        "<p class=\"txt\">For det f\u00f8rste skal studenter som velger utdanninger som gir gode sysselsettingsmuligheter og utsikter til h\u00f8y l\u00f8nn, f\u00e5 bedre studiest\u00f8tte enn de som velger annen utdanning. For det andre skal institusjoner for h\u00f8yere utdanning levere utdanning med h\u00f8y studieintensitet og h\u00f8y sysselsetting og l\u00f8nn. I tillegg har den danske kommisjonen foresl\u00e5tt \u00e5 innf\u00f8re skolepenger, at f\u00e6rre skal f\u00e5 mulighet til \u00e5 ta mastergrad, at s\u00f8kere skal f\u00e5 velge utdanning p\u00e5 basis av offentliggjorte rapporter om studiets progresjon, yrkesmuligheter og l\u00f8nn etter endt utdanning, og \u00e5 redusere antall studietilbud dersom blant annet arbeidsutsiktene er d\u00e5rlige.</p>\n",
        "<p class=\"txt\">Lederen av den norske kommisjonen, J\u00f8rn Ratts\u00f8, uttaler at et av sp\u00f8rsm\u00e5lene de stiller seg, er om studenter gj\u00f8r riktige valg n\u00e5r de tar utdanning. Mener virkelig Ratts\u00f8 at l\u00f8nnsniv\u00e5et etter endt utdanning er en god m\u00e5lestokk for utdanningskvalitet?</p>\n",
        "<p class=\"txt\">\u00c5 velge riktig studium er vanskelig for de fleste, og mange tenker sikkert ogs\u00e5 p\u00e5 hvordan l\u00f8nna vil kunne bli. Men dette b\u00f8r ikke v\u00e6re avgj\u00f8rende. Valget handler i stor grad om \u00e5 finne en utdanning som svarer til studentenes interesser og talent. Faglig motivasjon er avgj\u00f8rende for at de skal klare \u00e5 fullf\u00f8re studiene, samt finne et yrke de kan trives i og v\u00e6re \u00abproduktive\u00bb i, gjennom et langt livsl\u00f8p. Studievalg ut fra sysselsettingsstatistikker og l\u00f8nnsniv\u00e5 er en h\u00f8yst usikker gambling med de unges fremtid.</p>\n",
        "<p class=\"txt\">Norsk tjenestemannslag (NTL) ved UiO frykter at svarene til den norske kommisjonen allerede er gitt. Regjeringsplattformen viser at m\u00e5l nummer \u00e9n er nedbygging av offentlig sektor, som h\u00f8yere utdanning er en del av, slik at investeringene i det private n\u00e6ringslivet kan \u00f8ke. De har ogs\u00e5 valgt \u00e5 inkludere lederen av den danske kommisjonen i den norske.</p>\n",
        "<p class=\"txt\">NTL er en del av LO, og vi har alltid jobbet for \u00e5 sikre lik rett til utdanning. Dette skal bidra til \u00e5 utjevne sosiale forskjeller og sikre et h\u00f8yt kompetanseniv\u00e5. Og denne strategien har fungert godt. Norges arbeidstakere er h\u00f8yt utdannede, og vi ligger i verdenstoppen i produktivitet.</p>\n",
        "<p class=\"txt\">Vi vil ikke at utdanning kun skal vurderes i et produktivitetsperspektiv, og vi er motstandere av tiltak som \u00f8ker forskjellene mellom landets innbyggere. Finansministerens varslede tiltak vil sannsynligvis m\u00f8te stor motstand, og n\u00e5r svarene er forh\u00e5ndsgitte, er det ingen grunn til \u00e5 vente.</p>"
       ],
       "metadata": {},
       "output_type": "display_data",
       "text": [
        "<IPython.core.display.HTML at 0x7fa66aea4198>"
       ]
      },
      {
       "html": [
        "<p class=\"txt\">Kronikk</p>\n",
        "<p class=\"txt\">Jeg pratet lenge varmt om det \u00e5 f\u00e5 barn mens man studerer. Om all friheten. Jeg kunne v\u00e6re hjemme med barnet s\u00e5 lenge jeg \u00f8nsket, jeg hadde ingen som ville tvinge meg tilbake p\u00e5 arbeidsplassen etter et \u00e5r. N\u00e5r barnet en gang kom til \u00e5 begynne i barnehagen, kunne jeg hente tidlig, og heller bruke kveldene og helgene p\u00e5 \u00e5 studere. Men s\u00e5nn ble det ikke. I barnehagen florerer nemlig virusene, og lange perioder har blitt tilbragt hjemme. Alt det obligatoriske som er innbakt i studieprogrammet, gj\u00f8r at jeg har brukt de f\u00e5 timene jeg har til r\u00e5dighet til \u00e5 skaffe gyldig dokumentasjon for frav\u00e6r, og til \u00e5 f\u00e5 p\u00e5 plass spesialopplegg i de ulike fagene. Kvalitetsreformen, som tidligere var en helt naturlig del av studiehverdagen, gj\u00f8r det n\u00e5 umulig \u00e5 kombinere mammarollen med livet som fulltidsstudent.</p>\n",
        "<p class=\"mt\">Kvalitetsreformen har mislyktes</p>\n",
        "<p class=\"txt\">Kvalitetsreformen var en omfattende endring av h\u00f8yere utdanning som ble innf\u00f8rt ved norske universiteter og h\u00f8yskoler i 2003. Flere skulle bli fulltidsstudenter og fullf\u00f8re studiel\u00f8pet p\u00e5 normert tid. Ny gradsstruktur ble innf\u00f8rt, noe som forkortet studiel\u00f8pet med ett \u00e5r. Dette skulle kompenseres med lengre semestre, h\u00f8yere intensitet og en tettere oppf\u00f8lging av studentene. Eksamenene i slutten av semesteret ble supplert med innleveringsoppgaver og obligatoriske oppm\u00f8ter.</p>\n",
        "<p class=\"txt\">Som barnl\u00f8s, med ubegrenset tid, fungerte reformen. Man fikk oppskriften p\u00e5 hvordan man skulle oppn\u00e5 en god karakter, og ble steg for steg tvunget dit. Men etter at jeg ble mor, virket systemet med ett veldig rigid og lite fleksibelt. I f\u00f8lge Norsk studentorganisasjon (NSO) har hele en av fem studenter barn. For mange av disse er nettopp fleksibilitet p\u00e5 arbeidsplassen en n\u00f8kkelfaktor for \u00e5 f\u00e5 hverdagen til \u00e5 g\u00e5 rundt.</p>\n",
        "<p class=\"txt\">I 2006 kom sluttevaluering av Kvalitetsreformen, utarbeidet av Rokkansenteret og NIFU STEP. Evalueringen viser at kvalitetsreformen verken har bidratt til flittigere studenter eller tettere b\u00e5nd mellom studenter og studiested. Dessuten har studentene blitt mindre selvstendige og f\u00e5tt svekket evnen til kritisk lesning. Verken studenter med barn eller studenter med behov for tilrettelegging ser jeg nevnt spesielt i rapporten.</p>\n",
        "<p class=\"mt\">Er i en usynlig gruppe</p>\n",
        "<p class=\"txt\">Et google-s\u00f8k viser at studenter med ansvar for barn er en tiln\u00e6rmet usynlig gruppe. Nesten ingenting finnes av dokumenter p\u00e5 norsk. Kun Levek\u00e5rsunders\u00f8kelsen og L\u00e5nekassen har litt informasjon.</p>\n",
        "<p class=\"txt\">Unders\u00f8kelser jeg har deltatt i, som studentenes helse- og trivselsunders\u00f8kelse for studentsamskipnaden i Oslo (SIO), utf\u00f8rt av TNS gallup, har i liten grad fokus p\u00e5 den gruppen av studenter jeg tilh\u00f8rer. F\u00e5 sp\u00f8rsm\u00e5l gikk p\u00e5 hvordan det obligatoriske i studiehverdagen oppleves. Ingen lurte p\u00e5 hvordan det er \u00e5 studere og ha barn, om tidsklemma, stresset og f\u00f8lelsen av \u00e5 v\u00e6re til bry n\u00e5r man m\u00e5 mase om spesialopplegg.</p>\n",
        "<p class=\"mt\">Inntektsgivende arbeid prioriteres</p>\n",
        "<p class=\"txt\">Man kan argumentere for at mange kvinner i dag klarer kombinasjonen jobb og familie utmerket. Superkvinnene. De som har b\u00e5de tre og fire barn og jobber ti timer om dager. De som roper h\u00f8yt at alle kan klare en vanlig arbeidsdag, men som gjerne har b\u00e5de au pair og besteforeldre som kan ta i et tak n\u00e5r det trengs. Eller en mann med fleksibel arbeidstid. Problemet med studenter er at de ikke har noe inntektsgivende arbeid. St\u00f8tten fra L\u00e5nekassen f\u00e5r man tross alt utbetalt uansett om man best\u00e5r et fag eller ikke. Den eneste konsekvensen er at litt av stipendet blir omgjort til l\u00e5n. Derfor blir det ofte de som studerer, som m\u00e5 vike plass n\u00e5r det kniper i hjemmet. Dette kan fort bli en uvane. At det \u00e5 studere ikke blir rangert like h\u00f8yt som det \u00e5 jobbe. Dessuten har mange av de som f\u00e5r barn tidlig, fremdeles yrkesaktive foreldre som har nok med sitt, samtidig som en au pair er helt urealistisk sett ut i fra den \u00f8konomiske situasjonen.</p>\n",
        "<p class=\"mt\">M\u00e5 g\u00e5 igjennom reformen</p>\n",
        "<p class=\"txt\">N\u00e5 er det p\u00e5 tide at Kunnskapsdepartementet tar tak og ser igjennom reformen p\u00e5 nytt. Samfunnsdebatten er til tider dominert av en kollektiv bekymring for den h\u00f8ye gjennomsnittsalderen for f\u00f8rstegangsf\u00f8dende. Kvinner blir gravide for sent, noe som kan f\u00f8re til st\u00f8rre helsemessige utfordringer b\u00e5de for mor og barn. Dessuten f\u00e5r kvinner for f\u00e5 barn til at vi i fremtiden kan opprettholde velferdsstaten slik vi kjenner den i dag. Hadde jeg kunnet velge om igjen, ville jeg ogs\u00e5 ventet med barn.</p>\n",
        "<p class=\"txt\">For skal flere v\u00e5ge \u00e5 kaste seg ut i mammatilv\u00e6relsen f\u00f8r de er 30, m\u00e5 kvalitetsreformen mykes opp. Studieopplegget m\u00e5 bli bedre tilpasset mennesker med behov for fleksibilitet. Det holder ikke med mulighet for familieboliger og barnehageplasser. Det m\u00e5 skapes plass og ogs\u00e5 tilrettelegges for de som har andre \u00e5 ta hensyn til enn bare seg selv. Det b\u00f8r i alle fall v\u00e6re et minstekrav at vi finnes i statistikken, og da ikke bare kvantitativt. Jeg f\u00f8ler jeg har mye og gi, og mange gode tanker og ideer, men er lei av \u00e5 m\u00f8te krav jeg ikke kan oppfylle. Jeg er blitt deltidsstudent mot min vilje. Semester etter semester. Kvalitetsreformen fremmer den unge fulltidsstudenten men ekskluderer mangfoldet. Dette er et stort tap for samfunnet.</p>"
       ],
       "metadata": {},
       "output_type": "display_data",
       "text": [
        "<IPython.core.display.HTML at 0x7fa66aea4198>"
       ]
      },
      {
       "html": [
        "<p class=\"txt\">Universitas oppsummerer uka</p>\n",
        "<p class=\"mt\">Demokratisk regelrytteri</p>\n",
        "<p class=\"txt\">Da UiO-prorektor trakk seg, skulle det egentlig skrives ut nyvalg b\u00e5de for rektor og prorektor. Det var det ikke s\u00e5 farlig med, mente rektor Ole Petter Ottersen.</p>\n",
        "<p class=\"txt\">Han var nylig i Russland for \u00e5 \u00abstyrke de akademiske b\u00e5ndene\u00bb \u00f8stover. Kilder tett p\u00e5 rektoren sier at han underveis i styrem\u00f8tet hvor det ble klart at prorektor trakk seg, hadde mange telefonpauser ,og at de bestemt h\u00f8rte ham si \u00abdasvidanja\u00bb.</p>\n",
        "<p class=\"txt\">\u2013 Mine nye akademiske kontakter mente det var fullt forsvarlig \u00e5 fravike valgreglementet bare denne ene gangen, sier Ottersen.</p>\n",
        "<p class=\"mt\">\u00c6rlig kommunikasjon</p>\n",
        "<p class=\"txt\">BI-rektor Tom Colbj\u00f8rnsen forteller at skolen \u00aber i renomm\u00e9bransjen. Der er skolerangeringer og akkrediteringer hovedpilarene.\u00bb</p>\n",
        "<p class=\"txt\">Flere BI-studenter Ad notam har v\u00e6rt i kontakt med, er glade for Colbj\u00f8rnsens presisering, s\u00e5 slipper de lenger \u00e5 leve i den villfarelsen at BI prim\u00e6rt er en utdanningsinstitusjon som har studenters utdannelse som viktigste oppgave.</p>\n",
        "<p class=\"mt\">Verden er urettferdig</p>\n",
        "<p class=\"txt\">Privatskolene tar mer og mer i skolepenger fra studentene samtidig som de ansattes l\u00f8nninger \u00f8ker.</p>\n",
        "<p class=\"txt\">\u2013 Det er urettferdig, sier BI-studentleder Espen Gekko d.y.</p>\n",
        "<p class=\"txt\">Han reagerer p\u00e5 at staten ikke vil gi de som g\u00e5r p\u00e5 privatskole, h\u00f8yere stipend enn de som g\u00e5r p\u00e5 offentlig skole.</p>\n",
        "<p class=\"txt\">\u2013 Vi har kanskje mer penger i familien, og vi kommer til \u00e5 tjene mer n\u00e5r vi er ferdige enn for eksempel l\u00e6rere og sykepleiere, men det er urettferdig at vi skal bruke av v\u00e5re egne penger bare fordi vi har lyst til \u00e5 studere noe kun fordi vi kan bli rike av det.</p>\n",
        "<p class=\"mt\">Eivind Tr\u00e6dal be\u00e6rer Ad notam med en kronikk</p>\n",
        "<p class=\"txt\">For noen dager siden samlet jeg meg for \u00e5 lage en kronikk for Universitas. Det var ikke lett, for jeg er ganske opptatt fordi jeg er s\u00e5 ettertraktet som meningsb\u00e6rer. Jeg fikk i alle fall skrevet en kronikk som, om jeg f\u00e5r si det selv, tok pulsen p\u00e5 alt i Norge i dag. Jeg fikk inn flere stikk mot kommentarfeltmafiaen, som ikke skj\u00f8nner at ytringsfrihet egentlig er s\u00e5 bra som jeg gj\u00f8r, og det er helt H\u00d8L I HUE. Jeg la meg p\u00e5 en ironisk tone, for det er mye kulere enn \u00e5 v\u00e6re oppriktig. Men det er det vel ikke lov til \u00e5 <I>si</I> i dette landet.</p>"
       ],
       "metadata": {},
       "output_type": "display_data",
       "text": [
        "<IPython.core.display.HTML at 0x7fa66aea4198>"
       ]
      },
      {
       "html": [
        "<p class=\"fak1\">Birkelunden mannskor</p>\n",
        "<p class=\"fak2\">Hva: Kor</p>\n",
        "<p class=\"fak2\">Hvem: Diverse oslogutter og -menn</p>\n",
        "<p class=\"fak2\">Hvor: Birkelunden p\u00e5 17.mai.</p>\n",
        "<p class=\"txt\">Birkelunden er, til tross for str\u00e5lende sol, rimelig folketom tidlig p\u00e5 17. mai-ettermiddagen. Men i l\u00f8pet av den lille halvtimen f\u00f8r parkens eget mannskor entrer paviljongen for tredje \u00e5r p\u00e5 rad, stimler det sammen et betydelig antall mennesker i sin fineste stas. Alle er de kommet for \u00e5 overv\u00e6re konserten med de \u00abunge, kjekke og lovende menn i Oslo\u00bb, som de noks\u00e5 s\u00f8tt, eller noks\u00e5 cocky kaller seg selv.</p>\n",
        "<p class=\"txt\">Koret er ledet av dirigent Knut Kristian Mohn, og de <I>er</I> s\u00e5 klart flotte der de st\u00e5r \u2013 som b\u00e5de n\u00e5tid og fremtid i norsk kormusikk. I bunad, dress og med cavaflasker under armen har de sjarmert publikum i senk allerede f\u00f8r de rekker \u00e5 stemme i Edvard Griegs \u00ab<I>Sangerhilsen\u00bb</I> og sprette flaskekorkene.</p>\n",
        "<p class=\"txt\">Helakustisk a capella utekonsert gj\u00f8r ikke akkurat lyden noen tjeneste, og minikonserten tar derfor ikke <I>helt av</I> lydmessig. Mye av det som kunne v\u00e6rt en mektig opplevelse, drukner rett og slett i 17. mai-st\u00f8y fra ting, dyr og personer. Samtidig er det spontane mye av greia, og det er tvilsomt om opplegget hadde v\u00e6rt like sjarmerende om mannskoret hadde v\u00e6rt flankert av digre h\u00f8yttalere og lydtekniker. I bytte mot prima lyd f\u00e5r publikum en up\u00e5klagelig stemning, og koret er p\u00e5 sitt desidert beste n\u00e5r de virkelig drar p\u00e5, som \u00abKlingom Br\u00f8der\u00bb av Wetterling \u2013 det desidert beste nummeret i l\u00f8pet av konserten.</p>\n",
        "<p class=\"txt\">Dessverre er det hele over akkurat i det det begynner \u00e5 ta av. Det er p\u00e5 \u00e9n m\u00e5te forst\u00e5elig, ettersom koret skal spasere ned til Olaf Ryes plass for \u00e5 gj\u00f8re hele showet om igjen. Det er imponerende \u00e5 legge ut p\u00e5 en Gr\u00fcnerl\u00f8kka-turn\u00e9, men for de oppm\u00f8tte i Birkelunden f\u00f8les det trist \u00e5 m\u00e5tte vinke farvel til \u00abkjekke, unge og lovende menn\u00bb etter bare dr\u00f8ye femten-tjue minutter.</p>"
       ],
       "metadata": {},
       "output_type": "display_data",
       "text": [
        "<IPython.core.display.HTML at 0x7fa66aea4198>"
       ]
      },
      {
       "html": [
        "<p class=\"txt\">Rektorvalg</p>\n",
        "<p class=\"txt\">\u2013 Jeg syns det er utrolig rart at de g\u00e5r aktivt inn for \u00e5 bryte reglementet, bare fordi det ville v\u00e6rt ubeleilig for rektoratet at de ikke ville ha fullf\u00f8rt programmet sitt, sier Tobias Langhoff, som stilte som Torkil Vederhus sin viserektorkandidat ved fjor\u00e5rets rektorvalg ved Universitetet i Oslo (UiO).</p>\n",
        "<p class=\"txt\">Forrige uke ble det klart at Ruth Vatvedt Fjeld trekker seg som prorektor ved UiO. I valgreglementet st\u00e5r det at dette skal f\u00f8re til nytt valg av prorektor og rektor. Under en uanmeldt ekstrasak p\u00e5 styrem\u00f8tet 6. mai bl\u00e5ser universitetsstyret i disse reglene \u2013 etter at valgstyret har foresl\u00e5tt nettopp \u00e5 spesifikt fravike valgreglementet.</p>\n",
        "<p class=\"txt\">I stedet innsettes viserektor Ragnhild Hennum som ny prorektor uten noe nytt valg. Prorektor er rektors stedfortreder, og prosessen har blitt belyst i flere saker i Uniforum.</p>\n",
        "<p class=\"mt\">Studentrepresentantene imot</p>\n",
        "<p class=\"txt\">De to studentrepresentantene i universitetsstyret, Eva Holte Enoksen og \u00c5dne Hindenes, var de eneste som stemte imot regelbruddet.</p>\n",
        "<p class=\"txt\">\u2013 Stemmegivningen v\u00e5r var basert p\u00e5 at universitetsstyret m\u00e5 forholde seg til de demokratiske spillereglene ved UiO, sier Hindenes. Ogs\u00e5 Daniel Sandbakken Nilsen, en av to innstilte til \u00e5 bli Enoksen og Hindesnes' etterf\u00f8lgere som studentrepresentanter i styret til h\u00f8sten, mener det rette ville v\u00e6rt \u00e5 f\u00f8lge vedtektene.</p>\n",
        "<p class=\"txt\">\u2013 Jeg er veldig skuffa over m\u00e5ten universitetsstyret har h\u00e5ndtert dette p\u00e5, sier han og varsler diskusjon til h\u00f8sten dersom avgj\u00f8relsen kj\u00f8res gjennom.</p>\n",
        "<p class=\"txt\">\u2013 Da er vi n\u00f8dt til \u00e5 diskutere om universitetsstyret skal v\u00e6re helt autonomt, eller ha vedtekter det faktisk f\u00f8lger.</p>\n",
        "<p class=\"mt\">Undergraver universitets- demokratiet</p>\n",
        "<p class=\"txt\">Torkil Vederhus, n\u00e5v\u00e6rende rektor Ole Petter Ottersens motkandidat i fjor\u00e5rets rektorvalg, mener dette viser at styret ikke har stor nok respekt for valgordningen.</p>\n",
        "<p class=\"txt\">\u2013 Denne saken er et tegn p\u00e5 at valgets tid er over p\u00e5 universitetet, sier Vederhus, som opplyser at han ikke er interessert i \u00e5 stille igjen.</p>\n",
        "<p class=\"txt\">Viserektorkandidat fra 2013 Tobias Langhoff og Gabrielle Gjerdset, leder av studentparlamentet i Oslo, mener saken undergraver universitetsdemokratiet.</p>\n",
        "<p class=\"txt\">\u2013 Jeg syns ogs\u00e5 det er rart at viserektoren, som ikke har et valgt verv, kan overta et valgt verv, sier Langhoff.</p>\n",
        "<p class=\"txt\">Gjerdset er kritisk til at styret bare f\u00f8lger spillereglene n\u00e5r det passer for dem.</p>\n",
        "<p class=\"txt\">\u2013 Reglene er her for \u00e5 beskytte universitetsdemokratiet, sier hun.</p>\n",
        "<p class=\"txt\">Knut Heidar, leder i valgstyret, mener imidlertid et nyvalg ville v\u00e6rt en overreaksjon.</p>\n",
        "<p class=\"txt\">\u2013 \u00c5 fravike et reglement er \u00e5penbart et demokratitap. Men det er, slik situasjonen er n\u00e5, mindre problemfylt enn \u00e5 avbryte det mandatet velgerne ga rektoratet i 2013, sier Heidar. Hans begrunnelse er at et nyvalg, enten det gir et avbrudd i rektoratperioden eller et helt nytt rektorat for den gjenv\u00e6rende delen av perioden, vil sette viktige ledelsesoppgaver p\u00e5 vent i minst et halvt \u00e5r.</p>\n",
        "<p class=\"txt\">Rektor Ole Petter Ottersen sier til Universitas at han ikke kan se hvordan saken kan bidra til \u00e5 undergrave studentdemokratiet.</p>\n",
        "<p class=\"mt\">Hemmeligholdt</p>\n",
        "<p class=\"txt\">\u2013 Jeg syns det er veldig s\u00e6rt at saksgangen har v\u00e6rt ukjent for alle til saken ble framlagt for styret p\u00e5 selve valgdagen, sier Langhoff.</p>\n",
        "<p class=\"txt\">Han tror dette kan skyldes at de ville f\u00e5 saken ut av verden uten mye br\u00e5k, s\u00e5 de kunne fortsette sitt program uten avbrytelser.</p>\n",
        "<p class=\"txt\">Vederhus syns ogs\u00e5 det er merkelig at det hastet s\u00e5nn.</p>\n",
        "<p class=\"txt\">\u2013 De kunne tatt det p\u00e5 et senere styrem\u00f8te hvor det ville blitt ordentlig behandlet.</p>\n",
        "<p class=\"mt\">Skylder p\u00e5 \u00f8konomien</p>\n",
        "<p class=\"txt\">I sakspapirene fra styrem\u00f8tet st\u00e5r det at en ytterligere overveielse bak avgj\u00f8relsen er at nyvalg er d\u00e5rlig bruk av universitets ressurser. B\u00e5de Gjerdset og Langhoff mener at \u00f8konomiske hensyn ikke kan g\u00e5 foran demokratiske.</p>\n",
        "<p class=\"txt\">Vederhus mener et nyvalg ikke hadde trengt \u00e5 v\u00e6re dyrt.</p>\n",
        "<p class=\"txt\">\u2013 Det hadde v\u00e6rt bedre med et billig valg enn ikke \u00e5 ha valg, sier han.</p>\n",
        "<p class=\"txt\">Valgstyrelederen er uenig i dette.</p>\n",
        "<p class=\"txt\">\u2013 Skal man ha valg, m\u00e5 man ha valg. Man kan ikke gj\u00f8re det halvveis, sier Heidar.</p>\n",
        "<p class=\"tit\">Hovedpersonen ut mot kronargument</p>\n",
        "<p class=\"txt\">Blant valgstyrets hovedargumenter for at det skulle v\u00e6re forsvarlig \u00e5 droppe nyvalg, er at det ikke var universitetspolitiske grunner til at prorektoren trakk seg. Fjeld selv er imidlertid usikker p\u00e5 om \u00e5rsakene til at hun sluttet kan kalles \u00abuniversitetspolitiske\u00bb, og sier styret ikke har spurt henne om saken.</p>\n",
        "<p class=\"txt\">\u2013 Jeg syns universitetsstyret godt kunne kontaktet meg. De tok \u00e9n side for god fisk. Men det hadde kanskje v\u00e6rt smart av dem \u00e5 h\u00f8re begge sidene av saken, sier Fjeld.</p>\n",
        "<p class=\"txt\">\u2013 Da rektor spurte meg om det var en universitetspolitisk grunn, sa jeg at det var uklart hva som l\u00e5 i begrepet og ba om en avklaring. Det fikk jeg ikke, forteller hun.</p>\n",
        "<p class=\"txt\">If\u00f8lge rektor Ole Petter Ottersen er b\u00e5de universitetsstyret og styret enige med ham i at \u00e5rsaken ikke er universitetspolitisk.</p>\n",
        "<p class=\"txt\">Fjeld mener det er rart hun fikk s\u00e5 lite \u00e5 gj\u00f8re i en s\u00e5 stor og viktig stilling.</p>\n",
        "<p class=\"txt\">\u2013 Jeg tok det opp med rektor, og det kom ingen endring. Da kunne jeg ikke bruke tiden min der, sier hun.</p>\n",
        "<p class=\"txt\">Det var flere oppgaver Fjeld trodde hun skulle f\u00e5, som hun aldri fikk.</p>\n",
        "<p class=\"txt\">\u2013 Doktorgradsutdanningen var jeg lovet, men fikk ikke det i gavnet, bare i navnet, sier hun.</p>\n",
        "<p class=\"txt\">Det var da rektoratet la fram rapporten om doktorgradsutdanningen uten at Fjeld hadde noe med det \u00e5 gj\u00f8re, at hun leverte erkl\u00e6ringen om at hun ville g\u00e5 av som prorektor.</p>\n",
        "<p class=\"txt\">\u2013 Da skj\u00f8nte jeg at det var noe som ikke hang helt sammen, forteller hun.</p>\n",
        "<p class=\"txt\">En av grunnene til at hun ikke fikk like mange oppgaver som hun trodde, var at det ble innf\u00f8rt en ekstra viserektorstilling rett f\u00f8r hun begynte.</p>\n",
        "<p class=\"txt\">\u2013 Viserektoren fikk hele forskningsdelen, som jeg trodde jeg skulle f\u00e5. Prorektoren f\u00f8r meg hadde den delen, og de burde v\u00e6rt klarere p\u00e5 at jeg ikke skulle f\u00e5 den delen i s\u00e5 fall.</p>\n",
        "<p class=\"txt\">Fjeld mener hun ble valgt blant annet p\u00e5 grunn av likestilling, og at de trengte en kvinne.</p>\n",
        "<p class=\"txt\">\u2013 En viktig del av likestillingsprofilen ble borte n\u00e5r de ansatte en ekstra mannlig viserektor rett f\u00f8r jeg skulle begynne.</p>\n",
        "<p class=\"txt\">Rektor Ole Petter Ottersen \u00f8nsker ikke \u00e5 kommentere Fjelds uttalelser.</p>"
       ],
       "metadata": {},
       "output_type": "display_data",
       "text": [
        "<IPython.core.display.HTML at 0x7fa66aea4198>"
       ]
      },
      {
       "html": [
        "<p class=\"fak1\">Beautiful Silence</p>\n",
        "<p class=\"fak2\">Av: Lena Nymark</p>\n",
        "<p class=\"fak2\">Plateselskap: Grappa</p>\n",
        "<p class=\"txt\">Skal vi tro den nye plata til sangpedagog og Norges Musikkh\u00f8gskole-utdannede Lena Nymark, er det ironisk nok den minst typiske l\u00e5ta hennes som har gjort henne mest kjent. Den gitartunge popl\u00e5ta \u00abIt's up to you\u00bb, som er andrespor p\u00e5 Nymarks debutplate, f\u00f8res fram av et bluesrock-driv som fin kontrast til hennes langt lysere stemme. P\u00e5 resten av plata strekker l\u00e5tene seg lenger inn under jazz-sjangeren, som blir mindre forutsigbart og mer spennende.</p>\n",
        "<p class=\"txt\">For selv om drivet i hitsingelen er t\u00f8ft, svinger det mer n\u00e5r t\u00f8ylene p\u00e5 musikantene blir l\u00f8sere, p\u00e5 l\u00e5ter som \u00abSola Mi\u00bb og \u00abWaiting\u00bb \u2013 med svevende, nydelige orgelpartier av Andreas Ulvo og en langt mer frittspillende trommeslager i Martin Langlie. Det er ingen tvil om at dette er skolerte musikere til beinet. Det er samspilt, det svinger, og det h\u00f8res uanstrengt ut.</p>\n",
        "<p class=\"txt\">Men det skolerte og polerte har ogs\u00e5 en kjip side. Det blir kjedelig hvis det ikke <I>vil</I> noe. Flere av Nymarks tekster er repetitive, og man kan sp\u00f8rre seg om hun virkelig har et budskap utover det musikalske. Stemmen hennes er b\u00e5de nydelig, trygg, ren og allsidig. Det er pent og pyntelig, men vokalen blir som et eget instrument og blir langt mer troverdig som melodiskaper enn som meningsb\u00e6rer.</p>\n",
        "<p class=\"txt\">N\u00e5 er det heller ikke Joni Mitchell eller Bob Dylan Nymark minner om. Gruppa hun har med seg, ligner mer en oppjazza versjon av norske D'Sound \u2013 en godt utdannet gjeng musikanter med teft for hva \u00f8ret liker. Men n\u00e5r musikken ikke vil mer, blir den fort et stemningsskapende supplement heller enn et selvstendig kunstverk.</p>"
       ],
       "metadata": {},
       "output_type": "display_data",
       "text": [
        "<IPython.core.display.HTML at 0x7fa66aea4198>"
       ]
      },
      {
       "html": [
        "<p class=\"txt\">Temmelig s\u00f8mmelig</p>\n",
        "<p class=\"txt\">Studentvelferd</p>\n",
        "<p class=\"txt\">Kommentator Thorbj\u00f8rn Borlaug foresl\u00e5r i forrige ukes Universitas at SiO skal omfattes av offentlighetsloven. Sp\u00f8rsm\u00e5let om studentsamskipnadene skal reguleres av offentlighetsloven er vurdert grundig flere ganger de siste \u00e5rene. Senest i forbindelse med revisjon av loven i 2008 og 2012. Kunnskapsdepartementet, som er b\u00e5de tilskudds- og tilsynsdepartement, har gjennom bredt anlagte h\u00f8ringsprosesser kommet til en utvetydig konklusjon:</p>\n",
        "<p class=\"txt\">\u00bb[E]n stor del av samskipnadenes oppgaver er av en slik art at reglene i forvaltningsloven ikke er relevante, som kantinedrift, bokhandel, treningssenter osv. Reglene i forvaltningsloven skal ivareta rettsikkerhet og betryggende saksbehandling. Saksbehandlingen i samskipnadene er i stor grad regulert i andre lover. Dette gjelder for eksempel helsetjenester og barnehagedrift.\u00bb</p>\n",
        "<p class=\"txt\">Jeg er opptatt av at SiO skal styres s\u00e5 \u00e5pent og ryddig som mulig, men det er temmelig uklokt \u00e5 forst\u00e5 SiO som en offentlig organisasjon, eller jobbe for at SiO skal bli det. Det er verdt \u00e5 opprettholde den s\u00e6rnorske ordningen hvor et eierl\u00f8st, studentstyrt velferdsselskap med ideelt form\u00e5l ivaretar studentvelferden, og ikke staten. Den sikrer en effektiv og ubyr\u00e5kratisk styringsprosess fordi SiO som et ansvarlig rettssubjekt har mulighet til \u00e5 fatte beslutninger p\u00e5 selvstendig grunnlag, ta opp l\u00e5n, akkumulere et ansvarlig overskudd eller omorganisere for \u00e5 m\u00f8te nye behov i nye tjenesteomr\u00e5der.</p>\n",
        "<p class=\"txt\">SiOs \u00e5penhetspolicy er s\u00f8mmelig ut fra at vi er et selskap som strekker oss mot \u00e5penhet. Studentstyringen er \u00e5pen i den forstand at Velferdstinget (VT) velger flertallet i styret i \u00e5pne valg og legger premissene for selskapet i \u00e5pne voteringer. De studentvalgte representantene i SiOs hovedstyre har orienteringsplikt til VT i \u00e5pne m\u00f8ter, vi har en l\u00f8pende dialog med Velferdstingets ledelse, og arbeidsutvalget har innsynsmulighet i alle sakspapirer.</p>\n",
        "<p class=\"txt\">Men som serviceselskap, i det daglige m\u00f8tet med studenten, b\u00e5de b\u00f8r og kan SiO bli mer \u00e5pen og tilgjengelig. Det bestemmes ikke av offentlighetsloven, men av hvordan SiO m\u00f8ter den enkelte student i treningssenteret, p\u00e5 cafeen eller p\u00e5 internett.</p>\n",
        "<p class=\"bt\">universitas nr. 16, 2014</p>"
       ],
       "metadata": {},
       "output_type": "display_data",
       "text": [
        "<IPython.core.display.HTML at 0x7fa66aea4198>"
       ]
      },
      {
       "html": [
        "<p class=\"txt\">Lamalue: Dala Lama tok gledelig i bruk russelua han ble tilbudt av elever fra Oslo handelsgym da han bes\u00f8kte Fredssenteret 9. mai.</p>"
       ],
       "metadata": {},
       "output_type": "display_data",
       "text": [
        "<IPython.core.display.HTML at 0x7fa66aea4198>"
       ]
      },
      {
       "html": [
        "<p class=\"txt\">1.\tHva heter lederen for det indiske folkepartiet Bharatiya Janata Party, som blir landets neste statsminister?</p>\n",
        "<p class=\"txt\">2.\tHva heter fotballspilleren fra Time kommune som blant annet har spilt for Bryne, West Ham, Brann, Viking og Rapid Wien?</p>\n",
        "<p class=\"txt\">3.\tI forrige uke var det en tragisk gruveulykke vest i Tyrkia. Hva heter byen der gruven ligger?</p>\n",
        "<p class=\"txt\">4.\tHvilke to land ligger p\u00e5 \u00f8ya Hispaniola?</p>\n",
        "<p class=\"txt\">5.\tHvem er eneste norske representant i \u00e5rets utgave av sykkelrittet Giro d'Italia?</p>\n",
        "<p class=\"txt\">6.\tHvilken statsleder mottok Nobels litteraturpris i 1953?</p>\n",
        "<p class=\"txt\">7.\tHvordan er slektsforholdet mellom Kong Harald V og Dronning Margrethe II av Danmark?</p>\n",
        "<p class=\"txt\">8.\tHva er navnet p\u00e5 de fire s\u00e6rnorske hesterasene?</p>\n",
        "<p class=\"txt\">9.\tHva heter Patti Smiths legendariske album fra 1975?</p>\n",
        "<p class=\"txt\">10.\tM\u00e4rtha og Ari skal flytte hjem igjen til Norge. Hva heter deres tre barn?</p>"
       ],
       "metadata": {},
       "output_type": "display_data",
       "text": [
        "<IPython.core.display.HTML at 0x7fa66aea4198>"
       ]
      },
      {
       "html": [
        "<p class=\"fak1\">P\u00e5fyll#6</p>\n",
        "<p class=\"fak2\">Hvor: Caf\u00e9 Mir</p>\n",
        "<p class=\"fak2\">Hvem: Henrik Gj\u00f8en, Martin Beyer-Olsen, Lars Berrum</p>\n",
        "<p class=\"txt\">Behagelig bakrus</p>\n",
        "<p class=\"txt\">\u00abF\u00f8kk 18. mai og f\u00f8kk sommer'n\u00bb, sier konferansier Adam Tumidajewicz til de rundt 30 folka som har benket seg rundt bordene p\u00e5 Mir. Det er s\u00f8ndag kveld og tid for det m\u00e5nedlige arrangementet <I>P\u00e5fyll</I>. Mens resten av Oslo slanger seg i parken, koser med gresset og pleier minnene fra grunnlovsjubileet dagen f\u00f8r, har noen valgt \u00e5 ta turen for \u00e5 f\u00e5 med seg et aldri s\u00e5 lite kulturelt <I>opplegg</I>.</p>\n",
        "<p class=\"txt\"><I>P\u00e5fyll</I> er delvis i regi av ildsjeler som Tumidajewicz, og delvis st\u00f8ttet av Milj\u00f8partiet De Gr\u00f8nne. Selv om det er b\u00e5de dikt og frijazz p\u00e5 menyen, er det stand-upen som f\u00e5r \u2013 og tar \u2013 mest fokus. Store navn som Martin Beyer Olsen, Lars Berrum og stjerneskuddet Henrik Gj\u00f8en er med. Sistnevnte \u00e5pner showet med et frekt repertoar best\u00e5ende av Tinder-observasjoner, badetrend og pornohistorier. Gj\u00f8en leverer vitser med en deilig og avslappet letthet, og det er s\u00e6rlig den siste historien, om en pornofilm han s\u00e5, og at han ble grepet av handlingen som fortsatte \u00e5 utspille seg etter at sexen var over, som virkelig f\u00e5r publikum til \u00e5 knekke sammen av latter. \u00abJeg satt igjen med s\u00e5 mange sp\u00f8rsm\u00e5l, og sjekker daglig om det har kommet en oppf\u00f8lger\u00bb.</p>\n",
        "<p class=\"txt\">Selv om kvelden egentlig kunne endt etter tre solide stand-up-innslag, velger <I>P\u00e5fyll</I> \u00e5 fortsette. Jean Kavanagh leser noe svulstige dikt fra sin nye utgivelse <I>Other Places</I>, men n\u00e5r frijazzduoen \u00abKlima: for liket\u00bb entrer scenen, skjer det en dreining i retning av en noe litt mer intern MDG-kveld. Hallvard Surlien og Lage N\u00f8st er nok litt for gode bekjente av publikum, og det f\u00f8les nesten som \u00e5 overv\u00e6re underholdningen p\u00e5 et privat julebord n\u00e5r de \u00abt\u00f8yse-impriovserer\u00bb fram l\u00e5ter som handler om klima, mens publikum fniser.</p>\n",
        "<p class=\"txt\">Til tross for labert 18.mai-oppm\u00f8te er <I>P\u00e5fyll</I> et helt kurant og avslappet alternativ p\u00e5 en s\u00f8ndag der du helst vil slippe \u00e5 ta stilling de store sp\u00f8rsm\u00e5lene.</p>\n",
        "<p class=\"bt\">Foto: \u00d8yvind Aukrust</p>"
       ],
       "metadata": {},
       "output_type": "display_data",
       "text": [
        "<IPython.core.display.HTML at 0x7fa66aea4198>"
       ]
      },
      {
       "html": [
        "<p class=\"txt\">Studentpolitikk</p>\n",
        "<p class=\"txt\">\u2013 Det som vart gjort, gir kanskje kortsiktig vinning for Sosialdemokratene (SD), men det skadar studentdemokratiet, seier leiar for Venstrealliansen (VA) Mari Heglum.</p>\n",
        "<p class=\"txt\">F\u00f8r valet av Arbeidsutvalet til Studentparlamentet nyleg hadde dei ulike listene forhandla fram ein avtale om korleis utvalet skulle sj\u00e5 ut. Avtalen var blant anna at nyvalde Marianne Anden\u00e6s (SD) vart leiar, og at VA sin representant Daniel Sandbakken Nilsen vart sikra ein plass i Arbeidsutvalet. Fr\u00e5 parlamentsvalet er VA den nest st\u00f8rste lista, med h\u00e5rfint fleire stemmar enn SD.</p>\n",
        "<p class=\"txt\">Men resultatet vart ikkje som avtalt. D\u00e5 valet av maktposisjonane skulle gjennomf\u00f8rast stilte Knut Frydenlund (SD) til valg, s\u00e5kalla benking. Han vart vald inn, Anden\u00e6s vart leiar \u2013 og VA enda opp utan representantar i Arbeidsutvalet. B\u00e5de SD og VA er representert med fem mandatar i Studentparlamentet i Oslo..</p>\n",
        "<p class=\"txt\">\u2013 Dette er ikkje House of Cards. Me er trass alt tillitsvalde, og d\u00e5 m\u00e5 ein vera tillitsvekkande. Dette f\u00f8rer til at heile systemet m\u00e5 endrast, for no har tilliten forsvunne. Alt er basert p\u00e5 tillit, seier Heglum.</p>\n",
        "<p class=\"mt\">\u00d8nskjer forklaring</p>\n",
        "<p class=\"txt\">\u2013 Det er Knut sin fulle rett \u00e5 benka meg om han vil det, men det er p\u00e5 sin plass at ein seier ifr\u00e5 n\u00e5r ein gjer s\u00e5nne ting. Det var eit sjokk, seier Daniel Sandbakken Nilsen til Universitas.</p>\n",
        "<p class=\"txt\">VA-leiar Heglum er like sjokkert \u2013 og irritert.</p>\n",
        "<p class=\"txt\">\u2013 Sosialdemokratene fekk oss til \u00e5 stemma inn kandidatar etter den felles avtalen, og etter at me hadde holdt v\u00e5r del av avtalen, svikta dei p\u00e5 sin del. Det var eit bevisst og strategisk val \u00e5 ikkje varsla p\u00e5 f\u00f8rehand.</p>\n",
        "<p class=\"mt\">Ikkje planlagd</p>\n",
        "<p class=\"txt\">SD og leiar Marianne Anden\u00e6s beklagar at ting vart gjort som dei vart, og avviser at vendinga var planlagd.</p>\n",
        "<p class=\"txt\">\u2013 Knut valde \u00e5 stilla like f\u00f8r m\u00f8tet. Me tek kritikk for at me ikkje ga beskjed n\u00e5r me fekk vita det, og det var ein d\u00e5rleg prosess. Forhandlingane er ein uformell avtale mellom alle listene som tradisjonelt sett har blitt fulgt, men den hindrar ikkje andre folk fr\u00e5 \u00e5 stilla, seier Anden\u00e6s.</p>\n",
        "<p class=\"txt\">Knut Frydenlund, som vart vald inn i staden for VA sin innstilte kandidat, legg seg flat.</p>\n",
        "<p class=\"txt\">\u2013 Det var ein idiotisk m\u00e5te \u00e5 gjera det p\u00e5, og veldig klumsete. Hadde eg gjort det p\u00e5 nytt, hadde eg gjort det annleis, men eg ville framleis stilt til val, seier Frydenlund.</p>\n",
        "<p class=\"txt\">Han fortel at han rett og slett ikkje rakk \u00e5 tenkja seg ordentleg om i prosessen.</p>\n",
        "<p class=\"txt\">\u2013 Eg tenkte at dei andre kanskje ville f\u00f8la seg lurt, men eg bestemte meg for \u00e5 stilla to timar f\u00f8r valet. Eg ville ikkje at alt me hadde forhandla fram, skulle bryta saman.</p>\n",
        "<p class=\"mt\">\u2013 Har ikkje tillit</p>\n",
        "<p class=\"txt\">\u2013 Samarbeid g\u00e5r jo ikkje no, seier Mari Heglum fr\u00e5 VA.</p>\n",
        "<p class=\"txt\">\u2013 Me kan ikkje forholda oss til folk som ikkje snakkar sant. Eg har personleg blitt ljugd rett i fjeset, legg ho til. B\u00e5de Heglum og Sandbakken Nilsen er skeptiske til samarbeidet med Sosialdemokratene i framtida.</p>\n",
        "<p class=\"txt\">Det tykkjer Marianne Anden\u00e6s er synd.</p>\n",
        "<p class=\"txt\">\u2013 Eg h\u00e5par me kan sj\u00e5 framover, ikkje bakover. Me f\u00e5r ikkje endra p\u00e5 det som har skjedd. Eg trur at det er fleire som tykkjer at prosessen var d\u00e5rleg, men eg trur me kan st\u00e5 for resultatet som kom fram, og jobba vidare med det.</p>\n",
        "<p class=\"txt\">Den f\u00f8rste anledninga for samarbeid kjem p\u00e5 handlingsplanseminaret, n\u00e5r politikken for det neste \u00e5ret skal planleggast. Tidlegare leiar for Studentparlamentet, Stian Skaalbones, trur Anden\u00e6s f\u00e5r ein vanskeleg jobb som leiar i \u00e5ret som kjem.</p>\n",
        "<p class=\"txt\">\u2013 Det som er veldig synd med denne saka er at ho m\u00e5 bruka det neste \u00e5ret p\u00e5 \u00e5 bygga tillit igjen, og det er tid ho ideelt sett skulle brukt p\u00e5 \u00e5 skapa gjennomslag for studentane. Som \u00f8vste tillitsvald p\u00e5 landets st\u00f8rste Universitet er ho avhengig av \u00e5 ha tillit hj\u00e5 sine tillitsvalde, og det har ho ikkje no, seier Skaalbones.</p>\n",
        "<p class=\"txt\">Til dette svarar Anden\u00e6s at ho forst\u00e5r at tilliten er svekka.</p>\n",
        "<p class=\"txt\">\u2013 Samstundes kan alle gjera feil, og eg h\u00e5par at Venstrealliansen og resten av Studentparlamentet vil vera med p\u00e5 \u00e5 f\u00f8ra ein konstruktiv debatt, og at eg viser meg tilliten verdig.</p>\n",
        "<p class=\"bt\">Skjermdump:Facebook</p>"
       ],
       "metadata": {},
       "output_type": "display_data",
       "text": [
        "<IPython.core.display.HTML at 0x7fa66aea4198>"
       ]
      },
      {
       "html": [
        "<p class=\"txt\">Si din mening p\u00e5 universitas.no</p>\n",
        "<p class=\"mt\">Deprokratisk</p>\n",
        "<p class=\"txt\">Dette er pussig fra UiO-styret. Hvis de synes de demokratiske spillereglene er for slitsomme, b\u00f8r de heller g\u00e5 inn for \u00e5 endre reglene istedenfor \u00e5 ignorere dem...</p>\n",
        "<p class=\"txt\">Bj\u00f8rn Semstad</p>\n",
        "<p class=\"txt\">N\u00e5r det ikke er en valgt prorektor er vervet vakant. UiO-styret har valgt \u00e5 la vervet v\u00e6re vakant (dvs. UiO har ingen prorektor) ved \u00e5 ikke skrive ut nyvalg, og la en utnevnt viserektor ivareta oppgavene ut perioden. Men det betyr ikke at Ragnhild Hennum er prorektor.</p>\n",
        "<p class=\"txt\">Mno</p>\n",
        "<p class=\"txt\">Dette kan sammenlignes med at f\u00f8rste visepresidenten i Stortinget (=prorektor) trekker seg fra sitt valgte verv, og at stortingspresidenten (=rektor) da \u00abkonstituerer\u00bb en ikke-valgt person fra stortingsadministrasjonen (=ikke-valgt viserektor) som visepresident i stedet for at stortingsrepresentantene (=universitetssamfunnet) velger ny visepresident (=prorektor).</p>\n",
        "<p class=\"txt\">Hoderystende \bfor forakten for demokratiet</p>\n",
        "<p class=\"txt\">Hentet fra debatten til nyhetssaken \u00ab\u2013 Et tegn p\u00e5 at valgets tid er over p\u00e5 Universitetet\u00bb</p>\n",
        "<p class=\"mt\">Akk og va</p>\n",
        "<p class=\"txt\">VA ble snytt. Internationalista, de nye, som viste ordentlig, ektef\u00f8lt engasjement, og ikke s\u00e5 rent lite profesjonelt, heller, ble snytt, every which way. De ville ikke v\u00e6re med p\u00e5 hestehandelen og alliansespillet i kulissene.</p>\n",
        "<p class=\"txt\">Akk</p>\n",
        "<p class=\"txt\">Ja... for politikk p\u00e5 norsk er jo helt annerledes enn andre steder. At flertallet valgte en annen kandidat enn VA sin viser bare at nominasjonen var feil, og at kritikken b\u00f8r heller rettes dit.</p>\n",
        "<p class=\"txt\">...og ve</p>\n",
        "<p class=\"txt\">VA hadde en avtale med sosialdemokratene. Den avtalen ble brutt uten at VA hadde f\u00e5tt noe beskjed om det, og det etter at VA sine representanter hadde stemt etter avtalen. Dette er ikke bare et brudd mot en enkeltperson, men et tillitsbrudd mot alle i Venstrealliansen som har s\u00f8rga for at VA ble den nest st\u00f8rste lista.</p>\n",
        "<p class=\"txt\">M-town</p>\n",
        "<p class=\"txt\">Hentet fra debatten til nyhetssaken \u00abHun er den nye Studentparlament-lederen ved UiO\u00bb</p>"
       ],
       "metadata": {},
       "output_type": "display_data",
       "text": [
        "<IPython.core.display.HTML at 0x7fa66aea4198>"
       ]
      },
      {
       "html": [
        "<p class=\"txt\">@Torkil i g\u00e5rsdagens Universitas ble jeg sitert om SiO, rektorvalg og MGP. Stem p\u00e5 meg for en allsidig #studentbaron</p>\n",
        "<p class=\"txt\">15.mai\bGenerasjon pampevelde</p>\n",
        "<p class=\"txt\">@mathiasfischer Hver gang noen skriver \u00abRetweet hvis...\u00bb, favorittmarkerer jeg. H\u00e5per budskapet n\u00e5r frem.</p>\n",
        "<p class=\"txt\">19.mai\bGenerasjon oppr\u00f8r</p>\n",
        "<p class=\"txt\">@KristianGunder @rydje det er en absurd ide \u00e5 gi professorer svakere stillingsvern enn andre statsansatte. Les deg opp p\u00e5 akademisk frihet!</p>\n",
        "<p class=\"txt\">18.mai\bGenerasjon KnowItAll</p>\n",
        "<p class=\"txt\">@rydje @KristianGunder \u00abAbsurd og naiv\u00bb er ikke argumenter. Det er mulig du har rett, men gj\u00f8r gjerne et fors\u00f8k p\u00e5 \u00e5 forklare hvorfor.</p>\n",
        "<p class=\"txt\">18.mai\bRydje rydder opp</p>\n",
        "<p class=\"txt\">@KristianGunder @rydje hvis du ikke forst\u00e5r dette anbefaler jeg SV-fakultetet, begynnerkursene</p>\n",
        "<p class=\"txt\">18.mai\b#EldreVetBest</p>\n",
        "<p class=\"txt\">@rydje @KristianGunder Herregud. Til \u00e5 v\u00e6re en god forkjemper for meningsfull debatt gj\u00f8r du lite for \u00e5 bidra til det i dag. Pr\u00f8ve igjen?</p>\n",
        "<p class=\"txt\">18.mai\b#NeiDetGj\u00f8rDeIkkeDetS\u00e5</p>"
       ],
       "metadata": {},
       "output_type": "display_data",
       "text": [
        "<IPython.core.display.HTML at 0x7fa66aea4198>"
       ]
      },
      {
       "html": [
        "<p class=\"txt\">Professor og valgforsker Frank Aarebrot mener det er alt for milde straffer for juks.</p>\n",
        "<p class=\"txt\">\u2013 De som jukser, burde kastes ut. Det eneste samfunnet kan stole p\u00e5 under ansettelser, er sertifikatene fra skolene, sier professoren.</p>\n",
        "<p class=\"txt\">Han syns det er negativt at s\u00e5 mange som \u00e9n av \u00e5tte studenter oppgir at de ville ha jukset dersom det ikke var fare for \u00e5 bli tatt.</p>\n",
        "<p class=\"txt\">\u2013 Det er ille at s\u00e5pass mange ville ha fremstilt seg som bedre enn de er, n\u00e5r de skal ut i samfunnet, sier han.</p>\n",
        "<p class=\"txt\">Leder Ola Rydje i NSO er enig.</p>\n",
        "<p class=\"txt\">\u2013 Det er forferdelig at folk jukser. Jeg syns det er viktig at institusjonene har gode systemer for \u00e5 ta jukserne, sier han.</p>\n",
        "<p class=\"tit\">Flest Frp-ere ville juksa</p>\n",
        "<p class=\"txt\">Juks</p>\n",
        "<p class=\"txt\">\u00abVille du ha juksa p\u00e5 eksamen eller obligatoriske innleveringer hvis du hadde visst at du ikke ble tatt?\u00bb \u2013 Ja, svarer hver fjerde Frp-velger. Det er mer enn dobbelt s\u00e5 mange som gjennomsnittet p\u00e5 12 prosent, og fem ganger s\u00e5 mange som blant MDG-velgerne. Det kommer fram i en unders\u00f8kelse Sentio har gjort blant studenter for Norsk studentorganisasjon (NSO) og Universitas denne m\u00e5neden.</p>\n",
        "<p class=\"mt\">\u2013 Mer u\u00e6rlige</p>\n",
        "<p class=\"txt\">\u2013 Unders\u00f8kelsen viser direkte at FrP-velgere er mer u\u00e6rlige enn gjennomsnittet, og at MDG-velgere er mer \u00e6rlige, sier Frank Aarebrot, professor i sammenlignende politikk ved Universitetet i Bergen.</p>\n",
        "<p class=\"txt\">Aarebrot mener det kan v\u00e6re en sammenheng mellom resultatene og partienes ideologi.</p>\n",
        "<p class=\"txt\">\u2013 Mennesker med individualistiske ideologier vil kanskje jukse mer enn de med kollektivistiske holdninger, sier Aarebrot, som selv er Ap-mann.</p>\n",
        "<p class=\"txt\">Siri Ulleberg, formann i Oslo FpU, er ikke enig med Aarebrot.</p>\n",
        "<p class=\"txt\">\u2013 Resultatene kan skyldes at Frp-velgerne er de eneste som er \u00e6rlige i unders\u00f8kelsen, sier hun.</p>\n",
        "<p class=\"mt\">\u2013 Logisk</p>\n",
        "<p class=\"txt\">Lage N\u00f8st, talsperson for Gr\u00f8nn Ungdom, mener det virker logisk at Frp-velgere ville jukset mye oftere enn MDG-velgere ut ifra deres ideologiske synspunkter.</p>\n",
        "<p class=\"txt\">\u2013 Jeg tenker at de som velger \u00e5 stemme MDG, gj\u00f8r det ut ifra en velutviklet rettferdighetssans og et etisk sinnelag.</p>\n",
        "<p class=\"txt\">Han mener Frp ikke legger skjul p\u00e5 at de har et materialistisk grunnsyn.</p>\n",
        "<p class=\"txt\">\u2013 Frp er opptatt av at man skal prestere for \u00e5 oppn\u00e5 materialistiske m\u00e5l. Mange MDG-velgere er mer opptatt av substansen i utdanningen. \u00c5 jukse vil dermed ha begrenset verdi for oss. Det er viktigere for oss \u00e5 l\u00e6re, sier han.</p>\n",
        "<p class=\"txt\">Ulleberg er uenig i at resultatene reflekterer materialistiske tendenser hos Frp-velgere, og tror dessuten ikke unders\u00f8kelsen er representativ.</p>\n",
        "<p class=\"txt\">\u2013 Jeg syns vi har fine verdier i Frp. Men N\u00f8st f\u00e5r mene det hvis han vil, sier hun.</p>\n",
        "<p class=\"mt\">Flere menn, unge og privatskolestudenter</p>\n",
        "<p class=\"txt\">Unders\u00f8kelsen viser ogs\u00e5 forskjeller knyttet til kj\u00f8nn, alder og skolevalg.</p>\n",
        "<p class=\"txt\">18 prosent av mennene i unders\u00f8kelsen svarer at de ville jukset hvis de hadde hatt muligheten, mot \u00e9n av ti kvinner. Yngre studenter er dessuten mer villige til \u00e5 jukse enn eldre studenter. Blant studenter ved private h\u00f8yskoler er det mer enn to av ti som ville valgt \u00e5 jukse p\u00e5 eksamen, alts\u00e5 nesten dobbelt s\u00e5 mange som gjennomsnittet.</p>"
       ],
       "metadata": {},
       "output_type": "display_data",
       "text": [
        "<IPython.core.display.HTML at 0x7fa66aea4198>"
       ]
      },
      {
       "html": [
        "<p class=\"txt\">Studentpolitikk</p>\n",
        "<p class=\"txt\">\u2013 Det som vart gjort, gir kanskje kortsiktig vinning for Sosialdemokratene (SD), men det skadar studentdemokratiet, seier leiar for Venstrealliansen (VA) Mari Heglum.</p>\n",
        "<p class=\"txt\">F\u00f8r valet av Arbeidsutvalet til Studentparlamentet nyleg hadde dei ulike listene forhandla fram ein avtale om korleis utvalet skulle sj\u00e5 ut. Avtalen var blant anna at nyvalde Marianne Anden\u00e6s (SD) vart leiar, og at VA sin representant Daniel Sandbakken Nilsen vart sikra ein plass i Arbeidsutvalet. Fr\u00e5 parlamentsvalet er VA den nest st\u00f8rste lista, med h\u00e5rfint fleire stemmar enn SD.</p>\n",
        "<p class=\"txt\">Men resultatet vart ikkje som avtalt. D\u00e5 valet av maktposisjonane skulle gjennomf\u00f8rast stilte Knut Frydenlund (SD) til valg, s\u00e5kalla benking. Han vart vald inn, Anden\u00e6s vart leiar \u2013 og VA enda opp utan representantar i Arbeidsutvalet. B\u00e5de SD og VA er representert med fem mandatar i Studentparlamentet i Oslo..</p>\n",
        "<p class=\"txt\">\u2013 Dette er ikkje House of Cards. Me er trass alt tillitsvalde, og d\u00e5 m\u00e5 ein vera tillitsvekkande. Dette f\u00f8rer til at heile systemet m\u00e5 endrast, for no har tilliten forsvunne. Alt er basert p\u00e5 tillit, seier Heglum.</p>\n",
        "<p class=\"mt\">\u00d8nskjer forklaring</p>\n",
        "<p class=\"txt\">\u2013 Det er Knut sin fulle rett \u00e5 benka meg om han vil det, men det er p\u00e5 sin plass at ein seier ifr\u00e5 n\u00e5r ein gjer s\u00e5nne ting. Det var eit sjokk, seier Daniel Sandbakken Nilsen til Universitas.</p>\n",
        "<p class=\"txt\">VA-leiar Heglum er like sjokkert \u2013 og irritert.</p>\n",
        "<p class=\"txt\">\u2013 Sosialdemokratene fekk oss til \u00e5 stemma inn kandidatar etter den felles avtalen, og etter at me hadde holdt v\u00e5r del av avtalen, svikta dei p\u00e5 sin del. Det var eit bevisst og strategisk val \u00e5 ikkje varsla p\u00e5 f\u00f8rehand.</p>\n",
        "<p class=\"mt\">Ikkje planlagd</p>\n",
        "<p class=\"txt\">SD og leiar Marianne Anden\u00e6s beklagar at ting vart gjort som dei vart, og avviser at vendinga var planlagd.</p>\n",
        "<p class=\"txt\">\u2013 Knut valde \u00e5 stilla like f\u00f8r m\u00f8tet. Me tek kritikk for at me ikkje ga beskjed n\u00e5r me fekk vita det, og det var ein d\u00e5rleg prosess. Forhandlingane er ein uformell avtale mellom alle listene som tradisjonelt sett har blitt fulgt, men den hindrar ikkje andre folk fr\u00e5 \u00e5 stilla, seier Anden\u00e6s.</p>\n",
        "<p class=\"txt\">Knut Frydenlund, som vart vald inn i staden for VA sin innstilte kandidat, legg seg flat.</p>\n",
        "<p class=\"txt\">\u2013 Det var ein idiotisk m\u00e5te \u00e5 gjera det p\u00e5, og veldig klumsete. Hadde eg gjort det p\u00e5 nytt, hadde eg gjort det annleis, men eg ville framleis stilt til val, seier Frydenlund.</p>\n",
        "<p class=\"txt\">Han fortel at han rett og slett ikkje rakk \u00e5 tenkja seg ordentleg om i prosessen.</p>\n",
        "<p class=\"txt\">\u2013 Eg tenkte at dei andre kanskje ville f\u00f8la seg lurt, men eg bestemte meg for \u00e5 stilla to timar f\u00f8r valet. Eg ville ikkje at alt me hadde forhandla fram, skulle bryta saman.</p>\n",
        "<p class=\"mt\">\u2013 Har ikkje tillit</p>\n",
        "<p class=\"txt\">\u2013 Samarbeid g\u00e5r jo ikkje no, seier Mari Heglum fr\u00e5 VA.</p>\n",
        "<p class=\"txt\">\u2013 Me kan ikkje forholda oss til folk som ikkje snakkar sant. Eg har personleg blitt ljugd rett i fjeset, legg ho til. B\u00e5de Heglum og Sandbakken Nilsen er skeptiske til samarbeidet med Sosialdemokratene i framtida.</p>\n",
        "<p class=\"txt\">Det tykkjer Marianne Anden\u00e6s er synd.</p>\n",
        "<p class=\"txt\">\u2013 Eg h\u00e5par me kan sj\u00e5 framover, ikkje bakover. Me f\u00e5r ikkje endra p\u00e5 det som har skjedd. Eg trur at det er fleire som tykkjer at prosessen var d\u00e5rleg, men eg trur me kan st\u00e5 for resultatet som kom fram, og jobba vidare med det.</p>\n",
        "<p class=\"txt\">Den f\u00f8rste anledninga for samarbeid kjem p\u00e5 handlingsplanseminaret, n\u00e5r politikken for det neste \u00e5ret skal planleggast. Tidlegare leiar for Studentparlamentet, Stian Skaalbones, trur Anden\u00e6s f\u00e5r ein vanskeleg jobb som leiar i \u00e5ret som kjem.</p>\n",
        "<p class=\"txt\">\u2013 Det som er veldig synd med denne saka er at ho m\u00e5 bruka det neste \u00e5ret p\u00e5 \u00e5 bygga tillit igjen, og det er tid ho ideelt sett skulle brukt p\u00e5 \u00e5 skapa gjennomslag for studentane. Som \u00f8vste tillitsvald p\u00e5 landets st\u00f8rste Universitet er ho avhengig av \u00e5 ha tillit hj\u00e5 sine tillitsvalde, og det har ho ikkje no, seier Skaalbones.</p>\n",
        "<p class=\"txt\">Til dette svarar Anden\u00e6s at ho forst\u00e5r at tilliten er svekka.</p>\n",
        "<p class=\"txt\">\u2013 Samstundes kan alle gjera feil, og eg h\u00e5par at Venstrealliansen og resten av Studentparlamentet vil vera med p\u00e5 \u00e5 f\u00f8ra ein konstruktiv debatt, og at eg viser meg tilliten verdig.</p>\n",
        "<p class=\"bt\">Skjermdump:Facebook</p>"
       ],
       "metadata": {},
       "output_type": "display_data",
       "text": [
        "<IPython.core.display.HTML at 0x7fa66aea4198>"
       ]
      },
      {
       "html": [
        "<p class=\"txt\">Du skal kanskje v\u00e6re spesielt interessert for \u00e5 engasjere deg i en prorektors avgang, s\u00e5nn i utgangspunktet. Ved Universitetet i Oslo har universitetsstyret og valgstyret imidlertid klart \u00e5 koke ihop en suppe s\u00e5 fullspekket med saftige ingredienser at Ruth Fjelds br\u00e5 avgang forrige uke \u2013 og aller mest de nevnte styrers h\u00e5ndtering av saken \u2013 i stadig st\u00f8rre grad fortoner seg som en gryende skandale.</p>\n",
        "<p class=\"txt\">For bak den opprinnelige meldingen i Uniforum om at Fjeld gikk fordi hun ikke var \u00abtilstrekkelig inne i rektoratets oppgaver\u00bb, ser det ut til \u00e5 skjule seg relativt stor forvirring. I ukas Universitas forteller Fjeld selv at hun slett ikke er sikker p\u00e5 om hennes begrunnelse er ensbetydende med at det ikke var \u00abuniversitetspolitiske uoverensstemmelser\u00bb som gjorde at hun trakk seg \u2013 en konklusjon som UiO var snar til \u00e5 trekke. N\u00e5r nettopp dette frav\u00e6ret av universitetspolitiske grunner brukes som et av hovedargumentene for helt bevisst \u00e5 bl\u00e5se en lang marsj i valgreglementet \u2013 for dermed \u00e5 unng\u00e5 det nyvalget av b\u00e5de prorektor og rektor situasjonen etter reglene fordrer \u2013 ja, da er det ikke rart studentene raser. Hemmelighold fram til styrem\u00f8tet er blant faktorene som ikke gj\u00f8r saken noe bedre.</p>\n",
        "<p class=\"txt\">Gjennom \u00e5rene har Universitas brakt utallige saker om diverse varianter av regelrytteri ved UiO. S\u00e6rlig ved Det medisinske fakultet har vi flere eksempler p\u00e5 at rigid reglementsoverholdelse har rammet studenter hardt. Det setter universitetsstyrets frimodige skroting av eget reglement i et ekstra grelt lys. Vi beh\u00f8ver neppe \u00e5 minne om hva den kalles, styreformen i land der regler er noe som bare gjelder for allmuen, mens de mektigste er hevet over loven.</p>\n",
        "<p class=\"txt\">Studenter ved Universitetet i Oslo kan i det minste v\u00e6re stolte over at deres to representanter i styret brukte sin stemme til \u00e5 g\u00e5 imot hele den tvilsomme man\u00f8veren. Det ser imidlertid ikke ut til \u00e5 ha v\u00e6rt nok, og sp\u00f8rsm\u00e5let er hva studentene n\u00e5 kan og b\u00f8r gj\u00f8re for \u00e5 vise at dette er et demokratibrudd som rett og slett ikke kan tolereres. Det virker mildt sagt langt fra sikkert at det er tilstrekkelig med den \u00abdiskusjonen\u00bb en av de innstilte studentrepresentantene varsler i ukas avis. I stedet b\u00f8r studentenes n\u00e5v\u00e6rende styrerepresentanter vurdere \u00e5 g\u00e5 imot den klissete merkelappen som \u00abgenerasjon lydig\u00bb og trekke seg i protest.</p>"
       ],
       "metadata": {},
       "output_type": "display_data",
       "text": [
        "<IPython.core.display.HTML at 0x7fa66aea4198>"
       ]
      },
      {
       "html": [
        "<p class=\"plakdag\">Onsdag 21. mai</p>\n",
        "<p class=\"plaktxt\">Vin&Vinyl: har gleden av \u00e5 kunne presentere Kristopher Schau. Schau har tidligere gjestet dem med temaer som \u00abSurt, grisete og religi\u00f8st\u00bb og \u00abPlater kj\u00f8pt under parolen 'H\u00e6, hva faen?'\u00bb, s\u00e5 det er bare \u00e5 glede seg og vente i spenning p\u00e5 hvilke godbiter han har med fra vinylsamlingen denne gangen. Biblioteket p\u00e5 Chateau Neuf, 20.00</p>\n",
        "<p class=\"plakdag\">Fredag 23. mai</p>\n",
        "<p class=\"plaktxt\">Avgangsutstillingen: Avgangselevene p\u00e5 masterprogrammet i billedkunst ved Kunsth\u00f8gskolen i Oslo stiller ut sine verker. Utstillingen st\u00e5r til 8. juni. Kunstnernes hus, 19.00</p>\n",
        "<p class=\"plakdag\">L\u00f8rdag 24. mai</p>\n",
        "<p class=\"plaktxt\">UiO-festivalen: I fjor kom det 6000 til Universitetet i Oslo p\u00e5 Blindern for \u00e5 h\u00f8re og oppleve innslag fra forskningens verden. I \u00e5r gjentar de suksessen. UiO-festivalen omfatter debatter, konserter, foredrag, fotoutstilling, barneuniversitet, stands og servering. Blindern campus, 12.00</p>\n",
        "<p class=\"plakdag\">S\u00f8ndag 25. mai</p>\n",
        "<p class=\"plaktxt\">V\u00e5rtreff p\u00e5 botanisk hage: Opptatt av planter? Denne s\u00f8ndagen er det v\u00e5rtreff i Botanisk hage. Det vil v\u00e6re plantesalg, omvisning, presentasjoner av planteforeninger og lignende. Botanisk hage, 10.00</p>\n",
        "<p class=\"plakdag\">S\u00f8ndag 25. mai</p>\n",
        "<p class=\"plaktxt\">Film og debatt: Hepatitt C er sp\u00e5dd \u00e5 bli den neste store folkehelsekrisen etter HIV/AIDS. Mange legemiddelfirmaer \u00f8nsker \u00e5 tilby sine medisiner til store pengesummer. F\u00f8rst vises filmen \u00abFire in the blood\u00bb, s\u00e5 blir det paneldebatt. Tema for debatten er: Lar vi legemiddelindustrien sette prisen p\u00e5 et liv? Nedjma p\u00e5 Litteraturhuset, 18.00</p>\n",
        "<p class=\"plakdag\">Tirsdag 27. mai</p>\n",
        "<p class=\"plaktxt\">Kunstarrangement: \u00ab++\u00bb er et kunstarrangement i foajeen p\u00e5 Black Box Teater. Hundre kvadratmeter foaj\u00e9, med en takh\u00f8yde p\u00e5 seks meter og en ut\u00f8mmelig bar, skal i l\u00f8pet av tre kvelder denne v\u00e5ren fylles med billedkunst, litteratur, video, konserter, dans, fanziner, performance og teater. Black Box Teater, 19.00</p>"
       ],
       "metadata": {},
       "output_type": "display_data",
       "text": [
        "<IPython.core.display.HTML at 0x7fa66aea4198>"
       ]
      },
      {
       "html": [
        "<p class=\"fak1\">Irene Kittelsen</p>\n",
        "<p class=\"fak2\">Av: Jesper Halle</p>\n",
        "<p class=\"fak2\">Med: Avgangsstudentene p\u00e5 bachelorstudiet ved Teaterh\u00f8gskolen</p>\n",
        "<p class=\"txt\">Norges skuespillerfremtid hviler p\u00e5 deres unge skuldre, og avgangsforestillingen p\u00e5 Teaterh\u00f8gskolen er siste mulighet til \u00e5 f\u00e5 vist seg fram f\u00f8r de skal ut og krige om roller i en t\u00f8ff bransje.</p>\n",
        "<p class=\"txt\"><I>Irene Kittelsen</I> er skrevet spesielt for anledningen av dramatiker og professor Jesper Halle. Stykket f\u00f8lger \u00e5tte venner p\u00e5 leting etter Irene \u2013 gjengens bindeledd, som p\u00e5 mystisk vis har forsvunnet. Gjennom en rekke tilbakeblikk, der skuespillerne bytter p\u00e5 rollen som Irene, graves dramatiske ledetr\u00e5der fram fra hukommelsen. Alt fra romantisk soloppgang i Portugal til knisete r\u00f8lpefester f\u00f8rer dem n\u00e6rmere Irenes skjebne.</p>\n",
        "<p class=\"txt\">Handlingen er isolert sett gripende, og det er ingen tvil om at skuespillerne har talent. Dette er mennesker som mestrer og elsker sitt fag, men likevel minner noen av scenene om en slags subtil folkeh\u00f8yskolerevy. De bryter flere ganger ut i samstemt dans til sangen \u00ab<I>Happy\u00bb</I> av Pharrel Willams og noen av karakterene virker stereotypiske og hule.</p>\n",
        "<p class=\"txt\">Om ikke utelukkende blir <I>Irene Kittelsen</I> til tider mer <I>Chat Noir</I> enn <I>National</I>. Kunsten \u00e5 underholde skal ikke kimses av, men man f\u00f8ler likevel at de holder seg innenfor et noks\u00e5 komfortabelt spillerom ved denne formen. Det utelukker s\u00e5ledes det helt spektakul\u00e6re.</p>\n",
        "<p class=\"txt\">Selv om ingen av de \u00e5tte avgangsstudentene skiller seg ut i mengden, hviler Norges teaterutsikter likevel p\u00e5 trygge skuldre. Niv\u00e5et <I>er</I> jevnt over h\u00f8yt, og flere av dem har potensiale til \u00e5 bli gjengangere p\u00e5 norske scener og skjermer i fremtiden. Tatt i betraktning at mye av <I>Irene Kittelsen</I> foreg\u00e5r i bedugget tilstand, er det ei heller umulig at vi har sett den neste Jeppe p\u00e5 bjerget p\u00e5 Teaterh\u00f8gskolen denne mandagskvelden.</p>"
       ],
       "metadata": {},
       "output_type": "display_data",
       "text": [
        "<IPython.core.display.HTML at 0x7fa66aea4198>"
       ]
      },
      {
       "html": [
        "<p class=\"txt\">Kommentar</p>\n",
        "<p class=\"txt\">Den 6. mai valgte universitetsstyret ved Universitetet i Oslo (UiO) \u00e5 gi blaffen i demokratiet. Da Ruth Vatvedt Fjeld trakk seg fra stillingen som prorektor, skulle det if\u00f8lge valgreglementet skrives ut nyvalg p\u00e5 b\u00e5de rektor og prorektor. Rektor og styreleder Ole Petter Ottersen var imidlertid lite lysten p\u00e5 \u00e5 miste makten.</p>\n",
        "<p class=\"txt\">Ottersen var \u00e5penbart klar over hva Fjelds avgang kunne bety: <I>hans egen avgang</I>. I UiOs valgreglement st\u00e5r det klart at dersom rektor eller prorektor fratrer \u00abmer enn seks m\u00e5neder f\u00f8r funksjonstiden er ute, foretas nyvalg for den tiden som er igjen\u00bb (\u00a721-2). Ettersom \u00abrektor og prorektor velges under ett\u00bb (\u00a721-3), inneb\u00e6rer dette et nyvalg p\u00e5 b\u00e5de rektor og prorektor. Ved hjelp av en rekke knep har Ottersen og styret han leder, tr\u00e5kket p\u00e5 sine egne demokratiske spilleregler og avsl\u00f8rt hva som er viktigst: <I>\u00e5 beholde makten</I>.</p>\n",
        "<p class=\"txt\">UiOs f\u00f8rste knep var \u00e5 nekte for at Ruth Vatvedt Fjelds avgang hadde universitetspolitiske grunner. I valgstyrets dokument om Fjelds oppsigelse betegner de den heller som \u00aben personlig overveielse\u00bb. Det er vanskelig \u00e5 se for seg at noen kan si opp jobben sin uten \u00e5 gjennomf\u00f8re en personlig overveielse. Begrepet er meningsl\u00f8st i denne sammenhengen og er ment \u00e5 skjule de faktiske problemene.</p>\n",
        "<p class=\"txt\">Fjeld har betvilt UiOs konklusjon b\u00e5de i Universitas og Uniforum. Hun mener selv hun har presisert \u00abmeget klart\u00bb at hun ikke g\u00e5r av personlig grunner, men av faglige og arbeidsmessige grunner. Fratredelsen skyldes, if\u00f8lge Fjeld, problemer med arbeidsfordeling og arbeidsmilj\u00f8. Hun sier at arbeidskapasiteten og kompetansen hennes ikke ble utnyttet, og at hun fikk mindre ansvar enn hun forventet f\u00f8r valget. Dette st\u00e5r ogs\u00e5 svart p\u00e5 hvitt i hennes fratredelseserkl\u00e6ring, som ble forelagt styrem\u00f8tet 6. mai.</p>\n",
        "<p class=\"txt\">Det andre kunstgrepet var valgstyrets selektive og meget problematiske bruk av begrepet \u00abdemokrati\u00bb. Et av argumentene bak styrets avgj\u00f8relse var at et nyvalg var udemokratisk. De mente velgerne fortjente \u00e5 f\u00e5 beholde den politiske plattformen de hadde stemt p\u00e5, i en periode p\u00e5 fire \u00e5r. Er det ikke mer udemokratisk \u00e5 la gamle stemmer fra valget i 2013 trumfe de som etter reglene skulle v\u00e6rt avgitt ved et nyvalg i 2014? Argumentet om at et gammelt resultat trumfer det som ville v\u00e6rt gitt i dag <I>av demokratiske hensyn,</I> faller p\u00e5 sin egen urimelighet. Styrets l\u00f8sning er kort sagt ikke demokratisk.</p>\n",
        "<p class=\"txt\">Det tredje knepet var \u00e5 garantere at velgerne vil f\u00e5 den samme politiske plattformen n\u00e5 som f\u00f8r. Velgerne hadde i fjor st\u00f8rst tro p\u00e5 Ottersen og Fjeld. De stemte p\u00e5 personer, ikke et parti eller en liste.</p>\n",
        "<p class=\"txt\">Det er dobbeltmoralsk at Ottersen bryter demokratiske regler n\u00e5r han i sitt valgprogram lover \u00e5 \u00abutdanne kompetente og engasjerte samfunnsborgere med dyp innsikt i de verdiene som v\u00e5rt demokrati er bygget p\u00e5\u00bb. Det er h\u00f8yst tvilsomt om Ottersen har innfridd l\u00f8ftet om en \u00abs\u00e5 stor forutsigbarhet som mulig i sitt karrierel\u00f8p ved UiO\u00bb overfor sin kollega og medkandidat Fjeld. S\u00e5 kj\u00e6re Ole Petter Ottersen: N\u00e5r du sier til Universitas at du \u00abikke kan se hvordan saken kan bidra til \u00e5 undergrave studentdemokratiet\u00bb, holder du da ditt valgl\u00f8fte om \u00e5 gj\u00f8re UiO til \u00abet selvkritisk universitet som lar seg se i kortene\u00bb?</p>\n",
        "<p class=\"txt\">Valgstyret har ogs\u00e5 vektlagt effektivitet og ressursbruk. De har rett i at et nyvalg vil koste penger, men argumentet om tap av effektiv styretid er eksplisitt tatt h\u00f8yde for i reglementet. Det kreves ikke nyvalg hvis det er seks m\u00e5neder eller mindre igjen av perioden. Denne regelen skal sikre effektivitet. Det er n\u00e5 tre og et halvt \u00e5r igjen av perioden til Ottersen.</p>\n",
        "<p class=\"txt\">UiO skriver p\u00e5 sine nettsider at de vil unng\u00e5 \u00abden ulempe et nyvalg ville p\u00e5f\u00f8re institusjonen.\u00bb Det virker mer sannsynlig at de vil unng\u00e5 den ulempen et nyvalg ville p\u00e5f\u00f8re den sittende ledelsen. Studentrepresentantene var de eneste i styret som stemte nei til forslaget. Det er ikke et tegn p\u00e5 st\u00f8tte fra oss studenter. I fjor\u00e5rets rektorvalg stemte kun 14 prosent av oss, og denne saken vil ikke bidra til \u00e5 \u00f8ke Ottersens legitimitet. Et nyvalg b\u00f8r derfor skrives ut \u2013 n\u00e5! P\u00e5 den m\u00e5ten kan demokratiet avgj\u00f8re hvorvidt de fortsatt har tro p\u00e5 Ottersen.</p>"
       ],
       "metadata": {},
       "output_type": "display_data",
       "text": [
        "<IPython.core.display.HTML at 0x7fa66aea4198>"
       ]
      },
      {
       "html": [
        "<p class=\"txt\">Blant valgstyrets hovedargumenter for at det skulle v\u00e6re forsvarlig \u00e5 droppe nyvalg, er at det ikke var universitetspolitiske grunner til at prorektoren trakk seg. Fjeld selv er imidlertid usikker p\u00e5 om \u00e5rsakene til at hun sluttet kan kalles \u00abuniversitetspolitiske\u00bb, og sier styret ikke har spurt henne om saken.</p>\n",
        "<p class=\"txt\">\u2013 Jeg syns universitetsstyret godt kunne kontaktet meg. De tok \u00e9n side for god fisk. Men det hadde kanskje v\u00e6rt smart av dem \u00e5 h\u00f8re begge sidene av saken, sier Fjeld.</p>\n",
        "<p class=\"txt\">\u2013 Da rektor spurte meg om det var en universitetspolitisk grunn, sa jeg at det var uklart hva som l\u00e5 i begrepet og ba om en avklaring. Det fikk jeg ikke, forteller hun.</p>\n",
        "<p class=\"txt\">If\u00f8lge rektor Ole Petter Ottersen er b\u00e5de universitetsstyret og styret enige med ham i at \u00e5rsaken ikke er universitetspolitisk.</p>\n",
        "<p class=\"txt\">Fjeld mener det er rart hun fikk s\u00e5 lite \u00e5 gj\u00f8re i en s\u00e5 stor og viktig stilling.</p>\n",
        "<p class=\"txt\">\u2013 Jeg tok det opp med rektor, og det kom ingen endring. Da kunne jeg ikke bruke tiden min der, sier hun.</p>\n",
        "<p class=\"txt\">Det var flere oppgaver Fjeld trodde hun skulle f\u00e5 som hun aldri fikk.</p>\n",
        "<p class=\"txt\">\u2013 Doktorgradsutdanningen var jeg lovet, men fikk ikke det i gavnet, bare i navnet, sier hun.</p>\n",
        "<p class=\"txt\">Det var da rektoratet la fram rapporten om doktorgradsutdanningen uten at Fjeld hadde noe med det \u00e5 gj\u00f8re, at hun leverte erkl\u00e6ringen om at hun ville g\u00e5 av som prorektor.</p>\n",
        "<p class=\"txt\">\u2013 Da skj\u00f8nte jeg at det var noe som ikke hang helt sammen, forteller hun.</p>\n",
        "<p class=\"txt\">En av grunnene til at hun ikke fikk like mange oppgaver som hun trodde, var at det ble innf\u00f8rt en ekstra viserektorstilling rett f\u00f8r hun begynte.</p>\n",
        "<p class=\"txt\">\u2013 Viserektoren fikk hele forskningsdelen, som jeg trodde jeg skulle f\u00e5. Prorektoren f\u00f8r meg hadde den delen, og de burde v\u00e6rt klarere p\u00e5 at jeg ikke skulle f\u00e5 den delen i s\u00e5 fall.</p>\n",
        "<p class=\"txt\">Fjeld mener hun ble valgt blant annet p\u00e5 grunn av likestilling, og at de trengte en kvinne.</p>\n",
        "<p class=\"txt\">\u2013 En viktig del av likestillingsprofilen ble borte n\u00e5r de ansatte en ekstra mannlig viserektor rett f\u00f8r jeg skulle begynne.</p>\n",
        "<p class=\"txt\">Rektor Ole Petter Ottersen \u00f8nsker ikke \u00e5 kommentere Fjelds uttalelser.</p>"
       ],
       "metadata": {},
       "output_type": "display_data",
       "text": [
        "<IPython.core.display.HTML at 0x7fa66aea4198>"
       ]
      },
      {
       "html": [
        "<p class=\"txt\">Tear down this wall: David Ringstad, styreleder i OSI klatring, kutter opp restene av den gamle klatreveggen p\u00e5 Blindern. De skal erstattes av nye, moderne vegger. Foreningen har f\u00e5tt noe st\u00f8tte fra Klatreverket, men st\u00e5r selv bak det meste av finansieringen og arbeidet.</p>"
       ],
       "metadata": {},
       "output_type": "display_data",
       "text": [
        "<IPython.core.display.HTML at 0x7fa66aea4198>"
       ]
      },
      {
       "html": [
        "<p class=\"txt\">HVEM: \tKarsten Aln\u00e6s</p>\n",
        "<p class=\"txt\">STUDERTE: \tHovedfag i nordisk, Universitetet i Oslo</p>\n",
        "<p class=\"txt\">N\u00c5R: \t1957\u20131963</p>\n",
        "<p class=\"txt\">AKTUELL MED:\tBoken \u00ab1814. Miraklenes \u00e5r\u00bb i forbindelse med grunnlovsjubileet</p>\n",
        "<p class=\"txt\">\u2013 Jeg vil ikke peke ut noen sorte f\u00e5r, men det var enkelte som r\u00f8kte under forelesningen, og det synes jeg ikke noe om.</p>\n",
        "<p class=\"txt\">Vi m\u00f8ter Karsten Aln\u00e6s ved flytogterminalen, f\u00f8r han skal videre til Molde og Kristiansund for \u00e5 holde foredrag om 1814 i forbindelse med grunnlovsjubileet. Selv om han skal sitte p\u00e5 flyet om litt over en time og m\u00e5 komme seg av g\u00e5rde med toget, har han en hel del p\u00e5 hjertet om sine gamle forelesere.</p>\n",
        "<p class=\"txt\">\u2013 Det var en som underviste i gotisk, som pekte ut studenter og stilte oss forferdelige sp\u00f8rsm\u00e5l som overhodet ikke hadde noe med pensum \u00e5 gj\u00f8re. Jeg ble heldigvis ikke pekt ut, men kameraten min ble det, stakkars.</p>\n",
        "<p class=\"txt\">Selv om noen var r\u00f8ykere og andre urimelige, er det noen l\u00e6rere han beskriver som \u00aben evig inspirasjon\u00bb \u2013 de som gj\u00f8r at det glitrer i de smale \u00f8ynene hans.</p>\n",
        "<p class=\"txt\">\u2013 Jeg husker spesielt godt da jeg fikk en romanpris i 1976, og fikk et langt og hyggelig brev fra en tidligere foreleser. Han ville gratulere meg med prisen og si at det var vel fortjent. Det var et forhold jeg husker med glede.</p>\n",
        "<p class=\"txt\">Aln\u00e6s har skrevet flere romaner og fagb\u00f8ker om b\u00e5de Norge og Europas historie og ville egentlig ta historie som hovedfag. Tilfeldigheter og en stor spr\u00e5kinteresse f\u00f8rte til at det ble nordisk hovedfag, med tysk og historie som mellomfag. S\u00e6rlig fransk middelalderhistorie husker han godt.</p>\n",
        "<p class=\"txt\">\u2013 Jens Arup Seip holdt en helt <I>eventyrlig</I> forelesningsrekke om Frankrike i middelalderen. Det var virkelig karismatiske l\u00e6rere, sier han og myser opp p\u00e5 den gr\u00e5 himmelen utenfor Oslo S.</p>\n",
        "<p class=\"txt\">Studentlivet husker han som behagelig. Han bodde hjemme hos foreldrene og slapp derfor \u00e5 ta noe s\u00e6rlig studiel\u00e5n.</p>\n",
        "<p class=\"txt\">\u2013 Jeg er jo oslogutt, fra Kampen, og det var lettvint \u00e5 studere i samme by som jeg vokste opp i, forteller han.</p>\n",
        "<p class=\"txt\">Aln\u00e6s beskriver seg selv som en ansvarsfull og m\u00e5lbevisst student, med et klart m\u00e5l om \u00e5 bli fort ferdig slik at han kunne finne seg jobb. Derfor brukte han mye tid p\u00e5 lesesalen.</p>\n",
        "<p class=\"txt\">\u2013 Helt isolert i fagene var jeg jo ikke, da. Fritiden brukte jeg mye p\u00e5 trening, og jeg gikk lange skogsturer med studiekamerater i Oslomarka. Ogs\u00e5 var vi jo litt opptatte av det politiske milj\u00f8et, det er klart. Men vi var ikke noe s\u00e6rlig p\u00e5 byen.</p>\n",
        "<p class=\"txt\">Den avsluttende hovedfagsoppgaven handlet om generasjonsmotsetninger i moderne sosiolekter. Den gang var tilgangen p\u00e5 skrivere langt ifra hva den er i dag, og teksten har til n\u00e5 kun v\u00e6rt tilgjengelig i ett eneste eksemplar. N\u00e5 skal den trykkes opp p\u00e5 nytt. Det er f\u00f8rste gang Aln\u00e6s publiseres som forfatter av faglitteratur i nordisk.</p>\n",
        "<p class=\"txt\">\u2013 Det er jo hyggelig \u00e5 debutere i en alder av 76, sier han og ler hjertelig.</p>\n",
        "<p class=\"txt\"><I>\u2013 Skrev du noe </I><I>skj\u00f8nnlitter\u00e6rt i studietida?</I></p>\n",
        "<p class=\"txt\">\u2013 Jeg puslet med en novelle, som jeg skrev p\u00e5 nynorsk, bare for \u00e5 \u00f8ve litt p\u00e5 det. Den ble lagt til side i mange \u00e5r, og jeg glemte den helt. S\u00e5 fant kona mi den en dag da vi ryddet, og den endte opp i en novellesamling. God kritikk fikk den ogs\u00e5!</p>\n",
        "<p class=\"txt\">Selv om mange av studievennene har falt fra i l\u00f8pet av \u00e5rene, holder Aln\u00e6s fremdeles kontakten med en liten klikk fra tiden p\u00e5 universitetet.</p>\n",
        "<p class=\"txt\">\u2013 N\u00e5 er vi mer p\u00e5 byen. Unge gutter som oss, vet du, vi treffes p\u00e5 Kaffistova en gang i blant.</p>"
       ],
       "metadata": {},
       "output_type": "display_data",
       "text": [
        "<IPython.core.display.HTML at 0x7fa66aea4198>"
       ]
      },
      {
       "html": [
        "<p class=\"txt\">Bergen</p>\n",
        "<p class=\"txt\">At sm\u00e5skolene m\u00f8ter opp i Velferdstinget er viktig b\u00e5de for deres egne studenter og hele studentbergen... Hvis sm\u00e5skolene samler kreftene, kan de til sammen bli like store som Universitetet i Bergen. Selv om de nok ikke f\u00e5r flertall alene, betyr ikke det at de ikke vil bli h\u00f8rt.</p>\n",
        "<p class=\"txt\">Universitas gir deg meninger fra verdens studentaviser</p>\n",
        "<p class=\"txt\">Lund</p>\n",
        "<p class=\"txt\">Jag tror de flesta studenter skulle tycka det vore otroligt sk\u00f6nt om de kunde g\u00e5 in p\u00e5 Medicinska fakultetens, Samh\u00e4llsvetenskapliga fakultetens eller vilket studentbibliotek man nu tillh\u00f6r och finna att man kunde l\u00e5na en stor del av sin kurslitteratur. Mer kurslitteratur p\u00e5 universitetets bibliotek s\u00e4nker tr\u00f6sklarna \u00e4n mer f\u00f6r de som vill studera. Skulle man kanske kunna f\u00e5 hoppas p\u00e5 en kurslitteratursatsning fr\u00e5n statsmaktens sida?</p>\n",
        "<p class=\"txt\">Cambridge</p>\n",
        "<p class=\"txt\">At every other Ivy League school, undergraduates already sit on judicial boards or are involved in disciplinary proceedings in one form or another. All but Yale have instituted a formal honor code or declaration of academic integrity. It's commendable that Harvard will catch up to its peer institutions, though unfortunate that it took a major cheating scandal to catalyze that needed transformation.</p>\n",
        "<p class=\"txt\">Los Angeles</p>\n",
        "<p class=\"txt\">Vending machines allow students to buy birth control on their own time without an awkward walk to the register... Stocking vending machines with contraceptives represents a simple yet tangible step to improving student sexual health. If UCLA can make buying condoms as easy as buying a bag of chips, the university can show its commitment toward making sex safer.</p>"
       ],
       "metadata": {},
       "output_type": "display_data",
       "text": [
        "<IPython.core.display.HTML at 0x7fa66aea4198>"
       ]
      },
      {
       "html": [
        "<p class=\"txt\">Nye og eldre studenter opplever i disse dager en bitter og ofte h\u00e5pl\u00f8s kamp for \u00e5 f\u00e5 et sted \u00e5 bo. Antagelig st\u00e5r flere i fare for \u00e5 m\u00e5tte reise hjem med uforrettet livssak. Ansvaret for denne uverdige situasjon ligger naturlig nok hos samfunnet, det er likevel n\u00e6rliggende \u00e5 sl\u00e5 fast at nettopp i dag b\u00f8r f\u00f8rst og fremst Oslo bykommune ha d\u00e5rlig samvittighet.</p>\n",
        "<p class=\"txt\"><b>Universitas nr. 8, 1964</b></p>"
       ],
       "metadata": {},
       "output_type": "display_data",
       "text": [
        "<IPython.core.display.HTML at 0x7fa66aea4198>"
       ]
      },
      {
       "html": [
        "<p class=\"mt\">Korab Kel Mendi (25) (Han med m\u00f8rkt h\u00e5r som s\u00e5 litt utenlandsk ut)</p>\n",
        "<p class=\"txt\">Universitetet i Oslo, Pedagogikk</p>\n",
        "<p class=\"txt\">1. Absolutt ikke.</p>\n",
        "<p class=\"txt\">2. Det ligger ikke noe i det de sier, jeg f\u00f8ler de bare driver med skremselspropaganda. De motsier seg selv i det de gj\u00f8r.</p>\n",
        "<p class=\"mt\">Erle Bj\u00f8rnstad (21) (Hun med blondt h\u00e5r)</p>\n",
        "<p class=\"txt\">Universitetet i Oslo, Juss</p>\n",
        "<p class=\"txt\">1. B\u00e5de ja og nei. 2. Kanskje fordi de ikke har den samme respekten og tilliten til systemet. Da er kanskje terskelen lavere for \u00e5 jukse.</p>\n",
        "<p class=\"mt\">Agnethe Halleland (24) (Hun med r\u00f8dt h\u00e5r)</p>\n",
        "<p class=\"txt\">H\u00f8yskolen i Oslo og Akershus, Samfunnsern\u00e6ring</p>\n",
        "<p class=\"txt\">1. Nei. 2. De tar kanskje ikke skolen s\u00e5 alvorlig som de burde, og tenker mer p\u00e5 at det ser bra ut p\u00e5 papiret. De bryr seg mer om innvandrere og \u00e5pningstider p\u00e5 polet, enn om skole.</p>\n",
        "<p class=\"mt\">Kristian Olsen (22) (Han med dress)</p>\n",
        "<p class=\"txt\">Universitetet i Oslo, Teoretisk fysikk</p>\n",
        "<p class=\"txt\">1. Ja. Jeg hadde v\u00e6rt overrasket over at det er en sammenheng uansett hvilket parti det hadde v\u00e6rt. 2. Aner ikke, jeg er ikke s\u00e5 opptatt av politikk.</p>"
       ],
       "metadata": {},
       "output_type": "display_data",
       "text": [
        "<IPython.core.display.HTML at 0x7fa66aea4198>"
       ]
      },
      {
       "html": [
        "<p class=\"bt\"><b>Godt forberedt:</b> Marianne Anden\u00e6s \u00f8nsker \u00e5 inkludere alle som leder av Arbeidsutvalget.</p>\n",
        "<p class=\"txt\">I dag ble det kjent hvem som skal representere studentene i Studentparlamentet ved UiOs arbeidsutvalg i perioden 2014/2015.</p>\n",
        "<p class=\"txt\">\u2013 Jeg er en inkluderende leder, og vil fremme en samlet studentmasse, sier nyvalgt leder Marianne Anden\u00e6s (24) til Universitas.</p>\n",
        "<p class=\"txt\">Anden\u00e6s representerer Sosialdemokratene, og studerer til vanlig statsvitenskap.</p>\n",
        "<p class=\"txt\">Hun mener det er viktig \u00e5 v\u00e6re godt forberedt n\u00e5r man skal ta fatt p\u00e5 oppgavene vervet inneb\u00e6rer.</p>\n",
        "<p class=\"txt\">\u2013 Jeg tror det er viktig \u00e5 finne ett godt hovedargument n\u00e5r vi jobber med en sak, og bygge opp en god argumentasjon rundt det. Det vil ogs\u00e5 v\u00e6re viktig \u00e5 finne naturlige og gode samarbeidspartnere, sier Anden\u00e6s.</p>\n",
        "<p class=\"mt\">Disse fem er valgt inn i Arbeidsutvalget:</p>\n",
        "<p class=\"txt\"><b>Leder: Marianne Anden\u00e6s (24)</b></p>\n",
        "<p class=\"txt\">Studerer statsvitenskap. Representerer Sosialdemokratene.</p>\n",
        "<p class=\"txt\"><b>Universitetsstyrerepresentant: Daniel Sandbakken Nilsen (24)</b></p>\n",
        "<p class=\"txt\">Studerer spesialpedagogikk. Representerer Venstrealliansen.</p>\n",
        "<p class=\"txt\"><b>Universitetsstyrerepresentant: Tina Alv\u00e6r (29)</b></p>\n",
        "<p class=\"txt\">Studerer samfunns\u00f8konomi. Representerer Bl\u00e5 liste.</p>\n",
        "<p class=\"txt\"><b>Studie- og l\u00e6ringsmilj\u00f8ansvarlig: Runar B. M\u00e6land (25)</b></p>\n",
        "<p class=\"txt\">Studerer filosofi. Representerer Liberal Liste.</p>\n",
        "<p class=\"txt\"><b>Informasjonsansvarlig: Torgeir Lebesbye (26)</b></p>\n",
        "<p class=\"txt\">Studerer informatikk. Representerer Realistlista.</p>\n",
        "<p class=\"txt\"><i>Universitas kommer tilbake med mer senere.</i></p>"
       ],
       "metadata": {},
       "output_type": "display_data",
       "text": [
        "<IPython.core.display.HTML at 0x7fa66aea4198>"
       ]
      },
      {
       "html": [
        "<p class=\"txt\">Ofte har vi inntrykk av at det er lettere for oss mennesker \u00e5 tro p\u00e5 sp\u00f8kelser og engler enn det er \u00e5 tro p\u00e5 vitenskapen. Er dette s\u00e5 farlig? Neppe. Men vi g\u00e5r glipp av mye spennende kunnskap om verden fordi vi ikke greier \u00e5 gripe det de sysler med ute i forskningsfronten. Og siden storparten av forskningen er betalt av oss som skattebetalere eller som markedsakt\u00f8rer, b\u00f8r vi alle v\u00e6re interessert i \u00e5 gj\u00f8re kl\u00f8ften mellom oss og vitenskapen minst mulig</p>\n",
        "<p class=\"txt\">Word. Fra kommentaren \u00abVitenskapen og vi\u00bb i Dagbladet, 20.05.</p>\n",
        "<p class=\"txt\">Fylkesr\u00e5dmann Evy-Anni Evensen vil utsette fusjon av H\u00f8yskolen i Telemark og Universitetet i Agder. Det er fylkestinget i Telemark som skal behandle denne saken i et ekstraordin\u00e6rt m\u00f8te mandag 26. mai. Til n\u00e5 har det v\u00e6rt klart at motstanden mot \u00e5 sl\u00e5 sammen H\u00f8yskolen i Telemark og Universitetet i Agder har v\u00e6rt stor i Agder. Men n\u00e5 r\u00f8rer det seg ogs\u00e5 i Telemark.</p>\n",
        "<p class=\"txt\">Er ikke st\u00f8rre bedre? Fra saken \u00abFylkesr\u00e5dmann vil utsette universitetet\u00bb i Telemarksavisa, 20.05.</p>"
       ],
       "metadata": {},
       "output_type": "display_data",
       "text": [
        "<IPython.core.display.HTML at 0x7fa66aea4198>"
       ]
      },
      {
       "html": [
        "<p class=\"txt\">Studentersamfundet: \u2013 Vi er str\u00e5lende forn\u00f8yd med de siste arrangementene vi har hatt, sier H\u00e5kon S\u00f8iland, leder i Kulturutvalget p\u00e5 Chateau Neuf. Torsdag 8. mai talte Tibets \u00e5ndelige leder, Dalai Lama, til en stappfull sal med studenter. Den 12. mai var de russiske dissidentene i Pussy Riot hovedgjester sammen med den feministiske filosofen Judith Butler. Arrangementene ble avholdt i samarbeid med henholdsvis Arne N\u00e6ss Symposium og The First Supper Symposium. Overskuddet fra Pussy Riot og Butler gikk til organisasjonen Zona Prava, for \u00e5 hjelpe fanger i russiske fengsler. \u2013 Vi har ikke gjort opp regnskap helt enn\u00e5, men jeg vil ansl\u00e5 mellom 600 og 800 betalende gjester der, noe som er bra for et s\u00e5nt arrangement. Det blir en klekkelig sum til gode form\u00e5l, forteller S\u00f8iland.</p>"
       ],
       "metadata": {},
       "output_type": "display_data",
       "text": [
        "<IPython.core.display.HTML at 0x7fa66aea4198>"
       ]
      },
      {
       "html": [
        "<p class=\"txt\">Hjerneflukt</p>\n",
        "<p class=\"txt\">Frederik Zimmer, professor i skatterett ved Det juridiske fakultet ved Universitetet i Oslo (UiO), g\u00e5r av med pensjon ved utl\u00f8pet av dette semesteret og etterlater fakultetet uten en fast ansatt l\u00e6rer i skatterett. Forel\u00f8pig st\u00e5r stillingen uten en potensiell etterf\u00f8lger.</p>\n",
        "<p class=\"txt\">Curt A. Lier, president i Juristforbundet, synes det er bekymringsverdig at Det juridiske fakultet blir st\u00e5ende uten en professor i skatterett.</p>\n",
        "<p class=\"txt\">\u2013 Juristforbundet har lenge fryktet at dette vil bli et stort problem, da det er stadig f\u00e6rre unge som velger akademia, sier Lier.</p>\n",
        "<p class=\"txt\">Han frykter at professormangelen vil p\u00e5virke kvaliteten p\u00e5 undervisningen og derfor virke negativt p\u00e5 fremtidig kompetanse innenfor skattefeltet.</p>\n",
        "<p class=\"mt\">G\u00e5r av med pensjon</p>\n",
        "<p class=\"txt\">Zimmer har selv uttrykt bekymring over mangelen p\u00e5 s\u00f8kere, men understreker samtidig at skatterett er et lite fag med en relativt snever rekrutteringsbase. Han tror ogs\u00e5 at mye av \u00e5rsaken ligger i at n\u00e6ringslivet fremst\u00e5r som et mer interessant alternativ for jurister med kompetanse innenfor skattefeltet.</p>\n",
        "<p class=\"txt\">\u2013 Det finnes flere kvalifiserte folk, men disse har valgt \u00e5 bli advokater. Jeg tror det er en temperamentssak. Noen foretrekker et sosialt arbeidsmilj\u00f8 hvor det skjer mye, og der stiller akademia svakere, forteller Zimmer.</p>\n",
        "<p class=\"txt\">Han tror imidlertid at flere vil \u00f8nske \u00e5 drive med akademisk virksomhet etter hvert, og derfor vende tilbake til universitetene.</p>\n",
        "<p class=\"mt\">Etterlyser mer aggressiv politikk</p>\n",
        "<p class=\"txt\">Curt A. Lier i Juristforbundet mener at det m\u00e5 gj\u00f8res en omfattende analyse av hvorfor kvalifiserte kandidater ikke s\u00f8ker p\u00e5 stillingene.</p>\n",
        "<p class=\"txt\">\u2013 For \u00e5 kunne rekruttere nye s\u00f8kere er fakultetet avhengig av \u00e5 finne den fullstendige \u00e5rsaken til hvorfor n\u00e6ringslivet fremst\u00e5r som mer attraktivt. Vi m\u00e5 f\u00f8re en mer aggressiv politikk og tenke bredere enn det som har blitt gjort tidligere, sier han.</p>\n",
        "<p class=\"txt\">Han tilf\u00f8yer at l\u00f8nn og status sannsynligvis er viktige faktorer, men ikke en fullverdig forklaring p\u00e5 s\u00f8kermangelen.</p>\n",
        "<p class=\"txt\">\u2013 Professorstillingene er forholdsvis d\u00e5rlig betalt og hadde dessuten h\u00f8yere status f\u00f8r. Den yngre generasjonen viser mer interesse for \u00f8konomisk gevinst og st\u00e5r derfor ikke akkurat i k\u00f8 for \u00e5 ta over jobbene, sier Lier.</p>\n",
        "<p class=\"mt\">F\u00e5r skryt for innsats</p>\n",
        "<p class=\"txt\">Amund Noss, sjef for skattelovsavdelingen i Finansdepartementet, mener det er viktig \u00e5 opprettholde det undervisningsniv\u00e5et Zimmer har st\u00e5tt for.</p>\n",
        "<p class=\"txt\">\u2013 Frederik Zimmer er en bauta i norsk skatterett, s\u00e5 det vil bli vanskelig \u00e5 finne noen som kan erstatte ham, sier Noss, som h\u00e5per Zimmer vil fortsette \u00e5 oppdatere de \u00abveldig gode\u00bb l\u00e6reb\u00f8kene han har skrevet i skatterett.</p>\n",
        "<p class=\"txt\">Han forteller at tett kontakt med ledende akademikere er viktig for arbeidet i skattelovavdelingen.</p>\n",
        "<p class=\"txt\">\u2013 For oss vil det v\u00e6re veldig synd hvis vi ender opp uten et godt skattefaglig milj\u00f8 p\u00e5 universitetet, sier han.</p>\n",
        "<p class=\"mt\">Et problem for hele landet</p>\n",
        "<p class=\"txt\">Dekan ved Det juridiske fakultet ved UiO, Hans Petter Graver, synes det er sv\u00e6rt beklagelig at fakultetet ikke har funnet en etterf\u00f8lger til Zimmer. Han mener det er et resultat av uheldige prioriteringer.</p>\n",
        "<p class=\"txt\">\u2013 Departementet og Forskningsr\u00e5det har de siste ti \u00e5rene prioritert internasjonale og tverrfaglige emner. Vi har derfor ikke gitt tilstrekkelig oppmerksomhet til sentrale juridiske fag, sier Graver.</p>\n",
        "<p class=\"txt\">Han p\u00e5peker imidlertid at kvaliteten p\u00e5 emnet vil opprettholdes, men forteller at dette ogs\u00e5 er et problem ved b\u00e5de Universitetet i Troms\u00f8 og Bergen.</p>\n",
        "<p class=\"txt\">\u2013 Det som er bekymringsverdig, er at dette er et problem ved flere av de juridiske fakultetene. Alle l\u00e6restedene sliter med rekruttering, noe som er problematisk dersom skatterettsdisiplinen skal utvikle seg i riktig retning, sier han.</p>\n",
        "<p class=\"txt\">Graver legger til at det er flere av de juridiske disiplinene som sliter med rekruttering, og at det derfor er tilfeldig at det er skatterett det er snakk om i dette tilfellet.</p>\n",
        "<p class=\"mt\">Valgte bort akademia</p>\n",
        "<p class=\"txt\">Bettina Banoun har en doktorgrad i skatterett fra UiO og er regnet som en av Norges fremste eksperter innen feltet. Hun har valgt bort en karriere innenfor akademia for \u00e5 jobbe som partner i advokatfirmaet Wiersholm. For henne var det \u00e5 jobbe med konkrete saker utslagsgivende for valg av karriere.</p>\n",
        "<p class=\"txt\">\u2013 En jobb p\u00e5 Universitetet er imidlertid b\u00e5de givende og viktig, s\u00e5 jeg vil ikke utelukke det p\u00e5 et senere tidspunkt. Det er likevel mye spennende skattejuss i praksis som jeg forel\u00f8pig ikke vil gi opp, sier Banoun.</p>"
       ],
       "metadata": {},
       "output_type": "display_data",
       "text": [
        "<IPython.core.display.HTML at 0x7fa66aea4198>"
       ]
      },
      {
       "html": [
        "<p class=\"txt\">Politikk</p>\n",
        "<p class=\"txt\">\u2013 H\u00f8yre har trukket tilbake mange klare valgl\u00f8fter som de ga i valgkampen, etter at valgresultatet var et faktum, sier Helga Pedersen, nestleder i Arbeiderpartiet.</p>\n",
        "<p class=\"txt\">Hun mener H\u00f8yre har sviktet heltidsstudenten ved ikke \u00e5 gjennomf\u00f8re elleve m\u00e5neders studiest\u00f8tte. Da den r\u00f8dgr\u00f8nne regjeringen la fram sitt siste statsbudsjett, foreslo de \u00e5 utvide studiest\u00f8tteperioden fra ti til elleve m\u00e5neder i \u00e5ret. Den borgerlige regjeringen droppet forslaget, som flere mente var en snubletr\u00e5d, og valgte heller \u00e5 \u00f8ke den generelle studiest\u00f8tten.</p>\n",
        "<p class=\"txt\">I en unders\u00f8kelse utf\u00f8rt av Sentio for Universitas og Norsk studentorganisasjon (NSO) er Arbeiderpartiet den store vinneren blant studentene med 24 prosents oppslutning, noe som er en oppgang p\u00e5 syv prosentpoeng og en \u00f8kning p\u00e5 hele 41 prosent fra en tilsvarende m\u00e5ling p\u00e5 tampen av de r\u00f8dgr\u00f8nnes stortingsperiode for ett \u00e5r siden. H\u00f8yre har p\u00e5 sin side g\u00e5tt tilbake med \u00e5tte prosentpoeng, eller 33 prosent i samme periode. De to partiene har dermed byttet plass p\u00e5 tronen over Norges st\u00f8rste studentpartier.</p>\n",
        "<p class=\"mt\">Skylder p\u00e5 reservasjonsretten</p>\n",
        "<p class=\"txt\">Kunnskapsminister Torbj\u00f8rn R\u00f8e Isaksen fra H\u00f8yre tror ikke den synkende oppslutningen blant studenter har s\u00e5 mye med partiets utdanningspolitikk \u00e5 gj\u00f8re.</p>\n",
        "<p class=\"txt\">\u2013 N\u00e5 svinger jo disse m\u00e5lingene opp og ned. Studenter f\u00f8lger mye med p\u00e5 vanlig samfunnsliv, og hvis det er noe som sl\u00e5r inn, tror jeg saker som reservasjonsretten ikke har v\u00e6rt en popul\u00e6r sak blant studenter, sier han.</p>\n",
        "<p class=\"txt\">Hva ang\u00e5r den mye omdiskuterte studiest\u00f8tten, gj\u00f8r R\u00f8e Isaksen det klart at det aldri var noe de frontet under fjor\u00e5rets valgkamp.</p>\n",
        "<p class=\"txt\">\u2013 Det sto ikke i programmet v\u00e5rt en gang, s\u00e5 det er ikke noe vi har trukket tilbake. N\u00e5r det gjelder alt annet, s\u00e5 er vi i gang med det vi har sagt at vi skal gj\u00f8re, forteller R\u00f8e Isaksen.</p>\n",
        "<p class=\"mt\">Angrer p\u00e5 H\u00f8yre-stemmen</p>\n",
        "<p class=\"txt\">Kaja Elisabeth de Ru g\u00e5r Europastudier ved Universitetet i Oslo og stemte H\u00f8yre under fjor\u00e5rets stortingsvalg. I dag ville hun valgt annerledes.</p>\n",
        "<p class=\"txt\">\u2013 Hadde det v\u00e6rt stortingsvalg i morgen, ville jeg stemt Venstre, sier de Ru.</p>\n",
        "<p class=\"txt\">Hun er skuffet over H\u00f8yres innsats i regjering.</p>\n",
        "<p class=\"txt\">\u2013 At de kuttet elleve m\u00e5neders studiest\u00f8tte, og hele saken med reservasjonsretten, har skuffet meg veldig, sier hun.</p>\n",
        "<p class=\"txt\">Isaksen mener imidlertid ikke elleve m\u00e5neders studiest\u00f8tte er et steg i riktig retning for heltidsstudenten.</p>\n",
        "<p class=\"txt\">\u2013 Det betyr jo bare at man gir den samme lave utbetalingen som f\u00f8r, bare en m\u00e5ned ekstra. Vi har sagt at vi skal \u00f8ke studiest\u00f8tten over prisstigninga, og at studentboliger er det aller viktigste studentvelferdstiltaket, sier Isaksen.</p>\n",
        "<p class=\"txt\"><I>\u2013 Hva vil du gj\u00f8re for \u00e5 vinne studentene tilbake?</I></p>\n",
        "<p class=\"txt\">\u2013 Jeg tror studenter er bredt samfunnsengasjert. Det at vi har en offensiv klimapolitikk og klarer \u00e5 opprettholde spennende arbeidsplasser i Norge, er minst like viktig for studentenes stemmegivning, sier Isaksen.</p>\n",
        "<p class=\"mt\">Spennende med opposisjon</p>\n",
        "<p class=\"txt\">Johannes Bergh, valgforsker ved Institutt for Samfunnsforskning, tror \u00e5rsaken til H\u00f8yres synkende oppslutning er ren regjeringsslitasje. If\u00f8lge Bergh kan velgerne allerede ha begynt \u00e5 g\u00e5 lei av den borgerlige regjeringen.</p>\n",
        "<p class=\"txt\">\u2013 Saker som elleve m\u00e5neders studiest\u00f8tte og reservasjonsretten har engasjert mange unge. Men man m\u00e5 ogs\u00e5 huske at blant studenter er det store utskiftninger i studentmassen fra et \u00e5r til et annet, sier Bergh.</p>\n",
        "<p class=\"txt\"><I>\u2013 Er H\u00f8yre \u00abavsl\u00f8rt\u00bb?</I></p>\n",
        "<p class=\"txt\">\u2013 Det er mye mer spennende med opposisjonspartier. Man g\u00e5r veldig fort lei av de som er i posisjon. S\u00e5nn var det absolutt med den r\u00f8dgr\u00f8nne regjeringen da de satt med makten.</p>\n",
        "<p class=\"txt\"><I>\u2013 Hvorfor gj\u00f8r Arbeiderpartiet det s\u00e5 bra etter mange \u00e5r i regjering?</I></p>\n",
        "<p class=\"txt\">\u2013 De gjorde det ikke s\u00e5 bra for ett \u00e5r siden. Regjeringsslitasjen er p\u00e5 vei bort, sier Bergh.</p>\n",
        "<p class=\"txt\">Ola Magnussen Rydje, leder i Norsk studentorganisasjon, sier seg enig med Bergh i at H\u00f8yres nedgang skyldes regjeringsslitasje. \u2013 Det er jo vanskelig \u00e5 si s\u00e5 mye ut i fra unders\u00f8kelsen, men H\u00f8yre har v\u00e6rt flinke til \u00e5 sette fokus p\u00e5 utdanning, sier Rydje.</p>\n",
        "<p class=\"txt\">Mandatfordeling:</p>\n",
        "<p class=\"txt\">Ap: 56</p>\n",
        "<p class=\"txt\">H: 34</p>\n",
        "<p class=\"txt\">MDG: 23</p>\n",
        "<p class=\"txt\">KrF: 18</p>\n",
        "<p class=\"txt\">Frp: 15</p>\n",
        "<p class=\"txt\">SV: 11</p>\n",
        "<p class=\"txt\">V: 10</p>\n",
        "<p class=\"txt\">R\u00f8dt 2</p>\n",
        "<p class=\"tit\">Milj\u00f8partiet tredje st\u00f8rst</p>\n",
        "<p class=\"txt\">Studentenes partipreferanser:</p>\n",
        "<p class=\"txt\">Milj\u00f8partiet De Gr\u00f8nne (MDG) har doblet oppslutningen fra 2013 og er n\u00e5 landets tredje st\u00f8rste parti blant studentene, med en oppslutning p\u00e5 11 prosent. Det viser Sentios ferske studentunders\u00f8kelse foretatt p\u00e5 oppdrag fra Universitas og Norsk Studentorganisasjon.</p>\n",
        "<p class=\"txt\">MDGs talsmann og eneste representant p\u00e5 stortinget, Rasmus Hansson, er sv\u00e6rt forn\u00f8yd med at hans parti er det tredje st\u00f8rste blant studentene.</p>\n",
        "<p class=\"txt\">\u2013 S\u00e5 fornuftige studenter vi har f\u00e5tt da! Dette er stor stas. Det er h\u00e5p for fremtiden og politikken n\u00e5r s\u00e5 mange unge folk tenker at de vil komme i gang med \u00e5 skape det nye b\u00e6rekraftige velferdssamfunnet, sier Hansson.</p>\n",
        "<p class=\"txt\">Valgforsker Johannes Bergh synes det er spennende at Milj\u00f8partiet De Gr\u00f8nne gj\u00f8r det s\u00e5 skarpt blant studentene.</p>\n",
        "<p class=\"txt\">\u2013 Det er interessant. Ved valget i h\u00f8st tror jeg ikke de appellerte sterkt til unge velgere. De gjorde det heller ikke spesielt godt ved skolevalget. Denne unders\u00f8kelsen tyder p\u00e5 at det kan ha endret seg n\u00e5, sier Bergh.</p>\n",
        "<p class=\"txt\">Hansson mener en god oppslutning blant studentene betyr at de har forst\u00e5tt hvilke utfordringer Norge og verden st\u00e5r overfor i framtiden.</p>\n",
        "<p class=\"txt\">\u2013 Studenter bruker tid p\u00e5 \u00e5 dytte kunnskap inn i hodene sine, og det er sammenheng mellom det og \u00e5 skj\u00f8nne de utfordringene samfunnet st\u00e5r overfor. Tallet tyder p\u00e5 at det er en slik sammenheng, sier Hansson.</p>"
       ],
       "metadata": {},
       "output_type": "display_data",
       "text": [
        "<IPython.core.display.HTML at 0x7fa66aea4198>"
       ]
      },
      {
       "html": [
        "<p class=\"txt\">VG skriver i dag (HENVISNING TIL (http://www.vg.no/nyheter/innenriks/udi/narkodoemt-ble-aktivist-faar-bli-i-norge/a/10123484/ HER) om en innvandrer som, etter \u00e5 ha sonet fire \u00e5r i Norge for narkotikakriminalitet, skulle kastes ut av landet, men som ble menneskerettighetsaktivist og fikk bli i stedet.</p>\n",
        "<p class=\"txt\">I en egen sak skriver VG videre (HENVISNING TIL http://www.vg.no/nyheter/innenriks/udi/professor-roser-innsatsen-til-narkodoemt/a/10123487/) at mannen skal ha f\u00e5tt st\u00f8tte fra en anerkjent professor. Professoren var med \u00e5 stifte menneskerettighetsorganisasjonen med mannen, og vitnet til fordel for den straffed\u00f8mte da han saks\u00f8kte staten.</p>\n",
        "<p class=\"mt\">Mot hensikten</p>\n",
        "<p class=\"txt\">\u2013 For det f\u00f8rste er vi helt imot at noen bruker aktiviteter for \u00e5 f\u00e5 opphold i Norge. Det er mot hensikten v\u00e5r, sier den Oslo-baserte professoren til Universitas</p>\n",
        "<p class=\"txt\">Han forteller videre at de p\u00e5 flere m\u00f8ter har diskutert at det skal v\u00e6re en betingelse at medlemmene av slike menneskerettighetsorganisasjoner b\u00f8r ha oppholdstillatelse f\u00f8r de blir medlemmer, s\u00e5 de ikke blir med for \u00e5 misbruke systemet.</p>\n",
        "<p class=\"txt\">\u2013 Men vi har ingen mulighet til \u00e5 sjekke bakgrunnen til folk. Vi baserer oss p\u00e5 det personene gj\u00f8r over tid, sier professoren.</p>\n",
        "<p class=\"mt\">Ukjent fortid</p>\n",
        "<p class=\"txt\">Den narkotikad\u00f8mte og professoren skal ha vokst opp i samme land, og de skal if\u00f8lge den d\u00f8mte mannen ha kjent hverandre sv\u00e6rt lenge. Professoren sier til VG at han m\u00f8tte den straffed\u00f8mte f\u00f8rste gang for fire \u00e5r siden, og ikke kjente mannens narkotika-fortid.</p>\n",
        "<p class=\"txt\"><i>Ville dere i styret til denne menneskerettighetsorganisasjonen ha stemt inn mannen som leder hvis dere visste om mannens fortid med narkotikadom og lange kamp for oppholdstillatelse?</i></p>\n",
        "<p class=\"txt\">\u2013 Om vi hadde f\u00e5tt den informasjonen, og skulle ha valgt leder, ville nok ikke vedkommende ha blitt valgt av gruppa, nei, sier professoren.</p>\n",
        "<p class=\"txt\">VG skriver at professoren vitnet for den narkod\u00f8mte da mannen saks\u00f8kte staten. Selv sier professoren at han kun svarte p\u00e5 et sp\u00f8rsm\u00e5l.</p>\n",
        "<p class=\"txt\">\u2013 Jeg svarte kun p\u00e5 sp\u00f8rsm\u00e5l om vedkommende ville v\u00e6rt i fare ved tvangsretur til hjemlandet sitt.</p>\n",
        "<p class=\"txt\">Menneskerettighetsorganisasjonen er en liten, lokal organisasjon i Oslo, og har n\u00e5 skiftet navn.</p>\n",
        "<p class=\"txt\">arews@universitas.no</p>"
       ],
       "metadata": {},
       "output_type": "display_data",
       "text": [
        "<IPython.core.display.HTML at 0x7fa66aea4198>"
       ]
      },
      {
       "html": [
        "<p class=\"txt\">BUDSJETTSPREKK: H\u00f8gskolen i Buskerud (HiB) skal bruke totalt 58 millioner kroner p\u00e5 \u00e5 flytte til nye lokaler i Kongsberg. Det er nesten 20 ganger s\u00e5 mye som det opprinnelige budsjettet p\u00e5 tre millioner, melder Dagens N\u00e6ringsliv. HiB fusjonerte med H\u00f8gskolen i Vestfold (HiVe) 1. januar.</p>\n",
        "<p class=\"txt\">Leder for den sammensl\u00e5tte h\u00f8yskolen sier til avisa at han ble overrasket da de reelle flyttekostnadene kom p\u00e5 bordet for kort tid siden.</p>\n",
        "<p class=\"txt\">\u2013 Jeg er selvf\u00f8lgelig ikke veldig forn\u00f8yd med at H\u00f8gskolen i Buskerud ikke hadde avsetninger til \u00e5 dekke dette. Den ballen m\u00e5 vi n\u00e5 ta, sier Aasen, som frem til nytt\u00e5r var rektor i Vestfold, til Dagens N\u00e6ringsliv.</p>\n",
        "<p class=\"txt\">Kunnskapsdepartementet godkjente flyttingen i september i fjor. Betingelsen var at flyttekostnadene m\u00e5tte tas fra eget, ordin\u00e6rt budsjett, og at leieutgiftene ikke \u00f8kte fra dagens 20 millioner kroner.</p>"
       ],
       "metadata": {},
       "output_type": "display_data",
       "text": [
        "<IPython.core.display.HTML at 0x7fa66aea4198>"
       ]
      },
      {
       "html": [
        "<p class=\"txt\">GRUVEULYKKE: Studenter har okkupert Det tekniske universitetet i Istanbul som en protest etter en gruveulykke der 301 d\u00f8de, melder VG.</p>\n",
        "<p class=\"txt\">Protestene skyldes universitetets forbindelser til selskapet Some Komur, som driver gruva. P\u00e5 fredag utviklet demonstrasjonene seg til en okkupasjon da 1000 studenter sperret d\u00f8rene til universitetet med lenker.</p>\n",
        "<p class=\"txt\">Som f\u00f8lge av okkupasjonen har universitetet annonsert at de skal kutte sine forbindelser til gruveselskapet. Men studentene har ikke sl\u00e5tt seg til ro med dette.</p>\n",
        "<p class=\"txt\">\u2013 Universitetet er medskyldig i gruvearbeidernes d\u00f8d. Gruveselskapet holdt et seminar her to uker f\u00f8r ulykken, sier en av studentene til VG.</p>"
       ],
       "metadata": {},
       "output_type": "display_data",
       "text": [
        "<IPython.core.display.HTML at 0x7fa66aea4198>"
       ]
      },
      {
       "html": [
        "<p class=\"txt\">De ser kanskje ikke ut til \u00e5 v\u00e6re s\u00e5 voldsomt bekymra for global oppvarming, studentene som i disse dager slanger seg i gresset p\u00e5 landets campuser. Men ferske tall bekrefter n\u00e5 at jo, vi lar oss uroe av klimaendringene som vi i \u00f8kende grad syns vi f\u00e5r f\u00f8le p\u00e5 kroppen. For mens den partipolitiske vinden blant studentene har snudd fra bl\u00e5tt til r\u00f8dt, er det jokeren Milj\u00f8partiet De Gr\u00f8nne som virkelig gj\u00f8r et byks p\u00e5 unders\u00f8kelsen Universitas og Norsk studentorganisasjon har foretatt blant landets studenter. Oppslutningen er doblet p\u00e5 et \u00e5r, og partiet er n\u00e5 landets tredje st\u00f8rste blant studentvelgerne. I g\u00e5r kom i tillegg det \u00e5rlige Klimabarometeret, som viser at unge under 30 \u00e5r er mer opptatt av klimaet enn noen gang.</p>\n",
        "<p class=\"txt\">Norges st\u00f8rste universitet er tilsynelatende med p\u00e5 notene; Universitetet i Oslo (UiO) har som uttalt m\u00e5l \u00e5 bli et \u00abgr\u00f8nt universitet\u00bb. Men for noen uker siden, allerede lenge etter at de f\u00f8rste premature v\u00e5rstr\u00e5lene hadde begynt \u00e5 tine opp Oslo-boerne, meldte Framtiden i v\u00e5re hender (FIVH) at UiO via forvaltningsstiftelsen UNIFOR investerer 600 millioner i ulike aksje- og rentefond der flere har tung overvekt av olje- og offshoreselskaper. Da hadde studentpolitikerne ved UiO flere ganger tatt til orde mot petroleumsforskning, og lederen av FIVHs studentlag i Oslo raste mot Universitetet.</p>\n",
        "<p class=\"txt\">Det oppsiktsvekkende var rektor Ole Petter Ottersens reaksjon p\u00e5 gjennomgangen i Dagsavisen. Han har bare en ting \u00e5 si: Universitetet f\u00f8lger Oljefondets retningslinjer. Sist gang Universitas skrev om kontroversielle UNIFOR-investeringer, pekte Ottersen p\u00e5 de samme retningslinjene og lovet en gjennomgang av praksisen. Men Oljefondets retningslinjer fungerer alts\u00e5 stadig som et automatisk godkjentstempel i hans verden, ogs\u00e5 etter at man denne v\u00e5ren har v\u00e6rt n\u00e6r et stortingsflertall for \u00e5 trekke fondet ut av kull \u2013 noe retningslinjene i dag ikke sier et pip om.</p>\n",
        "<p class=\"txt\">I ukas kulturseksjon kan du lese om forskningsprosjektet som tar for seg skyldf\u00f8lelsen over \u00e5 v\u00e6re privilegert skandinav. Noen ganger er selvpisking p\u00e5 sin plass n\u00e5r man tilh\u00f8rer en av de nasjonene som har nytt best av \u00abolj\u00e5\u00bb. For virker fossile investeringer spesielt etisk i en verden der det if\u00f8lge FN er maktp\u00e5liggende for v\u00e5r eksistens at de fossile ressursene stort sett blir liggende i bakken?</p>\n",
        "<p class=\"txt\">Svaret er nei. Og som rektor for 27 000 av landets stadig mer klimabekymra studenter b\u00f8r Ottersen ta det til f\u00f8lge og s\u00f8rge for at Universitetets fondsmillioner ikke spr\u00f8ytes inn i olje og gass.</p>"
       ],
       "metadata": {},
       "output_type": "display_data",
       "text": [
        "<IPython.core.display.HTML at 0x7fa66aea4198>"
       ]
      },
      {
       "html": [
        "<p class=\"mt\">Sin egen herre \u2013 Halld\u00f3r Laxness (1934)</p>\n",
        "<p class=\"txt\">Laxness oppdaget jeg altfor sent, for fire-fem \u00e5r siden. Jeg hadde bare h\u00f8rt om ham som islandsk kommunist, og jeg er jo antikommunist. Skj\u00f8nnlitteratur overrasker meg sjeldnere og sjeldnere, men dette er en helt fantastisk bok! Sterk, gripende og <i>meget</i> depressiv. Han beskriver Island p\u00e5 begynnelsen av det forrige \u00e5rhundre, et samfunn preget av ekstrem fattigdom og elendige livsforhold. Det er en menneskelig tragedie som tar tak i deg og drar deg ned i de store dypene. Bare to ganger i l\u00f8pet av lesingen var jeg oppe og snappet luft. Jeg ble f\u00f8lelsesmessig utmattet av \u00e5 lese denne boken \u2013 alt g\u00e5r galt hele tiden, nesten som i norsk landbruk. Denne boken tror jeg at jeg brukte et halvt \u00e5r p\u00e5, faktisk, for \u00e5 f\u00e5 overskudd til \u00e5 g\u00e5 videre.</p>\n",
        "<p class=\"mt\">Br\u00f8drene Karamasov \u2013 Fjodor Dostojevskij (1880)</p>\n",
        "<p class=\"txt\">Dette er verdens beste roman! Jeg er egentlig ikke s\u00e5 glad i krim, men har du lest denne, orker du ikke Nesb\u00f8. Boken er superspennende, med fantastiske person- og moralskildringer. Den beste m\u00e5ten \u00e5 forst\u00e5 menneskene er gjennom skj\u00f8nnlitteratur. Dostojevskij var s\u00e5 opptatt av at menneskene skulle gj\u00f8re det rette, og denne handler om Gud som veileder i menneskenes liv. Br\u00f8drene Karamasov burde inn p\u00e5 pensumlistene p\u00e5 all verdens universiteter, men den tar tid \u00e5 lese. Hvis du sluker denne s\u00e5 mister du alle lekkerbiskenene. Du skal ikke lese for \u00e5 <i>sluke</i>, men for \u00e5 se hva du kan <i>bruke</i>, ikke sant.</p>\n",
        "<p class=\"mt\">De nasjonale strateger \u2013 Rune Slagstad (1998)</p>\n",
        "<p class=\"txt\">Rune er flink, han! Denne boken er en fantastisk skildring av Norges historie fra 1814 og fremover, med menneskene som skapte samtiden i sentrum. Boken er sv\u00e6rt godt skrevet og <i>ekstremt</i> innsiktsfull. Jeg er veldig interessert i historie, spesielt menneskerettigheter. Boken minnet meg p\u00e5 min studietid da jeg jobbet for en organisasjon som het Nye S\u00f8nner av Sovjet. Vi reiste som spioner og delte ut bibelen, dollar og kodede beskjeder til russiske opposisjonelle. S\u00e5 da muren falt var jo det f\u00f8rst og fremst takket v\u00e6re min innsats i studietiden, hehe. Karakterkortet mitt var kanskje ikke det mest imponerende, men jeg kunne jo ikke lese \u00f8konomi hele tiden.</p>\n",
        "<p class=\"mt\">Anna Karenina - Lev Tolstoj (1878)</p>\n",
        "<p class=\"txt\">En enest\u00e5ende kj\u00e6rlighetsroman. Dypest sett handler all stor romankunst om kj\u00e6rlighet. Det er ingenting som er st\u00f8rre enn kj\u00e6rlighet, og ingen formidler det bedre enn Tolstoj i <i>Anna Karenina</i>. Denne leste jeg rett etter jeg hadde m\u00f8tt min n\u00e5v\u00e6rende kone, Margrethe, november 1998. S\u00e5 det passet perfekt \u00e5 lese den da. Min kone har forresten sagt til meg at jeg ikke f\u00e5r lov til \u00e5 kj\u00f8pe flere b\u00f8ker, fordi vi drukner i dem. Derfor hadde jeg forleden bokb\u00e5l med alle b\u00f8kene mine fra Handelsh\u00f8yskolen. Det var helt problemfritt, jeg er ikke sentimental. \u00d8konomifaget har kommet langt siden syttitallet. Vi hadde ikke plass til dem mer, s\u00e5 da brant jeg hele dritten.</p>\n",
        "<p class=\"mt\">Yahya Hassan \u2013 Yahya Hassan (2013)</p>\n",
        "<p class=\"txt\">Av og til m\u00e5 en innvandrer si det selv. Ved \u00e5 skildre sin egen far og sin egen familie, beskriver Hassan islam p\u00e5 sitt verste: En undertrykkende, middelaldersk kultur midt i K\u00f8benhavn. I Norge kan du ikke si mye spisset om innvandringsproblematikk f\u00f8r du blir stemplet som rasist. Jeg beundrer danskene som kan ha et s\u00e5 fritt ordskifte rundt vanskelige problemer i samfunnet. Jeg elsker \u00e5 diskutere \u2013 vi trenger debatt for \u00e5 fremme motforestillinger og kritisk tenkning. Det kan v\u00e6re vonde prosesser, fordi man av og til m\u00e5 gi opp egne oppfatninger. Slik jeg oppfatter det er dagens studenter mindre i opposisjon mot autoriteter enn f\u00f8r. Det bekymrer meg. De er blitt lydige.</p>\n",
        "<p class=\"mt\">Sannheten p\u00e5 bordet \u2013 Niels Christian Geelmuyden (2013)</p>\n",
        "<p class=\"txt\">Denne er det min yngste bror som har skrevet. Det er en fantastisk bra bok med et sv\u00e6rt grundig kildearbeid! Niels Christian skildrer norsk matproduksjon gjennom et globalt bakgrunnsteppe og hvordan vi fors\u00f8pler kroppen v\u00e5r med skitten mat. Temaet er meget tankevekkende for meg som har s\u00e5 mye ugjort. Jeg h\u00e5per \u00e5 bli minst 120 \u00e5r, s\u00e5 n\u00e5 legger jeg om dietten til kompost og alger.</p>"
       ],
       "metadata": {},
       "output_type": "display_data",
       "text": [
        "<IPython.core.display.HTML at 0x7fa66aea4198>"
       ]
      },
      {
       "html": [
        "<p class=\"txt\">Universitas er Norges st\u00f8rste og eldste studentavis. Avisa har et opplag p\u00e5 17 000 og utgis hver uke i v\u00e5r- og h\u00f8stsemesteret. Redaksjonen best\u00e5r av rundt 40 medarbeidere.</p>\n",
        "<p class=\"txt\">Universitas er en ung og dynamisk mediebedrift med et kreativt og sosialt milj\u00f8. Vi s\u00f8ker en strukturert, l\u00f8sningsorientert og ryddig person. Du m\u00e5 ogs\u00e5 gjerne v\u00e6re utadvendt, \u00e5pen og kreativ.</p>\n",
        "<p class=\"txt\">Daglig leder skal ivareta og utvikle de administrative og \u00f8konomiske rutinene i Universitas, samt lede og st\u00f8tte annonseansvarlig i dennes arbeid. Daglig leder har ansvar for \u00e5 ha oversikt og kontroll med organisasjonens \u00f8konomi b\u00e5de p\u00e5 budsjett- og regnskapssiden.</p>\n",
        "<p class=\"txt\">Han/hun har ansvar for det tekniske utstyret, eventuelle investeringer, og for inntjening.</p>\n",
        "<p class=\"txt\">Daglig leder er ogs\u00e5 administrativt ansvarlig for avl\u00f8nning, og for \u00e5 f\u00f8lge opp arbeidsgiveransvar.</p>\n",
        "<p class=\"txt\">I stillingen ligger ogs\u00e5 et visst system-, program og driftsansvar for Universitas' data/IT-utstyr, samt</p>\n",
        "<p class=\"txt\">oversikt over og pleie av distribusjonsapparat og abonnenter.</p>\n",
        "<p class=\"txt\">Daglig leder kan ogs\u00e5 gjerne jobbe med synliggj\u00f8ring av Universitas som merkevare.</p>\n",
        "<p class=\"txt\">Stillingen krever h\u00f8yere utdannelse fra universitet/h\u00f8gskole og/eller relevant praksis fra regnskapsarbeid og \u00f8konomistyring. Videre er det \u00f8nskelig med praksis fra annet administrativt arbeid og kontorledelse. Det er en fordel med grunnleggende kunnskap om informasjonsarbeid,</p>\n",
        "<p class=\"txt\">data/IT og organisasjonsarbeid.</p>\n",
        "<p class=\"txt\">Stillingen er en 3-\u00e5rig \u00e5rem\u00e5lsstilling.</p>\n",
        "<p class=\"txt\">Startl\u00f8nn er l\u00f8nnstrinn 35, med en \u00f8kning p\u00e5 ett l\u00f8nnstrinn per \u00e5r i perioden p\u00e5 3 \u00e5r. Arbeidstiden er sv\u00e6rt fleksibel.</p>\n",
        "<p class=\"txt\">Tiltredelse:  1. august.</p>\n",
        "<p class=\"txt\">S\u00f8knad med CV sendes til:</p>\n",
        "<p class=\"txt\">Universitas v/ styreleder Espen Langbr\u00e5ten Wilberg</p>\n",
        "<p class=\"txt\">Postboks 89, Blindern</p>\n",
        "<p class=\"txt\">0314 Oslo</p>\n",
        "<p class=\"txt\">eller p\u00e5 epost:</p>\n",
        "<p class=\"txt\">espenlw@student.sv.uio.no med kopi til monicrei@universitas.no</p>\n",
        "<p class=\"txt\"><b>S\u00f8knaden m\u00e5 v\u00e6re Universitas i hende senest tirsdag 10. juni.</b></p>\n",
        "<p class=\"txt\">Sp\u00f8rsm\u00e5l om stillingen kan rettes til:</p>\n",
        "<p class=\"txt\">styreleder Espen Langbr\u00e5ten Wilberg (tlf: 977 81 819)</p>\n",
        "<p class=\"txt\">eller daglig leder Monica Reigstad (tlf: 930 30 437)</p>"
       ],
       "metadata": {},
       "output_type": "display_data",
       "text": [
        "<IPython.core.display.HTML at 0x7fa66aea4198>"
       ]
      },
      {
       "html": [
        "<p class=\"bt\"><b>Klapp meg!: </b>Ved Universitetet i Leicester f\u00e5r studentene et noe usedvanlig tilbud for \u00e5 roe ned eksamensnervene.</p>\n",
        "<p class=\"mt\">F\u00f8lte seg mobbet under tiden som prorektor</p>\n",
        "<p class=\"txt\">Prorektor Ruth Fjeld leverte sin avskjed i april etter \u00e5 ha f\u00f8lt seg frosset ut av de andre i rektorkollegiet.</p>\n",
        "<p class=\"txt\">Fredag skriver Klassekampen at Ottersen ville unng\u00e5 nyvalg ved \u00e5 be Fjeld si \u00abminst mulig\u00bb om sin egen avgang. http://klassekampen.no/article/20140523/ARTICLE/140529979</p>\n",
        "<p class=\"txt\">\u2013 Jeg ble fratatt alle de viktigste oppgavene, og avgj\u00f8relser ble tatt n\u00e5r jeg ikke var til stede, sier Fjeld til avisa. Hun opplevde det som mobbing.</p>\n",
        "<p class=\"txt\">Universitetets rektor skal ha lagt stor vekt p\u00e5 at den offisielle begrunnelsen m\u00e5tte v\u00e6re at hun trakk seg av \u00abpersonlige grunner\u00bb, og nettopp dette kom frem i pressemeldingen fra ledelsen to uker senere.</p>\n",
        "<p class=\"txt\">I en mailkorrespondanse mellom Fjeld og Ottersen som Klassekampen har f\u00e5tt tilgang til, g\u00e5r det fram at rektoren ga klar beskjed til sin avtroppende prorektor om hvordan han \u00f8nsket at denne saken skulle presenteres n\u00e5r den kom til styrebehandling den 6. mai.</p>\n",
        "<p class=\"txt\">Fjeld mener Ottersen pr\u00f8vde \u00e5 gi henne munnkurv overfor eget styre. Rektor Ole Petter Ottersen benekter \u00e5 ha fors\u00f8kt \u00e5 p\u00e5legge Fjeld munnkurv.</p>\n",
        "<p class=\"txt\">\u2013 Fjeld var til stede under styrets behandling av saken. Hun hadde mulighet til \u00e5 ta ordet, noe hun valgte \u00e5 ikke gj\u00f8re, skriver Ottersen.</p>\n",
        "<p class=\"txt\">Universitas' journalist Eirik Billings\u00f8 Elvevold kritiserte denne uka rektor ved Universitetet i Oslo (UiO) Ole Petter Ottersen, og krevde nyvalg etter at Ruth Vatvedt Fjeld trakk seg fra stillingen som prorektor tidligere i mai. http://universitas.no/kommentar/59509/nyvalg-na-</p>\n",
        "<p class=\"txt\">I g\u00e5r skrev Universitas at studentpolitikerne ved UiO krever nyvalg av rektor og prorektor i kj\u00f8lvannet av prorektor-saken.</p>\n",
        "<p class=\"txt\">\u2013 Vi \u00f8nsker en samlet valgt ledelse, og det har vi ikke i dag, sa leder av Studentparlamentet ved UiO, Gabrielle Gjerdset.</p>\n",
        "<p class=\"mt\">Kun \u00e9n av fire studenter for f\u00e5r ekstern sensur</p>\n",
        "<p class=\"txt\">Ikke alle studentene ved H\u00f8gskolen i Oslo og Akershus (HiOA) f\u00e5r sin eksamen vurdert av to sensorer, enda det bryter med skolens eksamensforskrift.</p>\n",
        "<p class=\"txt\">F\u00f8rsteamanuensis Jens Petter Berg ved instituttet mener at denne praksisen er faglig uforsvarlig.</p>\n",
        "<p class=\"txt\">Eksamensforskriften ved HiOA sier at hovedregelen skal v\u00e6re to sensorer b\u00e5de ved muntlig og skriftlig eksamen. I dag er det likevel en utbredt praksis p\u00e5 H\u00f8gskolen at de fleste besvarelsene p\u00e5 eksamen bare vurderes av \u00e9n sensor, skriver nettavisen Khrono (http://khrono.no/2014/05/bare-en-fjerdedel-far-eksern-sensur).</p>\n",
        "<p class=\"txt\">P\u00e5 Institutt for offentlig administrasjon og velferdsfag blir bare 25 prosent av besvarelsene sendt til ekstern sensor.</p>\n",
        "<p class=\"txt\">Studiedirekt\u00f8r Marianne Brattland sier at h\u00f8gskolen ikke kan se bort fra at det er en \u00f8konomisk vurdering knyttet til valg av ordning for ekstern sensor.</p>\n",
        "<p class=\"txt\">\u2013 I 2012 hadde vi om lag 90 000 ulike eksamensbesvarelser ved HiOA, og da sier det seg selv at kostnadsbildet vil bli vesentlig endret dersom man utvider bruken av ekstern sensor, sier Brattland til Khrono.</p>\n",
        "<p class=\"txt\">I 2013 hadde HiOA samlet 13,3 millioner kroner i utgifter til sensur, viser en oversikt fra \u00f8konomiavdelingen.</p>\n",
        "<p class=\"txt\">Brattland forteller at studieadministrasjonen har dr\u00f8ftet saken internt og planlegger \u00e5 legge fram en sak for det sentrale studieutvalget om vurdering og karaktersetting rett over sommeren.</p>\n",
        "<p class=\"mt\">Bergen-studenter brakte solkraft til Etiopia</p>\n",
        "<p class=\"txt\">130 husstander, en skole og en helsestasjon i Etiopia har f\u00e5tt str\u00f8m for f\u00f8rste gang, takket v\u00e6re to studenter fra H\u00f8gskolen i Bergen.</p>\n",
        "<p class=\"txt\">Benjamin Sl\u00e5ttli og Esays Mehari har jobbet gjennom hele studietiden mot m\u00e5let om \u00e5 forsyne en etiopisk landsby med solenergi. Dette m\u00e5let har studentene endelig n\u00e5dd, skriver Bergen Tidende (BT).</p>\n",
        "<p class=\"txt\">http://www.bt.no/nyheter/lokalt/Med-solkraft-fra-Bergen-3121089.html#.U33kZS9WsbO</p>\n",
        "<p class=\"txt\">I april bodde Sl\u00e5ttli og Mehari tre uker i Becho for \u00e5 installere solceller og l\u00e6re opp lokalbefolkningen i bruk av solenergi.</p>\n",
        "<p class=\"txt\">\u2013 Det avgj\u00f8rende for oss var ikke bare \u00e5 levere str\u00f8m, men ogs\u00e5 \u00e5 dele kunnskapen vi har fra H\u00f8gskolen, sier Mehari, som forteller at de l\u00e6rte opp seks lokale studenter om teori og praksis. Disse studentene er n\u00e5 godt utrustet til \u00e5 ta h\u00e5nd om systemet, enda de bare har grunnskoleutdanning.</p>\n",
        "<p class=\"txt\">Sl\u00e5ttli og Mehari la stor vekt p\u00e5 at systemet de bygget opp skal v\u00e6re mulig \u00e5 holde ved like av de som bruker det, og at reservedeler er lokalt tilgjengelige til en overkommelig pris.</p>\n",
        "<p class=\"txt\">En grundig kartlegging av \u00f8konomiske og sosiale tilstander i Becho viste at folk i Becho hadde</p>\n",
        "<p class=\"txt\">Instituttleder Nils Otto Antonsen h\u00e5per dette prosjektet vil v\u00e6re til inspirasjon for andre.</p>\n",
        "<p class=\"txt\">\u2013 Vi \u00f8nsker at v\u00e5re studenter skal rette blikket ut forbi Norge sine grenser. D\u00e5rlig tilgang p\u00e5 energi er et stort problem mange steder, og tilgang p\u00e5 billig og fornybar energi er en forutsetning for b\u00e6rekraftig utvikling, sier Antonsen.</p>\n",
        "<p class=\"txt\">Hvilke f\u00f8lger prosjektet f\u00e5r vil vise seg om fem \u00e5r, n\u00e5r Sl\u00e5ttli og Esays skal tilbake for \u00e5 se hvordan det har g\u00e5tt.</p>\n",
        "<p class=\"mt\">Tyr til alternativ lindring av eksamensstress</p>\n",
        "<p class=\"txt\">Studentforbundet ved Universitetet i Leicester har planlagt \u00abbobleplast-stasjoner\u00bb, hvor studenter kan f\u00e5 avspenning ved \u00e5 poppe innpakningsmaterialet.</p>\n",
        "<p class=\"txt\">Det vil ogs\u00e5 v\u00e6re mulighet for \u00e5 klappe hundevalper for \u00e5 roe ned stressede studenter, skriver BBC News.  http://www.bbc.com/news/education-27469803</p>\n",
        "<p class=\"txt\">\u2013 Mental helse skal v\u00e6re h\u00f8yt prioritert under eksamen, og vi vet hvor stressende denne tiden kan v\u00e6re, forklarer Michael Rubin, leder ved universitets studentforbund, til BBC.</p>\n",
        "<p class=\"txt\">Studentene mener at tilfredstillelsen av \u00e5 poppe bobleplast fungerer bedre enn meditasjon og yoga.</p>\n",
        "<p class=\"txt\">Det er ikke det f\u00f8rste universitetet som setter i gang utradisjonelle metoder for \u00e5 oppn\u00e5 stressmestring. Forrige uke satte Universitetet Bath Spa i England opp en dyrehage utenfor biblioteket, hvor studenter blant annet kunne klappe geiter og mate ender. P\u00e5 Universitetet i Canberra, Australia kunne studentene gj\u00f8re det samme med grisunger og lam.</p>\n",
        "<p class=\"txt\">Ikke alle synes at universitetenes metoder for stresslindring er positive. Dyrerettighetsorganisasjonen PETA mener at dyrene ikke har godt av \u00e5 reise mye og v\u00e6re innesperret, og anbefaler heller hoppeslott og ryggmassasje som alternative muligheter.</p>\n",
        "<p class=\"txt\">Et universitet i Missouri opplevde for \u00f8vrig at dyrehage-prosjektet ble problematisk p\u00e5 andre m\u00e5ter, da en bj\u00f8rnunge bet en student som ville klappe den.</p>\n",
        "<p class=\"txt\"><i>universitas@universitas.no</i></p>"
       ],
       "metadata": {},
       "output_type": "display_data",
       "text": [
        "<IPython.core.display.HTML at 0x7fa66aea4198>"
       ]
      },
      {
       "html": [
        "<p class=\"txt\">Med balkongd\u00f8ren p\u00e5 gl\u00f8tt var s\u00e5 godt som alle studentpolitikere ved Universitetet i Oslo samlet p\u00e5 Villa Eika i dag.</p>\n",
        "<p class=\"txt\">Etter initiativ fra studentene selv, ble det avholdt et ekstraordin\u00e6rt m\u00f8te ang\u00e5ende prorektor-saken (se faktaboks).</p>\n",
        "<p class=\"txt\"><b>I dag ble det kjent at en samlet studentmasse ved Universitetet i Oslo krever nyvalg av rektor og prorektor, i kj\u00f8lvannet av prorektor-saken.</b></p>\n",
        "<p class=\"mt\">\u2013 Arrogant</p>\n",
        "<p class=\"txt\">Leder av Studentparlamentet ved Universitetet i Oslo, Gabrielle Gjerdset mener nyvalg er det riktige \u00e5 gj\u00f8re.</p>\n",
        "<p class=\"txt\">\u2013 Det er viktig ikke \u00e5 b\u00f8ye spilleregler p\u00e5 grunn av praktiske hensyn. Vi \u00f8nsker en samlet, valgt ledelse, og det har vi ikke i dag, sier Gjerdset til Universitas.</p>\n",
        "<p class=\"txt\">P\u00e5 m\u00f8tet var Studentparlamentet i sin helhet representert, og alle studentutvalgene ved UiOs fakulteter, med unntak av odontologisk fakultet og juridisk. Juridisk fakultets studentutvalg har imidlertid p\u00e5 forh\u00e5nd varslet at de st\u00f8tter kravet om nyvalg.</p>\n",
        "<p class=\"txt\">\u2013 Det er arrogant av universitetsstyret, \u00e5 se bort fra demokratiske prinsipper, mener SP-leder Gjerdset.</p>\n",
        "<p class=\"mt\">\u2013 Ekstra aktuelt \u00e5 fremme kravet tydelig</p>\n",
        "<p class=\"txt\">Da saken om nyvalg var oppe i universitetsstyret, var det kun studentrepresentantene i styret, Eva Holte Enoksen og \u00c5dne Hindenes, som stemte mot \u00e5 droppe nytt valg av rektor og prorektor.</p>\n",
        "<p class=\"txt\">Det er i etterkant av at Fjeld trakk seg, v\u00e6rt flere presseoppslag knyttet til hennes avgang.</p>\n",
        "<p class=\"txt\"><a href=\\\u00bbhttp://universitas.no/nyhet/59471/-et-tegn-pa-at-valgets-tid-er-over-pa-universitetet\\\u00bb>I Universitas har flere studentpolitikere uttrykt seg kritisk til at det ikke ble foretatt et nyvalg.</a></p>\n",
        "<p class=\"txt\">N\u00e5 stiller en samlet UiO-studentmasse seg bak studentrepresentantene i styret.</p>\n",
        "<p class=\"txt\">\u2013 Grunnen til at det har kommet opp n\u00e5 er at flere studentutvalg ville gj\u00f8re en st\u00f8rre sak ut av det, samt at saken har blusset opp de siste dagene, sier Gjerdset.</p>\n",
        "<p class=\"txt\">Senest i g\u00e5r <a href=\\\u00bbhttp://klassekampen.no/article/20140522/ARTICLE/140529984\\\u00bb>skrev Klassekampen om Ruth Fjeld, som f\u00f8lte seg presset ut av jobben.</a></p>\n",
        "<p class=\"txt\">\u2013 N\u00e5r det n\u00e5 i tillegg er uklarhet rundt \u00e5rsakene rundt avgangen til Fjeld er det ekstra aktuelt \u00e5 fremme kravet tydelig, mener Gjerdset.</p>\n",
        "<p class=\"mt\">Sender brev</p>\n",
        "<p class=\"txt\">I tiden fremover \u00f8nsker derfor listene ved Studentparlamentet og studentutvalgene ved fakultetene at saken tas opp p\u00e5 nytt i styret.</p>\n",
        "<p class=\"txt\">De vil sende et brev til rektoratet der de ber om at saken m\u00e5 p\u00e5 agendaen igjen.</p>\n",
        "<p class=\"txt\">Det er ledelsen i styret, alts\u00e5 rektoratet, som bestemmer hva som skal tas opp p\u00e5 styrem\u00f8tene.</p>"
       ],
       "metadata": {},
       "output_type": "display_data",
       "text": [
        "<IPython.core.display.HTML at 0x7fa66aea4198>"
       ]
      },
      {
       "html": [
        "<p class=\"txt\">Skal gj\u00f8re Nova sosial</p>\n",
        "<p class=\"txt\">Flere arrangementer og mer personlig preg st\u00e5r p\u00e5 tapetet n\u00e5r Albert Christian Alfiler tar over som Radio Nova-redakt\u00f8r.</p>\n",
        "<p class=\"txt\">Studentradio</p>\n",
        "<p class=\"txt\">Alfiler (27) ble forrige uke valgt til ny redakt\u00f8r for studentenes lokalradio i Oslo. 1. juli st\u00e5r han klar til \u00e5 overta ansvaret etter forrige Nova-sjef, Erlend Buflaten.</p>\n",
        "<p class=\"txt\"><I>\u2013 Gratulerer med valgseier. Var det hard konkurranse?</I></p>\n",
        "<p class=\"txt\">\u2013 Det var en del grilling fra organisasjonen under intervjuet, og mange som kom med knallt\u00f8ffe sp\u00f8rsm\u00e5l. Det sies at valgallm\u00f8tet i Radio Nova er et av de hardeste jobbintervjuene man g\u00e5r p\u00e5, noe som ikke er tull, sier en forn\u00f8yd Alfiler til Universitas.</p>\n",
        "<p class=\"mt\">Vil forbli nisjeradio</p>\n",
        "<p class=\"txt\"><I>\u2013 Da Erlend Buflaten ble redakt\u00f8r i fjor, \u00f8nsket han \u00e5 prioritere historieprogrammer, debatter og sport. Har du liknende ambisjoner?</I></p>\n",
        "<p class=\"txt\">\u2013 Vi er en nisjeradio, og det synes jeg vi skal fortsette \u00e5 v\u00e6re. Det er samtidig viktig at det redaksjonelle innholdet oppleves som relevant for lytterne \u2013 som er studenter.</p>\n",
        "<p class=\"txt\">Alfiler er tydelig p\u00e5 at han vil lytte til journalistenes \u00f8nsker, og at radiokanalen skal v\u00e6re et inkluderende milj\u00f8 med rom for alle til \u00e5 sette sitt preg p\u00e5 den.</p>\n",
        "<p class=\"txt\">\u2013 N\u00e5r det gjelder spesifikke programmer, \u00f8nsker ikke jeg som redakt\u00f8r \u00e5 tvinge gjennom pilotprogrammer hvis det ikke er noen andre som \u00f8nsker \u00e5 lage programmet. Jeg vil gjerne inspirere og oppfordre journalistene til \u00e5 komme med forslag til piloter de er motiverte til \u00e5 lage. Om noen har veldig lyst til \u00e5 lage et program om sjakk, for eksempel, s\u00e5 b\u00f8r det v\u00e6re rom for det.</p>\n",
        "<p class=\"mt\">Flere arrangementer</p>\n",
        "<p class=\"txt\">I fjor h\u00f8st ble det gjennomf\u00f8rt en medieunders\u00f8kelse blant studentene i Oslo, som viste at bare 30 prosent av studentene h\u00f8rer p\u00e5 Radio Nova. Alfiler mener et viktig grep for \u00e5 sanke flere lyttere vil v\u00e6re \u00e5 bli mer synlig p\u00e5 arrangementsfronten.</p>\n",
        "<p class=\"txt\">\u2013 Selv om Radio Nova f\u00f8rst og fremst er en radiokanal, kan vi ogs\u00e5 ta initiativ til debatter og andre sosiale sammenkomster.</p>"
       ],
       "metadata": {},
       "output_type": "display_data",
       "text": [
        "<IPython.core.display.HTML at 0x7fa66aea4198>"
       ]
      },
      {
       "html": [
        "<p class=\"fak1\">Kj\u00f8r pent</p>\n",
        "<p class=\"fak2\">Av: Erik de Torres</p>\n",
        "<p class=\"fak2\">Plateselskap: Siste Steg</p>\n",
        "<p class=\"txt\">Erik de Torres har lenge v\u00e6rt kjent i rap-undergrunnen, og har de siste \u00e5rene etablert seg p\u00e5 live-scenen med konserter p\u00e5 store festivaler som Norwegian Wood og Slottsfjell. Han har ogs\u00e5 v\u00e6rt \u00e5 se p\u00e5 langt mindre scener som kjellern p\u00e5 Eilert Sundts hus p\u00e5 Blindern. Med plata <I>Kj\u00f8r Pent</I> skal endelig de Torres ogs\u00e5 befeste sin posisjon som en artist man lytter p\u00e5 innenfor husets fire vegger. Men fors\u00f8ket forblir et fors\u00f8k.</p>\n",
        "<p class=\"txt\">N\u00e5r han n\u00e5 debuterer med sitt f\u00f8rste album der han rapper p\u00e5 norsk, er de Torres tydelig inspirert av vestkyst-rappens renessanse med Kendrick Lamar og resten av TDE-kollektivet i spissen. B\u00e5de produksjonen og flowen b\u00e6rer preg av en artist som \u00f8nsker \u00e5 la tekst og stil prege plata. Det er derfor synd at l\u00e5tene ikke leverer p\u00e5 niv\u00e5 med inspirasjonskildene.</p>\n",
        "<p class=\"txt\">Tekstene tar oss med p\u00e5 turer inn i hovedstadens m\u00f8rke kriker og kroker. Han rapper om oppvekst, filosoferer og bruker det norske spr\u00e5ket til \u00e5 male et dystert bilde av tilstanden i velferdsstaten. Det er en kontrast og spenning i sounden til De Torres som gj\u00f8r at det h\u00f8res unorsk ut, samtidig som tematikken og spr\u00e5ket \u00e5penbart er norsk, noe som fungerer godt n\u00e5r han treffer.</p>\n",
        "<p class=\"txt\">P\u00e5 sitt beste er plata med sporene \u00abMere meg\u00bb og \u00abH\u00f8r H\u00f8r\u00bb suggerende, fengende og bringer tilbake det beste fra 90-tallet. Men h\u00f8ydepunktene er for sjeldne. Mange av l\u00e5tene er glemt s\u00e5 fort de fader ut, selv om tekstene og flowen til De Torres redder noe av de basstunge, monotone og litt for ofte kjedelige beatsa som preger plata. Dessverre sitter man som lytter igjen med inntrykket av en ujevn plate, og en artist som bare er p\u00e5 vei til \u00e5 finne sin plass p\u00e5 den norske rap-scenen.</p>"
       ],
       "metadata": {},
       "output_type": "display_data",
       "text": [
        "<IPython.core.display.HTML at 0x7fa66aea4198>"
       ]
      },
      {
       "html": [
        "<p class=\"txt\">kultur</p>\n",
        "<p class=\"txt\"><I>I disse dager ansettes folkene som skal forske p\u00e5 din d\u00e5rlige samvittighet overfor de fattige barna i Afrika.</I></p>\n",
        "<p class=\"txt\">Forskning</p>\n",
        "<p class=\"txt\">Skyldf\u00f8lelse i Skandinavia i tiden etter 1989 er tema for forskningsprosjektet Scanguilt. Fordi globaliseringen har gjort skillet mellom \u00aboss\u00bb og \u00abdem\u00bb mindre, er det blitt tydeligere for oss hvor privilegerte vi er. Samtidig f\u00f8ler vi mer skam.</p>\n",
        "<p class=\"txt\">\u00abMen at war\u00bb, \u00abglobal women\u00bb og \u00absacrificed children\u00bb er tre sentrale temaer for prosjektet. Elisabeth Oxfeldt er prosjektleder for millionsatsningen, og mener Johan Harstads skuespill <I>Osv.</I> er et godt eksempel p\u00e5 f\u00f8rstnevnte tematikk.</p>\n",
        "<p class=\"txt\">\u2013 Her veksler vi mellom \u00e5 f\u00f8lge med p\u00e5 OL i Lillehammer og folkemordet i Rwanda. For mediene og folk flest er OL en st\u00f8rre nyhet og av st\u00f8rre interesse enn et folkemord, sier Oxfeldt, som ogs\u00e5 er professor i lingvistiske og nordiske studier ved Universitetet i Oslo (UiO).</p>\n",
        "<p class=\"txt\">Forskningsprosjektet ble satt i gang i \u00e5r, og vil v\u00e6re delt opp i et HF-basert prosjekt ved UiO, som har blitt tildelt fem millioner kroner, og et internasjonalt prosjekt, som f\u00e5r 12 millioner i st\u00f8tte fra Norges forskningsr\u00e5d. Denne uka intervjues kandidater til stipendiatstillingene i prosjektet.</p>\n",
        "<p class=\"mt\">Globale kvinner</p>\n",
        "<p class=\"txt\">Den norske filmen <I>Upperdog</I> fra 2009 er et godt eksempel p\u00e5 at kvinner er blitt globale. Der har en polsk vaskedame etterlatt sitt barn i Polen for \u00e5 v\u00e6re vaskedame p\u00e5 Oslos vestkant.</p>\n",
        "<p class=\"txt\">\u2013 Filmen spiller p\u00e5 at v\u00e5rt likestilte samfunn beror p\u00e5 \u00abimport\u00bb av utenlandske kvinner, noe som kan skape skyldf\u00f8lelse, mener Oxfeldt.</p>\n",
        "<p class=\"txt\">Regiss\u00f8r Sara Johnsen sier hun var bevisst p\u00e5 dette etter selv \u00e5 ha hatt en polsk vaskedame. Hun er likevel ikke helt enig i bruken av ordet \u00abskam\u00bb.</p>\n",
        "<p class=\"txt\">\u2013 Jeg tenker at skam er forbundet med ambisjon og mulighet. Folk sier de m\u00e5 ha au pair fordi samfunnet har p\u00e5f\u00f8rt dem tidsklemma. Ingenting er s\u00e5 enkelt \u00e5 bortforklare som skyldf\u00f8lelsen v\u00e5r, sier Johnsen.</p>\n",
        "<p class=\"txt\">Johnsen mener at hun enda ikke er i en slik posisjon at filmene hennes har en stor p\u00e5virkning og dermed kan endre holdningene til de som i utgangspunktet er uenige.</p>\n",
        "<p class=\"txt\">\u2013 Bare tenk p\u00e5 alle filmer om fattigdom og urettferdighet, de endrer lite. Man kan likevel pr\u00f8ve \u00e5 vise noen perspektiver ved \u00e5 fortelle historier om folk som ikke har meningene sine p\u00e5 trykk i aviser og blader.</p>\n",
        "<p class=\"mt\">Ofrede barn</p>\n",
        "<p class=\"txt\">Erik Poppes ferskeste film, <I>Tusen ganger god natt</I>, viser \u00absacrificed children\u00bb \u2013 det tredje temaet i prosjektet. Hovedkarakteren, spilt av Juliette Binoche, er en krigsfotograf som forlater mann og barn hjemme i trygge nord. Men s\u00e5 tar hun med datteren p\u00e5 oppdrag.</p>\n",
        "<p class=\"txt\">\u2013 Mor og datter er i en trygg flyktningleir, som plutselig blir angrepet. Da sender Binoche datteren avg\u00e5rde og blir selv igjen for \u00e5 dekke konflikten med kameraet, sier Oxfeldt.</p>\n",
        "<p class=\"txt\">Slik f\u00e5r hun bekreftet at hennes prioriteringer gj\u00f8r en forskjell: Fordi hun tar bilder, f\u00e5r angrepet oppmerksomhet og flyktningleiren blir trygg. Binoches karakter \u00abofrer\u00bb sitt eget barn for \u00e5 redde barn som er langt d\u00e5rligere stilt.</p>\n",
        "<p class=\"txt\">\u2013 Her kan vi sp\u00f8rre om det er sant at en krigsfotografs rapportering gj\u00f8r en forskjell. Et annet sp\u00f8rsm\u00e5l er om Poppes film i seg selv f\u00f8rer til endringer i det virkelige liv, sier prosjektlederen.</p>\n",
        "<p class=\"mt\">Destruktiv skyldsf\u00f8lelse</p>\n",
        "<p class=\"txt\">\u2013 Mange bryr seg nok ikke, fordi de f\u00f8ler seg f\u00f8dt inn i et system som er for stort og for vanskelig \u00e5 gj\u00f8re noe med, sier forfatter Simon Stranger.</p>\n",
        "<p class=\"txt\">\u2013 Andre har d\u00e5rlig samvittighet. Men hvis skyldf\u00f8lelsen ikke omgj\u00f8res til handlinger, er den ganske destruktiv.</p>\n",
        "<p class=\"txt\">Stranger skrev ungdomsboka <I>Verdensredderne</I> fra 2012, der den ene av hovedpersonene er en bangladeshisk jente som lager t-skjorter i en tekstilfabrikk. Den andre er en norsk jente fra B\u00e6rum, som bruker nettopp \u00e9n av disse t-skjortene.</p>\n",
        "<p class=\"txt\">Da boka kom ut, gikk debatten hett rundt arbeidsforholdene hos Hennes & Mauritz. Stranger skrev brev til klesgigantens sjef og var med p\u00e5 debatt i Dagbladet og Dagsnytt 18. Han har ogs\u00e5 skrevet <I>En fremmed i verden</I>, om sin egen skam over \u00e5 v\u00e6re norsk og rik.</p>\n",
        "<p class=\"txt\">\u2013 Vesten har kommet s\u00e5 langt \u00f8konomisk at det ikke er nok \u00e5 kj\u00f8pe noe som f\u00e5r oss til \u00e5 se bra ut. Vi vil betale for ikke \u00e5 f\u00e5 d\u00e5rlig samvittighet ogs\u00e5. Rent kynisk sett er det blitt et markedsfortrinn \u00e5 komme \u00e5pent ut om sine produksjonsforhold, sier Stranger.</p>\n",
        "<p class=\"mt\">Samtidssp\u00f8kelser</p>\n",
        "<p class=\"txt\">En tekst som har v\u00e6rt inspirasjon for Scanguilt, er Jacques Derridas <I>Marx' sp\u00f8kelser</I> fra 1994. Boka sp\u00f8r hva marxismen kan brukes til etter kommunismens d\u00f8d.</p>\n",
        "<p class=\"txt\">\u2013 For Derrida st\u00e5r det klart at ting ikke er s\u00e5 enkelt, for det finnes flere typer marxisme. Selv etter murens fall vil det v\u00e6re mange \u00absp\u00f8kelser\u00bb fra fortiden.</p>\n",
        "<p class=\"txt\">Poenget til Oxfeldt er at samtidssp\u00f8kelsene finnes p\u00e5 samme m\u00e5te i Skandinavia, og de krever at vi retter opp i den \u00abskyld\u00bb vi har beg\u00e5tt.</p>\n",
        "<p class=\"txt\">\u2013 Vi lever isolert fra andre oppe i nord, men globaliseringen gj\u00f8r det uunng\u00e5elig \u00e5 se omverdenen. Fordi virkelighetene ofte er s\u00e5 forskjellig, f\u00f8ler vi en p\u00e5trengende skam. Dette kommer til uttrykk i kunst og kultur, sier prosjektlederen.</p>\n",
        "<p class=\"mt\">\u00c5 skape empati</p>\n",
        "<p class=\"txt\">Mens en av stipendiatene skal se p\u00e5 blant annet film, litteratur og kunstinstallasjoner, skal en annen ta for seg global skyld i skoleundervisningen. Her trekker Oxfeldt fram Operasjon Dagsverk og innsamlingsaksjoner som gode eksempler p\u00e5 den norske \u00abd\u00e5rlige samvittigheten\u00bb.</p>\n",
        "<p class=\"txt\">Aftenpostens tv-serie <I>Sweatshop</I>, hvor ungdommer blir sendt til Kambodsja for \u00e5 l\u00e6re om klesproduksjonens baksider, er ogs\u00e5 aktuell.</p>\n",
        "<p class=\"txt\">\u2013 Her er det fokus p\u00e5 oss og dem, rik og fattig, innsikt og skyld. Setninger som \u00abdet g\u00e5r inn p\u00e5 meg, for hvem er jeg som sitter her og klager over at jeg m\u00e5 \u00f8ve til mattepr\u00f8ve, mens det sitter folk nede i Kambodsja som jobber livet av seg\u00bb er \u00abScanguilt\u00bb, sier Oxfeldt.</p>"
       ],
       "metadata": {},
       "output_type": "display_data",
       "text": [
        "<IPython.core.display.HTML at 0x7fa66aea4198>"
       ]
      },
      {
       "html": [
        "<p class=\"txt\">For deg som tenker at \u00abUltimate Circle\u00bb kommer til \u00e5 bli akkurat s\u00e5nn som sirkeltreningen i gymtimen p\u00e5 ungdomsskolen: du kommer til \u00e5 f\u00e5 deg en real overraskelse.</p>\n",
        "<p class=\"txt\">Allerede etter oppvarminga er pulsen s\u00e5 h\u00f8y at du holder p\u00e5 \u00e5 besvime. Mens du heller innp\u00e5 med vann og peser for harde livet, blir du presentert for de \u00e5tte forskjellige styrke\u00f8velsene som inng\u00e5r i sirkeltreningen. Kroppen skal settes ordentlig p\u00e5 pr\u00f8ve, b\u00e5de n\u00e5r det kommer til styrke, spenst og hurtighet. Du begynner \u00e5 angre p\u00e5 at du meldte deg p\u00e5.</p>\n",
        "<p class=\"txt\">TINGODe f\u00f8rste \u00f8velsene g\u00e5r rimelig greit. Mestringsf\u00f8lelsen er p\u00e5 topp, helt til du ankommer stasjonen hvor du skal ta push-ups og spretthopp om hverandre. Det h\u00f8res g\u00f8y ut, tenker du, men det er det alts\u00e5 ikke. Det svir i alle ledd, og du m\u00e5 jobbe hardt med psyken for \u00e5 klare \u00e5 gjennomf\u00f8re. Idet du setter i gang \u00f8velsen med diagonale l\u00f8ft, forteller instrukt\u00f8ren at du er halvveis. Du puster lettet ut. <i>Snart ferdig</i>.  De resterende \u00f8velsene er dessverre ikke noe lettere. Flere spensthopp venter, samt sit-ups og push-ups. Siste post er spurt. Beina f\u00f8les tunge som bly, du gisper etter luft og det prikker i \u00f8ynene.</p>\n",
        "<p class=\"txt\">Runde en er over. <i>Vent litt, runde \u00e9n?!</i> Det stemmer. \u00d8velsene skal gjentas to ganger til.</p>\n",
        "<p class=\"txt\">TINGODenne timen er like krevende for psyken som den er for kroppen. Du er livredd for ikke \u00e5 fullf\u00f8re, men i det du setter i gang med siste runde, har overlevelsesinstinktet kicket inn for fullt. Du tenker ikke lenger over hva det er du faktisk driver med \u2013 du bare gj\u00f8r noe, og h\u00e5per at det snart skal ta slutt. Mannen p\u00e5 gruppa di forteller deg andpusten at de f\u00f8rste gangene alltid er verst, men at det blir bedre etter hvert. Du fnyser og tenker at du aldri skal tilbake.</p>\n",
        "<p class=\"txt\">TINGODe neste dagene kommer du til \u00e5 ha problemer med \u00e5 reise deg, sette deg og \u00e5 g\u00e5. Du kommer til \u00e5 f\u00f8le deg banket. Men det eneste du klarer \u00e5 tenke p\u00e5 er at du skal gj\u00f8re dette igjen, og igjen og igjen \u2013 helt til det g\u00e5r fra helvete til velbehag. Du skylder kroppen din s\u00e5pass.</p>"
       ],
       "metadata": {},
       "output_type": "display_data",
       "text": [
        "<IPython.core.display.HTML at 0x7fa66aea4198>"
       ]
      },
      {
       "html": [
        "<p class=\"txt\">\u2013 Sosiale medier konserverer gamle vennskap lenger enn det som ellers ville v\u00e6rt naturlig.</p>\n",
        "<p class=\"txt\">Det forteller professor ved Institutt for sosiologi og statsvitenskap p\u00e5 Norges teknisk-naturvitenskapelige universitet (NTNU) i Trondheim, Aksel Tjora. I h\u00f8st gjennomf\u00f8rte han en studie hvor 14 kvinner og menn i alderen 21\u201329 \u00e5r skulle klare seg i tre uker uten Internett.</p>\n",
        "<p class=\"txt\">\u2013 Sosiale medier gjorde at de opprettholdt kontakt med for eksempel gamle klassekamerater som de ikke lenger bodde i n\u00e6rheten av. Det var folk de ikke hadde fysisk kontakt med og som det ikke var naturlig \u00e5 ringe til, forteller Tjora.</p>\n",
        "<p class=\"txt\">Uten Facebook og andre sosiale medier, ble de \u00abtvunget\u00bb ut i fellesarealene i kollektivet sitt, og flere av deltakerne begynte \u00e5 g\u00e5 turer eller dra p\u00e5 kaf\u00e9, i stedet for \u00e5 dra hjem p\u00e5 ettermiddagene. Professoren mener det er grunn til \u00e5 si at sosiale medier gj\u00f8r oss mindre sosiale i den fysiske verden.</p>\n",
        "<p class=\"txt\">\u2013 De sosiale mediene gj\u00f8r at man ofte ikke g\u00e5r ut og treffer og forholder seg fysisk til folk, sier han.</p>\n",
        "<p class=\"txt\">Og det at man kan opprettholde kontakten med folk man egentlig ikke har s\u00e5 mye med \u00e5 gj\u00f8re lenger, at vennskap konserveres, kan g\u00e5 utover nye bekjentskaper. Dette kan v\u00e6re spesielt viktig \u00e5 tenke p\u00e5 for nye studenter som kanskje har flyttet til en helt ny by, mener Tjora.</p>\n",
        "<p class=\"mt\">Glemte Facebook etter f\u00e5 dager</p>\n",
        "<p class=\"txt\">Selv om de aller fleste av deltakerne til vanlig var aktive p\u00e5 sosiale medier, mener Tjora det er \u00e5 strekke det for langt \u00e5 snakke om avhengighet.</p>\n",
        "<p class=\"txt\">\u2013 Det viste seg at de i l\u00f8pet av tre til fem dager n\u00e6rmest glemte Facebook og den type ting, forteller han.</p>\n",
        "<p class=\"txt\">Han sier at vi kanskje oppfatter oss selv og andre som avhengige i hverdagen, men at savnet g\u00e5r ganske raskt over n\u00e5r vi f\u00f8rst er avlogget i en lengre periode.</p>\n",
        "<p class=\"txt\">Deltakerne ble intervjuet jevnlig gjennom studien, ogs\u00e5 etter at de kunne logge seg p\u00e5 nett igjen.</p>\n",
        "<p class=\"txt\">\u2013 Det f\u00f8rste de sjekket var e-post og Facebook, som regel i den rekkef\u00f8lgen. P\u00e5 Facebook s\u00e5 de at det stort sett ikke var noe viktig de hadde g\u00e5tt glipp av, forteller Tjora.</p>\n",
        "<p class=\"txt\">Testpersonene hadde p\u00e5 forh\u00e5nd varslet venner og familie, og stolte p\u00e5 at de ville si fra om det dukket opp noe viktig. Men \u00e9n ting savnet de: bursdagsp\u00e5minnelsene p\u00e5 Facebook.</p>\n",
        "<p class=\"mt\">Bedre konsentrasjon</p>\n",
        "<p class=\"txt\">Det vanskeligste for deltakerne var at de ikke kunne gj\u00f8re alle de sm\u00e5 tingene de til vanlig gjorde p\u00e5 smarttelefonene sine: \u00e5 sjekke busstider, Wikipedia eller \u00e5 melde seg p\u00e5 treningstimer.</p>\n",
        "<p class=\"txt\">\u2013 \u00c9n snakket om at han fikk litt fysisk vondt. Han refererte til refleksbevegelsen ved \u00e5 skulle plukke opp mobilen for \u00e5 sjekke noe. \u00c5 m\u00e5tte stoppe armen fordi han gjorde det automatisk \u2013 det var den typer sm\u00e5ting i hverdagen som var verst, forteller Tjora.</p>\n",
        "<p class=\"txt\">Men det \u00e5 ikke kunne gj\u00f8re sm\u00e5ting p\u00e5 telefonen i tide og utide, har ogs\u00e5 sine positive sider.</p>\n",
        "<p class=\"txt\">\u2013 De ble veldig mye flinkere til \u00e5 konsentrere seg. Det at de ikke satt med nettbrettet eller telefonen rett ved siden av pensumb\u00f8kene, gjorde at de holdt konsentrasjonen lenger, sier professoren.</p>\n",
        "<p class=\"txt\">Den \u00f8kte effektiviteten gjorde ogs\u00e5 at de frigjorde mer tid til andre ting. Noen trente mer, noen begynte \u00e5 g\u00e5 turer og ei leste fire romaner i l\u00f8pet av perioden.</p>\n",
        "<p class=\"txt\">\u2013 Hun hadde ikke lest en eneste roman siden hun gikk p\u00e5 videreg\u00e5ende, forteller Tjora.</p>\n",
        "<p class=\"tit\">Ingen vet hvor Facebook hopper</p>\n",
        "<p class=\"txt\">Facebook, Twitter, Instagram. I dag har vi et mylder av sosiale medier \u00e5 forholde oss til, men ingen kan med sikkerhet si hvordan situasjonen er om ti \u00e5r.</p>\n",
        "<p class=\"txt\">\u2013 Det er ikke gitt at de mediene vi har i dag vil v\u00e6re der om ti \u00e5r, men det er ganske gitt at det vil v\u00e6re nettkommunikasjon og at den vil utvikles videre, forteller Eli Skogerb\u00f8, professor ved Institutt for medier og kommunikasjon p\u00e5 Universitetet i Oslo (UiO).</p>\n",
        "<p class=\"txt\">Hun forsker blant annet p\u00e5 sosiale medier, medieutvikling og innovasjon.</p>\n",
        "<p class=\"txt\">Hvis vi ser ti \u00e5r tilbake i tid, s\u00e5 netthverdagen ganske annerledes ut enn den gjorde i dag.</p>\n",
        "<p class=\"txt\">\u2013 For ti \u00e5r siden hadde Facebok akkurat blitt lansert (se faktaboks), men det var ikke noe mange kjente til. Men det var jo andre sosiale medier, som for eksempel Nettby og MySpace. Selve ideen om sosiale nettverkssteder hadde kommet, forteller Skogerb\u00f8.</p>\n",
        "<p class=\"txt\">I dag har mellom 70 og 80 prosent av Norges befolkning en Facebook-konto, og gjennomsnittsalderen p\u00e5 brukerne har rukket \u00e5 bli ganske h\u00f8y.</p>\n",
        "<p class=\"txt\">Facebook ble lansert i 2004 og har over 1 milliard m\u00e5nedlige brukere.</p>\n",
        "<p class=\"txt\">Twitter ble lansert i 2006 og har over 255 millioner m\u00e5nedlige brukere.</p>\n",
        "<p class=\"txt\">Instagram ble lansert i 2010 og har over 200 millioner m\u00e5nedlige brukere.</p>\n",
        "<p class=\"txt\">Sosiale medier kan defineres gjennom at de er nettbaserte, organisert som nettverk og mer eller mindre \u00e5pne og tilgjengelige for folk flest</p>"
       ],
       "metadata": {},
       "output_type": "display_data",
       "text": [
        "<IPython.core.display.HTML at 0x7fa66aea4198>"
       ]
      },
      {
       "html": [
        "<p class=\"txt\">Naturhistorisk museum tapte kampen om plasseringen av Universitetet to ganger. N\u00e5 h\u00e5per museet som feirer 200 \u00e5r \u00e5 kunne l\u00f8fte T\u00f8yen-omr\u00e5det en gang for alle.</p>\n",
        "<p class=\"txt\">Jubileum</p>\n",
        "<p class=\"txt\">V\u00e5rsolen titter frem mellom skyene p\u00e5 Botanisk hage, en del av Naturhistorisk museum (NHM). Her p\u00e5 T\u00f8yen finner vi den eneste forskningsinstitusjonen i hovedstaden som er eid av Universitetet i Oslo (UiO) og ligger p\u00e5 \u00f8stsiden av Akerselva.</p>\n",
        "<p class=\"txt\">D\u00e9t kunne v\u00e6rt annerledes. De 27 000 studentene som i dag studerer ved UiO, kunne spist lunsj og hatt kollokvier blant de 8500 planteartene i Botanisk hage, hvis T\u00f8yen hadde vunnet kampen om Universitetet. Men slik gikk det ikke.</p>\n",
        "<p class=\"mt\">Arbeiderstr\u00f8k</p>\n",
        "<p class=\"txt\">\u2013 Oslo ville v\u00e6rt en helt annen by med et universitet p\u00e5 T\u00f8yen, fordi du ikke ville f\u00e5tt disse skillene mellom \u00f8st og vest. Dette viser ogs\u00e5 hvor sterkt delt Oslo er som by, sier museumsdirekt\u00f8r Arne Bj\u00f8rlykke.</p>\n",
        "<p class=\"txt\">Bj\u00f8rlykke kan fortelle at unionsoppl\u00f8sningen med danskene var en av \u00e5rsakene til at Universitetet ikke ble lagt til T\u00f8yen.</p>\n",
        "<p class=\"txt\">\u2013 Etter Napoleonskrigene ble Norge flyttet over i en union med Sverige. Svenskekongen og universitetsprofessorene ville ikke ha universitetet p\u00e5 T\u00f8yen, men sentralt i Oslo. Ett av argumentene for ikke \u00e5 bygge p\u00e5 T\u00f8yen, var at veien var s\u00e5 s\u00f8lete og studentene ikke hadde r\u00e5d til \u00e5 kj\u00f8re hestevogn, sier Bj\u00f8rlykke.</p>\n",
        "<p class=\"txt\">T\u00f8yen fikk derfor ikke et fullverdig universitet i 1814, og tapte ogs\u00e5 kampen om den videre utbyggingen mot Blindern i 1921. Da debatten om utbyggingen av UiO raste p\u00e5 1920-tallet, var et av argumentene for \u00e5 bygge ut p\u00e5 Blindern, f\u00f8lgende:</p>\n",
        "<p class=\"txt\">\u00abBlindern hadde ein h\u00f8gre og ljosare himmel enn T\u00f8yen\u00bb. Dette var dav\u00e6rende statsr\u00e5d J\u00f8rgen L\u00f8vlands ord. I tillegg argumenterte L\u00f8vland for at studentene m\u00e5tte slippe \u00e5 leve under de nedbrytende forhold blant fabrikker og gr\u00e5beinsg\u00e5rder (arbeiderklassens boliger, red.anm.).</p>\n",
        "<p class=\"mt\">Viktig for T\u00f8yen</p>\n",
        "<p class=\"txt\">Naturhistorisk museum og Botanisk hage har 700 000 bes\u00f8kende i \u00e5ret, og er derfor et viktig trekkplaster for bydelen. Tidligere kunnskapsminister og n\u00e5v\u00e6rende styreleder for NHM, Kristin Halvorsen, mener det n\u00e5 er viktig at universitetet vedtar bevilgninger for \u00e5 modernisere omr\u00e5det.</p>\n",
        "<p class=\"txt\">\u2013 Signalet fra universitetet til Stortinget og kommunen har stor betydning. Universitetet b\u00f8r vise at de er en moderne samarbeidspartner for T\u00f8yenl\u00f8ftet (se fakta), men det er ogs\u00e5 behov for \u00e5 ha nye utstillinger pluss videre restaurering av bygninger, sier Halvorsen.</p>\n",
        "<p class=\"txt\">Byr\u00e5det i Oslo vedtok etter mye strid \u00e5 flytte Munch-museet fra T\u00f8yen til Bj\u00f8rvika. Som en del av avtalen om et nytt Munch-museum i sentrum, ble det laget en plan for \u00e5 styrke bydelen T\u00f8yen. I denne planen inng\u00e5r NHM, men Halvorsen mener at museet p\u00e5 T\u00f8yen ogs\u00e5 er et viktig utstillingsvindu for UiO.</p>\n",
        "<p class=\"txt\">\u2013 Det som foreg\u00e5r p\u00e5 Naturhistorisk museum har stor betydning for oppfatningen av Universitetet. Her kan UiO presentere seg som en vital og offensiv utvikler og formidler av kunnskap. Der har NHM noe helt unikt, fordi vi har muligheten til \u00e5 v\u00e6re den tunge kunnskapsformidleren og linken mellom barn og unges naturfaginteresser, sier Halvorsen.</p>\n",
        "<p class=\"mt\">Kan f\u00e5 \u00f8kt betydning</p>\n",
        "<p class=\"txt\">En av de sterkeste kritikerne av Munch-flyttingen er Carl I. Hagen, tidligere FrP-nestor og n\u00e5 representant i Oslo bystyre.</p>\n",
        "<p class=\"txt\">\u2013 Jeg h\u00e5per at hele T\u00f8yenl\u00f8ftet vil styrke NHM, men jeg tror ikke museet har s\u00e5 stor betydning for omr\u00e5det i dag. Samtidig kan det f\u00e5 \u00f8kt betydning n\u00e5r de f\u00e5r gjort en del ting p\u00e5 T\u00f8yen, sier Hagen.</p>\n",
        "<p class=\"txt\"><I>\u2013 Har universitet et s\u00e6rlig ansvar for dette omr\u00e5de?</I></p>\n",
        "<p class=\"txt\">\u2013 Jeg h\u00e5per at Universitet i Oslo, rektor og universitetsstyre kjenner sin bes\u00f8kelsestid i dette samarbeidet med Oslo kommune. Hvis det er ting som kan gj\u00f8res samtidig, kan man f\u00e5 det bedre og billigere, sier Hagen.</p>\n",
        "<p class=\"mt\">Trenger penger</p>\n",
        "<p class=\"txt\">NHM og museumsdirekt\u00f8r Arne Bj\u00f8rlykke tror ogs\u00e5 museet og hagen kan v\u00e6re viktig for \u00e5 \u00f8ke bevisstheten rundt klimaforandringene.</p>\n",
        "<p class=\"txt\">\u2013 Et godt forhold til naturen er viktig for b\u00e5de denne og neste generasjon, fordi det kan f\u00f8re til at man ikke vil tolerere de klimaendringer som n\u00e5 er i ferd med \u00e5 forandre naturen. Barn som f\u00e5r oppleve naturen og utvikler nysgjerrigheten tidlig, vil ogs\u00e5 ha et annet forhold til naturen som voksen, sier Bj\u00f8rlykke.</p>\n",
        "<p class=\"txt\">Men skal NHM fortsatt klare \u00e5 v\u00e6re et attraktivt sted for Oslos beboere, er de avhengige av \u00e5 f\u00e5 nok \u00f8konomisk st\u00f8tte.</p>\n",
        "<p class=\"txt\">\u2013 Museet ligger geografisk i utkanten av UiO og er ikke en utdanningsinstitusjon. Siden mye av finansieringen av universitetene g\u00e5r gjennom studentene, er det ikke lett for oss \u00e5 f\u00e5 de bevilgningene som trengs for \u00e5 holde bygningene ved like. Det er et enormt etterslep n\u00e5r det gjelder rehabilitering av museumsbygninger p\u00e5 UiO, sier Bj\u00f8rlykke.</p>"
       ],
       "metadata": {},
       "output_type": "display_data",
       "text": [
        "<IPython.core.display.HTML at 0x7fa66aea4198>"
       ]
      },
      {
       "html": [
        "<p class=\"txt\">KAN VI HA DETTE BILDET (http://www.google.no/imgres?imgurl=http%3A%2F%2Ffootballisliife.files.wordpress.com%2F2013%2F10%2Fo-house-of-cards-facebook.jpg&imgrefurl=http%3A%2F%2Ffootballisliife.wordpress.com%2F2013%2F10%2F13%2Fhouse-of-cards-episode-5-review%2F&h=1023&w=1536&tbnid=NKkTMNXc0pMh1M%3A&zoom=1&docid=ByC\u2013bKA4d3rhM&hl=en&ei=l2x_U_vOH8mFyQPxhYCgBA&tbm=isch&ved=0CFcQMygFMAU&iact=rc&uact=3&dur=486&page=1&start=0&ndsp=14) MED HANS SOM ZOE, ANDEN\u00c6S SOM FRANK OG HEGLUM SOM CLAIR?</p>\n",
        "<p class=\"bt\">Prikk likt: Venstrealliansens leder Mari Heglum utelukker ikke at studentpolitikere ved UiO ligger med Universitas-journalister for \u00e5 servere dem snusk om andre studentpolitikere.</p>\n",
        "<p class=\"txt\">\u2013 Det er et vanskelig sp\u00f8rsm\u00e5l. All politikk har en grad av maktkamp. Vi er jo venner med hverandre selv om vi konkurrerer om posisjoner.</p>\n",
        "<p class=\"spm\"><b>\u2013 Du syns det var skikkelig \u00abHouse of Cardsk\u00bb at Sosialdemokratenes (SD) Knut Frydenlund uannonsert stilte til valg til Arbeidsutvalget (AU). Slik at Venstrealliansen ikke fikk noen i AU. Hvor slemt var det at han bare stilte til valg, s\u00e5nn uten videre?</b></p>\n",
        "<p class=\"txt\">\u2013 Han har sin fulle rett til \u00e5 stille. Men SD-leder Marianne Anden\u00e6s burde sagt ifra om at han ville gj\u00f8re det.</p>\n",
        "<p class=\"spm\"><b>\u2013 Hvem er Frank Underwood i Studentparlamentet i Oslo?</b></p>\n",
        "<p class=\"txt\">\u2013 Det m\u00e5 bli Marianne det.</p>\n",
        "<p class=\"spm\"><b>\u2013 P\u00e5 referatet til det siste m\u00f8tet i AU kan man lese f\u00f8lgende om tildeling av midler til studentorganer: \u00abAstrofysisk utvalg \u2013 \u00abMingling med masterne\u00bb. 1600, litt mye pizza. 8 pizza. Kan bruke v\u00e5r rammeavtale hos pizza og kinaexpressen\u00bb. Det er formentlig s\u00e5 jeg h\u00f8rer Frank Underwood konspirere i Representantenes hus. </b></p>\n",
        "<p class=\"txt\">\u2013Ehh. Den saken der er ikke representativ for hva AU driver med.</p>\n",
        "<p class=\"spm\"><b>\u2013 Finnes det SP-politikere som ligger med Universitas-journalister og serverer scoop med drittpakker om andre studentpolitikere?</b></p>\n",
        "<p class=\"txt\">\u2013 Jeg h\u00e5per ikke det. De fleste personkonflikter l\u00f8ses internt.</p>\n",
        "<p class=\"spm\"><b>\u2013 Av og til liker jeg \u00e5 tenke at jeg skriver avsl\u00f8rende gravesaker for New York Times, mens jeg i virkeligheten skriver Vi Sp\u00f8r-intervju. Det virker som du ogs\u00e5 dr\u00f8mmer deg vekk. Vil du vurdere din stilling?</b></p>\n",
        "<p class=\"txt\">\u2013Nei. Venstrealliansen trenger sin Claire Underwood.</p>\n",
        "<p class=\"txt\">hansjskj@universitas.no</p>"
       ],
       "metadata": {},
       "output_type": "display_data",
       "text": [
        "<IPython.core.display.HTML at 0x7fa66aea4198>"
       ]
      },
      {
       "html": [
        "<p class=\"txt\">TINGOPsykologlunsj er en norsk podkast ledet av psykologene Tommy Manglerud, Jonas Vaag og Jan-Ole Hesselberg. Annenhver uke tilbyr de en halvtimes uh\u00f8ytidelig lunsjprat om det som opptar dem i psykologiens verden. Til tross for at konseptet er noks\u00e5 nytt, har podkasten rukket \u00e5 dekke en lang rekke temaer; fris\u00f8rskrekk, placebo-effekt, og IQ, i tillegg til \u00e5 teste sine egne smerteterskler ved hjelp av chili.</p>\n",
        "<p class=\"txt\">TINGOSp\u00f8rsm\u00e5lene man f\u00e5r svar p\u00e5 i Psykologlunsj er ofte av den typen man g\u00e5r rundt og lurer p\u00e5 men ikke t\u00f8r stille i frykt for \u00e5 virke dum. Det er virkelighetsn\u00e6re temaer som ang\u00e5r de aller fleste av oss, og det er lett \u00e5 relatere til de ulike problemstillingene som skildres. M\u00e5let med prosjektet, som omfatter b\u00e5de blogg, podkast og apps, er \u00e5 gj\u00f8re psykologifaget alment tilgjengelig \u2013 helt gratis.</p>\n",
        "<p class=\"txt\">TINGOProgramlederne kan alle skilte med psykologutdanning, og har erfaring fra helsevesenet og som skribenter. Hesselberg var ogs\u00e5 en del av den mye omtalte NRK-produksjonen Folkeopplysningen. Siden 2009 har de blogget p\u00e5 kj\u00e6rt, popul\u00e6rvitenskapelig vis om fagfeltet sitt, og podkasten har det siste \u00e5ret v\u00e6rt tilgjengelig i iTunes og p\u00e5 nettsiden.</p>"
       ],
       "metadata": {},
       "output_type": "display_data",
       "text": [
        "<IPython.core.display.HTML at 0x7fa66aea4198>"
       ]
      },
      {
       "html": [
        "<p class=\"mt\">Sosiale medier</p>\n",
        "<p class=\"txt\">1. Ranger f\u00f8lgende sosiale medier fra eldst til yngst: Facebook, Twitter, Snapchat og Instagram.</p>\n",
        "<p class=\"txt\">2. Hva heter det kinesiske svaret p\u00e5 Twitter?</p>\n",
        "<p class=\"txt\">3. I 2010 kom det en film om Facebook og dets grunnlegger. Hva heter filmen og grunnleggeren?</p>\n",
        "<p class=\"txt\">4. Hvilken kvinnelig amerikansk musiker har, if\u00f8lge twittercount.com, flest f\u00f8lgere i verden? Hun har over 53 millioner f\u00f8lgere, men f\u00f8lger bare 143 selv.</p>\n",
        "<p class=\"txt\">5. Den fotballspilleren som kommer h\u00f8yest opp p\u00e5 listen vant i helgen Champions League. Hvilken fotballspiller er det snakk om, og har han vunnet turneringen tidligere?</p>\n",
        "<p class=\"mt\">Lingvistikk</p>\n",
        "<p class=\"txt\">6. Hvordan b\u00f8yes verbet \u00ab\u00e5 sl\u00e5ss\u00bb?</p>\n",
        "<p class=\"txt\">7. Br\u00f8drene Grimm var i tillegg til \u00e5 v\u00e6re eventyrsamlere anerkjente spr\u00e5kforskere. Hva het de til fornavn?</p>\n",
        "<p class=\"txt\">8.  Med unntak av br\u00f8drene Grimm finnes det f\u00e5 verdenskjente lingvister. Men hvilken s\u00e5dan beskrives slik p\u00e5 snl.no? \u00abDen mest siterte n\u00e5levende forfatter og akademiker innenfor samfunnsvitenskapene og de humanistiske fag. Han er mest kjent for sine bidrag til \u00e5 studere spr\u00e5k som en mental evne, og for \u00e5 ha vist at spr\u00e5k kan studeres ved hjelp av vitenskapelige metoder. I tillegg til den lingvistiske karrieren har han v\u00e6rt sv\u00e6rt aktiv som politisk aktivist og debattant. Han er s\u00e6rlig kritisk til amerikansk utenrikspolitikk og kapitalisme.\u00bb</p>\n",
        "<p class=\"txt\">9. Hva er det svenske ordet for tytteb\u00e6r?</p>\n",
        "<p class=\"txt\">10. Hvem var direkt\u00f8r for Spr\u00e5kr\u00e5det fra 2004 til 2010? Han markerte seg i den offentlige debatten og deltok i mange tv-programmer.</p>\n",
        "<p class=\"mt\">Kommunikasjon</p>\n",
        "<p class=\"txt\">11. Hva heter gaten i New York der det tradisjonelt sett l\u00e5 mange reklamebyr\u00e5er?</p>\n",
        "<p class=\"txt\">12. I denne gaten foreg\u00e5r store deler av tv-serien Mad Men. Hva heter byr\u00e5et som serien handler om?</p>\n",
        "<p class=\"txt\">13. Hva betyr det latinske ordet reclamere?</p>\n",
        "<p class=\"txt\">14. Kommunikasjonsbyr\u00e5et First House har f\u00e5tt mye oppmerksomhet den siste tiden. Byr\u00e5et har to tidligere statsr\u00e5der i sin stab. Hva heter de?</p>\n",
        "<p class=\"txt\">15. Den administrerende direkt\u00f8ren i First House er kronprinsesse Mette Marits bror. Hva heter han?</p>\n",
        "<p class=\"mt\">Religion</p>\n",
        "<p class=\"txt\">16. Sunniislam er den mest utbredte grenen av islam i verden, men i fem land utgj\u00f8r sjiamuslimer flertallet av befolkningen. Nevn to av disse fem landene.</p>\n",
        "<p class=\"txt\">17. Hvilken tysk filosof er blant annet kjent for utsagnet \u00abGud er d\u00f8d\u00bb fra 1882 ?</p>\n",
        "<p class=\"txt\">18. Hvem ble i 1933 tiltalt for blasfemi etter \u00e5 ha holdt foredraget \u00abKristendommen, den tiende landeplage\u00bb i Studentersamfundet i Oslo ?</p>\n",
        "<p class=\"txt\">19. Hvem ble i 1993 f\u00f8rste kvinnelige biskop i Den norske kirke?</p>\n",
        "<p class=\"txt\">20. Hvilket trossamfunn, med idag over 15 millioner medlemmer, ble grunnlagt av Joseph Smith i Fayette i New York i 1830?</p>\n",
        "<p class=\"mt\">Svar:</p>\n",
        "<p class=\"txt\">1. Facebook (2004), Twitter (2006), Instagram (2010) og Snapchat (2011)</p>\n",
        "<p class=\"txt\">2. Weibo</p>\n",
        "<p class=\"txt\">3. The Social Network og Mark Zuckerberg</p>\n",
        "<p class=\"txt\">4. Katy Perry</p>\n",
        "<p class=\"txt\">5. Cristiano Ronaldo, han vant ogs\u00e5 i 2008 for Manchester United</p>\n",
        "<p class=\"txt\">6. \u00e5 sl\u00e5ss - sl\u00e5ss - sloss - har sl\u00e5ss (legg merke til at vokalen alltid er den samme som i vebet \u00ab\u00e5 sl\u00e5\u00bb)</p>\n",
        "<p class=\"txt\">7. Jakob og Wilhelm</p>\n",
        "<p class=\"txt\">8. Noam Chomsky</p>\n",
        "<p class=\"txt\">9. Lingon</p>\n",
        "<p class=\"txt\">10. Sylfest Lomheim</p>\n",
        "<p class=\"txt\">11. Madison Avenue</p>\n",
        "<p class=\"txt\">12. Sterling Cooper</p>\n",
        "<p class=\"txt\">13. \u00c5 rope igjen og igjen</p>\n",
        "<p class=\"txt\">14. Bjarne H\u00e5kon Hanssen og Morten Andreas Meyer</p>\n",
        "<p class=\"txt\">15. Per H\u00f8iby</p>\n",
        "<p class=\"txt\">16. Iran, Irak, Aserbajdsjan, Bahrain og Libanon</p>\n",
        "<p class=\"txt\">17. Friedrich Wilhelm Nietzsche</p>\n",
        "<p class=\"txt\">18. Arnulf \u00d8verland</p>\n",
        "<p class=\"txt\">19. Rosemarie K\u00f6hn</p>\n",
        "<p class=\"txt\">20. Jesu Kristi Kirke av Siste Dagers Hellige, kjent som mormonerne</p>"
       ],
       "metadata": {},
       "output_type": "display_data",
       "text": [
        "<IPython.core.display.HTML at 0x7fa66aea4198>"
       ]
      },
      {
       "html": [
        "<p class=\"txt\">Ukas advarsel</p>\n",
        "<p class=\"txt\">Litt sliten om dagen? Kjenner du hvordan motivasjonen fordamper i takt med den \u00f8kende utetemperaturen og fremmedordene som breier seg utover pensumb\u00f8kene dine? Siste helga i mai arrangeres det som omtales som en \u00abkraftpakke til sjela\u00bb. Her loves det energigivende batteriladning og reiser til et unikt knippe personlige destinasjoner, som for eksempel livets tre og tempel. Ikke overbevist? Det kommer mer. En sjelelig reise kan selvsagt ikke foretas sittende, s\u00e5 arrang\u00f8rene stiller derfor med madrasser. For den nette sum av 1100 kr kan du derfor i stabilt sideleie bli ledet ned til underverdenen ved hjelp av tromme og \u00f8rnefj\u00e6r. Gud hjelpe \u2013 eller sjaman, om du vil.</p>"
       ],
       "metadata": {},
       "output_type": "display_data",
       "text": [
        "<IPython.core.display.HTML at 0x7fa66aea4198>"
       ]
      },
      {
       "html": [
        "<p class=\"txt\">Milj\u00f8</p>\n",
        "<p class=\"txt\">Plantebasert mat er i vinden, og den siste til \u00e5 kaste seg p\u00e5 trenden er Studentsamskipnaden i Oslo (SiO). Hver mandag fremmer de sitt tilbud p\u00e5 tretten serveringssteder gjennom Meatless Monday. Men foruten for egen helse, hvilken betydning har egentlig maten vi spiser?</p>\n",
        "<p class=\"txt\">Nylig slo FNs klimapanels siste delrapport fast at skal vi n\u00e5 klimam\u00e5lene er det helt n\u00f8dvendig med en kostholdsendring mot mer plantebasert mat. Dette er i tr\u00e5d med r\u00e5d fra Milj\u00f8direktoratets siste rapport om reduksjon av klimagassutslipp i Norge i et ti\u00e5rs perspektiv. Husdyrproduksjonen er ansvarlig for n\u00e6rmere en femtedel av de globale klimagassutslippene. Om alle nordmenn kuttet kj\u00f8ttet en dag i uken, vil det tilsvare \u00e5 fjerne 380 000 biler fra veiene, if\u00f8lge Framtiden i v\u00e5re hender.</p>\n",
        "<p class=\"txt\">Klimaendringer og befolkningsvekst er forventet \u00e5 legge stadig st\u00f8rre press p\u00e5 v\u00e5re ressurser. Allerede spiser husdyrproduksjon opp en tredjedel av global kornproduksjon og 90 prosent av soyaproduksjon. Innen 2025 er to tredeler av verdens befolkning forventet \u00e5 leve i omr\u00e5der med h\u00f8yt press p\u00e5 vannressurser. Forskning viser at vi m\u00e5 g\u00e5 over til en vegetarisk diett innen 40 \u00e5r for \u00e5 unng\u00e5 katastrofal vannmangel. Ved \u00e5 kutte 500 gram storfekj\u00f8tt fra kostholdet sparer man like mye vann som ved ikke \u00e5 dusje p\u00e5 6 m\u00e5neder.</p>\n",
        "<p class=\"txt\">Regjeringens nye forslag til jordbruksoppgj\u00f8ret aktualiserer hvilken matproduksjon vi vil ha i Norge. \u00d8nsker vi enda mer industrilandbruk som driver rovdrift p\u00e5 natur og dyr? Eller vil vi bruke ressursene v\u00e5re p\u00e5 en effektiv og klimavennlig m\u00e5te, noe som ogs\u00e5 fremmer god helse og sparer dyr fra un\u00f8dvendig lidelse? Vi som forbrukere har den avgj\u00f8rende makten, og velger gjennom v\u00e5re matvalg hver eneste dag hvilken matproduksjon vi \u00f8nsker \u00e5 st\u00f8tte og hvordan vi vil at landbruket skal se ut. Bruk forbrukermakten din og velg vegetarisk.</p>"
       ],
       "metadata": {},
       "output_type": "display_data",
       "text": [
        "<IPython.core.display.HTML at 0x7fa66aea4198>"
       ]
      },
      {
       "html": [
        "<p class=\"txt\">Det viser en epost sendt til medlemmene i studentersamfundet, som Universitas har f\u00e5tt tilgang p\u00e5.</p>\n",
        "<p class=\"txt\">Akkurat n\u00e5 diskuteres den kriserammede \u00f8konomien p\u00e5 Det norske studentersamfunds (DNS) generalforsamling.</p>\n",
        "<p class=\"txt\">\u00abJeg m\u00e5 orientere om den alvorlige tilstanden Chateau Neuf AS er i, og mulige konsekvenser dette vil ha for deg og din studentforenings framtid p\u00e5 Chateau Neuf. Selskapet har bedt om tilf\u00f8rsel av kapital for andre gang i \u00e5r. Per i dag er det en reell mulighet for at CN AS g\u00e5r konkurs, noe vi og de andre eierne skal vurdere p\u00e5 ekstraordin\u00e6r generalforsamling onsdag,\u00bb skriver formann Martin Tveten i e-posten som ble sendt ut til medlemmene i g\u00e5r.</p>\n",
        "<p class=\"txt\">I e-posten oppfordrer Tveten sine medlemmer til \u00e5 jobbe for \u00e5 f\u00e5 flere studenter innom Chateau Neuf.</p>\n",
        "<p class=\"txt\">\u00abIngen endelige beslutninger for veien videre kommer til \u00e5 bli fattet i morgen, men vil bli det i l\u00f8pet av de kommende ukene. Det har stor betydning hva vi selv legger av arbeid i \u00e5 f\u00e5 opp bes\u00f8kstallene framover,\u00bb skriver han.</p>\n",
        "<p class=\"txt\">bildelink: http://static.universitas.no/bilder/2013/26_KUL_Chateauneuf.jpg</p>"
       ],
       "metadata": {},
       "output_type": "display_data",
       "text": [
        "<IPython.core.display.HTML at 0x7fa66aea4198>"
       ]
      },
      {
       "html": [
        "<p class=\"txt\">En fullastet og skranglete hvit buss frakter unge arbeidere fra sentrum i Arusha et stykke ut til et langstrakt gr\u00f8nt landskap. \u00c5 ta h\u00f8yere utdanning i Tanzania er en luksus kun fire prosent av befolkningen f\u00e5r benyttet seg av. Blant dem som ikke har muligheten sitter mange p\u00e5 busser som denne. Langs den st\u00f8vete veien ligger rekker med hjemmesnekra kiosker, som selger alt fra br\u00f8d og Hollywoodfilmer til de lokalt produserte \u00abLong-Lasting Insecticidal Nets\u00bb i bl\u00e5tt og gr\u00f8nt som du lett kan henge over sengen.</p>\n",
        "<p class=\"txt\">Her, ved foten av Kilimanjaro, ligger en av \u00d8st-Afrikas st\u00f8rste fabrikker og myggnettingleverand\u00f8rer. Offisielt er arbeiderne p\u00e5 fabrikken \u00abA to Z\u00bb mellom 18 og 35 \u00e5r, men etter utseende \u00e5 d\u00f8mme er litt for mange litt for unge. Over 80 prosent av alle arbeiderne p\u00e5 fabrikken er kvinner, og brorparten av disse er alenem\u00f8dre. Over h\u00f8yttaleranlegget spilles det lokal musikk, som en motvekt til maskinerienes during. Plastikkjerner smeltes sammen til lange tr\u00e5der som igjen veves til nettingstoff. Disse sys til ulike fasonger i gr\u00f8nt, bl\u00e5tt eller hvitt. P\u00e5 landsbygda er gjerne gr\u00f8nne og bl\u00e5 myggnettinger mer utbredt, da blir st\u00f8v og m\u00f8kk mindre synlig. N\u00e5r det bl\u00e5ser feier st\u00f8vet rundt i skur og leirhytter og legger seg over kl\u00e6r, mat og nett.</p>\n",
        "<p class=\"txt\">Hver dag forlater n\u00e6r 130 fullastede lastebiler fabrikkens lagerbygninger p\u00e5 vei til fjerne byer og fremmede land. Lyset er mykt og sola p\u00e5 vei mot kveld n\u00e5r den siste lastebilen for dagen svinger ut gjennom det gr\u00f8nne slettelandskapet p\u00e5 kanten av savannen. Tunglastet med innpakkede myggnettinger som b\u00e6rer stempelet \u00abMade in Africa\u00bb.</p>\n",
        "<p class=\"bt\">Storproduksjon: Det produseres myggnettinger 24 timer i d\u00f8gnet, alle dager i \u00e5ret. For f\u00e5 \u00e5r siden var der kun et par hundre arbeidere, mens det i dag er over 8200 mennesker som har \u00abA to Z\u00bb som sin faste arbeidsplass. Mange av dem er studenter som m\u00e5 bidra til familiens \u00f8konomi.</p>\n",
        "<p class=\"bt\">Effektiv: Mygg som kommer i kontakt med denne type nett, d\u00f8r innen tre minutter av impregneringsstoffet. I Tanzania har hver gravide kvinne og nybakte mor krav p\u00e5 en gratis myggnetting.</p>\n",
        "<p class=\"bt\">Fargetr\u00f8bbel: I starten ble hvite myggnettinger ikke akseptert av deler av befolkningen p\u00e5 landsbygda i Tanzania da nettenes form og farge i for stor grad ble forbundet med d\u00f8den.</p>\n",
        "<p class=\"bt\">Net-working: \u00abA to Z\u00bb er en familieforretning som startet med \u00e9n beskjeden symaskin p\u00e5 1960-tallet. Siden den gang har myggnettingproduksjonen vokst til \u00e5 bli en betydelig industri og har p\u00e5 kort tid blitt den st\u00f8rste arbeidsgiveren i Tanzania. I 2004 ble det \u00e5rlig produsert om lag 300 000 myggnettinger. N\u00e5, 10 \u00e5r senere er tallet 100 ganger s\u00e5 h\u00f8yt.</p>\n",
        "<p class=\"bt\">Myggnetting er det enkleste og meste effektive virkemiddelet mot malaria. Hvert 30. sekund d\u00f8r et barn av malaria, og malariainfisert mygg tar livet av hvert fjerde barn i Afrika f\u00f8r fylte fem \u00e5r. Men der barn sover under myggnettinger, synker barned\u00f8deligheten med om lag 30% og forhindrer dermed gjennomsnittlig 40 000 d\u00f8dsfall i \u00e5ret.</p>"
       ],
       "metadata": {},
       "output_type": "display_data",
       "text": [
        "<IPython.core.display.HTML at 0x7fa66aea4198>"
       ]
      },
      {
       "html": [
        "<p class=\"fak1\">Ukas podkast: Naked Scientists</p>\n",
        "<p class=\"txt\">The Naked Scientists er en gruppe p\u00e5 14 forskere med ulike fagfelt p\u00e5 universitetet i Cambridge. De har alle et inderlig \u00f8nske om \u00e5 formidle vitenskap og forskningsnyheter til allmennheten, og det er dette som er deres styrke: de er engasjerte fagfolk som snakker om ting de har skikkelig god peiling p\u00e5.</p>\n",
        "<p class=\"txt\">En gang i uka g\u00e5r de p\u00e5 lufta p\u00e5 BBC. Lytterne ringer inn med sp\u00f8rsm\u00e5l som kan handle om alt fra hvorfor vi ler n\u00e5r vi blir kilt, hvilken farge en kameleon egentlig har, til hvorfor planeter er runde. Programlederne svarer p\u00e5 sp\u00f8rsm\u00e5let over telefonen, og man f\u00e5r en uformell dialog mellom innringer og programleder. Det skal v\u00e6re lav terskel for \u00e5 ringe inn, og svarene som gis skal alltid ligge p\u00e5 et niv\u00e5 som Hvermansen kan henge med p\u00e5, uten at det blir fordummende eller simpelt.</p>\n",
        "<p class=\"txt\">Mot slutten av hver podkast f\u00e5r lytterne en liten nyhetsrapport, der programlederne f\u00e5r muligheten til \u00e5 kommentere aktuelle samfunnstemaer i lys av sin bakgrunn som forsker. P\u00e5 den m\u00e5ten belyser de problemstillinger med bakgrunnsstoff som ikke alltid kommer like godt fram i avisene, som n\u00e5r en journalist uten fagbakgrunn skal rapportere om en sak. Et eksempel p\u00e5 dette er Heartbleed-viruset som skapte bekymring for kort tid siden: Podkastens egen IT-mann forklarer p\u00e5 forst\u00e5elig vis hva denne nyheten <i>egentlig</i> handlet om.</p>\n",
        "<p class=\"txt\">Samlet kan denne pakka minne litt om en god, gammeldags frokostradio, bare med smarte programledere som slipper \u00e5 stille dumme sp\u00f8rsm\u00e5l til flaue intervjuobjekter. Om de faktisk er nakne der de sitter, kan man jo lure p\u00e5.</p>"
       ],
       "metadata": {},
       "output_type": "display_data",
       "text": [
        "<IPython.core.display.HTML at 0x7fa66aea4198>"
       ]
      },
      {
       "html": [
        "<p class=\"txt\">Det vanligste akademiske dopet</p>\n",
        "<p class=\"txt\">Stadig flere studenter doper seg p\u00e5 reseptbelagte medisiner for \u00e5 prestere p\u00e5 studet. Vi har testet effekten \u2013 og bivirkningene.</p>\n",
        "<p class=\"txt\">P\u00e5 eksamenskj\u00f8ret</p>\n",
        "<p class=\"txt\">Eksamensdop</p>\n",
        "<p class=\"txt\">Lite overraskende er det f\u00e5 ledige plasser p\u00e5 Universitetsbibliotekets lesesal en tirsdag ettermiddag. Det er mai og skippertaksstudenten har inntatt lesesalen igjen etter et halvt \u00e5rs overvintring. Gulrotknasking, snufsing, slurping og st\u00f8nning. Lydene f\u00e5r en stille lesesal til \u00e5 virke som tortur, og konsentrasjonsevnen har forsvunnet som dugg for v\u00e5rsola.</p>\n",
        "<p class=\"txt\">N\u00e5r det bare er dager igjen f\u00f8r eksamen, kan det derfor v\u00e6re fristende \u00e5 ta ulovlige snarveier.</p>\n",
        "<p class=\"txt\">\u2013 Jeg synes det er merkelig at amfetamin ikke brukes av flere under studietiden. Min erfaring er at det fungerer ekstremt bra.</p>\n",
        "<p class=\"txt\">\u00abLars\u00bb (28) er en av dem som ble fristet av prestasjonsfremmende midler, eller s\u00e5kalt akademisk doping. Han har ikke hatt for vane \u00e5 bruke disse ulovlige medikamentene i studietiden, men han tydde til amfetamin da han hadde hjemmeeksamen og manglet b\u00e5de lyst og overskudd til \u00e5 prestere.</p>\n",
        "<p class=\"txt\">\u2013 Man kan ikke selv styre n\u00e5r man har inspirasjon og driv. Er man i en d\u00e5rlig periode i livet under eksamensperioden, kan man bruke doping. Amfetamin gir en lignende f\u00f8lelse av \u00e5 v\u00e6re i god inspirasjonsflyt, men med dopet kan man velge tidspunkt for flyten selv, sier Lars.</p>\n",
        "<p class=\"txt\">Han er nettopp ferdig med sin mastergrad, skal ut i arbeidslivet og \u00f8nsker derfor \u00e5 v\u00e6re anonym. Men Lars er langt ifra den eneste studenten som applauderer akademisk doping. En ny studie gjort ved en Ivy League-skole i USA viser at en av fem studenter ved prestisjeuniversitetet bruker sentralstimulerende stoffer for \u00e5 gj\u00f8re det bedre p\u00e5 pr\u00f8ver, skrive oppgaver og lese til eksamen. Unders\u00f8kelsen reflekterer andre studier som indikerer lignende funn p\u00e5 flere utdanningsinstitusjoner i USA. Dette er langt flere enn f\u00f8rst antatt.</p>\n",
        "<p class=\"txt\">I Norge er bruken langt ifra s\u00e5 hyppig som i USA, men den \u00f8ker. I en fersk studentunders\u00f8kelse som Universitas har utf\u00f8rt i samarbeid med Norsk studentorganisasjon (NSO), oppgir tre prosent av studentene at de har brukt reseptbelagte prestasjonsfremmende midler for \u00e5 prestere bedre p\u00e5 studiet. Dette er over ett prosentpoeng mer enn det studentenes helse- og trivselsunders\u00f8kelse fra 2010 viste, og tilsvarer relativt store tall i den totale studentmassen.</p>\n",
        "<p class=\"txt\">\u2013 Unders\u00f8kelsen viser at det er mellom 5000 og 10 000 studenter som benytter seg av prestasjonsfremmende midler. Det synes jeg er overraskende mange, sier Ola Rydje, leder i NSO. Han tror studentene tyr til slike stoffer fordi de opplever at d\u00f8gnets timer ikke strekker til for studier.</p>\n",
        "<p class=\"txt\">\u2013 Det er veldig problematisk hvis det er frav\u00e6ret av muligheten til \u00e5 studere p\u00e5 heltid som gj\u00f8r at studenter m\u00e5 ty til slike stoffer for \u00e5 prestere, sier han.</p>\n",
        "<p class=\"txt\">P\u00e5 Universitetsbiblioteket begynner det \u00e5 n\u00e6rme seg kveld. Fortsatt er det mange som klarer \u00e5 presse fram konsentrasjonsevnen. Jeg merker selv at min egen energi er p\u00e5 full fart ned, hodet er i dr\u00f8mmemodus og \u00f8ynene sklir langsomt mot vinduet. Jeg tar h\u00e5nda ned i jakkelomma og fisker opp tablettpakningen. Med bare en uke igjen til eksamen skal disse sm\u00e5 og hvite ritalinpillene f\u00e5 meg til \u00e5 ta igjen den tapte lesinga fra semesteret som har g\u00e5tt.</p>\n",
        "<p class=\"txt\">N\u00e5r tre timer til plutselig har passert, er flere titalls sider blitt lest uten at jeg har stoppet for en eneste femminutter. Hodet er overraskende konsentrert, tross tidspunktet. Lesingen har g\u00e5tt like eventyrlig som \u00e5 lese en skj\u00f8nnlitter\u00e6r hit, og jeg lar meg ikke like lett distrahere av hendelser rundt meg. Lange kapitler p\u00e5 engelsk om svensk partipolitikk absorberes behendig og effektivt, og behovet for \u00e5 sjekke Facebook er nede p\u00e5 et minimum.</p>\n",
        "<p class=\"txt\">\u2013 Man blir veldig euforisk, hyperaktiv og v\u00e5ken. Det er vanskelig \u00e5 si om du blir smartere, men det aktiverer i hvert fall hjerneaktiviteten. Om du kanaliserer det inn i en oppgave, s\u00e5 er det kanskje som n\u00e5r du jobber p\u00e5 ditt aller mest inspirerte, sier Lars n\u00e5r han skal beskrive den opplevelsen jeg har p\u00e5 biblioteket. Han presiserer at han leste seg godt opp p\u00e5 pillebruk i forkant av sitt eget konsum.</p>\n",
        "<p class=\"txt\">\u2013 Jeg tok en pille til frokost, slik at mye av virkningen av stoffet var ute av kroppen da jeg skulle legge meg. I tillegg var jeg bevisst p\u00e5 \u00e5 presse i meg mat og drikke hver fjerde time, sier han.</p>\n",
        "<p class=\"txt\">Selv om Lars selv opplevde et positivt utbytte av \u00e5 bruke amfetamin under hjemmeeksamen, mener han det ikke er for alle.</p>\n",
        "<p class=\"txt\">\u2013 Det krever mye disiplin \u00e5 bruke det. Man mister matlyst og m\u00e5 passe p\u00e5 \u00e5 tvinge i seg n\u00e6ring. I tillegg er det viktig \u00e5 passe p\u00e5 at man f\u00e5r sovet imellom. Hvis ikke kj\u00f8rer man kroppen helt ut og man mister kognitiv kapasitet, sier han. P\u00e5 den tredje dagen merket han at han begynte \u00e5 bli veldig sliten.</p>\n",
        "<p class=\"txt\">\u2013 Det er energi p\u00e5 kreditt, man overanstrenger kroppen og kjenner det i flere dager etterp\u00e5. Jeg mener det er et fint hjelpemiddel i pressa situasjoner, s\u00e5 lenge man er streng med bruken.</p>\n",
        "<p class=\"txt\">Anders Sandberg, forsker ved Future of Humanity Institute p\u00e5 Universitetet i Oxford, tror vi vil komme til \u00e5 trenge mer akademisk doping i fremtiden. Hans forskningsfelt er etiske og sosiale konsekvenser av kognitiv forbedring, og han har selv pr\u00f8vd ut diverse typer akademisk doping, eller \u00abkognitive forbedringsmidler\u00bb som han selv kaller dem.</p>\n",
        "<p class=\"txt\">\u2013 Jeg tror at konkurransen er det som gj\u00f8r bruken av piller problematisk. Det er mye mer konkurranse i USA enn i Skandinavia, og det kan kanskje v\u00e6re en forklaring p\u00e5 den h\u00f8ye forbruken av prestasjonsfremmende midler i Amerika, sier Sandberg p\u00e5 telefon fra England.</p>\n",
        "<p class=\"txt\">\u2013 Nye teknikker som gj\u00f8r at vi kan oppn\u00e5 kognitiv forbedring, har eksistert lenge allerede, eksempelvis kalkulatoren, mobilen og kaffe. Vi ser ikke disse midlene som et samfunnsproblem, sier han og peker p\u00e5 at det er mange studenter som ikke drikker kaffe og som dermed mister fordelen av mer effektiv jobbing. Likevel er det ingen som snakker om \u00e5 stenge kafeene.</p>\n",
        "<p class=\"txt\">\u2013 \u00c5 v\u00e6re intelligent og v\u00e5ken er bra i alle livets situasjoner. Det kan koste oss ganske mye ikke \u00e5 v\u00e6re det i kritiske situasjoner. Jeg mener at piller som gj\u00f8r oss intelligente, er bra \u00e5 bruke s\u00e5 mye som mulig, sier Sandberg.</p>\n",
        "<p class=\"txt\">Men gj\u00f8r disse pillene oss mer intelligente? Nei, mener J\u00f8rgen Bramness, forskningsdirekt\u00f8r ved Senter for rus- og avhengighetsforskning.</p>\n",
        "<p class=\"txt\">\u2013 De f\u00e5 studiene som er gjort, viser at midlene ikke har noen annen effekt enn \u00e5 holde folk mer v\u00e5kne enn til vanlig. Ingen studier har hittil vist at slike stoffer har noen effekt p\u00e5 de kognitive evnene, sier han.</p>\n",
        "<p class=\"txt\">\u2013 Det er i det hele tatt gjort sv\u00e6rt f\u00e5 studier p\u00e5 hvorvidt sentralstimulerende stoffer som ritalin og amfetamin er prestasjonsfremmende.</p>\n",
        "<p class=\"txt\">Bramness mener mange har en sterk overtro n\u00e5r det kommer til effekten av sentralstimulerende stoffer p\u00e5 lesesalen.</p>\n",
        "<p class=\"txt\">\u2013 Folk er d\u00e5rlige til \u00e5 fastsl\u00e5 hvilken effekt pillene har p\u00e5 dem selv. Flere psykofarmakologiske studier viser at det er svakt samsvar mellom egen opplevd effekt av ulike ting og faktisk, objektiv m\u00e5lt virkning. Styrken til stoffene er alts\u00e5 svakere enn brukerne opplever den selv, sier han.</p>\n",
        "<p class=\"txt\">Bramness synes imidlertid ikke vi skal overdrive de negative effektene av akademisk doping, og sier det ikke er farlig i sm\u00e5 doser.</p>\n",
        "<p class=\"txt\">\u2013 Farlig blir det f\u00f8rst n\u00e5r man kj\u00f8per stoffer uten kvalitetsstempel p\u00e5 nett eller tar for store doser. Vanlige bivirkninger er at man mister matlysten, slutter \u00e5 drikke og sove. Da kan man bli psykotisk og f\u00e5 angstanfall, sier han.</p>\n",
        "<p class=\"txt\">Han mener terskelen for \u00e5 pr\u00f8ve akademisk doping er lavere n\u00e5 enn f\u00f8r fordi det bl\u00e5ser liberale narkotikavinder over hele den vestlige verden.</p>\n",
        "<p class=\"txt\">I dag er reseptbelagte prestasjonsfremmende midler ulovlige \u00e5 bruke med mindre man alts\u00e5 har en resept fra lege. Slik har det ikke alltid v\u00e6rt. Det var f\u00f8rst i fjor at det ble illegalt for privatpersoner \u00e5 kj\u00f8pe, selge og bruke slike stoffer uten legeerkl\u00e6ring. Hovedargumentet bak loven var at staten ville sende et signal til norsk ungdom om at doping ikke er greit.</p>\n",
        "<p class=\"txt\">\u00abLars\u00bb synes ikke n\u00f8dvendigvis akademisk doping er juks. \u2013 For mange er det ikke n\u00f8dvendig \u00e5 ta slik doping, fordi de har en stabil arbeidsflyt. Men mange opplever store prestasjonsvansker, og andre er uheldige og har en d\u00e5rlig periode midt i eksamenstida. Da synes jeg ikke det er juks \u00e5 bruke dop.</p>\n",
        "<p class=\"txt\">Medisinsk fagdirekt\u00f8r ved Statens legemiddelverk, Steinar Madsen, er klar p\u00e5 at han synes akademisk doping er det samme som doping i idretten.</p>\n",
        "<p class=\"txt\">\u2013 Det er ikke alle som er i fysisk stand til \u00e5 t\u00e5le slike stoffer. Konkurranse b\u00f8r alltid v\u00e6re p\u00e5 like vilk\u00e5r, og det er den ikke her, sier Madsen p\u00e5 telefon.</p>\n",
        "<p class=\"txt\">Han mener at poenget med forbudet av slike stoffer er at de ikke skal v\u00e6re tilgjengelig for allmenheten, fordi folk sannsynligvis ikke leser etiketten. Fagdirekt\u00f8ren er likevel usikker p\u00e5 effekten av doping, sier han.</p>\n",
        "<p class=\"txt\">\u2013 Forskningen p\u00e5 omr\u00e5det er litt sprikende. Enkelte studier viser at slike stoffer har en positiv effekt n\u00e5r man bruker det p\u00e5 riktig m\u00e5te, fordi en \u00f8ker arbeidskapasiteten, blir mer v\u00e5ken og slik forbereder seg bedre til eksamen. Annen forskning mener derimot at man gj\u00f8r det d\u00e5rligere fordi en ikke f\u00e5r ford\u00f8yd fagstoffet. Da klarer man ikke \u00e5 se sammenhenger ordentlig.</p>\n",
        "<p class=\"txt\">Madsen viser til stoffenes forskjellige bivirkninger og understreker at det beste for studenters prestasjonsniv\u00e5 er \u00e5 trene, spise sunt og ha et sunt liv.</p>\n",
        "<p class=\"txt\">\u2013 Det er en klar sammenheng mellom det \u00e5 v\u00e6re i god fysisk form og ha evne til \u00e5 konsentrere seg, sier han.</p>\n",
        "<p class=\"txt\">Inne p\u00e5 lesesalen har foten min begynt \u00e5 g\u00e5 inn i l\u00f8psk stamping, som jeg f\u00f8rst legger merke til etter \u00e5 ha f\u00e5tt et irritert \u00abhysj\u00bb i min retning. Muskulaturen i bein, nakke og armer er like spente som den var under min f\u00f8rste eksamen p\u00e5 Universitetet. Hjertet sl\u00e5r som om jeg nettopp har l\u00f8pt f\u00f8rste etappe i Holmenkollstafetten, og fors\u00f8ket p\u00e5 \u00e5 puste dypt inn flere ganger for \u00e5 roe ned er fullstendig bortkastet. Jeg har mistet appetitten, og henda har blitt klamme. Bibliotekarene har sagt ifra om at de er i ferd med \u00e5 stenge, men selv om jeg kan relatere meg til den befriende f\u00f8lelsen de som pakker ned rundt meg, sikkert har, kunne jeg uten store vansker sittet konsentrert og lest i noen timer til. Hodet er i h\u00f8ygir, men kroppen kjennes ut som om den har v\u00e6rt med p\u00e5 triatlon. Den er anspent og stiv, og \u00e5 f\u00e5 sove n\u00e5 virker himmelsk, men umulig. Jeg er glad i jeg ikke skal v\u00e6re i denne tilstanden i flere dager i strekk.</p>\n",
        "<p class=\"txt\">\u2013 En del personer klarer \u00e5 h\u00e5ndtere bruk av prestasjonsfremmende midler over en periode, men det er kun \u00e9n person historisk sett som vi vet at har mestret daglig inntak av dop uten \u00e5 forg\u00e5, og det er Sigmund Freud.</p>\n",
        "<p class=\"txt\">Lars Tanum er f\u00f8rsteamanuensis ved Senter for rus- og avhengighetsforskning. Han er sterkt imot bruken av slike prestasjonsfremmende midler i akademia. Ikke bare fordi dopingen kan f\u00f8re til juks, men fordi man utsetter seg for stor psykisk risiko.</p>\n",
        "<p class=\"txt\">\u2013 Etter en m\u00e5neds forbruk vil mange oppleve at de fungerer d\u00e5rligere og f\u00f8le at de m\u00e5 ha mer for \u00e5 fungere. Vi har ikke data p\u00e5 hvor mange som utvikler en slik form for psykisk avhengighet \u2013 som gj\u00f8r bruken farlig. Da er veien veldig kort for \u00e5 ty til andre midler som er sterkere, og man havner i en sone hvor en er i ferd med \u00e5 utvikle narkomani (avhengig av narkotika, journ.anm.), sier han.</p>\n",
        "<p class=\"txt\">Fordi vi ikke vet hvordan enkeltpersoner er skrudd sammen, b\u00f8r man sette grenser for bruk p\u00e5 av akademisk doping til tre dager, mener Tanum.</p>\n",
        "<p class=\"txt\">\u2013 Klarer man ikke det, s\u00e5 beveger man seg inn i et landskap som er potensielt farlig.</p>"
       ],
       "metadata": {},
       "output_type": "display_data",
       "text": [
        "<IPython.core.display.HTML at 0x7fa66aea4198>"
       ]
      },
      {
       "html": [
        "<p class=\"txt\">Ukas anbefaling</p>\n",
        "<p class=\"txt\">Eksamenstiden slipper ikke taket f\u00f8r du ligger der som en halvd\u00f8d haug med nerver. Da er det godt det finnes noe kalt skippertak. N\u00e5r du tenker \u00abhvorfor begynner jeg aldri \u00e5 lese tidligere?\u00bb, er fenomenet en reddende engel. Ved \u00e5 rendyrke teknikken gjennom \u00e5renes l\u00f8p, ved \u00e5 omfavne den som en gammel, litt slitsom venn, har den s\u00e5gar blitt en aldri s\u00e5 liten spesialitet. Sett deg til rette med sjokolade, kaffe og matpakke og gj\u00f8r det til en litt selv-sadistisk leselek \u2013 litt mer, litt lengre \u2013 s\u00e5 vil det b\u00e6re frukter som A-ppelsin og B-anan. Ps. Anbefales for \u00f8vrig \u00e5 lese kontinuerlig, men det er litt sent n\u00e5...</p>"
       ],
       "metadata": {},
       "output_type": "display_data",
       "text": [
        "<IPython.core.display.HTML at 0x7fa66aea4198>"
       ]
      },
      {
       "html": [
        "<p class=\"fak1\">What a difference a day made</p>\n",
        "<p class=\"fak2\">Hva: Dans</p>\n",
        "<p class=\"fak2\">Scene: Scenehuset</p>\n",
        "<p class=\"fak2\">Regi/Koreografi: Martine Hammervold-Austinat</p>\n",
        "<p class=\"fak2\">Musikk:\u00c5se Eva Fredheim</p>\n",
        "<p class=\"fak2\">Med: Elise Aabakken, Anna Einemo Fr\u00f8ysland, Kristine Steinsdatter Jensen m.fler</p>\n",
        "<p class=\"fak2\">Tid: 23\u201325.mai</p>\n",
        "<p class=\"txt\">Scenehuset p\u00e5 Majorstua er fullsatt. Bare det \u00e5 sitte i dette lokalet og vente p\u00e5 at forestillingen skal begynne gir en helt egen spenning. Det originale tregulvet fra slutten av 1800-tallet blir beskrevet som et av Oslos beste dansegulv. Stillheten brer seg, snart skal \u00c5se Eva Fredheims musikk og Marine Hammervold-Austinats h\u00e5ndplukkede dansere ta pusten fra oss.</p>\n",
        "<p class=\"txt\">Lyset kaster skyggene av danserne mot den h\u00f8ye hvite veggen bak scenen, som kun er et tomt gulv. Det er vanskelig \u00e5 bestemme seg for hva som er vakrest. Skyggene, danserne, eller det mystiske lydbildet. Kristine Jensen utmerker seg p\u00e5 scenen: En grasi\u00f8s danser med en formidlingsevne og kroppsbeherskelse de fleste av oss bare kan dr\u00f8mme om. Likevel er det samspillet mellom alle danserne, og deres ulike kropper og ulike styrker som fascinerer mest. Hver enkelt har sitt eget spr\u00e5k. Hammervold-Austinats koreografi har latt dem selv formulere seg gjennom egne kropper, og det er dette som gj\u00f8r det sl\u00e5ende vakkert.</p>\n",
        "<p class=\"txt\"><I>What a difference </I><I>a </I><I>day made</I> bringer en kombinasjon av improvisasjon og innstudert materiale i en satt struktur. Varigheten og det varme, tette lokalet utfordrer t\u00e5lmodigheten, og n\u00e5r en time har passert hadde det p\u00e5 mange m\u00e5ter v\u00e6rt nok. I et samfunn der alt s\u00e5 ofte skal plasseres i b\u00e5ser og sm\u00e5 firkantede bokser, er det befriende \u00e5 se noe som t\u00f8r \u00e5 v\u00e6re annerledes, som t\u00f8r \u00e5 ta oss med storm uten et fors\u00f8k p\u00e5 \u00e5 v\u00e6re verken mer eller mindre enn det det er. Allikevel er dette mer enn dans i form av briljerende teknikk og tekniske ferdigheter. <I>What a difference a day made</I> formidler lidenskap og f\u00f8lelser. Men forestillingen legger ingen f\u00f8ring for hvordan det hele skal tolkes, hver publikummer f\u00e5r anledning til \u00e5 danne sitt eget inntrykk. Martine Hammervold-Austinat og danserne hennes har s\u00f8rget for at dagen s\u00e5 absolutt har gjort en forskjell.</p>"
       ],
       "metadata": {},
       "output_type": "display_data",
       "text": [
        "<IPython.core.display.HTML at 0x7fa66aea4198>"
       ]
      },
      {
       "html": [
        "<p class=\"txt\">Petter (24) Gjennomsnittlig aktiv bruker. Kuttet ut sosiale medier, men lot pushvarslene v\u00e6re p\u00e5 i selvtortur.</p>\n",
        "<p class=\"mt\">Hvordan i all verden husket folk hvem de skulle gratulere f\u00f8r de fikk seg Facebook?</p>\n",
        "<p class=\"txt\">Jeg husker da far tok med den f\u00f8rste dataen inn i hjemmet og jeg husker tiden f\u00f8r MSN og Facebook. Jeg har v\u00e6rt p\u00e5 den andre sida. \u00c9n uke uten sosiale medier blir lett.</p>\n",
        "<p class=\"txt\">Dag 1. Det gikk fem minutter fra jeg v\u00e5kna til jeg dreit meg ut. Av ren vane tok jeg opp mobilen og sjekka varslene. Pavlov hadde vel hatt et og annet han skulle ha sagt.</p>\n",
        "<p class=\"txt\">Utover dagen fortsetter pushvarslene \u00e5 tikke inn. Dette er seigpining. Jeg ser at ting skjer, men aner ikke hva. Jeg sitter i et glassbur og ser at de andre har det moro ute i solskinnet, men h\u00f8rer ikke hva de sier og kan ikke bli med. Noen har invitert meg til grillfest, men hvor og n\u00e5r? Hvis det er denne uka, h\u00e5per jeg de har vett nok til \u00e5 ringe meg. Men det har de sikkert ikke. Ingen ringer meg.</p>\n",
        "<p class=\"txt\">Det er noe dritt \u00e5 ta banen uten \u00e5 kunne bruke Twitter, Instagram eller Facebook. Jeg stirrer ut i lufta, p\u00e5 hendene mine og p\u00e5 alle de rare folka. Til helga, n\u00e5r jeg m\u00e5 pendle til og fra jobb, m\u00e5 jeg virkelig huske \u00e5 ta med meg ei bok. Jeg m\u00e5 bli en s\u00e5nn type. Jeg blir en av de jeg ser p\u00e5 banen n\u00e5, som tror de er smarte med bok. Dem har jeg ikke lagt merke til f\u00f8r. De bruker sikkert ikke sosiale medier til vanlig heller, reaksjon\u00e6re kuker.</p>\n",
        "<p class=\"txt\">Etter tre dager ringte en kompis meg for \u00e5 planlegge overnatting til bryllup vi skal i til sommeren. De har visst diskutert det p\u00e5 Facebook, sier han. Jeg sier bare \u00abja\u00bb, og h\u00e5per at de fikser noe fornuftig til meg. I tillegg har Facebook sendt meg e-post. Jeg har visstnok mange varsler som venter. De har aldri sendt meg e-post f\u00f8r. Savner de meg?</p>\n",
        "<p class=\"txt\">P\u00e5 jobb 17. mai tenker jeg p\u00e5 hvor mange champagnesk\u00e5ler og bunadssmil jeg g\u00e5r glipp av. Heldigvis. Men p\u00e5 vei hjem p\u00e5 kvelden savner jeg Instagram eller Twitter. Noe jeg kan scrolle form\u00e5lsl\u00f8st p\u00e5. Rundt meg p\u00e5 banen sitter fulle nasjonaldagsfeirere som sikkert har avtalt \u00e5 m\u00f8te andre som seg selv via Facebook. Jeg vil bare hjem og legge meg, og jeg vil glane p\u00e5 bilder av kaker og is.</p>\n",
        "<p class=\"txt\">Det gikk da ganske lett. Jeg vet enn\u00e5 ikke hvem som hadde bursdag mens jeg var avlogget, men jeg har heller ikke sett noen g\u00e5 med bursdagshatt i kollektivet. Det er et godt tegn. Jeg har l\u00e6rt at folk er rare og at Dovre ikke faller selv om Facebook gj\u00f8r det. Men jeg sjekker fremdeles telefonen som det f\u00f8rste jeg gj\u00f8r n\u00e5r jeg v\u00e5kner. Jaja, noe skal vel Pavlov ha igjen for den Nobelprisen sin.</p>\n",
        "<p class=\"txt\">\u00abJeg har visstnok mange varsler som venter. Facebook har aldri sendt meg e-post f\u00f8r. Savner de meg?\u00bb</p>\n",
        "<p class=\"sitatbyline\">Petter (24)</p>\n",
        "<p class=\"mt\">Frokosten smaker ikke like godt uten instafilter.</p>\n",
        "<p class=\"txt\">Livet er ganske bra hvis man lever i god tro om at overflaten av Facebooks tidslinje speiler det virkelige liv. For personer som er over gjennomsnittet sosiale fungerer sosiale medier som en forenklende utstrakt arm. Med Facebook, Whatsapp, Snapchat, iMessage, Instagram, LinkedIn, Twitter og Argus blir jeg en \u00e5ttearmet multitaskende blekksprut uten begrensninger. Men hva skjer n\u00e5r magien plutselig blir brutt uten forvarsel?</p>\n",
        "<p class=\"txt\">Klokken begynner \u00e5 n\u00e6rme seg midnatt n\u00e5r alle kanaler skal sperres for bruk. En overdose med chat-vinduer p\u00e5 Facebook er aktive, bare for \u00e5 v\u00e6re klar for en uke uten cybersosialt samv\u00e6r. Hodet ned p\u00e5 puta. Nasjonaldagen! Hvordan skal man planlegge nasjonaldagen uten sosiale medier?</p>\n",
        "<p class=\"txt\">F\u00f8rste dagen streifes alle nettavisene som substitutt. Plutselig f\u00e5r man mye bedre tid p\u00e5 morgenen. Jeg sitter alene med en instagramverdig frokost med s\u00e5nne trendy suger\u00f8r med striper p\u00e5, men den smaker ikke like godt uten et instagramfilter. Allerede klokken 10:00 kommer krampeaktige abstinenser. Musikk settes p\u00e5 for \u00e5 legge en demper p\u00e5 den plutselige ensomheten som oppst\u00e5r, og takk Gud for at eksamen er et samarbeidsprosjekt som tar opp mye av tiden. Da har man i hvert fall konstante planer for \u00e5 slippe \u00e5 g\u00e5 p\u00e5 veggen.</p>\n",
        "<p class=\"txt\">Andre dagen oppleves trikketurene som togturer til Gj\u00f8vik fra spor 16. Er det virkelig s\u00e5 langt fra Jernbanetorget til Blindern? Et \u00abFacebookchat-pling\u00bb fikk meg til \u00e5 r\u00f8ske opp mobilen min for \u00e5 se om det var noe liv. Et irriterert sukk \u2013 ingenting.</p>\n",
        "<p class=\"txt\">\u00abHei. Lever du eller? Du har v\u00e6rt s\u00e5 stille de siste dagene\u00bb. Plutselig ringer en nerv\u00f8s venninne. Magen min bobler av glede n\u00e5r mitt frav\u00e6r fra sosiale medier i fire dager endelig har blitt oppdaget. I jobb og skolesammenheng blir man en racer uten avbrytelsene, p\u00e5 tross av at man mister hele kontaktnettverket og disse skolerelevante gruppene.</p>\n",
        "<p class=\"txt\">Dagene g\u00e5r og det er egentlig deilig med et pusterom fra forventingene om \u00e5 v\u00e6re tilgjengelig blekksprut hele d\u00f8gnet. N\u00e5r nasjonaldagen endelig st\u00e5r for tur er det ikke s\u00e5 stress likevel. Snarere tvert imot. Selvsagt var det kjipt \u00e5 ikke kunne vise frem den nystr\u00f8kne bunadsskjorta, men man hang jo med alle de menneskene som ville ofret en \u00ablike\u00bb likevel.</p>\n",
        "<p class=\"txt\">98 varsler og 13 ubesvarte meldinger etter en uke uten Facebook. En uke der timevis av daglig interaksjon som omfavner alt av skole, jobb og sosialt samv\u00e6r forsvant uanmeldt. Totalforbud er kanskje ikke n\u00f8dvendig, men en begrensing av bruken kan herved anbefales. For hva f\u00e5r man egentlig igjen av timevis med scrolling og badeutfordringer?</p>\n",
        "<p class=\"mt\">Tror du du kan se for deg hvordan det er \u00e5 v\u00e6re avkobla? Det kan du ikke.</p>\n",
        "<p class=\"txt\">Det er med godt mot jeg g\u00e5r i gang med en uke uten mobiltelefon, datamaskin eller TV. Fire romaner ligger klare p\u00e5 nattbordet, gitaren er stemt, og et overmodent hekleprosjekt skriker etter \u00e5 bli gjort ferdig. Dessuten er jeg langt fra avhengig av b\u00e5de mobilen, dataen og TV-en. Jeg logger av, vel vitende om at jeg skal forbli avlogget i en uke \u2013 uten at noen andre vet om det. Dette skal g\u00e5 fint. Jeg er jo forberedt.</p>\n",
        "<p class=\"txt\">Det g\u00e5r deprimerende kort tid f\u00f8r hindre begynner \u00e5 oppst\u00e5: Mobilen fungerer ogs\u00e5 som vekkerklokke, og jobben kaller allerede klokken \u00e5tte. Forsover jeg meg har jeg ingen m\u00e5te \u00e5 f\u00e5 sagt fra p\u00e5. Hustelefon har jeg jo ikke.</p>\n",
        "<p class=\"txt\">P\u00e5 vei hjem fra jobb ser jeg en person p\u00e5 enhjulssykkel, og vil instinktivt sende en snapchat til noen f\u00f8r jeg husker at jeg ikke har mobil. Jeg vil ogs\u00e5 se hvor mye penger jeg har p\u00e5 konto f\u00f8r jeg handler, men akk. M\u00e5tte man g\u00e5 rundt og huske p\u00e5 s\u00e5nt f\u00f8r i tiden?</p>\n",
        "<p class=\"txt\">De f\u00f8rste dagene flyr av g\u00e5rde. Bilder av sm\u00e5barn p\u00e5 potte, selvskryt fra dagens trenings\u00f8kt og enda flere klager p\u00e5 den udugelige regjeringa h\u00f8rer til en fjern virkelighet. Det f\u00f8les godt. Jeg f\u00e5r til og med tid til \u00e5 sette meg ned og skrive brev, som dessverre ikke ble sendt. Adressen husker jeg nemlig ikke.</p>\n",
        "<p class=\"txt\">S\u00e5 skj\u00e6rer det seg. I og med at jeg kan bruke det jeg trenger i jobbsammenheng, sl\u00e5r jeg p\u00e5 mobilen i ti minutter for et kjapt telefonintervju. Push-varslene renner inn: Venninnegjengen har avtalt fellesmiddag i en tr\u00e5d p\u00e5 Facebook. Jeg har g\u00e5tt glipp av en kollokvie. Mamma har fors\u00f8kt \u00e5 f\u00e5 tak i meg, og har sendt en hissig melding fordi hun ikke f\u00e5r noe svar. Hva annet har jeg g\u00e5tt glipp av? Kaffeavtaler, grilling i parken, flere kollokvier? Har \u00e5rets hyttetur blitt planlagt uten meg? Uten noen form for kommunikasjon f\u00f8ler jeg meg isolert og alene. Denne ensomheten hadde jeg ikke forutsett, men n\u00e5 er den s\u00e5 virkelig at jeg har lyst til \u00e5 legge meg ned og gr\u00e5te.</p>\n",
        "<p class=\"txt\">Dagen etter er en <I>s\u00e5nn</I> dag. Alt jeg vil n\u00e5r jeg kommer hjem er \u00e5 legge meg i senga med en pose sm\u00e5godt og Netflix. Jeg vil i det minste ringe kj\u00e6resten og s\u00f8ke litt tr\u00f8st. Med sm\u00e5godt, men uten Netflix legger jeg meg under dyna.</p>\n",
        "<p class=\"txt\">Mot slutten av uka sprekker det. Ensomheten er i ferd med \u00e5 spise meg opp, og jeg orker ikke flere kvelder mutters alene i den stumme leiligheten.</p>\n",
        "<p class=\"txt\">Det er ikke de sosiale mediene i seg selv jeg savner, men evnen til \u00e5 opprettholde kontakten med venner og familie. For \u00e5 bevare sinnet tar jeg frem mobilen, som en gammel venn, og ensomhetsf\u00f8lelsen forsvinner fort. Facebook-feeden savner jeg ikke i det hele tatt, men vennene mine, de savner jeg. \u00c5 ikke v\u00e6re p\u00e5 Facebook er \u00e9n ting. \u00c5 leve uten \u00e5 kunne kommunisere i det hele tatt er noe ganske annet.</p>"
       ],
       "metadata": {},
       "output_type": "display_data",
       "text": [
        "<IPython.core.display.HTML at 0x7fa66aea4198>"
       ]
      },
      {
       "html": [
        "<p class=\"txt\">\u2013 Jeg f\u00f8lte at jeg ble frosset ut. Jeg kunne ikke jobbe der... Jeg kunne ikke.</p>\n",
        "<p class=\"txt\">Det er april. Ruth Vatvedt Fjeld sitter p\u00e5 et av de mange m\u00f8tene hun har blitt innkalt til som prorektor ved Universitetet i Oslo (UiO). Til stede er ogs\u00e5 viserektor Knut F\u00e6gri, Ragnhild Hennum og assisterende universitetsdirekt\u00f8r, Tove Karlsen. N\u00e5r hennes kolleger legger fram en utredning av doktorgradsutdanningen, kjenner hun at sinnet koker. Hun sp\u00f8r kollegene rundt bordet hvorfor hun h\u00f8rer om utredningen f\u00f8rst n\u00e5, etter nesten et \u00e5r som prorektor, n\u00e5r den direkte ang\u00e5r hennes arbeid?</p>\n",
        "<p class=\"txt\">Det blir helt stille i rommet. F\u00e6gri begynner \u00e5 snakke videre om noe annet, men Fjeld stopper ham og ber ham svare p\u00e5 sp\u00f8rsm\u00e5let hennes. Det gj\u00f8r han ikke. Etter m\u00f8tet g\u00e5r hun til kontoret sitt p\u00e5 Lucy Smiths hus og skriver sin fratredelseserkl\u00e6ring.</p>\n",
        "<p class=\"txt\">\u2013 Mye var nok galt allerede f\u00f8r jeg kom inn i bildet, sier Fjeld. Det er blitt mai, og det har g\u00e5tt over en m\u00e5ned siden hun bestemte seg for \u00e5 g\u00e5 fra ledervervet. I ettertid har hun tenkt mye p\u00e5 om det var selve prorektorstillingen eller hennes egen personlighet som gjorde at det skar seg.</p>\n",
        "<p class=\"txt\">Hva gj\u00f8r egentlig en prorektor? Sp\u00f8rsm\u00e5let har blitt st\u00e5ende som stridens kjerne i konflikten mellom Vatvedt Fjeld og hennes tidligere kolleger i rektoratet ved UiO. If\u00f8lge rektor Ole Petter Ottersen er det avgj\u00f8rende at man i en slik jobb skaper sine egne arbeidsoppgaver. If\u00f8lge Fjeld har en prorektor viktige oppgaver, men hun opplevde at de ble tatt fra henne, \u00e9n etter \u00e9n, og at jobben hun hadde sett fram til, til slutt bare handlet om \u00e5 v\u00e6re rektors stedfortreder i offentlige sammenhenger.</p>\n",
        "<p class=\"txt\">\u2013 Hvem som helst kan lire av seg en ferdig tale, det krever ikke mye.</p>\n",
        "<p class=\"txt\">Fjeld sitter i skyggen p\u00e5 verandaen og ser utover hagen sin p\u00e5 Oslos beste \u00f8stkant. Nederst i hagen ligger et lite skur med ved og redskaper. Skuret har Fjeld bygget selv.</p>\n",
        "<p class=\"txt\">\u2013 S\u00e5nn er jeg da, vet du, sier Fjeld. Da hun ble skilt fra mannen sin for ti \u00e5r siden, sa folk at hun burde selge huset, men det kom ikke p\u00e5 tale. Hun m\u00e5 ha hagen. Og lyden av fuglekvitter. Og s\u00e5 er det god plass n\u00e5r datteren, som jobber ved den norske ambassaden i India, kommer p\u00e5 sommerferie med barnebarna.</p>\n",
        "<p class=\"txt\">Fjeld har mye hun skulle sagt i disse dager. Selv om hun mener det verste er over, er hun fremdeles frustrert over det hun har gjennomg\u00e5tt i l\u00f8pet av det siste \u00e5ret.</p>\n",
        "<p class=\"txt\">\u2013 I sommerferien, f\u00f8r jeg tiltr\u00e5dte, fikk jeg en mail fra Ottersen hvor det stod at han hadde fors\u00f8kt \u00e5 f\u00e5 tak i meg, men ikke lyktes. Han kan ikke ha pr\u00f8vd s\u00e6rlig hardt, sier hun og nikker mot telefonen som ligger p\u00e5 bordet foran henne. Hun har den med seg overalt.</p>\n",
        "<p class=\"txt\">I mailen skrev Ottersen at han hadde ansatt Knut F\u00e6gri som viserektor. Fjeld reagerte p\u00e5 at Ottersen hadde valgt \u00e5 utvide den demokratisk valgte ledelsesgruppa uten at hun fikk deltatt i diskusjonen. Ansettelsen viste seg ogs\u00e5 \u00e5 f\u00e5 konsekvenser for stillingen hennes.</p>\n",
        "<p class=\"txt\">\u2013 Da jeg kom p\u00e5 det f\u00f8rste arbeidsm\u00f8tet, var oppgavene allerede fordelt.</p>\n",
        "<p class=\"txt\">F\u00e6gri, den nye viserektoren, var satt opp p\u00e5 flere verv som tilh\u00f8rer prorektorvervet, blant annet hadde han f\u00e5tt ansvaret for forskning.</p>\n",
        "<p class=\"txt\">\u2013 Jeg satt og tenkte \u00abhva skal jeg gj\u00f8re da?\u00bb sier Fjeld, som mener det riktige ville v\u00e6rt at hun og de to viserektorene hadde satt seg ned sammen med rektor og blitt enige om hvordan de skulle fordelt oppgavene, ut ifra kompetanse og erfaring. Hun fikk aldri noen forklaring p\u00e5 hvorfor hun ble fratatt ansvaret for forskningen.</p>\n",
        "<p class=\"txt\">\u2013 Kanskje tenkte Ottersen at forskningen ble best ivaretatt av en mann fra matematiske og naturvitenskapelige fag. Han har heller ikke avsl\u00f8rt hvorfor han \u00f8nsket meg som kandidat til prorektorvervet.</p>\n",
        "<p class=\"txt\">Egentlig hadde hun aldri tenkt \u00e5 bli prorektor. 66-\u00e5ringen er egentlig mest opptatt av faget sitt, spr\u00e5kvitenskap.</p>\n",
        "<p class=\"txt\">\u2013 Men da jeg ble spurt, tenkte jeg \u00abjavel, s\u00e5 trenger de meg vel, da\u00bb. De m\u00e5tte jo ha vurdert meg og min erfaring.</p>\n",
        "<p class=\"txt\">Hun glemmer aldri den f\u00f8rste dagen som prorektor. Da klokka ble halv tolv, kom Ottersen og Gunn-Elin Aa. Bj\u00f8rneboe med en blomsterkvast som de gav henne i d\u00f8ra. \u00abVelkommen til oss\u00bb, sa de og gikk. Ingen sm\u00e5prat, ingen lunsjinvitasjon.</p>\n",
        "<p class=\"txt\">Noe av det f\u00f8rste hun fikk i oppdrag \u00e5 gj\u00f8re, var \u00e5 skrive under p\u00e5 regnskapet p\u00e5 seks milliarder fra \u00e5ret f\u00f8r \u2013 en oppgave hun ikke tok lett p\u00e5.</p>\n",
        "<p class=\"txt\">\u2013 Jeg fikk helt hetta! Jeg hadde jo ikke kjennskap til dette. Det var ingen vedlegg eller noen ting. Det l\u00e5 bare i hylla mi, v\u00e6r s\u00e5 god, liksom. Skulle jeg v\u00e6re med og ta ansvar for alle de pengene? Det virket som om tradisjonen er at administrasjonen ordner alt, og s\u00e5 setter man bare p\u00e5 navnet sitt der man blir bedt om det.</p>\n",
        "<p class=\"txt\">For Fjeld ble denne holdningen vanskelig \u00e5 godta i lengden. Hun opplevde \u00e5 sitte p\u00e5 m\u00f8ter i time etter time uten \u00e5 kunne bidra med noe som helst. Da hun omsider fikk satt seg ned med Ottersen, sa hun til ham at hun m\u00e5tte f\u00e5 noe ordentlig \u00e5 gj\u00f8re \u2013 ellers ville hun slutte.</p>\n",
        "<p class=\"txt\">\u2013 \u00c5\u00e5h, ja, men det skulle han ordne! sier Fjeld og himler med \u00f8ynene. Men det skjedde ingenting. Rundt p\u00e5ske fors\u00f8kte hun igjen \u00e5 f\u00e5 dr\u00f8ftet stillingen sin med Ottersen, men han sa da at man at i en s\u00e5 h\u00f8y stilling m\u00e5 finne sine egne oppgaver.</p>\n",
        "<p class=\"txt\">\u2013 Det er en litt merkelig m\u00e5te \u00e5 lede et rektorat p\u00e5. Skulle vi alle sammen hale og dra i hver v\u00e5r retning og jobbe for det vi selv syntes var viktig?</p>\n",
        "<p class=\"txt\">Fjeld begynte \u00e5 grue seg til \u00e5 g\u00e5 p\u00e5 jobben.</p>\n",
        "<p class=\"txt\">\u2013 Man blir ikke noen hyggelig person av \u00e5 jobbe under slike omstendigheter. Jeg har aldri hatt noe d\u00e5rlig forhold til kolleger og liker ikke konflikter. Men noen kamper m\u00e5 man bare ta. Det er synd, for jeg har ikke s\u00e5 mange \u00e5r igjen i akademia.</p>\n",
        "<p class=\"txt\">Etter en ukes tid med vurderinger for og imot leverte Fjeld sin fratredelseserkl\u00e6ring til rektor Ottersen. \u00abDet kommer du med <I>n\u00e5</I>?\u00bb, var responsen hun fikk.</p>\n",
        "<p class=\"txt\">\u2013 Men jeg hadde jo sagt ifra flere ganger.</p>\n",
        "<p class=\"txt\">Fjeld reagerte kraftig p\u00e5 at Ottersen i media gikk ut og sa at han var s\u00e5 lei seg for at hun ville trekke seg. \u00abHvis han virkelig hadde v\u00e6rt lei seg ville han vel satt seg ned og fors\u00f8kt \u00e5 ordne situasjonen?\u00bb tenkte hun. Noe av det hun opplevde som mest provoserende, var likevel hvordan hennes begrunnelse for oppsigelsen ble fortolket av rektoratet.</p>\n",
        "<p class=\"txt\">\u2013 Det er ikke sant at jeg trakk meg av personlige \u00e5rsaker. Jeg var ikke syk, det var ikke noe galt med meg. Jeg skrev at jeg gikk av fordi jeg mente jeg ikke hadde f\u00e5tt de arbeidsoppgavene som jeg hadde blitt forespeilet. Dagen f\u00f8r styrem\u00f8tet kom Ottersen med en liste p\u00e5 \u00e5tte punkter om hvordan fratredelsen skulle foreg\u00e5, som han insisterte p\u00e5 at hun m\u00e5tte skrive under p\u00e5 der og da. \u2013 S\u00e5nn gj\u00f8r man ikke med mennesker man har respekt for, sier Fjeld, som nektet \u00e5 skrive under p\u00e5 papiret. Universitas har f\u00e5tt se listen, men Fjeld \u00f8nsker ikke \u00e5 offentliggj\u00f8re den.</p>\n",
        "<p class=\"txt\">Fjeld er skuffet over m\u00f8tet med ledelsen p\u00e5 universitetet hun har v\u00e6rt s\u00e5 glad i gjennom s\u00e5 mange \u00e5r. Hun husker at verden \u00e5pnet seg p\u00e5 en helt ny m\u00e5te da hun som ung begynte \u00e5 studere tysk p\u00e5 UiO, etter \u00e5 ha jobbet et \u00e5r som au pair i \u00d8sterrike. Hun tok hovedfag i norsk, og jobbet ved siden av som norskl\u00e6rer for trygdeklienter. Det var der hun oppdaget hvor viktig det er med klart spr\u00e5k, og hun har v\u00e6rt opptatt av problematikken siden.</p>\n",
        "<p class=\"txt\">\u2013 Det var b\u00e5de narkomane og tidligere straffed\u00f8mte som gikk p\u00e5 kurset, og jeg husker at jeg ba dem om \u00e5 lese en brosjyre, \u00abHvem har rett til attf\u00f8ring\u00bb. Brosjyren var jo myntet p\u00e5 dem, men de forstod ikke b\u00e6ret! Selv om jeg tenkte at disse menneskene m\u00e5tte l\u00e6re seg \u00e5 lese, ble jeg mer opptatt av at de som skrev slike brosjyrer, m\u00e5tte l\u00e6re seg \u00e5 uttrykke seg tydeligere.</p>\n",
        "<p class=\"txt\">Da Fjeld skrev hovedfagsoppgave, brukte hun de gamle elevene sine som fors\u00f8kspersoner og fant ut at de hadde mye lettere for \u00e5 lese enkle tekster.</p>\n",
        "<p class=\"txt\">\u2013 Det var jo heller ikke noe problem for meg \u00e5 skrive om den brosjyren slik at den ble mer forst\u00e5elig, s\u00e5 da begynte jeg med det. Mange bedrifter og organisasjoner hyret meg inn for at jeg skulle fortelle dem hvordan man skal skulle skrive p\u00e5 denne m\u00e5ten. Det var jo ingen sak, det handlet bare om \u00e5 ta bort de vanskelige ordene og \u00e5 sette et punktum innimellom.</p>\n",
        "<p class=\"txt\">Da Fjeld var ferdig med hovedfag i norsk, fikk hun en stilling som vitenskapelig assistent p\u00e5 Institutt for leksikografi \u2013 faget som tar for seg problemer knyttet til utarbeiding av ordb\u00f8ker. Da hun begynte, visste hun knapt hva det var. I dag vet hun at ordbok-definisjoner er en egen kunst, som handler om \u00e5 appellere til det allmenne og det generelle.</p>\n",
        "<p class=\"txt\">\u2013 Du kan godt si at vi bruker Ivar Aasen-metoden, svarer hun p\u00e5 sp\u00f8rsm\u00e5l om hvorvidt hun egentlig jobber litt som nynorsk-pioneren som kartla dialektene i Norge p\u00e5 1800-tallet.</p>\n",
        "<p class=\"txt\">\u2013 N\u00e5r man skal finne fram til en ordbokdefinisjon, m\u00e5 man sp\u00f8rre mange mennesker om hva noe kalles, og det folk flest svarer, ja, det heter det. Hun leter med blikket og stopper opp ved en liten krukke p\u00e5 verandabordet.</p>\n",
        "<p class=\"txt\">\u2013 Hva vil du kalle dette, for eksempel?</p>\n",
        "<p class=\"txt\">\u2013 <I>En... B\u00f8sse?</I></p>\n",
        "<p class=\"txt\">\u2013 En b\u00f8sse, sier du. Ja, n\u00e5 f\u00e5r vi h\u00f8re hva den svenske fotografen sier n\u00e5r han kommer tilbake, han har sikkert et annet ord. S\u00e5 m\u00e5 jeg sp\u00f8rre alle, da... Noen vil kanskje si sukkerb\u00f8sse, noen andre sukkerkopp...</p>\n",
        "<p class=\"txt\">Fjeld har tatt opp igjen et massivt prosjekt \u2013 hun reviderer Bokm\u00e5lsordboka. Opptatt som hun er av kj\u00f8nnsteorier rundt spr\u00e5k, har hun blant annet merket seg at mange ord er skrevet av og for menn.</p>\n",
        "<p class=\"txt\">\u2013 Det er mange ord for kvinneting som rett og slett ikke finnes i ordboka. Ta aerobic, for eksempel. Da jeg begynte med mitt arbeid fantes ikke det ordet i ordboka. Men g\u00e5fotball, derimot...</p>\n",
        "<p class=\"txt\"><I>\u2013 G\u00e5fotball?</I></p>\n",
        "<p class=\"txt\">\u2013 Ja, det var en kjempes\u00e6r sport, hvor gutta liksom g\u00e5r litt sakte mens de spiller. Men man m\u00e5 passe seg for \u00e5 ikke bli for engasjert, kunsten er \u00e5 holde sitt eget perspektiv unna n\u00e5r man lager ordbokdefinisjoner, tilf\u00f8yer hun.</p>\n",
        "<p class=\"txt\">\u2013 Der kommer han, sier Fjeld og smiler mot den svenske fotografen.</p>\n",
        "<p class=\"txt\">\u2013 Hva vil du kalle dette, Henrik?</p>\n",
        "<p class=\"txt\"><I>Ja, nej... Ett sockerkar?</I></p>\n",
        "<p class=\"txt\">\u2013 Et sukkerkar, ja, da gikk du opp i hierarkiet, sier Fjeld triumferende.</p>\n",
        "<p class=\"txt\">Et kar kan v\u00e6re flere ting, men b\u00f8sse er mer spesifikt, skj\u00f8nner dere?</p>\n",
        "<p class=\"txt\">\u2013 Nei?</p>\n",
        "<p class=\"txt\">Hun l\u00f8fter opp et nytt eksempel fra bordet. Professoren er i undervisningsmodus.</p>\n",
        "<p class=\"txt\">\u2013 Ta en kaffekanne, da. Man har et overbegrep, alts\u00e5 <I>kanne</I>.</p>\n",
        "<p class=\"txt\">\u2013 Hva er det? Jo, det er en <I>kanne</I>, som... Ja, der har du overbegrepet, og s\u00e5 er det bare \u00e5 fylle inn. En kanne som er spesielt innrettet for \u00e5 servere kaffe, ikke sant? S\u00e5 kan du g\u00e5 oppover og oppover i systemet. En kanne, et husger\u00e5d, en ting... Til slutt ender man opp helt uti det bl\u00e5, med elementer som jord, ild, luft og vann, haha!</p>\n",
        "<p class=\"txt\">Selv om leksikografi er et av Fjelds hjertebarn, er hun minst like kjent for ha forsket p\u00e5 en rekke andre omr\u00e5der innen spr\u00e5kvitenskap. B\u00e5de spr\u00e5ket i norske dommer og banning er blant temaene som stadig er under lupen hennes. Hun er fascinert av m\u00e5ten vi bruker og finner opp spr\u00e5ket p\u00e5. Spr\u00e5ket i ledelsen p\u00e5 UiO var ogs\u00e5 noe hun \u00f8nsket \u00e5 ta tak i da hun tiltr\u00e5dte stillingen som prorektor. Men heller ikke det fikk hun positiv respons p\u00e5 da hun foreslo \u00e5 gj\u00f8re endringer.</p>\n",
        "<p class=\"txt\">\u2013 Jeg leste utredningen om PhD-utdanningen hvor det stod en del svada om at stipendiatene skal bli hele mennesker, sier Fjeld.</p>\n",
        "<p class=\"txt\">Hun erkjenner at det er viktig med en kommunikasjonsstrategi, men synes likevel disse strategiene fikk en urimelig stor plass i rektoratet.</p>\n",
        "<p class=\"txt\">\u2013 Det er ikke nok \u00e5 si at vi skal v\u00e6re verdens beste universitet. Studenter og stipendiater skal l\u00e6re seg \u00e5 bruke vitenskapelige metoder og finne og formidle ny kunnskap. S\u00e5 enkelt er det, og man trenger ikke skrive f\u00f8rti sider med fine talem\u00e5ter om det.</p>\n",
        "<p class=\"txt\">Sakens framstilling er her basert p\u00e5 Fjelds opplevelser. Se undersak for tilsvar fra Ottersen og F\u00e6gri.</p>"
       ],
       "metadata": {},
       "output_type": "display_data",
       "text": [
        "<IPython.core.display.HTML at 0x7fa66aea4198>"
       ]
      },
      {
       "html": [
        "<p class=\"txt\">Panelet best\u00e5r av et tilfeldig utvalg medlemmer av Universitas' redaksjon.</p>\n",
        "<p class=\"txt\">Karakterskalaen g\u00e5r fra A til F, hvor A er beste og F den d\u00e5rligste. Hver karakter avgj\u00f8res ved gjennomsnittet etter en stemmeopptelling.</p>\n",
        "<p class=\"txt\">Vi har hentet inn butikksommer\u00f8l fra landets st\u00f8rste bryggerier, i tillegg til en \u00e5pen klasse med \u00f8l fra Vinmonopolet og mikrobryggeri.</p>\n",
        "<p class=\"txt\">Alle \u00f8l er stappet inn i samme kj\u00f8leskap f\u00f8r smaking og b\u00f8r derfor ha noenlunde samme temperatur.</p>\n",
        "<p class=\"txt\">All \u00f8l er servert i det studenter gjerne har tilgjengelig av drikkeredskaper \u2013 som kopper, sk\u00e5ler og syltet\u00f8yglass.</p>\n",
        "<p class=\"mt\">TUBORG <I>SOMMER\u00d8L</I></p>\n",
        "<p class=\"txt\">\u2013 Smaker som deilig Farris bris med et hint av pils, er f\u00f8rste kommentar fra panelet. Hvis du er fjorten og synes \u00f8l er dritvondt, er dette typen for deg. \u00d8len f\u00e5r pluss for \u00abekstrem b\u00e6lmefaktor\u00bb, hyggelig design og friskhet. Imidlertid trekker den metalliske ettersmaken, med f\u00f8lelsen av et fettlag i munnen, en del ned. Dette er \u00f8len for Hyperstate-folket.</p>\n",
        "<p class=\"mt\">FREDRIKSTAD <I>SOMMER\u00d8L</I></p>\n",
        "<p class=\"txt\">\u2013 Disse har ikke brukt ei krone p\u00e5 designet. Ser ut som eventyrbrus!</p>\n",
        "<p class=\"txt\">Plankebyens \u00f8l lukter v\u00e5t ved, v\u00f8rter\u00f8l og et hint av s\u00e5pe. Det smaker fyll, dog ikke trist fyll. Den lover \u00f8l og gr\u00f8nne skoger p\u00e5 lukta, men leverer bare helt midt p\u00e5 treet. Panelet er samstemt i at denne \u00f8len har sin egen sjarm, og at den smaker og lukter \u00abhoppe i h\u00f8yet\u00bb. En \u00f8l man vil gj\u00f8re mye faenskap med.</p>\n",
        "<p class=\"mt\">HANSA <I>HER KOMMER SOLEN</I></p>\n",
        "<p class=\"txt\">\u2013 Her kommer Polen! Hansa har lagt seg p\u00e5 en \u00f8steuropeisk <I>taste</I>. Er det smugler\u00f8l? \u2013 En ressurssvak og veldig anonym \u00f8l. Tre sekunder etter du har tatt en klunk, er du fortsatt usikker p\u00e5 hva det smaker, kommenterer et panelmedlem.</p>\n",
        "<p class=\"txt\">\u00d8len har en vag smak av frukt og bitter honning, blir det fortalt, og panelet bestemmer seg for at usmaken kunne v\u00e6rt verre. Men \u00e5 parafrasere Jokke redder ikke denne fra \u00e5 falle til nedre halvdel av lista.</p>\n",
        "<p class=\"mt\">CB <I>FERIEPILSEN</I></p>\n",
        "<p class=\"txt\">\u2013 T\u00f8rka frukt og blomster, er f\u00f8rste reaksjon fra panelet. En kontinental smak, men p\u00e5 danskeb\u00e5tm\u00e5ten. Vi er i <I>Captain's Lounge</I> p\u00e5 vei til Hirtshals, blir dommerne enige om. Noen mener den er en god repareringspils, mens andre ville valgt den p\u00e5 seilb\u00e5ttur. Det er enighet om at dette ikke er fylle\u00f8l. \u2013 En trivelig \u00f8l med en ettersmak som sitter igjen lenge.</p>\n",
        "<p class=\"mt\">LADEGAARD <I>HVETE</I></p>\n",
        "<p class=\"txt\">\u2013 S\u00f8t honning, hvete og en anelse sitrus \u2013 denne biter meg i rumpa! \u2013 Det smaker tysk bensinstasjon, p\u00e5 en bra m\u00e5te. \u2013 Et innbydende, old school-preg, med deilige flasker \u00e5 drikke fra. Enormt pluss for skrukork, men er det en sommer\u00f8l? sp\u00f8r en av panelets kritiske r\u00f8ster. Under tvil blir den godkjent, og spesielt linjene \u00f8len trekker tilbake til Harald H\u00e5rfagre bringer den opp i toppsjiktet.</p>\n",
        "<p class=\"mt\">BORG <I>SOMMER\u00d8L</I></p>\n",
        "<p class=\"txt\">\u2013 Designet har de stj\u00e5let fra VG-lista \u2013 en tabloid \u00f8l, blir det sagt. En av fotografene anf\u00f8rer at boksen er mest fotogen. Lukter parfymert h\u00e5nds\u00e5pe eller H&M-parfyme. En litt skarpere smak med mye s\u00f8dme, som river i svelget. \u00d8len f\u00e5r pluss for \u00abpositiv holdning\u00bb, men trekkes for en \u00abp\u00e5tvunget k\u00e5thet\u00bb. En h\u00f8ydare p\u00e5 russetreff.</p>\n",
        "<p class=\"mt\">GRANS <I>EVIG SOMMER</I></p>\n",
        "<p class=\"txt\">\u2013 Et \u00e6rlig Ed Hardy-design, med en rekke white trash-elementer. Denne \u00f8len portretterer en l\u00f8rdag p\u00e5 Jessheim, bare uten vold. Men man f\u00e5r lyst til \u00e5 sl\u00e5 noen, p\u00e5st\u00e5r panelet. Smaken blir p\u00e5st\u00e5tt \u00e5 v\u00e6re en miks av Maaruds paprikapotetgull, konjakkuler og sm\u00f8r. En av paneldeltakerne g\u00e5r for \u00e5 kaste opp. Her er b\u00e6lmefaktoren p\u00e5 sitt laveste. \u2013 Bermen vil elske denne, ironihipsterne g\u00e5r for designet, mens resten b\u00f8r styre unna. Denne vil bidra til \u00e5 \u00f8ke markedet for saltstenger.</p>\n",
        "<p class=\"txt\"><I>\u00c5</I><I>PEN KLASSE:</I></p>\n",
        "<p class=\"mt\">RINGNES <I>SKJ\u00c6RG\u00c5RDSPILS</I></p>\n",
        "<p class=\"mt\">\u2013 Her har man en ekte sommer\u00f8l! Men det kjennes ut som den er \u00e5pnet for en time siden, s\u00e5 daff er den. Den er s\u00f8t og samtidig litt bitter, men mangler friskheten til en skj\u00e6rg\u00e5rds\u00f8l. En veldig vanlig pils, mener panelet. Pluss for tidl\u00f8st og sobert design, samt at det er den enkleste \u00f8len \u00e5 drikke. \u2013 Her er det s\u00e5 sm\u00e5 bobler at du slipper \u00e5 rape.</p>\n",
        "<p class=\"txt\">KINN <I>ROSA KINN</I></p>\n",
        "<p class=\"txt\">\u2013 Lukter som en fruktsk\u00e5l. Mormor tar med seg en av disse p\u00e5 slektstreff, \u00e5pner panelet. Som husholdningssaft blandet med \u00f8l, med et lite hint av Nyco.</p>\n",
        "<p class=\"txt\">\u2013 Denne skal jeg b\u00e6lme etter et bad p\u00e5 Hoved\u00f8ya i sommer, sier en mer ekstatisk deltaker. Kinn skapte den st\u00f8rste diskusjonen i panelet og ble enten topp eller bunn hos alle. Vinner prisen for mest interessante smak i begge leire.</p>\n",
        "<p class=\"mt\">RINGNES <I>SOMMER\u00d8L</I></p>\n",
        "<p class=\"txt\">\u2013 Her var det mye humle og bra frukt p\u00e5 vei ned, bryter en deltaker ut. \u2013 Den spruter litt mer i munnen, alts\u00e5, men hvor mange orker man? Du vil egentlig bare svelge unna fort, sier en annen. \u2013 Denne skal jeg drikke p\u00e5 en bl\u00e5 Hibas-dass i sommer. Knallbra sommersmak, anf\u00f8rer en tredje. Panelet mener den er s\u00e5 \u00abkvalmende som en \u00f8l b\u00f8r v\u00e6re\u00bb, med en \u00abkjappis i munnen\u00bb av en ettersmak. Jevnt over solide skussm\u00e5l, men to deltakere gir den stryk.</p>\n",
        "<p class=\"mt\">KRISTIANASTUDENTENES H\u00c5NDBRYGGERLAUG <I>HERREG\u00c5RDSBRYGG \u2013 IPA</I></p>\n",
        "<p class=\"txt\">\u2013 Denne stiller i en egen kategori. J\u00e6vla digg! \u2013 Definitivt den r\u00e5este smaken, som setter seg foran p\u00e5 tunga \u2013 ikke bak.</p>\n",
        "<p class=\"txt\">Her snakker vi grilling i parken, med noen dyre burgere og krydderp\u00f8lser. Panelet mener dette er en \u00abnippepils\u00bb og godtar den som sommer\u00f8l. Litt vel mye humle, blir det sagt, og noen drister seg til \u00e5 hevde at det er en \u00abambisi\u00f8s, men urutinert IPA\u00bb. I avstemminga er det likevel klart at denne g\u00e5r til topps.</p>\n",
        "<p class=\"txt\">BERENTSENS <I>SOMMER\u00d8L</I></p>\n",
        "<p class=\"txt\">\u2013 Ser ut som en sider p\u00e5 boksen, og den smaker ogs\u00e5 surt. En \u00f8l for folk som ikke liker \u00f8l, med en karakteristisk transmak som virkelig setter seg. Panelet mener dette er \u00aben \u00f8l for campingplasser p\u00e5 svenskegrensa\u00bb og synes det smaker billig.</p>\n",
        "<p class=\"mt\">KRISTIANASTUDENTENES H\u00c5NDBRYGGERLAUG <I>HVETE\u00d8LSDAGENE \u2013 BELGISK HVETE\u00d8L</I></p>\n",
        "<p class=\"txt\">\u2013 Ypperlig hvete\u00f8l. Lys, sm\u00e5s\u00f8t og syrlig. Mindre banansmak enn Paulaner og Erdinger, mener en kjenner i panelet. \u2013 Den smaker bedre enn den lukter, men jeg f\u00e5r litt f\u00f8lelsen av \u00e5 m\u00f8te en gammel l\u00e6rer fra barneskolen p\u00e5 byen, sier et mindre kyndig medlem. Panelet er enig i at den er \u00abgodt h\u00e5ndverk\u00bb, men setter Herreg\u00e5rdsbrygget fra samme bryggeri over denne.</p>"
       ],
       "metadata": {},
       "output_type": "display_data",
       "text": [
        "<IPython.core.display.HTML at 0x7fa66aea4198>"
       ]
      },
      {
       "html": [
        "<p class=\"txt\">Den 25. mai er for de aller fleste nordmenn en helt vanlig dag. Men for EUs innbyggere er dagen ogs\u00e5 den siste valgdagen til Europaparlamentet (EP) \u2013 en dag som i stor grad avgj\u00f8r den politiske retningen Europa kommer til \u00e5 bevege seg mot. For Norge betyr dette valget at vi nok en gang kommer til \u00e5 f\u00f8lge resten av Europa, v\u00e5r viktigste handelspartner, uten \u00e5 bli h\u00f8rt eller \u00e5 ha mulighet til \u00e5 p\u00e5virke p\u00e5 lik linje med EUs medlemmer.</p>\n",
        "<p class=\"txt\">Samtidig velger Universitetet i Oslo (UiO) \u00e5 legge ned Europastudier, og skrenker dermed inn spisskompetansen p\u00e5 omr\u00e5det. Sammen f\u00f8rer dette til en ytterligere nedsatt grunnleggende forst\u00e5else av Europa og EU i den norske befolkningen. EU er ikke perfekt, langt i fra, men vi b\u00f8r ta del i \u00e5 utforme et EU som ivaretar norske interesser i langt st\u00f8rre grad. Et norsk medlemskap blir viktigere for hvert \u00e5r som g\u00e5r, EU integrerer p\u00e5 stadig flere omr\u00e5der \u2013 og da b\u00f8r Norge v\u00e6re med \u00e5 avgj\u00f8re hvilken form dette EU skal ha. Da trengs ogs\u00e5 kunnskapen om EU og Europa i aller h\u00f8yeste grad.</p>\n",
        "<p class=\"txt\">\u00c5rets EP-valg vil utligne maktbalansen mellom parlamentet og ministerr\u00e5det. Tidligere har EU (og det riktig) v\u00e6rt kritisert for altfor lite innflytelse fra borgernes side. Det representative demokratiet har ikke v\u00e6rt sterkt nok og EP har blitt betegnet som en slags demokratisk blidgj\u00f8relse uten reell makt. I \u00e5r, p\u00e5 bakgrunn av Lisboa-traktaten fra 2009 vil dette endre seg. For f\u00f8rste gang vil blant annet presidenten i Kommisjonen bli valgt p\u00e5 bakgrunn av resultatene i \u00e5rets valg og EP vil bli tilskrevet en rekke nye kompetanseomr\u00e5der. Dette illustrerer hvordan man innad i EU alltid jobber for \u00e5 styrke det representative demokratiet.</p>\n",
        "<p class=\"txt\">I kontrast til dette betegnes v\u00e5rt samarbeid innenfor E\u00d8S-rammene som et demokratisk underskudd og et suverenitetsproblem. Det er en rekke programmer og felt som vi m\u00e5 forholde oss til, men som vi samtidig har sv\u00e6rt liten mulighet til \u00e5 p\u00e5virke. P\u00e5 en annen side er det ikke til \u00e5 komme foruten at vi sier fra oss suverenitet ved et mulig medlemskap i EU, men dette kontres ved \u00e5 kunne p\u00e5virke fra innsiden. Muligheten til \u00e5 p\u00e5virke g\u00e5r begge veier \u2013 uansett hvilket syn man m\u00e5tte ha p\u00e5 EU, s\u00e5 b\u00f8r det representeres p\u00e5 europeisk niv\u00e5 slik at Norge blir med \u00e5 bygge det Europa vi \u00f8nsker \u00e5 v\u00e6re en del av i fremtiden. Derfor burde vi ogs\u00e5 ha mulighet til \u00e5 ta del i EP-valget.</p>"
       ],
       "metadata": {},
       "output_type": "display_data",
       "text": [
        "<IPython.core.display.HTML at 0x7fa66aea4198>"
       ]
      },
      {
       "html": [
        "<p class=\"spm\">\u2013 Kristian Gundersen, du er mildt sagt ikke enig med Ola Rydjes forslag om \u00e5 svekke stillingsvernet i akademia. Hva er problemet?</p>\n",
        "<p class=\"txt\">\u2013 Argumentasjonen henger ikke p\u00e5 greip. Han sier han skal gj\u00f8re noe med likestillingen, men ikke hvordan. Da m\u00e5 han i det minste si mannlige professorer. Det er mange grunner til at professorer b\u00f8r ha et sterkere stillingsvern, det handler om akademisk frihet. Hvis vernet svekkes, vil professorer med upopul\u00e6re meninger g\u00e5 f\u00f8rst.</p>\n",
        "<p class=\"spm\">\u2013 Er du redd for \u00e5 miste jobben om stillingsvernet svekkes?</p>\n",
        "<p class=\"txt\">\u2013 At jeg skal miste jobben? Jeg har jo sterke meninger i offentligheten, og det kan jo godt hende mange vil bli kvitt meg.</p>\n",
        "<p class=\"spm\">\u2013 NSO-lederen sitter selv i ett \u00e5r av gangen og er ganske vernet. B\u00f8r det bli lettere \u00e5 sparke studentledere?</p>\n",
        "<p class=\"txt\">\u2013 Nei, vi skal ta dem med argumenter, ikke ved \u00e5 sparke dem.</p>\n",
        "<p class=\"spm\">\u2013 P\u00e5 Twitter kaller du dette en generasjonskamp og kj\u00f8nnskamp. Er dette saken som endelig f\u00e5r eldre, mannlige professorer til \u00e5 kreve sin rett?</p>\n",
        "<p class=\"txt\">\u2013 Nei, det ... er et sp\u00f8rsm\u00e5l med s\u00e5 mange premisser at jeg vanskelig kan svare p\u00e5 det! Eldre, mannlige professorer gj\u00f8r faktisk en god jobb de ogs\u00e5.</p>\n",
        "<p class=\"spm\">\u2013 Du twitret at \u00abStudentleder vil massesparke professorer, for \u00e5 gi plass til yngre kvinner\u00bb. Beskylder du Rydje for \u00e5 utnytte sin stilling for \u00e5 f\u00e5 seg noe?</p>\n",
        "<p class=\"txt\">\u2013 Nei, men jeg tror ikke han har tenkt gjennom saken.</p>\n",
        "<p class=\"spm\">\u2013 Men du twitret til Rydje at han er \u00abfryktelig naiv\u00bb, mener han du er litt unyansert. Er du unyansert, Gundersen?</p>\n",
        "<p class=\"txt\">\u2013 Det m\u00e5 du nesten sp\u00f8rre andre om, jeg sier det jeg mener. N\u00e5r Rydje kommer med slike ekstreme uttalelser m\u00e5 han finne seg i \u00e5 bli motsagt. Skal du sp\u00f8rre meg om jeg vil vurdere min stilling n\u00e5, da?</p>\n",
        "<p class=\"spm\">\u2013 Jeg skulle sp\u00f8rre deg om du vil vurdere ditt stillingsvern...</p>\n",
        "<p class=\"txt\">\u2013 Nei.</p>"
       ],
       "metadata": {},
       "output_type": "display_data",
       "text": [
        "<IPython.core.display.HTML at 0x7fa66aea4198>"
       ]
      },
      {
       "html": [
        "<p class=\"fak1\">Konflikten</p>\n",
        "<p class=\"fak2\">Scene: Litteraturhuset</p>\n",
        "<p class=\"fak2\">Regi: Mads Sj\u00f8g\u00e5rd Pettersen</p>\n",
        "<p class=\"fak2\">Med: Torstein Bj\u00f8rklund</p>\n",
        "<p class=\"fak2\">Manus: Kristine Klubben, Torstein Bj\u00f8rklund og Mads Sj\u00f8g\u00e5rd Pettersen</p>\n",
        "<p class=\"txt\">N\u00f8dvendige nyanser</p>\n",
        "<p class=\"txt\"><I>Konflikten</I> er en monolog i figur av Torstein Bj\u00f8rklund, som tar for seg de mange nyansene i konflikten mellom palestinerne og j\u00f8dene. Innholdet er basert p\u00e5 to reiser og 37 intervjuer med personer i b\u00e5de Israel og Palestina.</p>\n",
        "<p class=\"txt\">Det hele starter med en rekke sammensatte videoklipp. Noen viser idyll, stillhet og ro, andre viser eksplosjoner, oppr\u00f8r og krig. Bj\u00f8rklund kommer inn p\u00e5 scenen og presenterer en personlig fortelling om bakgrunnen for denne monologen.</p>\n",
        "<p class=\"txt\">Forestillingen varer i en time, og i l\u00f8pet av tiden f\u00e5r du servert en omfattende historie fra depresjonen i Europa, holocaust, hvordan j\u00f8der og arabere tidligere levde side om side, mange krigene og frem til i dag. Det hele blir forsterket av video-intervjuer, hvor vi blant annet m\u00f8ter en palestinsk kvinne som har m\u00e5ttet bure inne balkongen sin for \u00e5 beskytte seg mot steinkasting. Vi m\u00f8ter ogs\u00e5 en israelsk patriot som mener at okkupasjonen m\u00e5 ta slutt, for f\u00f8rst da kan man snakke om fred sammen.</p>\n",
        "<p class=\"txt\">De tre manusforfatterne t\u00f8r \u00e5 stille sp\u00f8rsm\u00e5let om hvordan man kan gi all skyld til Israel, n\u00e5r den arabiske verden ikke gjorde stort da palestinerne ble drevet p\u00e5 flukt. De t\u00f8r \u00e5 p\u00e5peke at Israel som stat alltid har m\u00e5ttet beskytte seg selv. Samtidig fortelles historier om urettferdig behandling og mangel p\u00e5 rettigheter. Om hvordan arabiske familier har blitt splittet p\u00e5 grunn av muren, og hvordan israelske milit\u00e6re har massakrert palestinske familier.</p>\n",
        "<p class=\"txt\"><I>Konflikten</I> er dyp, tankevekkende og inspirerende. Den vil nok ikke endre st\u00e5stedet ditt, men den vil garantert f\u00e5 deg til \u00e5 se flere nyanser. Og som Bj\u00f8rklund selv sier i monologen: \u2013 Det handler om \u00e5 se konflikten med to \u00f8yne i stedet for ett.</p>\n",
        "<p class=\"bt\">foto: BirTe Nystad Magnussen</p>\n",
        "<p class=\"bt\">foto: Carsten Aniksdal</p>"
       ],
       "metadata": {},
       "output_type": "display_data",
       "text": [
        "<IPython.core.display.HTML at 0x7fa66aea4198>"
       ]
      },
      {
       "html": [
        "<p class=\"fak1\">Mizhmazh</p>\n",
        "<p class=\"fak2\">Av: Enmesher</p>\n",
        "<p class=\"fak2\">Plateselskap: Nordic Records</p>\n",
        "<p class=\"txt\">Se for deg tekoppene p\u00e5 tivoli. Den karusellen der koppen du sitter i snurrer rundt, samtidig som tallerkenen snurrer rundt, samtidig som selve karusellen snurrer rundt. De f\u00e6rreste liker den, og selv de som gj\u00f8r det ender med \u00e5 bli svimle og kvalme og uten \u00f8nske om \u00e5 gjenta turen. Akkurat slik er Enmeshers nye plate. Det frister \u00e5 hoppe av i f\u00f8rste sving, og det er lite som lokker til en ny tur.</p>\n",
        "<p class=\"txt\">Trioen, best\u00e5ende av Susanna Calvert, Henning Eidem og Peder Solvang, har holdt det g\u00e5ende siden 2003. De har lang fartstid som musikere og vet n\u00f8yaktig hva de gj\u00f8r, men blandingen av elektronisk musikk, afrobeats, kunstpop og progressiv rock n\u00e5r ikke helt hjem, spesielt ikke sistnevnte. Afrotrommene er et artig innslag, og fungerer bedre enn mye annet, men de f\u00e5r dessverre ikke nok rom, og forstyrres dessuten av vokalen med Henning Eidem, Peder Solvang og diverse gjesteartister.</p>\n",
        "<p class=\"txt\">Musikken er gjentakende og sirkul\u00e6r, og h\u00e5pet om et lite friskt pust blir aldri oppfylt. Starten p\u00e5 hver l\u00e5t kan i et lite \u00f8yeblikk virke interessant, men det som f\u00f8lger er det samme retningsl\u00f8se, gjentakende kaoset. Det er vanskelig \u00e5 se for seg hva slags publikum dette er produsert for. Med hele 12 spor er det skuffende lite variasjon, og overgangen fra \u00e9n l\u00e5t til en annen merkes etter hvert ikke.</p>\n",
        "<p class=\"txt\">Enmesher kunne med fordel investert litt mer i grafikk og design til sitt nye album. Likevel er det tvilsomt at det ville gjort det helt store utslaget. Innpakningen st\u00e5r i stil med musikken; det er en smule provoserende og lite tilgjengelig og innbydende.</p>"
       ],
       "metadata": {},
       "output_type": "display_data",
       "text": [
        "<IPython.core.display.HTML at 0x7fa66aea4198>"
       ]
      },
      {
       "html": [
        "<p class=\"txt\">@RektorenDin Prorektor uten en eneste stemme. Begynner \u00e5 bli redd for at Ragnhild Hennum er Frank Underwood. H\u00e5per ikke hun vil bli rektor...</p>\n",
        "<p class=\"txt\">14.mai\b#NyvalgN\u00e5</p>\n",
        "<p class=\"txt\">@rydje Etter nesten to \u00e5r i NSO har Andr\u00e9 byttet navn p\u00e5 Twitter til @NSO_Andre. 40 dager f\u00f8r han slutter. Cruel & unusual punishment kan ventes.</p>\n",
        "<p class=\"txt\">21.mai\bKommer til \u00e5 savne Rydje som rydder opp</p>\n",
        "<p class=\"txt\">@fjeldavli Beste som skjedde i pensum dette semesteret: Da Anders Lange hadde med seg vikingsverd i tv-debatt. Mer av det. #eksamenskj\u00f8ret</p>\n",
        "<p class=\"txt\">24.mai\bP\u00e5 tide \u00e5 bytte studie?</p>\n",
        "<p class=\"txt\">@velfundert Hvordan bryte sosiale normer p\u00e5 t-banen, en oppskrift:1. Insister p\u00e5 \u00e5 snakke med folk 2. Fortell om JESUS</p>\n",
        "<p class=\"txt\">18.mai\bEksamen bringer frem det beste i folk</p>\n",
        "<p class=\"txt\">@skjevrak Hadde eksamen i mikro\u00f8konomi idag. Fikk ingen sp\u00f8rsm\u00e5l om Paradise Hotel, s\u00e5 jeg bommet nok litt med forberedelsene.</p>\n",
        "<p class=\"txt\">23.mai\bYes, you did</p>"
       ],
       "metadata": {},
       "output_type": "display_data",
       "text": [
        "<IPython.core.display.HTML at 0x7fa66aea4198>"
       ]
      },
      {
       "html": [
        "<p class=\"txt\">Ukas advarsel</p>\n",
        "<p class=\"txt\">I mange m\u00e5neder har du sett fram til de deilige, rolige sommerkveldene. Og jammen er de ikke rett rundt hj\u00f8rnet. Endelig skal du skravle med venner over ei flaske vin og spise kveldsmat i parken med kj\u00e6resten. Champions League er over og tippeligaen tar ferie. \u00c5h, som du elsker sommeren. NEI, HVA ER DET DU DRIVER MED? SKYT! YESS! Idyllen er brutt. Typen din melder flytting til bestekompisen og den idrettsfrelste venninna di benker seg foran tv-en. Det er starten p\u00e5 en m\u00e5ned fylt med glede, sinne, rop, entusiasme og t\u00e5rer. Du er herved advart. L\u00e6r deg \u00e5 like det, eller r\u00f8m til fjells.</p>"
       ],
       "metadata": {},
       "output_type": "display_data",
       "text": [
        "<IPython.core.display.HTML at 0x7fa66aea4198>"
       ]
      },
      {
       "html": [
        "<p class=\"spm\">\u2013 P\u00e5 bloggen din bruker du mye plass p\u00e5 \u00e5 forsvare troen p\u00e5 Gud, men ogs\u00e5 p\u00e5 \u00e5 angripe moderne religionskritikk. Hva er problemet?</p>\n",
        "<p class=\"spm\">\u2013 Min egen karriere i filosofi og trosforsvar ble p\u00e5 mange m\u00e5ter utl\u00f8st av m\u00f8tet med nyateismen. Som gudskritisk bevegelse er den en banal og anti-intellektuell katastrofe. Til tider er det skremmende hvor blind lojaliteten er til et rammeverk der fysisk materie er alt som eksisterer. Richard Dawkins er en r\u00e5 biolog, og jeg leser The Blind Watchmaker n\u00e5r som helst. Men n\u00e5r han skal over til filosofi, som han ikke kan noe om, ser det stygt ut. Sp\u00f8r du meg om landbrukspolitikk i Vietnam, svarer jeg at jeg mangler forarbeidet til \u00e5 uttale meg.</p>\n",
        "<p class=\"spm\">\u2013 I <I>The God Delusion</I> (2006) svarer Dawkins p\u00e5 det der. Han mener man ikke kan p\u00e5legges \u00e5 lese seg opp p\u00e5 \u00abpastafarisk teologi\u00bb for \u00e5 diskutere om det finnes et flyvende spaghettimonster i himmelen. Poenget er at det m\u00e5 v\u00e6re mulig \u00e5 motsi Guds eksistens uten \u00e5 fordype seg i teologi.</p>\n",
        "<p class=\"spm\">\u2013 Det argumentet viser hvor mye Dawkins skriker etter kunnskap. Han trenger ikke lese teologi, han kunne tatt turen til en filosofikollega. N\u00e5r teister snakker om Gud, er det ikke en hypotese med en rekke tilfeldige egenskaper, der du kan ende med et flyvende spaghettimonster som lukter s\u00e5nn og s\u00e5nn. Vi snakker om Gud som den ultimate virkeligheten, selve Eksistensen, der v\u00e5r verden ikke kan eksistere uavhengig av ham. Troen er ikke en avvisning av fornuften, men mer et fokus p\u00e5 det fornuften har kommet fram til f\u00f8rst. Det ligger selvsagt tusenvis av sider bak disse argumentene.</p>\n",
        "<p class=\"spm\">\u2013 Det h\u00f8res ut som en ganske annen gudsforst\u00e5else enn den \u00abnyateistene\u00bb retter skytset sitt mot.</p>\n",
        "<p class=\"spm\">\u2013 Absolutt. B\u00e5de kirken og ulike religioner har v\u00e6rt for d\u00e5rlige til \u00e5 undervise i hva det egentlig er vi prater om, og kan ta selvkritikk for at det er kristne, j\u00f8der og muslimer som g\u00e5r og tenker at Gud er en s\u00e5 banal st\u00f8rrelse som den nyateistene angriper. Men samtidig skriver Dawkins en bok der han kritiserer Thomas Aquinas' gudsbeviser, som er blant de mest anerkjente som finnes. S\u00e5 han har p\u00e5 ingen m\u00e5te begrenset seg til \u00e5 ta bonden i Texas som tror Gud er en mann med skjegg som gir gode avlinger om han ber riktig.</p>\n",
        "<p class=\"spm\">\u2013 Du henter synet og argumentene dine fra den klassiske filosofiske tradisjonen. Hva er det, og hva kan det tilby oss?</p>\n",
        "<p class=\"spm\">\u2013 Det er en kunnskapstradisjon som g\u00e5r fra filosofene f\u00f8r Sokrates, via Platon og Aristoteles, og som er videreutviklet i tusen\u00e5rene siden. Den kombinerer verdenshistoriens mest intelligente tenkere, og er like relevant i dag som for 2500 \u00e5r siden \u2013 i dialog med fronten av naturvitenskap og moderne analytisk filosofi.</p>\n",
        "<p class=\"spm\">\u2013 I mars var du paneldeltaker i \u00abGrill en kristen\u00bb, arrangert av Oslo Kristelige Studentlag. Gudsangrep og -forsvar har p\u00e5g\u00e5tt i hundrevis av \u00e5r, tilsynelatende uten at man kommer til enighet. Hva er poenget med \u00e5 fors\u00f8ke \u00e5 overbevise andre s\u00e5 mye?</p>\n",
        "<p class=\"spm\">\u2013 Min oppriktige, nestekj\u00e6rlige intensjon er at alle skal \u00abfinne Gud\u00bb, om jeg s\u00e5 skulle ta feil. Jeg tror sannhet eksisterer, og jeg tror den har en iboende verdi. Dessuten f\u00e5r synene v\u00e5re konsekvenser. Uten Gud blir man tvunget inn i en annen virkelighetsforst\u00e5else, der det ikke lenger er noe \u00e5penbart overskridende \u00e5 feste mening og hensikter i.</p>\n",
        "<p class=\"spm\">\u2013 En \u00abnyateist\u00bb som filosofen Sam Harris finner jo et grunnlag for det gode i hva som f\u00f8rer til mest nytelse og minst smerte for individer?</p>\n",
        "<p class=\"spm\">\u2013 Ja, men da m\u00e5 du igjen definere hva nytelse er, og hvilken forbindelse det har til det gode. Er det mest mulig adrenalin i kroppen? Er det en f\u00f8lelse?</p>\n",
        "<p class=\"spm\">\u2013 Gjennom historien er det beg\u00e5tt enorme mengder urett legitimert gjennom et religi\u00f8st verdensbilde. Er det ikke god grunn til \u00e5 v\u00e6re bekymret for hva religion kan f\u00f8re til?</p>\n",
        "<p class=\"spm\">\u2013 Selvsagt har det blitt beg\u00e5tt grusomme ting i kirkens og kristendommens navn. Samtidig begynte det \u00e5 se spesielt stygt ut da kirken ble satt under sekul\u00e6r makt \u2013 under kongekronen. Religionskrigene ble i stor grad f\u00f8rt for nasjonsbyggingens del. Uansett m\u00e5 vi huske at religion ikke en ting, det eksisterer ikke i den forstand. Mennesker har ulike virkelighets- og trosoppfatninger, og de kan brukes til det onde og til det gode. N\u00e5r Christopher Hitchens snakker om religion definerer han det aldri, han bruker det som en samlebetegnelse p\u00e5 alt han hater.</p>\n",
        "<p class=\"spm\">\u2013 Dawkins, Harris og Hitchens peker ogs\u00e5 p\u00e5 urett i dag, som \u00e5 bli d\u00f8mt til d\u00f8den for konvertering fra islam, eller at kristne fundamentalister ivrer etter atomkrig fordi det vil fullbyrde profetier i Johannes \u00e5penbaring.</p>\n",
        "<p class=\"spm\">\u2013 Dette er selvsagt grusomt, og jeg vil v\u00e6re den st\u00f8rste kritikeren av alle. Men kanskje f\u00e5r jeg som er p\u00e5 innsiden litt mer jeg skulle ha sagt. Ingen vil h\u00f8re p\u00e5 Dawkins, fordi de ikke respekterer ham fra f\u00f8r. Derfor trenger vi mer nyansert dialog, og ikke disse enfoldige angrepene.</p>\n",
        "<p class=\"spm\">\u2013 Vi har nylig hatt debatter b\u00e5de om reservasjonsrett og homofilt ekteskap, der de konservative synene er religi\u00f8st begrunnet. Dagsavisens Hege Ulstein skrev en krass kommentar der hun var bekymret for religionens samfunnsp\u00e5virkning. Forst\u00e5r du noen av bekymringene?</p>\n",
        "<p class=\"spm\">\u2013 Ja, jeg forst\u00e5r dem, men det er lov \u00e5 sette seg inn i motstanderens perspektiv i stedet for \u00e5 tenke at en selv har en n\u00f8ytral utgangsposisjon. Alle argumenterer ut fra en virkelighetsforst\u00e5else, og da vil noen standpunkter f\u00f8lge av denne. Ulstein kan selvsagt synes at grunnsynet er uforsvarlig \u2013 da er vi i gang med en konstruktiv diskusjon. Men hun kan ikke si at det er \u00abreligi\u00f8s logikk\u00bb og derfor feil.</p>\n",
        "<p class=\"spm\">\u2013 Beklager fordommen, men du er antakelig en av f\u00e5 \u00f8konomistudenter ved BI som bruker fritiden p\u00e5 gudsbevis i klassisk filosofi?</p>\n",
        "<p class=\"spm\">\u2013 Hva? Jeg trodde alle p\u00e5 BI var hypa p\u00e5 klassisk filosofi. Nei, det er en merkelig kombinasjon. Men jeg synes det abstrakte ved filosofi og det praktiske ved gr\u00fcnderskap g\u00e5r perfekt sammen. P\u00e5 et vis er vi jo alle filosofer \u2013 det handler om \u00e5 finne det rasjonelle grunnlaget for at man opplever og handler som man gj\u00f8r. Som gr\u00fcnder og sivil\u00f8konom h\u00e5per jeg p\u00e5 en framtid der gudsdebatter ikke tar opp all tiden min, men jeg ble p\u00e5 et vis \u00abprovosert\u00bb inn i dette.</p>"
       ],
       "metadata": {},
       "output_type": "display_data",
       "text": [
        "<IPython.core.display.HTML at 0x7fa66aea4198>"
       ]
      },
      {
       "html": [
        "<p class=\"txt\">Noen episoder fra ungdomsskolen har brent seg fast i minnet, gudene vet hvorfor. I en av dem er KRL-timen nettopp ferdig, og jeg er p\u00e5 vei opp til kateteret, i min ungdoms selvtilfredshet, til den h\u00f8yreiste l\u00e6reren med tykke, hvite \u00f8yenbryn og mild stemme, for \u00e5 fortelle ham hvorfor troen hans p\u00e5 Gud er feilsl\u00e5tt og irrasjonell.</p>\n",
        "<p class=\"txt\">Mitt livssyn har forandret seg lite siden den gang. Likevel f\u00e5r jeg en flau smak i munnen av \u00e5 tenke p\u00e5 episoden: Det arrogante i \u00e5 skulle veilede min l\u00e6rer til en riktigere sti her i livet, i \u00e5 besvare en slik problemstilling p\u00e5 noen minutter - ved hjelp av filosofi fra skoleg\u00e5rden.</p>\n",
        "<p class=\"txt\">Hva er det med trangen til \u00e5 skulle overbevise?</p>\n",
        "<p class=\"txt\">I 1976 m\u00f8ttes den ateistiske filosofen Anthony Flew og teologen Thomas Warren til debatt i Texas, USA. Over fire kvelder, foran tusenvis av tilskuere, skulle de kun diskutere ett sp\u00f8rsm\u00e5l: Finnes Gud, eller finnes han ikke?</p>\n",
        "<p class=\"txt\">Retorisk sett ble den forsiktige og stotrende Flew overkj\u00f8rt av sin rakryggede, advokat-aktige motstander, som konfronterte Flew med den ene forberedte plansjen etter den andre. P\u00e5 sine eldre dager ga Flew ut boken <I>There is a God</I>, tilsynelatende konvertert. Troende ser p\u00e5 det som en seier; en mann som ble ledet den rette vei. Ikke-troende har hevdet at boken ble skrevet for ham, uten at den gamle og demente Flew forstod hva han satte navnet sitt p\u00e5. De henviser til andre religionsdebatter i stedet.</p>\n",
        "<p class=\"txt\">Lar vi oss egentlig rikke i v\u00e5re overbevisninger? Med den s\u00e5kalte \u00abnyateismen\u00bb som ble tydelig etter \u00e5rtusenskiftet, virker frontene steilere enn noen gang. En ateisme uten silkehansker, harmdirrende i religionskritikken, hyllende av vitenskapen og fornuften, b\u00e5ret frem av personer som Richard Dawkins, Sam Harris og Christopher Hitchens. Hellig overbevist, og med \u00f8nske om \u00e5 p\u00e5virke. Sam Harris, utdannet i filosofi og nevrovitenskap, har skrevet at noen forestillinger er s\u00e5 gale og urokkelige at det kan v\u00e6re etisk forsvarlig \u00e5 drepe folk som har dem. For \u00e5 forhindre katastrofale handlinger.</p>\n",
        "<p class=\"txt\">Det er noe sirkul\u00e6rt over v\u00e5re trosdebatter. Da Oslo Kristelige Studentlag arrangerte \u00abGrill en kristen\u00bb under Skepsis-uka p\u00e5 Blindern i mars, var det f\u00f8rste sp\u00f8rsm\u00e5let til panelet en god illustrasjon: Hvis Gud er allmektig, kan han skape en stein som er s\u00e5 tung at han selv ikke kan l\u00f8fte den? Paradokset ble diskutert av filosofen Thomas Aquinas allerede p\u00e5 1200-tallet. Vi blir tilsynelatende ikke ferdige med det.</p>\n",
        "<p class=\"txt\">Allikevel er debattene viktige. Mye fordi de involverer en rekke <I>andre</I> viktige sp\u00f8rsm\u00e5l: Om hva vi legger til grunn for v\u00e5r forst\u00e5else av virkeligheten, hvordan vi m\u00f8ter andres perspektiver og hvor vi er p\u00e5 vei. Dette er sp\u00f8rsm\u00e5l som har blitt aktualisert av \u00abnyateismens\u00bb kritikk, og av de som har tatt til motm\u00e6le.</p>\n",
        "<p class=\"txt\">Et av disse sp\u00f8rsm\u00e5lene er hva vi mener med <I>tro</I>. G\u00e5r det en klar grense mellom tro og harde fakta? Selv om det er utallige veier til gudstro, virker jo denne troen vesenforskjellig fra kunnskap som er basert p\u00e5 systematisk og streng empirisk dokumentasjon. Men mange troende synes ikke det empiriske skattkammeret svarer tilfredsstillende p\u00e5 sp\u00f8rsm\u00e5l som hvordan vi finner <I>det gode</I>, eller hva som gj\u00f8r oss til tenkende, helhetlige mennesker. Teolog Michael Green sa det slik under \u00abSkepsis-uka\u00bb: Du finner ikke altruisme i en haug med molekyler. Nuvel. Det er i hvert fall kinkig \u00e5 forklare hvordan det oppst\u00e5r.</p>\n",
        "<p class=\"txt\">I <I>The God Delusion</I> skriver Dawkins at jo h\u00f8yere en persons intelligens er, desto mindre sannsynlig er det at hun er religi\u00f8s eller har tro av noen type. Men uten tro p\u00e5 noe som helst, hva er det som driver et engasjement for demokrati og menneskerettigheter? Man kan lure p\u00e5 hvordan menneskeverdet ser ut i mikroskopet. For \u00e5 sp\u00f8rre som litteraturviter Terry Eagleton: Hvis \u00abnyateistene\u00bb ikke har et uforanderlig trossystem selv, betyr de at de er villige til \u00e5 gi slipp p\u00e5 individets frihet, eller p\u00e5 avsmaken mot selvmordsbombere?</p>\n",
        "<p class=\"txt\">Og hvorfor skal akkurat fornuften f\u00e5 f\u00f8rsterett? Det er vanskelig \u00e5 besvare uten hjelp fra noe annet enn fornuften selv.</p>\n",
        "<p class=\"txt\">I dag tar vi et klart skille mellom tanker og f\u00f8lelser for gitt. Mellom det rasjonelle og ikke-rasjonelle. Feministen og forfatteren Susan Sontag s\u00e5 skillet som konstruert: Tanker og f\u00f8lelser er former av hverandre. Vi tenker mer med de instrumentene kulturen v\u00e5r gir oss, enn med v\u00e5re isolerte hjerner.</p>\n",
        "<p class=\"txt\">Det er selvsagt mulig \u00e5 v\u00e6re uenig med Sontag, men det virker vanskelig \u00e5 komme utenom de kulturelle sidene ved v\u00e5r forst\u00e5else av virkeligheten. Et rent \u00abvitenskapelig\u00bb verdensbilde er derfor ikke en verdin\u00f8ytral avvisning av alt annet \u2013 det involverer identitet, kultur og f\u00f8lelser, det ogs\u00e5. Blar man opp i et tidsskrift som amerikanske <I>The Skeptical Inquirer</I>, er det lett \u00e5 se: Her snakkes det om \u00e5 \u00abtake action\u00bb, om \u00abaktivisme\u00bb, om \u00e5 promotere \u00abvitenskap, fornuft og sekul\u00e6re verdier\u00bb (er disse verdiene utledet vitenskapelig?). Her skal det sies at mye ved kristendommens rolle i USA i dag gj\u00f8r en viss mobilisering forst\u00e5elig.</p>\n",
        "<p class=\"txt\">I april skrev Universitas om presteutdanningen ved UiO, som har slitt med rekrutteringen de siste \u00e5rene. Lars Gule, tidligere generalsekret\u00e6r i Human-Etisk Forbund, er forn\u00f8yd: Han foreslo i 2010 \u00e5 legge ned hele Teologisk fakultet, fordi jobben til et universitet i det 21. \u00e5rhundre er \u00e5 \u00abutdanne folk p\u00e5 bakgrunn av faktiske og rasjonelle kunnskaper\u00bb.</p>\n",
        "<p class=\"txt\">Er det et ufravikelig kriterium for fagene som skal tilbys ved universitetet, at de kretser om bevisbar sannhet? Hva med litteraturvitenskapen? Der har vi ogs\u00e5 en teoretisk tradisjon bygget rundt historier om noe som egentlig ikke finnes. Er det en verdi i seg selv i \u00e5 utdanne folk til en tradisjon som er viktig for mange mennesker?</p>\n",
        "<p class=\"txt\">Den moderne ateismen er tett beslektet med opplysningstidens idealer, inkludert et bilde av v\u00e5r sivilisasjon i en slags kontinuerlig bevegelse framover. Her byttes myte ut med kunnskap, med vitenskapen som drivende motor. Her st\u00e5r det kvantifiserbare og h\u00e5ndfaste st\u00f8dig plantet i sentrum.</p>\n",
        "<p class=\"txt\">Dette har bidratt til mange av de viktigste teknologiske nyvinningene gjennom historien. Det preger v\u00e5r hverdag \u2013 hver dag. Den vitenskapelige metode er konsistent, n\u00f8yaktig og effektiv. Den gir oss en betydelig grad av forutsigbarhet. Opplysningstiden har ogs\u00e5 avlet den moderne liberalismen, og dermed en rekke friheter vi b\u00f8r prise oss lykkelige for. Men opplysningsidealet viser seg ogs\u00e5 ved \u00e5 kaste et kj\u00f8lig, moderne sl\u00f8r over de mindre \u00abrasjonelle\u00bb sidene av menneskenaturen.</p>\n",
        "<p class=\"txt\">Eksempler p\u00e5 at slike idealer st\u00e5r sterkt, dukker opp hele tiden. Da \u00abgenerasjon lydig\u00bb-debatten gikk i Aftenposten i h\u00f8st, skrev Aksel Braanen Sterri en kronikk ved navn \u00abVelkommen til opplysningstiden\u00bb (en merkverdig forsinket velkomst). Sterri var uenig i at dagens unge generasjon \u2013 \u00abden hyperrasjonelle fornuftsgenerasjonen p\u00e5 full fart framover\u00bb \u2013 mangler intellektuell nytenkning og et kollektivt politisk prosjekt. Det er troen p\u00e5 vitenskapen og datamengdene v\u00e5re som skal \u00abredde v\u00e5rt samfunn og v\u00e5r klode\u00bb, mens \u00abmarginale milj\u00f8er i Holbergprisens jury og de teologiske fakulteter\u00bb st\u00e5r p\u00e5 sidelinjen.</p>\n",
        "<p class=\"txt\">Det er \u00e5penbart et behov for \u00e5 redde samfunn og klode, og vitenskapen er her en helt essensiell brikke. Men bildet blir at problemene l\u00f8ser seg bare vi f\u00e5r tak i <I>nok data</I> og skyver det \u00abovertroiske\u00bb lengst mulig bort. Glemt blir de etiske sidene av slike problemer, hvordan de er festet i dypere samfunnsstr\u00f8mninger. For eksempel i de <I>kaldere</I> sidene av den moderne liberale tradisjonen: Et moralsystem preget av \u00f8kende individualisering og oppl\u00f8sing av solidaritet, med en tynn og kontraktaktig forst\u00e5else av frihet og demokrati.</p>\n",
        "<p class=\"txt\">Religi\u00f8s tro trenger selvsagt ikke medf\u00f8re overlegen etisk bevissthet. Forfatter Zadie Smith pekte nylig p\u00e5 en ekstremversjon av dette i Morgenbladet: Visse kristne har funnet et smutthull i Skapelsen for \u00e5 slippe \u00e5 tenke milj\u00f8vennlig. Fordi Gud plasserte oss over dyr og planter og hav, \u00abkan vi med ren samvittighet la alle de tingene dra til helvete\u00bb.</p>\n",
        "<p class=\"txt\">Dawkins sammenlikner menneskets blikk p\u00e5 verden med den lille glippen i en stor, sort burka. Vitenskapen \u00e5pner opp glippen og sender oss ut i friheten. Men det er ingen selvf\u00f8lge at vi blir <I>utelukkende</I> friere av \u00e5 riste vekk all overtro og alle myter. Den kollektive avskjeden av Gud som eksternt referansepunkt har etterlatt et tomrom. Vi fors\u00f8ker \u00e5 fylle det med individet selv, noe som viser seg vanskelig. Kanskje er dagens gl\u00f8dende nasjonalisme i Europa et annet fors\u00f8k p\u00e5 det samme. Eller, for den saks skyld, det n\u00e6rmest ideologiske engasjementet for det kvantifiserbare, h\u00e5ndfaste og sikre.</p>\n",
        "<p class=\"txt\">Jeg husker ikke hva l\u00e6reren min svarte meg den gangen i klasserommet. Kanskje var jeg ikke interessert i \u00e5 h\u00f8re, kanskje var argumentene hans d\u00e5rlige. Men det var neppe s\u00e5 enkelt at bare jeg hadde klart \u00e5 v\u00e6re rasjonell.</p>"
       ],
       "metadata": {},
       "output_type": "display_data",
       "text": [
        "<IPython.core.display.HTML at 0x7fa66aea4198>"
       ]
      },
      {
       "html": [
        "<p class=\"txt\">Si din mening p\u00e5 universitas.no</p>\n",
        "<p class=\"mt\">Rektor suspektor</p>\n",
        "<p class=\"txt\">Dette tjener sittende rektor Ole Petter Ottersen liten \u00e6re, og det kan virke som om rektor med vilje har alliert seg med en prorektorkandidat som han ikke aktet \u00e5 bruke som noe mer enn et alibi for \u00e5 sikre seg st\u00f8tte fra humaniorafagene.</p>\n",
        "<p class=\"txt\">Mann1</p>\n",
        "<p class=\"txt\">Valgene som avholdes kan til n\u00f8d beskrives som \u00abdemokrati ovenfra\u00bb eller \u00abregissert demokrati\u00bb. Utenom valgene er ikke dette en institusjon som ledes etter demokratiske prinsipper.</p>\n",
        "<p class=\"txt\">Lindorm</p>\n",
        "<p class=\"txt\">Retten til et arbeidsmilj\u00f8 gjelder ogs\u00e5 i universitetsledelsen. Hvis prorektor ikke holder ut p\u00e5 grunn av mobbing fra rektor b\u00f8r rektor sparkes.</p>\n",
        "<p class=\"txt\">professor</p>\n",
        "<p class=\"txt\">Hentet fra debatten til nyhetssaken \u00abKrever nyvalg etter prorektor-saken\u00bb</p>\n",
        "<p class=\"mt\">Juks og bedrag</p>\n",
        "<p class=\"txt\">Ny unders\u00f8kelse viser at Univeritas elsker \u00e5 gj\u00f8re masse unders\u00f8kelser som skal sette andre partivelgere som de selv ikke stemmer p\u00e5 i d\u00e5rlig lys.</p>\n",
        "<p class=\"txt\">Joar</p>\n",
        "<p class=\"txt\">Hvis noen gikk p\u00e5 toalettet under eksamen og s\u00e5 p\u00e5 veggen at noen hadde skrevet \u00aboppgave 4 l\u00f8ses slik:\u00bb, med en forklaring under, hvor mange prosent ville ha sett bort og ikke latt seg lese det som sto? Jeg tror de aller fleste som sier at de ikke ville gjort dette lyver.</p>\n",
        "<p class=\"txt\">Anders Hansen</p>\n",
        "<p class=\"txt\">Enhver unders\u00f8kelse som g\u00e5r i disfav\u00f8r av Frp blir mistenkt for \u00e5 v\u00e6re feil. Det er Frp som jeg opplever det.</p>\n",
        "<p class=\"txt\">Tor</p>\n",
        "<p class=\"txt\">Hentet fra debatten til nyhetssaken \u00abFlest Frp-ere ville juksa\u00bb</p>\n",
        "<p class=\"mt\">Stress og gruppepress</p>\n",
        "<p class=\"txt\">Hele \u00absystemet basert p\u00e5 tillitt\u00bb med fraksjonsm\u00f8ter og enighet i forkant av et valg er vel allerede ganske h\u00e5pl\u00f8st udemokratisk. Gruppepress, gruppepsykologi og forhandlinger bestemmer hvem som blir valgt inn \u2013 ikke studentene.</p>\n",
        "<p class=\"txt\">Nico</p>\n",
        "<p class=\"txt\">Tror neppe et bytte fra positiv til negativ parlamentarisme vil fungere s\u00e5 godt, ei heller \u00e5 velge hele AU under ett. Dersom hele AU velges under ett, kan man f\u00e5 problemer med kj\u00f8nnsrepresentasjon i Universitetsstyret.</p>\n",
        "<p class=\"txt\">\u00d8yvind Norby Bj\u00f8rgo</p>\n",
        "<p class=\"txt\">\u00c5 velge hele AU under ett ville gjort at man unngikk det som var problematisk p\u00e5 konstituerende m\u00f8te i \u00e5r, og er p\u00e5 ingen m\u00e5te en ulovlig l\u00f8sning. Det hadde betydd at terskelen for \u00e5 v\u00e6re sikret en plass hadde blitt betydelig lavere, og dermed et bredere AU.</p>\n",
        "<p class=\"txt\">Torkil Vederhus</p>\n",
        "<p class=\"txt\">Hentet fra debatten til nyhetssaken \u00abRasar mot \u00abHouse of Cards\u00bb-man\u00f8ver\u00bb</p>"
       ],
       "metadata": {},
       "output_type": "display_data",
       "text": [
        "<IPython.core.display.HTML at 0x7fa66aea4198>"
       ]
      },
      {
       "html": [
        "<p class=\"fak1\">Botanisk hage 1814\u20132014: Historien om en hage</p>\n",
        "<p class=\"fak2\">Av: Liv Borgen</p>\n",
        "<p class=\"fak2\">Forlag: Press</p>\n",
        "<p class=\"txt\">Hage til nye h\u00f8yder</p>\n",
        "<p class=\"txt\">Grunnloven er ikke den eneste jubilanten som fortjener oppmerksomhet: Botanisk hage fyller ogs\u00e5 200 \u00e5r, og feirer seg selv med en splitter ny bok. Forfatter Liv Borgen, professor i botanikk ved Universitetet i Oslo, har gjort et imponerende kildearbeid, og gir leseren en grundig gjennomgang av hagens historie, funksjon og oppbygning over dr\u00f8yt 300 sider. Hvert kapittel tar for seg en gitt tidsramme, der Borgens levende og lettleste spr\u00e5k geleider deg gjennom hagens oppturer og nedturer siden oppstarten i 1814. Med jevne mellomrom er det viet plass til noen helsider med bilder, noe som gj\u00f8r seg sv\u00e6rt godt mellom tettpakket historie og fakta.</p>\n",
        "<p class=\"txt\">Samlet utgj\u00f8r Borgens bok en omfattende og detaljert pakke med informasjon. Vi f\u00e5r ikke bare vite hva som har skjedd \u2013 vi f\u00e5r vite hvorfor det skjedde og hva som ble konsekvensene. Hagens f\u00f8rste bestyrer reiste for eksempel p\u00e5 dannelsesreise f\u00f8r han begynte i jobben, og d\u00f8de av sult i Kongo f\u00f8r han rakk \u00e5 komme hjem igjen. Han rakk akkurat \u00e5 sende noen palmefr\u00f8 hjem til Oslo, og \u00e9n av palmene fra disse fr\u00f8ene fikk st\u00e5 helt til \u00e5r 2000.</p>\n",
        "<p class=\"txt\">Liv Borgen serverer intet mindre enn et bugnende blomsterbed av en bok, som b\u00f8r leses av alle som \u00f8nsker \u00e5 vite noe mer om Botanisk hage enn at den rommer blomster og et par museer. For de som derimot bare \u00f8nsker \u00e5 tilbringe noen late dager i sola p\u00e5 T\u00f8yen, er det nok en bedre id\u00e9 \u00e5 plukke opp en av de sm\u00e5 infobrosjyrene du finner i museene. Boka har potensial til \u00e5 gi deg like mye glede som opplevelsen av selve hagen, mens infobrosjyren kan sammenliknes med \u00e5 f\u00e5 et postkort med bilde av en sliten l\u00f8vetann.</p>"
       ],
       "metadata": {},
       "output_type": "display_data",
       "text": [
        "<IPython.core.display.HTML at 0x7fa66aea4198>"
       ]
      },
      {
       "html": [
        "<p class=\"txt\">GHETTO: Etter 1980 er det Osloborgerne med mest kulturell kapital som har klumpet seg sammen, slik at hovedstaden har blitt enda mer segregert. Dette viser studien til J\u00f8rn Ljunggren og Patrick Lie Andersen, fra henholdsvis UiO og forskningsinstituttet NOVA. De har gjort analyser av inntekts- og bosettingsm\u00f8nsteret til Oslo-ungdommer i 1980, og i perioden mellom 1993 og 2005. Det er f\u00f8rst og fremst de aller rikeste som bor for seg selv og aldri omg\u00e5s de fattigste i Oslos \u00f8stlige bydeler, som f\u00f8lge av en overgang fra en sosialdemokratisk til en mer liberal boligpolitikk, viser forskerne. \u2013 De med lave inntekter kan jo ikke bestemme seg for \u00e5 flytte vestover. Hvis vi vil gj\u00f8re noe med skillene i Oslo, mener vi at ogs\u00e5 de gyldne ghettoene b\u00f8r f\u00e5 oppmerksomhet, sier Ljunggren til forskning.no.</p>"
       ],
       "metadata": {},
       "output_type": "display_data",
       "text": [
        "<IPython.core.display.HTML at 0x7fa66aea4198>"
       ]
      },
      {
       "html": [
        "<p class=\"txt\">kultur</p>\n",
        "<p class=\"txt\">Nytt fag: Etter sommeren starter UiO et nytt emne om Ukraina som blant annet skal gi en grundigere innsikt i hva som skjer i Ukraina om dagen.</p>\n",
        "<p class=\"txt\">\u2013 M\u00e5let er \u00e5 formidle en forst\u00e5else av landets kulturelle og politiske forhold i dagens Europa. For \u00e5 forst\u00e5 dette skikkelig er det en forutsetning at man kjenner til landets historie og spr\u00e5k, sier Jan Ivar Bj\u00f8rnflaten, professor i slaviske spr\u00e5k ved UiO. Blant temaene som vil bli tatt opp er Ukrainas kulturelle oppblomstring i 1920-\u00e5rene, hungersn\u00f8den i 30-\u00e5rene, etterkrigstiden samt geopolitiske perspektiv p\u00e5 dagens situasjon.</p>\n",
        "<p class=\"txt\">\u2013 Emnet kommer s\u00e6rlig til \u00e5 ta opp utviklingen av landet i sovjetperioden og Ukrainas selvstendighetsperiode etter dette, sier Bj\u00f8rnflaten, som er fagansvarlig for emnet.</p>"
       ],
       "metadata": {},
       "output_type": "display_data",
       "text": [
        "<IPython.core.display.HTML at 0x7fa66aea4198>"
       ]
      },
      {
       "html": [
        "<p class=\"txt\">spenningsenergi: Hvor mange ganger har du ikke v\u00e6rt n\u00f8dt til \u00e5 vikle opp ledningsknuter? Professor i matematikk Vagn Lundsgaard Hansen har svaret p\u00e5 hvorfor dette skjer. \u2013 Hvis du strekker ut en strikk, vil den trekke seg sammen igjen n\u00e5r du slipper. Det er fordi den har kommet ut av sin naturlige posisjon, sitt hvilested. Den har f\u00e5tt tilf\u00f8rt spenningsenergi, sier Hansen til Videnskab.dk. N\u00e5r en ledning er vridd, vil den ene enden rotere den ene veien, mens andre vil rotere motsatt vei. De to endene har alts\u00e5 en motsatt spenningsenergi. Hvis to omr\u00e5der p\u00e5 ledningen fra hver sin ende kommer i kontakt, vil ledningen vri seg rundt seg selv.</p>"
       ],
       "metadata": {},
       "output_type": "display_data",
       "text": [
        "<IPython.core.display.HTML at 0x7fa66aea4198>"
       ]
      },
      {
       "html": [
        "<p class=\"txt\">avhengighet: \u00c5 bli hekta p\u00e5 fysisk trening kan sidestilles med \u00e5 bli avhengig av alkohol og spill, viser ny forskning. \u2013 Hvis disse personene ikke f\u00e5r trent, utl\u00f8ser det rastl\u00f8shet, frustrasjon og skyldf\u00f8lelse. Det kan sammenlignes med alkoholisme, hvor abstinensene tar utrolig mye plass i det sosiale livet, familielivet og arbeidslivet, sier Mia Beck Lichtenstein fra Syddansk Universitet. Hun har forsket p\u00e5 hva som skjer n\u00e5r folk lar treningen styre livet. Av de 600 personene hun tok for seg i sin studie, var 5,8 prosent treningsavhengige. Symptomene for de avhengige er at trening oppfattes som det viktigste i livet, gir konflikter med venner og familie, at de \u00f8ker treningsmengden fordi de ikke er forn\u00f8yde og ofte trener flere ganger daglig. I studien er det flere som forteller om skader p\u00e5 b\u00e5de kropp og sosialt liv.</p>"
       ],
       "metadata": {},
       "output_type": "display_data",
       "text": [
        "<IPython.core.display.HTML at 0x7fa66aea4198>"
       ]
      },
      {
       "html": [
        "<p class=\"txt\">NETTSKOLE: Norges f\u00f8rste massive, \u00e5pne onlinekurs ved NTNU har blitt fulgt av n\u00e6rmere 1000 personer siden h\u00f8sten 2012. Digitalpion\u00e9ren Arne Krokan st\u00e5r bak Mooc-en (Massive Open Online Course) i emnet \u00abTeknologiutvikling og samfunnsendring\u00bb. Professoren hadde m\u00e5l om \u00e5 f\u00e5 400 f\u00f8lgere til kurset, der seminarer, kollokvier, forelesninger og pr\u00f8ver blir lagt ut gratis p\u00e5 nett. Eliteuniversitetet Harvard vil de neste fem \u00e5rene investere rundt 30 milliarder kroner i \u00e5 utvikle det nye konseptet, og Krokans budskap er at norske universiteter m\u00e5 f\u00f8lge med p\u00e5 utviklingen. \u2013 Vi er ett av f\u00e5 land i verden som fortsatt tilbyr gratis utdanning. I tillegg er utdanningssystemet ogs\u00e5 en del av det distriktspolitiske virkemiddelapparatet. Ute i verden ser det helt annerledes ut, sier Krokan til Universitetsavisa.</p>"
       ],
       "metadata": {},
       "output_type": "display_data",
       "text": [
        "<IPython.core.display.HTML at 0x7fa66aea4198>"
       ]
      },
      {
       "html": [
        "<p class=\"mt\">Elleve m\u00e5neders studiest\u00f8ttemas</p>\n",
        "<p class=\"txt\">NSO-leder Ola Stedje har satt inn siste st\u00f8t f\u00f8r han skal gi ledervervet videre. I forrige ukes Universitas fikk han argumentert for heltidsstudenten i en sak om ritalin. Ad notam synes det er godt gjort, men  tror at det fremdeles er mer \u00e5 hente. VG kommer vel snart med grillp\u00f8lseguiden, og vi forventer da at Stedje er p\u00e5 ballen og forklarer hvorfor p\u00f8lsene smaker bedre med elleve m\u00e5neders studiest\u00f8tte. I tillegg tror vi NSO har mye \u00e5 hente ved \u00e5 forklare hvorfor sommerv\u00e6ret nytes bedre om man kan bruke hele dagen p\u00e5 \u00e5 studere, og dermed slipper \u00e5 jobbe p\u00e5 kvelden.</p>\n",
        "<p class=\"mt\">NHO-demokrati</p>\n",
        "<p class=\"txt\">NHO har sett seg lei p\u00e5 at studenter har noe de skulle ha sagt, og \u00f8nsker \u00e5 avskaffe rektorvalg ved universiteter.</p>\n",
        "<p class=\"txt\">\u2013 Det er lettere for en rektor \u00e5 handle udemokratisk og utelukkende etter v\u00e5r... ehh... egen vilje, om han ikke er demokratisk valgt, sier NHO-direkt\u00f8r Kristin Skogen Lund.</p>\n",
        "<p class=\"txt\">Hun har god tro p\u00e5 at forslaget vil g\u00e5 gjennom, men hun n\u00f8yer seg ikke med det. Det langsiktige m\u00e5let er at ogs\u00e5 Norge skal utnevne sine ledere igjen, fremfor \u00e5 velge dem.</p>\n",
        "<p class=\"mt\">Ottersen liker at rektorer velges</p>\n",
        "<p class=\"txt\">UiO-rektor Ole Petter Ottersen talte fredag p\u00e5 \u00e5rskonferansen til Nordisk institutt for studier av innovasjon, forskning og utdanning (NIFU) om hvorfor det er bra at rektorer velges framfor at de utnevnes av et styre. Han sa klokelig ikke noe om hva som b\u00f8r skje etter valget, men mener at valg er bra. Ad notam har ikke mer \u00e5 tilf\u00f8ye til denne. Ottersen greier seg helt fint p\u00e5 egenh\u00e5nd.</p>\n",
        "<p class=\"mt\">Offentlighet, schmoffentlighet</p>\n",
        "<p class=\"txt\">SiO-styremedlem Magnus Nystrand er ikke enig i at studentsamskipnaden b\u00f8r omfattes av offentlighetsloven.</p>\n",
        "<p class=\"txt\">\u2013 Jeg er opptatt av at SiO skal styres s\u00e5 \u00e5pent og ryddig som mulig, men, sier han.</p>\n",
        "<p class=\"txt\">Nystrand tror de kan v\u00e6re gjennomsiktige uten at det er lovp\u00e5lagt, og i klare ordelag forteller han hvorfor det er s\u00e5 viktig at de ikke underlegges offentlighetsloven.</p>\n",
        "<p class=\"txt\">\u2013 SiO som et ansvarlig rettssubjekt har mulighet til \u00e5 fatte beslutninger p\u00e5 selvstendig grunnlag, akkumulere et ansvarlig overskudd eller omorganisere for \u00e5 m\u00f8te nye behov i nye tjenesteomr\u00e5der, sier han p\u00e5 ordentlig.</p>"
       ],
       "metadata": {},
       "output_type": "display_data",
       "text": [
        "<IPython.core.display.HTML at 0x7fa66aea4198>"
       ]
      },
      {
       "html": [
        "<p class=\"txt\">KJ\u00d8NNSDEBATT: Som en del av kampanjen \u00abLift the skirt\u00bb, protesterte flere mannlige elever ved videreg\u00e5ende skoler i den franske Nantes-regionen f\u00f8r helgen. Ved \u00e5 g\u00e5 i skj\u00f8rt p\u00e5 skolen \u00f8nsket guttene \u00e5 bekjempe sexisme. \u2013 Jeg synes ikke det var noe problem \u00e5 g\u00e5 med skj\u00f8rt, og hvis det kan f\u00f8re til noe godt er det bare bra, sa en av de skj\u00f8rtkledde gutta til Euronews. Ved en av skolene m\u00f8tte 150 demonstranter fram for \u00e5 vise sin avsky, der mange kom fra organisasjonen <i>Manif pour tous</i> \u2013 som kjemper hardt mot likekj\u00f8nnet ekteskap. Gruppene hevdet skj\u00f8rtestuntet var \u00aben homoseksuell konspirasjon for \u00e5 fornekte kj\u00f8nnsforskjeller\u00bb, if\u00f8lge Svenska Dagbladet. Demonstrantene sprayet slagord p\u00e5 skolemurene og br\u00e5k oppstod med elevene, som svarte ved \u00e5 kaste tomater tilbake.</p>"
       ],
       "metadata": {},
       "output_type": "display_data",
       "text": [
        "<IPython.core.display.HTML at 0x7fa66aea4198>"
       ]
      },
      {
       "html": [
        "<p class=\"txt\">Angrep p\u00e5 lik rett til utdanning</p>\n",
        "<p class=\"txt\">Utdanningskvalitet</p>\n",
        "<p class=\"txt\">Revidert statsbudsjett av 14. mai henviser til b\u00e5de den norske og den danske produktivitetskommisjonen. Regjeringen har d\u00e5rlig tid, og varsler angrep p\u00e5 utdanningssystemet lenge f\u00f8r kommisjonen har fullf\u00f8rt sitt arbeid.</p>\n",
        "<p class=\"txt\">Budsjettet henviser til to konkrete forslag fra Danmark:</p>\n",
        "<p class=\"txt\">For det f\u00f8rste skal studenter som velger utdanninger som gir gode sysselsettingsmuligheter og utsikter til h\u00f8y l\u00f8nn, f\u00e5 bedre studiest\u00f8tte enn de som velger annen utdanning. For det andre skal institusjoner for h\u00f8yere utdanning levere utdanning med h\u00f8y studieintensitet og h\u00f8y sysselsetting og l\u00f8nn. I tillegg har den danske kommisjonen foresl\u00e5tt \u00e5 innf\u00f8re skolepenger, at f\u00e6rre skal f\u00e5 mulighet til \u00e5 ta mastergrad, at s\u00f8kere skal f\u00e5 velge utdanning p\u00e5 basis av offentliggjorte rapporter om studiets progresjon, yrkesmuligheter og l\u00f8nn etter endt utdanning, og \u00e5 redusere antall studietilbud dersom blant annet arbeidsutsiktene er d\u00e5rlige.</p>\n",
        "<p class=\"txt\">Lederen av den norske kommisjonen, J\u00f8rn Ratts\u00f8, uttaler at et av sp\u00f8rsm\u00e5lene de stiller seg, er om studenter gj\u00f8r riktige valg n\u00e5r de tar utdanning. Mener virkelig Ratts\u00f8 at l\u00f8nnsniv\u00e5et etter endt utdanning er en god m\u00e5lestokk for utdanningskvalitet?</p>\n",
        "<p class=\"txt\">\u00c5 velge riktig studium er vanskelig for de fleste, og mange tenker sikkert ogs\u00e5 p\u00e5 hvordan l\u00f8nna vil kunne bli. Men dette b\u00f8r ikke v\u00e6re avgj\u00f8rende. Valget handler i stor grad om \u00e5 finne en utdanning som svarer til studentenes interesser og talent. Faglig motivasjon er avgj\u00f8rende for at de skal klare \u00e5 fullf\u00f8re studiene, samt finne et yrke de kan trives i og v\u00e6re \u00abproduktive\u00bb i, gjennom et langt livsl\u00f8p. Studievalg ut fra sysselsettingsstatistikker og l\u00f8nnsniv\u00e5 er en h\u00f8yst usikker gambling med de unges fremtid.</p>\n",
        "<p class=\"txt\">Norsk tjenestemannslag (NTL) ved UiO frykter at svarene til den norske kommisjonen allerede er gitt. Regjeringsplattformen viser at m\u00e5l nummer \u00e9n er nedbygging av offentlig sektor, som h\u00f8yere utdanning er en del av, slik at investeringene i det private n\u00e6ringslivet kan \u00f8ke. De har ogs\u00e5 valgt \u00e5 inkludere lederen av den danske kommisjonen i den norske.</p>\n",
        "<p class=\"txt\">NTL er en del av LO, og vi har alltid jobbet for \u00e5 sikre lik rett til utdanning. Dette skal bidra til \u00e5 utjevne sosiale forskjeller og sikre et h\u00f8yt kompetanseniv\u00e5. Og denne strategien har fungert godt. Norges arbeidstakere er h\u00f8yt utdannede, og vi ligger i verdenstoppen i produktivitet.</p>\n",
        "<p class=\"txt\">Vi vil ikke at utdanning kun skal vurderes i et produktivitetsperspektiv, og vi er motstandere av tiltak som \u00f8ker forskjellene mellom landets innbyggere. Finansministerens varslede tiltak vil sannsynligvis m\u00f8te stor motstand, og n\u00e5r svarene er forh\u00e5ndsgitte, er det ingen grunn til \u00e5 vente.</p>"
       ],
       "metadata": {},
       "output_type": "display_data",
       "text": [
        "<IPython.core.display.HTML at 0x7fa66aea4198>"
       ]
      },
      {
       "html": [
        "<p class=\"txt\">Kronikk</p>\n",
        "<p class=\"txt\">Jeg pratet lenge varmt om det \u00e5 f\u00e5 barn mens man studerer. Om all friheten. Jeg kunne v\u00e6re hjemme med barnet s\u00e5 lenge jeg \u00f8nsket, jeg hadde ingen som ville tvinge meg tilbake p\u00e5 arbeidsplassen etter et \u00e5r. N\u00e5r barnet en gang kom til \u00e5 begynne i barnehagen, kunne jeg hente tidlig, og heller bruke kveldene og helgene p\u00e5 \u00e5 studere. Men s\u00e5nn ble det ikke. I barnehagen florerer nemlig virusene, og lange perioder har blitt tilbragt hjemme. Alt det obligatoriske som er innbakt i studieprogrammet, gj\u00f8r at jeg har brukt de f\u00e5 timene jeg har til r\u00e5dighet til \u00e5 skaffe gyldig dokumentasjon for frav\u00e6r, og til \u00e5 f\u00e5 p\u00e5 plass spesialopplegg i de ulike fagene. Kvalitetsreformen, som tidligere var en helt naturlig del av studiehverdagen, gj\u00f8r det n\u00e5 umulig \u00e5 kombinere mammarollen med livet som fulltidsstudent.</p>\n",
        "<p class=\"mt\">Kvalitetsreformen har mislyktes</p>\n",
        "<p class=\"txt\">Kvalitetsreformen var en omfattende endring av h\u00f8yere utdanning som ble innf\u00f8rt ved norske universiteter og h\u00f8yskoler i 2003. Flere skulle bli fulltidsstudenter og fullf\u00f8re studiel\u00f8pet p\u00e5 normert tid. Ny gradsstruktur ble innf\u00f8rt, noe som forkortet studiel\u00f8pet med ett \u00e5r. Dette skulle kompenseres med lengre semestre, h\u00f8yere intensitet og en tettere oppf\u00f8lging av studentene. Eksamenene i slutten av semesteret ble supplert med innleveringsoppgaver og obligatoriske oppm\u00f8ter.</p>\n",
        "<p class=\"txt\">Som barnl\u00f8s, med ubegrenset tid, fungerte reformen. Man fikk oppskriften p\u00e5 hvordan man skulle oppn\u00e5 en god karakter, og ble steg for steg tvunget dit. Men etter at jeg ble mor, virket systemet med ett veldig rigid og lite fleksibelt. I f\u00f8lge Norsk studentorganisasjon (NSO) har hele en av fem studenter barn. For mange av disse er nettopp fleksibilitet p\u00e5 arbeidsplassen en n\u00f8kkelfaktor for \u00e5 f\u00e5 hverdagen til \u00e5 g\u00e5 rundt.</p>\n",
        "<p class=\"txt\">I 2006 kom sluttevaluering av Kvalitetsreformen, utarbeidet av Rokkansenteret og NIFU STEP. Evalueringen viser at kvalitetsreformen verken har bidratt til flittigere studenter eller tettere b\u00e5nd mellom studenter og studiested. Dessuten har studentene blitt mindre selvstendige og f\u00e5tt svekket evnen til kritisk lesning. Verken studenter med barn eller studenter med behov for tilrettelegging ser jeg nevnt spesielt i rapporten.</p>\n",
        "<p class=\"mt\">Er i en usynlig gruppe</p>\n",
        "<p class=\"txt\">Et google-s\u00f8k viser at studenter med ansvar for barn er en tiln\u00e6rmet usynlig gruppe. Nesten ingenting finnes av dokumenter p\u00e5 norsk. Kun Levek\u00e5rsunders\u00f8kelsen og L\u00e5nekassen har litt informasjon.</p>\n",
        "<p class=\"txt\">Unders\u00f8kelser jeg har deltatt i, som studentenes helse- og trivselsunders\u00f8kelse for studentsamskipnaden i Oslo (SIO), utf\u00f8rt av TNS gallup, har i liten grad fokus p\u00e5 den gruppen av studenter jeg tilh\u00f8rer. F\u00e5 sp\u00f8rsm\u00e5l gikk p\u00e5 hvordan det obligatoriske i studiehverdagen oppleves. Ingen lurte p\u00e5 hvordan det er \u00e5 studere og ha barn, om tidsklemma, stresset og f\u00f8lelsen av \u00e5 v\u00e6re til bry n\u00e5r man m\u00e5 mase om spesialopplegg.</p>\n",
        "<p class=\"mt\">Inntektsgivende arbeid prioriteres</p>\n",
        "<p class=\"txt\">Man kan argumentere for at mange kvinner i dag klarer kombinasjonen jobb og familie utmerket. Superkvinnene. De som har b\u00e5de tre og fire barn og jobber ti timer om dager. De som roper h\u00f8yt at alle kan klare en vanlig arbeidsdag, men som gjerne har b\u00e5de au pair og besteforeldre som kan ta i et tak n\u00e5r det trengs. Eller en mann med fleksibel arbeidstid. Problemet med studenter er at de ikke har noe inntektsgivende arbeid. St\u00f8tten fra L\u00e5nekassen f\u00e5r man tross alt utbetalt uansett om man best\u00e5r et fag eller ikke. Den eneste konsekvensen er at litt av stipendet blir omgjort til l\u00e5n. Derfor blir det ofte de som studerer, som m\u00e5 vike plass n\u00e5r det kniper i hjemmet. Dette kan fort bli en uvane. At det \u00e5 studere ikke blir rangert like h\u00f8yt som det \u00e5 jobbe. Dessuten har mange av de som f\u00e5r barn tidlig, fremdeles yrkesaktive foreldre som har nok med sitt, samtidig som en au pair er helt urealistisk sett ut i fra den \u00f8konomiske situasjonen.</p>\n",
        "<p class=\"mt\">M\u00e5 g\u00e5 igjennom reformen</p>\n",
        "<p class=\"txt\">N\u00e5 er det p\u00e5 tide at Kunnskapsdepartementet tar tak og ser igjennom reformen p\u00e5 nytt. Samfunnsdebatten er til tider dominert av en kollektiv bekymring for den h\u00f8ye gjennomsnittsalderen for f\u00f8rstegangsf\u00f8dende. Kvinner blir gravide for sent, noe som kan f\u00f8re til st\u00f8rre helsemessige utfordringer b\u00e5de for mor og barn. Dessuten f\u00e5r kvinner for f\u00e5 barn til at vi i fremtiden kan opprettholde velferdsstaten slik vi kjenner den i dag. Hadde jeg kunnet velge om igjen, ville jeg ogs\u00e5 ventet med barn.</p>\n",
        "<p class=\"txt\">For skal flere v\u00e5ge \u00e5 kaste seg ut i mammatilv\u00e6relsen f\u00f8r de er 30, m\u00e5 kvalitetsreformen mykes opp. Studieopplegget m\u00e5 bli bedre tilpasset mennesker med behov for fleksibilitet. Det holder ikke med mulighet for familieboliger og barnehageplasser. Det m\u00e5 skapes plass og ogs\u00e5 tilrettelegges for de som har andre \u00e5 ta hensyn til enn bare seg selv. Det b\u00f8r i alle fall v\u00e6re et minstekrav at vi finnes i statistikken, og da ikke bare kvantitativt. Jeg f\u00f8ler jeg har mye og gi, og mange gode tanker og ideer, men er lei av \u00e5 m\u00f8te krav jeg ikke kan oppfylle. Jeg er blitt deltidsstudent mot min vilje. Semester etter semester. Kvalitetsreformen fremmer den unge fulltidsstudenten men ekskluderer mangfoldet. Dette er et stort tap for samfunnet.</p>"
       ],
       "metadata": {},
       "output_type": "display_data",
       "text": [
        "<IPython.core.display.HTML at 0x7fa66aea4198>"
       ]
      },
      {
       "html": [
        "<p class=\"txt\">Universitas oppsummerer uka</p>\n",
        "<p class=\"mt\">Demokratisk regelrytteri</p>\n",
        "<p class=\"txt\">Da UiO-prorektor trakk seg, skulle det egentlig skrives ut nyvalg b\u00e5de for rektor og prorektor. Det var det ikke s\u00e5 farlig med, mente rektor Ole Petter Ottersen.</p>\n",
        "<p class=\"txt\">Han var nylig i Russland for \u00e5 \u00abstyrke de akademiske b\u00e5ndene\u00bb \u00f8stover. Kilder tett p\u00e5 rektoren sier at han underveis i styrem\u00f8tet hvor det ble klart at prorektor trakk seg, hadde mange telefonpauser ,og at de bestemt h\u00f8rte ham si \u00abdasvidanja\u00bb.</p>\n",
        "<p class=\"txt\">\u2013 Mine nye akademiske kontakter mente det var fullt forsvarlig \u00e5 fravike valgreglementet bare denne ene gangen, sier Ottersen.</p>\n",
        "<p class=\"mt\">\u00c6rlig kommunikasjon</p>\n",
        "<p class=\"txt\">BI-rektor Tom Colbj\u00f8rnsen forteller at skolen \u00aber i renomm\u00e9bransjen. Der er skolerangeringer og akkrediteringer hovedpilarene.\u00bb</p>\n",
        "<p class=\"txt\">Flere BI-studenter Ad notam har v\u00e6rt i kontakt med, er glade for Colbj\u00f8rnsens presisering, s\u00e5 slipper de lenger \u00e5 leve i den villfarelsen at BI prim\u00e6rt er en utdanningsinstitusjon som har studenters utdannelse som viktigste oppgave.</p>\n",
        "<p class=\"mt\">Verden er urettferdig</p>\n",
        "<p class=\"txt\">Privatskolene tar mer og mer i skolepenger fra studentene samtidig som de ansattes l\u00f8nninger \u00f8ker.</p>\n",
        "<p class=\"txt\">\u2013 Det er urettferdig, sier BI-studentleder Espen Gekko d.y.</p>\n",
        "<p class=\"txt\">Han reagerer p\u00e5 at staten ikke vil gi de som g\u00e5r p\u00e5 privatskole, h\u00f8yere stipend enn de som g\u00e5r p\u00e5 offentlig skole.</p>\n",
        "<p class=\"txt\">\u2013 Vi har kanskje mer penger i familien, og vi kommer til \u00e5 tjene mer n\u00e5r vi er ferdige enn for eksempel l\u00e6rere og sykepleiere, men det er urettferdig at vi skal bruke av v\u00e5re egne penger bare fordi vi har lyst til \u00e5 studere noe kun fordi vi kan bli rike av det.</p>\n",
        "<p class=\"mt\">Eivind Tr\u00e6dal be\u00e6rer Ad notam med en kronikk</p>\n",
        "<p class=\"txt\">For noen dager siden samlet jeg meg for \u00e5 lage en kronikk for Universitas. Det var ikke lett, for jeg er ganske opptatt fordi jeg er s\u00e5 ettertraktet som meningsb\u00e6rer. Jeg fikk i alle fall skrevet en kronikk som, om jeg f\u00e5r si det selv, tok pulsen p\u00e5 alt i Norge i dag. Jeg fikk inn flere stikk mot kommentarfeltmafiaen, som ikke skj\u00f8nner at ytringsfrihet egentlig er s\u00e5 bra som jeg gj\u00f8r, og det er helt H\u00d8L I HUE. Jeg la meg p\u00e5 en ironisk tone, for det er mye kulere enn \u00e5 v\u00e6re oppriktig. Men det er det vel ikke lov til \u00e5 <I>si</I> i dette landet.</p>"
       ],
       "metadata": {},
       "output_type": "display_data",
       "text": [
        "<IPython.core.display.HTML at 0x7fa66aea4198>"
       ]
      },
      {
       "html": [
        "<p class=\"fak1\">Birkelunden mannskor</p>\n",
        "<p class=\"fak2\">Hva: Kor</p>\n",
        "<p class=\"fak2\">Hvem: Diverse oslogutter og -menn</p>\n",
        "<p class=\"fak2\">Hvor: Birkelunden p\u00e5 17.mai.</p>\n",
        "<p class=\"txt\">Birkelunden er, til tross for str\u00e5lende sol, rimelig folketom tidlig p\u00e5 17. mai-ettermiddagen. Men i l\u00f8pet av den lille halvtimen f\u00f8r parkens eget mannskor entrer paviljongen for tredje \u00e5r p\u00e5 rad, stimler det sammen et betydelig antall mennesker i sin fineste stas. Alle er de kommet for \u00e5 overv\u00e6re konserten med de \u00abunge, kjekke og lovende menn i Oslo\u00bb, som de noks\u00e5 s\u00f8tt, eller noks\u00e5 cocky kaller seg selv.</p>\n",
        "<p class=\"txt\">Koret er ledet av dirigent Knut Kristian Mohn, og de <I>er</I> s\u00e5 klart flotte der de st\u00e5r \u2013 som b\u00e5de n\u00e5tid og fremtid i norsk kormusikk. I bunad, dress og med cavaflasker under armen har de sjarmert publikum i senk allerede f\u00f8r de rekker \u00e5 stemme i Edvard Griegs \u00ab<I>Sangerhilsen\u00bb</I> og sprette flaskekorkene.</p>\n",
        "<p class=\"txt\">Helakustisk a capella utekonsert gj\u00f8r ikke akkurat lyden noen tjeneste, og minikonserten tar derfor ikke <I>helt av</I> lydmessig. Mye av det som kunne v\u00e6rt en mektig opplevelse, drukner rett og slett i 17. mai-st\u00f8y fra ting, dyr og personer. Samtidig er det spontane mye av greia, og det er tvilsomt om opplegget hadde v\u00e6rt like sjarmerende om mannskoret hadde v\u00e6rt flankert av digre h\u00f8yttalere og lydtekniker. I bytte mot prima lyd f\u00e5r publikum en up\u00e5klagelig stemning, og koret er p\u00e5 sitt desidert beste n\u00e5r de virkelig drar p\u00e5, som \u00abKlingom Br\u00f8der\u00bb av Wetterling \u2013 det desidert beste nummeret i l\u00f8pet av konserten.</p>\n",
        "<p class=\"txt\">Dessverre er det hele over akkurat i det det begynner \u00e5 ta av. Det er p\u00e5 \u00e9n m\u00e5te forst\u00e5elig, ettersom koret skal spasere ned til Olaf Ryes plass for \u00e5 gj\u00f8re hele showet om igjen. Det er imponerende \u00e5 legge ut p\u00e5 en Gr\u00fcnerl\u00f8kka-turn\u00e9, men for de oppm\u00f8tte i Birkelunden f\u00f8les det trist \u00e5 m\u00e5tte vinke farvel til \u00abkjekke, unge og lovende menn\u00bb etter bare dr\u00f8ye femten-tjue minutter.</p>"
       ],
       "metadata": {},
       "output_type": "display_data",
       "text": [
        "<IPython.core.display.HTML at 0x7fa66aea4198>"
       ]
      },
      {
       "html": [
        "<p class=\"fak1\">Beautiful Silence</p>\n",
        "<p class=\"fak2\">Av: Lena Nymark</p>\n",
        "<p class=\"fak2\">Plateselskap: Grappa</p>\n",
        "<p class=\"txt\">Skal vi tro den nye plata til sangpedagog og Norges Musikkh\u00f8gskole-utdannede Lena Nymark, er det ironisk nok den minst typiske l\u00e5ta hennes som har gjort henne mest kjent. Den gitartunge popl\u00e5ta \u00abIt's up to you\u00bb, som er andrespor p\u00e5 Nymarks debutplate, f\u00f8res fram av et bluesrock-driv som fin kontrast til hennes langt lysere stemme. P\u00e5 resten av plata strekker l\u00e5tene seg lenger inn under jazz-sjangeren, som blir mindre forutsigbart og mer spennende.</p>\n",
        "<p class=\"txt\">For selv om drivet i hitsingelen er t\u00f8ft, svinger det mer n\u00e5r t\u00f8ylene p\u00e5 musikantene blir l\u00f8sere, p\u00e5 l\u00e5ter som \u00abSola Mi\u00bb og \u00abWaiting\u00bb \u2013 med svevende, nydelige orgelpartier av Andreas Ulvo og en langt mer frittspillende trommeslager i Martin Langlie. Det er ingen tvil om at dette er skolerte musikere til beinet. Det er samspilt, det svinger, og det h\u00f8res uanstrengt ut.</p>\n",
        "<p class=\"txt\">Men det skolerte og polerte har ogs\u00e5 en kjip side. Det blir kjedelig hvis det ikke <I>vil</I> noe. Flere av Nymarks tekster er repetitive, og man kan sp\u00f8rre seg om hun virkelig har et budskap utover det musikalske. Stemmen hennes er b\u00e5de nydelig, trygg, ren og allsidig. Det er pent og pyntelig, men vokalen blir som et eget instrument og blir langt mer troverdig som melodiskaper enn som meningsb\u00e6rer.</p>\n",
        "<p class=\"txt\">N\u00e5 er det heller ikke Joni Mitchell eller Bob Dylan Nymark minner om. Gruppa hun har med seg, ligner mer en oppjazza versjon av norske D'Sound \u2013 en godt utdannet gjeng musikanter med teft for hva \u00f8ret liker. Men n\u00e5r musikken ikke vil mer, blir den fort et stemningsskapende supplement heller enn et selvstendig kunstverk.</p>"
       ],
       "metadata": {},
       "output_type": "display_data",
       "text": [
        "<IPython.core.display.HTML at 0x7fa66aea4198>"
       ]
      },
      {
       "html": [
        "<p class=\"txt\">Temmelig s\u00f8mmelig</p>\n",
        "<p class=\"txt\">Studentvelferd</p>\n",
        "<p class=\"txt\">Kommentator Thorbj\u00f8rn Borlaug foresl\u00e5r i forrige ukes Universitas at SiO skal omfattes av offentlighetsloven. Sp\u00f8rsm\u00e5let om studentsamskipnadene skal reguleres av offentlighetsloven er vurdert grundig flere ganger de siste \u00e5rene. Senest i forbindelse med revisjon av loven i 2008 og 2012. Kunnskapsdepartementet, som er b\u00e5de tilskudds- og tilsynsdepartement, har gjennom bredt anlagte h\u00f8ringsprosesser kommet til en utvetydig konklusjon:</p>\n",
        "<p class=\"txt\">\u00bb[E]n stor del av samskipnadenes oppgaver er av en slik art at reglene i forvaltningsloven ikke er relevante, som kantinedrift, bokhandel, treningssenter osv. Reglene i forvaltningsloven skal ivareta rettsikkerhet og betryggende saksbehandling. Saksbehandlingen i samskipnadene er i stor grad regulert i andre lover. Dette gjelder for eksempel helsetjenester og barnehagedrift.\u00bb</p>\n",
        "<p class=\"txt\">Jeg er opptatt av at SiO skal styres s\u00e5 \u00e5pent og ryddig som mulig, men det er temmelig uklokt \u00e5 forst\u00e5 SiO som en offentlig organisasjon, eller jobbe for at SiO skal bli det. Det er verdt \u00e5 opprettholde den s\u00e6rnorske ordningen hvor et eierl\u00f8st, studentstyrt velferdsselskap med ideelt form\u00e5l ivaretar studentvelferden, og ikke staten. Den sikrer en effektiv og ubyr\u00e5kratisk styringsprosess fordi SiO som et ansvarlig rettssubjekt har mulighet til \u00e5 fatte beslutninger p\u00e5 selvstendig grunnlag, ta opp l\u00e5n, akkumulere et ansvarlig overskudd eller omorganisere for \u00e5 m\u00f8te nye behov i nye tjenesteomr\u00e5der.</p>\n",
        "<p class=\"txt\">SiOs \u00e5penhetspolicy er s\u00f8mmelig ut fra at vi er et selskap som strekker oss mot \u00e5penhet. Studentstyringen er \u00e5pen i den forstand at Velferdstinget (VT) velger flertallet i styret i \u00e5pne valg og legger premissene for selskapet i \u00e5pne voteringer. De studentvalgte representantene i SiOs hovedstyre har orienteringsplikt til VT i \u00e5pne m\u00f8ter, vi har en l\u00f8pende dialog med Velferdstingets ledelse, og arbeidsutvalget har innsynsmulighet i alle sakspapirer.</p>\n",
        "<p class=\"txt\">Men som serviceselskap, i det daglige m\u00f8tet med studenten, b\u00e5de b\u00f8r og kan SiO bli mer \u00e5pen og tilgjengelig. Det bestemmes ikke av offentlighetsloven, men av hvordan SiO m\u00f8ter den enkelte student i treningssenteret, p\u00e5 cafeen eller p\u00e5 internett.</p>\n",
        "<p class=\"bt\">universitas nr. 16, 2014</p>"
       ],
       "metadata": {},
       "output_type": "display_data",
       "text": [
        "<IPython.core.display.HTML at 0x7fa66aea4198>"
       ]
      },
      {
       "html": [
        "<p class=\"plakdag\">Onsdag 21. mai</p>\n",
        "<p class=\"plaktxt\">Vin&Vinyl: har gleden av \u00e5 kunne presentere Kristopher Schau. Schau har tidligere gjestet dem med temaer som \u00abSurt, grisete og religi\u00f8st\u00bb og \u00abPlater kj\u00f8pt under parolen 'H\u00e6, hva faen?'\u00bb, s\u00e5 det er bare \u00e5 glede seg og vente i spenning p\u00e5 hvilke godbiter han har med fra vinylsamlingen denne gangen. Biblioteket p\u00e5 Chateau Neuf, 20.00</p>\n",
        "<p class=\"plakdag\">Fredag 23. mai</p>\n",
        "<p class=\"plaktxt\">Avgangsutstillingen: Avgangselevene p\u00e5 masterprogrammet i billedkunst ved Kunsth\u00f8gskolen i Oslo stiller ut sine verker. Utstillingen st\u00e5r til 8. juni. Kunstnernes hus, 19.00</p>\n",
        "<p class=\"plakdag\">L\u00f8rdag 24. mai</p>\n",
        "<p class=\"plaktxt\">UiO-festivalen: I fjor kom det 6000 til Universitetet i Oslo p\u00e5 Blindern for \u00e5 h\u00f8re og oppleve innslag fra forskningens verden. I \u00e5r gjentar de suksessen. UiO-festivalen omfatter debatter, konserter, foredrag, fotoutstilling, barneuniversitet, stands og servering. Blindern campus, 12.00</p>\n",
        "<p class=\"plakdag\">S\u00f8ndag 25. mai</p>\n",
        "<p class=\"plaktxt\">V\u00e5rtreff p\u00e5 botanisk hage: Opptatt av planter? Denne s\u00f8ndagen er det v\u00e5rtreff i Botanisk hage. Det vil v\u00e6re plantesalg, omvisning, presentasjoner av planteforeninger og lignende. Botanisk hage, 10.00</p>\n",
        "<p class=\"plakdag\">S\u00f8ndag 25. mai</p>\n",
        "<p class=\"plaktxt\">Film og debatt: Hepatitt C er sp\u00e5dd \u00e5 bli den neste store folkehelsekrisen etter HIV/AIDS. Mange legemiddelfirmaer \u00f8nsker \u00e5 tilby sine medisiner til store pengesummer. F\u00f8rst vises filmen \u00abFire in the blood\u00bb, s\u00e5 blir det paneldebatt. Tema for debatten er: Lar vi legemiddelindustrien sette prisen p\u00e5 et liv? Nedjma p\u00e5 Litteraturhuset, 18.00</p>\n",
        "<p class=\"plakdag\">Tirsdag 27. mai</p>\n",
        "<p class=\"plaktxt\">Kunstarrangement: \u00ab++\u00bb er et kunstarrangement i foajeen p\u00e5 Black Box Teater. Hundre kvadratmeter foaj\u00e9, med en takh\u00f8yde p\u00e5 seks meter og en ut\u00f8mmelig bar, skal i l\u00f8pet av tre kvelder denne v\u00e5ren fylles med billedkunst, litteratur, video, konserter, dans, fanziner, performance og teater. Black Box Teater, 19.00</p>"
       ],
       "metadata": {},
       "output_type": "display_data",
       "text": [
        "<IPython.core.display.HTML at 0x7fa66aea4198>"
       ]
      },
      {
       "html": [
        "<p class=\"fak1\">Irene Kittelsen</p>\n",
        "<p class=\"fak2\">Av: Jesper Halle</p>\n",
        "<p class=\"fak2\">Med: Avgangsstudentene p\u00e5 bachelorstudiet ved Teaterh\u00f8gskolen</p>\n",
        "<p class=\"txt\">Norges skuespillerfremtid hviler p\u00e5 deres unge skuldre, og avgangsforestillingen p\u00e5 Teaterh\u00f8gskolen er siste mulighet til \u00e5 f\u00e5 vist seg fram f\u00f8r de skal ut og krige om roller i en t\u00f8ff bransje.</p>\n",
        "<p class=\"txt\"><I>Irene Kittelsen</I> er skrevet spesielt for anledningen av dramatiker og professor Jesper Halle. Stykket f\u00f8lger \u00e5tte venner p\u00e5 leting etter Irene \u2013 gjengens bindeledd, som p\u00e5 mystisk vis har forsvunnet. Gjennom en rekke tilbakeblikk, der skuespillerne bytter p\u00e5 rollen som Irene, graves dramatiske ledetr\u00e5der fram fra hukommelsen. Alt fra romantisk soloppgang i Portugal til knisete r\u00f8lpefester f\u00f8rer dem n\u00e6rmere Irenes skjebne.</p>\n",
        "<p class=\"txt\">Handlingen er isolert sett gripende, og det er ingen tvil om at skuespillerne har talent. Dette er mennesker som mestrer og elsker sitt fag, men likevel minner noen av scenene om en slags subtil folkeh\u00f8yskolerevy. De bryter flere ganger ut i samstemt dans til sangen \u00ab<I>Happy\u00bb</I> av Pharrel Willams og noen av karakterene virker stereotypiske og hule.</p>\n",
        "<p class=\"txt\">Om ikke utelukkende blir <I>Irene Kittelsen</I> til tider mer <I>Chat Noir</I> enn <I>National</I>. Kunsten \u00e5 underholde skal ikke kimses av, men man f\u00f8ler likevel at de holder seg innenfor et noks\u00e5 komfortabelt spillerom ved denne formen. Det utelukker s\u00e5ledes det helt spektakul\u00e6re.</p>\n",
        "<p class=\"txt\">Selv om ingen av de \u00e5tte avgangsstudentene skiller seg ut i mengden, hviler Norges teaterutsikter likevel p\u00e5 trygge skuldre. Niv\u00e5et <I>er</I> jevnt over h\u00f8yt, og flere av dem har potensiale til \u00e5 bli gjengangere p\u00e5 norske scener og skjermer i fremtiden. Tatt i betraktning at mye av <I>Irene Kittelsen</I> foreg\u00e5r i bedugget tilstand, er det ei heller umulig at vi har sett den neste Jeppe p\u00e5 bjerget p\u00e5 Teaterh\u00f8gskolen denne mandagskvelden.</p>"
       ],
       "metadata": {},
       "output_type": "display_data",
       "text": [
        "<IPython.core.display.HTML at 0x7fa66aea4198>"
       ]
      },
      {
       "html": [
        "<p class=\"txt\">Kommentar</p>\n",
        "<p class=\"txt\">Den 6. mai valgte universitetsstyret ved Universitetet i Oslo (UiO) \u00e5 gi blaffen i demokratiet. Da Ruth Vatvedt Fjeld trakk seg fra stillingen som prorektor, skulle det if\u00f8lge valgreglementet skrives ut nyvalg p\u00e5 b\u00e5de rektor og prorektor. Rektor og styreleder Ole Petter Ottersen var imidlertid lite lysten p\u00e5 \u00e5 miste makten.</p>\n",
        "<p class=\"txt\">Ottersen var \u00e5penbart klar over hva Fjelds avgang kunne bety: <I>hans egen avgang</I>. I UiOs valgreglement st\u00e5r det klart at dersom rektor eller prorektor fratrer \u00abmer enn seks m\u00e5neder f\u00f8r funksjonstiden er ute, foretas nyvalg for den tiden som er igjen\u00bb (\u00a721-2). Ettersom \u00abrektor og prorektor velges under ett\u00bb (\u00a721-3), inneb\u00e6rer dette et nyvalg p\u00e5 b\u00e5de rektor og prorektor. Ved hjelp av en rekke knep har Ottersen og styret han leder, tr\u00e5kket p\u00e5 sine egne demokratiske spilleregler og avsl\u00f8rt hva som er viktigst: <I>\u00e5 beholde makten</I>.</p>\n",
        "<p class=\"txt\">UiOs f\u00f8rste knep var \u00e5 nekte for at Ruth Vatvedt Fjelds avgang hadde universitetspolitiske grunner. I valgstyrets dokument om Fjelds oppsigelse betegner de den heller som \u00aben personlig overveielse\u00bb. Det er vanskelig \u00e5 se for seg at noen kan si opp jobben sin uten \u00e5 gjennomf\u00f8re en personlig overveielse. Begrepet er meningsl\u00f8st i denne sammenhengen og er ment \u00e5 skjule de faktiske problemene.</p>\n",
        "<p class=\"txt\">Fjeld har betvilt UiOs konklusjon b\u00e5de i Universitas og Uniforum. Hun mener selv hun har presisert \u00abmeget klart\u00bb at hun ikke g\u00e5r av personlig grunner, men av faglige og arbeidsmessige grunner. Fratredelsen skyldes, if\u00f8lge Fjeld, problemer med arbeidsfordeling og arbeidsmilj\u00f8. Hun sier at arbeidskapasiteten og kompetansen hennes ikke ble utnyttet, og at hun fikk mindre ansvar enn hun forventet f\u00f8r valget. Dette st\u00e5r ogs\u00e5 svart p\u00e5 hvitt i hennes fratredelseserkl\u00e6ring, som ble forelagt styrem\u00f8tet 6. mai.</p>\n",
        "<p class=\"txt\">Det andre kunstgrepet var valgstyrets selektive og meget problematiske bruk av begrepet \u00abdemokrati\u00bb. Et av argumentene bak styrets avgj\u00f8relse var at et nyvalg var udemokratisk. De mente velgerne fortjente \u00e5 f\u00e5 beholde den politiske plattformen de hadde stemt p\u00e5, i en periode p\u00e5 fire \u00e5r. Er det ikke mer udemokratisk \u00e5 la gamle stemmer fra valget i 2013 trumfe de som etter reglene skulle v\u00e6rt avgitt ved et nyvalg i 2014? Argumentet om at et gammelt resultat trumfer det som ville v\u00e6rt gitt i dag <I>av demokratiske hensyn,</I> faller p\u00e5 sin egen urimelighet. Styrets l\u00f8sning er kort sagt ikke demokratisk.</p>\n",
        "<p class=\"txt\">Det tredje knepet var \u00e5 garantere at velgerne vil f\u00e5 den samme politiske plattformen n\u00e5 som f\u00f8r. Velgerne hadde i fjor st\u00f8rst tro p\u00e5 Ottersen og Fjeld. De stemte p\u00e5 personer, ikke et parti eller en liste.</p>\n",
        "<p class=\"txt\">Det er dobbeltmoralsk at Ottersen bryter demokratiske regler n\u00e5r han i sitt valgprogram lover \u00e5 \u00abutdanne kompetente og engasjerte samfunnsborgere med dyp innsikt i de verdiene som v\u00e5rt demokrati er bygget p\u00e5\u00bb. Det er h\u00f8yst tvilsomt om Ottersen har innfridd l\u00f8ftet om en \u00abs\u00e5 stor forutsigbarhet som mulig i sitt karrierel\u00f8p ved UiO\u00bb overfor sin kollega og medkandidat Fjeld. S\u00e5 kj\u00e6re Ole Petter Ottersen: N\u00e5r du sier til Universitas at du \u00abikke kan se hvordan saken kan bidra til \u00e5 undergrave studentdemokratiet\u00bb, holder du da ditt valgl\u00f8fte om \u00e5 gj\u00f8re UiO til \u00abet selvkritisk universitet som lar seg se i kortene\u00bb?</p>\n",
        "<p class=\"txt\">Valgstyret har ogs\u00e5 vektlagt effektivitet og ressursbruk. De har rett i at et nyvalg vil koste penger, men argumentet om tap av effektiv styretid er eksplisitt tatt h\u00f8yde for i reglementet. Det kreves ikke nyvalg hvis det er seks m\u00e5neder eller mindre igjen av perioden. Denne regelen skal sikre effektivitet. Det er n\u00e5 tre og et halvt \u00e5r igjen av perioden til Ottersen.</p>\n",
        "<p class=\"txt\">UiO skriver p\u00e5 sine nettsider at de vil unng\u00e5 \u00abden ulempe et nyvalg ville p\u00e5f\u00f8re institusjonen.\u00bb Det virker mer sannsynlig at de vil unng\u00e5 den ulempen et nyvalg ville p\u00e5f\u00f8re den sittende ledelsen. Studentrepresentantene var de eneste i styret som stemte nei til forslaget. Det er ikke et tegn p\u00e5 st\u00f8tte fra oss studenter. I fjor\u00e5rets rektorvalg stemte kun 14 prosent av oss, og denne saken vil ikke bidra til \u00e5 \u00f8ke Ottersens legitimitet. Et nyvalg b\u00f8r derfor skrives ut \u2013 n\u00e5! P\u00e5 den m\u00e5ten kan demokratiet avgj\u00f8re hvorvidt de fortsatt har tro p\u00e5 Ottersen.</p>"
       ],
       "metadata": {},
       "output_type": "display_data",
       "text": [
        "<IPython.core.display.HTML at 0x7fa66aea4198>"
       ]
      },
      {
       "html": [
        "<p class=\"txt\">Bergen</p>\n",
        "<p class=\"txt\">At sm\u00e5skolene m\u00f8ter opp i Velferdstinget er viktig b\u00e5de for deres egne studenter og hele studentbergen... Hvis sm\u00e5skolene samler kreftene, kan de til sammen bli like store som Universitetet i Bergen. Selv om de nok ikke f\u00e5r flertall alene, betyr ikke det at de ikke vil bli h\u00f8rt.</p>\n",
        "<p class=\"txt\">Universitas gir deg meninger fra verdens studentaviser</p>\n",
        "<p class=\"txt\">Lund</p>\n",
        "<p class=\"txt\">Jag tror de flesta studenter skulle tycka det vore otroligt sk\u00f6nt om de kunde g\u00e5 in p\u00e5 Medicinska fakultetens, Samh\u00e4llsvetenskapliga fakultetens eller vilket studentbibliotek man nu tillh\u00f6r och finna att man kunde l\u00e5na en stor del av sin kurslitteratur. Mer kurslitteratur p\u00e5 universitetets bibliotek s\u00e4nker tr\u00f6sklarna \u00e4n mer f\u00f6r de som vill studera. Skulle man kanske kunna f\u00e5 hoppas p\u00e5 en kurslitteratursatsning fr\u00e5n statsmaktens sida?</p>\n",
        "<p class=\"txt\">Cambridge</p>\n",
        "<p class=\"txt\">At every other Ivy League school, undergraduates already sit on judicial boards or are involved in disciplinary proceedings in one form or another. All but Yale have instituted a formal honor code or declaration of academic integrity. It's commendable that Harvard will catch up to its peer institutions, though unfortunate that it took a major cheating scandal to catalyze that needed transformation.</p>\n",
        "<p class=\"txt\">Los Angeles</p>\n",
        "<p class=\"txt\">Vending machines allow students to buy birth control on their own time without an awkward walk to the register... Stocking vending machines with contraceptives represents a simple yet tangible step to improving student sexual health. If UCLA can make buying condoms as easy as buying a bag of chips, the university can show its commitment toward making sex safer.</p>"
       ],
       "metadata": {},
       "output_type": "display_data",
       "text": [
        "<IPython.core.display.HTML at 0x7fa66aea4198>"
       ]
      },
      {
       "html": [
        "<p class=\"txt\">Nye og eldre studenter opplever i disse dager en bitter og ofte h\u00e5pl\u00f8s kamp for \u00e5 f\u00e5 et sted \u00e5 bo. Antagelig st\u00e5r flere i fare for \u00e5 m\u00e5tte reise hjem med uforrettet livssak. Ansvaret for denne uverdige situasjon ligger naturlig nok hos samfunnet, det er likevel n\u00e6rliggende \u00e5 sl\u00e5 fast at nettopp i dag b\u00f8r f\u00f8rst og fremst Oslo bykommune ha d\u00e5rlig samvittighet.</p>\n",
        "<p class=\"txt\"><b>Universitas nr. 8, 1964</b></p>"
       ],
       "metadata": {},
       "output_type": "display_data",
       "text": [
        "<IPython.core.display.HTML at 0x7fa66aea4198>"
       ]
      },
      {
       "html": [
        "<p class=\"mt\">Korab Kel Mendi (25) (Han med m\u00f8rkt h\u00e5r som s\u00e5 litt utenlandsk ut)</p>\n",
        "<p class=\"txt\">Universitetet i Oslo, Pedagogikk</p>\n",
        "<p class=\"txt\">1. Absolutt ikke.</p>\n",
        "<p class=\"txt\">2. Det ligger ikke noe i det de sier, jeg f\u00f8ler de bare driver med skremselspropaganda. De motsier seg selv i det de gj\u00f8r.</p>\n",
        "<p class=\"mt\">Erle Bj\u00f8rnstad (21) (Hun med blondt h\u00e5r)</p>\n",
        "<p class=\"txt\">Universitetet i Oslo, Juss</p>\n",
        "<p class=\"txt\">1. B\u00e5de ja og nei. 2. Kanskje fordi de ikke har den samme respekten og tilliten til systemet. Da er kanskje terskelen lavere for \u00e5 jukse.</p>\n",
        "<p class=\"mt\">Agnethe Halleland (24) (Hun med r\u00f8dt h\u00e5r)</p>\n",
        "<p class=\"txt\">H\u00f8yskolen i Oslo og Akershus, Samfunnsern\u00e6ring</p>\n",
        "<p class=\"txt\">1. Nei. 2. De tar kanskje ikke skolen s\u00e5 alvorlig som de burde, og tenker mer p\u00e5 at det ser bra ut p\u00e5 papiret. De bryr seg mer om innvandrere og \u00e5pningstider p\u00e5 polet, enn om skole.</p>\n",
        "<p class=\"mt\">Kristian Olsen (22) (Han med dress)</p>\n",
        "<p class=\"txt\">Universitetet i Oslo, Teoretisk fysikk</p>\n",
        "<p class=\"txt\">1. Ja. Jeg hadde v\u00e6rt overrasket over at det er en sammenheng uansett hvilket parti det hadde v\u00e6rt. 2. Aner ikke, jeg er ikke s\u00e5 opptatt av politikk.</p>"
       ],
       "metadata": {},
       "output_type": "display_data",
       "text": [
        "<IPython.core.display.HTML at 0x7fa66aea4198>"
       ]
      },
      {
       "html": [
        "<p class=\"txt\">Ofte har vi inntrykk av at det er lettere for oss mennesker \u00e5 tro p\u00e5 sp\u00f8kelser og engler enn det er \u00e5 tro p\u00e5 vitenskapen. Er dette s\u00e5 farlig? Neppe. Men vi g\u00e5r glipp av mye spennende kunnskap om verden fordi vi ikke greier \u00e5 gripe det de sysler med ute i forskningsfronten. Og siden storparten av forskningen er betalt av oss som skattebetalere eller som markedsakt\u00f8rer, b\u00f8r vi alle v\u00e6re interessert i \u00e5 gj\u00f8re kl\u00f8ften mellom oss og vitenskapen minst mulig</p>\n",
        "<p class=\"txt\">Word. Fra kommentaren \u00abVitenskapen og vi\u00bb i Dagbladet, 20.05.</p>\n",
        "<p class=\"txt\">Fylkesr\u00e5dmann Evy-Anni Evensen vil utsette fusjon av H\u00f8yskolen i Telemark og Universitetet i Agder. Det er fylkestinget i Telemark som skal behandle denne saken i et ekstraordin\u00e6rt m\u00f8te mandag 26. mai. Til n\u00e5 har det v\u00e6rt klart at motstanden mot \u00e5 sl\u00e5 sammen H\u00f8yskolen i Telemark og Universitetet i Agder har v\u00e6rt stor i Agder. Men n\u00e5 r\u00f8rer det seg ogs\u00e5 i Telemark.</p>\n",
        "<p class=\"txt\">Er ikke st\u00f8rre bedre? Fra saken \u00abFylkesr\u00e5dmann vil utsette universitetet\u00bb i Telemarksavisa, 20.05.</p>"
       ],
       "metadata": {},
       "output_type": "display_data",
       "text": [
        "<IPython.core.display.HTML at 0x7fa66aea4198>"
       ]
      },
      {
       "html": [
        "<p class=\"txt\">Studentersamfundet: \u2013 Vi er str\u00e5lende forn\u00f8yd med de siste arrangementene vi har hatt, sier H\u00e5kon S\u00f8iland, leder i Kulturutvalget p\u00e5 Chateau Neuf. Torsdag 8. mai talte Tibets \u00e5ndelige leder, Dalai Lama, til en stappfull sal med studenter. Den 12. mai var de russiske dissidentene i Pussy Riot hovedgjester sammen med den feministiske filosofen Judith Butler. Arrangementene ble avholdt i samarbeid med henholdsvis Arne N\u00e6ss Symposium og The First Supper Symposium. Overskuddet fra Pussy Riot og Butler gikk til organisasjonen Zona Prava, for \u00e5 hjelpe fanger i russiske fengsler. \u2013 Vi har ikke gjort opp regnskap helt enn\u00e5, men jeg vil ansl\u00e5 mellom 600 og 800 betalende gjester der, noe som er bra for et s\u00e5nt arrangement. Det blir en klekkelig sum til gode form\u00e5l, forteller S\u00f8iland.</p>"
       ],
       "metadata": {},
       "output_type": "display_data",
       "text": [
        "<IPython.core.display.HTML at 0x7fa66aea4198>"
       ]
      },
      {
       "html": [
        "<p class=\"txt\">Hjerneflukt</p>\n",
        "<p class=\"txt\">Frederik Zimmer, professor i skatterett ved Det juridiske fakultet ved Universitetet i Oslo (UiO), g\u00e5r av med pensjon ved utl\u00f8pet av dette semesteret og etterlater fakultetet uten en fast ansatt l\u00e6rer i skatterett. Forel\u00f8pig st\u00e5r stillingen uten en potensiell etterf\u00f8lger.</p>\n",
        "<p class=\"txt\">Curt A. Lier, president i Juristforbundet, synes det er bekymringsverdig at Det juridiske fakultet blir st\u00e5ende uten en professor i skatterett.</p>\n",
        "<p class=\"txt\">\u2013 Juristforbundet har lenge fryktet at dette vil bli et stort problem, da det er stadig f\u00e6rre unge som velger akademia, sier Lier.</p>\n",
        "<p class=\"txt\">Han frykter at professormangelen vil p\u00e5virke kvaliteten p\u00e5 undervisningen og derfor virke negativt p\u00e5 fremtidig kompetanse innenfor skattefeltet.</p>\n",
        "<p class=\"mt\">G\u00e5r av med pensjon</p>\n",
        "<p class=\"txt\">Zimmer har selv uttrykt bekymring over mangelen p\u00e5 s\u00f8kere, men understreker samtidig at skatterett er et lite fag med en relativt snever rekrutteringsbase. Han tror ogs\u00e5 at mye av \u00e5rsaken ligger i at n\u00e6ringslivet fremst\u00e5r som et mer interessant alternativ for jurister med kompetanse innenfor skattefeltet.</p>\n",
        "<p class=\"txt\">\u2013 Det finnes flere kvalifiserte folk, men disse har valgt \u00e5 bli advokater. Jeg tror det er en temperamentssak. Noen foretrekker et sosialt arbeidsmilj\u00f8 hvor det skjer mye, og der stiller akademia svakere, forteller Zimmer.</p>\n",
        "<p class=\"txt\">Han tror imidlertid at flere vil \u00f8nske \u00e5 drive med akademisk virksomhet etter hvert, og derfor vende tilbake til universitetene.</p>\n",
        "<p class=\"mt\">Etterlyser mer aggressiv politikk</p>\n",
        "<p class=\"txt\">Curt A. Lier i Juristforbundet mener at det m\u00e5 gj\u00f8res en omfattende analyse av hvorfor kvalifiserte kandidater ikke s\u00f8ker p\u00e5 stillingene.</p>\n",
        "<p class=\"txt\">\u2013 For \u00e5 kunne rekruttere nye s\u00f8kere er fakultetet avhengig av \u00e5 finne den fullstendige \u00e5rsaken til hvorfor n\u00e6ringslivet fremst\u00e5r som mer attraktivt. Vi m\u00e5 f\u00f8re en mer aggressiv politikk og tenke bredere enn det som har blitt gjort tidligere, sier han.</p>\n",
        "<p class=\"txt\">Han tilf\u00f8yer at l\u00f8nn og status sannsynligvis er viktige faktorer, men ikke en fullverdig forklaring p\u00e5 s\u00f8kermangelen.</p>\n",
        "<p class=\"txt\">\u2013 Professorstillingene er forholdsvis d\u00e5rlig betalt og hadde dessuten h\u00f8yere status f\u00f8r. Den yngre generasjonen viser mer interesse for \u00f8konomisk gevinst og st\u00e5r derfor ikke akkurat i k\u00f8 for \u00e5 ta over jobbene, sier Lier.</p>\n",
        "<p class=\"mt\">F\u00e5r skryt for innsats</p>\n",
        "<p class=\"txt\">Amund Noss, sjef for skattelovsavdelingen i Finansdepartementet, mener det er viktig \u00e5 opprettholde det undervisningsniv\u00e5et Zimmer har st\u00e5tt for.</p>\n",
        "<p class=\"txt\">\u2013 Frederik Zimmer er en bauta i norsk skatterett, s\u00e5 det vil bli vanskelig \u00e5 finne noen som kan erstatte ham, sier Noss, som h\u00e5per Zimmer vil fortsette \u00e5 oppdatere de \u00abveldig gode\u00bb l\u00e6reb\u00f8kene han har skrevet i skatterett.</p>\n",
        "<p class=\"txt\">Han forteller at tett kontakt med ledende akademikere er viktig for arbeidet i skattelovavdelingen.</p>\n",
        "<p class=\"txt\">\u2013 For oss vil det v\u00e6re veldig synd hvis vi ender opp uten et godt skattefaglig milj\u00f8 p\u00e5 universitetet, sier han.</p>\n",
        "<p class=\"mt\">Et problem for hele landet</p>\n",
        "<p class=\"txt\">Dekan ved Det juridiske fakultet ved UiO, Hans Petter Graver, synes det er sv\u00e6rt beklagelig at fakultetet ikke har funnet en etterf\u00f8lger til Zimmer. Han mener det er et resultat av uheldige prioriteringer.</p>\n",
        "<p class=\"txt\">\u2013 Departementet og Forskningsr\u00e5det har de siste ti \u00e5rene prioritert internasjonale og tverrfaglige emner. Vi har derfor ikke gitt tilstrekkelig oppmerksomhet til sentrale juridiske fag, sier Graver.</p>\n",
        "<p class=\"txt\">Han p\u00e5peker imidlertid at kvaliteten p\u00e5 emnet vil opprettholdes, men forteller at dette ogs\u00e5 er et problem ved b\u00e5de Universitetet i Troms\u00f8 og Bergen.</p>\n",
        "<p class=\"txt\">\u2013 Det som er bekymringsverdig, er at dette er et problem ved flere av de juridiske fakultetene. Alle l\u00e6restedene sliter med rekruttering, noe som er problematisk dersom skatterettsdisiplinen skal utvikle seg i riktig retning, sier han.</p>\n",
        "<p class=\"txt\">Graver legger til at det er flere av de juridiske disiplinene som sliter med rekruttering, og at det derfor er tilfeldig at det er skatterett det er snakk om i dette tilfellet.</p>\n",
        "<p class=\"mt\">Valgte bort akademia</p>\n",
        "<p class=\"txt\">Bettina Banoun har en doktorgrad i skatterett fra UiO og er regnet som en av Norges fremste eksperter innen feltet. Hun har valgt bort en karriere innenfor akademia for \u00e5 jobbe som partner i advokatfirmaet Wiersholm. For henne var det \u00e5 jobbe med konkrete saker utslagsgivende for valg av karriere.</p>\n",
        "<p class=\"txt\">\u2013 En jobb p\u00e5 Universitetet er imidlertid b\u00e5de givende og viktig, s\u00e5 jeg vil ikke utelukke det p\u00e5 et senere tidspunkt. Det er likevel mye spennende skattejuss i praksis som jeg forel\u00f8pig ikke vil gi opp, sier Banoun.</p>"
       ],
       "metadata": {},
       "output_type": "display_data",
       "text": [
        "<IPython.core.display.HTML at 0x7fa66aea4198>"
       ]
      },
      {
       "html": [
        "<p class=\"txt\">Politikk</p>\n",
        "<p class=\"txt\">\u2013 H\u00f8yre har trukket tilbake mange klare valgl\u00f8fter som de ga i valgkampen, etter at valgresultatet var et faktum, sier Helga Pedersen, nestleder i Arbeiderpartiet.</p>\n",
        "<p class=\"txt\">Hun mener H\u00f8yre har sviktet heltidsstudenten ved ikke \u00e5 gjennomf\u00f8re elleve m\u00e5neders studiest\u00f8tte. Da den r\u00f8dgr\u00f8nne regjeringen la fram sitt siste statsbudsjett, foreslo de \u00e5 utvide studiest\u00f8tteperioden fra ti til elleve m\u00e5neder i \u00e5ret. Den borgerlige regjeringen droppet forslaget, som flere mente var en snubletr\u00e5d, og valgte heller \u00e5 \u00f8ke den generelle studiest\u00f8tten.</p>\n",
        "<p class=\"txt\">I en unders\u00f8kelse utf\u00f8rt av Sentio for Universitas og Norsk studentorganisasjon (NSO) er Arbeiderpartiet den store vinneren blant studentene med 24 prosents oppslutning, noe som er en oppgang p\u00e5 syv prosentpoeng og en \u00f8kning p\u00e5 hele 41 prosent fra en tilsvarende m\u00e5ling p\u00e5 tampen av de r\u00f8dgr\u00f8nnes stortingsperiode for ett \u00e5r siden. H\u00f8yre har p\u00e5 sin side g\u00e5tt tilbake med \u00e5tte prosentpoeng, eller 33 prosent i samme periode. De to partiene har dermed byttet plass p\u00e5 tronen over Norges st\u00f8rste studentpartier.</p>\n",
        "<p class=\"mt\">Skylder p\u00e5 reservasjonsretten</p>\n",
        "<p class=\"txt\">Kunnskapsminister Torbj\u00f8rn R\u00f8e Isaksen fra H\u00f8yre tror ikke den synkende oppslutningen blant studenter har s\u00e5 mye med partiets utdanningspolitikk \u00e5 gj\u00f8re.</p>\n",
        "<p class=\"txt\">\u2013 N\u00e5 svinger jo disse m\u00e5lingene opp og ned. Studenter f\u00f8lger mye med p\u00e5 vanlig samfunnsliv, og hvis det er noe som sl\u00e5r inn, tror jeg saker som reservasjonsretten ikke har v\u00e6rt en popul\u00e6r sak blant studenter, sier han.</p>\n",
        "<p class=\"txt\">Hva ang\u00e5r den mye omdiskuterte studiest\u00f8tten, gj\u00f8r R\u00f8e Isaksen det klart at det aldri var noe de frontet under fjor\u00e5rets valgkamp.</p>\n",
        "<p class=\"txt\">\u2013 Det sto ikke i programmet v\u00e5rt en gang, s\u00e5 det er ikke noe vi har trukket tilbake. N\u00e5r det gjelder alt annet, s\u00e5 er vi i gang med det vi har sagt at vi skal gj\u00f8re, forteller R\u00f8e Isaksen.</p>\n",
        "<p class=\"mt\">Angrer p\u00e5 H\u00f8yre-stemmen</p>\n",
        "<p class=\"txt\">Kaja Elisabeth de Ru g\u00e5r Europastudier ved Universitetet i Oslo og stemte H\u00f8yre under fjor\u00e5rets stortingsvalg. I dag ville hun valgt annerledes.</p>\n",
        "<p class=\"txt\">\u2013 Hadde det v\u00e6rt stortingsvalg i morgen, ville jeg stemt Venstre, sier de Ru.</p>\n",
        "<p class=\"txt\">Hun er skuffet over H\u00f8yres innsats i regjering.</p>\n",
        "<p class=\"txt\">\u2013 At de kuttet elleve m\u00e5neders studiest\u00f8tte, og hele saken med reservasjonsretten, har skuffet meg veldig, sier hun.</p>\n",
        "<p class=\"txt\">Isaksen mener imidlertid ikke elleve m\u00e5neders studiest\u00f8tte er et steg i riktig retning for heltidsstudenten.</p>\n",
        "<p class=\"txt\">\u2013 Det betyr jo bare at man gir den samme lave utbetalingen som f\u00f8r, bare en m\u00e5ned ekstra. Vi har sagt at vi skal \u00f8ke studiest\u00f8tten over prisstigninga, og at studentboliger er det aller viktigste studentvelferdstiltaket, sier Isaksen.</p>\n",
        "<p class=\"txt\"><I>\u2013 Hva vil du gj\u00f8re for \u00e5 vinne studentene tilbake?</I></p>\n",
        "<p class=\"txt\">\u2013 Jeg tror studenter er bredt samfunnsengasjert. Det at vi har en offensiv klimapolitikk og klarer \u00e5 opprettholde spennende arbeidsplasser i Norge, er minst like viktig for studentenes stemmegivning, sier Isaksen.</p>\n",
        "<p class=\"mt\">Spennende med opposisjon</p>\n",
        "<p class=\"txt\">Johannes Bergh, valgforsker ved Institutt for Samfunnsforskning, tror \u00e5rsaken til H\u00f8yres synkende oppslutning er ren regjeringsslitasje. If\u00f8lge Bergh kan velgerne allerede ha begynt \u00e5 g\u00e5 lei av den borgerlige regjeringen.</p>\n",
        "<p class=\"txt\">\u2013 Saker som elleve m\u00e5neders studiest\u00f8tte og reservasjonsretten har engasjert mange unge. Men man m\u00e5 ogs\u00e5 huske at blant studenter er det store utskiftninger i studentmassen fra et \u00e5r til et annet, sier Bergh.</p>\n",
        "<p class=\"txt\"><I>\u2013 Er H\u00f8yre \u00abavsl\u00f8rt\u00bb?</I></p>\n",
        "<p class=\"txt\">\u2013 Det er mye mer spennende med opposisjonspartier. Man g\u00e5r veldig fort lei av de som er i posisjon. S\u00e5nn var det absolutt med den r\u00f8dgr\u00f8nne regjeringen da de satt med makten.</p>\n",
        "<p class=\"txt\"><I>\u2013 Hvorfor gj\u00f8r Arbeiderpartiet det s\u00e5 bra etter mange \u00e5r i regjering?</I></p>\n",
        "<p class=\"txt\">\u2013 De gjorde det ikke s\u00e5 bra for ett \u00e5r siden. Regjeringsslitasjen er p\u00e5 vei bort, sier Bergh.</p>\n",
        "<p class=\"txt\">Ola Magnussen Rydje, leder i Norsk studentorganisasjon, sier seg enig med Bergh i at H\u00f8yres nedgang skyldes regjeringsslitasje. \u2013 Det er jo vanskelig \u00e5 si s\u00e5 mye ut i fra unders\u00f8kelsen, men H\u00f8yre har v\u00e6rt flinke til \u00e5 sette fokus p\u00e5 utdanning, sier Rydje.</p>\n",
        "<p class=\"txt\">Mandatfordeling:</p>\n",
        "<p class=\"txt\">Ap: 56</p>\n",
        "<p class=\"txt\">H: 34</p>\n",
        "<p class=\"txt\">MDG: 23</p>\n",
        "<p class=\"txt\">KrF: 18</p>\n",
        "<p class=\"txt\">Frp: 15</p>\n",
        "<p class=\"txt\">SV: 11</p>\n",
        "<p class=\"txt\">V: 10</p>\n",
        "<p class=\"txt\">R\u00f8dt 2</p>\n",
        "<p class=\"tit\">Milj\u00f8partiet tredje st\u00f8rst</p>\n",
        "<p class=\"txt\">Studentenes partipreferanser:</p>\n",
        "<p class=\"txt\">Milj\u00f8partiet De Gr\u00f8nne (MDG) har doblet oppslutningen fra 2013 og er n\u00e5 landets tredje st\u00f8rste parti blant studentene, med en oppslutning p\u00e5 11 prosent. Det viser Sentios ferske studentunders\u00f8kelse foretatt p\u00e5 oppdrag fra Universitas og Norsk Studentorganisasjon.</p>\n",
        "<p class=\"txt\">MDGs talsmann og eneste representant p\u00e5 stortinget, Rasmus Hansson, er sv\u00e6rt forn\u00f8yd med at hans parti er det tredje st\u00f8rste blant studentene.</p>\n",
        "<p class=\"txt\">\u2013 S\u00e5 fornuftige studenter vi har f\u00e5tt da! Dette er stor stas. Det er h\u00e5p for fremtiden og politikken n\u00e5r s\u00e5 mange unge folk tenker at de vil komme i gang med \u00e5 skape det nye b\u00e6rekraftige velferdssamfunnet, sier Hansson.</p>\n",
        "<p class=\"txt\">Valgforsker Johannes Bergh synes det er spennende at Milj\u00f8partiet De Gr\u00f8nne gj\u00f8r det s\u00e5 skarpt blant studentene.</p>\n",
        "<p class=\"txt\">\u2013 Det er interessant. Ved valget i h\u00f8st tror jeg ikke de appellerte sterkt til unge velgere. De gjorde det heller ikke spesielt godt ved skolevalget. Denne unders\u00f8kelsen tyder p\u00e5 at det kan ha endret seg n\u00e5, sier Bergh.</p>\n",
        "<p class=\"txt\">Hansson mener en god oppslutning blant studentene betyr at de har forst\u00e5tt hvilke utfordringer Norge og verden st\u00e5r overfor i framtiden.</p>\n",
        "<p class=\"txt\">\u2013 Studenter bruker tid p\u00e5 \u00e5 dytte kunnskap inn i hodene sine, og det er sammenheng mellom det og \u00e5 skj\u00f8nne de utfordringene samfunnet st\u00e5r overfor. Tallet tyder p\u00e5 at det er en slik sammenheng, sier Hansson.</p>"
       ],
       "metadata": {},
       "output_type": "display_data",
       "text": [
        "<IPython.core.display.HTML at 0x7fa66aea4198>"
       ]
      },
      {
       "html": [
        "<p class=\"txt\">BUDSJETTSPREKK: H\u00f8gskolen i Buskerud (HiB) skal bruke totalt 58 millioner kroner p\u00e5 \u00e5 flytte til nye lokaler i Kongsberg. Det er nesten 20 ganger s\u00e5 mye som det opprinnelige budsjettet p\u00e5 tre millioner, melder Dagens N\u00e6ringsliv. HiB fusjonerte med H\u00f8gskolen i Vestfold (HiVe) 1. januar.</p>\n",
        "<p class=\"txt\">Leder for den sammensl\u00e5tte h\u00f8yskolen sier til avisa at han ble overrasket da de reelle flyttekostnadene kom p\u00e5 bordet for kort tid siden.</p>\n",
        "<p class=\"txt\">\u2013 Jeg er selvf\u00f8lgelig ikke veldig forn\u00f8yd med at H\u00f8gskolen i Buskerud ikke hadde avsetninger til \u00e5 dekke dette. Den ballen m\u00e5 vi n\u00e5 ta, sier Aasen, som frem til nytt\u00e5r var rektor i Vestfold, til Dagens N\u00e6ringsliv.</p>\n",
        "<p class=\"txt\">Kunnskapsdepartementet godkjente flyttingen i september i fjor. Betingelsen var at flyttekostnadene m\u00e5tte tas fra eget, ordin\u00e6rt budsjett, og at leieutgiftene ikke \u00f8kte fra dagens 20 millioner kroner.</p>"
       ],
       "metadata": {},
       "output_type": "display_data",
       "text": [
        "<IPython.core.display.HTML at 0x7fa66aea4198>"
       ]
      },
      {
       "html": [
        "<p class=\"txt\">GRUVEULYKKE: Studenter har okkupert Det tekniske universitetet i Istanbul som en protest etter en gruveulykke der 301 d\u00f8de, melder VG.</p>\n",
        "<p class=\"txt\">Protestene skyldes universitetets forbindelser til selskapet Some Komur, som driver gruva. P\u00e5 fredag utviklet demonstrasjonene seg til en okkupasjon da 1000 studenter sperret d\u00f8rene til universitetet med lenker.</p>\n",
        "<p class=\"txt\">Som f\u00f8lge av okkupasjonen har universitetet annonsert at de skal kutte sine forbindelser til gruveselskapet. Men studentene har ikke sl\u00e5tt seg til ro med dette.</p>\n",
        "<p class=\"txt\">\u2013 Universitetet er medskyldig i gruvearbeidernes d\u00f8d. Gruveselskapet holdt et seminar her to uker f\u00f8r ulykken, sier en av studentene til VG.</p>"
       ],
       "metadata": {},
       "output_type": "display_data",
       "text": [
        "<IPython.core.display.HTML at 0x7fa66aea4198>"
       ]
      },
      {
       "html": [
        "<p class=\"txt\">De ser kanskje ikke ut til \u00e5 v\u00e6re s\u00e5 voldsomt bekymra for global oppvarming, studentene som i disse dager slanger seg i gresset p\u00e5 landets campuser. Men ferske tall bekrefter n\u00e5 at jo, vi lar oss uroe av klimaendringene som vi i \u00f8kende grad syns vi f\u00e5r f\u00f8le p\u00e5 kroppen. For mens den partipolitiske vinden blant studentene har snudd fra bl\u00e5tt til r\u00f8dt, er det jokeren Milj\u00f8partiet De Gr\u00f8nne som virkelig gj\u00f8r et byks p\u00e5 unders\u00f8kelsen Universitas og Norsk studentorganisasjon har foretatt blant landets studenter. Oppslutningen er doblet p\u00e5 et \u00e5r, og partiet er n\u00e5 landets tredje st\u00f8rste blant studentvelgerne. I g\u00e5r kom i tillegg det \u00e5rlige Klimabarometeret, som viser at unge under 30 \u00e5r er mer opptatt av klimaet enn noen gang.</p>\n",
        "<p class=\"txt\">Norges st\u00f8rste universitet er tilsynelatende med p\u00e5 notene; Universitetet i Oslo (UiO) har som uttalt m\u00e5l \u00e5 bli et \u00abgr\u00f8nt universitet\u00bb. Men for noen uker siden, allerede lenge etter at de f\u00f8rste premature v\u00e5rstr\u00e5lene hadde begynt \u00e5 tine opp Oslo-boerne, meldte Framtiden i v\u00e5re hender (FIVH) at UiO via forvaltningsstiftelsen UNIFOR investerer 600 millioner i ulike aksje- og rentefond der flere har tung overvekt av olje- og offshoreselskaper. Da hadde studentpolitikerne ved UiO flere ganger tatt til orde mot petroleumsforskning, og lederen av FIVHs studentlag i Oslo raste mot Universitetet.</p>\n",
        "<p class=\"txt\">Det oppsiktsvekkende var rektor Ole Petter Ottersens reaksjon p\u00e5 gjennomgangen i Dagsavisen. Han har bare en ting \u00e5 si: Universitetet f\u00f8lger Oljefondets retningslinjer. Sist gang Universitas skrev om kontroversielle UNIFOR-investeringer, pekte Ottersen p\u00e5 de samme retningslinjene og lovet en gjennomgang av praksisen. Men Oljefondets retningslinjer fungerer alts\u00e5 stadig som et automatisk godkjentstempel i hans verden, ogs\u00e5 etter at man denne v\u00e5ren har v\u00e6rt n\u00e6r et stortingsflertall for \u00e5 trekke fondet ut av kull \u2013 noe retningslinjene i dag ikke sier et pip om.</p>\n",
        "<p class=\"txt\">I ukas kulturseksjon kan du lese om forskningsprosjektet som tar for seg skyldf\u00f8lelsen over \u00e5 v\u00e6re privilegert skandinav. Noen ganger er selvpisking p\u00e5 sin plass n\u00e5r man tilh\u00f8rer en av de nasjonene som har nytt best av \u00abolj\u00e5\u00bb. For virker fossile investeringer spesielt etisk i en verden der det if\u00f8lge FN er maktp\u00e5liggende for v\u00e5r eksistens at de fossile ressursene stort sett blir liggende i bakken?</p>\n",
        "<p class=\"txt\">Svaret er nei. Og som rektor for 27 000 av landets stadig mer klimabekymra studenter b\u00f8r Ottersen ta det til f\u00f8lge og s\u00f8rge for at Universitetets fondsmillioner ikke spr\u00f8ytes inn i olje og gass.</p>"
       ],
       "metadata": {},
       "output_type": "display_data",
       "text": [
        "<IPython.core.display.HTML at 0x7fa66aea4198>"
       ]
      },
      {
       "html": [
        "<p class=\"mt\">Sin egen herre \u2013 Halld\u00f3r Laxness (1934)</p>\n",
        "<p class=\"txt\">Laxness oppdaget jeg altfor sent, for fire-fem \u00e5r siden. Jeg hadde bare h\u00f8rt om ham som islandsk kommunist, og jeg er jo antikommunist. Skj\u00f8nnlitteratur overrasker meg sjeldnere og sjeldnere, men dette er en helt fantastisk bok! Sterk, gripende og <i>meget</i> depressiv. Han beskriver Island p\u00e5 begynnelsen av det forrige \u00e5rhundre, et samfunn preget av ekstrem fattigdom og elendige livsforhold. Det er en menneskelig tragedie som tar tak i deg og drar deg ned i de store dypene. Bare to ganger i l\u00f8pet av lesingen var jeg oppe og snappet luft. Jeg ble f\u00f8lelsesmessig utmattet av \u00e5 lese denne boken \u2013 alt g\u00e5r galt hele tiden, nesten som i norsk landbruk. Denne boken tror jeg at jeg brukte et halvt \u00e5r p\u00e5, faktisk, for \u00e5 f\u00e5 overskudd til \u00e5 g\u00e5 videre.</p>\n",
        "<p class=\"mt\">Br\u00f8drene Karamasov \u2013 Fjodor Dostojevskij (1880)</p>\n",
        "<p class=\"txt\">Dette er verdens beste roman! Jeg er egentlig ikke s\u00e5 glad i krim, men har du lest denne, orker du ikke Nesb\u00f8. Boken er superspennende, med fantastiske person- og moralskildringer. Den beste m\u00e5ten \u00e5 forst\u00e5 menneskene er gjennom skj\u00f8nnlitteratur. Dostojevskij var s\u00e5 opptatt av at menneskene skulle gj\u00f8re det rette, og denne handler om Gud som veileder i menneskenes liv. Br\u00f8drene Karamasov burde inn p\u00e5 pensumlistene p\u00e5 all verdens universiteter, men den tar tid \u00e5 lese. Hvis du sluker denne s\u00e5 mister du alle lekkerbiskenene. Du skal ikke lese for \u00e5 <i>sluke</i>, men for \u00e5 se hva du kan <i>bruke</i>, ikke sant.</p>\n",
        "<p class=\"mt\">De nasjonale strateger \u2013 Rune Slagstad (1998)</p>\n",
        "<p class=\"txt\">Rune er flink, han! Denne boken er en fantastisk skildring av Norges historie fra 1814 og fremover, med menneskene som skapte samtiden i sentrum. Boken er sv\u00e6rt godt skrevet og <i>ekstremt</i> innsiktsfull. Jeg er veldig interessert i historie, spesielt menneskerettigheter. Boken minnet meg p\u00e5 min studietid da jeg jobbet for en organisasjon som het Nye S\u00f8nner av Sovjet. Vi reiste som spioner og delte ut bibelen, dollar og kodede beskjeder til russiske opposisjonelle. S\u00e5 da muren falt var jo det f\u00f8rst og fremst takket v\u00e6re min innsats i studietiden, hehe. Karakterkortet mitt var kanskje ikke det mest imponerende, men jeg kunne jo ikke lese \u00f8konomi hele tiden.</p>\n",
        "<p class=\"mt\">Anna Karenina - Lev Tolstoj (1878)</p>\n",
        "<p class=\"txt\">En enest\u00e5ende kj\u00e6rlighetsroman. Dypest sett handler all stor romankunst om kj\u00e6rlighet. Det er ingenting som er st\u00f8rre enn kj\u00e6rlighet, og ingen formidler det bedre enn Tolstoj i <i>Anna Karenina</i>. Denne leste jeg rett etter jeg hadde m\u00f8tt min n\u00e5v\u00e6rende kone, Margrethe, november 1998. S\u00e5 det passet perfekt \u00e5 lese den da. Min kone har forresten sagt til meg at jeg ikke f\u00e5r lov til \u00e5 kj\u00f8pe flere b\u00f8ker, fordi vi drukner i dem. Derfor hadde jeg forleden bokb\u00e5l med alle b\u00f8kene mine fra Handelsh\u00f8yskolen. Det var helt problemfritt, jeg er ikke sentimental. \u00d8konomifaget har kommet langt siden syttitallet. Vi hadde ikke plass til dem mer, s\u00e5 da brant jeg hele dritten.</p>\n",
        "<p class=\"mt\">Yahya Hassan \u2013 Yahya Hassan (2013)</p>\n",
        "<p class=\"txt\">Av og til m\u00e5 en innvandrer si det selv. Ved \u00e5 skildre sin egen far og sin egen familie, beskriver Hassan islam p\u00e5 sitt verste: En undertrykkende, middelaldersk kultur midt i K\u00f8benhavn. I Norge kan du ikke si mye spisset om innvandringsproblematikk f\u00f8r du blir stemplet som rasist. Jeg beundrer danskene som kan ha et s\u00e5 fritt ordskifte rundt vanskelige problemer i samfunnet. Jeg elsker \u00e5 diskutere \u2013 vi trenger debatt for \u00e5 fremme motforestillinger og kritisk tenkning. Det kan v\u00e6re vonde prosesser, fordi man av og til m\u00e5 gi opp egne oppfatninger. Slik jeg oppfatter det er dagens studenter mindre i opposisjon mot autoriteter enn f\u00f8r. Det bekymrer meg. De er blitt lydige.</p>\n",
        "<p class=\"mt\">Sannheten p\u00e5 bordet \u2013 Niels Christian Geelmuyden (2013)</p>\n",
        "<p class=\"txt\">Denne er det min yngste bror som har skrevet. Det er en fantastisk bra bok med et sv\u00e6rt grundig kildearbeid! Niels Christian skildrer norsk matproduksjon gjennom et globalt bakgrunnsteppe og hvordan vi fors\u00f8pler kroppen v\u00e5r med skitten mat. Temaet er meget tankevekkende for meg som har s\u00e5 mye ugjort. Jeg h\u00e5per \u00e5 bli minst 120 \u00e5r, s\u00e5 n\u00e5 legger jeg om dietten til kompost og alger.</p>"
       ],
       "metadata": {},
       "output_type": "display_data",
       "text": [
        "<IPython.core.display.HTML at 0x7fa66aea4198>"
       ]
      },
      {
       "html": [
        "<p class=\"txt\">Universitas er Norges st\u00f8rste og eldste studentavis. Avisa har et opplag p\u00e5 17 000 og utgis hver uke i v\u00e5r- og h\u00f8stsemesteret. Redaksjonen best\u00e5r av rundt 40 medarbeidere.</p>\n",
        "<p class=\"txt\">Universitas er en ung og dynamisk mediebedrift med et kreativt og sosialt milj\u00f8. Vi s\u00f8ker en strukturert, l\u00f8sningsorientert og ryddig person. Du m\u00e5 ogs\u00e5 gjerne v\u00e6re utadvendt, \u00e5pen og kreativ.</p>\n",
        "<p class=\"txt\">Daglig leder skal ivareta og utvikle de administrative og \u00f8konomiske rutinene i Universitas, samt lede og st\u00f8tte annonseansvarlig i dennes arbeid. Daglig leder har ansvar for \u00e5 ha oversikt og kontroll med organisasjonens \u00f8konomi b\u00e5de p\u00e5 budsjett- og regnskapssiden.</p>\n",
        "<p class=\"txt\">Han/hun har ansvar for det tekniske utstyret, eventuelle investeringer, og for inntjening.</p>\n",
        "<p class=\"txt\">Daglig leder er ogs\u00e5 administrativt ansvarlig for avl\u00f8nning, og for \u00e5 f\u00f8lge opp arbeidsgiveransvar.</p>\n",
        "<p class=\"txt\">I stillingen ligger ogs\u00e5 et visst system-, program og driftsansvar for Universitas' data/IT-utstyr, samt</p>\n",
        "<p class=\"txt\">oversikt over og pleie av distribusjonsapparat og abonnenter.</p>\n",
        "<p class=\"txt\">Daglig leder kan ogs\u00e5 gjerne jobbe med synliggj\u00f8ring av Universitas som merkevare.</p>\n",
        "<p class=\"txt\">Stillingen krever h\u00f8yere utdannelse fra universitet/h\u00f8gskole og/eller relevant praksis fra regnskapsarbeid og \u00f8konomistyring. Videre er det \u00f8nskelig med praksis fra annet administrativt arbeid og kontorledelse. Det er en fordel med grunnleggende kunnskap om informasjonsarbeid,</p>\n",
        "<p class=\"txt\">data/IT og organisasjonsarbeid.</p>\n",
        "<p class=\"txt\">Stillingen er en 3-\u00e5rig \u00e5rem\u00e5lsstilling.</p>\n",
        "<p class=\"txt\">Startl\u00f8nn er l\u00f8nnstrinn 35, med en \u00f8kning p\u00e5 ett l\u00f8nnstrinn per \u00e5r i perioden p\u00e5 3 \u00e5r. Arbeidstiden er sv\u00e6rt fleksibel.</p>\n",
        "<p class=\"txt\">Tiltredelse:  1. august.</p>\n",
        "<p class=\"txt\">S\u00f8knad med CV sendes til:</p>\n",
        "<p class=\"txt\">Universitas v/ styreleder Espen Langbr\u00e5ten Wilberg</p>\n",
        "<p class=\"txt\">Postboks 89, Blindern</p>\n",
        "<p class=\"txt\">0314 Oslo</p>\n",
        "<p class=\"txt\">eller p\u00e5 epost:</p>\n",
        "<p class=\"txt\">espenlw@student.sv.uio.no med kopi til monicrei@universitas.no</p>\n",
        "<p class=\"txt\"><b>S\u00f8knaden m\u00e5 v\u00e6re Universitas i hende senest tirsdag 10. juni.</b></p>\n",
        "<p class=\"txt\">Sp\u00f8rsm\u00e5l om stillingen kan rettes til:</p>\n",
        "<p class=\"txt\">styreleder Espen Langbr\u00e5ten Wilberg (tlf: 977 81 819)</p>\n",
        "<p class=\"txt\">eller daglig leder Monica Reigstad (tlf: 930 30 437)</p>"
       ],
       "metadata": {},
       "output_type": "display_data",
       "text": [
        "<IPython.core.display.HTML at 0x7fa66aea4198>"
       ]
      },
      {
       "html": [
        "<p class=\"bt\"><b>Klapp meg!: </b>Ved Universitetet i Leicester f\u00e5r studentene et noe usedvanlig tilbud for \u00e5 roe ned eksamensnervene.</p>\n",
        "<p class=\"mt\">F\u00f8lte seg mobbet under tiden som prorektor</p>\n",
        "<p class=\"txt\">Prorektor Ruth Fjeld leverte sin avskjed i april etter \u00e5 ha f\u00f8lt seg frosset ut av de andre i rektorkollegiet.</p>\n",
        "<p class=\"txt\">Fredag skriver Klassekampen at Ottersen ville unng\u00e5 nyvalg ved \u00e5 be Fjeld si \u00abminst mulig\u00bb om sin egen avgang. http://klassekampen.no/article/20140523/ARTICLE/140529979</p>\n",
        "<p class=\"txt\">\u2013 Jeg ble fratatt alle de viktigste oppgavene, og avgj\u00f8relser ble tatt n\u00e5r jeg ikke var til stede, sier Fjeld til avisa. Hun opplevde det som mobbing.</p>\n",
        "<p class=\"txt\">Universitetets rektor skal ha lagt stor vekt p\u00e5 at den offisielle begrunnelsen m\u00e5tte v\u00e6re at hun trakk seg av \u00abpersonlige grunner\u00bb, og nettopp dette kom frem i pressemeldingen fra ledelsen to uker senere.</p>\n",
        "<p class=\"txt\">I en mailkorrespondanse mellom Fjeld og Ottersen som Klassekampen har f\u00e5tt tilgang til, g\u00e5r det fram at rektoren ga klar beskjed til sin avtroppende prorektor om hvordan han \u00f8nsket at denne saken skulle presenteres n\u00e5r den kom til styrebehandling den 6. mai.</p>\n",
        "<p class=\"txt\">Fjeld mener Ottersen pr\u00f8vde \u00e5 gi henne munnkurv overfor eget styre. Rektor Ole Petter Ottersen benekter \u00e5 ha fors\u00f8kt \u00e5 p\u00e5legge Fjeld munnkurv.</p>\n",
        "<p class=\"txt\">\u2013 Fjeld var til stede under styrets behandling av saken. Hun hadde mulighet til \u00e5 ta ordet, noe hun valgte \u00e5 ikke gj\u00f8re, skriver Ottersen.</p>\n",
        "<p class=\"txt\">Universitas' journalist Eirik Billings\u00f8 Elvevold kritiserte denne uka rektor ved Universitetet i Oslo (UiO) Ole Petter Ottersen, og krevde nyvalg etter at Ruth Vatvedt Fjeld trakk seg fra stillingen som prorektor tidligere i mai. http://universitas.no/kommentar/59509/nyvalg-na-</p>\n",
        "<p class=\"txt\">I g\u00e5r skrev Universitas at studentpolitikerne ved UiO krever nyvalg av rektor og prorektor i kj\u00f8lvannet av prorektor-saken.</p>\n",
        "<p class=\"txt\">\u2013 Vi \u00f8nsker en samlet valgt ledelse, og det har vi ikke i dag, sa leder av Studentparlamentet ved UiO, Gabrielle Gjerdset.</p>\n",
        "<p class=\"mt\">Kun \u00e9n av fire studenter for f\u00e5r ekstern sensur</p>\n",
        "<p class=\"txt\">Ikke alle studentene ved H\u00f8gskolen i Oslo og Akershus (HiOA) f\u00e5r sin eksamen vurdert av to sensorer, enda det bryter med skolens eksamensforskrift.</p>\n",
        "<p class=\"txt\">F\u00f8rsteamanuensis Jens Petter Berg ved instituttet mener at denne praksisen er faglig uforsvarlig.</p>\n",
        "<p class=\"txt\">Eksamensforskriften ved HiOA sier at hovedregelen skal v\u00e6re to sensorer b\u00e5de ved muntlig og skriftlig eksamen. I dag er det likevel en utbredt praksis p\u00e5 H\u00f8gskolen at de fleste besvarelsene p\u00e5 eksamen bare vurderes av \u00e9n sensor, skriver nettavisen Khrono (http://khrono.no/2014/05/bare-en-fjerdedel-far-eksern-sensur).</p>\n",
        "<p class=\"txt\">P\u00e5 Institutt for offentlig administrasjon og velferdsfag blir bare 25 prosent av besvarelsene sendt til ekstern sensor.</p>\n",
        "<p class=\"txt\">Studiedirekt\u00f8r Marianne Brattland sier at h\u00f8gskolen ikke kan se bort fra at det er en \u00f8konomisk vurdering knyttet til valg av ordning for ekstern sensor.</p>\n",
        "<p class=\"txt\">\u2013 I 2012 hadde vi om lag 90 000 ulike eksamensbesvarelser ved HiOA, og da sier det seg selv at kostnadsbildet vil bli vesentlig endret dersom man utvider bruken av ekstern sensor, sier Brattland til Khrono.</p>\n",
        "<p class=\"txt\">I 2013 hadde HiOA samlet 13,3 millioner kroner i utgifter til sensur, viser en oversikt fra \u00f8konomiavdelingen.</p>\n",
        "<p class=\"txt\">Brattland forteller at studieadministrasjonen har dr\u00f8ftet saken internt og planlegger \u00e5 legge fram en sak for det sentrale studieutvalget om vurdering og karaktersetting rett over sommeren.</p>\n",
        "<p class=\"mt\">Bergen-studenter brakte solkraft til Etiopia</p>\n",
        "<p class=\"txt\">130 husstander, en skole og en helsestasjon i Etiopia har f\u00e5tt str\u00f8m for f\u00f8rste gang, takket v\u00e6re to studenter fra H\u00f8gskolen i Bergen.</p>\n",
        "<p class=\"txt\">Benjamin Sl\u00e5ttli og Esays Mehari har jobbet gjennom hele studietiden mot m\u00e5let om \u00e5 forsyne en etiopisk landsby med solenergi. Dette m\u00e5let har studentene endelig n\u00e5dd, skriver Bergen Tidende (BT).</p>\n",
        "<p class=\"txt\">http://www.bt.no/nyheter/lokalt/Med-solkraft-fra-Bergen-3121089.html#.U33kZS9WsbO</p>\n",
        "<p class=\"txt\">I april bodde Sl\u00e5ttli og Mehari tre uker i Becho for \u00e5 installere solceller og l\u00e6re opp lokalbefolkningen i bruk av solenergi.</p>\n",
        "<p class=\"txt\">\u2013 Det avgj\u00f8rende for oss var ikke bare \u00e5 levere str\u00f8m, men ogs\u00e5 \u00e5 dele kunnskapen vi har fra H\u00f8gskolen, sier Mehari, som forteller at de l\u00e6rte opp seks lokale studenter om teori og praksis. Disse studentene er n\u00e5 godt utrustet til \u00e5 ta h\u00e5nd om systemet, enda de bare har grunnskoleutdanning.</p>\n",
        "<p class=\"txt\">Sl\u00e5ttli og Mehari la stor vekt p\u00e5 at systemet de bygget opp skal v\u00e6re mulig \u00e5 holde ved like av de som bruker det, og at reservedeler er lokalt tilgjengelige til en overkommelig pris.</p>\n",
        "<p class=\"txt\">En grundig kartlegging av \u00f8konomiske og sosiale tilstander i Becho viste at folk i Becho hadde</p>\n",
        "<p class=\"txt\">Instituttleder Nils Otto Antonsen h\u00e5per dette prosjektet vil v\u00e6re til inspirasjon for andre.</p>\n",
        "<p class=\"txt\">\u2013 Vi \u00f8nsker at v\u00e5re studenter skal rette blikket ut forbi Norge sine grenser. D\u00e5rlig tilgang p\u00e5 energi er et stort problem mange steder, og tilgang p\u00e5 billig og fornybar energi er en forutsetning for b\u00e6rekraftig utvikling, sier Antonsen.</p>\n",
        "<p class=\"txt\">Hvilke f\u00f8lger prosjektet f\u00e5r vil vise seg om fem \u00e5r, n\u00e5r Sl\u00e5ttli og Esays skal tilbake for \u00e5 se hvordan det har g\u00e5tt.</p>\n",
        "<p class=\"mt\">Tyr til alternativ lindring av eksamensstress</p>\n",
        "<p class=\"txt\">Studentforbundet ved Universitetet i Leicester har planlagt \u00abbobleplast-stasjoner\u00bb, hvor studenter kan f\u00e5 avspenning ved \u00e5 poppe innpakningsmaterialet.</p>\n",
        "<p class=\"txt\">Det vil ogs\u00e5 v\u00e6re mulighet for \u00e5 klappe hundevalper for \u00e5 roe ned stressede studenter, skriver BBC News.  http://www.bbc.com/news/education-27469803</p>\n",
        "<p class=\"txt\">\u2013 Mental helse skal v\u00e6re h\u00f8yt prioritert under eksamen, og vi vet hvor stressende denne tiden kan v\u00e6re, forklarer Michael Rubin, leder ved universitets studentforbund, til BBC.</p>\n",
        "<p class=\"txt\">Studentene mener at tilfredstillelsen av \u00e5 poppe bobleplast fungerer bedre enn meditasjon og yoga.</p>\n",
        "<p class=\"txt\">Det er ikke det f\u00f8rste universitetet som setter i gang utradisjonelle metoder for \u00e5 oppn\u00e5 stressmestring. Forrige uke satte Universitetet Bath Spa i England opp en dyrehage utenfor biblioteket, hvor studenter blant annet kunne klappe geiter og mate ender. P\u00e5 Universitetet i Canberra, Australia kunne studentene gj\u00f8re det samme med grisunger og lam.</p>\n",
        "<p class=\"txt\">Ikke alle synes at universitetenes metoder for stresslindring er positive. Dyrerettighetsorganisasjonen PETA mener at dyrene ikke har godt av \u00e5 reise mye og v\u00e6re innesperret, og anbefaler heller hoppeslott og ryggmassasje som alternative muligheter.</p>\n",
        "<p class=\"txt\">Et universitet i Missouri opplevde for \u00f8vrig at dyrehage-prosjektet ble problematisk p\u00e5 andre m\u00e5ter, da en bj\u00f8rnunge bet en student som ville klappe den.</p>\n",
        "<p class=\"txt\"><i>universitas@universitas.no</i></p>"
       ],
       "metadata": {},
       "output_type": "display_data",
       "text": [
        "<IPython.core.display.HTML at 0x7fa66aea4198>"
       ]
      },
      {
       "html": [
        "<p class=\"txt\">Med balkongd\u00f8ren p\u00e5 gl\u00f8tt var s\u00e5 godt som alle studentpolitikere ved Universitetet i Oslo samlet p\u00e5 Villa Eika i dag.</p>\n",
        "<p class=\"txt\">Etter initiativ fra studentene selv, ble det avholdt et ekstraordin\u00e6rt m\u00f8te ang\u00e5ende prorektor-saken (se faktaboks).</p>\n",
        "<p class=\"txt\"><b>I dag ble det kjent at en samlet studentmasse ved Universitetet i Oslo krever nyvalg av rektor og prorektor, i kj\u00f8lvannet av prorektor-saken.</b></p>\n",
        "<p class=\"mt\">\u2013 Arrogant</p>\n",
        "<p class=\"txt\">Leder av Studentparlamentet ved Universitetet i Oslo, Gabrielle Gjerdset mener nyvalg er det riktige \u00e5 gj\u00f8re.</p>\n",
        "<p class=\"txt\">\u2013 Det er viktig ikke \u00e5 b\u00f8ye spilleregler p\u00e5 grunn av praktiske hensyn. Vi \u00f8nsker en samlet, valgt ledelse, og det har vi ikke i dag, sier Gjerdset til Universitas.</p>\n",
        "<p class=\"txt\">P\u00e5 m\u00f8tet var Studentparlamentet i sin helhet representert, og alle studentutvalgene ved UiOs fakulteter, med unntak av odontologisk fakultet og juridisk. Juridisk fakultets studentutvalg har imidlertid p\u00e5 forh\u00e5nd varslet at de st\u00f8tter kravet om nyvalg.</p>\n",
        "<p class=\"txt\">\u2013 Det er arrogant av universitetsstyret, \u00e5 se bort fra demokratiske prinsipper, mener SP-leder Gjerdset.</p>\n",
        "<p class=\"mt\">\u2013 Ekstra aktuelt \u00e5 fremme kravet tydelig</p>\n",
        "<p class=\"txt\">Da saken om nyvalg var oppe i universitetsstyret, var det kun studentrepresentantene i styret, Eva Holte Enoksen og \u00c5dne Hindenes, som stemte mot \u00e5 droppe nytt valg av rektor og prorektor.</p>\n",
        "<p class=\"txt\">Det er i etterkant av at Fjeld trakk seg, v\u00e6rt flere presseoppslag knyttet til hennes avgang.</p>\n",
        "<p class=\"txt\"><a href=\\\u00bbhttp://universitas.no/nyhet/59471/-et-tegn-pa-at-valgets-tid-er-over-pa-universitetet\\\u00bb>I Universitas har flere studentpolitikere uttrykt seg kritisk til at det ikke ble foretatt et nyvalg.</a></p>\n",
        "<p class=\"txt\">N\u00e5 stiller en samlet UiO-studentmasse seg bak studentrepresentantene i styret.</p>\n",
        "<p class=\"txt\">\u2013 Grunnen til at det har kommet opp n\u00e5 er at flere studentutvalg ville gj\u00f8re en st\u00f8rre sak ut av det, samt at saken har blusset opp de siste dagene, sier Gjerdset.</p>\n",
        "<p class=\"txt\">Senest i g\u00e5r <a href=\\\u00bbhttp://klassekampen.no/article/20140522/ARTICLE/140529984\\\u00bb>skrev Klassekampen om Ruth Fjeld, som f\u00f8lte seg presset ut av jobben.</a></p>\n",
        "<p class=\"txt\">\u2013 N\u00e5r det n\u00e5 i tillegg er uklarhet rundt \u00e5rsakene rundt avgangen til Fjeld er det ekstra aktuelt \u00e5 fremme kravet tydelig, mener Gjerdset.</p>\n",
        "<p class=\"mt\">Sender brev</p>\n",
        "<p class=\"txt\">I tiden fremover \u00f8nsker derfor listene ved Studentparlamentet og studentutvalgene ved fakultetene at saken tas opp p\u00e5 nytt i styret.</p>\n",
        "<p class=\"txt\">De vil sende et brev til rektoratet der de ber om at saken m\u00e5 p\u00e5 agendaen igjen.</p>\n",
        "<p class=\"txt\">Det er ledelsen i styret, alts\u00e5 rektoratet, som bestemmer hva som skal tas opp p\u00e5 styrem\u00f8tene.</p>"
       ],
       "metadata": {},
       "output_type": "display_data",
       "text": [
        "<IPython.core.display.HTML at 0x7fa66aea4198>"
       ]
      },
      {
       "html": [
        "<p class=\"fak1\">Kj\u00f8r pent</p>\n",
        "<p class=\"fak2\">Av: Erik de Torres</p>\n",
        "<p class=\"fak2\">Plateselskap: Siste Steg</p>\n",
        "<p class=\"txt\">Erik de Torres har lenge v\u00e6rt kjent i rap-undergrunnen, og har de siste \u00e5rene etablert seg p\u00e5 live-scenen med konserter p\u00e5 store festivaler som Norwegian Wood og Slottsfjell. Han har ogs\u00e5 v\u00e6rt \u00e5 se p\u00e5 langt mindre scener som kjellern p\u00e5 Eilert Sundts hus p\u00e5 Blindern. Med plata <I>Kj\u00f8r Pent</I> skal endelig de Torres ogs\u00e5 befeste sin posisjon som en artist man lytter p\u00e5 innenfor husets fire vegger. Men fors\u00f8ket forblir et fors\u00f8k.</p>\n",
        "<p class=\"txt\">N\u00e5r han n\u00e5 debuterer med sitt f\u00f8rste album der han rapper p\u00e5 norsk, er de Torres tydelig inspirert av vestkyst-rappens renessanse med Kendrick Lamar og resten av TDE-kollektivet i spissen. B\u00e5de produksjonen og flowen b\u00e6rer preg av en artist som \u00f8nsker \u00e5 la tekst og stil prege plata. Det er derfor synd at l\u00e5tene ikke leverer p\u00e5 niv\u00e5 med inspirasjonskildene.</p>\n",
        "<p class=\"txt\">Tekstene tar oss med p\u00e5 turer inn i hovedstadens m\u00f8rke kriker og kroker. Han rapper om oppvekst, filosoferer og bruker det norske spr\u00e5ket til \u00e5 male et dystert bilde av tilstanden i velferdsstaten. Det er en kontrast og spenning i sounden til De Torres som gj\u00f8r at det h\u00f8res unorsk ut, samtidig som tematikken og spr\u00e5ket \u00e5penbart er norsk, noe som fungerer godt n\u00e5r han treffer.</p>\n",
        "<p class=\"txt\">P\u00e5 sitt beste er plata med sporene \u00abMere meg\u00bb og \u00abH\u00f8r H\u00f8r\u00bb suggerende, fengende og bringer tilbake det beste fra 90-tallet. Men h\u00f8ydepunktene er for sjeldne. Mange av l\u00e5tene er glemt s\u00e5 fort de fader ut, selv om tekstene og flowen til De Torres redder noe av de basstunge, monotone og litt for ofte kjedelige beatsa som preger plata. Dessverre sitter man som lytter igjen med inntrykket av en ujevn plate, og en artist som bare er p\u00e5 vei til \u00e5 finne sin plass p\u00e5 den norske rap-scenen.</p>"
       ],
       "metadata": {},
       "output_type": "display_data",
       "text": [
        "<IPython.core.display.HTML at 0x7fa66aea4198>"
       ]
      },
      {
       "html": [
        "<p class=\"txt\">For deg som tenker at \u00abUltimate Circle\u00bb kommer til \u00e5 bli akkurat s\u00e5nn som sirkeltreningen i gymtimen p\u00e5 ungdomsskolen: du kommer til \u00e5 f\u00e5 deg en real overraskelse.</p>\n",
        "<p class=\"txt\">Allerede etter oppvarminga er pulsen s\u00e5 h\u00f8y at du holder p\u00e5 \u00e5 besvime. Mens du heller innp\u00e5 med vann og peser for harde livet, blir du presentert for de \u00e5tte forskjellige styrke\u00f8velsene som inng\u00e5r i sirkeltreningen. Kroppen skal settes ordentlig p\u00e5 pr\u00f8ve, b\u00e5de n\u00e5r det kommer til styrke, spenst og hurtighet. Du begynner \u00e5 angre p\u00e5 at du meldte deg p\u00e5.</p>\n",
        "<p class=\"txt\">TINGODe f\u00f8rste \u00f8velsene g\u00e5r rimelig greit. Mestringsf\u00f8lelsen er p\u00e5 topp, helt til du ankommer stasjonen hvor du skal ta push-ups og spretthopp om hverandre. Det h\u00f8res g\u00f8y ut, tenker du, men det er det alts\u00e5 ikke. Det svir i alle ledd, og du m\u00e5 jobbe hardt med psyken for \u00e5 klare \u00e5 gjennomf\u00f8re. Idet du setter i gang \u00f8velsen med diagonale l\u00f8ft, forteller instrukt\u00f8ren at du er halvveis. Du puster lettet ut. <i>Snart ferdig</i>.  De resterende \u00f8velsene er dessverre ikke noe lettere. Flere spensthopp venter, samt sit-ups og push-ups. Siste post er spurt. Beina f\u00f8les tunge som bly, du gisper etter luft og det prikker i \u00f8ynene.</p>\n",
        "<p class=\"txt\">Runde en er over. <i>Vent litt, runde \u00e9n?!</i> Det stemmer. \u00d8velsene skal gjentas to ganger til.</p>\n",
        "<p class=\"txt\">TINGODenne timen er like krevende for psyken som den er for kroppen. Du er livredd for ikke \u00e5 fullf\u00f8re, men i det du setter i gang med siste runde, har overlevelsesinstinktet kicket inn for fullt. Du tenker ikke lenger over hva det er du faktisk driver med \u2013 du bare gj\u00f8r noe, og h\u00e5per at det snart skal ta slutt. Mannen p\u00e5 gruppa di forteller deg andpusten at de f\u00f8rste gangene alltid er verst, men at det blir bedre etter hvert. Du fnyser og tenker at du aldri skal tilbake.</p>\n",
        "<p class=\"txt\">TINGODe neste dagene kommer du til \u00e5 ha problemer med \u00e5 reise deg, sette deg og \u00e5 g\u00e5. Du kommer til \u00e5 f\u00f8le deg banket. Men det eneste du klarer \u00e5 tenke p\u00e5 er at du skal gj\u00f8re dette igjen, og igjen og igjen \u2013 helt til det g\u00e5r fra helvete til velbehag. Du skylder kroppen din s\u00e5pass.</p>"
       ],
       "metadata": {},
       "output_type": "display_data",
       "text": [
        "<IPython.core.display.HTML at 0x7fa66aea4198>"
       ]
      },
      {
       "html": [
        "<p class=\"txt\">\u2013 Sosiale medier konserverer gamle vennskap lenger enn det som ellers ville v\u00e6rt naturlig.</p>\n",
        "<p class=\"txt\">Det forteller professor ved Institutt for sosiologi og statsvitenskap p\u00e5 Norges teknisk-naturvitenskapelige universitet (NTNU) i Trondheim, Aksel Tjora. I h\u00f8st gjennomf\u00f8rte han en studie hvor 14 kvinner og menn i alderen 21\u201329 \u00e5r skulle klare seg i tre uker uten Internett.</p>\n",
        "<p class=\"txt\">\u2013 Sosiale medier gjorde at de opprettholdt kontakt med for eksempel gamle klassekamerater som de ikke lenger bodde i n\u00e6rheten av. Det var folk de ikke hadde fysisk kontakt med og som det ikke var naturlig \u00e5 ringe til, forteller Tjora.</p>\n",
        "<p class=\"txt\">Uten Facebook og andre sosiale medier, ble de \u00abtvunget\u00bb ut i fellesarealene i kollektivet sitt, og flere av deltakerne begynte \u00e5 g\u00e5 turer eller dra p\u00e5 kaf\u00e9, i stedet for \u00e5 dra hjem p\u00e5 ettermiddagene. Professoren mener det er grunn til \u00e5 si at sosiale medier gj\u00f8r oss mindre sosiale i den fysiske verden.</p>\n",
        "<p class=\"txt\">\u2013 De sosiale mediene gj\u00f8r at man ofte ikke g\u00e5r ut og treffer og forholder seg fysisk til folk, sier han.</p>\n",
        "<p class=\"txt\">Og det at man kan opprettholde kontakten med folk man egentlig ikke har s\u00e5 mye med \u00e5 gj\u00f8re lenger, at vennskap konserveres, kan g\u00e5 utover nye bekjentskaper. Dette kan v\u00e6re spesielt viktig \u00e5 tenke p\u00e5 for nye studenter som kanskje har flyttet til en helt ny by, mener Tjora.</p>\n",
        "<p class=\"mt\">Glemte Facebook etter f\u00e5 dager</p>\n",
        "<p class=\"txt\">Selv om de aller fleste av deltakerne til vanlig var aktive p\u00e5 sosiale medier, mener Tjora det er \u00e5 strekke det for langt \u00e5 snakke om avhengighet.</p>\n",
        "<p class=\"txt\">\u2013 Det viste seg at de i l\u00f8pet av tre til fem dager n\u00e6rmest glemte Facebook og den type ting, forteller han.</p>\n",
        "<p class=\"txt\">Han sier at vi kanskje oppfatter oss selv og andre som avhengige i hverdagen, men at savnet g\u00e5r ganske raskt over n\u00e5r vi f\u00f8rst er avlogget i en lengre periode.</p>\n",
        "<p class=\"txt\">Deltakerne ble intervjuet jevnlig gjennom studien, ogs\u00e5 etter at de kunne logge seg p\u00e5 nett igjen.</p>\n",
        "<p class=\"txt\">\u2013 Det f\u00f8rste de sjekket var e-post og Facebook, som regel i den rekkef\u00f8lgen. P\u00e5 Facebook s\u00e5 de at det stort sett ikke var noe viktig de hadde g\u00e5tt glipp av, forteller Tjora.</p>\n",
        "<p class=\"txt\">Testpersonene hadde p\u00e5 forh\u00e5nd varslet venner og familie, og stolte p\u00e5 at de ville si fra om det dukket opp noe viktig. Men \u00e9n ting savnet de: bursdagsp\u00e5minnelsene p\u00e5 Facebook.</p>\n",
        "<p class=\"mt\">Bedre konsentrasjon</p>\n",
        "<p class=\"txt\">Det vanskeligste for deltakerne var at de ikke kunne gj\u00f8re alle de sm\u00e5 tingene de til vanlig gjorde p\u00e5 smarttelefonene sine: \u00e5 sjekke busstider, Wikipedia eller \u00e5 melde seg p\u00e5 treningstimer.</p>\n",
        "<p class=\"txt\">\u2013 \u00c9n snakket om at han fikk litt fysisk vondt. Han refererte til refleksbevegelsen ved \u00e5 skulle plukke opp mobilen for \u00e5 sjekke noe. \u00c5 m\u00e5tte stoppe armen fordi han gjorde det automatisk \u2013 det var den typer sm\u00e5ting i hverdagen som var verst, forteller Tjora.</p>\n",
        "<p class=\"txt\">Men det \u00e5 ikke kunne gj\u00f8re sm\u00e5ting p\u00e5 telefonen i tide og utide, har ogs\u00e5 sine positive sider.</p>\n",
        "<p class=\"txt\">\u2013 De ble veldig mye flinkere til \u00e5 konsentrere seg. Det at de ikke satt med nettbrettet eller telefonen rett ved siden av pensumb\u00f8kene, gjorde at de holdt konsentrasjonen lenger, sier professoren.</p>\n",
        "<p class=\"txt\">Den \u00f8kte effektiviteten gjorde ogs\u00e5 at de frigjorde mer tid til andre ting. Noen trente mer, noen begynte \u00e5 g\u00e5 turer og ei leste fire romaner i l\u00f8pet av perioden.</p>\n",
        "<p class=\"txt\">\u2013 Hun hadde ikke lest en eneste roman siden hun gikk p\u00e5 videreg\u00e5ende, forteller Tjora.</p>\n",
        "<p class=\"tit\">Ingen vet hvor Facebook hopper</p>\n",
        "<p class=\"txt\">Facebook, Twitter, Instagram. I dag har vi et mylder av sosiale medier \u00e5 forholde oss til, men ingen kan med sikkerhet si hvordan situasjonen er om ti \u00e5r.</p>\n",
        "<p class=\"txt\">\u2013 Det er ikke gitt at de mediene vi har i dag vil v\u00e6re der om ti \u00e5r, men det er ganske gitt at det vil v\u00e6re nettkommunikasjon og at den vil utvikles videre, forteller Eli Skogerb\u00f8, professor ved Institutt for medier og kommunikasjon p\u00e5 Universitetet i Oslo (UiO).</p>\n",
        "<p class=\"txt\">Hun forsker blant annet p\u00e5 sosiale medier, medieutvikling og innovasjon.</p>\n",
        "<p class=\"txt\">Hvis vi ser ti \u00e5r tilbake i tid, s\u00e5 netthverdagen ganske annerledes ut enn den gjorde i dag.</p>\n",
        "<p class=\"txt\">\u2013 For ti \u00e5r siden hadde Facebok akkurat blitt lansert (se faktaboks), men det var ikke noe mange kjente til. Men det var jo andre sosiale medier, som for eksempel Nettby og MySpace. Selve ideen om sosiale nettverkssteder hadde kommet, forteller Skogerb\u00f8.</p>\n",
        "<p class=\"txt\">I dag har mellom 70 og 80 prosent av Norges befolkning en Facebook-konto, og gjennomsnittsalderen p\u00e5 brukerne har rukket \u00e5 bli ganske h\u00f8y.</p>\n",
        "<p class=\"txt\">Facebook ble lansert i 2004 og har over 1 milliard m\u00e5nedlige brukere.</p>\n",
        "<p class=\"txt\">Twitter ble lansert i 2006 og har over 255 millioner m\u00e5nedlige brukere.</p>\n",
        "<p class=\"txt\">Instagram ble lansert i 2010 og har over 200 millioner m\u00e5nedlige brukere.</p>\n",
        "<p class=\"txt\">Sosiale medier kan defineres gjennom at de er nettbaserte, organisert som nettverk og mer eller mindre \u00e5pne og tilgjengelige for folk flest</p>"
       ],
       "metadata": {},
       "output_type": "display_data",
       "text": [
        "<IPython.core.display.HTML at 0x7fa66aea4198>"
       ]
      },
      {
       "html": [
        "<p class=\"txt\">Naturhistorisk museum tapte kampen om plasseringen av Universitetet to ganger. N\u00e5 h\u00e5per museet som feirer 200 \u00e5r \u00e5 kunne l\u00f8fte T\u00f8yen-omr\u00e5det en gang for alle.</p>\n",
        "<p class=\"txt\">Jubileum</p>\n",
        "<p class=\"txt\">V\u00e5rsolen titter frem mellom skyene p\u00e5 Botanisk hage, en del av Naturhistorisk museum (NHM). Her p\u00e5 T\u00f8yen finner vi den eneste forskningsinstitusjonen i hovedstaden som er eid av Universitetet i Oslo (UiO) og ligger p\u00e5 \u00f8stsiden av Akerselva.</p>\n",
        "<p class=\"txt\">D\u00e9t kunne v\u00e6rt annerledes. De 27 000 studentene som i dag studerer ved UiO, kunne spist lunsj og hatt kollokvier blant de 8500 planteartene i Botanisk hage, hvis T\u00f8yen hadde vunnet kampen om Universitetet. Men slik gikk det ikke.</p>\n",
        "<p class=\"mt\">Arbeiderstr\u00f8k</p>\n",
        "<p class=\"txt\">\u2013 Oslo ville v\u00e6rt en helt annen by med et universitet p\u00e5 T\u00f8yen, fordi du ikke ville f\u00e5tt disse skillene mellom \u00f8st og vest. Dette viser ogs\u00e5 hvor sterkt delt Oslo er som by, sier museumsdirekt\u00f8r Arne Bj\u00f8rlykke.</p>\n",
        "<p class=\"txt\">Bj\u00f8rlykke kan fortelle at unionsoppl\u00f8sningen med danskene var en av \u00e5rsakene til at Universitetet ikke ble lagt til T\u00f8yen.</p>\n",
        "<p class=\"txt\">\u2013 Etter Napoleonskrigene ble Norge flyttet over i en union med Sverige. Svenskekongen og universitetsprofessorene ville ikke ha universitetet p\u00e5 T\u00f8yen, men sentralt i Oslo. Ett av argumentene for ikke \u00e5 bygge p\u00e5 T\u00f8yen, var at veien var s\u00e5 s\u00f8lete og studentene ikke hadde r\u00e5d til \u00e5 kj\u00f8re hestevogn, sier Bj\u00f8rlykke.</p>\n",
        "<p class=\"txt\">T\u00f8yen fikk derfor ikke et fullverdig universitet i 1814, og tapte ogs\u00e5 kampen om den videre utbyggingen mot Blindern i 1921. Da debatten om utbyggingen av UiO raste p\u00e5 1920-tallet, var et av argumentene for \u00e5 bygge ut p\u00e5 Blindern, f\u00f8lgende:</p>\n",
        "<p class=\"txt\">\u00abBlindern hadde ein h\u00f8gre og ljosare himmel enn T\u00f8yen\u00bb. Dette var dav\u00e6rende statsr\u00e5d J\u00f8rgen L\u00f8vlands ord. I tillegg argumenterte L\u00f8vland for at studentene m\u00e5tte slippe \u00e5 leve under de nedbrytende forhold blant fabrikker og gr\u00e5beinsg\u00e5rder (arbeiderklassens boliger, red.anm.).</p>\n",
        "<p class=\"mt\">Viktig for T\u00f8yen</p>\n",
        "<p class=\"txt\">Naturhistorisk museum og Botanisk hage har 700 000 bes\u00f8kende i \u00e5ret, og er derfor et viktig trekkplaster for bydelen. Tidligere kunnskapsminister og n\u00e5v\u00e6rende styreleder for NHM, Kristin Halvorsen, mener det n\u00e5 er viktig at universitetet vedtar bevilgninger for \u00e5 modernisere omr\u00e5det.</p>\n",
        "<p class=\"txt\">\u2013 Signalet fra universitetet til Stortinget og kommunen har stor betydning. Universitetet b\u00f8r vise at de er en moderne samarbeidspartner for T\u00f8yenl\u00f8ftet (se fakta), men det er ogs\u00e5 behov for \u00e5 ha nye utstillinger pluss videre restaurering av bygninger, sier Halvorsen.</p>\n",
        "<p class=\"txt\">Byr\u00e5det i Oslo vedtok etter mye strid \u00e5 flytte Munch-museet fra T\u00f8yen til Bj\u00f8rvika. Som en del av avtalen om et nytt Munch-museum i sentrum, ble det laget en plan for \u00e5 styrke bydelen T\u00f8yen. I denne planen inng\u00e5r NHM, men Halvorsen mener at museet p\u00e5 T\u00f8yen ogs\u00e5 er et viktig utstillingsvindu for UiO.</p>\n",
        "<p class=\"txt\">\u2013 Det som foreg\u00e5r p\u00e5 Naturhistorisk museum har stor betydning for oppfatningen av Universitetet. Her kan UiO presentere seg som en vital og offensiv utvikler og formidler av kunnskap. Der har NHM noe helt unikt, fordi vi har muligheten til \u00e5 v\u00e6re den tunge kunnskapsformidleren og linken mellom barn og unges naturfaginteresser, sier Halvorsen.</p>\n",
        "<p class=\"mt\">Kan f\u00e5 \u00f8kt betydning</p>\n",
        "<p class=\"txt\">En av de sterkeste kritikerne av Munch-flyttingen er Carl I. Hagen, tidligere FrP-nestor og n\u00e5 representant i Oslo bystyre.</p>\n",
        "<p class=\"txt\">\u2013 Jeg h\u00e5per at hele T\u00f8yenl\u00f8ftet vil styrke NHM, men jeg tror ikke museet har s\u00e5 stor betydning for omr\u00e5det i dag. Samtidig kan det f\u00e5 \u00f8kt betydning n\u00e5r de f\u00e5r gjort en del ting p\u00e5 T\u00f8yen, sier Hagen.</p>\n",
        "<p class=\"txt\"><I>\u2013 Har universitet et s\u00e6rlig ansvar for dette omr\u00e5de?</I></p>\n",
        "<p class=\"txt\">\u2013 Jeg h\u00e5per at Universitet i Oslo, rektor og universitetsstyre kjenner sin bes\u00f8kelsestid i dette samarbeidet med Oslo kommune. Hvis det er ting som kan gj\u00f8res samtidig, kan man f\u00e5 det bedre og billigere, sier Hagen.</p>\n",
        "<p class=\"mt\">Trenger penger</p>\n",
        "<p class=\"txt\">NHM og museumsdirekt\u00f8r Arne Bj\u00f8rlykke tror ogs\u00e5 museet og hagen kan v\u00e6re viktig for \u00e5 \u00f8ke bevisstheten rundt klimaforandringene.</p>\n",
        "<p class=\"txt\">\u2013 Et godt forhold til naturen er viktig for b\u00e5de denne og neste generasjon, fordi det kan f\u00f8re til at man ikke vil tolerere de klimaendringer som n\u00e5 er i ferd med \u00e5 forandre naturen. Barn som f\u00e5r oppleve naturen og utvikler nysgjerrigheten tidlig, vil ogs\u00e5 ha et annet forhold til naturen som voksen, sier Bj\u00f8rlykke.</p>\n",
        "<p class=\"txt\">Men skal NHM fortsatt klare \u00e5 v\u00e6re et attraktivt sted for Oslos beboere, er de avhengige av \u00e5 f\u00e5 nok \u00f8konomisk st\u00f8tte.</p>\n",
        "<p class=\"txt\">\u2013 Museet ligger geografisk i utkanten av UiO og er ikke en utdanningsinstitusjon. Siden mye av finansieringen av universitetene g\u00e5r gjennom studentene, er det ikke lett for oss \u00e5 f\u00e5 de bevilgningene som trengs for \u00e5 holde bygningene ved like. Det er et enormt etterslep n\u00e5r det gjelder rehabilitering av museumsbygninger p\u00e5 UiO, sier Bj\u00f8rlykke.</p>"
       ],
       "metadata": {},
       "output_type": "display_data",
       "text": [
        "<IPython.core.display.HTML at 0x7fa66aea4198>"
       ]
      },
      {
       "html": [
        "<p class=\"txt\">KAN VI HA DETTE BILDET (http://www.google.no/imgres?imgurl=http%3A%2F%2Ffootballisliife.files.wordpress.com%2F2013%2F10%2Fo-house-of-cards-facebook.jpg&imgrefurl=http%3A%2F%2Ffootballisliife.wordpress.com%2F2013%2F10%2F13%2Fhouse-of-cards-episode-5-review%2F&h=1023&w=1536&tbnid=NKkTMNXc0pMh1M%3A&zoom=1&docid=ByC\u2013bKA4d3rhM&hl=en&ei=l2x_U_vOH8mFyQPxhYCgBA&tbm=isch&ved=0CFcQMygFMAU&iact=rc&uact=3&dur=486&page=1&start=0&ndsp=14) MED HANS SOM ZOE, ANDEN\u00c6S SOM FRANK OG HEGLUM SOM CLAIR?</p>\n",
        "<p class=\"bt\">Prikk likt: Venstrealliansens leder Mari Heglum utelukker ikke at studentpolitikere ved UiO ligger med Universitas-journalister for \u00e5 servere dem snusk om andre studentpolitikere.</p>\n",
        "<p class=\"txt\">\u2013 Det er et vanskelig sp\u00f8rsm\u00e5l. All politikk har en grad av maktkamp. Vi er jo venner med hverandre selv om vi konkurrerer om posisjoner.</p>\n",
        "<p class=\"spm\"><b>\u2013 Du syns det var skikkelig \u00abHouse of Cardsk\u00bb at Sosialdemokratenes (SD) Knut Frydenlund uannonsert stilte til valg til Arbeidsutvalget (AU). Slik at Venstrealliansen ikke fikk noen i AU. Hvor slemt var det at han bare stilte til valg, s\u00e5nn uten videre?</b></p>\n",
        "<p class=\"txt\">\u2013 Han har sin fulle rett til \u00e5 stille. Men SD-leder Marianne Anden\u00e6s burde sagt ifra om at han ville gj\u00f8re det.</p>\n",
        "<p class=\"spm\"><b>\u2013 Hvem er Frank Underwood i Studentparlamentet i Oslo?</b></p>\n",
        "<p class=\"txt\">\u2013 Det m\u00e5 bli Marianne det.</p>\n",
        "<p class=\"spm\"><b>\u2013 P\u00e5 referatet til det siste m\u00f8tet i AU kan man lese f\u00f8lgende om tildeling av midler til studentorganer: \u00abAstrofysisk utvalg \u2013 \u00abMingling med masterne\u00bb. 1600, litt mye pizza. 8 pizza. Kan bruke v\u00e5r rammeavtale hos pizza og kinaexpressen\u00bb. Det er formentlig s\u00e5 jeg h\u00f8rer Frank Underwood konspirere i Representantenes hus. </b></p>\n",
        "<p class=\"txt\">\u2013Ehh. Den saken der er ikke representativ for hva AU driver med.</p>\n",
        "<p class=\"spm\"><b>\u2013 Finnes det SP-politikere som ligger med Universitas-journalister og serverer scoop med drittpakker om andre studentpolitikere?</b></p>\n",
        "<p class=\"txt\">\u2013 Jeg h\u00e5per ikke det. De fleste personkonflikter l\u00f8ses internt.</p>\n",
        "<p class=\"spm\"><b>\u2013 Av og til liker jeg \u00e5 tenke at jeg skriver avsl\u00f8rende gravesaker for New York Times, mens jeg i virkeligheten skriver Vi Sp\u00f8r-intervju. Det virker som du ogs\u00e5 dr\u00f8mmer deg vekk. Vil du vurdere din stilling?</b></p>\n",
        "<p class=\"txt\">\u2013Nei. Venstrealliansen trenger sin Claire Underwood.</p>\n",
        "<p class=\"txt\">hansjskj@universitas.no</p>"
       ],
       "metadata": {},
       "output_type": "display_data",
       "text": [
        "<IPython.core.display.HTML at 0x7fa66aea4198>"
       ]
      },
      {
       "html": [
        "<p class=\"txt\">TINGOPsykologlunsj er en norsk podkast ledet av psykologene Tommy Manglerud, Jonas Vaag og Jan-Ole Hesselberg. Annenhver uke tilbyr de en halvtimes uh\u00f8ytidelig lunsjprat om det som opptar dem i psykologiens verden. Til tross for at konseptet er noks\u00e5 nytt, har podkasten rukket \u00e5 dekke en lang rekke temaer; fris\u00f8rskrekk, placebo-effekt, og IQ, i tillegg til \u00e5 teste sine egne smerteterskler ved hjelp av chili.</p>\n",
        "<p class=\"txt\">TINGOSp\u00f8rsm\u00e5lene man f\u00e5r svar p\u00e5 i Psykologlunsj er ofte av den typen man g\u00e5r rundt og lurer p\u00e5 men ikke t\u00f8r stille i frykt for \u00e5 virke dum. Det er virkelighetsn\u00e6re temaer som ang\u00e5r de aller fleste av oss, og det er lett \u00e5 relatere til de ulike problemstillingene som skildres. M\u00e5let med prosjektet, som omfatter b\u00e5de blogg, podkast og apps, er \u00e5 gj\u00f8re psykologifaget alment tilgjengelig \u2013 helt gratis.</p>\n",
        "<p class=\"txt\">TINGOProgramlederne kan alle skilte med psykologutdanning, og har erfaring fra helsevesenet og som skribenter. Hesselberg var ogs\u00e5 en del av den mye omtalte NRK-produksjonen Folkeopplysningen. Siden 2009 har de blogget p\u00e5 kj\u00e6rt, popul\u00e6rvitenskapelig vis om fagfeltet sitt, og podkasten har det siste \u00e5ret v\u00e6rt tilgjengelig i iTunes og p\u00e5 nettsiden.</p>"
       ],
       "metadata": {},
       "output_type": "display_data",
       "text": [
        "<IPython.core.display.HTML at 0x7fa66aea4198>"
       ]
      },
      {
       "html": [
        "<p class=\"mt\">Sosiale medier</p>\n",
        "<p class=\"txt\">1. Ranger f\u00f8lgende sosiale medier fra eldst til yngst: Facebook, Twitter, Snapchat og Instagram.</p>\n",
        "<p class=\"txt\">2. Hva heter det kinesiske svaret p\u00e5 Twitter?</p>\n",
        "<p class=\"txt\">3. I 2010 kom det en film om Facebook og dets grunnlegger. Hva heter filmen og grunnleggeren?</p>\n",
        "<p class=\"txt\">4. Hvilken kvinnelig amerikansk musiker har, if\u00f8lge twittercount.com, flest f\u00f8lgere i verden? Hun har over 53 millioner f\u00f8lgere, men f\u00f8lger bare 143 selv.</p>\n",
        "<p class=\"txt\">5. Den fotballspilleren som kommer h\u00f8yest opp p\u00e5 listen vant i helgen Champions League. Hvilken fotballspiller er det snakk om, og har han vunnet turneringen tidligere?</p>\n",
        "<p class=\"mt\">Lingvistikk</p>\n",
        "<p class=\"txt\">6. Hvordan b\u00f8yes verbet \u00ab\u00e5 sl\u00e5ss\u00bb?</p>\n",
        "<p class=\"txt\">7. Br\u00f8drene Grimm var i tillegg til \u00e5 v\u00e6re eventyrsamlere anerkjente spr\u00e5kforskere. Hva het de til fornavn?</p>\n",
        "<p class=\"txt\">8.  Med unntak av br\u00f8drene Grimm finnes det f\u00e5 verdenskjente lingvister. Men hvilken s\u00e5dan beskrives slik p\u00e5 snl.no? \u00abDen mest siterte n\u00e5levende forfatter og akademiker innenfor samfunnsvitenskapene og de humanistiske fag. Han er mest kjent for sine bidrag til \u00e5 studere spr\u00e5k som en mental evne, og for \u00e5 ha vist at spr\u00e5k kan studeres ved hjelp av vitenskapelige metoder. I tillegg til den lingvistiske karrieren har han v\u00e6rt sv\u00e6rt aktiv som politisk aktivist og debattant. Han er s\u00e6rlig kritisk til amerikansk utenrikspolitikk og kapitalisme.\u00bb</p>\n",
        "<p class=\"txt\">9. Hva er det svenske ordet for tytteb\u00e6r?</p>\n",
        "<p class=\"txt\">10. Hvem var direkt\u00f8r for Spr\u00e5kr\u00e5det fra 2004 til 2010? Han markerte seg i den offentlige debatten og deltok i mange tv-programmer.</p>\n",
        "<p class=\"mt\">Kommunikasjon</p>\n",
        "<p class=\"txt\">11. Hva heter gaten i New York der det tradisjonelt sett l\u00e5 mange reklamebyr\u00e5er?</p>\n",
        "<p class=\"txt\">12. I denne gaten foreg\u00e5r store deler av tv-serien Mad Men. Hva heter byr\u00e5et som serien handler om?</p>\n",
        "<p class=\"txt\">13. Hva betyr det latinske ordet reclamere?</p>\n",
        "<p class=\"txt\">14. Kommunikasjonsbyr\u00e5et First House har f\u00e5tt mye oppmerksomhet den siste tiden. Byr\u00e5et har to tidligere statsr\u00e5der i sin stab. Hva heter de?</p>\n",
        "<p class=\"txt\">15. Den administrerende direkt\u00f8ren i First House er kronprinsesse Mette Marits bror. Hva heter han?</p>\n",
        "<p class=\"mt\">Religion</p>\n",
        "<p class=\"txt\">16. Sunniislam er den mest utbredte grenen av islam i verden, men i fem land utgj\u00f8r sjiamuslimer flertallet av befolkningen. Nevn to av disse fem landene.</p>\n",
        "<p class=\"txt\">17. Hvilken tysk filosof er blant annet kjent for utsagnet \u00abGud er d\u00f8d\u00bb fra 1882 ?</p>\n",
        "<p class=\"txt\">18. Hvem ble i 1933 tiltalt for blasfemi etter \u00e5 ha holdt foredraget \u00abKristendommen, den tiende landeplage\u00bb i Studentersamfundet i Oslo ?</p>\n",
        "<p class=\"txt\">19. Hvem ble i 1993 f\u00f8rste kvinnelige biskop i Den norske kirke?</p>\n",
        "<p class=\"txt\">20. Hvilket trossamfunn, med idag over 15 millioner medlemmer, ble grunnlagt av Joseph Smith i Fayette i New York i 1830?</p>\n",
        "<p class=\"mt\">Svar:</p>\n",
        "<p class=\"txt\">1. Facebook (2004), Twitter (2006), Instagram (2010) og Snapchat (2011)</p>\n",
        "<p class=\"txt\">2. Weibo</p>\n",
        "<p class=\"txt\">3. The Social Network og Mark Zuckerberg</p>\n",
        "<p class=\"txt\">4. Katy Perry</p>\n",
        "<p class=\"txt\">5. Cristiano Ronaldo, han vant ogs\u00e5 i 2008 for Manchester United</p>\n",
        "<p class=\"txt\">6. \u00e5 sl\u00e5ss - sl\u00e5ss - sloss - har sl\u00e5ss (legg merke til at vokalen alltid er den samme som i vebet \u00ab\u00e5 sl\u00e5\u00bb)</p>\n",
        "<p class=\"txt\">7. Jakob og Wilhelm</p>\n",
        "<p class=\"txt\">8. Noam Chomsky</p>\n",
        "<p class=\"txt\">9. Lingon</p>\n",
        "<p class=\"txt\">10. Sylfest Lomheim</p>\n",
        "<p class=\"txt\">11. Madison Avenue</p>\n",
        "<p class=\"txt\">12. Sterling Cooper</p>\n",
        "<p class=\"txt\">13. \u00c5 rope igjen og igjen</p>\n",
        "<p class=\"txt\">14. Bjarne H\u00e5kon Hanssen og Morten Andreas Meyer</p>\n",
        "<p class=\"txt\">15. Per H\u00f8iby</p>\n",
        "<p class=\"txt\">16. Iran, Irak, Aserbajdsjan, Bahrain og Libanon</p>\n",
        "<p class=\"txt\">17. Friedrich Wilhelm Nietzsche</p>\n",
        "<p class=\"txt\">18. Arnulf \u00d8verland</p>\n",
        "<p class=\"txt\">19. Rosemarie K\u00f6hn</p>\n",
        "<p class=\"txt\">20. Jesu Kristi Kirke av Siste Dagers Hellige, kjent som mormonerne</p>"
       ],
       "metadata": {},
       "output_type": "display_data",
       "text": [
        "<IPython.core.display.HTML at 0x7fa66aea4198>"
       ]
      },
      {
       "html": [
        "<p class=\"txt\">Ukas advarsel</p>\n",
        "<p class=\"txt\">Litt sliten om dagen? Kjenner du hvordan motivasjonen fordamper i takt med den \u00f8kende utetemperaturen og fremmedordene som breier seg utover pensumb\u00f8kene dine? Siste helga i mai arrangeres det som omtales som en \u00abkraftpakke til sjela\u00bb. Her loves det energigivende batteriladning og reiser til et unikt knippe personlige destinasjoner, som for eksempel livets tre og tempel. Ikke overbevist? Det kommer mer. En sjelelig reise kan selvsagt ikke foretas sittende, s\u00e5 arrang\u00f8rene stiller derfor med madrasser. For den nette sum av 1100 kr kan du derfor i stabilt sideleie bli ledet ned til underverdenen ved hjelp av tromme og \u00f8rnefj\u00e6r. Gud hjelpe \u2013 eller sjaman, om du vil.</p>"
       ],
       "metadata": {},
       "output_type": "display_data",
       "text": [
        "<IPython.core.display.HTML at 0x7fa66aea4198>"
       ]
      },
      {
       "html": [
        "<p class=\"txt\">Milj\u00f8</p>\n",
        "<p class=\"txt\">Plantebasert mat er i vinden, og den siste til \u00e5 kaste seg p\u00e5 trenden er Studentsamskipnaden i Oslo (SiO). Hver mandag fremmer de sitt tilbud p\u00e5 tretten serveringssteder gjennom Meatless Monday. Men foruten for egen helse, hvilken betydning har egentlig maten vi spiser?</p>\n",
        "<p class=\"txt\">Nylig slo FNs klimapanels siste delrapport fast at skal vi n\u00e5 klimam\u00e5lene er det helt n\u00f8dvendig med en kostholdsendring mot mer plantebasert mat. Dette er i tr\u00e5d med r\u00e5d fra Milj\u00f8direktoratets siste rapport om reduksjon av klimagassutslipp i Norge i et ti\u00e5rs perspektiv. Husdyrproduksjonen er ansvarlig for n\u00e6rmere en femtedel av de globale klimagassutslippene. Om alle nordmenn kuttet kj\u00f8ttet en dag i uken, vil det tilsvare \u00e5 fjerne 380 000 biler fra veiene, if\u00f8lge Framtiden i v\u00e5re hender.</p>\n",
        "<p class=\"txt\">Klimaendringer og befolkningsvekst er forventet \u00e5 legge stadig st\u00f8rre press p\u00e5 v\u00e5re ressurser. Allerede spiser husdyrproduksjon opp en tredjedel av global kornproduksjon og 90 prosent av soyaproduksjon. Innen 2025 er to tredeler av verdens befolkning forventet \u00e5 leve i omr\u00e5der med h\u00f8yt press p\u00e5 vannressurser. Forskning viser at vi m\u00e5 g\u00e5 over til en vegetarisk diett innen 40 \u00e5r for \u00e5 unng\u00e5 katastrofal vannmangel. Ved \u00e5 kutte 500 gram storfekj\u00f8tt fra kostholdet sparer man like mye vann som ved ikke \u00e5 dusje p\u00e5 6 m\u00e5neder.</p>\n",
        "<p class=\"txt\">Regjeringens nye forslag til jordbruksoppgj\u00f8ret aktualiserer hvilken matproduksjon vi vil ha i Norge. \u00d8nsker vi enda mer industrilandbruk som driver rovdrift p\u00e5 natur og dyr? Eller vil vi bruke ressursene v\u00e5re p\u00e5 en effektiv og klimavennlig m\u00e5te, noe som ogs\u00e5 fremmer god helse og sparer dyr fra un\u00f8dvendig lidelse? Vi som forbrukere har den avgj\u00f8rende makten, og velger gjennom v\u00e5re matvalg hver eneste dag hvilken matproduksjon vi \u00f8nsker \u00e5 st\u00f8tte og hvordan vi vil at landbruket skal se ut. Bruk forbrukermakten din og velg vegetarisk.</p>"
       ],
       "metadata": {},
       "output_type": "display_data",
       "text": [
        "<IPython.core.display.HTML at 0x7fa66aea4198>"
       ]
      },
      {
       "html": [
        "<p class=\"txt\">Det viser en epost sendt til medlemmene i studentersamfundet, som Universitas har f\u00e5tt tilgang p\u00e5.</p>\n",
        "<p class=\"txt\">Akkurat n\u00e5 diskuteres den kriserammede \u00f8konomien p\u00e5 Det norske studentersamfunds (DNS) generalforsamling.</p>\n",
        "<p class=\"txt\">\u00abJeg m\u00e5 orientere om den alvorlige tilstanden Chateau Neuf AS er i, og mulige konsekvenser dette vil ha for deg og din studentforenings framtid p\u00e5 Chateau Neuf. Selskapet har bedt om tilf\u00f8rsel av kapital for andre gang i \u00e5r. Per i dag er det en reell mulighet for at CN AS g\u00e5r konkurs, noe vi og de andre eierne skal vurdere p\u00e5 ekstraordin\u00e6r generalforsamling onsdag,\u00bb skriver formann Martin Tveten i e-posten som ble sendt ut til medlemmene i g\u00e5r.</p>\n",
        "<p class=\"txt\">I e-posten oppfordrer Tveten sine medlemmer til \u00e5 jobbe for \u00e5 f\u00e5 flere studenter innom Chateau Neuf.</p>\n",
        "<p class=\"txt\">\u00abIngen endelige beslutninger for veien videre kommer til \u00e5 bli fattet i morgen, men vil bli det i l\u00f8pet av de kommende ukene. Det har stor betydning hva vi selv legger av arbeid i \u00e5 f\u00e5 opp bes\u00f8kstallene framover,\u00bb skriver han.</p>\n",
        "<p class=\"txt\">bildelink: http://static.universitas.no/bilder/2013/26_KUL_Chateauneuf.jpg</p>"
       ],
       "metadata": {},
       "output_type": "display_data",
       "text": [
        "<IPython.core.display.HTML at 0x7fa66aea4198>"
       ]
      },
      {
       "html": [
        "<p class=\"txt\">En fullastet og skranglete hvit buss frakter unge arbeidere fra sentrum i Arusha et stykke ut til et langstrakt gr\u00f8nt landskap. \u00c5 ta h\u00f8yere utdanning i Tanzania er en luksus kun fire prosent av befolkningen f\u00e5r benyttet seg av. Blant dem som ikke har muligheten sitter mange p\u00e5 busser som denne. Langs den st\u00f8vete veien ligger rekker med hjemmesnekra kiosker, som selger alt fra br\u00f8d og Hollywoodfilmer til de lokalt produserte \u00abLong-Lasting Insecticidal Nets\u00bb i bl\u00e5tt og gr\u00f8nt som du lett kan henge over sengen.</p>\n",
        "<p class=\"txt\">Her, ved foten av Kilimanjaro, ligger en av \u00d8st-Afrikas st\u00f8rste fabrikker og myggnettingleverand\u00f8rer. Offisielt er arbeiderne p\u00e5 fabrikken \u00abA to Z\u00bb mellom 18 og 35 \u00e5r, men etter utseende \u00e5 d\u00f8mme er litt for mange litt for unge. Over 80 prosent av alle arbeiderne p\u00e5 fabrikken er kvinner, og brorparten av disse er alenem\u00f8dre. Over h\u00f8yttaleranlegget spilles det lokal musikk, som en motvekt til maskinerienes during. Plastikkjerner smeltes sammen til lange tr\u00e5der som igjen veves til nettingstoff. Disse sys til ulike fasonger i gr\u00f8nt, bl\u00e5tt eller hvitt. P\u00e5 landsbygda er gjerne gr\u00f8nne og bl\u00e5 myggnettinger mer utbredt, da blir st\u00f8v og m\u00f8kk mindre synlig. N\u00e5r det bl\u00e5ser feier st\u00f8vet rundt i skur og leirhytter og legger seg over kl\u00e6r, mat og nett.</p>\n",
        "<p class=\"txt\">Hver dag forlater n\u00e6r 130 fullastede lastebiler fabrikkens lagerbygninger p\u00e5 vei til fjerne byer og fremmede land. Lyset er mykt og sola p\u00e5 vei mot kveld n\u00e5r den siste lastebilen for dagen svinger ut gjennom det gr\u00f8nne slettelandskapet p\u00e5 kanten av savannen. Tunglastet med innpakkede myggnettinger som b\u00e6rer stempelet \u00abMade in Africa\u00bb.</p>\n",
        "<p class=\"bt\">Storproduksjon: Det produseres myggnettinger 24 timer i d\u00f8gnet, alle dager i \u00e5ret. For f\u00e5 \u00e5r siden var der kun et par hundre arbeidere, mens det i dag er over 8200 mennesker som har \u00abA to Z\u00bb som sin faste arbeidsplass. Mange av dem er studenter som m\u00e5 bidra til familiens \u00f8konomi.</p>\n",
        "<p class=\"bt\">Effektiv: Mygg som kommer i kontakt med denne type nett, d\u00f8r innen tre minutter av impregneringsstoffet. I Tanzania har hver gravide kvinne og nybakte mor krav p\u00e5 en gratis myggnetting.</p>\n",
        "<p class=\"bt\">Fargetr\u00f8bbel: I starten ble hvite myggnettinger ikke akseptert av deler av befolkningen p\u00e5 landsbygda i Tanzania da nettenes form og farge i for stor grad ble forbundet med d\u00f8den.</p>\n",
        "<p class=\"bt\">Net-working: \u00abA to Z\u00bb er en familieforretning som startet med \u00e9n beskjeden symaskin p\u00e5 1960-tallet. Siden den gang har myggnettingproduksjonen vokst til \u00e5 bli en betydelig industri og har p\u00e5 kort tid blitt den st\u00f8rste arbeidsgiveren i Tanzania. I 2004 ble det \u00e5rlig produsert om lag 300 000 myggnettinger. N\u00e5, 10 \u00e5r senere er tallet 100 ganger s\u00e5 h\u00f8yt.</p>\n",
        "<p class=\"bt\">Myggnetting er det enkleste og meste effektive virkemiddelet mot malaria. Hvert 30. sekund d\u00f8r et barn av malaria, og malariainfisert mygg tar livet av hvert fjerde barn i Afrika f\u00f8r fylte fem \u00e5r. Men der barn sover under myggnettinger, synker barned\u00f8deligheten med om lag 30% og forhindrer dermed gjennomsnittlig 40 000 d\u00f8dsfall i \u00e5ret.</p>"
       ],
       "metadata": {},
       "output_type": "display_data",
       "text": [
        "<IPython.core.display.HTML at 0x7fa66aea4198>"
       ]
      },
      {
       "html": [
        "<p class=\"txt\">Chateau Neuf er konkurstruet. Den tidligere legendariske musikkscenen har byttet ut The Clash, Ramones og Miles Davis med trafikklysfest og bingo. Mon tro hvor det gikk galt...</p>"
       ],
       "metadata": {},
       "output_type": "display_data",
       "text": [
        "<IPython.core.display.HTML at 0x7fa66aea4198>"
       ]
      },
      {
       "html": [
        "<p class=\"fak1\">What a difference a day made</p>\n",
        "<p class=\"fak2\">Hva: Dans</p>\n",
        "<p class=\"fak2\">Scene: Scenehuset</p>\n",
        "<p class=\"fak2\">Regi/Koreografi: Martine Hammervold-Austinat</p>\n",
        "<p class=\"fak2\">Musikk:\u00c5se Eva Fredheim</p>\n",
        "<p class=\"fak2\">Med: Elise Aabakken, Anna Einemo Fr\u00f8ysland, Kristine Steinsdatter Jensen m.fler</p>\n",
        "<p class=\"fak2\">Tid: 23\u201325.mai</p>\n",
        "<p class=\"txt\">Scenehuset p\u00e5 Majorstua er fullsatt. Bare det \u00e5 sitte i dette lokalet og vente p\u00e5 at forestillingen skal begynne gir en helt egen spenning. Det originale tregulvet fra slutten av 1800-tallet blir beskrevet som et av Oslos beste dansegulv. Stillheten brer seg, snart skal \u00c5se Eva Fredheims musikk og Marine Hammervold-Austinats h\u00e5ndplukkede dansere ta pusten fra oss.</p>\n",
        "<p class=\"txt\">Lyset kaster skyggene av danserne mot den h\u00f8ye hvite veggen bak scenen, som kun er et tomt gulv. Det er vanskelig \u00e5 bestemme seg for hva som er vakrest. Skyggene, danserne, eller det mystiske lydbildet. Kristine Jensen utmerker seg p\u00e5 scenen: En grasi\u00f8s danser med en formidlingsevne og kroppsbeherskelse de fleste av oss bare kan dr\u00f8mme om. Likevel er det samspillet mellom alle danserne, og deres ulike kropper og ulike styrker som fascinerer mest. Hver enkelt har sitt eget spr\u00e5k. Hammervold-Austinats koreografi har latt dem selv formulere seg gjennom egne kropper, og det er dette som gj\u00f8r det sl\u00e5ende vakkert.</p>\n",
        "<p class=\"txt\"><I>What a difference </I><I>a </I><I>day made</I> bringer en kombinasjon av improvisasjon og innstudert materiale i en satt struktur. Varigheten og det varme, tette lokalet utfordrer t\u00e5lmodigheten, og n\u00e5r en time har passert hadde det p\u00e5 mange m\u00e5ter v\u00e6rt nok. I et samfunn der alt s\u00e5 ofte skal plasseres i b\u00e5ser og sm\u00e5 firkantede bokser, er det befriende \u00e5 se noe som t\u00f8r \u00e5 v\u00e6re annerledes, som t\u00f8r \u00e5 ta oss med storm uten et fors\u00f8k p\u00e5 \u00e5 v\u00e6re verken mer eller mindre enn det det er. Allikevel er dette mer enn dans i form av briljerende teknikk og tekniske ferdigheter. <I>What a difference a day made</I> formidler lidenskap og f\u00f8lelser. Men forestillingen legger ingen f\u00f8ring for hvordan det hele skal tolkes, hver publikummer f\u00e5r anledning til \u00e5 danne sitt eget inntrykk. Martine Hammervold-Austinat og danserne hennes har s\u00f8rget for at dagen s\u00e5 absolutt har gjort en forskjell.</p>"
       ],
       "metadata": {},
       "output_type": "display_data",
       "text": [
        "<IPython.core.display.HTML at 0x7fa66aea4198>"
       ]
      },
      {
       "html": [
        "<p class=\"txt\">Petter (24) Gjennomsnittlig aktiv bruker. Kuttet ut sosiale medier, men lot pushvarslene v\u00e6re p\u00e5 i selvtortur.</p>\n",
        "<p class=\"mt\">Hvordan i all verden husket folk hvem de skulle gratulere f\u00f8r de fikk seg Facebook?</p>\n",
        "<p class=\"txt\">Jeg husker da far tok med den f\u00f8rste dataen inn i hjemmet og jeg husker tiden f\u00f8r MSN og Facebook. Jeg har v\u00e6rt p\u00e5 den andre sida. \u00c9n uke uten sosiale medier blir lett.</p>\n",
        "<p class=\"txt\">Dag 1. Det gikk fem minutter fra jeg v\u00e5kna til jeg dreit meg ut. Av ren vane tok jeg opp mobilen og sjekka varslene. Pavlov hadde vel hatt et og annet han skulle ha sagt.</p>\n",
        "<p class=\"txt\">Utover dagen fortsetter pushvarslene \u00e5 tikke inn. Dette er seigpining. Jeg ser at ting skjer, men aner ikke hva. Jeg sitter i et glassbur og ser at de andre har det moro ute i solskinnet, men h\u00f8rer ikke hva de sier og kan ikke bli med. Noen har invitert meg til grillfest, men hvor og n\u00e5r? Hvis det er denne uka, h\u00e5per jeg de har vett nok til \u00e5 ringe meg. Men det har de sikkert ikke. Ingen ringer meg.</p>\n",
        "<p class=\"txt\">Det er noe dritt \u00e5 ta banen uten \u00e5 kunne bruke Twitter, Instagram eller Facebook. Jeg stirrer ut i lufta, p\u00e5 hendene mine og p\u00e5 alle de rare folka. Til helga, n\u00e5r jeg m\u00e5 pendle til og fra jobb, m\u00e5 jeg virkelig huske \u00e5 ta med meg ei bok. Jeg m\u00e5 bli en s\u00e5nn type. Jeg blir en av de jeg ser p\u00e5 banen n\u00e5, som tror de er smarte med bok. Dem har jeg ikke lagt merke til f\u00f8r. De bruker sikkert ikke sosiale medier til vanlig heller, reaksjon\u00e6re kuker.</p>\n",
        "<p class=\"txt\">Etter tre dager ringte en kompis meg for \u00e5 planlegge overnatting til bryllup vi skal i til sommeren. De har visst diskutert det p\u00e5 Facebook, sier han. Jeg sier bare \u00abja\u00bb, og h\u00e5per at de fikser noe fornuftig til meg. I tillegg har Facebook sendt meg e-post. Jeg har visstnok mange varsler som venter. De har aldri sendt meg e-post f\u00f8r. Savner de meg?</p>\n",
        "<p class=\"txt\">P\u00e5 jobb 17. mai tenker jeg p\u00e5 hvor mange champagnesk\u00e5ler og bunadssmil jeg g\u00e5r glipp av. Heldigvis. Men p\u00e5 vei hjem p\u00e5 kvelden savner jeg Instagram eller Twitter. Noe jeg kan scrolle form\u00e5lsl\u00f8st p\u00e5. Rundt meg p\u00e5 banen sitter fulle nasjonaldagsfeirere som sikkert har avtalt \u00e5 m\u00f8te andre som seg selv via Facebook. Jeg vil bare hjem og legge meg, og jeg vil glane p\u00e5 bilder av kaker og is.</p>\n",
        "<p class=\"txt\">Det gikk da ganske lett. Jeg vet enn\u00e5 ikke hvem som hadde bursdag mens jeg var avlogget, men jeg har heller ikke sett noen g\u00e5 med bursdagshatt i kollektivet. Det er et godt tegn. Jeg har l\u00e6rt at folk er rare og at Dovre ikke faller selv om Facebook gj\u00f8r det. Men jeg sjekker fremdeles telefonen som det f\u00f8rste jeg gj\u00f8r n\u00e5r jeg v\u00e5kner. Jaja, noe skal vel Pavlov ha igjen for den Nobelprisen sin.</p>\n",
        "<p class=\"txt\">\u00abJeg har visstnok mange varsler som venter. Facebook har aldri sendt meg e-post f\u00f8r. Savner de meg?\u00bb</p>\n",
        "<p class=\"sitatbyline\">Petter (24)</p>\n",
        "<p class=\"mt\">Frokosten smaker ikke like godt uten instafilter.</p>\n",
        "<p class=\"txt\">Livet er ganske bra hvis man lever i god tro om at overflaten av Facebooks tidslinje speiler det virkelige liv. For personer som er over gjennomsnittet sosiale fungerer sosiale medier som en forenklende utstrakt arm. Med Facebook, Whatsapp, Snapchat, iMessage, Instagram, LinkedIn, Twitter og Argus blir jeg en \u00e5ttearmet multitaskende blekksprut uten begrensninger. Men hva skjer n\u00e5r magien plutselig blir brutt uten forvarsel?</p>\n",
        "<p class=\"txt\">Klokken begynner \u00e5 n\u00e6rme seg midnatt n\u00e5r alle kanaler skal sperres for bruk. En overdose med chat-vinduer p\u00e5 Facebook er aktive, bare for \u00e5 v\u00e6re klar for en uke uten cybersosialt samv\u00e6r. Hodet ned p\u00e5 puta. Nasjonaldagen! Hvordan skal man planlegge nasjonaldagen uten sosiale medier?</p>\n",
        "<p class=\"txt\">F\u00f8rste dagen streifes alle nettavisene som substitutt. Plutselig f\u00e5r man mye bedre tid p\u00e5 morgenen. Jeg sitter alene med en instagramverdig frokost med s\u00e5nne trendy suger\u00f8r med striper p\u00e5, men den smaker ikke like godt uten et instagramfilter. Allerede klokken 10:00 kommer krampeaktige abstinenser. Musikk settes p\u00e5 for \u00e5 legge en demper p\u00e5 den plutselige ensomheten som oppst\u00e5r, og takk Gud for at eksamen er et samarbeidsprosjekt som tar opp mye av tiden. Da har man i hvert fall konstante planer for \u00e5 slippe \u00e5 g\u00e5 p\u00e5 veggen.</p>\n",
        "<p class=\"txt\">Andre dagen oppleves trikketurene som togturer til Gj\u00f8vik fra spor 16. Er det virkelig s\u00e5 langt fra Jernbanetorget til Blindern? Et \u00abFacebookchat-pling\u00bb fikk meg til \u00e5 r\u00f8ske opp mobilen min for \u00e5 se om det var noe liv. Et irriterert sukk \u2013 ingenting.</p>\n",
        "<p class=\"txt\">\u00abHei. Lever du eller? Du har v\u00e6rt s\u00e5 stille de siste dagene\u00bb. Plutselig ringer en nerv\u00f8s venninne. Magen min bobler av glede n\u00e5r mitt frav\u00e6r fra sosiale medier i fire dager endelig har blitt oppdaget. I jobb og skolesammenheng blir man en racer uten avbrytelsene, p\u00e5 tross av at man mister hele kontaktnettverket og disse skolerelevante gruppene.</p>\n",
        "<p class=\"txt\">Dagene g\u00e5r og det er egentlig deilig med et pusterom fra forventingene om \u00e5 v\u00e6re tilgjengelig blekksprut hele d\u00f8gnet. N\u00e5r nasjonaldagen endelig st\u00e5r for tur er det ikke s\u00e5 stress likevel. Snarere tvert imot. Selvsagt var det kjipt \u00e5 ikke kunne vise frem den nystr\u00f8kne bunadsskjorta, men man hang jo med alle de menneskene som ville ofret en \u00ablike\u00bb likevel.</p>\n",
        "<p class=\"txt\">98 varsler og 13 ubesvarte meldinger etter en uke uten Facebook. En uke der timevis av daglig interaksjon som omfavner alt av skole, jobb og sosialt samv\u00e6r forsvant uanmeldt. Totalforbud er kanskje ikke n\u00f8dvendig, men en begrensing av bruken kan herved anbefales. For hva f\u00e5r man egentlig igjen av timevis med scrolling og badeutfordringer?</p>\n",
        "<p class=\"mt\">Tror du du kan se for deg hvordan det er \u00e5 v\u00e6re avkobla? Det kan du ikke.</p>\n",
        "<p class=\"txt\">Det er med godt mot jeg g\u00e5r i gang med en uke uten mobiltelefon, datamaskin eller TV. Fire romaner ligger klare p\u00e5 nattbordet, gitaren er stemt, og et overmodent hekleprosjekt skriker etter \u00e5 bli gjort ferdig. Dessuten er jeg langt fra avhengig av b\u00e5de mobilen, dataen og TV-en. Jeg logger av, vel vitende om at jeg skal forbli avlogget i en uke \u2013 uten at noen andre vet om det. Dette skal g\u00e5 fint. Jeg er jo forberedt.</p>\n",
        "<p class=\"txt\">Det g\u00e5r deprimerende kort tid f\u00f8r hindre begynner \u00e5 oppst\u00e5: Mobilen fungerer ogs\u00e5 som vekkerklokke, og jobben kaller allerede klokken \u00e5tte. Forsover jeg meg har jeg ingen m\u00e5te \u00e5 f\u00e5 sagt fra p\u00e5. Hustelefon har jeg jo ikke.</p>\n",
        "<p class=\"txt\">P\u00e5 vei hjem fra jobb ser jeg en person p\u00e5 enhjulssykkel, og vil instinktivt sende en snapchat til noen f\u00f8r jeg husker at jeg ikke har mobil. Jeg vil ogs\u00e5 se hvor mye penger jeg har p\u00e5 konto f\u00f8r jeg handler, men akk. M\u00e5tte man g\u00e5 rundt og huske p\u00e5 s\u00e5nt f\u00f8r i tiden?</p>\n",
        "<p class=\"txt\">De f\u00f8rste dagene flyr av g\u00e5rde. Bilder av sm\u00e5barn p\u00e5 potte, selvskryt fra dagens trenings\u00f8kt og enda flere klager p\u00e5 den udugelige regjeringa h\u00f8rer til en fjern virkelighet. Det f\u00f8les godt. Jeg f\u00e5r til og med tid til \u00e5 sette meg ned og skrive brev, som dessverre ikke ble sendt. Adressen husker jeg nemlig ikke.</p>\n",
        "<p class=\"txt\">S\u00e5 skj\u00e6rer det seg. I og med at jeg kan bruke det jeg trenger i jobbsammenheng, sl\u00e5r jeg p\u00e5 mobilen i ti minutter for et kjapt telefonintervju. Push-varslene renner inn: Venninnegjengen har avtalt fellesmiddag i en tr\u00e5d p\u00e5 Facebook. Jeg har g\u00e5tt glipp av en kollokvie. Mamma har fors\u00f8kt \u00e5 f\u00e5 tak i meg, og har sendt en hissig melding fordi hun ikke f\u00e5r noe svar. Hva annet har jeg g\u00e5tt glipp av? Kaffeavtaler, grilling i parken, flere kollokvier? Har \u00e5rets hyttetur blitt planlagt uten meg? Uten noen form for kommunikasjon f\u00f8ler jeg meg isolert og alene. Denne ensomheten hadde jeg ikke forutsett, men n\u00e5 er den s\u00e5 virkelig at jeg har lyst til \u00e5 legge meg ned og gr\u00e5te.</p>\n",
        "<p class=\"txt\">Dagen etter er en <I>s\u00e5nn</I> dag. Alt jeg vil n\u00e5r jeg kommer hjem er \u00e5 legge meg i senga med en pose sm\u00e5godt og Netflix. Jeg vil i det minste ringe kj\u00e6resten og s\u00f8ke litt tr\u00f8st. Med sm\u00e5godt, men uten Netflix legger jeg meg under dyna.</p>\n",
        "<p class=\"txt\">Mot slutten av uka sprekker det. Ensomheten er i ferd med \u00e5 spise meg opp, og jeg orker ikke flere kvelder mutters alene i den stumme leiligheten.</p>\n",
        "<p class=\"txt\">Det er ikke de sosiale mediene i seg selv jeg savner, men evnen til \u00e5 opprettholde kontakten med venner og familie. For \u00e5 bevare sinnet tar jeg frem mobilen, som en gammel venn, og ensomhetsf\u00f8lelsen forsvinner fort. Facebook-feeden savner jeg ikke i det hele tatt, men vennene mine, de savner jeg. \u00c5 ikke v\u00e6re p\u00e5 Facebook er \u00e9n ting. \u00c5 leve uten \u00e5 kunne kommunisere i det hele tatt er noe ganske annet.</p>"
       ],
       "metadata": {},
       "output_type": "display_data",
       "text": [
        "<IPython.core.display.HTML at 0x7fa66aea4198>"
       ]
      },
      {
       "html": [
        "<p class=\"txt\">\u2013 Jeg f\u00f8lte at jeg ble frosset ut. Jeg kunne ikke jobbe der... Jeg kunne ikke.</p>\n",
        "<p class=\"txt\">Det er april. Ruth Vatvedt Fjeld sitter p\u00e5 et av de mange m\u00f8tene hun har blitt innkalt til som prorektor ved Universitetet i Oslo (UiO). Til stede er ogs\u00e5 viserektor Knut F\u00e6gri, Ragnhild Hennum og assisterende universitetsdirekt\u00f8r, Tove Karlsen. N\u00e5r hennes kolleger legger fram en utredning av doktorgradsutdanningen, kjenner hun at sinnet koker. Hun sp\u00f8r kollegene rundt bordet hvorfor hun h\u00f8rer om utredningen f\u00f8rst n\u00e5, etter nesten et \u00e5r som prorektor, n\u00e5r den direkte ang\u00e5r hennes arbeid?</p>\n",
        "<p class=\"txt\">Det blir helt stille i rommet. F\u00e6gri begynner \u00e5 snakke videre om noe annet, men Fjeld stopper ham og ber ham svare p\u00e5 sp\u00f8rsm\u00e5let hennes. Det gj\u00f8r han ikke. Etter m\u00f8tet g\u00e5r hun til kontoret sitt p\u00e5 Lucy Smiths hus og skriver sin fratredelseserkl\u00e6ring.</p>\n",
        "<p class=\"txt\">\u2013 Mye var nok galt allerede f\u00f8r jeg kom inn i bildet, sier Fjeld. Det er blitt mai, og det har g\u00e5tt over en m\u00e5ned siden hun bestemte seg for \u00e5 g\u00e5 fra ledervervet. I ettertid har hun tenkt mye p\u00e5 om det var selve prorektorstillingen eller hennes egen personlighet som gjorde at det skar seg.</p>\n",
        "<p class=\"txt\">Hva gj\u00f8r egentlig en prorektor? Sp\u00f8rsm\u00e5let har blitt st\u00e5ende som stridens kjerne i konflikten mellom Vatvedt Fjeld og hennes tidligere kolleger i rektoratet ved UiO. If\u00f8lge rektor Ole Petter Ottersen er det avgj\u00f8rende at man i en slik jobb skaper sine egne arbeidsoppgaver. If\u00f8lge Fjeld har en prorektor viktige oppgaver, men hun opplevde at de ble tatt fra henne, \u00e9n etter \u00e9n, og at jobben hun hadde sett fram til, til slutt bare handlet om \u00e5 v\u00e6re rektors stedfortreder i offentlige sammenhenger.</p>\n",
        "<p class=\"txt\">\u2013 Hvem som helst kan lire av seg en ferdig tale, det krever ikke mye.</p>\n",
        "<p class=\"txt\">Fjeld sitter i skyggen p\u00e5 verandaen og ser utover hagen sin p\u00e5 Oslos beste \u00f8stkant. Nederst i hagen ligger et lite skur med ved og redskaper. Skuret har Fjeld bygget selv.</p>\n",
        "<p class=\"txt\">\u2013 S\u00e5nn er jeg da, vet du, sier Fjeld. Da hun ble skilt fra mannen sin for ti \u00e5r siden, sa folk at hun burde selge huset, men det kom ikke p\u00e5 tale. Hun m\u00e5 ha hagen. Og lyden av fuglekvitter. Og s\u00e5 er det god plass n\u00e5r datteren, som jobber ved den norske ambassaden i India, kommer p\u00e5 sommerferie med barnebarna.</p>\n",
        "<p class=\"txt\">Fjeld har mye hun skulle sagt i disse dager. Selv om hun mener det verste er over, er hun fremdeles frustrert over det hun har gjennomg\u00e5tt i l\u00f8pet av det siste \u00e5ret.</p>\n",
        "<p class=\"txt\">\u2013 I sommerferien, f\u00f8r jeg tiltr\u00e5dte, fikk jeg en mail fra Ottersen hvor det stod at han hadde fors\u00f8kt \u00e5 f\u00e5 tak i meg, men ikke lyktes. Han kan ikke ha pr\u00f8vd s\u00e6rlig hardt, sier hun og nikker mot telefonen som ligger p\u00e5 bordet foran henne. Hun har den med seg overalt.</p>\n",
        "<p class=\"txt\">I mailen skrev Ottersen at han hadde ansatt Knut F\u00e6gri som viserektor. Fjeld reagerte p\u00e5 at Ottersen hadde valgt \u00e5 utvide den demokratisk valgte ledelsesgruppa uten at hun fikk deltatt i diskusjonen. Ansettelsen viste seg ogs\u00e5 \u00e5 f\u00e5 konsekvenser for stillingen hennes.</p>\n",
        "<p class=\"txt\">\u2013 Da jeg kom p\u00e5 det f\u00f8rste arbeidsm\u00f8tet, var oppgavene allerede fordelt.</p>\n",
        "<p class=\"txt\">F\u00e6gri, den nye viserektoren, var satt opp p\u00e5 flere verv som tilh\u00f8rer prorektorvervet, blant annet hadde han f\u00e5tt ansvaret for forskning.</p>\n",
        "<p class=\"txt\">\u2013 Jeg satt og tenkte \u00abhva skal jeg gj\u00f8re da?\u00bb sier Fjeld, som mener det riktige ville v\u00e6rt at hun og de to viserektorene hadde satt seg ned sammen med rektor og blitt enige om hvordan de skulle fordelt oppgavene, ut ifra kompetanse og erfaring. Hun fikk aldri noen forklaring p\u00e5 hvorfor hun ble fratatt ansvaret for forskningen.</p>\n",
        "<p class=\"txt\">\u2013 Kanskje tenkte Ottersen at forskningen ble best ivaretatt av en mann fra matematiske og naturvitenskapelige fag. Han har heller ikke avsl\u00f8rt hvorfor han \u00f8nsket meg som kandidat til prorektorvervet.</p>\n",
        "<p class=\"txt\">Egentlig hadde hun aldri tenkt \u00e5 bli prorektor. 66-\u00e5ringen er egentlig mest opptatt av faget sitt, spr\u00e5kvitenskap.</p>\n",
        "<p class=\"txt\">\u2013 Men da jeg ble spurt, tenkte jeg \u00abjavel, s\u00e5 trenger de meg vel, da\u00bb. De m\u00e5tte jo ha vurdert meg og min erfaring.</p>\n",
        "<p class=\"txt\">Hun glemmer aldri den f\u00f8rste dagen som prorektor. Da klokka ble halv tolv, kom Ottersen og Gunn-Elin Aa. Bj\u00f8rneboe med en blomsterkvast som de gav henne i d\u00f8ra. \u00abVelkommen til oss\u00bb, sa de og gikk. Ingen sm\u00e5prat, ingen lunsjinvitasjon.</p>\n",
        "<p class=\"txt\">Noe av det f\u00f8rste hun fikk i oppdrag \u00e5 gj\u00f8re, var \u00e5 skrive under p\u00e5 regnskapet p\u00e5 seks milliarder fra \u00e5ret f\u00f8r \u2013 en oppgave hun ikke tok lett p\u00e5.</p>\n",
        "<p class=\"txt\">\u2013 Jeg fikk helt hetta! Jeg hadde jo ikke kjennskap til dette. Det var ingen vedlegg eller noen ting. Det l\u00e5 bare i hylla mi, v\u00e6r s\u00e5 god, liksom. Skulle jeg v\u00e6re med og ta ansvar for alle de pengene? Det virket som om tradisjonen er at administrasjonen ordner alt, og s\u00e5 setter man bare p\u00e5 navnet sitt der man blir bedt om det.</p>\n",
        "<p class=\"txt\">For Fjeld ble denne holdningen vanskelig \u00e5 godta i lengden. Hun opplevde \u00e5 sitte p\u00e5 m\u00f8ter i time etter time uten \u00e5 kunne bidra med noe som helst. Da hun omsider fikk satt seg ned med Ottersen, sa hun til ham at hun m\u00e5tte f\u00e5 noe ordentlig \u00e5 gj\u00f8re \u2013 ellers ville hun slutte.</p>\n",
        "<p class=\"txt\">\u2013 \u00c5\u00e5h, ja, men det skulle han ordne! sier Fjeld og himler med \u00f8ynene. Men det skjedde ingenting. Rundt p\u00e5ske fors\u00f8kte hun igjen \u00e5 f\u00e5 dr\u00f8ftet stillingen sin med Ottersen, men han sa da at man at i en s\u00e5 h\u00f8y stilling m\u00e5 finne sine egne oppgaver.</p>\n",
        "<p class=\"txt\">\u2013 Det er en litt merkelig m\u00e5te \u00e5 lede et rektorat p\u00e5. Skulle vi alle sammen hale og dra i hver v\u00e5r retning og jobbe for det vi selv syntes var viktig?</p>\n",
        "<p class=\"txt\">Fjeld begynte \u00e5 grue seg til \u00e5 g\u00e5 p\u00e5 jobben.</p>\n",
        "<p class=\"txt\">\u2013 Man blir ikke noen hyggelig person av \u00e5 jobbe under slike omstendigheter. Jeg har aldri hatt noe d\u00e5rlig forhold til kolleger og liker ikke konflikter. Men noen kamper m\u00e5 man bare ta. Det er synd, for jeg har ikke s\u00e5 mange \u00e5r igjen i akademia.</p>\n",
        "<p class=\"txt\">Etter en ukes tid med vurderinger for og imot leverte Fjeld sin fratredelseserkl\u00e6ring til rektor Ottersen. \u00abDet kommer du med <I>n\u00e5</I>?\u00bb, var responsen hun fikk.</p>\n",
        "<p class=\"txt\">\u2013 Men jeg hadde jo sagt ifra flere ganger.</p>\n",
        "<p class=\"txt\">Fjeld reagerte kraftig p\u00e5 at Ottersen i media gikk ut og sa at han var s\u00e5 lei seg for at hun ville trekke seg. \u00abHvis han virkelig hadde v\u00e6rt lei seg ville han vel satt seg ned og fors\u00f8kt \u00e5 ordne situasjonen?\u00bb tenkte hun. Noe av det hun opplevde som mest provoserende, var likevel hvordan hennes begrunnelse for oppsigelsen ble fortolket av rektoratet.</p>\n",
        "<p class=\"txt\">\u2013 Det er ikke sant at jeg trakk meg av personlige \u00e5rsaker. Jeg var ikke syk, det var ikke noe galt med meg. Jeg skrev at jeg gikk av fordi jeg mente jeg ikke hadde f\u00e5tt de arbeidsoppgavene som jeg hadde blitt forespeilet. Dagen f\u00f8r styrem\u00f8tet kom Ottersen med en liste p\u00e5 \u00e5tte punkter om hvordan fratredelsen skulle foreg\u00e5, som han insisterte p\u00e5 at hun m\u00e5tte skrive under p\u00e5 der og da. \u2013 S\u00e5nn gj\u00f8r man ikke med mennesker man har respekt for, sier Fjeld, som nektet \u00e5 skrive under p\u00e5 papiret. Universitas har f\u00e5tt se listen, men Fjeld \u00f8nsker ikke \u00e5 offentliggj\u00f8re den.</p>\n",
        "<p class=\"txt\">Fjeld er skuffet over m\u00f8tet med ledelsen p\u00e5 universitetet hun har v\u00e6rt s\u00e5 glad i gjennom s\u00e5 mange \u00e5r. Hun husker at verden \u00e5pnet seg p\u00e5 en helt ny m\u00e5te da hun som ung begynte \u00e5 studere tysk p\u00e5 UiO, etter \u00e5 ha jobbet et \u00e5r som au pair i \u00d8sterrike. Hun tok hovedfag i norsk, og jobbet ved siden av som norskl\u00e6rer for trygdeklienter. Det var der hun oppdaget hvor viktig det er med klart spr\u00e5k, og hun har v\u00e6rt opptatt av problematikken siden.</p>\n",
        "<p class=\"txt\">\u2013 Det var b\u00e5de narkomane og tidligere straffed\u00f8mte som gikk p\u00e5 kurset, og jeg husker at jeg ba dem om \u00e5 lese en brosjyre, \u00abHvem har rett til attf\u00f8ring\u00bb. Brosjyren var jo myntet p\u00e5 dem, men de forstod ikke b\u00e6ret! Selv om jeg tenkte at disse menneskene m\u00e5tte l\u00e6re seg \u00e5 lese, ble jeg mer opptatt av at de som skrev slike brosjyrer, m\u00e5tte l\u00e6re seg \u00e5 uttrykke seg tydeligere.</p>\n",
        "<p class=\"txt\">Da Fjeld skrev hovedfagsoppgave, brukte hun de gamle elevene sine som fors\u00f8kspersoner og fant ut at de hadde mye lettere for \u00e5 lese enkle tekster.</p>\n",
        "<p class=\"txt\">\u2013 Det var jo heller ikke noe problem for meg \u00e5 skrive om den brosjyren slik at den ble mer forst\u00e5elig, s\u00e5 da begynte jeg med det. Mange bedrifter og organisasjoner hyret meg inn for at jeg skulle fortelle dem hvordan man skal skulle skrive p\u00e5 denne m\u00e5ten. Det var jo ingen sak, det handlet bare om \u00e5 ta bort de vanskelige ordene og \u00e5 sette et punktum innimellom.</p>\n",
        "<p class=\"txt\">Da Fjeld var ferdig med hovedfag i norsk, fikk hun en stilling som vitenskapelig assistent p\u00e5 Institutt for leksikografi \u2013 faget som tar for seg problemer knyttet til utarbeiding av ordb\u00f8ker. Da hun begynte, visste hun knapt hva det var. I dag vet hun at ordbok-definisjoner er en egen kunst, som handler om \u00e5 appellere til det allmenne og det generelle.</p>\n",
        "<p class=\"txt\">\u2013 Du kan godt si at vi bruker Ivar Aasen-metoden, svarer hun p\u00e5 sp\u00f8rsm\u00e5l om hvorvidt hun egentlig jobber litt som nynorsk-pioneren som kartla dialektene i Norge p\u00e5 1800-tallet.</p>\n",
        "<p class=\"txt\">\u2013 N\u00e5r man skal finne fram til en ordbokdefinisjon, m\u00e5 man sp\u00f8rre mange mennesker om hva noe kalles, og det folk flest svarer, ja, det heter det. Hun leter med blikket og stopper opp ved en liten krukke p\u00e5 verandabordet.</p>\n",
        "<p class=\"txt\">\u2013 Hva vil du kalle dette, for eksempel?</p>\n",
        "<p class=\"txt\">\u2013 <I>En... B\u00f8sse?</I></p>\n",
        "<p class=\"txt\">\u2013 En b\u00f8sse, sier du. Ja, n\u00e5 f\u00e5r vi h\u00f8re hva den svenske fotografen sier n\u00e5r han kommer tilbake, han har sikkert et annet ord. S\u00e5 m\u00e5 jeg sp\u00f8rre alle, da... Noen vil kanskje si sukkerb\u00f8sse, noen andre sukkerkopp...</p>\n",
        "<p class=\"txt\">Fjeld har tatt opp igjen et massivt prosjekt \u2013 hun reviderer Bokm\u00e5lsordboka. Opptatt som hun er av kj\u00f8nnsteorier rundt spr\u00e5k, har hun blant annet merket seg at mange ord er skrevet av og for menn.</p>\n",
        "<p class=\"txt\">\u2013 Det er mange ord for kvinneting som rett og slett ikke finnes i ordboka. Ta aerobic, for eksempel. Da jeg begynte med mitt arbeid fantes ikke det ordet i ordboka. Men g\u00e5fotball, derimot...</p>\n",
        "<p class=\"txt\"><I>\u2013 G\u00e5fotball?</I></p>\n",
        "<p class=\"txt\">\u2013 Ja, det var en kjempes\u00e6r sport, hvor gutta liksom g\u00e5r litt sakte mens de spiller. Men man m\u00e5 passe seg for \u00e5 ikke bli for engasjert, kunsten er \u00e5 holde sitt eget perspektiv unna n\u00e5r man lager ordbokdefinisjoner, tilf\u00f8yer hun.</p>\n",
        "<p class=\"txt\">\u2013 Der kommer han, sier Fjeld og smiler mot den svenske fotografen.</p>\n",
        "<p class=\"txt\">\u2013 Hva vil du kalle dette, Henrik?</p>\n",
        "<p class=\"txt\"><I>Ja, nej... Ett sockerkar?</I></p>\n",
        "<p class=\"txt\">\u2013 Et sukkerkar, ja, da gikk du opp i hierarkiet, sier Fjeld triumferende.</p>\n",
        "<p class=\"txt\">Et kar kan v\u00e6re flere ting, men b\u00f8sse er mer spesifikt, skj\u00f8nner dere?</p>\n",
        "<p class=\"txt\">\u2013 Nei?</p>\n",
        "<p class=\"txt\">Hun l\u00f8fter opp et nytt eksempel fra bordet. Professoren er i undervisningsmodus.</p>\n",
        "<p class=\"txt\">\u2013 Ta en kaffekanne, da. Man har et overbegrep, alts\u00e5 <I>kanne</I>.</p>\n",
        "<p class=\"txt\">\u2013 Hva er det? Jo, det er en <I>kanne</I>, som... Ja, der har du overbegrepet, og s\u00e5 er det bare \u00e5 fylle inn. En kanne som er spesielt innrettet for \u00e5 servere kaffe, ikke sant? S\u00e5 kan du g\u00e5 oppover og oppover i systemet. En kanne, et husger\u00e5d, en ting... Til slutt ender man opp helt uti det bl\u00e5, med elementer som jord, ild, luft og vann, haha!</p>\n",
        "<p class=\"txt\">Selv om leksikografi er et av Fjelds hjertebarn, er hun minst like kjent for ha forsket p\u00e5 en rekke andre omr\u00e5der innen spr\u00e5kvitenskap. B\u00e5de spr\u00e5ket i norske dommer og banning er blant temaene som stadig er under lupen hennes. Hun er fascinert av m\u00e5ten vi bruker og finner opp spr\u00e5ket p\u00e5. Spr\u00e5ket i ledelsen p\u00e5 UiO var ogs\u00e5 noe hun \u00f8nsket \u00e5 ta tak i da hun tiltr\u00e5dte stillingen som prorektor. Men heller ikke det fikk hun positiv respons p\u00e5 da hun foreslo \u00e5 gj\u00f8re endringer.</p>\n",
        "<p class=\"txt\">\u2013 Jeg leste utredningen om PhD-utdanningen hvor det stod en del svada om at stipendiatene skal bli hele mennesker, sier Fjeld.</p>\n",
        "<p class=\"txt\">Hun erkjenner at det er viktig med en kommunikasjonsstrategi, men synes likevel disse strategiene fikk en urimelig stor plass i rektoratet.</p>\n",
        "<p class=\"txt\">\u2013 Det er ikke nok \u00e5 si at vi skal v\u00e6re verdens beste universitet. Studenter og stipendiater skal l\u00e6re seg \u00e5 bruke vitenskapelige metoder og finne og formidle ny kunnskap. S\u00e5 enkelt er det, og man trenger ikke skrive f\u00f8rti sider med fine talem\u00e5ter om det.</p>\n",
        "<p class=\"txt\">Sakens framstilling er her basert p\u00e5 Fjelds opplevelser. Se undersak for tilsvar fra Ottersen og F\u00e6gri.</p>"
       ],
       "metadata": {},
       "output_type": "display_data",
       "text": [
        "<IPython.core.display.HTML at 0x7fa66aea4198>"
       ]
      },
      {
       "html": [
        "<p class=\"txt\">Panelet best\u00e5r av et tilfeldig utvalg medlemmer av Universitas' redaksjon.</p>\n",
        "<p class=\"txt\">Karakterskalaen g\u00e5r fra A til F, hvor A er beste og F den d\u00e5rligste. Hver karakter avgj\u00f8res ved gjennomsnittet etter en stemmeopptelling.</p>\n",
        "<p class=\"txt\">Vi har hentet inn butikksommer\u00f8l fra landets st\u00f8rste bryggerier, i tillegg til en \u00e5pen klasse med \u00f8l fra Vinmonopolet og mikrobryggeri.</p>\n",
        "<p class=\"txt\">Alle \u00f8l er stappet inn i samme kj\u00f8leskap f\u00f8r smaking og b\u00f8r derfor ha noenlunde samme temperatur.</p>\n",
        "<p class=\"txt\">All \u00f8l er servert i det studenter gjerne har tilgjengelig av drikkeredskaper \u2013 som kopper, sk\u00e5ler og syltet\u00f8yglass.</p>\n",
        "<p class=\"mt\">TUBORG <I>SOMMER\u00d8L</I></p>\n",
        "<p class=\"txt\">\u2013 Smaker som deilig Farris bris med et hint av pils, er f\u00f8rste kommentar fra panelet. Hvis du er fjorten og synes \u00f8l er dritvondt, er dette typen for deg. \u00d8len f\u00e5r pluss for \u00abekstrem b\u00e6lmefaktor\u00bb, hyggelig design og friskhet. Imidlertid trekker den metalliske ettersmaken, med f\u00f8lelsen av et fettlag i munnen, en del ned. Dette er \u00f8len for Hyperstate-folket.</p>\n",
        "<p class=\"mt\">FREDRIKSTAD <I>SOMMER\u00d8L</I></p>\n",
        "<p class=\"txt\">\u2013 Disse har ikke brukt ei krone p\u00e5 designet. Ser ut som eventyrbrus!</p>\n",
        "<p class=\"txt\">Plankebyens \u00f8l lukter v\u00e5t ved, v\u00f8rter\u00f8l og et hint av s\u00e5pe. Det smaker fyll, dog ikke trist fyll. Den lover \u00f8l og gr\u00f8nne skoger p\u00e5 lukta, men leverer bare helt midt p\u00e5 treet. Panelet er samstemt i at denne \u00f8len har sin egen sjarm, og at den smaker og lukter \u00abhoppe i h\u00f8yet\u00bb. En \u00f8l man vil gj\u00f8re mye faenskap med.</p>\n",
        "<p class=\"mt\">HANSA <I>HER KOMMER SOLEN</I></p>\n",
        "<p class=\"txt\">\u2013 Her kommer Polen! Hansa har lagt seg p\u00e5 en \u00f8steuropeisk <I>taste</I>. Er det smugler\u00f8l? \u2013 En ressurssvak og veldig anonym \u00f8l. Tre sekunder etter du har tatt en klunk, er du fortsatt usikker p\u00e5 hva det smaker, kommenterer et panelmedlem.</p>\n",
        "<p class=\"txt\">\u00d8len har en vag smak av frukt og bitter honning, blir det fortalt, og panelet bestemmer seg for at usmaken kunne v\u00e6rt verre. Men \u00e5 parafrasere Jokke redder ikke denne fra \u00e5 falle til nedre halvdel av lista.</p>\n",
        "<p class=\"mt\">CB <I>FERIEPILSEN</I></p>\n",
        "<p class=\"txt\">\u2013 T\u00f8rka frukt og blomster, er f\u00f8rste reaksjon fra panelet. En kontinental smak, men p\u00e5 danskeb\u00e5tm\u00e5ten. Vi er i <I>Captain's Lounge</I> p\u00e5 vei til Hirtshals, blir dommerne enige om. Noen mener den er en god repareringspils, mens andre ville valgt den p\u00e5 seilb\u00e5ttur. Det er enighet om at dette ikke er fylle\u00f8l. \u2013 En trivelig \u00f8l med en ettersmak som sitter igjen lenge.</p>\n",
        "<p class=\"mt\">LADEGAARD <I>HVETE</I></p>\n",
        "<p class=\"txt\">\u2013 S\u00f8t honning, hvete og en anelse sitrus \u2013 denne biter meg i rumpa! \u2013 Det smaker tysk bensinstasjon, p\u00e5 en bra m\u00e5te. \u2013 Et innbydende, old school-preg, med deilige flasker \u00e5 drikke fra. Enormt pluss for skrukork, men er det en sommer\u00f8l? sp\u00f8r en av panelets kritiske r\u00f8ster. Under tvil blir den godkjent, og spesielt linjene \u00f8len trekker tilbake til Harald H\u00e5rfagre bringer den opp i toppsjiktet.</p>\n",
        "<p class=\"mt\">BORG <I>SOMMER\u00d8L</I></p>\n",
        "<p class=\"txt\">\u2013 Designet har de stj\u00e5let fra VG-lista \u2013 en tabloid \u00f8l, blir det sagt. En av fotografene anf\u00f8rer at boksen er mest fotogen. Lukter parfymert h\u00e5nds\u00e5pe eller H&M-parfyme. En litt skarpere smak med mye s\u00f8dme, som river i svelget. \u00d8len f\u00e5r pluss for \u00abpositiv holdning\u00bb, men trekkes for en \u00abp\u00e5tvunget k\u00e5thet\u00bb. En h\u00f8ydare p\u00e5 russetreff.</p>\n",
        "<p class=\"mt\">GRANS <I>EVIG SOMMER</I></p>\n",
        "<p class=\"txt\">\u2013 Et \u00e6rlig Ed Hardy-design, med en rekke white trash-elementer. Denne \u00f8len portretterer en l\u00f8rdag p\u00e5 Jessheim, bare uten vold. Men man f\u00e5r lyst til \u00e5 sl\u00e5 noen, p\u00e5st\u00e5r panelet. Smaken blir p\u00e5st\u00e5tt \u00e5 v\u00e6re en miks av Maaruds paprikapotetgull, konjakkuler og sm\u00f8r. En av paneldeltakerne g\u00e5r for \u00e5 kaste opp. Her er b\u00e6lmefaktoren p\u00e5 sitt laveste. \u2013 Bermen vil elske denne, ironihipsterne g\u00e5r for designet, mens resten b\u00f8r styre unna. Denne vil bidra til \u00e5 \u00f8ke markedet for saltstenger.</p>\n",
        "<p class=\"txt\"><I>\u00c5</I><I>PEN KLASSE:</I></p>\n",
        "<p class=\"mt\">RINGNES <I>SKJ\u00c6RG\u00c5RDSPILS</I></p>\n",
        "<p class=\"mt\">\u2013 Her har man en ekte sommer\u00f8l! Men det kjennes ut som den er \u00e5pnet for en time siden, s\u00e5 daff er den. Den er s\u00f8t og samtidig litt bitter, men mangler friskheten til en skj\u00e6rg\u00e5rds\u00f8l. En veldig vanlig pils, mener panelet. Pluss for tidl\u00f8st og sobert design, samt at det er den enkleste \u00f8len \u00e5 drikke. \u2013 Her er det s\u00e5 sm\u00e5 bobler at du slipper \u00e5 rape.</p>\n",
        "<p class=\"txt\">KINN <I>ROSA KINN</I></p>\n",
        "<p class=\"txt\">\u2013 Lukter som en fruktsk\u00e5l. Mormor tar med seg en av disse p\u00e5 slektstreff, \u00e5pner panelet. Som husholdningssaft blandet med \u00f8l, med et lite hint av Nyco.</p>\n",
        "<p class=\"txt\">\u2013 Denne skal jeg b\u00e6lme etter et bad p\u00e5 Hoved\u00f8ya i sommer, sier en mer ekstatisk deltaker. Kinn skapte den st\u00f8rste diskusjonen i panelet og ble enten topp eller bunn hos alle. Vinner prisen for mest interessante smak i begge leire.</p>\n",
        "<p class=\"mt\">RINGNES <I>SOMMER\u00d8L</I></p>\n",
        "<p class=\"txt\">\u2013 Her var det mye humle og bra frukt p\u00e5 vei ned, bryter en deltaker ut. \u2013 Den spruter litt mer i munnen, alts\u00e5, men hvor mange orker man? Du vil egentlig bare svelge unna fort, sier en annen. \u2013 Denne skal jeg drikke p\u00e5 en bl\u00e5 Hibas-dass i sommer. Knallbra sommersmak, anf\u00f8rer en tredje. Panelet mener den er s\u00e5 \u00abkvalmende som en \u00f8l b\u00f8r v\u00e6re\u00bb, med en \u00abkjappis i munnen\u00bb av en ettersmak. Jevnt over solide skussm\u00e5l, men to deltakere gir den stryk.</p>\n",
        "<p class=\"mt\">KRISTIANASTUDENTENES H\u00c5NDBRYGGERLAUG <I>HERREG\u00c5RDSBRYGG \u2013 IPA</I></p>\n",
        "<p class=\"txt\">\u2013 Denne stiller i en egen kategori. J\u00e6vla digg! \u2013 Definitivt den r\u00e5este smaken, som setter seg foran p\u00e5 tunga \u2013 ikke bak.</p>\n",
        "<p class=\"txt\">Her snakker vi grilling i parken, med noen dyre burgere og krydderp\u00f8lser. Panelet mener dette er en \u00abnippepils\u00bb og godtar den som sommer\u00f8l. Litt vel mye humle, blir det sagt, og noen drister seg til \u00e5 hevde at det er en \u00abambisi\u00f8s, men urutinert IPA\u00bb. I avstemminga er det likevel klart at denne g\u00e5r til topps.</p>\n",
        "<p class=\"txt\">BERENTSENS <I>SOMMER\u00d8L</I></p>\n",
        "<p class=\"txt\">\u2013 Ser ut som en sider p\u00e5 boksen, og den smaker ogs\u00e5 surt. En \u00f8l for folk som ikke liker \u00f8l, med en karakteristisk transmak som virkelig setter seg. Panelet mener dette er \u00aben \u00f8l for campingplasser p\u00e5 svenskegrensa\u00bb og synes det smaker billig.</p>\n",
        "<p class=\"mt\">KRISTIANASTUDENTENES H\u00c5NDBRYGGERLAUG <I>HVETE\u00d8LSDAGENE \u2013 BELGISK HVETE\u00d8L</I></p>\n",
        "<p class=\"txt\">\u2013 Ypperlig hvete\u00f8l. Lys, sm\u00e5s\u00f8t og syrlig. Mindre banansmak enn Paulaner og Erdinger, mener en kjenner i panelet. \u2013 Den smaker bedre enn den lukter, men jeg f\u00e5r litt f\u00f8lelsen av \u00e5 m\u00f8te en gammel l\u00e6rer fra barneskolen p\u00e5 byen, sier et mindre kyndig medlem. Panelet er enig i at den er \u00abgodt h\u00e5ndverk\u00bb, men setter Herreg\u00e5rdsbrygget fra samme bryggeri over denne.</p>"
       ],
       "metadata": {},
       "output_type": "display_data",
       "text": [
        "<IPython.core.display.HTML at 0x7fa66aea4198>"
       ]
      },
      {
       "html": [
        "<p class=\"fak1\">Konflikten</p>\n",
        "<p class=\"fak2\">Scene: Litteraturhuset</p>\n",
        "<p class=\"fak2\">Regi: Mads Sj\u00f8g\u00e5rd Pettersen</p>\n",
        "<p class=\"fak2\">Med: Torstein Bj\u00f8rklund</p>\n",
        "<p class=\"fak2\">Manus: Kristine Klubben, Torstein Bj\u00f8rklund og Mads Sj\u00f8g\u00e5rd Pettersen</p>\n",
        "<p class=\"txt\">N\u00f8dvendige nyanser</p>\n",
        "<p class=\"txt\"><I>Konflikten</I> er en monolog i figur av Torstein Bj\u00f8rklund, som tar for seg de mange nyansene i konflikten mellom palestinerne og j\u00f8dene. Innholdet er basert p\u00e5 to reiser og 37 intervjuer med personer i b\u00e5de Israel og Palestina.</p>\n",
        "<p class=\"txt\">Det hele starter med en rekke sammensatte videoklipp. Noen viser idyll, stillhet og ro, andre viser eksplosjoner, oppr\u00f8r og krig. Bj\u00f8rklund kommer inn p\u00e5 scenen og presenterer en personlig fortelling om bakgrunnen for denne monologen.</p>\n",
        "<p class=\"txt\">Forestillingen varer i en time, og i l\u00f8pet av tiden f\u00e5r du servert en omfattende historie fra depresjonen i Europa, holocaust, hvordan j\u00f8der og arabere tidligere levde side om side, mange krigene og frem til i dag. Det hele blir forsterket av video-intervjuer, hvor vi blant annet m\u00f8ter en palestinsk kvinne som har m\u00e5ttet bure inne balkongen sin for \u00e5 beskytte seg mot steinkasting. Vi m\u00f8ter ogs\u00e5 en israelsk patriot som mener at okkupasjonen m\u00e5 ta slutt, for f\u00f8rst da kan man snakke om fred sammen.</p>\n",
        "<p class=\"txt\">De tre manusforfatterne t\u00f8r \u00e5 stille sp\u00f8rsm\u00e5let om hvordan man kan gi all skyld til Israel, n\u00e5r den arabiske verden ikke gjorde stort da palestinerne ble drevet p\u00e5 flukt. De t\u00f8r \u00e5 p\u00e5peke at Israel som stat alltid har m\u00e5ttet beskytte seg selv. Samtidig fortelles historier om urettferdig behandling og mangel p\u00e5 rettigheter. Om hvordan arabiske familier har blitt splittet p\u00e5 grunn av muren, og hvordan israelske milit\u00e6re har massakrert palestinske familier.</p>\n",
        "<p class=\"txt\"><I>Konflikten</I> er dyp, tankevekkende og inspirerende. Den vil nok ikke endre st\u00e5stedet ditt, men den vil garantert f\u00e5 deg til \u00e5 se flere nyanser. Og som Bj\u00f8rklund selv sier i monologen: \u2013 Det handler om \u00e5 se konflikten med to \u00f8yne i stedet for ett.</p>\n",
        "<p class=\"bt\">foto: BirTe Nystad Magnussen</p>\n",
        "<p class=\"bt\">foto: Carsten Aniksdal</p>"
       ],
       "metadata": {},
       "output_type": "display_data",
       "text": [
        "<IPython.core.display.HTML at 0x7fa66aea4198>"
       ]
      },
      {
       "html": [
        "<p class=\"fak1\">Mizhmazh</p>\n",
        "<p class=\"fak2\">Av: Enmesher</p>\n",
        "<p class=\"fak2\">Plateselskap: Nordic Records</p>\n",
        "<p class=\"txt\">Se for deg tekoppene p\u00e5 tivoli. Den karusellen der koppen du sitter i snurrer rundt, samtidig som tallerkenen snurrer rundt, samtidig som selve karusellen snurrer rundt. De f\u00e6rreste liker den, og selv de som gj\u00f8r det ender med \u00e5 bli svimle og kvalme og uten \u00f8nske om \u00e5 gjenta turen. Akkurat slik er Enmeshers nye plate. Det frister \u00e5 hoppe av i f\u00f8rste sving, og det er lite som lokker til en ny tur.</p>\n",
        "<p class=\"txt\">Trioen, best\u00e5ende av Susanna Calvert, Henning Eidem og Peder Solvang, har holdt det g\u00e5ende siden 2003. De har lang fartstid som musikere og vet n\u00f8yaktig hva de gj\u00f8r, men blandingen av elektronisk musikk, afrobeats, kunstpop og progressiv rock n\u00e5r ikke helt hjem, spesielt ikke sistnevnte. Afrotrommene er et artig innslag, og fungerer bedre enn mye annet, men de f\u00e5r dessverre ikke nok rom, og forstyrres dessuten av vokalen med Henning Eidem, Peder Solvang og diverse gjesteartister.</p>\n",
        "<p class=\"txt\">Musikken er gjentakende og sirkul\u00e6r, og h\u00e5pet om et lite friskt pust blir aldri oppfylt. Starten p\u00e5 hver l\u00e5t kan i et lite \u00f8yeblikk virke interessant, men det som f\u00f8lger er det samme retningsl\u00f8se, gjentakende kaoset. Det er vanskelig \u00e5 se for seg hva slags publikum dette er produsert for. Med hele 12 spor er det skuffende lite variasjon, og overgangen fra \u00e9n l\u00e5t til en annen merkes etter hvert ikke.</p>\n",
        "<p class=\"txt\">Enmesher kunne med fordel investert litt mer i grafikk og design til sitt nye album. Likevel er det tvilsomt at det ville gjort det helt store utslaget. Innpakningen st\u00e5r i stil med musikken; det er en smule provoserende og lite tilgjengelig og innbydende.</p>"
       ],
       "metadata": {},
       "output_type": "display_data",
       "text": [
        "<IPython.core.display.HTML at 0x7fa66aea4198>"
       ]
      },
      {
       "html": [
        "<p class=\"txt\">@RektorenDin Prorektor uten en eneste stemme. Begynner \u00e5 bli redd for at Ragnhild Hennum er Frank Underwood. H\u00e5per ikke hun vil bli rektor...</p>\n",
        "<p class=\"txt\">14.mai\b#NyvalgN\u00e5</p>\n",
        "<p class=\"txt\">@rydje Etter nesten to \u00e5r i NSO har Andr\u00e9 byttet navn p\u00e5 Twitter til @NSO_Andre. 40 dager f\u00f8r han slutter. Cruel & unusual punishment kan ventes.</p>\n",
        "<p class=\"txt\">21.mai\bKommer til \u00e5 savne Rydje som rydder opp</p>\n",
        "<p class=\"txt\">@fjeldavli Beste som skjedde i pensum dette semesteret: Da Anders Lange hadde med seg vikingsverd i tv-debatt. Mer av det. #eksamenskj\u00f8ret</p>\n",
        "<p class=\"txt\">24.mai\bP\u00e5 tide \u00e5 bytte studie?</p>\n",
        "<p class=\"txt\">@velfundert Hvordan bryte sosiale normer p\u00e5 t-banen, en oppskrift:1. Insister p\u00e5 \u00e5 snakke med folk 2. Fortell om JESUS</p>\n",
        "<p class=\"txt\">18.mai\bEksamen bringer frem det beste i folk</p>\n",
        "<p class=\"txt\">@skjevrak Hadde eksamen i mikro\u00f8konomi idag. Fikk ingen sp\u00f8rsm\u00e5l om Paradise Hotel, s\u00e5 jeg bommet nok litt med forberedelsene.</p>\n",
        "<p class=\"txt\">23.mai\bYes, you did</p>"
       ],
       "metadata": {},
       "output_type": "display_data",
       "text": [
        "<IPython.core.display.HTML at 0x7fa66aea4198>"
       ]
      },
      {
       "html": [
        "<p class=\"txt\">Si din mening p\u00e5 universitas.no</p>\n",
        "<p class=\"mt\">Rektor suspektor</p>\n",
        "<p class=\"txt\">Dette tjener sittende rektor Ole Petter Ottersen liten \u00e6re, og det kan virke som om rektor med vilje har alliert seg med en prorektorkandidat som han ikke aktet \u00e5 bruke som noe mer enn et alibi for \u00e5 sikre seg st\u00f8tte fra humaniorafagene.</p>\n",
        "<p class=\"txt\">Mann1</p>\n",
        "<p class=\"txt\">Valgene som avholdes kan til n\u00f8d beskrives som \u00abdemokrati ovenfra\u00bb eller \u00abregissert demokrati\u00bb. Utenom valgene er ikke dette en institusjon som ledes etter demokratiske prinsipper.</p>\n",
        "<p class=\"txt\">Lindorm</p>\n",
        "<p class=\"txt\">Retten til et arbeidsmilj\u00f8 gjelder ogs\u00e5 i universitetsledelsen. Hvis prorektor ikke holder ut p\u00e5 grunn av mobbing fra rektor b\u00f8r rektor sparkes.</p>\n",
        "<p class=\"txt\">professor</p>\n",
        "<p class=\"txt\">Hentet fra debatten til nyhetssaken \u00abKrever nyvalg etter prorektor-saken\u00bb</p>\n",
        "<p class=\"mt\">Juks og bedrag</p>\n",
        "<p class=\"txt\">Ny unders\u00f8kelse viser at Univeritas elsker \u00e5 gj\u00f8re masse unders\u00f8kelser som skal sette andre partivelgere som de selv ikke stemmer p\u00e5 i d\u00e5rlig lys.</p>\n",
        "<p class=\"txt\">Joar</p>\n",
        "<p class=\"txt\">Hvis noen gikk p\u00e5 toalettet under eksamen og s\u00e5 p\u00e5 veggen at noen hadde skrevet \u00aboppgave 4 l\u00f8ses slik:\u00bb, med en forklaring under, hvor mange prosent ville ha sett bort og ikke latt seg lese det som sto? Jeg tror de aller fleste som sier at de ikke ville gjort dette lyver.</p>\n",
        "<p class=\"txt\">Anders Hansen</p>\n",
        "<p class=\"txt\">Enhver unders\u00f8kelse som g\u00e5r i disfav\u00f8r av Frp blir mistenkt for \u00e5 v\u00e6re feil. Det er Frp som jeg opplever det.</p>\n",
        "<p class=\"txt\">Tor</p>\n",
        "<p class=\"txt\">Hentet fra debatten til nyhetssaken \u00abFlest Frp-ere ville juksa\u00bb</p>\n",
        "<p class=\"mt\">Stress og gruppepress</p>\n",
        "<p class=\"txt\">Hele \u00absystemet basert p\u00e5 tillitt\u00bb med fraksjonsm\u00f8ter og enighet i forkant av et valg er vel allerede ganske h\u00e5pl\u00f8st udemokratisk. Gruppepress, gruppepsykologi og forhandlinger bestemmer hvem som blir valgt inn \u2013 ikke studentene.</p>\n",
        "<p class=\"txt\">Nico</p>\n",
        "<p class=\"txt\">Tror neppe et bytte fra positiv til negativ parlamentarisme vil fungere s\u00e5 godt, ei heller \u00e5 velge hele AU under ett. Dersom hele AU velges under ett, kan man f\u00e5 problemer med kj\u00f8nnsrepresentasjon i Universitetsstyret.</p>\n",
        "<p class=\"txt\">\u00d8yvind Norby Bj\u00f8rgo</p>\n",
        "<p class=\"txt\">\u00c5 velge hele AU under ett ville gjort at man unngikk det som var problematisk p\u00e5 konstituerende m\u00f8te i \u00e5r, og er p\u00e5 ingen m\u00e5te en ulovlig l\u00f8sning. Det hadde betydd at terskelen for \u00e5 v\u00e6re sikret en plass hadde blitt betydelig lavere, og dermed et bredere AU.</p>\n",
        "<p class=\"txt\">Torkil Vederhus</p>\n",
        "<p class=\"txt\">Hentet fra debatten til nyhetssaken \u00abRasar mot \u00abHouse of Cards\u00bb-man\u00f8ver\u00bb</p>"
       ],
       "metadata": {},
       "output_type": "display_data",
       "text": [
        "<IPython.core.display.HTML at 0x7fa66aea4198>"
       ]
      },
      {
       "html": [
        "<p class=\"fak1\">Botanisk hage 1814\u20132014: Historien om en hage</p>\n",
        "<p class=\"fak2\">Av: Liv Borgen</p>\n",
        "<p class=\"fak2\">Forlag: Press</p>\n",
        "<p class=\"txt\">Hage til nye h\u00f8yder</p>\n",
        "<p class=\"txt\">Grunnloven er ikke den eneste jubilanten som fortjener oppmerksomhet: Botanisk hage fyller ogs\u00e5 200 \u00e5r, og feirer seg selv med en splitter ny bok. Forfatter Liv Borgen, professor i botanikk ved Universitetet i Oslo, har gjort et imponerende kildearbeid, og gir leseren en grundig gjennomgang av hagens historie, funksjon og oppbygning over dr\u00f8yt 300 sider. Hvert kapittel tar for seg en gitt tidsramme, der Borgens levende og lettleste spr\u00e5k geleider deg gjennom hagens oppturer og nedturer siden oppstarten i 1814. Med jevne mellomrom er det viet plass til noen helsider med bilder, noe som gj\u00f8r seg sv\u00e6rt godt mellom tettpakket historie og fakta.</p>\n",
        "<p class=\"txt\">Samlet utgj\u00f8r Borgens bok en omfattende og detaljert pakke med informasjon. Vi f\u00e5r ikke bare vite hva som har skjedd \u2013 vi f\u00e5r vite hvorfor det skjedde og hva som ble konsekvensene. Hagens f\u00f8rste bestyrer reiste for eksempel p\u00e5 dannelsesreise f\u00f8r han begynte i jobben, og d\u00f8de av sult i Kongo f\u00f8r han rakk \u00e5 komme hjem igjen. Han rakk akkurat \u00e5 sende noen palmefr\u00f8 hjem til Oslo, og \u00e9n av palmene fra disse fr\u00f8ene fikk st\u00e5 helt til \u00e5r 2000.</p>\n",
        "<p class=\"txt\">Liv Borgen serverer intet mindre enn et bugnende blomsterbed av en bok, som b\u00f8r leses av alle som \u00f8nsker \u00e5 vite noe mer om Botanisk hage enn at den rommer blomster og et par museer. For de som derimot bare \u00f8nsker \u00e5 tilbringe noen late dager i sola p\u00e5 T\u00f8yen, er det nok en bedre id\u00e9 \u00e5 plukke opp en av de sm\u00e5 infobrosjyrene du finner i museene. Boka har potensial til \u00e5 gi deg like mye glede som opplevelsen av selve hagen, mens infobrosjyren kan sammenliknes med \u00e5 f\u00e5 et postkort med bilde av en sliten l\u00f8vetann.</p>"
       ],
       "metadata": {},
       "output_type": "display_data",
       "text": [
        "<IPython.core.display.HTML at 0x7fa66aea4198>"
       ]
      },
      {
       "html": [
        "<p class=\"txt\">Hva er n\u00f8kkelen til kunnskapsskolen? L\u00e6rerne. Ingenting er viktigere enn en god l\u00e6rer. En som er faglig sterk, ser elevene og inng\u00e5r i et sterkt profesjonsmilj\u00f8 med andre l\u00e6rere. En masterutdanning er en styrking av l\u00e6rerutdanningen og dermed et viktig bidrag til kunnskapsskolen. En masterutdanning m\u00e5 ikke bli str\u00f8mlinjeformet, og det er ingen motsetning mellom en slik utdanning og praksis. Vi er fortsatt avhengige av enda tettere kontakt mellom studiestedene og skolen.</p>\n",
        "<p class=\"txt\">TINGOEn masterutdanning gir mulighet til grundigere faglig fordypning, og til \u00e5 tilegne seg innsikt som kan legge grunnlaget for enda bedre undervisning i fremtiden. I profesjonsutdanninger gj\u00f8r man masterarbeidet i tett tilknytning til praksis. Det er derfor feil \u00e5 anta at en masterutdanning n\u00f8dvendigvis vil inneb\u00e6re un\u00f8dvendig teoretisering.</p>\n",
        "<p class=\"txt\">TINGOFinske l\u00e6rere har som f\u00f8lge av sin solide l\u00e6rerutdanning kunnet kreve mer frihet i ut\u00f8velsen av l\u00e6rerrollen. Etter at den finske l\u00e6rerutdanningen ble omgjort til masterutdanninger mot slutten av 1970 tallet, har l\u00e6reryrkets anseelse \u00f8kt gradvis. Dette er en av de viktigste faktorene for \u00e5 forklare hvorfor l\u00e6rerutdanningen er s\u00e5 popul\u00e6r i Finland.</p>\n",
        "<p class=\"txt\">TINGODet er derfor ikke uten grunn av b\u00e5de Utdanningsforbundet og Pedagogstudentene st\u00f8tter regjeringens forslag om \u00e5 innf\u00f8re master for l\u00e6rerutdanningene.</p>"
       ],
       "metadata": {},
       "output_type": "display_data",
       "text": [
        "<IPython.core.display.HTML at 0x7fa66aea4198>"
       ]
      },
      {
       "html": [
        "<p class=\"txt\">\u2013 Niqaben har ikke v\u00e6rt problematisk i skolesammenheng tidligere. Jeg har f\u00e5tt mye blikk og oppmerksomhet, men universitetet var det eneste stedet hvor jeg ikke f\u00f8lte meg rar, sier Somia Salaouatchi, student ved Universitetet i Oslo (UiO) til Universitas.</p>\n",
        "<p class=\"txt\">Etter endt eksamen desember 2013 fikk Salaouatchi en telefon fra studieveilederen sin. Det var da hun fikk vite at hun ikke lenger kan bruke heldekkende hodeplagg utover vanlige forelesninger. Salaouatchi sendte en mail til avdelingslederen, som igjen skal ha kontaktet instituttlederen.</p>\n",
        "<p class=\"txt\">\u2013 Jeg fikk et m\u00f8te i januar hvor ledelsen skulle gi meg de faglige begrunnelsene. Jeg var veldig spent p\u00e5 det m\u00f8tet. Men de hadde ingen gode begrunnelser, sier Salaouatchi.</p>\n",
        "<p class=\"mt\">Niqab-dom i Frankrike</p>\n",
        "<p class=\"txt\">Bruk av niqab har v\u00e6rt mye diskutert den siste uken, etter at det p\u00e5 tirsdag falt en dom i Den europeiske menneskerettighetsdomstol i Strasbourg. Saken gjaldt en 24 \u00e5r gammel fransk kvinne som har reist sak mot Frankrikes forbud mot plagget. Domstolen konkluderte med at Frankrikes forbud ikke strider mot Den europeiske menneskerettskonvensjonen. Dermed st\u00e5r d\u00f8ren \u00e5pen for at plagget kan forbys ogs\u00e5 i andre land som Norge.</p>\n",
        "<p class=\"mt\">\u2013Faglig begrunnelse</p>\n",
        "<p class=\"txt\">Berit Rognhaug, leder ved Institutt for spesialpedagogikk (ISP) understreker at vedtaktet er faglig begrunnet.</p>\n",
        "<p class=\"txt\">\u2013 Totalkommunikasjon er et b\u00e6rende prinsipp i spesialpedagogisk arbeid, sier hun.</p>\n",
        "<p class=\"txt\">Samtidig p\u00e5peker hun at ISP ikke har innf\u00f8rt et forbud mot bruk av niqab, men at studentene i visse situasjoner m\u00e5 l\u00f8fte sl\u00f8ret fra ansiktet.</p>\n",
        "<p class=\"txt\">If\u00f8lge Rognhaug vil vedtaket  gj\u00f8re det mulig for nye studenter \u00e5 vite hva de har \u00e5 forholde seg til n\u00e5r man s\u00f8ker seg inn til studieprogrammet.</p>\n",
        "<p class=\"txt\">\u2013 <i>I hvilke situasjoner vil bruken av niqab v\u00e6re problematisk?</i></p>\n",
        "<p class=\"txt\">\u2013 For eksempel n\u00e5r det kommer til problembasert l\u00e6ring, seminarvirksomhet og egentrening i r\u00e5dgivning. Totalkommunikasjon er noe av det viktigste vi jobber med, og det omfatter ord, stemme, h\u00f8rsel og blikk s\u00e5 vel som gester og mimikk.</p>\n",
        "<p class=\"txt\">Rognhaug gj\u00f8r det klart at vedtaket ikke har noe med religion \u00e5 gj\u00f8re.</p>\n",
        "<p class=\"txt\">\u2013 P\u00e5 Blindern st\u00e5r man fri til \u00e5 ha p\u00e5 hva man vil, og det synes jeg er flott! Men faglige krav skal ikke vike, det er det som er v\u00e5r policy, avslutter Rognhaug.</p>\n",
        "<p class=\"mt\">F\u00e5r ikke fullf\u00f8rt</p>\n",
        "<p class=\"txt\">Salaouatchi sier det som provoserer henne mest er at niqab-vedtaket ble gjort i skjul.</p>\n",
        "<p class=\"txt\">\u2013 Jeg hadde ikke noe jeg skulle ha sagt. Jeg kan snakke, jeg har ikke problemer med \u00e5 uttrykke meg, og har aldri m\u00f8tt p\u00e5 noen som ikke skj\u00f8nner hva jeg mener eller pr\u00f8ver \u00e5 komme frem til, sier Salaouatchi.</p>\n",
        "<p class=\"txt\">Per i dag kan Salaouatchi kun bruke niqab under forelesninger og veiledning og p\u00e5 campus. Dermed f\u00e5r hun ikke f\u00e5r fullf\u00f8rt studieprogammet uten \u00e5 l\u00f8fte p\u00e5 sl\u00f8ret.</p>\n",
        "<p class=\"txt\">\u2013 Jeg har ikke sluttet, men har kommet til enighet med studieveileder om at jeg skal bygge opp en egendefinert bachelor. Det er veldig synd, men s\u00e5nn er det, sier Salaouatchi.</p>\n",
        "<p class=\"txt\">Sammen med Rahma S\u00f8vik, tidligere student ved Universitetet i Troms\u00f8, har Salaouatchi skrevet kronikken <i>Fakultetet som skulle se muligheter</i>, der de g\u00e5r ut mot UiOs rekrutteringskampanje \u00abAlle har noe stort i seg\u00bb.</p>"
       ],
       "metadata": {},
       "output_type": "display_data",
       "text": [
        "<IPython.core.display.HTML at 0x7fa66aea4198>"
       ]
      },
      {
       "html": [
        "<p class=\"txt\">TINGO\u00abAlle har noe stort i seg\u00bb, lyder rekrutteringskampanjen til Universitetet i Oslo, h\u00f8sten 2013. Teksten akkompagneres med store bilder av smilende ansikter som skal illustrere det brede mangfoldet blant studentene. Alle unike og flotte, og alle med noe spesielt \u00e5 bidra med til universitetet og samfunnet. Kvinnelige studenter i niqab, har vist seg \u00e5 v\u00e6re en ikke like selvf\u00f8lgelig del av dette mangfoldet.</p>\n",
        "<p class=\"txt\">TINGOI det stille valgte instituttet for spesialpedagogikk ved UiO, rett f\u00f8r juleferien 2013, \u00e5 bli Norges f\u00f8rste institutt med forbud mot niqab. Forbudet rammer ikke forelesningssituasjoner, men gruppesamarbeid, seminarer og praksis; arenaer som studentene m\u00e5 delta p\u00e5 for \u00e5 f\u00e5 fullf\u00f8rt utdanningen.</p>\n",
        "<p class=\"txt\">If\u00f8lge fakultetsstyret, opplevde de et behov for debatt. Debatten ende med et forbud. Til tross for at et forbud bare rammer en enkelt student, en av undertegnede, kom nyheten som lyn fra klar himmel. Hva ble plutselig problematisk? Hvor er den faglige begrunnelsen? Ikke minst, hvordan foregikk beslutningsprosessen? Hvordan kunne den foreg\u00e5 uten at studenten selv ble involvert? Studenten m\u00e5tte selv kontakte styret og be om et m\u00f8te. Under dette m\u00f8tet, la fakultetets leder frem begrunnelser vi mener trenger dagslys.</p>\n",
        "<p class=\"txt\">TINGODet ble sagt at arbeidsmarkedet ikke vil ha folk med niqab. Det ble sagt at forbudet var en prinsippsak, og derfor ikke noe studenten skulle ta personlig. Det ble lagt til at bruk av niqab strider imot behovet for helhetlig kommunikasjon. Et av eksemplene som ble lagt frem, er at d\u00f8ve kan nektes \u00e5 bli terapeut p\u00e5 psykologilinjen, fordi de i en terapitime vil ha behov for d\u00f8vetolk. Slik vi ser det, er d\u00f8ve studenter, uavhengig av hvilke fag de fordyper seg i, en ressurs for samfunnet, og spesielt for de d\u00f8ve. En d\u00f8v psykolog eller terapeut, m\u00e5 bruke tolk i terapisamtaler, med mindre vedkommende behersker leppelesing og kan styre stemmen sin. Tolk i terapitimer er derfor ikke et uvanlig syn. En d\u00f8v psykolog vil v\u00e6re en stor ressurs, ikke bare faglig sett. Alle mennesker har et behov for \u00e5 f\u00f8le seg representert; \u00e5 m\u00f8te p\u00e5 mennesker man kjenner seg igjen i: Kompetanse innenfor ulike fagfelt m\u00e5 ogs\u00e5 besittes av de unormale.</p>\n",
        "<p class=\"txt\">Slik vi ser det, viser argumentene en tydelig mangel p\u00e5 gode argumenter. Kanskje trenger vi en bredere meningsutveksling om hvor beslutningstagninger av denne art, b\u00f8r ligge?</p>\n",
        "<p class=\"txt\">TINGODet er sv\u00e6rt f\u00e5 muslimske kvinner i Norge som bruker niqab. Vi har kjennskap til de aller fleste, og majoriteten av disse er ute i jobb eller under utdanning. Generelt oppleves arbeidsmarkedet som t\u00f8ft, men grad av p\u00e5kledning er ikke n\u00f8dvendigvis et hinder. Studenten som ble ber\u00f8rt av forbudet fikk flere jobbtilbud h\u00f8sten 2013; jobber som alle innebar tett kontakt med mennesker. Arbeidsgiverne s\u00e5 hennes ressurser og fokuserte p\u00e5 mulighetene.</p>\n",
        "<p class=\"txt\">TINGOArbeidsmarkedet er langt fra firkantet. Mulighetene er mange, ogs\u00e5 for spesialpedagoger. Med et forbud velger fakultetsstyret \u00e5 utestenge studenten fra disse mulighetene, samt hindres samfunnet i \u00e5 h\u00f8ste av hennes ressurser. Spesialpedagoger kan lage dataprogrammer med spesialpedagogisk fokus. De kan jobbe med sterkt synsvake eller blinde, som ikke har syn til \u00e5 la legge seg opp en mening om sin spesialpedagogs bekledning. En spesialpedagog kan jobbe med en-til-en taleveiledning, avskjermet fra omgivelsene. I en slik sammenheng vil niqaben v\u00e6re l\u00f8ftet.</p>\n",
        "<p class=\"txt\">TINGOInstituttet for Spesialpedagogikk l\u00e6rer sine studenter \u00e5 v\u00e6re sensitive overfor menneskers ulikheter, og at ulikheter krever ulike tiln\u00e6rminger. Studentene l\u00e6rer hvordan mange blir ansett som avvikere grunnet samfunnets konstruksjon av de normale. Derfor overrasker vedtaket ogs\u00e5 medstudenter som har f\u00e5tt kjennskap til forbudet.</p>\n",
        "<p class=\"txt\">TINGODet lar seg fint gj\u00f8re \u00e5 finne en passende praksisplass. Det meste lar seg l\u00f8se om man har en vilje til \u00e5 se mulighetene, og til \u00e5 fokusere p\u00e5 de ressursene den enkelte student har.</p>\n",
        "<p class=\"txt\">TINGOStudenten opplever studiehverdagen p\u00e5 fakultetet som sv\u00e6rt trivelig, \u00e5pen og inkluderende. Kommunikasjonen og samarbeidet fungerer bra mellom studenter og professorer. Vi har et h\u00e5p om at instituttet innser hvor viktig og verdifullt det er med et synlig og reelt mangfold, ogs\u00e5 blant de uteksaminerte studentene. Vi har tro p\u00e5 at UiO sitt verdigrunnlag oppfordrer dets ansatte til \u00e5 finne andre m\u00e5ter \u00e5 l\u00f8se problemstillinger p\u00e5 enn ved \u00e5 innf\u00f8re forbud.</p>\n",
        "<p class=\"txt\">TINGOEn avvisning av studenter p\u00e5 bakgrunn av bekledning, blottet for \u00e5penhet, og ivaretagelse av - og respekt for studenten, h\u00f8rer ikke hjemme ved noen av Norges utdanningsinstitusjoner. At studentrepresentanter ble inkludert i m\u00f8tene f\u00f8r forbudet ble vedtatt, holder ikke. Det er for \u00f8yeblikket \u00e9n student med niqab p\u00e5 UiO: Ingen kan representere denne studenten like godt og presist som studenten selv.</p>"
       ],
       "metadata": {},
       "output_type": "display_data",
       "text": [
        "<IPython.core.display.HTML at 0x7fa66aea4198>"
       ]
      },
      {
       "html": [
        "<p class=\"txt\">kultur</p>\n",
        "<p class=\"txt\">Nytt fag: Etter sommeren starter UiO et nytt emne om Ukraina som blant annet skal gi en grundigere innsikt i hva som skjer i Ukraina om dagen.</p>\n",
        "<p class=\"txt\">\u2013 M\u00e5let er \u00e5 formidle en forst\u00e5else av landets kulturelle og politiske forhold i dagens Europa. For \u00e5 forst\u00e5 dette skikkelig er det en forutsetning at man kjenner til landets historie og spr\u00e5k, sier Jan Ivar Bj\u00f8rnflaten, professor i slaviske spr\u00e5k ved UiO. Blant temaene som vil bli tatt opp er Ukrainas kulturelle oppblomstring i 1920-\u00e5rene, hungersn\u00f8den i 30-\u00e5rene, etterkrigstiden samt geopolitiske perspektiv p\u00e5 dagens situasjon.</p>\n",
        "<p class=\"txt\">\u2013 Emnet kommer s\u00e6rlig til \u00e5 ta opp utviklingen av landet i sovjetperioden og Ukrainas selvstendighetsperiode etter dette, sier Bj\u00f8rnflaten, som er fagansvarlig for emnet.</p>"
       ],
       "metadata": {},
       "output_type": "display_data",
       "text": [
        "<IPython.core.display.HTML at 0x7fa66aea4198>"
       ]
      },
      {
       "html": [
        "<p class=\"txt\">spenningsenergi: Hvor mange ganger har du ikke v\u00e6rt n\u00f8dt til \u00e5 vikle opp ledningsknuter? Professor i matematikk Vagn Lundsgaard Hansen har svaret p\u00e5 hvorfor dette skjer. \u2013 Hvis du strekker ut en strikk, vil den trekke seg sammen igjen n\u00e5r du slipper. Det er fordi den har kommet ut av sin naturlige posisjon, sitt hvilested. Den har f\u00e5tt tilf\u00f8rt spenningsenergi, sier Hansen til Videnskab.dk. N\u00e5r en ledning er vridd, vil den ene enden rotere den ene veien, mens andre vil rotere motsatt vei. De to endene har alts\u00e5 en motsatt spenningsenergi. Hvis to omr\u00e5der p\u00e5 ledningen fra hver sin ende kommer i kontakt, vil ledningen vri seg rundt seg selv.</p>"
       ],
       "metadata": {},
       "output_type": "display_data",
       "text": [
        "<IPython.core.display.HTML at 0x7fa66aea4198>"
       ]
      },
      {
       "html": [
        "<p class=\"txt\">avhengighet: \u00c5 bli hekta p\u00e5 fysisk trening kan sidestilles med \u00e5 bli avhengig av alkohol og spill, viser ny forskning. \u2013 Hvis disse personene ikke f\u00e5r trent, utl\u00f8ser det rastl\u00f8shet, frustrasjon og skyldf\u00f8lelse. Det kan sammenlignes med alkoholisme, hvor abstinensene tar utrolig mye plass i det sosiale livet, familielivet og arbeidslivet, sier Mia Beck Lichtenstein fra Syddansk Universitet. Hun har forsket p\u00e5 hva som skjer n\u00e5r folk lar treningen styre livet. Av de 600 personene hun tok for seg i sin studie, var 5,8 prosent treningsavhengige. Symptomene for de avhengige er at trening oppfattes som det viktigste i livet, gir konflikter med venner og familie, at de \u00f8ker treningsmengden fordi de ikke er forn\u00f8yde og ofte trener flere ganger daglig. I studien er det flere som forteller om skader p\u00e5 b\u00e5de kropp og sosialt liv.</p>"
       ],
       "metadata": {},
       "output_type": "display_data",
       "text": [
        "<IPython.core.display.HTML at 0x7fa66aea4198>"
       ]
      },
      {
       "html": [
        "<p class=\"mt\">Elleve m\u00e5neders studiest\u00f8ttemas</p>\n",
        "<p class=\"txt\">NSO-leder Ola Stedje har satt inn siste st\u00f8t f\u00f8r han skal gi ledervervet videre. I forrige ukes Universitas fikk han argumentert for heltidsstudenten i en sak om ritalin. Ad notam synes det er godt gjort, men  tror at det fremdeles er mer \u00e5 hente. VG kommer vel snart med grillp\u00f8lseguiden, og vi forventer da at Stedje er p\u00e5 ballen og forklarer hvorfor p\u00f8lsene smaker bedre med elleve m\u00e5neders studiest\u00f8tte. I tillegg tror vi NSO har mye \u00e5 hente ved \u00e5 forklare hvorfor sommerv\u00e6ret nytes bedre om man kan bruke hele dagen p\u00e5 \u00e5 studere, og dermed slipper \u00e5 jobbe p\u00e5 kvelden.</p>\n",
        "<p class=\"mt\">NHO-demokrati</p>\n",
        "<p class=\"txt\">NHO har sett seg lei p\u00e5 at studenter har noe de skulle ha sagt, og \u00f8nsker \u00e5 avskaffe rektorvalg ved universiteter.</p>\n",
        "<p class=\"txt\">\u2013 Det er lettere for en rektor \u00e5 handle udemokratisk og utelukkende etter v\u00e5r... ehh... egen vilje, om han ikke er demokratisk valgt, sier NHO-direkt\u00f8r Kristin Skogen Lund.</p>\n",
        "<p class=\"txt\">Hun har god tro p\u00e5 at forslaget vil g\u00e5 gjennom, men hun n\u00f8yer seg ikke med det. Det langsiktige m\u00e5let er at ogs\u00e5 Norge skal utnevne sine ledere igjen, fremfor \u00e5 velge dem.</p>\n",
        "<p class=\"mt\">Ottersen liker at rektorer velges</p>\n",
        "<p class=\"txt\">UiO-rektor Ole Petter Ottersen talte fredag p\u00e5 \u00e5rskonferansen til Nordisk institutt for studier av innovasjon, forskning og utdanning (NIFU) om hvorfor det er bra at rektorer velges framfor at de utnevnes av et styre. Han sa klokelig ikke noe om hva som b\u00f8r skje etter valget, men mener at valg er bra. Ad notam har ikke mer \u00e5 tilf\u00f8ye til denne. Ottersen greier seg helt fint p\u00e5 egenh\u00e5nd.</p>\n",
        "<p class=\"mt\">Offentlighet, schmoffentlighet</p>\n",
        "<p class=\"txt\">SiO-styremedlem Magnus Nystrand er ikke enig i at studentsamskipnaden b\u00f8r omfattes av offentlighetsloven.</p>\n",
        "<p class=\"txt\">\u2013 Jeg er opptatt av at SiO skal styres s\u00e5 \u00e5pent og ryddig som mulig, men, sier han.</p>\n",
        "<p class=\"txt\">Nystrand tror de kan v\u00e6re gjennomsiktige uten at det er lovp\u00e5lagt, og i klare ordelag forteller han hvorfor det er s\u00e5 viktig at de ikke underlegges offentlighetsloven.</p>\n",
        "<p class=\"txt\">\u2013 SiO som et ansvarlig rettssubjekt har mulighet til \u00e5 fatte beslutninger p\u00e5 selvstendig grunnlag, akkumulere et ansvarlig overskudd eller omorganisere for \u00e5 m\u00f8te nye behov i nye tjenesteomr\u00e5der, sier han p\u00e5 ordentlig.</p>"
       ],
       "metadata": {},
       "output_type": "display_data",
       "text": [
        "<IPython.core.display.HTML at 0x7fa66aea4198>"
       ]
      },
      {
       "html": [
        "<p class=\"txt\">1. I helgen var det valg til Europaparlamentet. Hvilket parti fikk flest stemmer i Frankrike og hva heter partiets leder?</p>\n",
        "<p class=\"txt\">2. Hvilken norsk avdeling av en internasjonal organisasjon ble stiftet i 1922 av Johan Bojer og arbeider for \u00abden retten til ytringsfrihet som er nedfelt i FNs Universelle Menneskerettighetserkl\u00e6rings paragraf 19, i den norske Grunnlovens paragraf 100 og i Den internasjonale konvensjonen om sivile og politiske rettigheter\u00bb?</p>\n",
        "<p class=\"txt\">3. Forsvarssjefen i Norge fra 1940 hadde et etternavn som ogs\u00e5 er et norsk verb i infinitiv. Verbet brukes nesten utelukkende om fj\u00e6rkre. Hva er etternavnet?</p>\n",
        "<p class=\"txt\">4. Hvilken fotballtrener er den eneste som har trent b\u00e5de Norges herre- og kvinnelandslag i fotball?</p>\n",
        "<p class=\"txt\">5. Hvilken norsk statsminister etter andre verdenskrig hadde et fornavn han delte med den samtidig sittende amerikanske presidenten?</p>\n",
        "<p class=\"txt\">6. Hvilken regiss\u00f8r vant Gullpalmen i Cannes i 1974 for filmen \u00abAvlyttingen\u00bb og i 1979 for filmen \u00abApokalypse n\u00e5\u00bb?</p>\n",
        "<p class=\"txt\">7. Forrige gang to spanske lag m\u00f8ttes i en Champions League-finale var i \u00e5r 2000. Hvilke to lag m\u00f8ttes den gang ?</p>\n",
        "<p class=\"txt\">8. Hvem ble p\u00e5 fredag utnevnt til ny direkt\u00f8r for Nasjonalbiblioteket ? Han har siden 2006 v\u00e6rt daglig leder for Litteraturhuset i Oslo.</p>\n",
        "<p class=\"txt\">9. Hvilket land er regjerende verdensmester i ishockey?</p>\n",
        "<p class=\"txt\">10. Landet der det nylig avholdte mesterskapet foregikk grenser til fem land. Hvilke?</p>\n",
        "<p class=\"txt\">Svar:</p>\n",
        "<p class=\"txt\">1. Front National og Marine Le Pen</p>\n",
        "<p class=\"txt\">2. Norsk P.E.N.</p>\n",
        "<p class=\"txt\">3. Ruge, Otto</p>\n",
        "<p class=\"txt\">4. Per-Mathias H\u00f8gmo</p>\n",
        "<p class=\"txt\">5. John Lyng (John F. Kennedy)</p>\n",
        "<p class=\"txt\">6. Francis Ford Coppola</p>\n",
        "<p class=\"txt\">7. Valencia og Real Madrid</p>\n",
        "<p class=\"txt\">8. Aslak Sira Myhre</p>\n",
        "<p class=\"txt\">9. Russland</p>\n",
        "<p class=\"txt\">10. Russland, Latvia, Litauen, Polen og Ukraina</p>"
       ],
       "metadata": {},
       "output_type": "display_data",
       "text": [
        "<IPython.core.display.HTML at 0x7fa66aea4198>"
       ]
      },
      {
       "html": [
        "<p class=\"txt\">Rektoren ved Universitetet i Oslo er i \u00e5pen strid med tidligere prorektor Ruth Vatvedt Fjeld, som sa opp sin stilling i april som f\u00f8lge av det hun opplevde som mobbing.</p>\n",
        "<p class=\"txt\">\u2013 N\u00e5r de fors\u00f8ker \u00e5 framstille det som om jeg trekker meg av personlige \u00e5rsaker \u2013 underforst\u00e5tt som om jeg har g\u00e5tt lei \u2013 s\u00e5 blir jeg sint, sier Ruth Vatvedt Fjeld.</p>\n",
        "<p class=\"txt\"><b>Prorektor spessial 1. Fra saken \u00abVi b\u00f8r si minst mulig\u00bb i Klassekampen, 23.05</b></p>\n",
        "<p class=\"txt\">Rektor ved Universitetet i Oslo, Ole Petter Ottersen, vil ikke kommentere Ruth Vatvedt Fjelds uttalelser om at hun f\u00f8lte seg mobbet i prorektorstillingen som hun n\u00e5 har trukket seg fra.</p>\n",
        "<p class=\"txt\">\u2013 Det er hennes subjektive oppfatning, og den kan jeg ikke kommentere, sier han til Dagbladet.</p>\n",
        "<p class=\"txt\">Han vil heller ikke kommentere hennes syn om at hun ble holdt utenfor i arbeidet i ledelseskollegiet.</p>\n",
        "<p class=\"txt\">\u2013 Jeg synes dette er en trist sak, sier Ottersen, som mener at han og universitetet alt i alt har h\u00e5ndtert saken p\u00e5 en god m\u00e5te.</p>\n",
        "<p class=\"txt\"><b>Prorektor spessial 2. Fra saken \u00abN\u00e5 krever studentene nyvalg\u00bb i Dagbladet, 23.05</b></p>\n",
        "<p class=\"txt\">\u2013 Jeg synes det er veldig bra at en samlet studentmasse sier ifra om at det er universitetsdemokratiet m\u00e5 g\u00e5 foran andre hensyn. Men om styret vil rette seg etter dette og utlyse nyvalg har jeg ingen formening om, sier Eriksen.</p>\n",
        "<p class=\"txt\">Universitetsrektor Ole Petter Ottersen sier via sin kommunikasjonsdirekt\u00f8r Marina Tofting at han \u00abikke \u00f8nsker \u00e5 kommentere saken videre.</p>\n",
        "<p class=\"txt\"><b>Prorektor spessial 3. Fra saken \u00abMener vedtak er ugyldig\u00bb i Klassekampen, 27.05</b></p>"
       ],
       "metadata": {},
       "output_type": "display_data",
       "text": [
        "<IPython.core.display.HTML at 0x7fa66aea4198>"
       ]
      },
      {
       "html": [
        "<p class=\"txt\"><b>Bergen</b> STUDVEST</p>\n",
        "<p class=\"txt\">Ulempen ved at forskere som Gamlund sier nei til forskning er blant annet at man risikerer \u00e5 f\u00e5 inntrykk av at forskere setter seg p\u00e5 en pidestall ved \u00e5 bygge vanntette skott mellom seg selv og omverdenen. Det kan i ytterste konsekvens svekke legitimiteten til de offentlige utdanningsinstitusjonene, som i praksis kan bety at forskerne graver sin egen grav. For kunnskaps-Norge ville det v\u00e6rt en katastrofe.</p>\n",
        "<p class=\"txt\"><b>Cambridge</b>   The Harvard Crimson</p>\n",
        "<p class=\"txt\">Personally, I find the greatest growth when I intentionally override my internal resistance and listen to people who make me uncomfortable and challenge me. It never dawned on me that, as a man, I could learn so much from attending a lecture on Insights and Experience from Women in Power or listening to Senator John McCain and gaining a newfound appreciation of his lifelong service to our country.</p>\n",
        "<p class=\"txt\"><b>New York</b>   Columbia Daily Spectator</p>\n",
        "<p class=\"txt\">So far, the school has not recognized that power to the full extent that students deserve\u0097probably because it could be the leverage student groups need to enact desperately needed change. Columbia's being a corporation is not necessarily a bad thing. A corporate Columbia is one where students\u0097investors\u0097should have a real say.</p>\n",
        "<p class=\"txt\"><b>Oxford</b>   Cherwell</p>\n",
        "<p class=\"txt\">It's true that getting wasted every single night will get you nowhere fast, as far as your degree is concerned at least. Heavy drinking can be harmful to your energy levels, your general wellbeing and, quite often, your dignity. However, it's more than possible to enjoy the university drinking culture without going to excess.</p>"
       ],
       "metadata": {},
       "output_type": "display_data",
       "text": [
        "<IPython.core.display.HTML at 0x7fa66aea4198>"
       ]
      },
      {
       "html": [
        "<p class=\"plakdag\">Torsdag 29. mai</p>\n",
        "<p class=\"plaktxt\">B\u00f8ker: Har du bes\u00f8kt Oslos fineste bruktboksjappe? Cappelens forslag har et godt utvalg b\u00f8ker og kanskje Oslos beste betjening. Fetterne Pil og Andreas Cappelen hjelper deg \u00e5 finne b\u00f8kene du ikke visste du ville lese. Torsdager har de (som regel) \u00e5pent til midnatt. Cappelens forslag, 11.00</p>\n",
        "<p class=\"plakdag\">Fredag 30. mai</p>\n",
        "<p class=\"plaktxt\">\u00c5pen mikrofon: Har du lyst til \u00e5 teste teksten din p\u00e5 et publikum? Eller h\u00f8re p\u00e5? I Litteraturhusets kjeller skrur de nok en gang p\u00e5 mikrofonen for dem som m\u00e5tte \u00f8nske \u00e5 lese novelleutdrag, prosadikt, dagboknotater, romanfragmenter eller kanskje sanglyrikk. Maks tre minutter p\u00e5 hver og p\u00e5melding en time f\u00f8r arrangementsstart. Litteraturhuset, 21.00</p>\n",
        "<p class=\"plakdag\">S\u00f8ndag 01. juni</p>\n",
        "<p class=\"plaktxt\">Avgangsutstillinger: Alle byens kreative barn/studenter har laget ting de vil vise frem. Benytt anledningen til \u00e5 sjekke ut morgendagens profesjonelle kunstnere og andre kreative sjeler p\u00e5 Kunstnernes hus, Westerdals, Norsk skuespillerinstitutt, kunsth\u00f8yskolen i Oslo, skolen for samtidsdans, Oslo fotokunstskole etc. Gj\u00f8r det! Sjekk en skole n\u00e6r deg.</p>\n",
        "<p class=\"plakdag\">Mandag 02. juni</p>\n",
        "<p class=\"plaktxt\">Foredrag: Tidligere president for Europaparlamentet Jerzy Buzek vil snakke om krisen i Ukraina og hva slags implikasjoner dette har for forholdet mellom EU, \u00d8st-Europa og Russland. Aud. 7 i Eilert Sundts hus p\u00e5 Blindern, 10.00</p>\n",
        "<p class=\"plakdag\">Onsdag 04. juni</p>\n",
        "<p class=\"plaktxt\">Vin & vinyl: I juni er det Musikkfest i Oslo, med 34 utescener over hele byen og gratis konserter fra morgen til kveld. Chateau har invitert folkene bak til ta med seg en knippe l\u00e5ter og fortelle om scener, sjangere og band fra \u00e5rets program, og \u00e5 gi et lite tilbakeblikk p\u00e5 band som spilte p\u00e5 Musikkfest lenge f\u00f8r ber\u00f8mmelsen tok dem. Biblioteket p\u00e5 Chateau Neuf, 20.00</p>\n",
        "<p class=\"txt\">Gi oss beskjed om arrangementer p\u00e5 epost: universitas@universitas.no</p>"
       ],
       "metadata": {},
       "output_type": "display_data",
       "text": [
        "<IPython.core.display.HTML at 0x7fa66aea4198>"
       ]
      },
      {
       "html": [
        "<p class=\"txt\">Rektor Ole Petter Ottersen og viserektor Knut F\u00e6gri har blitt forelagt Ruth Vatvedt Fjelds framstillinger i denne saken. Ottersen sier via Universitetet i Oslos kommunikasjonsdirekt\u00f8r at han ikke kjenner seg igjen i beskrivelsene til Fjeld, men at han heller ikke \u00f8nsker \u00e5 kommentere saken i mediene. For \u00f8vrig viser han til UHR-loven som sier at prorektor er stedfortreder for rektor.</p>\n",
        "<p class=\"txt\">Viserektor F\u00e6gri er uenig i Fjelds framstilling. I en e-post til Universitas skriver han at \u00abSaken p\u00e5 rektoratm\u00f8tet som Vatvedt Fjell (sic, red. anm.) viser til (utredningen av doktorgradsutdanningen, red.anm) gjaldt oppf\u00f8lging av en tidligere styresak.\u00bb F\u00e6gri mener ansvaret for dette ble lagt til ham under et ledelsesm\u00f8te tidlig h\u00f8st 2013, der Ruth Vatvedt Fjeld ogs\u00e5 var tilstede.</p>\n",
        "<p class=\"txt\">F\u00e6gri mener det ikke er riktig at oppgaver som tidligere till\u00e5 prorektorstillingen ble overf\u00f8rt til ham, og sier at de oppgavene han overtok i forbindelse med forskning i hovedsak var oppf\u00f8lging av oppgaver som tidligere hadde ligget hos forskningsdirekt\u00f8ren.</p>\n",
        "<p class=\"txt\">\u2013 I perioden frem mot overgang til ny struktur i ledelsen fra 1.1.14 var det behov for forankring av disse oppgavene inn mot ledelsen og generell kontakt med Forskningsadministrativ avdeling, skriver viserektoren i e-posten.</p>\n",
        "<p class=\"txt\">magasin@universitas.no</p>"
       ],
       "metadata": {},
       "output_type": "display_data",
       "text": [
        "<IPython.core.display.HTML at 0x7fa66aea4198>"
       ]
      },
      {
       "html": [
        "<p class=\"tit\">Mener Ottersen er redd for \u00e5 bli satt i skyggen</p>\n",
        "<p class=\"txt\">Rektorvalg</p>\n",
        "<p class=\"txt\">John Peter Collett, historieprofessor ved UiO, sier Ole Petter Ottersen er en entusiastisk og utrettelig rektor, men som er sv\u00e6rt opptatt av ikke \u00e5 bli satt i skyggen av andre.</p>\n",
        "<p class=\"txt\">\u2013 Ottersen har siden han f\u00f8rste gang ble valgt som rektor omgitt seg med et p\u00e5fallende svakt og anonymt team i rektoratet, sier han, og trekker fram ansettelsen av Ruth V. Fjeld som et eksempel p\u00e5 dette.</p>\n",
        "<p class=\"txt\">\u2013 Han er vant til \u00e5 vite best og v\u00e6re best. Ved \u00e5 velge et lederteam som verken har tyngde eller autoritet, omgir han seg med personer som ikke setter ham selv i skyggen, sier Collett.</p>\n",
        "<p class=\"txt\">Han mener Fjelds avgang skyldtes at hun ikke var i stand til \u00e5 fylle rollen som prorektor.</p>\n",
        "<p class=\"txt\">\u2013 F\u00f8r valget i fjor valgte Ottersen en prorektorkandidat uten relevant erfaring, som ingen kjente, og som ikke overraskende viste seg \u00e5 v\u00e6re ute av stand til \u00e5 fylle denne rollen. Det taler til Fjelds fordel at hun etter kort tid inns\u00e5 at det var slik, og at hun n\u00e5 trekker seg, sier Collett.</p>\n",
        "<p class=\"txt\">Han mener derimot at det ikke taler til Ottersens fordel at han f\u00f8rst velger en \u00abukvalifisert\u00bb prorektorkandidat, og deretter gir henne \u00abliten kollegial og menneskelig st\u00f8tte\u00bb. Fjeld \u00f8nsker ikke \u00e5 kommentere Colletts p\u00e5stand om manglende egnethet. Heller ikke Ottersen vil kommentere saken.</p>\n",
        "<p class=\"txt\">\u2013 I et demokratisk samfunn, og ved Universitetet i Oslo der rektor Ottersen er opptatt av valg og demokrati, m\u00e5 man ha en \u00e5pen debatt og ikke gj\u00f8re opp ting p\u00e5 kammerset, sier historieprofessor John Peter Collett til Universitas. Han er ansatt ved Universitetet i Oslo (UiO), der det i april ble kjent at Ruth V. Fjeld trakk seg som prorektor. Etter UiOs valgreglement skulle dette f\u00f8rt til nyvalg av b\u00e5de rektor og prorektor, men p\u00e5 et m\u00f8te 6. mai valgte universitetsstyret \u00e5 overse disse reglene. Ottersen hevdet at Fjeld trakk seg av personlige \u00e5rsaker, noe Fjeld selv er uenig i. Hun forteller at hun trakk seg blant annet p\u00e5 grunn av mangel p\u00e5 arbeidsoppgaver.</p>\n",
        "<p class=\"mt\">\u2013 Fryktelig skuffende</p>\n",
        "<p class=\"txt\">\u2013 Denne saken har blitt h\u00e5ndtert p\u00e5 en fryktelig skuffende m\u00e5te. Jeg er bekymret over at universitetsstyret ikke tar hensyn til egne regler. Det er deres oppgave \u00e5 passe p\u00e5 at valgreglementet blir overholdt, sier Collett.</p>\n",
        "<p class=\"txt\">Han f\u00e5r st\u00f8tte av Johan F. Storm, medisinprofessor ved UiO og styremedlem i Akademisk forum.</p>\n",
        "<p class=\"txt\">\u2013 Dersom organer og ledere uten videre kan sette til side eller bryte gjeldende regler, kan det bane vei for \u00f8kt vilk\u00e5rlighet og maktbruk som svekker den demokratiske kontrollen, sier Storm, som tidligere har uttalt seg om saken til Uniforum.</p>\n",
        "<p class=\"txt\">\u2013 At ledelsen insisterte p\u00e5 \u00e5 bruke ordet \u00abpersonlig\u00bb n\u00e5r Fjeld har gjort det krystallklart overfor dem at hun ikke mener dette, er misvisende, sier han.</p>\n",
        "<p class=\"mt\">\u2013 S\u00e5r tvil om rektors motiver</p>\n",
        "<p class=\"txt\">Etter at Fjeld trakk seg, tok tidligere viserektor Ragnhild Hennum over prorektorjobben.</p>\n",
        "<p class=\"txt\">\u2013 Universitetsledelsen har brutt eget reglement, og rektoratet best\u00e5r n\u00e5 av andre personer enn de som ble valgt, oppsummerer Ellen Dalen, leder i Norsk Tjenestemannslag (NTL) ved UiO.</p>\n",
        "<p class=\"txt\">\u2013 Det har ogs\u00e5 kommet motstridende informasjon om hva som var \u00e5rsaken til at Fjeld trakk seg, og dette kan bidra til \u00e5 s\u00e5 tvil om rektors motiver for \u00e5 fravike reglementet, sier hun.</p>\n",
        "<p class=\"txt\">Leder av UiOs valgstyre, Knut Heidar, sier til Universitas at valgstyrets oppgave var \u00e5 gi universitetsstyret en anbefaling som ivaretok valget som velgerne hadde gjort for denne rektorperioden.</p>\n",
        "<p class=\"mt\">Trekker seg i protest</p>\n",
        "<p class=\"txt\">I forkant av m\u00f8tet i universitetsstyret 6. mai leverte Christian Stranden\u00e6s, studentrepresentant i UiOs valgstyre, en skriftlig dissens mot \u00e5 overkj\u00f8re valgreglementet til det \u00f8vrige valgstyret. Denne dissensen kom ikke med i sakspapirene. Valgstyreleder Heidar sier at han ikke husker at Stranden\u00e6s ba om at dissensen skulle f\u00f8lge sakspapirene.</p>\n",
        "<p class=\"txt\">\u2013 Den burde v\u00e6rt skriftlig fremlagt p\u00e5 styrem\u00f8tet, og jeg m\u00e5 ta p\u00e5 min kappe at det ikke ble gjort. Men jeg orienterte muntlig om dissensen under styrem\u00f8tet, sier Heidar.</p>\n",
        "<p class=\"txt\">Stranden\u00e6s har n\u00e5 valgt \u00e5 trekke seg fra sitt verv i protest.</p>\n",
        "<p class=\"txt\">\u2013 Jeg trekker meg fordi mitt alternative forslag til vedtaket ikke ble lagt ved i presentasjonen til universitetsstyret, slik det skulle. Det er heller ikke innenfor valgstyrets mandat \u00e5 anbefale universitetsstyret \u00e5 fravike reglementet, sier han til Universitas.</p>\n",
        "<p class=\"txt\">Studentrepresentantene i universitetsstyret var de eneste som stemte mot forslaget om \u00e5 innsette Ragnhild Hennum som prorektor uten nyvalg. En samlet masse av studentpolitikere ved UiO krever n\u00e5 nyvalg.</p>\n",
        "<p class=\"txt\">\u2013 Det er arrogant av universitetsstyret \u00e5 se bort fra demokratiske prinsipper, sier Gabrielle Gjerdset, leder av Studentparlamentet.</p>\n",
        "<p class=\"mt\">\u2013 Har bommet fundamentalt</p>\n",
        "<p class=\"txt\">Samtlige ansatte og studenter Universitas har snakket med i denne saken, mener n\u00e5 at tilliten til Ottersen er svekket. Tross flere henvendelser, \u00f8nsker ikke rektor Ottersen \u00e5 kommentere saken eller anklagene mot ham.</p>\n",
        "<p class=\"txt\">\u2013 Det foreligger flere grove saksbehandlingsfeil i denne saken, og da kan ikke rektor la v\u00e6re \u00e5 uttale seg til pressen, sier jussprofessor Anne Robberstad.</p>\n",
        "<p class=\"txt\">Hun mener at UiOs valgstyre ikke kan bryte valgreglementet kun fordi de selv mener det er gode nok grunner for det.</p>\n",
        "<p class=\"txt\">\u2013 Universitetsreglementet har ikke like h\u00f8y rang som loven selv, men er like bindende. Valgstyret har bommet fundamentalt p\u00e5 sp\u00f8rsm\u00e5let om de har adgang til \u00e5 se bort fra reglementet, fordi de mener gode grunner talte for det, sier Robberstad til Universitas.</p>\n",
        "<p class=\"mt\">\u2013 Partisk fremleggelse</p>\n",
        "<p class=\"txt\">Da Fjeld leverte sin fratredelseserkl\u00e6ring til rektor Ottersen 24. april, informerte Ottersen universitetsdirekt\u00f8ren umiddelbart. Men Ottersen signerte ikke erkl\u00e6ringen f\u00f8r 30. april, da sakspapirene ble overlevert til valgstyret. Universitetsstyret fikk ikke se erkl\u00e6ringen f\u00f8r under selve styrem\u00f8tet 6. mai.</p>\n",
        "<p class=\"txt\">\u2013 Det er viktig at styret f\u00e5r informasjonen de trenger for \u00e5 uttale seg om saken. Vi synes det er en utfordring i Universitetsstyret, ogs\u00e5 n\u00e5r det gjelder fagforeningssaker, at det skjer en partisk fremleggelse og at sakspapirer kommer for sent, sier Ellen Dalen i NTL.</p>\n",
        "<p class=\"mt\">Fikk munnkurv av Ottersen</p>\n",
        "<p class=\"txt\">Fjeld har gitt Universitas tilgang til en liste p\u00e5 \u00e5tte punkter som spesifiserer hvordan fratredelsen skulle foreg\u00e5. Fjeld \u00f8nsker ikke at innholdet i selve listen skal gj\u00f8res kjent, men forteller at Ottersen ba henne skrive under p\u00e5 listen, noe hun nektet \u00e5 gj\u00f8re.</p>\n",
        "<p class=\"txt\">I Klassekampen kommer det frem at universitetsstyrets medlemmer fikk se alle saksdokumentene f\u00f8rst rett f\u00f8r avstemmingen. I samme avis st\u00e5r det at UiO-rektor Ole Petter Ottersen i forkant av styrem\u00f8tet ringte rundt til styremedlemmene, og at han sendte en mail til Fjeld der han ba henne si \u00abminst mulig\u00bb om sin avgang p\u00e5 styrem\u00f8tet.</p>\n",
        "<p class=\"txt\">Arnt Maas\u00f8, f\u00f8rsteamanuensis ved Institutt for medier og kommunikasjon ved UiO, reagerer p\u00e5 denne framgangen.</p>\n",
        "<p class=\"txt\">\u2013 Dette mener jeg fremst\u00e5r uryddig og kan skape et inntrykk av at han vil styre kommunikasjonen for \u00e5 unng\u00e5 et omvalg, sier Maas\u00f8 til Universitas.</p>\n",
        "<p class=\"txt\">Valgstyreleder Knut Heidar vil ikke uttale seg om hvorvidt UiOs valgstyre kjente til Ottersens ringerunde eller munnkurvmail til Fjeld. Han vil heller ikke si om valgstyrets anbefaling hadde v\u00e6rt annerledes dersom de kjente til dette.</p>\n",
        "<p class=\"mt\">\u2013 Skadelig ukultur</p>\n",
        "<p class=\"txt\">UiO-professor og styremedlem i Akademisk forum Johan F. Storm er imidlertid klar i sin dom over hva prorektorsaken kan v\u00e6re et symptom p\u00e5:</p>\n",
        "<p class=\"txt\">\u2013 Bruk av tilsl\u00f8rende omskrivninger og glatte politikerfraser synes dessverre \u00e5 v\u00e6re altfor utbredt og \u00f8kende blant en del ledere p\u00e5 UiO. Det er etter mitt syn uttrykk for en skadelig ukultur, sier han.</p>\n",
        "<p class=\"tit\">Talte varmt om demokratisk universitetsledelse</p>\n",
        "<p class=\"txt\">Fredag forrige uke var rektor Ottersen invitert til Nordisk institutt for studier av innovasjon, forskning og utdanning (NIFU) sin \u00e5rskonferanse. Der skulle han holde en tale med tittelen \u00abThis is why elected leadership is still important in Norwegian higher education\u00bb</p>\n",
        "<p class=\"txt\">\u2013 Det er litt ironisk. Akkurat n\u00e5 fremst\u00e5r han ikke som verdens st\u00f8rste demokrat. Han kan ikke bare v\u00e6re demokratisk n\u00e5r det passer han, sier Christian Stranden\u00e6s, studentrepresentanten som har trukket seg fra valgstyret i protest.</p>\n",
        "<p class=\"txt\">Universitas var til stede p\u00e5 NIFU-konferansen. P\u00e5 sp\u00f8rsm\u00e5l om tidspunktet for talen var ironisk, svarte Ottersen:</p>\n",
        "<p class=\"txt\">\u2013 Ingen kommentar.</p>"
       ],
       "metadata": {},
       "output_type": "display_data",
       "text": [
        "<IPython.core.display.HTML at 0x7fa66aea4198>"
       ]
      },
      {
       "html": [
        "<p class=\"txt\">P\u00e5troppende Universitas-redakt\u00f8r Geir Molnes vil by leserne p\u00e5 flere saftige avsl\u00f8ringer n\u00e5r han tar over roret.</p>\n",
        "<p class=\"txt\">Studentmedier</p>\n",
        "<p class=\"txt\">\u2013 Jeg l\u00e6rte mer i l\u00f8pet av mitt f\u00f8rste semester i Universitas enn jeg har l\u00e6rt gjennom hele studietiden, forteller Geir Molnes.</p>\n",
        "<p class=\"txt\">Han har v\u00e6rt ansatt i avisa siden h\u00f8sten 2012. F\u00f8rst som journalist, deretter som gravejournalist og det siste \u00e5ret som nyhetsredakt\u00f8r.</p>\n",
        "<p class=\"txt\">\u2013 Jeg ble skuffet over niv\u00e5et da jeg studerte medievitenskap ved UiO, men l\u00e6ringskurven var bratt da jeg begynte i Universitas. Jeg var helt ubrukelig i starten, men det bedret seg raskt.</p>\n",
        "<p class=\"txt\">Han gleder seg til \u00e5 lede en avis som evner \u00e5 finne ut av ting, og som klarer \u00e5 formidle det.</p>\n",
        "<p class=\"txt\">\u2013 Det blir j\u00e6vla g\u00f8y \u00e5 lede studentenes og akademias fremste vaktbikkje.</p>\n",
        "<p class=\"mt\">Grave-Geir</p>\n",
        "<p class=\"txt\">Dialekt avsl\u00f8rer ikke at Molnes opprinnelig kommer fra s\u00f8rlandsbyen Ris\u00f8r. Hans skarpe penn legger ikke skjul p\u00e5 at han elsker \u00e5 trenge seg gjennom akademias lukkede d\u00f8rer, slik at ingenting g\u00e5r up\u00e5aktet hen.</p>\n",
        "<p class=\"txt\">\u2013 Jeg vil at Universitas skal bli flinkere til \u00e5 drive med unders\u00f8kende gravejournalistikk, noe jeg har jobba mye med som nyhetsredakt\u00f8r. Hvis vi skal heve oss, m\u00e5 det skapes et st\u00f8rre engasjement for dette i hele redaksjonen. Det skal leserne f\u00e5 merke gjennom flere saftige avsl\u00f8ringer.</p>\n",
        "<p class=\"mt\">Nytt p\u00e5 nett</p>\n",
        "<p class=\"txt\">\u2013 \u00d8konomien i Universitas er ikke god nok. Jeg skal ta en grundig kikk p\u00e5 den, for \u00e5 se om vi kan prioritere ressursene bedre enn i dag. Jeg tror ogs\u00e5 det skal v\u00e6re mulig \u00e5 selge flere annonser enn det vi gj\u00f8r per dags dato, sier Molnes.</p>\n",
        "<p class=\"txt\">Han vil ogs\u00e5 f\u00f8lge opp sittende redakt\u00f8r Anne Fougner Helseth sitt arbeid med \u00e5 fornye avisas nettsider.</p>\n",
        "<p class=\"txt\">\u2013 For meg er det viktig at de nye nettsidene skal tilby noe utover det leserne f\u00e5r p\u00e5 papir. Jeg vil ha interaktiv grafikk i klassiske tallsaker, og jeg vil at vi skal l\u00f8se featurejournalistikken p\u00e5 en helt annen m\u00e5te enn i dag. Der vil det visuelle f\u00e5 en mye mer sentral plass.</p>\n",
        "<p class=\"mt\">Bedre samhold</p>\n",
        "<p class=\"txt\">Som sjef p\u00e5 en arbeidsplass vil Molnes v\u00e6re en leder som f\u00e5r hele Universitas-redaksjonen til \u00e5 trekke i samme retning. Og han vil at alle skal glede seg til \u00e5 komme p\u00e5 jobb.</p>\n",
        "<p class=\"txt\">\u2013 Mange ofrer mye \u00f8konomisk for \u00e5 bidra til Universitas, og avisa er helt avhengig av dugnads\u00e5nd for at hjulene skal g\u00e5 rundt. Det er det lettere \u00e5 f\u00e5 til hvis alle kjenner alle og gleder seg til \u00e5 komme p\u00e5 kontoret for \u00e5 hilse p\u00e5 vennene sine.</p>\n",
        "<p class=\"txt\">Under Molnes sin ledelse blir det derfor langt flere Universitas-fester.</p>\n",
        "<p class=\"txt\">\u2013 Ikke for at vi skal leve ut den gamle journalistklisjeen om forsofne \u00f8lhunder som skriver i bakrus, men for \u00e5 skape et bedre samhold i avisa, avslutter Geir Molnes.</p>\n",
        "<p class=\"txt\">marengeb@universitas.no</p>"
       ],
       "metadata": {},
       "output_type": "display_data",
       "text": [
        "<IPython.core.display.HTML at 0x7fa66aea4198>"
       ]
      },
      {
       "html": [
        "<p class=\"txt\">HVA: Sunniva Rose ha blitt klagd inn til etisk komit\u00e9 av en anonym person. Dette er blant annet p\u00e5 bakgrunn av selvplagiering. Selv mener hun at det bare er noen som er ute etter \u00e5 ta henne av andre grunner.</p>\n",
        "<p class=\"txt\">Jeg vet ikke HVEM, HVA, HVOR eller N\u00c5R vi skal ta bilde, ettersom Sunniva Rose selv ikke vil at vi skal skrive denne saken. Det er ikke heller 100% sikkert at vi skal skrive denne saken, av samme grunn. Men hvis saken skal skrives, trenger jeg en fotograf i l\u00f8pet av dagen.</p>\n",
        "<p class=\"txt\">JENNY TENMANN, 45449764</p>"
       ],
       "metadata": {},
       "output_type": "display_data",
       "text": [
        "<IPython.core.display.HTML at 0x7fa66aea4198>"
       ]
      },
      {
       "html": [
        "<p class=\"txt\">Prorektorsaken</p>\n",
        "<p class=\"txt\">Den s\u00e5kalte prorektorsaken viser at vi trenger en debatt om demokratiet ved Universitetet i Oslo (UiO). Studentene \u00f8nsker nyvalg slik valgreglene tilsier, og mener universitetsstyret gjorde feil da de valgte \u00e5 se bort i fra egne regler. Kravet blir ekstra gyldig n\u00e5r Jan F. Bernt, professor i forvaltningsrett, uttaler seg i klassekampen 27. mai og sier styrets vedtak er ugyldig. Selv om prorektorsaken er en prinsippsak, kan man hvis man legger godvilja til forst\u00e5 hvorfor styret valgte \u00e5 se bort fra valgreglementet \u2013 det var praktisk, selv om det ikke var riktig. Men den prinsipielle prorektorsaken er dessverre ikke det eneste symptomet p\u00e5 at det st\u00e5r d\u00e5rlig til med demokratiet p\u00e5 UiO.</p>\n",
        "<p class=\"txt\">Flere ganger i m\u00e5neden m\u00f8tes dekanene og ledelsen ved UiO uformelt for \u00e5 diskutere universitetspolitiske, faglige og strategiske saker. M\u00f8tet gir en r\u00e5dgivende innstilling p\u00e5 saker som skal opp i universitetsstyret. Rektor Ole Petter Ottersen trakk p\u00e5 NIFUs \u00e5rskonferanse fredag fram dette m\u00f8tet som et av de fremste eksemplene p\u00e5 deltakende demokrati ved UiO. Da er det synd at studentene holdes utenfor.</p>\n",
        "<p class=\"txt\">Universitets- og h\u00f8gskoleloven sier at studenter har rett til 20 prosent representasjon i alle kollegiale organ med beslutningsmyndighet. Ved NTNU og UiB har derfor studentene en selvsagt og verdsatt plass rundt dekanbordet, siden de har viktige innspill fra et unikt synspunkt. Ved UiO er d\u00f8rene stengte, m\u00f8tene hemmelige, sakspapirer frav\u00e6rende og studentene ikke \u00e5 se. Kollegaer ved NTNU er sjokkerte over at vi ikke deltar, siden det er p\u00e5 disse m\u00f8tene de opplever \u00e5 ha reell makt og innflytelse p\u00e5 sitt universitet.</p>\n",
        "<p class=\"txt\">Vi \u00f8nsker ikke plass rundt bordet for \u00e5 stikke kjepper i hjula for UiO. Vi \u00f8nsker \u00e5 bidra til at det fattes best mulig vedtak for studenter og ansatte ved UiO. Det er grunnleggende demokratiteori at uformelle m\u00f8teplasser og innspill tidlig i prosessene er avgj\u00f8rende for \u00e5 p\u00e5virke. Vi har to studenter i universitetsstyret, men n\u00e5r saker kommer til styret er de s\u00e5 gjennomarbeida at det sjelden er vits i \u00e5 g\u00e5 mot innstillinga.</p>\n",
        "<p class=\"txt\">Tidligere hadde studentene mulighet til \u00e5 spille inn sine synspunkter i studiekomiteen og i forskningskomiteen der studiedekanene og forskningsdekanene m\u00f8tes. Studiekomiteen ble i h\u00f8st foresl\u00e5tt nedlagt, noe studentene hindret. Men komiteen har sluttet \u00e5 avholde m\u00f8ter. Forskningskomiteen la samtidig seg selv ned, og i ettertid har man opprettet et \u00abforskningsdekanenes forum\u00bb. Dette har de samme oppgavene som forskningskomiteen, med den forskjell at studentene ikke er representert.</p>\n",
        "<p class=\"txt\">At demokratiske organer ved UiO bare forsvinner eller legger ned sin aktivitet, og at flere og flere beslutninger tas i lukkede, uformelle fora, burde bekymre flere enn Studentparlamentet. Dersom UiO skal forsvare universitetsdemokratiet p\u00e5 en troverdig m\u00e5te m\u00e5 man begynne \u00e5 faktisk f\u00f8lge demokratiets spilleregler i stedet for kun \u00e5 skryte av det i festtaler.</p>"
       ],
       "metadata": {},
       "output_type": "display_data",
       "text": [
        "<IPython.core.display.HTML at 0x7fa66aea4198>"
       ]
      },
      {
       "html": [
        "<p class=\"txt\">Vi har h\u00f8rt norske politikere snakke om klima f\u00f8r. Som studenter har vi ogs\u00e5 h\u00f8rt rektorer og ledere gj\u00f8re det. Felles er at tiltakene som snakket munner ut i, ofte er rent kosmetiske. Klimaet vil g\u00e5 til helvete hvis vi pumper opp mer olje og gass, sier du? Jammen, da utf\u00f8rer vi selve pumpingen p\u00e5 reinest mulig vis. Det der med klima er noe vi ogs\u00e5 burde forholde oss bittelitt til p\u00e5 landets store utdanningsinstitusjoner, mener du? Se bare her, vi bytter til sparep\u00e6rer vi.</p>\n",
        "<p class=\"txt\">TINGOSlik klimakosmetikk er bare flaut. Sist uke la kunnskapsminister Torbj\u00f8rn R\u00f8e Isaksen imidlertid fram en liste som varsler spor av klimabevissthet p\u00e5 et av omr\u00e5dene innen utdanningssektoren der det faktisk kan monne \u2013 nemlig <i>hva</i> vi forsker p\u00e5. Blant de nylanserte prioriteringene i h\u00f8stens varslede langtidsplan for forskning og h\u00f8yere utdanning, finner vi b\u00e5de \u00abKlima, milj\u00f8 og milj\u00f8vennlig energi\u00bb, \u00abMuliggj\u00f8rende teknologier\u00bb og \u00abHav\u00bb.</p>\n",
        "<p class=\"txt\">Samtidig som Isaksen letta p\u00e5 sl\u00f8ret over hva som skal prioriteres i langtidsplanen, viste norske studenter at klima st\u00e5r h\u00f8yt p\u00e5 v\u00e5re lister ogs\u00e5, b\u00e5de i Universitas og Norsk Studentorganisasjon sin Sentio-unders\u00f8kelse om partipreferanser og i TNS Gallups Klimabarometer.</p>\n",
        "<p class=\"txt\">TINGOMen selv om studentene stort sett tilh\u00f8rer det yngre sjiktet av befolkningen, er vi ikke med i Blekkulf-klubben lenger. Vi veit at det ikke holder \u00e5 skru av motoren, din gj\u00f8k. En svale av en matavfalls-s\u00f8ppelkasse i universitetskantina gj\u00f8r ingen sommer. Men det finnes tiltak som kan gj\u00f8re en forskjell \u2013 tiltak som utdanningssektoren i et av verdens rikeste land faktisk har en reell mulighet til \u00e5 innf\u00f8re. L\u00e6restedene m\u00e5 i lyset av sine sparep\u00e6rer se n\u00e6rmere p\u00e5 a) hva de forsker p\u00e5 og b) hvem som betaler forskningen.</p>\n",
        "<p class=\"txt\">TINGONorges st\u00f8rste universitet fors\u00f8ker gjennom sin satsning Gr\u00f8nt UiO \u00e5 gj\u00f8re \u00abalt fra drift og forbruk til fokus i forskning og utdanningstilbud\u00bb gr\u00f8nnere. Det er s\u00e5rt tiltrengt, etter at de i 2011 havna p\u00e5 nest siste plass i en selvbestilt studie av milj\u00f8profilen til 20 universiteter verden over. Selv om denne studien ogs\u00e5 tok for seg forskningsprofil, ser Gr\u00f8nt UiOs fokus i etterkant ut til \u00e5 ha v\u00e6rt rettet mer mot drift og mindre mot det akademiske. Vintersykkelkurs og uoffisielt NM i kildesortering er prisverdige tiltak, men neppe tilstrekkelig til \u00e5 n\u00e5 m\u00e5let om \u00e5 \u00abm\u00f8te de globale milj\u00f8- og klimautfordringene\u00bb. Eller, med andre ord; s\u00f8rge for at ikke verden g\u00e5r til helvete.</p>\n",
        "<p class=\"txt\">TINGOFor \u00e5 s\u00f8rge for det, trengs gr\u00f8nn forskning. Men hva man forsker p\u00e5, viser seg ofte \u00e5 henge sammen med hvem som betaler forskningen. Universitas har tidligere p\u00e5pekt at mye av norsk forskning er berammet og indirekte styrt av oljedryppende sponsormidler. Blant annet f\u00e5r Universitetet i Oslo mangfoldige forskningsmillioner av Statoil gjennom b\u00e5de Vista-avtalen og Akademiaavtalen. Sistnevnte er etablert mellom sju norske forskningsmilj\u00f8er og Statoil, og har en verdi p\u00e5 totalt 450 millioner kroner. I forbindelse med disse sakene har vi stilt det relativt retoriske sp\u00f8rsm\u00e5let: Hva slags forskning er oljebransjen mest interessert i? Det \u00e5penbare svaret er: forskning som muliggj\u00f8r \u00f8kt utvinning av olje og gass.</p>\n",
        "<p class=\"txt\">TINGODen over ti \u00e5r gamle kvalitetsreformen for h\u00f8yere utdanning er for lengst utskjelt og utdatert. En kvalitetsreform vi har bruk for i dag, er en reform der sektoren g\u00e5r over fra kosmetiske sparep\u00e6retiltak til reelt gr\u00f8nnere forskning og investeringer. Kan du sikre det i h\u00f8stens langtidsplan, Isaksen?</p>"
       ],
       "metadata": {},
       "output_type": "display_data",
       "text": [
        "<IPython.core.display.HTML at 0x7fa66aea4198>"
       ]
      },
      {
       "html": [
        "<p class=\"txt\">Ukas anbefaling</p>\n",
        "<p class=\"txt\">Om du vil v\u00e6re helt aleine, slutte \u00e5 r\u00f8yke eller gruble over forskjellen mellom sveler og lapper, er valget av soundtrack enkelt. Youtube er smekk fullt av b\u00e5de tre, fire og ti timer lange l\u00e5ter som gir deg et passe plastisk perspektiv p\u00e5 livet. Meditasjonsmusikken kan utgj\u00f8re yogatimen p\u00e5 lesesalen eller skogsturen p\u00e5 campus. Legg fra deg all \u00e6re og la new age-hippie-trippie-regnet falle ned over hodet ditt i timesvis. Hvis du er villig til \u00e5 leve med en s\u00f8kehistorikk full av titler som \u00ab3 Hours of Best Relaxing Spa Music, Music Therapy for Relaxation, Meditation and Sleep\u00bb, er det lite som st\u00e5r mellom deg og indre ro i en krevende hverdag.</p>"
       ],
       "metadata": {},
       "output_type": "display_data",
       "text": [
        "<IPython.core.display.HTML at 0x7fa66aea4198>"
       ]
      },
      {
       "html": [
        "<p class=\"txt\">Stillingsvern</p>\n",
        "<p class=\"txt\">Til tross for at lederen for Norsk studentorganisasjon (NSO), Ola Magnussen Rydje, gikk inn for \u00e5 svekke stillingsvernet (se faktaboks) for \u00e5 gj\u00f8re det enklere \u00e5 sparke vitenskapelig ansatte, sa NSOs landsstyre nei.</p>\n",
        "<p class=\"txt\">Under landsstyrem\u00f8tet i helga gikk de heller inn for \u00aben kulturendring der oppsigelser i henhold til tjenestemannsloven blir tatt i bruk\u00bb.</p>\n",
        "<p class=\"mt\">\u2013 Ikke sterkt stillingsvern som er problemet</p>\n",
        "<p class=\"txt\">Den avtroppende lederen foreslo, med NSOs arbeidsutvalg i ryggen, \u00e5 endre loven slik at det skulle bli lettere \u00e5 si opp vitenskapelig ansatte p\u00e5 offentlige h\u00f8gskoler og universiteter. Dette ville f\u00e5 ned bruken av midlertidig ansatte i akademia samtidig som det ville gi bedre likestilling, mente Rydje.</p>\n",
        "<p class=\"txt\">Bj\u00f8rn Kristian Danbolt, leder for Studentparlamentet ved Universitetet i Bergen (UiB), er blant landsstyrerepresentantene som var uenige i Rydjes forslag.</p>\n",
        "<p class=\"txt\">\u2013 Jeg synes l\u00f8sningen er d\u00e5rlig organisert. Det er ikke hovedsakelig sterkt stillingsvern som er problemet, s\u00e5 en svekkelse vil ikke v\u00e6re et godt verkt\u00f8y for \u00e5 l\u00f8se de utfordringene vi har med midlertidige stillinger, sier han.</p>\n",
        "<p class=\"txt\">Selv om hans forslag ikke vant fram, sier Rydje at han er forn\u00f8yd med utfallet.</p>\n",
        "<p class=\"txt\">\u2013 Landsstyret kom med et bra forslag, og det ble et godt kompromiss, sier NSO-lederen. Han forteller at det \u00e5 fronte arbeidsutvalgets mening i forkant av landsstyrem\u00f8tet var en bevisst strategi, og sier seg forn\u00f8yd med debatten som fulgte.</p>\n",
        "<p class=\"mt\">\u2013 En dristig strategi</p>\n",
        "<p class=\"txt\">Rydje m\u00f8tte kraftig motb\u00f8r fra blant andre professor ved Universitetet i Oslo Kristian Gundersen.</p>\n",
        "<p class=\"txt\">\u2013 Rydjes argumenter var todelte: Han mente det ville gi mer likestilling og mindre midlertidighet. Ingen av dem henger p\u00e5 greip, sier biologiprofessoren.</p>\n",
        "<p class=\"txt\">Gundersen mener ogs\u00e5 at et svekket stillingsvern ville skapt en fryktkultur.</p>\n",
        "<p class=\"txt\">\u2013 Jeg ser p\u00e5 studentene som kolleger, men forslaget gir et d\u00e5rlig grunnlag for et godt samarbeid mellom student og l\u00e6rer, sier han videre.</p>\n",
        "<p class=\"txt\">Gundersen sier han ikke har noen mening om Rydje som NSO-leder, men at forslaget \u00aber en lite verdig sorti\u00bb.</p>\n",
        "<p class=\"txt\">Leder i fagorganisasjonen Forskerforbundet Petter Aaslestad er glad for at NSO ikke gikk inn for en endring av tjenestemannsloven, men er usikker p\u00e5 Rydjes debattaktikk.</p>\n",
        "<p class=\"txt\">\u2013 Dette er store og alvorlige saker, s\u00e5 jeg tror ikke jeg hadde hatt nerver til \u00e5 gamble p\u00e5 mediene i en s\u00e5 stor og viktig sak. Men Ola gjorde det og fikk det til, legger han til.</p>\n",
        "<p class=\"txt\">Da Aftenposten f\u00f8rst omtalte saken for halvannen uke siden, argumenterte Aaslestad mot forslaget b\u00e5de i Aftenposten og p\u00e5 NSOs egne nettsider. N\u00e5 sier han at Rydje fikk til en debatt som landet positivt, selv om det \u00abkanskje var en litt dristig strategi\u00bb.</p>\n",
        "<p class=\"mt\">F\u00e5r taktikkst\u00f8tte fra sine egne</p>\n",
        "<p class=\"txt\">NSO-lederen f\u00e5r st\u00f8tte fra egne rekker for at han gikk s\u00e5 hardt ut f\u00f8r forslaget ble ordentlig diskutert.</p>\n",
        "<p class=\"txt\">\u2013 Jeg synes at arbeidsutvalget skal ha den friheten, og at det er viktig \u00e5 v\u00e6re litt tabloid for \u00e5 f\u00e5 ting p\u00e5 agendaen. Det er imidlertid en god ting at forslaget ble lagt frem som noe som fremdeles ikke var avgjort, sier Bj\u00f8rn Kristian Danbolt.</p>\n",
        "<p class=\"txt\">Ogs\u00e5 lederen for Studentstyret ved Norges idrettsh\u00f8gskole mener det er helt p\u00e5 sin plass at en NSO-leder er litt tabloid.</p>\n",
        "<p class=\"txt\">\u2013 Selv om Rydje har v\u00e6rt v\u00e5gal og brukt b\u00e5de fengende og humoristisk retorikk, synes jeg det har v\u00e6rt positivt, sier Torstein Dalen.</p>\n",
        "<p class=\"txt\">P\u00e5troppende NSO-leder Anders Kvernmo Langset vil ikke si om han vil adoptere Rydjes taktikk for \u00e5 skape debatt f\u00f8r landsstyrem\u00f8ter.</p>\n",
        "<p class=\"txt\">\u2013 Vi i det neste arbeidsutvalget har enn\u00e5 ikke tatt stilling til hvordan vi skal jobbe, sier han.</p>"
       ],
       "metadata": {},
       "output_type": "display_data",
       "text": [
        "<IPython.core.display.HTML at 0x7fa66aea4198>"
       ]
      },
      {
       "html": [
        "<p class=\"txt\">Statsst\u00f8tte</p>\n",
        "<p class=\"txt\">Plassen foran Samisk h\u00f8gskole i Kautokeino er nesten tom. Ved inngangen st\u00e5r studentene Leif Henrik Halvari Skartland og Mariann Aslaksen Ravne og prater. De utgj\u00f8r sammen med skolens 100 andre studenter landets dyreste studenter, if\u00f8lge en utregning Universitas har gjort over landets statlige utdanninger.</p>\n",
        "<p class=\"txt\">\u2013 For meg er det veldig bra \u00e5 v\u00e6re en av landets dyreste studenter. Det er alltid l\u00e6rere eller administrativt ansatte tilgjengelig for \u00e5 hjelpe deg om det skulle v\u00e6re noe, sier Ravne.</p>\n",
        "<p class=\"txt\">Hun legger til at hun tror det er kapasitet til \u00e5 ta inn mange flere studenter enn det skolen gj\u00f8r i dag.</p>\n",
        "<p class=\"mt\">\u00d8konomiske problemer</p>\n",
        "<p class=\"txt\">I fjor mottok Samisk h\u00f8gskole 72 millioner kroner fra Kunnskapsdepartementet. Det vil si at skolen fikk tildelt rundt 706 323 kroner per elev. Til sammenligning fikk H\u00f8gskolen i Lillehammer litt over 322 millioner kroner \u00e5 dele mellom sine over 4000 elever. Statens bevilgninger fordeles imidlertid etter flere faktorer enn antall elever.</p>\n",
        "<p class=\"txt\">Til tross for h\u00f8ye tilskudd har Samisk h\u00f8gskole slitt med store underskudd. I 2009 fikk skolen helslakt av Riksrevisjonen, \u00e5ret etter ble skolen kritisert for \u00e5 sl\u00f8se med penger og i forrige uke meldte NRK at skolen granskes av UD og Kunnskapsdepartementet i forbindelse med at den ikke kan gj\u00f8re rede for 400 000 kroner.</p>\n",
        "<p class=\"txt\">\u2013 Jeg har ingen kommentar til granskningen, sier rektor Jelena Porsanger til Universitas og henviser til et leserinnlegg hun skrev i Dagens N\u00e6ringsliv etter at avisa skrev en sak om skolens pengebruk i fjor.</p>\n",
        "<p class=\"txt\">\u2013 Merknadene fra Riksrevisjonen har h\u00f8gskolen tatt meget alvorlig. Styret har iverksatt omfattende tiltak med det m\u00e5l \u00e5 forbedre rutinene ved \u00e5 implementere disse i v\u00e5rt forvaltningssystem. Riksrevisjonen synes \u00e5 v\u00e6re forn\u00f8yd med resultatet, skrev Porsanger da.</p>\n",
        "<p class=\"mt\">L\u00f8nninger og kulturarv</p>\n",
        "<p class=\"txt\">Videre pekte rektoren i fjor p\u00e5 h\u00f8ye l\u00f8nnskostnader som en av \u00e5rsakene til skolens kraftige pengebruk. Skolen er den eneste av de statlige skolene med flere ansatte enn studenter. I skrivende stund har skolen 110 ansatte og 102 elever.</p>\n",
        "<p class=\"txt\">Porsanger understreker overfor Universitas at skolen har et viktig samfunnsoppdrag gjennom vedlikehold av den samiske kulturen.</p>\n",
        "<p class=\"txt\">\u2013 Vi har jobbet i 25 \u00e5r for \u00e5 bevare og utvikle samisk spr\u00e5k og st\u00f8tte det samiske samfunnets utvikling for \u00e5 oppn\u00e5 likeverd med storsamfunnet, sier hun.</p>\n",
        "<p class=\"txt\">En annen \u00e5rsak til pengebruken skal if\u00f8lge skolen v\u00e6re forskning. Tidligere har skolen publisert rundt 20 forskningsartikler per \u00e5r, i 2013 var antallet imidlertid seks artikler. Skolen har et eget forskningstidskrift.</p>\n",
        "<p class=\"mt\">Kan bli politisak</p>\n",
        "<p class=\"txt\">I NRK i forrige uke kom det frem at Samisk h\u00f8gskole kan st\u00e5 overfor en politisak i forbindelse med de 400 000 kronene som er forsvunnet. BI-professor og ekspert p\u00e5 \u00f8konomisk kriminalitet Petter Gottschalk sa til NRK at saken kan bli en straffesak. Til Universitas sier professoren at grunnen til at Samisk h\u00f8gskole fortsatt f\u00e5r s\u00e5 mye st\u00f8tte, til tross for \u00f8konomisk kritikk, kan v\u00e6re at temaet er betent.</p>\n",
        "<p class=\"txt\">\u2013 Man er fra sentralt hold i Oslo forsiktig med \u00e5 styre ved samenes territorium. Kunnskapsdepartementet burde for lengst ha utforsket saken. N\u00e5r man har mistanke om \u00f8konomisk kriminalitet g\u00e5r man til politiet. Dette er en glipp fra departementet, sier han.</p>\n",
        "<p class=\"txt\">\u00d8kokrim sier at de ikke kan kommentere om det blir aktuelt for dem \u00e5 se n\u00e6rmere p\u00e5 saken.</p>\n",
        "<p class=\"mt\">Lettvint bruk av penger</p>\n",
        "<p class=\"txt\">Til tross for de mange pengeproblemene mener Gottschalk at man m\u00e5 se p\u00e5 det store bildet for \u00e5 skj\u00f8nne form\u00e5let med at Samisk h\u00f8gskole f\u00e5r mest penger per elev.</p>\n",
        "<p class=\"txt\">\u2013 Norge har lyktes i \u00e5 ha en tilfreds urbefolkning, i motsetning til veldig mange andre land. Dette skyldes ikke minst hvor mye penger staten bruker p\u00e5 dette, sier han.</p>\n",
        "<p class=\"txt\">Statssekret\u00e6r Bj\u00f8rn Haugstad i Kunnskapsdepartementet svarer f\u00f8lgende p\u00e5 hvorfor akkurat Samisk h\u00f8gskole f\u00e5r s\u00e5 h\u00f8ye bevilgninger.</p>\n",
        "<p class=\"txt\">\u2013 Samisk h\u00f8gskole har et helt spesielt mandat og helt spesielle utfordringer. Derfor er det naturlig at Samisk h\u00f8gskole har forholdsvis h\u00f8ye bevilgninger per student.</p>\n",
        "<p class=\"txt\">Hans kollega, ekspedisjonssjef Toril Johansson i Universitets- og H\u00f8yskoleavdelingen i Kunnskapsdepartementet, bekrefter at h\u00f8yskolen n\u00e5 m\u00e5 foreta en gjennomgang av systemene sine under p\u00e5syn fra departementet.</p>\n",
        "<p class=\"txt\">\u2013 Vi ser alvorlig p\u00e5 forholdene, og det er viktig at Samisk h\u00f8gskole tar ansvar og retter opp feil, sier hun til Universitas.</p>\n",
        "<p class=\"tit\">Vil ha ny modell</p>\n",
        "<p class=\"txt\">\u2013 Det er veldig bra at finansiering og struktur er p\u00e5 regjeringens agenda. Tilsynelatende er mange enige om at vi trenger endringer, sier rektor Kari Toverud Jensen ved H\u00f8gskolen i Oslo og Akershus (HiOA).</p>\n",
        "<p class=\"txt\">H\u00f8gskolen i Oslo og Akershus er den skolen som f\u00e5r minst per elev i Oslo med bevilgninger p\u00e5 1,7 milliarder kroner fordelt p\u00e5 litt over 15 000 elever. Jensen mener at dagens finansieringsmodell ikke tar h\u00f8yde for de utfordringene h\u00f8yskolene st\u00e5r overfor n\u00e5r det gjelder forskning ved praksisutdanningene.</p>\n",
        "<p class=\"txt\">\u2013 Vi trenger et system som gj\u00f8r det mulig \u00e5 styrke fagmilj\u00f8ene som driver profesjonsutdanningene, med n\u00f8dvendig handlingsrom og virkemidler som bel\u00f8nner kvalitet i utdanningene.</p>\n",
        "<p class=\"mt\">Enig</p>\n",
        "<p class=\"txt\">H\u00f8yskoledirekt\u00f8r Geir Bergkastet ved H\u00f8gskolen i Lillehammer er enig med Jensen, og peker p\u00e5 at skolene ogs\u00e5 b\u00f8r bli bel\u00f8nnet for eventuell vekst.</p>\n",
        "<p class=\"txt\">\u2013 Vi har vokst og s\u00e5ledes bidratt til \u00e5 l\u00f8se et samfunnsoppdrag ved \u00e5 utdanne mange. Dagens modell premierer ikke i tilstrekkelig grad dette, sier han til Universitas.</p>\n",
        "<p class=\"mt\">Studentenes ansvar</p>\n",
        "<p class=\"txt\">Statssekret\u00e6r Bj\u00f8rn Haugstad i Kunnskapsdepartementet mener det er riktig at Samisk H\u00f8gskole og Kunsth\u00f8yskolene f\u00e5r mye statstilskudd til tross for at mange av studentene fra kunstskolene sliter med \u00e5 finne jobb etter endt utdanning.</p>\n",
        "<p class=\"txt\">\u2013 I Norge legger vi stor vekt p\u00e5 at studentenes egne valg skal telle tungt. Det inneb\u00e6rer at studentene ogs\u00e5 m\u00e5 ta ansvar for konsekvensene av valgene de gj\u00f8r, som egne utsikter i arbeidsmarkedet, sier han til Universitas.</p>\n",
        "<p class=\"txt\">M\u00e5lt i statstilskudd per student per \u00e5r</p>\n",
        "<p class=\"txt\">Samisk h\u00f8gskole 706 000 kr</p>\n",
        "<p class=\"txt\">Kunsth\u00f8gskolen i Oslo</p>\n",
        "<p class=\"txt\">560 000 kr</p>\n",
        "<p class=\"txt\">M\u00e5lt i statstilskudd per student per \u00e5r</p>\n",
        "<p class=\"txt\">Norges musikkh\u00f8gskole</p>\n",
        "<p class=\"txt\">367 000 kr</p>\n",
        "<p class=\"txt\">H\u00f8gskolen i Oslo og Akershus</p>\n",
        "<p class=\"txt\">113 000 kr</p>\n",
        "<p class=\"txt\">Norges idrettsh\u00f8gskole</p>\n",
        "<p class=\"txt\">154 000 kr</p>\n",
        "<p class=\"txt\">Universitetet i Oslo</p>\n",
        "<p class=\"txt\">189 000 kr</p>"
       ],
       "metadata": {},
       "output_type": "display_data",
       "text": [
        "<IPython.core.display.HTML at 0x7fa66aea4198>"
       ]
      },
      {
       "html": [
        "<p class=\"bt\"><b>STR\u00d8MBRUDD: En l\u00f8s bryter i et el-skap f\u00f8rte til str\u00f8mbrudd under fredagens eksamensavvikling.</b></p>\n",
        "<p class=\"txt\">Da Lars Sollesnes (24) m\u00f8tte opp til eksamen i metode og etikk ved Det juridiske fakultet forrige fredag, ante han fred og ingen fare. Bok-skjekken ble unnagjort, og eksamensoppgavene delt ut. Etterp\u00e5 ventet sol og varmegrader langt oppe p\u00e5 20-tallet.</p>\n",
        "<p class=\"txt\"><b>Tre kvarter inn i eksamenstiden gikk det plutselig galt. Da forsvant nemlig str\u00f8mmen i hele bygget. </b></p>\n",
        "<p class=\"txt\">\u2013 Det tok mye tid f\u00f8r vi fikk beskjed om hva vi skulle gj\u00f8re. Etter en stund fikk vi utdelt ark som vi kunne skrive eksamenssvarene p\u00e5 for h\u00e5nd, men det var tydelig at det ikke finnes noen fast rutine vaktene kunne f\u00f8lge, forteller Sollesnes.</p>\n",
        "<p class=\"mt\">D\u00e5rlig luft</p>\n",
        "<p class=\"txt\">Studentene fikk utvidet eksamenstiden med tre timer, og de som \u00f8nsket det fikk muligheten til \u00e5 trekke seg. Det var det flere som gjorde \u2013 ventilasjonsanlegget sluttet nemlig \u00e5 virke da str\u00f8mmen gikk, og det ble d\u00e5rlig luft i lokalene.</p>\n",
        "<p class=\"txt\">\u2013 Til \u00e5 begynne med ble det bare varmt og klamt i rommet, men etter en stund begynte det \u00e5 bli s\u00e5 d\u00e5rlig luft at det ble vanskelig \u00e5 konsentrere seg. De som synes det ble for ille til \u00e5 fortsette, valgte da \u00e5 trekke seg fra eksamen, sier Sollesnes.</p>\n",
        "<p class=\"txt\">Sollesnes synes likevel situasjonen ble taklet p\u00e5 en god m\u00e5te fra fakultetets side, til tross for at det ble mye venting den f\u00f8rste timen etter str\u00f8mbruddet.</p>\n",
        "<p class=\"txt\">\u2013 Vaktene var hjelpsomme, og vi fikk muligheten til \u00e5 g\u00e5 p\u00e5 butikken for \u00e5 kj\u00f8pe mat. Selv om vi var slitne mot slutten opplevde jeg heller ikke at jeg hadde d\u00e5rlig tid p\u00e5 meg til \u00e5 skrive ferdig eksamen. Alt i alt synes jeg situasjonen ble h\u00e5ndtert greit, sier Sollesnes.</p>\n",
        "<p class=\"txt\">Han forteller at det var varierte reaksjoner blant studentene.</p>\n",
        "<p class=\"txt\">\u2013 Noen ble irriterte, mens andre hadde forst\u00e5else for at dette ikke var noe man kunne ha forutsett.</p>\n",
        "<p class=\"mt\">\u2013 Dyp medf\u00f8lelse</p>\n",
        "<p class=\"txt\">Fakultetet sier til Universitas at det var en feil i et el-skap som var \u00e5rsaken til str\u00f8mbruddet. Dekan Hans Petter Graver mener det er vanskelig \u00e5 forutse slike hendelser, og tar hendelsen alvorlig.</p>\n",
        "<p class=\"txt\">\u2013 Som dekan beklager jeg virkelig, og jeg har dyp medf\u00f8lelse for alle de studentene feilen gikk utover. Slike ting skal jo ikke skje, sier Graver til Universitas.</p>\n",
        "<p class=\"txt\">Eksamenslokalene var leid inn av Eiendomsavdelingen ved Universitetet i Oslo, og det er en ekstern eier av bygningen som har ansvaret for at forholdene ligger til rette.</p>\n",
        "<p class=\"txt\">Fakultetet understreker at et str\u00f8mbrudd er et betydelig problem uansett om eksamen foreg\u00e5r p\u00e5 PC eller for h\u00e5nd.</p>\n",
        "<p class=\"mt\">F\u00e5r kompensasjon</p>\n",
        "<p class=\"txt\">Studentene som tok eksamen p\u00e5 fredag hadde f\u00e5tt utdelt eksamensoppgaven p\u00e5 papir, og kunne derfor fortsette uten PC.</p>\n",
        "<p class=\"txt\">\u2013 Det er ikke alltid s\u00e5 lett \u00e5 ha en plan B. I f\u00f8rste omgang fors\u00f8ker vi alternative tekniske l\u00f8sninger, men det var ikke mulig her. Ellers er det alltid mulig \u00e5 kompensere med tilleggstid, gi studentene mulighet til \u00e5 ta eksamen p\u00e5 nytt eller \u00e5 skrive besvarelsen for h\u00e5nd. Alle tre tiltak ble tilbudt her, men det tok dessverre litt tid f\u00f8r vi fikk oversikt over hvor alvorlig feilen var og hvor lenge den ville vare, forteller Graver.</p>\n",
        "<p class=\"txt\">Studentene som valgte \u00e5 trekke seg fra eksamen vil f\u00e5 tilbud om utsatt eksamen i l\u00f8pet av semesteret. Da vil fakultetet v\u00e6re bedre forberedt.</p>\n",
        "<p class=\"txt\">\u2013 N\u00e5 vil vi arbeide med \u00e5 finne rutiner som vil gj\u00f8re oss og g\u00e5rdeieren bedre rustet til \u00e5 l\u00f8se slike problemer i framtiden, sier Hans Petter Graver.</p>\n",
        "<p class=\"txt\">Universitas har ikke lykkes i \u00e5 f\u00e5 en uttalelse fra byggeier.</p>\n",
        "<p class=\"txt\"><i>i.e.gipling@universitas.no</i></p>"
       ],
       "metadata": {},
       "output_type": "display_data",
       "text": [
        "<IPython.core.display.HTML at 0x7fa66aea4198>"
       ]
      },
      {
       "html": [
        "<p class=\"bt\">Studentenes psykolog: Lars J\u00f8rgen Berglund, Seksjonsleder og psykologspesialist ved SiO Helse p\u00e5 Blindern, mener at behandling kan lede til at man utvikler st\u00f8rre innsikt i angstopplevelsen.</p>\n",
        "<p class=\"txt\">\u2013 Det er et skremmende tall n\u00e5r s\u00e5 mange studenter opplever dette, sier Jonas Ohlgren \u00d8stvik, Velferds- og likestillingspolitisk ansvarlig i Norsk Studentorganisasjon.</p>\n",
        "<p class=\"txt\">En ny unders\u00f8kelse utf\u00f8rt i mai av Sentio for Universitas og Norsk studentorganisasjon (NSO), avdekker at hver tiende student i Norge alltid, sv\u00e6rt ofte eller ofte sliter med angst i hverdagen i denne perioden.</p>\n",
        "<p class=\"txt\">\u2013 Det er godt over 20 000 studenter, og er p\u00e5 ingen m\u00e5te bra. Det er tydelig at man er n\u00f8dt til \u00e5 gj\u00f8re noe, sier \u00d8stvik.</p>\n",
        "<p class=\"txt\">I unders\u00f8kelsen svarer ogs\u00e5 \u00e9n av fire studenter at de alltid, sv\u00e6rt ofte eller ofte har v\u00e6rt nerv\u00f8se og urolige de siste to ukene.</p>\n",
        "<p class=\"mt\">Kun 13 psykologer</p>\n",
        "<p class=\"txt\">Av de 70 ansatte i Oslos studenthelsetjeneste SiO Helse, jobber 13 som psykologer. Anne Karine Lie, som er seksjonsleder for SiO helse avdeling sentrum, kan fortelle at psykologene p\u00e5 denne avdelingen per dags dato er mange nok til \u00e5 ta unna den massive p\u00e5gangen.</p>\n",
        "<p class=\"txt\">\u2013 Vi har veldig h\u00f8y ettersp\u00f8rsel, og jobber med \u00e5 lage et rettferdig og forutsigbart k\u00f8system. Akkurat n\u00e5 oppleves det som en flaskehals, sier Lie.</p>\n",
        "<p class=\"txt\">Lie mener dette er et problem som ikke kommer til \u00e5 bli l\u00f8st med det f\u00f8rste. Likevel oppfordrer hun studenter som har problemer til \u00e5 ta kontakt ettersom k\u00f8ene er enda lengre i offentlig helsesektor.</p>\n",
        "<p class=\"mt\">Helsetjenesten sprengt</p>\n",
        "<p class=\"txt\">Kaia Marie Rosseland, leder for Velfertstinget i Oslo og Akershus, argumenterer for et mer helhetlig studenthelsetilbud.</p>\n",
        "<p class=\"txt\">\u2013 Kapasiteten er sprengt. Psykologhjelp krever veldig mye og er dyrt. Det er derfor viktig med andre ting som fungerer rundt studentenes hverdag, som r\u00e5dgivning og det sosiale milj\u00f8et. Det helhetlige tilbudet er ogs\u00e5 viktig med helses\u00f8stre, r\u00e5dgivere og psykologer, sier Rosseland.</p>\n",
        "<p class=\"txt\"><i>\u2013 Mange som trenger hjelp med psykiske plager, blir avvist. Hva tenker du om det?</i></p>\n",
        "<p class=\"txt\">\u2013 For to \u00e5r siden ble semesteravgiften satt opp for \u00e5 utvide tjenesten ytterligere, men vi ser at den kapasitets\u00f8kninga ble spist opp med en gang. Det er derfor man m\u00e5 gj\u00f8re tiltak n\u00e5 og styrke tjenesten. For \u00e5 kunne gj\u00f8re dette m\u00e5 man ha midler til det, sier Rosseland.</p>\n",
        "<p class=\"mt\">\u2013 Trenger en holdningsendring</p>\n",
        "<p class=\"txt\">NSOs velferds- og likestillingspolitiske ansvarlige \u00d8stvik argumenterer ogs\u00e5 for flere ressurser til studentsamkipnadene og for flere typer mulige l\u00f8sninger og tilbud.</p>\n",
        "<p class=\"txt\">\u2013 Studenthelsetjenesten trenger bedre ressurser til b\u00e5de \u00e5 jobbe forebyggende, slik at man f\u00e5r tak i de med de psykiske utfordringene f\u00f8r de blir betydelige, og s\u00f8rge for at de med betydelige problemer opps\u00f8ker hjelp, sier \u00d8stvik.</p>\n",
        "<p class=\"txt\">\u2013 Setter man terskelen s\u00e5 lavt at flere benytter seg av det, s\u00e5 blir lettere \u00e5 f\u00e5 snakket med noen. Vi mener samskipnadene m\u00e5 f\u00e5 s\u00e5pass med ressurser at de klarer \u00e5 ta imot flere studenter. S\u00e5 m\u00e5 vi se p\u00e5 om det er mulig \u00e5 f\u00e5 til lignende tiltak for hvordan vi kan n\u00e5 flest mulig og v\u00e6re til stede, sier \u00d8stvik.</p>\n",
        "<p class=\"txt\">Han tror at det ogs\u00e5 kan hjelpe med en holdningsendring i studentmassen, og mener studentene er n\u00f8dt til \u00e5 fjerne tabuet rundt psykiske problemer.</p>\n",
        "<p class=\"mt\">Eksamensstress</p>\n",
        "<p class=\"txt\">For studenter som sliter med angst eller er nerv\u00f8se og urolige kan eksamensstress v\u00e6re en ekstra p\u00e5kjenning. Lars J\u00f8rgen Berglund er seksjonsleder og psykologspesialist ved SiO Helse p\u00e5 Blindern. Han kan fortelle at angst b\u00e5de kan ha positive og negative sider.</p>\n",
        "<p class=\"txt\">\u2013 Mild angst kan v\u00e6re nyttig gjennom \u00e5 skjerpe oss, fordi det er f\u00f8rst n\u00e5r angsten blir s\u00e5 omfattende at den hindrer oss i \u00e5 l\u00f8se v\u00e5re problemer, eller fungere i hverdagen, at vi kan snakke om at angsten har blitt til en lidelse, sier Berglund.</p>\n",
        "<p class=\"txt\">Berglund driver med gruppeterapi for studenter som sliter med angst ved SiO Helse Blindern. Han forteller at hvis angsten kommer i veien for prestasjon, sosialt liv, eller jobb og utdanning, kan man opps\u00f8ke hjelp.</p>\n",
        "<p class=\"txt\">\u2013 Behandling kan lede til at man utvikler st\u00f8rre innsikt i at angstopplevelsen er en sammensetning av tanker, f\u00f8lelser, kroppslige reaksjoner og handlinger, og at man kan trene p\u00e5 nye m\u00e5ter \u00e5 mestre denne opplevelsen p\u00e5, sier Berglund.</p>\n",
        "<p class=\"tit\">Vil styrke studenthelsetjenesten</p>\n",
        "<p class=\"txt\">Stortingsrepresentantene Ketil Kjenseth, Iselin Nyb\u00f8 og Abid Raja fra Venstre har utarbeidet et representantforslag for \u00e5 styrke studentvelferden. Nyb\u00f8 mener mer m\u00e5 gj\u00f8res for \u00e5 sikre studenter et godt helsetilbud.</p>\n",
        "<p class=\"txt\">\u2013 Det er et stort behov og vi m\u00e5 styrke kapasiteten. Jeg mener det er behov for flere psykologer, leger og r\u00e5dgivere i studenthelsetjenesten, sier Nyb\u00f8.</p>\n",
        "<p class=\"txt\">Velferdstingsleder Rosseland st\u00f8tter forslaget. Hun er enig i at kapasiteten i dag er for d\u00e5rlig.</p>\n",
        "<p class=\"txt\">\u2013 Forslaget viser at politikerne \u00f8nsker \u00e5 styrke studenthelsetjenesten og tar dette p\u00e5 alvor. Vi ser at tilbudet i dag har for liten kapasitet. Dette er noe Velferdstinget har jobbet med i lengre tid, sier Rosseland.</p>\n",
        "<p class=\"txt\">Abid Raja er opptatt av at studentenes psykiske helse ogs\u00e5 henger sammen med hvordan studentene har det der de studerer.</p>\n",
        "<p class=\"txt\">\u2013 Det er ikke bare lett \u00e5 v\u00e6re student i dag, og det m\u00e5 derfor v\u00e6re mulig \u00e5 gj\u00f8re mer for denne gruppen. Det kan v\u00e6re f\u00f8lelsesmessig krevende \u00e5 finne seg til rette i en storby som nyinnflyttet student, sier Raja.</p>\n",
        "<p class=\"txt\">stisten@universitas.no</p>"
       ],
       "metadata": {},
       "output_type": "display_data",
       "text": [
        "<IPython.core.display.HTML at 0x7fa66aea4198>"
       ]
      },
      {
       "html": [
        "<p class=\"txt\">I dagens Universitas refses Universitetet i Oslos rektor Ole Petter Ottersen av ansatte, studenter og fagforeningsleder Ellen Dalen i Norsk tjenestemannslag. Flere forteller at tilliten til Ottersen er svekket etter den parodiske h\u00e5ndteringen av prorektorsaken, der universitetsstyret aktivt gikk inn for \u00e5 bryte sitt eget reglement. Det er p\u00e5fallende at Ottersen velger \u00e5 m\u00f8te den flengende kritikken fra sine egne med total stillhet. P\u00e5 fredag var han imidlertid snakkesaligheten selv. Da holdt han en tale p\u00e5 NIFUs \u00e5rskonferanse der han blant annet snakket om universitetsdemokratiets viktighet. Timingen for innlegget kunne ikke v\u00e6rt d\u00e5rligere for en rektor som selv bryter regler som skal verne om demokratiet. Under talen fortalte han at lederskap ved universiteter b\u00f8r preges av respekt og samarbeid. For rektor Ottersen har ingen problemer med \u00e5 ordlegge seg i fagre vendinger. Mer problemfylt blir det n\u00e5r de fine ordene skal f\u00f8lges opp gjennom praktiske handlinger. Sjelden er denne diskrepansen blitt tydeligere enn i rektors h\u00e5ndtering av den s\u00e5kalte prorektorsaken. Det er lettere for Ottersen \u00e5 tale motstandsfritt p\u00e5 kunnskapskonferanser, enn \u00e5 svare p\u00e5 kritiske sp\u00f8rsm\u00e5l om det som er blitt en sv\u00e6rt betent sak. Men dette er svar b\u00e5de studentene og de ansatte har krav p\u00e5 \u00e5 f\u00e5. Svar som rektoren har f\u00e5tt mange sjanser p\u00e5 \u00e5 gi. F\u00f8r Ottersen skulle holde sin tale p\u00e5 NIFU-konferansen spurte Universitas' utsendte om ikke timingen for talen var en smule ironisk. \u00abIngen kommentar\u00bb, var rektorens svar.</p>\n",
        "<p class=\"tit\">Slottsbingo</p>\n",
        "<p class=\"txt\">Chateau Neuf er konkurstruet. Den tidligere legendariske musikkscenen har byttet ut The Clash, Ramones og Miles Davis med trafikklysfest og bingo (og en Lama innimellom, det skal de ha). Mon tro hvor det gikk galt.</p>"
       ],
       "metadata": {},
       "output_type": "display_data",
       "text": [
        "<IPython.core.display.HTML at 0x7fa66aea4198>"
       ]
      },
      {
       "html": [
        "<p class=\"txt\">Chateau Neuf AS har ikke penger til \u00e5 drive over sommeren. Studentersamfundet vil g\u00e5 inn med midler, men de andre eierne sitter p\u00e5 gjerdet.</p>\n",
        "<p class=\"txt\">Chateau Neuf</p>\n",
        "<p class=\"txt\">Forrige uke informerte Det Norske Studentersamfunds (DNS) formann Martin Tveten sine medlemmer om at Chateau Neuf AS (CNAS) st\u00e5r i reell fare for konkurs.</p>\n",
        "<p class=\"txt\">P\u00e5 l\u00f8rdagens generalforsamling pr\u00f8vde DNS \u00e5 finne en l\u00f8sning p\u00e5 situasjonen. B\u00e5de flytting fra huset p\u00e5 Majorstua og konkurserkl\u00e6ring ble diskutert som alternativer, men styrets innstilling er at Stiftelsen Chateau Neuf og Heftyes Legat, samt Studentersamfundet selv, gir et likviditetsl\u00e5n av sine midler for \u00e5 opprettholde driften over sommeren.</p>\n",
        "<p class=\"txt\">Bortsett fra Studentsamskipnaden i Oslo (SiO) er DNS den eneste store kreditoren (se faktaboks). Universitetet i Oslo (UiO) er ogs\u00e5 medeier, men har sluttet \u00e5 gi l\u00e5n til selskapet. Det er derfor de to f\u00f8rstnevnte som vil tape noe om CNAS sl\u00e5s konkurs. Dersom dette skjer er det ikke sikkert driften av Chateau Neuf holder seg til over sommeren, forklarer Tveten.</p>\n",
        "<p class=\"txt\">\u2013 Ved \u00e5 g\u00e5 inn med l\u00e5n kan vi f\u00e5 gjennomf\u00f8rt endringene som trengs. Dessuten beholder vi muligheten til \u00e5 v\u00e6re til stede ved semesterstart, sier Tveten.</p>\n",
        "<p class=\"mt\">Skeptisk til mer hjelp</p>\n",
        "<p class=\"txt\">SiO har tidligere g\u00e5tt inn med \u00f8konomisk krisehjelp, og ser n\u00e5 alvorlig p\u00e5 at selskapet igjen trenger penger.</p>\n",
        "<p class=\"txt\">\u2013 Vi er generelt skeptisk til \u00e5 spytte inn mer penger, sier styreleder i SiO, Magnus Nystrand.</p>\n",
        "<p class=\"txt\">Han forteller at samskipnaden er opptatt av \u00e5 v\u00e6re en konstruktiv eier, men at de venter spent p\u00e5 eierm\u00f8tet p\u00e5 onsdag.</p>\n",
        "<p class=\"txt\">\u2013 Samtidig er vi glade for at DNS tar grep om selskapet, og at de skj\u00f8nner at det er en sv\u00e6rt alvorlig situasjon, sier Nystrand.</p>\n",
        "<p class=\"txt\">Universitetsdirekt\u00f8r Bj\u00f8rneboe representerer UiOs eierandel i selskapet. Hun vil ikke svare p\u00e5 om det er aktuelt for universitetet \u00e5 bidra med mer penger, men understreker at UiO avventer resultatene av eierm\u00f8tet, og at saken tas p\u00e5 alvor.</p>\n",
        "<p class=\"mt\">Satser p\u00e5 h\u00f8stsemesteret</p>\n",
        "<p class=\"txt\">Martin Tveten understreker at l\u00e5net i seg selv ikke vil endre p\u00e5 noe, men vil gi DNS handlerom til \u00e5 gjennomf\u00f8re en snuoperasjon av Studentersamfundet parallelt med at driften av det kommersielle legges om.</p>\n",
        "<p class=\"txt\">\u2013 CNAS skal v\u00e6re et verkt\u00f8y for Studentersamfundet. M\u00e5let er \u00e5 realisere studenthuset slik det var planlagt, sier Tveten.</p>\n",
        "<p class=\"txt\">For \u00e5 bedre situasjonen m\u00e5 bes\u00f8kstallene opp. Hovedstyret i DNS sier de har jobbet aktivt for \u00e5 satse bredere og engasjere student-Oslo. Begynnelsen av h\u00f8stsemesteret blir kritisk i DNS' snuoperasjon.</p>\n",
        "<p class=\"txt\">\u2013 Vi prioriterer \u00e5 f\u00e5 til en skikkelig studiestart. Det er den tiden av \u00e5ret det er st\u00f8rst mulighet til \u00e5 endre p\u00e5 ting, sier Tveten.</p>\n",
        "<p class=\"mt\">M\u00e5 t\u00f8rre det kommersielle</p>\n",
        "<p class=\"txt\">\u2013 Jeg merket at det var noe som manglet ved tilbudene p\u00e5 Chateau Neuf, sier Simone Brassien, leder av Arrangementsutvalget p\u00e5 DNS.</p>\n",
        "<p class=\"txt\">Hun var \u00f8konomiansvarlig i DNS' hovedstyre i 2013 og oppfattet mangelen p\u00e5 brede og hyppige arrangementer som en av hovedutfordringene til studenthuset.</p>\n",
        "<p class=\"txt\">\u2013 Siden Arrangementsutvalget ble opprettet i januar i \u00e5r har fokuset v\u00e5rt hele tiden v\u00e6rt \u00e5 arrangere ting som tiltrekker seg et bredt publikum, sier Brassien.</p>\n",
        "<p class=\"txt\">Arrangementsutvalget er bevisst sin rolle i \u00e5 trekke studentene til Chateau Neuf, og sier de skal satse hardt fremover, s\u00e6rlig mot semesterstart.</p>\n",
        "<p class=\"txt\">\u2013 Vi blir n\u00f8dt til sette inn et ekstra gir og gj\u00f8re studenthuset til et sted studentene bes\u00f8ker, og hvor de legger igjen penger, sier Brassien.</p>\n",
        "<p class=\"txt\">Hun vil kvitte seg med ryktet Chateau Neuf har p\u00e5 seg for \u00e5 v\u00e6re lukket.</p>\n",
        "<p class=\"txt\">\u2013 Mange liker debatt og vi skal fortsette med nisjene ogs\u00e5, men studenter liker \u00e5 feste og ha det g\u00f8y og det skal vi kunne tilby dem her.</p>\n",
        "<p class=\"mt\">Skal rydde opp en gang for alle</p>\n",
        "<p class=\"txt\">Universitas har dekket CNAS' pengeproblemer lenge, og det er ikke f\u00f8rste gangen driften har trengt krisel\u00e5n. Tveten er sikker p\u00e5 at Chateau Neuf kan berges for Oslostudentene denne gangen ogs\u00e5, men sier at alle i DNS er blitt klare over alvoret.</p>\n",
        "<p class=\"txt\">\u2013 Det kommer ikke til \u00e5 fortsette som f\u00f8r. V\u00e5re aktive m\u00e5 v\u00e6re innstilte p\u00e5 \u00e5 endre seg, sier Tveten.</p>\n",
        "<p class=\"txt\"><I>\u2013 Er dette siste sjanse for CNAS?</I></p>\n",
        "<p class=\"txt\">\u2013 Det er helt umulig \u00e5 si. Jeg h\u00e5per i hvert fall dette blir siste gang, sier Tveten.</p>\n",
        "<p class=\"txt\"><I>\u2013 Hva skjer p\u00e5 generalforsamling og eierm\u00f8te p\u00e5 onsdag?</I></p>\n",
        "<p class=\"txt\">\u2013 Det blir \u00e5 bestemme veien videre. Akkurat n\u00e5 ser det lyst ut. Det er en kjedelig situasjon og det er ikke en morsom jobb \u00e5 ha, men jeg tror vi unng\u00e5r konkurs og f\u00e5r snudd om p\u00e5 ting, sier Tveten.</p>"
       ],
       "metadata": {},
       "output_type": "display_data",
       "text": [
        "<IPython.core.display.HTML at 0x7fa66aea4198>"
       ]
      },
      {
       "html": [
        "<p class=\"txt\">KARAKTERER: De med best karakterer etter mastergrad f\u00e5r 20 prosent mer i l\u00f8nn enn de i bunnsjiktet. L\u00f8nnsforskjellen mellom de med best og d\u00e5rligst karakterer fortsetter inn i arbeidslivet, og det er ikke slik at karakterene bare sl\u00e5r ut p\u00e5 den f\u00f8rste jobben, melder forskning.no For noen utdanningsgrupper \u00f8ker forskjellene.</p>\n",
        "<p class=\"txt\">\u2013 Det tyder p\u00e5 at utdanningssystemet m\u00e5ler noe av det samme som arbeidslivet er villig til \u00e5 bel\u00f8nne, sier Erling Barth, forsker ved Institutt for samfunnsforskning (ISF) til forskning.no</p>\n",
        "<p class=\"txt\">Han har ledet et forskningsprosjekt som tar for seg hvordan utdanningssystemet blir verdsatt i arbeidsmarkedet.</p>\n",
        "<p class=\"txt\">\u2013 20 prosent h\u00f8yere l\u00f8nninger er en god del sett i forhold til de sm\u00e5 l\u00f8nnsforskjellene i Norge, sier Barth til forskning.no</p>"
       ],
       "metadata": {},
       "output_type": "display_data",
       "text": [
        "<IPython.core.display.HTML at 0x7fa66aea4198>"
       ]
      },
      {
       "html": [
        "<p class=\"txt\">EKSAMENSEVAKUERING: Til sammen 150 studenter m\u00e5tte forlate eksamenslokalene sine ved Universitetet i Troms\u00f8 \u2013 Norges arktiske universitet da brannalarmen gikk tirsdag ettermiddag. \u00c5rsaken til at alarmen gikk var et toastjern som ikke var sl\u00e5tt av, melder nrk.no.</p>\n",
        "<p class=\"txt\">\u2013 Jeg har forst\u00e5else for beslutningen til universitetsledelsen, men det er samtidig veldig frustrerende. Dette var min siste eksamen f\u00f8r jeg skulle ta sommerferie, men n\u00e5 m\u00e5 jeg lese mer og forberede meg \u00e5 en ny eksamen, sier psykologistudent Maja Bergman til NRK.</p>\n",
        "<p class=\"txt\">Hun forteller videre at det f\u00f8les helt forferdelig, og at hun \u00abaldri har v\u00e6rt s\u00e5 sint p\u00e5 et toastjern\u00bb.</p>"
       ],
       "metadata": {},
       "output_type": "display_data",
       "text": [
        "<IPython.core.display.HTML at 0x7fa66aea4198>"
       ]
      },
      {
       "html": [
        "<p class=\"txt\">FYLLEANGST: En altamann (33) er illagt en bot p\u00e5 kroner 7000 etter at han i \u00ab\u00e5penbar beruselse\u00bb skjelte ut en politibetjent og en politistudent. Det melder altaposten.no.</p>\n",
        "<p class=\"txt\">I mai i fjor at bisto politiet mannen med \u00e5 komme seg hjem, men politibetjenten og studenten ble ikke m\u00f8tt med s\u00e6rlig mye takknemlighet for dette.</p>\n",
        "<p class=\"txt\">Han hisset seg opp og kastet en \u00f8lboks etter politibilen, og ga klar beskjed om at de kunne \u00abdra til helvete\u00bb.</p>\n",
        "<p class=\"txt\">Politih\u00f8gskolestudenten som var med p\u00e5 oppdraget ble kalt for en \u00abj\u00e6vla nynazist\u00bb.</p>\n",
        "<p class=\"txt\">I tillegg b\u00f8telegges mannen for \u00e5 ha nektet \u00e5 oppgi personalia.</p>\n",
        "<p class=\"txt\">Mannen m\u00e5 ut med kroner 7000 for forseelsen, eventuelt 14 dager i fengsel, melder altaposten.no</p>"
       ],
       "metadata": {},
       "output_type": "display_data",
       "text": [
        "<IPython.core.display.HTML at 0x7fa66aea4198>"
       ]
      }
     ],
     "prompt_number": 10
    },
    {
     "cell_type": "raw",
     "metadata": {
      "raw_mimetype": "text/html"
     },
     "source": []
    },
    {
     "cell_type": "code",
     "collapsed": false,
     "input": [],
     "language": "python",
     "metadata": {},
     "outputs": [],
     "prompt_number": 10
    }
   ],
   "metadata": {}
  }
 ]
}