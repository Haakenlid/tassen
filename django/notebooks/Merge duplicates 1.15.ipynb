{
 "cells": [
  {
   "cell_type": "code",
   "execution_count": 7,
   "metadata": {},
   "outputs": [
    {
     "name": "stdout",
     "output_type": "stream",
     "text": [
      "Help on function merge_instances in module utils.merge_model_objects:\n",
      "\n",
      "merge_instances(primary_object, *alias_objects, disable_signals=True)\n",
      "    Merge several model instances into one, the `primary_object`.\n",
      "    Use this function to merge model objects and migrate all of the related\n",
      "    fields from the alias objects the primary object.\n",
      "    Usage:\n",
      "        from django.contrib.auth.models import User\n",
      "        primary_user = User.objects.get(email='good@example.com')\n",
      "        duplicate_user = User.objects.get(email='good+duplicate@example.com')\n",
      "        merge(primary_user, duplicate_user)\n",
      "    Based on: https://djangosnippets.org/snippets/382/\n",
      "    Based on https://djangosnippets.org/snippets/2283/\n",
      "\n"
     ]
    }
   ],
   "source": [
    "help(merge_instances)"
   ]
  },
  {
   "cell_type": "markdown",
   "metadata": {},
   "source": [
    "# Run merge operations"
   ]
  },
  {
   "cell_type": "code",
   "execution_count": 15,
   "metadata": {},
   "outputs": [],
   "source": [
    "from django.db import models\n",
    "from utils.merge_model_objects import merge_instances\n",
    "import logging\n",
    "from fuzzywuzzy import fuzz\n",
    "\n",
    "logger = logging.getLogger('jup')\n",
    "logger.setLevel(logging.INFO)\n",
    "\n",
    "def sort_images(images):\n",
    "    def key_func(im):\n",
    "        return -im.usage, -len(im.exif_data), im.created\n",
    "    return sorted(\n",
    "        images.annotate(usage=models.Count('storyimage')),\n",
    "        key=key_func,\n",
    "    )\n",
    "\n",
    "def merge_duplicates(qs, attrs=('id',), sort_func=None):\n",
    "    for item in qs:\n",
    "        kwargs = {attr: getattr(item, attr) for attr in attrs} \n",
    "        clones = qs.filter(**kwargs)\n",
    "        if len(clones) > 1:\n",
    "            logger.info(f'{item} merge with {len(clones) -1} clones')\n",
    "            if sort_func:\n",
    "                clones = sort_func(clones)\n",
    "            merge_instances(*clones)\n",
    "    logger.info(f'{qs.model.__qualname__} count: {qs.count()} -> {qs.all().count()}')\n",
    "            \n",
    "def merge_bylines():\n",
    "    attrs = ['story', 'contributor', 'credit']\n",
    "    qs = Byline.objects.all()\n",
    "    merge_duplicates(qs, attrs)\n",
    "    \n",
    "def merge_images_by_md5():\n",
    "    attrs = ['_md5']\n",
    "    qs = ImageFile.objects.all()\n",
    "    merge_duplicates(qs, attrs, sort_func=sort_images)\n",
    "    \n",
    "def merge_images_by_field(field='imagehash'):\n",
    "    qs = ImageFile.objects.all()\n",
    "    for item in qs: \n",
    "        clones = item.similar(field) | qs.filter(pk=item.pk) \n",
    "        if len(clones) > 1:\n",
    "            logger.info(f'{item} merge with {len(clones) -1} clones')\n",
    "            merge_instances(*sort_images(clones))\n",
    "            \n",
    "    logger.info(f'{qs.model.__qualname__} count: {qs.count()} -> {qs.all().count()}')\n",
    "    \n",
    "def _clone(*items):\n",
    "    for item in items: \n",
    "        item.pk = None\n",
    "        item.save()\n",
    "\n",
    "def test_merge():\n",
    "    _clone(*Byline.objects.order_by('?')[:3])\n",
    "    merge_bylines()\n",
    "    \n",
    "    _clone(*ImageFile.objects.order_by('?')[:3])\n",
    "    merge_images_by_field('md5')\n",
    "    \n",
    "    _clone(*ImageFile.objects.order_by('?')[:3])\n",
    "    merge_images_by_field('imagehash')\n",
    "\n"
   ]
  },
  {
   "cell_type": "code",
   "execution_count": 18,
   "metadata": {},
   "outputs": [
    {
     "name": "stderr",
     "output_type": "stream",
     "text": [
      "19:55:53 2017-10-01 [ INFO]          jup <ipython-input-18-3af575ee4e46>:9    (merge_contributors)\n",
      "\tMorten Oftedal Schwenke merge with 1 clones\n",
      "\n",
      "19:55:53 2017-10-01 [ INFO]          jup <ipython-input-18-3af575ee4e46>:9    (merge_contributors)\n",
      "\tMorten Oftedal Schwencke merge with 1 clones\n",
      "\n",
      "19:55:53 2017-10-01 [ INFO]          jup <ipython-input-18-3af575ee4e46>:19   (merge_contributors)\n",
      "\tContributor count: 68 -> 68\n",
      "\n"
     ]
    },
    {
     "name": "stdout",
     "output_type": "stream",
     "text": [
      "morten.oftedal.schwenke@example.com Morten Oftedal Schwenke 100\n",
      "morten.schwencke@gmail.com Morten Oftedal Schwencke 98\n",
      "morten.oftedal.schwenke@example.com Morten Oftedal Schwenke 98\n",
      "morten.schwencke@gmail.com Morten Oftedal Schwencke 100\n"
     ]
    }
   ],
   "source": [
    "def merge_contributors(cutoff=85):\n",
    "    qs = Contributor.objects.all()\n",
    "    for item in qs: \n",
    "        clones = qs.filter(email=item.email) \n",
    "        clones |= qs.filter(display_name__trigram_similar=item.display_name)\n",
    "        if len(clones) > 1:\n",
    "            clones = [c for c in clones if fuzz.ratio(c.display_name, item.display_name) > cutoff]\n",
    "        if len(clones) > 1:\n",
    "            logger.info(f'{item} merge with {len(clones) -1} clones')\n",
    "            for clone in clones:\n",
    "                name = clone.display_name\n",
    "                print(\n",
    "                    clone.email,\n",
    "                    clone.display_name, \n",
    "                    fuzz.ratio(item.display_name, name)\n",
    "                )\n",
    "            #merge_instances(*sort_images(clones))\n",
    "            \n",
    "    logger.info(f'{qs.model.__qualname__} count: {qs.count()} -> {qs.all().count()}')\n",
    "\n",
    "merge_contributors()"
   ]
  },
  {
   "cell_type": "code",
   "execution_count": 9,
   "metadata": {},
   "outputs": [
    {
     "name": "stderr",
     "output_type": "stream",
     "text": [
      "19:39:51 2017-10-01 [ INFO]          jup <ipython-input-8-b383b23c35b0>:21   (merge_duplicates)\n",
      "\t@bl: Tekst: Olav Riise, På vegne av Gjestelista merge with 1 clones\n",
      "\n",
      "19:39:51 2017-10-01 [ INFO]          jup <ipython-input-8-b383b23c35b0>:21   (merge_duplicates)\n",
      "\t@bl: Av: Marcus Pettersen Irgens, finanspolitisk talsperson i Liberal Liste merge with 1 clones\n",
      "\n",
      "19:39:51 2017-10-01 [ INFO]          jup <ipython-input-8-b383b23c35b0>:21   (merge_duplicates)\n",
      "\t@bl: Tekst: Julie Brundtland merge with 1 clones\n",
      "\n",
      "19:39:52 2017-10-01 [ INFO]          jup <ipython-input-8-b383b23c35b0>:25   (merge_duplicates)\n",
      "\tByline count: 87 -> 84\n",
      "\n",
      "19:39:52 2017-10-01 [ INFO]          jup <ipython-input-8-b383b23c35b0>:42   (merge_images_by_field)\n",
      "\toya2017-120817-alfSimensen-5-hROumwI.jpg merge with 1 clones\n",
      "\n",
      "19:39:52 2017-10-01 [ INFO]          jup <ipython-input-8-b383b23c35b0>:42   (merge_images_by_field)\n",
      "\t16-KUL-sermoni-HKH-02-jts2woT.jpg merge with 1 clones\n",
      "\n",
      "19:39:52 2017-10-01 [ INFO]          jup <ipython-input-8-b383b23c35b0>:42   (merge_images_by_field)\n",
      "\t20-KUL-yoga-EDD-15-Bu001Ro.jpg merge with 1 clones\n",
      "\n",
      "19:39:53 2017-10-01 [ INFO]          jup <ipython-input-8-b383b23c35b0>:45   (merge_images_by_field)\n",
      "\tImageFile count: 326 -> 323\n",
      "\n",
      "19:39:53 2017-10-01 [ INFO]          jup <ipython-input-8-b383b23c35b0>:42   (merge_images_by_field)\n",
      "\t08-KUL-Min-Studietid-Stolen-DK-4.jpg merge with 1 clones\n",
      "\n",
      "19:39:54 2017-10-01 [ INFO]          jup <ipython-input-8-b383b23c35b0>:42   (merge_images_by_field)\n",
      "\tsj-018228-i0CxEca-2q2gJBy.jpg merge with 1 clones\n",
      "\n",
      "19:39:54 2017-10-01 [ INFO]          jup <ipython-input-8-b383b23c35b0>:42   (merge_images_by_field)\n",
      "\t19-MAG-ungdomspolitikk-OA-18-SPLI2Zr.jpg merge with 1 clones\n",
      "\n",
      "19:39:55 2017-10-01 [ INFO]          jup <ipython-input-8-b383b23c35b0>:45   (merge_images_by_field)\n",
      "\tImageFile count: 326 -> 323\n",
      "\n"
     ]
    }
   ],
   "source": [
    "test_merge()"
   ]
  },
  {
   "cell_type": "code",
   "execution_count": null,
   "metadata": {},
   "outputs": [],
   "source": []
  }
 ],
 "metadata": {
  "kernelspec": {
   "display_name": "Django Shell-Plus",
   "language": "python",
   "name": "django_extensions"
  },
  "language_info": {
   "codemirror_mode": {
    "name": "ipython",
    "version": 3
   },
   "file_extension": ".py",
   "mimetype": "text/x-python",
   "name": "python",
   "nbconvert_exporter": "python",
   "pygments_lexer": "ipython3",
   "version": "3.6.2"
  }
 },
 "nbformat": 4,
 "nbformat_minor": 1
}
