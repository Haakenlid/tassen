{
 "cells": [
  {
   "cell_type": "markdown",
   "metadata": {},
   "source": [
    "\n",
    "## PostgreSQL specific lookups¶\n",
    "\n",
    "### [Trigram similarity]\n",
    "\n",
    "New in Django 1.10.\n",
    "\n",
    "The `trigram_similar` lookup allows you to perform trigram lookups, measuring the number of trigrams (three consecutive characters) shared, using a dedicated PostgreSQL extension. A trigram lookup is given an expression and returns results that have a similarity measurement greater than the current similarity threshold.\n",
    "\n",
    "To use it, add `'django.contrib.postgres'` in your `INSTALLED_APPS` and activate the `pg_trgm` extension on PostgreSQL. You can install the extension using the `TrigramExtension` migration operation.\n",
    "\n",
    "The `trigram_similar` lookup can be used on `CharField` and `TextField`:\n",
    "\n",
    "    >>> City.objects.filter(name__trigram_similar=\"Middlesborough\")\n",
    "    ['<City: Middlesbrough>']\n",
    "\n",
    "[Trigram similarity]: https://docs.djangoproject.com/en/1.11/ref/contrib/postgres/lookups/#trigram-similarity\n"
   ]
  },
  {
   "cell_type": "code",
   "execution_count": 1,
   "metadata": {},
   "outputs": [
    {
     "data": {
      "text/plain": [
       "<ImageFileQuerySet [<ImageFile: 36797861831-c19e166530-o-9jwwS4b.jpg>, <ImageFile: 19-MAG-ungdomspolitikk-OA-18-SPLI2Zr.jpg>]>"
      ]
     },
     "execution_count": 1,
     "metadata": {},
     "output_type": "execute_result"
    }
   ],
   "source": [
    "ImageFile.objects.filter(_imagehash__trigram_similar='949675aa79790994')"
   ]
  },
  {
   "cell_type": "code",
   "execution_count": 2,
   "metadata": {},
   "outputs": [],
   "source": [
    "from pathlib import Path\n",
    "import imagehash\n",
    "import PIL\n",
    "import requests\n",
    "from IPython.display import HTML\n",
    "from io import BytesIO\n",
    "import base64"
   ]
  },
  {
   "cell_type": "code",
   "execution_count": 3,
   "metadata": {},
   "outputs": [],
   "source": [
    "def img2html(image_file):\n",
    "    img = PIL.Image.open(image_file.small)\n",
    "    blob = BytesIO()\n",
    "    img.save(blob, 'png')\n",
    "    blob.seek(0)\n",
    "    data = base64.b64encode(blob.read()).decode('ascii')\n",
    "    blob.close()\n",
    "    return '<img src=\"data:image/png;base64,{data}\" />'.format(data=data)"
   ]
  },
  {
   "cell_type": "code",
   "execution_count": 4,
   "metadata": {
    "scrolled": false
   },
   "outputs": [],
   "source": [
    "def show_duplicates(images):\n",
    "    master = images[0]\n",
    "    html = f'<h2>{master}</h2>'\n",
    "    for image in images:\n",
    "        data = {\n",
    "             'src':      image.original,\n",
    "             'hash':     image.imagehash,\n",
    "             'md5':      image.md5,\n",
    "             'filesize': image.size,\n",
    "             'size':     (image.full_width, image.full_height),\n",
    "             'diff':     abs(image.imagehash - master.imagehash),\n",
    "        }\n",
    "        title = '\\n'.join(f'{k:<10}: {v}' for k, v in data.items())\n",
    "        html += f'<div style=\"width: calc(50% - 10px); display: inline-block; padding: 5px\" >'\n",
    "        html += img2html(image)\n",
    "        html += f'<pre style=\"position: relative; background: rgba(255, 255, 255, 0.8)\">{title}</pre>'\n",
    "        html += f'</div>'\n",
    "    html += '<hr/>'   \n",
    "    return html"
   ]
  },
  {
   "cell_type": "code",
   "execution_count": null,
   "metadata": {
    "scrolled": false
   },
   "outputs": [],
   "source": [
    "def show_near_duplicates_trigram(field='imagehash'):\n",
    "    qs = ImageFile.objects.order_by('pk')\n",
    "    processed = set() \n",
    "    output = ''\n",
    "    for im in qs:\n",
    "        items = im.similar(field) & qs.exclude(pk__lt=im.pk).exclude(pk__in=processed)\n",
    "        if items:\n",
    "            processed.update([item.pk for item in items])\n",
    "            output += show_duplicates(qs.filter(pk=im.pk) | items)\n",
    "    return HTML(output)\n",
    "\n",
    "show_near_duplicates_trigram('md5')"
   ]
  },
  {
   "cell_type": "code",
   "execution_count": null,
   "metadata": {},
   "outputs": [],
   "source": []
  }
 ],
 "metadata": {
  "kernelspec": {
   "display_name": "Django Shell-Plus",
   "language": "python",
   "name": "django_extensions"
  },
  "language_info": {
   "codemirror_mode": {
    "name": "ipython",
    "version": 3
   },
   "file_extension": ".py",
   "mimetype": "text/x-python",
   "name": "python",
   "nbconvert_exporter": "python",
   "pygments_lexer": "ipython3",
   "version": "3.6.2"
  }
 },
 "nbformat": 4,
 "nbformat_minor": 1
}
