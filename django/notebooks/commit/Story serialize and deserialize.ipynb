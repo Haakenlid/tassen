{
 "cells": [
  {
   "cell_type": "code",
   "execution_count": 4,
   "metadata": {
    "collapsed": true
   },
   "outputs": [],
   "source": [
    "import requests\n",
    "import json\n",
    "class ProdSysApi:\n",
    "    \n",
    "    def __init__(self, url_list, url_single, user, password):\n",
    "        self._auth = requests.auth.HTTPBasicAuth(user, password)\n",
    "        self._urls = [url_single, url_list]\n",
    "        \n",
    "    def api_url(self, id=None):\n",
    "        if id is None:\n",
    "            return self._urls[1]\n",
    "        else:\n",
    "            return self._urls[0].format(id)\n",
    "    \n",
    "    def list(self):\n",
    "        response = requests.get(self.api_url(), auth=self._auth)\n",
    "        print(len(response.content))\n",
    "        data = response.json()\n",
    "        return data\n",
    "        \n",
    "    def get(self, id):\n",
    "        response = requests.get(self.api_url(id), auth=self._auth)\n",
    "        data = response.json()\n",
    "        return data\n",
    "    \n",
    "    def new(self, data):\n",
    "            return requests.post(\n",
    "                self.api_url(), \n",
    "                auth = self._auth,\n",
    "                json = data,\n",
    "            )\n",
    "        \n",
    "    def patch(self, id, data):\n",
    "        if 'api/indesign/' in self._urls[0]:\n",
    "            return requests.post(\n",
    "                self.api_url(id), \n",
    "                auth = self._auth,\n",
    "                data = {'json': json.dumps(data)},\n",
    "            )\n",
    "        else:\n",
    "            return requests.patch(\n",
    "                self.api_url(id), \n",
    "                auth = self._auth,\n",
    "                json = data,\n",
    "            )\n",
    "            \n",
    "\n",
    "        \n",
    "old_api = ProdSysApi(\n",
    "    user='api',\n",
    "    password='Avier1gi',\n",
    "    url_list = 'http://universitas.no/admin/api/indesign/json/',\n",
    "    url_single = 'http://universitas.no/admin/api/indesign/{}/json/',\n",
    ")\n",
    "new_api = ProdSysApi(\n",
    "    user='api',\n",
    "    password='Avier1gi',\n",
    "    url_list = 'http://universitas.no/api/legacy/?limit=500',\n",
    "    url_single = 'http://universitas.no/api/legacy/{}/',\n",
    ")\n",
    "local_api = ProdSysApi(\n",
    "    user='api',\n",
    "    password='api',\n",
    "    url_list = 'http://web:8000/api/legacy/?limit=10',\n",
    "    url_single = 'http://web:8000/api/legacy/{}/',\n",
    ")\n",
    "\n"
   ]
  },
  {
   "cell_type": "code",
   "execution_count": 5,
   "metadata": {},
   "outputs": [
    {
     "name": "stdout",
     "output_type": "stream",
     "text": [
      "407940\n"
     ]
    }
   ],
   "source": [
    "prodsaker = [old_api.get(ps['prodsak_id']) for ps in old_api.list() if ps['produsert'] < '8']\n"
   ]
  },
  {
   "cell_type": "code",
   "execution_count": 6,
   "metadata": {},
   "outputs": [
    {
     "data": {
      "text/plain": [
       "81"
      ]
     },
     "execution_count": 6,
     "metadata": {},
     "output_type": "execute_result"
    }
   ],
   "source": [
    "len(prodsaker)"
   ]
  },
  {
   "cell_type": "code",
   "execution_count": 8,
   "metadata": {},
   "outputs": [
    {
     "name": "stdout",
     "output_type": "stream",
     "text": [
      "23260 vispor 17 Vi spør 201\n",
      "(17 Vi spør) 0:00:00 0:00:00\n",
      "23257 quiz 17 Quiz 201\n",
      "(17 Quiz) 0:00:00 0:00:00\n",
      "23252 nyhetsnotis 17 NYH NOTISER 201\n",
      "(17 NYH NOTISER) 0:00:00 0:00:00\n",
      "23192 nyhet 16 nyh karaktersak ekspert 201\n",
      "(16 nyh karaktersak ekspert) 0:00:00 0:00:00\n",
      "23214 nyhet 16 nyh Fem på hookern 400\n",
      "23218 nyhet 16 notiser 201\n",
      "(16 notiser) 0:00:00 0:00:00\n",
      "23212 nyhet Hooke-nekt ved HiOA 201\n",
      "(Hooke-nekt ved HiOA) 0:00:00 0:00:00\n",
      "22587 nyhet ISS oppfølger 17 201\n",
      "(ISS oppfølger 17) 0:00:00 0:00:00\n",
      "23255 nyhet Svindyr faddermorro 201\n",
      "(Svindyr faddermorro) 0:00:00 0:00:00\n",
      "23174 magasin MAGCurlingbarn på Blindern-isen 201\n",
      "(MAGCurlingbarn på Blindern-isen) 0:00:00 0:00:00\n",
      "23225 magasin Tips til ferske studenter 201\n",
      "(Tips til ferske studenter) 0:00:00 0:00:00\n",
      "23223 leder 16 Leder  201\n",
      "(16 Leder) 0:00:00 0:00:00\n",
      "23261 leder 17 leder 201\n",
      "(17 leder) 0:00:00 0:00:00\n",
      "23199 kulturnotis Kulturnotiser 400\n",
      "23245 kulturnotis 17 KUL NOTISER 201\n",
      "(17 KUL NOTISER) 0:00:00 0:00:00\n",
      "23268 kommentar 18 DEB nyhkom Drikkepress 201\n",
      "(18 DEB nyhkom Drikkepress) 0:00:00 0:00:00\n",
      "23194 anmeldelser NETT Øya Broen og Lars Vaular 400\n",
      "23177 anmeldelser NETT Øya ieatheartattacks 400\n",
      "23181 anmeldelser NETT Anm Louien 201\n",
      "(NETT Anm Louien) 0:00:00 0:00:00\n",
      "23178 anmeldelser NETT HAJK og Telephones 400\n",
      "23179 anmeldelser NETT Skadedyr 400\n",
      "23195 anmeldelser NETT Anm Nils Bech 201\n",
      "(NETT Anm Nils Bech) 0:00:00 0:00:00\n",
      "23191 anmeldelser anm nett Jenny Hval 201\n",
      "(anm nett Jenny Hval) 0:00:00 0:00:00\n",
      "23190 anmeldelser 16 ANMØYA Unge Ferrari 400\n",
      "23227 anmeldelser 17 anm Siv Jakobsen 400\n",
      "23237 anmeldelser 17 Loading...2 Vaular anmeldelse 400\n",
      "23236 anmeldelser ANM 17 Kong Amf 400\n",
      "23244 anmeldelser 17 anmeldelse austmann fadderøl 201\n",
      "(17 anmeldelse austmann fadderøl) 0:00:00 0:00:00\n",
      "23258 år 17 ARKIVAREN 201\n",
      "(17 ARKIVAREN) 0:00:00 0:00:00\n",
      "23220 vispor 16 VINSPALTE 201\n",
      "(16 VINSPALTE) 0:00:00 0:00:00\n",
      "23219 vispor Vi spør 16 201\n",
      "(Vi spør 16) 0:00:00 0:00:00\n",
      "23259 omverden 17 urix notis 400\n",
      "23213 nyhet Tidslinje til Markus Knutsen 201\n",
      "(Tidslinje til Markus Knutsen) 0:00:00 0:00:00\n",
      "23222 nyhet arkivaren 16 201\n",
      "(arkivaren 16) 0:00:00 0:00:00\n",
      "23242 minstudietid 18 KUL Min studietid med Hegseth 201\n",
      "(18 KUL Min studietid med Hegseth) 0:00:00 0:00:00\n",
      "23251 magasin Studenter som ikke stemmer 201\n",
      "(Studenter som ikke stemmer) 0:00:00 0:00:00\n",
      "23238 magasin MAGHannah 201\n",
      "(MAGHannah) 0:00:00 0:00:00\n",
      "23182 magasin Mag+Ungdomspolitikk 201\n",
      "(Mag+Ungdomspolitikk) 0:00:00 0:00:00\n",
      "23216 magasin Portrett JGS 201\n",
      "(Portrett JGS) 0:00:00 0:00:00\n",
      "23250 kulturnotis Kulturanb 201\n",
      "(Kulturanb) 0:00:00 0:00:00\n",
      "23267 kulturnotis 18 Notiser kul 201\n",
      "(18 Notiser kul) 0:00:00 0:00:00\n",
      "23273 kultur 18 Kul Alva Brosten (sidesak til designutdanning) 201\n",
      "(18 Kul Alva Brosten (sidesak til designutdanning)) 0:00:00 0:00:00\n",
      "23265 kultur 18 Kul Designstudiet 201\n",
      "(18 Kul Designstudiet) 0:00:00 0:00:00\n",
      "23271 kultur Kultur kjønnssykdommer 201\n",
      "(Kultur kjønnssykdommer) 0:00:00 0:00:00\n",
      "23232 kronikk 17 DEB Trine Skei Grande 201\n",
      "(17 DEB Trine Skei Grande) 0:00:00 0:00:00\n",
      "23277 kronikk 18 DEB Albania 201\n",
      "(18 DEB Albania) 0:00:00 0:00:00\n",
      "23180 anmeldelser NETT Gabrielle 201\n",
      "(NETT Gabrielle) 0:00:00 0:00:00\n",
      "23193 anmeldelser NETT anm Shikoswe 201\n",
      "(NETT anm Shikoswe) 0:00:00 0:00:00\n",
      "23206 anmeldelser 16 Musikkanbefalinger 201\n",
      "(16 Musikkanbefalinger) 0:00:00 0:00:00\n",
      "23239 anmeldelser 17 anbefaling skogen 201\n",
      "(17 anbefaling skogen) 0:00:00 0:00:00\n",
      "23234 anmeldelser Advarsel toga-fest 201\n",
      "(Advarsel toga-fest) 0:00:00 0:00:00\n",
      "23249 anmeldelser 17 kulturkalender 201\n",
      "(17 kulturkalender) 0:00:00 0:00:00\n",
      "23276 anmeldelser 18 mindtrix anmeldelse 201\n",
      "(18 mindtrix anmeldelse) 0:00:00 0:00:00\n",
      "23274 anmeldelser 18 anbefaling 201\n",
      "(18 anbefaling) 0:00:00 0:00:00\n",
      "23278 anmeldelser 18 ANM Kommode 201\n",
      "(18 ANM Kommode) 0:00:00 0:00:00\n",
      "23275 anmeldelser 18 anm SKUMPA 201\n",
      "(18 anm SKUMPA) 0:00:00 0:00:00\n",
      "23217 adnotam Ad notam 16 201\n",
      "(Ad notam 16) 0:00:00 0:00:00\n",
      "23256 adnotam 17 VINSPALTEN 201\n",
      "(17 VINSPALTEN) 0:00:00 0:00:00\n",
      "23240 nyhet 17+Nyh+Matbørs 201\n",
      "(17+Nyh+Matbørs) 0:00:00 0:00:00\n",
      "23269 anmeldelser AdvarselKimJongIsaksen 201\n",
      "(AdvarselKimJongIsaksen) 0:00:00 0:00:00\n",
      "23280 quiz 18 201\n",
      "(18) 0:00:00 0:00:00\n",
      "22551 nyhet Aserbajdsjan Roggen 201\n",
      "(Aserbajdsjan Roggen) 0:00:00 0:00:00\n",
      "22719 nyhet UiO gjorde feil nett 201\n",
      "(UiO gjorde feil nett) 0:00:00 0:00:00\n",
      "22850 nyhet 09 nyh Felles Klagenemnd vs NAV 201\n",
      "(09 nyh Felles Klagenemnd vs NAV) 0:00:00 0:00:00\n",
      "22873 nyhet SLIK KODER DU SAKER! 201\n",
      "(SLIK KODER DU SAKER!) 0:00:00 0:00:00\n",
      "22872 nyhet 09nyh varslerrot 201\n",
      "(09nyh varslerrot) 0:00:00 0:00:00\n",
      "23151 nyhet Medisin varsling 201\n",
      "(Medisin varsling) 0:00:00 0:00:00\n",
      "23127 nyhet 15 NYH - Jens Lægreid - Ingen prest og en plage 201\n",
      "(15 NYH - Jens Lægreid - Ingen prest og en plage) 0:00:00 0:00:00\n",
      "23235 nyhet 17nyh forskere tilrettevisning 201\n",
      "(17nyh forskere tilrettevisning) 0:00:00 0:00:00\n",
      "23282 nyhet 18nyhFengsletForsker utkast 201\n",
      "(18nyhFengsletForsker utkast) 0:00:00 0:00:00\n",
      "23283 nyhet Optimisme i DNS 201\n",
      "(Optimisme i DNS) 0:00:00 0:00:00\n",
      "23226 nett 17 NYH Saksomkostninger 201\n",
      "(17 NYH Saksomkostninger) 0:00:00 0:00:00\n",
      "23263 magasin 18 MAG Politisk satire 201\n",
      "(18 MAG Politisk satire) 0:00:00 0:00:00\n",
      "23266 kulturnotis 18 Kul.anb. 201\n",
      "(18 Kul.anb.) 0:00:00 0:00:00\n",
      "10000 kultur 12Chateau Neuf SIDE 12-13 400\n",
      "23272 kronikk 17DEBforskningsintervju 201\n",
      "(17DEBforskningsintervju) 0:00:00 0:00:00\n",
      "23279 kronikk 18 DEB Gjestelista 201\n",
      "(18 DEB Gjestelista) 0:00:00 0:00:00\n",
      "23281 kronikk 18 DEB BSU og sparing 201\n",
      "(18 DEB BSU og sparing) 0:00:00 0:00:00\n",
      "23262 kommentar westerdalsnerdekommentar 201\n",
      "(westerdalsnerdekommentar) 0:00:00 0:00:00\n",
      "23270 anmeldelser 18+Anml+Lamegblimeddeg 201\n",
      "(18+Anml+Lamegblimeddeg) 0:00:00 0:00:00\n",
      "23215 akademia awesome 201\n",
      "(awesome) 0:00:00 0:00:00\n"
     ]
    }
   ],
   "source": [
    "# Remove work in progress stories\n",
    "qs = Story.objects.filter(publication_status__lt=Story.STATUS_FROM_DESK)\n",
    "qs.delete()\n",
    "\n",
    "\n",
    "def pre_save(model_instance, add):\n",
    "    \"\"\" Returns field's value just before saving. \"\"\"\n",
    "    return getattr(model_instance, 'modified')\n",
    "\n",
    "def update_timestamps(story, created, modified):\n",
    "    story.created = created \n",
    "    story.modified = modified\n",
    "    story._meta.get_field('modified').pre_save = pre_save\n",
    "    story.save()\n",
    "\n",
    "\n",
    "import pytz\n",
    "def get_status(produsert, flagg, **kwargs):\n",
    "    flag_status = {\n",
    "        1: Story.STATUS_JOURNALIST,\n",
    "        2: Story.STATUS_SUBEDITOR,\n",
    "        3: Story.STATUS_EDITOR,\n",
    "        4: Story.STATUS_EDITOR\n",
    "    }.get(int(flagg))\n",
    "    status = {\n",
    "        Prodsak.DRAFT: flag_status,\n",
    "        Prodsak.OLD_DRAFT: flag_status,\n",
    "        Prodsak.READY_FOR_PRINT: Story.STATUS_TO_DESK,\n",
    "        Prodsak.IMPORTED_TO_INDESIGN: Story.STATUS_AT_DESK,\n",
    "        Prodsak.EXPORTED_FROM_INDESIGN: Story.STATUS_FROM_DESK,\n",
    "    }.get(int(produsert))\n",
    "    return status\n",
    "\n",
    "\n",
    "def timeparser(value):\n",
    "    dt=pytz.datetime.datetime.strptime(value, '%Y-%m-%d %H:%M:%S')\n",
    "    return pytz.timezone('Europe/Oslo').localize(dt)\n",
    "# for prodsak in filter(lambda s: len(s['mappe']) == 2, prodsaker):\n",
    "\n",
    "for ps in prodsaker:\n",
    "    ps['produsert'] = get_status(**ps)\n",
    "    if ps['mappe'] == '\\ufffdr':\n",
    "        ps['mappe'] = 'år'\n",
    "    created = timeparser(ps.get('dato'))\n",
    "    modified = timeparser(ps.get('version_date'))\n",
    "    #continue\n",
    "    response = local_api.new(ps)\n",
    "    print('{prodsak_id} {mappe} {arbeidstittel} {response.status_code}'.format(\n",
    "        **ps, response=response))\n",
    "    if response.status_code == 201:\n",
    "        data = response.json()\n",
    "        story = Story.objects.get(pk=data['prodsak_id'])\n",
    "        update_timestamps(story, created, modified)\n",
    "        print(modified - created)\n",
    "        print(story, story.created-created, story.modified-modified)\n",
    "    elif response.status_code == 400:\n",
    "        ...\n",
    "    else:\n",
    "        print(response.status_code)\n",
    "        print(json.dumps(ps, ensure_ascii=False, indent=2))\n",
    "        error = response.text.split('Traceback (most recent call last):')[-1].strip()\n",
    "        print(error.splitlines()[-1])\n",
    "        print(error)\n",
    "        qs = Story.objects.filter(publication_status__lt=Story.STATUS_FROM_DESK)\n",
    "        qs.delete()\n",
    "        break"
   ]
  },
  {
   "cell_type": "code",
   "execution_count": null,
   "metadata": {
    "scrolled": false
   },
   "outputs": [],
   "source": [
    "\n",
    "Story._meta.get_field('modified').pre_save = pre_save\n",
    "\n",
    "for story in Story.objects.filter(publication_status__lt=Story.STATUS_PUBLISHED):\n",
    "    data = old_api.get(story.pk)\n",
    "    created = parser(data.get('dato'))\n",
    "    modified = parser(data.get('version_date'))\n",
    "    story.created = created\n",
    "    story.modified = modified\n",
    "    story.publication_status = flags[data.get('flagg')]\n",
    "    story.save(update_fields=['created', 'modified'] )\n",
    "    print(story)\n",
    "    print(created, modified, story.modified, sep='\\n')"
   ]
  },
  {
   "cell_type": "code",
   "execution_count": null,
   "metadata": {
    "collapsed": true
   },
   "outputs": [],
   "source": [
    "import pytz\n",
    "pytz.country_timezones('no')"
   ]
  },
  {
   "cell_type": "code",
   "execution_count": null,
   "metadata": {},
   "outputs": [],
   "source": [
    "def get_story_type(prodsys_mappe):\n",
    "    \"\"\" Find correct story type for the story based on legacy label. \"\"\"\n",
    "    try:\n",
    "        story_type = StoryType.objects.filter(prodsys_mappe=prodsys_mappe)[0]\n",
    "    except IndexError:\n",
    "        generic_section, exists = Section.objects.get_or_create(\n",
    "            title='New Section')\n",
    "        story_type = StoryType.objects.create(\n",
    "            prodsys_mappe=prodsys_mappe,\n",
    "            name=\"New Story Type ({label})\".format(label=prodsys_mappe),\n",
    "            section=generic_section,\n",
    "        )\n",
    "    # finally:\n",
    "    return story_type"
   ]
  },
  {
   "cell_type": "code",
   "execution_count": null,
   "metadata": {
    "collapsed": true
   },
   "outputs": [],
   "source": []
  },
  {
   "cell_type": "code",
   "execution_count": null,
   "metadata": {
    "collapsed": true
   },
   "outputs": [],
   "source": [
    "Story.objects.filter(publication_status__lte=1).delete()"
   ]
  },
  {
   "cell_type": "code",
   "execution_count": null,
   "metadata": {
    "collapsed": true,
    "scrolled": false
   },
   "outputs": [],
   "source": [
    "response = api.post(id=23215, data={'arbeidstittel': 'awesome', 'produsert': 0})\n",
    "print(response.request.headers, response.request.body, sep='\\n')\n",
    "print(response.url, response.status_code, response.text)\n",
    "testsak = api.get(23215)\n",
    "print(testsak['arbeidstittel'], testsak['version_no'], testsak['produsert'])"
   ]
  },
  {
   "cell_type": "code",
   "execution_count": null,
   "metadata": {
    "collapsed": true
   },
   "outputs": [],
   "source": [
    "from django.contrib.auth.models import Permission\n",
    "pp = Permission.objects.filter(codename__contains='_story')\n",
    "for p in pp: print(p.codename)jjj"
   ]
  },
  {
   "cell_type": "code",
   "execution_count": null,
   "metadata": {
    "collapsed": true
   },
   "outputs": [],
   "source": [
    "from django.contrib.auth import authenticate\n",
    "create_user = get_user_model().objects.create\n",
    "get_user_model().objects.filter(username='api').delete()\n",
    "api_user = get_user_model().objects.create_user(\n",
    "    username='api',\n",
    "    password='api',\n",
    "    email='api@api.com',\n",
    ")\n",
    "print(api_user)\n",
    "login = authenticate(username='api', password='api')\n",
    "print(login)"
   ]
  },
  {
   "cell_type": "code",
   "execution_count": null,
   "metadata": {
    "collapsed": true
   },
   "outputs": [],
   "source": [
    "from django.contrib.auth import get_user_model\n",
    "\n",
    "def api_user():\n",
    "    User = get_user_model()\n",
    "    try:\n",
    "        user = User.objects.get(username='api')\n",
    "    except User.DoesNotExist:\n",
    "        user = User.objects.create_user(\n",
    "            username='api',\n",
    "            password='api',\n",
    "            email='api@example.com',\n",
    "        )\n",
    "    permissions = list(Permission.objects.filter(codename__contains='_story'))\n",
    "    user.user_permissions.add(*permissions)\n",
    "    for p in permissions:\n",
    "        print(p.codename)\n",
    "    return user\n",
    "\n",
    "api_user()"
   ]
  },
  {
   "cell_type": "code",
   "execution_count": null,
   "metadata": {
    "collapsed": true,
    "scrolled": false
   },
   "outputs": [],
   "source": [
    "saker = api.list()\n",
    "til_web = list(filter(lambda sak: sak['produsert'] == '6', saker))\n",
    "pprint(til_web[7])\n"
   ]
  },
  {
   "cell_type": "code",
   "execution_count": null,
   "metadata": {
    "collapsed": true,
    "scrolled": false
   },
   "outputs": [],
   "source": [
    "pprint(api.get(23194))"
   ]
  },
  {
   "cell_type": "code",
   "execution_count": null,
   "metadata": {
    "collapsed": true
   },
   "outputs": [],
   "source": [
    "def deserialize_story(story):\n",
    "    output = [] \n",
    "    head_tags = [('tit', 'title'),('ing', 'lede'),('tema', 'theme_word'),('stikktit', 'kicker')]\n",
    "    for tag, attr in head_tags:\n",
    "        text = getattr(story, attr)\n",
    "        if text:\n",
    "            output.append(f'@{tag}:{text}')\n",
    "    for bl in story.byline_set.select_related('contributor'):\n",
    "        output.append(str(bl))\n",
    "    output.append(story.bodytext_markup) \n",
    "    for aside in story.asides():\n",
    "        output.append(aside.child.bodytext_markup)\n",
    "    for pullquote in story.pullquotes():\n",
    "        output.append(pullquote.child.bodytext_markup)\n",
    "    return '\\n'.join(output)\n",
    "    \n",
    "story = Story.objects.order_by('?').last()\n",
    "txt1 = deserialize_story(story)\n",
    "prodstory = api.get(story.prodsak_id)\n",
    "txt2 = prodstory.get('tekst')\n",
    "print(story.prodsak_id)\n",
    "print(txt1)\n",
    "print(txt2)"
   ]
  },
  {
   "cell_type": "code",
   "execution_count": null,
   "metadata": {
    "collapsed": true
   },
   "outputs": [],
   "source": [
    "story = Story.objects.get(id=61090)\n",
    "story.images()"
   ]
  },
  {
   "cell_type": "code",
   "execution_count": null,
   "metadata": {
    "collapsed": true
   },
   "outputs": [],
   "source": [
    "imgstories = Story.objects.filter(pk__in=StoryImage.objects.all().values_list('parent_story', flat=True).distinct())\n",
    "imgstories[0].pk\n"
   ]
  },
  {
   "cell_type": "code",
   "execution_count": null,
   "metadata": {
    "collapsed": true
   },
   "outputs": [],
   "source": []
  },
  {
   "cell_type": "code",
   "execution_count": null,
   "metadata": {
    "collapsed": true
   },
   "outputs": [],
   "source": []
  }
 ],
 "metadata": {
  "kernelspec": {
   "display_name": "Django Shell-Plus",
   "language": "python",
   "name": "django_extensions"
  },
  "language_info": {
   "codemirror_mode": {
    "name": "ipython",
    "version": 3
   },
   "file_extension": ".py",
   "mimetype": "text/x-python",
   "name": "python",
   "nbconvert_exporter": "python",
   "pygments_lexer": "ipython3",
   "version": "3.6.2"
  }
 },
 "nbformat": 4,
 "nbformat_minor": 2
}
