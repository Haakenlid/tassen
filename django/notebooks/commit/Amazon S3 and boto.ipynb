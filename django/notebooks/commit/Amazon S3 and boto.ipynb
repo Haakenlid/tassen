{
 "cells": [
  {
   "cell_type": "code",
   "execution_count": null,
   "metadata": {
    "collapsed": true
   },
   "outputs": [],
   "source": [
    "import os\n",
    "import boto\n",
    "import hashlib\n",
    "from boto.s3.connection import S3Connection\n",
    "    \n",
    "aws_key_id = settings.AWS_ACCESS_KEY_ID\n",
    "aws_secret_key = settings.AWS_SECRET_ACCESS_KEY\n",
    "aws_host = settings.AWS_S3_HOST\n",
    "\n",
    "conn = S3Connection(\n",
    "    aws_access_key_id=settings.AWS_ACCESS_KEY_ID,\n",
    "    aws_secret_access_key=settings.AWS_SECRET_ACCESS_KEY,\n",
    "    is_secure=settings.\n",
    "    port=None, \n",
    "    proxy=None, \n",
    "    proxy_port=None, \n",
    "    proxy_user=None, \n",
    "    proxy_pass=None, \n",
    "    host=settings.AWS_S3_HOST,\n",
    "    debug=0, \n",
    "    https_connection_factory=None, \n",
    "    calling_format='boto.s3.connection.SubdomainCallingFormat', \n",
    "    path='/', \n",
    "    provider='aws', \n",
    "    #bucket_class=<class 'boto.s3.bucket.Bucket'>, \n",
    "    security_token=None, \n",
    "    suppress_consec_slashes=True, \n",
    "    anon=False, \n",
    "    validate_certs=None, \n",
    "    profile_name=None\n",
    "    )\n",
    "static = conn.get_bucket(settings.AWS_STORAGE_BUCKET_NAME)"
   ]
  },
  {
   "cell_type": "code",
   "execution_count": null,
   "metadata": {},
   "outputs": [],
   "source": [
    "def localfile_md5(fname, algorithm=hashlib.md5, blocksize=65536):\n",
    "    \"\"\"Hexadecimal hash of a file\"\"\"\n",
    "    hasher = algorithm()\n",
    "    with open(fname, 'rb') as source:\n",
    "        buffer = source.read(blocksize)\n",
    "        while len(buffer) > 0:\n",
    "            hasher.update(buffer)\n",
    "            buffer = source.read(blocksize)\n",
    "    return hasher.hexdigest()\n",
    "\n",
    "def awsfile_hash(fname, bucket=None):\n",
    "    "
   ]
  }
 ],
 "metadata": {
  "kernelspec": {
   "display_name": "Django Shell-Plus",
   "language": "python",
   "name": "django_extensions"
  },
  "language_info": {
   "codemirror_mode": {
    "name": "ipython",
    "version": 3
   },
   "file_extension": ".py",
   "mimetype": "text/x-python",
   "name": "python",
   "nbconvert_exporter": "python",
   "pygments_lexer": "ipython3",
   "version": "3.6.7"
  }
 },
 "nbformat": 4,
 "nbformat_minor": 2
}
