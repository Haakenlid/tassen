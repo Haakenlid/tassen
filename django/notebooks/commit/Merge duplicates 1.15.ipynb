{
 "cells": [
  {
   "cell_type": "code",
   "execution_count": null,
   "metadata": {},
   "outputs": [],
   "source": [
    "import logging\n",
    "from django.db import models\n",
    "from utils.merge_model_objects import merge_instances\n",
    "from fuzzywuzzy import fuzz\n",
    "from tqdm import tqdm\n",
    "from collections import Counter"
   ]
  },
  {
   "cell_type": "code",
   "execution_count": 1,
   "metadata": {},
   "outputs": [
    {
     "name": "stderr",
     "output_type": "stream",
     "text": [
      "INFO: logging works\n"
     ]
    }
   ],
   "source": [
    "for handler in logging.root.handlers[:]:\n",
    "    logging.root.removeHandler(handler)\n",
    "\n",
    "logging.basicConfig(level=logging.INFO, format='%(levelname)s: %(message)s')\n",
    "logger = logging.getLogger('jupyter')\n",
    "logger.info('logging works')"
   ]
  },
  {
   "cell_type": "code",
   "execution_count": 2,
   "metadata": {},
   "outputs": [
    {
     "name": "stdout",
     "output_type": "stream",
     "text": [
      "Help on function merge_instances in module utils.merge_model_objects:\n",
      "\n",
      "merge_instances(primary_object, *alias_objects, disable_signals=True)\n",
      "    Merge several model instances into one, the `primary_object`.\n",
      "    Use this function to merge model objects and migrate all of the related\n",
      "    fields from the alias objects the primary object.\n",
      "    Usage:\n",
      "        from django.contrib.auth.models import User\n",
      "        primary_user = User.objects.get(email='good@example.com')\n",
      "        duplicate_user = User.objects.get(email='good+duplicate@example.com')\n",
      "        merge(primary_user, duplicate_user)\n",
      "    Based on: https://djangosnippets.org/snippets/382/\n",
      "    Based on https://djangosnippets.org/snippets/2283/\n",
      "\n"
     ]
    }
   ],
   "source": [
    "help(merge_instances)"
   ]
  },
  {
   "cell_type": "markdown",
   "metadata": {},
   "source": [
    "# Run merge operations"
   ]
  },
  {
   "cell_type": "code",
   "execution_count": 3,
   "metadata": {},
   "outputs": [],
   "source": [
    "\n",
    "def sort_images(images):\n",
    "    def key_func(im):\n",
    "        return -im.usage, -len(im.exif_data), im.created\n",
    "    return sorted(\n",
    "        images.annotate(usage=models.Count('storyimage')),\n",
    "        key=key_func,\n",
    "    )\n",
    "\n",
    "def merge_duplicates(qs, attrs=('id',), sort_func=None):\n",
    "    proc = tqdm(qs)\n",
    "    for item in proc: \n",
    "        proc.set_description_str(f'{str(item)[:30]:<30} ')\n",
    "        kwargs = {attr: getattr(item, attr) for attr in attrs} \n",
    "        clones = qs.filter(**kwargs)\n",
    "        if len(clones) > 1:\n",
    "            proc.set_postfix(item=str(item.pk), clones=len(clones)-1)\n",
    "            if sort_func:\n",
    "                clones = sort_func(clones)\n",
    "            merge_instances(*clones)\n",
    "            \n",
    "    logger.info(f'{qs.model.__qualname__} count: {qs.count()} -> {qs.all().count()}')\n",
    "    \n",
    "def merge_images_by_field(field='imagehash', qs = ImageFile.objects.all()):\n",
    "    proc = tqdm(qs)\n",
    "    for item in proc: \n",
    "        proc.set_description_str(f'{str(item)[:30]:<30} ')\n",
    "        clones = item.similar(field) | qs.filter(pk=item.pk) \n",
    "        if len(clones) > 1:\n",
    "            proc.set_postfix(item=str(item.pk), clones=len(clones)-1)\n",
    "            merge_instances(*sort_images(clones))\n",
    "            \n",
    "    logger.info(f'{qs.model.__qualname__} count: {qs.count()} -> {qs.all().count()}')\n",
    "            \n",
    "def merge_bylines():\n",
    "    attrs = ['story', 'contributor', 'credit']\n",
    "    qs = Byline.objects.all()\n",
    "    merge_duplicates(qs, attrs)\n",
    "    \n",
    "def merge_images_by_md5():\n",
    "    attrs = ['_md5']\n",
    "    qs = ImageFile.objects.all()\n",
    "    merge_duplicates(qs, attrs, sort_func=sort_images)\n",
    "    \n",
    "    \n",
    "def _clone(*items):\n",
    "    for item in items: \n",
    "        item.pk = None\n",
    "        item.save()\n",
    "\n",
    "def test_merge():\n",
    "    _clone(*Byline.objects.order_by('?')[:3])\n",
    "    merge_bylines()\n",
    "    \n",
    "    _clone(*ImageFile.objects.order_by('?')[:3])\n",
    "    merge_images_by_field('md5')\n",
    "    \n",
    "    _clone(*ImageFile.objects.order_by('?')[:3])\n",
    "    merge_images_by_field('imagehash')\n",
    "\n",
    "\n",
    "\n",
    "def dupes(qs, attr):\n",
    "    vals = qs.values_list(attr, flat=True)\n",
    "    dupes = [h for h, n in Counter(vals).most_common() if n > 1]\n",
    "    return qs.filter(**{f'{attr}__in': dupes})\n"
   ]
  },
  {
   "cell_type": "code",
   "execution_count": 7,
   "metadata": {},
   "outputs": [
    {
     "name": "stderr",
     "output_type": "stream",
     "text": [
      "27-karttyveri-01-TCST.jpg      : 100%|██████████| 2/2 [00:00<00:00, 11.54it/s]\n",
      "INFO: ImageFile count: 2 -> 2\n"
     ]
    }
   ],
   "source": [
    "merge_images_by_field('imagehash', dupes(ImageFile.objects.all(), '_imagehash'))"
   ]
  },
  {
   "cell_type": "code",
   "execution_count": null,
   "metadata": {},
   "outputs": [],
   "source": [
    "def fuzz_diff(a, attr):\n",
    "    def fn(b):\n",
    "        return fuzz.ratio(getattr(a, attr), getattr(b, attr))\n",
    "    return fn\n",
    "        \n",
    "\n",
    "def merge_contributors(cutoff=90):\n",
    "    qs = Contributor.objects.order_by('-pk')\n",
    "    for n, item in enumerate(qs):\n",
    "        clones = qs.filter(display_name__trigram_similar=item.display_name)\n",
    "        if len(clones) > 1:\n",
    "            ratio = fuzz_diff(item, 'display_name')\n",
    "            clones = [c for c in clones if ratio(c) > cutoff]\n",
    "            clones.sort(key=keyfn, reverse=True)\n",
    "        if len(clones) > 1:\n",
    "            msg = f'{n}: merge ' + ' + '.join(f'{c}({ratio(c)} {c.bylines_count()})' for c in clones)\n",
    "            logger.info(msg)\n",
    "            #merge_instances(*clones)\n",
    "            \n",
    "    logger.info(f'{qs.model.__qualname__} count: {qs.count()} -> {qs.all().count()}')\n",
    "\n",
    "def keyfn(cn):\n",
    "    return (cn.bylines_count(), bool(cn.email))\n",
    "\n",
    "merge_contributors()"
   ]
  },
  {
   "cell_type": "code",
   "execution_count": 19,
   "metadata": {},
   "outputs": [
    {
     "data": {
      "text/plain": [
       "108"
      ]
     },
     "execution_count": 19,
     "metadata": {},
     "output_type": "execute_result"
    }
   ],
   "source": [
    "cn = Contributor.objects.first()\n",
    "cn.bylines_count()\n"
   ]
  },
  {
   "cell_type": "code",
   "execution_count": null,
   "metadata": {},
   "outputs": [],
   "source": []
  }
 ],
 "metadata": {
  "kernelspec": {
   "display_name": "Django Shell-Plus",
   "language": "python",
   "name": "django_extensions"
  },
  "language_info": {
   "codemirror_mode": {
    "name": "ipython",
    "version": 3
   },
   "file_extension": ".py",
   "mimetype": "text/x-python",
   "name": "python",
   "nbconvert_exporter": "python",
   "pygments_lexer": "ipython3",
   "version": "3.6.2"
  }
 },
 "nbformat": 4,
 "nbformat_minor": 1
}
