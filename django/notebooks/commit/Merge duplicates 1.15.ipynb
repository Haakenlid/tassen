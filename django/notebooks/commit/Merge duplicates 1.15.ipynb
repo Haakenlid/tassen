{
 "cells": [
  {
   "cell_type": "code",
   "execution_count": 15,
   "metadata": {},
   "outputs": [],
   "source": [
    "import logging\n",
    "from django.db import models\n",
    "from utils.merge_model_objects import merge_instances\n",
    "from fuzzywuzzy import fuzz\n",
    "from tqdm import tqdm\n",
    "from collections import Counter"
   ]
  },
  {
   "cell_type": "code",
   "execution_count": 16,
   "metadata": {},
   "outputs": [
    {
     "name": "stderr",
     "output_type": "stream",
     "text": [
      "INFO: logging works\n"
     ]
    }
   ],
   "source": [
    "for handler in logging.root.handlers[:]:\n",
    "    logging.root.removeHandler(handler)\n",
    "\n",
    "logging.basicConfig(level=logging.INFO, format='%(levelname)s: %(message)s')\n",
    "logger = logging.getLogger('jupyter')\n",
    "logger.info('logging works')"
   ]
  },
  {
   "cell_type": "code",
   "execution_count": 17,
   "metadata": {},
   "outputs": [
    {
     "name": "stdout",
     "output_type": "stream",
     "text": [
      "Help on function merge_instances in module utils.merge_model_objects:\n",
      "\n",
      "merge_instances(primary_object, *alias_objects, disable_signals=True)\n",
      "    Merge several model instances into one, the `primary_object`.\n",
      "    Use this function to merge model objects and migrate all of the related\n",
      "    fields from the alias objects the primary object.\n",
      "    Usage:\n",
      "        from django.contrib.auth.models import User\n",
      "        primary_user = User.objects.get(email='good@example.com')\n",
      "        duplicate_user = User.objects.get(email='good+duplicate@example.com')\n",
      "        merge(primary_user, duplicate_user)\n",
      "    Based on: https://djangosnippets.org/snippets/382/\n",
      "    Based on https://djangosnippets.org/snippets/2283/\n",
      "\n"
     ]
    }
   ],
   "source": [
    "help(merge_instances)"
   ]
  },
  {
   "cell_type": "markdown",
   "metadata": {},
   "source": [
    "# Run merge operations"
   ]
  },
  {
   "cell_type": "code",
   "execution_count": 18,
   "metadata": {},
   "outputs": [],
   "source": [
    "\n",
    "def sort_images(images):\n",
    "    def key_func(im):\n",
    "        return -im.usage, -len(im.exif_data), im.created\n",
    "    return sorted(\n",
    "        images.annotate(usage=models.Count('storyimage')),\n",
    "        key=key_func,\n",
    "    )\n",
    "\n",
    "def merge_duplicates(qs, attrs=('id',), sort_func=None):\n",
    "    proc = tqdm(qs)\n",
    "    for item in proc: \n",
    "        proc.set_description_str(f'{str(item)[:30]:<30} ')\n",
    "        kwargs = {attr: getattr(item, attr) for attr in attrs} \n",
    "        clones = qs.filter(**kwargs)\n",
    "        if len(clones) > 1:\n",
    "            proc.set_postfix(item=str(item.pk), clones=len(clones)-1)\n",
    "            if sort_func:\n",
    "                clones = sort_func(clones)\n",
    "            merge_instances(*clones)\n",
    "            \n",
    "    logger.info(f'{qs.model.__qualname__} count: {qs.count()} -> {qs.all().count()}')\n",
    "    \n",
    "def merge_images_by_field(field='imagehash', qs = ImageFile.objects.all()):\n",
    "    proc = tqdm(qs)\n",
    "    for item in proc: \n",
    "        proc.set_description_str(f'{str(item)[:30]:<30} ')\n",
    "        clones = item.similar(field) | qs.filter(pk=item.pk) \n",
    "        if len(clones) > 1:\n",
    "            proc.set_postfix(item=str(item.pk), clones=len(clones)-1)\n",
    "            merge_instances(*sort_images(clones))\n",
    "            \n",
    "    logger.info(f'{qs.model.__qualname__} count: {qs.count()} -> {qs.all().count()}')\n",
    "            \n",
    "def merge_bylines():\n",
    "    attrs = ['story', 'contributor', 'credit']\n",
    "    qs = Byline.objects.all()\n",
    "    merge_duplicates(qs, attrs)\n",
    "    \n",
    "def merge_images_by_md5():\n",
    "    attrs = ['_md5']\n",
    "    qs = ImageFile.objects.all()\n",
    "    merge_duplicates(qs, attrs, sort_func=sort_images)\n",
    "    \n",
    "    \n",
    "def _clone(*items):\n",
    "    for item in items: \n",
    "        item.pk = None\n",
    "        item.save()\n",
    "\n",
    "def test_merge():\n",
    "    _clone(*Byline.objects.order_by('?')[:3])\n",
    "    merge_bylines()\n",
    "    \n",
    "    _clone(*ImageFile.objects.order_by('?')[:3])\n",
    "    merge_images_by_field('md5')\n",
    "    \n",
    "    _clone(*ImageFile.objects.order_by('?')[:3])\n",
    "    merge_images_by_field('imagehash')\n",
    "\n",
    "\n",
    "\n",
    "def dupes(qs, attr):\n",
    "    vals = qs.values_list(attr, flat=True)\n",
    "    dupes = [h for h, n in Counter(vals).most_common() if n > 1]\n",
    "    return qs.filter(**{f'{attr}__in': dupes})\n"
   ]
  },
  {
   "cell_type": "code",
   "execution_count": 19,
   "metadata": {},
   "outputs": [
    {
     "name": "stderr",
     "output_type": "stream",
     "text": [
      "28-NYH-royking-OA-01.jpg       : 100%|██████████| 336/336 [01:50<00:00,  3.04it/s, clones=1, item=46192]\n",
      "INFO: ImageFile count: 336 -> 156\n"
     ]
    }
   ],
   "source": [
    "merge_images_by_field('imagehash', dupes(ImageFile.objects.all(), '_imagehash'))"
   ]
  },
  {
   "cell_type": "code",
   "execution_count": 20,
   "metadata": {},
   "outputs": [
    {
     "name": "stderr",
     "output_type": "stream",
     "text": [
      "INFO: 0    : merge Lena Nielsen(100 48) + Lena Nilsen(96 3)\n",
      "INFO: 64   : merge Stig Siversten(93 2) + Stig Sivertsen(100 1)\n",
      "INFO: 65   : merge Kevin Sivertsen(100 2) + Kevin Sivertsen(100 1)\n",
      "INFO: 72   : merge Arnved Nedkvitne(100 8) + Arnved Nedkvitne(100 1)\n",
      "INFO: 79   : merge Pia Ottilia Danielsen(100 3) + Pia Ottilia Danielsen(100 1)\n",
      "INFO: 101  : merge Mari Mamre(100 8) + Mari Mamre(100 1)\n",
      "INFO: 316  : merge Ingrid Os(100 1) + Ingrid Os(100 1)\n",
      "INFO: 322  : merge Angélique Culvin(100 39) + Angélique Culvin(100 4)\n",
      "INFO: 909  : merge Skjalg Bøhmer Vold(97 260) + Sjalg Bøhmer Vold(100 1)\n",
      "INFO: 1676 : merge Ellen Munden Paalgard(98 26) + Ellen Munden Paalgaard(100 4)\n",
      "INFO: 1764 : merge Jamal Mohsin(100 2) + Jamal Mohsin(100 1)\n",
      "INFO: 1886 : merge Michael Brøndbo(100 209) + Michael Brøndbo(100 4)\n",
      "INFO: Contributor count: 2598 -> 2586\n"
     ]
    }
   ],
   "source": [
    "def fuzz_diff(a, attr):\n",
    "    def fn(b):\n",
    "        return fuzz.ratio(getattr(a, attr), getattr(b, attr))\n",
    "    return fn\n",
    "        \n",
    "\n",
    "def merge_contributors(cutoff=90):\n",
    "    \"\"\"find and merge contributors.\"\"\"\n",
    "    qs = Contributor.objects.order_by('-pk')\n",
    "    for n, item in enumerate(qs):\n",
    "        clones = qs.filter(display_name__trigram_similar=item.display_name)\n",
    "        if len(clones) > 1:\n",
    "            ratio = fuzz_diff(item, 'display_name')\n",
    "            clones = [c for c in clones if ratio(c) > cutoff]\n",
    "            clones.sort(key=keyfn, reverse=True)\n",
    "        if len(clones) > 1:\n",
    "            msg = f'{str(n):<5}: merge ' + ' + '.join(f'{c}({ratio(c)} {c.bylines_count()})' for c in clones)\n",
    "            logger.info(msg)\n",
    "            merge_instances(*clones)\n",
    "            \n",
    "    logger.info(f'{qs.model.__qualname__} count: {qs.count()} -> {qs.all().count()}')\n",
    "\n",
    "def keyfn(cn):\n",
    "    return (cn.bylines_count(), bool(cn.email))\n",
    "\n",
    "merge_contributors()"
   ]
  },
  {
   "cell_type": "code",
   "execution_count": 21,
   "metadata": {},
   "outputs": [
    {
     "data": {
      "text/plain": [
       "108"
      ]
     },
     "execution_count": 21,
     "metadata": {},
     "output_type": "execute_result"
    }
   ],
   "source": [
    "cn = Contributor.objects.first()\n",
    "cn.bylines_count()\n"
   ]
  },
  {
   "cell_type": "code",
   "execution_count": 22,
   "metadata": {
    "scrolled": false
   },
   "outputs": [
    {
     "name": "stdout",
     "output_type": "stream",
     "text": [
      "14589 Raisa Porsanger                           ->   14590 Raisa Porsanger Og Privat\n",
      "12309 Bjørn-Egil Mikalsen                       ->   12351 Bjørn–Egil Mikalsen Ill: Mads Sivertsen\n",
      "14620 Malin Kvande                              ->   14594 Journalist Malin Kvande\n",
      "12304 Mari Lund Haanshus                        ->   13465 Illustrasjon: Mari Lund Haanshus\n",
      "14554 Regine Stokstad                           ->   14955 Regine Stokstad Studenter trenger\n",
      "14610 Angélique Culvin                          ->   14697 Sylvia-Angélique Culvin\n",
      "12389 Gunnar Thorenfeldt                        ->   12458 Gunnar Thorenfeldt Og Andreas\n",
      "12393 Håkon Mosvold                             ->   12407 Håkon Mosvold Larsen\n",
      "12592 Klaus Høiland                             ->   12497 Klaus Høiland Professor I Biologi\n",
      "12597 Toril Roberg                              ->   12509 Toril Roberg. Politisk Viseformann\n",
      "12581 Annette Birkeland                         ->   12547 Annette Birkeland. Leder Moderatgruppe\n",
      "12574 Annette Orre                              ->   12568 Åsmund Øvstehus & Annette Orre\n",
      "12477 Ellinor Bent Dalbye                       ->   12586 Foto: Ellinor Bent Dalbye\n",
      "12695 Kjartan Almenning                         ->   13126 Kjartan Almenning Landsstyremedlem I Nsu\n",
      "12653 Peter Vollset                             ->   12760 Anne Viken Ï Peter Vollset\n",
      "12742 Tony Burner                               ->   13139 Tony Burner Lektor Og Historiestudent\n",
      "12858 Bjørn Haugstad                            ->   12550 Statssekretær Bjørn Haugstad\n",
      "12843 Frøydis Hertzberg                         ->   12875 Frøydis Hertzberg: Gunn Lyngvær\n",
      "12873 Inga Bostad                               ->   13516 Viserektor Inga Bostad\n",
      "12842 Lars Walløe                               ->   12874 Studentaksjonen For Lars Walløe\n",
      "13171 Bjarne Hodne                              ->   13111 Professor Bjarne Hodne\n",
      "12809 Gunhild Oland                             ->   12701 Gunhild Oland Nedrelid\n",
      "12962 Kai A. Olsen                              ->   12954 Professor Kai A. Olsen\n",
      "12950 Moderat Gruppe                            ->   12485 Glenn Holsten Hansen Moderat Gruppe\n",
      "13175 Torstein Lindstad                         ->   12546 Torstein Lindstad. Leder Av Studentparlamentet\n",
      "13052 Lene C. Westgaard                         ->   13097 Lene C. Westgaard Studentparlamentets Arbeidsutval\n",
      "13158 Styremedlem                               ->   13126 Kjartan Almenning Landsstyremedlem I Nsu\n",
      "13271 Jonas Holmqvist                           ->   13101 Jonas Holmqvist Leder Saih\n",
      "13550 Ole Petter Ottersen                       ->   13561 Rektorteamet Ole Petter Ottersen\n",
      "13527 Bjørn Erik Rasch                          ->   13729 Professor Bjørn Erik Rasch\n",
      "13584 Ingvild Skogvold                          ->   13556 Ingvild Skogvold I Velferdstingets Arbeidsutvalg\n",
      "13533 Trygve Wyller                             ->   13562 Rektorlaget Trygve Wyller\n",
      "13623 Nordis Tennes                             ->   13744 Nordis Tennes Dokubok\n",
      "13876 Anette Remme                              ->   13643 Anette Remme I Saihs Informasjonskomité\n",
      "13979 Helle Gannestad                           ->   14037 Solveig N. Langvad Helle Gannestad\n",
      "14377 Redaksjonen                               ->   14916 Maktkåringsredaksjonen,13955 Kulturredaksjonen I Universitas\n",
      "14009 Simen Prestaasen                          ->   13986 Simen Prestaasen Skjalg Bøhmer Vold\n",
      "14278 Cecilia Johansen                          ->   14293 Cecilia Johansen Eriksen\n",
      "14307 Geir Wiknes                               ->   14308 Stud.Theol Geir Wiknes\n",
      "14422 Cecilie Kappelslåen                       ->   14945 Styreleder Cecilie Kappelslåen\n",
      "14447 Pia Sandved Berg                          ->   14518 pia sandved berg\n",
      "14786 SAIH Blindern                             ->   13531 Saih Blindern V\n",
      "13030 Kamilla Simonnes                          ->   13577 Kamilla Simonnes Therese Bongard\n",
      "13991 Sébastian Dahl                            ->   14004 Øyvind Gallefoss Sébastian Dahl\n",
      "12723 Christina Bock                            ->   12786 Christina Bock Bjørn–Hansen\n",
      "14853 Julie Brundtland                          ->   14656 Julie Brundtland Løvseth\n",
      "13579 Therese Bongard                           ->   13577 Kamilla Simonnes Therese Bongard\n",
      "12800 Egil Ellenes                              ->   12782 # Translated By Egil Ellenes\n",
      "13395 Heidi Thaulow Harto                       ->   13494 Heidi Thaulow Harto Stephane Lelarge\n",
      "14649 Dorthe Karlsen                            ->   14675 Dorthe Karlsen Og Matthis Kleeb\n",
      "14518 pia sandved berg                          ->   14447 Pia Sandved Berg\n",
      "13728 Igor R. Nilsen                            ->   13753 Eir Torvik Igor R. Nilsen\n",
      "13889 Øyvind Gallefoss                          ->   14004 Øyvind Gallefoss Sébastian Dahl\n",
      "13890 Solveig N. Langvad                        ->   14037 Solveig N. Langvad Helle Gannestad\n",
      "13880 Skjalg Bøhmer Vold                        ->   14002 Karina Hafnor Skjalg Bøhmer Vold,13986 Simen Prestaasen Skjalg Bøhmer Vold,13824 Tia Karlsen Skjalg Bøhmer Vold\n",
      "13294 Stéphane Lelarge                          ->   13494 Heidi Thaulow Harto Stephane Lelarge\n",
      "15035 Lena Nielsen                              ->   12768 Helena Nielsen\n"
     ]
    }
   ],
   "source": [
    "for cn in Contributor.objects.all():\n",
    "    if not (10 < len(cn.display_name) < 20):\n",
    "        continue\n",
    "    matches = Contributor.objects.search(str(cn)).exclude(pk=cn.pk)\n",
    "    if 0 < len(matches) < 5:\n",
    "        print(f'{str(cn.pk):<5} {str(cn):<40}  ->  ', ','.join(f'{str(m.pk):<5} {m}' for m in matches))\n",
    "    "
   ]
  },
  {
   "cell_type": "code",
   "execution_count": 24,
   "metadata": {},
   "outputs": [
    {
     "name": "stdout",
     "output_type": "stream",
     "text": [
      "Anette Remme\n",
      "Angélique Culvin\n",
      "Annette Birkeland\n",
      "Annette Orre\n",
      "Bjarne Hodne\n",
      "Bjørn Erik Rasch\n",
      "Bjørn Haugstad\n",
      "Cecilia Johansen\n",
      "Cecilie Kappelslåen\n",
      "Egil Ellenes\n",
      "Ellinor Bent Dalbye\n",
      "Geir Wiknes\n",
      "Gunhild Oland\n",
      "Håkon Mosvold\n",
      "Inga Bostad\n",
      "Ingvild Skogvold\n",
      "Jonas Holmqvist\n",
      "Julie Brundtland\n",
      "Kai A. Olsen\n",
      "Kjartan Almenning\n",
      "Klaus Høiland\n",
      "Lene C. Westgaard\n",
      "Malin Kvande\n",
      "Mari Lund Haanshus\n",
      "Nordis Tennes\n",
      "Pia Sandved Berg\n",
      "Raisa Porsanger\n",
      "Regine Stokstad\n",
      "Tony Burner\n",
      "Toril Roberg\n",
      "Torstein Lindstad\n",
      "Trygve Wyller\n"
     ]
    }
   ],
   "source": [
    "names = [\n",
    "    \"Anette Remme\",\n",
    "    \"Angélique Culvin\",\n",
    "    \"Annette Birkeland\",\n",
    "    \"Annette Orre\",\n",
    "    \"Arnved Nedkvitne\",\n",
    "    \"Bjarne Hodne\",\n",
    "    \"Bjørn Erik Rasch\",\n",
    "    \"Bjørn Haugstad\",\n",
    "    \"Cecilia Johansen\",\n",
    "    \"Cecilie Kappelslåen\",\n",
    "    \"Egil Ellenes\",\n",
    "    \"Ellinor Bent Dalbye\",\n",
    "    \"Geir Wiknes\",\n",
    "    \"Gunhild Oland\",\n",
    "    \"Håkon Mosvold\",\n",
    "    \"Inga Bostad\",\n",
    "    \"Ingvild Skogvold\",\n",
    "    \"Jamal Mohsin\",\n",
    "    \"Jonas Holmqvist\",\n",
    "    \"Julie Brundtland\",\n",
    "    \"Kai A. Olsen\",\n",
    "    \"Kevin Sivertsen\",\n",
    "    \"Kjartan Almenning\",\n",
    "    \"Klaus Høiland\",\n",
    "    \"Lene C. Westgaard\",\n",
    "    \"Malin Kvande\",\n",
    "    \"Mari Lund Haanshus\",\n",
    "    \"Michael Brøndbo\",\n",
    "    \"Nordis Tennes\",\n",
    "    \"Pia Sandved Berg\",\n",
    "    \"Raisa Porsanger\",\n",
    "    \"Regine Stokstad\",\n",
    "    \"Tony Burner\",\n",
    "    \"Toril Roberg\",\n",
    "    \"Torstein Lindstad\",\n",
    "    \"Trygve Wyller\",\n",
    "]\n",
    "for name in names:\n",
    "    master = Contributor.objects.filter(display_name=name)[0]\n",
    "    matches = Contributor.objects.search(name).exclude(pk=master.pk)\n",
    "    if matches.count():\n",
    "        merge_instances(master, *list(matches))\n",
    "        print(master)"
   ]
  },
  {
   "cell_type": "code",
   "execution_count": null,
   "metadata": {},
   "outputs": [],
   "source": []
  }
 ],
 "metadata": {
  "kernelspec": {
   "display_name": "Django Shell-Plus",
   "language": "python",
   "name": "django_extensions"
  },
  "language_info": {
   "codemirror_mode": {
    "name": "ipython",
    "version": 3
   },
   "file_extension": ".py",
   "mimetype": "text/x-python",
   "name": "python",
   "nbconvert_exporter": "python",
   "pygments_lexer": "ipython3",
   "version": "3.6.4"
  }
 },
 "nbformat": 4,
 "nbformat_minor": 1
}
