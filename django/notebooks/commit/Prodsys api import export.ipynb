{
 "cells": [
  {
   "cell_type": "code",
   "execution_count": 1,
   "metadata": {
    "collapsed": true
   },
   "outputs": [],
   "source": [
    "import requests\n",
    "import json\n",
    "class ProdSysApi:\n",
    "    \n",
    "    def __init__(self, url_list, url_single, user, password):\n",
    "        self._auth = requests.auth.HTTPBasicAuth(user, password)\n",
    "        self._urls = [url_single, url_list]\n",
    "        \n",
    "    def api_url(self, id=None):\n",
    "        if id is None:\n",
    "            return self._urls[1]\n",
    "        else:\n",
    "            return self._urls[0].format(id)\n",
    "    \n",
    "    def list(self):\n",
    "        response = requests.get(self.api_url(), auth=self._auth)\n",
    "        print(len(response.content))\n",
    "        data = response.json()\n",
    "        return data\n",
    "        \n",
    "    def get(self, id):\n",
    "        response = requests.get(self.api_url(id), auth=self._auth)\n",
    "        data = response.json()\n",
    "        return data\n",
    "    \n",
    "    def new(self, data):\n",
    "            return requests.post(\n",
    "                self.api_url(), \n",
    "                auth = self._auth,\n",
    "                json = data,\n",
    "            )\n",
    "        \n",
    "    def delete(self, id):\n",
    "            return requests.delete(\n",
    "                self.api_url(), \n",
    "                auth = self._auth,\n",
    "            )\n",
    "        \n",
    "    def patch(self, id, data):\n",
    "        if 'api/indesign/' in self._urls[0]:\n",
    "            return requests.post(\n",
    "                self.api_url(id), \n",
    "                auth = self._auth,\n",
    "                data = {'json': json.dumps(data)},\n",
    "            )\n",
    "        else:\n",
    "            return requests.patch(\n",
    "                self.api_url(id), \n",
    "                auth = self._auth,\n",
    "                json = data,\n",
    "            )\n",
    "            \n",
    "\n",
    "        \n",
    "old_api = ProdSysApi(\n",
    "    user='api',\n",
    "    password='Avier1gi',\n",
    "    url_list = 'http://universitas.no/admin/api/indesign/json/',\n",
    "    url_single = 'http://universitas.no/admin/api/indesign/{}/json/',\n",
    ")\n",
    "new_api = ProdSysApi(\n",
    "    user='api',\n",
    "    password='Avier1gi',\n",
    "    url_list = 'http://universitas.no/api/legacy/?limit=500',\n",
    "    url_single = 'http://universitas.no/api/legacy/{}/',\n",
    ")\n",
    "local_api = ProdSysApi(\n",
    "    user='api',\n",
    "    password='api',\n",
    "    url_list = 'http://web:8000/api/legacy/?limit=10',\n",
    "    url_single = 'http://web:8000/api/legacy/{}/',\n",
    ")\n",
    "\n"
   ]
  },
  {
   "cell_type": "code",
   "execution_count": 2,
   "metadata": {},
   "outputs": [
    {
     "name": "stdout",
     "output_type": "stream",
     "text": [
      "488741\n"
     ]
    }
   ],
   "source": [
    "prodsaker = [old_api.get(ps['prodsak_id']) for ps in old_api.list() if ps['produsert'] < '8']\n"
   ]
  },
  {
   "cell_type": "code",
   "execution_count": 3,
   "metadata": {},
   "outputs": [
    {
     "data": {
      "text/plain": [
       "89"
      ]
     },
     "execution_count": 3,
     "metadata": {},
     "output_type": "execute_result"
    }
   ],
   "source": [
    "len(prodsaker)"
   ]
  },
  {
   "cell_type": "code",
   "execution_count": 13,
   "metadata": {},
   "outputs": [
    {
     "name": "stdout",
     "output_type": "stream",
     "text": [
      "2017-09-03 20:43:49+02:00 19 ANM The Book of Mormon\n",
      "2017-09-03 20:15:36+02:00 19 KUL Arki\n",
      "2017-09-03 18:07:13+02:00 19 urix Venezuela 2\n",
      "2017-09-03 16:36:03+02:00 19 anm forsøksgym\n",
      "2017-09-03 15:21:54+02:00 Melding hjem NYC \n",
      "2017-09-03 13:29:13+02:00 18+Anml+Lamegblimeddeg\n",
      "2017-09-03 13:22:53+02:00 20 KUL Jenter og informatikk\n",
      "2017-09-03 12:46:14+02:00 19 KUL ANB\n",
      "2017-09-02 14:15:55+02:00 19 DEB forskerintervju\n",
      "2017-09-01 22:11:42+02:00 19 DEB Svar til sparedama\n",
      "2017-09-01 21:10:27+02:00 19 DEB nyhkom - studentvalget 2017\n",
      "2017-09-01 13:30:15+02:00 Kvinnediskriminering i akademia\n",
      "2017-08-30 08:29:40+02:00 18 MAG Politisk satire\n",
      "2017-08-30 01:01:38+02:00 18 nyh pulenekt\n",
      "2017-08-30 01:01:38+02:00 18nyhFengsletForsker utkast\n",
      "2017-08-30 01:01:03+02:00 18 NYH Studenter bryr seg om utdanningspol\n",
      "2017-08-30 00:55:48+02:00 17 DEB Trine Skei Grande\n",
      "2017-08-30 00:55:25+02:00 18 Lille-leder\n",
      "2017-08-30 00:47:53+02:00 18 KULKOM.kjønnssykdommer\n",
      "2017-08-30 00:38:22+02:00 18 - Vi spør\n",
      "2017-08-29 23:24:37+02:00 18 mindtrix anmeldelse\n",
      "2017-08-29 23:24:37+02:00 18 ANM Kommode\n",
      "2017-08-29 23:24:37+02:00 18 anm SKUMPA\n",
      "2017-08-29 23:15:49+02:00 AdvarselKimJongIsaksen\n",
      "2017-08-29 23:15:49+02:00 18 anbefaling\n",
      "2017-08-29 23:00:47+02:00 18 LEDER\n",
      "2017-08-29 23:00:36+02:00 18 Notiser kul\n",
      "2017-08-29 23:00:36+02:00 18 Kul.anb.\n",
      "2017-08-29 20:16:01+02:00 nyh18 Notiser\n",
      "2017-08-29 19:54:31+02:00 18 Vinspalten\n",
      "2017-08-29 19:48:12+02:00 Ad notam 18\n",
      "2017-08-29 18:28:35+02:00 Arkivaren 18\n",
      "2017-08-28 15:08:39+02:00 18\n",
      "2017-08-27 15:01:00+02:00 Portrett JGS\n",
      "2017-08-27 12:41:06+02:00 Mag+Ungdomspolitikk\n",
      "2017-08-27 11:53:49+02:00 MAGHannah\n",
      "2017-08-27 11:45:26+02:00 Studenter som ikke stemmer\n",
      "2017-08-23 00:59:48+02:00 17 Vi spør\n",
      "2017-08-23 00:59:48+02:00 17 Quiz\n",
      "2017-08-23 00:58:47+02:00 17 urix notis\n",
      "2017-08-23 00:57:01+02:00 17 leder\n",
      "2017-08-23 00:26:20+02:00 Svindyr faddermorro\n",
      "2017-08-23 00:08:52+02:00 17 NYH Saksomkostninger\n",
      "2017-08-22 23:45:02+02:00 ISS oppfølger 17\n",
      "2017-08-22 23:34:15+02:00 17 KUL NOTISER\n",
      "2017-08-22 22:17:21+02:00 17 Loading...2 Vaular anmeldelse\n",
      "2017-08-22 22:17:21+02:00 ANM 17 Kong Amf\n",
      "2017-08-22 22:11:27+02:00 17 anm Siv Jakobsen\n",
      "2017-08-22 22:11:27+02:00 17 anmeldelse austmann fadderøl\n",
      "2017-08-22 22:10:36+02:00 16 nyh karaktersak ekspert\n",
      "2017-08-22 20:30:31+02:00 17 NYH NOTISER\n",
      "2017-08-22 19:14:08+02:00 17 ARKIVAREN\n",
      "2017-08-22 18:08:53+02:00 17 VINSPALTEN\n",
      "2017-08-21 19:21:55+02:00 Kulturanb\n",
      "2017-08-21 18:05:50+02:00 17 kulturkalender\n",
      "2017-08-21 14:08:14+02:00 Advarsel toga-fest\n",
      "2017-08-20 22:28:05+02:00 17 anbefaling skogen\n",
      "2017-08-16 00:44:18+02:00 16 notiser\n",
      "2017-08-15 23:38:11+02:00 Tips til ferske studenter\n",
      "2017-08-15 22:53:45+02:00 NETT Øya Broen og Lars Vaular\n",
      "2017-08-15 22:53:45+02:00 NETT Øya ieatheartattacks\n",
      "2017-08-15 22:53:18+02:00 NETT HAJK og Telephones\n",
      "2017-08-15 22:53:18+02:00 NETT Skadedyr\n",
      "2017-08-15 22:53:18+02:00 NETT Anm Nils Bech\n",
      "2017-08-15 22:53:18+02:00 16 ANMØYA Unge Ferrari\n",
      "2017-08-15 22:46:18+02:00 16 nyh Fem på hookern\n",
      "2017-08-15 22:46:18+02:00 Hooke-nekt ved HiOA\n",
      "2017-08-15 21:49:36+02:00 Kulturnotiser\n",
      "2017-08-15 21:47:30+02:00 16 Leder \n",
      "2017-08-15 20:05:34+02:00 Vi spør 16\n",
      "2017-08-15 19:59:22+02:00 arkivaren 16\n",
      "2017-08-15 19:42:06+02:00 16 VINSPALTE\n",
      "2017-08-15 19:08:01+02:00 Ad notam 16\n",
      "2017-08-15 15:32:20+02:00 anm nett Jenny Hval\n",
      "2017-08-15 15:11:55+02:00 awesome\n",
      "2017-08-15 14:55:48+02:00 MAGCurlingbarn på Blindern-isen\n",
      "2017-08-15 12:38:52+02:00 Tidslinje til Markus Knutsen\n",
      "2017-08-14 17:23:35+02:00 16 Musikkanbefalinger\n",
      "2017-08-14 16:25:32+02:00 NETT anm Shikoswe\n",
      "2017-08-14 16:18:46+02:00 NETT Gabrielle\n",
      "2017-08-14 16:17:18+02:00 NETT Anm Louien\n"
     ]
    }
   ],
   "source": [
    "from django.utils import timezone\n",
    "def is_recent(sak):\n",
    "    now = timezone.now()\n",
    "    dato = timeparser(sak.get('version_date'))\n",
    "    return now - dato < timezone.timedelta(days=30)\n",
    "    \n",
    "recent = sorted(filter(is_recent, prodsaker), reverse=True, key = lambda s:timeparser(s.get('version_date')))\n",
    "for sak in recent:\n",
    "    dato = timeparser(sak.get('version_date'))\n",
    "    title = sak.get('arbeidstittel')\n",
    "    print(dato, title)\n",
    "    "
   ]
  },
  {
   "cell_type": "code",
   "execution_count": 15,
   "metadata": {
    "scrolled": false
   },
   "outputs": [
    {
     "name": "stdout",
     "output_type": "stream",
     "text": [
      "23307 anmeldelser 19 ANM The Book of Mormon 400\n",
      "23302 kultur 19 KUL Arki 400\n",
      "23299 omverden 19 urix Venezuela 2 400\n",
      "23308 anmeldelser 19 anm forsøksgym 201\n",
      "0:00:00 True\n",
      "23301 omverden Melding hjem NYC  201\n",
      "0:00:00 True\n",
      "23270 anmeldelser 18+Anml+Lamegblimeddeg 201\n",
      "0:00:00 True\n",
      "23306 kultur 20 KUL Jenter og informatikk 201\n",
      "0:00:00 True\n",
      "23303 kulturnotis 19 KUL ANB 201\n",
      "0:00:00 True\n",
      "23272 kronikk 19 DEB forskerintervju 201\n",
      "0:00:00 True\n",
      "23305 kronikk 19 DEB Svar til sparedama 201\n",
      "0:00:00 True\n",
      "23304 kommentar 19 DEB nyhkom - studentvalget 2017 201\n",
      "0:00:00 True\n",
      "23300 nyhet Kvinnediskriminering i akademia 201\n",
      "0:00:00 True\n",
      "23263 magasin 18 MAG Politisk satire 201\n",
      "0:00:00 True\n",
      "23287 nyhet 18 nyh pulenekt 201\n",
      "7:29:18 True\n",
      "23282 nyhet 18nyhFengsletForsker utkast 201\n",
      "3:36:36 True\n",
      "23285 nyhet 18 NYH Studenter bryr seg om utdanningspol 201\n",
      "6:19:41 True\n",
      "23232 kronikk 17 DEB Trine Skei Grande 201\n",
      "8 days, 10:24:13 True\n",
      "23294 nyhet 18 Lille-leder 201\n",
      "4:53:26 True\n",
      "23284 kulturkommentar 18 KULKOM.kjønnssykdommer 201\n",
      "7:14:16 True\n",
      "23290 vispor 18 - Vi spør 201\n",
      "5:14:38 True\n",
      "23276 anmeldelser 18 mindtrix anmeldelse 201\n",
      "1 day, 23:45:12 True\n",
      "23278 anmeldelser 18 ANM Kommode 400\n",
      "23275 anmeldelser 18 anm SKUMPA 400\n",
      "23269 anmeldelser AdvarselKimJongIsaksen 201\n",
      "1 day, 23:29:56 True\n",
      "23274 anmeldelser 18 anbefaling 201\n",
      "1 day, 9:48:35 True\n",
      "23296 nyhet 18 LEDER 201\n",
      "0:00:00 True\n",
      "23267 kulturnotis 18 Notiser kul 201\n",
      "1 day, 12:47:40 True\n",
      "23266 kulturnotis 18 Kul.anb. 201\n",
      "11:38:39 True\n",
      "23295 nyhet nyh18 Notiser 201\n",
      "0:00:00 True\n",
      "23293 adnotam 18 Vinspalten 201\n",
      "0:00:00 True\n",
      "23291 adnotam Ad notam 18 201\n",
      "0:00:00 True\n",
      "23289 nyhetsnotis Arkivaren 18 201\n",
      "0:00:00 True\n",
      "23280 quiz 18 201\n",
      "0:00:00 True\n",
      "23216 magasin Portrett JGS 201\n",
      "0:00:00 True\n",
      "23182 magasin Mag+Ungdomspolitikk 201\n",
      "0:00:00 True\n",
      "23238 magasin MAGHannah 201\n",
      "0:00:00 True\n",
      "23251 magasin Studenter som ikke stemmer 201\n",
      "0:00:00 True\n",
      "23260 vispor 17 Vi spør 201\n",
      "3:55:57 True\n",
      "23257 quiz 17 Quiz 201\n",
      "6:29:25 True\n",
      "23259 omverden 17 urix notis 400\n",
      "23261 leder 17 leder 201\n",
      "1:06:42 True\n",
      "23255 nyhet Svindyr faddermorro 201\n",
      "1:33:03 True\n",
      "23226 nett 17 NYH Saksomkostninger 201\n",
      "3:49:49 True\n",
      "22587 nyhet ISS oppfølger 17 201\n",
      "3:52:40 True\n",
      "23245 kulturnotis 17 KUL NOTISER 201\n",
      "1 day, 5:45:28 True\n",
      "23237 anmeldelser 17 Loading...2 Vaular anmeldelse 400\n",
      "23236 anmeldelser ANM 17 Kong Amf 400\n",
      "23227 anmeldelser 17 anm Siv Jakobsen 400\n",
      "23244 anmeldelser 17 anmeldelse austmann fadderøl 201\n",
      "1 day, 5:59:11 True\n",
      "23192 nyhet 16 nyh karaktersak ekspert 201\n",
      "8 days, 11:54:41 True\n",
      "23252 nyhetsnotis 17 NYH NOTISER 201\n",
      "0:00:00 True\n",
      "23258 år 17 ARKIVAREN 201\n",
      "0:00:00 True\n",
      "23256 adnotam 17 VINSPALTEN 201\n",
      "0:00:00 True\n",
      "23250 kulturnotis Kulturanb 201\n",
      "0:00:00 True\n",
      "23249 anmeldelser 17 kulturkalender 201\n",
      "0:00:00 True\n",
      "23234 anmeldelser Advarsel toga-fest 201\n",
      "0:00:00 True\n",
      "23239 anmeldelser 17 anbefaling skogen 201\n",
      "0:00:00 True\n",
      "23218 nyhet 16 notiser 201\n",
      "6:17:42 True\n",
      "23225 magasin Tips til ferske studenter 201\n",
      "0:36:19 True\n",
      "23194 anmeldelser NETT Øya Broen og Lars Vaular 400\n",
      "23177 anmeldelser NETT Øya ieatheartattacks 201\n",
      "3 days, 4:17:36 True\n",
      "23178 anmeldelser NETT HAJK og Telephones 400\n",
      "23179 anmeldelser NETT Skadedyr 400\n",
      "23195 anmeldelser NETT Anm Nils Bech 201\n",
      "1 day, 6:25:14 True\n",
      "23190 anmeldelser 16 ANMØYA Unge Ferrari 400\n",
      "23214 nyhet 16 nyh Fem på hookern 400\n",
      "23212 nyhet Hooke-nekt ved HiOA 201\n",
      "2:01:45 True\n",
      "23199 kulturnotis Kulturnotiser 400\n",
      "23223 leder 16 Leder  201\n",
      "0:00:00 True\n",
      "23219 vispor Vi spør 16 201\n",
      "0:00:00 True\n",
      "23222 nyhet arkivaren 16 201\n",
      "0:00:00 True\n",
      "23220 vispor 16 VINSPALTE 201\n",
      "0:00:00 True\n",
      "23217 adnotam Ad notam 16 201\n",
      "0:00:00 True\n",
      "23191 anmeldelser anm nett Jenny Hval 201\n",
      "23:01:29 True\n",
      "23215 akademia awesome 201\n",
      "0:00:00 True\n",
      "23174 magasin MAGCurlingbarn på Blindern-isen 201\n",
      "0:00:00 True\n",
      "23213 nyhet Tidslinje til Markus Knutsen 201\n",
      "0:00:00 True\n",
      "23206 anmeldelser 16 Musikkanbefalinger 201\n",
      "0:00:00 True\n",
      "23193 anmeldelser NETT anm Shikoswe 201\n",
      "0:00:00 True\n",
      "23180 anmeldelser NETT Gabrielle 201\n",
      "0:00:00 True\n",
      "23181 anmeldelser NETT Anm Louien 201\n",
      "0:00:00 True\n"
     ]
    }
   ],
   "source": [
    "# Remove work in progress stories\n",
    "#qs = Story.objects.filter(publication_status__lte=Story.STATUS_FROM_DESK)\n",
    "#qs.delete()\n",
    "\n",
    "\n",
    "def pre_save(model_instance, add):\n",
    "    \"\"\" Returns field's value just before saving. \"\"\"\n",
    "    return getattr(model_instance, 'modified')\n",
    "\n",
    "def update_timestamps(story, created, modified):\n",
    "    story.created = created \n",
    "    story.modified = modified\n",
    "    story._meta.get_field('modified').pre_save = pre_save\n",
    "    story.save()\n",
    "\n",
    "\n",
    "import pytz\n",
    "def get_status(produsert, flagg, **kwargs):\n",
    "    flag_status = {\n",
    "        1: Story.STATUS_JOURNALIST,\n",
    "        2: Story.STATUS_SUBEDITOR,\n",
    "        3: Story.STATUS_EDITOR,\n",
    "        4: Story.STATUS_EDITOR\n",
    "    }.get(int(flagg))\n",
    "    status = {\n",
    "        Prodsak.DRAFT: flag_status,\n",
    "        Prodsak.OLD_DRAFT: flag_status,\n",
    "        Prodsak.READY_FOR_PRINT: Story.STATUS_TO_DESK,\n",
    "        Prodsak.IMPORTED_TO_INDESIGN: Story.STATUS_AT_DESK,\n",
    "        Prodsak.EXPORTED_FROM_INDESIGN: Story.STATUS_FROM_DESK,\n",
    "    }.get(int(produsert))\n",
    "    return status\n",
    "\n",
    "\n",
    "def timeparser(value):\n",
    "    dt=pytz.datetime.datetime.strptime(value, '%Y-%m-%d %H:%M:%S')\n",
    "    return pytz.timezone('Europe/Oslo').localize(dt)\n",
    "\n",
    "def import_all(saker, api):\n",
    "    for ps in saker:\n",
    "        ps = dict(**ps)\n",
    "        ps['produsert'] = get_status(**ps)\n",
    "        if ps['mappe'] == '\\ufffdr':\n",
    "            ps['mappe'] = 'år'\n",
    "        response = api.new(ps)\n",
    "\n",
    "        print('{prodsak_id} {mappe} {arbeidstittel} {response.status_code}'.format(**ps, response=response))\n",
    "        if response.status_code == 201:\n",
    "            data = response.json()\n",
    "            created = timeparser(ps.get('dato'))\n",
    "            modified = timeparser(ps.get('version_date'))\n",
    "            diff = modified-created\n",
    "            story = Story.objects.get(pk=data['prodsak_id'])\n",
    "            update_timestamps(story, created, modified)\n",
    "            story.refresh_from_db()\n",
    "            diff2 = story.modified - story.created\n",
    "            print(diff, diff==diff2)\n",
    "        elif response.status_code == 400:\n",
    "            ...\n",
    "        else:\n",
    "            print(response.status_code)\n",
    "            print(json.dumps(ps, ensure_ascii=False, indent=2))\n",
    "            error = response.text.split('Traceback (most recent call last):')[-1].strip()\n",
    "            print(error.splitlines()[-1])\n",
    "            print(error)\n",
    "            qs = Story.objects.filter(publication_status__lt=Story.STATUS_FROM_DESK)\n",
    "            qs.delete()\n",
    "            break\n",
    "            \n",
    "import_all(recent[:], new_api)"
   ]
  },
  {
   "cell_type": "code",
   "execution_count": 25,
   "metadata": {},
   "outputs": [
    {
     "name": "stdout",
     "output_type": "stream",
     "text": [
      "201 {'bilete': [], 'prodsak_id': 62613, 'mappe': 'news', 'arbeidstittel': 'Nyhet 1', 'produsert': 100, 'tekst': '1ER-SAKER ER SAKENE SOM PRIORITERES PÅ EN DOBBELTSIDE. DE ER ALLTID AVHENGIGE AV AT BILDET, ELLER ILLUSTRASJONEN ER BRA.\\nSIDE 4-5: UTEN ANDRE SAKER: 4000 TEGN I HOVEDSAK, CA 1900 I UNDERSAK. MED ÉNSPALTER: 4000 – 4200. MED 2-SPALTER: 3800 – 4000. MED 3-SPALTER: CA 3800 TEGN. 8-SPALTER MED HEMS: CA 4300 TEGN. DOBBELTSIDE: MAKS 4200 TEGN I HOVEDSAK, CA 1900 I UNDERSAK. NB: MAKS 4200 TEGN I HOVEDSAKEN. BRUK UNDERSAK OM SAKEN SKAL VÆRE LENGRE ENN DETTE (MAKS 1900 TEGN).\\n\\n@stikktit:(PRØV Å UNNGÅ STIKKTITLER – STIKKTITLER ER SOM STØTTEHJUL!)\\n\\n@tit: \\n\\n@ing: \\n\\n@li:INGRESS1:\\n\\n@li:INGRESS2:\\n@bt:\\n\\n@bt:\\n\\n@tema:\\n\\n@bl:\\n\\n@txt:\\n\\n@mt:\\n\\n@txt:\\n\\n@mt:\\n\\n@txt:\\n\\n@sitat:\\n@sitatbyline:\\n\\n@fakta:\\n\\n@tit:(undersak)\\n\\n@txt:(IKKE INGRESS I UNDERSAK)', 'url': 'http://universitas.no/api/legacy/62613/', 'version_no': 1}\n",
      "201 {'bilete': [], 'prodsak_id': 62614, 'mappe': 'news', 'arbeidstittel': 'Kultur 3', 'produsert': 100, 'tekst': '3ERSAKENE PÅ KULTUR ER SAKENE SOM TAR 50 % ELLER MINDRE AV PLASSEN PÅ EN SIDE, ELLER DOBBELTSIDE.\\n2-SPALTER MED HEMS: CA 2800 TEGN. 3-SPALTER MED HEMS: CA 3500 TEGN (MÅ HA FOTOLØSNING). ÉNSPALTER UTEN HEMS: MAKS 2000 TEGN. HALVSIDE: 2600 – 2800 TEGN (MED STÅENDE BILDE). \\n\\n@tit:\\n\\n@ing:\\n\\n@bt:(SKRIV TI ORD TIL HVERT AV FRIMERKEBILDENE)\\n\\n@bt:\\n\\n@bl:\\n\\n@txt:Temaord:\\n\\n@mt:\\n\\n@txt:\\n\\n@mt:\\n\\n@txt:\\n\\n@sitat:\\n\\n@sitatbyline:\\n\\n@txt:xx@universitas.no\\n\\n(LEGG ALLTID INN ETT ELLER TO FRIMERKEBILDER / TRYNEBILDER AV DE SOM UTTALER SEG I SAKEN).\\n\\n(NB! SELV OM DET KOMMER «WARNING» I PRODSYS NÅR @ STÅR I TEKSTEN, SKAL IKKE EPOSTADRESSE FJERNES. DET ER BARE «ERROR» SOM IKKE LAR DEG LAGRE)', 'url': 'http://universitas.no/api/legacy/62614/', 'version_no': 1}\n",
      "201 {'bilete': [], 'prodsak_id': 62615, 'mappe': 'news', 'arbeidstittel': 'Kultur 2', 'produsert': 100, 'tekst': '2ERSAKENE PÅ KULTUR ER SAKENE SOM TAR MEST PLASS PÅ EN SIDE, ELLER TAT HELE SIDEN ALENE. SOM ALLTID: VELDIG AVHENGIG AV BRA FOTOLØSNING, KUL ILLUSTRASJON ELLER GRAFIKK.\\nMED HEMS ELLER FEM PÅ PLASSEN: 2800 – 3000 TEGN. MED ÉNSPALTER: MAKS 3400. HELE SIDEN: MAKS 3800 TEGN.\\n\\n@tit:\\n\\n@ing:\\n\\n@bt:\\n\\n@bt:\\n\\n@bl:\\n\\n@txt:Temaord:\\n\\n@mt:\\n\\n@txt:\\n\\n@mt:\\n\\n@txt:\\n\\n@sitat:\\n\\n@sitatbyline:\\n\\n@fakta:\\n\\n@txt:xx@universitas.no\\n\\n(NB! SELV OM DET KOMMER «WARNING» I PRODSYS NÅR @ STÅR I TEKSTEN, SKAL IKKE EPOSTADRESSE FJERNES. DET ER BARE «ERROR» SOM IKKE LAR DEG LAGRE)', 'url': 'http://universitas.no/api/legacy/62615/', 'version_no': 1}\n",
      "201 {'bilete': [], 'prodsak_id': 62616, 'mappe': 'news', 'arbeidstittel': 'Kultur 1', 'produsert': 100, 'tekst': '1ERSAKENE TAR MER ENN 50 % PÅ EN DOBBELTSIDE. PÅ KULTUR KREVER DE MEGET GODE BILDER OG TEKSTLENGDE VARIERER VELDIG I FORHOLD TIL HVOR GODE BILDENE, GRAFIKKEN, ELLER ILLUSTRASJONEN ER.\\nINNGANGSSIDE / DOBBELTSIDE MED HEMS: 7-SPALTER: 4500 – 4800 TEGN. 8-SPALTER: 4500 – 5000 TEGN. DOBBELTSIDE: 5000 – 6500 (VELDIG BILDEAVHENGIG).\\n\\n@tit:\\n\\n@ing:\\n\\n@bt:\\n\\n@bt:\\n\\n@bl:\\n\\n@txt:Temaord:\\n\\n@mt:\\n\\n@txt:\\n\\n@mt:\\n\\n@txt:\\n\\n@sitat:\\n\\n@sitatbyline:\\n\\n@fakta:\\n\\n@txt:xx@universitas.no\\n\\n(NB! SELV OM DET KOMMER «WARNING» I PRODSYS NÅR @ STÅR I TEKSTEN, SKAL IKKE EPOSTADRESSE FJERNES. DET ER BARE «ERROR» SOM IKKE LAR DEG LAGRE)', 'url': 'http://universitas.no/api/legacy/62616/', 'version_no': 1}\n",
      "201 {'bilete': [], 'prodsak_id': 62617, 'mappe': 'news', 'arbeidstittel': 'Nyhet 2', 'produsert': 100, 'tekst': '2ER-SAKER ER SAKENE SOM TAR HELE ELLER MER ENN 50 % AV EN ENKELTSIDE. BILDE ELLER ILLUSTRASJON MÅ VÆRE TIPP TOPP.\\nHELE SIDEN: 3500 – 4000 TEGN. MED ÉNSPALTER, FEM PÅ PLASSEN, ELLER HEMS: 3000 – 3500 TEGN.\\n\\n@stikktit:(PRØV Å UNNGÅ STIKKTITLER – STIKKTITLER ER SOM STØTTEHJUL!)\\n\\n@tit:\\n\\n@ing: \\n @bt:\\n\\n@bt:\\n\\n@tema:\\n\\n@bl:\\n\\n@txt:\\n\\n@mt:\\n\\n@txt:\\n\\n@mt:\\n\\n@txt:\\n @sitat:\\n\\n@sitatbyline:\\n\\n@fakta:\\n @txt:xx@universitas.no\\n\\n (NB! SELV OM DET KOMMER «WARNING» I PRODSYS NÅR @ STÅR I TEKSTEN, SKAL IKKE EPOSTADRESSE FJERNES. DET ER BARE «ERROR» SOM IKKE LAR DEG LAGRE)', 'url': 'http://universitas.no/api/legacy/62617/', 'version_no': 1}\n",
      "201 {'bilete': [], 'prodsak_id': 62618, 'mappe': 'news', 'arbeidstittel': 'Nyhet 3', 'produsert': 100, 'tekst': '3ERSAKER ER SAKENE SOM TAR MINDRE ENN HALVPARTEN AV SIDEN, ELLER DELER SIDE MED 50 % ELLER MER REKLAME.\\n\\nÉNSPALTER: 2000 TEGN (KUN SMÅ FRIMERKEBILDER). TOSPALTER: 3200 TEGN (LIGGENDE BILDE, ELLER FRIMERKEBILDE MED UTHEVET SITAT). HALVSIDER: 2600 – 2800 TEGN (BØR HA STÅENDE BILDE).\\n\\n@tit:KORT TITTEL \\n\\n@ing:\\n\\n@bt:(HUSK KJAPP BILDETEKST TIL FRIMERKEBILDENE OGSÅ. MAKS TI ORD)\\n @temaord:\\n\\n@bl:\\n\\n@txt:\\n\\n@mt:\\n\\n@txt:\\n\\n@mt:\\n @sitat:\\n\\n@sitatbyline:\\n @txt:xx@universitas.no\\n\\nHUSK Å FIKSE FRIMERKEBILDER / PRESSEBILDER AV DE SOM UTTALER SEG I SAKEN OG LEGG DE I NYHETSMAPPA PÅ DESKSERVERN. SKRIV HVEM DET ER I BILDETEKSTEN.\\n\\n(NB! SELV OM DET KOMMER «WARNING» I PRODSYS NÅR @ STÅR I TEKSTEN, SKAL IKKE EPOSTADRESSE FJERNES. DET ER BARE «ERROR» SOM IKKE LAR DEG LAGRE)', 'url': 'http://universitas.no/api/legacy/62618/', 'version_no': 1}\n",
      "201 {'bilete': [], 'prodsak_id': 62619, 'mappe': 'news', 'arbeidstittel': 'Kommentar', 'produsert': 100, 'tekst': 'LENGDE: 3100 – 3200 TEGN\\n\\n@stikktit:\\n\\n@tit:\\n\\n@txt:\\n\\n@sitat:\\n\\n@bt:Illustrasjon:\\n\\n@bl:xx, journalist i Universitas \\n\\n@txt:xx@universitas.no', 'url': 'http://universitas.no/api/legacy/62619/', 'version_no': 1}\n",
      "201 {'bilete': [], 'prodsak_id': 62620, 'mappe': 'news', 'arbeidstittel': 'Min studietid', 'produsert': 100, 'tekst': 'FRA 2800 – 2900 TEGN\\n\\n@tit:\\n\\n@ing: [HUSK TABULATOR ]\\nHVEM:\\tnavn\\nSTUDERTE:\\tstudium\\nNÅR:\\t18XX-17XX\\nAKTUELL MED:\\tnoe greier\\n\\n@txt:\\n\\n@sitat:\\n\\n@bl:\\n\\n@txt:\\n\\n@bt:Foto: [kun dersom fotograf ikke er en av våre]', 'url': 'http://universitas.no/api/legacy/62620/', 'version_no': 1}\n",
      "201 {'bilete': [], 'prodsak_id': 62621, 'mappe': 'news', 'arbeidstittel': 'Anmeldelse', 'produsert': 100, 'tekst': '@li:Verkstittel (TITTEL PÅ VERKET ELLER NAVNET PÅ ARTIST, HVIS DET ER KONSERT)\\n\\n@li:Av: xxx (BRUK TO ELLER TRE FAKTA OM DET SOM ANMELDES)\\nForlag: xxx\\nPlateselskap: xxx\\nScene: xxx\\nRegi: xxx\\nMed: xxx\\nTid: xxx\\n\\n@tit:Tittel på sak (MAKS 20 TEGN MED MELLOMROM) \\n\\n@tema:Sjanger (SKAL VÆRE GENERISK: PLATE, KONSERT, TIDSSKRIFT, UTSTILLING, FILM, ROMAN, SAKPROSA, NOVELLESAMLING, ETC.)\\n\\n@ing:Ingress (BARE PÅ STOR ANMELDELSE.70 TEGN PÅ EN LINJE, 140 PÅ TO)\\n\\n@txt:Brødtekst ( LITEN ANMELDELSE 1500 TEGN, STOR ANMELDELSE: 2200 TEGN)\\n\\n@bt:bildetekst (BARE PÅ STOR ANMELDELSE)\\n\\n@bl:Byline\\n\\n–\\n\\nOBS: TITTEL PÅ PLATER, BØKER OG FILMER SKAL SKRIVES I KURSIV\\nTITTEL PÅ SANGER SKAL SKRIVES I «HERMETEGN» I BRØDTEKSTEN.\\nI FAKTADELEN SKRIVES ALT RETT FRAM UTEN HERMETEGN', 'url': 'http://universitas.no/api/legacy/62621/', 'version_no': 1}\n",
      "201 {'bilete': [], 'prodsak_id': 62622, 'mappe': 'news', 'arbeidstittel': 'Quiz', 'produsert': 100, 'tekst': 'HUSK Å LEGGE BYLINEBILDE I DEBATTMAPPEN PÅ DESKEN\\n\\n@tit:\\n\\n@bl:\\n\\n@tema:\\n\\n@txt:', 'url': 'http://universitas.no/api/legacy/62622/', 'version_no': 1}\n",
      "201 {'bilete': [], 'prodsak_id': 62623, 'mappe': 'news', 'arbeidstittel': 'Kommentar', 'produsert': 100, 'tekst': 'LENGDE: 3100 – 3200 TEGN\\n\\n@stikktit:\\n@tit:\\n@txt:\\n@sitat:\\n@bt:Illustrasjon:\\n@bl:xx, journalist i Universitas', 'url': 'http://universitas.no/api/legacy/62623/', 'version_no': 1}\n",
      "201 {'bilete': [], 'prodsak_id': 62624, 'mappe': 'news', 'arbeidstittel': 'Vi Spør', 'produsert': 100, 'tekst': 'LENGDE: 3100 – 3200 TEGN\\n\\n@stikktit:\\n@tit:\\n@spm: – spørsmål\\n@txt: – svar\\n\\n@spm: – spørsmål\\n@txt: – svar\\n\\n@spm: – spørsmål\\n@txt: – svar\\n\\n@spm: – spørsmål\\n@txt: – svar\\n\\n@sitat:\\n@bt:Illustrasjon:\\n@bl:xx', 'url': 'http://universitas.no/api/legacy/62624/', 'version_no': 1}\n",
      "201 {'bilete': [], 'prodsak_id': 62625, 'mappe': 'news', 'arbeidstittel': 'Leder', 'produsert': 100, 'tekst': '2200 TEGN MED ÉN LEDER. CA 2100 TIL SAMMEN MED TO ELLER MED SITAT.\\n\\n@tit:\\n@txt:\\n@sitat:\\n\\n@tit:\\n@txt:', 'url': 'http://universitas.no/api/legacy/62625/', 'version_no': 1}\n",
      "201 {'bilete': [], 'prodsak_id': 62626, 'mappe': 'news', 'arbeidstittel': 'Ukas Advarsel / Anbefaling', 'produsert': 100, 'tekst': '@tit: Tittel (OPPTIL 40 TEGN)\\n\\n@li: Hva er det? (ETT ORD)\\n\\n@li: Hvem: xxx\\nHvor: xxx\\nNår:  xxx (fak 1 og fak 2 SKAL VÆRE MAX 70 TEGN TIL SAMMEN)\\n\\n@txt: CIRKA 630 TEGN\\n\\n@bl:xx, journalist i Universitas\\n\\n–  \\nHUSK Å TA BYLINEBILDE OG HUSK Å IKKE VÆRE FOR GENERELL.\\n\\nLAGRES SOM ARITKKELTYPE «TO UTVALGTE», HA MED ORDET «ADVARSEL» ELLER «ANBEFALING» I ARBEIDSTITTELEN.', 'url': 'http://universitas.no/api/legacy/62626/', 'version_no': 1}\n"
     ]
    },
    {
     "name": "stdout",
     "output_type": "stream",
     "text": [
      "201 {'bilete': [], 'prodsak_id': 62627, 'mappe': 'news', 'arbeidstittel': 'Ad Notam', 'produsert': 100, 'tekst': '@tit: \\n\\n@mt:\\n\\n@txt:\\n\\n@mt:\\n\\n@txt:\\n\\n@mt:\\n\\n@txt:\\n\\n@mt:\\n\\n@txt:\\n\\n@mt:\\n\\n@txt:\\n\\n@bt:\\n\\n@bt:\\n\\n–\\nETT ELLER TO BILDER I HØYDEFORMAT.\\nMED ETT BILDE: 2500 TEGN (inkl. Mellomrom)\\nMED TO BILDER: 2400 TEGN (inkl. Mellomrom)', 'url': 'http://universitas.no/api/legacy/62627/', 'version_no': 1}\n",
      "201 {'bilete': [], 'prodsak_id': 62628, 'mappe': 'news', 'arbeidstittel': 'Fem på plassen', 'produsert': 100, 'tekst': '@ing:Spørsmål (IKKE LEDENDE!!)\\n\\n@mt:Navn (alder)\\n@txt:skole, fag\\n@txt:MAX 150 TEGN\\n\\n@mt:Navn (alder)\\n@txt:skole, fag\\n@txt:MAX 150 TEGN\\n\\n@mt:Navn (alder)\\n@txt:skole, fag\\n@txt:MAX 150 TEGN\\n\\n@mt:Navn (alder)\\n@txt:skole, fag\\n@txt:MAX 150 TEGN\\n\\n@mt:Navn (alder)\\n@txt:skole, fag\\n@txt:MAX 150 TEGN\\n\\n@mt:Navn (alder)\\n@txt:skole, fag\\n@txt:MAX 150 TEGN', 'url': 'http://universitas.no/api/legacy/62628/', 'version_no': 1}\n"
     ]
    }
   ],
   "source": [
    "import json\n",
    "import pprint\n",
    "jsondump = r'''\n",
    "{\"count\":16,\"next\":null,\"previous\":null,\"results\":[{\"id\":62586,\"url\":\"http://universitas.no/api/stories/62586/\",\"public_url\":\"http://universitas.no/nyheter/62586/\",\"edit_url\":\"http://universitas.no/admin/stories/story/62586/change/\",\"modified\":\"2017-09-03T17:52:48.007466Z\",\"created\":\"2017-09-03T17:38:25.595855Z\",\"working_title\":\"Nyhet 1\",\"publication_status\":100,\"bodytext_markup\":\"1ER-SAKER ER SAKENE SOM PRIORITERES PÅ EN DOBBELTSIDE. DE ER ALLTID AVHENGIGE AV AT BILDET, ELLER ILLUSTRASJONEN ER BRA.\\nSIDE 4-5: UTEN ANDRE SAKER: 4000 TEGN I HOVEDSAK, CA 1900 I UNDERSAK. MED ÉNSPALTER: 4000 – 4200. MED 2-SPALTER: 3800 – 4000. MED 3-SPALTER: CA 3800 TEGN. 8-SPALTER MED HEMS: CA 4300 TEGN. DOBBELTSIDE: MAKS 4200 TEGN I HOVEDSAK, CA 1900 I UNDERSAK. NB: MAKS 4200 TEGN I HOVEDSAKEN. BRUK UNDERSAK OM SAKEN SKAL VÆRE LENGRE ENN DETTE (MAKS 1900 TEGN).\\n\\n@stikktit:(PRØV Å UNNGÅ STIKKTITLER – STIKKTITLER ER SOM STØTTEHJUL!)\\n\\n@tit: \\n\\n@ing: \\n\\n@li:INGRESS1:\\n\\n@li:INGRESS2:\\n@bt:\\n\\n@bt:\\n\\n@tema:\\n\\n@bl:\\n\\n@txt:\\n\\n@mt:\\n\\n@txt:\\n\\n@mt:\\n\\n@txt:\\n\\n@sitat:\\n@sitatbyline:\\n\\n@fakta:\\n\\n@tit:(undersak)\\n\\n@txt:(IKKE INGRESS I UNDERSAK)\\n\",\"story_type\":2,\"story_type_name\":\"Nyhet\",\"byline_set\":[]},{\"id\":62596,\"url\":\"http://universitas.no/api/stories/62596/\",\"public_url\":\"http://universitas.no/kultur/62596/\",\"edit_url\":\"http://universitas.no/admin/stories/story/62596/change/\",\"modified\":\"2017-09-03T17:51:59.431198Z\",\"created\":\"2017-09-03T17:51:03.661346Z\",\"working_title\":\"Kultur 3\",\"publication_status\":100,\"bodytext_markup\":\"3ERSAKENE PÅ KULTUR ER SAKENE SOM TAR 50 % ELLER MINDRE AV PLASSEN PÅ EN SIDE, ELLER DOBBELTSIDE.\\n2-SPALTER MED HEMS: CA 2800 TEGN. 3-SPALTER MED HEMS: CA 3500 TEGN (MÅ HA FOTOLØSNING). ÉNSPALTER UTEN HEMS: MAKS 2000 TEGN. HALVSIDE: 2600 – 2800 TEGN (MED STÅENDE BILDE). \\n\\n@tit:\\n\\n@ing:\\n\\n@bt:(SKRIV TI ORD TIL HVERT AV FRIMERKEBILDENE)\\n\\n@bt:\\n\\n@bl:\\n\\n@txt:Temaord:\\n\\n@mt:\\n\\n@txt:\\n\\n@mt:\\n\\n@txt:\\n\\n@sitat:\\n\\n@sitatbyline:\\n\\n@txt:xx@universitas.no\\n\\n(LEGG ALLTID INN ETT ELLER TO FRIMERKEBILDER / TRYNEBILDER AV DE SOM UTTALER SEG I SAKEN).\\n\\n(NB! SELV OM DET KOMMER «WARNING» I PRODSYS NÅR @ STÅR I TEKSTEN, SKAL IKKE EPOSTADRESSE FJERNES. DET ER BARE «ERROR» SOM IKKE LAR DEG LAGRE)\",\"story_type\":10,\"story_type_name\":\"Kultur\",\"byline_set\":[]},{\"id\":62595,\"url\":\"http://universitas.no/api/stories/62595/\",\"public_url\":\"http://universitas.no/kultur/62595/\",\"edit_url\":\"http://universitas.no/admin/stories/story/62595/change/\",\"modified\":\"2017-09-03T17:51:49.222941Z\",\"created\":\"2017-09-03T17:50:57.659416Z\",\"working_title\":\"Kultur 2\",\"publication_status\":100,\"bodytext_markup\":\"2ERSAKENE PÅ KULTUR ER SAKENE SOM TAR MEST PLASS PÅ EN SIDE, ELLER TAT HELE SIDEN ALENE. SOM ALLTID: VELDIG AVHENGIG AV BRA FOTOLØSNING, KUL ILLUSTRASJON ELLER GRAFIKK.\\nMED HEMS ELLER FEM PÅ PLASSEN: 2800 – 3000 TEGN. MED ÉNSPALTER: MAKS 3400. HELE SIDEN: MAKS 3800 TEGN.\\n\\n@tit:\\n\\n@ing:\\n\\n@bt:\\n\\n@bt:\\n\\n@bl:\\n\\n@txt:Temaord:\\n\\n@mt:\\n\\n@txt:\\n\\n@mt:\\n\\n@txt:\\n\\n@sitat:\\n\\n@sitatbyline:\\n\\n@fakta:\\n\\n@txt:xx@universitas.no\\n\\n(NB! SELV OM DET KOMMER «WARNING» I PRODSYS NÅR @ STÅR I TEKSTEN, SKAL IKKE EPOSTADRESSE FJERNES. DET ER BARE «ERROR» SOM IKKE LAR DEG LAGRE)\\n\",\"story_type\":10,\"story_type_name\":\"Kultur\",\"byline_set\":[]},{\"id\":62585,\"url\":\"http://universitas.no/api/stories/62585/\",\"public_url\":\"http://universitas.no/kultur/62585/\",\"edit_url\":\"http://universitas.no/admin/stories/story/62585/change/\",\"modified\":\"2017-09-03T17:51:30.259825Z\",\"created\":\"2017-09-03T17:38:21.380213Z\",\"working_title\":\"Kultur 1\",\"publication_status\":100,\"bodytext_markup\":\"1ERSAKENE TAR MER ENN 50 % PÅ EN DOBBELTSIDE. PÅ KULTUR KREVER DE MEGET GODE BILDER OG TEKSTLENGDE VARIERER VELDIG I FORHOLD TIL HVOR GODE BILDENE, GRAFIKKEN, ELLER ILLUSTRASJONEN ER.\\nINNGANGSSIDE / DOBBELTSIDE MED HEMS: 7-SPALTER: 4500 – 4800 TEGN. 8-SPALTER: 4500 – 5000 TEGN. DOBBELTSIDE: 5000 – 6500 (VELDIG BILDEAVHENGIG).\\n\\n@tit:\\n\\n@ing:\\n\\n@bt:\\n\\n@bt:\\n\\n@bl:\\n\\n@txt:Temaord:\\n\\n@mt:\\n\\n@txt:\\n\\n@mt:\\n\\n@txt:\\n\\n@sitat:\\n\\n@sitatbyline:\\n\\n@fakta:\\n\\n@txt:xx@universitas.no\\n\\n(NB! SELV OM DET KOMMER «WARNING» I PRODSYS NÅR @ STÅR I TEKSTEN, SKAL IKKE EPOSTADRESSE FJERNES. DET ER BARE «ERROR» SOM IKKE LAR DEG LAGRE)\",\"story_type\":10,\"story_type_name\":\"Kultur\",\"byline_set\":[]},{\"id\":62593,\"url\":\"http://universitas.no/api/stories/62593/\",\"public_url\":\"http://universitas.no/nyheter/62593/\",\"edit_url\":\"http://universitas.no/admin/stories/story/62593/change/\",\"modified\":\"2017-09-03T17:50:46.527147Z\",\"created\":\"2017-09-03T17:49:28.622573Z\",\"working_title\":\"Nyhet 2\",\"publication_status\":100,\"bodytext_markup\":\"2ER-SAKER ER SAKENE SOM TAR HELE ELLER MER ENN 50 % AV EN ENKELTSIDE. BILDE ELLER ILLUSTRASJON MÅ VÆRE TIPP TOPP.\\nHELE SIDEN: 3500 – 4000 TEGN. MED ÉNSPALTER, FEM PÅ PLASSEN, ELLER HEMS: 3000 – 3500 TEGN.\\n\\n@stikktit:(PRØV Å UNNGÅ STIKKTITLER – STIKKTITLER ER SOM STØTTEHJUL!)\\n\\n@tit:\\n\\n@ing: \\n @bt:\\n\\n@bt:\\n\\n@tema:\\n\\n@bl:\\n\\n@txt:\\n\\n@mt:\\n\\n@txt:\\n\\n@mt:\\n\\n@txt:\\n @sitat:\\n\\n@sitatbyline:\\n\\n@fakta:\\n @txt:xx@universitas.no\\n\\n (NB! SELV OM DET KOMMER «WARNING» I PRODSYS NÅR @ STÅR I TEKSTEN, SKAL IKKE EPOSTADRESSE FJERNES. DET ER BARE «ERROR» SOM IKKE LAR DEG LAGRE)\\n\\n\",\"story_type\":2,\"story_type_name\":\"Nyhet\",\"byline_set\":[]},{\"id\":62594,\"url\":\"http://universitas.no/api/stories/62594/\",\"public_url\":\"http://universitas.no/nyheter/62594/\",\"edit_url\":\"http://universitas.no/admin/stories/story/62594/change/\",\"modified\":\"2017-09-03T17:50:42.830916Z\",\"created\":\"2017-09-03T17:49:55.800802Z\",\"working_title\":\"Nyhet 3\",\"publication_status\":100,\"bodytext_markup\":\"3ERSAKER ER SAKENE SOM TAR MINDRE ENN HALVPARTEN AV SIDEN, ELLER DELER SIDE MED 50 % ELLER MER REKLAME.\\n\\nÉNSPALTER: 2000 TEGN (KUN SMÅ FRIMERKEBILDER). TOSPALTER: 3200 TEGN (LIGGENDE BILDE, ELLER FRIMERKEBILDE MED UTHEVET SITAT). HALVSIDER: 2600 – 2800 TEGN (BØR HA STÅENDE BILDE).\\n\\n@tit:KORT TITTEL \\n\\n@ing:\\n\\n@bt:(HUSK KJAPP BILDETEKST TIL FRIMERKEBILDENE OGSÅ. MAKS TI ORD)\\n @temaord:\\n\\n@bl:\\n\\n@txt:\\n\\n@mt:\\n\\n@txt:\\n\\n@mt:\\n @sitat:\\n\\n@sitatbyline:\\n @txt:xx@universitas.no\\n\\nHUSK Å FIKSE FRIMERKEBILDER / PRESSEBILDER AV DE SOM UTTALER SEG I SAKEN OG LEGG DE I NYHETSMAPPA PÅ DESKSERVERN. SKRIV HVEM DET ER I BILDETEKSTEN.\\n\\n(NB! SELV OM DET KOMMER «WARNING» I PRODSYS NÅR @ STÅR I TEKSTEN, SKAL IKKE EPOSTADRESSE FJERNES. DET ER BARE «ERROR» SOM IKKE LAR DEG LAGRE)\\n\",\"story_type\":2,\"story_type_name\":\"Nyhet\",\"byline_set\":[]},{\"id\":62592,\"url\":\"http://universitas.no/api/stories/62592/\",\"public_url\":\"http://universitas.no/side-2/62592/\",\"edit_url\":\"http://universitas.no/admin/stories/story/62592/change/\",\"modified\":\"2017-09-03T17:48:38.644466Z\",\"created\":\"2017-09-03T17:48:23.595836Z\",\"working_title\":\"Kommentar\",\"publication_status\":100,\"bodytext_markup\":\"LENGDE: 3100 – 3200 TEGN\\n\\n@stikktit:\\n\\n@tit:\\n\\n@txt:\\n\\n@sitat:\\n\\n@bt:Illustrasjon:\\n\\n@bl:xx, journalist i Universitas \\n\\n@txt:xx@universitas.no\\n\",\"story_type\":7,\"story_type_name\":\"Kommentar\",\"byline_set\":[]},{\"id\":62591,\"url\":\"http://universitas.no/api/stories/62591/\",\"public_url\":\"http://universitas.no/feature/62591/\",\"edit_url\":\"http://universitas.no/admin/stories/story/62591/change/\",\"modified\":\"2017-09-03T17:48:17.007433Z\",\"created\":\"2017-09-03T17:47:11.165539Z\",\"working_title\":\"Min studietid\",\"publication_status\":100,\"bodytext_markup\":\"FRA 2800 – 2900 TEGN\\n\\n@tit:\\n\\n@ing: [HUSK TABULATOR ]\\nHVEM:\\tnavn\\nSTUDERTE:\\tstudium\\nNÅR:\\t18XX-17XX\\nAKTUELL MED:\\tnoe greier\\n\\n@txt:\\n\\n@sitat:\\n\\n@bl:\\n\\n@txt:\\n\\n@bt:Foto: [kun dersom fotograf ikke er en av våre]\\n\\n\",\"story_type\":14,\"story_type_name\":\"Min studietid\",\"byline_set\":[]},{\"id\":62584,\"url\":\"http://universitas.no/api/stories/62584/\",\"public_url\":\"http://universitas.no/anmeldelser/62584/\",\"edit_url\":\"http://universitas.no/admin/stories/story/62584/change/\",\"modified\":\"2017-09-03T17:47:33.106138Z\",\"created\":\"2017-09-03T17:38:17.694753Z\",\"working_title\":\"Anmeldelse\",\"publication_status\":100,\"bodytext_markup\":\"@li:Verkstittel (TITTEL PÅ VERKET ELLER NAVNET PÅ ARTIST, HVIS DET ER KONSERT)\\n\\n@li:Av: xxx (BRUK TO ELLER TRE FAKTA OM DET SOM ANMELDES)\\nForlag: xxx\\nPlateselskap: xxx\\nScene: xxx\\nRegi: xxx\\nMed: xxx\\nTid: xxx\\n\\n@tit:Tittel på sak (MAKS 20 TEGN MED MELLOMROM) \\n\\n@tema:Sjanger (SKAL VÆRE GENERISK: PLATE, KONSERT, TIDSSKRIFT, UTSTILLING, FILM, ROMAN, SAKPROSA, NOVELLESAMLING, ETC.)\\n\\n@ing:Ingress (BARE PÅ STOR ANMELDELSE.70 TEGN PÅ EN LINJE, 140 PÅ TO)\\n\\n@txt:Brødtekst ( LITEN ANMELDELSE 1500 TEGN, STOR ANMELDELSE: 2200 TEGN)\\n\\n@bt:bildetekst (BARE PÅ STOR ANMELDELSE)\\n\\n@bl:Byline\\n\\n–\\n\\nOBS: TITTEL PÅ PLATER, BØKER OG FILMER SKAL SKRIVES I KURSIV\\nTITTEL PÅ SANGER SKAL SKRIVES I «HERMETEGN» I BRØDTEKSTEN.\\nI FAKTADELEN SKRIVES ALT RETT FRAM UTEN HERMETEGN\\n\",\"story_type\":8,\"story_type_name\":\"Anmeldelse\",\"byline_set\":[]},{\"id\":62590,\"url\":\"http://universitas.no/api/stories/62590/\",\"public_url\":\"http://universitas.no/annet/62590/\",\"edit_url\":\"http://universitas.no/admin/stories/story/62590/change/\",\"modified\":\"2017-09-03T17:47:08.130956Z\",\"created\":\"2017-09-03T17:46:52.396407Z\",\"working_title\":\"Quiz\",\"publication_status\":100,\"bodytext_markup\":\"HUSK Å LEGGE BYLINEBILDE I DEBATTMAPPEN PÅ DESKEN\\n\\n@tit:\\n\\n@bl:\\n\\n@tema:\\n\\n@txt:\\n\",\"story_type\":34,\"story_type_name\":\"Quiz\",\"byline_set\":[]},{\"id\":62582,\"url\":\"http://universitas.no/api/stories/62582/\",\"public_url\":\"http://universitas.no/side-2/62582/\",\"edit_url\":\"http://universitas.no/admin/stories/story/62582/change/\",\"modified\":\"2017-09-03T17:45:48.904406Z\",\"created\":\"2017-09-03T17:30:47.884184Z\",\"working_title\":\"Kommentar\",\"publication_status\":100,\"bodytext_markup\":\"LENGDE: 3100 – 3200 TEGN\\n\\n@stikktit:\\n@tit:\\n@txt:\\n@sitat:\\n@bt:Illustrasjon:\\n@bl:xx, journalist i Universitas \\n\",\"story_type\":7,\"story_type_name\":\"Kommentar\",\"byline_set\":[]},{\"id\":62581,\"url\":\"http://universitas.no/api/stories/62581/\",\"public_url\":\"http://universitas.no/baksiden/62581/\",\"edit_url\":\"http://universitas.no/admin/stories/story/62581/change/\",\"modified\":\"2017-09-03T17:45:37.506553Z\",\"created\":\"2017-09-03T17:29:50.073865Z\",\"working_title\":\"Vi Spør\",\"publication_status\":100,\"bodytext_markup\":\"LENGDE: 3100 – 3200 TEGN\\n\\n@stikktit:\\n@tit:\\n@spm: – spørsmål\\n@txt: – svar\\n\\n@spm: – spørsmål\\n@txt: – svar\\n\\n@spm: – spørsmål\\n@txt: – svar\\n\\n@spm: – spørsmål\\n@txt: – svar\\n\\n@sitat:\\n@bt:Illustrasjon:\\n@bl:xx\",\"story_type\":1,\"story_type_name\":\"Vi spør\",\"byline_set\":[]},{\"id\":62589,\"url\":\"http://universitas.no/api/stories/62589/\",\"public_url\":\"http://universitas.no/side-2/62589/\",\"edit_url\":\"http://universitas.no/admin/stories/story/62589/change/\",\"modified\":\"2017-09-03T17:44:29.204893Z\",\"created\":\"2017-09-03T17:44:15.400334Z\",\"working_title\":\"Leder\",\"publication_status\":100,\"bodytext_markup\":\"2200 TEGN MED ÉN LEDER. CA 2100 TIL SAMMEN MED TO ELLER MED SITAT.\\n\\n@tit:\\n@txt:\\n@sitat:\\n\\n@tit:\\n@txt:\\n\\n\",\"story_type\":11,\"story_type_name\":\"Leder\",\"byline_set\":[]},{\"id\":62588,\"url\":\"http://universitas.no/api/stories/62588/\",\"public_url\":\"http://universitas.no/anmeldelser/62588/\",\"edit_url\":\"http://universitas.no/admin/stories/story/62588/change/\",\"modified\":\"2017-09-03T17:42:30.328837Z\",\"created\":\"2017-09-03T17:42:00.244579Z\",\"working_title\":\"Ukas Advarsel / Anbefaling\",\"publication_status\":100,\"bodytext_markup\":\"@tit: Tittel (OPPTIL 40 TEGN)\\n\\n@li: Hva er det? (ETT ORD)\\n\\n@li: Hvem: xxx\\nHvor: xxx\\nNår:  xxx (fak 1 og fak 2 SKAL VÆRE MAX 70 TEGN TIL SAMMEN)\\n\\n@txt: CIRKA 630 TEGN\\n\\n@bl:xx, journalist i Universitas\\n\\n–  \\nHUSK Å TA BYLINEBILDE OG HUSK Å IKKE VÆRE FOR GENERELL.\\n\\nLAGRES SOM ARITKKELTYPE «TO UTVALGTE», HA MED ORDET «ADVARSEL» ELLER «ANBEFALING» I ARBEIDSTITTELEN.\",\"story_type\":39,\"story_type_name\":\"Ukas Advarsel\",\"byline_set\":[]},{\"id\":62583,\"url\":\"http://universitas.no/api/stories/62583/\",\"public_url\":\"http://universitas.no/baksiden/62583/\",\"edit_url\":\"http://universitas.no/admin/stories/story/62583/change/\",\"modified\":\"2017-09-03T17:41:47.429176Z\",\"created\":\"2017-09-03T17:38:11.695631Z\",\"working_title\":\"Ad Notam\",\"publication_status\":100,\"bodytext_markup\":\"@tit: \\n\\n@mt:\\n\\n@txt:\\n\\n@mt:\\n\\n@txt:\\n\\n@mt:\\n\\n@txt:\\n\\n@mt:\\n\\n@txt:\\n\\n@mt:\\n\\n@txt:\\n\\n@bt:\\n\\n@bt:\\n\\n–\\nETT ELLER TO BILDER I HØYDEFORMAT.\\nMED ETT BILDE: 2500 TEGN (inkl. Mellomrom)\\nMED TO BILDER: 2400 TEGN (inkl. Mellomrom)\",\"story_type\":15,\"story_type_name\":\"Ad Notam\",\"byline_set\":[]},{\"id\":62587,\"url\":\"http://universitas.no/api/stories/62587/\",\"public_url\":\"http://universitas.no/nyheter/62587/\",\"edit_url\":\"http://universitas.no/admin/stories/story/62587/change/\",\"modified\":\"2017-09-03T17:40:35.900638Z\",\"created\":\"2017-09-03T17:38:30.167695Z\",\"working_title\":\"Fem på plassen\",\"publication_status\":100,\"bodytext_markup\":\"@ing:Spørsmål (IKKE LEDENDE!!)\\n\\n@mt:Navn (alder)\\n@txt:skole, fag\\n@txt:MAX 150 TEGN\\n\\n@mt:Navn (alder)\\n@txt:skole, fag\\n@txt:MAX 150 TEGN\\n\\n@mt:Navn (alder)\\n@txt:skole, fag\\n@txt:MAX 150 TEGN\\n\\n@mt:Navn (alder)\\n@txt:skole, fag\\n@txt:MAX 150 TEGN\\n\\n@mt:Navn (alder)\\n@txt:skole, fag\\n@txt:MAX 150 TEGN\\n\\n@mt:Navn (alder)\\n@txt:skole, fag\\n@txt:MAX 150 TEGN\\n\\n\",\"story_type\":40,\"story_type_name\":\"Fem på plassen\",\"byline_set\":[]}]}\n",
    "'''\n",
    "data = json.loads(jsondump)\n",
    "for story in data[\"results\"]:\n",
    "    postdata = {k:story[k] for k in ('publication_status', 'story_type', 'working_title','bodytext_markup')}\n",
    "    postdata = dict(\n",
    "        produsert=story['publication_status'], \n",
    "        arbeidstittel=story['working_title'],\n",
    "        tekst=story['bodytext_markup'],\n",
    "        mappe='news',\n",
    "    )\n",
    "    resp = new_api.new(postdata)\n",
    "    print(resp.status_code, resp.json())"
   ]
  },
  {
   "cell_type": "code",
   "execution_count": 27,
   "metadata": {
    "scrolled": false
   },
   "outputs": [
    {
     "ename": "NameError",
     "evalue": "name 'parser' is not defined",
     "output_type": "error",
     "traceback": [
      "\u001b[0;31m---------------------------------------------------------------------------\u001b[0m",
      "\u001b[0;31mNameError\u001b[0m                                 Traceback (most recent call last)",
      "\u001b[0;32m<ipython-input-27-1c366795f77d>\u001b[0m in \u001b[0;36m<module>\u001b[0;34m()\u001b[0m\n\u001b[1;32m      4\u001b[0m \u001b[0;32mfor\u001b[0m \u001b[0mstory\u001b[0m \u001b[0;32min\u001b[0m \u001b[0mStory\u001b[0m\u001b[0;34m.\u001b[0m\u001b[0mobjects\u001b[0m\u001b[0;34m.\u001b[0m\u001b[0mfilter\u001b[0m\u001b[0;34m(\u001b[0m\u001b[0mpublication_status__lt\u001b[0m\u001b[0;34m=\u001b[0m\u001b[0mStory\u001b[0m\u001b[0;34m.\u001b[0m\u001b[0mSTATUS_PUBLISHED\u001b[0m\u001b[0;34m)\u001b[0m\u001b[0;34m:\u001b[0m\u001b[0;34m\u001b[0m\u001b[0m\n\u001b[1;32m      5\u001b[0m     \u001b[0mdata\u001b[0m \u001b[0;34m=\u001b[0m \u001b[0mold_api\u001b[0m\u001b[0;34m.\u001b[0m\u001b[0mget\u001b[0m\u001b[0;34m(\u001b[0m\u001b[0mstory\u001b[0m\u001b[0;34m.\u001b[0m\u001b[0mpk\u001b[0m\u001b[0;34m)\u001b[0m\u001b[0;34m\u001b[0m\u001b[0m\n\u001b[0;32m----> 6\u001b[0;31m     \u001b[0mcreated\u001b[0m \u001b[0;34m=\u001b[0m \u001b[0mparser\u001b[0m\u001b[0;34m(\u001b[0m\u001b[0mdata\u001b[0m\u001b[0;34m.\u001b[0m\u001b[0mget\u001b[0m\u001b[0;34m(\u001b[0m\u001b[0;34m'dato'\u001b[0m\u001b[0;34m)\u001b[0m\u001b[0;34m)\u001b[0m\u001b[0;34m\u001b[0m\u001b[0m\n\u001b[0m\u001b[1;32m      7\u001b[0m     \u001b[0mmodified\u001b[0m \u001b[0;34m=\u001b[0m \u001b[0mparser\u001b[0m\u001b[0;34m(\u001b[0m\u001b[0mdata\u001b[0m\u001b[0;34m.\u001b[0m\u001b[0mget\u001b[0m\u001b[0;34m(\u001b[0m\u001b[0;34m'version_date'\u001b[0m\u001b[0;34m)\u001b[0m\u001b[0;34m)\u001b[0m\u001b[0;34m\u001b[0m\u001b[0m\n\u001b[1;32m      8\u001b[0m     \u001b[0mstory\u001b[0m\u001b[0;34m.\u001b[0m\u001b[0mcreated\u001b[0m \u001b[0;34m=\u001b[0m \u001b[0mcreated\u001b[0m\u001b[0;34m\u001b[0m\u001b[0m\n",
      "\u001b[0;31mNameError\u001b[0m: name 'parser' is not defined"
     ]
    }
   ],
   "source": [
    "\n",
    "Story._meta.get_field('modified').pre_save = pre_save\n",
    "\n",
    "for story in Story.objects.filter(publication_status__lt=Story.STATUS_PUBLISHED):\n",
    "    data = old_api.get(story.pk)\n",
    "    created = parser(data.get('dato'))\n",
    "    modified = parser(data.get('version_date'))\n",
    "    story.created = created\n",
    "    story.modified = modified\n",
    "    story.publication_status = flags[data.get('flagg')]\n",
    "    story.save(update_fields=['created', 'modified'] )\n",
    "    print(story)\n",
    "    print(created, modified, story.modified, sep='\\n')"
   ]
  },
  {
   "cell_type": "code",
   "execution_count": null,
   "metadata": {
    "collapsed": true
   },
   "outputs": [],
   "source": [
    "import pytz\n",
    "pytz.country_timezones('no')"
   ]
  },
  {
   "cell_type": "code",
   "execution_count": null,
   "metadata": {
    "collapsed": true
   },
   "outputs": [],
   "source": [
    "def get_story_type(prodsys_mappe):\n",
    "    \"\"\" Find correct story type for the story based on legacy label. \"\"\"\n",
    "    try:\n",
    "        story_type = StoryType.objects.filter(prodsys_mappe=prodsys_mappe)[0]\n",
    "    except IndexError:\n",
    "        generic_section, exists = Section.objects.get_or_create(\n",
    "            title='New Section')\n",
    "        story_type = StoryType.objects.create(\n",
    "            prodsys_mappe=prodsys_mappe,\n",
    "            name=\"New Story Type ({label})\".format(label=prodsys_mappe),\n",
    "            section=generic_section,\n",
    "        )\n",
    "    # finally:\n",
    "    return story_type"
   ]
  },
  {
   "cell_type": "code",
   "execution_count": null,
   "metadata": {
    "collapsed": true
   },
   "outputs": [],
   "source": []
  },
  {
   "cell_type": "code",
   "execution_count": null,
   "metadata": {
    "collapsed": true
   },
   "outputs": [],
   "source": [
    "Story.objects.filter(publication_status__lte=1).delete()"
   ]
  },
  {
   "cell_type": "code",
   "execution_count": null,
   "metadata": {
    "collapsed": true,
    "scrolled": false
   },
   "outputs": [],
   "source": [
    "response = api.post(id=23215, data={'arbeidstittel': 'awesome', 'produsert': 0})\n",
    "print(response.request.headers, response.request.body, sep='\\n')\n",
    "print(response.url, response.status_code, response.text)\n",
    "testsak = api.get(23215)\n",
    "print(testsak['arbeidstittel'], testsak['version_no'], testsak['produsert'])"
   ]
  },
  {
   "cell_type": "code",
   "execution_count": null,
   "metadata": {
    "collapsed": true
   },
   "outputs": [],
   "source": [
    "from django.contrib.auth.models import Permission\n",
    "pp = Permission.objects.filter(codename__contains='_story')\n",
    "for p in pp: print(p.codename)jjj"
   ]
  },
  {
   "cell_type": "code",
   "execution_count": null,
   "metadata": {
    "collapsed": true
   },
   "outputs": [],
   "source": [
    "from django.contrib.auth import authenticate\n",
    "create_user = get_user_model().objects.create\n",
    "get_user_model().objects.filter(username='api').delete()\n",
    "api_user = get_user_model().objects.create_user(\n",
    "    username='api',\n",
    "    password='api',\n",
    "    email='api@api.com',\n",
    ")\n",
    "print(api_user)\n",
    "login = authenticate(username='api', password='api')\n",
    "print(login)"
   ]
  },
  {
   "cell_type": "code",
   "execution_count": null,
   "metadata": {
    "collapsed": true
   },
   "outputs": [],
   "source": [
    "from django.contrib.auth import get_user_model\n",
    "\n",
    "def api_user():\n",
    "    User = get_user_model()\n",
    "    try:\n",
    "        user = User.objects.get(username='api')\n",
    "    except User.DoesNotExist:\n",
    "        user = User.objects.create_user(\n",
    "            username='api',\n",
    "            password='api',\n",
    "            email='api@example.com',\n",
    "        )\n",
    "    permissions = list(Permission.objects.filter(codename__contains='_story'))\n",
    "    user.user_permissions.add(*permissions)\n",
    "    for p in permissions:\n",
    "        print(p.codename)\n",
    "    return user\n",
    "\n",
    "api_user()"
   ]
  },
  {
   "cell_type": "code",
   "execution_count": null,
   "metadata": {
    "collapsed": true,
    "scrolled": false
   },
   "outputs": [],
   "source": [
    "saker = api.list()\n",
    "til_web = list(filter(lambda sak: sak['produsert'] == '6', saker))\n",
    "pprint(til_web[7])\n"
   ]
  },
  {
   "cell_type": "code",
   "execution_count": null,
   "metadata": {
    "collapsed": true,
    "scrolled": false
   },
   "outputs": [],
   "source": [
    "pprint(api.get(23194))"
   ]
  },
  {
   "cell_type": "code",
   "execution_count": null,
   "metadata": {
    "collapsed": true
   },
   "outputs": [],
   "source": [
    "def deserialize_story(story):\n",
    "    output = [] \n",
    "    head_tags = [('tit', 'title'),('ing', 'lede'),('tema', 'theme_word'),('stikktit', 'kicker')]\n",
    "    for tag, attr in head_tags:\n",
    "        text = getattr(story, attr)\n",
    "        if text:\n",
    "            output.append(f'@{tag}:{text}')\n",
    "    for bl in story.byline_set.select_related('contributor'):\n",
    "        output.append(str(bl))\n",
    "    output.append(story.bodytext_markup) \n",
    "    for aside in story.asides():\n",
    "        output.append(aside.child.bodytext_markup)\n",
    "    for pullquote in story.pullquotes():\n",
    "        output.append(pullquote.child.bodytext_markup)\n",
    "    return '\\n'.join(output)\n",
    "    \n",
    "story = Story.objects.order_by('?').last()\n",
    "txt1 = deserialize_story(story)\n",
    "prodstory = api.get(story.prodsak_id)\n",
    "txt2 = prodstory.get('tekst')\n",
    "print(story.prodsak_id)\n",
    "print(txt1)\n",
    "print(txt2)"
   ]
  },
  {
   "cell_type": "code",
   "execution_count": null,
   "metadata": {
    "collapsed": true
   },
   "outputs": [],
   "source": [
    "story = Story.objects.get(id=61090)\n",
    "story.images()"
   ]
  },
  {
   "cell_type": "code",
   "execution_count": null,
   "metadata": {
    "collapsed": true
   },
   "outputs": [],
   "source": [
    "imgstories = Story.objects.filter(pk__in=StoryImage.objects.all().values_list('parent_story', flat=True).distinct())\n",
    "imgstories[0].pk\n"
   ]
  }
 ],
 "metadata": {
  "kernelspec": {
   "display_name": "Django Shell-Plus",
   "language": "python",
   "name": "django_extensions"
  },
  "language_info": {
   "codemirror_mode": {
    "name": "ipython",
    "version": 3
   },
   "file_extension": ".py",
   "mimetype": "text/x-python",
   "name": "python",
   "nbconvert_exporter": "python",
   "pygments_lexer": "ipython3",
   "version": "3.6.2"
  }
 },
 "nbformat": 4,
 "nbformat_minor": 2
}
