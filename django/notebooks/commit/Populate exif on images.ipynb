{
 "cells": [
  {
   "cell_type": "markdown",
   "metadata": {},
   "source": [
    "# Populate exif_data and description in ImageFile objects"
   ]
  },
  {
   "cell_type": "code",
   "execution_count": 8,
   "metadata": {},
   "outputs": [
    {
     "name": "stderr",
     "output_type": "stream",
     "text": [
      "/usr/local/lib/python3.6/site-packages/django/db/models/fields/__init__.py:1447: RuntimeWarning: DateTimeField ImageFile.created received a naive datetime (2013-04-01 00:00:00) while time zone support is active.\n",
      "  RuntimeWarning)\n"
     ]
    }
   ],
   "source": [
    "from django.conf import settings\n",
    "from tqdm import tqdm\n",
    "import time\n",
    "\n",
    "images = ImageFile.objects.filter(created__lte='2013-04-01')"
   ]
  },
  {
   "cell_type": "code",
   "execution_count": 9,
   "metadata": {},
   "outputs": [
    {
     "name": "stderr",
     "output_type": "stream",
     "text": [
      "commons-GT7tdL3.jpg           : 100%|██████████| 7/7 [00:00<00:00, 141.48it/s]\n"
     ]
    }
   ],
   "source": [
    "def read_exif_and_add_descriptions(qs):\n",
    "    prog = tqdm(qs, '-'*30)\n",
    "    for item in prog:\n",
    "        save = False\n",
    "        if (item.exif_data, item.description) != (\n",
    "            item.add_exif_from_file(), item.add_description()):\n",
    "            item.save()\n",
    "        \n",
    "        prog.set_description_str(f'{str(item)[:30]:<30}', False)\n",
    "        \n",
    "#images = ImageFile.objects.all()\n",
    "read_exif_and_add_descriptions(images)"
   ]
  },
  {
   "cell_type": "code",
   "execution_count": null,
   "metadata": {},
   "outputs": [],
   "source": []
  }
 ],
 "metadata": {
  "kernelspec": {
   "display_name": "Django Shell-Plus",
   "language": "python",
   "name": "django_extensions"
  },
  "language_info": {
   "codemirror_mode": {
    "name": "ipython",
    "version": 3
   },
   "file_extension": ".py",
   "mimetype": "text/x-python",
   "name": "python",
   "nbconvert_exporter": "python",
   "pygments_lexer": "ipython3",
   "version": "3.6.2"
  }
 },
 "nbformat": 4,
 "nbformat_minor": 2
}
