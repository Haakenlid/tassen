{
 "cells": [
  {
   "cell_type": "code",
   "execution_count": null,
   "metadata": {},
   "outputs": [],
   "source": [
    "from apps.photo import file_operations \n",
    "from django.contrib.postgres.search import TrigramSimilarity\n",
    "import PIL.Image\n",
    "from apps.photo.file_operations import (\n",
    "    pil_image, image_to_fingerprint, image_from_fingerprint\n",
    ")\n",
    "import imagehash"
   ]
  },
  {
   "cell_type": "code",
   "execution_count": null,
   "metadata": {},
   "outputs": [],
   "source": [
    "import IPython\n",
    "import io\n",
    "import base64\n",
    "\n",
    "def as_img_tag(imagefile):\n",
    "    image = pil_image(imagefile.small)\n",
    "    blob = io.BytesIO()\n",
    "    image.save(blob, 'PNG')\n",
    "    data = base64.encodebytes(blob.getvalue()).decode('ascii').replace('\\n', '')\n",
    "    return f'<img style=\"margin: 0\" src=\"data:image/png/;base64,{data}\" >'\n",
    "\n",
    "IPython.display.HTML(as_img_tag(ImageFile.objects.last()))"
   ]
  },
  {
   "cell_type": "code",
   "execution_count": null,
   "metadata": {},
   "outputs": [],
   "source": [
    "sql=\"CREATE INDEX trgm_idx ON photo_imagefile USING GIN (_imagehash gin_trgm_ops);\"\n",
    "from django.db import connections\n",
    "with connections['default'].cursor() as cursor:\n",
    "    cursor.execute(sql)"
   ]
  },
  {
   "cell_type": "code",
   "execution_count": null,
   "metadata": {},
   "outputs": [],
   "source": [
    "for imf in ImageFile.objects.all():\n",
    "    print(imf, imf.imagehashes)"
   ]
  },
  {
   "cell_type": "code",
   "execution_count": null,
   "metadata": {},
   "outputs": [],
   "source": [
    "from statistics import median\n",
    "\n",
    "def get_dupes(qs, ahash, limit):\n",
    "    return qs.annotate(\n",
    "        hash_similar=TrigramSimilarity('_imagehash', str(ahash)),\n",
    "    ).filter(\n",
    "        hash_similar__gt=limit,\n",
    "    ).order_by('-hash_similar')\n",
    "\n",
    "def sort_dupes(dupes, master_hashes, n=3):\n",
    "    diff_pk = []\n",
    "    for dupe in dupes[:10]:\n",
    "        diffs = [val - master_hashes[key] for key, val in dupe.imagehashes.items()]\n",
    "        diff = median(sorted(diffs)[:3])\n",
    "        if diff < 10: \n",
    "            diff_pk.append((diff, dupe.pk))\n",
    "    if not diff_pk:\n",
    "        return dupes.none()\n",
    "    diff_pk.sort()\n",
    "    best = diff_pk[0][0] + 0.1\n",
    "    return dupes.filter(pk__in=[pk for diff, pk in diff_pk if diff / best < 1.5][:n])\n",
    "\n",
    "def imagehash_search(qs, master):\n",
    "    master_hashes = file_operations.get_imagehashes(master)\n",
    "    dupes = get_dupes(qs, master_hashes['ahash'], 0.1)\n",
    "    dupes = sort_dupes(dupes, master_hashes)\n",
    "    return dupes\n",
    "    "
   ]
  },
  {
   "cell_type": "code",
   "execution_count": null,
   "metadata": {
    "scrolled": false
   },
   "outputs": [],
   "source": [
    "def show_dupes(n=5):\n",
    "    html = ''\n",
    "    for photo in ImageFile.objects.order_by('?')[:n]:\n",
    "        img = image_from_fingerprint(image_to_fingerprint(pil_image(photo.small)))\n",
    "        results = imagehash_search(ImageFile.objects.all(), img)\n",
    "        html += f'<h2>{photo}</h2>'\n",
    "        html += f'<div style=\"display:flex; align-items: flex-start\">'\n",
    "        html += as_img_tag(photo)\n",
    "        html += ''.join(as_img_tag(im) for im in results)\n",
    "        html += f'</div>'\n",
    "            \n",
    "    return HTML(html)\n",
    "show_dupes(50)"
   ]
  },
  {
   "cell_type": "code",
   "execution_count": null,
   "metadata": {},
   "outputs": [],
   "source": [
    "qs = ImageFile.objects.all()\n",
    "photo = qs.order_by('?').first()\n",
    "master = photo.small\n",
    "master_hashes = file_operations.get_imagehashes(master)\n",
    "%timeit dupes = get_dupes(qs, master_hashes['ahash'], 0.1)\n",
    "sort_dupes(dupes, master_hashes)"
   ]
  },
  {
   "cell_type": "code",
   "execution_count": null,
   "metadata": {},
   "outputs": [],
   "source": []
  }
 ],
 "metadata": {
  "kernelspec": {
   "display_name": "Django Shell-Plus",
   "language": "python",
   "name": "django_extensions"
  },
  "language_info": {
   "codemirror_mode": {
    "name": "ipython",
    "version": 3
   },
   "file_extension": ".py",
   "mimetype": "text/x-python",
   "name": "python",
   "nbconvert_exporter": "python",
   "pygments_lexer": "ipython3",
   "version": "3.6.7"
  }
 },
 "nbformat": 4,
 "nbformat_minor": 2
}
