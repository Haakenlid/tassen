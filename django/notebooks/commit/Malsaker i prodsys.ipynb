{
 "cells": [
  {
   "cell_type": "code",
   "execution_count": 42,
   "metadata": {
    "scrolled": false
   },
   "outputs": [
    {
     "name": "stdout",
     "output_type": "stream",
     "text": [
      "Nyhet 1\n",
      "<Story: (Nyhet 1)>\n",
      "Kultur 1\n",
      "<Story: (Kultur 1)>\n",
      "Anmeldelse\n",
      "<Story: (Anmeldelse)>\n",
      "Vi Spør\n",
      "<Story: (Vi Spør)>\n",
      "Ukas Advarsel / Anbefaling\n",
      "<Story: (Ukas Advarsel / Anbefaling)>\n"
     ]
    }
   ],
   "source": [
    "import json, pprint\n",
    "jsondump = r'''\n",
    "{\"count\":16,\"next\":null,\"previous\":null,\"results\":[{\"id\":62586,\"url\":\"http://universitas.no/api/stories/62586/\",\"public_url\":\"http://universitas.no/nyheter/62586/\",\"edit_url\":\"http://universitas.no/admin/stories/story/62586/change/\",\"modified\":\"2017-09-03T17:52:48.007466Z\",\"created\":\"2017-09-03T17:38:25.595855Z\",\"working_title\":\"Nyhet 1\",\"publication_status\":100,\"bodytext_markup\":\"1ER-SAKER ER SAKENE SOM PRIORITERES PÅ EN DOBBELTSIDE. DE ER ALLTID AVHENGIGE AV AT BILDET, ELLER ILLUSTRASJONEN ER BRA.\\nSIDE 4-5: UTEN ANDRE SAKER: 4000 TEGN I HOVEDSAK, CA 1900 I UNDERSAK. MED ÉNSPALTER: 4000 – 4200. MED 2-SPALTER: 3800 – 4000. MED 3-SPALTER: CA 3800 TEGN. 8-SPALTER MED HEMS: CA 4300 TEGN. DOBBELTSIDE: MAKS 4200 TEGN I HOVEDSAK, CA 1900 I UNDERSAK. NB: MAKS 4200 TEGN I HOVEDSAKEN. BRUK UNDERSAK OM SAKEN SKAL VÆRE LENGRE ENN DETTE (MAKS 1900 TEGN).\\n\\n@stikktit:(PRØV Å UNNGÅ STIKKTITLER – STIKKTITLER ER SOM STØTTEHJUL!)\\n\\n@tit: \\n\\n@ing: \\n\\n@li:INGRESS1:\\n\\n@li:INGRESS2:\\n@bt:\\n\\n@bt:\\n\\n@tema:\\n\\n@bl:\\n\\n@txt:\\n\\n@mt:\\n\\n@txt:\\n\\n@mt:\\n\\n@txt:\\n\\n@sitat:\\n@sitatbyline:\\n\\n@fakta:\\n\\n@tit:(undersak)\\n\\n@txt:(IKKE INGRESS I UNDERSAK)\\n\",\"story_type\":2,\"story_type_name\":\"Nyhet\",\"byline_set\":[]},{\"id\":62596,\"url\":\"http://universitas.no/api/stories/62596/\",\"public_url\":\"http://universitas.no/kultur/62596/\",\"edit_url\":\"http://universitas.no/admin/stories/story/62596/change/\",\"modified\":\"2017-09-03T17:51:59.431198Z\",\"created\":\"2017-09-03T17:51:03.661346Z\",\"working_title\":\"Kultur 3\",\"publication_status\":100,\"bodytext_markup\":\"3ERSAKENE PÅ KULTUR ER SAKENE SOM TAR 50 % ELLER MINDRE AV PLASSEN PÅ EN SIDE, ELLER DOBBELTSIDE.\\n2-SPALTER MED HEMS: CA 2800 TEGN. 3-SPALTER MED HEMS: CA 3500 TEGN (MÅ HA FOTOLØSNING). ÉNSPALTER UTEN HEMS: MAKS 2000 TEGN. HALVSIDE: 2600 – 2800 TEGN (MED STÅENDE BILDE). \\n\\n@tit:\\n\\n@ing:\\n\\n@bt:(SKRIV TI ORD TIL HVERT AV FRIMERKEBILDENE)\\n\\n@bt:\\n\\n@bl:\\n\\n@txt:Temaord:\\n\\n@mt:\\n\\n@txt:\\n\\n@mt:\\n\\n@txt:\\n\\n@sitat:\\n\\n@sitatbyline:\\n\\n@txt:xx@universitas.no\\n\\n(LEGG ALLTID INN ETT ELLER TO FRIMERKEBILDER / TRYNEBILDER AV DE SOM UTTALER SEG I SAKEN).\\n\\n(NB! SELV OM DET KOMMER «WARNING» I PRODSYS NÅR @ STÅR I TEKSTEN, SKAL IKKE EPOSTADRESSE FJERNES. DET ER BARE «ERROR» SOM IKKE LAR DEG LAGRE)\",\"story_type\":10,\"story_type_name\":\"Kultur\",\"byline_set\":[]},{\"id\":62595,\"url\":\"http://universitas.no/api/stories/62595/\",\"public_url\":\"http://universitas.no/kultur/62595/\",\"edit_url\":\"http://universitas.no/admin/stories/story/62595/change/\",\"modified\":\"2017-09-03T17:51:49.222941Z\",\"created\":\"2017-09-03T17:50:57.659416Z\",\"working_title\":\"Kultur 2\",\"publication_status\":100,\"bodytext_markup\":\"2ERSAKENE PÅ KULTUR ER SAKENE SOM TAR MEST PLASS PÅ EN SIDE, ELLER TAT HELE SIDEN ALENE. SOM ALLTID: VELDIG AVHENGIG AV BRA FOTOLØSNING, KUL ILLUSTRASJON ELLER GRAFIKK.\\nMED HEMS ELLER FEM PÅ PLASSEN: 2800 – 3000 TEGN. MED ÉNSPALTER: MAKS 3400. HELE SIDEN: MAKS 3800 TEGN.\\n\\n@tit:\\n\\n@ing:\\n\\n@bt:\\n\\n@bt:\\n\\n@bl:\\n\\n@txt:Temaord:\\n\\n@mt:\\n\\n@txt:\\n\\n@mt:\\n\\n@txt:\\n\\n@sitat:\\n\\n@sitatbyline:\\n\\n@fakta:\\n\\n@txt:xx@universitas.no\\n\\n(NB! SELV OM DET KOMMER «WARNING» I PRODSYS NÅR @ STÅR I TEKSTEN, SKAL IKKE EPOSTADRESSE FJERNES. DET ER BARE «ERROR» SOM IKKE LAR DEG LAGRE)\\n\",\"story_type\":10,\"story_type_name\":\"Kultur\",\"byline_set\":[]},{\"id\":62585,\"url\":\"http://universitas.no/api/stories/62585/\",\"public_url\":\"http://universitas.no/kultur/62585/\",\"edit_url\":\"http://universitas.no/admin/stories/story/62585/change/\",\"modified\":\"2017-09-03T17:51:30.259825Z\",\"created\":\"2017-09-03T17:38:21.380213Z\",\"working_title\":\"Kultur 1\",\"publication_status\":100,\"bodytext_markup\":\"1ERSAKENE TAR MER ENN 50 % PÅ EN DOBBELTSIDE. PÅ KULTUR KREVER DE MEGET GODE BILDER OG TEKSTLENGDE VARIERER VELDIG I FORHOLD TIL HVOR GODE BILDENE, GRAFIKKEN, ELLER ILLUSTRASJONEN ER.\\nINNGANGSSIDE / DOBBELTSIDE MED HEMS: 7-SPALTER: 4500 – 4800 TEGN. 8-SPALTER: 4500 – 5000 TEGN. DOBBELTSIDE: 5000 – 6500 (VELDIG BILDEAVHENGIG).\\n\\n@tit:\\n\\n@ing:\\n\\n@bt:\\n\\n@bt:\\n\\n@bl:\\n\\n@txt:Temaord:\\n\\n@mt:\\n\\n@txt:\\n\\n@mt:\\n\\n@txt:\\n\\n@sitat:\\n\\n@sitatbyline:\\n\\n@fakta:\\n\\n@txt:xx@universitas.no\\n\\n(NB! SELV OM DET KOMMER «WARNING» I PRODSYS NÅR @ STÅR I TEKSTEN, SKAL IKKE EPOSTADRESSE FJERNES. DET ER BARE «ERROR» SOM IKKE LAR DEG LAGRE)\",\"story_type\":10,\"story_type_name\":\"Kultur\",\"byline_set\":[]},{\"id\":62593,\"url\":\"http://universitas.no/api/stories/62593/\",\"public_url\":\"http://universitas.no/nyheter/62593/\",\"edit_url\":\"http://universitas.no/admin/stories/story/62593/change/\",\"modified\":\"2017-09-03T17:50:46.527147Z\",\"created\":\"2017-09-03T17:49:28.622573Z\",\"working_title\":\"Nyhet 2\",\"publication_status\":100,\"bodytext_markup\":\"2ER-SAKER ER SAKENE SOM TAR HELE ELLER MER ENN 50 % AV EN ENKELTSIDE. BILDE ELLER ILLUSTRASJON MÅ VÆRE TIPP TOPP.\\nHELE SIDEN: 3500 – 4000 TEGN. MED ÉNSPALTER, FEM PÅ PLASSEN, ELLER HEMS: 3000 – 3500 TEGN.\\n\\n@stikktit:(PRØV Å UNNGÅ STIKKTITLER – STIKKTITLER ER SOM STØTTEHJUL!)\\n\\n@tit:\\n\\n@ing: \\n @bt:\\n\\n@bt:\\n\\n@tema:\\n\\n@bl:\\n\\n@txt:\\n\\n@mt:\\n\\n@txt:\\n\\n@mt:\\n\\n@txt:\\n @sitat:\\n\\n@sitatbyline:\\n\\n@fakta:\\n @txt:xx@universitas.no\\n\\n (NB! SELV OM DET KOMMER «WARNING» I PRODSYS NÅR @ STÅR I TEKSTEN, SKAL IKKE EPOSTADRESSE FJERNES. DET ER BARE «ERROR» SOM IKKE LAR DEG LAGRE)\\n\\n\",\"story_type\":2,\"story_type_name\":\"Nyhet\",\"byline_set\":[]},{\"id\":62594,\"url\":\"http://universitas.no/api/stories/62594/\",\"public_url\":\"http://universitas.no/nyheter/62594/\",\"edit_url\":\"http://universitas.no/admin/stories/story/62594/change/\",\"modified\":\"2017-09-03T17:50:42.830916Z\",\"created\":\"2017-09-03T17:49:55.800802Z\",\"working_title\":\"Nyhet 3\",\"publication_status\":100,\"bodytext_markup\":\"3ERSAKER ER SAKENE SOM TAR MINDRE ENN HALVPARTEN AV SIDEN, ELLER DELER SIDE MED 50 % ELLER MER REKLAME.\\n\\nÉNSPALTER: 2000 TEGN (KUN SMÅ FRIMERKEBILDER). TOSPALTER: 3200 TEGN (LIGGENDE BILDE, ELLER FRIMERKEBILDE MED UTHEVET SITAT). HALVSIDER: 2600 – 2800 TEGN (BØR HA STÅENDE BILDE).\\n\\n@tit:KORT TITTEL \\n\\n@ing:\\n\\n@bt:(HUSK KJAPP BILDETEKST TIL FRIMERKEBILDENE OGSÅ. MAKS TI ORD)\\n @temaord:\\n\\n@bl:\\n\\n@txt:\\n\\n@mt:\\n\\n@txt:\\n\\n@mt:\\n @sitat:\\n\\n@sitatbyline:\\n @txt:xx@universitas.no\\n\\nHUSK Å FIKSE FRIMERKEBILDER / PRESSEBILDER AV DE SOM UTTALER SEG I SAKEN OG LEGG DE I NYHETSMAPPA PÅ DESKSERVERN. SKRIV HVEM DET ER I BILDETEKSTEN.\\n\\n(NB! SELV OM DET KOMMER «WARNING» I PRODSYS NÅR @ STÅR I TEKSTEN, SKAL IKKE EPOSTADRESSE FJERNES. DET ER BARE «ERROR» SOM IKKE LAR DEG LAGRE)\\n\",\"story_type\":2,\"story_type_name\":\"Nyhet\",\"byline_set\":[]},{\"id\":62592,\"url\":\"http://universitas.no/api/stories/62592/\",\"public_url\":\"http://universitas.no/side-2/62592/\",\"edit_url\":\"http://universitas.no/admin/stories/story/62592/change/\",\"modified\":\"2017-09-03T17:48:38.644466Z\",\"created\":\"2017-09-03T17:48:23.595836Z\",\"working_title\":\"Kommentar\",\"publication_status\":100,\"bodytext_markup\":\"LENGDE: 3100 – 3200 TEGN\\n\\n@stikktit:\\n\\n@tit:\\n\\n@txt:\\n\\n@sitat:\\n\\n@bt:Illustrasjon:\\n\\n@bl:xx, journalist i Universitas \\n\\n@txt:xx@universitas.no\\n\",\"story_type\":7,\"story_type_name\":\"Kommentar\",\"byline_set\":[]},{\"id\":62591,\"url\":\"http://universitas.no/api/stories/62591/\",\"public_url\":\"http://universitas.no/feature/62591/\",\"edit_url\":\"http://universitas.no/admin/stories/story/62591/change/\",\"modified\":\"2017-09-03T17:48:17.007433Z\",\"created\":\"2017-09-03T17:47:11.165539Z\",\"working_title\":\"Min studietid\",\"publication_status\":100,\"bodytext_markup\":\"FRA 2800 – 2900 TEGN\\n\\n@tit:\\n\\n@ing: [HUSK TABULATOR ]\\nHVEM:\\tnavn\\nSTUDERTE:\\tstudium\\nNÅR:\\t18XX-17XX\\nAKTUELL MED:\\tnoe greier\\n\\n@txt:\\n\\n@sitat:\\n\\n@bl:\\n\\n@txt:\\n\\n@bt:Foto: [kun dersom fotograf ikke er en av våre]\\n\\n\",\"story_type\":14,\"story_type_name\":\"Min studietid\",\"byline_set\":[]},{\"id\":62584,\"url\":\"http://universitas.no/api/stories/62584/\",\"public_url\":\"http://universitas.no/anmeldelser/62584/\",\"edit_url\":\"http://universitas.no/admin/stories/story/62584/change/\",\"modified\":\"2017-09-03T17:47:33.106138Z\",\"created\":\"2017-09-03T17:38:17.694753Z\",\"working_title\":\"Anmeldelse\",\"publication_status\":100,\"bodytext_markup\":\"@li:Verkstittel (TITTEL PÅ VERKET ELLER NAVNET PÅ ARTIST, HVIS DET ER KONSERT)\\n\\n@li:Av: xxx (BRUK TO ELLER TRE FAKTA OM DET SOM ANMELDES)\\nForlag: xxx\\nPlateselskap: xxx\\nScene: xxx\\nRegi: xxx\\nMed: xxx\\nTid: xxx\\n\\n@tit:Tittel på sak (MAKS 20 TEGN MED MELLOMROM) \\n\\n@tema:Sjanger (SKAL VÆRE GENERISK: PLATE, KONSERT, TIDSSKRIFT, UTSTILLING, FILM, ROMAN, SAKPROSA, NOVELLESAMLING, ETC.)\\n\\n@ing:Ingress (BARE PÅ STOR ANMELDELSE.70 TEGN PÅ EN LINJE, 140 PÅ TO)\\n\\n@txt:Brødtekst ( LITEN ANMELDELSE 1500 TEGN, STOR ANMELDELSE: 2200 TEGN)\\n\\n@bt:bildetekst (BARE PÅ STOR ANMELDELSE)\\n\\n@bl:Byline\\n\\n–\\n\\nOBS: TITTEL PÅ PLATER, BØKER OG FILMER SKAL SKRIVES I KURSIV\\nTITTEL PÅ SANGER SKAL SKRIVES I «HERMETEGN» I BRØDTEKSTEN.\\nI FAKTADELEN SKRIVES ALT RETT FRAM UTEN HERMETEGN\\n\",\"story_type\":8,\"story_type_name\":\"Anmeldelse\",\"byline_set\":[]},{\"id\":62590,\"url\":\"http://universitas.no/api/stories/62590/\",\"public_url\":\"http://universitas.no/annet/62590/\",\"edit_url\":\"http://universitas.no/admin/stories/story/62590/change/\",\"modified\":\"2017-09-03T17:47:08.130956Z\",\"created\":\"2017-09-03T17:46:52.396407Z\",\"working_title\":\"Quiz\",\"publication_status\":100,\"bodytext_markup\":\"HUSK Å LEGGE BYLINEBILDE I DEBATTMAPPEN PÅ DESKEN\\n\\n@tit:\\n\\n@bl:\\n\\n@tema:\\n\\n@txt:\\n\",\"story_type\":34,\"story_type_name\":\"Quiz\",\"byline_set\":[]},{\"id\":62582,\"url\":\"http://universitas.no/api/stories/62582/\",\"public_url\":\"http://universitas.no/side-2/62582/\",\"edit_url\":\"http://universitas.no/admin/stories/story/62582/change/\",\"modified\":\"2017-09-03T17:45:48.904406Z\",\"created\":\"2017-09-03T17:30:47.884184Z\",\"working_title\":\"Kommentar\",\"publication_status\":100,\"bodytext_markup\":\"LENGDE: 3100 – 3200 TEGN\\n\\n@stikktit:\\n@tit:\\n@txt:\\n@sitat:\\n@bt:Illustrasjon:\\n@bl:xx, journalist i Universitas \\n\",\"story_type\":7,\"story_type_name\":\"Kommentar\",\"byline_set\":[]},{\"id\":62581,\"url\":\"http://universitas.no/api/stories/62581/\",\"public_url\":\"http://universitas.no/baksiden/62581/\",\"edit_url\":\"http://universitas.no/admin/stories/story/62581/change/\",\"modified\":\"2017-09-03T17:45:37.506553Z\",\"created\":\"2017-09-03T17:29:50.073865Z\",\"working_title\":\"Vi Spør\",\"publication_status\":100,\"bodytext_markup\":\"LENGDE: 3100 – 3200 TEGN\\n\\n@stikktit:\\n@tit:\\n@spm: – spørsmål\\n@txt: – svar\\n\\n@spm: – spørsmål\\n@txt: – svar\\n\\n@spm: – spørsmål\\n@txt: – svar\\n\\n@spm: – spørsmål\\n@txt: – svar\\n\\n@sitat:\\n@bt:Illustrasjon:\\n@bl:xx\",\"story_type\":1,\"story_type_name\":\"Vi spør\",\"byline_set\":[]},{\"id\":62589,\"url\":\"http://universitas.no/api/stories/62589/\",\"public_url\":\"http://universitas.no/side-2/62589/\",\"edit_url\":\"http://universitas.no/admin/stories/story/62589/change/\",\"modified\":\"2017-09-03T17:44:29.204893Z\",\"created\":\"2017-09-03T17:44:15.400334Z\",\"working_title\":\"Leder\",\"publication_status\":100,\"bodytext_markup\":\"2200 TEGN MED ÉN LEDER. CA 2100 TIL SAMMEN MED TO ELLER MED SITAT.\\n\\n@tit:\\n@txt:\\n@sitat:\\n\\n@tit:\\n@txt:\\n\\n\",\"story_type\":11,\"story_type_name\":\"Leder\",\"byline_set\":[]},{\"id\":62588,\"url\":\"http://universitas.no/api/stories/62588/\",\"public_url\":\"http://universitas.no/anmeldelser/62588/\",\"edit_url\":\"http://universitas.no/admin/stories/story/62588/change/\",\"modified\":\"2017-09-03T17:42:30.328837Z\",\"created\":\"2017-09-03T17:42:00.244579Z\",\"working_title\":\"Ukas Advarsel / Anbefaling\",\"publication_status\":100,\"bodytext_markup\":\"@tit: Tittel (OPPTIL 40 TEGN)\\n\\n@li: Hva er det? (ETT ORD)\\n\\n@li: Hvem: xxx\\nHvor: xxx\\nNår:  xxx (fak 1 og fak 2 SKAL VÆRE MAX 70 TEGN TIL SAMMEN)\\n\\n@txt: CIRKA 630 TEGN\\n\\n@bl:xx, journalist i Universitas\\n\\n–  \\nHUSK Å TA BYLINEBILDE OG HUSK Å IKKE VÆRE FOR GENERELL.\\n\\nLAGRES SOM ARITKKELTYPE «TO UTVALGTE», HA MED ORDET «ADVARSEL» ELLER «ANBEFALING» I ARBEIDSTITTELEN.\",\"story_type\":39,\"story_type_name\":\"Ukas Advarsel\",\"byline_set\":[]},{\"id\":62583,\"url\":\"http://universitas.no/api/stories/62583/\",\"public_url\":\"http://universitas.no/baksiden/62583/\",\"edit_url\":\"http://universitas.no/admin/stories/story/62583/change/\",\"modified\":\"2017-09-03T17:41:47.429176Z\",\"created\":\"2017-09-03T17:38:11.695631Z\",\"working_title\":\"Ad Notam\",\"publication_status\":100,\"bodytext_markup\":\"@tit: \\n\\n@mt:\\n\\n@txt:\\n\\n@mt:\\n\\n@txt:\\n\\n@mt:\\n\\n@txt:\\n\\n@mt:\\n\\n@txt:\\n\\n@mt:\\n\\n@txt:\\n\\n@bt:\\n\\n@bt:\\n\\n–\\nETT ELLER TO BILDER I HØYDEFORMAT.\\nMED ETT BILDE: 2500 TEGN (inkl. Mellomrom)\\nMED TO BILDER: 2400 TEGN (inkl. Mellomrom)\",\"story_type\":15,\"story_type_name\":\"Ad Notam\",\"byline_set\":[]},{\"id\":62587,\"url\":\"http://universitas.no/api/stories/62587/\",\"public_url\":\"http://universitas.no/nyheter/62587/\",\"edit_url\":\"http://universitas.no/admin/stories/story/62587/change/\",\"modified\":\"2017-09-03T17:40:35.900638Z\",\"created\":\"2017-09-03T17:38:30.167695Z\",\"working_title\":\"Fem på plassen\",\"publication_status\":100,\"bodytext_markup\":\"@ing:Spørsmål (IKKE LEDENDE!!)\\n\\n@mt:Navn (alder)\\n@txt:skole, fag\\n@txt:MAX 150 TEGN\\n\\n@mt:Navn (alder)\\n@txt:skole, fag\\n@txt:MAX 150 TEGN\\n\\n@mt:Navn (alder)\\n@txt:skole, fag\\n@txt:MAX 150 TEGN\\n\\n@mt:Navn (alder)\\n@txt:skole, fag\\n@txt:MAX 150 TEGN\\n\\n@mt:Navn (alder)\\n@txt:skole, fag\\n@txt:MAX 150 TEGN\\n\\n@mt:Navn (alder)\\n@txt:skole, fag\\n@txt:MAX 150 TEGN\\n\\n\",\"story_type\":40,\"story_type_name\":\"Fem på plassen\",\"byline_set\":[]}]}\n",
    "'''\n",
    "data = json.loads(jsondump)\n",
    "stories = data['results']\n",
    "\n",
    "for story in stories: \n",
    "    pk = int(story.get('id'))\n",
    "    title = story.get('working_title')\n",
    "    dbstory = Story.objects.filter(working_title=title, publication_status=Story.STATUS_TEMPLATE).first()\n",
    "    if dbstory :\n",
    "        if dbstory.publication_status == Story.STATUS_TEMPLATE:\n",
    "            continue\n",
    "        else:\n",
    "            print(dbstory.get_publication_status_display())\n",
    "            print(dbstory.working_title)\n",
    "\n",
    "#    print(title, pk )\n",
    "\n",
    "for story in (s for s in stories if s['id'] in [62586, 62585, 62581, 62584, 62588]):\n",
    "    print(story['working_title'])\n",
    "    s = Story( \n",
    "        story_type = StoryType.objects.get(pk=story.get('story_type')),\n",
    "        working_title = story.get('working_title'),\n",
    "        bodytext_markup = story.get('bodytext_markup'),\n",
    "        publication_status = Story.STATUS_TEMPLATE,\n",
    "    )\n",
    "    pprint.pprint(s)\n",
    "    s.save()"
   ]
  }
 ],
 "metadata": {
  "kernelspec": {
   "display_name": "Django Shell-Plus",
   "language": "python",
   "name": "django_extensions"
  },
  "language_info": {
   "codemirror_mode": {
    "name": "ipython",
    "version": 3
   },
   "file_extension": ".py",
   "mimetype": "text/x-python",
   "name": "python",
   "nbconvert_exporter": "python",
   "pygments_lexer": "ipython3",
   "version": "3.6.2"
  }
 },
 "nbformat": 4,
 "nbformat_minor": 2
}
