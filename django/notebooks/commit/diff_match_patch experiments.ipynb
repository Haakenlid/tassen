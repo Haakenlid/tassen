{
 "cells": [
  {
   "cell_type": "code",
   "execution_count": 79,
   "metadata": {
    "collapsed": true
   },
   "outputs": [],
   "source": [
    "import diff_match_patch\n",
    "from IPython import display"
   ]
  },
  {
   "cell_type": "code",
   "execution_count": 80,
   "metadata": {
    "collapsed": true
   },
   "outputs": [],
   "source": [
    "old_string = \"\"\"I'm selfish, impatient and a little insecure. I make mistakes,\n",
    "I am out of control and at times hard to handle. But if you can't handle me at my worst,\n",
    "then you sure as hell don't deserve me at my best.\"\"\"\n",
    "\n",
    "new_string = \"\"\"I'm selfish, impatient and a little secure. I don't make mistakes,\n",
    "I am out of control and at times hard to handle difficult things. But if you can't handle me at my worst,\n",
    "then you sure as hell don't deserve me at my best.\"\"\"\n"
   ]
  },
  {
   "cell_type": "markdown",
   "metadata": {},
   "source": [
    "# Introduction\n",
    "\n",
    "This library is available in multiple languages. Regardless of the language used, the interface for using it is the same. This page describes the API for the public functions. For further examples, see the relevant test harness.\n",
    "\n",
    "## Initialization\n",
    "\n",
    "The first step is to create a new diff_match_patch object. This object contains various properties which set the behaviour of the algorithms, as well as the following methods/functions:\n",
    "\n",
    "    diff_main(text1, text2) => diffs"
   ]
  },
  {
   "cell_type": "markdown",
   "metadata": {},
   "source": [
    "An array of differences is computed which describe the transformation of text1 into text2. Each difference is an array (JavaScript, Lua) or tuple (Python) or Diff object (C++, C#, Objective C, Java). The first element specifies if it is an insertion (1), a deletion (-1) or an equality (0). The second element specifies the affected text.\n",
    "\n",
    "    diff_main(\"Good dog\", \"Bad dog\") => [(-1, \"Goo\"), (1, \"Ba\"), (0, \"d dog\")]\n",
    "\n",
    "Despite the large number of optimisations used in this function, diff can take a while to compute. The diff_match_patch.Diff_Timeout property is available to set how many seconds any diff's exploration phase may take. The default value is 1.0. A value of 0 disables the timeout and lets diff run until completion. Should diff timeout, the return value will still be a valid difference, though probably non-optimal.\n"
   ]
  },
  {
   "cell_type": "code",
   "execution_count": 83,
   "metadata": {},
   "outputs": [
    {
     "data": {
      "text/plain": [
       "[(0, \"I'm selfish, impatient and a little \"),\n",
       " (-1, 'in'),\n",
       " (0, 'secure. I'),\n",
       " (1, \" don't\"),\n",
       " (0, ' make mistakes,\\nI am out of control and at times hard to handle'),\n",
       " (1, ' difficult things'),\n",
       " (0,\n",
       "  \". But if you can't handle me at my worst,\\nthen you sure as hell don't deserve me at my best.\")]"
      ]
     },
     "execution_count": 83,
     "metadata": {},
     "output_type": "execute_result"
    }
   ],
   "source": [
    "df = diff_match_patch.diff_match_patch()\n",
    "diffs = df.diff_main(old_string, new_string)\n",
    "diffs"
   ]
  },
  {
   "cell_type": "markdown",
   "metadata": {},
   "source": [
    "    diff_cleanupSemantic(diffs) => null\n",
    "\n",
    "A diff of two unrelated texts can be filled with coincidental matches. For example, the diff of \"mouse\" and \"sofas\" is [(-1, \"m\"), (1, \"s\"), (0, \"o\"), (-1, \"u\"), (1, \"fa\"), (0, \"s\"), (-1, \"e\")]. While this is the optimum diff, it is difficult for humans to understand. Semantic cleanup rewrites the diff, expanding it into a more intelligible format. The above example would become: [(-1, \"mouse\"), (1, \"sofas\")]. If a diff is to be human-readable, it should be passed to diff_cleanupSemantic.\n",
    "    \n",
    "    diff_cleanupEfficiency(diffs) => null\n",
    "\n",
    "This function is similar to diff_cleanupSemantic, except that instead of optimising a diff to be human-readable, it optimises the diff to be efficient for machine processing. The results of both cleanup types are often the same.\n",
    "The efficiency cleanup is based on the observation that a diff made up of large numbers of small diffs edits may take longer to process (in downstream applications) or take more capacity to store or transmit than a smaller number of larger diffs. The diff_match_patch.Diff_EditCost property sets what the cost of handling a new edit is in terms of handling extra characters in an existing edit. The default value is 4, which means if expanding the length of a diff by three characters can eliminate one edit, then that optimisation will reduce the total costs."
   ]
  },
  {
   "cell_type": "code",
   "execution_count": 31,
   "metadata": {},
   "outputs": [
    {
     "data": {
      "text/plain": [
       "[(0, \"I'm selfish, impatient and a little \"),\n",
       " (-1, 'in'),\n",
       " (0, 'secure. I '),\n",
       " (1, \"don't \"),\n",
       " (0, 'make mistakes,\\nI am out of control and at times hard to handle'),\n",
       " (1, ' difficult things'),\n",
       " (0,\n",
       "  \". But if you can't handle me at my worst,\\nthen you sure as hell don't deserve me at my best.\")]"
      ]
     },
     "execution_count": 31,
     "metadata": {},
     "output_type": "execute_result"
    }
   ],
   "source": [
    "df.diff_cleanupSemantic(diffs)\n",
    "diffs"
   ]
  },
  {
   "cell_type": "code",
   "execution_count": 32,
   "metadata": {},
   "outputs": [
    {
     "data": {
      "text/plain": [
       "[(0, \"I'm selfish, impatient and a little \"),\n",
       " (-1, 'in'),\n",
       " (0, 'secure. I '),\n",
       " (1, \"don't \"),\n",
       " (0, 'make mistakes,\\nI am out of control and at times hard to handle'),\n",
       " (1, ' difficult things'),\n",
       " (0,\n",
       "  \". But if you can't handle me at my worst,\\nthen you sure as hell don't deserve me at my best.\")]"
      ]
     },
     "execution_count": 32,
     "metadata": {},
     "output_type": "execute_result"
    }
   ],
   "source": [
    "df.diff_cleanupEfficiency(diffs)\n",
    "diffs"
   ]
  },
  {
   "cell_type": "markdown",
   "metadata": {},
   "source": [
    "    diff_levenshtein(diffs) => int\n",
    "\n",
    "Given a diff, measure its Levenshtein distance in terms of the number of inserted, deleted or substituted characters. The minimum distance is 0 which means equality, the maximum distance is the length of the longer string.\n",
    "    \n",
    "    diff_prettyHtml(diffs) => html\n",
    "    \n",
    "Takes a diff array and returns a pretty HTML sequence. This function is mainly intended as an example from which to write ones own display functions."
   ]
  },
  {
   "cell_type": "code",
   "execution_count": 24,
   "metadata": {},
   "outputs": [
    {
     "data": {
      "text/plain": [
       "25"
      ]
     },
     "execution_count": 24,
     "metadata": {},
     "output_type": "execute_result"
    }
   ],
   "source": [
    "df.diff_levenshtein(diffs)"
   ]
  },
  {
   "cell_type": "code",
   "execution_count": 25,
   "metadata": {},
   "outputs": [
    {
     "data": {
      "text/html": [
       "<span>I'm selfish, impatient and a little </span><del style=\"background:#ffe6e6;\">in</del><span>secure. I </span><ins style=\"background:#e6ffe6;\">don't </ins><span>make mistakes,&para;<br>I am out of control and at times hard to handle</span><ins style=\"background:#e6ffe6;\"> difficult things</ins><span>. But if you can't handle me at my worst,&para;<br>then you sure as hell don't deserve me at my best.</span>"
      ],
      "text/plain": [
       "<IPython.core.display.HTML object>"
      ]
     },
     "execution_count": 25,
     "metadata": {},
     "output_type": "execute_result"
    }
   ],
   "source": [
    "html = df.diff_prettyHtml(diffs)\n",
    "display.HTML(html)"
   ]
  },
  {
   "cell_type": "markdown",
   "metadata": {},
   "source": [
    "    \n",
    "    match_main(text, pattern, loc) => location\n",
    "\n",
    "Given a text to search, a pattern to search for and an expected location in the text near which to find the pattern, return the location which matches closest. The function will search for the best match based on both the number of character errors between the pattern and the potential match, as well as the distance between the expected location and the potential match.\n",
    "\n",
    "The following example is a classic dilemma. There are two potential matches, one is close to the expected location but contains a one character error, the other is far from the expected location but is exactly the pattern sought after: match_main(\"abc12345678901234567890abbc\", \"abc\", 26) Which result is returned (0 or 24) is determined by the diff_match_patch.Match_Distance property. An exact letter match which is 'distance' characters away from the fuzzy location would score as a complete mismatch. For example, a distance of '0' requires the match be at the exact location specified, whereas a threshold of '1000' would require a perfect match to be within 800 characters of the expected location to be found using a 0.8 threshold (see below). The larger Match_Distance is, the slower match_main() may take to compute. This variable defaults to 1000.\n",
    "\n",
    "Another property is diff_match_patch.Match_Threshold which determines the cut-off value for a valid match. If Match_Threshold is closer to 0, the requirements for accuracy increase. If Match_Threshold is closer to 1 then it is more likely that a match will be found. The larger Match_Threshold is, the slower match_main() may take to compute. This variable defaults to 0.5. If no match is found, the function returns -1."
   ]
  },
  {
   "cell_type": "code",
   "execution_count": 46,
   "metadata": {},
   "outputs": [
    {
     "data": {
      "text/plain": [
       "'e secure'"
      ]
     },
     "execution_count": 46,
     "metadata": {},
     "output_type": "execute_result"
    }
   ],
   "source": [
    "needle = 'insecure'\n",
    "haystack = new_string\n",
    "loc = df.match_main(haystack, needle, 0)\n",
    "haystack[loc:loc+len(needle)]"
   ]
  },
  {
   "cell_type": "markdown",
   "metadata": {},
   "source": [
    "    patch_make(text1, text2) => patches\n",
    "\n",
    "    patch_make(diffs) => patches\n",
    "\n",
    "    patch_make(text1, diffs) => patches\n",
    "\n",
    "Given two texts, or an already computed list of differences, return an array of patch objects. The third form (text1, diffs) is preferred, use it if you happen to have that data available, otherwise this function will compute the missing pieces.\n"
   ]
  },
  {
   "cell_type": "code",
   "execution_count": 58,
   "metadata": {},
   "outputs": [
    {
     "data": {
      "text/plain": [
       "[<diff_match_patch.diff_match_patch.patch_obj at 0x7f246ef657f0>,\n",
       " <diff_match_patch.diff_match_patch.patch_obj at 0x7f246ef65a90>,\n",
       " <diff_match_patch.diff_match_patch.patch_obj at 0x7f246ef656d8>]"
      ]
     },
     "execution_count": 58,
     "metadata": {},
     "output_type": "execute_result"
    }
   ],
   "source": [
    "df.patch_make(old_string, new_string)"
   ]
  },
  {
   "cell_type": "code",
   "execution_count": 60,
   "metadata": {},
   "outputs": [
    {
     "data": {
      "text/plain": [
       "[<diff_match_patch.diff_match_patch.patch_obj at 0x7f246ef65be0>,\n",
       " <diff_match_patch.diff_match_patch.patch_obj at 0x7f246ef655f8>,\n",
       " <diff_match_patch.diff_match_patch.patch_obj at 0x7f246ef654e0>]"
      ]
     },
     "execution_count": 60,
     "metadata": {},
     "output_type": "execute_result"
    }
   ],
   "source": [
    "df.patch_make(diffs)"
   ]
  },
  {
   "cell_type": "code",
   "execution_count": 62,
   "metadata": {},
   "outputs": [
    {
     "data": {
      "text/plain": [
       "[<diff_match_patch.diff_match_patch.patch_obj at 0x7f246ef82d68>,\n",
       " <diff_match_patch.diff_match_patch.patch_obj at 0x7f246ef82128>,\n",
       " <diff_match_patch.diff_match_patch.patch_obj at 0x7f246efa1940>]"
      ]
     },
     "execution_count": 62,
     "metadata": {},
     "output_type": "execute_result"
    }
   ],
   "source": [
    "patches = df.patch_make(old_string, diffs)\n",
    "patches"
   ]
  },
  {
   "cell_type": "markdown",
   "metadata": {},
   "source": [
    "    \n",
    "    patch_toText(patches) => text\n",
    "\n",
    "Reduces an array of patch objects to a block of text which looks extremely similar to the standard GNU diff/patch format. This text may be stored or transmitted.\n",
    "\n",
    "    patch_fromText(text) => patches\n",
    "\n",
    "Parses a block of text (which was presumably created by the patch_toText function) and returns an array of patch objects.\n",
    "   "
   ]
  },
  {
   "cell_type": "code",
   "execution_count": 63,
   "metadata": {},
   "outputs": [
    {
     "data": {
      "text/plain": [
       "\"@@ -33,10 +33,8 @@\\n tle \\n-in\\n secu\\n@@ -39,16 +39,22 @@\\n cure. I \\n+don't \\n make mis\\n@@ -107,16 +107,33 @@\\n o handle\\n+ difficult things\\n . But if\\n\""
      ]
     },
     "execution_count": 63,
     "metadata": {},
     "output_type": "execute_result"
    }
   ],
   "source": [
    "df.patch_toText(patches)"
   ]
  },
  {
   "cell_type": "code",
   "execution_count": 64,
   "metadata": {},
   "outputs": [
    {
     "data": {
      "text/plain": [
       "[<diff_match_patch.diff_match_patch.patch_obj at 0x7f246efa1e48>,\n",
       " <diff_match_patch.diff_match_patch.patch_obj at 0x7f246efa1240>,\n",
       " <diff_match_patch.diff_match_patch.patch_obj at 0x7f246efa12b0>]"
      ]
     },
     "execution_count": 64,
     "metadata": {},
     "output_type": "execute_result"
    }
   ],
   "source": [
    "df.patch_fromText(_)"
   ]
  },
  {
   "cell_type": "markdown",
   "metadata": {},
   "source": [
    "    patch_apply(patches, text1) => [text2, results]\n",
    "\n",
    "Applies a list of patches to text1. The first element of the return value is the newly patched text. The second element is an array of true/false values indicating which of the patches were successfully applied. [Note that this second element is not too useful since large patches may get broken up internally, resulting in a longer results list than the input with no way to figure out which patch succeeded or failed. A more informative API is in development.]\n",
    "The previously mentioned Match_Distance and Match_Threshold properties are used to evaluate patch application on text which does not match exactly. In addition, the diff_match_patch.Patch_DeleteThreshold property determines how closely the text within a major (~64 character) delete needs to match the expected text. If Patch_DeleteThreshold is closer to 0, then the deleted text must match the expected text more closely. If Patch_DeleteThreshold is closer to 1, then the deleted text may contain anything. In most use cases Patch_DeleteThreshold should just be set to the same value as Match_Threshold."
   ]
  },
  {
   "cell_type": "code",
   "execution_count": 75,
   "metadata": {},
   "outputs": [
    {
     "name": "stdout",
     "output_type": "stream",
     "text": [
      "[True, True, True]\n",
      "I'm selfish, impatient and a little secure. I don't make mistakes,\n",
      "I am out of control and at times hard to handle difficult things. But if you can't handle me at my worst,\n",
      "then you sure as hell don't deserve me at my best.\n"
     ]
    }
   ],
   "source": [
    "source = old_string\n",
    "result, successes = df.patch_apply(patches, source)\n",
    "print(successes)\n",
    "print(result)"
   ]
  },
  {
   "cell_type": "code",
   "execution_count": 78,
   "metadata": {},
   "outputs": [
    {
     "name": "stdout",
     "output_type": "stream",
     "text": [
      "[True, True, True]\n",
      "I'm a horribly selfish person, who is very secure. I don't make lots of errors\n",
      "I'm in control, but can't handle difficult things difficult things. If you can handle me at my worst, then you are insane yourself.\n",
      "\n"
     ]
    }
   ],
   "source": [
    "source = \"\"\"I'm a horribly selfish person, who is very insecure. I make lots of errors\n",
    "I'm in control, but can't handle difficult things. If you can handle me at my worst, then you are insane yourself.\n",
    "\"\"\"\n",
    "\n",
    "result, successes = df.patch_apply(patches, source)\n",
    "print(successes)\n",
    "print(result)"
   ]
  },
  {
   "cell_type": "code",
   "execution_count": 89,
   "metadata": {},
   "outputs": [
    {
     "data": {
      "text/plain": [
       "\"=36\\t-2\\t=9\\t+ don't\\t=63\\t+ difficult things\\t=92\""
      ]
     },
     "execution_count": 89,
     "metadata": {},
     "output_type": "execute_result"
    }
   ],
   "source": [
    "delta = df.diff_toDelta(diffs)\n",
    "delta"
   ]
  },
  {
   "cell_type": "code",
   "execution_count": null,
   "metadata": {
    "collapsed": true
   },
   "outputs": [],
   "source": []
  }
 ],
 "metadata": {
  "kernelspec": {
   "display_name": "Python 3",
   "language": "python",
   "name": "python3"
  },
  "language_info": {
   "codemirror_mode": {
    "name": "ipython",
    "version": 3
   },
   "file_extension": ".py",
   "mimetype": "text/x-python",
   "name": "python",
   "nbconvert_exporter": "python",
   "pygments_lexer": "ipython3",
   "version": "3.6.2"
  }
 },
 "nbformat": 4,
 "nbformat_minor": 1
}
