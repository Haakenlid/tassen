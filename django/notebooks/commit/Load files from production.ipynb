{
 "cells": [
  {
   "cell_type": "code",
   "execution_count": null,
   "metadata": {},
   "outputs": [],
   "source": [
    "# Get pdf files and image files from production api to dev server."
   ]
  },
  {
   "cell_type": "code",
   "execution_count": null,
   "metadata": {},
   "outputs": [],
   "source": [
    "from django.conf import settings\n",
    "from tqdm import tqdm\n",
    "import requests\n",
    "import os\n",
    "from django.core.files.base import ContentFile\n",
    "\n",
    "def delete_old_content(mindate = '2017-06-01'):\n",
    "    \"\"\"Prune down content in the dev database\"\"\"\n",
    "    assert settings.DEBUG, 'DO NOT RUN IN PRODUCTION'\n",
    "    Story.objects.filter(created__date__lte=mindate).delete()\n",
    "    ImageFile.objects.photos().filter(**kwargs).delete()\n",
    "    Issue.objects.filter(publication_date__lte=mindate).delete()\n",
    "    Contributor.objects.filter(byline=None).delete()\n",
    "    ImageFile.objects.filter(contributor=None, storyimage=None, frontpagestory=None).delete()\n",
    "    \n",
    "    print(\n",
    "        Issue.objects.count(),\n",
    "        ImageFile.objects.count(),\n",
    "        Contributor.objects.count(),\n",
    "    )"
   ]
  },
  {
   "cell_type": "code",
   "execution_count": null,
   "metadata": {},
   "outputs": [],
   "source": [
    "def save_request_data(file_field, response):\n",
    "    filename = os.path.basename(file_field.name)\n",
    "    file_field.save(filename, response.raw, save=True)\n",
    "    \n",
    "def get_file_url(endpoint, pk, field, apibase='http://universitas.no/api/'):\n",
    "    apiurl = os.path.join(*map(str, (apibase, endpoint, pk, '')))\n",
    "    return requests.get(apiurl).json().get(field)\n",
    "\n",
    "def get_pdf_from_api(pi, overwrite=False):\n",
    "    try: \n",
    "        file = pi.pdf.file\n",
    "    except FileNotFoundError:\n",
    "        print(f'missing: {pi.pdf}')\n",
    "    else:\n",
    "        print(f'exists: {pi.pdf}')\n",
    "        return\n",
    "    pdfurl = get_file_url('pdfs', pi.pk, 'pdf')\n",
    "    response = requests.get(pdfurl, stream=True)\n",
    "    save_request_data(pi.pdf, response)\n",
    "    print(pi.get_cover_page())\n",
    "    \n",
    "def get_imagefile_from_api(img, overwrite=False):\n",
    "    try: \n",
    "        file = img.source_file.file\n",
    "    except FileNotFoundError:\n",
    "        overwrite = True\n",
    "    if overwrite: \n",
    "        url = get_file_url('images', img.pk, 'large')\n",
    "        response = requests.get(url, stream=True)\n",
    "        save_request_data(img.source_file, response)\n",
    "    return img.source_file.name\n",
    "\n",
    "def download_images(qs=None, overwrite=False):\n",
    "    if qs is None:\n",
    "        qs = ImageFile.objects.all()\n",
    "    prog = tqdm(qs, '-'*30)\n",
    "    for item in prog:\n",
    "        prog.set_description_str(f'{str(item)[:30]:<30}', False)\n",
    "        get_imagefile_from_api(item, overwrite) \n",
    "        \n",
    "def download_pdfs(qs=None, overwrite=False):\n",
    "    if qs is None:\n",
    "        qs = PrintIssue.objects.all()\n",
    "    prog = tqdm(qs, '-'*30)\n",
    "    for item in prog:\n",
    "        prog.set_description_str(f'{str(item)[:30]:<30}', False)\n",
    "        get_pdf_from_api(item, overwrite) \n",
    "        \n",
    "download_images()\n",
    "download_pdfs()"
   ]
  }
 ],
 "metadata": {
  "kernelspec": {
   "display_name": "Django Shell-Plus",
   "language": "python",
   "name": "django_extensions"
  },
  "language_info": {
   "codemirror_mode": {
    "name": "ipython",
    "version": 3
   },
   "file_extension": ".py",
   "mimetype": "text/x-python",
   "name": "python",
   "nbconvert_exporter": "python",
   "pygments_lexer": "ipython3",
   "version": "3.6.2"
  }
 },
 "nbformat": 4,
 "nbformat_minor": 2
}
