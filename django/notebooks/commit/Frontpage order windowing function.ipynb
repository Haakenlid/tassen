{
 "cells": [
  {
   "cell_type": "code",
   "execution_count": 318,
   "metadata": {},
   "outputs": [
    {
     "name": "stdout",
     "output_type": "stream",
     "text": [
      "The slowest run took 495.80 times longer than the fastest. This could mean that an intermediate result is being cached.\n",
      "11.3 ms ± 33.1 ms per loop (mean ± std. dev. of 10 runs, 10 loops each)\n",
      "The slowest run took 255.65 times longer than the fastest. This could mean that an intermediate result is being cached.\n",
      "6.26 ms ± 17.3 ms per loop (mean ± std. dev. of 10 runs, 10 loops each)\n"
     ]
    }
   ],
   "source": [
    "from django.db.models import Func\n",
    "from django.db.models.functions import Rank, DenseRank, RowNumber, Cast\n",
    "from django.db.models import F, Window, DurationField, ExpressionWrapper, DateTimeField, IntegerField\n",
    "\n",
    "\n",
    "class Days(Func):\n",
    "    \"\"\"Cast float field to Interval in days\"\"\"\n",
    "    output_field=DurationField()\n",
    "    template=\"to_char(%(expressions)s, 'S9990.0999 \\\"days\\\"')::interval\"\n",
    "    \n",
    "class Epoch(Func):\n",
    "    \"\"\"Get epoch timestamp from date time field \"\"\"\n",
    "    output_field=FloatField()\n",
    "    template=\"extract(epoch from %(expressions)s) / 3600\"\n",
    "\n",
    "class Order(Func):\n",
    "    output_field=FloatField()\n",
    "\n",
    "adjusted_publication_time=ExpressionWrapper(F('story__publication_date') + Days('priority'), output_field=DateTimeField())\n",
    "\n",
    "qs0 = FrontpageStory.objects.published()\n",
    "\n",
    "qs1 = qs0\\\n",
    "    .annotate(rank=Window(expression=RowNumber(), order_by=adjusted_publication_time.desc()))\\\n",
    "    .annotate(order2=Epoch(adjusted_publication_time, output_field=IntegerField()))\\\n",
    "    .order_by('rank')\n",
    "\n",
    "%timeit -n10 -r10 ll = list(qs1)\n",
    "%timeit -n10 -r10 ll = list(qs0)"
   ]
  },
  {
   "cell_type": "code",
   "execution_count": 292,
   "metadata": {},
   "outputs": [],
   "source": [
    "%timeit?"
   ]
  },
  {
   "cell_type": "code",
   "execution_count": null,
   "metadata": {},
   "outputs": [],
   "source": []
  }
 ],
 "metadata": {
  "kernelspec": {
   "display_name": "Django Shell-Plus",
   "language": "python",
   "name": "django_extensions"
  },
  "language_info": {
   "codemirror_mode": {
    "name": "ipython",
    "version": 3
   },
   "file_extension": ".py",
   "mimetype": "text/x-python",
   "name": "python",
   "nbconvert_exporter": "python",
   "pygments_lexer": "ipython3",
   "version": "3.6.5"
  }
 },
 "nbformat": 4,
 "nbformat_minor": 2
}
