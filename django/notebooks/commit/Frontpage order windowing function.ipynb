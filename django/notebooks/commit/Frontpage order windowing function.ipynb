{
 "cells": [
  {
   "cell_type": "markdown",
   "metadata": {},
   "source": [
    "Use sql in postgresql to reorder frontpage stories efficiently."
   ]
  },
  {
   "cell_type": "code",
   "execution_count": 7,
   "metadata": {},
   "outputs": [
    {
     "name": "stdout",
     "output_type": "stream",
     "text": [
      "SELECT \"frontpage_frontpagestory\".\"id\",\n",
      "       ROW_NUMBER() OVER (PARTITION BY \"stories_story\".\"language\" = 'en'\n",
      "                          ORDER BY (\"stories_story\".\"publication_date\" + to_char(\"frontpage_frontpagestory\".\"priority\", 'S9990.0999 \"days\"')::interval) DESC NULLS LAST) AS \"ranking\"\n",
      "FROM \"frontpage_frontpagestory\"\n",
      "INNER JOIN \"stories_story\" ON (\"frontpage_frontpagestory\".\"story_id\" = \"stories_story\".\"id\")\n",
      "WHERE (\"frontpage_frontpagestory\".\"published\" = TRUE\n",
      "       AND \"stories_story\".\"publication_status\" IN (10,\n",
      "                                                    11))\n",
      "\n",
      "WITH ordered_frontpage AS ( SELECT \"frontpage_frontpagestory\".\"id\",\n",
      "       ROW_NUMBER() OVER (PARTITION BY \"stories_story\".\"language\" = 'en'\n",
      "                          ORDER BY (\"stories_story\".\"publication_date\" + to_char(\"frontpage_frontpagestory\".\"priority\", 'S9990.0999 \"days\"')::interval) DESC NULLS LAST) AS \"ranking\"\n",
      "FROM \"frontpage_frontpagestory\"\n",
      "INNER JOIN \"stories_story\" ON (\"frontpage_frontpagestory\".\"story_id\" = \"stories_story\".\"id\")\n",
      "WHERE (\"frontpage_frontpagestory\".\"published\" = TRUE\n",
      "       AND \"stories_story\".\"publication_status\" IN (10,\n",
      "                                                    11)) )\n",
      "UPDATE \"frontpage_frontpagestory\" SET \"order\" = \"ordered_frontpage\".\"ranking\"\n",
      "FROM \"ordered_frontpage\"\n",
      "WHERE \"frontpage_frontpagestory\".\"id\" = \"ordered_frontpage\".\"id\";\n",
      "\n"
     ]
    }
   ],
   "source": [
    "import sqlparse\n",
    "from django.db.models import Func, Value, BooleanField\n",
    "from django.db.models.functions import Rank, DenseRank, RowNumber, Cast\n",
    "from django.db.models import F, Window, DurationField, ExpressionWrapper, DateTimeField, IntegerField, FloatField\n",
    "from django.db.models import OuterRef, Subquery, Sum\n",
    "\n",
    "class Days(Func):\n",
    "    \"\"\"Cast float field to Interval in days\"\"\"\n",
    "    output_field=DurationField()\n",
    "    template=\"to_char(%(expressions)s, 'S9990.0999 \\\"days\\\"')::interval\"\n",
    "    \n",
    "class Epoch(Func):\n",
    "    \"\"\"Get epoch timestamp from date time field \"\"\"\n",
    "    output_field=FloatField()\n",
    "    template=\"extract(epoch from %(expressions)s ) / 3600\"\n",
    "\n",
    "class English(Func):\n",
    "    \"\"\"Is the language english\"\"\"\n",
    "    output_field=BooleanField()\n",
    "    template=\"%(expressions)s = 'en'\"\n",
    "    \n",
    "\n",
    "adjusted_publication_time=F('story__publication_date') + Days('priority')\n",
    "adjusted_ranking = Window(expression=RowNumber(), partition_by=[English('story__language')], order_by=adjusted_publication_time.desc(nulls_last=True))\n",
    "qry = FrontpageStory.objects.published().annotate(ranking=adjusted_ranking).values('id', 'ranking')\n",
    "raw_query = sqlparse.format(str(qry.query), reindent=True, keyword_case='upper')\n",
    "print(raw_query)\n",
    "\n",
    "update_ordering = f\"\"\"\n",
    "WITH ordered_frontpage AS ( {raw_query} )\n",
    "UPDATE \"frontpage_frontpagestory\" SET \"order\" = \"ordered_frontpage\".\"ranking\"\n",
    "FROM \"ordered_frontpage\"\n",
    "WHERE \"frontpage_frontpagestory\".\"id\" = \"ordered_frontpage\".\"id\";\n",
    "\"\"\"\n",
    "from django.db import connection\n",
    "with connection.cursor() as cursor:\n",
    "   cursor.execute(update_ordering) \n",
    "print(update_ordering)"
   ]
  },
  {
   "cell_type": "code",
   "execution_count": 4,
   "metadata": {},
   "outputs": [
    {
     "data": {
      "text/plain": [
       "[{'order': 1,\n",
       "  'story__language': 'nb',\n",
       "  'pk': 87396,\n",
       "  'headline': 'Studenttopp føler seg misbrukt i UiO-reklame',\n",
       "  'story__publication_date': datetime.datetime(2018, 5, 28, 13, 54, tzinfo=<UTC>)},\n",
       " {'order': 1,\n",
       "  'story__language': 'en',\n",
       "  'pk': 87388,\n",
       "  'headline': 'Are you feeling alright, guys?',\n",
       "  'story__publication_date': datetime.datetime(2018, 4, 11, 13, 14, 15, 884771, tzinfo=<UTC>)},\n",
       " {'order': 2,\n",
       "  'story__language': 'en',\n",
       "  'pk': 87387,\n",
       "  'headline': 'Business as usual for students after Facebook data breach',\n",
       "  'story__publication_date': datetime.datetime(2018, 4, 12, 12, 36, 42, 492117, tzinfo=<UTC>)},\n",
       " {'order': 2,\n",
       "  'story__language': 'nb',\n",
       "  'pk': 87437,\n",
       "  'headline': 'Sitt stille og hold kjeft – her tenkes det!',\n",
       "  'story__publication_date': datetime.datetime(2018, 4, 9, 11, 39, tzinfo=<UTC>)},\n",
       " {'order': 3,\n",
       "  'story__language': 'nb',\n",
       "  'pk': 87395,\n",
       "  'headline': 'Droppet ut av BI. Nå arrangerer de «stjerne»-konferanse',\n",
       "  'story__publication_date': datetime.datetime(2018, 4, 12, 9, 58, 13, 125875, tzinfo=<UTC>)},\n",
       " {'order': 3,\n",
       "  'story__language': 'en',\n",
       "  'pk': 87393,\n",
       "  'headline': 'Chateau Neuf Oktoberfest cancelled – permanently',\n",
       "  'story__publication_date': datetime.datetime(2018, 4, 10, 14, 25, tzinfo=<UTC>)},\n",
       " {'order': 4,\n",
       "  'story__language': 'en',\n",
       "  'pk': 87385,\n",
       "  'headline': 'Culture Calendar April 12-15',\n",
       "  'story__publication_date': datetime.datetime(2018, 4, 12, 15, 33, tzinfo=<UTC>)},\n",
       " {'order': 4,\n",
       "  'story__language': 'nb',\n",
       "  'pk': 87397,\n",
       "  'headline': 'Wara holdt et foredrag på en time for Lånekassen. Prislapp: 12 500 kroner',\n",
       "  'story__publication_date': datetime.datetime(2018, 4, 12, 9, 32, tzinfo=<UTC>)},\n",
       " {'order': 5,\n",
       "  'story__language': 'nb',\n",
       "  'pk': 87392,\n",
       "  'headline': 'Universitas vurderer den første lederdebatten: Østensen i egen klasse',\n",
       "  'story__publication_date': datetime.datetime(2018, 4, 12, 13, 36, tzinfo=<UTC>)},\n",
       " {'order': 5,\n",
       "  'story__language': 'en',\n",
       "  'pk': 87386,\n",
       "  'headline': 'Are students letting themselves be exploited?',\n",
       "  'story__publication_date': datetime.datetime(2018, 4, 12, 13, 27, tzinfo=<UTC>)}]"
      ]
     },
     "execution_count": 4,
     "metadata": {},
     "output_type": "execute_result"
    }
   ],
   "source": [
    "FrontpageStory.objects.update(order=0)\n",
    "FrontpageStory.objects.first().save()\n",
    "#FrontpageStory.objects.reorder()\n",
    "list(FrontpageStory.objects.all().values('order', 'story__language', 'pk', 'headline', 'story__publication_date').order_by('order'))[:10]"
   ]
  },
  {
   "cell_type": "code",
   "execution_count": null,
   "metadata": {},
   "outputs": [],
   "source": [
    "qry = FrontpageStory.objects.annotate(ranking=adjusted_ranking).values('id', 'ranking', 'order')\n",
    "raw_query = sqlparse.format(str(qry.query), reindent=True, keyword_case='upper')\n",
    "print(raw_query)\n",
    "list(qry[:20])"
   ]
  },
  {
   "cell_type": "markdown",
   "metadata": {},
   "source": [
    "query from [stack overflow](https://stackoverflow.com/a/4359354/1977847)\n",
    "\n",
    "```sql\n",
    "WITH v_table_name AS\n",
    "(\n",
    "    SELECT row_number() over (partition by col2 order by col3) AS rn, primary_key\n",
    "    FROM table_name\n",
    ") \n",
    "UPDATE table_name set table_name.col1 = v_table_name.rn\n",
    "FROM v_table_name\n",
    "WHERE table_name.primary_key = v_table_name.primary_key;  \n",
    "```"
   ]
  }
 ],
 "metadata": {
  "kernelspec": {
   "display_name": "Django Shell-Plus",
   "language": "python",
   "name": "django_extensions"
  },
  "language_info": {
   "codemirror_mode": {
    "name": "ipython",
    "version": 3
   },
   "file_extension": ".py",
   "mimetype": "text/x-python",
   "name": "python",
   "nbconvert_exporter": "python",
   "pygments_lexer": "ipython3",
   "version": "3.6.5"
  }
 },
 "nbformat": 4,
 "nbformat_minor": 2
}
