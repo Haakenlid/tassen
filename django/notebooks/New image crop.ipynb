{
 "cells": [
  {
   "cell_type": "code",
   "execution_count": 1,
   "metadata": {},
   "outputs": [
    {
     "name": "stdout",
     "output_type": "stream",
     "text": [
      "Requirement already satisfied: line-profiler in /home/django/.local/lib/python3.6/site-packages\n",
      "Requirement already satisfied: IPython>=0.13 in /usr/local/lib/python3.6/site-packages (from line-profiler)\n",
      "Requirement already satisfied: setuptools>=18.5 in /usr/local/lib/python3.6/site-packages (from IPython>=0.13->line-profiler)\n",
      "Requirement already satisfied: prompt-toolkit<2.0.0,>=1.0.4 in /usr/local/lib/python3.6/site-packages (from IPython>=0.13->line-profiler)\n",
      "Requirement already satisfied: pexpect; sys_platform != \"win32\" in /usr/local/lib/python3.6/site-packages (from IPython>=0.13->line-profiler)\n",
      "Requirement already satisfied: pickleshare in /usr/local/lib/python3.6/site-packages (from IPython>=0.13->line-profiler)\n",
      "Requirement already satisfied: pygments in /usr/local/lib/python3.6/site-packages (from IPython>=0.13->line-profiler)\n",
      "Requirement already satisfied: traitlets>=4.2 in /usr/local/lib/python3.6/site-packages (from IPython>=0.13->line-profiler)\n",
      "Requirement already satisfied: simplegeneric>0.8 in /usr/local/lib/python3.6/site-packages (from IPython>=0.13->line-profiler)\n",
      "Requirement already satisfied: decorator in /usr/local/lib/python3.6/site-packages (from IPython>=0.13->line-profiler)\n",
      "Requirement already satisfied: wcwidth in /usr/local/lib/python3.6/site-packages (from prompt-toolkit<2.0.0,>=1.0.4->IPython>=0.13->line-profiler)\n",
      "Requirement already satisfied: six>=1.9.0 in /usr/local/lib/python3.6/site-packages (from prompt-toolkit<2.0.0,>=1.0.4->IPython>=0.13->line-profiler)\n",
      "Requirement already satisfied: ptyprocess>=0.5 in /usr/local/lib/python3.6/site-packages (from pexpect; sys_platform != \"win32\"->IPython>=0.13->line-profiler)\n",
      "Requirement already satisfied: ipython-genutils in /usr/local/lib/python3.6/site-packages (from traitlets>=4.2->IPython>=0.13->line-profiler)\n"
     ]
    }
   ],
   "source": [
    "!pip install --user line-profiler"
   ]
  },
  {
   "cell_type": "code",
   "execution_count": 2,
   "metadata": {},
   "outputs": [],
   "source": [
    "%load_ext line_profiler"
   ]
  },
  {
   "cell_type": "code",
   "execution_count": 1,
   "metadata": {
    "collapsed": true
   },
   "outputs": [],
   "source": [
    "from django.core.files import File\n",
    "img = ImageFile()\n",
    "with open('./images/02-NYH-underviser-AN-1.jpg', 'rb') as fp:\n",
    "    imf=File(fp)\n",
    "    img.source_file.save('foobar.jpg', imf)\n"
   ]
  },
  {
   "cell_type": "code",
   "execution_count": 2,
   "metadata": {
    "collapsed": true
   },
   "outputs": [],
   "source": [
    "from apps.photo.tasks import post_save_task"
   ]
  },
  {
   "cell_type": "code",
   "execution_count": 3,
   "metadata": {},
   "outputs": [
    {
     "name": "stderr",
     "output_type": "stream",
     "text": [
      "15:09:55 2017-04-21 [ INFO] apps.photo.tasks     tasks.py:24   (post_save_task)\n",
      "\tautocrop\n",
      "\n"
     ]
    }
   ],
   "source": [
    "post_save_task(img)"
   ]
  },
  {
   "cell_type": "markdown",
   "metadata": {},
   "source": [
    "img.cropping"
   ]
  },
  {
   "cell_type": "code",
   "execution_count": 7,
   "metadata": {
    "collapsed": true
   },
   "outputs": [],
   "source": [
    "import cv2, numpy"
   ]
  },
  {
   "cell_type": "code",
   "execution_count": 19,
   "metadata": {},
   "outputs": [
    {
     "data": {
      "text/plain": [
       "True"
      ]
     },
     "execution_count": 19,
     "metadata": {},
     "output_type": "execute_result"
    }
   ],
   "source": [
    "def opencv_image(imagedata: bytes, size=400):\n",
    "    \"\"\" Convert ImageFile into a cv2 image for image processing. \"\"\"\n",
    "\n",
    "    nparr = numpy.fromstring(imagedata, numpy.uint8)\n",
    "    cv2img = cv2.imdecode(nparr, cv2.IMREAD_COLOR)\n",
    "    cv2img = cv2.cvtColor(cv2img, cv2.COLOR_BGR2RGB)\n",
    "    width, height = cv2img.shape[0], cv2img.shape[1]\n",
    "    if width > height:\n",
    "        height, width = size * height // width, size\n",
    "    else:\n",
    "        height, width = size, size * width // height\n",
    "\n",
    "    cv2img = cv2.resize(cv2img, (height, width))\n",
    "    return cv2img\n",
    "\n",
    "with img.source_file as imagefile:\n",
    "    data = imagefile.read()\n",
    "    imagefile.close()\n",
    "d1 = opencv_image(data)\n",
    "\n",
    "with open('./images/02-NYH-underviser-AN-1.jpg', 'rb') as fp:\n",
    "    data = fp.read()\n",
    "d2 = opencv_image(data)\n",
    "\n",
    "numpy.array_equal(d1, d2)"
   ]
  },
  {
   "cell_type": "code",
   "execution_count": 27,
   "metadata": {},
   "outputs": [
    {
     "name": "stdout",
     "output_type": "stream",
     "text": [
      "27-motif.jpg\n",
      "06-KUL-kulsteinorke-01-HBbruk.jpg\n",
      "29-kulturet-04-CL.jpg\n",
      "06-Tegnsprak-01-MNP.jpg\n",
      "10-KUL-litteraturkritikk-02-NWL.jpg\n",
      "07anmrwanda.jpg\n",
      "22anmGisli.jpg\n",
      "16anmklovner.jpg\n",
      "27-deb-brucewhitelaw-HH-8.jpg\n",
      "sj-0161092222.jpg\n",
      "11-MAG-magskinnetbe-12-PSS.jpg\n",
      "14-helene-uri-02-SE.jpg\n",
      "anm-salon.jpg\n",
      "IMG-6802.jpg\n",
      "06-PLA-stubokonsert-02-SD.jpg\n",
      "31-nyh-saihphyoephyoe-hh-14.jpg\n",
      "01-deb-sosos-AN-1.jpg\n",
      "15-Demoboks-02-KK.jpg\n",
      "06-NYH-nyhinsidecon-05-MF.jpg\n",
      "2447110.jpg\n",
      "15-Kult-blaa7-Web-SL.jpg\n",
      "12-KUL-khiobarstengtforside-HD.jpg\n",
      "32-KUL-nyteprofessor-HB-02.jpg\n",
      "06-NYH-HH-20.jpg\n",
      "studetid-fadder03-web-KB.jpg\n",
      "24-NYH-nyhkildesort-03-OD_Hd05ZtS.jpg\n",
      "BC15964.jpg\n",
      "vispor-ready.jpg\n",
      "11-kronikkbilde-web-HBR.jpg\n",
      "ILLUSTRASJONCV.jpg\n",
      "F255-Den-egentlige-kommunen-Hardcover-Cover-300dpi-1.jpg\n",
      "15-MAG-magasinkommu-07-CB.jpg\n",
      "28-uriks-usa-dk-15jpg-29917976104-o.jpg\n",
      "21-mag-iss-emimes-rom-3-web-BO.jpg\n",
      "17-kultur-khioflytting02-KB.jpg\n",
      "25-KUL-kulnettverks-07-OD.jpg\n",
      "Foto-Gage-Skidmore-Flickr-CC.jpg\n",
      "Triggertrigger.jpg\n",
      "08-lars-mag-makingfire-web-LMK.jpg\n",
      "25-rygh-1SP-MWA.JPG\n",
      "18-Nyh-privatskoler-01-SBV.jpg\n",
      "25-kronikkill-skolepenger-01-AKV.jpg\n",
      "19-karrieresak-03-AO.jpg\n",
      "25-Mote-02-MNP.jpg\n",
      "Anne-Karine-Nymoen.jpg\n",
      "07-NYH-dodelignattk-01-HD.jpg\n",
      "04-ssb-01-RE.jpg\n",
      "13184837-10153749433056443-401564444-o.jpg\n",
      "08-magasin-studenterhjem04-KB.jpg\n",
      "11-NYH-TineWideroe-9.jpg\n"
     ]
    }
   ],
   "source": [
    "\n",
    "def migrate_cropbox(image_file):\n",
    "    radius = image_file.crop_diameter / 2\n",
    "    data = dict(\n",
    "        left = (image_file.from_left - radius) / 100,\n",
    "        right = (image_file.from_left + radius) / 100,\n",
    "        top = (image_file.from_top - radius) / 100,\n",
    "        bottom = (image_file.from_top + radius) / 100,\n",
    "        x = (image_file.from_left) / 100,\n",
    "        y = (image_file.from_top) / 100,\n",
    "    )\n",
    "    CropBox = type(image_file.crop_box)\n",
    "    image_file.crop_box = CropBox(**data)\n",
    "    image_file.save(update_fields=['crop_box'])\n",
    "\n",
    "def migrate_image_files(images):\n",
    "    for im in images:\n",
    "        migrate_cropbox(im)\n",
    "        print(im)\n",
    "\n",
    "# images = ImageFile.objects.order_by('?')[:50]\n",
    "migrate_image_files(images)"
   ]
  },
  {
   "cell_type": "code",
   "execution_count": 22,
   "metadata": {},
   "outputs": [
    {
     "name": "stdout",
     "output_type": "stream",
     "text": [
      "Timer unit: 1e-06 s\n",
      "\n",
      "Total time: 0.226292 s\n",
      "File: /app/apps/photo/models.py\n",
      "Function: save at line 146\n",
      "\n",
      "Line #      Hits         Time  Per Hit   % Time  Line Contents\n",
      "==============================================================\n",
      "   146                                               def save(self, *args, **kwargs):\n",
      "   147         1            2      2.0      0.0          mtime = self._mtime\n",
      "   148         1            4      4.0      0.0          self.mtime = None\n",
      "   149         1        47729  47729.0     21.1          if self.mtime != mtime:  # file changed\n",
      "   150         1            9      9.0      0.0              self.md5, self.size = None, None\n",
      "   151         1           29     29.0      0.0          self.mtime\n",
      "   152         1       117548 117548.0     51.9          self.md5\n",
      "   153         1        49569  49569.0     21.9          self.size\n",
      "   154         1        11402  11402.0      5.0          super().save(*args, **kwargs)\n",
      "\n"
     ]
    }
   ],
   "source": [
    "from line_profiler import LineProfiler\n",
    "\n",
    "im = ImageFile.objects.order_by('?').first()\n",
    "lp = LineProfiler()\n",
    "lp(im.save)()\n",
    "lp.print_stats()"
   ]
  }
 ],
 "metadata": {
  "kernelspec": {
   "display_name": "Django Shell-Plus",
   "language": "python",
   "name": "django_extensions"
  },
  "language_info": {
   "codemirror_mode": {
    "name": "ipython",
    "version": 3
   },
   "file_extension": ".py",
   "mimetype": "text/x-python",
   "name": "python",
   "nbconvert_exporter": "python",
   "pygments_lexer": "ipython3",
   "version": "3.6.1"
  }
 },
 "nbformat": 4,
 "nbformat_minor": 2
}
