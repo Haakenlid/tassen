{
 "cells": [
  {
   "cell_type": "code",
   "execution_count": 1,
   "metadata": {
    "collapsed": true
   },
   "outputs": [],
   "source": [
    "from django.core.files import File\n",
    "img = ImageFile()\n",
    "with open('./images/02-NYH-underviser-AN-1.jpg', 'rb') as fp:\n",
    "    imf=File(fp)\n",
    "    img.source_file.save('foobar.jpg', imf)\n"
   ]
  },
  {
   "cell_type": "code",
   "execution_count": 2,
   "metadata": {
    "collapsed": true
   },
   "outputs": [],
   "source": [
    "from apps.photo.tasks import post_save_task"
   ]
  },
  {
   "cell_type": "code",
   "execution_count": 3,
   "metadata": {},
   "outputs": [
    {
     "name": "stderr",
     "output_type": "stream",
     "text": [
      "23:21:02 2017-04-20 [ INFO] apps.photo.tasks     tasks.py:24   (post_save_task)\n",
      "\tautocrop\n",
      "\n"
     ]
    }
   ],
   "source": [
    "post_save_task(img)"
   ]
  },
  {
   "cell_type": "markdown",
   "metadata": {},
   "source": [
    "img.cropping"
   ]
  },
  {
   "cell_type": "markdown",
   "metadata": {},
   "source": [
    "```\n",
    "const closeCrop = (x, y, l, r, t, b, A) => {\n",
    "\n",
    "const w = r - l\n",
    "\tconst h = b - t\n",
    "\tconst a = w / h\n",
    "\tconst W = 0.5 * Math.min(A, 1, a > A ? w : h * A)\n",
    "\tconst H = W / A\n",
    "\tconst [X, Y] = [\n",
    "\t\tW * 2 > w ?\n",
    "\t\t\t[W, (l + r) / 2, 1 - W] :\n",
    "\t\t\t[l + W, x, r - W],\n",
    "\t\tH * 2 > h ?\n",
    "\t\t\t[H, (t + b) / 2, 1 - H] :\n",
    "\t\t\t[t + H, y, b - H],\n",
    "\t].map(triple => triple.sort((n, m) => n - m)[1])\n",
    "\treturn {\n",
    "\t\tleft: X - W,\n",
    "\t\tright: X + W,\n",
    "\t\ttop: Y - H,\n",
    "\t\tbottom: Y + H,\n",
    "\t}\n",
    "}\n",
    "```"
   ]
  },
  {
   "cell_type": "code",
   "execution_count": 28,
   "metadata": {},
   "outputs": [
    {
     "name": "stdout",
     "output_type": "stream",
     "text": [
      "CropBox(x=0.61670000000000003, y=0.65663636363636368, left=0.2334, top=0.31327272727272726, right=1.0, bottom=1.0) 550 1000\n",
      "Box(left=561, top=0, right=671, bottom=550) 0.2 0.2\n",
      "Box(left=506, top=0, right=726, bottom=550) 0.4 0.4\n",
      "Box(left=396, top=0, right=836, bottom=550) 0.8 0.8\n",
      "Box(left=233, top=166, right=1000, bottom=550) 1.9973958333333333 2.0\n"
     ]
    }
   ],
   "source": [
    "from apps.photo.cropping.boundingbox import Box\n",
    "def closeCrop(x, y, left, right, top, bottom, aspect_ratio):\n",
    "    l, r, t, b, A = left, right, top, bottom, aspect_ratio\n",
    "    w, h = r - l, b - t\n",
    "    a = w / h\n",
    "    W = 0.5 * min(A, 1, w if a > A else h * A)\n",
    "    H = W / A\n",
    "    X, Y = [sorted(c)[1] for c in  (\n",
    "        ((W, (l + r) / 2, 1 - W), (l + W, x, r - W))[W * 2 < w],\n",
    "        ((H, (t + b) / 2, 1 - H), (t + H, y, b - H))[H * 2 < h]\n",
    "    )]\n",
    "    return Box(X - W, Y - H, X + W, Y + H)\n",
    "\n",
    "\n",
    "def get_crop(image_file, width, height): \n",
    "    image_width, image_height = image_file.full_width, image_file.full_height\n",
    "    aspect_ratio = (width * image_height) / (height * image_width)\n",
    "    crop = closeCrop(**image_file.crop_box.serialize(), aspect_ratio=aspect_ratio)\n",
    "    left, right = [int(val * image_width) for val in (crop.left, crop.right)]\n",
    "    top, bottom = [int(val * image_height) for val in (crop.top, crop.bottom)]\n",
    "    return Box(left, top, right, bottom)\n",
    "\n",
    "print(img.crop_box, img.full_height, img.full_width)\n",
    "height = 500\n",
    "for width in [100, 200, 400, 1000]:\n",
    "    crop = get_crop(img, width, height)\n",
    "    print(crop, crop.ratio, width / height)"
   ]
  },
  {
   "cell_type": "code",
   "execution_count": null,
   "metadata": {
    "collapsed": true
   },
   "outputs": [],
   "source": []
  }
 ],
 "metadata": {
  "kernelspec": {
   "display_name": "Django Shell-Plus",
   "language": "python",
   "name": "django_extensions"
  },
  "language_info": {
   "codemirror_mode": {
    "name": "ipython",
    "version": 3
   },
   "file_extension": ".py",
   "mimetype": "text/x-python",
   "name": "python",
   "nbconvert_exporter": "python",
   "pygments_lexer": "ipython3",
   "version": "3.6.1"
  }
 },
 "nbformat": 4,
 "nbformat_minor": 2
}
