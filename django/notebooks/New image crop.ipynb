{
 "cells": [
  {
   "cell_type": "code",
   "execution_count": 1,
   "metadata": {
    "collapsed": true
   },
   "outputs": [],
   "source": [
    "from django.core.files import File\n",
    "img = ImageFile()\n",
    "with open('./images/02-NYH-underviser-AN-1.jpg', 'rb') as fp:\n",
    "    imf=File(fp)\n",
    "    img.source_file.save('foobar.jpg', imf)\n"
   ]
  },
  {
   "cell_type": "code",
   "execution_count": 2,
   "metadata": {
    "collapsed": true
   },
   "outputs": [],
   "source": [
    "from apps.photo.cropping.crop_engine import CloseCropEngine"
   ]
  },
  {
   "cell_type": "code",
   "execution_count": 7,
   "metadata": {
    "collapsed": true
   },
   "outputs": [],
   "source": [
    "from wand.image import Image"
   ]
  },
  {
   "cell_type": "code",
   "execution_count": 41,
   "metadata": {
    "collapsed": true
   },
   "outputs": [],
   "source": [
    "from sorl.thumbnail.engines.wand_engine import Engine, EngineBase"
   ]
  },
  {
   "cell_type": "code",
   "execution_count": 3,
   "metadata": {
    "collapsed": true
   },
   "outputs": [],
   "source": [
    "from apps.photo.tasks import post_save_task"
   ]
  },
  {
   "cell_type": "code",
   "execution_count": 4,
   "metadata": {},
   "outputs": [
    {
     "name": "stdout",
     "output_type": "stream",
     "text": [
      "41050 07-OYE-debatt-AN-1.jpg 195513 1000 1500\n"
     ]
    }
   ],
   "source": [
    "def get_image(im_file):\n",
    "    with im_file.source_file as fp:\n",
    "        return Image(blob=fp.read())\n",
    "\n",
    "#image_file = ImageFile.objects.order_by('?').first()\n",
    "image_file = ImageFile.objects.get(pk=41050)\n",
    "print(image_file.pk, image_file, image_file.size, image_file.full_height, image_file.full_width)"
   ]
  },
  {
   "cell_type": "code",
   "execution_count": 5,
   "metadata": {},
   "outputs": [
    {
     "name": "stdout",
     "output_type": "stream",
     "text": [
      "pending\n"
     ]
    },
    {
     "name": "stderr",
     "output_type": "stream",
     "text": [
      "13:46:12 2017-04-24 [ INFO] apps.photo.tasks     tasks.py:53   (post_save_task)\n",
      "\tautocrop 41050 07-OYE-debatt-AN-1.jpg detaljer\n",
      "\n",
      "13:46:12 2017-04-24 [ INFO] apps.photo.tasks     tasks.py:59   (post_save_task)\n",
      "\tclear thumbs for 41050 07-OYE-debatt-AN-1.jpg\n",
      "\n"
     ]
    }
   ],
   "source": [
    "from sorl.thumbnail import get_thumbnail\n",
    "from IPython.display import HTML\n",
    "print(image_file.get_cropping_method_display())\n",
    "image_file.cropping_method = ImageFile.CROP_PENDING\n",
    "image_file.save()\n",
    "post_save_task(image_file)\n",
    "post_save_task(image_file)"
   ]
  },
  {
   "cell_type": "code",
   "execution_count": 6,
   "metadata": {},
   "outputs": [
    {
     "data": {
      "text/html": [
       "\n",
       "<img src=http://static.universitas.no/media/thumb-cache/e6/6c/e66c21001697235bac188828f940cb79/07-OYE-debatt-AN-1.jpg /> \n",
       "<img src=http://static.universitas.no/media/thumb-cache/4e/e4/4ee46cc341daddc76f983d49e85d9cb3/07-OYE-debatt-AN-1.jpg />\n",
       "<img src=http://static.universitas.no/media/thumb-cache/b0/77/b077b6ed36c9856f5846a51baec555f4/07-OYE-debatt-AN-1.jpg /> \n",
       "<img src=http://static.universitas.no/media/thumb-cache/46/98/4698b493e03b7a2655593a0db964b9de/07-OYE-debatt-AN-1.jpg />\n",
       "<img src=http://static.universitas.no/media/thumb-cache/58/4b/584bf6c5c17ae1e5fa69db5a4f77277d/07-OYE-debatt-AN-1.jpg /> \n"
      ],
      "text/plain": [
       "<IPython.core.display.HTML object>"
      ]
     },
     "execution_count": 6,
     "metadata": {},
     "output_type": "execute_result"
    }
   ],
   "source": [
    "im1 = get_thumbnail(image_file.source_file, '400x300', crop_box=image_file.get_crop_box(), expand=-0.7)\n",
    "im2 = get_thumbnail(image_file.source_file, '400x300', crop_box=image_file.get_crop_box(), expand=-0.2)\n",
    "im3 = get_thumbnail(image_file.source_file, '400x300', crop_box=image_file.get_crop_box(), expand=0)\n",
    "im4 = get_thumbnail(image_file.source_file, '400x300', crop_box=image_file.get_crop_box(), expand=0.6)\n",
    "im5 = get_thumbnail(image_file.source_file, '400x300', crop_box=image_file.get_crop_box(), expand=1.0)\n",
    "\n",
    "HTML(f\"\"\"\n",
    "<img src={im1.url} /> \n",
    "<img src={im2.url} />\n",
    "<img src={im3.url} /> \n",
    "<img src={im4.url} />\n",
    "<img src={im5.url} /> \n",
    "\"\"\")"
   ]
  },
  {
   "cell_type": "code",
   "execution_count": 7,
   "metadata": {
    "scrolled": false
   },
   "outputs": [
    {
     "name": "stdout",
     "output_type": "stream",
     "text": [
      "07-OYE-debatt-AN-1.jpg {\"left\": 0.1841, \"top\": 0.2071, \"bottom\": 0.8834, \"right\": 0.8816, \"x\": 0.4639, \"y\": 0.4673}\n"
     ]
    },
    {
     "data": {
      "text/html": [
       "\n",
       "<img src=http://static.universitas.no/media/thumb-cache/a0/eb/a0eba01782ef8117dc224f770199bde4/07-OYE-debatt-AN-1.jpg /> \n",
       "<img src=http://static.universitas.no/media/thumb-cache/5d/29/5d29c181a1b00433fb41233b265cdae2/07-OYE-debatt-AN-1.jpg />\n",
       "<img src=http://static.universitas.no/media/thumb-cache/9d/a9/9da9dc17a691af8a5453df705c434e96/07-OYE-debatt-AN-1.jpg /> \n",
       "<img src=http://static.universitas.no/media/thumb-cache/87/bf/87bff7786c992a340dff8d9c613a8c12/07-OYE-debatt-AN-1.jpg />\n",
       "<img src=http://static.universitas.no/media/thumb-cache/39/51/3951990e0c1de8527ce76d9db2ca198b/07-OYE-debatt-AN-1.jpg />\n",
       "<img src=http://static.universitas.no/media/thumb-cache/ce/73/ce738e4c133ed33705fd5a2330e0fa29/07-OYE-debatt-AN-1.jpg />\n"
      ],
      "text/plain": [
       "<IPython.core.display.HTML object>"
      ]
     },
     "execution_count": 7,
     "metadata": {},
     "output_type": "execute_result"
    }
   ],
   "source": [
    "im1 = get_thumbnail(image_file.source_file, '550x200', crop_box=image_file.get_crop_box(), expand=1)\n",
    "im2 = get_thumbnail(image_file.source_file, '550x200', crop_box=image_file.get_crop_box(), expand=-0.3)\n",
    "im3 = get_thumbnail(image_file.source_file, '550x200', crop_box=image_file.get_crop_box(), expand=-0.7)\n",
    "im4 = get_thumbnail(image_file.source_file, '550x550', crop_box=image_file.get_crop_box(), expand=-0.5)\n",
    "im5 = get_thumbnail(image_file.source_file, '100x550', crop_box=image_file.get_crop_box(), expand=0)\n",
    "im6 = get_thumbnail(image_file.source_file, '100x550', crop_box=image_file.get_crop_box(), expand=-0.9)\n",
    "print(image_file, image_file.crop_box)\n",
    "HTML(f\"\"\"\n",
    "<img src={im1.url} /> \n",
    "<img src={im2.url} />\n",
    "<img src={im3.url} /> \n",
    "<img src={im4.url} />\n",
    "<img src={im5.url} />\n",
    "<img src={im6.url} />\n",
    "\"\"\")"
   ]
  },
  {
   "cell_type": "code",
   "execution_count": null,
   "metadata": {},
   "outputs": [],
   "source": [
    "image_file.pk"
   ]
  },
  {
   "cell_type": "code",
   "execution_count": null,
   "metadata": {
    "collapsed": true
   },
   "outputs": [],
   "source": []
  }
 ],
 "metadata": {
  "kernelspec": {
   "display_name": "Django Shell-Plus",
   "language": "python",
   "name": "django_extensions"
  }
 },
 "nbformat": 4,
 "nbformat_minor": 2
}
