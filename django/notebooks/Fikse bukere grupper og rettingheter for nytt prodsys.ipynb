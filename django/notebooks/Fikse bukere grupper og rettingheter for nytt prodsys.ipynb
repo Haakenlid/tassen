{
 "cells": [
  {
   "cell_type": "code",
   "execution_count": 25,
   "metadata": {},
   "outputs": [
    {
     "name": "stdout",
     "output_type": "stream",
     "text": [
      "torgeirgjendem       staff:True super:False\n",
      "reginestokstad       staff:True super:False\n",
      "sondremyhre          staff:True super:False\n",
      "runafjellanger       staff:True super:False\n",
      "BirkTH               staff:True super:False\n",
      "eskilwie             staff:True super:False\n",
      "signerosen           staff:True super:False\n",
      "philipj              staff:True super:False\n",
      "knutos               staff:True super:False\n",
      "Schwencke            staff:True super:False\n",
      "urix                 staff:True super:False\n",
      "markusslettholm      staff:True super:False\n",
      "erlenddaae           staff:True super:False\n",
      "indigo               staff:True super:False\n",
      "mathigr              staff:True super:False\n",
      "madsran              staff:True super:False\n"
     ]
    }
   ],
   "source": [
    "from django.utils import timezone\n",
    "now = timezone.now()\n",
    "users = User.objects.filter(is_active=True).exclude(username__in=['haakenlid', 'api'])\n",
    "superusers = users.filter(is_superuser=True)\n",
    "mellomledere = Group.objects.get(name='mellomledere')\n",
    "redaksjon = Group.objects.get(name='redaksjon')\n",
    "for user in users: \n",
    "    print(f'{str(user):<20} staff:{user.is_staff} super:{user.is_superuser}')\n",
    "    user.is_superuser = False\n",
    "    user.groups.add(mellomledere, redaksjon)\n",
    "    user.user_permissions.clear()\n",
    "    user.save()\n",
    "    if not user.last_login or now - user.last_login > timezone.timedelta(days=150):\n",
    "        print(user, user.last_login)\n",
    "        user.is_active = False\n",
    "        user.save()\n",
    "        "
   ]
  },
  {
   "cell_type": "code",
   "execution_count": 28,
   "metadata": {},
   "outputs": [
    {
     "data": {
      "text/plain": [
       "23"
      ]
     },
     "execution_count": 28,
     "metadata": {},
     "output_type": "execute_result"
    }
   ],
   "source": [
    "User.objects.filter(is_active=False).update(is_staff=False, is_superuser=False)"
   ]
  },
  {
   "cell_type": "code",
   "execution_count": 39,
   "metadata": {},
   "outputs": [
    {
     "name": "stdout",
     "output_type": "stream",
     "text": [
      "Joakim Stene Preston           daglig leder         2017-03-08 2017-12-31\n",
      "Signe Rosenlund-Hauglid        magasinredaktør      2017-01-11 2017-12-31\n",
      "Lise Blekastad                 desksjef             2016-01-13 2017-12-31\n",
      "Regine Stokstad                kulturredaktør       2016-11-02 2017-12-31\n",
      "Birk Tjeldflaat Helle          nyhetsleder          2016-08-17 2017-12-31\n",
      "Redaksjonen                    journalist           2014-11-30 2017-12-31\n",
      "Birk Tjeldflaat Helle          journalist           2015-09-09 2017-12-31\n",
      "Ingrid Ekeberg                 journalist           2017-03-30 2017-12-31\n",
      "Nora Nygaard                   journalist           2016-10-11 2017-12-31\n",
      "Torgeir Mortensen              journalist           2014-09-23 2017-12-31\n",
      "Philip André Johannesborg      journalist           2015-10-06 2017-12-31\n",
      "Louisa Boulaziz                journalist           2016-02-16 2017-12-31\n",
      "Morten Oftedal Schwencke       journalist           2016-02-19 2017-12-31\n",
      "Eskil Wie                      fotograf             2013-09-03 2017-12-31\n",
      "Mads Randen                    nyhetsleder          2017-08-16 2017-12-31\n",
      "Birk Tjeldflaat Helle          redaktør             2017-08-16 2017-12-31\n",
      "Erlend Daae                    fotosjef             2017-08-16 2017-12-31\n",
      "Markus Slettholm               nettredaktør         2017-08-16 2017-12-31\n",
      "Emilie Solberg                 utenriksredaktør     2017-08-23 2017-12-31\n",
      "Runa Fjellanger                debattredaktør       2017-08-16 2017-12-31\n",
      "Mathias Gravdehaug             anmelderredaktør     2017-08-16 2017-12-31\n",
      "Benedicte Tobiassen            journalist           2014-02-17 2017-12-31\n",
      "Mads Randen                    journalist           2016-02-09 2017-12-31\n",
      "Regine Stokstad                journalist           2016-02-16 2017-12-31\n",
      "Markus Slettholm               journalist           2016-09-20 2017-12-31\n",
      "Håvard Røsæg                   journalist           2016-09-19 2017-12-31\n",
      "Kenneth Haug                   journalist           2016-09-13 2017-12-31\n",
      "Gard Oterholm                  journalist           2016-09-20 2017-12-31\n",
      "Julie Brundtland Løvseth       journalist           2016-10-04 2017-12-31\n",
      "Mathias Gravdehaug             journalist           2016-09-27 2017-12-31\n",
      "Indigo Trigg-Hauger            journalist           2017-02-24 2017-12-31\n",
      "Mattis Vaaland                 journalist           2017-02-10 2017-12-31\n",
      "Henrik Giæver                  journalist           2017-02-10 2017-12-31\n",
      "Vebjørn Wold                   journalist           2017-02-19 2017-12-31\n",
      "Arvid Folke Järnbert           journalist           2017-02-21 2017-12-31\n",
      "Stine G. Bergo                 journalist           2017-02-14 2017-12-31\n",
      "Rachel Elisabeth Antonsen      journalist           2017-02-23 2017-12-31\n",
      "Runa Fjellanger                journalist           2017-02-08 2017-12-31\n",
      "Maria Pettrém                  journalist           2017-03-07 2017-12-31\n",
      "Øyvind Aukrust                 fotograf             2016-02-09 2017-12-31\n",
      "Louisa Boulaziz                fotograf             2016-04-12 2017-12-31\n",
      "Xueqi Pang                     fotograf             2016-09-17 2017-12-31\n",
      "Hanna Hjardar                  fotograf             2016-11-17 2017-12-31\n",
      "Hanna Kristin Hjardar          fotograf             2016-09-13 2017-12-31\n",
      "Alf Grønli Simensen            fotograf             2016-09-06 2017-12-31\n",
      "Erlend Daae                    fotograf             2015-02-09 2017-12-31\n"
     ]
    }
   ],
   "source": [
    "active_stints = Stint.objects.filter(end_date__gt='2017-07-01')\n",
    "active_stints.update(end_date='2017-12-31')\n",
    "for st in active_stints:\n",
    "    print(f'{str(st.contributor):<30} {str(st.position):<20} {st.start_date} {st.end_date}')"
   ]
  }
 ],
 "metadata": {
  "kernelspec": {
   "display_name": "Django Shell-Plus",
   "language": "python",
   "name": "django_extensions"
  },
  "language_info": {
   "codemirror_mode": {
    "name": "ipython",
    "version": 3
   },
   "file_extension": ".py",
   "mimetype": "text/x-python",
   "name": "python",
   "nbconvert_exporter": "python",
   "pygments_lexer": "ipython3",
   "version": "3.6.2"
  }
 },
 "nbformat": 4,
 "nbformat_minor": 2
}
