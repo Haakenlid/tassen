{
 "cells": [
  {
   "cell_type": "code",
   "execution_count": 1,
   "metadata": {},
   "outputs": [],
   "source": [
    "from django.conf import settings\n",
    "from tqdm import tqdm\n",
    "\n",
    "def delete_old_content():\n",
    "    assert settings.DEBUG, 'DO NOT RUN IN PRODUCTION'\n",
    "    mindate = '2017-06-01'\n",
    "    Story.objects.filter(created__date__lte=mindate).delete()\n",
    "    ImageFile.objects.photos().filter(**kwargs).delete()\n",
    "    Issue.objects.filter(publication_date__lte=mindate).delete()\n",
    "    Contributor.objects.filter(byline=None).delete()\n",
    "    ImageFile.objects.filter(contributor=None, storyimage=None, frontpagestory=None).delete()"
   ]
  },
  {
   "cell_type": "code",
   "execution_count": 2,
   "metadata": {},
   "outputs": [
    {
     "name": "stdout",
     "output_type": "stream",
     "text": [
      "14 321 57\n"
     ]
    }
   ],
   "source": [
    "print(\n",
    "    Issue.objects.count(),\n",
    "    ImageFile.objects.count(),\n",
    "    Contributor.objects.count(),\n",
    ")"
   ]
  },
  {
   "cell_type": "code",
   "execution_count": 12,
   "metadata": {},
   "outputs": [
    {
     "name": "stderr",
     "output_type": "stream",
     "text": [
      "\n",
      "\n",
      "\n",
      "------------------------------:   0%|          | 0/321 [00:00<?, ?it/s]\u001b[A\u001b[A\n",
      "\n",
      "Grande-obalph1.jpg            : 100%|██████████| 321/321 [00:00<00:00, 5465.79it/s]\u001b[A\u001b[A\n",
      "\n",
      "------------------------------:   0%|          | 0/8 [00:00<?, ?it/s]\u001b[A\u001b[A"
     ]
    },
    {
     "name": "stdout",
     "output_type": "stream",
     "text": [
      "missing: pdf/d12f44d49e0e11e7800e0242ac12000b/universitas_2017-16.pdf\n"
     ]
    },
    {
     "name": "stderr",
     "output_type": "stream",
     "text": [
      "14:59:23 2017-09-30 [DEBUG]  universitas    models.py:415  (remove_thumbnail)\n",
      "\tinstance: /media/pdf/2c0c1512a5df11e783a60242ac12000b/universitas_2017-16.pdf error: File is empty.\n",
      "\n",
      "14:59:23 2017-09-30 [DEBUG]  universitas    models.py:415  (remove_thumbnail)\n",
      "\tinstance: /media/pdf/2c0c1512a5df11e783a60242ac12000b/universitas_2017-16.pdf error: File is empty.\n",
      "\n",
      "\n",
      "\n",
      "/media/pdf/d12f44d49e0e11e7800:  12%|█▎        | 1/8 [00:08<01:00,  8.61s/it]"
     ]
    },
    {
     "name": "stdout",
     "output_type": "stream",
     "text": [
      "pdf/covers/universitas_2017-16.jpg\n",
      "missing: pdf/d6ed40c49e0e11e7800e0242ac12000b/universitas_2017-18.pdf\n"
     ]
    },
    {
     "name": "stderr",
     "output_type": "stream",
     "text": [
      "\u001b[A\u001b[A14:59:31 2017-09-30 [DEBUG]  universitas    models.py:415  (remove_thumbnail)\n",
      "\tinstance: /media/pdf/314299aca5df11e783a60242ac12000b/universitas_2017-18.pdf error: File is empty.\n",
      "\n",
      "14:59:31 2017-09-30 [DEBUG]  universitas    models.py:415  (remove_thumbnail)\n",
      "\tinstance: /media/pdf/314299aca5df11e783a60242ac12000b/universitas_2017-18.pdf error: File is empty.\n",
      "\n",
      "\n",
      "\n",
      "/media/pdf/d6ed40c49e0e11e7800:  25%|██▌       | 2/8 [00:16<00:50,  8.49s/it]"
     ]
    },
    {
     "name": "stdout",
     "output_type": "stream",
     "text": [
      "pdf/covers/universitas_2017-18.jpg\n",
      "missing: pdf/dbc842749e0e11e7800e0242ac12000b/universitas_2017-16_mag.pdf\n"
     ]
    },
    {
     "name": "stderr",
     "output_type": "stream",
     "text": [
      "\u001b[A\u001b[A14:59:38 2017-09-30 [DEBUG]  universitas    models.py:415  (remove_thumbnail)\n",
      "\tinstance: /media/pdf/3628ebbaa5df11e783a60242ac12000b/universitas_2017-16_mag.pdf error: File is empty.\n",
      "\n",
      "14:59:38 2017-09-30 [DEBUG]  universitas    models.py:415  (remove_thumbnail)\n",
      "\tinstance: /media/pdf/3628ebbaa5df11e783a60242ac12000b/universitas_2017-16_mag.pdf error: File is empty.\n",
      "\n",
      "\n",
      "\n",
      "/media/pdf/dbc842749e0e11e7800:  38%|███▊      | 3/8 [00:21<00:37,  7.47s/it]"
     ]
    },
    {
     "name": "stdout",
     "output_type": "stream",
     "text": [
      "pdf/covers/universitas_2017-16_mag.jpg\n",
      "missing: pdf/e2ba3a569e0e11e7800e0242ac12000b/universitas_2017-19_mag.pdf\n"
     ]
    },
    {
     "name": "stderr",
     "output_type": "stream",
     "text": [
      "\u001b[A\u001b[A14:59:44 2017-09-30 [DEBUG]  universitas    models.py:415  (remove_thumbnail)\n",
      "\tinstance: /media/pdf/39208bdea5df11e783a60242ac12000b/universitas_2017-19_mag.pdf error: File is empty.\n",
      "\n",
      "14:59:44 2017-09-30 [DEBUG]  universitas    models.py:415  (remove_thumbnail)\n",
      "\tinstance: /media/pdf/39208bdea5df11e783a60242ac12000b/universitas_2017-19_mag.pdf error: File is empty.\n",
      "\n",
      "\n",
      "\n",
      "/media/pdf/e2ba3a569e0e11e7800:  50%|█████     | 4/8 [00:27<00:27,  6.87s/it]"
     ]
    },
    {
     "name": "stdout",
     "output_type": "stream",
     "text": [
      "pdf/covers/universitas_2017-19_mag.jpg\n",
      "missing: pdf/e634c4a89e0e11e7800e0242ac12000b/universitas_2017-19.pdf\n"
     ]
    },
    {
     "name": "stderr",
     "output_type": "stream",
     "text": [
      "\u001b[A\u001b[A14:59:50 2017-09-30 [DEBUG]  universitas    models.py:415  (remove_thumbnail)\n",
      "\tinstance: /media/pdf/3c5f58b6a5df11e783a60242ac12000b/universitas_2017-19.pdf error: File is empty.\n",
      "\n",
      "14:59:50 2017-09-30 [DEBUG]  universitas    models.py:415  (remove_thumbnail)\n",
      "\tinstance: /media/pdf/3c5f58b6a5df11e783a60242ac12000b/universitas_2017-19.pdf error: File is empty.\n",
      "\n",
      "\n",
      "\n",
      "/media/pdf/e634c4a89e0e11e7800:  62%|██████▎   | 5/8 [00:35<00:21,  7.19s/it]"
     ]
    },
    {
     "name": "stdout",
     "output_type": "stream",
     "text": [
      "pdf/covers/universitas_2017-19.jpg\n",
      "missing: pdf/ea57be5a9e0e11e7800e0242ac12000b/universitas_2017-17.pdf\n"
     ]
    },
    {
     "name": "stderr",
     "output_type": "stream",
     "text": [
      "\u001b[A\u001b[A14:59:58 2017-09-30 [DEBUG]  universitas    models.py:415  (remove_thumbnail)\n",
      "\tinstance: /media/pdf/411164daa5df11e783a60242ac12000b/universitas_2017-17.pdf error: File is empty.\n",
      "\n",
      "14:59:58 2017-09-30 [DEBUG]  universitas    models.py:415  (remove_thumbnail)\n",
      "\tinstance: /media/pdf/411164daa5df11e783a60242ac12000b/universitas_2017-17.pdf error: File is empty.\n",
      "\n",
      "\n",
      "\n",
      "/media/pdf/ea57be5a9e0e11e7800:  75%|███████▌  | 6/8 [00:43<00:14,  7.35s/it]"
     ]
    },
    {
     "name": "stdout",
     "output_type": "stream",
     "text": [
      "pdf/covers/universitas_2017-17.jpg\n",
      "missing: pdf/eefcfd8a9e0e11e7800e0242ac12000b/universitas_2017-21.pdf\n"
     ]
    },
    {
     "name": "stderr",
     "output_type": "stream",
     "text": [
      "\u001b[A\u001b[A15:00:06 2017-09-30 [DEBUG]  universitas    models.py:415  (remove_thumbnail)\n",
      "\tinstance: /media/pdf/45b50aa0a5df11e783a60242ac12000b/universitas_2017-21.pdf error: File is empty.\n",
      "\n",
      "15:00:06 2017-09-30 [DEBUG]  universitas    models.py:415  (remove_thumbnail)\n",
      "\tinstance: /media/pdf/45b50aa0a5df11e783a60242ac12000b/universitas_2017-21.pdf error: File is empty.\n",
      "\n",
      "\n",
      "\n",
      "/media/pdf/eefcfd8a9e0e11e7800:  88%|████████▊ | 7/8 [00:51<00:07,  7.69s/it]"
     ]
    },
    {
     "name": "stdout",
     "output_type": "stream",
     "text": [
      "pdf/covers/universitas_2017-21.jpg\n",
      "missing: pdf/f59925c49e0e11e7800e0242ac12000b/universitas_2017-20.pdf\n"
     ]
    },
    {
     "name": "stderr",
     "output_type": "stream",
     "text": [
      "\u001b[A\u001b[A15:00:14 2017-09-30 [DEBUG]  universitas    models.py:415  (remove_thumbnail)\n",
      "\tinstance: /media/pdf/4adad9baa5df11e783a60242ac12000b/universitas_2017-20.pdf error: File is empty.\n",
      "\n",
      "15:00:14 2017-09-30 [DEBUG]  universitas    models.py:415  (remove_thumbnail)\n",
      "\tinstance: /media/pdf/4adad9baa5df11e783a60242ac12000b/universitas_2017-20.pdf error: File is empty.\n",
      "\n",
      "\n",
      "\n",
      "/media/pdf/f59925c49e0e11e7800: 100%|██████████| 8/8 [01:00<00:00,  8.11s/it]"
     ]
    },
    {
     "name": "stdout",
     "output_type": "stream",
     "text": [
      "pdf/covers/universitas_2017-20.jpg\n"
     ]
    },
    {
     "name": "stderr",
     "output_type": "stream",
     "text": [
      "\u001b[A\u001b[A\n",
      "\n",
      "\u001b[A\u001b[A"
     ]
    }
   ],
   "source": [
    "import requests\n",
    "import os\n",
    "from django.core.files.base import ContentFile\n",
    "\n",
    "def save_request_data(file_field, response):\n",
    "    filename = os.path.basename(file_field.name)\n",
    "    file_field.save(filename, response.raw, save=True)\n",
    "    \n",
    "def get_file_url(endpoint, pk, field, apibase='http://universitas.no/api/'):\n",
    "    apiurl = os.path.join(*map(str, (apibase, endpoint, pk, '')))\n",
    "    return requests.get(apiurl).json().get(field)\n",
    "\n",
    "def get_pdf_from_api(pi, overwrite=False):\n",
    "    try: \n",
    "        file = pi.pdf.file\n",
    "    except FileNotFoundError:\n",
    "        print(f'missing: {pi.pdf}')\n",
    "    else:\n",
    "        print(f'exists: {pi.pdf}')\n",
    "        return\n",
    "    pdfurl = get_file_url('pdfs', pi.pk, 'pdf')\n",
    "    response = requests.get(pdfurl, stream=True)\n",
    "    save_request_data(pi.pdf, response)\n",
    "    print(pi.get_cover_page())\n",
    "    \n",
    "def get_imagefile_from_api(img, overwrite=False):\n",
    "    try: \n",
    "        file = img.source_file.file\n",
    "    except FileNotFoundError:\n",
    "        overwrite = True\n",
    "    if overwrite: \n",
    "        url = get_file_url('images', img.pk, 'large')\n",
    "        response = requests.get(url, stream=True)\n",
    "        save_request_data(img.source_file, response)\n",
    "    return img.source_file.name\n",
    "\n",
    "def download_images(qs=None, overwrite=False):\n",
    "    if qs is None:\n",
    "        qs = ImageFile.objects.all()\n",
    "    prog = tqdm(qs, '-'*30)\n",
    "    for item in prog:\n",
    "        prog.set_description_str(f'{str(item)[:30]:<30}', False)\n",
    "        get_imagefile_from_api(item, overwrite) \n",
    "        \n",
    "def download_pdfs(qs=None, overwrite=False):\n",
    "    if qs is None:\n",
    "        qs = PrintIssue.objects.all()\n",
    "    prog = tqdm(qs, '-'*30)\n",
    "    for item in prog:\n",
    "        prog.set_description_str(f'{str(item)[:30]:<30}', False)\n",
    "        get_pdf_from_api(item, overwrite) \n",
    "        \n",
    "download_images()\n",
    "download_pdfs()"
   ]
  },
  {
   "cell_type": "code",
   "execution_count": null,
   "metadata": {},
   "outputs": [],
   "source": [
    "for im in imagefiles:\n",
    "    fn = get_imagefile_from_api(im, True)\n",
    "    imagefiles.set_description(f'{fn[:60]:<60}')\n",
    "    im.md5 = None\n",
    "    im.size = None\n",
    "    im.imagehash = None\n",
    "    im.md5, im.imagehash, im.size\n",
    "    im.save()\n",
    "    "
   ]
  },
  {
   "cell_type": "code",
   "execution_count": null,
   "metadata": {},
   "outputs": [],
   "source": []
  }
 ],
 "metadata": {
  "kernelspec": {
   "display_name": "Django Shell-Plus",
   "language": "python",
   "name": "django_extensions"
  },
  "language_info": {
   "codemirror_mode": {
    "name": "ipython",
    "version": 3
   },
   "file_extension": ".py",
   "mimetype": "text/x-python",
   "name": "python",
   "nbconvert_exporter": "python",
   "pygments_lexer": "ipython3",
   "version": "3.6.2"
  }
 },
 "nbformat": 4,
 "nbformat_minor": 2
}
