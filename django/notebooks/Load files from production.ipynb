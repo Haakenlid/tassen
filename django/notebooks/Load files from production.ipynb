{
 "cells": [
  {
   "cell_type": "code",
   "execution_count": null,
   "metadata": {},
   "outputs": [],
   "source": [
    "from django.conf import settings\n",
    "print(settings.DEBUG)\n",
    "assert settings.DEBUG, 'DO NOT RUN IN PRODUCTION'\n",
    "mindate = '2017-06-01'\n",
    "Story.objects.filter(created__date__lte=mindate).delete()\n",
    "ImageFile.objects.photos().filter(**kwargs).delete()\n",
    "Issue.objects.filter(publication_date__lte=mindate).delete()\n",
    "Contributor.objects.filter(byline=None).delete()\n",
    "ImageFile.objects.filter(contributor=None, storyimage=None, frontpagestory=None).delete()"
   ]
  },
  {
   "cell_type": "code",
   "execution_count": null,
   "metadata": {},
   "outputs": [],
   "source": [
    "print(\n",
    "    Issue.objects.count(),\n",
    "    ImageFile.objects.count(),\n",
    "    Contributor.objects.count(),\n",
    ")"
   ]
  },
  {
   "cell_type": "code",
   "execution_count": 2,
   "metadata": {},
   "outputs": [],
   "source": [
    "from tqdm import tqdm_notebook, tqdm\n",
    "\n",
    "import requests\n",
    "import os\n",
    "from django.core.files.base import ContentFile\n",
    "\n",
    "def save_request_data(file_field, response):\n",
    "    filename = os.path.basename(file_field.name)\n",
    "    file_field.save(filename, response.raw, save=True)\n",
    "    \n",
    "def get_file_url(endpoint, pk, field, apibase='http://universitas.no/api/'):\n",
    "    apiurl = os.path.join(*map(str, (apibase, endpoint, pk, '')))\n",
    "    return requests.get(apiurl).json().get(field)\n",
    "\n",
    "def get_pdf_from_api(pi):\n",
    "    try: \n",
    "        file = pi.pdf.file\n",
    "    except FileNotFoundError:\n",
    "        print(f'missing: {pi.pdf}')\n",
    "    else:\n",
    "        print(f'exists: {pi.pdf}')\n",
    "        return\n",
    "    pdfurl = get_file_url('pdfs', pi.pk, 'pdf')\n",
    "    response = requests.get(pdfurl, stream=True)\n",
    "    save_request_data(pi.pdf, response)\n",
    "    print(pi.get_cover_page())\n",
    "    \n",
    "def get_imagefile_from_api(img, overwrite=False):\n",
    "    try: \n",
    "        file = img.source_file.file\n",
    "    except FileNotFoundError:\n",
    "        overwrite = True\n",
    "    if overwrite: \n",
    "        url = get_file_url('images', img.pk, 'large')\n",
    "        response = requests.get(url, stream=True)\n",
    "        save_request_data(img.source_file, response)\n",
    "    return img.source_file.name\n"
   ]
  },
  {
   "cell_type": "code",
   "execution_count": 10,
   "metadata": {},
   "outputs": [
    {
     "name": "stderr",
     "output_type": "stream",
     "text": [
      "0it [00:00, ?it/s]\n"
     ]
    }
   ],
   "source": [
    "jornhol = ImageFile.objects.filter(_md5='a69aab6f5ee36f42b7c7049cbaa30551')\n",
    "imagefiles = tqdm(jornhol, mininterval=0.002)\n",
    "for im in imagefiles:\n",
    "    fn = get_imagefile_from_api(im, True)\n",
    "    imagefiles.set_description(f'{fn[:60]:<60}')\n",
    "    im.md5 = None\n",
    "    im.size = None\n",
    "    im.imagehash = None\n",
    "    im.md5, im.imagehash, im.size\n",
    "    im.save()\n",
    "    "
   ]
  },
  {
   "cell_type": "code",
   "execution_count": null,
   "metadata": {},
   "outputs": [],
   "source": []
  }
 ],
 "metadata": {
  "kernelspec": {
   "display_name": "Django Shell-Plus",
   "language": "python",
   "name": "django_extensions"
  },
  "language_info": {
   "codemirror_mode": {
    "name": "ipython",
    "version": 3
   },
   "file_extension": ".py",
   "mimetype": "text/x-python",
   "name": "python",
   "nbconvert_exporter": "python",
   "pygments_lexer": "ipython3",
   "version": "3.6.2"
  }
 },
 "nbformat": 4,
 "nbformat_minor": 2
}
