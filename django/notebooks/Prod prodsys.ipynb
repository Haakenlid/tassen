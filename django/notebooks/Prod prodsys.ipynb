{
 "cells": [
  {
   "cell_type": "code",
   "execution_count": null,
   "metadata": {
    "collapsed": true
   },
   "outputs": [],
   "source": [
    "sak = Prodsak.objects.filter(prodsak_id=23023).last()\n",
    "sak.tekst\n"
   ]
  },
  {
   "cell_type": "code",
   "execution_count": 7,
   "metadata": {},
   "outputs": [
    {
     "name": "stdout",
     "output_type": "stream",
     "text": [
      "96\n",
      "83\n"
     ]
    },
    {
     "name": "stderr",
     "output_type": "stream",
     "text": [
      "/usr/local/lib/python3.6/site-packages/django/db/models/fields/__init__.py:1447: RuntimeWarning: DateTimeField Prodsak.version_date received a naive datetime (2017-07-01 00:00:00) while time zone support is active.\n",
      "  RuntimeWarning)\n"
     ]
    },
    {
     "data": {
      "text/plain": [
       "83"
      ]
     },
     "execution_count": 7,
     "metadata": {},
     "output_type": "execute_result"
    }
   ],
   "source": [
    "gammel_desk = Prodsak.objects.filter(produsert=Prodsak.IMPORTED_TO_INDESIGN)\n",
    "print(gammel_desk.count())\n",
    "slett = gammel_desk.filter(version_date__lt='2017-07-01')\n",
    "print(slett.count())\n",
    "slett.update(produsert=Prodsak.ARCHIVED)"
   ]
  },
  {
   "cell_type": "code",
   "execution_count": 33,
   "metadata": {
    "scrolled": false
   },
   "outputs": [
    {
     "name": "stdout",
     "output_type": "stream",
     "text": [
      "0\n"
     ]
    }
   ],
   "source": [
    "def fix_text(txt):\n",
    "    try:\n",
    "        return txt.replace('â€', '\"').replace('â€œ', '\"') #.encode('cp1252').decode().replace('', \"'\")\n",
    "        # return txt.replace('Ã¦', 'æ').replace('Ã¥', 'å').replace('Ã¸', 'ø')\n",
    "    except UnicodeError as e:\n",
    "        print('ERR', e)\n",
    "        # print(txt)\n",
    "        return txt\n",
    "\n",
    "broken = StoryImage.objects.filter(caption__contains='â').order_by('-modified')\n",
    "print(broken.count())\n",
    "for item in broken:\n",
    "    print(item.caption)\n",
    "    #item.bodytext_markup = fix_text(item.bodytext_markup)\n",
    "    #item.save()\n",
    "    # print(item.bodytext_markup)"
   ]
  },
  {
   "cell_type": "code",
   "execution_count": 37,
   "metadata": {},
   "outputs": [
    {
     "name": "stdout",
     "output_type": "stream",
     "text": [
      "[60641, 60677, 60706, 60710, 60693, 60740, 60736, 60734, 60733, 60722, 60999, 61075, 61080, 61163, 61316, 61630, 61636, 61640, 61645, 61675, 61731, 61732, 61770, 61828, 61839, 62009, 62012, 62011, 62056, 62057, 62072, 62073, 62099, 62119, 62175, 62196, 62200, 62224, 59771, 62299, 62312, 62316, 62321, 62322, 62323, 62326, 62313, 62334, 62397, 62398, 62407, 62468, 62472, 62487, 62491, 62505, 61935, 60731, 61089, 61078, 61934, 61628, 61077, 61632, 61796, 61936, 62041, 60848, 62173, 61845, 61234, 62168, 62172, 60671, 61464, 61150, 62452, 62436, 62453, 60956, 61949, 61789, 62166, 61631, 60577, 60966, 60989, 61011, 61018, 61032, 61031, 61071, 61072, 61142, 61033, 61611, 61651, 61652, 61653, 61691, 61704, 61705, 61720, 61733, 61735, 61738, 61739, 61737, 61769, 61771, 61787, 61843, 61878, 61914, 61937, 61942, 61941, 61969, 62033, 62165, 62179, 62220, 62251, 62288, 62292, 62373]\n"
     ]
    }
   ],
   "source": [
    "queryset = Story.objects.order_by('publication_status', 'modified').filter(\n",
    "        publication_status__lt=Story.STATUS_PUBLISHED)\n",
    "\n",
    "print(list(queryset.values_list('id', flat=True)))\n"
   ]
  },
  {
   "cell_type": "code",
   "execution_count": 12,
   "metadata": {},
   "outputs": [
    {
     "name": "stderr",
     "output_type": "stream",
     "text": [
      "/usr/local/lib/python3.6/site-packages/django/db/models/fields/__init__.py:1447: RuntimeWarning: DateTimeField Prodsak.version_date received a naive datetime (2017-05-01 00:00:00) while time zone support is active.\n",
      "  RuntimeWarning)\n"
     ]
    },
    {
     "data": {
      "text/plain": [
       "<ProdsakQueryset [<Prodsak: 23048(0)  17notis Samordna opptak>, <Prodsak: 23010(1) Larve i baguett>, <Prodsak: 22873(1) SLIK KODER DU SAKER!>, <Prodsak: 22872(5) 09nyh varslerrot>, <Prodsak: 22850(1) 09 nyh Felles Klagenemnd vs NAV>, <Prodsak: 22809(0) 07nyhProfessor om toksikologi>, <Prodsak: 22758(1) 07 nyh Studenter og banetid>, <Prodsak: 22719(4) UiO gjorde feil nett>, <Prodsak: 22587(0) ISS oppfølger>, <Prodsak: 22551(2) Aserbajdsjan Roggen>]>"
      ]
     },
     "execution_count": 12,
     "metadata": {},
     "output_type": "execute_result"
    }
   ],
   "source": [
    "Prodsak.objects.active().filter(version_date__lt='2017-05-01')"
   ]
  },
  {
   "cell_type": "code",
   "execution_count": 16,
   "metadata": {},
   "outputs": [
    {
     "data": {
      "text/plain": [
       "'Etter et tosifret antall opptredener i spalten «Vi Spør», ble det til slutt for mye for teknisk direktr Frode Meinich. Her str han foran ruinene av UiO, som lenge har slitt med et vedlikeholdsetterslep.'"
      ]
     },
     "execution_count": 16,
     "metadata": {},
     "output_type": "execute_result"
    }
   ],
   "source": [
    "txt = 'Etter et tosifret antall opptredener i spalten Â«Vi SpÃ¸rÂ», ble det til slutt for mye for teknisk direktør Frode Meinich. Her står han foran ruinene av UiO, som lenge har slitt med et vedlikeholdsetterslep.'\n",
    "byt = txt.encode('latin')\n",
    "byt.decode('utf-8', 'ignore')"
   ]
  },
  {
   "cell_type": "code",
   "execution_count": null,
   "metadata": {
    "collapsed": true
   },
   "outputs": [],
   "source": []
  }
 ],
 "metadata": {
  "kernelspec": {
   "display_name": "Django Shell-Plus",
   "language": "python",
   "name": "django_extensions"
  },
  "language_info": {
   "codemirror_mode": {
    "name": "ipython",
    "version": 3
   },
   "file_extension": ".py",
   "mimetype": "text/x-python",
   "name": "python",
   "nbconvert_exporter": "python",
   "pygments_lexer": "ipython3",
   "version": "3.6.2"
  }
 },
 "nbformat": 4,
 "nbformat_minor": 2
}
