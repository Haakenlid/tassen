{
 "cells": [
  {
   "cell_type": "code",
   "execution_count": null,
   "metadata": {},
   "outputs": [],
   "source": [
    "sak = Prodsak.objects.filter(prodsak_id=23023).last()\n",
    "sak.tekst\n"
   ]
  },
  {
   "cell_type": "code",
   "execution_count": 7,
   "metadata": {},
   "outputs": [
    {
     "name": "stdout",
     "output_type": "stream",
     "text": [
      "96\n",
      "83\n"
     ]
    },
    {
     "name": "stderr",
     "output_type": "stream",
     "text": [
      "/usr/local/lib/python3.6/site-packages/django/db/models/fields/__init__.py:1447: RuntimeWarning: DateTimeField Prodsak.version_date received a naive datetime (2017-07-01 00:00:00) while time zone support is active.\n",
      "  RuntimeWarning)\n"
     ]
    },
    {
     "data": {
      "text/plain": [
       "83"
      ]
     },
     "execution_count": 7,
     "metadata": {},
     "output_type": "execute_result"
    }
   ],
   "source": [
    "gammel_desk = Prodsak.objects.filter(produsert=Prodsak.IMPORTED_TO_INDESIGN)\n",
    "print(gammel_desk.count())\n",
    "slett = gammel_desk.filter(version_date__lt='2017-07-01')\n",
    "print(slett.count())\n",
    "slett.update(produsert=Prodsak.ARCHIVED)"
   ]
  },
  {
   "cell_type": "code",
   "execution_count": null,
   "metadata": {
    "scrolled": false
   },
   "outputs": [],
   "source": [
    "def fix_text(txt):\n",
    "    try:\n",
    "        return txt.replace('â€', '\"').replace('â€œ', '\"').encode('cp1252').decode().replace('', \"'\")\n",
    "    except UnicodeError:\n",
    "        print('ERR', txt)\n",
    "        return txt\n",
    "\n",
    "broken = Prodbilde.objects.filter(bildetekst__contains='Ã').order_by('-prodbilde_id')\n",
    "print(broken.count())\n",
    "for item in broken:\n",
    "    # item.tekst = fix_text(item.tekst)\n",
    "    item.bildetekst = fix_text(item.bildetekst)\n",
    "    item.save()\n",
    "    print(item.bildetekst)\n"
   ]
  },
  {
   "cell_type": "code",
   "execution_count": 12,
   "metadata": {},
   "outputs": [
    {
     "name": "stderr",
     "output_type": "stream",
     "text": [
      "/usr/local/lib/python3.6/site-packages/django/db/models/fields/__init__.py:1447: RuntimeWarning: DateTimeField Prodsak.version_date received a naive datetime (2017-05-01 00:00:00) while time zone support is active.\n",
      "  RuntimeWarning)\n"
     ]
    },
    {
     "data": {
      "text/plain": [
       "<ProdsakQueryset [<Prodsak: 23048(0)  17notis Samordna opptak>, <Prodsak: 23010(1) Larve i baguett>, <Prodsak: 22873(1) SLIK KODER DU SAKER!>, <Prodsak: 22872(5) 09nyh varslerrot>, <Prodsak: 22850(1) 09 nyh Felles Klagenemnd vs NAV>, <Prodsak: 22809(0) 07nyhProfessor om toksikologi>, <Prodsak: 22758(1) 07 nyh Studenter og banetid>, <Prodsak: 22719(4) UiO gjorde feil nett>, <Prodsak: 22587(0) ISS oppfølger>, <Prodsak: 22551(2) Aserbajdsjan Roggen>]>"
      ]
     },
     "execution_count": 12,
     "metadata": {},
     "output_type": "execute_result"
    }
   ],
   "source": [
    "Prodsak.objects.active().filter(version_date__lt='2017-05-01')"
   ]
  },
  {
   "cell_type": "code",
   "execution_count": null,
   "metadata": {
    "collapsed": true
   },
   "outputs": [],
   "source": []
  }
 ],
 "metadata": {
  "kernelspec": {
   "display_name": "Django Shell-Plus",
   "language": "python",
   "name": "django_extensions"
  },
  "language_info": {
   "codemirror_mode": {
    "name": "ipython",
    "version": 3
   },
   "file_extension": ".py",
   "mimetype": "text/x-python",
   "name": "python",
   "nbconvert_exporter": "python",
   "pygments_lexer": "ipython3",
   "version": "3.6.1"
  }
 },
 "nbformat": 4,
 "nbformat_minor": 2
}
