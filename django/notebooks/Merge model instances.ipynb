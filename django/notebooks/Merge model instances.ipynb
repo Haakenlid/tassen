{
 "cells": [
  {
   "cell_type": "code",
   "execution_count": 4,
   "metadata": {
    "collapsed": true
   },
   "outputs": [],
   "source": [
    "mari, juksemari = Contributor.objects.filter(display_name__icontains='Haanshus')"
   ]
  },
  {
   "cell_type": "code",
   "execution_count": null,
   "metadata": {
    "collapsed": true
   },
   "outputs": [],
   "source": [
    "from fuzzywuzzy import process\n",
    "from django.db.models import Count\n",
    "contributors = Contributor.objects.annotate(\n",
    "        num_bylines=Count('byline')\n",
    "    ).order_by('-num_bylines')\n",
    "everyone = Contributor.objects.values_list('display_name', flat=True)\n",
    "for contributor in contributors[:100]:\n",
    "    best = process.extract(contributor.display_name, everyone, limit=3)\n",
    "    print(best)\n",
    "    "
   ]
  },
  {
   "cell_type": "code",
   "execution_count": 69,
   "metadata": {
    "scrolled": false
   },
   "outputs": [
    {
     "name": "stdout",
     "output_type": "stream",
     "text": [
      "1962\n",
      "\n",
      "37219 a9353463ceb21770d1b51307352cfc7f   166041 1500x2250 2211b4b431b20e4d 20:23 byline-photo/Eskil-Wie.jpg\n",
      "32034 963347a6a4c52d91eb5654cc6d362f95   166041 1500x1605 b970646071b0c212 01:10 byline-photo/Hans-Dalane-Hval.jpg\n",
      "\n",
      "41905 00be4903994302c723cfc3f252b51cc1   178244 1500x1000 4f4f4302d3992b2b 15:58 2017/11/11-MAG-forstehomofilekirkebryllup-KEK-9.jpg\n",
      "39794 62117a73ac4e65a2008c8ecc525e9a90   178244 1500x1000 9133e72829cd2896 09:48 2017/1/01-KUL-Digitaleskamen-AN.jpg\n",
      "\n",
      "40371 c56713d787f1945421ed6fea248baeeb   115520 1500x1000 b3919d1d15616575 13:02 2017/4/04-NYH-Hilde-Mari-Bjorke-AS3.jpg\n",
      "39884 4ccad6c49d7b96660a679bb5d3c8f696   115520 1500x1500 92323a3290901418 14:35 2017/2/kinejd.jpg\n",
      "\n",
      "40511 5d92ce158af8ac0f2faace772a7676ae   193433 1500x1000 b4a472b47862320c 14:57 2017/5/04-KUL-bareegil-SN-1.jpg\n",
      "40275 d5488612642b2c319fed257bf0ed936b   193433 1500x2250 3b860e8f47176933 17:02 2017/4/DSC-3644-copy.jpg\n",
      "\n",
      "41753 017071d5023e6c15f6e189ff285a64f0   182501 1500x1000 7b242c2d1cb971cd 18:49 2017/9/Kropp-04-HB.jpg\n",
      "40800 f2945e410dab3e5b349d91707e695491   182501 1500x1000 4646083030506dab 17:49 2017/6/KUL-6-MUSIKK-DAGNY-4-NW.jpg\n",
      "\n",
      "41709 d53715d51333fc10026ee827e41701c8   143885 1500x1000 f4ec5e5b39bd6565 14:41 2017/9/Ur-c-rtfinalen-D-NrligVane-AC-5.jpg\n",
      "41429 c013bfae9d2d47725bbcedfe55ac43e6   143885 1500x1000 5b3b25d54c2db930 16:12 2017/8/08-NYH-Sosialdemokratene-bytter-navn-DK-2.jpg\n",
      "\n",
      "40273 8e1f31a65579586dfc00bc0af7f3dfb1   178211 1500x2250 371e8e170adc9452 17:02 2017/4/DSC-3623-copy.jpg\n",
      "39795 c867f86d2ff068173a42713a1e76f20e   178211 1500x1000 3b3355cd4b63e949 09:48 2017/1/01-KUL-minstudietid-SOE-2.jpg\n",
      "\n",
      "42192 722a5041ace35a4ace67aef8afea5526    69380 1500x998  0e0d0d0d4faf6736 20:56 2017/11/sj-018223.jpg\n",
      "42191 eadd580ba5c341d3c58373bc4dc24eb3    69380 1500x1000 206060644045b373 20:56 2017/11/sj-018222.jpg\n"
     ]
    }
   ],
   "source": [
    "from collections import Counter\n",
    "attr = '_size'\n",
    "dupes = Counter(ImageFile.objects.values_list(attr, flat=True))\n",
    "print(len(dupes))\n",
    "duped_values = [el for el in dupes if dupes[el] > 1]\n",
    "for value in duped_values:\n",
    "    images = ImageFile.objects.filter(**{attr: value}).order_by('-full_width','-created')\n",
    "    print()\n",
    "    for img in images:\n",
    "        print('{id} {_md5} {_size:>8} {full_width:>4}x{full_height:<4} {_imagehash} {created:%H:%M} {source_file}'.format(**img.__dict__))\n",
    "    #merge_instances(*images) "
   ]
  },
  {
   "cell_type": "code",
   "execution_count": 165,
   "metadata": {},
   "outputs": [
    {
     "name": "stdout",
     "output_type": "stream",
     "text": [
      "\n",
      "41328 f601e969ea344acaefe7d95aef0b1b19   356760 1610x1020 b072716949597965 2017/7/hedvig.jpg\n",
      "41234 93584a46de990cd257be0da2550ef6ae   105476 1500x950  b072716949597965 2017/7/hedvig.jpg\n",
      "\n",
      "41547 28e486422a95f68a4c3ce02b453aa894  2357490 2500x1667 2d2c2d2539345ab3 2017/8/08-NYH-thomasevensen-AN-1.jpg\n",
      "41538 78c71654c69de46f0268de3e7d976fdd   222192 1500x1000 2d2c2d2539345ab3 2017/8/08-NYH-thomasevensen-AN-1.jpg\n",
      "\n",
      "40848 ca4c0f6fe7c7a10f6a290f40841dfbd3  3291804 2500x1606 a4b4b3b2d2b4d6d8 2017/6/03-NYH-graver-AN-1-2.jpg\n",
      "40204 3311598eb0e2eeac28f79887901863a1   176641 1500x964  a4b4b3b2d2b4d6d8 2017/6/03-NYH-graver-AN-1-2.jpg\n",
      "\n",
      "41546 43a3faa1bd53cdaa4102b96acff18d96  2202531 2500x1667 2d2de6d2b226d343 2017/8/08-NYH-DNSoppslag-SN-04.jpg\n",
      "41491 88db53d265c19c16b002f2e70087982b   285852 1500x1000 2d2de6d2b226d343 2017/8/08-NYH-DNSoppslag-SN-04.jpg\n",
      "\n",
      "41051 c80a853bee20dffa8872a98ecb8a893c 13697750 5616x3744 0f0f4f4d9edcb2c6 2017/6/07-NYH-rektor-AN-1-2.jpg\n",
      "41012 5a7afd8b4afafae42aa5cc87f10cbcb4   130055 1500x1000 0f0f4f4d9edcb2c6 2017/6/07-NYH-rektor-AN-1-2.jpg\n",
      "\n",
      "40197 0c851682a2fea89dd903b2d2bca2e946  1524949 2500x1667 c31213b4b38d7219 2017/3/WIEL3303-kopi.jpg\n",
      "40148 6307d8b36234c68d357bf914b1666ff2   150930 1500x1000 c31213b4b38d7219 2017/3/WIEL3303-kopi.jpg\n",
      "\n",
      "40579 a30c04f164eff2d2f85a7eb68db52bc2   914135 1890x1317 1b92064c6a9c1a0f 2017/5/MG-3516.jpg\n",
      "40550 73a8fa84f6a76d68f899b93d929ea722   122590 1500x1045 1b92064c6a9c1a0f 2017/5/MG-3516.jpg\n",
      "\n",
      "41845 8bfd6ca1cb42cc5d6019fda60f1aa79f  3151877 2500x1667 7273723e74da584b 2017/9/09-KUL-Studentforeninger-Aas-DK-4.jpg\n",
      "41465 b7127027a32910b60f1de8f8a5174a04   365233 1500x1000 7273723e74da584b 2017/9/09-KUL-Studentforeninger-Aas-DK-4.jpg\n",
      "\n",
      "40825 9659b864138809ed965581f757e9ec01  6172882 3515x5272 cda68d1a8d8dcd98 2017/6/29-NYH-ververepacampus03-1.jpg\n",
      "40830 7c22ba3853f31dadf43b08bbf687733b   142094  500x750  cda68d1a8d8dcd98 2017/6/29-NYH-ververepacampus03-1.jpg\n",
      "\n",
      "41824 e53deb5d2ae81e7cea846353c2c9a55c  2871098 2500x1667 67661b92998d3612 2017/9/09-KUL-Studentforeninger-Aas-DK-3.jpg\n",
      "41464 d2adf268dd74096f0fdf9b807e7d2bed   340823 1500x1000 67661b92998d3612 2017/9/09-KUL-Studentforeninger-Aas-DK-3.jpg\n",
      "\n",
      "35971 3d746cb6350c300a37cdca82516b5b44  7447877 3572x5358 0059b159ccb5e466 byline-photo/Morten-Schwencke-1.jpg\n",
      "35972 8d4135695994625eec89595d6e862b51  7447877 3572x5358 0059b159ccb5e466 byline-photo/Morten-Schwencke-1.jpg\n",
      "\n",
      "41829 bba7515529c67749f47118197f3dc9e2  3033251 2500x1667 a433e3276c6d2565 2017/9/09-KUL-Studentforeninger-Aas-DK-16.jpg\n",
      "41457 3868c49058269c094cbd6b9be2ffca0f   531871 1500x1000 a433e3276c6d2565 2017/9/09-KUL-Studentforeninger-Aas-DK-16.jpg\n",
      "\n",
      "41550 2df085bb32fc8bedcf091ae433479de5  1138027 2500x1667 0f0f1f1b03379313 2017/8/08-NYH-Kaarelilleholt-SN-06.jpg\n",
      "41515 8e036283815f80c7fbba9e335268e6e7    91131 1500x1000 0f0f1f1b03379313 2017/8/08-NYH-Kaarelilleholt-SN-06.jpg\n",
      "\n",
      "40520 f6b6096794c585be6413b1139cc0080f  1987128 2500x1667 4d4f32934f1f9b99 2017/5/04-eikanett-AN-1.jpg\n",
      "40519 3b0ea6ae66be180a68d5af6e7783c718   161154 1500x1000 4d4f32934f1f9b99 2017/5/04-eikanett-AN-1.jpg\n",
      "\n",
      "41556 3a8c71a56faafb8503772f7cc8b34cf8  2541367 2500x1667 4b9ba5258dd0d036 2017/8/08-NYH-DNSoppslag-SN-05.jpg\n",
      "41492 1eebfca9c7379aa45d44267c750a22f9   342772 1500x1000 4b9ba5258dd0d036 2017/8/08-NYH-DNSoppslag-SN-05.jpg\n",
      "\n",
      "40492 3ba98177f2220ae84ea3ee489590c7a8  1032460 2500x1667 0f1f13138c36162c 2017/5/04-NETT-Idrett-SGS-5.jpg\n",
      "40488 fab32695aab55df0120b60a230c6e6d8   114962 1500x1000 0f1f13138c36162c 2017/5/04-NETT-Idrett-SGS-5.jpg\n",
      "\n",
      "41832 825841425a331211d3dd610cd297352d  2604272 2500x1667 6c4a5264dac265a2 2017/9/09-KUL-Studentforeninger-Aas-DK-21.jpg\n",
      "41463 41e57a61f01562b84248a508787747f6   179373 1500x1000 6c4a5264dac265a2 2017/9/09-KUL-Studentforeninger-Aas-DK-21.jpg\n",
      "\n",
      "40448 9d316b847003e9718611bd31f40acfd0 21300009 5760x3840 410ca4244c691959 2017/4/alvin-ailey-12.jpg\n",
      "40287 04ba23e5c5d568f9a6105f6a4566c1f1   122820 1500x1000 410ca4244c691959 2017/4/alvin-ailey-12.jpg\n",
      "\n",
      "40188 bbd19e8757befbc1e45292347b8ab7f3   671337 2500x1667 0725a7b333195b33 2017/3/WIEL4174-kopi.jpg\n",
      "40157 c2c141f96ef7472a7dabcc14e85062f4   130542 1500x1000 0725a7b333195b33 2017/3/WIEL4174-kopi.jpg\n",
      "\n",
      "40195 894bc3d4468d4b9ebf78b88ce0ad669a  1111113 1667x2500 36199d25b6b1b439 2017/3/WIEL3447-kopi.jpg\n",
      "40150 84129e9cff51d1413a1b0776f48cbc65   226270 1500x2250 36199d25b6b1b439 2017/3/WIEL3447-kopi.jpg\n",
      "\n",
      "40457 34ba9b87b8e39232e14dcfca3efc544e 25787747 5760x3840 d96f6f5327255be4 2017/4/alvin-ailey-33.jpg\n",
      "40313 bde45581f23f2be43cac6d67795f5dc1   172227 1500x1000 d96f6f5327255be4 2017/4/alvin-ailey-33.jpg\n",
      "\n",
      "41551 c3087ad79723346d5c2c44d2f2624eca  1274539 2500x1667 1ee7ee19929a994d 2017/8/08-NYH-Kaarelilleholt-SN-04.jpg\n",
      "41513 c213e7afce36fcb9a80cee2ea17240e5   175658 1500x1000 1ee7ee19929a994d 2017/8/08-NYH-Kaarelilleholt-SN-04.jpg\n",
      "\n",
      "40702 0b3d442332227e03dee5272a782de2d6  1346432 2500x1667 8d8dc04d4c249993 2017/5/05-NYH-prorektor-HMLS-5.jpg\n",
      "40632 06adf2131a4a15ecdbe6c265bdcb06e4   131562 1500x1000 8d8dc04d4c249993 2017/5/05-NYH-prorektor-HMLS-5.jpg\n",
      "\n",
      "41777 6411e81493ea83969b0b29106ac7da9b  1793636 2500x839  4dcd8dcd8c61b1b0 2017/9/07-KUL-forelesning-MD-04.jpg\n",
      "41141 8b96dc5685e0f0efda749a6212ff8ba5   143648 1500x503  4dcd8dcd8c61b1b0 2017/9/07-KUL-forelesning-MD-04.jpg\n",
      "\n",
      "40447 f3b13a691ad742dc44a52a40874e1e13 20562838 5760x3840 67191cb5923c3216 2017/4/alvin-ailey-09.jpg\n",
      "40284 32017d9467a8e91bc03327a1784b5dce   162141 1500x1000 67191cb5923c3216 2017/4/alvin-ailey-09.jpg\n"
     ]
    }
   ],
   "source": [
    "dupe_files = [ImageFile.objects.filter(source_file=d['source_file']).order_by('-_size') for d in dupes]\n",
    "for qs in dupe_files:\n",
    "    print()\n",
    "    for img in qs:\n",
    "        img.imghash = hash_img(img)\n",
    "        print('{id} {_md5} {_size:>8} {full_width:>4}x{full_height:<4} {imghash} {source_file}'.format(**img.__dict__))\n",
    "    "
   ]
  },
  {
   "cell_type": "code",
   "execution_count": 163,
   "metadata": {
    "collapsed": true
   },
   "outputs": [],
   "source": [
    "def pil_img(instance, size=8):\n",
    "    with instance.source_file as fp:\n",
    "        if fp.closed:\n",
    "            fp.open()\n",
    "        img = Image.open(fp).convert('L').resize((size,size))\n",
    "    return img\n",
    "\n",
    "def hash_img(instance):\n",
    "    return str(imagehash.dhash(pil_img(instance)))\n"
   ]
  },
  {
   "cell_type": "code",
   "execution_count": 157,
   "metadata": {},
   "outputs": [
    {
     "name": "stdout",
     "output_type": "stream",
     "text": [
      "phash 0b12e2e56e4c7d39 0b12e2e56e4c7d39 0\n",
      "dhash 9d4b8db92d6c4d21 9d4b8db92d6c4d21 0\n",
      "whash 001e18236ad3df7f 001e18236bc3df7f 2\n"
     ]
    },
    {
     "data": {
      "image/png": "[encoded data removed]",
      "text/plain": [
       "<PIL.Image.Image image mode=L size=200x200 at 0x7F5C22B76240>"
      ]
     },
     "execution_count": 157,
     "metadata": {},
     "output_type": "execute_result"
    }
   ],
   "source": [
    "from PIL import ImageChops\n",
    "img1 = pil_img(imgfile, size)\n",
    "img2 = cv_img(imgfile, size)\n",
    "hashfuncs = imagehash.phash, imagehash.dhash, imagehash.whash\n",
    "for func in hashfuncs:\n",
    "    hash1 = func(img1)\n",
    "    hash2 = func(img2)\n",
    "    print(func.__name__, hash1, hash2, hash1-hash2)\n",
    "\n",
    "ImageChops.difference(img1, img2).resize((200,200))"
   ]
  },
  {
   "cell_type": "code",
   "execution_count": 156,
   "metadata": {},
   "outputs": [
    {
     "name": "stdout",
     "output_type": "stream",
     "text": [
      "69.5 µs ± 5.33 µs per loop (mean ± std. dev. of 7 runs, 10000 loops each)\n",
      "964 µs ± 33 µs per loop (mean ± std. dev. of 7 runs, 1000 loops each)\n",
      "469 µs ± 23.4 µs per loop (mean ± std. dev. of 7 runs, 1000 loops each)\n"
     ]
    }
   ],
   "source": [
    "%timeit imagehash.dhash(img1)\n",
    "%timeit imagehash.whash(img1)\n",
    "%timeit imagehash.phash(img1)"
   ]
  },
  {
   "cell_type": "code",
   "execution_count": 5,
   "metadata": {},
   "outputs": [
    {
     "name": "stdout",
     "output_type": "stream",
     "text": [
      "0.0\n",
      "0.0\n",
      "0.0\n",
      "0.0\n",
      "0.0\n",
      "0.0\n",
      "0.0\n",
      "0.0\n",
      "0.0\n",
      "0.0\n",
      "0.0\n",
      "0.0\n",
      "0.0\n",
      "0.0\n",
      "0.0\n",
      "0.0\n",
      "0.0\n",
      "0.0\n",
      "0.0\n",
      "0.0\n",
      "0.0\n",
      "0.0\n",
      "0.0\n",
      "0.0\n",
      "0.0\n"
     ]
    }
   ],
   "source": [
    "im0 = cv_img(ImageFile.objects.first())\n",
    "for fn in dupe_files:\n",
    "    im1, im2 = ImageFile.objects.filter(source_file=fn)[:2]\n",
    "    diff = mse(cv_img(im1), cv_img(im2))\n",
    "    print(diff)\n",
    "    "
   ]
  },
  {
   "cell_type": "code",
   "execution_count": 21,
   "metadata": {},
   "outputs": [
    {
     "name": "stdout",
     "output_type": "stream",
     "text": [
      "Collecting imagehash\n",
      "Requirement already satisfied: pillow in /usr/local/lib/python3.6/site-packages (from imagehash)\n",
      "Requirement already satisfied: six in /usr/local/lib/python3.6/site-packages (from imagehash)\n",
      "Collecting PyWavelets (from imagehash)\n",
      "  Using cached PyWavelets-0.5.2-cp36-cp36m-manylinux1_x86_64.whl\n",
      "Collecting scipy (from imagehash)\n",
      "  Using cached scipy-0.19.0-cp36-cp36m-manylinux1_x86_64.whl\n",
      "Requirement already satisfied: numpy in /usr/local/lib/python3.6/site-packages (from imagehash)\n",
      "Requirement already satisfied: olefile in /usr/local/lib/python3.6/site-packages (from pillow->imagehash)\n",
      "Installing collected packages: PyWavelets, scipy, imagehash\n",
      "Successfully installed PyWavelets-0.5.2 imagehash-3.4 scipy-0.19.0\n"
     ]
    }
   ],
   "source": [
    "!pip install --user imagehash"
   ]
  },
  {
   "cell_type": "code",
   "execution_count": 1,
   "metadata": {
    "collapsed": true
   },
   "outputs": [],
   "source": [
    "from PIL import Image\n",
    "\n",
    "import imagehash\n",
    "\n"
   ]
  },
  {
   "cell_type": "code",
   "execution_count": 7,
   "metadata": {},
   "outputs": [
    {
     "data": {
      "text/plain": [
       "<sorl.thumbnail.images.ImageFile at 0x7f5c2a4b3d68>"
      ]
     },
     "execution_count": 7,
     "metadata": {},
     "output_type": "execute_result"
    }
   ],
   "source": [
    "from sorl import thumbnail\n",
    "def make_thumb(imf, width=8, height=8):\n",
    "    \n",
    "\n",
    "make_thumb(ImageFile.objects.first())"
   ]
  },
  {
   "cell_type": "code",
   "execution_count": 12,
   "metadata": {},
   "outputs": [
    {
     "data": {
      "text/plain": [
       "5"
      ]
     },
     "execution_count": 12,
     "metadata": {},
     "output_type": "execute_result"
    }
   ],
   "source": [
    "_7.x"
   ]
  },
  {
   "cell_type": "code",
   "execution_count": 49,
   "metadata": {},
   "outputs": [],
   "source": [
    "from django.db import transaction\n",
    "from django.apps import apps\n",
    "from django.contrib.contenttypes.fields import GenericForeignKey\n",
    "from django.db.models.fields.related import ManyToManyField\n",
    "\n",
    "@transaction.atomic()\n",
    "def merge_instances(primary_object, *alias_objects):\n",
    "    \"\"\"Merge several model instances into one, the `primary_object`.\n",
    "    Use this function to merge model objects and migrate all of the related\n",
    "    fields from the alias objects the primary object.\n",
    "    Usage:\n",
    "        from django.contrib.auth.models import User\n",
    "        primary_user = User.objects.get(email='good@example.com')\n",
    "        duplicate_user = User.objects.get(email='good+duplicate@example.com')\n",
    "        merge(primary_user, duplicate_user)\n",
    "    Based on: https://djangosnippets.org/snippets/382/\n",
    "    \"\"\"\n",
    "    generic_fields = get_generic_fields()\n",
    "\n",
    "    # get related fields\n",
    "    many_to_many_fields, related_fields = discrimine(\n",
    "        lambda field: isinstance(field, ManyToManyField),\n",
    "        primary_object._meta._get_fields(forward=False, include_hidden=True)\n",
    "    )\n",
    "\n",
    "    # Loop through all alias objects and migrate their references to the\n",
    "    # primary object\n",
    "    for alias_object in alias_objects:\n",
    "        # Migrate all foreign key references from alias object to primary\n",
    "        # object.\n",
    "        for related_object in related_fields:\n",
    "            # The variable name on the alias_object model.\n",
    "            alias_varname = related_object.get_accessor_name()\n",
    "            # The variable name on the related model.\n",
    "            obj_varname = related_object.field.name\n",
    "            related_objects = getattr(alias_object, alias_varname)\n",
    "            for obj in related_objects.all():\n",
    "                setattr(obj, obj_varname, primary_object)\n",
    "                obj.save()\n",
    "\n",
    "        # Migrate all many to many references from alias object to primary\n",
    "        # object.\n",
    "        for related_many_object in many_to_many_fields:\n",
    "            alias_varname = related_many_object.get_accessor_name()\n",
    "            obj_varname = related_many_object.field.name\n",
    "            related_many_objects = getattr(alias_object, alias_varname)\n",
    "            for obj in related_many_objects.all():\n",
    "                getattr(obj, obj_varname).remove(alias_object)\n",
    "                getattr(obj, obj_varname).add(primary_object)\n",
    "\n",
    "        # Migrate all generic foreign key references from alias object to\n",
    "        # primary object.\n",
    "        for field in generic_fields:\n",
    "            filter_kwargs = {}\n",
    "            filter_kwargs[field.fk_field] = alias_object._get_pk_val()\n",
    "            filter_kwargs[field.ct_field] = field.get_content_type(alias_object)\n",
    "            related_objects = field.model.objects.filter(**filter_kwargs)\n",
    "            for generic_related_object in related_objects:\n",
    "                setattr(generic_related_object, field.name, primary_object)\n",
    "                generic_related_object.save()\n",
    "\n",
    "        if alias_object.id:\n",
    "            alias_object.delete()\n",
    "\n",
    "    return primary_object\n",
    "\n",
    "\n",
    "def get_generic_fields():\n",
    "    \"\"\"Return a list of all GenericForeignKeys in all models.\"\"\"\n",
    "    generic_fields = []\n",
    "    for model in apps.get_models():\n",
    "        for field_name, field in model.__dict__.items():\n",
    "            if isinstance(field, GenericForeignKey):\n",
    "                generic_fields.append(field)\n",
    "    return generic_fields\n",
    "\n",
    "\n",
    "def discrimine(pred, sequence):\n",
    "    \"\"\"Split a collection in two collections using a predicate.\n",
    "    >>> discrimine(lambda x: x < 5, [3, 4, 5, 6, 7, 8])\n",
    "    ... ([3, 4], [5, 6, 7, 8])\n",
    "    \"\"\"\n",
    "    positive, negative = [], []\n",
    "    for item in sequence:\n",
    "        if pred(item):\n",
    "            positive.append(item)\n",
    "        else:\n",
    "            negative.append(item)\n",
    "    return positive, negative\n"
   ]
  },
  {
   "cell_type": "code",
   "execution_count": null,
   "metadata": {
    "collapsed": true
   },
   "outputs": [],
   "source": []
  }
 ],
 "metadata": {
  "kernelspec": {
   "display_name": "Django Shell-Plus",
   "language": "python",
   "name": "django_extensions"
  },
  "language_info": {
   "codemirror_mode": {
    "name": "ipython",
    "version": 3
   },
   "file_extension": ".py",
   "mimetype": "text/x-python",
   "name": "python",
   "nbconvert_exporter": "python",
   "pygments_lexer": "ipython3",
   "version": "3.6.1"
  }
 },
 "nbformat": 4,
 "nbformat_minor": 1
}
