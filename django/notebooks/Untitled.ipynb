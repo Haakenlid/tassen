{
 "cells": [
  {
   "cell_type": "code",
   "execution_count": 1,
   "metadata": {
    "scrolled": true
   },
   "outputs": [
    {
     "name": "stdout",
     "output_type": "stream",
     "text": [
      "@tit:Sang seg fra et A4-liv / Motstander av alt som er A4 /\n",
      "\n",
      "@bl:Stine G. Bergo (tekst), Eirik Bryhn Jacobsen (foto)\n",
      "\n",
      "@sitat:Jeg tenkte at det ikke gikk an å leve av å synge, at det var umulig\n",
      "\n",
      "@sitatbyline:Veslemøy Solberg, sangerinne med master i siviløkonomi\n",
      "\n",
      "@ing:Veslemøy Solberg valgte egentlig siviløkonomstudiet for å bli med i studentkoret.\n",
      "\n",
      "@txt:--Hvis du vil nok og ikke gir deg, får du det til. Da faller de andre av til slutt, så er det bare du igjen, ikke sant?\n",
      "\n",
      "Veslemøy Solberg sitter ved stuebordet hjemme i Drammen. På bordet ligger noen fotoalbum fra studietiden, og en av hennes egne CDer. Kjolen hun har på bildet på plata er like fargesprakende som den hun har på seg i dag. Hun smiler nesten hele tiden, og snakker i høyt tempo.\n",
      "\n",
      "--Dere får sjekke ut musikken min på Spotify, den skal ligge der.\n",
      "\n",
      "Solberg sang før hun kunne snakke og har en lang rekke forfattere i familien. I tillegg til å være visesanger, lever hun av å skrive scenemanus og bøker. Hovedinntektskilden er konsertene hun holder sammen med mannen Sven, men hun tjener også penger på å lære andre å skrive romaner over internett. Ingenting tilsier at damen med et stort, svart piano og gitar i stua, tilbrakte fem år som student på siviløkonomstudiet ved Handelshøyskolen i Bergen.\n",
      "\n",
      "Hun har aldri jobbet som siviløkonom, men utdanningen føltes trygg – noe man kan bruke til alt mulig.\n",
      "\n",
      "--Jeg tenkte at det ikke gikk an å leve av å synge, at det var umulig.\n",
      "\n",
      "@tingo: På studentscenen fikk hun raskt oppmerksomhet, og etter studiet fulgte flere roller i både musikal, revy, og TV. I en revy av Ole Paus forelsket hun seg i pianisten Sven Ohrvik, som senere ble ektemann og musikkpartner.\n",
      "\n",
      "--Han kjenner bransjen godt, og kunne spilt med hvem som helst. Så det er praktisk at han vil spille med meg, sier hun.\n",
      "\n",
      "Solberg lager tekstene og mannen musikken. Sammen reiser de rundt i hele landet og opptrer på konserter og andre arrangementer. Hun liker å reise, og hun liker å fortelle historier med tekstene sine. Solberg gjør mye, sikkert altfor mye ifølge henne selv. At hun jobber mye, er derimot nødvendig for å kunne lykkes, mener hun.\n",
      "\n",
      "@tingo: I hylla har Solberg 173 selvhjelpsbøker. Hun henter motivasjon fra dem. Siviløkonomutdanningen har hjulpet henne til å ta sjanser. Slik har hun klart å leve ut barndomsdrømmen om å skrive og synge.\n",
      "\n",
      "--Mange tør ikke å ta den risikoen et slikt valg fører med seg, og derfor lykkes de ikke.\n",
      "\n",
      "Hun ser ikke for seg å leve annerledes enn hun gjør nå. Det er for mange spennende muligheter hun enda ikke har prøvd.\n",
      "\n",
      "--Hvis det går helt i dass er jeg jo pensjonist om noen år. Da får jeg endelig fast inntekt.\n",
      "\n",
      "<i>--Kunne du levd et liv med A4-jobb og sang og skriving som hobby?</i>\n",
      "\n",
      "--Da hadde jeg mistrivdes. Jeg er motstander av alle ting som er A4.\n",
      "\n",
      "@fakta: Veslemøy Solberg\n",
      "#Yrke: Sanger og forfatter\n",
      "#Utdanning: Master i siviløkonomI\n",
      "#Alder: 52\n"
     ]
    }
   ],
   "source": [
    "text = \"\"\"\n",
    "@tit:Sang seg fra et A4-liv / Motstander av alt som er A4 /\n",
    "\n",
    "@bl:Stine G. Bergo (tekst), Eirik Bryhn Jacobsen (foto)\n",
    "\n",
    "@sitat:Jeg tenkte at det ikke gikk an Ã¥ leve av Ã¥ synge, at det var umulig\n",
    "\n",
    "@sitatbyline:VeslemÃ¸y Solberg, sangerinne med master i sivilÃ¸konomi\n",
    "\n",
    "@ing:VeslemÃ¸y Solberg valgte egentlig sivilÃ¸konomstudiet for Ã¥ bli med i studentkoret.\n",
    "\n",
    "@txt:--Hvis du vil nok og ikke gir deg, fÃ¥r du det til. Da faller de andre av til slutt, sÃ¥ er det bare du igjen, ikke sant?\n",
    "\n",
    "VeslemÃ¸y Solberg sitter ved stuebordet hjemme i Drammen. PÃ¥ bordet ligger noen fotoalbum fra studietiden, og en av hennes egne CDer. Kjolen hun har pÃ¥ bildet pÃ¥ plata er like fargesprakende som den hun har pÃ¥ seg i dag. Hun smiler nesten hele tiden, og snakker i hÃ¸yt tempo.\n",
    "\n",
    "--Dere fÃ¥r sjekke ut musikken min pÃ¥ Spotify, den skal ligge der.\n",
    "\n",
    "Solberg sang fÃ¸r hun kunne snakke og har en lang rekke forfattere i familien. I tillegg til Ã¥ vÃ¦re visesanger, lever hun av Ã¥ skrive scenemanus og bÃ¸ker. Hovedinntektskilden er konsertene hun holder sammen med mannen Sven, men hun tjener ogsÃ¥ penger pÃ¥ Ã¥ lÃ¦re andre Ã¥ skrive romaner over internett. Ingenting tilsier at damen med et stort, svart piano og gitar i stua, tilbrakte fem Ã¥r som student pÃ¥ sivilÃ¸konomstudiet ved HandelshÃ¸yskolen i Bergen.\n",
    "    \n",
    "Hun har aldri jobbet som sivilÃ¸konom, men utdanningen fÃ¸ltes trygg â€“ noe man kan bruke til alt mulig.\n",
    "\n",
    "--Jeg tenkte at det ikke gikk an Ã¥ leve av Ã¥ synge, at det var umulig.\n",
    "\n",
    "TINGOPÃ¥ studentscenen fikk hun raskt oppmerksomhet, og etter studiet fulgte flere roller i bÃ¥de musikal, revy, og TV. I en revy av Ole Paus forelsket hun seg i pianisten Sven Ohrvik, som senere ble ektemann og musikkpartner.\n",
    "\n",
    "--Han kjenner bransjen godt, og kunne spilt med hvem som helst. SÃ¥ det er praktisk at han vil spille med meg, sier hun.\n",
    "\n",
    "Solberg lager tekstene og mannen musikken. Sammen reiser de rundt i hele landet og opptrer pÃ¥ konserter og andre arrangementer. Hun liker Ã¥ reise, og hun liker Ã¥ fortelle historier med tekstene sine. Solberg gjÃ¸r mye, sikkert altfor mye ifÃ¸lge henne selv. At hun jobber mye, er derimot nÃ¸dvendig for Ã¥ kunne lykkes, mener hun.\n",
    "\n",
    "TINGOI hylla har Solberg 173 selvhjelpsbÃ¸ker. Hun henter motivasjon fra dem. SivilÃ¸konomutdanningen har hjulpet henne til Ã¥ ta sjanser. Slik har hun klart Ã¥ leve ut barndomsdrÃ¸mmen om Ã¥ skrive og synge.\n",
    "\n",
    "--Mange tÃ¸r ikke Ã¥ ta den risikoen et slikt valg fÃ¸rer med seg, og derfor lykkes de ikke.\n",
    "\n",
    "Hun ser ikke for seg Ã¥ leve annerledes enn hun gjÃ¸r nÃ¥. Det er for mange spennende muligheter hun enda ikke har prÃ¸vd.\n",
    "\n",
    "--Hvis det gÃ¥r helt i dass er jeg jo pensjonist om noen Ã¥r. Da fÃ¥r jeg endelig fast inntekt.\n",
    "\n",
    "<i>--Kunne du levd et liv med A4-jobb og sang og skriving som hobby?</i>\n",
    "\n",
    "--Da hadde jeg mistrivdes. Jeg er motstander av alle ting som er A4.\n",
    "\n",
    "@fakta: VeslemÃ¸y Solberg\n",
    "#Yrke: Sanger og forfatter\n",
    "#Utdanning: Master i sivilÃ¸konomI\n",
    "#Alder: 52\n",
    "\"\"\"\n",
    "\n",
    "print('\\n'.join(map(str.strip, text.encode('windows-1252').decode('utf8').splitlines())).replace('TINGO', '@tingo: ').strip())"
   ]
  },
  {
   "cell_type": "code",
   "execution_count": 2,
   "metadata": {},
   "outputs": [
    {
     "name": "stdout",
     "output_type": "stream",
     "text": [
      "2015-04-21: Når synet bedrar\n",
      "2015-04-21: Når synet bedrar\n",
      "2014-10-14: Utdanning i skuddlinjen\n",
      "2014-10-14: Utdanning i skuddlinjen\n",
      "2015-05-27: En latterlig idé\n",
      "2015-05-27: En latterlig idé\n",
      "2015-09-18: Narkotikasmugler mistenkt for drapet på 43 studenter\n",
      "2015-09-30: Drug mule suspected for the murder of 43 students\n",
      "2015-11-25: Utvider forelesningsrammen\n",
      "2016-01-12: Lavpannet? Ja. Underholdende? Definitivt.\n",
      "2016-02-16: Yrkesfag danker ut akademia\n",
      "2016-04-10: Når studentene vågner\n",
      "2016-05-24: Hvor kan jeg kaste tampongen?\n",
      "2017-01-22: Joshua Wong: Sultestreiket for demokrati\n",
      "2017-01-22: Joshua Wong: The face of democracy\n",
      "2017-05-09: Jakten på Frp-professoren\n"
     ]
    }
   ],
   "source": [
    "for vid in StoryVideo.objects.all():\n",
    "    print(vid.parent_story)"
   ]
  },
  {
   "cell_type": "code",
   "execution_count": null,
   "metadata": {
    "collapsed": true
   },
   "outputs": [],
   "source": []
  }
 ],
 "metadata": {
  "kernelspec": {
   "display_name": "Django Shell-Plus",
   "language": "python",
   "name": "django_extensions"
  },
  "language_info": {
   "codemirror_mode": {
    "name": "ipython",
    "version": 3
   },
   "file_extension": ".py",
   "mimetype": "text/x-python",
   "name": "python",
   "nbconvert_exporter": "python",
   "pygments_lexer": "ipython3",
   "version": "3.6.1"
  }
 },
 "nbformat": 4,
 "nbformat_minor": 2
}
