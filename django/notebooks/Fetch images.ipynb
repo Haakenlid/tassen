{
 "cells": [
  {
   "cell_type": "code",
   "execution_count": 9,
   "metadata": {
    "scrolled": false
   },
   "outputs": [
    {
     "name": "stdout",
     "output_type": "stream",
     "text": [
      "/var/staging/found/41578/Urortfinalen-PomPoko-AC-5.jpg 41578\n",
      "/var/staging/found/40077/netturix06.jpg 40077\n"
     ]
    },
    {
     "name": "stderr",
     "output_type": "stream",
     "text": [
      "/usr/local/lib/python3.6/site-packages/PIL/TiffImagePlugin.py:692: UserWarning: Possibly corrupt EXIF data.  Expecting to read 8 bytes but only got 0. Skipping tag 33434\n",
      "  \"Skipping tag %s\" % (size, len(data), tag))\n",
      "/usr/local/lib/python3.6/site-packages/PIL/TiffImagePlugin.py:692: UserWarning: Possibly corrupt EXIF data.  Expecting to read 8 bytes but only got 0. Skipping tag 33437\n",
      "  \"Skipping tag %s\" % (size, len(data), tag))\n",
      "/usr/local/lib/python3.6/site-packages/PIL/TiffImagePlugin.py:692: UserWarning: Possibly corrupt EXIF data.  Expecting to read 20 bytes but only got 0. Skipping tag 36867\n",
      "  \"Skipping tag %s\" % (size, len(data), tag))\n",
      "/usr/local/lib/python3.6/site-packages/PIL/TiffImagePlugin.py:692: UserWarning: Possibly corrupt EXIF data.  Expecting to read 20 bytes but only got 0. Skipping tag 36868\n",
      "  \"Skipping tag %s\" % (size, len(data), tag))\n",
      "/usr/local/lib/python3.6/site-packages/PIL/TiffImagePlugin.py:692: UserWarning: Possibly corrupt EXIF data.  Expecting to read 8 bytes but only got 0. Skipping tag 37377\n",
      "  \"Skipping tag %s\" % (size, len(data), tag))\n",
      "/usr/local/lib/python3.6/site-packages/PIL/TiffImagePlugin.py:692: UserWarning: Possibly corrupt EXIF data.  Expecting to read 8 bytes but only got 0. Skipping tag 37378\n",
      "  \"Skipping tag %s\" % (size, len(data), tag))\n",
      "/usr/local/lib/python3.6/site-packages/PIL/TiffImagePlugin.py:692: UserWarning: Possibly corrupt EXIF data.  Expecting to read 8 bytes but only got 0. Skipping tag 37380\n",
      "  \"Skipping tag %s\" % (size, len(data), tag))\n",
      "/usr/local/lib/python3.6/site-packages/PIL/TiffImagePlugin.py:692: UserWarning: Possibly corrupt EXIF data.  Expecting to read 8 bytes but only got 0. Skipping tag 37381\n",
      "  \"Skipping tag %s\" % (size, len(data), tag))\n",
      "/usr/local/lib/python3.6/site-packages/PIL/TiffImagePlugin.py:692: UserWarning: Possibly corrupt EXIF data.  Expecting to read 8 bytes but only got 0. Skipping tag 37386\n",
      "  \"Skipping tag %s\" % (size, len(data), tag))\n",
      "/usr/local/lib/python3.6/site-packages/PIL/TiffImagePlugin.py:692: UserWarning: Possibly corrupt EXIF data.  Expecting to read 8 bytes but only got 0. Skipping tag 41486\n",
      "  \"Skipping tag %s\" % (size, len(data), tag))\n",
      "/usr/local/lib/python3.6/site-packages/PIL/TiffImagePlugin.py:692: UserWarning: Possibly corrupt EXIF data.  Expecting to read 8 bytes but only got 0. Skipping tag 41487\n",
      "  \"Skipping tag %s\" % (size, len(data), tag))\n",
      "/usr/local/lib/python3.6/site-packages/PIL/TiffImagePlugin.py:692: UserWarning: Possibly corrupt EXIF data.  Expecting to read 13 bytes but only got 0. Skipping tag 42033\n",
      "  \"Skipping tag %s\" % (size, len(data), tag))\n",
      "/usr/local/lib/python3.6/site-packages/PIL/TiffImagePlugin.py:709: UserWarning: Corrupt EXIF data.  Expecting to read 12 bytes but only got 10. \n",
      "  warnings.warn(str(msg))\n"
     ]
    },
    {
     "name": "stdout",
     "output_type": "stream",
     "text": [
      "/var/staging/found/42295/WesterACT-AS-14.jpg 42295\n",
      "/var/staging/found/42268/Stian-Skarheim-Magelssen.jpg 42268\n",
      "/var/staging/found/39776/NOKUT3.jpg 39776\n",
      "/var/staging/found/41575/Urortfinalen-DarligVane-AC-2.jpg 41575\n",
      "/var/staging/found/40069/netturix04.jpg 40069\n",
      "/var/staging/found/41570/46.png 41570\n",
      "/var/staging/found/41579/Urortfinalen-LUT-AC-6.jpg 41579\n",
      "/var/staging/found/41573/9788203296314.png 41573\n",
      "/var/staging/found/42232/12-NYH-westerdals-AN-2.jpg 42232\n",
      "/var/staging/found/40071/netturix02.jpg 40071\n"
     ]
    },
    {
     "name": "stderr",
     "output_type": "stream",
     "text": [
      "/usr/local/lib/python3.6/site-packages/PIL/TiffImagePlugin.py:692: UserWarning: Possibly corrupt EXIF data.  Expecting to read 11 bytes but only got 0. Skipping tag 42037\n",
      "  \"Skipping tag %s\" % (size, len(data), tag))\n"
     ]
    },
    {
     "name": "stdout",
     "output_type": "stream",
     "text": [
      "/var/staging/found/40234/16326022-10209931501677411-1878425910-o.jpg 40234\n",
      "/var/staging/found/41577/Urortfinalen-Vinner2017--AC-1.jpg 41577\n",
      "/var/staging/found/39993/01-deb-sosos-AN-1.jpg 39993\n",
      "/var/staging/found/41590/unspecified.jpg 41590\n",
      "/var/staging/found/40158/Emma-Clare-fiksmeg.jpg 40158\n",
      "/var/staging/found/40029/IMG-0849.jpg 40029\n",
      "/var/staging/found/41591/unspecified-1.jpg 41591\n",
      "/var/staging/found/40076/netturix05.jpg 40076\n",
      "/var/staging/found/42243/NSO-LM11.jpg 42243\n",
      "/var/staging/found/40073/netturix07.jpg 40073\n"
     ]
    },
    {
     "name": "stderr",
     "output_type": "stream",
     "text": [
      "/usr/local/lib/python3.6/site-packages/PIL/TiffImagePlugin.py:709: UserWarning: Corrupt EXIF data.  Expecting to read 12 bytes but only got 6. \n",
      "  warnings.warn(str(msg))\n"
     ]
    },
    {
     "name": "stdout",
     "output_type": "stream",
     "text": [
      "/var/staging/found/41953/Skjermbilde-2017-03-14-kl.17.44.02.png 41953\n",
      "/var/staging/found/35969/Morten-Schwencke-1.jpg 35969\n",
      "/var/staging/found/41381/KUL-7-yYVIN-NW-2-1.jpg 41381\n"
     ]
    }
   ],
   "source": [
    "from django.core.files import File\n",
    "from pathlib import Path\n",
    "import requests\n",
    "\n",
    "def replace_source_file(image_file, path):\n",
    "    with open(str(path), 'rb') as source:\n",
    "        content = File(source)\n",
    "        image_file.original.save(path.name, content, False)\n",
    "        image_file.crop_method = ImageFile.CROP_PENDING\n",
    "        image_file.save()\n",
    "        \n",
    "staging = Path('/var/staging/found')\n",
    "\n",
    "def has_source_file(img):\n",
    "    return re\n",
    "    \n",
    "\n",
    "for d in staging.iterdir():\n",
    "    pk = int(str(d.name)) \n",
    "    img = ImageFile.objects.get(pk=pk)\n",
    "    files = list(d.iterdir())\n",
    "    if files:\n",
    "        path = files[0]\n",
    "        print(path, pk)\n",
    "        replace_source_file(img, path)"
   ]
  },
  {
   "cell_type": "code",
   "execution_count": null,
   "metadata": {
    "collapsed": true
   },
   "outputs": [],
   "source": []
  }
 ],
 "metadata": {
  "kernelspec": {
   "display_name": "Django Shell-Plus",
   "language": "python",
   "name": "django_extensions"
  },
  "language_info": {
   "codemirror_mode": {
    "name": "ipython",
    "version": 3
   },
   "file_extension": ".py",
   "mimetype": "text/x-python",
   "name": "python",
   "nbconvert_exporter": "python",
   "pygments_lexer": "ipython3",
   "version": "3.6.1"
  }
 },
 "nbformat": 4,
 "nbformat_minor": 2
}
