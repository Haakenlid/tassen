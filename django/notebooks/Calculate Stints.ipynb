{
 "cells": [
  {
   "cell_type": "code",
   "execution_count": 1,
   "metadata": {},
   "outputs": [
    {
     "data": {
      "text/plain": [
       "114"
      ]
     },
     "execution_count": 1,
     "metadata": {},
     "output_type": "execute_result"
    }
   ],
   "source": [
    "Stint.objects.count()"
   ]
  },
  {
   "cell_type": "code",
   "execution_count": 13,
   "metadata": {},
   "outputs": [
    {
     "name": "stdout",
     "output_type": "stream",
     "text": [
      "HannaSkotheim                  has person   Hanna Skotheim\n",
      "jspreston                      has person   Joakim Stene Preston\n",
      "madsran                        has person   Mads Randen\n",
      "ellaregine                     has person   Regine Stokstad\n",
      "sondremyhre                    has person   Sondre Myhre\n",
      "mathigr                        has person   Mathias Gravdehaug\n",
      "xueqipang                      has person   Xueqi Pang\n",
      "haavard24                      has person   Håvard Røsæg\n",
      "kennethkandolfhaug             has person   Kenneth Haug\n",
      "gardoterholm                   has person   Gard Oterholm\n",
      "urix                           has person   Emilie Solberg\n",
      "hannahberg                     has person   Hannah Berg\n",
      "mariapettrem                   has person   Maria Pettrém\n",
      "juliebrundtland                has person   Julie Brundtland Løvseth\n",
      "folkejarnbert                  has person   Arvid Folke Järnbert\n",
      "henrikgiaever                  has person   Henrik Giæver\n",
      "racheleantonsen                has person   Rachel Elisabeth Antonsen\n",
      "stinegb                        has person   Stine G. Bergo\n",
      "runafjellanger                 has person   Runa Fjellanger\n",
      "haakenlid                      has person   Håken Lid\n",
      "marimjaaland                   has person   Mari Mjaaland\n",
      "ekebergingrid                  has person   Ingrid N. Ekeberg\n",
      "erlenddaae                     has person   Erlend Dalhaug Daae\n",
      "BirkTH                         has person   Birk Tjeldflaat Helle\n",
      "kristinaholt                   has person   Kristina Holt\n",
      "odindro                        has person   Odin Drønen\n",
      "linachristens                  has person   Lina Christensen\n",
      "karieiring                     has person   Kari Eiring\n",
      "knutoseid                      has person   Knut Arne Oseid\n",
      "kristinaelisabet               has person   Kristina Kvammen\n",
      "adrian                         has person   Adrian Nielsen\n",
      "adriansimenholm                has person   Adrian Simen Holm\n",
      "bangheidi                      has person   Heidi Bang\n",
      "srosenlundhauglid              has person   Signe Rosenlund-Hauglid\n",
      "alf-ags                        has person   Alf Grønli Simensen\n",
      "torgeirgjendem                 has person   Torgeir Mortensen\n",
      "philipjohannesborg             has person   Philip André Johannesborg\n",
      "louisaboulaziz                 has person   Louisa Boulaziz\n",
      "matthiskleeb                   has person   Matthis Kleeb Solheim\n",
      "Schwencke                      has person   Morten Oftedal Schwencke\n",
      "magnusekeland                  has person   Magnus Ekeland\n",
      "markusslettholm                has person   Markus Slettholm\n",
      "noranygaard                    has person   Nora Nygaard\n"
     ]
    }
   ],
   "source": [
    "from django.core.exceptions import ObjectDoesNotExist\n",
    "from utils.merge_model_objects import merge_instances\n",
    "\n",
    "for person in Contributor.objects.all():\n",
    "    user = person.get_user()\n",
    "    if user:\n",
    "        try:\n",
    "            contributor = user.contributor\n",
    "        except ObjectDoesNotExist:\n",
    "            person.user = user\n",
    "            person.save()\n",
    "        else:\n",
    "            print(f'{user.username:<30} has person   {contributor}')\n",
    "            if contributor != person:\n",
    "                merge_instances(contributor, person)\n",
    "                \n"
   ]
  },
  {
   "cell_type": "code",
   "execution_count": null,
   "metadata": {
    "scrolled": true
   },
   "outputs": [],
   "source": [
    "import re, pprint\n",
    "from datetime import date\n",
    "from apps.issues.models import PrintIssue\n",
    "from apps.contributors.models import Stint\n",
    "from django.db.models.query import QuerySet\n",
    "import logging\n",
    "logger = logging.getLogger('jup')\n",
    "logger.setLevel('DEBUG')\n",
    "\n",
    "def find_staff(text, titles=(r'daglig leder', r'\\w*redaktør', r'\\w*leder', r'\\w*sjef')):\n",
    "    \"\"\"Find editorial staff names from colophones in extracted pdf text.\"\"\"\n",
    "    pattern = (r'^(?P<title>' f'({\"|\".join(titles)})' r'):\\s*(?P<name>.+)$')\n",
    "    regex = re.compile(pattern, flags=re.M | re.I)\n",
    "    text = text.replace('\\x08', '')  # pdf might contain non printing characters, such as backspace\n",
    "    matches = regex.finditer(text)\n",
    "    return { d['title'].lower().strip(): d['name'].strip() for d in [m.groupdict() for m in matches] }\n",
    "\n",
    "\n",
    "def get_content(print_issue: PrintIssue, first_page=2, last_page=999) -> str:\n",
    "    \"\"\"Get full text of a pdf issue\"\"\"\n",
    "    try:\n",
    "        return print_issue.get_page_text_content(first_page, last_page)\n",
    "    except Exception as e:\n",
    "        logger.exception('Error reading pdf:')\n",
    "        return ''\n",
    "\n",
    "def find_positions(print_issue: PrintIssue) -> dict:\n",
    "    content = get_content(print_issue)\n",
    "    return find_staff(content)\n",
    "\n",
    "def add_to_stint(title:str, name:str, date:date) -> Stint:\n",
    "    \"\"\"Create or update a Stint so that the date is included in the period.\"\"\"\n",
    "    try:\n",
    "        contributor = Contributor.objects.get(display_name=name)\n",
    "    except Contributor.DoesNotExist:\n",
    "        contributor, created = Contributor.get_or_create(name)\n",
    "        \n",
    "        action = \"created\" if created else \"found\"\n",
    "        logger.warning(f'could not find \"{name}\" => {action} \"{contributor}\"')\n",
    "    position, _ = Position.objects.get_or_create(title=title)\n",
    "    defaults = {'start_date': date, 'end_date': date}\n",
    "    stint, _ = Stint.objects.get_or_create(\n",
    "        defaults=defaults, position=position, contributor=contributor)\n",
    "    stint.end_date = max(stint.end_date, date)\n",
    "    stint.start_date = min(stint.start_date, date)\n",
    "    stint.save()\n",
    "    return stint\n",
    "\n",
    "\n",
    "def find_stints_from_pdfs(qs:QuerySet=None, dry_run=False):\n",
    "    if qs is None:\n",
    "        qs = PrintIssue.objects.all()\n",
    "    for print_issue in qs:\n",
    "        data = find_positions(print_issue)\n",
    "        date = print_issue.issue.publication_date\n",
    "        logger.debug(f'{date} {print_issue}\\n' +\n",
    "                     f'\\n'.join(f'{p}: {data[p]}' for p in data))\n",
    "        if dry_run:\n",
    "            continue\n",
    "        for title, name in data.items():\n",
    "            add_to_stint(title, name, date)\n",
    "\n",
    "find_stints_from_pdfs(dry_run=False)"
   ]
  },
  {
   "cell_type": "code",
   "execution_count": null,
   "metadata": {},
   "outputs": [],
   "source": [
    "logger.setLevel('DEBUG')\n",
    "logger.debug('hi')"
   ]
  },
  {
   "cell_type": "code",
   "execution_count": null,
   "metadata": {},
   "outputs": [],
   "source": [
    "Byline.objects.filter(story__story_type__section__title='Kultur', credit='by').update(credit='text')\n",
    "Byline.objects.filter(story__story_type__section__title='Anmeldelser', credit='by').update(credit='text')\n",
    "Byline.objects.filter(story__story_type__section__title='Nyheter', credit='by').update(credit='text')\n",
    "Byline.objects.filter(story__story_type__section__title='Debatt', credit='text').update(credit='by')"
   ]
  },
  {
   "cell_type": "code",
   "execution_count": null,
   "metadata": {
    "scrolled": true
   },
   "outputs": [],
   "source": [
    "def add_stints_from_bylines(position, credit, exclude=['Debatt'], byline_cutoff=1):\n",
    "    \"\"\"Add stints based on byline credits\"\"\"\n",
    "    for person in Contributor.objects.all():\n",
    "        bylines = person.byline_set.filter(\n",
    "            credit__contains=credit\n",
    "        ).exclude( # unpublished\n",
    "            story__publication_date=None\n",
    "        ).exclude( # no opinion pieces\n",
    "            story__story_type__section__title__in=exclude\n",
    "        ).order_by(\n",
    "            'story__publication_date'\n",
    "        )\n",
    "        if bylines.count() > byline_cutoff:  # ignore people few bylines\n",
    "            first_byline = bylines.first().story.publication_date.date()\n",
    "            last_byline = bylines.last().story.publication_date.date()\n",
    "            stint = Stint.objects.create(\n",
    "                start_date=first_byline, \n",
    "                end_date=last_byline,\n",
    "                contributor=person, \n",
    "                position=position,\n",
    "            )\n",
    "            stint = join_stints(Stint.objects.filter(contributor=person, position=position))\n",
    "            logger.debug(f'{stint} {bylines.count()}')\n",
    "      \n",
    "from utils.merge_model_objects import merge_instances \n",
    "\n",
    "def join_stints(stints):\n",
    "    last = None\n",
    "    for stint in stints.order_by('start_date'):\n",
    "        if last and last.end_date > stint.start_date:\n",
    "            last.start_date = min(stint.start_date, last.start_date)\n",
    "            last.end_date = max(stint.end_date, last.end_date)\n",
    "            last.save()\n",
    "            last = merge_instances(last, stint)\n",
    "        else: \n",
    "            last = stint\n",
    "    return last\n",
    "    \n",
    "logger.setLevel('DEBUG')\n",
    "for title, credit in  [('journalist', 'text'), ('fotograf', 'photo'),\n",
    "('oversetter', 'translation'),  ('illustratør', 'illustration')]:\n",
    "    position, _ = Position.objects.get_or_create(title=title)\n",
    "    add_stints_from_bylines(position, credit)\n",
    "        \n",
    "    "
   ]
  },
  {
   "cell_type": "code",
   "execution_count": null,
   "metadata": {
    "scrolled": true
   },
   "outputs": [],
   "source": [
    "from django.utils import timezone\n",
    "\n",
    "def update_active(inactive_limit=timezone.timedelta(days=150)):\n",
    "    today = timezone.now().date()\n",
    "    for contributor in Contributor.objects.all():\n",
    "        all_bylines = contributor.byline_set.exclude(story__publication_date=None)\n",
    "        debatt_bylines = all_bylines.filter(story__story_type__section__title='Debatt')\n",
    "        status = Contributor.UNKNOWN\n",
    "        if all_bylines.count() == 0:\n",
    "            print(contributor)\n",
    "        elif all_bylines.count() == debatt_bylines.count():\n",
    "            status = contributor.EXTERNAL\n",
    "        elif contributor.stint_set.count():\n",
    "            latest = contributor.stint_set.latest('start_date')\n",
    "            if not latest.end_date:\n",
    "                  \n",
    "                delta = today - latest.end_date\n",
    "                if delta < timezone.timedelta(0):\n",
    "                    \n",
    "                    \n",
    "            if today - latest.end_date > inactive_limit:\n",
    "                status = contributor.RETIRED\n",
    "            if today - latest.end_date > inactive_limit:\n",
    "            else:\n",
    "                status = contributor.ACTIVE\n",
    "        if status != contributor.status:\n",
    "            contributor.status=status \n",
    "            contributor.save(update_fields=['status'])\n",
    "        \n",
    "        print(f'{str(contributor):<40} {contributor.get_status_display():<10} {contributor.byline_set.count():>5}')\n",
    "\n",
    "update_active()\n",
    "unknowns = Contributor.objects.filter(status=Contributor.UNKNOWN)\n",
    "active = Contributor.objects.filter(status=Contributor.ACTIVE)\n",
    "retired = Contributor.objects.filter(status=Contributor.RETIRED)\n",
    "print(unknowns.count(), active.count(), retired.count())"
   ]
  },
  {
   "cell_type": "code",
   "execution_count": null,
   "metadata": {},
   "outputs": [],
   "source": [
    "delta = timezone.timedelta(1)\n",
    "delta < timezone.timedelta()"
   ]
  },
  {
   "cell_type": "code",
   "execution_count": null,
   "metadata": {
    "scrolled": true
   },
   "outputs": [],
   "source": [
    "for person in unknowns:\n",
    "    print(person)\n",
    "    for stint in person.stint_set.all():\n",
    "        print(stint)\n",
    "    print()\n",
    "    #for byline in person.byline_set.all():\n",
    "    #    print(byline, byline.story.publication_date, byline.story.section)"
   ]
  },
  {
   "cell_type": "code",
   "execution_count": null,
   "metadata": {},
   "outputs": [],
   "source": [
    "# Fjern ubrukte artikkeltyper\n",
    "\n",
    "for st in StoryType.objects.all():\n",
    "    if st.story_set.count() == 0:\n",
    "        print(st)\n",
    "        st.delete()\n",
    "        \n",
    "for sec in Section.objects.all():\n",
    "    story_types = sec.storytype_set.all()\n",
    "    if story_types.count() == 0:\n",
    "        sec.delete()\n",
    "    print(sec)\n",
    "    for story_type in story_types:\n",
    "        print('   ', story_type, story_type.story_set.count())"
   ]
  },
  {
   "cell_type": "code",
   "execution_count": null,
   "metadata": {},
   "outputs": [],
   "source": []
  }
 ],
 "metadata": {
  "kernelspec": {
   "display_name": "Django Shell-Plus",
   "language": "python",
   "name": "django_extensions"
  },
  "language_info": {
   "codemirror_mode": {
    "name": "ipython",
    "version": 3
   },
   "file_extension": ".py",
   "mimetype": "text/x-python",
   "name": "python",
   "nbconvert_exporter": "python",
   "pygments_lexer": "ipython3",
   "version": "3.6.2"
  }
 },
 "nbformat": 4,
 "nbformat_minor": 2
}
