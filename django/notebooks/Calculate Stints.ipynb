{
 "cells": [
  {
   "cell_type": "code",
   "execution_count": 1,
   "metadata": {},
   "outputs": [],
   "source": [
    "from apps.contributors.calculate_stints import create_stints_from_pdfs, create_stints_from_bylines\n",
    "from apps.contributors.tasks import connect_contributor_to_user, update_status, update_contributor_status\n",
    "from django.utils import timezone\n",
    "from IPython.core.debugger import set_trace as bp\n",
    "from PIL import Image\n",
    "from utils.merge_model_objects import merge_instances\n",
    "import logging"
   ]
  },
  {
   "cell_type": "code",
   "execution_count": 2,
   "metadata": {},
   "outputs": [
    {
     "name": "stdout",
     "output_type": "stream",
     "text": [
      "Ingeborg Grindheim Slinde 2\n",
      "Foo Bar 1\n",
      "Ingeborg Grindheim Slinde 3\n",
      "Foo Bar 0\n"
     ]
    }
   ],
   "source": [
    "# test model merge\n",
    "ingis = Contributor.objects.get(display_name__istartswith='Ingeborg Grindheim Slinde')\n",
    "pingis = (\n",
    "    Contributor.objects.filter(display_name='Foo Bar').first() or\n",
    "    Contributor.objects.create(display_name='Foo Bar')\n",
    ")\n",
    "bl = ingis.byline_set.first()\n",
    "bl.contributor = pingis\n",
    "bl.save()\n",
    "pingis.byline_photo = ingis.byline_photo\n",
    "ingis.byline_photo = None\n",
    "ingis.save()\n",
    "pingis.save()\n",
    "ingis.refresh_from_db()\n",
    "pingis.refresh_from_db()\n",
    "for ngis in ingis, pingis:\n",
    "    print(ngis, ngis.bylines_count())\n",
    "merge_instances(ingis, pingis)\n",
    "for ngis in ingis, pingis:\n",
    "    print(ngis, ngis.bylines_count())"
   ]
  },
  {
   "cell_type": "code",
   "execution_count": 3,
   "metadata": {},
   "outputs": [
    {
     "data": {
      "text/plain": [
       "<StintQuerySet [<Stint: journalist: Ingeborg Grindheim Slinde 2017-06-04 – >]>"
      ]
     },
     "execution_count": 3,
     "metadata": {},
     "output_type": "execute_result"
    }
   ],
   "source": [
    "ingis.stint_set.all()"
   ]
  },
  {
   "cell_type": "code",
   "execution_count": 4,
   "metadata": {},
   "outputs": [
    {
     "data": {
      "image/png": "[encoded data removed]",
      "text/plain": [
       "<PIL.JpegImagePlugin.JpegImageFile image mode=L size=150x150 at 0x7FACD58634E0>"
      ]
     },
     "execution_count": 4,
     "metadata": {},
     "output_type": "execute_result"
    }
   ],
   "source": [
    "kenneth =  Contributor.objects.get(display_name='Kenneth Haug')\n",
    "kenneth.byline_photo.delete_thumbnails()\n",
    "Image.open(kenneth.byline_photo.preview)"
   ]
  },
  {
   "cell_type": "code",
   "execution_count": 5,
   "metadata": {},
   "outputs": [
    {
     "name": "stdout",
     "output_type": "stream",
     "text": [
      "Hans Christian Paulsen        False False \n",
      "Hanna Skotheim                Hanna-Skotheim.jpg b3e14de898b6c4e8 \n",
      "Kristina Kvammen              Kristina-Kvammen.jpg 2a6a62f8c9c884c8 \n",
      "Mads Randen                   Mads-Randen.jpg 12b0a1f0dcb44c4e \n",
      "Markus Slettholm              Markus-Slettholm.jpg 201031a532e0948a \n",
      "Emilie Solberg                Emilie-Solberg.jpg 2040a161e989898c \n",
      "Regine Stokstad               Regine-Stokstad.jpg 2040aae262e18884 \n",
      "Runa Fjellanger               Runa-Fjellanger.jpg 2000f16464f09396 \n",
      "Mathias Gravdehaug            Mathias-Gravdehaug.jpg 30007074b470e810 \n",
      "Signe Rosenlund-Hauglid       Signe-Rosenlund-Hauglid.jpg 10a521d484928786 \n",
      "Lise Blekastad                Lise-Blekastad.jpg b46269d9d8e8b892 \n",
      "Joakim Stene Preston          False False \n",
      "Birk Tjeldflaat Helle         False False \n",
      "Erlend Dalhaug Daae           False False \n",
      "Maria Terese Kittilsen        Maria-Terese-Kittilsen.jpg a4a230f0c696d6d4 \n",
      "Jens Lægreid                  False False \n",
      "Morten Oftedal Schwenke       False False \n",
      "Marcus Pettersen Irgens       False False \n",
      "Nomen Nescio                  False False \n",
      "Ingeborg Grindheim Slinde     Ingeborg-Grindheim-Slinde_IN7z5H1.jpg 40b26069c8e4689f \n",
      "Henriette Dæhli               Henriette-Daehli.jpg 30596968ecd6bad5 \n",
      "Sondre Myhre                  Sondre-Myhre.jpg b0a128e8c4a68ccd \n",
      "Marianne Demmo                Marianne-Demmo.jpg 2048a06161b8a9a9 \n",
      "Angelique Culvin              Angelique-Culvin.jpg 0800187db8f0caca \n",
      "Kenneth Haug                  Kenneth-Haug.jpg 400060486ae084a8 \n",
      "Hannah Berg                   Hannah-Berg.jpg 2000a8b121d8a88c \n",
      "Svein Stølen                  False False \n",
      "Kristine Sørheim              False False \n",
      "Simen August Askeland         False False \n",
      "Fredrik Arff                  False False \n",
      "Gro Bjørnerud Mo              False False \n",
      "Håken Lid                     False False \n",
      "Øivind Hovland                False False \n",
      "Mari Mjaaland                 Mari-Mjaaland.jpg 67e3cacb81d188b9 \n",
      "Torbjørn Røe Isaksen          False False \n",
      "Kristina Holt                 Kristina-Holt.jpg b5b160b165e412aa \n",
      "Odin Drønen                   Odin-Dronen.jpg 1ab031f4b4f4e0f8 \n",
      "Lina Christensen              Lina-Christensen.jpg b2a260ea96aa93a6 \n",
      "Pia Ottilia Danielsen         False False \n",
      "Kari Eiring                   Kari-Eiring.jpg 44b2696161ca906c \n",
      "Adrian Simen Holm             Adrian-Simen-Holm.jpg a0a010d2d298ace2 \n",
      "Åsmund M. Kvifte              False False \n",
      "Gin&Tonic                     False False \n",
      "Aurora Sæverud                False False \n",
      "Stine Marie Tangenes          False False \n",
      "Marianne Giske                False False \n",
      "Stine Rotnes                  False False \n",
      "Roar Bye Blåsmo-Falnes        False False \n",
      "Olav Riise                    False False \n",
      "Morten Oftedal Schwencke      False False \n",
      "Magnus Ekeland                False False \n",
      "Nora Nygaard                  False False \n",
      "Lucas Ibanez-Fæhn             False False \n",
      "1997. 20. Mantel              False False \n",
      "Therese Norum Halvorsen       False False \n",
      "Maral Zadeh                   False False \n",
      "Johannes Fjeld                False False \n",
      "Julie Brundtland              Julie-Brundtland.jpg 104030e261d4a6a2 \n",
      "Frida Fliflet                 False False \n",
      "Kristian Müller Andersen      False False \n",
      "Eirin Bruholt                 False False \n",
      "Mathea Reine-Nilsen           False False \n",
      "Ragna Louise Sandvoll         False False \n",
      "Mikkel Ihle Tande             False False \n",
      "Vera Maria Gjermundsen        False False \n",
      "Peder Ebbesen                 False False \n",
      "Camilla Alexandra Lie         False False \n",
      "Nicolas Perez Prieto          False False \n"
     ]
    }
   ],
   "source": [
    "for cn in Contributor.objects.all():\n",
    "    im = cn.get_byline_image()\n",
    "    print(f'{str(cn):<30}{im} {im and im.imagehash} ')"
   ]
  },
  {
   "cell_type": "code",
   "execution_count": 7,
   "metadata": {
    "scrolled": false
   },
   "outputs": [
    {
     "name": "stderr",
     "output_type": "stream",
     "text": [
      "15:38:11 2017-09-30 [DEBUG] apps.contributors.calculate_stints calculate_stints.py:28   (create_stints_from_pdfs)\n",
      "\t2017-08-16 /media/pdf/3628ebbaa5df11e783a60242ac12000b/universitas_2017-16_mag.pdf\n",
      "\n",
      "\n",
      "15:38:11 2017-09-30 [DEBUG] apps.contributors.calculate_stints calculate_stints.py:28   (create_stints_from_pdfs)\n",
      "\t2017-09-06 /media/pdf/39208bdea5df11e783a60242ac12000b/universitas_2017-19_mag.pdf\n",
      "magasinredaktør: Signe Rosenlund-Hauglid\n",
      "magasinfotosjef: Kristina Kvammen\n",
      "\n",
      "15:38:12 2017-09-30 [DEBUG] apps.contributors.calculate_stints calculate_stints.py:28   (create_stints_from_pdfs)\n",
      "\t2017-09-06 /media/pdf/3c5f58b6a5df11e783a60242ac12000b/universitas_2017-19.pdf\n",
      "daglig leder: Joakim Stene Preston\n",
      "redaktør: Birk Tjeldflaat Helle\n",
      "nyhetsleder: Mads Randen\n",
      "fotosjef: Erlend Dalhaug Daae\n",
      "desksjef: Lise Blekastad\n",
      "nettredaktør: Markus Slettholm\n",
      "magasinredaktør: Signe Rosenlund-Hauglid\n",
      "utenriksredaktør: Emilie Solberg\n",
      "kulturredaktør: Regine Stokstad\n",
      "debattredaktør: Runa Fjellanger\n",
      "anmelderredaktør: Mathias Gravdehaug\n",
      "\n",
      "15:38:12 2017-09-30 [DEBUG] apps.contributors.calculate_stints calculate_stints.py:28   (create_stints_from_pdfs)\n",
      "\t2017-08-23 /media/pdf/411164daa5df11e783a60242ac12000b/universitas_2017-17.pdf\n",
      "daglig leder: Joakim Stene Preston\n",
      "redaktør: Birk Tjeldflaat Helle\n",
      "nyhetsleder: Birk Tjeldflaat Helle\n",
      "fotosjef: Erlend Dalhaug Daae\n",
      "desksjef: Lise Blekastad\n",
      "nettredaktør: Markus Slettholm\n",
      "magasinredaktør: Signe Rosenlund-Hauglid\n",
      "kulturredaktør: Regine Stokstad\n",
      "utenriksredaktør: Emilie Solberg\n",
      "debattredaktør: Runa Fjellanger\n",
      "anmelderredaktør: Mathias Gravdehaug\n",
      "\n",
      "15:38:13 2017-09-30 [DEBUG] apps.contributors.calculate_stints calculate_stints.py:28   (create_stints_from_pdfs)\n",
      "\t2017-09-20 /media/pdf/45b50aa0a5df11e783a60242ac12000b/universitas_2017-21.pdf\n",
      "daglig leder: Joakim Stene Preston\n",
      "redaktør: Birk Tjeldflaat Helle\n",
      "nyhetsleder: Mads Randen\n",
      "fotosjef: Erlend Dalhaug Daae\n",
      "desksjef: Lise Blekastad\n",
      "nettredaktør: Markus Slettholm\n",
      "magasinredaktør: Signe Rosenlund-Hauglid\n",
      "debattredaktør: Runa Fjellanger\n",
      "kulturredaktør: Regine Stokstad\n",
      "utenriksredaktør: Emilie Solberg\n",
      "anmelderredaktør: Mathias Gravdehaug\n",
      "\n",
      "15:38:14 2017-09-30 [DEBUG] apps.contributors.calculate_stints calculate_stints.py:28   (create_stints_from_pdfs)\n",
      "\t2017-09-13 /media/pdf/4adad9baa5df11e783a60242ac12000b/universitas_2017-20.pdf\n",
      "daglig leder: Joakim Stene Preston\n",
      "redaktør: Birk Tjeldflaat Helle\n",
      "nyhetsleder: Mads Randen\n",
      "fotosjef: Erlend Dalhaug Daae\n",
      "desksjef: Lise Blekastad\n",
      "nettredaktør: Markus Slettholm\n",
      "magasinredaktør: Signe Rosenlund-Hauglid\n",
      "kulturredaktør: Regine Stokstad\n",
      "debattredaktør: Runa Fjellanger\n",
      "anmelderredaktør: Mathias Gravdehaug\n",
      "\n",
      "15:38:15 2017-09-30 [DEBUG] apps.contributors.calculate_stints calculate_stints.py:28   (create_stints_from_pdfs)\n",
      "\t2017-08-16 /media/pdf/2c0c1512a5df11e783a60242ac12000b/universitas_2017-16.pdf\n",
      "daglig leder: Joakim Stene Preston\n",
      "redaktør: Birk Tjeldflaat Helle\n",
      "nyhetsleder: Mads Randen\n",
      "fotosjef: Erlend Dalhaug Daae\n",
      "desksjef: Lise Blekastad\n",
      "nettredaktør: Markus Slettholm\n",
      "magasinredaktør: Signe Rosenlund-Hauglid\n",
      "kulturredaktør: Regine Stokstad\n",
      "debattredaktør: Runa Fjellanger\n",
      "anmelderredaktør: Mathias Gravdehaug\n",
      "\n",
      "15:38:15 2017-09-30 [DEBUG] apps.contributors.calculate_stints calculate_stints.py:28   (create_stints_from_pdfs)\n",
      "\t2017-08-30 /media/pdf/314299aca5df11e783a60242ac12000b/universitas_2017-18.pdf\n",
      "daglig leder: Joakim Stene Preston\n",
      "redaktør: Birk Tjeldflaat Helle\n",
      "nyhetsleder: Mads Randen\n",
      "fotosjef: Erlend Dalhaug Daae\n",
      "desksjef: Lise Blekastad\n",
      "nettredaktør: Markus Slettholm\n",
      "magasinredaktør: Signe Rosenlund-Hauglid\n",
      "kulturredaktør: Regine Stokstad\n",
      "debattredaktør: Runa Fjellanger\n",
      "anmelderredaktør: Mathias Gravdehaug\n",
      "\n",
      "15:38:16 2017-09-30 [DEBUG] apps.contributors.calculate_stints calculate_stints.py:93   (_add_stints_from_bylines)\n",
      "\tjournalist Ingeborg Grindheim Slinde 2\n",
      "\n",
      "15:38:16 2017-09-30 [DEBUG] apps.contributors.calculate_stints calculate_stints.py:93   (_add_stints_from_bylines)\n",
      "\tjournalist Johannes Fjeld 2\n",
      "\n",
      "15:38:16 2017-09-30 [DEBUG] apps.contributors.calculate_stints calculate_stints.py:93   (_add_stints_from_bylines)\n",
      "\tjournalist Frida Fliflet 2\n",
      "\n",
      "15:38:16 2017-09-30 [DEBUG] apps.contributors.calculate_stints calculate_stints.py:93   (_add_stints_from_bylines)\n",
      "\tjournalist Mikkel Ihle Tande 2\n",
      "\n",
      "15:38:16 2017-09-30 [DEBUG] apps.contributors.calculate_stints calculate_stints.py:93   (_add_stints_from_bylines)\n",
      "\tjournalist Vera Maria Gjermundsen 2\n",
      "\n",
      "15:38:16 2017-09-30 [DEBUG] apps.contributors.calculate_stints calculate_stints.py:93   (_add_stints_from_bylines)\n",
      "\tfotograf Angelique Culvin 3\n",
      "\n",
      "15:38:16 2017-09-30 [DEBUG] apps.contributors.calculate_stints calculate_stints.py:93   (_add_stints_from_bylines)\n",
      "\tfotograf Roar Bye Blåsmo-Falnes 2\n",
      "\n",
      "15:38:16 2017-09-30 [DEBUG] apps.contributors.calculate_stints calculate_stints.py:93   (_add_stints_from_bylines)\n",
      "\tfotograf Lucas Ibanez-Fæhn 3\n",
      "\n",
      "15:38:16 2017-09-30 [DEBUG] apps.contributors.calculate_stints calculate_stints.py:93   (_add_stints_from_bylines)\n",
      "\tfotograf Maral Zadeh 3\n",
      "\n",
      "15:38:17 2017-09-30 [DEBUG] apps.contributors.calculate_stints calculate_stints.py:93   (_add_stints_from_bylines)\n",
      "\tfotograf Camilla Alexandra Lie 2\n",
      "\n",
      "15:38:17 2017-09-30 [DEBUG] apps.contributors.calculate_stints calculate_stints.py:93   (_add_stints_from_bylines)\n",
      "\tillustratør Øivind Hovland 2\n",
      "\n"
     ]
    },
    {
     "data": {
      "text/plain": [
       "24"
      ]
     },
     "execution_count": 7,
     "metadata": {},
     "output_type": "execute_result"
    }
   ],
   "source": [
    "since = timezone.now() - timezone.timedelta(days=10000)\n",
    "pdfs = PrintIssue.objects.filter(issue__publication_date__gt=since)\n",
    "dry_run=False\n",
    "Stint.objects.all().delete()\n",
    "#logging.disable(logging.DEBUG)\n",
    "create_stints_from_pdfs(pdfs, dry_run)\n",
    "create_stints_from_bylines(dry_run, since)\n",
    "logging.disable(logging.NOTSET)\n",
    "Stint.objects.count()"
   ]
  },
  {
   "cell_type": "code",
   "execution_count": 12,
   "metadata": {},
   "outputs": [
    {
     "name": "stderr",
     "output_type": "stream",
     "text": [
      "19:35:01 2017-09-30 [WARNING] apps.contributors.tasks     tasks.py:33   (connect_contributor_to_user)\n",
      "\tCannot create user for Kristina Kvammen without an email\n",
      "\n",
      "19:35:01 2017-09-30 [WARNING] apps.contributors.tasks     tasks.py:33   (connect_contributor_to_user)\n",
      "\tCannot create user for Mads Randen without an email\n",
      "\n",
      "19:35:01 2017-09-30 [WARNING] apps.contributors.tasks     tasks.py:33   (connect_contributor_to_user)\n",
      "\tCannot create user for Markus Slettholm without an email\n",
      "\n",
      "19:35:01 2017-09-30 [WARNING] apps.contributors.tasks     tasks.py:33   (connect_contributor_to_user)\n",
      "\tCannot create user for Emilie Solberg without an email\n",
      "\n",
      "19:35:01 2017-09-30 [WARNING] apps.contributors.tasks     tasks.py:33   (connect_contributor_to_user)\n",
      "\tCannot create user for Regine Stokstad without an email\n",
      "\n",
      "19:35:01 2017-09-30 [WARNING] apps.contributors.tasks     tasks.py:33   (connect_contributor_to_user)\n",
      "\tCannot create user for Runa Fjellanger without an email\n",
      "\n",
      "19:35:02 2017-09-30 [WARNING] apps.contributors.tasks     tasks.py:33   (connect_contributor_to_user)\n",
      "\tCannot create user for Mathias Gravdehaug without an email\n",
      "\n",
      "19:35:02 2017-09-30 [WARNING] apps.contributors.tasks     tasks.py:33   (connect_contributor_to_user)\n",
      "\tCannot create user for Signe Rosenlund-Hauglid without an email\n",
      "\n",
      "19:35:02 2017-09-30 [WARNING] apps.contributors.tasks     tasks.py:33   (connect_contributor_to_user)\n",
      "\tCannot create user for Lise Blekastad without an email\n",
      "\n"
     ]
    },
    {
     "name": "stdout",
     "output_type": "stream",
     "text": [
      "Hans Christian Paulsen         Ukjent    None\n",
      "Hanna Skotheim                 Ukjent    HannaSkotheim\n",
      "Kristina Kvammen               Aktiv     None\n",
      "Mads Randen                    Aktiv     None\n",
      "Markus Slettholm               Aktiv     None\n",
      "Emilie Solberg                 Aktiv     None\n",
      "Regine Stokstad                Aktiv     None\n",
      "Runa Fjellanger                Aktiv     None\n",
      "Mathias Gravdehaug             Aktiv     None\n",
      "Signe Rosenlund-Hauglid        Aktiv     None\n",
      "Lise Blekastad                 Aktiv     None\n",
      "Joakim Stene Preston           Aktiv     jspreston\n"
     ]
    },
    {
     "name": "stderr",
     "output_type": "stream",
     "text": [
      "19:35:02 2017-09-30 [WARNING] apps.contributors.tasks     tasks.py:33   (connect_contributor_to_user)\n",
      "\tCannot create user for Erlend Dalhaug Daae without an email\n",
      "\n",
      "19:35:02 2017-09-30 [WARNING] apps.contributors.tasks     tasks.py:33   (connect_contributor_to_user)\n",
      "\tCannot create user for Ingeborg Grindheim Slinde without an email\n",
      "\n",
      "19:35:02 2017-09-30 [WARNING] apps.contributors.tasks     tasks.py:33   (connect_contributor_to_user)\n",
      "\tCannot create user for Angelique Culvin without an email\n",
      "\n"
     ]
    },
    {
     "name": "stdout",
     "output_type": "stream",
     "text": [
      "Birk Tjeldflaat Helle          Aktiv     BirkTH\n",
      "Erlend Dalhaug Daae            Aktiv     None\n",
      "Maria Terese Kittilsen         Ekstern   None\n",
      "Jens Lægreid                   Ekstern   None\n",
      "Morten Oftedal Schwenke        Ukjent    None\n",
      "Marcus Pettersen Irgens        Ekstern   None\n",
      "Nomen Nescio                   Ekstern   None\n",
      "Ingeborg Grindheim Slinde      Aktiv     None\n",
      "Henriette Dæhli                Slutta    None\n",
      "Sondre Myhre                   Slutta    sondremyhre\n",
      "Marianne Demmo                 Slutta    None\n",
      "Angelique Culvin               Aktiv     None\n",
      "Kenneth Haug                   Slutta    kennethkandolfhaug\n",
      "Hannah Berg                    Slutta    hannahberg\n",
      "Svein Stølen                   Slutta    None\n",
      "Kristine Sørheim               Slutta    None\n"
     ]
    },
    {
     "name": "stderr",
     "output_type": "stream",
     "text": [
      "19:35:02 2017-09-30 [WARNING] apps.contributors.tasks     tasks.py:33   (connect_contributor_to_user)\n",
      "\tCannot create user for Øivind Hovland without an email\n",
      "\n",
      "19:35:02 2017-09-30 [WARNING] apps.contributors.tasks     tasks.py:33   (connect_contributor_to_user)\n",
      "\tCannot create user for Roar Bye Blåsmo-Falnes without an email\n",
      "\n"
     ]
    },
    {
     "name": "stdout",
     "output_type": "stream",
     "text": [
      "Simen August Askeland          Slutta    None\n",
      "Fredrik Arff                   Slutta    None\n",
      "Gro Bjørnerud Mo               Slutta    None\n",
      "Håken Lid                      Slutta    haakenlid\n",
      "Øivind Hovland                 Aktiv     None\n",
      "Mari Mjaaland                  Slutta    marimjaaland\n",
      "Torbjørn Røe Isaksen           Slutta    None\n",
      "Kristina Holt                  Slutta    kristinaholt\n",
      "Odin Drønen                    Slutta    odindro\n",
      "Lina Christensen               Slutta    linachristens\n",
      "Pia Ottilia Danielsen          Slutta    None\n",
      "Kari Eiring                    Slutta    karieiring\n",
      "Adrian Simen Holm              Slutta    adriansimenholm\n",
      "Åsmund M. Kvifte               Slutta    None\n",
      "Gin&Tonic                      Slutta    None\n",
      "Aurora Sæverud                 Slutta    None\n",
      "Stine Marie Tangenes           Slutta    None\n",
      "Roar Bye Blåsmo-Falnes         Aktiv     None\n",
      "Marianne Giske                 Slutta    None\n",
      "Stine Rotnes                   Slutta    None\n",
      "Olav Riise                     Slutta    None\n",
      "Morten Oftedal Schwencke       Slutta    Schwencke\n",
      "Magnus Ekeland                 Slutta    magnusekeland\n",
      "Nora Nygaard                   Slutta    noranygaard\n"
     ]
    },
    {
     "name": "stderr",
     "output_type": "stream",
     "text": [
      "19:35:02 2017-09-30 [WARNING] apps.contributors.tasks     tasks.py:33   (connect_contributor_to_user)\n",
      "\tCannot create user for Lucas Ibanez-Fæhn without an email\n",
      "\n",
      "19:35:02 2017-09-30 [WARNING] apps.contributors.tasks     tasks.py:33   (connect_contributor_to_user)\n",
      "\tCannot create user for Maral Zadeh without an email\n",
      "\n",
      "19:35:02 2017-09-30 [WARNING] apps.contributors.tasks     tasks.py:33   (connect_contributor_to_user)\n",
      "\tCannot create user for Johannes Fjeld without an email\n",
      "\n",
      "19:35:02 2017-09-30 [WARNING] apps.contributors.tasks     tasks.py:33   (connect_contributor_to_user)\n",
      "\tCannot create user for Frida Fliflet without an email\n",
      "\n",
      "19:35:02 2017-09-30 [WARNING] apps.contributors.tasks     tasks.py:33   (connect_contributor_to_user)\n",
      "\tCannot create user for Mikkel Ihle Tande without an email\n",
      "\n",
      "19:35:02 2017-09-30 [WARNING] apps.contributors.tasks     tasks.py:33   (connect_contributor_to_user)\n",
      "\tCannot create user for Vera Maria Gjermundsen without an email\n",
      "\n",
      "19:35:02 2017-09-30 [WARNING] apps.contributors.tasks     tasks.py:33   (connect_contributor_to_user)\n",
      "\tCannot create user for Camilla Alexandra Lie without an email\n",
      "\n"
     ]
    },
    {
     "name": "stdout",
     "output_type": "stream",
     "text": [
      "Lucas Ibanez-Fæhn              Aktiv     None\n",
      "1997. 20. Mantel               Slutta    None\n",
      "Therese Norum Halvorsen        Slutta    None\n",
      "Maral Zadeh                    Aktiv     None\n",
      "Johannes Fjeld                 Aktiv     None\n",
      "Julie Brundtland               Slutta    None\n",
      "Frida Fliflet                  Aktiv     None\n",
      "Kristian Müller Andersen       Slutta    None\n",
      "Eirin Bruholt                  Slutta    None\n",
      "Mathea Reine-Nilsen            Slutta    None\n",
      "Ragna Louise Sandvoll          Slutta    None\n",
      "Mikkel Ihle Tande              Aktiv     None\n",
      "Vera Maria Gjermundsen         Aktiv     None\n",
      "Peder Ebbesen                  Slutta    None\n",
      "Camilla Alexandra Lie          Aktiv     None\n",
      "Nicolas Perez Prieto           Slutta    None\n"
     ]
    }
   ],
   "source": [
    "User.objects.filter(username__startswith='(').delete()\n",
    "for contributor in Contributor.objects.all():\n",
    "    if contributor.stint_set.active():\n",
    "        contributor.status = contributor.ACTIVE\n",
    "        connect_contributor_to_user(contributor, create=True)\n",
    "    elif contributor.status == contributor.ACTIVE:\n",
    "        contributor.status = contributor.RETIRED\n",
    "    contributor.save()\n",
    "    print(f'{str(contributor):<30} {contributor.get_status_display():<9} {contributor.user}')"
   ]
  },
  {
   "cell_type": "code",
   "execution_count": 20,
   "metadata": {
    "scrolled": false
   },
   "outputs": [
    {
     "name": "stdout",
     "output_type": "stream",
     "text": [
      "Hans Christian Paulsen                   Ukjent         2\n",
      "Hanna Skotheim                           Ukjent         1\n",
      "Kristina Kvammen                         Ekstern        0\n",
      "Mads Randen                              Ekstern        0\n",
      "Markus Slettholm                         Ekstern        0\n",
      "Emilie Solberg                           Ekstern        0\n",
      "Regine Stokstad                          Ekstern        0\n",
      "Runa Fjellanger                          Ekstern        0\n",
      "Mathias Gravdehaug                       Ekstern        0\n",
      "Signe Rosenlund-Hauglid                  Ekstern        0\n",
      "Lise Blekastad                           Ekstern        0\n",
      "Joakim Stene Preston                     Ekstern        0\n",
      "Birk Tjeldflaat Helle                    Ekstern        0\n",
      "Erlend Dalhaug Daae                      Ekstern        0\n",
      "Maria Terese Kittilsen                   Ekstern        1\n",
      "Jens Lægreid                             Ekstern        2\n",
      "Morten Oftedal Schwenke                  Ukjent         1\n",
      "Marcus Pettersen Irgens                  Ekstern        1\n",
      "Nomen Nescio                             Ekstern        2\n"
     ]
    },
    {
     "ename": "TypeError",
     "evalue": "unsupported operand type(s) for -: 'datetime.date' and 'NoneType'",
     "output_type": "error",
     "traceback": [
      "\u001b[0;31m---------------------------------------------------------------------------\u001b[0m",
      "\u001b[0;31mTypeError\u001b[0m                                 Traceback (most recent call last)",
      "\u001b[0;32m<ipython-input-20-25e3e408163f>\u001b[0m in \u001b[0;36m<module>\u001b[0;34m()\u001b[0m\n\u001b[1;32m     30\u001b[0m         \u001b[0mprint\u001b[0m\u001b[0;34m(\u001b[0m\u001b[0;34mf'{str(contributor):<40} {contributor.get_status_display():<10} {contributor.byline_set.count():>5}'\u001b[0m\u001b[0;34m)\u001b[0m\u001b[0;34m\u001b[0m\u001b[0m\n\u001b[1;32m     31\u001b[0m \u001b[0;34m\u001b[0m\u001b[0m\n\u001b[0;32m---> 32\u001b[0;31m \u001b[0mupdate_active\u001b[0m\u001b[0;34m(\u001b[0m\u001b[0;34m)\u001b[0m\u001b[0;34m\u001b[0m\u001b[0m\n\u001b[0m\u001b[1;32m     33\u001b[0m \u001b[0munknowns\u001b[0m \u001b[0;34m=\u001b[0m \u001b[0mContributor\u001b[0m\u001b[0;34m.\u001b[0m\u001b[0mobjects\u001b[0m\u001b[0;34m.\u001b[0m\u001b[0mfilter\u001b[0m\u001b[0;34m(\u001b[0m\u001b[0mstatus\u001b[0m\u001b[0;34m=\u001b[0m\u001b[0mContributor\u001b[0m\u001b[0;34m.\u001b[0m\u001b[0mUNKNOWN\u001b[0m\u001b[0;34m)\u001b[0m\u001b[0;34m\u001b[0m\u001b[0m\n\u001b[1;32m     34\u001b[0m \u001b[0mactive\u001b[0m \u001b[0;34m=\u001b[0m \u001b[0mContributor\u001b[0m\u001b[0;34m.\u001b[0m\u001b[0mobjects\u001b[0m\u001b[0;34m.\u001b[0m\u001b[0mfilter\u001b[0m\u001b[0;34m(\u001b[0m\u001b[0mstatus\u001b[0m\u001b[0;34m=\u001b[0m\u001b[0mContributor\u001b[0m\u001b[0;34m.\u001b[0m\u001b[0mACTIVE\u001b[0m\u001b[0;34m)\u001b[0m\u001b[0;34m\u001b[0m\u001b[0m\n",
      "\u001b[0;32m<ipython-input-20-25e3e408163f>\u001b[0m in \u001b[0;36mupdate_active\u001b[0;34m(inactive_limit)\u001b[0m\n\u001b[1;32m     13\u001b[0m             \u001b[0;32mif\u001b[0m \u001b[0;32mnot\u001b[0m \u001b[0mlatest\u001b[0m\u001b[0;34m.\u001b[0m\u001b[0mend_date\u001b[0m\u001b[0;34m:\u001b[0m\u001b[0;34m\u001b[0m\u001b[0m\n\u001b[1;32m     14\u001b[0m \u001b[0;34m\u001b[0m\u001b[0m\n\u001b[0;32m---> 15\u001b[0;31m                 \u001b[0mdelta\u001b[0m \u001b[0;34m=\u001b[0m \u001b[0mtoday\u001b[0m \u001b[0;34m-\u001b[0m \u001b[0mlatest\u001b[0m\u001b[0;34m.\u001b[0m\u001b[0mend_date\u001b[0m\u001b[0;34m\u001b[0m\u001b[0m\n\u001b[0m\u001b[1;32m     16\u001b[0m                 \u001b[0;32mif\u001b[0m \u001b[0mdelta\u001b[0m \u001b[0;34m<\u001b[0m \u001b[0mtimezone\u001b[0m\u001b[0;34m.\u001b[0m\u001b[0mtimedelta\u001b[0m\u001b[0;34m(\u001b[0m\u001b[0;36m0\u001b[0m\u001b[0;34m)\u001b[0m\u001b[0;34m:\u001b[0m\u001b[0;34m\u001b[0m\u001b[0m\n\u001b[1;32m     17\u001b[0m                     \u001b[0;32mpass\u001b[0m\u001b[0;34m\u001b[0m\u001b[0m\n",
      "\u001b[0;31mTypeError\u001b[0m: unsupported operand type(s) for -: 'datetime.date' and 'NoneType'"
     ]
    }
   ],
   "source": [
    "from django.utils import timezone\n",
    "\n",
    "# WIP\n",
    "\n",
    "def update_active(inactive_limit=timezone.timedelta(days=150)):\n",
    "    today = timezone.now().date()\n",
    "    for contributor in Contributor.objects.all():\n",
    "        all_bylines = contributor.byline_set.exclude(story__publication_date=None)\n",
    "        debatt_bylines = all_bylines.filter(story__story_type__section__title='Debatt')\n",
    "        status = Contributor.UNKNOWN\n",
    "        if all_bylines.count() == debatt_bylines.count():\n",
    "            status = contributor.EXTERNAL\n",
    "        elif contributor.stint_set.count() > 0:\n",
    "            latest = contributor.stint_set.latest('start_date')\n",
    "            if not latest.end_date:\n",
    "                  \n",
    "                delta = today - latest.end_date\n",
    "                if delta < timezone.timedelta(0):\n",
    "                    pass\n",
    "                    \n",
    "                    \n",
    "            if today - latest.end_date > inactive_limit:\n",
    "                status = contributor.RETIRED\n",
    "            if today - latest.end_date > inactive_limit:\n",
    "                pass\n",
    "            else:\n",
    "                status = contributor.ACTIVE\n",
    "        if status != contributor.status:\n",
    "            contributor.status=status \n",
    "            contributor.save(update_fields=['status'])\n",
    "        \n",
    "        print(f'{str(contributor):<40} {contributor.get_status_display():<10} {contributor.byline_set.count():>5}')\n",
    "\n",
    "update_active()\n",
    "unknowns = Contributor.objects.filter(status=Contributor.UNKNOWN)\n",
    "active = Contributor.objects.filter(status=Contributor.ACTIVE)\n",
    "retired = Contributor.objects.filter(status=Contributor.RETIRED)\n",
    "print(unknowns.count(), active.count(), retired.count())"
   ]
  }
 ],
 "metadata": {
  "kernelspec": {
   "display_name": "Django Shell-Plus",
   "language": "python",
   "name": "django_extensions"
  },
  "language_info": {
   "codemirror_mode": {
    "name": "ipython",
    "version": 3
   },
   "file_extension": ".py",
   "mimetype": "text/x-python",
   "name": "python",
   "nbconvert_exporter": "python",
   "pygments_lexer": "ipython3",
   "version": "3.6.2"
  }
 },
 "nbformat": 4,
 "nbformat_minor": 2
}
