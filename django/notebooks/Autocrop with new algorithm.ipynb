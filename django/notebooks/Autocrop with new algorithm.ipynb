{
 "cells": [
  {
   "cell_type": "code",
   "execution_count": 4,
   "metadata": {
    "collapsed": true
   },
   "outputs": [],
   "source": [
    "recrop = ImageFile.objects.photos().exclude(cropping_method= ImageFile.CROP_MANUAL).order_by('-created')"
   ]
  },
  {
   "cell_type": "code",
   "execution_count": 2,
   "metadata": {},
   "outputs": [
    {
     "name": "stdout",
     "output_type": "stream",
     "text": [
      "42853 0:00:01.560878\n",
      "42852 0:00:02.555700\n",
      "42851 0:00:03.833536\n",
      "42850 0:00:04.904762\n",
      "42849 0:00:06.172845\n",
      "42848 0:00:07.565353\n",
      "42847 0:00:09.194233\n",
      "42846 0:00:10.620303\n",
      "42845 0:00:12.291131\n",
      "42844 0:00:14.282550\n"
     ]
    }
   ],
   "source": [
    "from datetime import datetime\n",
    "from apps.photo.tasks import autocrop_image_file, post_save_task\n",
    "start = datetime.now()\n",
    "for pk in recrop.values_list('pk', flat=True)[:10]:\n",
    "    autocrop_image_file(pk)\n",
    "    post_save_task(pk)\n",
    "    print(pk, datetime.now()-start)\n",
    "    \n",
    "        \n",
    "    \n",
    "    "
   ]
  },
  {
   "cell_type": "code",
   "execution_count": 6,
   "metadata": {},
   "outputs": [
    {
     "data": {
      "text/plain": [
       "29884"
      ]
     },
     "execution_count": 6,
     "metadata": {},
     "output_type": "execute_result"
    }
   ],
   "source": [
    "recrop.update(cropping_method=ImageFile.CROP_PENDING)"
   ]
  },
  {
   "cell_type": "code",
   "execution_count": null,
   "metadata": {
    "collapsed": true
   },
   "outputs": [],
   "source": []
  }
 ],
 "metadata": {
  "kernelspec": {
   "display_name": "Django Shell-Plus",
   "language": "python",
   "name": "django_extensions"
  },
  "language_info": {
   "codemirror_mode": {
    "name": "ipython",
    "version": 3
   },
   "file_extension": ".py",
   "mimetype": "text/x-python",
   "name": "python",
   "nbconvert_exporter": "python",
   "pygments_lexer": "ipython3",
   "version": "3.6.1"
  }
 },
 "nbformat": 4,
 "nbformat_minor": 2
}
