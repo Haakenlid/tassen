{
 "metadata": {
  "name": "",
  "signature": "sha256:4704648ff89fe5aa0c833c65089339c36e1f9e7fbfe733f82b8e2f56eb427816"
 },
 "nbformat": 3,
 "nbformat_minor": 0,
 "worksheets": [
  {
   "cells": [
    {
     "cell_type": "code",
     "collapsed": true,
     "input": [
      "from diff_match_patch import diff_match_patch\n",
      "from IPython.display import HTML\n",
      "import django\n",
      "django.setup()\n",
      "from myapps.stories.models import Story"
     ],
     "language": "python",
     "metadata": {},
     "outputs": [],
     "prompt_number": 1
    },
    {
     "cell_type": "code",
     "collapsed": false,
     "input": [
      "import re\n",
      "@doctest\n",
      "def sim(str0, str1):\n",
      "    \"\"\" Compare strings\n",
      "\n",
      "    >>> testdata = [\n",
      "    ... ('a b', 'a_b', True), \n",
      "    ... ('a b', 'a b', True), \n",
      "    ... ('a b', 'ab',  True), \n",
      "    ... ('a b', 'a_b', True),\n",
      "    ... ('a b', 'a-b', True),\n",
      "    ... ('ab' , 'a_b', False),\n",
      "    ... ('ab' , 'a-b', False),\n",
      "    ... ('a_b', 'ab',  False),\n",
      "    ... ('a_b', 'a-b', False),\n",
      "    ... ('a-b', 'ab' , False),\n",
      "    ... ('a-b', 'a_b', False),\n",
      "    ... ]\n",
      "    >>> any(result == sim(str0, str1) for str0, str1, result in testdata)\n",
      "    True\n",
      "    \"\"\"\n",
      "    regexp = re.sub(r'\\s', 'WHITESPACE', str0)\n",
      "    regexp = re.sub('WHITESPACE', '[-_ ]?', re.escape(regexp))\n",
      "    result = bool(re.fullmatch(regexp, str1))\n",
      "    return result\n",
      "    #print(str0, str1, result)\n"
     ],
     "language": "python",
     "metadata": {},
     "outputs": [
      {
       "html": [
        "\n",
        "      <p style=\"color:green;font-size:250%;font-weight=bold\">Success!</p>\n",
        "      "
       ],
       "metadata": {},
       "output_type": "display_data"
      }
     ],
     "prompt_number": 66
    },
    {
     "cell_type": "code",
     "collapsed": false,
     "input": [
      "re.fullmatch?"
     ],
     "language": "python",
     "metadata": {},
     "outputs": [],
     "prompt_number": 57
    },
    {
     "cell_type": "code",
     "collapsed": false,
     "input": [
      "s = Story.objects.last()\n",
      "# s.bodytext_markup += ' '\n",
      "# %debug -b myapps/stories/models.py:525 s.get_html()\n",
      "HTML(s.get_html())"
     ],
     "language": "python",
     "metadata": {},
     "outputs": [
      {
       "html": [
        "<p>Placeholder</p>"
       ],
       "metadata": {},
       "output_type": "pyout",
       "prompt_number": 6,
       "text": [
        "<IPython.core.display.HTML at 0x7f66f18eab38>"
       ]
      }
     ],
     "prompt_number": 6
    },
    {
     "cell_type": "code",
     "collapsed": false,
     "input": [],
     "language": "python",
     "metadata": {},
     "outputs": [],
     "prompt_number": 3
    },
    {
     "cell_type": "code",
     "collapsed": false,
     "input": [
      "from IPython.display import HTML\n",
      "\n",
      "pretty = []\n",
      "for s in Story.objects.all()[:10]:\n",
      "    symbol = ' '\n",
      "    b1 = s.bodytext_markup  \n",
      "    h1 = s.bodytext_html\n",
      "    s.bodytext_html += ' extra '\n",
      "    #s.bodytext_markup += '\\n@sitat: Test\\n@sitatbyline: H\u00e5ken Lid, slabbedask\\n'\n",
      "    #b1 = s.bodytext_markup.replace('@sitat: Test', '').replace('@sitatbyline:H\u00e5ken Lid, slabbedask', '')\n",
      "    #s.bodytext_markup = b1\n",
      "    s.save(full_update=True)\n",
      "    b2 = s.bodytext_markup\n",
      "    h2 = s.bodytext_html\n",
      "\n",
      "    if (h1 != h2):\n",
      "        html = '<h3>html ({}) {} \\n</h3>'.format(s.id, s.title)\n",
      "        html += diff_it(h1, h2)\n",
      "        symbol += 'h'\n",
      "        pretty.append(html)\n",
      "\n",
      "    if (b1 != b2):\n",
      "        symbol += 'b'\n",
      "        html = '<h3>body ({}) {} \\n</h3>'.format(s.id, s.title)\n",
      "        html += diff_it(b1, b2)\n",
      "        pretty.append(html)\n",
      "\n",
      "    if (b1, h1) == (b2, h2):\n",
      "        symbol +='.'\n",
      "    \n",
      "    print(symbol, end='')\n",
      "    #print('{:50.50} html {:5}->{:5}  mark {:5}->{:5}'.format(s.title[:50], len(h1), len(h2), len(b1), len(b2)))\n",
      "if pretty:\n",
      "    pretty = [r'<h2>Changes</h2>'] + pretty\n",
      "else:\n",
      "    pretty.append('<h2>OK!</h2>')\n",
      "\n",
      "HTML('\\n<hr>\\n'.join(pretty))"
     ],
     "language": "python",
     "metadata": {},
     "outputs": [
      {
       "output_type": "stream",
       "stream": "stdout",
       "text": [
        " h h"
       ]
      },
      {
       "output_type": "stream",
       "stream": "stdout",
       "text": [
        " h"
       ]
      },
      {
       "output_type": "stream",
       "stream": "stdout",
       "text": [
        " h"
       ]
      },
      {
       "output_type": "stream",
       "stream": "stdout",
       "text": [
        " h"
       ]
      },
      {
       "output_type": "stream",
       "stream": "stdout",
       "text": [
        " h"
       ]
      },
      {
       "output_type": "stream",
       "stream": "stdout",
       "text": [
        " h"
       ]
      },
      {
       "output_type": "stream",
       "stream": "stdout",
       "text": [
        " h"
       ]
      },
      {
       "output_type": "stream",
       "stream": "stdout",
       "text": [
        " h"
       ]
      },
      {
       "output_type": "stream",
       "stream": "stdout",
       "text": [
        " h"
       ]
      },
      {
       "html": [
        "<h2>Changes</h2>\n",
        "<hr>\n",
        "<h3>html (0) Avkledd for kunsten \n",
        "</h3><span>&lt;p&gt;&para;<br> \u2013 P\u00e5 Centrum Athletica st\u00e5r en utsvettet student og n\u00f8ler i trappen mellom treningsstudio og garderobe.&para;<br>&lt;/p&gt;&para;<br>&lt;p&gt;&para;<br> \u2013 \u00d8h... begynner han.&para;<br>&lt;/p&gt;&para;<br>&lt;p&gt;&para;<br> Jan Marius Ki\u00f8sterud introduserer seg, og forklarer at han observerte min kropp i utt\u00f8yningssituasjonen, hvilket avsl\u00f8rte interessante fasonger. Og at han har studert keramikk ved kunstfag p\u00e5 Kunsth\u00f8gskolen i Oslo (KHiO) siden h\u00f8sten 2008. S\u00e5 tar han sats, og letter hjertet:&para;<br>&lt;/p&gt;&para;<br>&lt;p&gt;&para;<br> \u2013 Vil du st\u00e5 modell for meg?&para;<br>&lt;/p&gt;&para;<br>&lt;p&gt;&para;<br> Et finurlig sjekketriks. Eller finner han inspirasjon i meg? \u00c5 v\u00e6re en kunstners muse virker eksklusivt. Og litt skummelt. S\u00e6rlig siden det snart blir klart at jeg m\u00e5 av med kl\u00e6rne. Men hva kan egentlig skje?&para;<br>&lt;/p&gt;&para;<br>&lt;p&gt;&para;<br> \u2013 Ok. Hvis jeg kan skrive om det, sier jeg.&para;<br>&lt;/p&gt;&para;<br>&lt;p&gt;&para;<br> Ki\u00f8steruds atelier prydes av utstillingsdukken han fant i en container, stolen han reparerte med gaffateip, samt andre ting han har plukket opp fra gata. Vi sm\u00e5prater nerv\u00f8st. Han har en kartong r\u00f8dvin. Jeg finner fram blokken. Han setter p\u00e5 Jahn Teigens \u00abDet vakreste som fins\u00bb. Jeg ler. Han synger med s\u00e5 det runger i tak og vegger.&para;<br>&lt;/p&gt;&para;<br>&lt;p&gt;&para;<br> Fem-seks glass senere faller kl\u00e6rne. Ki\u00f8sterud tegner. Riktig hyggelig er det \u2013 \u00e5 vekselvis st\u00e5 p\u00e5 gulvet, ligge p\u00e5 en madrass, og sitte p\u00e5 en krakk mens jeg sipper r\u00f8dvin og betraktes av et interessert blikk. Vi avtaler \u00e5 m\u00f8tes en gang til.&para;<br>&lt;/p&gt;&para;<br>&lt;p class=\"tingo\"&gt;&para;<br> I en undervisningstime i croquis \u2013 kjapp skissering av den nakne menneskekroppen \u2013 er vanligvis begge kj\u00f8nn representert, og en naken kropp i sentrum. Likevel utarter ikke timene til orgier. For bare modellen er avkledd, og hun veksler kun f\u00e5 ord med studentene som er opptatt med \u00e5 stirre og skrible.&para;<br>&lt;/p&gt;&para;<br>&lt;p&gt;&para;<br> Kirsten Kokkin er skulpt\u00f8r, og underviser i croquis ved KHiO. Hun bekrefter at modellens kropp kun brukes som et middel for \u00e5 l\u00e6re \u00e5 tegne.&para;<br>&lt;/p&gt;&para;<br>&lt;p&gt;&para;<br> \u2013 Det hefter ikke noe seksuelt ved timene, sier hun.&para;<br>&lt;/p&gt;&para;<br>&lt;p&gt;&para;<br> Hva da n\u00e5r objektet sm\u00e5pratende og brisen intervjuer kunstneren i dennes private atelier? Kokkin tror ikke det forandrer saken nevneverdig, siden det er uvanlig blant kunstnere \u00e5 vektlegge det erotiske ved en naken modell.&para;<br>&lt;/p&gt;&para;<br>&lt;p&gt;&para;<br> \u2013 \tF\u00e5 kunstnere fokuserer p\u00e5 det, sier hun.&para;<br>&lt;/p&gt;&para;<br>&lt;p&gt;&para;<br> Ki\u00f8sterud bekrefter regelen. Han \u00f8nsker modellen i en mer privat setting fordi det er vanskelig \u00e5 f\u00e5 ro i timene i croquis, hvor veldig mange studenter er samlet rundt samme objekt.&para;<br>&lt;/p&gt;&para;<br>&lt;p&gt;&para;<br> \u2013 Slike timer er stressende, sier han.&para;<br>&lt;/p&gt;&para;<br>&lt;p class=\"tingo\"&gt;&para;<br> Billedkunstner og sadomasochist Hans Petter Stubergh er uenig. Han mener SM (Sadomasochisme) og kunst, er fenomen som kan belyse hverandre. I sine f\u00f8rste studie\u00e5r tegnet han stort sett nakne damer, og innr\u00f8mmer mye st\u00e5pikk under tegningen.&para;<br>&lt;/p&gt;&para;<br>&lt;p&gt;&para;<br> Ogs\u00e5 i timene i croquis.&para;<br>&lt;/p&gt;&para;<br>&lt;div class=\"inline_pullquote \"&gt;&para;<br> &lt;bq class=\"pullquote\"&gt;&para;<br>  Pikken min gikk inn i kunsten, ikke i modellene.&para;<br> &lt;/bq&gt;&para;<br> &lt;p&gt;&para;<br>  Hans Petter Stubergh, billedkunstner og sadomasochist.&para;<br> &lt;/p&gt;&para;<br>&lt;/div&gt;&para;<br>&lt;p&gt;&para;<br> \u2013 Men pikken min gikk inn i kunsten, ikke i modellene, sier han.&para;<br>&lt;/p&gt;&para;<br>&lt;p&gt;&para;<br> Han forklarer at blyantlinjene som former den nakne modellen kan minne om striper etter piskeslag og tau. Men det er s\u00e6rlig i leirens konsistens og skulpturens tredimensjonale form han ser paralleller.&para;<br>&lt;/p&gt;&para;<br>&lt;p&gt;&para;<br> \u2013 N\u00e5r jeg binder en kvinne, er jeg en erotisk sadoskulpt\u00f8r, og hun en erotisk masoskulptur, sier han.&para;<br>&lt;/p&gt;&para;<br>&lt;p&gt;&para;<br> Stuberg vil gjerne tilf\u00f8re artikkelen min noe, og foresl\u00e5r at jeg kommer innom hans atelier.&para;<br>&lt;/p&gt;&para;<br>&lt;p&gt;&para;<br> \u2013 Du kan gjerne intervjue meg mens jeg tegner deg naken.&para;<br>&lt;/p&gt;&para;<br>&lt;p&gt;&para;<br> F\u00e5 timer senere m\u00f8ter jeg en bebrillet og smilende Stubergh som viser meg inn i sitt atelier med to tatoverte armer. Veggene skriker i fargerike malerier. De fleste av dyr. Et halvferdig bilde av en bl\u00e5 undulat t\u00f8rker p\u00e5 et staffeli. En stor kjetting henger fra taket.&para;<br>&lt;/p&gt;&para;<br>&lt;p&gt;&para;<br> \u2013 Denne har jeg bundet flere flotte kvinner i, sier han.&para;<br>&lt;/p&gt;&para;<br>&lt;p&gt;&para;<br> Naken mellom undulat og Dominerende Sadist st\u00e5r jeg der, klar med blokk og fotoapparat. Helst vil han tegne meg bakfra eller bundet. Vi blir imidlertid enige om en hakket mindre st\u00f8tende posisjon. Forfra skr\u00e6vende p\u00e5 en stol. Stillingen krever sitt av konsentrasjon, og Stubergs ansikt er skjerpet. Han lar blyanten svinse over papiret.&para;<br>&lt;/p&gt;&para;<br>&lt;p&gt;&para;<br> \u2013 N\u00e5 tenner jeg, sier han.&para;<br>&lt;/p&gt;&para;<br>&lt;p&gt;&para;<br> Og papiret gjennomg\u00e5r Stuberghs begj\u00e6r.&para;<br>&lt;/p&gt;&para;<br>&lt;p class=\"tingo\"&gt;&para;<br> \u2013 Tanken har ikke sl\u00e5tt meg, sier Ki\u00f8sterud.&para;<br>&lt;/p&gt;&para;<br>&lt;p&gt;&para;<br> Han finner fint lite sadomasochistisk i stemningen n\u00e5r vi atter m\u00f8tes i hans atelier. Likegyldig til det kj\u00f8nnslige ved min kropp, er han imidlertid ikke.&para;<br>&lt;/p&gt;&para;<br>&lt;p&gt;&para;<br> \u2013 Siden vi har en relasjon, og du er en naken kvinne som vandrer rundt i mitt atelier \u2013 er det klart noe erotisk spiller inn, sier han.&para;<br>&lt;/p&gt;&para;<br>&lt;p&gt;&para;<br> Han \u00f8nsker \u00e5 tegne akkurat meg \u2013 fordi han finner kroppen min fascinerende, og ikke forst\u00e5r den fullt ut. Min smale midje som glir inn i mine brede hofter, er formene han jobber kunstnerisk med.&para;<br>&lt;/p&gt;&para;<br>&lt;p&gt;&para;<br> Men f\u00f8rst og fremst er han generelt glad i kropp:&para;<br>&lt;/p&gt;&para;<br>&lt;p&gt;&para;<br> \u2013 Jeg elsker menneskekroppen, sier han.&para;<br>&lt;/p&gt;&para;<br>&lt;p&gt;&para;<br> Ki\u00f8sterud gnir seg i hendene. Hansker tr\u00e6s p\u00e5. H\u00f8nsenetting klippes med tang. Gipsen f\u00e5r en runde i en krukke vann s\u00e5 den blir bl\u00f8t \u2013 og kan bres over nettingen. Den hvite klumpen tar form. Den ligner meg. Fra navlen og ned. Selv om tonen mellom oss er god, er jeg mest interessert i artikkelen. Og han i skulpturen. Vi jobber.&para;<br>&lt;/p&gt;&para;<br>&lt;p&gt;&para;<br> Da jeg ville ha oss inn i avisa ble han f\u00f8rst betenkt. Fordi han ikke fikk full kontroll. N\u00e5 mener han det er fint \u00e5 dele p\u00e5 reg\u00eden.&para;<br>&lt;/p&gt;&para;<br>&lt;p&gt;&para;<br> \u2013 At du skriver om det, og dermed tilf\u00f8rer aspekter jeg ikke kan styre, gir prosjektet en ny dimensjon.&para;<br>&lt;/p&gt;&para;<br>&lt;div class=\"inline_pullquote \"&gt;&para;<br> &lt;bq class=\"pullquote\"&gt;&para;<br>  Pikken min gikk inn i kunsten, ikke i modellene.&para;<br> &lt;/bq&gt;&para;<br> &lt;p&gt;&para;<br>  Hans Petter Stubergh, billedkunstner og sadomasochist.&para;<br> &lt;/p&gt;&para;<br>&lt;/div&gt;&para;<br>&lt;div class=\"inline_pullquote \"&gt;&para;<br> &lt;bq class=\"pullquote\"&gt;&para;<br>  Pikken min gikk inn i kunsten, ikke i modellene.&para;<br> &lt;/bq&gt;&para;<br> &lt;p&gt;&para;<br>  Hans Petter Stubergh, billedkunstner og sadomasochist.&para;<br> &lt;/p&gt;&para;<br>&lt;/div&gt;&para;<br>&lt;div class=\"inline_pullquote \"&gt;&para;<br> &lt;bq class=\"pullquote\"&gt;&para;<br>  Test&para;<br> &lt;/bq&gt;&para;<br> &lt;p class=\"by\"&gt;&para;<br>  H\u00e5ken Lid, slabbedask&para;<br> &lt;/p&gt;&para;<br>&lt;/div&gt;&para;<br>&lt;div class=\"inline_pullquote \"&gt;&para;<br> &lt;bq class=\"pullquote\"&gt;&para;<br>  Test&para;<br> &lt;/bq&gt;&para;<br> &lt;p class=\"by\"&gt;&para;<br>  H\u00e5ken Lid, slabbedask&para;<br> &lt;/p&gt;&para;<br>&lt;/div&gt;&para;<br>&lt;div class=\"inline_pullquote \"&gt;&para;<br> &lt;bq class=\"pullquote\"&gt;&para;<br>  Test&para;<br> &lt;/bq&gt;&para;<br> &lt;p class=\"by\"&gt;&para;<br>  H\u00e5ken Lid, slabbedask&para;<br> &lt;/p&gt;&para;<br>&lt;/div&gt;&para;<br>&lt;div class=\"inline_pullquote \"&gt;&para;<br> &lt;bq class=\"pullquote\"&gt;&para;<br>  Test&para;<br> &lt;/bq&gt;&para;<br> &lt;p class=\"by\"&gt;&para;<br>  H\u00e5ken Lid, slabbedask&para;<br> &lt;/p&gt;&para;<br>&lt;/div&gt;&para;<br></span><del style=\"background:#ffe6e6;\"> extra  extra </del>\n",
        "<hr>\n",
        "<h3>html (383) D\u00e5rlige p\u00e5 internasjonalisering \n",
        "</h3><span>&lt;p&gt;&para;<br> \u2013 Det virker som om Universitetet i Oslo ikke forst\u00e5r verdien av internasjonalisering, sier internasjonalt ansvarlig i Studentparlamentet H\u00e5vard \u00d8vreg\u00e5rd.&para;<br>&lt;/p&gt;&para;<br>&lt;p&gt;&para;<br> Tall fra i fjor viser at 14 850 studenter fikk st\u00f8tte fra L\u00e5nekassen til utenlandsstudier. Samtidig var det kun 8608 utenlandske studenter som fikk st\u00f8tte til \u00e5 studere i Norge.&para;<br>&lt;/p&gt;&para;<br>&lt;p&gt;&para;<br> \u00d8vreg\u00e5rd tror \u00e5rsaken til at det kommer s\u00e5 f\u00e5 utenlandske studenter til Universitetet er manglende prioritering fra universitetsledelsen. Han mener en bedre inkludering av de utenlandske studentene og bedre \u00f8konomisk st\u00f8tte m\u00e5 til for \u00e5 trekke flere internasjonale studenter til Norge.&para;<br>&lt;/p&gt;&para;<br>&lt;h3 class=\"mellomtittel\"&gt;&para;<br> Lavt prioritert&para;<br>&lt;/h3&gt;&para;<br>&lt;p&gt;&para;<br> Rektor Kaare Norum mener kritikken fra \u00d8vreg\u00e5rd er feilsl\u00e5tt fordi han mener han som rektor har jobbet aktivt for internasjonalisering. Men Norum er enig i at mye mer kan gj\u00f8res.&para;<br>&lt;/p&gt;&para;<br>&lt;p&gt;&para;<br> \u2013 Vi vil gjerne bedre tilbudet for studenter og yngre forskere fra utlandet. En av de tingene vi arbeider for er flere engelskspr\u00e5klige forelesninger og kurs, sier Norum.&para;<br>&lt;/p&gt;&para;<br>&lt;h3 class=\"mellomtittel\"&gt;&para;<br> Ikke verdsatt&para;<br>&lt;/h3&gt;&para;<br>&lt;p&gt;&para;<br> Omtrent tre prosent av samtlige studenter i norske utdanningsinstitusjoner har utenlandsk statsborgerskap. Dette er under gjennomsnittet for OECD-land, som er n\u00e6rmere fem prosent.&para;<br>&lt;/p&gt;&para;<br>&lt;p&gt;&para;<br> \u2013 Vi f\u00f8ler at Universitetet ikke anser oss som en ressurs, sier Ann-Kathrin Turn, leder i International student union.&para;<br>&lt;/p&gt;&para;<br>&lt;p&gt;&para;<br> Turn mener det d\u00e5rlige tilbudet p\u00e5 engelskspr\u00e5klige forelesninger gj\u00f8r Universitetet mindre attraktivt for utenlandske studenter.&para;<br>&lt;/p&gt;&para;<br>&lt;p&gt;&para;<br> \u2013 S\u00f8knadsprossesen er for vanskelig, og det blir gjort for lite for \u00e5 integrere utenlandske studenter med de norske, sier Turn.&para;<br>&lt;/p&gt;&para;<br>&lt;h3 class=\"mellomtittel\"&gt;&para;<br> Studentenes ansvar&para;<br>&lt;/h3&gt;&para;<br>&lt;p&gt;&para;<br> F\u00f8rstekonsulent ved Seksjon for internasjonale programmer Guri Vestad sier at et av m\u00e5lene til universitetet er \u00e5 f\u00e5 flere internasjonale studenter.&para;<br>&lt;/p&gt;&para;<br>&lt;p&gt;&para;<br> \u2013 Det universitetet kan gj\u00f8re er \u00e5 ha flere engelskspr\u00e5klige undervisningstilbud. Men det tror jeg ikke alle norske studenter er like begeistret over, sier Vestad.&para;<br>&lt;/p&gt;&para;<br>&lt;p&gt;&para;<br> N\u00e5r det gjelder integrering tror hun ikke universitetet kan gj\u00f8re s\u00e5 mye mer.&para;<br>&lt;/p&gt;&para;<br>&lt;p&gt;&para;<br> \u2013 Jeg mener det kommer an p\u00e5 om de norske studentene klarer \u00e5 inkludere de utenlandske studentene i sine egne arrangementer, sier Vestad.&para;<br>&lt;/p&gt;&para;<br>&lt;p&gt;&para;<br> Rektor Kaare Norum er enig.&para;<br>&lt;/p&gt;&para;<br>&lt;p&gt;&para;<br> \u2013 De gangene jeg har pratet med internasjonale studenter har de etterlyst sosiale og organisatoriske initiativer fra studenorganisasjonene, sier Norum.&para;<br>&lt;/p&gt;&para;<br>&lt;h3 class=\"mellomtittel\"&gt;&para;<br> Norges ansvar&para;<br>&lt;/h3&gt;&para;<br>&lt;p&gt;&para;<br> Leder for Europakommisjonens delegasjon, Gerhard Sabathil, mener at det ville v\u00e6re naturlig for Norge \u00e5 gj\u00f8re seg s\u00e5 attraktiv som mulig for utenlandske studenter, b\u00e5de av \u00f8konomiske og kulturelle \u00e5rsaker.&para;<br>&lt;/p&gt;&para;<br>&lt;p&gt;&para;<br> \u2013 Det gode akademiske tilbudet her burde absolutt komme andre nasjoner til gode, sier Sabathil.&para;<br>&lt;/p&gt;&para;<br>&lt;p&gt;&para;<br> Selv om Universitetsledelsen understreker viktigheten av et h\u00f8yt antall utenlandske studenter, var det ikke mulig \u00e5 oppdrive tall p\u00e5 utenlandsstudenter som studerer ved Universitetet i Oslo.&para;<br>&lt;/p&gt;&para;<br>&lt;div class=\"inline_pullquote \"&gt;&para;<br> &lt;bq class=\"pullquote\"&gt;&para;<br>  Test&para;<br> &lt;/bq&gt;&para;<br> &lt;p class=\"by\"&gt;&para;<br>  H\u00e5ken Lid, slabbedask&para;<br> &lt;/p&gt;&para;<br>&lt;/div&gt;&para;<br>&lt;div class=\"inline_pullquote \"&gt;&para;<br> &lt;bq class=\"pullquote\"&gt;&para;<br>  Test&para;<br> &lt;/bq&gt;&para;<br> &lt;p class=\"by\"&gt;&para;<br>  H\u00e5ken Lid, slabbedask&para;<br> &lt;/p&gt;&para;<br>&lt;/div&gt;&para;<br>&lt;div class=\"inline_pullquote \"&gt;&para;<br> &lt;bq class=\"pullquote\"&gt;&para;<br>  Test&para;<br> &lt;/bq&gt;&para;<br> &lt;p class=\"by\"&gt;&para;<br>  H\u00e5ken Lid, slabbedask&para;<br> &lt;/p&gt;&para;<br>&lt;/div&gt;&para;<br>&lt;div class=\"inline_pullquote \"&gt;&para;<br> &lt;bq class=\"pullquote\"&gt;&para;<br>  Test&para;<br> &lt;/bq&gt;&para;<br> &lt;p class=\"by\"&gt;&para;<br>  H\u00e5ken Lid, slabbedask&para;<br> &lt;/p&gt;&para;<br>&lt;/div&gt;&para;<br>&lt;div class=\"inline_pullquote \"&gt;&para;<br> &lt;bq class=\"pullquote\"&gt;&para;<br>  Test&para;<br> &lt;/bq&gt;&para;<br> &lt;p class=\"by\"&gt;&para;<br>  H\u00e5ken Lid, slabbedask&para;<br> &lt;/p&gt;&para;<br>&lt;/div&gt;&para;<br>&lt;div class=\"inline_pullquote \"&gt;&para;<br> &lt;bq class=\"pullquote\"&gt;&para;<br>  Test&para;<br> &lt;/bq&gt;&para;<br> &lt;p class=\"by\"&gt;&para;<br>  H\u00e5ken Lid, slabbedask&para;<br> &lt;/p&gt;&para;<br>&lt;/div&gt;&para;<br></span><del style=\"background:#ffe6e6;\"> extra  extra </del>\n",
        "<hr>\n",
        "<h3>html (652) Jaheim Ghetto Love \n",
        "</h3><span>&lt;p&gt;&para;<br> Warner&para;<br>&lt;/p&gt;&para;<br>&lt;p&gt;&para;<br> Det er noe med New Jersey. Derfra kommer Bruce Springsteen, Yo la Tengo, Sonic Youth. Og n\u00e5 alts\u00e5 Jaheim (21). Han vokste opp i kirka, p\u00e5 gata og i fengsel. Han pleide \u00e5 synge p\u00e5 New Jersey Transit-togene. Hvis du hiver deg p\u00e5 og kj\u00f8per debuten&para;<br>&lt;/p&gt;&para;<br>&lt;p&gt;&para;<br> Ghetto Love, \u00e5rets beste soulskive, er det ikke m\u00e5te p\u00e5 hvor langt ferden vil g\u00e5.&para;<br>&lt;/p&gt;&para;<br>&lt;p&gt;&para;<br> Ikke det at jeg henvender meg til alle du\\'ene der ute. Men hvis nettopp &lt;em&gt;du&lt;/em&gt; har nynnet til Marvin Gaye og danset til Curtis Mayfield, eller fikk med deg D\\'Angelo i fjor, eller bare generelt er musikkinteressert, s\u00e5 kj\u00f8p denne skiva.&para;<br>&lt;/p&gt;&para;<br>&lt;p&gt;&para;<br> Selv g\u00e5r Jaheim mest i sporene til Luther Vandross og Teddy Pendergrass, men han ser ikke bare bakover. Mikael Krohn sa engang at \u00abrock er levd liv, mens pop er dr\u00f8mt liv\u00bb. Jeg s\u00e5 et intervju med Jaheim her om dagen. Han fortalte om tr\u00f8bbel i fortiden, \u00ab...but that\\'s all in the past now. This is the future\u00bb.&para;<br>&lt;/p&gt;&para;<br>&lt;div class=\"inline_pullquote \"&gt;&para;<br> &lt;bq class=\"pullquote\"&gt;&para;<br>  Test&para;<br> &lt;/bq&gt;&para;<br> &lt;p class=\"by\"&gt;&para;<br>  H\u00e5ken Lid, slabbedask&para;<br> &lt;/p&gt;&para;<br>&lt;/div&gt;&para;<br>&lt;div class=\"inline_pullquote \"&gt;&para;<br> &lt;bq class=\"pullquote\"&gt;&para;<br>  Test&para;<br> &lt;/bq&gt;&para;<br> &lt;p class=\"by\"&gt;&para;<br>  H\u00e5ken Lid, slabbedask&para;<br> &lt;/p&gt;&para;<br>&lt;/div&gt;&para;<br></span><del style=\"background:#ffe6e6;\"> extra  extra </del>\n",
        "<hr>\n",
        "<h3>html (531) Dyster komedie \n",
        "</h3><span>&lt;p&gt;&para;<br> Hva er kjipest? \u00c5 v\u00e6re avdanket postbud eller \u00e5 selge burgere i et gatekj\u00f8kken uten kunder? Robert Skj\u00e6rstad har pr\u00f8vd begge deler. F\u00f8rst med hovedrollen i&para;<br>&lt;/p&gt;&para;<br>&lt;p&gt;&para;<br> Budbringeren og n\u00e5 som stakkaren Jan i &lt;em&gt;Amat\u00f8rene&lt;/em&gt;. Forlatt av kj\u00e6resten og kuet av faren, investerer Jan all sin energi i det som m\u00e5 v\u00e6re historiens minst innbringende gatekj\u00f8kken.&para;<br>&lt;/p&gt;&para;<br>&lt;p&gt;&para;<br> Samtidig m\u00f8ter vi Bent, en sliten trommis som hardnakket klamrer seg til rock\u00b4n\u00b4roll-dr\u00f8mmen. Men silkeskjorter og skinnbukser hjelper lite n\u00e5r dama heller vil ha sm-sex med vokalisten Iver Mo.&para;<br>&lt;/p&gt;&para;<br>&lt;p&gt;&para;<br> Disse typene innleder Sletaunes nye film. Oppskriften er den samme som forrige gang. Slitne og tragiske mennesker kjemper seg gjennom tilv\u00e6relsens uutholdelige vanskeligheter. B\u00e5de postmannen i Budbringeren og amat\u00f8ren Jan f\u00e5r et ublidt m\u00f8te med Oslos underverden. Iver Mo kidnappes, og ender til slutt opp i Jans gatekj\u00f8kken.&para;<br>&lt;/p&gt;&para;<br>&lt;h3 class=\"mellomtittel\"&gt;&para;<br> Test deg selv&para;<br>&lt;/h3&gt;&para;<br>&lt;p&gt;&para;<br> Amat\u00f8r stammer fra det latinske ordet \u00abamare\u00bb som betyr \u00e5 elske, og det er tydelig at P\u00e5l Sletaune er glad i amat\u00f8rene sine. Det er nettopp filmens pussige rollefigurer som er dens styrke.&para;<br>&lt;/p&gt;&para;<br>&lt;p&gt;&para;<br> Hovedpersonene er utstyrt med fremtredende s\u00e6rtrekk som f\u00e5r oss til \u00e5 humre forn\u00f8yd hver gang de entrer lerretet: Iver Mo med sine harry cowboyboots som han helst beholder p\u00e5 mens han elsker, og puddelh\u00e5rete Bent som aldri klarer \u00e5 stoppe \u00e5 svette. Videre ser vi en str\u00e5lende Bj\u00f8rn Sundquist i hans kanskje mest uappetittelige rolle hittil. Som Jans sinnsforvirrede og psykopatiske far, skaper han det rene terrorvelde i deres felles s\u00f8ttitallstriste leilighet.&para;<br>&lt;/p&gt;&para;<br>&lt;p&gt;&para;<br> P\u00e5 Internett er det attp\u00e5til mulig \u00e5 ta testen \u00abHvem er du i &lt;em&gt;Amat\u00f8rene&lt;/em&gt;?\u00bb. Selv f\u00e5r jeg beskjed om at jeg likner p\u00e5 Iver: Rockeren som \u00abhar blitt stor etter \u00e5 ha kj\u00f8rt en vellykket blanding av Billy Idol og \u00c5ge Aleksandersen\u00bb.&para;<br>&lt;/p&gt;&para;<br>&lt;h3 class=\"mellomtittel\"&gt;&para;<br> Svart humor&para;<br>&lt;/h3&gt;&para;<br>&lt;p&gt;&para;<br> Ettersom&para;<br>&lt;/p&gt;&para;<br>&lt;p&gt;&para;<br> Budbringeren ble sett av 150 000 nordmenn, solgt til 40 land og vant kritikerprisen i Cannes, er det forst\u00e5elig at Sletaune vil gjenta sin suksessrike oppskrift. Som i &lt;em&gt;Budbringeren&lt;/em&gt; har han ogs\u00e5 denne gangen skrevet originalmanus sammen med forfatteren Jonny Halberg.&para;<br>&lt;/p&gt;&para;<br>&lt;p&gt;&para;<br> Historien fortelles med en lavm\u00e6lt og svart humor. Jeg skulle kanskje \u00f8nsket at filmen i st\u00f8rre grad \u00e5pnet latterslusene, men sm\u00e5 bisarre hendelser piffer opp en ellers konvensjonell handling. Som n\u00e5r Jan er i skogen for \u00e5 henge seg i et tre, og f\u00e5r uventet selskap av en enslig ku.&para;<br>&lt;/p&gt;&para;<br>&lt;p&gt;&para;<br> Ellers fremst\u00e5r til og med filmens mest lurvete sm\u00e5kjeltringer som sympatiske. Hvem kan vel motst\u00e5 en kidnapper med kronisk bl\u00e6rekatarr?&para;<br>&lt;/p&gt;&para;<br>&lt;p&gt;&para;<br> Rollefigurene blir definitivt med deg ut av salen, og er ikke lett glemt.&para;<br>&lt;/p&gt;&para;<br>&lt;div class=\"inline_pullquote \"&gt;&para;<br> &lt;bq class=\"pullquote\"&gt;&para;<br>  Test&para;<br> &lt;/bq&gt;&para;<br> &lt;p class=\"by\"&gt;&para;<br>  H\u00e5ken Lid, slabbedask&para;<br> &lt;/p&gt;&para;<br>&lt;/div&gt;&para;<br>&lt;div class=\"inline_pullquote \"&gt;&para;<br> &lt;bq class=\"pullquote\"&gt;&para;<br>  Test&para;<br> &lt;/bq&gt;&para;<br> &lt;p class=\"by\"&gt;&para;<br>  H\u00e5ken Lid, slabbedask&para;<br> &lt;/p&gt;&para;<br>&lt;/div&gt;&para;<br></span><del style=\"background:#ffe6e6;\"> extra  extra </del>\n",
        "<hr>\n",
        "<h3>html (265) Pippis filosofiske krefter \n",
        "</h3><span>&lt;p&gt;&para;<br> Det \u00e5ret krigen ble til fred s\u00e5 en ni\u00e5rig jente dagens lys. Hadde hun v\u00e6rt f\u00f8dt tidligere kunne hun sikkert ha hamlet opp med hele Hitler-Tyskland alene, s\u00e5 sterk var hun. Snart spredte ryktet om henne seg utover verden, og barn over hele kloden forgudet henne.&para;<br>&lt;/p&gt;&para;<br>&lt;p&gt;&para;<br> \u2013 Pippi er alle barns oppr\u00f8rer. Hun er antropolog i bakvendtland, fordi hun g\u00e5r ikke med p\u00e5 at skikk og bruk m\u00e5 v\u00e6re slik som damer i kaffeslabberas bestemmer. Hun viser at i andre land er ikke skikkene slik som her. Til vennene forklarer hun at i Argentina spiser alle karameller hele dagen, eller i Ost India g\u00e5r alle baklengs. Hun er som Sokrates, vil ikke ta allmenne sannheter for gitt, sier lektor i filosofi \u00d8ystein Sjaastad.&para;<br>&lt;/p&gt;&para;<br>&lt;p&gt;&para;<br> Sammen med forlagsmannen J\u00f8rgen Gaare har han sett n\u00e6rmere p\u00e5 Pippi og de andre barnebokskikkelsene i Astrid Lindgrens b\u00f8ker. Ideen var \u00e5 sette skikkelsene inn i et filosofisk lys. Resultatet ble 522 sider.&para;<br>&lt;/p&gt;&para;<br>&lt;h3 class=\"mellomtittel\"&gt;&para;<br> Et udannet pikebarn&para;<br>&lt;/h3&gt;&para;<br>&lt;p&gt;&para;<br> Lindgrens f\u00f8rste fors\u00f8k p\u00e5 \u00e5 gi ut Pippi mislyktes. Bonnier forlag mente at svenske barn ikke ville ha interesse av \u00e5 lese om slikt et udannet pikebarn. Men etter mye strev kom boken ut. Selv om de f\u00f8rste utgavene var sensurerte og skapte mange protester.&para;<br>&lt;/p&gt;&para;<br>&lt;p&gt;&para;<br> \u2013 Men etter hvert ble Pippi ufarliggjort og omfavnet av representanter for den frie barneoppdragelsen. Vi vil vise at det er mye mer hos Pippi enn bare det frie og anarkistiske, sier Gaare.&para;<br>&lt;/p&gt;&para;<br>&lt;p&gt;&para;<br> \u2013 &lt;em&gt; I filmen &lt;/em&gt;Tilsammans&para;<br>&lt;/p&gt;&para;<br>&lt;p&gt;&para;<br> blir Pippi anklaget for \u00e5 v\u00e6re kapitalist. Hun har jo masse gullpenger som hun kj\u00f8per ting for. Ingen av barna i bofellesskapet fikk lov \u00e5 lese om henne.&para;<br>&lt;/p&gt;&para;<br>&lt;p&gt;&para;<br> \u2013 Hehe. Pippi kapitalist? Ja det kom vel mye rart frem p\u00e5 syttitallet. Hehe. Men de har misforst\u00e5tt helt. Pippi er en skattesamler, hun tar vare p\u00e5 gullmyntene sine, hun investerer dem ikke i noe, sier Sjaastad.&para;<br>&lt;/p&gt;&para;<br>&lt;h3 class=\"mellomtittel\"&gt;&para;<br> Barnas filosofi&para;<br>&lt;/h3&gt;&para;<br>&lt;p&gt;&para;<br> De to barnefilosofene har hatt mange morsomme kvelder med lesing av Lindgrens b\u00f8ker. Og mange filosofiske paralleller har det blitt. B\u00e5de Pippi, Karlson p\u00e5 taket og Emil etterligner Sokrates og dialektikken hans. &lt;em&gt;Mio min Mio&lt;/em&gt; har blitt tolket som et platonsk verk, og if\u00f8lge forfatterne er det klare paralleller til dialogen&para;<br>&lt;/p&gt;&para;<br>&lt;p&gt;&para;<br> Faidros. Akkurat slik som Sokrates og unge Faidros sitter i skyggen av et l\u00f8nnetre og snakker om paradis, sitter Mio med sine nye venner og snakker om en verden uten onde ridder Cato. &lt;em&gt;Br\u00f8drene L\u00f8vehjerte&lt;/em&gt; kan tolkes som et marxistisk verk, der den ideelle verden er i sm\u00e5 jordbrukssamfunn der alle hjelper hverandre.&para;<br>&lt;/p&gt;&para;<br>&lt;p&gt;&para;<br> \u2013 Men i Ronja R\u00f8verdatter har Lindgren forsont seg med denne verdenen og dr\u00f8mmer ikke lengre om et Nangijala. N\u00e5 viser hun at det er mulig \u00e5 leve i kompakt med naturen. Det er mange paralleller til Rousseau sitt naturmenneske her, sier Gaare.&para;<br>&lt;/p&gt;&para;<br>&lt;p&gt;&para;<br> \u2013 Det er ogs\u00e5 spor av Dante i &lt;em&gt;Br\u00f8drene L\u00f8vehjerte&lt;/em&gt;. Den ene dalen representerer Himmelen, den andre Helvete, sier Sjaastad.&para;<br>&lt;/p&gt;&para;<br>&lt;h3 class=\"mellomtittel\"&gt;&para;<br> M\u00f8tte Sokrates?&para;<br>&lt;/h3&gt;&para;<br>&lt;p&gt;&para;<br> Lindgren selv har aldri uttalt seg om sin eventuelle filosofiske bakgrunn. Forfatterne skrev et brev til henne og opplyste om bokprosjektet, men de fikk bare uttalelser fra hennes sekret\u00e6r.&para;<br>&lt;/p&gt;&para;<br>&lt;p&gt;&para;<br> \u2013 Men vi vet at hun er en velutdannet kvinne og at hun var politisk aktiv p\u00e5 1960- og 1970-tallet, sier Sjaastad.&para;<br>&lt;/p&gt;&para;<br>&lt;p&gt;&para;<br> \u2013 Dessuten er det ikke det som er det viktigste. Det er interessant at Nietzsche og Kierkegaard hadde s\u00e5pass like tanker selv om de aldri m\u00f8tte hverandre. Slik blir det med Lindgrens barneskildringer ogs\u00e5, sier Gaare.&para;<br>&lt;/p&gt;&para;<br>&lt;p&gt;&para;<br> \u2013 Ja, for hun m\u00f8tte jo ikke Sokrates, legger Sjaastad til.&para;<br>&lt;/p&gt;&para;<br>&lt;p&gt;&para;<br> Mesterdetektiven Karl Blomquist er en klok liten gutt som stadig bruker tiden til sm\u00e5 filosofiske anekdoter. Etter \u00e5 ha sv\u00f8mt en tur sammen med vennen Endre, begynner Karl \u00e5 sp\u00f8rre om de i det hele tatt eksisterer.&para;<br>&lt;/p&gt;&para;<br>&lt;p&gt;&para;<br> \u2013 Han sier at de sikkert er to personer i en bok som noen har diktet opp. Akkurat som slutten av Pippi-b\u00f8kene der barna skal leve evig inne i boken, sier Sjaastad.&para;<br>&lt;/p&gt;&para;<br>&lt;p&gt;&para;<br> \u2013&para;<br>&lt;/p&gt;&para;<br>&lt;p&gt;&para;<br> S\u00e5 en kan se hvem Jostein Gaarder har tatt sine ideer fra?&para;<br>&lt;/p&gt;&para;<br>&lt;p&gt;&para;<br> \u2013 Hehe. Det kan du godt si, sier Gaare.&para;<br>&lt;/p&gt;&para;<br>&lt;p&gt;&para;<br> Av Tonje T. Larsen og \u00c5shild St\u00f8ylen (foto)&para;<br>&lt;/p&gt;&para;<br>&lt;div class=\"inline_pullquote \"&gt;&para;<br> &lt;bq class=\"pullquote\"&gt;&para;<br>  Test&para;<br> &lt;/bq&gt;&para;<br> &lt;p class=\"by\"&gt;&para;<br>  H\u00e5ken Lid, slabbedask&para;<br> &lt;/p&gt;&para;<br>&lt;/div&gt;&para;<br>&lt;div class=\"inline_pullquote \"&gt;&para;<br> &lt;bq class=\"pullquote\"&gt;&para;<br>  Test&para;<br> &lt;/bq&gt;&para;<br> &lt;p class=\"by\"&gt;&para;<br>  H\u00e5ken Lid, slabbedask&para;<br> &lt;/p&gt;&para;<br>&lt;/div&gt;&para;<br></span><del style=\"background:#ffe6e6;\"> extra  extra </del>\n",
        "<hr>\n",
        "<h3>html (264) Den ensomme student \n",
        "</h3><span>&lt;p&gt;&para;<br> &lt;em&gt;Norwegian Wood&lt;/em&gt; er tittelen p\u00e5 gjennombruddsromanen til Haruki Murakami (51). Boka solgte i over to millioner eksemplarer i hjemlandet og gjorde Murakami til Japans mestselgende forfatter. Den gjorde det ogs\u00e5 bra i Norge. N\u00e5 foreligger Murakami-romanen&para;<br>&lt;/p&gt;&para;<br>&lt;p&gt;&para;<br> Vest for solen, syd for grensen fra 1992 p\u00e5 norsk.&para;<br>&lt;/p&gt;&para;<br>&lt;p&gt;&para;<br> I likhet med &lt;em&gt;Norwegian Wood&lt;/em&gt; er ogs\u00e5 hovedpersonen i den nye romanen en isolert og forvirret mann p\u00e5 jakt etter meningen med livet. Hajime ender til slutt som en vellykket familiefar og bareier i f\u00f8rti\u00e5rene, men f\u00e5r tilv\u00e6relsen rykket opp med roten da han treffer igjen sin barndoms flamme. Men f\u00f8rst har han v\u00e6rt igjennom en ensom tid som universitetsstudent.&para;<br>&lt;/p&gt;&para;<br>&lt;p&gt;&para;<br> \u2013 Det er egentlig tilfeldig at jeg ville skrive om ensomme og isolerte mennesker i disse to b\u00f8kene, forteller Murakami p\u00e5 e-post fra Japan, og kommer samtidig med en krass kritikk av studenttilv\u00e6relsen:&para;<br>&lt;/p&gt;&para;<br>&lt;p&gt;&para;<br> \u2013 Jeg tror at unge studenter i de fleste tilfeller kaster bort tiden, og at de vet det meget godt, skriver han.&para;<br>&lt;/p&gt;&para;<br>&lt;p&gt;&para;<br> Selv studerte Murakami film og dr\u00f8mte om \u00e5 bli filmskaper:&para;<br>&lt;/p&gt;&para;<br>&lt;p&gt;&para;<br> \u2013 Jeg var ikke interessert i \u00e5 skrive romaner p\u00e5 den tiden. Jeg elsket \u00e5 lese b\u00f8ker, naturligvis, men det eneste jeg ville skrive var filmmanus. Jeg s\u00e5 massevis av filmer og leste manus, b\u00e5de gode og d\u00e5rlige.&para;<br>&lt;/p&gt;&para;<br>&lt;p&gt;&para;<br> I dag hender det at Murakami skriver romaner og noveller teknisk sett som om de var filmer, med dialog, scener og filmmusikk. Men \u00e5 lage film har han ikke lyst til lenger.&para;<br>&lt;/p&gt;&para;<br>&lt;p&gt;&para;<br> \u2013 Det er mye lettere \u00e5 skrive b\u00f8ker. Det kan du gj\u00f8re alene, og med et veldig lite budsjett. Jeg er lykkelig som forfatter.&para;<br>&lt;/p&gt;&para;<br>&lt;p&gt;&para;<br> \u2013 Hvordan vil du beskrive din egen studietid?&para;<br>&lt;/p&gt;&para;<br>&lt;p&gt;&para;<br> \u2013 Jeg er ganske sikker p\u00e5 at jeg var en av de lateste studentene. Skolen var s\u00e5 kjedelig, og det var mange spennende ting som skjedde utenom skolen, spesielt i 1969, skriver Murakami.&para;<br>&lt;/p&gt;&para;<br>&lt;h3 class=\"mellomtittel\"&gt;&para;<br> \u00d8stens vestligste&para;<br>&lt;/h3&gt;&para;<br>&lt;p&gt;&para;<br> I Japan er Murakami kjent som den \u00abvestlige\u00bb forfatteren. &lt;em&gt;Norwegian Wood&lt;/em&gt; er en Beatles-l\u00e5t. I&para;<br>&lt;/p&gt;&para;<br>&lt;p&gt;&para;<br> Vest for solen, syd for grensen er tittelen inspirert av Nat King Cole-l\u00e5ta &lt;em&gt;South of the Border&lt;/em&gt;. Murakami har selv bodd lenge i USA.&para;<br>&lt;/p&gt;&para;<br>&lt;p&gt;&para;<br> \u2013 Hva er ditt forhold til tradisjonell japansk kultur?&para;<br>&lt;/p&gt;&para;<br>&lt;p&gt;&para;<br> \u2013 Jeg f\u00e5r ofte det sp\u00f8rsm\u00e5let. Og hver gang sp\u00f8r jeg meg selv: Hva er tradisjonell japansk kultur? Mitt yrke er \u00e5 skrive b\u00f8ker p\u00e5 japansk, og jeg snakker flytende japansk. Jeg savner god sushi og tofu desperat n\u00e5r jeg er i utlandet. Etter min ringe mening er disse tingene tradisjonelle nok og japanske nok.&para;<br>&lt;/p&gt;&para;<br>&lt;p&gt;&para;<br> I litter\u00e6re kretser ser man likevel et skille mellom Murakami og andre. F\u00f8rsteammanuensis i japansk litteratur Reiko Abe Auestad mener Murakamis suksess sier noe om globaliseringen av pop-kulturen.&para;<br>&lt;/p&gt;&para;<br>&lt;p&gt;&para;<br> \u2013 Japansk ungdom er ogs\u00e5 ganske vestlig, i hvert fall p\u00e5 overflaten. De kjenner seg igjen i forbrukerkulturen som livsstil og livsholdning. Den g\u00e5r igjen i Murakamis b\u00f8ker, og det tror jeg er n\u00f8kkelen til hans suksess.&para;<br>&lt;/p&gt;&para;<br>&lt;p&gt;&para;<br> For den som skal ta litteraturdelen i japansk grunnfag finnes det ingen vei utenom Murakami. Novellen hans &lt;em&gt;Dansende dverger&lt;/em&gt; i antologien Japan forteller er pensum.&para;<br>&lt;/p&gt;&para;<br>&lt;p&gt;&para;<br> \u2013 Murakami er en fin innfallsport til japansk litteratur, fordi han er forholdsvis enkel og tilgjengelig. Slik sett kan han v\u00e6re en motgift mot forestillinger om at japansk litteratur kun best\u00e5r av mystiske geisha-skikkelser og samuraihelter, sier Auestad.&para;<br>&lt;/p&gt;&para;<br>&lt;h3 class=\"mellomtittel\"&gt;&para;<br> Nordmenn d\u00f8r i Thailand&para;<br>&lt;/h3&gt;&para;<br>&lt;p&gt;&para;<br> Murakami har etterhvert f\u00e5tt status som kritikeryndling i bok-Norge.&para;<br>&lt;/p&gt;&para;<br>&lt;p&gt;&para;<br> \u2013 Her i landet har Murakami s\u00e5 \u00e5 si utelukkende f\u00e5tt gode kritikker. Ikke bare det, begeistringen har v\u00e6rt stor, sier Birgit Bjerck i Pax Forlag.&para;<br>&lt;/p&gt;&para;<br>&lt;p&gt;&para;<br> De har planlagt to nye utgivelser til v\u00e5ren og diskuterer enda to b\u00f8ker.&para;<br>&lt;/p&gt;&para;<br>&lt;p&gt;&para;<br> Blant de mange som sluttet seg til kritikerkorpset finner vi Tuva \u00d8rbeck S\u00f8rheim, redakt\u00f8r i Bokklubben Nye B\u00f8ker. Hun har tidligere oppgitt &lt;em&gt;Norwegian Wood&lt;/em&gt; som sin favorittbok.&para;<br>&lt;/p&gt;&para;<br>&lt;p&gt;&para;<br> \u2013 Jeg setter Murakami h\u00f8yt. Det er noe med tonen hans, den er eksotisk og samtidig veldig n\u00e6r. En slags slentrende humor og alvor, sier S\u00f8rheim, og viser til sammenligninger andre har gjort mellom Murakami og Erlend Loe: Selv om de to forfatterne er veldig forskjellige, beskriver de begge p\u00e5 en m\u00e5te v\u00e5r tids stemning.&para;<br>&lt;/p&gt;&para;<br>&lt;p&gt;&para;<br> Og Murakami gjengjelder den norske kj\u00e6rlighetserkl\u00e6ringen. Slik oppsummerer han sitt norgesbes\u00f8k i fjor:&para;<br>&lt;/p&gt;&para;<br>&lt;p&gt;&para;<br> \u2013 Maten er super (i det minste om sommeren), bilene er nye, menneskene er snille og de snakker flytende engelsk. Jeg m\u00f8tte noen mennesker som var veldig entusiastiske over b\u00f8kene mine. Neste gang vil jeg gjerne bes\u00f8ke den nordlige delen av landet, der hadde jeg ikke tid til \u00e5 dra, forteller Murakami, og legger til:&para;<br>&lt;/p&gt;&para;<br>&lt;p&gt;&para;<br> \u2013 Etter at jeg kom tilbake til Japan fra Norge, skrev jeg en historie om en norsk mann som bodde i Thailand og d\u00f8de der.&para;<br>&lt;/p&gt;&para;<br>&lt;h3 class=\"mellomtittel\"&gt;&para;<br> Murakami p\u00e5 norsk:&para;<br>&lt;/h3&gt;&para;<br>&lt;p&gt;&para;<br> Sauejakten (1993)&para;<br>&lt;/p&gt;&para;<br>&lt;p&gt;&para;<br> Dans dans dans (1994)&para;<br>&lt;/p&gt;&para;<br>&lt;p&gt;&para;<br> Norwegian Wood (1998)&para;<br>&lt;/p&gt;&para;<br>&lt;p&gt;&para;<br> Trekkoppfuglen (1999)&para;<br>&lt;/p&gt;&para;<br>&lt;p&gt;&para;<br> Vest for solen, syd for grensen (2000)&para;<br>&lt;/p&gt;&para;<br>&lt;p&gt;&para;<br> Hardkokt eventyrland (kommer v\u00e5ren 2001)&para;<br>&lt;/p&gt;&para;<br>&lt;p&gt;&para;<br> Verdens ende (kommer v\u00e5ren 2001)&para;<br>&lt;/p&gt;&para;<br>&lt;p class=\"question\"&gt;&para;<br> Norwegian Wood&para;<br>&lt;/p&gt;&para;<br>&lt;div class=\"inline_pullquote \"&gt;&para;<br> &lt;bq class=\"pullquote\"&gt;&para;<br>  Test&para;<br> &lt;/bq&gt;&para;<br> &lt;p class=\"by\"&gt;&para;<br>  H\u00e5ken Lid, slabbedask&para;<br> &lt;/p&gt;&para;<br>&lt;/div&gt;&para;<br>&lt;div class=\"inline_pullquote \"&gt;&para;<br> &lt;bq class=\"pullquote\"&gt;&para;<br>  Test&para;<br> &lt;/bq&gt;&para;<br> &lt;p class=\"by\"&gt;&para;<br>  H\u00e5ken Lid, slabbedask&para;<br> &lt;/p&gt;&para;<br>&lt;/div&gt;&para;<br></span><del style=\"background:#ffe6e6;\"> extra  extra </del>\n",
        "<hr>\n",
        "<h3>html (266) Ja takk, begge deler \n",
        "</h3><span>&lt;p&gt;&para;<br> Begj\u00e6r, kj\u00e6rlighet, sjalusi, maktkamp og hat innenfor det engelske kongehuset \u2013 William Shakespeares tragikomiske drama &lt;em&gt;Cymbelin&lt;/em&gt; har flere intriger enn selv den mest kompliserte s\u00e5peopera.&para;<br>&lt;/p&gt;&para;<br>&lt;p&gt;&para;<br> \u2013 Selv om vi har sk\u00e5ret ned antall intriger fra elleve til fire, har&para;<br>&lt;/p&gt;&para;<br>&lt;p&gt;&para;<br> Cymbelin nok forviklinger igjen i v\u00e5r versjon til \u00e5 more alle s\u00e5peelskere, sier skuespiller Christoffer Staib, som skulle vite hva han snakker om etter \u00e5 ha spilt rollen som den godtroende Bob i NRK-s\u00e5pen &lt;em&gt;Offshore&lt;/em&gt;.&para;<br>&lt;/p&gt;&para;<br>&lt;h3 class=\"mellomtittel\"&gt;&para;<br> Feiginger&para;<br>&lt;/h3&gt;&para;<br>&lt;p&gt;&para;<br> Sammen med de fem andre skuespillerne i Oslo prosjektteater fremf\u00f8rer Staib n\u00e5 et av de seneste og mest ukjente dramaene til Shakespeare for f\u00f8rste gang p\u00e5 en norsk scene siden 1938.&para;<br>&lt;/p&gt;&para;<br>&lt;p&gt;&para;<br> \u2013 Vi er kanskje litt feige som velger&para;<br>&lt;/p&gt;&para;<br>&lt;p&gt;&para;<br> Cymbelin. Hadde vi satt opp et kjent Shakespeare-stykke ville vi kommet i st\u00f8rre konkurranse med institusjonsteatrene. Da hadde vi automatisk blitt sammenliknet med de legendariske Romeo-ene og Hamlet-ene, sier Staib.&para;<br>&lt;/p&gt;&para;<br>&lt;p&gt;&para;<br> Friteatergruppen er likevel ikke feigere enn at de v\u00e5ger \u00e5 sette opp en moderne versjon av dramaet. De bruker ingen scene, men spiller hele handlingen rett p\u00e5 gulvet mens publikum sitter p\u00e5 stoler i firkant rundt skuespillerne.&para;<br>&lt;/p&gt;&para;<br>&lt;p&gt;&para;<br> \u2013 Det tilf\u00f8rer et spennende teateraspekt til stykket. Vi er seks skuespillere som til sammen spiller tolv roller og gj\u00f8r alle klesskiftene i rasende fart bak skjermbrett p\u00e5 scenen. Dermed blir det et diffust skille mellom hva som er del av forestillingen og hva som er virkeligheten, forteller Staib.&para;<br>&lt;/p&gt;&para;<br>&lt;h3 class=\"mellomtittel\"&gt;&para;<br> To ting p\u00e5 en gang&para;<br>&lt;/h3&gt;&para;<br>&lt;p&gt;&para;<br> G\u00e5r du p\u00e5 forestillingen til Oslo prosjektteater f\u00e5r du ikke bare sett de unge skuespillernes tolkning av Shakespeare. &lt;em&gt;Cymbelin&lt;/em&gt; er nemlig bare f\u00f8rste del av dobbeltforestillingen&para;<br>&lt;/p&gt;&para;<br>&lt;p&gt;&para;<br> Prosjekt identitet. Det andre stykket heter &lt;em&gt;I livet&lt;/em&gt; og er improvisert frem av instrukt\u00f8r Einar Bj\u00f8rge og skuespillerne i samarbeid.&para;<br>&lt;/p&gt;&para;<br>&lt;p&gt;&para;<br> \u2013 Stykket handler om seks mennesker som har til felles at de alle har v\u00e6rt n\u00e6rt knyttet til et menneske som har tatt sitt eget liv. Tilsynelatende st\u00e5r I livet langt unna Shakespeares forviklingskomedie, men stykkene bindes sammen ved at de begge problematiserer identitetsbegrepet, sier instrukt\u00f8r Bj\u00f8rge.&para;<br>&lt;/p&gt;&para;<br>&lt;p&gt;&para;<br> Mens &lt;em&gt;Cymbelin&lt;/em&gt; strengt f\u00f8lger verseformen di-dam-di-dam-di-dei, er truppens eget drama improvisert frem. If\u00f8lge Bj\u00f8rge gir det dobbeltforestillingen en fin dynamikk. For Christoffer Staib er det ogs\u00e5 viktig at oppsetningen ikke bare er underholdning, men at den samtidig ogs\u00e5 setter fokus p\u00e5 selvmord, et av de siste tabuene.&para;<br>&lt;/p&gt;&para;<br>&lt;p&gt;&para;<br> \u2013 Selvmord er et heavy, men viktig tema. Det er p\u00e5 tide at folk slutter \u00e5 lukke \u00f8ynene for at mange velger \u00e5 ta sitt eget liv. N\u00e5 ligger det mye skyldf\u00f8lelse og skam knyttet til dette problemet. Samtidig som vi setter fokus p\u00e5 selvmord, pr\u00f8ver vi imidlertid \u00e5 l\u00f8fte stykket slik at vi ikke reklamerer for det \u00e5 ta sitt eget liv, sier Staib.&para;<br>&lt;/p&gt;&para;<br>&lt;p&gt;&para;<br> Oslo prosjektteater viser dobbeltforestillingen Prosjekt identitet som best\u00e5r av William Shakespeares &lt;em&gt;Cymbelin&lt;/em&gt; og truppens selvlagde stykke I livet mandag 27. , tirsdag 28. og onsdag 29. november i Lillesalen, Chateau Neuf klokken 19 og 21.&para;<br>&lt;/p&gt;&para;<br>&lt;p class=\"question\"&gt;&para;<br> Cymbelin&para;<br>&lt;/p&gt;&para;<br>&lt;div class=\"inline_pullquote \"&gt;&para;<br> &lt;bq class=\"pullquote\"&gt;&para;<br>  Test&para;<br> &lt;/bq&gt;&para;<br> &lt;p class=\"by\"&gt;&para;<br>  H\u00e5ken Lid, slabbedask&para;<br> &lt;/p&gt;&para;<br>&lt;/div&gt;&para;<br>&lt;div class=\"inline_pullquote \"&gt;&para;<br> &lt;bq class=\"pullquote\"&gt;&para;<br>  Test&para;<br> &lt;/bq&gt;&para;<br> &lt;p class=\"by\"&gt;&para;<br>  H\u00e5ken Lid, slabbedask&para;<br> &lt;/p&gt;&para;<br>&lt;/div&gt;&para;<br></span><del style=\"background:#ffe6e6;\"> extra  extra </del>\n",
        "<hr>\n",
        "<h3>html (263) Mat til enhver? \n",
        "</h3><span>&lt;p&gt;&para;<br> I sommer leverte Fremtiden i v\u00e5re hender en rapport som konkluderte med at unge folk i byene har blitt mer milj\u00f8vennlige. De bruker mye fellestransport, sitter ofte p\u00e5 kaf\u00e9 og kj\u00f8per rettferdige produkter. Rapporten skr\u00f8t av de unges daglige kaf\u00e9bes\u00f8k og h\u00e5pet den nye trenden ville fortsette. Rapporten viste at folk som spiste mye ute oftere tok kontakt med nye mennesker og var mindre forutinntatte ovenfor fremmende. Dette er vel i h\u00f8yeste grad \u00f8nskelig for det fremmed-fiendtlige Norge.&para;<br>&lt;/p&gt;&para;<br>&lt;p&gt;&para;<br> Det har nok \u00e5rets statsbudsjett satt bremser for. For n\u00e5 vil alle tjenester bli momsbelagt. I verste tilfelle vil det bety at en god kaffe latte p\u00e5 XO kaf\u00e9 i sentrum, som n\u00e5 koster 31 kroner, i januar vil koste cirka 40 kroner. I studentkantinene vil dagens middag koste 40 kroner. Dette kan kanskje virke lite viktig i den store sammenhengen. Dessuten blir jo kanskje kj\u00f8tt og bensin billigere.&para;<br>&lt;/p&gt;&para;<br>&lt;p&gt;&para;<br> Men hvem er det som spiser ute? P\u00e5 billige falafel-buler eller en salat til kaffen p\u00e5 en kaffebar? Jo, det er unge studenter. Studenter hvis vaner blir lovpriset av milj\u00f8rapporter, men avgiftsbelagt av staten. Dette av Kristelig Folkeparti (KrF) som sier de vil hjelpe sm\u00e5n\u00e6ringene, at skatt p\u00e5 utbytte ikke kommer p\u00e5 tale. Men \u00e5 hjelpe restuaurantn\u00e6ringen er ikke like prek\u00e6rt.&para;<br>&lt;/p&gt;&para;<br>&lt;p&gt;&para;<br> Jeg kan forst\u00e5 at dette virker klagete og navlebeskuende, men det finnes faktisk folk som er glade for at vi ikke lenger bare samles rundt middagsbordet hjemme. Der vi sitter bak lukkede d\u00f8rer og nedtrukne gardiner. Ordtaket &lt;em&gt;mitt hjem er mitt borg&lt;/em&gt; trodde alle bare levde hos de eldste KrF-politikerne, men n\u00e5 blir det igjen en realitet. Det er heller ikke spesielt koselig for en ensom student ved Sogn studentby \u00e5 spise sine middager alene hjemme.&para;<br>&lt;/p&gt;&para;<br>&lt;p&gt;&para;<br> Restaurantn\u00e6ringen blomstrer i Norge, mat er in og dermed blir det kanskje naturlig for politikere \u00e5 skattelegge den nye trenden. Det kan virke som om det nordmenn forbruker mye av m\u00e5 skattlegges etter hvert. Det hadde v\u00e6rt forst\u00e5elig hvis regjeringen hadde foresl\u00e5tt en CO2-avgift p\u00e5 gassverkene som faktisk skader milj\u00f8et og er med p\u00e5 \u00e5 lage regnet vi alle er lei av. Men \u00e5 beskatte spisen\u00e6ringen som milj\u00f8vernforeninger er positive til, er et underlig tiltak i skattepolitikken.&para;<br>&lt;/p&gt;&para;<br>&lt;p&gt;&para;<br> Et argumentet er at det \u00e5 spise ute er luksus og har man f\u00f8rst r\u00e5d til det b\u00f8r man kunne betale en ekstra utgift ogs\u00e5. Men politikerne misforst\u00e5r, det er ikke lenger bare de rike og borgerlige som spiser ute. Alt fra McDonalds til Frederikke blir skadelidende, og dermed ogs\u00e5 vi studenter. Unnskyldningen til KrF har v\u00e6rt at matprisene g\u00e5r ned og dermed trenger ikke restaurantregningen bli nevneverdig st\u00f8rre siden r\u00e5varene er billigere. Men det er bare utvalgte varer som slipper moms, og innen restaurantbransjen er det ingen utvalgte n\u00e6ringer som blir sk\u00e5net. B\u00e5de Plaza og Frederikke blir p\u00e5lagt samme moms, med forskjellige konsekvenser b\u00e5de for kundene og n\u00e6ringene. At ikke politikerne brukte skj\u00f8nn p\u00e5 dette omr\u00e5det og fritok visse utsatte n\u00e6ringer for den ekstra \u00f8konomiske belastningen moms p\u00e5 tjenester blir, forst\u00e5r jeg ikke. Dermed kan en nok en gang betvile Arbeiderpartiet og Kristelig folkepartis uttalte \u00f8nske om \u00e5 lage regler som gir fordeler til de fattigste. S\u00e6rlig med tanke p\u00e5 rapporter som sier at det \u00f8kte utelivet demper fremmedfrykten. Det m\u00e5 jo v\u00e6re \u00f8nskelig for enhver sosialdemokrat.&para;<br>&lt;/p&gt;&para;<br>&lt;div class=\"inline_pullquote \"&gt;&para;<br> &lt;bq class=\"pullquote\"&gt;&para;<br>  Test&para;<br> &lt;/bq&gt;&para;<br> &lt;p class=\"by\"&gt;&para;<br>  H\u00e5ken Lid, slabbedask&para;<br> &lt;/p&gt;&para;<br>&lt;/div&gt;&para;<br>&lt;div class=\"inline_pullquote \"&gt;&para;<br> &lt;bq class=\"pullquote\"&gt;&para;<br>  Test&para;<br> &lt;/bq&gt;&para;<br> &lt;p class=\"by\"&gt;&para;<br>  H\u00e5ken Lid, slabbedask&para;<br> &lt;/p&gt;&para;<br>&lt;/div&gt;&para;<br></span><del style=\"background:#ffe6e6;\"> extra  extra </del>\n",
        "<hr>\n",
        "<h3>html (6) Her kommer en tittel \n",
        "</h3><span>&lt;p&gt;&para;<br> Omstridte Sulpicia skriver om da hun m\u00f8tte kj\u00e6rligheten og hadde sex f\u00f8r ekteskapet. Hun valgte \u00e5 ikke skjule sin lidenskap, og var stolt av det hun hadde gjort. I l\u00f8pet av de 2000 \u00e5rene som har g\u00e5tt siden ukjente Sulpicia \u00e5pent innr\u00f8mmet sine erotiske eventyr, har leserne hennes hatt helt ulike opplevelser av diktene. 1700-talls kommentatoren Heyne blir helt forelsket; midt i kommentaren g\u00e5r han helt ut av teksten og henvender seg til henne.&para;<br>&lt;/p&gt;&para;<br>&lt;p&gt;&para;<br> Mathilde Skoie har tatt doktorgraden i England p\u00e5 hvordan en klassisk tekst har blitt lest gjennom tidene.&para;<br>&lt;/p&gt;&para;<br>&lt;p&gt;&para;<br> \u2013 V\u00e5r forst\u00e5else av en tekst er ogs\u00e5 preget av hvordan den har blitt lest f\u00f8r.&para;<br>&lt;/p&gt;&para;<br>&lt;p&gt;&para;<br> Vi har kommentarer om diktene helt fra renessansen, sier hun.&para;<br>&lt;/p&gt;&para;<br>&lt;p&gt;&para;<br> Kommentarer lanseres normalt ikke som selvstendige tolkninger, men kun som \u00abhjelpemidler\u00bb. De leses parallelt med teksten og inneholder alt fra grammatiske forklaringer til kommentatorens egne oppfatninger.&para;<br>&lt;/p&gt;&para;<br>&lt;p&gt;&para;<br> \u2013 Som student leser man tekster ofte gjennom slike kommentarer, og man&para;<br>&lt;/p&gt;&para;<br>&lt;p&gt;&para;<br> glemmer at de ogs\u00e5 er lesninger. Jeg bruker dem derimot som en&para;<br>&lt;/p&gt;&para;<br>&lt;p&gt;&para;<br> dokumentasjon p\u00e5 hvordan Sulpicia har blitt lest, og ser p\u00e5 hvilke fortolkningsgrep som er benyttet, sier Skoie.&para;<br>&lt;/p&gt;&para;<br>&lt;p&gt;&para;<br> Sin egen doktorgradsoppgave ser hun derfor som en samtale mellom teksten, sju ulike kommentarer og henne selv som en leser fra v\u00e5r tid.&para;<br>&lt;/p&gt;&para;<br>&lt;h3 class=\"mellomtittel\"&gt;&para;<br> Ren natur&para;<br>&lt;/h3&gt;&para;<br>&lt;p&gt;&para;<br> Sulpicia er v\u00e5r eneste kilde til hvordan kvinner skrev i romertiden. Diktene er overlevert i den romerske dikteren Tibulls etterlatte tekster, og alle som har kommentert Tibull har ogs\u00e5 kommentert Sulpicia. Lenge antok man at Tibull selv hadde skrevet disse diktene.&para;<br>&lt;/p&gt;&para;<br>&lt;p&gt;&para;<br> P\u00e5 1800-tallet g\u00e5r derimot tyskeren Otto Gruppe ut fra at de er skrevet av en kvinne, uten annet bevis enn hans egen fortolkning av teksten.&para;<br>&lt;/p&gt;&para;<br>&lt;p&gt;&para;<br> \u2013 Farger det hans syn p\u00e5 diktene?&para;<br>&lt;/p&gt;&para;<br>&lt;p&gt;&para;<br> \u2013 Gruppe var inspirert av romantikken, og i hans idealer om hvordan kvinner skriver passer det at forfatteren en kvinne, sier Skoie.&para;<br>&lt;/p&gt;&para;<br>&lt;p&gt;&para;<br> Gruppe leser Sulpicia som en kringkaster av det spontane og den rene natur. Han karakteriser hennes spesielle form og uortodokse latin som rar og sier at det er \u00abd\u00e5rlig latin\u00bb. Tre \u00e5r tidligere kommenterte en annen tysker de samme elementene og fant dem originale og poetiske. I motsetning til Gruppe gikk han ut fra at forfatteren var mann.&para;<br>&lt;/p&gt;&para;<br>&lt;p&gt;&para;<br> Amerikaneren K. F. Smith lar seg p\u00e5 begynnelsen av 1900-tallet inspirere av den gryende psykologien, og ser Sulpicia som eksempel p\u00e5 den amerikanske piken.&para;<br>&lt;/p&gt;&para;<br>&lt;p&gt;&para;<br> \u2013 Hva ligger i denne fortolkningen?&para;<br>&lt;/p&gt;&para;<br>&lt;p&gt;&para;<br> \u2013 Hun er modig, men uskyldig. Smith ser diktene som dagboknotater rett fra et kvinnesinn, og beskriver dem som \u00abet vindu inn til hennes psyke\u00bb, sier Skoie.&para;<br>&lt;/p&gt;&para;<br>&lt;h3 class=\"mellomtittel\"&gt;&para;<br> Moralsk omm\u00f8blering&para;<br>&lt;/h3&gt;&para;<br>&lt;p&gt;&para;<br> Kvinnelig \u00e5penhet om lidenskap har ikke passet inn i alle tiders syn p\u00e5 moral.&para;<br>&lt;/p&gt;&para;<br>&lt;p&gt;&para;<br> \u2013 De kommentatorene som ser kvinneligheten i teksten hopper over erotikken. Noen filologer har omm\u00f8blert diktenes rekkef\u00f8lge; hvis kj\u00e6rlighetshistorien ikke begynner, men ender med sex er det greit. Det er enda bedre om det g\u00e5r slik Gruppe tror \u2013 at de blir gift til slutt.&para;<br>&lt;/p&gt;&para;<br>&lt;p&gt;&para;<br> \u2013 Hvorfor legger du s\u00e5 stor vekt p\u00e5 forfatterens kj\u00f8nn?&para;<br>&lt;/p&gt;&para;<br>&lt;p&gt;&para;<br> \u2013 Kj\u00f8nn er vektlagt i kommentarene, og det gir avgj\u00f8rende utslag for&para;<br>&lt;/p&gt;&para;<br>&lt;p&gt;&para;<br> fortolkningen. Kj\u00f8nn blir spesielt viktig fordi vi ikke vet om forfatteren&para;<br>&lt;/p&gt;&para;<br>&lt;p&gt;&para;<br> er en mann eller en kvinne, sier Skoie.&para;<br>&lt;/p&gt;&para;<br>&lt;p&gt;&para;<br> I dag er det stort sett enighet om at diktene er skrevet av en kvinne.&para;<br>&lt;/p&gt;&para;<br>&lt;h3 class=\"mellomtittel\"&gt;&para;<br> \u00c5 lese langsomt&para;<br>&lt;/h3&gt;&para;<br>&lt;p&gt;&para;<br> Nietzsche var klassisk filolog, og han har uttalt at det eneste positive ved klassiske tekster er at de m\u00e5 leses langsomt. Skoie ser p\u00e5 kommentarene til Sulpicia som en form for langsom lesing. Selv har hun brukt \u00e5r p\u00e5 de seks kj\u00e6rlighetsdiktene p\u00e5 til sammen f\u00f8rti linjer.&para;<br>&lt;/p&gt;&para;<br>&lt;p&gt;&para;<br> Det siste \u00e5ret har hun v\u00e6rt i Roma, der hun har sittet i Vatikan-biblioteket og lest originalmanuskripter fra renessansen.&para;<br>&lt;/p&gt;&para;<br>&lt;p&gt;&para;<br> \u2013 Hva gj\u00f8r det med ditt syn p\u00e5 tekstene?&para;<br>&lt;/p&gt;&para;<br>&lt;p&gt;&para;<br> \u2013 Det er stor forskjell fra \u00e5 f\u00e5 utdelt en ferdig forklart tekst og \u00e5 lese rare&para;<br>&lt;/p&gt;&para;<br>&lt;p&gt;&para;<br> h\u00e5ndskrifter. Jeg er opptatt av \u00e5 lese teksten med alle dens aspekter. Selv i grammatikken ligger det fortolkningsmuligheter.&para;<br>&lt;/p&gt;&para;<br>&lt;p&gt;&para;<br> Mathilde Skoie har v\u00e6rt opptatt av \u00e5 kombinere studier i klassiske spr\u00e5k med litteraturvitenskap. Hun \u00f8nsker at litteraturvitere stopper litt opp og leser langsommere, og at filologene anerkjenner fortolkningsaspektet.&para;<br>&lt;/p&gt;&para;<br>&lt;p&gt;&para;<br> \u2013 Ordvalg og oversettelse er ogs\u00e5 viktig for hele prosessen en tekst g\u00e5r gjennom. Sulpicia er preget av to tusen \u00e5rs lesing. Da fortjener hun \u00e5 leses langsomt, sier Mathilde Skoie.&para;<br>&lt;/p&gt;&para;<br>&lt;p&gt;&para;<br> Sulpicia i Henning Hagerups oversettelse.&para;<br>&lt;/p&gt;&para;<br>&lt;p&gt;&para;<br> Test&para;<br>&lt;/p&gt;&para;<br>&lt;div class=\"inline_pullquote \"&gt;&para;<br> &lt;bq class=\"pullquote\"&gt;&para;<br>  Test&para;<br> &lt;/bq&gt;&para;<br> &lt;p class=\"by\"&gt;&para;<br>  H\u00e5ken Lid, slabbedask&para;<br> &lt;/p&gt;&para;<br>&lt;/div&gt;&para;<br>&lt;div class=\"inline_pullquote \"&gt;&para;<br> &lt;bq class=\"pullquote\"&gt;&para;<br>  Test&para;<br> &lt;/bq&gt;&para;<br> &lt;p class=\"by\"&gt;&para;<br>  H\u00e5ken Lid, slabbedask&para;<br> &lt;/p&gt;&para;<br>&lt;/div&gt;&para;<br></span><del style=\"background:#ffe6e6;\"> extra  extra </del>\n",
        "<hr>\n",
        "<h3>html (764) Angsten som g\u00e5r \n",
        "</h3><span>&lt;div class=\"inline_image \"&gt;&para;<br> &lt;div class=\"image-container\"&gt;&para;<br>  &lt;img alt=\"\" id=\"img_15800\" src=\"/foto/cache/62/0f/620fc68f5d19c510e697244abe90184a.jpg\"/&gt;&para;<br> &lt;/div&gt;&para;<br>&lt;/div&gt;&para;<br>&lt;p&gt;&para;<br> \u2013 Vandrehistorier om eksamen? Jeg kan en om en elefant og en om amfetamin, sier Marit Ruge Bj\u00e6lke. Hun har hjemmeeksamen i id\u00e9historie for \u00f8yeblikket.&para;<br>&lt;/p&gt;&para;<br>&lt;p class=\"question\"&gt;&para;<br> \u2013 Fortell.&para;<br>&lt;/p&gt;&para;<br>&lt;p&gt;&para;<br> \u2013 Jeg tror det var eksamen i psykologi. En av studentene hadde tatt amfetamin for \u00e5 gj\u00f8re det bedre p\u00e5 eksamen. Han skrev og skrev \u2013 satt helt ut tiden. Men da han skulle levere besvarelsen viste det seg at han hadde skrevet alt p\u00e5 ett ark. Opp\u00e5 hverandre. Det var uleselig, sier Ruge Bj\u00e6lke.&para;<br>&lt;/p&gt;&para;<br>&lt;p&gt;&para;<br> Resten av kollokviegruppen humrer.&para;<br>&lt;/p&gt;&para;<br>&lt;h3 class=\"mellomtittel\"&gt;&para;<br> St\u00e5ende elefant&para;<br>&lt;/h3&gt;&para;<br>&lt;p&gt;&para;<br> \u2013 Og s\u00e5 var det en elefant?&para;<br>&lt;/p&gt;&para;<br>&lt;p&gt;&para;<br> \u2013 Ja, den rosa alle har h\u00f8rt om.&para;<br>&lt;/p&gt;&para;<br>&lt;p&gt;&para;<br> Ruge Bj\u00e6lke husker ikke helt om det var kjemieksamen eller ex.phil., men studenten som m\u00f8tte opp til eksamen var ikke s\u00e6rlig forberedt. For \u00e5 ha noe \u00e5 gj\u00f8re halvtimen f\u00f8r han kunne g\u00e5 tegnet han en stor, rosa elefant. Leverte og gikk. Sensor syntes det var en riktig s\u00e5 fin elefant, og ga studenten karakteren 4.1.&para;<br>&lt;/p&gt;&para;<br>&lt;p&gt;&para;<br> \u2013 Poenget er at det var 70 prosent stryk p\u00e5 eksamenen. Oppgaven hadde v\u00e6rt for vanskelig. Alle fikk derfor justert opp karakteren et hakk, s\u00e5 studenten fikk 4.0 og best\u00e5tt med den rosa elefanten, sier Ruge Bj\u00e6lke.&para;<br>&lt;/p&gt;&para;<br>&lt;h3 class=\"mellomtittel\"&gt;&para;<br> Fullstendig utlevert&para;<br>&lt;/h3&gt;&para;<br>&lt;p&gt;&para;<br> Professor i folkloristikk, Arne Bugge Amundsen, forteller at det finnes s\u00e5 mange historier rundt eksamen fordi det er en fullstendig utleverende tilstand.&para;<br>&lt;/p&gt;&para;<br>&lt;p&gt;&para;<br> \u2013 Det er en makt-avmakt situasjon som skaper sterke f\u00f8lelser, og dermed oppst\u00e5r historiene, sier han.&para;<br>&lt;/p&gt;&para;<br>&lt;p&gt;&para;<br> Eksamenshistoriene Bugge Amundsen har h\u00f8rt dreier seg som regel om urimelig vurdering. Enten i positiv eller negativ forstand.&para;<br>&lt;/p&gt;&para;<br>&lt;p&gt;&para;<br> \u2013 Den eksterne sensoren er som regel djevelen i historien. Mange av vandrehistoriene er ogs\u00e5 karnevalistiske.&para;<br>&lt;/p&gt;&para;<br>&lt;p class=\"question\"&gt;&para;<br> \u2013 Karne..?&para;<br>&lt;/p&gt;&para;<br>&lt;p&gt;&para;<br> \u2013 Ja, rollene snus om. Historier der situasjoner og verdier snus opp ned har alltid appell, forklarer Bugge Amundsen.&para;<br>&lt;/p&gt;&para;<br>&lt;h3 class=\"mellomtittel\"&gt;&para;<br> Litt sanne&para;<br>&lt;/h3&gt;&para;<br>&lt;p&gt;&para;<br> I utgangspunktet fremstiller de fleste vandrehistoriene seg som sanne, og det er de ogs\u00e5 til en viss grad.&para;<br>&lt;/p&gt;&para;<br>&lt;p&gt;&para;<br> Utenfor UB sitter Ulf Johannessen. Han skal ha eksamen i offentlig rett om en uke, og har if\u00f8lge egne uttalelser overhodet ingen kontroll. Men en helt sann historie om lite kunnskap, en leende sensor og en s\u00f8t jente har han.&para;<br>&lt;/p&gt;&para;<br>&lt;p&gt;&para;<br> \u2013 Det er den klassiske om studenten som kommer til eksamen uten \u00e5 vite noe som helst. Problemet var at det satt ei veldig s\u00f8t jente ved siden av ham, s\u00e5 han f\u00f8lte ikke han kunne g\u00e5 med en gang. Da ville han vist alt for klart at han ikke kunne noe.&para;<br>&lt;/p&gt;&para;<br>&lt;p&gt;&para;<br> \u2013 Hva gjorde han?&para;<br>&lt;/p&gt;&para;<br>&lt;p&gt;&para;<br> \u2013 Han skrev hele historien til sensor. Om den s\u00f8te jenta, at han ikke kunne noe. Alt.&para;<br>&lt;/p&gt;&para;<br>&lt;p class=\"question\"&gt;&para;<br> \u2013 Sto han?&para;<br>&lt;/p&gt;&para;<br>&lt;p&gt;&para;<br> \u2013 Nei, men sensor fikk seg en god latter, sier Johannessen.&para;<br>&lt;/p&gt;&para;<br>&lt;h3 class=\"mellomtittel\"&gt;&para;<br> Flere eksamenshistorier:&para;<br>&lt;/h3&gt;&para;<br>&lt;p&gt;&para;<br> \u2013 Peter Wessel Zapffe som skrev jus-besvarelsen p\u00e5 vers og fikk toppkarakter.&para;<br>&lt;/p&gt;&para;<br>&lt;p&gt;&para;<br> \u2013 Studenten som skulle pr\u00f8ve snus for f\u00f8rste gang p\u00e5 eksamen for \u00e5 f\u00e5 skriverus. Han brukte halve tiden p\u00e5 \u00e5 springe p\u00e5 do for \u00e5 kaste opp.&para;<br>&lt;/p&gt;&para;<br>&lt;p&gt;&para;<br> \u2013 Superglupingen som leste p\u00e5 ex.phil. en time og sto.&para;<br>&lt;/p&gt;&para;<br>&lt;p&gt;&para;<br> \u2013 Henrik Ibsen som skulle svare p\u00e5 hva latskap er, og skrev \u00e9n setning: \u00abDette er latskap.\u00bb&para;<br>&lt;/p&gt;&para;<br>&lt;p&gt;&para;<br> \u2013 Den flittige studinen som hadde lest hele pensum, men som var syk under en forelesning. Det var stoffet fra denne forelesningen som ble eksamensoppgave.&para;<br>&lt;/p&gt;&para;<br>&lt;p&gt;&para;<br> \u2013 Trond Giske som aldri begynte \u00e5 pugge tidligere enn en m\u00e5ned f\u00f8r eksamen \u2013 men som alltid fikk kjempegode karakterer.&para;<br>&lt;/p&gt;</span><del style=\"background:#ffe6e6;\"> extra  extra </del>"
       ],
       "metadata": {},
       "output_type": "pyout",
       "prompt_number": 17,
       "text": [
        "<IPython.core.display.HTML at 0x7f3cb9e0f630>"
       ]
      }
     ],
     "prompt_number": 17
    },
    {
     "cell_type": "code",
     "collapsed": false,
     "input": [
      "print(Story.objects.all()[1].bodytext_markup)"
     ],
     "language": "python",
     "metadata": {},
     "outputs": [
      {
       "output_type": "stream",
       "stream": "stdout",
       "text": [
        "\u2013 Det virker som om Universitetet i Oslo ikke forst\u00e5r verdien av internasjonalisering, sier internasjonalt ansvarlig i Studentparlamentet H\u00e5vard \u00d8vreg\u00e5rd.\n",
        "Tall fra i fjor viser at 14 850 studenter fikk st\u00f8tte fra L\u00e5nekassen til utenlandsstudier. Samtidig var det kun 8608 utenlandske studenter som fikk st\u00f8tte til \u00e5 studere i Norge.\n",
        "\u00d8vreg\u00e5rd tror \u00e5rsaken til at det kommer s\u00e5 f\u00e5 utenlandske studenter til Universitetet er manglende prioritering fra universitetsledelsen. Han mener en bedre inkludering av de utenlandske studentene og bedre \u00f8konomisk st\u00f8tte m\u00e5 til for \u00e5 trekke flere internasjonale studenter til Norge.\n",
        "@mt:Lavt prioritert\n",
        "Rektor Kaare Norum mener kritikken fra \u00d8vreg\u00e5rd er feilsl\u00e5tt fordi han mener han som rektor har jobbet aktivt for internasjonalisering. Men Norum er enig i at mye mer kan gj\u00f8res.\n",
        "\u2013 Vi vil gjerne bedre tilbudet for studenter og yngre forskere fra utlandet. En av de tingene vi arbeider for er flere engelskspr\u00e5klige forelesninger og kurs, sier Norum.\n",
        "@mt:Ikke verdsatt\n",
        "Omtrent tre prosent av samtlige studenter i norske utdanningsinstitusjoner har utenlandsk statsborgerskap. Dette er under gjennomsnittet for OECD-land, som er n\u00e6rmere fem prosent.\n",
        "\u2013 Vi f\u00f8ler at Universitetet ikke anser oss som en ressurs, sier Ann-Kathrin Turn, leder i International student union.\n",
        "Turn mener det d\u00e5rlige tilbudet p\u00e5 engelskspr\u00e5klige forelesninger gj\u00f8r Universitetet mindre attraktivt for utenlandske studenter.\n",
        "\u2013 S\u00f8knadsprossesen er for vanskelig, og det blir gjort for lite for \u00e5 integrere utenlandske studenter med de norske, sier Turn.\n",
        "@mt:Studentenes ansvar\n",
        "F\u00f8rstekonsulent ved Seksjon for internasjonale programmer Guri Vestad sier at et av m\u00e5lene til universitetet er \u00e5 f\u00e5 flere internasjonale studenter.\n",
        "\u2013 Det universitetet kan gj\u00f8re er \u00e5 ha flere engelskspr\u00e5klige undervisningstilbud. Men det tror jeg ikke alle norske studenter er like begeistret over, sier Vestad.\n",
        "N\u00e5r det gjelder integrering tror hun ikke universitetet kan gj\u00f8re s\u00e5 mye mer.\n",
        "\u2013 Jeg mener det kommer an p\u00e5 om de norske studentene klarer \u00e5 inkludere de utenlandske studentene i sine egne arrangementer, sier Vestad.\n",
        "Rektor Kaare Norum er enig.\n",
        "\u2013 De gangene jeg har pratet med internasjonale studenter har de etterlyst sosiale og organisatoriske initiativer fra studenorganisasjonene, sier Norum.\n",
        "@mt:Norges ansvar\n",
        "Leder for Europakommisjonens delegasjon, Gerhard Sabathil, mener at det ville v\u00e6re naturlig for Norge \u00e5 gj\u00f8re seg s\u00e5 attraktiv som mulig for utenlandske studenter, b\u00e5de av \u00f8konomiske og kulturelle \u00e5rsaker.\n",
        "\u2013 Det gode akademiske tilbudet her burde absolutt komme andre nasjoner til gode, sier Sabathil.\n",
        "Selv om Universitetsledelsen understreker viktigheten av et h\u00f8yt antall utenlandske studenter, var det ikke mulig \u00e5 oppdrive tall p\u00e5 utenlandsstudenter som studerer ved Universitetet i Oslo.\n",
        "@quote:1\n",
        "@quote:1\n",
        "@quote:2 3 4 5\n"
       ]
      }
     ],
     "prompt_number": 15
    },
    {
     "cell_type": "code",
     "collapsed": false,
     "input": [
      "HTML(Story.objects.all()[1].get_html())"
     ],
     "language": "python",
     "metadata": {},
     "outputs": [
      {
       "html": [
        "<p>\n",
        " \u2013 P\u00e5 Centrum Athletica st\u00e5r en utsvettet student og n\u00f8ler i trappen mellom treningsstudio og garderobe.\n",
        "</p>\n",
        "<p>\n",
        " \u2013 \u00d8h... begynner han.\n",
        "</p>\n",
        "<p>\n",
        " Jan Marius Ki\u00f8sterud introduserer seg, og forklarer at han observerte min kropp i utt\u00f8yningssituasjonen, hvilket avsl\u00f8rte interessante fasonger. Og at han har studert keramikk ved kunstfag p\u00e5 Kunsth\u00f8gskolen i Oslo (KHiO) siden h\u00f8sten 2008. S\u00e5 tar han sats, og letter hjertet:\n",
        "</p>\n",
        "<p>\n",
        " \u2013 Vil du st\u00e5 modell for meg?\n",
        "</p>\n",
        "<p>\n",
        " Et finurlig sjekketriks. Eller finner han inspirasjon i meg? \u00c5 v\u00e6re en kunstners muse virker eksklusivt. Og litt skummelt. S\u00e6rlig siden det snart blir klart at jeg m\u00e5 av med kl\u00e6rne. Men hva kan egentlig skje?\n",
        "</p>\n",
        "<p>\n",
        " \u2013 Ok. Hvis jeg kan skrive om det, sier jeg.\n",
        "</p>\n",
        "<p>\n",
        " Ki\u00f8steruds atelier prydes av utstillingsdukken han fant i en container, stolen han reparerte med gaffateip, samt andre ting han har plukket opp fra gata. Vi sm\u00e5prater nerv\u00f8st. Han har en kartong r\u00f8dvin. Jeg finner fram blokken. Han setter p\u00e5 Jahn Teigens \u00abDet vakreste som fins\u00bb. Jeg ler. Han synger med s\u00e5 det runger i tak og vegger.\n",
        "</p>\n",
        "<p>\n",
        " Fem-seks glass senere faller kl\u00e6rne. Ki\u00f8sterud tegner. Riktig hyggelig er det \u2013 \u00e5 vekselvis st\u00e5 p\u00e5 gulvet, ligge p\u00e5 en madrass, og sitte p\u00e5 en krakk mens jeg sipper r\u00f8dvin og betraktes av et interessert blikk. Vi avtaler \u00e5 m\u00f8tes en gang til.\n",
        "</p>\n",
        "<p class=\"tingo\">\n",
        " I en undervisningstime i croquis \u2013 kjapp skissering av den nakne menneskekroppen \u2013 er vanligvis begge kj\u00f8nn representert, og en naken kropp i sentrum. Likevel utarter ikke timene til orgier. For bare modellen er avkledd, og hun veksler kun f\u00e5 ord med studentene som er opptatt med \u00e5 stirre og skrible.\n",
        "</p>\n",
        "<p>\n",
        " Kirsten Kokkin er skulpt\u00f8r, og underviser i croquis ved KHiO. Hun bekrefter at modellens kropp kun brukes som et middel for \u00e5 l\u00e6re \u00e5 tegne.\n",
        "</p>\n",
        "<p>\n",
        " \u2013 Det hefter ikke noe seksuelt ved timene, sier hun.\n",
        "</p>\n",
        "<p>\n",
        " Hva da n\u00e5r objektet sm\u00e5pratende og brisen intervjuer kunstneren i dennes private atelier? Kokkin tror ikke det forandrer saken nevneverdig, siden det er uvanlig blant kunstnere \u00e5 vektlegge det erotiske ved en naken modell.\n",
        "</p>\n",
        "<p>\n",
        " \u2013 \tF\u00e5 kunstnere fokuserer p\u00e5 det, sier hun.\n",
        "</p>\n",
        "<p>\n",
        " Ki\u00f8sterud bekrefter regelen. Han \u00f8nsker modellen i en mer privat setting fordi det er vanskelig \u00e5 f\u00e5 ro i timene i croquis, hvor veldig mange studenter er samlet rundt samme objekt.\n",
        "</p>\n",
        "<p>\n",
        " \u2013 Slike timer er stressende, sier han.\n",
        "</p>\n",
        "<p class=\"tingo\">\n",
        " Billedkunstner og sadomasochist Hans Petter Stubergh er uenig. Han mener SM (Sadomasochisme) og kunst, er fenomen som kan belyse hverandre. I sine f\u00f8rste studie\u00e5r tegnet han stort sett nakne damer, og innr\u00f8mmer mye st\u00e5pikk under tegningen.\n",
        "</p>\n",
        "<p>\n",
        " Ogs\u00e5 i timene i croquis.\n",
        "</p>\n",
        "<div class=\"inline_pullquote \">\n",
        " <bq class=\"pullquote\">\n",
        "  Pikken min gikk inn i kunsten, ikke i modellene.\n",
        " </bq>\n",
        " <p>\n",
        "  Hans Petter Stubergh, billedkunstner og sadomasochist.\n",
        " </p>\n",
        "</div>\n",
        "<p>\n",
        " \u2013 Men pikken min gikk inn i kunsten, ikke i modellene, sier han.\n",
        "</p>\n",
        "<p>\n",
        " Han forklarer at blyantlinjene som former den nakne modellen kan minne om striper etter piskeslag og tau. Men det er s\u00e6rlig i leirens konsistens og skulpturens tredimensjonale form han ser paralleller.\n",
        "</p>\n",
        "<p>\n",
        " \u2013 N\u00e5r jeg binder en kvinne, er jeg en erotisk sadoskulpt\u00f8r, og hun en erotisk masoskulptur, sier han.\n",
        "</p>\n",
        "<p>\n",
        " Stuberg vil gjerne tilf\u00f8re artikkelen min noe, og foresl\u00e5r at jeg kommer innom hans atelier.\n",
        "</p>\n",
        "<p>\n",
        " \u2013 Du kan gjerne intervjue meg mens jeg tegner deg naken.\n",
        "</p>\n",
        "<p>\n",
        " F\u00e5 timer senere m\u00f8ter jeg en bebrillet og smilende Stubergh som viser meg inn i sitt atelier med to tatoverte armer. Veggene skriker i fargerike malerier. De fleste av dyr. Et halvferdig bilde av en bl\u00e5 undulat t\u00f8rker p\u00e5 et staffeli. En stor kjetting henger fra taket.\n",
        "</p>\n",
        "<p>\n",
        " \u2013 Denne har jeg bundet flere flotte kvinner i, sier han.\n",
        "</p>\n",
        "<p>\n",
        " Naken mellom undulat og Dominerende Sadist st\u00e5r jeg der, klar med blokk og fotoapparat. Helst vil han tegne meg bakfra eller bundet. Vi blir imidlertid enige om en hakket mindre st\u00f8tende posisjon. Forfra skr\u00e6vende p\u00e5 en stol. Stillingen krever sitt av konsentrasjon, og Stubergs ansikt er skjerpet. Han lar blyanten svinse over papiret.\n",
        "</p>\n",
        "<p>\n",
        " \u2013 N\u00e5 tenner jeg, sier han.\n",
        "</p>\n",
        "<p>\n",
        " Og papiret gjennomg\u00e5r Stuberghs begj\u00e6r.\n",
        "</p>\n",
        "<p class=\"tingo\">\n",
        " \u2013 Tanken har ikke sl\u00e5tt meg, sier Ki\u00f8sterud.\n",
        "</p>\n",
        "<p>\n",
        " Han finner fint lite sadomasochistisk i stemningen n\u00e5r vi atter m\u00f8tes i hans atelier. Likegyldig til det kj\u00f8nnslige ved min kropp, er han imidlertid ikke.\n",
        "</p>\n",
        "<p>\n",
        " \u2013 Siden vi har en relasjon, og du er en naken kvinne som vandrer rundt i mitt atelier \u2013 er det klart noe erotisk spiller inn, sier han.\n",
        "</p>\n",
        "<p>\n",
        " Han \u00f8nsker \u00e5 tegne akkurat meg \u2013 fordi han finner kroppen min fascinerende, og ikke forst\u00e5r den fullt ut. Min smale midje som glir inn i mine brede hofter, er formene han jobber kunstnerisk med.\n",
        "</p>\n",
        "<p>\n",
        " Men f\u00f8rst og fremst er han generelt glad i kropp:\n",
        "</p>\n",
        "<p>\n",
        " \u2013 Jeg elsker menneskekroppen, sier han.\n",
        "</p>\n",
        "<p>\n",
        " Ki\u00f8sterud gnir seg i hendene. Hansker tr\u00e6s p\u00e5. H\u00f8nsenetting klippes med tang. Gipsen f\u00e5r en runde i en krukke vann s\u00e5 den blir bl\u00f8t \u2013 og kan bres over nettingen. Den hvite klumpen tar form. Den ligner meg. Fra navlen og ned. Selv om tonen mellom oss er god, er jeg mest interessert i artikkelen. Og han i skulpturen. Vi jobber.\n",
        "</p>\n",
        "<p>\n",
        " Da jeg ville ha oss inn i avisa ble han f\u00f8rst betenkt. Fordi han ikke fikk full kontroll. N\u00e5 mener han det er fint \u00e5 dele p\u00e5 reg\u00eden.\n",
        "</p>\n",
        "<p>\n",
        " \u2013 At du skriver om det, og dermed tilf\u00f8rer aspekter jeg ikke kan styre, gir prosjektet en ny dimensjon.\n",
        "</p>\n",
        "<div class=\"inline_pullquote \">\n",
        " <bq class=\"pullquote\">\n",
        "  Pikken min gikk inn i kunsten, ikke i modellene.\n",
        " </bq>\n",
        " <p>\n",
        "  Hans Petter Stubergh, billedkunstner og sadomasochist.\n",
        " </p>\n",
        "</div>\n",
        "<div class=\"inline_pullquote \">\n",
        " <bq class=\"pullquote\">\n",
        "  Pikken min gikk inn i kunsten, ikke i modellene.\n",
        " </bq>\n",
        " <p>\n",
        "  Hans Petter Stubergh, billedkunstner og sadomasochist.\n",
        " </p>\n",
        "</div>\n",
        "<div class=\"inline_pullquote \">\n",
        " <bq class=\"pullquote\">\n",
        "  Test\n",
        " </bq>\n",
        " <p class=\"by\">\n",
        "  H\u00e5ken Lid, slabbedask\n",
        " </p>\n",
        "</div>\n",
        "<div class=\"inline_pullquote \">\n",
        " <bq class=\"pullquote\">\n",
        "  Test\n",
        " </bq>\n",
        " <p class=\"by\">\n",
        "  H\u00e5ken Lid, slabbedask\n",
        " </p>\n",
        "</div>\n",
        "<div class=\"inline_pullquote \">\n",
        " <bq class=\"pullquote\">\n",
        "  Test\n",
        " </bq>\n",
        " <p class=\"by\">\n",
        "  H\u00e5ken Lid, slabbedask\n",
        " </p>\n",
        "</div>\n",
        "<div class=\"inline_pullquote \">\n",
        " <bq class=\"pullquote\">\n",
        "  Test\n",
        " </bq>\n",
        " <p class=\"by\">\n",
        "  H\u00e5ken Lid, slabbedask\n",
        " </p>\n",
        "</div>\n"
       ],
       "metadata": {},
       "output_type": "pyout",
       "prompt_number": 16,
       "text": [
        "<IPython.core.display.HTML at 0x7f8287ed3ba8>"
       ]
      }
     ],
     "prompt_number": 16
    }
   ],
   "metadata": {}
  }
 ]
}