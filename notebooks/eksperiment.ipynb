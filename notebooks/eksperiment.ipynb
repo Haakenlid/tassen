{
 "metadata": {
  "celltoolbar": "Raw Cell Format",
  "name": "",
  "signature": "sha256:5142bb73143dc60c45ac386cd70e128cfe1f207e1565962c3a4f06eaaf69fc40"
 },
 "nbformat": 3,
 "nbformat_minor": 0,
 "worksheets": [
  {
   "cells": [
    {
     "cell_type": "code",
     "collapsed": false,
     "input": [
      "from stories.models import *\n",
      "from IPython.display import display, HTML "
     ],
     "language": "python",
     "metadata": {},
     "outputs": [],
     "prompt_number": 8
    },
    {
     "cell_type": "code",
     "collapsed": false,
     "input": [
      "stories = Story.objects.all()"
     ],
     "language": "python",
     "metadata": {},
     "outputs": [],
     "prompt_number": 9
    },
    {
     "cell_type": "code",
     "collapsed": false,
     "input": [
      "for story in stories[4:8]:\n",
      "    display(HTML( story.get_html()))"
     ],
     "language": "python",
     "metadata": {},
     "outputs": [
      {
       "html": [
        "<p class=\"txt\">Rektorvalg</p>\n",
        "<p class=\"txt\">\u2013 Jeg syns det er utrolig rart at de g\u00e5r aktivt inn for \u00e5 bryte reglementet, bare fordi det ville v\u00e6rt ubeleilig for rektoratet at de ikke ville ha fullf\u00f8rt programmet sitt, sier Tobias Langhoff, som stilte som Torkil Vederhus sin viserektorkandidat ved fjor\u00e5rets rektorvalg ved Universitetet i Oslo (UiO).</p>\n",
        "<p class=\"txt\">Forrige uke ble det klart at Ruth Vatvedt Fjeld trekker seg som prorektor ved UiO. I valgreglementet st\u00e5r det at dette skal f\u00f8re til nytt valg av prorektor og rektor. Under en uanmeldt ekstrasak p\u00e5 styrem\u00f8tet 6. mai bl\u00e5ser universitetsstyret i disse reglene \u2013 etter at valgstyret har foresl\u00e5tt nettopp \u00e5 spesifikt fravike valgreglementet.</p>\n",
        "<p class=\"txt\">I stedet innsettes viserektor Ragnhild Hennum som ny prorektor uten noe nytt valg. Prorektor er rektors stedfortreder, og prosessen har blitt belyst i flere saker i Uniforum.</p>\n",
        "<p class=\"mt\">Studentrepresentantene imot</p>\n",
        "<p class=\"txt\">De to studentrepresentantene i universitetsstyret, Eva Holte Enoksen og \u00c5dne Hindenes, var de eneste som stemte imot regelbruddet.</p>\n",
        "<p class=\"txt\">\u2013 Stemmegivningen v\u00e5r var basert p\u00e5 at universitetsstyret m\u00e5 forholde seg til de demokratiske spillereglene ved UiO, sier Hindenes. Ogs\u00e5 Daniel Sandbakken Nilsen, en av to innstilte til \u00e5 bli Enoksen og Hindesnes' etterf\u00f8lgere som studentrepresentanter i styret til h\u00f8sten, mener det rette ville v\u00e6rt \u00e5 f\u00f8lge vedtektene.</p>\n",
        "<p class=\"txt\">\u2013 Jeg er veldig skuffa over m\u00e5ten universitetsstyret har h\u00e5ndtert dette p\u00e5, sier han og varsler diskusjon til h\u00f8sten dersom avgj\u00f8relsen kj\u00f8res gjennom.</p>\n",
        "<p class=\"txt\">\u2013 Da er vi n\u00f8dt til \u00e5 diskutere om universitetsstyret skal v\u00e6re helt autonomt, eller ha vedtekter det faktisk f\u00f8lger.</p>\n",
        "<p class=\"mt\">Undergraver universitets- demokratiet</p>\n",
        "<p class=\"txt\">Torkil Vederhus, n\u00e5v\u00e6rende rektor Ole Petter Ottersens motkandidat i fjor\u00e5rets rektorvalg, mener dette viser at styret ikke har stor nok respekt for valgordningen.</p>\n",
        "<p class=\"txt\">\u2013 Denne saken er et tegn p\u00e5 at valgets tid er over p\u00e5 universitetet, sier Vederhus, som opplyser at han ikke er interessert i \u00e5 stille igjen.</p>\n",
        "<p class=\"txt\">Viserektorkandidat fra 2013 Tobias Langhoff og Gabrielle Gjerdset, leder av studentparlamentet i Oslo, mener saken undergraver universitetsdemokratiet.</p>\n",
        "<p class=\"txt\">\u2013 Jeg syns ogs\u00e5 det er rart at viserektoren, som ikke har et valgt verv, kan overta et valgt verv, sier Langhoff.</p>\n",
        "<p class=\"txt\">Gjerdset er kritisk til at styret bare f\u00f8lger spillereglene n\u00e5r det passer for dem.</p>\n",
        "<p class=\"txt\">\u2013 Reglene er her for \u00e5 beskytte universitetsdemokratiet, sier hun.</p>\n",
        "<p class=\"txt\">Knut Heidar, leder i valgstyret, mener imidlertid et nyvalg ville v\u00e6rt en overreaksjon.</p>\n",
        "<p class=\"txt\">\u2013 \u00c5 fravike et reglement er \u00e5penbart et demokratitap. Men det er, slik situasjonen er n\u00e5, mindre problemfylt enn \u00e5 avbryte det mandatet velgerne ga rektoratet i 2013, sier Heidar. Hans begrunnelse er at et nyvalg, enten det gir et avbrudd i rektoratperioden eller et helt nytt rektorat for den gjenv\u00e6rende delen av perioden, vil sette viktige ledelsesoppgaver p\u00e5 vent i minst et halvt \u00e5r.</p>\n",
        "<p class=\"txt\">Rektor Ole Petter Ottersen sier til Universitas at han ikke kan se hvordan saken kan bidra til \u00e5 undergrave studentdemokratiet.</p>\n",
        "<p class=\"mt\">Hemmeligholdt</p>\n",
        "<p class=\"txt\">\u2013 Jeg syns det er veldig s\u00e6rt at saksgangen har v\u00e6rt ukjent for alle til saken ble framlagt for styret p\u00e5 selve valgdagen, sier Langhoff.</p>\n",
        "<p class=\"txt\">Han tror dette kan skyldes at de ville f\u00e5 saken ut av verden uten mye br\u00e5k, s\u00e5 de kunne fortsette sitt program uten avbrytelser.</p>\n",
        "<p class=\"txt\">Vederhus syns ogs\u00e5 det er merkelig at det hastet s\u00e5nn.</p>\n",
        "<p class=\"txt\">\u2013 De kunne tatt det p\u00e5 et senere styrem\u00f8te hvor det ville blitt ordentlig behandlet.</p>\n",
        "<p class=\"mt\">Skylder p\u00e5 \u00f8konomien</p>\n",
        "<p class=\"txt\">I sakspapirene fra styrem\u00f8tet st\u00e5r det at en ytterligere overveielse bak avgj\u00f8relsen er at nyvalg er d\u00e5rlig bruk av universitets ressurser. B\u00e5de Gjerdset og Langhoff mener at \u00f8konomiske hensyn ikke kan g\u00e5 foran demokratiske.</p>\n",
        "<p class=\"txt\">Vederhus mener et nyvalg ikke hadde trengt \u00e5 v\u00e6re dyrt.</p>\n",
        "<p class=\"txt\">\u2013 Det hadde v\u00e6rt bedre med et billig valg enn ikke \u00e5 ha valg, sier han.</p>\n",
        "<p class=\"txt\">Valgstyrelederen er uenig i dette.</p>\n",
        "<p class=\"txt\">\u2013 Skal man ha valg, m\u00e5 man ha valg. Man kan ikke gj\u00f8re det halvveis, sier Heidar.</p>\n",
        "<p class=\"tit\">Hovedpersonen ut mot kronargument</p>\n",
        "<p class=\"txt\">Blant valgstyrets hovedargumenter for at det skulle v\u00e6re forsvarlig \u00e5 droppe nyvalg, er at det ikke var universitetspolitiske grunner til at prorektoren trakk seg. Fjeld selv er imidlertid usikker p\u00e5 om \u00e5rsakene til at hun sluttet kan kalles \u00abuniversitetspolitiske\u00bb, og sier styret ikke har spurt henne om saken.</p>\n",
        "<p class=\"txt\">\u2013 Jeg syns universitetsstyret godt kunne kontaktet meg. De tok \u00e9n side for god fisk. Men det hadde kanskje v\u00e6rt smart av dem \u00e5 h\u00f8re begge sidene av saken, sier Fjeld.</p>\n",
        "<p class=\"txt\">\u2013 Da rektor spurte meg om det var en universitetspolitisk grunn, sa jeg at det var uklart hva som l\u00e5 i begrepet og ba om en avklaring. Det fikk jeg ikke, forteller hun.</p>\n",
        "<p class=\"txt\">If\u00f8lge rektor Ole Petter Ottersen er b\u00e5de universitetsstyret og styret enige med ham i at \u00e5rsaken ikke er universitetspolitisk.</p>\n",
        "<p class=\"txt\">Fjeld mener det er rart hun fikk s\u00e5 lite \u00e5 gj\u00f8re i en s\u00e5 stor og viktig stilling.</p>\n",
        "<p class=\"txt\">\u2013 Jeg tok det opp med rektor, og det kom ingen endring. Da kunne jeg ikke bruke tiden min der, sier hun.</p>\n",
        "<p class=\"txt\">Det var flere oppgaver Fjeld trodde hun skulle f\u00e5, som hun aldri fikk.</p>\n",
        "<p class=\"txt\">\u2013 Doktorgradsutdanningen var jeg lovet, men fikk ikke det i gavnet, bare i navnet, sier hun.</p>\n",
        "<p class=\"txt\">Det var da rektoratet la fram rapporten om doktorgradsutdanningen uten at Fjeld hadde noe med det \u00e5 gj\u00f8re, at hun leverte erkl\u00e6ringen om at hun ville g\u00e5 av som prorektor.</p>\n",
        "<p class=\"txt\">\u2013 Da skj\u00f8nte jeg at det var noe som ikke hang helt sammen, forteller hun.</p>\n",
        "<p class=\"txt\">En av grunnene til at hun ikke fikk like mange oppgaver som hun trodde, var at det ble innf\u00f8rt en ekstra viserektorstilling rett f\u00f8r hun begynte.</p>\n",
        "<p class=\"txt\">\u2013 Viserektoren fikk hele forskningsdelen, som jeg trodde jeg skulle f\u00e5. Prorektoren f\u00f8r meg hadde den delen, og de burde v\u00e6rt klarere p\u00e5 at jeg ikke skulle f\u00e5 den delen i s\u00e5 fall.</p>\n",
        "<p class=\"txt\">Fjeld mener hun ble valgt blant annet p\u00e5 grunn av likestilling, og at de trengte en kvinne.</p>\n",
        "<p class=\"txt\">\u2013 En viktig del av likestillingsprofilen ble borte n\u00e5r de ansatte en ekstra mannlig viserektor rett f\u00f8r jeg skulle begynne.</p>\n",
        "<p class=\"txt\">Rektor Ole Petter Ottersen \u00f8nsker ikke \u00e5 kommentere Fjelds uttalelser.</p>"
       ],
       "metadata": {},
       "output_type": "display_data",
       "text": [
        "<IPython.core.display.HTML at 0x7fa6740acc18>"
       ]
      },
      {
       "html": [
        "<p class=\"txt\">Lamalue: Dala Lama tok gledelig i bruk russelua han ble tilbudt av elever fra Oslo handelsgym da han bes\u00f8kte Fredssenteret 9. mai.</p>"
       ],
       "metadata": {},
       "output_type": "display_data",
       "text": [
        "<IPython.core.display.HTML at 0x7fa6740acc18>"
       ]
      },
      {
       "html": [
        "<p class=\"txt\">VG skriver i dag (HENVISNING TIL (http://www.vg.no/nyheter/innenriks/udi/narkodoemt-ble-aktivist-faar-bli-i-norge/a/10123484/ HER) om en innvandrer som, etter \u00e5 ha sonet fire \u00e5r i Norge for narkotikakriminalitet, skulle kastes ut av landet, men som ble menneskerettighetsaktivist og fikk bli i stedet.</p>\n",
        "<p class=\"txt\">I en egen sak skriver VG videre (HENVISNING TIL http://www.vg.no/nyheter/innenriks/udi/professor-roser-innsatsen-til-narkodoemt/a/10123487/) at mannen skal ha f\u00e5tt st\u00f8tte fra en anerkjent professor. Professoren var med \u00e5 stifte menneskerettighetsorganisasjonen med mannen, og vitnet til fordel for den straffed\u00f8mte da han saks\u00f8kte staten.</p>\n",
        "<p class=\"mt\">Mot hensikten</p>\n",
        "<p class=\"txt\">\u2013 For det f\u00f8rste er vi helt imot at noen bruker aktiviteter for \u00e5 f\u00e5 opphold i Norge. Det er mot hensikten v\u00e5r, sier den Oslo-baserte professoren til Universitas</p>\n",
        "<p class=\"txt\">Han forteller videre at de p\u00e5 flere m\u00f8ter har diskutert at det skal v\u00e6re en betingelse at medlemmene av slike menneskerettighetsorganisasjoner b\u00f8r ha oppholdstillatelse f\u00f8r de blir medlemmer, s\u00e5 de ikke blir med for \u00e5 misbruke systemet.</p>\n",
        "<p class=\"txt\">\u2013 Men vi har ingen mulighet til \u00e5 sjekke bakgrunnen til folk. Vi baserer oss p\u00e5 det personene gj\u00f8r over tid, sier professoren.</p>\n",
        "<p class=\"mt\">Ukjent fortid</p>\n",
        "<p class=\"txt\">Den narkotikad\u00f8mte og professoren skal ha vokst opp i samme land, og de skal if\u00f8lge den d\u00f8mte mannen ha kjent hverandre sv\u00e6rt lenge. Professoren sier til VG at han m\u00f8tte den straffed\u00f8mte f\u00f8rste gang for fire \u00e5r siden, og ikke kjente mannens narkotika-fortid.</p>\n",
        "<p class=\"txt\"><i>Ville dere i styret til denne menneskerettighetsorganisasjonen ha stemt inn mannen som leder hvis dere visste om mannens fortid med narkotikadom og lange kamp for oppholdstillatelse?</i></p>\n",
        "<p class=\"txt\">\u2013 Om vi hadde f\u00e5tt den informasjonen, og skulle ha valgt leder, ville nok ikke vedkommende ha blitt valgt av gruppa, nei, sier professoren.</p>\n",
        "<p class=\"txt\">VG skriver at professoren vitnet for den narkod\u00f8mte da mannen saks\u00f8kte staten. Selv sier professoren at han kun svarte p\u00e5 et sp\u00f8rsm\u00e5l.</p>\n",
        "<p class=\"txt\">\u2013 Jeg svarte kun p\u00e5 sp\u00f8rsm\u00e5l om vedkommende ville v\u00e6rt i fare ved tvangsretur til hjemlandet sitt.</p>\n",
        "<p class=\"txt\">Menneskerettighetsorganisasjonen er en liten, lokal organisasjon i Oslo, og har n\u00e5 skiftet navn.</p>\n",
        "<p class=\"txt\">arews@universitas.no</p>"
       ],
       "metadata": {},
       "output_type": "display_data",
       "text": [
        "<IPython.core.display.HTML at 0x7fa6740acc18>"
       ]
      },
      {
       "html": [
        "<p class=\"txt\">Ukas anbefaling</p>\n",
        "<p class=\"txt\">Eksamenstiden slipper ikke taket f\u00f8r du ligger der som en halvd\u00f8d haug med nerver. Da er det godt det finnes noe kalt skippertak. N\u00e5r du tenker \u00abhvorfor begynner jeg aldri \u00e5 lese tidligere?\u00bb, er fenomenet en reddende engel. Ved \u00e5 rendyrke teknikken gjennom \u00e5renes l\u00f8p, ved \u00e5 omfavne den som en gammel, litt slitsom venn, har den s\u00e5gar blitt en aldri s\u00e5 liten spesialitet. Sett deg til rette med sjokolade, kaffe og matpakke og gj\u00f8r det til en litt selv-sadistisk leselek \u2013 litt mer, litt lengre \u2013 s\u00e5 vil det b\u00e6re frukter som A-ppelsin og B-anan. Ps. Anbefales for \u00f8vrig \u00e5 lese kontinuerlig, men det er litt sent n\u00e5...</p>"
       ],
       "metadata": {},
       "output_type": "display_data",
       "text": [
        "<IPython.core.display.HTML at 0x7fa6740acc18>"
       ]
      }
     ],
     "prompt_number": 11
    },
    {
     "cell_type": "raw",
     "metadata": {
      "raw_mimetype": "text/html"
     },
     "source": []
    },
    {
     "cell_type": "code",
     "collapsed": false,
     "input": [],
     "language": "python",
     "metadata": {},
     "outputs": [],
     "prompt_number": 10
    }
   ],
   "metadata": {}
  }
 ]
}