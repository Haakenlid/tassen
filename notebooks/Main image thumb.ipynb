{
 "metadata": {
  "name": "",
  "signature": "sha256:99ed143479ca2c3f57221337e6c33eaa9bf5b753c3cfc986b14891dfaa90ca2e"
 },
 "nbformat": 3,
 "nbformat_minor": 0,
 "worksheets": [
  {
   "cells": [
    {
     "cell_type": "code",
     "collapsed": false,
     "input": [
      "from apps.stories.models import Story\n",
      "from PIL import Image\n",
      "from IPython.core import display\n",
      "from matplotlib import pyplot as plt\n",
      "import django\n",
      "\n",
      "%matplotlib inline\n",
      "django.setup()"
     ],
     "language": "python",
     "metadata": {},
     "outputs": [],
     "prompt_number": 1
    },
    {
     "cell_type": "code",
     "collapsed": false,
     "input": [
      "stories = Story.objects.all()[:100]"
     ],
     "language": "python",
     "metadata": {},
     "outputs": [],
     "prompt_number": 8
    },
    {
     "cell_type": "code",
     "collapsed": false,
     "input": [
      "for story in stories:\n",
      "    print(story.title, story.get_bylines())"
     ],
     "language": "python",
     "metadata": {},
     "outputs": [
      {
       "output_type": "stream",
       "stream": "stdout",
       "text": [
        "Pedagoger uten praksis? Av: Studentutvalget Ved Det Utdanningsvitenskapelige F\n",
        "Nektes tilrettelegging Foto: Anne Ogundipe, Tekst: Robin R\u00f8kke Johansen\n",
        "Gutta p\u00e5 trynet? Av: Vegard Larsen\n",
        "Her kommer en tittel Foto: Audun Halaas, Tekst: Nina Hern\u00e6s\n",
        "Rullende revolt Tekst og video: Jakob Berg\n",
        "Arild ser deg \n",
        "Reinspikka retro Av: Bj\u00f8rn\u2013Egil Mikalsen\n",
        "Den perfekte jam Av: Steffen S. Aagedal\n",
        "Verdens beste tyver Av: Anders Waaler Kemp\n",
        "Nabovarsel: Tr\u00f8ttende Av: Henning Reinton\n",
        "Lesernes meldinger \n",
        "Kort om nytt"
       ]
      },
      {
       "output_type": "stream",
       "stream": "stdout",
       "text": [
        " \n",
        "Svart ensomhet Av: Camilla Harbu Bielecki\n",
        "Modellbasert l\u00e6ring Av: Jonas Tjersland\n",
        "Smak og behag kan diskuteres!"
       ]
      },
      {
       "output_type": "stream",
       "stream": "stdout",
       "text": [
        " Av: Lars Eng F\u00f8rde\n",
        "50 000 i skjult husleie Av: Camilla Br\u00f8nnich Eikeland\n",
        "H\u00f8ye boligpriser \u2013 resultat av feilsl\u00e5tt \u00f8konomi- og boligpolitikk Av: Valdemar Birkeland\n",
        "Utdanning m\u00e5 l\u00f8nne seg! \n",
        "Lesernes meldinger \n",
        "Kjenn din foreleser. Av: Nomen Nescio (HH), Av: Nomen Nescio (ICF)\n",
        "500 nye boliger til oslostudenter Av: Lars R\u00f8nn, Av: Mina Gerhardsen\n",
        "\u2013 Partiene vil prioritere utdanning Av: Caroline Rugeldal\n",
        "Fra arroganse til kompetanse Foto: Audun Halaas, Tekst: Nina Hern\u00e6s\n",
        "Frav\u00e6rf\u00f8ring p\u00e5 vei ut Foto: Kristian Ridder\u2013Nielsen, Tekst: J\u00f8rgen Svarstad\n",
        "Rasisme \u2013 et tomt begrep? Av: Ralf Gundersen Lofstad (id\u00e9historie)\n",
        "Kravstore studenter Av: Karsten Eig\n",
        "Pr\u00f8v lykken med Trond Av: Karsten Eig\n",
        "Feng shui \u2013 eller kunsten \u00e5 trives p\u00e5 Blindern Foto: Berit Andreassen, Tekst: Kjetil Str\u00f8mme\n",
        "Fortsatt for f\u00e5 kvinnetilsettinger Foto: Fredrik Arff, Tekst: Toralill Sjaavaag\n",
        "Lesernes meldinger"
       ]
      },
      {
       "output_type": "stream",
       "stream": "stdout",
       "text": [
        " \n",
        "Bang-disj-rabadam! Av: Andreas \u00d8ien Stensland\n",
        "Globalisert virkelighet Av: Nomen Nescio (NH)\n",
        "Humor vs Murstein 3-0! Av: Anders Waaler Kemp\n",
        "Stemmen fra Beograd Av: P\u00e5l Hovengen Plassen\n",
        "Tause politikere Av: Mina Gerhardsen\n",
        "Avgift som motgift Foto: Audun Halaas, Tekst: Kjetil Str\u00f8mme\n",
        "F\u00e6l fredag Foto: Hilde Raa, Tekst: \u00d8yunn Syrstad H\u00f8ydal\n",
        "F\u00f8rstemann ut er en stut Av: Andy The Cat\n",
        "Schizofreni Av: Ida De Rosa\n",
        "Kvalitet \u2013 ogs\u00e5 i studentvelferden! \n",
        "\u00abEgostrategisk\u00bb hengemyr \n",
        "Religionenes \u00e5rhundre Foto: Hanne Hvattum, Tekst: Anne B. Viken\n",
        "Alle bobler sprekker Av: Silje Bekeng\n",
        "Realnedgang for h\u00f8yere utdanning \n",
        "Trangere k\u00e5r for Universitetet Av: Camilla Br\u00f8nnich Eikeland, Av: Karsten Eig (Kjetil G. Abildsnes, Maria Reinertsen, P\u00e5l Hovengen Plassen)\n",
        "Student i tre generasjoner Av: Kjetil Str\u00f8mme\n",
        "D\u00f8den p\u00e5 mellomfag Foto: Audun Halaas, Tekst: Bjarne Henning Kv\u00e5le\n",
        "Norsk film reddet."
       ]
      },
      {
       "output_type": "stream",
       "stream": "stdout",
       "text": [
        " Av: Bj\u00f8rn\u2013Egil Mikalsen Ill: Mads Sivertsen\n",
        "Du er ikke unik Av: Hanne Hvattum, Av: Ingjerd S\u00f8rlie\n",
        "St\u00e5lmannen \n",
        "Urettferdig slakt av organiseringen av rektorvalget Av: Ingrid Olsen Teologisk Fakultets Studentutvalg, Av: Det Humanistiske Fakultets Studentutvalg (leder og valgansvarlig Thomas Andr\u00e9 Syvertsen studentutvalget ved UV, leder og valgansvarlig Gunn Lyngv\u00e6r Juridisk studentutvalg, valgansvarlige Marte Kj\u00f8rven)\n",
        "Valg uten velgere Av: Kathrine Ruud Elster, Av: Kjetil Str\u00f8mme\n",
        "Ny arkitektskole i revers Foto: Khai Nguyen, Foto: Maria Reinertsen (Hilde Raa)\n",
        "Regjeringen har talt \n",
        "Kapitalismen er rettferdig Av: Bent Johan Mosfjell (leder i FRIstud)\n",
        "Ofret for husleie Av: Michael Br\u00f8ndbo\n",
        "Verden som kvinnekropp Av: Nomen Nescio (IKL)\n",
        "V\u00e5pen mot dr\u00e5pene Foto: Berit Andreassen, Tekst: Tonje T. Larsen\n",
        "Studentparlamentet Quo Vadis \n",
        "Ikke konflikt, men kritikk Av: Solveig \u00d8strem (h\u00f8gskolelektor ved H\u00f8gskolen i Vestfold)\n",
        "Knus den globale ignoransen Av: Bj\u00f8rn Larsen (student)\n",
        "Hvem skal vi skremme bort? Av: Lars Eng F\u00f8rde (journalist i Universitas)\n",
        "Innf\u00f8rer karakterer Foto: Silje Eide, Tekst: Silje Bekeng\n",
        "Ridder av det runde bord"
       ]
      },
      {
       "output_type": "stream",
       "stream": "stdout",
       "text": [
        " Av: Kjetil G. Abildsnes\n",
        "Stemmer for a- og b-grunnfag Av: Maria Reinertsen, Av: Kathrine Ruud Elster\n",
        "Bare Bergen og Troms\u00f8 demonstrerer mot budsjettet \n",
        "Popul\u00e6r Demoboks \n",
        "Doktoren tar imot deg n\u00e5 Foto: Hilde Raa, Tekst: Jonas Tjersland\n",
        "Sparkepiker Foto: Audun Halaas, Tekst: Anders Waaler Kemp\n",
        "Stemmen fra Beograd Av: P\u00e5l Hovengen Plassen\n",
        "Fantastisk klamt Foto: Kristian Ridder\u2013Nielsen, Tekst: Rolv Christian Topdahl\n",
        "U-hjelp til h\u00f8gskolene \n",
        "La oss bygge kunnskapssamfunnet! Av: Karin Yrvin (nestleder i Oslo Ap), Av: Dag Harlem Stenersen (leder av Universitetets Arbeiderpartilag)\n",
        "Kapitalisme \u2013 ikke uten skrupler Av: Khai Nguyen (cand.polit)\n",
        "Hvem representerer de eksterne representantene?"
       ]
      },
      {
       "output_type": "stream",
       "stream": "stdout",
       "text": [
        " Av: Olaf Svorst\u00f8l (kollegiemedlem)\n",
        "N\u00c5 \u2013 et verk av tjuvgods Av: Frida Nilsson (forskerstudent ved Uppsala universiteter og University of London)\n",
        "Et tilfeldig valg Av: Guro Aardal Hagen\n",
        "Valgfrihet i bostedsregistrering! \n",
        "Lesernes meldinger \n",
        "Stemmer som teller \n",
        "Blodets gleder Av: Ingrid K. Lund\n",
        "Ingen skriver til Vegard K. Av: Artig-Per\n",
        "\u00c5 mekke en Mozart Av: Nomen Nescio (Kjetil Str\u00f8mme)\n",
        "F\u00e5 bruker studentkort som bankkort Av: Kathrine Ruud Elster\n",
        "Fysikere refser fysikk-rapport Av: Karsten Eig\n",
        "Tv-stjerner reklamerer for h\u00f8yere utdanning Av: Ingrid K. Lund\n",
        "Krever mer studentmakt for pengene Av: Tonje T. Larsen\n",
        "Kjellermennesker Foto: Khai Nguyen, Tekst: Jakob Berg (P\u00e5l Hovengen Plassen, Ingrid K. Lund)\n",
        "Lettere \u00e5 f\u00e5 forskerjobb Foto: Kristian Ridder\u2013Nielsen, Tekst: Svein Egil Hatlevik\n",
        "En annen verden er mulig"
       ]
      },
      {
       "output_type": "stream",
       "stream": "stdout",
       "text": [
        " \n",
        "Ti \u00e5r med \u00e5ndelig f\u00f8de Av: Annette Orre\n",
        "Leken Debut Av: Ida Fjeldbraaten\n",
        "Pass opp for rente\u00f8kning Foto: Lene Hoem R\u00f8ysum, Tekst: Marianne Knarud Sagen\n",
        "Datamaraton Foto: Audun Halaas, Tekst: Janne Von Koss Torkildsen\n",
        "Ting tar tid \n",
        "\u00c5 sl\u00e5ss mot vindm\u00f8ller Av: Elin Enger (Studie\u2013 og utdanningsansvarlig i Studentparlamentet)\n",
        "Fri oss fra krisene Av: P\u00e5l Vegard R. Hages\u00e6ther\n",
        "Fritt marked \u2013 exit rettferdighet Av: Terje Wold Johansen\n",
        "Jeg vil at Giske skal jobbe: Av: Lars R\u00f8nn\n",
        "Velg Helsetjenesten"
       ]
      },
      {
       "output_type": "stream",
       "stream": "stdout",
       "text": [
        " Av: Tonje T. Larsen\n"
       ]
      }
     ],
     "prompt_number": 10
    },
    {
     "cell_type": "code",
     "collapsed": false,
     "input": [
      "img=story.main_image()"
     ],
     "language": "python",
     "metadata": {},
     "outputs": [],
     "prompt_number": 14
    },
    {
     "cell_type": "code",
     "collapsed": false,
     "input": [
      "thumb = img.imagefile.thumb()"
     ],
     "language": "python",
     "metadata": {},
     "outputs": [],
     "prompt_number": 24
    },
    {
     "cell_type": "code",
     "collapsed": false,
     "input": [
      "thumb.url"
     ],
     "language": "python",
     "metadata": {},
     "outputs": [
      {
       "metadata": {},
       "output_type": "pyout",
       "prompt_number": 26,
       "text": [
        "'/foto/cache/be/39/be3980701133b1f7e193205479a93540.jpg'"
       ]
      }
     ],
     "prompt_number": 26
    },
    {
     "cell_type": "code",
     "collapsed": false,
     "input": [
      "display.HTML('<img src=\"http://localhost:8000{}\">'.format(thumb.url))"
     ],
     "language": "python",
     "metadata": {},
     "outputs": [
      {
       "html": [
        "<img src=\"http://localhost:8000/foto/cache/be/39/be3980701133b1f7e193205479a93540.jpg\">"
       ],
       "metadata": {},
       "output_type": "pyout",
       "prompt_number": 30,
       "text": [
        "<IPython.core.display.HTML at 0x7f611ae2c860>"
       ]
      }
     ],
     "prompt_number": 30
    },
    {
     "cell_type": "code",
     "collapsed": false,
     "input": [],
     "language": "python",
     "metadata": {},
     "outputs": []
    }
   ],
   "metadata": {}
  }
 ]
}