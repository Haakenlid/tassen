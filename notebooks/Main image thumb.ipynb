{
 "metadata": {
  "name": "",
  "signature": "sha256:99695e1ce0ccb03ef5c8378e547333b6ba6351594249905439dfca8352405f26"
 },
 "nbformat": 3,
 "nbformat_minor": 0,
 "worksheets": [
  {
   "cells": [
    {
     "cell_type": "code",
     "collapsed": false,
     "input": [
      "from apps.stories.models import Story\n",
      "from PIL import Image\n",
      "from IPython.core import display\n",
      "from matplotlib import pyplot as plt\n",
      "import django\n",
      "\n",
      "%matplotlib inline\n",
      "django.setup()"
     ],
     "language": "python",
     "metadata": {},
     "outputs": [],
     "prompt_number": 1
    },
    {
     "cell_type": "code",
     "collapsed": false,
     "input": [
      "stories = Story.objects.all()[:100]"
     ],
     "language": "python",
     "metadata": {},
     "outputs": [],
     "prompt_number": 2
    },
    {
     "cell_type": "code",
     "collapsed": false,
     "input": [
      "for story in stories:\n",
      "    print(story.title, story.get_bylines())"
     ],
     "language": "python",
     "metadata": {},
     "outputs": [
      {
       "output_type": "stream",
       "stream": "stdout",
       "text": [
        "Pedagoger uten praksis? Studentutvalget Ved Det Utdanningsvitenskapelige F\n",
        "Nektes tilrettelegging Anne Ogundipe, Robin R\u00f8kke Johansen\n",
        "Gutta p\u00e5 trynet? Vegard Larsen\n",
        "Her kommer en tittel Audun Halaas, Nina Hern\u00e6s\n",
        "Rullende revolt Jakob Berg\n",
        "Arild ser deg \n",
        "Reinspikka retro Bj\u00f8rn\u2013Egil Mikalsen\n",
        "Den perfekte jam Steffen S. Aagedal\n",
        "Verdens beste tyver Anders Waaler Kemp\n",
        "Nabovarsel: Tr\u00f8ttende Henning Reinton\n",
        "Lesernes meldinger \n",
        "Kort om nytt \n",
        "Svart ensomhet Camilla Harbu Bielecki\n",
        "Modellbasert l\u00e6ring Jonas Tjersland\n",
        "Smak og behag kan diskuteres! Lars Eng F\u00f8rde\n",
        "50 000 i skjult husleie Camilla Br\u00f8nnich Eikeland\n",
        "H\u00f8ye boligpriser \u2013 resultat av feilsl\u00e5tt \u00f8konomi- og boligpolitikk Valdemar Birkeland\n",
        "Utdanning m\u00e5 l\u00f8nne seg! \n",
        "Lesernes meldinger \n",
        "Kjenn din foreleser. Nomen Nescio, HH, Nomen Nescio, ICF\n",
        "500 nye boliger til oslostudenter"
       ]
      },
      {
       "output_type": "stream",
       "stream": "stdout",
       "text": [
        " Lars R\u00f8nn, Mina Gerhardsen\n",
        "\u2013 Partiene vil prioritere utdanning Caroline Rugeldal\n",
        "Fra arroganse til kompetanse Audun Halaas, Nina Hern\u00e6s\n",
        "Frav\u00e6rf\u00f8ring p\u00e5 vei ut Kristian Ridder\u2013Nielsen, J\u00f8rgen Svarstad\n",
        "Rasisme \u2013 et tomt begrep? Ralf Gundersen Lofstad, id\u00e9historie\n",
        "Kravstore studenter Karsten Eig\n",
        "Pr\u00f8v lykken med Trond Karsten Eig\n",
        "Feng shui \u2013 eller kunsten \u00e5 trives p\u00e5 Blindern Berit Andreassen, Kjetil Str\u00f8mme\n",
        "Fortsatt for f\u00e5 kvinnetilsettinger Fredrik Arff, Toralill Sjaavaag\n",
        "Lesernes meldinger \n",
        "Bang-disj-rabadam! Andreas \u00d8ien Stensland\n",
        "Globalisert virkelighet Nomen Nescio, NH\n",
        "Humor vs Murstein 3-0! Anders Waaler Kemp\n",
        "Stemmen fra Beograd P\u00e5l Hovengen Plassen\n",
        "Tause politikere Mina Gerhardsen\n",
        "Avgift som motgift Audun Halaas, Kjetil Str\u00f8mme\n",
        "F\u00e6l fredag Hilde Raa, \u00d8yunn Syrstad H\u00f8ydal\n",
        "F\u00f8rstemann ut er en stut Andy The Cat\n",
        "Schizofreni Ida De Rosa\n",
        "Kvalitet \u2013 ogs\u00e5 i studentvelferden! \n",
        "\u00abEgostrategisk\u00bb hengemyr"
       ]
      },
      {
       "output_type": "stream",
       "stream": "stdout",
       "text": [
        " \n",
        "Religionenes \u00e5rhundre Hanne Hvattum, Anne B. Viken\n",
        "Alle bobler sprekker Silje Bekeng\n",
        "Realnedgang for h\u00f8yere utdanning \n",
        "Trangere k\u00e5r for Universitetet Camilla Br\u00f8nnich Eikeland, Karsten Eig, Kjetil G. Abildsnes, Maria Reinertsen, P\u00e5l Hovengen Plassen\n",
        "Student i tre generasjoner Kjetil Str\u00f8mme\n",
        "D\u00f8den p\u00e5 mellomfag Audun Halaas, Bjarne Henning Kv\u00e5le\n",
        "Norsk film reddet. Bj\u00f8rn\u2013Egil Mikalsen Ill: Mads Sivertsen\n",
        "Du er ikke unik Hanne Hvattum, Ingjerd S\u00f8rlie\n",
        "St\u00e5lmannen \n",
        "Urettferdig slakt av organiseringen av rektorvalget Ingrid Olsen Teologisk Fakultets Studentutvalg, Det Humanistiske Fakultets Studentutvalg, leder og valgansvarlig Thomas Andr\u00e9 Syvertsen studentutvalget ved UV, leder og valgansvarlig Gunn Lyngv\u00e6r Juridisk studentutvalg, valgansvarlige Marte Kj\u00f8rven\n",
        "Valg uten velgere Kathrine Ruud Elster, Kjetil Str\u00f8mme\n",
        "Ny arkitektskole i revers Khai Nguyen, Maria Reinertsen, Hilde Raa\n",
        "Regjeringen har talt \n",
        "Kapitalismen er rettferdig Bent Johan Mosfjell, leder i FRIstud\n",
        "Ofret for husleie Michael Br\u00f8ndbo\n",
        "Verden som kvinnekropp Nomen Nescio, IKL\n",
        "V\u00e5pen mot dr\u00e5pene Berit Andreassen, Tonje T. Larsen\n",
        "Studentparlamentet Quo Vadis \n",
        "Ikke konflikt, men kritikk Solveig \u00d8strem, h\u00f8gskolelektor ved H\u00f8gskolen i Vestfold\n",
        "Knus den globale ignoransen"
       ]
      },
      {
       "output_type": "stream",
       "stream": "stdout",
       "text": [
        " Bj\u00f8rn Larsen, student\n",
        "Hvem skal vi skremme bort? Lars Eng F\u00f8rde, journalist i Universitas\n",
        "Innf\u00f8rer karakterer Silje Eide, Silje Bekeng\n",
        "Ridder av det runde bord Kjetil G. Abildsnes\n",
        "Stemmer for a- og b-grunnfag Maria Reinertsen, Kathrine Ruud Elster\n",
        "Bare Bergen og Troms\u00f8 demonstrerer mot budsjettet \n",
        "Popul\u00e6r Demoboks \n",
        "Doktoren tar imot deg n\u00e5 Hilde Raa, Jonas Tjersland\n",
        "Sparkepiker Audun Halaas, Anders Waaler Kemp\n",
        "Stemmen fra Beograd P\u00e5l Hovengen Plassen\n",
        "Fantastisk klamt Kristian Ridder\u2013Nielsen, Rolv Christian Topdahl\n",
        "U-hjelp til h\u00f8gskolene \n",
        "La oss bygge kunnskapssamfunnet! Karin Yrvin, nestleder i Oslo Ap, Dag Harlem Stenersen, leder av Universitetets Arbeiderpartilag\n",
        "Kapitalisme \u2013 ikke uten skrupler Khai Nguyen, cand.polit\n",
        "Hvem representerer de eksterne representantene? Olaf Svorst\u00f8l, kollegiemedlem\n",
        "N\u00c5 \u2013 et verk av tjuvgods Frida Nilsson, forskerstudent ved Uppsala universiteter og University of London\n",
        "Et tilfeldig valg"
       ]
      },
      {
       "output_type": "stream",
       "stream": "stdout",
       "text": [
        " Guro Aardal Hagen\n",
        "Valgfrihet i bostedsregistrering! \n",
        "Lesernes meldinger \n",
        "Stemmer som teller \n",
        "Blodets gleder Ingrid K. Lund\n",
        "Ingen skriver til Vegard K. Artig-Per\n",
        "\u00c5 mekke en Mozart Nomen Nescio, Kjetil Str\u00f8mme\n",
        "F\u00e5 bruker studentkort som bankkort Kathrine Ruud Elster\n",
        "Fysikere refser fysikk-rapport Karsten Eig\n",
        "Tv-stjerner reklamerer for h\u00f8yere utdanning Ingrid K. Lund\n",
        "Krever mer studentmakt for pengene"
       ]
      },
      {
       "output_type": "stream",
       "stream": "stdout",
       "text": [
        " Tonje T. Larsen\n",
        "Kjellermennesker Khai Nguyen, Jakob Berg, P\u00e5l Hovengen Plassen, Ingrid K. Lund\n",
        "Lettere \u00e5 f\u00e5 forskerjobb Kristian Ridder\u2013Nielsen, Svein Egil Hatlevik\n",
        "En annen verden er mulig \n",
        "Ti \u00e5r med \u00e5ndelig f\u00f8de Annette Orre\n",
        "Leken Debut Ida Fjeldbraaten\n",
        "Pass opp for rente\u00f8kning Lene Hoem R\u00f8ysum, Marianne Knarud Sagen\n",
        "Datamaraton Audun Halaas, Janne Von Koss Torkildsen\n",
        "Ting tar tid \n",
        "\u00c5 sl\u00e5ss mot vindm\u00f8ller Elin Enger, Studie\u2013 og utdanningsansvarlig i Studentparlamentet\n",
        "Fri oss fra krisene P\u00e5l Vegard R. Hages\u00e6ther\n",
        "Fritt marked \u2013 exit rettferdighet Terje Wold Johansen\n",
        "Jeg vil at Giske skal jobbe: Lars R\u00f8nn\n",
        "Velg Helsetjenesten Tonje T. Larsen\n"
       ]
      }
     ],
     "prompt_number": 3
    },
    {
     "cell_type": "code",
     "collapsed": false,
     "input": [
      "img=story.main_image()"
     ],
     "language": "python",
     "metadata": {},
     "outputs": [],
     "prompt_number": 14
    },
    {
     "cell_type": "code",
     "collapsed": false,
     "input": [
      "thumb = img.imagefile.thumb()"
     ],
     "language": "python",
     "metadata": {},
     "outputs": [],
     "prompt_number": 24
    },
    {
     "cell_type": "code",
     "collapsed": false,
     "input": [
      "thumb.url"
     ],
     "language": "python",
     "metadata": {},
     "outputs": [
      {
       "metadata": {},
       "output_type": "pyout",
       "prompt_number": 26,
       "text": [
        "'/foto/cache/be/39/be3980701133b1f7e193205479a93540.jpg'"
       ]
      }
     ],
     "prompt_number": 26
    },
    {
     "cell_type": "code",
     "collapsed": false,
     "input": [
      "display.HTML('<img src=\"http://localhost:8000{}\">'.format(thumb.url))"
     ],
     "language": "python",
     "metadata": {},
     "outputs": [
      {
       "html": [
        "<img src=\"http://localhost:8000/foto/cache/be/39/be3980701133b1f7e193205479a93540.jpg\">"
       ],
       "metadata": {},
       "output_type": "pyout",
       "prompt_number": 30,
       "text": [
        "<IPython.core.display.HTML at 0x7f611ae2c860>"
       ]
      }
     ],
     "prompt_number": 30
    },
    {
     "cell_type": "code",
     "collapsed": false,
     "input": [],
     "language": "python",
     "metadata": {},
     "outputs": []
    }
   ],
   "metadata": {}
  }
 ]
}