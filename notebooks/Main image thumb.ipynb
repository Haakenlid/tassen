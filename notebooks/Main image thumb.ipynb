{
 "metadata": {
  "name": "",
  "signature": "sha256:5981e9a41c5d38e3ef9267171192f877edf9a694e7f551f55ac74a61fa0b7ffa"
 },
 "nbformat": 3,
 "nbformat_minor": 0,
 "worksheets": [
  {
   "cells": [
    {
     "cell_type": "code",
     "collapsed": false,
     "input": [
      "from apps.stories.models import Story\n",
      "from PIL import Image\n",
      "from IPython.core import display\n",
      "from matplotlib import pyplot as plt\n",
      "import django\n",
      "\n",
      "%matplotlib inline\n",
      "django.setup()"
     ],
     "language": "python",
     "metadata": {},
     "outputs": [
      {
       "ename": "SyntaxError",
       "evalue": "keyword argument repeated (models.py, line 671)",
       "output_type": "pyerr",
       "traceback": [
        "\u001b[1;36m  File \u001b[1;32m\"/srv/local.universitas.no/source/apps/stories/models.py\"\u001b[1;36m, line \u001b[1;32m671\u001b[0m\n\u001b[1;33m    title=', {}'.format(bl.title) if bl.title else '',\u001b[0m\n\u001b[1;37m    ^\u001b[0m\n\u001b[1;31mSyntaxError\u001b[0m\u001b[1;31m:\u001b[0m keyword argument repeated\n"
       ]
      }
     ],
     "prompt_number": 3
    },
    {
     "cell_type": "code",
     "collapsed": false,
     "input": [
      "stories = Story.objects.all()[:100]"
     ],
     "language": "python",
     "metadata": {},
     "outputs": [
      {
       "ename": "NameError",
       "evalue": "name 'Story' is not defined",
       "output_type": "pyerr",
       "traceback": [
        "\u001b[1;31m---------------------------------------------------------------------------\u001b[0m\n\u001b[1;31mNameError\u001b[0m                                 Traceback (most recent call last)",
        "\u001b[1;32m<ipython-input-2-307e288507d2>\u001b[0m in \u001b[0;36m<module>\u001b[1;34m()\u001b[0m\n\u001b[1;32m----> 1\u001b[1;33m \u001b[0mstories\u001b[0m \u001b[1;33m=\u001b[0m \u001b[0mStory\u001b[0m\u001b[1;33m.\u001b[0m\u001b[0mobjects\u001b[0m\u001b[1;33m.\u001b[0m\u001b[0mall\u001b[0m\u001b[1;33m(\u001b[0m\u001b[1;33m)\u001b[0m\u001b[1;33m[\u001b[0m\u001b[1;33m:\u001b[0m\u001b[1;36m100\u001b[0m\u001b[1;33m]\u001b[0m\u001b[1;33m\u001b[0m\u001b[0m\n\u001b[0m",
        "\u001b[1;31mNameError\u001b[0m: name 'Story' is not defined"
       ]
      }
     ],
     "prompt_number": 2
    },
    {
     "cell_type": "code",
     "collapsed": false,
     "input": [
      "for story in stories:\n",
      "    print(story.title, story.get_bylines())"
     ],
     "language": "python",
     "metadata": {},
     "outputs": [
      {
       "output_type": "stream",
       "stream": "stdout",
       "text": [
        "Pedagoger uten praksis? Studentutvalget Ved Det Utdanningsvitenskapelige F (Av)\n",
        "Nektes tilrettelegging Anne Ogundipe (Foto), Robin R\u00f8kke Johansen (Tekst)\n",
        "Gutta p\u00e5 trynet? Vegard Larsen (Av)\n",
        "Her kommer en tittel Audun Halaas (Foto), Nina Hern\u00e6s (Tekst)\n",
        "Rullende revolt Jakob Berg (Tekst og video)\n",
        "Arild ser deg \n",
        "Reinspikka retro Bj\u00f8rn\u2013Egil Mikalsen (Av)\n",
        "Den perfekte jam Steffen S. Aagedal (Av)\n",
        "Verdens beste tyver Anders Waaler Kemp (Av)\n",
        "Nabovarsel: Tr\u00f8ttende Henning Reinton (Av)\n",
        "Lesernes meldinger \n",
        "Kort om nytt \n",
        "Svart ensomhet Camilla Harbu Bielecki (Av)\n",
        "Modellbasert l\u00e6ring Jonas Tjersland (Av)\n",
        "Smak og behag kan diskuteres! Lars Eng F\u00f8rde (Av)\n",
        "50 000 i skjult husleie Camilla Br\u00f8nnich Eikeland (Av)\n",
        "H\u00f8ye boligpriser \u2013 resultat av feilsl\u00e5tt \u00f8konomi- og boligpolitikk Valdemar Birkeland (Av)\n",
        "Utdanning m\u00e5 l\u00f8nne seg! \n",
        "Lesernes meldinger \n",
        "Kjenn din foreleser. Nomen Nescio, HH (Av), Nomen Nescio, ICF (Av)\n",
        "500 nye boliger til oslostudenter Lars R\u00f8nn (Av), Mina Gerhardsen (Av)\n",
        "\u2013 Partiene vil prioritere utdanning"
       ]
      },
      {
       "output_type": "stream",
       "stream": "stdout",
       "text": [
        " Caroline Rugeldal (Av)\n",
        "Fra arroganse til kompetanse Audun Halaas (Foto), Nina Hern\u00e6s (Tekst)\n",
        "Frav\u00e6rf\u00f8ring p\u00e5 vei ut Kristian Ridder\u2013Nielsen (Foto), J\u00f8rgen Svarstad (Tekst)\n",
        "Rasisme \u2013 et tomt begrep? Ralf Gundersen Lofstad, id\u00e9historie (Av)\n",
        "Kravstore studenter Karsten Eig (Av)\n",
        "Pr\u00f8v lykken med Trond Karsten Eig (Av)\n",
        "Feng shui \u2013 eller kunsten \u00e5 trives p\u00e5 Blindern Berit Andreassen (Foto), Kjetil Str\u00f8mme (Tekst)\n",
        "Fortsatt for f\u00e5 kvinnetilsettinger Fredrik Arff (Foto), Toralill Sjaavaag (Tekst)\n",
        "Lesernes meldinger \n",
        "Bang-disj-rabadam! Andreas \u00d8ien Stensland (Av)\n",
        "Globalisert virkelighet Nomen Nescio, NH (Av)\n",
        "Humor vs Murstein 3-0! Anders Waaler Kemp (Av)\n",
        "Stemmen fra Beograd P\u00e5l Hovengen Plassen (Av)\n",
        "Tause politikere Mina Gerhardsen (Av)\n",
        "Avgift som motgift Audun Halaas (Foto), Kjetil Str\u00f8mme (Tekst)\n",
        "F\u00e6l fredag Hilde Raa (Foto), \u00d8yunn Syrstad H\u00f8ydal (Tekst)\n",
        "F\u00f8rstemann ut er en stut"
       ]
      },
      {
       "output_type": "stream",
       "stream": "stdout",
       "text": [
        " Andy The Cat (Av)\n",
        "Schizofreni Ida De Rosa (Av)\n",
        "Kvalitet \u2013 ogs\u00e5 i studentvelferden! \n",
        "\u00abEgostrategisk\u00bb hengemyr \n",
        "Religionenes \u00e5rhundre Hanne Hvattum (Foto), Anne B. Viken (Tekst)\n",
        "Alle bobler sprekker Silje Bekeng (Av)\n",
        "Realnedgang for h\u00f8yere utdanning \n",
        "Trangere k\u00e5r for Universitetet Camilla Br\u00f8nnich Eikeland (Av), Karsten Eig, Kjetil G. Abildsnes, Maria Reinertsen, P\u00e5l Hovengen Plassen (Av)\n",
        "Student i tre generasjoner Kjetil Str\u00f8mme (Av)\n",
        "D\u00f8den p\u00e5 mellomfag Audun Halaas (Foto), Bjarne Henning Kv\u00e5le (Tekst)\n",
        "Norsk film reddet. Bj\u00f8rn\u2013Egil Mikalsen Ill: Mads Sivertsen (Av)\n",
        "Du er ikke unik Hanne Hvattum (Av), Ingjerd S\u00f8rlie (Av)\n",
        "St\u00e5lmannen \n",
        "Urettferdig slakt av organiseringen av rektorvalget Ingrid Olsen Teologisk Fakultets Studentutvalg (Av), Det Humanistiske Fakultets Studentutvalg, leder og valgansvarlig Thomas Andr\u00e9 Syvertsen studentutvalget ved UV, leder og valgansvarlig Gunn Lyngv\u00e6r Juridisk studentutvalg, valgansvarlige Marte Kj\u00f8rven (Av)\n",
        "Valg uten velgere Kathrine Ruud Elster (Av), Kjetil Str\u00f8mme (Av)\n",
        "Ny arkitektskole i revers Khai Nguyen (Foto), Maria Reinertsen, Hilde Raa (Foto)\n",
        "Regjeringen har talt"
       ]
      },
      {
       "output_type": "stream",
       "stream": "stdout",
       "text": [
        " \n",
        "Kapitalismen er rettferdig Bent Johan Mosfjell, leder i FRIstud (Av)\n",
        "Ofret for husleie Michael Br\u00f8ndbo (Av)\n",
        "Verden som kvinnekropp Nomen Nescio, IKL (Av)\n",
        "V\u00e5pen mot dr\u00e5pene Berit Andreassen (Foto), Tonje T. Larsen (Tekst)\n",
        "Studentparlamentet Quo Vadis \n",
        "Ikke konflikt, men kritikk Solveig \u00d8strem, h\u00f8gskolelektor ved H\u00f8gskolen i Vestfold (Av)\n",
        "Knus den globale ignoransen Bj\u00f8rn Larsen, student (Av)\n",
        "Hvem skal vi skremme bort? Lars Eng F\u00f8rde, journalist i Universitas (Av)\n",
        "Innf\u00f8rer karakterer Silje Eide (Foto), Silje Bekeng (Tekst)\n",
        "Ridder av det runde bord Kjetil G. Abildsnes (Av)\n",
        "Stemmer for a- og b-grunnfag Maria Reinertsen (Av), Kathrine Ruud Elster (Av)\n",
        "Bare Bergen og Troms\u00f8 demonstrerer mot budsjettet \n",
        "Popul\u00e6r Demoboks \n",
        "Doktoren tar imot deg n\u00e5 Hilde Raa (Foto), Jonas Tjersland (Tekst)\n",
        "Sparkepiker Audun Halaas (Foto), Anders Waaler Kemp (Tekst)\n",
        "Stemmen fra Beograd"
       ]
      },
      {
       "output_type": "stream",
       "stream": "stdout",
       "text": [
        " P\u00e5l Hovengen Plassen (Av)\n",
        "Fantastisk klamt Kristian Ridder\u2013Nielsen (Foto), Rolv Christian Topdahl (Tekst)\n",
        "U-hjelp til h\u00f8gskolene \n",
        "La oss bygge kunnskapssamfunnet! Karin Yrvin, nestleder i Oslo Ap (Av), Dag Harlem Stenersen, leder av Universitetets Arbeiderpartilag (Av)\n",
        "Kapitalisme \u2013 ikke uten skrupler Khai Nguyen, cand.polit (Av)\n",
        "Hvem representerer de eksterne representantene? Olaf Svorst\u00f8l, kollegiemedlem (Av)\n",
        "N\u00c5 \u2013 et verk av tjuvgods Frida Nilsson, forskerstudent ved Uppsala universiteter og University of London (Av)\n",
        "Et tilfeldig valg Guro Aardal Hagen (Av)\n",
        "Valgfrihet i bostedsregistrering! \n",
        "Lesernes meldinger \n",
        "Stemmer som teller \n",
        "Blodets gleder Ingrid K. Lund (Av)\n",
        "Ingen skriver til Vegard K. Artig-Per (Av)\n",
        "\u00c5 mekke en Mozart Nomen Nescio, Kjetil Str\u00f8mme (Av)\n",
        "F\u00e5 bruker studentkort som bankkort Kathrine Ruud Elster (Av)\n",
        "Fysikere refser fysikk-rapport Karsten Eig (Av)\n",
        "Tv-stjerner reklamerer for h\u00f8yere utdanning Ingrid K. Lund (Av)\n",
        "Krever mer studentmakt for pengene"
       ]
      },
      {
       "output_type": "stream",
       "stream": "stdout",
       "text": [
        " Tonje T. Larsen (Av)\n",
        "Kjellermennesker Khai Nguyen (Foto), Jakob Berg, P\u00e5l Hovengen Plassen, Ingrid K. Lund (Tekst)\n",
        "Lettere \u00e5 f\u00e5 forskerjobb Kristian Ridder\u2013Nielsen (Foto), Svein Egil Hatlevik (Tekst)\n",
        "En annen verden er mulig \n",
        "Ti \u00e5r med \u00e5ndelig f\u00f8de Annette Orre (Av)\n",
        "Leken Debut Ida Fjeldbraaten (Av)\n",
        "Pass opp for rente\u00f8kning Lene Hoem R\u00f8ysum (Foto), Marianne Knarud Sagen (Tekst)\n",
        "Datamaraton Audun Halaas (Foto), Janne Von Koss Torkildsen (Tekst)\n",
        "Ting tar tid \n",
        "\u00c5 sl\u00e5ss mot vindm\u00f8ller Elin Enger, Studie\u2013 og utdanningsansvarlig i Studentparlamentet (Av)\n",
        "Fri oss fra krisene P\u00e5l Vegard R. Hages\u00e6ther (Av)\n",
        "Fritt marked \u2013 exit rettferdighet Terje Wold Johansen (Av)\n",
        "Jeg vil at Giske skal jobbe: Lars R\u00f8nn (Av)\n",
        "Velg Helsetjenesten Tonje T. Larsen (Av)\n"
       ]
      }
     ],
     "prompt_number": 3
    },
    {
     "cell_type": "code",
     "collapsed": false,
     "input": [
      "img=story.main_image()"
     ],
     "language": "python",
     "metadata": {},
     "outputs": [],
     "prompt_number": 14
    },
    {
     "cell_type": "code",
     "collapsed": false,
     "input": [
      "thumb = img.imagefile.thumb()"
     ],
     "language": "python",
     "metadata": {},
     "outputs": [],
     "prompt_number": 24
    },
    {
     "cell_type": "code",
     "collapsed": false,
     "input": [
      "thumb.url"
     ],
     "language": "python",
     "metadata": {},
     "outputs": [
      {
       "metadata": {},
       "output_type": "pyout",
       "prompt_number": 26,
       "text": [
        "'/foto/cache/be/39/be3980701133b1f7e193205479a93540.jpg'"
       ]
      }
     ],
     "prompt_number": 26
    },
    {
     "cell_type": "code",
     "collapsed": false,
     "input": [
      "display.HTML('<img src=\"http://localhost:8000{}\">'.format(thumb.url))"
     ],
     "language": "python",
     "metadata": {},
     "outputs": [
      {
       "html": [
        "<img src=\"http://localhost:8000/foto/cache/be/39/be3980701133b1f7e193205479a93540.jpg\">"
       ],
       "metadata": {},
       "output_type": "pyout",
       "prompt_number": 30,
       "text": [
        "<IPython.core.display.HTML at 0x7f611ae2c860>"
       ]
      }
     ],
     "prompt_number": 30
    },
    {
     "cell_type": "code",
     "collapsed": false,
     "input": [],
     "language": "python",
     "metadata": {},
     "outputs": []
    }
   ],
   "metadata": {}
  }
 ]
}