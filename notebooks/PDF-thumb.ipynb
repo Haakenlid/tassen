{
 "metadata": {
  "name": "",
  "signature": "sha256:db45ac26fbb5d4a2558c57fc042c6fcc0e42c4bf31dca781522c53a07d673761"
 },
 "nbformat": 3,
 "nbformat_minor": 0,
 "worksheets": [
  {
   "cells": [
    {
     "cell_type": "code",
     "collapsed": false,
     "input": [
      "from io import BytesIO\n",
      "\n",
      "from IPython.core import display\n",
      "from PIL import Image\n",
      "\n",
      "\n",
      "def display_pil_image(im):\n",
      "   \"\"\"Displayhook function for PIL Images, rendered as PNG.\"\"\"\n",
      "\n",
      "   b = BytesIO()\n",
      "   im.save(b, format='png')\n",
      "   data = b.getvalue()\n",
      "\n",
      "   ip_img = display.Image(data=data, format='png', embed=True)\n",
      "   return ip_img._repr_png_()\n",
      "\n",
      "\n",
      "# register display func with PNG formatter:\n",
      "png_formatter = get_ipython().display_formatter.formatters['image/png']\n",
      "dpi = png_formatter.for_type(Image.Image, display_pil_image)"
     ],
     "language": "python",
     "metadata": {},
     "outputs": [],
     "prompt_number": 1
    },
    {
     "cell_type": "code",
     "collapsed": false,
     "input": [
      "from myapps.issues.models import PrintIssue\n",
      "import django\n",
      "\n",
      "django.setup()"
     ],
     "language": "python",
     "metadata": {},
     "outputs": [],
     "prompt_number": 2
    },
    {
     "cell_type": "code",
     "collapsed": true,
     "input": [
      "\"\"\"\n",
      "Find PDF files.\n",
      "\"\"\"\n",
      "\n",
      "import os\n",
      "import re\n",
      "from glob import glob\n",
      "\n",
      "from django.conf import settings\n",
      "from myapps.issues.models import PrintIssue\n",
      "\n",
      "PDFMAPPE = os.path.join(settings.MEDIA_ROOT, 'pdf')\n",
      "\n",
      "import logging\n",
      "logger = logging.getLogger('universitas')\n",
      "\n",
      "def import_issues_from_file_system():\n",
      "    \"\"\" Finds pdf files on disks and creates PrintIssue objects. \"\"\"\n",
      "    os.chdir(settings.MEDIA_ROOT)\n",
      "    files = glob('pdf/uni*.pdf')\n",
      "\n",
      "    for path in files:\n",
      "        issue, new = PrintIssue.objects.get_or_create(pdf=path)\n",
      "        if new:\n",
      "            match = re.match(r'^.*(?P<year>\\d{4})-(?P<number>.*)\\.pdf$', path)\n",
      "            if match:\n",
      "                name = '{number}/{year}'.format(**match.groupdict())\n",
      "            else: \n",
      "                name = os.path.basename(path)\n",
      "            \n",
      "            issue.issue_name = name\n",
      "            issue.get_thumbnail()\n",
      "\n",
      "            logger.debug('new pdf found {name} {filename}'.format(filename=path, name=name))"
     ],
     "language": "python",
     "metadata": {},
     "outputs": [],
     "prompt_number": 24
    },
    {
     "cell_type": "code",
     "collapsed": false,
     "input": [
      "\n",
      "import_issues_from_file_system()"
     ],
     "language": "python",
     "metadata": {},
     "outputs": [
      {
       "output_type": "stream",
       "stream": "stderr",
       "text": [
        "universitas DEBUG <ipython-input-24-b3da96d8babd>:34   (import_issues_from_file_system) - new pdf found 03 2014 pdf/universitas_2014-03.pdf\n"
       ]
      },
      {
       "output_type": "stream",
       "stream": "stderr",
       "text": [
        "universitas DEBUG <ipython-input-24-b3da96d8babd>:34   (import_issues_from_file_system) - new pdf found 05 2014 pdf/universitas_2014-05.pdf\n"
       ]
      }
     ],
     "prompt_number": 25
    },
    {
     "cell_type": "code",
     "collapsed": false,
     "input": [
      "os.chdir(settings.MEDIA_ROOT)\n",
      "pdf_files = glob('pdf/uni*.pdf')\n",
      "len(pdf_files)"
     ],
     "language": "python",
     "metadata": {},
     "outputs": [
      {
       "metadata": {},
       "output_type": "pyout",
       "prompt_number": 15,
       "text": [
        "147"
       ]
      }
     ],
     "prompt_number": 15
    },
    {
     "cell_type": "code",
     "collapsed": false,
     "input": [
      "PrintIssue.objects.count()"
     ],
     "language": "python",
     "metadata": {},
     "outputs": [
      {
       "metadata": {},
       "output_type": "pyout",
       "prompt_number": 13,
       "text": [
        "148"
       ]
      }
     ],
     "prompt_number": 13
    },
    {
     "cell_type": "code",
     "collapsed": false,
     "input": [
      "os.path.basename(pdf_file)"
     ],
     "language": "python",
     "metadata": {},
     "outputs": [
      {
       "metadata": {},
       "output_type": "pyout",
       "prompt_number": 11,
       "text": [
        "'universitas_2013-22.pdf'"
       ]
      }
     ],
     "prompt_number": 11
    },
    {
     "cell_type": "code",
     "collapsed": false,
     "input": [
      "pi.text"
     ],
     "language": "python",
     "metadata": {},
     "outputs": [
      {
       "metadata": {},
       "output_type": "pyout",
       "prompt_number": 10,
       "text": [
        "'Regnet dobbelt: Hafslund har overfakturert studenter ved Kringsj\u00e5 studentby for str\u00f8m gjennom syv \u00e5r. N\u00e5 starter kampen for \u00e5 f\u00e5 pengene tilbake.  Nyhet, side 4 og 5Kopinor vil gj\u00f8re digitale kompendier  \\nobli \\ngatorisk og kreve betaling fra alle studenter. www.universitas.noNorges st\u00f8rste studentavis onsdag 23. februar 2011\u00e5rgang 65, utgave 69700 studenter snytt for 15 mill.LEDIGE STUDENTHYBLERStudent i Oslo? N\u00e5 har viStudentboligeneS\u00f8k hybel p\u00e5 www.sio.no/boligStudentbarnehagene m\u00e5 oppleves! S\u00f8k p\u00e5 sio.noStudentbarnehagene fokuserer p\u00e5 de gode opplevelsene gjennom lek og omsorg \u0152 fordi ditt barns barndom er N\u00c5. S\u00f8k barnehageplass!Studentsamskipnaden i Oslo og AkershusObligatorisk e-pensumTvungen stSorte svaner Sorte svaner Reportasje,  side 24 og 25 Studenter  \\nforf\u00f8lges i  Hviterussland Omverden, side 12 og 13 Kultur, side 18FOTO: KETIL BLOM'"
       ]
      }
     ],
     "prompt_number": 10
    },
    {
     "cell_type": "code",
     "collapsed": false,
     "input": [
      "from PyPDF2 import PdfFileReader"
     ],
     "language": "python",
     "metadata": {},
     "outputs": [],
     "prompt_number": 11
    },
    {
     "cell_type": "code",
     "collapsed": false,
     "input": [
      "pdf_file = PdfFileReader(pi.pdf, strict=True)\n",
      "text = pdf_file.getPage(1).extractText()\n",
      "print(text)"
     ],
     "language": "python",
     "metadata": {},
     "outputs": [
      {
       "output_type": "stream",
       "stream": "stdout",
       "text": [
        "2onsdag 23. februar 2011MENINGERUniversitas er en avis for og av studenter.Universitas er et nyhets- og debattorgan for l\u00e6restedene tilknyttet Studentsamskipnaden i \n",
        "Oslo og Akershus (SiO). Universitas skal drive kritisk og uavhengig journalistikk, og v\u00e6re partipolitisk n\u00f8ytral. Universitas arbeider etter \n",
        "V\u00e6r Varsom-plakatens regler for god presseskikk. Den som mener seg rammet av urettmessig \n",
        "omtale oppfordres til \u00e5 kontakte \n",
        "redaksjonen.Daglig leder:  Katrine Myra katrine.myra@universitas.no 22 85 33 36 Annonseansvarlig:   Geir Dorp geir.dorp@universitas.no 22 85 32 69Bes\u00f8ksadresse:  Molkte Moes vei 33 \n",
        "Postadresse:  Boks 89 Blindern, 0314 OSLOEpost:  universitas@universitas.noWeb:  www.universitas.no| KOMMENTAR |redakt\u00f8r:  Simen Tallaksen simen.tallaksen@universitas.no 480 36 044 redaksjonsleder:   Nordis Tennes nordis.tennes@universitas.no 922 21 231 \n",
        "fotosjef:  Ketil Blomdesksjef:  H\u00e5ken Lidnettredakt\u00f8r:  Mikael Lunde Str\u00f8mkaosDet tok syv \u00e5r f\u00f8r Studentboligene til Stu-dentsamskipnaden i Oslo og Akershus (SiO) fant ut at noe var galt med de skyh\u00f8ye str\u00f8mregningene til Kringsj\u00e5 studentby. Somlingen har kostet beboerne millioner av kroner.I \u02dcor h\u00f8st skrev Universitas at beboerne ved Kringsj\u00e5 betaler nesten dobbelt s\u00e5 mye som lands-gjennomsnittet i str\u00f8mregninger. Studentboligene hadde problemer med \u00e5 forklare den store prisfor-skjellen, men pekte p\u00e5 at studentene m\u00e5 dele p\u00e5 de totale str\u00f8mutgiftene til hele blokka de bor i.N\u00e5 har man funnet en bedre forklaring, og det er Hafslund som f\u00e5r rollen som den store stygge \n",
        "ulven. Men hvem er det egentlig som har ansvaret for boligtilbudet til studentene?I denne utgaven av Universitas sier boligdirekt\u00f8r Tom Olstad tydelig at det er Studentboligene som \n",
        "har ansvaret for sine leietakere. N\u00e5r man da bruker syv \u00e5r p\u00e5 \u00e5 oppdage at \u02daere av leietakerene betaler \n",
        "dobbel str\u00f8mregning, er det p\u00e5 sin plass \u00e5 sp\u00f8rre hvordan Studentboligene forvalter dette ansvaret. Studentboligene har heller ikke funnet det for godt \u00e5 informere beboerne om prosessen de n\u00e5 er inne i. Dette p\u00e5 tross av at Hafslund ble kontaktet allerede i september.Beboernes str\u00f8mregninger ble kuttet med 22 prosent i januar, og vil antagelig kuttes mer n\u00e5r \n",
        "man f\u00e5r en bedre oversikt over hva som egentlig \n",
        "har foreg\u00e5tt. Det er forst\u00e5elig at dette er en sak det vil ta tid \u00e5 komme til bunns i, og det blir en stor prosess \u00e5 tilbakef\u00f8re penger for en s\u00e5 lang periode.I mellomtiden f\u00e5r vi h\u00e5pe at Studentboligene viser seg ansvaret verdig og f\u00f8rer en ryddig prosess \n",
        "som inkluderer de rammede, nemlig studentene.Snikinnf\u00f8rer skolepengerKopinor har lenge jobbet med en l\u00f8sning n\u00e5r det kommer til digitale kompendier. Forslag-et sikrer forfatternes royalties, men f\u00f8rer til at studentene m\u00e5 betale for digitale kompendier enten de vil eller ikke.Fokuset b\u00f8r ikke v\u00e6re pro\u02dbtt, men hvordan studentenes krav om gratis utdanning og valgfrihet \n",
        "skal kunne ivaretas.Endel\u00f8s eleganse: Studentene ved Balletth\u00f8gskolen \u00f8ver tolv timer om dagen i jakten p\u00e5 perfeksjon. \u00d8YEBLIKKETav \u00c5se HolteKOMMENTARKathrine Salhus,  journalist i UniversitasStudentnorge er kaldt p\u00e5 mange m\u00e5ter, og det er ikke bare \u00e5 banke p\u00e5 d\u00f8ra til naboen for s\u00e5 \u00e5 bli invitert inn p\u00e5 va\u02daer og ka\u02dde. P\u00e5 T-banen til Nydalen og Blindern skal det helst v\u00e6re langt mellom passasjerene, og for et kronisk beskjedent folkeslag er alkoholen et sosialt glidemiddel uten sammenligning. Gi studenten et par \u00f8l, og vips, s\u00e5 synger han h\u00f8yt \n",
        "p\u00e5 trikken og f\u00e5r lov til \u00e5 tro at han er noe likevel. Alkoholen har hjulpet studenter til \u00e5 slippe \n",
        "seg l\u00f8s i en \u00e5rrekke, s\u00e5 hvorfor angripe den n\u00e5?Da Det Norske Selskab ble stiftet i \u02d9\u02c6\u02c6\u02c7 var det ikke alko-holfrie arrangementer som stod p\u00e5 agendaen. Punsjen var et \n",
        "fast innslag hver gang de norske studentene samlet seg i K\u00f8ben-havn, og det er lite som tyder p\u00e5 at studietiden til \n",
        "v\u00e5re egne professorer var preget av avholdenhet. Det rettes mange peke\u02dbngre mot studenters alko-holkonsum, men norske studenttradisjoner b\u00f8r heller omfavnes enn kritiseres. Det er dessuten liten tvil om at heftig diskusjon over en pils ska-per en bedre relasjon mellom professor og student enn \u00abKlem en professor-dagen\u00bb.If\u00f8lge Studentenes helse- og trivselsunders\u00f8kel-se hrosent av studentene et h\u00f8yt forbruk \n",
        "av alkohol, men let\u2122s face itrosent kommer ikke til \u00e5 bli alkoholikere. Moraliserende advarsler \n",
        "og bekymrede helses\u00f8stre er det mange av, men det fokuseres sjelden p\u00e5 medaljens fremside: nemlig at det \u00e5 drikke er g\u00f8y. G\u00f8y \u00e5 kjenne at det bruser i blodet, g\u00f8y at alt man sier plutselig er s\u00e5 mye smartere, og ikke minst g\u00f8y \u00e5 endelig kunne bruke de sexy dansemovesa man har sett p\u00e5 MTV \n",
        "uten \u00e5 f\u00f8le seg som en komplett idiot.Som ny og engstelig student kan man prise seg lykkelig over at alkoholen er sentral i fadderuka. \n",
        "Motet \u00f8ker som kjent line\u00e6rt med promillen, og kanskje t\u00f8r du endelig \u00e5 foreta deg noe n\u00e5r de intense \u00f8ynene du har dr\u00f8mt om hver natt siden \n",
        "f\u00f8rste fadderfest borer seg inn i dine. Det er like-vel et poeng \u00e5 holde seg innenfor den anbefalte \n",
        "maksgrensen av alkoholenheter i uka: \u02c7\u02d9 for menn \n",
        "og \u02d9\u02d8 for kvinner. Man er jo tross alt bare sjarme-rende frem til promillen har n\u00e5dd et visst punkt.\u00abHva studerer du, hvor kom-mer du fra, og hva har du gjort f\u00f8r?\u00bb Norske studenter er ikke s\u00e6rlig kreative n\u00e5r det gjelder \n",
        "\u00e5 sanke informasjon om sine medstudenter. Det vil si, om man ikke tar turen til n\u00e6rmeste \n",
        "studentpub. Over et par glass Frydenlund, og noen desibel for mye av Duck Sauces \u00abBarbra \n",
        "Streisand\u00bb, g\u00e5r praten lett om alt fra spr\u00f8 ekser til hvilke d\u00e5rlige vaner man har \n",
        "til felles. Plutselig vet man hvem det er best \u00e5 dra \n",
        "p\u00e5 forelesning sammen med, og man slipper \u00e5 v\u00e6re det eneste blikkfanget i d\u00f8r\u00e5pninga n\u00e5r man kommer for seint. Der snakker vi grunnlag for \n",
        "fremtidige studiepartnere.Hva det gjennomsnittlige alkoholkonsum har \u00e5 si for studentenes tynnslitte lommebok er en an-nen sak, og selvf\u00f8lgelig skal man verken oppfor-dre til overforbruk eller bagatellisere alkoholisme. \n",
        "Men det er da heller ikke n\u00f8dvendig \u00e5 overdra-matisere konsekvensene av \u00e5 drikke noen pils. S\u00e5 lenge man har det g\u00f8y og ingen blir skadet, da er det vel ingen grunn til \u00e5 bytte ut vin med vann. \n",
        "Sk\u00e5l for gamle studenttradisjoner!universitas@universitas.noAlkohol og drikkekultur har alltid har h\u00f8rt til akademia. Hvorfor lage slikt oppstyr?\u00abNorske student-tradisjoner b\u00f8r heller omfavnes \n",
        "enn kritiseres.\u00bbMedaljens fremside\n"
       ]
      }
     ],
     "prompt_number": 16
    },
    {
     "cell_type": "code",
     "collapsed": false,
     "input": [
      "pdf_file = PdfFileReader(pi.pdf, strict=True)\n",
      "page_2_text = pdf_file.getPage(1).extractText()\n",
      "dateline_regex = r'^\\d(?P<day>\\w+) (?P<date>\\d{1,2})\\. (?P<month>\\w+) (?P<year>\\d{4})'\n",
      "months = ['januar', 'februar', 'mars', 'april', 'mai', 'juni', 'juli', 'august', 'september', 'november', 'desember']\n",
      "dateline = re.match(dateline_regex, page_2_text)\n",
      "day= int(dateline.group('date'))\n",
      "year= int(dateline.group('year'))\n",
      "month=months.index(dateline.group('month')) + 1\n",
      "pub_date = date(day=day, month=month, year=year)\n"
     ],
     "language": "python",
     "metadata": {},
     "outputs": [],
     "prompt_number": 52
    },
    {
     "cell_type": "code",
     "collapsed": false,
     "input": [
      "print(pub_date, dateline.groups())"
     ],
     "language": "python",
     "metadata": {},
     "outputs": [
      {
       "output_type": "stream",
       "stream": "stdout",
       "text": [
        "2011-02-23 ('onsdag', '23', 'februar', '2011')\n"
       ]
      }
     ],
     "prompt_number": 53
    },
    {
     "cell_type": "code",
     "collapsed": false,
     "input": [],
     "language": "python",
     "metadata": {},
     "outputs": []
    }
   ],
   "metadata": {}
  }
 ]
}