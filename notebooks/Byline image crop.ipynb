{
 "cells": [
  {
   "cell_type": "code",
   "execution_count": 1,
   "metadata": {
    "collapsed": false
   },
   "outputs": [],
   "source": [
    "from io import BytesIO\n",
    "\n",
    "from IPython.core import display\n",
    "from PIL import Image\n",
    "\n",
    "\n",
    "def display_pil_image(im):\n",
    "   \"\"\"Displayhook function for PIL Images, rendered as PNG.\"\"\"\n",
    "\n",
    "   b = BytesIO()\n",
    "   im.save(b, format='png')\n",
    "   data = b.getvalue()\n",
    "\n",
    "   ip_img = display.Image(data=data, format='png', embed=True)\n",
    "   return ip_img._repr_png_()\n",
    "\n",
    "\n",
    "# register display func with PNG formatter:\n",
    "png_formatter = get_ipython().display_formatter.formatters['image/png']\n",
    "dpi = png_formatter.for_type(Image.Image, display_pil_image)"
   ]
  },
  {
   "cell_type": "code",
   "execution_count": 2,
   "metadata": {
    "collapsed": false
   },
   "outputs": [],
   "source": [
    "from PIL import Image\n",
    "import re\n",
    "img = {'size': (1500, 2247), 'source': '/srv/fotoarkiv_universitas/byline/Louise-Faldalen-Prytz.jpg', 'options': {}} \n",
    "geometry = (200,200)\n",
    "options = {'padding': False, 'format': 'JPEG', 'image_info': {}, \n",
    "           'colorspace': 'RGB', 'quality': 95, 'upscale': True, \n",
    "           'rounded': None, 'crop': '31% 41%', 'cropbox': None, 'diameter': 31, \n",
    "           'padding_color': '#ffffff'}\n",
    "\n",
    "\n",
    "def close_crop(self, image, geometry, options):\n",
    "    \"\"\" crop it close \"\"\"\n",
    "    # crop circle diameter in pixels\n",
    "    org_width, org_height = size = image['size']\n",
    "    filename = image['source']\n",
    "    diameter = options['diameter'] * min(size) / 100 * 1.5\n",
    "    crop = options['crop']\n",
    "    if type(crop) is str and '%' in crop:\n",
    "        \n",
    "        ratio = org_width/org_height\n",
    "        new_ratio = geometry[0]/geometry[1]\n",
    "        if new_ratio > 1:\n",
    "            #landscape\n",
    "            width, height = diameter * new_ratio, diameter\n",
    "        else:\n",
    "            # portrait\n",
    "            width, height = diameter, diameter / new_ratio\n",
    "        \n",
    "        if org_width > width and org_height > height:\n",
    "            top, left = [int(match) for match in re.findall(r'\\d+', crop)]\n",
    "            left = left * org_width / 100\n",
    "            top = top * org_height / 100\n",
    "            print(top, left)\n",
    "            crop_top = min(org_height - height, max(0, top - height/2))\n",
    "            crop_left = min(org_width - width, max(0, left - width/2))\n",
    "            crop_right = crop_left + width\n",
    "            crop_bottom = crop_top + height\n",
    "            \n",
    "            new_geometry = [int(value) for value in (crop_left, crop_top, crop_right, crop_bottom)]\n",
    "            \n",
    "            original = Image.open(filename)\n",
    "            cropped = original.crop(new_geometry)\n",
    "            cropped.thumbnail(geometry)\n",
    "            cropped.save(filename, **options)\n",
    "            image['size'] = geometry\n",
    "    \n",
    "    return image\n",
    "\n",
    "\n",
    "\n",
    "# close_crop('', img, geometry, options)"
   ]
  },
  {
   "cell_type": "code",
   "execution_count": null,
   "metadata": {
    "collapsed": false
   },
   "outputs": [],
   "source": []
  },
  {
   "cell_type": "code",
   "execution_count": 3,
   "metadata": {
    "collapsed": false
   },
   "outputs": [],
   "source": [
    "from slugify import Slugify\n",
    "import glob\n",
    "import os\n",
    "from django.conf import settings\n",
    "from fuzzywuzzy import fuzz\n",
    "from django.core.files import File\n",
    "import ipdb\n",
    "\n",
    "\n",
    "def get_byline_image(self, force_new=False):\n",
    "    slugify = Slugify(to_lower=True)\n",
    "    if not force_new and self.byline_photo:\n",
    "        return self.byline_photo\n",
    "    imagefiles = glob.glob(settings.BYLINE_PHOTO_FOLDER + '/*.jpg')\n",
    "    name = self.name.lower()\n",
    "    name_last_first = re.sub(r'^(.*) (\\S+)$', r'\\2 \\1', name)\n",
    "    name_slug = slugify(name) + '.jpg'\n",
    "    name_slug_reverse = slugify(name_last_first) + '.jpg'\n",
    "    bestratio = 90\n",
    "    bestmatch = None\n",
    "    for path in imagefiles:\n",
    "        filename = os.path.split(path)[1].lower()\n",
    "        ratio = max(\n",
    "            fuzz.ratio(filename, name_slug),\n",
    "            fuzz.ratio(filename, name_slug_reverse)\n",
    "        )\n",
    "        if ratio > bestratio:\n",
    "            bestmatch = path\n",
    "            bestratio = ratio\n",
    "            if ratio == 100:\n",
    "                break\n",
    "    if bestmatch:\n",
    "        content = File(bestmatch)\n",
    "        msg = 'found match: name:{}, img:{}, ratio:{} '.format(\n",
    "            name_slug, bestmatch, ratio)\n",
    "        #logger.debug(msg)\n",
    "        ipdb.set_trace()\n",
    "        img = ImageFile()\n",
    "        img.upload_to = 'byline-photo'\n",
    "        img.source_file.save(name_slug, content)\n",
    "        img.autocrop()\n",
    "        self.byline_photo = img\n",
    "        self.save()\n",
    "        return img\n",
    "    \n",
    "# Contributor.get_byline_image = get_byline_image\n",
    "louise = Contributor.objects.filter(display_name__startswith='Louise').first()\n",
    "img = louise.get_byline_image()\n"
   ]
  },
  {
   "cell_type": "code",
   "execution_count": 4,
   "metadata": {
    "collapsed": false
   },
   "outputs": [
    {
     "name": "stdout",
     "output_type": "stream",
     "text": [
      "696.57 615.0\n"
     ]
    },
    {
     "data": {
      "text/plain": [
       "{'options': {},\n",
       " 'size': (200, 200),\n",
       " 'source': '/srv/local.universitas.no/media/byline-photo/Louise-Faldalen-Prytz_TDp0vdH.jpg'}"
      ]
     },
     "execution_count": 4,
     "metadata": {},
     "output_type": "execute_result"
    }
   ],
   "source": [
    "imgd = {'size': (img.full_width, img.full_height), 'source':img.source_file.path , 'options': {}} \n",
    "\n",
    "close_crop('', imgd , geometry, options)"
   ]
  },
  {
   "cell_type": "code",
   "execution_count": null,
   "metadata": {
    "collapsed": false
   },
   "outputs": [],
   "source": []
  },
  {
   "cell_type": "code",
   "execution_count": 5,
   "metadata": {
    "collapsed": false
   },
   "outputs": [
    {
     "data": {
      "text/plain": [
       "'/srv/local.universitas.no/media/byline-photo/Louise-Faldalen-Prytz_TDp0vdH.jpg'"
      ]
     },
     "execution_count": 5,
     "metadata": {},
     "output_type": "execute_result"
    }
   ],
   "source": [
    "img.source_file.path"
   ]
  },
  {
   "cell_type": "code",
   "execution_count": null,
   "metadata": {
    "collapsed": true
   },
   "outputs": [],
   "source": []
  }
 ],
 "metadata": {
  "kernelspec": {
   "display_name": "Django Shell-Plus",
   "language": "python",
   "name": "django_extensions"
  },
  "language_info": {
   "codemirror_mode": {
    "name": "ipython",
    "version": 3
   },
   "file_extension": ".py",
   "mimetype": "text/x-python",
   "name": "python",
   "nbconvert_exporter": "python",
   "pygments_lexer": "ipython3",
   "version": "3.4.3"
  }
 },
 "nbformat": 4,
 "nbformat_minor": 0
}
