{
 "cells": [
  {
   "cell_type": "code",
   "execution_count": 3,
   "metadata": {
    "collapsed": false
   },
   "outputs": [
    {
     "data": {
      "text/plain": [
       "56486"
      ]
     },
     "execution_count": 3,
     "metadata": {},
     "output_type": "execute_result"
    }
   ],
   "source": [
    "def section_frontpage(request, slug):\n",
    "    try:\n",
    "        # is the slug a section name?\n",
    "        section = Section.objects.get(slug=slug)\n",
    "        stories = Story.objects.filter(story_type__section=section).published()\n",
    "        return frontpage_view(request, stories=stories)\n",
    "    except Section.DoesNotExist:\n",
    "        try:\n",
    "            # is the slug a story type?\n",
    "            story_type = StoryType.objects.get(slug=slug)\n",
    "            return HttpResponseRedirect(story_type.get_absolute_url())\n",
    "        except StoryType.DoesNotExist:\n",
    "            try:\n",
    "                # is the slug a legacy base36 short url\n",
    "                story = Story.objects.get(pk=int(slug, 36))\n",
    "                return HttpResponsePermanentRedirect(story.get_absolute_url())\n",
    "            except (ValueError, Story.DoesNotExist):\n",
    "                # fallback to search page\n",
    "                # TODO: make this a proper 404 page with search.\n",
    "                search_terms=re.split(r'\\W|_', slug)\n",
    "                redirect_to='{search}?q={terms}'.format(\n",
    "                    search=reverse('watson:search'),\n",
    "                    terms='+'.join(search_terms),\n",
    "                )\n",
    "                return HttpResponseRedirect(redirect_to)\n",
    "\n"
   ]
  },
  {
   "cell_type": "code",
   "execution_count": 34,
   "metadata": {
    "collapsed": false
   },
   "outputs": [
    {
     "data": {
      "text/plain": [
       "'/nyheter/nyhet/'"
      ]
     },
     "execution_count": 34,
     "metadata": {},
     "output_type": "execute_result"
    }
   ],
   "source": [
    "import re\n",
    "from django.utils.http import urlencode\n",
    "from django.core.urlresolvers import reverse\n",
    "\n",
    "def dev_section_frontpage(slug):\n",
    "    try:\n",
    "        section = Section.objects.get(slug=slug)\n",
    "        stories = Story.objects.filter(story_type__section=section).published()\n",
    "        return stories\n",
    "\n",
    "    except Section.DoesNotExist:\n",
    "        try:\n",
    "            story_type = StoryType.objects.get(slug=slug)\n",
    "            return story_type.get_absolute_url()\n",
    "        except StoryType.DoesNotExist:\n",
    "            try:\n",
    "                story = Story.objects.get(pk=int(slug, 36))\n",
    "                return story.get_absolute_url()\n",
    "            except (ValueError, Story.DoesNotExist):\n",
    "                search_terms=re.split(r'\\W|_', slug)\n",
    "                redirect_to='{search}?q={terms}'.format(\n",
    "                    search=reverse('watson:search'),\n",
    "                    terms='+'.join(search_terms),\n",
    "                )\n",
    "                return redirect_to\n",
    "\n",
    "dev_section_frontpage('nyhet')"
   ]
  },
  {
   "cell_type": "code",
   "execution_count": 15,
   "metadata": {
    "collapsed": true
   },
   "outputs": [],
   "source": [
    "import re\n",
    "def slug_to_words(slug):\n"
   ]
  },
  {
   "cell_type": "code",
   "execution_count": 16,
   "metadata": {
    "collapsed": false
   },
   "outputs": [
    {
     "data": {
      "text/plain": [
       "['hei', 'hallo']"
      ]
     },
     "execution_count": 16,
     "metadata": {},
     "output_type": "execute_result"
    }
   ],
   "source": [
    "slug_to_words('hei-hallo')"
   ]
  },
  {
   "cell_type": "code",
   "execution_count": 26,
   "metadata": {
    "collapsed": false
   },
   "outputs": [
    {
     "data": {
      "text/plain": [
       "'/search/'"
      ]
     },
     "execution_count": 26,
     "metadata": {},
     "output_type": "execute_result"
    }
   ],
   "source": [
    "from django.core.urlresolvers import reverse\n",
    "from django.utils.http import urlencode\n",
    "\n",
    "'{search}?q={terms}'.format(\n",
    "    search=reverse('watson:search'),\n",
    "    terms='+'.join(search_terms),\n",
    "    )"
   ]
  },
  {
   "cell_type": "code",
   "execution_count": null,
   "metadata": {
    "collapsed": true
   },
   "outputs": [],
   "source": []
  }
 ],
 "metadata": {
  "kernelspec": {
   "display_name": "Django Shell-Plus",
   "language": "python",
   "name": "django_extensions"
  },
  "language_info": {
   "codemirror_mode": {
    "name": "ipython",
    "version": 3
   },
   "file_extension": ".py",
   "mimetype": "text/x-python",
   "name": "python",
   "nbconvert_exporter": "python",
   "pygments_lexer": "ipython3",
   "version": "3.4.2"
  }
 },
 "nbformat": 4,
 "nbformat_minor": 0
}
