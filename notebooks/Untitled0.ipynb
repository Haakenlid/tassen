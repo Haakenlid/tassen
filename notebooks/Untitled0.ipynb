{
 "metadata": {
  "name": "",
  "signature": "sha256:0190dfb660cd7513aa3f2e24752835fad5a8610ce7567ceae3b4f3695fb23f62"
 },
 "nbformat": 3,
 "nbformat_minor": 0,
 "worksheets": []
}