{
 "metadata": {
  "name": "",
  "signature": "sha256:f5dfaf940283c1a971d71c8d1d71d9409ce3c50cda77938b8680802ffc0caa08"
 },
 "nbformat": 3,
 "nbformat_minor": 0,
 "worksheets": [
  {
   "cells": [
    {
     "cell_type": "code",
     "collapsed": false,
     "input": [
      "from PIL import Image, ImageEnhance, ImageDraw, ImageFont\n",
      "from colorsys import hls_to_rgb\n",
      "\n",
      "def random_color():\n",
      "    \"\"\" generate random rgb color as tuple of tree integers between 0-255 \"\"\"\n",
      "    hue = random.randint(0,256)/256\n",
      "    lightness = random.randint(100, 150)/256\n",
      "    saturation = random.randint(50, 220)/256\n",
      "    rgb = tuple(int(value*256) for value in hls_to_rgb(hue, lightness, saturation))\n",
      "    return rgb\n",
      "\n",
      "def create_watermark(text='xxx', angle=0,  thumb_size = (50,50)):\n",
      "    font = ImageFont.truetype(\"/usr/share/fonts/truetype/msttcorefonts/arial.ttf\", 50)\n",
      "    base = Image.new('RGBA', font.getsize(text), (0,0,0,0))\n",
      "    drawing = ImageDraw.Draw(base)\n",
      "    drawing.text((0,0), text, font=font, fill='white')\n",
      "    base = base.rotate(angle=angle, expand=1, resample=Image.BICUBIC)\n",
      "    base.thumbnail(thumb_size)\n",
      "    return base\n",
      "\n",
      "def reduce_opacity(im, opacity):\n",
      "    \"\"\"Returns an image with reduced opacity.\"\"\"\n",
      "    assert opacity >= 0 and opacity <= 1\n",
      "    if im.mode != 'RGBA':\n",
      "        im = im.convert('RGBA')\n",
      "    else:\n",
      "        im = im.copy()\n",
      "    alpha = im.split()[3]\n",
      "    alpha = ImageEnhance.Brightness(alpha).enhance(opacity)\n",
      "    im.putalpha(alpha)\n",
      "    return im\n",
      "\n",
      "def watermark(im, mark, position, opacity=1):\n",
      "    \"\"\"Adds a watermark to an image.\"\"\"\n",
      "    if opacity < 1:\n",
      "        mark = reduce_opacity(mark, opacity)\n",
      "    if im.mode != 'RGBA':\n",
      "        im = im.convert('RGBA')\n",
      "    # create a transparent layer the size of the image and draw the\n",
      "    # watermark in that layer.\n",
      "    layer = Image.new('RGBA', im.size, (0,0,0,0))\n",
      "    if position == 'tile':\n",
      "        for y in range(0, im.size[1], mark.size[1]):\n",
      "            for x in range(0, im.size[0], mark.size[0]):\n",
      "                layer.paste(mark, (x, y))\n",
      "    elif position == 'scale':\n",
      "        # scale, but preserve the aspect ratio\n",
      "        ratio = min(\n",
      "            float(im.size[0]) / mark.size[0], float(im.size[1]) / mark.size[1])\n",
      "        w = int(mark.size[0] * ratio)\n",
      "        h = int(mark.size[1] * ratio)\n",
      "        mark = mark.resize((w, h))\n",
      "        layer.paste(mark, ((im.size[0] - w) // 2, (im.size[1] - h) // 2))\n",
      "    else:\n",
      "        layer.paste(mark, position)\n",
      "    # composite the watermark with the layer\n",
      "    return Image.composite(layer, im, layer)\n",
      "\n",
      "def dummy_image_advert(width, height, watermarktext, labeltext):\n",
      "    img = Image.new('RGB', (width, height), color=random_color())\n",
      "    mark = create_watermark(watermarktext, angle=10, thumb_size = (100,100))\n",
      "    label = create_watermark(labeltext, thumb_size = (width, height))\n",
      "    img = watermark(img, mark, 'tile', 0.4)\n",
      "    img = watermark(img, label, (0,0), 1)\n",
      "    \n",
      "    img_io = io.BytesIO()\n",
      "    img.save(img_io, format='JPEG')\n",
      "    filename = '{name:_<18}{w}x{h}.jpg'.format(name=labeltext, w=width, h=height).replace(' ', '-').lower()\n",
      "    #print(filename)\n",
      "    \n",
      "    django_file = InMemoryUploadedFile(\n",
      "        file=img_io, \n",
      "        field_name=None, \n",
      "        name=filename,\n",
      "        content_type='image/jpeg',\n",
      "        size= len(thumb_io.getvalue()) , \n",
      "        charset=None\n",
      "    )\n",
      "    return django_file"
     ],
     "language": "python",
     "metadata": {},
     "outputs": [],
     "prompt_number": 37
    },
    {
     "cell_type": "code",
     "collapsed": false,
     "input": [
      "from PIL import Image\n",
      "from IPython.core import display\n",
      "from matplotlib import pyplot as plt\n",
      "from apps.adverts.models import AdChannel, AdFormat, Advert, Customer\n",
      "import django\n",
      "\n",
      "%matplotlib inline\n",
      "django.setup()"
     ],
     "language": "python",
     "metadata": {},
     "outputs": [],
     "prompt_number": 1
    },
    {
     "cell_type": "code",
     "collapsed": false,
     "input": [
      "af = AdFormat.objects.first()\n",
      "ad = Advert.objects.create_dummy(af)"
     ],
     "language": "python",
     "metadata": {},
     "outputs": [
      {
       "output_type": "stream",
       "stream": "stderr",
       "text": [
        "DEBUG:django.db.backends:(0.002) SELECT \"adverts_adformat\".\"id\", \"adverts_adformat\".\"name\", \"adverts_adformat\".\"width\", \"adverts_adformat\".\"height\", \"adverts_adformat\".\"price\", \"adverts_adformat\".\"published\", \"adverts_adformat\".\"category\" FROM \"adverts_adformat\" ORDER BY \"adverts_adformat\".\"category\" ASC, \"adverts_adformat\".\"width\" DESC, \"adverts_adformat\".\"price\" DESC LIMIT 1; args=()\n"
       ]
      },
      {
       "output_type": "stream",
       "stream": "stderr",
       "text": [
        "DEBUG:django.db.backends:(0.002) SELECT \"adverts_customer\".\"id\", \"adverts_customer\".\"name\", \"adverts_customer\".\"contact_info\" FROM \"adverts_customer\" WHERE \"adverts_customer\".\"name\" = 'dummy' LIMIT 21; args=('dummy',)\n"
       ]
      },
      {
       "ename": "OSError",
       "evalue": "cannot open resource",
       "output_type": "pyerr",
       "traceback": [
        "\u001b[1;31m---------------------------------------------------------------------------\u001b[0m\n\u001b[1;31mOSError\u001b[0m                                   Traceback (most recent call last)",
        "\u001b[1;32m<ipython-input-2-0c84bfc1bec7>\u001b[0m in \u001b[0;36m<module>\u001b[1;34m()\u001b[0m\n\u001b[0;32m      1\u001b[0m \u001b[0maf\u001b[0m \u001b[1;33m=\u001b[0m \u001b[0mAdFormat\u001b[0m\u001b[1;33m.\u001b[0m\u001b[0mobjects\u001b[0m\u001b[1;33m.\u001b[0m\u001b[0mfirst\u001b[0m\u001b[1;33m(\u001b[0m\u001b[1;33m)\u001b[0m\u001b[1;33m\u001b[0m\u001b[0m\n\u001b[1;32m----> 2\u001b[1;33m \u001b[0mad\u001b[0m \u001b[1;33m=\u001b[0m \u001b[0mAdvert\u001b[0m\u001b[1;33m.\u001b[0m\u001b[0mobjects\u001b[0m\u001b[1;33m.\u001b[0m\u001b[0mcreate_dummy\u001b[0m\u001b[1;33m(\u001b[0m\u001b[0maf\u001b[0m\u001b[1;33m)\u001b[0m\u001b[1;33m\u001b[0m\u001b[0m\n\u001b[0m",
        "\u001b[1;32m/srv/local.universitas.no/source/myapps/adverts/models.py\u001b[0m in \u001b[0;36mcreate_dummy\u001b[1;34m(self, adformat)\u001b[0m\n\u001b[0;32m    151\u001b[0m             \u001b[0madformat\u001b[0m\u001b[1;33m.\u001b[0m\u001b[0mwidth\u001b[0m\u001b[1;33m,\u001b[0m \u001b[0madformat\u001b[0m\u001b[1;33m.\u001b[0m\u001b[0mheight\u001b[0m\u001b[1;33m,\u001b[0m\u001b[1;33m\u001b[0m\u001b[0m\n\u001b[0;32m    152\u001b[0m             \u001b[0mwatermarktext\u001b[0m\u001b[1;33m=\u001b[0m\u001b[1;34m'reklame'\u001b[0m\u001b[1;33m,\u001b[0m\u001b[1;33m\u001b[0m\u001b[0m\n\u001b[1;32m--> 153\u001b[1;33m             \u001b[0mlabeltext\u001b[0m\u001b[1;33m=\u001b[0m\u001b[0madformat\u001b[0m\u001b[1;33m.\u001b[0m\u001b[0mname\u001b[0m\u001b[1;33m,\u001b[0m\u001b[1;33m\u001b[0m\u001b[0m\n\u001b[0m\u001b[0;32m    154\u001b[0m         )\n\u001b[0;32m    155\u001b[0m \u001b[1;33m\u001b[0m\u001b[0m\n",
        "\u001b[1;32m/srv/local.universitas.no/source/myapps/adverts/dummy_image_advert.py\u001b[0m in \u001b[0;36mdummy_image_advert\u001b[1;34m(width, height, watermarktext, labeltext)\u001b[0m\n\u001b[0;32m     10\u001b[0m     \u001b[1;34m\"\"\" Create a dummy image ad that can be used for testing purposes \"\"\"\u001b[0m\u001b[1;33m\u001b[0m\u001b[0m\n\u001b[0;32m     11\u001b[0m     \u001b[0mimg\u001b[0m \u001b[1;33m=\u001b[0m \u001b[0mImage\u001b[0m\u001b[1;33m.\u001b[0m\u001b[0mnew\u001b[0m\u001b[1;33m(\u001b[0m\u001b[1;34m'RGB'\u001b[0m\u001b[1;33m,\u001b[0m \u001b[1;33m(\u001b[0m\u001b[0mwidth\u001b[0m\u001b[1;33m,\u001b[0m \u001b[0mheight\u001b[0m\u001b[1;33m)\u001b[0m\u001b[1;33m,\u001b[0m \u001b[0mcolor\u001b[0m\u001b[1;33m=\u001b[0m\u001b[0mrandom_color\u001b[0m\u001b[1;33m(\u001b[0m\u001b[1;33m)\u001b[0m\u001b[1;33m)\u001b[0m\u001b[1;33m\u001b[0m\u001b[0m\n\u001b[1;32m---> 12\u001b[1;33m     \u001b[0mmark\u001b[0m \u001b[1;33m=\u001b[0m \u001b[0mcreate_watermark\u001b[0m\u001b[1;33m(\u001b[0m\u001b[0mwatermarktext\u001b[0m\u001b[1;33m,\u001b[0m \u001b[0mangle\u001b[0m\u001b[1;33m=\u001b[0m\u001b[1;36m10\u001b[0m\u001b[1;33m,\u001b[0m \u001b[0mthumb_size\u001b[0m\u001b[1;33m=\u001b[0m\u001b[1;33m(\u001b[0m\u001b[1;36m100\u001b[0m\u001b[1;33m,\u001b[0m \u001b[1;36m100\u001b[0m\u001b[1;33m)\u001b[0m\u001b[1;33m)\u001b[0m\u001b[1;33m\u001b[0m\u001b[0m\n\u001b[0m\u001b[0;32m     13\u001b[0m     \u001b[0mlabel\u001b[0m \u001b[1;33m=\u001b[0m \u001b[0mcreate_watermark\u001b[0m\u001b[1;33m(\u001b[0m\u001b[0mlabeltext\u001b[0m\u001b[1;33m,\u001b[0m \u001b[0mthumb_size\u001b[0m\u001b[1;33m=\u001b[0m\u001b[1;33m(\u001b[0m\u001b[0mwidth\u001b[0m\u001b[1;33m,\u001b[0m \u001b[0mheight\u001b[0m\u001b[1;33m)\u001b[0m\u001b[1;33m)\u001b[0m\u001b[1;33m\u001b[0m\u001b[0m\n\u001b[0;32m     14\u001b[0m     \u001b[0mimg\u001b[0m \u001b[1;33m=\u001b[0m \u001b[0mwatermark\u001b[0m\u001b[1;33m(\u001b[0m\u001b[0mimg\u001b[0m\u001b[1;33m,\u001b[0m \u001b[0mmark\u001b[0m\u001b[1;33m,\u001b[0m \u001b[1;34m'tile'\u001b[0m\u001b[1;33m,\u001b[0m \u001b[1;36m0.4\u001b[0m\u001b[1;33m)\u001b[0m\u001b[1;33m\u001b[0m\u001b[0m\n",
        "\u001b[1;32m/srv/local.universitas.no/source/myapps/adverts/dummy_image_advert.py\u001b[0m in \u001b[0;36mcreate_watermark\u001b[1;34m(text, angle, thumb_size)\u001b[0m\n\u001b[0;32m     48\u001b[0m \u001b[1;32mdef\u001b[0m \u001b[0mcreate_watermark\u001b[0m\u001b[1;33m(\u001b[0m\u001b[0mtext\u001b[0m\u001b[1;33m=\u001b[0m\u001b[1;34m'xxx'\u001b[0m\u001b[1;33m,\u001b[0m \u001b[0mangle\u001b[0m\u001b[1;33m=\u001b[0m\u001b[1;36m0\u001b[0m\u001b[1;33m,\u001b[0m \u001b[0mthumb_size\u001b[0m\u001b[1;33m=\u001b[0m\u001b[1;33m(\u001b[0m\u001b[1;36m50\u001b[0m\u001b[1;33m,\u001b[0m \u001b[1;36m50\u001b[0m\u001b[1;33m)\u001b[0m\u001b[1;33m)\u001b[0m\u001b[1;33m:\u001b[0m\u001b[1;33m\u001b[0m\u001b[0m\n\u001b[0;32m     49\u001b[0m     \u001b[1;34m\"\"\" Create a PIL.Image containing text on transparent background \"\"\"\u001b[0m\u001b[1;33m\u001b[0m\u001b[0m\n\u001b[1;32m---> 50\u001b[1;33m     \u001b[0mfont\u001b[0m \u001b[1;33m=\u001b[0m \u001b[0mImageFont\u001b[0m\u001b[1;33m.\u001b[0m\u001b[0mtruetype\u001b[0m\u001b[1;33m(\u001b[0m\u001b[1;34m'myapps/adverts/arial.ttf'\u001b[0m\u001b[1;33m,\u001b[0m \u001b[1;36m50\u001b[0m\u001b[1;33m)\u001b[0m\u001b[1;33m\u001b[0m\u001b[0m\n\u001b[0m\u001b[0;32m     51\u001b[0m     \u001b[0mimg\u001b[0m \u001b[1;33m=\u001b[0m \u001b[0mImage\u001b[0m\u001b[1;33m.\u001b[0m\u001b[0mnew\u001b[0m\u001b[1;33m(\u001b[0m\u001b[1;34m'RGBA'\u001b[0m\u001b[1;33m,\u001b[0m \u001b[0mfont\u001b[0m\u001b[1;33m.\u001b[0m\u001b[0mgetsize\u001b[0m\u001b[1;33m(\u001b[0m\u001b[0mtext\u001b[0m\u001b[1;33m)\u001b[0m\u001b[1;33m,\u001b[0m \u001b[1;33m(\u001b[0m\u001b[1;36m0\u001b[0m\u001b[1;33m,\u001b[0m \u001b[1;36m0\u001b[0m\u001b[1;33m,\u001b[0m \u001b[1;36m0\u001b[0m\u001b[1;33m,\u001b[0m \u001b[1;36m0\u001b[0m\u001b[1;33m)\u001b[0m\u001b[1;33m)\u001b[0m\u001b[1;33m\u001b[0m\u001b[0m\n\u001b[0;32m     52\u001b[0m     \u001b[0mdrawing\u001b[0m \u001b[1;33m=\u001b[0m \u001b[0mImageDraw\u001b[0m\u001b[1;33m.\u001b[0m\u001b[0mDraw\u001b[0m\u001b[1;33m(\u001b[0m\u001b[0mimg\u001b[0m\u001b[1;33m)\u001b[0m\u001b[1;33m\u001b[0m\u001b[0m\n",
        "\u001b[1;32m/srv/local.universitas.no/venv/local.universitas.no/lib/python3.4/site-packages/PIL/ImageFont.py\u001b[0m in \u001b[0;36mtruetype\u001b[1;34m(font, size, index, encoding, filename)\u001b[0m\n\u001b[0;32m    238\u001b[0m \u001b[1;33m\u001b[0m\u001b[0m\n\u001b[0;32m    239\u001b[0m     \u001b[1;32mtry\u001b[0m\u001b[1;33m:\u001b[0m\u001b[1;33m\u001b[0m\u001b[0m\n\u001b[1;32m--> 240\u001b[1;33m         \u001b[1;32mreturn\u001b[0m \u001b[0mFreeTypeFont\u001b[0m\u001b[1;33m(\u001b[0m\u001b[0mfont\u001b[0m\u001b[1;33m,\u001b[0m \u001b[0msize\u001b[0m\u001b[1;33m,\u001b[0m \u001b[0mindex\u001b[0m\u001b[1;33m,\u001b[0m \u001b[0mencoding\u001b[0m\u001b[1;33m)\u001b[0m\u001b[1;33m\u001b[0m\u001b[0m\n\u001b[0m\u001b[0;32m    241\u001b[0m     \u001b[1;32mexcept\u001b[0m \u001b[0mIOError\u001b[0m\u001b[1;33m:\u001b[0m\u001b[1;33m\u001b[0m\u001b[0m\n\u001b[0;32m    242\u001b[0m         \u001b[1;32mif\u001b[0m \u001b[0msys\u001b[0m\u001b[1;33m.\u001b[0m\u001b[0mplatform\u001b[0m \u001b[1;33m==\u001b[0m \u001b[1;34m\"win32\"\u001b[0m\u001b[1;33m:\u001b[0m\u001b[1;33m\u001b[0m\u001b[0m\n",
        "\u001b[1;32m/srv/local.universitas.no/venv/local.universitas.no/lib/python3.4/site-packages/PIL/ImageFont.py\u001b[0m in \u001b[0;36m__init__\u001b[1;34m(self, font, size, index, encoding, file)\u001b[0m\n\u001b[0;32m    135\u001b[0m \u001b[1;33m\u001b[0m\u001b[0m\n\u001b[0;32m    136\u001b[0m         \u001b[1;32mif\u001b[0m \u001b[0misPath\u001b[0m\u001b[1;33m(\u001b[0m\u001b[0mfont\u001b[0m\u001b[1;33m)\u001b[0m\u001b[1;33m:\u001b[0m\u001b[1;33m\u001b[0m\u001b[0m\n\u001b[1;32m--> 137\u001b[1;33m             \u001b[0mself\u001b[0m\u001b[1;33m.\u001b[0m\u001b[0mfont\u001b[0m \u001b[1;33m=\u001b[0m \u001b[0mcore\u001b[0m\u001b[1;33m.\u001b[0m\u001b[0mgetfont\u001b[0m\u001b[1;33m(\u001b[0m\u001b[0mfont\u001b[0m\u001b[1;33m,\u001b[0m \u001b[0msize\u001b[0m\u001b[1;33m,\u001b[0m \u001b[0mindex\u001b[0m\u001b[1;33m,\u001b[0m \u001b[0mencoding\u001b[0m\u001b[1;33m)\u001b[0m\u001b[1;33m\u001b[0m\u001b[0m\n\u001b[0m\u001b[0;32m    138\u001b[0m         \u001b[1;32melse\u001b[0m\u001b[1;33m:\u001b[0m\u001b[1;33m\u001b[0m\u001b[0m\n\u001b[0;32m    139\u001b[0m             \u001b[0mself\u001b[0m\u001b[1;33m.\u001b[0m\u001b[0mfont_bytes\u001b[0m \u001b[1;33m=\u001b[0m \u001b[0mfont\u001b[0m\u001b[1;33m.\u001b[0m\u001b[0mread\u001b[0m\u001b[1;33m(\u001b[0m\u001b[1;33m)\u001b[0m\u001b[1;33m\u001b[0m\u001b[0m\n",
        "\u001b[1;31mOSError\u001b[0m: cannot open resource"
       ]
      }
     ],
     "prompt_number": 2
    },
    {
     "cell_type": "code",
     "collapsed": false,
     "input": [
      "customer, new = Customer.objects.get_or_create(name='universitas')\n",
      "delete_us = Advert.objects.filter(description__startswith='dummy')\n",
      "\n",
      "for d in delete_us:\n",
      "    d.imagefile.delete()\n",
      "    d.delete()\n",
      "\n",
      "for adformat in AdFormat.objects.all():\n",
      "    new_image = dummy_image_advert(\n",
      "        adformat.width, adformat.height, \n",
      "        watermarktext='reklame', \n",
      "        labeltext=adformat.name,\n",
      "        )\n",
      "    \n",
      "    new_ad = Advert(\n",
      "        customer = customer,\n",
      "        description = 'dummy jpg {}'.format(adformat),\n",
      "        alt_text = 'dummy',\n",
      "        link = 'http://dummy.com',\n",
      "        imagefile = new_image,\n",
      "    )\n",
      "    new_ad.save()\n",
      "    new_ad.ad_type = new_ad.determine_ad_type()\n",
      "    new_ad.save()"
     ],
     "language": "python",
     "metadata": {},
     "outputs": [
      {
       "output_type": "stream",
       "stream": "stderr",
       "text": [
        "universitas DEBUG                 models.py:150  (upload_folder) - adverts/universitas/board-300_________980x300.jpg\n"
       ]
      },
      {
       "output_type": "stream",
       "stream": "stderr",
       "text": [
        "universitas DEBUG                 models.py:150  (upload_folder) - adverts/universitas/superboard-500____980x500.jpg\n"
       ]
      },
      {
       "output_type": "stream",
       "stream": "stderr",
       "text": [
        "universitas DEBUG                 models.py:150  (upload_folder) - adverts/universitas/board-150_________980x150.jpg\n"
       ]
      },
      {
       "output_type": "stream",
       "stream": "stderr",
       "text": [
        "universitas DEBUG                 models.py:150  (upload_folder) - adverts/universitas/netboard__________580x500.jpg\n"
       ]
      },
      {
       "output_type": "stream",
       "stream": "stderr",
       "text": [
        "universitas DEBUG                 models.py:150  (upload_folder) - adverts/universitas/articleboard______380x500.jpg\n"
       ]
      },
      {
       "output_type": "stream",
       "stream": "stderr",
       "text": [
        "universitas DEBUG                 models.py:150  (upload_folder) - adverts/universitas/skyscraper-xl_____360x1000.jpg\n"
       ]
      },
      {
       "output_type": "stream",
       "stream": "stderr",
       "text": [
        "universitas DEBUG                 models.py:150  (upload_folder) - adverts/universitas/skyscraper-bred___360x500.jpg\n"
       ]
      },
      {
       "output_type": "stream",
       "stream": "stderr",
       "text": [
        "universitas DEBUG                 models.py:150  (upload_folder) - adverts/universitas/skyscraper________180x500.jpg\n"
       ]
      },
      {
       "output_type": "stream",
       "stream": "stderr",
       "text": [
        "universitas DEBUG                 models.py:150  (upload_folder) - adverts/universitas/knapp_____________180x150.jpg\n"
       ]
      }
     ],
     "prompt_number": 39
    },
    {
     "cell_type": "code",
     "collapsed": false,
     "input": [
      "all_ads = []\n",
      "for ad in Advert.objects.all():\n",
      "    all_ads.append(ad.get_html())\n",
      "html = '\\n'.join(all_ads).replace('/foto/', 'http://local.universitas.no/foto/')\n",
      "display.HTML(html)\n"
     ],
     "language": "python",
     "metadata": {},
     "outputs": [
      {
       "output_type": "stream",
       "stream": "stderr",
       "text": [
        "DEBUG:django.db.backends:(0.003) SELECT \"adverts_advert\".\"id\", \"adverts_advert\".\"description\", \"adverts_advert\".\"customer_id\", \"adverts_advert\".\"ordering\", \"adverts_advert\".\"status\", \"adverts_advert\".\"ad_type\", \"adverts_advert\".\"start_time\", \"adverts_advert\".\"end_time\", \"adverts_advert\".\"imagefile\", \"adverts_advert\".\"link\", \"adverts_advert\".\"alt_text\", \"adverts_advert\".\"html_source\" FROM \"adverts_advert\"; args=()\n"
       ]
      },
      {
       "output_type": "stream",
       "stream": "stderr",
       "text": [
        "DEBUG:django.db.backends:(0.001) SELECT COUNT(*) FROM \"adverts_adchannel\" INNER JOIN \"adverts_advert_ad_channels\" ON ( \"adverts_adchannel\".\"id\" = \"adverts_advert_ad_channels\".\"adchannel_id\" ) WHERE \"adverts_advert_ad_channels\".\"advert_id\" = 240; args=(240,)\n"
       ]
      },
      {
       "output_type": "stream",
       "stream": "stderr",
       "text": [
        "DEBUG:django.db.backends:(0.001) SELECT COUNT(*) FROM \"adverts_adchannel\" INNER JOIN \"adverts_advert_ad_channels\" ON ( \"adverts_adchannel\".\"id\" = \"adverts_advert_ad_channels\".\"adchannel_id\" ) WHERE \"adverts_advert_ad_channels\".\"advert_id\" = 240; args=(240,)\n"
       ]
      },
      {
       "output_type": "stream",
       "stream": "stderr",
       "text": [
        "DEBUG:sorl.thumbnail.base:Getting thumbnail for file [adverts/universitas/skyscraper________180x500.jpg] at [180x500]\n"
       ]
      },
      {
       "output_type": "stream",
       "stream": "stderr",
       "text": [
        "DEBUG:django.db.backends:(0.001) SELECT COUNT(*) FROM \"adverts_adchannel\" INNER JOIN \"adverts_advert_ad_channels\" ON ( \"adverts_adchannel\".\"id\" = \"adverts_advert_ad_channels\".\"adchannel_id\" ) WHERE \"adverts_advert_ad_channels\".\"advert_id\" = 240; args=(240,)\n"
       ]
      },
      {
       "output_type": "stream",
       "stream": "stderr",
       "text": [
        "DEBUG:django.db.backends:(0.004) SELECT COUNT(*) FROM \"adverts_adchannel\" INNER JOIN \"adverts_advert_ad_channels\" ON ( \"adverts_adchannel\".\"id\" = \"adverts_advert_ad_channels\".\"adchannel_id\" ) WHERE \"adverts_advert_ad_channels\".\"advert_id\" = 240; args=(240,)\n"
       ]
      },
      {
       "output_type": "stream",
       "stream": "stderr",
       "text": [
        "DEBUG:django.db.backends:(0.001) SELECT COUNT(*) FROM \"adverts_adchannel\" INNER JOIN \"adverts_advert_ad_channels\" ON ( \"adverts_adchannel\".\"id\" = \"adverts_advert_ad_channels\".\"adchannel_id\" ) WHERE \"adverts_advert_ad_channels\".\"advert_id\" = 241; args=(241,)\n"
       ]
      },
      {
       "output_type": "stream",
       "stream": "stderr",
       "text": [
        "DEBUG:django.db.backends:(0.001) SELECT COUNT(*) FROM \"adverts_adchannel\" INNER JOIN \"adverts_advert_ad_channels\" ON ( \"adverts_adchannel\".\"id\" = \"adverts_advert_ad_channels\".\"adchannel_id\" ) WHERE \"adverts_advert_ad_channels\".\"advert_id\" = 241; args=(241,)\n"
       ]
      },
      {
       "output_type": "stream",
       "stream": "stderr",
       "text": [
        "DEBUG:sorl.thumbnail.base:Getting thumbnail for file [adverts/universitas/knapp_____________180x150.jpg] at [180x150]\n"
       ]
      },
      {
       "output_type": "stream",
       "stream": "stderr",
       "text": [
        "DEBUG:django.db.backends:(0.003) SELECT COUNT(*) FROM \"adverts_adchannel\" INNER JOIN \"adverts_advert_ad_channels\" ON ( \"adverts_adchannel\".\"id\" = \"adverts_advert_ad_channels\".\"adchannel_id\" ) WHERE \"adverts_advert_ad_channels\".\"advert_id\" = 241; args=(241,)\n"
       ]
      },
      {
       "output_type": "stream",
       "stream": "stderr",
       "text": [
        "DEBUG:django.db.backends:(0.001) SELECT COUNT(*) FROM \"adverts_adchannel\" INNER JOIN \"adverts_advert_ad_channels\" ON ( \"adverts_adchannel\".\"id\" = \"adverts_advert_ad_channels\".\"adchannel_id\" ) WHERE \"adverts_advert_ad_channels\".\"advert_id\" = 241; args=(241,)\n"
       ]
      },
      {
       "output_type": "stream",
       "stream": "stderr",
       "text": [
        "DEBUG:django.db.backends:(0.002) SELECT COUNT(*) FROM \"adverts_adchannel\" INNER JOIN \"adverts_advert_ad_channels\" ON ( \"adverts_adchannel\".\"id\" = \"adverts_advert_ad_channels\".\"adchannel_id\" ) WHERE \"adverts_advert_ad_channels\".\"advert_id\" = 233; args=(233,)\n"
       ]
      },
      {
       "output_type": "stream",
       "stream": "stderr",
       "text": [
        "DEBUG:django.db.backends:(0.001) SELECT COUNT(*) FROM \"adverts_adchannel\" INNER JOIN \"adverts_advert_ad_channels\" ON ( \"adverts_adchannel\".\"id\" = \"adverts_advert_ad_channels\".\"adchannel_id\" ) WHERE \"adverts_advert_ad_channels\".\"advert_id\" = 233; args=(233,)\n"
       ]
      },
      {
       "output_type": "stream",
       "stream": "stderr",
       "text": [
        "DEBUG:sorl.thumbnail.base:Getting thumbnail for file [adverts/universitas/board-300_________980x300.jpg] at [980x300]\n"
       ]
      },
      {
       "output_type": "stream",
       "stream": "stderr",
       "text": [
        "DEBUG:django.db.backends:(0.001) SELECT COUNT(*) FROM \"adverts_adchannel\" INNER JOIN \"adverts_advert_ad_channels\" ON ( \"adverts_adchannel\".\"id\" = \"adverts_advert_ad_channels\".\"adchannel_id\" ) WHERE \"adverts_advert_ad_channels\".\"advert_id\" = 233; args=(233,)\n"
       ]
      },
      {
       "output_type": "stream",
       "stream": "stderr",
       "text": [
        "DEBUG:django.db.backends:(0.001) SELECT COUNT(*) FROM \"adverts_adchannel\" INNER JOIN \"adverts_advert_ad_channels\" ON ( \"adverts_adchannel\".\"id\" = \"adverts_advert_ad_channels\".\"adchannel_id\" ) WHERE \"adverts_advert_ad_channels\".\"advert_id\" = 233; args=(233,)\n"
       ]
      },
      {
       "output_type": "stream",
       "stream": "stderr",
       "text": [
        "DEBUG:django.db.backends:(0.001) SELECT COUNT(*) FROM \"adverts_adchannel\" INNER JOIN \"adverts_advert_ad_channels\" ON ( \"adverts_adchannel\".\"id\" = \"adverts_advert_ad_channels\".\"adchannel_id\" ) WHERE \"adverts_advert_ad_channels\".\"advert_id\" = 234; args=(234,)\n"
       ]
      },
      {
       "output_type": "stream",
       "stream": "stderr",
       "text": [
        "DEBUG:django.db.backends:(0.001) SELECT COUNT(*) FROM \"adverts_adchannel\" INNER JOIN \"adverts_advert_ad_channels\" ON ( \"adverts_adchannel\".\"id\" = \"adverts_advert_ad_channels\".\"adchannel_id\" ) WHERE \"adverts_advert_ad_channels\".\"advert_id\" = 234; args=(234,)\n"
       ]
      },
      {
       "output_type": "stream",
       "stream": "stderr",
       "text": [
        "DEBUG:sorl.thumbnail.base:Getting thumbnail for file [adverts/universitas/superboard-500____980x500.jpg] at [980x500]\n"
       ]
      },
      {
       "output_type": "stream",
       "stream": "stderr",
       "text": [
        "DEBUG:django.db.backends:(0.001) SELECT COUNT(*) FROM \"adverts_adchannel\" INNER JOIN \"adverts_advert_ad_channels\" ON ( \"adverts_adchannel\".\"id\" = \"adverts_advert_ad_channels\".\"adchannel_id\" ) WHERE \"adverts_advert_ad_channels\".\"advert_id\" = 234; args=(234,)\n"
       ]
      },
      {
       "output_type": "stream",
       "stream": "stderr",
       "text": [
        "DEBUG:django.db.backends:(0.002) SELECT COUNT(*) FROM \"adverts_adchannel\" INNER JOIN \"adverts_advert_ad_channels\" ON ( \"adverts_adchannel\".\"id\" = \"adverts_advert_ad_channels\".\"adchannel_id\" ) WHERE \"adverts_advert_ad_channels\".\"advert_id\" = 234; args=(234,)\n"
       ]
      },
      {
       "output_type": "stream",
       "stream": "stderr",
       "text": [
        "DEBUG:django.db.backends:(0.001) SELECT COUNT(*) FROM \"adverts_adchannel\" INNER JOIN \"adverts_advert_ad_channels\" ON ( \"adverts_adchannel\".\"id\" = \"adverts_advert_ad_channels\".\"adchannel_id\" ) WHERE \"adverts_advert_ad_channels\".\"advert_id\" = 235; args=(235,)\n"
       ]
      },
      {
       "output_type": "stream",
       "stream": "stderr",
       "text": [
        "DEBUG:django.db.backends:(0.001) SELECT COUNT(*) FROM \"adverts_adchannel\" INNER JOIN \"adverts_advert_ad_channels\" ON ( \"adverts_adchannel\".\"id\" = \"adverts_advert_ad_channels\".\"adchannel_id\" ) WHERE \"adverts_advert_ad_channels\".\"advert_id\" = 235; args=(235,)\n"
       ]
      },
      {
       "output_type": "stream",
       "stream": "stderr",
       "text": [
        "DEBUG:sorl.thumbnail.base:Getting thumbnail for file [adverts/universitas/board-150_________980x150.jpg] at [980x150]\n"
       ]
      },
      {
       "output_type": "stream",
       "stream": "stderr",
       "text": [
        "DEBUG:django.db.backends:(0.001) SELECT COUNT(*) FROM \"adverts_adchannel\" INNER JOIN \"adverts_advert_ad_channels\" ON ( \"adverts_adchannel\".\"id\" = \"adverts_advert_ad_channels\".\"adchannel_id\" ) WHERE \"adverts_advert_ad_channels\".\"advert_id\" = 235; args=(235,)\n"
       ]
      },
      {
       "output_type": "stream",
       "stream": "stderr",
       "text": [
        "DEBUG:django.db.backends:(0.001) SELECT COUNT(*) FROM \"adverts_adchannel\" INNER JOIN \"adverts_advert_ad_channels\" ON ( \"adverts_adchannel\".\"id\" = \"adverts_advert_ad_channels\".\"adchannel_id\" ) WHERE \"adverts_advert_ad_channels\".\"advert_id\" = 235; args=(235,)\n"
       ]
      },
      {
       "output_type": "stream",
       "stream": "stderr",
       "text": [
        "DEBUG:django.db.backends:(0.001) SELECT COUNT(*) FROM \"adverts_adchannel\" INNER JOIN \"adverts_advert_ad_channels\" ON ( \"adverts_adchannel\".\"id\" = \"adverts_advert_ad_channels\".\"adchannel_id\" ) WHERE \"adverts_advert_ad_channels\".\"advert_id\" = 236; args=(236,)\n"
       ]
      },
      {
       "output_type": "stream",
       "stream": "stderr",
       "text": [
        "DEBUG:django.db.backends:(0.001) SELECT COUNT(*) FROM \"adverts_adchannel\" INNER JOIN \"adverts_advert_ad_channels\" ON ( \"adverts_adchannel\".\"id\" = \"adverts_advert_ad_channels\".\"adchannel_id\" ) WHERE \"adverts_advert_ad_channels\".\"advert_id\" = 236; args=(236,)\n"
       ]
      },
      {
       "output_type": "stream",
       "stream": "stderr",
       "text": [
        "DEBUG:sorl.thumbnail.base:Getting thumbnail for file [adverts/universitas/netboard__________580x500.jpg] at [580x500]\n"
       ]
      },
      {
       "output_type": "stream",
       "stream": "stderr",
       "text": [
        "DEBUG:django.db.backends:(0.001) SELECT COUNT(*) FROM \"adverts_adchannel\" INNER JOIN \"adverts_advert_ad_channels\" ON ( \"adverts_adchannel\".\"id\" = \"adverts_advert_ad_channels\".\"adchannel_id\" ) WHERE \"adverts_advert_ad_channels\".\"advert_id\" = 236; args=(236,)\n"
       ]
      },
      {
       "output_type": "stream",
       "stream": "stderr",
       "text": [
        "DEBUG:django.db.backends:(0.001) SELECT COUNT(*) FROM \"adverts_adchannel\" INNER JOIN \"adverts_advert_ad_channels\" ON ( \"adverts_adchannel\".\"id\" = \"adverts_advert_ad_channels\".\"adchannel_id\" ) WHERE \"adverts_advert_ad_channels\".\"advert_id\" = 236; args=(236,)\n"
       ]
      },
      {
       "output_type": "stream",
       "stream": "stderr",
       "text": [
        "DEBUG:django.db.backends:(0.002) SELECT COUNT(*) FROM \"adverts_adchannel\" INNER JOIN \"adverts_advert_ad_channels\" ON ( \"adverts_adchannel\".\"id\" = \"adverts_advert_ad_channels\".\"adchannel_id\" ) WHERE \"adverts_advert_ad_channels\".\"advert_id\" = 237; args=(237,)\n"
       ]
      },
      {
       "output_type": "stream",
       "stream": "stderr",
       "text": [
        "DEBUG:django.db.backends:(0.001) SELECT COUNT(*) FROM \"adverts_adchannel\" INNER JOIN \"adverts_advert_ad_channels\" ON ( \"adverts_adchannel\".\"id\" = \"adverts_advert_ad_channels\".\"adchannel_id\" ) WHERE \"adverts_advert_ad_channels\".\"advert_id\" = 237; args=(237,)\n"
       ]
      },
      {
       "output_type": "stream",
       "stream": "stderr",
       "text": [
        "DEBUG:sorl.thumbnail.base:Getting thumbnail for file [adverts/universitas/articleboard______380x500.jpg] at [380x500]\n"
       ]
      },
      {
       "output_type": "stream",
       "stream": "stderr",
       "text": [
        "DEBUG:django.db.backends:(0.001) SELECT COUNT(*) FROM \"adverts_adchannel\" INNER JOIN \"adverts_advert_ad_channels\" ON ( \"adverts_adchannel\".\"id\" = \"adverts_advert_ad_channels\".\"adchannel_id\" ) WHERE \"adverts_advert_ad_channels\".\"advert_id\" = 237; args=(237,)\n"
       ]
      },
      {
       "output_type": "stream",
       "stream": "stderr",
       "text": [
        "DEBUG:django.db.backends:(0.001) SELECT COUNT(*) FROM \"adverts_adchannel\" INNER JOIN \"adverts_advert_ad_channels\" ON ( \"adverts_adchannel\".\"id\" = \"adverts_advert_ad_channels\".\"adchannel_id\" ) WHERE \"adverts_advert_ad_channels\".\"advert_id\" = 237; args=(237,)\n"
       ]
      },
      {
       "output_type": "stream",
       "stream": "stderr",
       "text": [
        "DEBUG:django.db.backends:(0.001) SELECT COUNT(*) FROM \"adverts_adchannel\" INNER JOIN \"adverts_advert_ad_channels\" ON ( \"adverts_adchannel\".\"id\" = \"adverts_advert_ad_channels\".\"adchannel_id\" ) WHERE \"adverts_advert_ad_channels\".\"advert_id\" = 238; args=(238,)\n"
       ]
      },
      {
       "output_type": "stream",
       "stream": "stderr",
       "text": [
        "DEBUG:django.db.backends:(0.001) SELECT COUNT(*) FROM \"adverts_adchannel\" INNER JOIN \"adverts_advert_ad_channels\" ON ( \"adverts_adchannel\".\"id\" = \"adverts_advert_ad_channels\".\"adchannel_id\" ) WHERE \"adverts_advert_ad_channels\".\"advert_id\" = 238; args=(238,)\n"
       ]
      },
      {
       "output_type": "stream",
       "stream": "stderr",
       "text": [
        "DEBUG:sorl.thumbnail.base:Getting thumbnail for file [adverts/universitas/skyscraper-xl_____360x1000.jpg] at [360x1000]\n"
       ]
      },
      {
       "output_type": "stream",
       "stream": "stderr",
       "text": [
        "DEBUG:django.db.backends:(0.002) SELECT COUNT(*) FROM \"adverts_adchannel\" INNER JOIN \"adverts_advert_ad_channels\" ON ( \"adverts_adchannel\".\"id\" = \"adverts_advert_ad_channels\".\"adchannel_id\" ) WHERE \"adverts_advert_ad_channels\".\"advert_id\" = 238; args=(238,)\n"
       ]
      },
      {
       "output_type": "stream",
       "stream": "stderr",
       "text": [
        "DEBUG:django.db.backends:(0.003) SELECT COUNT(*) FROM \"adverts_adchannel\" INNER JOIN \"adverts_advert_ad_channels\" ON ( \"adverts_adchannel\".\"id\" = \"adverts_advert_ad_channels\".\"adchannel_id\" ) WHERE \"adverts_advert_ad_channels\".\"advert_id\" = 238; args=(238,)\n"
       ]
      },
      {
       "output_type": "stream",
       "stream": "stderr",
       "text": [
        "DEBUG:django.db.backends:(0.001) SELECT COUNT(*) FROM \"adverts_adchannel\" INNER JOIN \"adverts_advert_ad_channels\" ON ( \"adverts_adchannel\".\"id\" = \"adverts_advert_ad_channels\".\"adchannel_id\" ) WHERE \"adverts_advert_ad_channels\".\"advert_id\" = 239; args=(239,)\n"
       ]
      },
      {
       "output_type": "stream",
       "stream": "stderr",
       "text": [
        "DEBUG:django.db.backends:(0.001) SELECT COUNT(*) FROM \"adverts_adchannel\" INNER JOIN \"adverts_advert_ad_channels\" ON ( \"adverts_adchannel\".\"id\" = \"adverts_advert_ad_channels\".\"adchannel_id\" ) WHERE \"adverts_advert_ad_channels\".\"advert_id\" = 239; args=(239,)\n"
       ]
      },
      {
       "output_type": "stream",
       "stream": "stderr",
       "text": [
        "DEBUG:sorl.thumbnail.base:Getting thumbnail for file [adverts/universitas/skyscraper-bred___360x500.jpg] at [360x500]\n"
       ]
      },
      {
       "output_type": "stream",
       "stream": "stderr",
       "text": [
        "DEBUG:django.db.backends:(0.001) SELECT COUNT(*) FROM \"adverts_adchannel\" INNER JOIN \"adverts_advert_ad_channels\" ON ( \"adverts_adchannel\".\"id\" = \"adverts_advert_ad_channels\".\"adchannel_id\" ) WHERE \"adverts_advert_ad_channels\".\"advert_id\" = 239; args=(239,)\n"
       ]
      },
      {
       "output_type": "stream",
       "stream": "stderr",
       "text": [
        "DEBUG:django.db.backends:(0.001) SELECT COUNT(*) FROM \"adverts_adchannel\" INNER JOIN \"adverts_advert_ad_channels\" ON ( \"adverts_adchannel\".\"id\" = \"adverts_advert_ad_channels\".\"adchannel_id\" ) WHERE \"adverts_advert_ad_channels\".\"advert_id\" = 239; args=(239,)\n"
       ]
      },
      {
       "html": [
        "<div style=\"border: 1px solid #EEE; height: 500px; width: 180px;\" class=\"annonse\"><a href=\"http://dummy.com\" alt=\"dummy\" ><img src=\"http://local.universitas.no/foto/cache/99/6d/996d315cbe485dca51e7f02585ccef58.jpg\"></a></div>\n",
        "<div style=\"border: 1px solid #EEE; height: 150px; width: 180px;\" class=\"annonse\"><a href=\"http://dummy.com\" alt=\"dummy\" ><img src=\"http://local.universitas.no/foto/cache/a9/e4/a9e49da3fd9e7141e9b85a9a2ac9e66a.jpg\"></a></div>\n",
        "<div style=\"border: 1px solid #EEE; height: 300px; width: 980px;\" class=\"annonse\"><a href=\"http://dummy.com\" alt=\"dummy\" ><img src=\"http://local.universitas.no/foto/cache/fb/7d/fb7dbd5d42e7a9885df17dc679589fc1.jpg\"></a></div>\n",
        "<div style=\"border: 1px solid #EEE; height: 500px; width: 980px;\" class=\"annonse\"><a href=\"http://dummy.com\" alt=\"dummy\" ><img src=\"http://local.universitas.no/foto/cache/7b/a5/7ba5762e542b1b544e4c91902f3fa26c.jpg\"></a></div>\n",
        "<div style=\"border: 1px solid #EEE; height: 150px; width: 980px;\" class=\"annonse\"><a href=\"http://dummy.com\" alt=\"dummy\" ><img src=\"http://local.universitas.no/foto/cache/04/82/048234b0928d7a8d1115a6b4d0301305.jpg\"></a></div>\n",
        "<div style=\"border: 1px solid #EEE; height: 500px; width: 580px;\" class=\"annonse\"><a href=\"http://dummy.com\" alt=\"dummy\" ><img src=\"http://local.universitas.no/foto/cache/07/77/07770a9eea1508034019c5f288f7af53.jpg\"></a></div>\n",
        "<div style=\"border: 1px solid #EEE; height: 500px; width: 380px;\" class=\"annonse\"><a href=\"http://dummy.com\" alt=\"dummy\" ><img src=\"http://local.universitas.no/foto/cache/6f/4e/6f4ef4a458347b0b549a8e61371f2b30.jpg\"></a></div>\n",
        "<div style=\"border: 1px solid #EEE; height: 1000px; width: 360px;\" class=\"annonse\"><a href=\"http://dummy.com\" alt=\"dummy\" ><img src=\"http://local.universitas.no/foto/cache/49/70/49701fb6723a4fd52d769a328cf09c11.jpg\"></a></div>\n",
        "<div style=\"border: 1px solid #EEE; height: 500px; width: 360px;\" class=\"annonse\"><a href=\"http://dummy.com\" alt=\"dummy\" ><img src=\"http://local.universitas.no/foto/cache/4d/5c/4d5ca10a22b32e8f45e834c93ca42214.jpg\"></a></div>"
       ],
       "metadata": {},
       "output_type": "pyout",
       "prompt_number": 3,
       "text": [
        "<IPython.core.display.HTML at 0x7f4304257438>"
       ]
      }
     ],
     "prompt_number": 3
    },
    {
     "cell_type": "code",
     "collapsed": false,
     "input": [],
     "language": "python",
     "metadata": {},
     "outputs": []
    }
   ],
   "metadata": {}
  }
 ]
}