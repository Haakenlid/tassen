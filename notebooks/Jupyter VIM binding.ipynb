{
 "cells": [
  {
   "cell_type": "markdown",
   "metadata": {},
   "source": [
    "# Jupyter vim binding\n",
    "Enable Vim key bindings in jupyter or IPython notebook.\n",
    "https://github.com/lambdalisue/jupyter-vim-binding"
   ]
  },
  {
   "cell_type": "markdown",
   "metadata": {},
   "source": [
    "## Install\n",
    "This version simply use Notebook Extensions to enable Vim key bindings. Thus you can install the plugin with the following code in your notebook."
   ]
  },
  {
   "cell_type": "code",
   "execution_count": 5,
   "metadata": {
    "collapsed": false
   },
   "outputs": [
    {
     "name": "stdout",
     "output_type": "stream",
     "text": [
      "downloading https://goo.gl/5TK96v to /tmp/user/1000/tmp3yst2pyi/5TK96v\n",
      "copying /tmp/user/1000/tmp3yst2pyi/5TK96v -> /home/haakenlid/.local/share/jupyter/nbextensions/vim_binding.js\n"
     ]
    }
   ],
   "source": [
    "from notebook.nbextensions import install_nbextension\n",
    "install_nbextension('https://goo.gl/5TK96v', user=True, destination=\"vim_binding.js\")\n",
    "# Or if you prefre a full URL\n",
    "#install_nbextension('https://rawgithub.com/lambdalisue/jupyter-vim-binding/master/nbextensions/vim_binding.js', user=True)"
   ]
  },
  {
   "cell_type": "markdown",
   "metadata": {},
   "source": [
    "### For instant use\n",
    "\n",
    "Call the following in your notebook to enable Vim bindings instantly & temporary."
   ]
  },
  {
   "cell_type": "code",
   "execution_count": 6,
   "metadata": {
    "collapsed": false
   },
   "outputs": [
    {
     "data": {
      "application/javascript": [
       "Jupyter.utils.load_extensions('vim_binding')"
      ],
      "text/plain": [
       "<IPython.core.display.Javascript object>"
      ]
     },
     "metadata": {},
     "output_type": "display_data"
    }
   ],
   "source": [
    "%%javascript\n",
    "Jupyter.utils.load_extensions('vim_binding')"
   ]
  },
  {
   "cell_type": "markdown",
   "metadata": {},
   "source": [
    "### For permanent use\n",
    "\n",
    "Call the following in your notebook to enable Vim bindings permanently."
   ]
  },
  {
   "cell_type": "code",
   "execution_count": 7,
   "metadata": {
    "collapsed": false
   },
   "outputs": [
    {
     "data": {
      "application/javascript": [
       "Jupyter.notebook.config.update({\n",
       "  'load_extensions': { 'vim_binding': true },\n",
       "});"
      ],
      "text/plain": [
       "<IPython.core.display.Javascript object>"
      ]
     },
     "metadata": {},
     "output_type": "display_data"
    }
   ],
   "source": [
    "%%javascript\n",
    "Jupyter.notebook.config.update({\n",
    "  'load_extensions': { 'vim_binding': true },\n",
    "});"
   ]
  }
 ],
 "metadata": {
  "kernelspec": {
   "display_name": "Python 3",
   "language": "python",
   "name": "python3"
  },
  "language_info": {
   "codemirror_mode": {
    "name": "ipython",
    "version": 3
   },
   "file_extension": ".py",
   "mimetype": "text/x-python",
   "name": "python",
   "nbconvert_exporter": "python",
   "pygments_lexer": "ipython3",
   "version": "3.4.3"
  }
 },
 "nbformat": 4,
 "nbformat_minor": 0
}
