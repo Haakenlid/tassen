{
 "cells": [
  {
   "cell_type": "code",
   "execution_count": 44,
   "metadata": {
    "collapsed": false
   },
   "outputs": [],
   "source": [
    "from IPython import display"
   ]
  },
  {
   "cell_type": "code",
   "execution_count": 45,
   "metadata": {
    "collapsed": true
   },
   "outputs": [],
   "source": []
  },
  {
   "cell_type": "code",
   "execution_count": 46,
   "metadata": {
    "collapsed": false
   },
   "outputs": [
    {
     "name": "stdout",
     "output_type": "stream",
     "text": [
      "2005-11-01: Sex med Gunhild\n",
      "2001-11-27: Campus uten spirit\n",
      "2009-01-27: Uavhengig konformitet\n",
      "2014-09-09: Tilsløring av debatten\n",
      "2000-12-26: AS-utbytte til forelesninger\n",
      "2005-05-03: SiO Housing not up to Code\n",
      "2006-04-03: Ære være\n",
      "2010-10-12: Studentparlamentets rolleforvirring\n",
      "2009-04-09: Avkledd for kunsten\n",
      "2007-09-04: Radio Nova risikerer pengenekt\n",
      "2008-08-12: «Everybody» gets an A, B or C\n",
      "2000-12-26: Verdiløse universiteter\n",
      "2002-05-07: Hvor mektig er DU?\n",
      "2006-01-24: Dått enno\n",
      "2015-01-20: Hovmod står for fall\n",
      "2005-09-06: Gode gatedikt\n",
      "2005-08-23: Inaugurated, But Not Accepted by the Bishop\n",
      "2003-01-28: Celebrating Resistance\n",
      "2013-05-28: I strupen på SiO-monopolet\n",
      "2010-10-05: – Udemokratiske dekanvalg\n",
      "2008-11-25: Hjelp til selvhjelp\n",
      "2005-04-12: – Del opp stipendene\n",
      "2008-08-26: «Host opp no’ gryn!»\n",
      "2014-04-08: Hippiedrøm om kjærlighet\n",
      "2014-08-19: Ansatte tier om misnøye\n",
      "2003-11-18: Knallsterk finale\n",
      "2003-12-02: Hvorfor trenger vi utenlandske studenter?\n",
      "2004-11-16: Håp for reisestipendet\n",
      "2005-05-10: Demoboks andre runde\n",
      "2007-09-04: Svar til Johan Brox\n",
      "2011-04-12: Digital hodepine\n",
      "2008-02-19: Ungdomsminne\n",
      "2009-11-24: Et brennbart molekyl\n",
      "2007-09-25: Tappert forsøk\n",
      "2005-04-19: Åpenhet foran fagkritikk\n",
      "2009-05-26: Øyeblikket\n",
      "2005-09-13: Raser mot priser\n",
      "2011-05-10: En av fem føler drikkepress\n",
      "2007-03-20: Drapstruslene fortsetter\n",
      "2008-11-03: Kritiserer fagmiljøet på statsvitenskap ved UiO\n",
      "2014-11-25: Alle leker ikke med alle\n",
      "2006-01-09: UNIVERSITAS søker nye fotografer\n",
      "2007-10-30: Feil fra Velferdstinget\n",
      "2014-05-25: Psyke spørsmål og svar\n",
      "2002-05-14: (for)tapte hansker\n",
      "2003-01-21: Rett mann på rett plass?\n",
      "2002-09-03: Lov og rett i Rwanda\n",
      "2005-12-06: Uheldig, den der\n",
      "2003-08-19: Pung, men ingen baller\n",
      "2004-02-10: Tannlegeutstyr forsvunnet fra Odontologi\n",
      "2012-10-16: Cocky saxofoni\n",
      "2004-01-13: Jørgen Sissyfus Skjulstad\n",
      "2007-11-27: Ingen løsning for JUS\n",
      "2005-08-16: Støtter rødgrønn regjering\n",
      "2009-03-31: Øyeblikket\n",
      "2001-05-01: Prinsessen som ingen kunne målbinde\n",
      "2015-03-26: Påskejakten\n",
      "2002-05-14: Subway to Close for Summer\n",
      "2013-04-16: Husrom er hjerterom\n",
      "2003-03-25: En av ti betaler ikke husleie\n",
      "2005-11-15: 1-2-3 Plate!\n",
      "2003-12-02: Er det noen snille studenter her?\n",
      "2009-01-20: Slåss for filmen\n",
      "2009-01-27: Spiste rester fra Lillehammer-OL\n",
      "2009-03-24: Bajass knytter bånd\n",
      "2010-01-12: Språkbarrieren\n",
      "2007-11-20: Hva skjer denne uken?\n",
      "2008-09-30: MERE musikk\n",
      "2006-03-28: Kan få penger for Holmgang\n",
      "2011-02-22: Flere velger Norge\n",
      "2007-02-13: I heisen\n",
      "2001-09-18: Ex.phil. i støpeskjeen\n",
      "2002-10-08: International atudents elected new executive\n",
      "2002-09-09: Forbrukerrådet og stortingspolitikere reagerer\n",
      "2007-09-11: – En trussel mot fri forskning\n",
      "2013-01-22: Studentidrettens Zorro\n",
      "2006-10-03: Himmel på jord\n",
      "2011-03-29: Duskedamedrømmen\n",
      "2013-05-14: Tilbake på ungdomsklubben\n",
      "2004-11-30: Fredag 22.10.\n",
      "2001-11-13: Tilslørte SiO-penger\n",
      "2014-01-28: Sausete sjangerkaos\n",
      "2006-03-13: Nova anbefaler\n",
      "2006-05-22: Akademikerledigheten\n",
      "2004-11-09: Konserten sin skål\n",
      "2004-03-02: Mitt forbilde\n",
      "2013-05-01: Fullt kaos på bibelskole\n",
      "2000-12-26: Uer\n",
      "2009-05-26: Fire tapte år for høyere utdanning\n",
      "2012-05-01: Dette betaler du 280 kroner mer i året for\n",
      "2001-08-15: Kom alle mennesker\n",
      "2012-05-29: Strøk med stil\n",
      "2008-04-29: Øyeblikket\n",
      "2004-08-25: – Bør gå av\n",
      "2007-09-18: Andre studenter i bystyret\n",
      "2009-12-01: Ingen jubileumsbane\n",
      "2007-02-13: Benekter fedmehumbug\n",
      "2008-11-25: Fanger hindres i å studere\n",
      "2008-05-06: No går det så det suse\n",
      "2005-04-26: Hjem og brygg!\n"
     ]
    }
   ],
   "source": [
    "for story in some_stories:\n",
    "    print(story)"
   ]
  },
  {
   "cell_type": "code",
   "execution_count": 50,
   "metadata": {
    "collapsed": false
   },
   "outputs": [
    {
     "data": {
      "text/html": [
       "<div class=\"row\">\n",
       "\n",
       "  \n",
       "    \n",
       "    <div class=\"inline-image inline-right\">\n",
       "  \n",
       "\n",
       "\n",
       "\n",
       "  \n",
       "  <div class=\"image-container\">\n",
       "    \n",
       "      <img id=\"img_149074\" src=\"http://static.universitas.no/media/thumb-cache/2b/5f/2b5f6dcba08898db3aaa0b8145e2f354/13-ol-nm-detalj3-ABE.jpg\" alt=\"\"></img>\n",
       "    \n",
       "    \n",
       "\n",
       "  </div>\n",
       "  \n",
       "\n",
       "\n",
       "</div>\n",
       "  \n",
       "\n",
       "  \n",
       "    \n",
       "    \n",
       "    <div class=\"inline-image inline-right\">\n",
       "  \n",
       "\n",
       "\n",
       "\n",
       "  \n",
       "  <div class=\"image-container\">\n",
       "    \n",
       "      <img id=\"img_149072\" src=\"http://static.universitas.no/media/thumb-cache/c2/6f/c26fd1c8da51d154dcb3736041dcf224/13-ol-nm-detalj-ABE.jpg\" alt=\"WUNDERSCHÖN: NM i hjemmebrygging betyr øl. Masse øl, og flere sorter enn Vinmonopolet gidder å importere.\"></img>\n",
       "    \n",
       "    \n",
       "\n",
       "  <div class=\"image-caption\">\n",
       "    <span class=\"inngangsord\">WUNDERSCHÖN:</span> NM i hjemmebrygging betyr øl. Masse øl, og flere sorter enn Vinmonopolet gidder å importere.\n",
       "  </div>\n",
       "\n",
       "  </div>\n",
       "  \n",
       "\n",
       "\n",
       "</div>\n",
       "  \n",
       "\n",
       "  \n",
       "  <div class=\"bodytext\">\n",
       "    <p>Studenter, særlig mannlige, liker å proklamere at de elsker øl og at de drikker avsindig mye av det. Mulig det, men liker egentlig den jevne øl-student belgisk wit-bier, porter eller swartzbier?</p>\n",
       "<p>– Det er lite pils her. Veldig vanskelig å brygge hjemme ser du. Pilsen krever en jevn temperatur på ti grader, forklarer ølhund Eduard Möllenkamp, som ikke er noen jevn student.</p>\n",
       "<p>Han vet mer om øl enn Åpen Posts maskot Larsen, og har tatt med seg flamsk ølkompetanse til nord.</p>\n",
       "<p>NM i hjemmebrygging på Chateau Neuf og Eduard er kveldens ivrigste hund. Han er medlem av Oslostudentenes Hjemmebryggerlaug (OHL) – som arrangerer kveldens happening. OHL er kun en av mange bryggeforeninger som har jekket seg opp med tappetårn og tønner i biblioteket på Chateau Neuf, og de yngste. Menn (pluss ett par damer) i alle aldre sniffer, slurper, svelger, nyter og noterer – alle har nemlig fått utdelt et ølskjema til å notere på, for senere å stemme fram kveldens gjeveste brygg. Nå er det min tur å smake. Først øl «Å«:</p>\n",
       "<p>– Dette er et mørkt øl, stout, sier mannen med tønna imens han tapper meg en fin dose.</p>\n",
       "  </div>\n",
       "  \n",
       "\n",
       "  \n",
       "    \n",
       "    \n",
       "    <div class=\"inline-image inline-right\">\n",
       "  \n",
       "\n",
       "\n",
       "\n",
       "  \n",
       "  <div class=\"image-container\">\n",
       "    \n",
       "      <img id=\"img_149073\" src=\"http://static.universitas.no/media/thumb-cache/db/75/db755eb67e837272d967202d069283bd/13-ol-nm-forening-3-ABE.jpg\" alt=\"TUNG METALL: Ryktet i hjemmebryggermiljøet sier at OHL har finfint bryggingsutstyr. OHL–formann Lars Bjørnstad skåler med noe av ølutstyret, men innrømmer at det har kostet.\"></img>\n",
       "    \n",
       "    \n",
       "\n",
       "  <div class=\"image-caption\">\n",
       "    <span class=\"inngangsord\">TUNG METALL:</span> Ryktet i hjemmebryggermiljøet sier at OHL har finfint bryggingsutstyr. OHL–formann Lars Bjørnstad skåler med noe av ølutstyret, men innrømmer at det har kostet.\n",
       "  </div>\n",
       "\n",
       "  </div>\n",
       "  \n",
       "\n",
       "\n",
       "</div>\n",
       "  \n",
       "\n",
       "  \n",
       "  <div class=\"bodytext\">\n",
       "    <p>«Aiai, akkurat som vinen jeg ble dritings på som fjortis«, noterer jeg på arket, men svelger unna likevel. Ikke helt knall nei, men som OHL-sjef og grunnlegger Lars Bjørnstad sier, er dette et arrangement for kjennere, så kanskje det er jeg som ikke har gjæret lenge nok.</p>\n",
       "\n",
       "<h3 class=\"mellomtittel\">To kroner halvliteren</h3>\n",
       "<p>Lars og noen kompiser startet OHL i 1998 og består i dag av 15-16 aktive medlemmer, samt noen «hang-arounds» som bare drikker uten å brygge selv.</p>\n",
       "<p>– Det begynte med at vi skulle lage vin, men fant ut at vin tar tid, så vi byttet til øl. Øl tar bare en måned eller to å brygge, sier han.</p>\n",
       "<p>Landets svimlende ølpriser motiverte også hjemmebryggingen.</p>\n",
       "<p>– I begynnelsen ville vi ha billig øl, men nå ser vi ikke så mye på pris lenger, kun kvalitet, sier Lars alvorlig, men opplyser at prisen kan presses ned i to kroner halvliteren.</p>\n",
       "<p>Jeg går videre på smaksrunden min. Øl «Æ«: «Smør«, noterer jeg.</p>\n",
       "\n",
       "<h3 class=\"mellomtittel\">Øl-lobby</h3>\n",
       "<p>Lars har tipset meg om en øl-jente i dette maskuline miljøet. Kathrine Haavardsholm er av fem jenter i OHL, og ferdig utdannet ernæringsfysiolog. På spørsmålet om hvorfor det er så få jenter her i kveld sier hun oppgitt:</p>\n",
       "<p>– Jenter tror at øl ikke er interessant.</p>\n",
       "<p>Ivrige etter PR følger Kathrine, Lars og Kathrines mann Espen Haavardsholm meg opp til bryggeriet i 4. etasje på Chateau Neuf. Utenom øltanker og ølslanger, er det stablet kasse på kasse med flaskeøl, og veggene prydes av diplomer fra ølmesterskap. Det ingen tvil om hva det dreier seg om på kontoret til OHL.</p>\n",
       "<p>– Vi er Norges mestvinnende ølforening. Jeg har mistet tellingen på hvor mange ganger vi har vunnet NM, sier Lars.</p>\n",
       "<p>OHL kan videre skyte av å ha bidratt til at den forhatte Øl-loven forsvant. Den gang foreningen ble stiftet, var det ulovlig å brygge øl her til lands. For å komme denne irriterende regelen til livs sendte OHL e-post til Lars Sponheim.</p>\n",
       "<p>– Vi sendte e-posten rett før valget i ’98, og kort tid etter Sponheim ble minister var regelen forsvunnet. Så nå er det i alle fall intet problem å brygge rett ovenfor Politihøgskolen, sier de triumferende.</p>\n",
       "\n",
       "<h3 class=\"mellomtittel\">Kveldens</h3>\n",
       "<p>Tilbake i biblioteket. Nå styrer jeg rett mot øl «C«, som Lars anbefalte meg. «Herlig! Lars kan sine saker. Liten flik av kaffesmak.» Jeg tar med meg ølen inn i kinosalen, hvor en representant fra en amerikansk gjærleverandør forklarer hvordan det perfekte brygg skal framstilles. Kjedelig, jeg vil heller drikke mer øl.</p>\n",
       "<p>Etter jeg har arbeidet meg gjennom øl «E«, «O» og «Q» er sannhetens time kommet: Det beste brygget skal kåres! Og det går veien for de unge talentene. Eduard Möllenkamp og kjæresten Birgitta Ø. Skavoll vinner juryprisen i klassen «mørk ale» med sitt Osloer Alt, og Lars og Espen fra OHL tar publikumsprisen med sitt Portly Brown Porter – øl «Æ«. Lars er glad:</p>\n",
       "<p>– Veldig hyggelig! Kjekt at publikum satte pris på ølet vårt. Med det nye tappetårnet kan vi få en respektabel bar, sier han. Tappetårnet var kveldens premie.</p>\n",
       "<p>Eduard Möllenkamp, på sin side, lover at han stiller med skikkelig belgisk øl til neste år. «Herlig«, tenker jeg, og sjangler hjem.</p>\n",
       "\n",
       "<h3 class=\"mellomtittel\">Portly Brown Porter</h3>\n",
       "<p>–</p>\n",
       "<p>Av Lars Bjørnstad & Espen A. Haavardsholm</p>\n",
       "<p>Malt:</p>\n",
       "<p>15.00 kg. Pale Ale malt</p>\n",
       "<p>6.00 kg. Munchenermalt, ekstra lys</p>\n",
       "<p>300.00 g. Chocolate malt</p>\n",
       "<p>200.00 g. Black Patent</p>\n",
       "<p>0.50 kg. Crystal 60L</p>\n",
       "<p>0.50 kg. Caramunich</p>\n",
       "<p>0.50 kg. Aromatic</p>\n",
       "<p>Humle:</p>\n",
       "<p>170.00 g. Challenger 7.5% 60 min</p>\n",
       "<p>140.00 g. Fuggles 5.5% 10 min</p>\n",
       "<p>140.00 g. EK-Goldings 2.9% 0 min</p>\n",
       "<p>Gjær: Blanding av Safale og Coopers tørr alegjær, 40 g.</p>\n",
       "<p>Volum: 85 liter</p>\n",
       "<p>OG (Original Gravity): 1.062</p>\n",
       "<p>Alkohol: ca 6.0%</p>\n",
       "<p>IBU (International Bitterness Unit): 39</p>\n",
       "  </div>\n",
       "  \n",
       "\n",
       "</div>"
      ],
      "text/plain": [
       "<IPython.core.display.HTML object>"
      ]
     },
     "execution_count": 50,
     "metadata": {},
     "output_type": "execute_result"
    }
   ],
   "source": [
    "display.HTML(story.make_html())"
   ]
  },
  {
   "cell_type": "code",
   "execution_count": 51,
   "metadata": {
    "collapsed": false
   },
   "outputs": [],
   "source": [
    "text = story.get_plaintext()"
   ]
  },
  {
   "cell_type": "code",
   "execution_count": 60,
   "metadata": {
    "collapsed": false
   },
   "outputs": [],
   "source": [
    "language_corpus = {\n",
    "    'nb': ['en', 'et', 'han', 'hun', 'ikke', 'fra', 'bare', 'noe', 'selv', 'mer', 'sier'],\n",
    "    'nn': ['ein', 'eit', 'han', 'ho', 'ikkje', 'frå', 'berre', 'noko', 'sjølv', 'meir', 'seier'],\n",
    "    'en': ['a', 'an', 'he', 'she', 'not', 'from', 'only', 'something', 'self', 'more', 'says'],\n",
    "}\n",
    "\n",
    "def assign_language_to(story):\n",
    "    text = story.get_plaintext()\n",
    "    language = guess_language(text)\n",
    "    if language != story.language:\n",
    "        story.language = language\n",
    "        story.save()\n",
    "\n",
    "def guess_language(text):\n",
    "    score = { key: 0 for key in language_corpus.keys() }\n",
    "    \n",
    "    for word in text.split():\n",
    "        for language, words in language_corpus.items():\n",
    "            if word in words:\n",
    "                score[language] += 1\n",
    "    return max(score, key=score.get)\n",
    "\n",
    "for story in artiklar:\n",
    "    assign_language_to(story)\n",
    "    print(story.language)"
   ]
  },
  {
   "cell_type": "code",
   "execution_count": 61,
   "metadata": {
    "collapsed": false
   },
   "outputs": [
    {
     "name": "stdout",
     "output_type": "stream",
     "text": [
      "nb\n",
      "nn\n",
      "nb\n",
      "nn\n",
      "nb\n",
      "nb\n",
      "nb\n",
      "nn\n",
      "nb\n",
      "nb\n",
      "nb\n",
      "nn\n",
      "nn\n",
      "nn\n",
      "nb\n",
      "nb\n",
      "nb\n",
      "nb\n",
      "en\n",
      "nb\n",
      "nb\n",
      "nb\n",
      "nb\n",
      "nb\n",
      "nb\n",
      "nb\n",
      "nb\n",
      "nb\n",
      "en\n",
      "nb\n",
      "nb\n",
      "nb\n",
      "nb\n",
      "nn\n",
      "nb\n",
      "nb\n",
      "nb\n",
      "nb\n",
      "nb\n",
      "nb\n",
      "nb\n",
      "nn\n",
      "nb\n",
      "nb\n",
      "nb\n",
      "nb\n",
      "nb\n",
      "nb\n",
      "nb\n",
      "nb\n",
      "nb\n",
      "nb\n",
      "nn\n",
      "nb\n",
      "nn\n",
      "nn\n",
      "nb\n",
      "nb\n",
      "nb\n",
      "en\n",
      "nb\n",
      "nb\n",
      "nn\n",
      "nn\n",
      "nb\n",
      "nb\n",
      "nb\n",
      "nb\n",
      "nn\n",
      "nb\n",
      "nn\n",
      "nb\n",
      "nb\n",
      "nb\n",
      "nb\n",
      "nb\n",
      "nb\n",
      "nb\n",
      "nb\n",
      "nb\n",
      "nb\n",
      "nn\n",
      "nb\n",
      "nb\n",
      "nn\n",
      "nb\n",
      "nb\n",
      "nb\n",
      "nb\n",
      "nb\n",
      "nb\n",
      "nb\n",
      "nb\n",
      "nb\n",
      "nb\n",
      "nn\n",
      "nb\n"
     ]
    }
   ],
   "source": [
    "some_stories = Story.objects.all()\n",
    "\n"
   ]
  },
  {
   "cell_type": "code",
   "execution_count": 29,
   "metadata": {
    "collapsed": false
   },
   "outputs": [
    {
     "data": {
      "text/plain": [
       "['nb', 'nn', 'en']"
      ]
     },
     "execution_count": 29,
     "metadata": {},
     "output_type": "execute_result"
    }
   ],
   "source": [
    "sorted(score, key=lambda x: score[x], reverse=True)"
   ]
  },
  {
   "cell_type": "code",
   "execution_count": 21,
   "metadata": {
    "collapsed": false
   },
   "outputs": [
    {
     "data": {
      "text/plain": [
       "{'en': 0, 'nb': 16, 'nn': 8}"
      ]
     },
     "execution_count": 21,
     "metadata": {},
     "output_type": "execute_result"
    }
   ],
   "source": [
    "score\n"
   ]
  },
  {
   "cell_type": "code",
   "execution_count": 28,
   "metadata": {
    "collapsed": false
   },
   "outputs": [
    {
     "data": {
      "text/plain": [
       "['nn', 'nb', 'en']"
      ]
     },
     "execution_count": 28,
     "metadata": {},
     "output_type": "execute_result"
    }
   ],
   "source": [
    "sorted(score, reverse=True)"
   ]
  },
  {
   "cell_type": "code",
   "execution_count": 41,
   "metadata": {
    "collapsed": false
   },
   "outputs": [],
   "source": [
    "artiklar = Story.objects.filter(title__icontains='ein')"
   ]
  },
  {
   "cell_type": "code",
   "execution_count": 42,
   "metadata": {
    "collapsed": false
   },
   "outputs": [
    {
     "data": {
      "text/plain": [
       "97"
      ]
     },
     "execution_count": 42,
     "metadata": {},
     "output_type": "execute_result"
    }
   ],
   "source": [
    "artiklar.count()"
   ]
  },
  {
   "cell_type": "code",
   "execution_count": null,
   "metadata": {
    "collapsed": true
   },
   "outputs": [],
   "source": []
  }
 ],
 "metadata": {
  "kernelspec": {
   "display_name": "Django Shell-Plus",
   "language": "python",
   "name": "django_extensions"
  },
  "language_info": {
   "codemirror_mode": {
    "name": "ipython",
    "version": 3
   },
   "file_extension": ".py",
   "mimetype": "text/x-python",
   "name": "python",
   "nbconvert_exporter": "python",
   "pygments_lexer": "ipython3",
   "version": "3.4.3"
  }
 },
 "nbformat": 4,
 "nbformat_minor": 0
}
