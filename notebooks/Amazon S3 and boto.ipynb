{
 "cells": [
  {
   "cell_type": "code",
   "execution_count": 3,
   "metadata": {
    "collapsed": true
   },
   "outputs": [],
   "source": [
    "import os\n",
    "import boto\n",
    "import hashlib\n",
    "from boto.s3.connection import S3Connection\n",
    "    \n",
    "aws_key_id = settings.AWS_ACCESS_KEY_ID\n",
    "aws_secret_key = settings.AWS_SECRET_ACCESS_KEY\n",
    "aws_host = settings.AWS_S3_HOST\n",
    "\n",
    "conn = S3Connection(\n",
    "    aws_access_key_id=settings.AWS_ACCESS_KEY_ID,\n",
    "    aws_secret_access_key=settings.AWS_SECRET_ACCESS_KEY,\n",
    "    is_secure=False, \n",
    "    port=None, \n",
    "    proxy=None, \n",
    "    proxy_port=None, \n",
    "    proxy_user=None, \n",
    "    proxy_pass=None, \n",
    "    host=settings.AWS_S3_HOST,\n",
    "    debug=0, \n",
    "    https_connection_factory=None, \n",
    "    calling_format='boto.s3.connection.SubdomainCallingFormat', \n",
    "    path='/', \n",
    "    provider='aws', \n",
    "    #bucket_class=<class 'boto.s3.bucket.Bucket'>, \n",
    "    security_token=None, \n",
    "    suppress_consec_slashes=True, \n",
    "    anon=False, \n",
    "    validate_certs=None, \n",
    "    profile_name=None\n",
    "    )\n",
    "static = conn.get_bucket(settings.AWS_STORAGE_BUCKET_NAME)"
   ]
  },
  {
   "cell_type": "code",
   "execution_count": 5,
   "metadata": {
    "collapsed": false
   },
   "outputs": [],
   "source": [
    "def hashfile(fname, algorithm=hashlib.md5, blocksize=65536):\n",
    "    \"\"\"Hexadecimal hash of a file\"\"\"\n",
    "    hasher = algorithm()\n",
    "    with open(fname, 'rb') as source:\n",
    "        buffer = source.read(blocksize)\n",
    "        while len(buffer) > 0:\n",
    "            hasher.update(buffer)\n",
    "            buffer = source.read(blocksize)\n",
    "    return hasher.hexdigest()"
   ]
  },
  {
   "cell_type": "code",
   "execution_count": 4,
   "metadata": {
    "collapsed": false
   },
   "outputs": [
    {
     "name": "stdout",
     "output_type": "stream",
     "text": [
      "8192 2943229 arkiv/2002/01/01-01.pdf \"1c18eb039366f4610af2cfbdb524ace4\"\n",
      "8192 780482 arkiv/2002/01/01-02.pdf \"5199237591f774d88cbe4535d926dbe5\"\n",
      "8192 1373175 arkiv/2002/01/01-03.pdf \"690c9d3ea81993c7369300ef47e6264c\"\n"
     ]
    }
   ],
   "source": [
    "for key in static.get_all_keys(max_keys=3):\n",
    "    print(key.BufferSize, key.size, key.name, key.etag)\n",
    "\n",
    "key = static.get_key('media/pdf/universitas_2015-28.pdf')\n",
    "fname = os.path.join('/tmp/', os.path.split(key.name)[1])\n",
    "key.get_contents_to_filename(fname)"
   ]
  },
  {
   "cell_type": "code",
   "execution_count": 8,
   "metadata": {
    "collapsed": false
   },
   "outputs": [
    {
     "name": "stdout",
     "output_type": "stream",
     "text": [
      "b054063e5099c3c880bc39520764b354\n",
      "b054063e5099c3c880bc39520764b354\n",
      "5992292 5992292\n",
      "0\n"
     ]
    }
   ],
   "source": [
    "print(key.etag.strip('\"'), hashfile(fname), sep='\\n')\n",
    "print(key.size, os.stat(fname).st_size) \n",
    "print((int(boto.utils.parse_ts(key.last_modified).strftime('%s')) - int(os.stat(fname).st_mtime)) % 60 * 60) "
   ]
  },
  {
   "cell_type": "markdown",
   "metadata": {},
   "source": [
    "# Check local staging folder"
   ]
  },
  {
   "cell_type": "code",
   "execution_count": null,
   "metadata": {
    "collapsed": true
   },
   "outputs": [],
   "source": []
  }
 ],
 "metadata": {
  "kernelspec": {
   "display_name": "Django Shell-Plus",
   "language": "python",
   "name": "django_extensions"
  },
  "language_info": {
   "codemirror_mode": {
    "name": "ipython",
    "version": 3
   },
   "file_extension": ".py",
   "mimetype": "text/x-python",
   "name": "python",
   "nbconvert_exporter": "python",
   "pygments_lexer": "ipython3",
   "version": "3.4.3"
  }
 },
 "nbformat": 4,
 "nbformat_minor": 0
}
