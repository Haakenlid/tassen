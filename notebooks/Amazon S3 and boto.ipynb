{
 "cells": [
  {
   "cell_type": "code",
   "execution_count": 5,
   "metadata": {
    "collapsed": false
   },
   "outputs": [],
   "source": [
    "import boto\n",
    "aws_key_id = settings.AWS_ACCESS_KEY_ID\n",
    "aws_secret_key = settings.AWS_SECRET_ACCESS_KEY\n",
    "aws_host = settings.AWS_S3_HOST\n",
    "from boto.s3.connection import S3Connection"
   ]
  },
  {
   "cell_type": "code",
   "execution_count": 8,
   "metadata": {
    "collapsed": true
   },
   "outputs": [],
   "source": [
    "conn = S3Connection(\n",
    "    aws_access_key_id=settings.AWS_ACCESS_KEY_ID,\n",
    "    aws_secret_access_key=settings.AWS_SECRET_ACCESS_KEY,\n",
    "    is_secure=False, \n",
    "    port=None, \n",
    "    proxy=None, \n",
    "    proxy_port=None, \n",
    "    proxy_user=None, \n",
    "    proxy_pass=None, \n",
    "    host=settings.AWS_S3_HOST,\n",
    "    debug=0, \n",
    "    https_connection_factory=None, \n",
    "    calling_format='boto.s3.connection.SubdomainCallingFormat', \n",
    "    path='/', \n",
    "    provider='aws', \n",
    "    #bucket_class=<class 'boto.s3.bucket.Bucket'>, \n",
    "    security_token=None, \n",
    "    suppress_consec_slashes=True, \n",
    "    anon=False, \n",
    "    validate_certs=None, \n",
    "    profile_name=None\n",
    "    )"
   ]
  },
  {
   "cell_type": "code",
   "execution_count": 9,
   "metadata": {
    "collapsed": false
   },
   "outputs": [],
   "source": [
    "static = conn.get_bucket(settings.AWS_STORAGE_BUCKET_NAME)"
   ]
  },
  {
   "cell_type": "code",
   "execution_count": 71,
   "metadata": {
    "collapsed": false
   },
   "outputs": [
    {
     "name": "stdout",
     "output_type": "stream",
     "text": [
      "8192 2943229 arkiv/2002/01/01-01.pdf \"1c18eb039366f4610af2cfbdb524ace4\"\n",
      "8192 780482 arkiv/2002/01/01-02.pdf \"5199237591f774d88cbe4535d926dbe5\"\n",
      "8192 1373175 arkiv/2002/01/01-03.pdf \"690c9d3ea81993c7369300ef47e6264c\"\n"
     ]
    }
   ],
   "source": [
    "for key in static.get_all_keys(max_keys=3):\n",
    "    print(key.BufferSize, key.size, key.name, key.etag)"
   ]
  },
  {
   "cell_type": "code",
   "execution_count": 79,
   "metadata": {
    "collapsed": false
   },
   "outputs": [],
   "source": [
    "import os\n",
    "key = static.get_key('media/pdf/universitas_2015-28.pdf')"
   ]
  },
  {
   "cell_type": "code",
   "execution_count": 80,
   "metadata": {
    "collapsed": true
   },
   "outputs": [],
   "source": [
    "fname = os.path.split(key.name)[1]\n",
    "key.get_contents_to_filename(fname)"
   ]
  },
  {
   "cell_type": "code",
   "execution_count": 108,
   "metadata": {
    "collapsed": false
   },
   "outputs": [
    {
     "name": "stdout",
     "output_type": "stream",
     "text": [
      "b054063e5099c3c880bc39520764b354\n",
      "b054063e5099c3c880bc39520764b354\n",
      "5992292 5992292\n",
      "0\n"
     ]
    }
   ],
   "source": [
    "print(key.etag.strip('\"'), *file_hashes(fname), sep='\\n')\n",
    "print(key.size, os.stat(fname).st_size) \n",
    "print((int(parse_ts(key.last_modified).strftime('%s')) - int(os.stat(fname).st_mtime)) % 60 * 60) "
   ]
  },
  {
   "cell_type": "code",
   "execution_count": 106,
   "metadata": {
    "collapsed": false
   },
   "outputs": [
    {
     "data": {
      "text/plain": [
       "'Wed, 14 Oct 2015 12:48:12 GMT'"
      ]
     },
     "execution_count": 106,
     "metadata": {},
     "output_type": "execute_result"
    }
   ],
   "source": [
    "key.last_modified"
   ]
  },
  {
   "cell_type": "code",
   "execution_count": null,
   "metadata": {
    "collapsed": true
   },
   "outputs": [],
   "source": [
    "os.stat(fname)"
   ]
  },
  {
   "cell_type": "code",
   "execution_count": 103,
   "metadata": {
    "collapsed": false
   },
   "outputs": [
    {
     "data": {
      "text/plain": [
       "'1444819692'"
      ]
     },
     "execution_count": 103,
     "metadata": {},
     "output_type": "execute_result"
    }
   ],
   "source": [
    "\n",
    "from boto.utils import parse_ts\n",
    "parse_ts(key.last_modified).strftime('%s')"
   ]
  },
  {
   "cell_type": "code",
   "execution_count": 60,
   "metadata": {
    "collapsed": false
   },
   "outputs": [
    {
     "data": {
      "text/plain": [
       "<Key: static.universitas.no,media/2007/17/16-Mag-Mote-01-AO.jpg>"
      ]
     },
     "execution_count": 60,
     "metadata": {},
     "output_type": "execute_result"
    }
   ],
   "source": [
    "filepath=img.file.name.split('no/')[1]\n",
    "static.get_key(filepath)"
   ]
  },
  {
   "cell_type": "code",
   "execution_count": 62,
   "metadata": {
    "collapsed": false
   },
   "outputs": [
    {
     "name": "stdout",
     "output_type": "stream",
     "text": [
      "\"b57516e768e202b70641e47cba874c33\"\n"
     ]
    }
   ],
   "source": [
    "print(key)"
   ]
  },
  {
   "cell_type": "code",
   "execution_count": 65,
   "metadata": {
    "collapsed": false
   },
   "outputs": [
    {
     "data": {
      "text/plain": [
       "'b57516e768e202b70641e47cba874c33'"
      ]
     },
     "execution_count": 65,
     "metadata": {},
     "output_type": "execute_result"
    }
   ],
   "source": [
    "import hashlib\n",
    "def hashfile(afile, hashalgorithm=hashlib.md5, blocksize=65536):\n",
    "    buf = afile.read(blocksize)\n",
    "    hasher = hashalgorithm()\n",
    "    while len(buf) > 0:\n",
    "        hasher.update(buf)\n",
    "        buf = afile.read(blocksize)\n",
    "    return hasher.hexdigest()\n",
    "\n",
    "def file_hashes(*filenames):\n",
    "    hashes = []\n",
    "    for fname in filenames:\n",
    "        with open(fname, 'rb') as src:\n",
    "            hashes.append(hashfile(src))\n",
    "    return hashes\n",
    "\n",
    "hashfile(img.file)\n",
    "\n"
   ]
  },
  {
   "cell_type": "code",
   "execution_count": 66,
   "metadata": {
    "collapsed": false
   },
   "outputs": [
    {
     "data": {
      "text/plain": [
       "81763"
      ]
     },
     "execution_count": 66,
     "metadata": {},
     "output_type": "execute_result"
    }
   ],
   "source": [
    "img.file.size"
   ]
  },
  {
   "cell_type": "code",
   "execution_count": null,
   "metadata": {
    "collapsed": true
   },
   "outputs": [],
   "source": []
  }
 ],
 "metadata": {
  "kernelspec": {
   "display_name": "Django Shell-Plus",
   "language": "python",
   "name": "django_extensions"
  },
  "language_info": {
   "codemirror_mode": {
    "name": "ipython",
    "version": 3
   },
   "file_extension": ".py",
   "mimetype": "text/x-python",
   "name": "python",
   "nbconvert_exporter": "python",
   "pygments_lexer": "ipython3",
   "version": "3.4.3"
  }
 },
 "nbformat": 4,
 "nbformat_minor": 0
}
