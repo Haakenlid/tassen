{
 "cells": [
  {
   "cell_type": "code",
   "execution_count": 1,
   "metadata": {
    "collapsed": false,
    "scrolled": false
   },
   "outputs": [
    {
     "name": "stdout",
     "output_type": "stream",
     "text": [
      "\n",
      "  <h2 class=\"facts\">Jon Storm Mathisen</h2>\n",
      "<ul>\n",
      "<li>Født 1941.</li>\n",
      "<li>Gift.</li>\n",
      "<li>Utdannet lege ved UiO i 1965.</li>\n",
      "<li>Begynte å jobbe som forsker ved Forsvarets forskningsinstitutt i 1967.</li>\n",
      "<li>Har vært ansatt som professor ved UiO siden 1976. Har mottatt flere priser for sitt arbeid, blant annet Anders Jahres pris for medisinsk arbeid i 2006.</li>\n",
      "<li>Han er listet som høyt sitert forsker siden 2002, hvor han lå på topp 0,5 prosent av mest siterte forskere i verden.</li>\n",
      "</ul>\n",
      "\n",
      "'@fakta:Jon Storm Mathisen\\n@li:Født 1941.\\n@li:Gift.\\n@li:Utdannet lege ved UiO i 1965.\\n@li:Begynte å jobbe som forsker ved Forsvarets forskningsinstitutt i 1967.\\n@li:Har vært ansatt som professor ved UiO siden 1976. Har mottatt flere priser for sitt arbeid, blant annet Anders Jahres pris for medisinsk arbeid i 2006.\\n@li:Han er listet som høyt sitert forsker siden 2002, hvor han lå på topp 0,5 prosent av mest siterte forskere i verden.'\n"
     ]
    }
   ],
   "source": [
    "data = \"\"\"\n",
    "@fakta:Jon Storm Mathisen\n",
    "@li:Født 1941.\n",
    "@li:Gift.\n",
    "@li:Utdannet lege ved UiO i 1965.\n",
    "@li:Begynte å jobbe som forsker ved Forsvarets forskningsinstitutt i 1967.\n",
    "@li:Har vært ansatt som professor ved UiO siden 1976. Har mottatt flere priser for sitt arbeid, blant annet Anders Jahres pris for medisinsk arbeid i 2006.\n",
    "@li:Han er listet som høyt sitert forsker siden 2002, hvor han lå på topp 0,5 prosent av mest siterte forskere i verden.\n",
    "\"\"\".strip()\n",
    "\n",
    "aside = Aside(bodytext_markup=data, parent_story=Story.objects.first())\n",
    "aside.clean_fields()\n",
    "aside.save()\n",
    "html = aside.get_html()\n",
    "aside.delete()\n",
    "print(html)\n",
    "print(repr(aside.bodytext_markup))"
   ]
  },
  {
   "cell_type": "code",
   "execution_count": 39,
   "metadata": {
    "collapsed": false
   },
   "outputs": [],
   "source": [
    "import unicodedata\n",
    "\n",
    "def remove_control_chars(s):\n",
    "    nonprinting = ''.join(\n",
    "        c for c in (chr(o) for o in range(256)) \n",
    "        if unicodedata.category(c) == 'Cc'\n",
    "        and c not in '\\t\\n'\n",
    "    )\n",
    "    control_char_re = re.compile('[{}]'.format(nonprinting))\n",
    "    return control_char_re.sub('', s)"
   ]
  },
  {
   "cell_type": "code",
   "execution_count": 40,
   "metadata": {
    "collapsed": false
   },
   "outputs": [
    {
     "name": "stdout",
     "output_type": "stream",
     "text": [
      "'@fakta:Jon Storm Mathisen\\n@li:Født 1941.\\n@li:Gift.\\n@li:Utdannet lege ved UiO i 1965.\\n@li:Begynte å jobbe som forsker ved Forsvarets forskningsinstitutt i 1967.\\n@li:Har vært ansatt som professor ved UiO siden 1976. Har mottatt flere priser for sitt arbeid, blant annet Anders Jahres pris for medisinsk arbeid i 2006.\\n@li:Han er listet som høyt sitert forsker siden 2002, hvor han lå på topp 0,5 prosent av mest siterte forskere i verden.'\n",
      "'@fakta:Jon Storm Mathisen\\n@li:Født 1941.\\n\\x84@li:Gift.\\n@li:Utdannet lege ved UiO i 1965.\\n\\x84@li:Begynte å jobbe som forsker ved Forsvarets forskningsinstitutt i 1967.\\n\\x84@li:Har vært ansatt som professor ved UiO siden 1976. Har mottatt flere priser for sitt arbeid, blant annet Anders Jahres pris for medisinsk arbeid i 2006.\\n@li:Han er listet som høyt sitert forsker siden 2002, hvor han lå på topp 0,5 prosent av mest siterte forskere i verden.'\n"
     ]
    }
   ],
   "source": [
    "print(repr(remove_control_chars(data)))\n",
    "print(repr(data))\n",
    "nonprinting = ''.join(\n",
    "    c for c in (chr(o) for o in range(0xff)) \n",
    "    if unicodedata.category(c) == 'Cc'\n",
    "    and c not in '\\t\\n'\n",
    ")\n"
   ]
  },
  {
   "cell_type": "code",
   "execution_count": 38,
   "metadata": {
    "collapsed": false
   },
   "outputs": [
    {
     "data": {
      "text/plain": [
       "\"'\\\\x00\\\\x01\\\\x02\\\\x03\\\\x04\\\\x05\\\\x06\\\\x07\\\\x08\\\\x0b\\\\x0c\\\\r\\\\x0e\\\\x0f\\\\x10\\\\x11\\\\x12\\\\x13\\\\x14\\\\x15\\\\x16\\\\x17\\\\x18\\\\x19\\\\x1a\\\\x1b\\\\x1c\\\\x1d\\\\x1e\\\\x1f\\\\x7f\\\\x80\\\\x81\\\\x82\\\\x83\\\\x84\\\\x85\\\\x86\\\\x87\\\\x88\\\\x89\\\\x8a\\\\x8b\\\\x8c\\\\x8d\\\\x8e\\\\x8f\\\\x90\\\\x91\\\\x92\\\\x93\\\\x94\\\\x95\\\\x96\\\\x97\\\\x98\\\\x99\\\\x9a\\\\x9b\\\\x9c\\\\x9d\\\\x9e\\\\x9f'\""
      ]
     },
     "execution_count": 38,
     "metadata": {},
     "output_type": "execute_result"
    }
   ],
   "source": [
    "repr(nonprinting)"
   ]
  },
  {
   "cell_type": "code",
   "execution_count": null,
   "metadata": {
    "collapsed": true
   },
   "outputs": [],
   "source": []
  }
 ],
 "metadata": {
  "kernelspec": {
   "display_name": "Django Shell-Plus",
   "language": "python",
   "name": "django_extensions"
  },
  "language_info": {
   "codemirror_mode": {
    "name": "ipython",
    "version": 3
   },
   "file_extension": ".py",
   "mimetype": "text/x-python",
   "name": "python",
   "nbconvert_exporter": "python",
   "pygments_lexer": "ipython3",
   "version": "3.5.2"
  }
 },
 "nbformat": 4,
 "nbformat_minor": 1
}
