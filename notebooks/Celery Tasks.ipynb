{
 "cells": [
  {
   "cell_type": "code",
   "execution_count": 24,
   "metadata": {
    "collapsed": false
   },
   "outputs": [
    {
     "name": "stdout",
     "output_type": "stream",
     "text": [
      "['/srv/fotoarkiv_universitas/STAGING/BYLINE/Zomlot-Nora.jpg'] \n",
      "\n",
      " ['/srv/fotoarkiv_universitas/STAGING/PDF/UNI11VER15101601000.pdf', '/srv/fotoarkiv_universitas/STAGING/PDF/UNI11VER15101602000.pdf', '/srv/fotoarkiv_universitas/STAGING/PDF/UNI11VER15101603000.pdf', '/srv/fotoarkiv_universitas/STAGING/PDF/UNI11VER15101604000.pdf', '/srv/fotoarkiv_universitas/STAGING/PDF/UNI11VER15101605000.pdf', '/srv/fotoarkiv_universitas/STAGING/PDF/UNI11VER15101606000.pdf', '/srv/fotoarkiv_universitas/STAGING/PDF/UNI11VER15101607000.pdf', '/srv/fotoarkiv_universitas/STAGING/PDF/UNI11VER15101608000.pdf', '/srv/fotoarkiv_universitas/STAGING/PDF/UNI11VER15101609000.pdf', '/srv/fotoarkiv_universitas/STAGING/PDF/UNI11VER15101610000.pdf', '/srv/fotoarkiv_universitas/STAGING/PDF/UNI11VER15101611000.pdf', '/srv/fotoarkiv_universitas/STAGING/PDF/UNI11VER15101612000.pdf', '/srv/fotoarkiv_universitas/STAGING/PDF/UNI11VER15101613000.pdf', '/srv/fotoarkiv_universitas/STAGING/PDF/UNI11VER15101614000.pdf', '/srv/fotoarkiv_universitas/STAGING/PDF/UNI11VER15101615000.pdf', '/srv/fotoarkiv_universitas/STAGING/PDF/UNI11VER15101616000.pdf', '/srv/fotoarkiv_universitas/STAGING/PDF/UNI11VER15101617000.pdf', '/srv/fotoarkiv_universitas/STAGING/PDF/UNI11VER15101618000.pdf', '/srv/fotoarkiv_universitas/STAGING/PDF/UNI11VER15101619000.pdf', '/srv/fotoarkiv_universitas/STAGING/PDF/UNI11VER15101620000.pdf'] \n",
      "\n",
      " ['/srv/fotoarkiv_universitas/STAGING/IMAGES/03-nyh-nyliste-05-HDH.jpg', '/srv/fotoarkiv_universitas/STAGING/IMAGES/06-NYH-nyhnsovalg-03-AN.jpg', '/srv/fotoarkiv_universitas/STAGING/IMAGES/06-NYH-nyhnsovalg-04-AN.jpg', '/srv/fotoarkiv_universitas/STAGING/IMAGES/07-NYH-nyhmedisinst-01-NWL.jpg', '/srv/fotoarkiv_universitas/STAGING/IMAGES/16559662270-6637507e60-z.jpg', '/srv/fotoarkiv_universitas/STAGING/IMAGES/25-NYH-nyhsiobolige-08-PPB.jpg', '/srv/fotoarkiv_universitas/STAGING/IMAGES/26-NYH-nyharbeidsmo-01-HB.jpg', '/srv/fotoarkiv_universitas/STAGING/IMAGES/26-NYH-nyharbeidsmo-02-HB.jpg', '/srv/fotoarkiv_universitas/STAGING/IMAGES/26-NYH-nyharbeidsmo-03-HB.jpg', '/srv/fotoarkiv_universitas/STAGING/IMAGES/26-NYH-nyharbeidsmo-07-HB.jpg', '/srv/fotoarkiv_universitas/STAGING/IMAGES/26-NYH-nyhrektorkje-01-AOB.jpg', '/srv/fotoarkiv_universitas/STAGING/IMAGES/26-NYH-nyhrektorkje-02-AOB.jpg', '/srv/fotoarkiv_universitas/STAGING/IMAGES/26-NYH-nyhrektorkje-03-AOB.jpg', '/srv/fotoarkiv_universitas/STAGING/IMAGES/26-NYH-nyhrektorkje-04-AOB.jpg', '/srv/fotoarkiv_universitas/STAGING/IMAGES/26-NYH-nyhrektorkje-05-AOB.jpg', '/srv/fotoarkiv_universitas/STAGING/IMAGES/26-NYH-nyhrektorkje-06-AOB.jpg', '/srv/fotoarkiv_universitas/STAGING/IMAGES/26-NYH-nyhrektorkje-07-AOB.jpg', '/srv/fotoarkiv_universitas/STAGING/IMAGES/26-NYH-nyhrektorkje-08-AOB.jpg', '/srv/fotoarkiv_universitas/STAGING/IMAGES/26-NYH-nyhrektorkje-09-AOB.jpg', '/srv/fotoarkiv_universitas/STAGING/IMAGES/27-NYH-nyhsoriamori-01-SBV.jpg', '/srv/fotoarkiv_universitas/STAGING/IMAGES/28-DEB-debfukuyama-01-AOB.jpg', '/srv/fotoarkiv_universitas/STAGING/IMAGES/28-DEB-debfukuyama-02-AOB.jpg', '/srv/fotoarkiv_universitas/STAGING/IMAGES/28-DEB-debfukuyama-03-AOB.jpg', '/srv/fotoarkiv_universitas/STAGING/IMAGES/28-DEB-debfukuyama-04-AOB.jpg', '/srv/fotoarkiv_universitas/STAGING/IMAGES/28-DEB-debfukuyama-05-AOB.jpg', '/srv/fotoarkiv_universitas/STAGING/IMAGES/28-DEB-debfukuyama-06-AOB.jpg', '/srv/fotoarkiv_universitas/STAGING/IMAGES/28-KUL-kul286paplas-01-HB.jpg', '/srv/fotoarkiv_universitas/STAGING/IMAGES/28-KUL-kul286paplas-02-HB.jpg', '/srv/fotoarkiv_universitas/STAGING/IMAGES/28-KUL-kul286paplas-03-HB.jpg', '/srv/fotoarkiv_universitas/STAGING/IMAGES/28-KUL-kul286paplas-04-HB.jpg', '/srv/fotoarkiv_universitas/STAGING/IMAGES/28-KUL-kul286paplas-05-HB.jpg', '/srv/fotoarkiv_universitas/STAGING/IMAGES/28-KUL-kul286paplas-06-HB.jpg', '/srv/fotoarkiv_universitas/STAGING/IMAGES/28-KUL-kul286paplas-07-HB.jpg', '/srv/fotoarkiv_universitas/STAGING/IMAGES/28-KUL-kul286paplas-08-HB.jpg', '/srv/fotoarkiv_universitas/STAGING/IMAGES/28-KUL-kul286paplas-09-HB.jpg', '/srv/fotoarkiv_universitas/STAGING/IMAGES/28-KUL-kul286paplas-10-HB.jpg', '/srv/fotoarkiv_universitas/STAGING/IMAGES/28-KUL-kul286paplas-11-HB.jpg', '/srv/fotoarkiv_universitas/STAGING/IMAGES/28-KUL-kul286paplas-12-HB.jpg', '/srv/fotoarkiv_universitas/STAGING/IMAGES/28-KUL-kul286paplas-13-HB.jpg', '/srv/fotoarkiv_universitas/STAGING/IMAGES/28-KUL-kulverdensda-01-OJ.jpg', '/srv/fotoarkiv_universitas/STAGING/IMAGES/28-KUL-kulverdensda-02-OJ.jpg', '/srv/fotoarkiv_universitas/STAGING/IMAGES/28-KUL-kulverdensda-03-OJ.jpg', '/srv/fotoarkiv_universitas/STAGING/IMAGES/28-KUL-kulverdensda-04-OJ.jpg', '/srv/fotoarkiv_universitas/STAGING/IMAGES/28-KUL-kulverdensda-05-OJ.jpg', '/srv/fotoarkiv_universitas/STAGING/IMAGES/28-KUL-kulverdensda-06-OJ.jpg', '/srv/fotoarkiv_universitas/STAGING/IMAGES/28-KUL-minstudietid-01-OJ.jpg', '/srv/fotoarkiv_universitas/STAGING/IMAGES/28-KUL-minstudietid-02-OJ.jpg', '/srv/fotoarkiv_universitas/STAGING/IMAGES/28-KUL-minstudietid-03-OJ.jpg', '/srv/fotoarkiv_universitas/STAGING/IMAGES/28-NYH-karakterkaos-01-KEK.jpg', '/srv/fotoarkiv_universitas/STAGING/IMAGES/28-NYH-karakterkaos-02-KEK.jpg', '/srv/fotoarkiv_universitas/STAGING/IMAGES/28-NYH-karakterkaos-03-KEK-Copy.jpg', '/srv/fotoarkiv_universitas/STAGING/IMAGES/28-NYH-karakterkaos-03-KEK.jpg', '/srv/fotoarkiv_universitas/STAGING/IMAGES/28-NYH-karakterkaos-04-KEK.jpg', '/srv/fotoarkiv_universitas/STAGING/IMAGES/28-NYH-karakterkaos-05-KEK.jpg', '/srv/fotoarkiv_universitas/STAGING/IMAGES/28-NYH-karakterkaos-06-KEK.jpg', '/srv/fotoarkiv_universitas/STAGING/IMAGES/28-NYH-karakterkaos-07-KEK.jpg', '/srv/fotoarkiv_universitas/STAGING/IMAGES/28-NYH-karakterkaos-08-KEK.jpg', '/srv/fotoarkiv_universitas/STAGING/IMAGES/28-NYH-karakterkaos-09-KEK.jpg', '/srv/fotoarkiv_universitas/STAGING/IMAGES/28-NYH-karakterkaos-10-KEK.jpg', '/srv/fotoarkiv_universitas/STAGING/IMAGES/28-NYH-karakterkaos-11-KEK.jpg', '/srv/fotoarkiv_universitas/STAGING/IMAGES/28-NYH-karakterkaos-12-KEK.jpg', '/srv/fotoarkiv_universitas/STAGING/IMAGES/28-NYH-karakterkaos-13-KEK.jpg', '/srv/fotoarkiv_universitas/STAGING/IMAGES/28-NYH-nh28kvoteord-01-OJ.jpg', '/srv/fotoarkiv_universitas/STAGING/IMAGES/28-NYH-nh28kvoteord-02-OJ.jpg', '/srv/fotoarkiv_universitas/STAGING/IMAGES/28-NYH-nh28kvoteord-03-OJ.jpg', '/srv/fotoarkiv_universitas/STAGING/IMAGES/28-NYH-nh28kvoteord-04-OJ.jpg', '/srv/fotoarkiv_universitas/STAGING/IMAGES/28-NYH-nh28kvoteord-05-OJ.jpg', '/srv/fotoarkiv_universitas/STAGING/IMAGES/28-NYH-nh28kvoteord-06-OJ.jpg', '/srv/fotoarkiv_universitas/STAGING/IMAGES/28-NYH-nyhrektorkje-01-KEK.jpg', '/srv/fotoarkiv_universitas/STAGING/IMAGES/28-NYH-nyhrektorkje-01-OJ.jpg', '/srv/fotoarkiv_universitas/STAGING/IMAGES/28-NYH-nyhrektorkje-01-XX.jpg', '/srv/fotoarkiv_universitas/STAGING/IMAGES/28-NYH-nyhrektorkje-02-KEK.jpg', '/srv/fotoarkiv_universitas/STAGING/IMAGES/28-NYH-nyhrektorkje-02-OJ.jpg', '/srv/fotoarkiv_universitas/STAGING/IMAGES/28-NYH-nyhrektorkje-02-XX.jpg', '/srv/fotoarkiv_universitas/STAGING/IMAGES/28-NYH-nyhrektorkje-03-KEK.jpg', '/srv/fotoarkiv_universitas/STAGING/IMAGES/28-NYH-nyhrektorkje-03-OJ.jpg', '/srv/fotoarkiv_universitas/STAGING/IMAGES/28-NYH-nyhrektorkje-03-XX.jpg', '/srv/fotoarkiv_universitas/STAGING/IMAGES/28-NYH-nyhrektorkje-04-KEK.jpg', '/srv/fotoarkiv_universitas/STAGING/IMAGES/28-NYH-nyhrektorkje-04-OJ.jpg', '/srv/fotoarkiv_universitas/STAGING/IMAGES/28-NYH-nyhrektorkje-05-KEK.jpg', '/srv/fotoarkiv_universitas/STAGING/IMAGES/28-NYH-nyhrektorkje-05-OJ.jpg', '/srv/fotoarkiv_universitas/STAGING/IMAGES/28-NYH-nyhrektorkje-06-KEK.jpg', '/srv/fotoarkiv_universitas/STAGING/IMAGES/28-NYH-nyhrektorkje-06-OJ.jpg', '/srv/fotoarkiv_universitas/STAGING/IMAGES/28-NYH-nyhrektorkje-07-KEK.jpg', '/srv/fotoarkiv_universitas/STAGING/IMAGES/28-NYH-nyhrektorkje-07-OJ.jpg', '/srv/fotoarkiv_universitas/STAGING/IMAGES/28-NYH-nyhrektorkje-08-KEK.jpg', '/srv/fotoarkiv_universitas/STAGING/IMAGES/28-NYH-nyhrektorkje-09-KEK.jpg', '/srv/fotoarkiv_universitas/STAGING/IMAGES/28-NYH-nyhrektorkje-10-KEK.jpg', '/srv/fotoarkiv_universitas/STAGING/IMAGES/28-NYH-nyhrektorkje-11-KEK.jpg', '/srv/fotoarkiv_universitas/STAGING/IMAGES/28-NYH-nyhrektorkje-12-KEK.jpg', '/srv/fotoarkiv_universitas/STAGING/IMAGES/28-NYH-nyhrektorkje-13-KEK.jpg', '/srv/fotoarkiv_universitas/STAGING/IMAGES/28-NYH-nyhstatsbuds-01-KEK.jpg', '/srv/fotoarkiv_universitas/STAGING/IMAGES/28-NYH-nyhstatsbuds-01-OJ.jpg', '/srv/fotoarkiv_universitas/STAGING/IMAGES/28-NYH-nyhstatsbuds-02-KEK.jpg', '/srv/fotoarkiv_universitas/STAGING/IMAGES/28-NYH-nyhstatsbuds-02-OJ.jpg', '/srv/fotoarkiv_universitas/STAGING/IMAGES/28-NYH-nyhstatsbuds-03-KEK.jpg', '/srv/fotoarkiv_universitas/STAGING/IMAGES/28-NYH-nyhstatsbuds-03-OJ.jpg', '/srv/fotoarkiv_universitas/STAGING/IMAGES/28-NYH-nyhstatsbuds-04-KEK.jpg', '/srv/fotoarkiv_universitas/STAGING/IMAGES/28-NYH-nyhstatsbuds-04-OJ.jpg', '/srv/fotoarkiv_universitas/STAGING/IMAGES/28-NYH-nyhstatsbuds-05-KEK.jpg', '/srv/fotoarkiv_universitas/STAGING/IMAGES/28-NYH-nyhstatsbuds-06-KEK.jpg', '/srv/fotoarkiv_universitas/STAGING/IMAGES/28-NYH-nyhstatsbuds-07-KEK.jpg', '/srv/fotoarkiv_universitas/STAGING/IMAGES/28-NYH-nyhstatsbuds-08-KEK.jpg', '/srv/fotoarkiv_universitas/STAGING/IMAGES/28-NYH-nyhvelferdst-01-OJ.jpg', '/srv/fotoarkiv_universitas/STAGING/IMAGES/28-NYH-nyhvelferdst-02-OJ.jpg', '/srv/fotoarkiv_universitas/STAGING/IMAGES/28-NYH-nyhvelferdst-03-OJ.jpg', '/srv/fotoarkiv_universitas/STAGING/IMAGES/28-SID-oyeblikk-01-AOB.jpg', '/srv/fotoarkiv_universitas/STAGING/IMAGES/28-SID-oyeblikk-02-AOB.jpg', '/srv/fotoarkiv_universitas/STAGING/IMAGES/28-SID-oyeblikk-03-AOB.jpg', '/srv/fotoarkiv_universitas/STAGING/IMAGES/3437100621-027c13b5a3-z.jpg', '/srv/fotoarkiv_universitas/STAGING/IMAGES/3759030707-0c307a04a4-z.jpg', '/srv/fotoarkiv_universitas/STAGING/IMAGES/8056992055-2d292b853a-z.jpg', '/srv/fotoarkiv_universitas/STAGING/IMAGES/Arkivfoto-uio-rektor-KjetilBlom.jpg', '/srv/fotoarkiv_universitas/STAGING/IMAGES/Bjorn-20Sundquist-20og-20Helge-20Jordal-20i-20Host.jpg', '/srv/fotoarkiv_universitas/STAGING/IMAGES/Bygdedyret.jpg', '/srv/fotoarkiv_universitas/STAGING/IMAGES/F255-Den-egentlige-kommunen-Hardcover-Cover-300dpi-1.jpg', '/srv/fotoarkiv_universitas/STAGING/IMAGES/Frihet-20likhet-20Island-lav-500x500.jpg', '/srv/fotoarkiv_universitas/STAGING/IMAGES/HC-Illustrasjon.jpg', '/srv/fotoarkiv_universitas/STAGING/IMAGES/HelgeJordahlogIngeborgSundrehagenRaustol-Host.jpg', '/srv/fotoarkiv_universitas/STAGING/IMAGES/Hjul.jpg', '/srv/fotoarkiv_universitas/STAGING/IMAGES/Joddski.jpg', '/srv/fotoarkiv_universitas/STAGING/IMAGES/Jonas-Oren.jpg', '/srv/fotoarkiv_universitas/STAGING/IMAGES/Mimir.Fotocred-Thomas-Buikema-Fjaertoft.jpg', '/srv/fotoarkiv_universitas/STAGING/IMAGES/Mimir2.Fotocred-Thomas-Buikema-Fjaertoft.jpg', '/srv/fotoarkiv_universitas/STAGING/IMAGES/MortenLangeland.Fotocred-Heidi-Furre.jpg', '/srv/fotoarkiv_universitas/STAGING/IMAGES/MortenLangeland2.Fotocred-Heidi-Furre.jpg', '/srv/fotoarkiv_universitas/STAGING/IMAGES/MortenNordby.jpg', '/srv/fotoarkiv_universitas/STAGING/IMAGES/Nummer-14-onsdag-18-oktober1989.jpg', '/srv/fotoarkiv_universitas/STAGING/IMAGES/Tarje-Gullaksen-2.jpg', '/srv/fotoarkiv_universitas/STAGING/IMAGES/Untitled-1.jpg', '/srv/fotoarkiv_universitas/STAGING/IMAGES/bakke.jpg', '/srv/fotoarkiv_universitas/STAGING/IMAGES/bru.jpg', '/srv/fotoarkiv_universitas/STAGING/IMAGES/erna.jpg', '/srv/fotoarkiv_universitas/STAGING/IMAGES/statsbudsjett.jpg', '/srv/fotoarkiv_universitas/STAGING/IMAGES/til.jpg', '/srv/fotoarkiv_universitas/STAGING/IMAGES/twee.jpg']\n"
     ]
    }
   ],
   "source": [
    "from datetime import timedelta, datetime\n",
    "from django.conf import settings\n",
    "import os\n",
    "import glob\n",
    "from time import mktime\n",
    "import logging\n",
    "logger = logging.getLogger(__name__)\n",
    "\n",
    "def timestamp(delta, fallback):\n",
    "    \"\"\"Calculates seconds since epoch of current time minus delta.\n",
    "    If delta is out of range, calculates timestamp of fallback datetime instead.\n",
    "    \"\"\"\n",
    "    try:\n",
    "        dt = datetime.now() - delta\n",
    "    except (OverflowError):\n",
    "        # logger.exception('locals:%s' % locals())\n",
    "        dt = fallback\n",
    "    return int(mktime(dt.timetuple()))\n",
    "\n",
    "def new_staging_files(staging_subdirectory, fileglob='*.*', min_age=timedelta.min, max_age=timedelta.max):\n",
    "    \"\"\"Check for new or updated files in staging area.\"\"\"\n",
    "    globpattern = os.path.join(settings.STAGING_ROOT, staging_subdirectory, fileglob,)\n",
    "    all_files = glob.glob(globpattern)\n",
    "    min_mtime = timestamp(min_age, fallback=datetime.max)\n",
    "    max_mtime = timestamp(max_age, fallback=datetime.min)\n",
    "    files = [file for file in all_files \n",
    "             if min_mtime > os.path.getmtime(file) > max_mtime]\n",
    "    return sorted(files)\n",
    "\n",
    "#staging_files = new_staging_files('IMAGES', '*.jpg', min_age=timedelta(days=30))\n",
    "#len(staging_files)\n",
    "# new_staging_files('BYLINE', '*.jpg')\n",
    "#timedelta_to_timestamp(timedelta(days=-10000*365), datetime.min)\n",
    "\n",
    "def new_staging_images(**kwargs):\n",
    "    \"\"\"Check for new or updated images in staging area\"\"\"\n",
    "    arguments = dict(\n",
    "        staging_subdirectory='IMAGES',\n",
    "        fileglob='*.jpg',\n",
    "        max_age=timedelta(days=7),\n",
    "    )\n",
    "    arguments.update(kwargs)\n",
    "    return new_staging_files(**arguments)\n",
    "\n",
    "def new_staging_byline_images(**kwargs):\n",
    "    \"\"\"Check for new or updated byline images in staging area\"\"\"\n",
    "    arguments = dict(\n",
    "        staging_subdirectory='BYLINE',\n",
    "        fileglob='*.jpg',\n",
    "        max_age=timedelta(days=1),\n",
    "    )\n",
    "    arguments.update(kwargs)\n",
    "    return new_staging_files(**arguments)\n",
    "\n",
    "def new_staging_pdf_files(**kwargs):\n",
    "    \"\"\"Check for new or updated pdf files in staging area\"\"\"\n",
    "    arguments = dict(\n",
    "        staging_subdirectory='PDF',\n",
    "        fileglob='UNI1*VER*000.pdf',\n",
    "        max_age=timedelta(days=100),\n",
    "    )\n",
    "    arguments.update(kwargs)\n",
    "    return new_staging_files(**arguments)\n",
    "\n",
    "print(\n",
    "    new_staging_byline_images(),\n",
    "    '\\n\\n',\n",
    "    new_staging_pdf_files(),\n",
    "    '\\n\\n',\n",
    "    new_staging_images(),\n",
    ")"
   ]
  },
  {
   "cell_type": "code",
   "execution_count": 4,
   "metadata": {
    "collapsed": false
   },
   "outputs": [
    {
     "ename": "TypeError",
     "evalue": "unsupported operand type(s) for |: 'dict' and 'dict'",
     "output_type": "error",
     "traceback": [
      "\u001b[1;31m---------------------------------------------------------------------------\u001b[0m",
      "\u001b[1;31mTypeError\u001b[0m                                 Traceback (most recent call last)",
      "\u001b[1;32m<ipython-input-4-18b366940493>\u001b[0m in \u001b[0;36m<module>\u001b[1;34m()\u001b[0m\n\u001b[1;32m----> 1\u001b[1;33m \u001b[0mdict\u001b[0m\u001b[1;33m(\u001b[0m\u001b[0ma\u001b[0m\u001b[1;33m=\u001b[0m\u001b[1;36m1\u001b[0m\u001b[1;33m)\u001b[0m \u001b[1;33m|\u001b[0m \u001b[0mdict\u001b[0m\u001b[1;33m(\u001b[0m\u001b[0mb\u001b[0m\u001b[1;33m=\u001b[0m\u001b[1;36m2\u001b[0m\u001b[1;33m)\u001b[0m\u001b[1;33m\u001b[0m\u001b[0m\n\u001b[0m",
      "\u001b[1;31mTypeError\u001b[0m: unsupported operand type(s) for |: 'dict' and 'dict'"
     ]
    }
   ],
   "source": [
    "dict(a=1) | dict(b=2)"
   ]
  },
  {
   "cell_type": "code",
   "execution_count": null,
   "metadata": {
    "collapsed": true
   },
   "outputs": [],
   "source": [
    "dict.update"
   ]
  },
  {
   "cell_type": "code",
   "execution_count": 29,
   "metadata": {
    "collapsed": false
   },
   "outputs": [
    {
     "data": {
      "text/plain": [
       "'nocab'"
      ]
     },
     "execution_count": 29,
     "metadata": {},
     "output_type": "execute_result"
    }
   ],
   "source": [
    "def sna(bacon):\n",
    "    return bacon[::-1]\n",
    "\n",
    "class Foo():\n",
    "    sna = staticmethod(sna)\n",
    "\n",
    "foo = Foo()\n",
    "foo.sna('bacon')"
   ]
  },
  {
   "cell_type": "code",
   "execution_count": 26,
   "metadata": {
    "collapsed": false
   },
   "outputs": [
    {
     "data": {
      "text/plain": [
       "{datetime.datetime(2015, 10, 19, 22, 25, 7, 570734): 'now'}"
      ]
     },
     "execution_count": 26,
     "metadata": {},
     "output_type": "execute_result"
    }
   ],
   "source": [
    "{datetime.now():'now'}"
   ]
  },
  {
   "cell_type": "code",
   "execution_count": null,
   "metadata": {
    "collapsed": false
   },
   "outputs": [],
   "source": [
    "datetime.min.strftime('%s')"
   ]
  },
  {
   "cell_type": "code",
   "execution_count": null,
   "metadata": {
    "collapsed": false
   },
   "outputs": [],
   "source": [
    "import os\n",
    "from datetime import datetime\n",
    "\n",
    "now = datetime.now()\n",
    "IMAGE_STAGING = os.path.join(settings.STAGING_ROOT, 'STAGING', 'IMAGES')\n",
    "os.chdir(IMAGE_STAGING)\n",
    "print(os.path.abspath(os.curdir))"
   ]
  },
  {
   "cell_type": "code",
   "execution_count": null,
   "metadata": {
    "collapsed": false,
    "scrolled": false
   },
   "outputs": [],
   "source": [
    "for file_path in sorted(os.listdir(), key=lambda f: os.path.getmtime(f), reverse=True): \n",
    "#    exists = ImageFile.objects.filter(old_file_path=file_path)\n",
    "#    if exists:\n",
    "#        print(exists)\n",
    "#        continue\n",
    "    mtime = os.path.getmtime(file_path)\n",
    "    modified = datetime.fromtimestamp(mtime)\n",
    "    print('{0:<40.40}  {1}'.format(file_path, modified))\n",
    "    "
   ]
  }
 ],
 "metadata": {
  "kernelspec": {
   "display_name": "Django Shell-Plus",
   "language": "python",
   "name": "django_extensions"
  },
  "language_info": {
   "codemirror_mode": {
    "name": "ipython",
    "version": 3
   },
   "file_extension": ".py",
   "mimetype": "text/x-python",
   "name": "python",
   "nbconvert_exporter": "python",
   "pygments_lexer": "ipython3",
   "version": "3.4.3"
  }
 },
 "nbformat": 4,
 "nbformat_minor": 0
}
