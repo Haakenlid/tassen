{
 "metadata": {
  "name": "",
  "signature": "sha256:8038bb2e7c1629de8f5e2fb30022a2c97df7a8b8238d40c713927cdb908e7d8a"
 },
 "nbformat": 3,
 "nbformat_minor": 0,
 "worksheets": [
  {
   "cells": [
    {
     "cell_type": "code",
     "collapsed": false,
     "input": [
      "from apps.stories.models import Story\n",
      "from apps.photo.models import ImageFile\n",
      "from PIL import Image\n",
      "from IPython.core import display\n",
      "from matplotlib import pyplot as plt\n",
      "import django\n",
      "import os\n",
      "from slugify import Slugify\n",
      "import re\n",
      "import numpy\n",
      "import cv2\n",
      "import os\n",
      "\n",
      "%matplotlib inline\n",
      "django.setup()"
     ],
     "language": "python",
     "metadata": {},
     "outputs": [],
     "prompt_number": 1
    },
    {
     "cell_type": "code",
     "collapsed": true,
     "input": [
      "\n",
      "for img in ImageFile.objects.order_by('pk').all()[1200:1300]:\n",
      "    print(img, img.pk)\n",
      "    img.slugify_filename()\n",
      "    print(img)\n",
      "    img.thumb()\n"
     ],
     "language": "python",
     "metadata": {},
     "outputs": [
      {
       "output_type": "stream",
       "stream": "stdout",
       "text": [
        "17_Studenthybel_SS.jpg 1936\n",
        "17-Studenthybel-SS.jpg"
       ]
      },
      {
       "output_type": "stream",
       "stream": "stdout",
       "text": [
        "\n",
        "17_Kopiaksjon_01_2f2_KRN.jpg"
       ]
      },
      {
       "output_type": "stream",
       "stream": "stdout",
       "text": [
        " 1937\n",
        "17-Kopiaksjon-01-2f2-KRN.jpg"
       ]
      },
      {
       "output_type": "stream",
       "stream": "stdout",
       "text": [
        "\n",
        "17_Masterkis_02_KRN.jpg"
       ]
      },
      {
       "output_type": "stream",
       "stream": "stdout",
       "text": [
        " 1938\n",
        "17-Masterkis-02-KRN.jpg\n",
        "17_klagesak__01_SS.jpg"
       ]
      },
      {
       "output_type": "stream",
       "stream": "stdout",
       "text": [
        " 1939\n",
        "17-klagesak-01-SS.jpg"
       ]
      },
      {
       "output_type": "stream",
       "stream": "stdout",
       "text": [
        "\n",
        "17_Arabisktilfelle_KRN.jpg"
       ]
      },
      {
       "output_type": "stream",
       "stream": "stdout",
       "text": [
        " 1940\n",
        "17-Arabisktilfelle-KRN.jpg"
       ]
      },
      {
       "output_type": "stream",
       "stream": "stdout",
       "text": [
        "\n",
        "07Solhaug2ED.jpg"
       ]
      },
      {
       "output_type": "stream",
       "stream": "stdout",
       "text": [
        " 1941\n",
        "07Solhaug2ED.jpg\n",
        "18Konteeksamen1ED.jpg"
       ]
      },
      {
       "output_type": "stream",
       "stream": "stdout",
       "text": [
        " 1942\n",
        "18Konteeksamen1ED.jpg\n",
        "18_takUB4.SSlite.jpg"
       ]
      },
      {
       "output_type": "stream",
       "stream": "stdout",
       "text": [
        " 1943\n",
        "18-takUB4.SSlite.jpg"
       ]
      },
      {
       "output_type": "stream",
       "stream": "stdout",
       "text": [
        "\n",
        "18_Okkultisme_KRN.jpg"
       ]
      },
      {
       "output_type": "stream",
       "stream": "stdout",
       "text": [
        " 1944\n",
        "18-Okkultisme-KRN.jpg"
       ]
      },
      {
       "output_type": "stream",
       "stream": "stdout",
       "text": [
        "\n",
        "18StrangerThorsen1ED.jpg"
       ]
      },
      {
       "output_type": "stream",
       "stream": "stdout",
       "text": [
        " 1945\n",
        "18StrangerThorsen1ED.jpg\n",
        "19_dalbye_AS.jpg"
       ]
      },
      {
       "output_type": "stream",
       "stream": "stdout",
       "text": [
        " 1947\n",
        "19-dalbye-AS.jpg"
       ]
      },
      {
       "output_type": "stream",
       "stream": "stdout",
       "text": [
        "\n",
        "19_bj_bflsen2.IS.jpg"
       ]
      },
      {
       "output_type": "stream",
       "stream": "stdout",
       "text": [
        " 1948\n",
        "19-bj-bflsen2.IS.jpg\n",
        "19_Geita_er_borte_01_KRN.jpg"
       ]
      },
      {
       "output_type": "stream",
       "stream": "stdout",
       "text": [
        " 1949\n",
        "19-Geita-er-borte-01-KRN.jpg"
       ]
      },
      {
       "output_type": "stream",
       "stream": "stdout",
       "text": [
        "\n",
        "19_Koss_KRN.jpg"
       ]
      },
      {
       "output_type": "stream",
       "stream": "stdout",
       "text": [
        " 1950\n",
        "19-Koss-KRN.jpg"
       ]
      },
      {
       "output_type": "stream",
       "stream": "stdout",
       "text": [
        "\n",
        "19-Bjerke-studenthus-02-KRN.jpg"
       ]
      },
      {
       "output_type": "stream",
       "stream": "stdout",
       "text": [
        " 1951\n",
        "19-Bjerke-studenthus-02-KRN.jpg\n",
        "19_Privatist_KRN.jpg"
       ]
      },
      {
       "output_type": "stream",
       "stream": "stdout",
       "text": [
        " 1952\n",
        "19-Privatist-KRN.jpg"
       ]
      },
      {
       "output_type": "stream",
       "stream": "stdout",
       "text": [
        "\n",
        "19_UiO-regnskap_KRN.jpg"
       ]
      },
      {
       "output_type": "stream",
       "stream": "stdout",
       "text": [
        " 1953\n",
        "19-UiO-regnskap-KRN.jpg"
       ]
      },
      {
       "output_type": "stream",
       "stream": "stdout",
       "text": [
        "\n",
        "19_ub2_AS.jpg"
       ]
      },
      {
       "output_type": "stream",
       "stream": "stdout",
       "text": [
        " 1954\n",
        "19-ub2-AS.jpg"
       ]
      },
      {
       "output_type": "stream",
       "stream": "stdout",
       "text": [
        "\n",
        "19_kollektiv1_AS.jpg"
       ]
      },
      {
       "output_type": "stream",
       "stream": "stdout",
       "text": [
        " 1955\n",
        "19-kollektiv1-AS.jpg"
       ]
      },
      {
       "output_type": "stream",
       "stream": "stdout",
       "text": [
        "\n",
        "20_Jus_takras_01_SS.jpg"
       ]
      },
      {
       "output_type": "stream",
       "stream": "stdout",
       "text": [
        " 1956\n",
        "20-Jus-takras-01-SS.jpg"
       ]
      },
      {
       "output_type": "stream",
       "stream": "stdout",
       "text": [
        "\n",
        "20_Oppf_bflg.UB-sak03_SS.jpg"
       ]
      },
      {
       "output_type": "stream",
       "stream": "stdout",
       "text": [
        " 1957\n",
        "20-Oppf-bflg.UB-sak03-SS.jpg"
       ]
      },
      {
       "output_type": "stream",
       "stream": "stdout",
       "text": [
        "\n",
        "20Cristensen__LiseArkiv.jpg"
       ]
      },
      {
       "output_type": "stream",
       "stream": "stdout",
       "text": [
        " 1959\n",
        "20Cristensen-LiseArkiv.jpg"
       ]
      },
      {
       "output_type": "stream",
       "stream": "stdout",
       "text": [
        "\n",
        "20_Oppf_bflg.privatist02_SS.jpg"
       ]
      },
      {
       "output_type": "stream",
       "stream": "stdout",
       "text": [
        " 1960\n",
        "20-Oppf-bflg.privatist02-SS.jpg"
       ]
      },
      {
       "output_type": "stream",
       "stream": "stdout",
       "text": [
        "\n",
        "20_spansk.IS.jpg"
       ]
      },
      {
       "output_type": "stream",
       "stream": "stdout",
       "text": [
        " 1961\n",
        "20-spansk.IS.jpg"
       ]
      },
      {
       "output_type": "stream",
       "stream": "stdout",
       "text": [
        "\n",
        "21_tyskmedisin1ED.jpg"
       ]
      },
      {
       "output_type": "stream",
       "stream": "stdout",
       "text": [
        " 1962\n",
        "21-tyskmedisin1ED.jpg"
       ]
      },
      {
       "output_type": "stream",
       "stream": "stdout",
       "text": [
        "\n",
        "21_overv_8ckning02_CT.jpg"
       ]
      },
      {
       "output_type": "stream",
       "stream": "stdout",
       "text": [
        " 1963\n",
        "21-overv-8ckning02-CT.jpg"
       ]
      },
      {
       "output_type": "stream",
       "stream": "stdout",
       "text": [
        "\n",
        "21_doktorgrad_KRN.jpg"
       ]
      },
      {
       "output_type": "stream",
       "stream": "stdout",
       "text": [
        " 1964\n",
        "21-doktorgrad-KRN.jpg"
       ]
      },
      {
       "output_type": "stream",
       "stream": "stdout",
       "text": [
        "\n",
        "21_Heis_KRN.jpg"
       ]
      },
      {
       "output_type": "stream",
       "stream": "stdout",
       "text": [
        " 1965\n",
        "21-Heis-KRN.jpg"
       ]
      },
      {
       "output_type": "stream",
       "stream": "stdout",
       "text": [
        "\n",
        "21_kvotering_vet_01_CT.jpg"
       ]
      },
      {
       "output_type": "stream",
       "stream": "stdout",
       "text": [
        " 1966\n",
        "21-kvotering-vet-01-CT.jpg"
       ]
      },
      {
       "output_type": "stream",
       "stream": "stdout",
       "text": [
        "\n",
        "21_Mikrobygg_KRN.jpg"
       ]
      },
      {
       "output_type": "stream",
       "stream": "stdout",
       "text": [
        " 1967\n",
        "21-Mikrobygg-KRN.jpg"
       ]
      },
      {
       "output_type": "stream",
       "stream": "stdout",
       "text": [
        "\n",
        "22kvalitetssik1_CT.jpg"
       ]
      },
      {
       "output_type": "stream",
       "stream": "stdout",
       "text": [
        " 1968\n",
        "22kvalitetssik1-CT.jpg"
       ]
      },
      {
       "output_type": "stream",
       "stream": "stdout",
       "text": [
        "\n",
        "22Eksamen1ED.jpg"
       ]
      },
      {
       "output_type": "stream",
       "stream": "stdout",
       "text": [
        " 1969\n",
        "22Eksamen1ED.jpg\n",
        "22Karita-B.-Orheim_arkiv.jpg"
       ]
      },
      {
       "output_type": "stream",
       "stream": "stdout",
       "text": [
        " 1970\n",
        "22Karita-B.-Orheim-arkiv.jpg"
       ]
      },
      {
       "output_type": "stream",
       "stream": "stdout",
       "text": [
        "\n",
        "22trond_enger.jpg"
       ]
      },
      {
       "output_type": "stream",
       "stream": "stdout",
       "text": [
        " 1971\n",
        "22trond-enger.jpg"
       ]
      },
      {
       "output_type": "stream",
       "stream": "stdout",
       "text": [
        "\n",
        "22_portalen3_CT.jpg"
       ]
      },
      {
       "output_type": "stream",
       "stream": "stdout",
       "text": [
        " 1972\n",
        "22-portalen3-CT.jpg"
       ]
      },
      {
       "output_type": "stream",
       "stream": "stdout",
       "text": [
        "\n",
        "22Forland2ED.jpg"
       ]
      },
      {
       "output_type": "stream",
       "stream": "stdout",
       "text": [
        " 1973\n",
        "22Forland2ED.jpg\n",
        "22_fusk1_CT.jpg"
       ]
      },
      {
       "output_type": "stream",
       "stream": "stdout",
       "text": [
        " 1974\n",
        "22-fusk1-CT.jpg"
       ]
      },
      {
       "output_type": "stream",
       "stream": "stdout",
       "text": [
        "\n",
        "22_kopipenger_2_CT.jpg"
       ]
      },
      {
       "output_type": "stream",
       "stream": "stdout",
       "text": [
        " 1975\n",
        "22-kopipenger-2-CT.jpg"
       ]
      },
      {
       "output_type": "stream",
       "stream": "stdout",
       "text": [
        "\n",
        "22Menneskevev1AJ.jpg"
       ]
      },
      {
       "output_type": "stream",
       "stream": "stdout",
       "text": [
        " 1976\n",
        "22Menneskevev1AJ.jpg\n",
        "23_idrett_AS.jpg"
       ]
      },
      {
       "output_type": "stream",
       "stream": "stdout",
       "text": [
        " 1977\n",
        "23-idrett-AS.jpg"
       ]
      },
      {
       "output_type": "stream",
       "stream": "stdout",
       "text": [
        "\n",
        "23_Purring_sirkel_KRN.jpg"
       ]
      },
      {
       "output_type": "stream",
       "stream": "stdout",
       "text": [
        " 1978\n",
        "23-Purring-sirkel-KRN.jpg"
       ]
      },
      {
       "output_type": "stream",
       "stream": "stdout",
       "text": [
        "\n",
        "23_Harlem.jpg"
       ]
      },
      {
       "output_type": "stream",
       "stream": "stdout",
       "text": [
        " 1979\n",
        "23-Harlem.jpg"
       ]
      },
      {
       "output_type": "stream",
       "stream": "stdout",
       "text": [
        "\n",
        "23_studier_og_jobb1.IS.jpg"
       ]
      },
      {
       "output_type": "stream",
       "stream": "stdout",
       "text": [
        " 1980\n",
        "23-studier-og-jobb1.IS.jpg"
       ]
      },
      {
       "output_type": "stream",
       "stream": "stdout",
       "text": [
        "\n",
        "23_Loddtrekning_psyko_IS.jpg"
       ]
      },
      {
       "output_type": "stream",
       "stream": "stdout",
       "text": [
        " 1981\n",
        "23-Loddtrekning-psyko-IS.jpg\n",
        "23_UB-tak_igjen_KRN.jpg"
       ]
      },
      {
       "output_type": "stream",
       "stream": "stdout",
       "text": [
        " 1982\n",
        "23-UB-tak-igjen-KRN.jpg"
       ]
      },
      {
       "output_type": "stream",
       "stream": "stdout",
       "text": [
        "\n",
        "04nasjonalbibl.jpg"
       ]
      },
      {
       "output_type": "stream",
       "stream": "stdout",
       "text": [
        " 1983\n",
        "04nasjonalbibl.jpg\n",
        "24_Funksjonshemmet_KRN.jpg"
       ]
      },
      {
       "output_type": "stream",
       "stream": "stdout",
       "text": [
        " 1984\n",
        "24-Funksjonshemmet-KRN.jpg"
       ]
      },
      {
       "output_type": "stream",
       "stream": "stdout",
       "text": [
        "\n",
        "24_Bosseaksjon_01_SS.jpg"
       ]
      },
      {
       "output_type": "stream",
       "stream": "stdout",
       "text": [
        " 1985\n",
        "24-Bosseaksjon-01-SS.jpg"
       ]
      },
      {
       "output_type": "stream",
       "stream": "stdout",
       "text": [
        "\n",
        "24Kvalitetslista1ED.jpg"
       ]
      },
      {
       "output_type": "stream",
       "stream": "stdout",
       "text": [
        " 1986\n",
        "24Kvalitetslista1ED.jpg\n",
        "24_likestilling_01_LF.jpg"
       ]
      },
      {
       "output_type": "stream",
       "stream": "stdout",
       "text": [
        " 1987\n",
        "24-likestilling-01-LF.jpg\n",
        "24demo_01LF.jpg"
       ]
      },
      {
       "output_type": "stream",
       "stream": "stdout",
       "text": [
        " 1988\n",
        "24demo-01LF.jpg"
       ]
      },
      {
       "output_type": "stream",
       "stream": "stdout",
       "text": [
        "\n",
        "24Fastrente2ED.jpg"
       ]
      },
      {
       "output_type": "stream",
       "stream": "stdout",
       "text": [
        " 1989\n",
        "24Fastrente2ED.jpg\n",
        "24-australsk-AJ.jpg"
       ]
      },
      {
       "output_type": "stream",
       "stream": "stdout",
       "text": [
        " 1990\n",
        "24-australsk-AJ.jpg\n",
        "24_veterinar_LF.jpg"
       ]
      },
      {
       "output_type": "stream",
       "stream": "stdout",
       "text": [
        " 1991\n",
        "24-veterinar-LF.jpg"
       ]
      },
      {
       "output_type": "stream",
       "stream": "stdout",
       "text": [
        "\n",
        "25_bergensstudenter1.IS.jpg"
       ]
      },
      {
       "output_type": "stream",
       "stream": "stdout",
       "text": [
        " 1992\n",
        "25-bergensstudenter1.IS.jpg"
       ]
      },
      {
       "output_type": "stream",
       "stream": "stdout",
       "text": [
        "\n",
        "25_psykologisensur_org_KRN.jpg"
       ]
      },
      {
       "output_type": "stream",
       "stream": "stdout",
       "text": [
        " 1993\n",
        "25-psykologisensur-org-KRN.jpg"
       ]
      },
      {
       "output_type": "stream",
       "stream": "stdout",
       "text": [
        "\n",
        "25_frankrike_02_LF_.jpg"
       ]
      },
      {
       "output_type": "stream",
       "stream": "stdout",
       "text": [
        " 1994\n",
        "25-frankrike-02-LF.jpg"
       ]
      },
      {
       "output_type": "stream",
       "stream": "stdout",
       "text": [
        "\n",
        "25_Clemet_2.jpg"
       ]
      },
      {
       "output_type": "stream",
       "stream": "stdout",
       "text": [
        " 1995\n",
        "25-Clemet-2.jpg"
       ]
      },
      {
       "output_type": "stream",
       "stream": "stdout",
       "text": [
        "\n",
        "25_hittegods_01_KRN.jpg"
       ]
      },
      {
       "output_type": "stream",
       "stream": "stdout",
       "text": [
        " 1996\n",
        "25-hittegods-01-KRN.jpg\n",
        "25_Kantine_KRN.jpg"
       ]
      },
      {
       "output_type": "stream",
       "stream": "stdout",
       "text": [
        " 1997\n",
        "25-Kantine-KRN.jpg"
       ]
      },
      {
       "output_type": "stream",
       "stream": "stdout",
       "text": [
        "\n",
        "25_Viggo_Hagstrom_KRN.jpg"
       ]
      },
      {
       "output_type": "stream",
       "stream": "stdout",
       "text": [
        " 1998\n",
        "25-Viggo-Hagstrom-KRN.jpg"
       ]
      },
      {
       "output_type": "stream",
       "stream": "stdout",
       "text": [
        "\n",
        "26Arabisk1AJ.jpg"
       ]
      },
      {
       "output_type": "stream",
       "stream": "stdout",
       "text": [
        " 1999\n",
        "26Arabisk1AJ.jpg\n",
        "26_far_ikke_mail.jpg"
       ]
      },
      {
       "output_type": "stream",
       "stream": "stdout",
       "text": [
        " 2000\n",
        "26-far-ikke-mail.jpg\n",
        "26_kringsja_pub_01_LF_.jpg"
       ]
      },
      {
       "output_type": "stream",
       "stream": "stdout",
       "text": [
        " 2001\n",
        "26-kringsja-pub-01-LF.jpg"
       ]
      },
      {
       "output_type": "stream",
       "stream": "stdout",
       "text": [
        "\n",
        "26leringssenter1ED.jpg"
       ]
      },
      {
       "output_type": "stream",
       "stream": "stdout",
       "text": [
        " 2002\n",
        "26leringssenter1ED.jpg\n",
        "26_smoring_vetriner_2_AJ.jpg"
       ]
      },
      {
       "output_type": "stream",
       "stream": "stdout",
       "text": [
        " 2003\n",
        "26-smoring-vetriner-2-AJ.jpg"
       ]
      },
      {
       "output_type": "stream",
       "stream": "stdout",
       "text": [
        "\n",
        "26Spanskdame1ED.jpg"
       ]
      },
      {
       "output_type": "stream",
       "stream": "stdout",
       "text": [
        " 2004\n",
        "26Spanskdame1ED.jpg\n",
        "27_forside_printer.jpg"
       ]
      },
      {
       "output_type": "stream",
       "stream": "stdout",
       "text": [
        " 2005\n",
        "27-forside-printer.jpg"
       ]
      },
      {
       "output_type": "stream",
       "stream": "stdout",
       "text": [
        "\n",
        "27-frp-ungdomsgruppe.jpg"
       ]
      },
      {
       "output_type": "stream",
       "stream": "stdout",
       "text": [
        " 2006\n",
        "27-frp-ungdomsgruppe.jpg\n",
        "27_Moderat_oppmote.jpg"
       ]
      },
      {
       "output_type": "stream",
       "stream": "stdout",
       "text": [
        " 2007\n",
        "27-Moderat-oppmote.jpg\n",
        "27_Una_Rygg_IS.jpg"
       ]
      },
      {
       "output_type": "stream",
       "stream": "stdout",
       "text": [
        " 2008\n",
        "27-Una-Rygg-IS.jpg"
       ]
      },
      {
       "output_type": "stream",
       "stream": "stdout",
       "text": [
        "\n",
        "27_Lerf_Nicolaysen_KRN.jpg"
       ]
      },
      {
       "output_type": "stream",
       "stream": "stdout",
       "text": [
        " 2009\n",
        "27-Lerf-Nicolaysen-KRN.jpg\n",
        "27_obduksjon_01_KRN.jpg"
       ]
      },
      {
       "output_type": "stream",
       "stream": "stdout",
       "text": [
        " 2010\n",
        "27-obduksjon-01-KRN.jpg"
       ]
      },
      {
       "output_type": "stream",
       "stream": "stdout",
       "text": [
        "\n",
        "28_Myhra_Bokbinder_01_KRN.jpg"
       ]
      },
      {
       "output_type": "stream",
       "stream": "stdout",
       "text": [
        " 2011\n",
        "28-Myhra-Bokbinder-01-KRN.jpg"
       ]
      },
      {
       "output_type": "stream",
       "stream": "stdout",
       "text": [
        "\n",
        "28nokutflyktninger01ct.jpg"
       ]
      },
      {
       "output_type": "stream",
       "stream": "stdout",
       "text": [
        " 2012\n",
        "28nokutflyktninger01ct.jpg\n",
        "28Studiekomp2ED.jpg"
       ]
      },
      {
       "output_type": "stream",
       "stream": "stdout",
       "text": [
        " 2013\n",
        "28Studiekomp2ED.jpg\n",
        "28_Biologi_01_KRN.jpg"
       ]
      },
      {
       "output_type": "stream",
       "stream": "stdout",
       "text": [
        " 2014\n",
        "28-Biologi-01-KRN.jpg"
       ]
      },
      {
       "output_type": "stream",
       "stream": "stdout",
       "text": [
        "\n",
        "28_konteeksamen3.IS.jpg"
       ]
      },
      {
       "output_type": "stream",
       "stream": "stdout",
       "text": [
        " 2015\n",
        "28-konteeksamen3.IS.jpg"
       ]
      },
      {
       "output_type": "stream",
       "stream": "stdout",
       "text": [
        "\n",
        "28Jodehets4ED.jpg"
       ]
      },
      {
       "output_type": "stream",
       "stream": "stdout",
       "text": [
        " 2016\n",
        "28Jodehets4ED.jpg\n",
        "28kvinnerlaverelan.2_copy.jpg"
       ]
      },
      {
       "output_type": "stream",
       "stream": "stdout",
       "text": [
        " 2017\n",
        "28kvinnerlaverelan.2-copy.jpg\n",
        "28_natfak_AJ.jpg"
       ]
      },
      {
       "output_type": "stream",
       "stream": "stdout",
       "text": [
        " 2018\n",
        "28-natfak-AJ.jpg"
       ]
      },
      {
       "output_type": "stream",
       "stream": "stdout",
       "text": [
        "\n",
        "28student.no1.jpg"
       ]
      },
      {
       "output_type": "stream",
       "stream": "stdout",
       "text": [
        " 2019\n",
        "28student.no1.jpg\n",
        "29_Med-stud_02_SS.jpg"
       ]
      },
      {
       "output_type": "stream",
       "stream": "stdout",
       "text": [
        " 2020\n",
        "29-Med-stud-02-SS.jpg"
       ]
      },
      {
       "output_type": "stream",
       "stream": "stdout",
       "text": [
        "\n",
        "29_Kinesisk_02_KRN.jpg"
       ]
      },
      {
       "output_type": "stream",
       "stream": "stdout",
       "text": [
        " 2021\n",
        "29-Kinesisk-02-KRN.jpg"
       ]
      },
      {
       "output_type": "stream",
       "stream": "stdout",
       "text": [
        "\n",
        "29_Inge_L_01_SS.jpg"
       ]
      },
      {
       "output_type": "stream",
       "stream": "stdout",
       "text": [
        " 2022\n",
        "29-Inge-L-01-SS.jpg"
       ]
      },
      {
       "output_type": "stream",
       "stream": "stdout",
       "text": [
        "\n",
        "29_HUMPRO_KRN_org.jpg"
       ]
      },
      {
       "output_type": "stream",
       "stream": "stdout",
       "text": [
        " 2024\n",
        "29-HUMPRO-KRN-org.jpg"
       ]
      },
      {
       "output_type": "stream",
       "stream": "stdout",
       "text": [
        "\n",
        "29_operasjon_kvakk_01_KRN.jpg"
       ]
      },
      {
       "output_type": "stream",
       "stream": "stdout",
       "text": [
        " 2025\n",
        "29-operasjon-kvakk-01-KRN.jpg"
       ]
      },
      {
       "output_type": "stream",
       "stream": "stdout",
       "text": [
        "\n",
        "29_Likestilling_01_SS_org.jpg"
       ]
      },
      {
       "output_type": "stream",
       "stream": "stdout",
       "text": [
        " 2026\n",
        "29-Likestilling-01-SS-org.jpg\n",
        "29_Gauss2ED.jpg"
       ]
      },
      {
       "output_type": "stream",
       "stream": "stdout",
       "text": [
        " 2027\n",
        "29-Gauss2ED.jpg"
       ]
      },
      {
       "output_type": "stream",
       "stream": "stdout",
       "text": [
        "\n",
        "30Eksamensrot03.jpg"
       ]
      },
      {
       "output_type": "stream",
       "stream": "stdout",
       "text": [
        " 2028\n",
        "30Eksamensrot03.jpg\n",
        "30Gammelstud1ED.jpg"
       ]
      },
      {
       "output_type": "stream",
       "stream": "stdout",
       "text": [
        " 2029\n",
        "30Gammelstud1ED.jpg\n",
        "30_journalistikkstud1ny.IS.jpg"
       ]
      },
      {
       "output_type": "stream",
       "stream": "stdout",
       "text": [
        " 2030\n",
        "30-journalistikkstud1ny.IS.jpg\n",
        "Kiropraktor2ED.jpg"
       ]
      },
      {
       "output_type": "stream",
       "stream": "stdout",
       "text": [
        " 2031\n",
        "Kiropraktor2ED.jpg\n",
        "29skosak1CT.jpg"
       ]
      },
      {
       "output_type": "stream",
       "stream": "stdout",
       "text": [
        " 2032\n",
        "29skosak1CT.jpg\n",
        "30kuttistipend1KRN.jpg"
       ]
      },
      {
       "output_type": "stream",
       "stream": "stdout",
       "text": [
        " 2033\n",
        "30kuttistipend1KRN.jpg\n",
        "31_integrering_2_AJ.jpg"
       ]
      },
      {
       "output_type": "stream",
       "stream": "stdout",
       "text": [
        " 2034\n",
        "31-integrering-2-AJ.jpg"
       ]
      },
      {
       "output_type": "stream",
       "stream": "stdout",
       "text": [
        "\n",
        "31_Clemma.jpg"
       ]
      },
      {
       "output_type": "stream",
       "stream": "stdout",
       "text": [
        " 2035\n",
        "31-Clemma.jpg"
       ]
      },
      {
       "output_type": "stream",
       "stream": "stdout",
       "text": [
        "\n",
        "31_eu_leder_2_AJ.jpg"
       ]
      },
      {
       "output_type": "stream",
       "stream": "stdout",
       "text": [
        " 2036\n",
        "31-eu-leder-2-AJ.jpg"
       ]
      },
      {
       "output_type": "stream",
       "stream": "stdout",
       "text": [
        "\n",
        "31_Hanne_Krogh_KRN.jpg"
       ]
      },
      {
       "output_type": "stream",
       "stream": "stdout",
       "text": [
        " 2037\n",
        "31-Hanne-Krogh-KRN.jpg"
       ]
      },
      {
       "output_type": "stream",
       "stream": "stdout",
       "text": [
        "\n",
        "31_tannhelse_021_KRN.jpg"
       ]
      },
      {
       "output_type": "stream",
       "stream": "stdout",
       "text": [
        " 2038\n",
        "31-tannhelse-021-KRN.jpg"
       ]
      },
      {
       "output_type": "stream",
       "stream": "stdout",
       "text": [
        "\n"
       ]
      }
     ],
     "prompt_number": 5
    },
    {
     "cell_type": "code",
     "collapsed": false,
     "input": [
      "def opencv_image(self, size=400, grayscale=True):\n",
      "        \"\"\" Convert ImageFile into a cv2 image for image processing. \"\"\"\n",
      "        filename = self.source_file.file.name\n",
      "        color_mode = cv2.IMREAD_GRAYSCALE if grayscale else cv2.IMREAD_UNCHANGED\n",
      "        cv2img = cv2.imread(filename, color_mode)\n",
      "\n",
      "        self.source_file.close()  # cv2 doesn't close the file for some reason.\n",
      "\n",
      "        width, height = cv2img.shape[0], cv2img.shape[1]\n",
      "        if width > height:\n",
      "            height, width = size * height // width, size\n",
      "        else:\n",
      "            height, width = size, size * width // height\n",
      "\n",
      "        cv2img = cv2.resize(cv2img, (height, width))\n",
      "        # if grayscale:\n",
      "            # cv2img = cv2.cvtColor(cv2img, cv2.COLOR_BGR2GRAY)\n",
      "        return cv2img\n",
      "\n",
      "from PIL import Image\n",
      "\n",
      "def gif_to_png(self)\n",
      "\n",
      "im = Image.open('icon.gif')\n",
      "transparency = im.info['transparency'] \n",
      "im .save('icon.png', transparency=transparency)\n",
      "    \n",
      "ImageFile.opencv_image = opencv_image\n",
      "img = ImageFile.objects.get(pk=559)\n",
      "filename = img.source_file.file.name\n",
      "\n",
      "cv2.imread?"
     ],
     "language": "python",
     "metadata": {},
     "outputs": [],
     "prompt_number": 21
    },
    {
     "cell_type": "code",
     "collapsed": false,
     "input": [
      "from PIL import Image\n",
      "\n",
      "\n",
      "def slugify_filename(self):\n",
      "    \"\"\" rename source file if needed. Also convert gif to png \"\"\"\n",
      "    slugify = Slugify(safe_chars='.')\n",
      "    try:\n",
      "        old_path = self.source_file.path\n",
      "\n",
      "    except FileNotFoundError as e:\n",
      "        old_path = os.path.join(\n",
      "            self.source_file.storage.location, self.old_file_path)\n",
      "\n",
      "    folder, filename = os.path.split(old_path)\n",
      "    new_filename = slugify(filename).replace('-.', '.')\n",
      "    new_path = os.path.join(folder, new_filename)\n",
      "    if new_path.endswith('.gif'):\n",
      "        new_path = new_path.replace('.gif', '.png')\n",
      "        im = Image.open(old_path)\n",
      "        #transparency = im.info['transparency'] \n",
      "        im.save(new_path)\n",
      "        self.source_file = new_path.replace(self.source_file.storage.location,'').strip('/')\n",
      "        self.save()\n",
      "        \n",
      "\n",
      "    elif old_path != new_path:\n",
      "        if not os.path.exists(new_path):\n",
      "            os.rename(old_path, new_path)\n",
      "        self.source_file = new_path.replace(self.source_file.storage.location,'').strip('/')\n",
      "        # logger.debug('changed file name to {}'.format(new_filename))\n",
      "        self.save()\n",
      "\n",
      "        \n",
      "ImageFile.slugify_filename = slugify_filename\n",
      "img = ImageFile.objects.get(pk=559)\n",
      "#pilimg = Image.open(img.source_file.file.name)\n",
      "img.slugify_filename()\n"
     ],
     "language": "python",
     "metadata": {},
     "outputs": [],
     "prompt_number": 8
    },
    {
     "cell_type": "code",
     "collapsed": false,
     "input": [
      "img.source_file.path"
     ],
     "language": "python",
     "metadata": {},
     "outputs": [
      {
       "metadata": {},
       "output_type": "pyout",
       "prompt_number": 7,
       "text": [
        "'/srv/fotoarkiv_universitas/2001/28/28-pcb-3-mt.jpg'"
       ]
      }
     ],
     "prompt_number": 7
    },
    {
     "cell_type": "code",
     "collapsed": false,
     "input": [
      "img.source_file.storage.location"
     ],
     "language": "python",
     "metadata": {},
     "outputs": [
      {
       "metadata": {},
       "output_type": "pyout",
       "prompt_number": 55,
       "text": [
        "'/srv/fotoarkiv_universitas'"
       ]
      }
     ],
     "prompt_number": 55
    },
    {
     "cell_type": "code",
     "collapsed": false,
     "input": [
      "new_path"
     ],
     "language": "python",
     "metadata": {},
     "outputs": [
      {
       "metadata": {},
       "output_type": "pyout",
       "prompt_number": 24,
       "text": [
        "'/srv/fotoarkiv_universitas/2014/02/02-NYH-stipendsak-SiljeSandmael-DNB-jpg'"
       ]
      }
     ],
     "prompt_number": 24
    },
    {
     "cell_type": "code",
     "collapsed": false,
     "input": [
      "import os"
     ],
     "language": "python",
     "metadata": {},
     "outputs": [],
     "prompt_number": 25
    },
    {
     "cell_type": "code",
     "collapsed": false,
     "input": [
      "os."
     ],
     "language": "python",
     "metadata": {},
     "outputs": []
    }
   ],
   "metadata": {}
  }
 ]
}