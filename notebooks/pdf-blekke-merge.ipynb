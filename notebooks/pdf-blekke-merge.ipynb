{
 "cells": [
  {
   "cell_type": "code",
   "execution_count": 1,
   "metadata": {
    "collapsed": false
   },
   "outputs": [],
   "source": [
    "from io import BytesIO\n",
    "\n",
    "from IPython.core import display\n",
    "from PIL import Image\n",
    "\n",
    "# Installed apps\n",
    "from PyPDF2 import PdfFileReader\n",
    "from sorl.thumbnail import ImageField\n",
    "from wand.image import Image as WandImage\n",
    "from wand.color import Color\n",
    "import os.path\n",
    "# Project apps\n",
    "\n",
    "def display_pil_image(im):\n",
    "   \"\"\"Displayhook function for PIL Images, rendered as PNG.\"\"\"\n",
    "\n",
    "   b = BytesIO()\n",
    "   im.save(b, format='png')\n",
    "   data = b.getvalue()\n",
    "   ip_img = display.Image(data=data, format='png', embed=True)\n",
    "   return ip_img._repr_png_()\n",
    "\n",
    "\n",
    "# register display func with PNG formatter:\n",
    "png_formatter = get_ipython().display_formatter.formatters['image/png']\n",
    "dpi = png_formatter.for_type(Image.Image, display_pil_image)"
   ]
  },
  {
   "cell_type": "code",
   "execution_count": 2,
   "metadata": {
    "collapsed": false
   },
   "outputs": [],
   "source": [
    "import os\n",
    "from glob import glob\n",
    "from datetime import datetime\n",
    "from django.conf import settings\n",
    "from django.core.files.base import ContentFile\n",
    "from apps.issues.models import PrintIssue, current_issue\n",
    "\n",
    "PDF_STAGING = os.path.join(settings.STAGING_ROOT, 'STAGING', 'PDF')\n",
    "PDF_FOLDER = os.path.join(settings.STAGING_ROOT, 'pdf')\n",
    "FILENAME_PATTERN = 'universitas_{issue.date.year}-{issue.number}{suffix}.pdf'\n",
    "\n",
    "def get_staging_pdf_files(magazine='1'):\n",
    "    globpattern = '{folder}/UNI1{version}VER*.pdf'.format(\n",
    "        folder=PDF_STAGING,\n",
    "        version=magazine,\n",
    "    )\n",
    "    all_files = glob(globpattern)\n",
    "    new_files = []\n",
    "    for pdf_file in all_files:\n",
    "        age = datetime.now() - \\\n",
    "            datetime.fromtimestamp(os.path.getctime(pdf_file))\n",
    "        if age.days > 4:\n",
    "            os.remove(pdf_file)\n",
    "        else:\n",
    "            new_files.append(pdf_file)\n",
    "    return sorted(new_files)\n",
    "\n",
    "pdf_files = get_staging_pdf_files()"
   ]
  },
  {
   "cell_type": "code",
   "execution_count": 16,
   "metadata": {
    "collapsed": false
   },
   "outputs": [
    {
     "name": "stdout",
     "output_type": "stream",
     "text": [
      "['/tmp/user/1000/a2a512c16b1a055f467655e3c366a2e27d72e7bbe1f9258407768ced70d00bb7.UNI11VER16090201000.pdf', '/tmp/user/1000/14c75687cb83300e15913e3e7dd71e812ca8e99473f65e3e2393a0c631ccba7a.UNI11VER16090202000.pdf', '/tmp/user/1000/513b29826f962aa698f384ff5044a08a6672a1f2f5c7b5910d690d328d87ec7d.UNI11VER16090203000.pdf', '/tmp/user/1000/9ea333f600ea733f95d2554777ee90ec12c3b9e7b45b0254a120c807dec20ef8.UNI11VER16090204000.pdf', '/tmp/user/1000/99bdd3bd5c8a6aa0d2d2d265d1977ff8f1c3671cb1c97d39b132908ff52f11ae.UNI11VER16090205000.pdf', '/tmp/user/1000/a2a3eb5018202a6e98ee037ec914ede9e0e88eabf2db29e76bb3a4274cf2c149.UNI11VER16090206000.pdf', '/tmp/user/1000/eb3adedad63027a744331dc6361539d2382063111a8819def92819de5a93e90b.UNI11VER16090207000.pdf', '/tmp/user/1000/1f58e4202e5f6be8af8115e7ba134b91d16de4cb15ca01126e76e9ecd43923a3.UNI11VER16090208000.pdf', '/tmp/user/1000/514cbded51caf57e1babaf43ef0dfc91a1d57619ba0669a1ec151fa24ba1fdb0.UNI11VER16090209000.pdf', '/tmp/user/1000/b7ab3888f39bf15fd7531787f8cb33abe95e6c310a650304b9c6a1b4a9c92b86.UNI11VER16090210000.pdf', '/tmp/user/1000/aad32d648f1f149a06fc42494ce649c6461a9cad321a5a346be403ebeb0d4552.UNI11VER16090211000.pdf', '/tmp/user/1000/193fce6a0e53b42ea80123ec5f2fa836b51dba9dbafdd7e56cbb0d1e1aa501dd.UNI11VER16090212000.pdf', '/tmp/user/1000/086e0a8e89f84081a64f6731b2708df7adeb0ad0791b733b2efb44a4b5f7ebbf.UNI11VER16090213000.pdf', '/tmp/user/1000/6be2b04229ceb558374cb9ba71217045ad7b4d41514766fbdc25bb4ca712388c.UNI11VER16090214000.pdf', '/tmp/user/1000/9c198f82dd702467491bcdfe295a49aa26878cccab4cd2b786e30784ca184bb0.UNI11VER16090215000.pdf', '/tmp/user/1000/d2eb4c088aeab804005830957b8adcb5ab322146d0184eb990d6d0ab7d9db43a.UNI11VER16090216000.pdf', '/tmp/user/1000/e462b80ba68913c643018447e7dcdecce1d14b7bc9dde58653a836e93dba663f.UNI11VER16090217000.pdf', '/tmp/user/1000/50d6ee9cf40b28008da85029a07684679ea81bc54fd38bf08cd49096270f67aa.UNI11VER16090218000.pdf', '/tmp/user/1000/d3918e44b93e5167cc67c6de8f849fbd18431c9ac93efd87b7cec3f75a72b63b.UNI11VER16090219000.pdf', '/tmp/user/1000/6dc9b8e8198073f4b479d97596c3a2adf98f2da5eedfd61055c9535bd23a41a3.UNI11VER16090220000.pdf']\n"
     ]
    }
   ],
   "source": [
    "import subprocess\n",
    "import os\n",
    "import hashlib\n",
    "import tempfile\n",
    "\n",
    "def hash_file(filepath, blocksize=65536):\n",
    "    \"\"\"Hexadecimal sha256 hash of a file stored on local disk\"\"\"\n",
    "    hasher = hashlib.sha256()\n",
    "    with open(filepath, 'rb') as source:\n",
    "        buf = source.read(blocksize)\n",
    "        while len(buf) > 0:\n",
    "            hasher.update(buf)\n",
    "            buf = source.read(blocksize)\n",
    "    return hasher.hexdigest()\n",
    "\n",
    "\n",
    "def tmp_file(filepath):\n",
    "    tmp_dir = tempfile.gettempdir()\n",
    "    filename = os.path.join(\n",
    "        tmp_dir, \n",
    "        hash_file(filepath) + '.' +\n",
    "        os.path.basename(filepath),\n",
    "    )\n",
    "    return filename\n",
    "\n",
    "def optimize_page(input_file):\n",
    "    \"\"\"Compress images and convert to rgb\"\"\"\n",
    "    output_file = tmp_file(input_file)\n",
    "    binary = '/usr/bin/gs'\n",
    "    args = [\n",
    "        binary,\n",
    "        '-dColorConversionStrategy=/sRGB',\n",
    "        '-dColorConversionStrategyForImages=/sRGB',\n",
    "        '-dBATCH',\n",
    "        '-dNOPAUSE',\n",
    "        '-sDEVICE=pdfwrite',\n",
    "        '-dConvertCMYKImagesToRGB=true',\n",
    "        '-dDownsampleColorImages=true',\n",
    "        '-dDownsampleGrayImages=true',\n",
    "        '-dDownsampleMonoImages=true',\n",
    "        '-dColorImageResolution=120',\n",
    "        '-dGrayImageResolution=120',\n",
    "        '-dMonoImageResolution=120',\n",
    "        '-o', output_file,\n",
    "        input_file,\n",
    "    ]\n",
    "    if not os.path.exists(output_file):\n",
    "        subprocess.run(args)\n",
    "    return output_file\n",
    "\n",
    "pages = [optimize_page(pdf) for pdf in pdf_files]\n",
    "print(pages) "
   ]
  },
  {
   "cell_type": "code",
   "execution_count": 18,
   "metadata": {
    "collapsed": false
   },
   "outputs": [
    {
     "name": "stdout",
     "output_type": "stream",
     "text": [
      "./img/a2a512c16b1a055f467655e3c366a2e27d72e7bbe1f9258407768ced70d00bb7.UNI11VER16090201000.pdf.png\n",
      "./img/14c75687cb83300e15913e3e7dd71e812ca8e99473f65e3e2393a0c631ccba7a.UNI11VER16090202000.pdf.png\n",
      "./img/513b29826f962aa698f384ff5044a08a6672a1f2f5c7b5910d690d328d87ec7d.UNI11VER16090203000.pdf.png\n",
      "./img/9ea333f600ea733f95d2554777ee90ec12c3b9e7b45b0254a120c807dec20ef8.UNI11VER16090204000.pdf.png\n",
      "./img/99bdd3bd5c8a6aa0d2d2d265d1977ff8f1c3671cb1c97d39b132908ff52f11ae.UNI11VER16090205000.pdf.png\n",
      "./img/a2a3eb5018202a6e98ee037ec914ede9e0e88eabf2db29e76bb3a4274cf2c149.UNI11VER16090206000.pdf.png\n",
      "./img/eb3adedad63027a744331dc6361539d2382063111a8819def92819de5a93e90b.UNI11VER16090207000.pdf.png\n",
      "./img/1f58e4202e5f6be8af8115e7ba134b91d16de4cb15ca01126e76e9ecd43923a3.UNI11VER16090208000.pdf.png\n",
      "./img/514cbded51caf57e1babaf43ef0dfc91a1d57619ba0669a1ec151fa24ba1fdb0.UNI11VER16090209000.pdf.png\n",
      "./img/b7ab3888f39bf15fd7531787f8cb33abe95e6c310a650304b9c6a1b4a9c92b86.UNI11VER16090210000.pdf.png\n",
      "./img/aad32d648f1f149a06fc42494ce649c6461a9cad321a5a346be403ebeb0d4552.UNI11VER16090211000.pdf.png\n",
      "./img/193fce6a0e53b42ea80123ec5f2fa836b51dba9dbafdd7e56cbb0d1e1aa501dd.UNI11VER16090212000.pdf.png\n",
      "./img/086e0a8e89f84081a64f6731b2708df7adeb0ad0791b733b2efb44a4b5f7ebbf.UNI11VER16090213000.pdf.png\n",
      "./img/6be2b04229ceb558374cb9ba71217045ad7b4d41514766fbdc25bb4ca712388c.UNI11VER16090214000.pdf.png\n",
      "./img/9c198f82dd702467491bcdfe295a49aa26878cccab4cd2b786e30784ca184bb0.UNI11VER16090215000.pdf.png\n",
      "./img/d2eb4c088aeab804005830957b8adcb5ab322146d0184eb990d6d0ab7d9db43a.UNI11VER16090216000.pdf.png\n",
      "./img/e462b80ba68913c643018447e7dcdecce1d14b7bc9dde58653a836e93dba663f.UNI11VER16090217000.pdf.png\n",
      "./img/50d6ee9cf40b28008da85029a07684679ea81bc54fd38bf08cd49096270f67aa.UNI11VER16090218000.pdf.png\n",
      "./img/d3918e44b93e5167cc67c6de8f849fbd18431c9ac93efd87b7cec3f75a72b63b.UNI11VER16090219000.pdf.png\n",
      "./img/6dc9b8e8198073f4b479d97596c3a2adf98f2da5eedfd61055c9535bd23a41a3.UNI11VER16090220000.pdf.png\n"
     ]
    }
   ],
   "source": [
    "# from IPython.display import Image\n",
    "# from wand.exceptions import BlobError\n",
    "# from wand.drawing import Drawing\n",
    "from PyPDF2 import PdfFileWriter, PdfFileReader\n",
    "from io import BytesIO\n",
    "from wand.image import Image as WandImage\n",
    "# from wand.color import Color\n",
    "from PyPDF2 import PdfFileWriter, PdfFileReader\n",
    "\n",
    "def pdf_to_wandimage(pdf):\n",
    "    reader = PdfFileReader(pdf)\n",
    "    writer = PdfFileWriter()\n",
    "    writer.addPage(reader.getPage(0))\n",
    "    outputStream = BytesIO()\n",
    "    writer.write(outputStream)\n",
    "    outputStream.seek(0)\n",
    "    img = WandImage(blob=outputStream, format='pdf', resolution=50)\n",
    "    return img\n",
    "\n",
    "def pdf_to_png(pdf_page):\n",
    "    folder = './img'\n",
    "    os.makedirs(folder, exist_ok=True)\n",
    "    filename = os.path.join(\n",
    "        folder, os.path.basename(pdf_page) + '.png')\n",
    "    print(filename)\n",
    "    if not os.path.exists(filename):\n",
    "        img = pdf_to_wandimage(pdf_page)\n",
    "        img.save(filename=filename)\n",
    "    return filename\n",
    "    \n",
    "images = [pdf_to_png(pdf) for pdf in pages]"
   ]
  },
  {
   "cell_type": "code",
   "execution_count": 19,
   "metadata": {
    "collapsed": false,
    "scrolled": false
   },
   "outputs": [
    {
     "data": {
      "text/html": [
       "<img src=./img/a2a512c16b1a055f467655e3c366a2e27d72e7bbe1f9258407768ced70d00bb7.UNI11VER16090201000.pdf.png style=\"display: inline-block; width: 20%;\" />\n",
       "<img src=./img/14c75687cb83300e15913e3e7dd71e812ca8e99473f65e3e2393a0c631ccba7a.UNI11VER16090202000.pdf.png style=\"display: inline-block; width: 20%;\" />\n",
       "<img src=./img/513b29826f962aa698f384ff5044a08a6672a1f2f5c7b5910d690d328d87ec7d.UNI11VER16090203000.pdf.png style=\"display: inline-block; width: 20%;\" />\n",
       "<img src=./img/9ea333f600ea733f95d2554777ee90ec12c3b9e7b45b0254a120c807dec20ef8.UNI11VER16090204000.pdf.png style=\"display: inline-block; width: 20%;\" />\n",
       "<img src=./img/99bdd3bd5c8a6aa0d2d2d265d1977ff8f1c3671cb1c97d39b132908ff52f11ae.UNI11VER16090205000.pdf.png style=\"display: inline-block; width: 20%;\" />\n",
       "<img src=./img/a2a3eb5018202a6e98ee037ec914ede9e0e88eabf2db29e76bb3a4274cf2c149.UNI11VER16090206000.pdf.png style=\"display: inline-block; width: 20%;\" />\n",
       "<img src=./img/eb3adedad63027a744331dc6361539d2382063111a8819def92819de5a93e90b.UNI11VER16090207000.pdf.png style=\"display: inline-block; width: 20%;\" />\n",
       "<img src=./img/1f58e4202e5f6be8af8115e7ba134b91d16de4cb15ca01126e76e9ecd43923a3.UNI11VER16090208000.pdf.png style=\"display: inline-block; width: 20%;\" />\n",
       "<img src=./img/514cbded51caf57e1babaf43ef0dfc91a1d57619ba0669a1ec151fa24ba1fdb0.UNI11VER16090209000.pdf.png style=\"display: inline-block; width: 20%;\" />\n",
       "<img src=./img/b7ab3888f39bf15fd7531787f8cb33abe95e6c310a650304b9c6a1b4a9c92b86.UNI11VER16090210000.pdf.png style=\"display: inline-block; width: 20%;\" />\n",
       "<img src=./img/aad32d648f1f149a06fc42494ce649c6461a9cad321a5a346be403ebeb0d4552.UNI11VER16090211000.pdf.png style=\"display: inline-block; width: 20%;\" />\n",
       "<img src=./img/193fce6a0e53b42ea80123ec5f2fa836b51dba9dbafdd7e56cbb0d1e1aa501dd.UNI11VER16090212000.pdf.png style=\"display: inline-block; width: 20%;\" />\n",
       "<img src=./img/086e0a8e89f84081a64f6731b2708df7adeb0ad0791b733b2efb44a4b5f7ebbf.UNI11VER16090213000.pdf.png style=\"display: inline-block; width: 20%;\" />\n",
       "<img src=./img/6be2b04229ceb558374cb9ba71217045ad7b4d41514766fbdc25bb4ca712388c.UNI11VER16090214000.pdf.png style=\"display: inline-block; width: 20%;\" />\n",
       "<img src=./img/9c198f82dd702467491bcdfe295a49aa26878cccab4cd2b786e30784ca184bb0.UNI11VER16090215000.pdf.png style=\"display: inline-block; width: 20%;\" />\n",
       "<img src=./img/d2eb4c088aeab804005830957b8adcb5ab322146d0184eb990d6d0ab7d9db43a.UNI11VER16090216000.pdf.png style=\"display: inline-block; width: 20%;\" />\n",
       "<img src=./img/e462b80ba68913c643018447e7dcdecce1d14b7bc9dde58653a836e93dba663f.UNI11VER16090217000.pdf.png style=\"display: inline-block; width: 20%;\" />\n",
       "<img src=./img/50d6ee9cf40b28008da85029a07684679ea81bc54fd38bf08cd49096270f67aa.UNI11VER16090218000.pdf.png style=\"display: inline-block; width: 20%;\" />\n",
       "<img src=./img/d3918e44b93e5167cc67c6de8f849fbd18431c9ac93efd87b7cec3f75a72b63b.UNI11VER16090219000.pdf.png style=\"display: inline-block; width: 20%;\" />\n",
       "<img src=./img/6dc9b8e8198073f4b479d97596c3a2adf98f2da5eedfd61055c9535bd23a41a3.UNI11VER16090220000.pdf.png style=\"display: inline-block; width: 20%;\" />"
      ],
      "text/plain": [
       "<IPython.core.display.HTML object>"
      ]
     },
     "execution_count": 19,
     "metadata": {},
     "output_type": "execute_result"
    }
   ],
   "source": [
    "from IPython.display import HTML\n",
    "html = '\\n'.join('<img src={} style=\"display: inline-block; width: 20%;\" />'.format(fn) for fn in images)\n",
    "HTML(html)\n"
   ]
  },
  {
   "cell_type": "code",
   "execution_count": 57,
   "metadata": {
    "collapsed": false
   },
   "outputs": [
    {
     "name": "stdout",
     "output_type": "stream",
     "text": [
      "CompletedProcess(args=['/usr/bin/gs', '-dNOPAUSE', '-dBATCH', '-dCompressFonts=true', '-dSubsetFonts=true', '-dCompatibilityLevel=1.6', '-dDetectDuplicateImages=true', '-sDEVICE=pdfwrite', '-o', 'bundle2.pdf', 'bundle.pdf'], returncode=0)\n"
     ]
    }
   ],
   "source": [
    "from PyPDF2 import PdfFileMerger\n",
    "def merge_pages(pages, bundle_file='bundle.pdf'):\n",
    "    merger = PdfFileMerger()\n",
    "    merger.setPageLayout('/TwoPageRight')\n",
    "    for page in pages:\n",
    "        merger.append(page)\n",
    "    merger.write(bundle_file)\n",
    "    return bundle_file\n",
    "\n",
    "    \n",
    "def optimize_pdf(filename):\n",
    "    binary = '/usr/bin/gs'\n",
    "    outfile = 'bundle2.pdf'\n",
    "    args = [\n",
    "        binary,\n",
    "        '-dNOPAUSE',\n",
    "        '-dBATCH',\n",
    "        '-dCompressFonts=true',\n",
    "        '-dSubsetFonts=true',\n",
    "        '-dCompatibilityLevel=1.6',\n",
    "        '-dDetectDuplicateImages=true',\n",
    "        '-sDEVICE=pdfwrite',\n",
    "        '-o', outfile,\n",
    "        filename,\n",
    "    ]\n",
    "    result = subprocess.run(args)\n",
    "    print(result)\n",
    "\n",
    "filename = merge_pages(pages)\n",
    "optimize_pdf(filename)"
   ]
  },
  {
   "cell_type": "code",
   "execution_count": 23,
   "metadata": {
    "collapsed": true
   },
   "outputs": [],
   "source": [
    "import PyPDF2\n"
   ]
  },
  {
   "cell_type": "code",
   "execution_count": null,
   "metadata": {
    "collapsed": true
   },
   "outputs": [],
   "source": []
  }
 ],
 "metadata": {
  "kernelspec": {
   "display_name": "Django Shell-Plus",
   "language": "python",
   "name": "django_extensions"
  },
  "language_info": {
   "codemirror_mode": {
    "name": "ipython",
    "version": 3
   },
   "file_extension": ".py",
   "mimetype": "text/x-python",
   "name": "python",
   "nbconvert_exporter": "python",
   "pygments_lexer": "ipython3",
   "version": "3.5.2"
  }
 },
 "nbformat": 4,
 "nbformat_minor": 0
}
